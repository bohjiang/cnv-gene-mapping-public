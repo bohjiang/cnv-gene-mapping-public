{
 "cells": [
  {
   "cell_type": "markdown",
   "metadata": {
    "kernel": "SoS"
   },
   "source": [
    "# Obtain clean reference gene\n",
    "Use CNV individual level data (del and dup) and gene data to obtain individual (real, column) by gene (real, row) matrix (ideally two bed files, bedtools) - reference X matrix"
   ]
  },
  {
   "cell_type": "code",
   "execution_count": 1,
   "metadata": {
    "kernel": "SoS"
   },
   "outputs": [],
   "source": [
    "import pandas as pd, numpy as np\n",
    "import os\n",
    "from pandasql import sqldf\n",
    "from collections import Counter\n",
    "from more_itertools import unique_everseen\n",
    "cwd = os.path.expanduser(\"~/GIT/cnv-gene-mapping/data\")"
   ]
  },
  {
   "cell_type": "markdown",
   "metadata": {
    "kernel": "SoS"
   },
   "source": [
    "## Import genes"
   ]
  },
  {
   "cell_type": "code",
   "execution_count": 2,
   "metadata": {
    "kernel": "SoS"
   },
   "outputs": [],
   "source": [
    "ref_gene = pd.read_table(f\"{cwd}/refGene.txt.gz\", compression=\"gzip\", sep = \"\\t\", header = None, usecols = (1,2,4,5,12), names = [\"tx_name\", \"chrom\", \"start\", \"end\", \"gene_name\"])"
   ]
  },
  {
   "cell_type": "code",
   "execution_count": 3,
   "metadata": {
    "kernel": "SoS"
   },
   "outputs": [
    {
     "data": {
      "text/plain": [
       "(74873, 5)"
      ]
     },
     "execution_count": 3,
     "metadata": {},
     "output_type": "execute_result"
    }
   ],
   "source": [
    "ref_gene.shape"
   ]
  },
  {
   "cell_type": "code",
   "execution_count": 4,
   "metadata": {
    "kernel": "SoS"
   },
   "outputs": [],
   "source": [
    "ref_gene = ref_gene[ref_gene[\"chrom\"].isin([\"chr\"+str(x+1) for x in range(22)] + [\"chrX\"])]"
   ]
  },
  {
   "cell_type": "code",
   "execution_count": 5,
   "metadata": {
    "kernel": "SoS"
   },
   "outputs": [
    {
     "data": {
      "text/plain": [
       "(71184, 5)"
      ]
     },
     "execution_count": 5,
     "metadata": {},
     "output_type": "execute_result"
    }
   ],
   "source": [
    "ref_gene.shape"
   ]
  },
  {
   "cell_type": "code",
   "execution_count": 6,
   "metadata": {
    "kernel": "SoS"
   },
   "outputs": [],
   "source": [
    "ref_gene[\"CHR\"] = ref_gene[\"chrom\"].apply(lambda x: int(x.split(\"chr\")[1]) if x.split(\"chr\")[1] != \"X\" else 23)"
   ]
  },
  {
   "cell_type": "code",
   "execution_count": 7,
   "metadata": {
    "kernel": "SoS"
   },
   "outputs": [],
   "source": [
    "ref_gene = ref_gene.drop_duplicates(subset = (\"CHR\", \"start\", \"end\"))"
   ]
  },
  {
   "cell_type": "code",
   "execution_count": 8,
   "metadata": {
    "kernel": "SoS"
   },
   "outputs": [],
   "source": [
    "ref_gene = ref_gene.sort_values(by = [\"CHR\", \"start\", \"end\"])[[\"CHR\", \"start\", \"end\", \"gene_name\"]]"
   ]
  },
  {
   "cell_type": "code",
   "execution_count": 9,
   "metadata": {
    "kernel": "SoS"
   },
   "outputs": [
    {
     "data": {
      "text/plain": [
       "(45789, 4)"
      ]
     },
     "execution_count": 9,
     "metadata": {},
     "output_type": "execute_result"
    }
   ],
   "source": [
    "ref_gene.shape"
   ]
  },
  {
   "cell_type": "code",
   "execution_count": 10,
   "metadata": {
    "kernel": "SoS"
   },
   "outputs": [
    {
     "data": {
      "text/html": [
       "<div>\n",
       "<style scoped>\n",
       "    .dataframe tbody tr th:only-of-type {\n",
       "        vertical-align: middle;\n",
       "    }\n",
       "\n",
       "    .dataframe tbody tr th {\n",
       "        vertical-align: top;\n",
       "    }\n",
       "\n",
       "    .dataframe thead th {\n",
       "        text-align: right;\n",
       "    }\n",
       "</style>\n",
       "<table border=\"1\" class=\"dataframe\">\n",
       "  <thead>\n",
       "    <tr style=\"text-align: right;\">\n",
       "      <th></th>\n",
       "      <th>CHR</th>\n",
       "      <th>start</th>\n",
       "      <th>end</th>\n",
       "      <th>gene_name</th>\n",
       "    </tr>\n",
       "  </thead>\n",
       "  <tbody>\n",
       "    <tr>\n",
       "      <th>0</th>\n",
       "      <td>1</td>\n",
       "      <td>11868</td>\n",
       "      <td>14362</td>\n",
       "      <td>LOC102725121</td>\n",
       "    </tr>\n",
       "    <tr>\n",
       "      <th>1</th>\n",
       "      <td>1</td>\n",
       "      <td>11873</td>\n",
       "      <td>14409</td>\n",
       "      <td>DDX11L1</td>\n",
       "    </tr>\n",
       "    <tr>\n",
       "      <th>42692</th>\n",
       "      <td>1</td>\n",
       "      <td>14361</td>\n",
       "      <td>29370</td>\n",
       "      <td>WASH7P</td>\n",
       "    </tr>\n",
       "    <tr>\n",
       "      <th>3</th>\n",
       "      <td>1</td>\n",
       "      <td>17368</td>\n",
       "      <td>17436</td>\n",
       "      <td>MIR6859-1</td>\n",
       "    </tr>\n",
       "    <tr>\n",
       "      <th>7</th>\n",
       "      <td>1</td>\n",
       "      <td>30365</td>\n",
       "      <td>30503</td>\n",
       "      <td>MIR1302-2</td>\n",
       "    </tr>\n",
       "  </tbody>\n",
       "</table>\n",
       "</div>"
      ],
      "text/plain": [
       "       CHR  start    end     gene_name\n",
       "0        1  11868  14362  LOC102725121\n",
       "1        1  11873  14409       DDX11L1\n",
       "42692    1  14361  29370        WASH7P\n",
       "3        1  17368  17436     MIR6859-1\n",
       "7        1  30365  30503     MIR1302-2"
      ]
     },
     "execution_count": 10,
     "metadata": {},
     "output_type": "execute_result"
    }
   ],
   "source": [
    "ref_gene.head()"
   ]
  },
  {
   "cell_type": "code",
   "execution_count": 219,
   "metadata": {
    "kernel": "SoS"
   },
   "outputs": [],
   "source": [
    "## not correct\n",
    "# start = ref_gene[[\"CHR\", \"gene_name\", \"start\"]].groupby([\"CHR\", \"gene_name\"]).min().reset_index(drop = False)\n",
    "# end = ref_gene[[\"CHR\", \"gene_name\", \"end\"]].groupby([\"CHR\", \"gene_name\"]).max().reset_index(drop = False)"
   ]
  },
  {
   "cell_type": "code",
   "execution_count": 65,
   "metadata": {
    "kernel": "SoS"
   },
   "outputs": [],
   "source": [
    "# ref_gene[ref_gene[\"gene_name\"] == \"OR4F16\"]"
   ]
  },
  {
   "cell_type": "code",
   "execution_count": 11,
   "metadata": {
    "kernel": "SoS"
   },
   "outputs": [
    {
     "data": {
      "text/html": [
       "<div>\n",
       "<style scoped>\n",
       "    .dataframe tbody tr th:only-of-type {\n",
       "        vertical-align: middle;\n",
       "    }\n",
       "\n",
       "    .dataframe tbody tr th {\n",
       "        vertical-align: top;\n",
       "    }\n",
       "\n",
       "    .dataframe thead th {\n",
       "        text-align: right;\n",
       "    }\n",
       "</style>\n",
       "<table border=\"1\" class=\"dataframe\">\n",
       "  <thead>\n",
       "    <tr style=\"text-align: right;\">\n",
       "      <th></th>\n",
       "      <th>CHR</th>\n",
       "      <th>start</th>\n",
       "      <th>end</th>\n",
       "      <th>gene_name</th>\n",
       "    </tr>\n",
       "  </thead>\n",
       "  <tbody>\n",
       "    <tr>\n",
       "      <th>21769</th>\n",
       "      <td>1</td>\n",
       "      <td>1109285</td>\n",
       "      <td>1133313</td>\n",
       "      <td>TTLL10</td>\n",
       "    </tr>\n",
       "    <tr>\n",
       "      <th>55</th>\n",
       "      <td>1</td>\n",
       "      <td>1115076</td>\n",
       "      <td>1121243</td>\n",
       "      <td>TTLL10</td>\n",
       "    </tr>\n",
       "  </tbody>\n",
       "</table>\n",
       "</div>"
      ],
      "text/plain": [
       "       CHR    start      end gene_name\n",
       "21769    1  1109285  1133313    TTLL10\n",
       "55       1  1115076  1121243    TTLL10"
      ]
     },
     "execution_count": 11,
     "metadata": {},
     "output_type": "execute_result"
    }
   ],
   "source": [
    "ref_gene[ref_gene[\"gene_name\"] == \"TTLL10\"]"
   ]
  },
  {
   "cell_type": "code",
   "execution_count": 12,
   "metadata": {
    "kernel": "SoS"
   },
   "outputs": [
    {
     "data": {
      "text/html": [
       "<div>\n",
       "<style scoped>\n",
       "    .dataframe tbody tr th:only-of-type {\n",
       "        vertical-align: middle;\n",
       "    }\n",
       "\n",
       "    .dataframe tbody tr th {\n",
       "        vertical-align: top;\n",
       "    }\n",
       "\n",
       "    .dataframe thead th {\n",
       "        text-align: right;\n",
       "    }\n",
       "</style>\n",
       "<table border=\"1\" class=\"dataframe\">\n",
       "  <thead>\n",
       "    <tr style=\"text-align: right;\">\n",
       "      <th></th>\n",
       "      <th>CHR</th>\n",
       "      <th>start</th>\n",
       "      <th>end</th>\n",
       "      <th>gene_name</th>\n",
       "    </tr>\n",
       "  </thead>\n",
       "  <tbody>\n",
       "    <tr>\n",
       "      <th>25</th>\n",
       "      <td>1</td>\n",
       "      <td>762970</td>\n",
       "      <td>778984</td>\n",
       "      <td>LINC01128</td>\n",
       "    </tr>\n",
       "    <tr>\n",
       "      <th>26</th>\n",
       "      <td>1</td>\n",
       "      <td>762970</td>\n",
       "      <td>794826</td>\n",
       "      <td>LINC01128</td>\n",
       "    </tr>\n",
       "    <tr>\n",
       "      <th>30</th>\n",
       "      <td>1</td>\n",
       "      <td>763177</td>\n",
       "      <td>794826</td>\n",
       "      <td>LINC01128</td>\n",
       "    </tr>\n",
       "  </tbody>\n",
       "</table>\n",
       "</div>"
      ],
      "text/plain": [
       "    CHR   start     end  gene_name\n",
       "25    1  762970  778984  LINC01128\n",
       "26    1  762970  794826  LINC01128\n",
       "30    1  763177  794826  LINC01128"
      ]
     },
     "execution_count": 12,
     "metadata": {},
     "output_type": "execute_result"
    }
   ],
   "source": [
    "ref_gene[ref_gene[\"gene_name\"] == \"LINC01128\"]"
   ]
  },
  {
   "cell_type": "code",
   "execution_count": 32,
   "metadata": {
    "kernel": "SoS"
   },
   "outputs": [
    {
     "data": {
      "text/html": [
       "<div>\n",
       "<style scoped>\n",
       "    .dataframe tbody tr th:only-of-type {\n",
       "        vertical-align: middle;\n",
       "    }\n",
       "\n",
       "    .dataframe tbody tr th {\n",
       "        vertical-align: top;\n",
       "    }\n",
       "\n",
       "    .dataframe thead th {\n",
       "        text-align: right;\n",
       "    }\n",
       "</style>\n",
       "<table border=\"1\" class=\"dataframe\">\n",
       "  <thead>\n",
       "    <tr style=\"text-align: right;\">\n",
       "      <th></th>\n",
       "      <th>CHR</th>\n",
       "      <th>start</th>\n",
       "      <th>end</th>\n",
       "      <th>gene_name</th>\n",
       "    </tr>\n",
       "  </thead>\n",
       "  <tbody>\n",
       "    <tr>\n",
       "      <th>291</th>\n",
       "      <td>1</td>\n",
       "      <td>6845383</td>\n",
       "      <td>6932107</td>\n",
       "      <td>CAMTA1</td>\n",
       "    </tr>\n",
       "    <tr>\n",
       "      <th>294</th>\n",
       "      <td>1</td>\n",
       "      <td>6845383</td>\n",
       "      <td>6948261</td>\n",
       "      <td>CAMTA1</td>\n",
       "    </tr>\n",
       "    <tr>\n",
       "      <th>298</th>\n",
       "      <td>1</td>\n",
       "      <td>6845383</td>\n",
       "      <td>7829766</td>\n",
       "      <td>CAMTA1</td>\n",
       "    </tr>\n",
       "    <tr>\n",
       "      <th>7246</th>\n",
       "      <td>1</td>\n",
       "      <td>6845513</td>\n",
       "      <td>7829766</td>\n",
       "      <td>CAMTA1</td>\n",
       "    </tr>\n",
       "    <tr>\n",
       "      <th>305</th>\n",
       "      <td>1</td>\n",
       "      <td>7729789</td>\n",
       "      <td>7829766</td>\n",
       "      <td>CAMTA1</td>\n",
       "    </tr>\n",
       "    <tr>\n",
       "      <th>309</th>\n",
       "      <td>1</td>\n",
       "      <td>7729803</td>\n",
       "      <td>7829766</td>\n",
       "      <td>CAMTA1</td>\n",
       "    </tr>\n",
       "    <tr>\n",
       "      <th>310</th>\n",
       "      <td>1</td>\n",
       "      <td>7729824</td>\n",
       "      <td>7829766</td>\n",
       "      <td>CAMTA1</td>\n",
       "    </tr>\n",
       "    <tr>\n",
       "      <th>311</th>\n",
       "      <td>1</td>\n",
       "      <td>7740147</td>\n",
       "      <td>7829766</td>\n",
       "      <td>CAMTA1</td>\n",
       "    </tr>\n",
       "    <tr>\n",
       "      <th>312</th>\n",
       "      <td>1</td>\n",
       "      <td>7764864</td>\n",
       "      <td>7829766</td>\n",
       "      <td>CAMTA1</td>\n",
       "    </tr>\n",
       "    <tr>\n",
       "      <th>314</th>\n",
       "      <td>1</td>\n",
       "      <td>7764897</td>\n",
       "      <td>7829766</td>\n",
       "      <td>CAMTA1</td>\n",
       "    </tr>\n",
       "    <tr>\n",
       "      <th>315</th>\n",
       "      <td>1</td>\n",
       "      <td>7764904</td>\n",
       "      <td>7829766</td>\n",
       "      <td>CAMTA1</td>\n",
       "    </tr>\n",
       "    <tr>\n",
       "      <th>316</th>\n",
       "      <td>1</td>\n",
       "      <td>7764912</td>\n",
       "      <td>7829766</td>\n",
       "      <td>CAMTA1</td>\n",
       "    </tr>\n",
       "    <tr>\n",
       "      <th>317</th>\n",
       "      <td>1</td>\n",
       "      <td>7764917</td>\n",
       "      <td>7829766</td>\n",
       "      <td>CAMTA1</td>\n",
       "    </tr>\n",
       "    <tr>\n",
       "      <th>318</th>\n",
       "      <td>1</td>\n",
       "      <td>7764923</td>\n",
       "      <td>7829766</td>\n",
       "      <td>CAMTA1</td>\n",
       "    </tr>\n",
       "  </tbody>\n",
       "</table>\n",
       "</div>"
      ],
      "text/plain": [
       "      CHR    start      end gene_name\n",
       "291     1  6845383  6932107    CAMTA1\n",
       "294     1  6845383  6948261    CAMTA1\n",
       "298     1  6845383  7829766    CAMTA1\n",
       "7246    1  6845513  7829766    CAMTA1\n",
       "305     1  7729789  7829766    CAMTA1\n",
       "309     1  7729803  7829766    CAMTA1\n",
       "310     1  7729824  7829766    CAMTA1\n",
       "311     1  7740147  7829766    CAMTA1\n",
       "312     1  7764864  7829766    CAMTA1\n",
       "314     1  7764897  7829766    CAMTA1\n",
       "315     1  7764904  7829766    CAMTA1\n",
       "316     1  7764912  7829766    CAMTA1\n",
       "317     1  7764917  7829766    CAMTA1\n",
       "318     1  7764923  7829766    CAMTA1"
      ]
     },
     "execution_count": 32,
     "metadata": {},
     "output_type": "execute_result"
    }
   ],
   "source": [
    "ref_gene[ref_gene[\"gene_name\"] == \"CAMTA1\"]"
   ]
  },
  {
   "cell_type": "code",
   "execution_count": 49,
   "metadata": {
    "kernel": "SoS"
   },
   "outputs": [],
   "source": [
    "ref_gene[\"match\"] = (ref_gene.CHR != ref_gene.CHR.shift()) | ((ref_gene.start >= ref_gene.end.shift()) & (ref_gene.gene_name == ref_gene.gene_name.shift())) | \\\n",
    "                    ((ref_gene.start >= ref_gene.end.shift()) & (ref_gene.gene_name != ref_gene.gene_name.shift()))"
   ]
  },
  {
   "cell_type": "code",
   "execution_count": 50,
   "metadata": {
    "kernel": "SoS"
   },
   "outputs": [],
   "source": [
    "num = 1\n",
    "gene = list()\n",
    "for i in range(23):\n",
    "    tmp = ref_gene[ref_gene[\"CHR\"] == i+1]\n",
    "    for index, row in tmp.iterrows():\n",
    "        if row[\"match\"] == True:\n",
    "            gene.append(\"gene\" + str(num))\n",
    "            num += 1\n",
    "        else:\n",
    "            gene.append(\"gene\" + str(num-1))\n",
    "ref_gene[\"gene\"] = gene"
   ]
  },
  {
   "cell_type": "code",
   "execution_count": 81,
   "metadata": {
    "kernel": "SoS"
   },
   "outputs": [],
   "source": [
    "ref_gene_new = pd.DataFrame(columns = [\"CHR\", \"start\", \"end\", \"gene\"])\n",
    "gene_list = list(unique_everseen(gene))"
   ]
  },
  {
   "cell_type": "code",
   "execution_count": 82,
   "metadata": {
    "kernel": "SoS"
   },
   "outputs": [],
   "source": [
    "for gn in gene_list:\n",
    "    tmp = ref_gene[ref_gene[\"gene\"] == gn]\n",
    "    if tmp.shape[0] == 1:\n",
    "        ref_gene_new = ref_gene_new.append(tmp[[\"CHR\", \"start\", \"end\", \"gene\"]])\n",
    "    else:\n",
    "        ref_gene_new = ref_gene_new.append({\"CHR\": tmp[\"CHR\"].tolist()[0], \"start\": min(tmp[\"start\"]), \"end\": max(tmp[\"end\"]), \"gene\": gn}, ignore_index=True)"
   ]
  },
  {
   "cell_type": "code",
   "execution_count": 83,
   "metadata": {
    "kernel": "SoS"
   },
   "outputs": [
    {
     "data": {
      "text/html": [
       "<div>\n",
       "<style scoped>\n",
       "    .dataframe tbody tr th:only-of-type {\n",
       "        vertical-align: middle;\n",
       "    }\n",
       "\n",
       "    .dataframe tbody tr th {\n",
       "        vertical-align: top;\n",
       "    }\n",
       "\n",
       "    .dataframe thead th {\n",
       "        text-align: right;\n",
       "    }\n",
       "</style>\n",
       "<table border=\"1\" class=\"dataframe\">\n",
       "  <thead>\n",
       "    <tr style=\"text-align: right;\">\n",
       "      <th></th>\n",
       "      <th>CHR</th>\n",
       "      <th>start</th>\n",
       "      <th>end</th>\n",
       "      <th>gene</th>\n",
       "    </tr>\n",
       "  </thead>\n",
       "  <tbody>\n",
       "    <tr>\n",
       "      <th>0</th>\n",
       "      <td>1</td>\n",
       "      <td>11868</td>\n",
       "      <td>29370</td>\n",
       "      <td>gene1</td>\n",
       "    </tr>\n",
       "    <tr>\n",
       "      <th>1</th>\n",
       "      <td>1</td>\n",
       "      <td>30365</td>\n",
       "      <td>30503</td>\n",
       "      <td>gene2</td>\n",
       "    </tr>\n",
       "    <tr>\n",
       "      <th>2</th>\n",
       "      <td>1</td>\n",
       "      <td>34610</td>\n",
       "      <td>36081</td>\n",
       "      <td>gene3</td>\n",
       "    </tr>\n",
       "    <tr>\n",
       "      <th>3</th>\n",
       "      <td>1</td>\n",
       "      <td>69090</td>\n",
       "      <td>70008</td>\n",
       "      <td>gene4</td>\n",
       "    </tr>\n",
       "    <tr>\n",
       "      <th>4</th>\n",
       "      <td>1</td>\n",
       "      <td>134772</td>\n",
       "      <td>140566</td>\n",
       "      <td>gene5</td>\n",
       "    </tr>\n",
       "  </tbody>\n",
       "</table>\n",
       "</div>"
      ],
      "text/plain": [
       "  CHR   start     end   gene\n",
       "0   1   11868   29370  gene1\n",
       "1   1   30365   30503  gene2\n",
       "2   1   34610   36081  gene3\n",
       "3   1   69090   70008  gene4\n",
       "4   1  134772  140566  gene5"
      ]
     },
     "execution_count": 83,
     "metadata": {},
     "output_type": "execute_result"
    }
   ],
   "source": [
    "ref_gene_new.head()"
   ]
  },
  {
   "cell_type": "code",
   "execution_count": 84,
   "metadata": {
    "kernel": "SoS"
   },
   "outputs": [
    {
     "data": {
      "text/plain": [
       "(23343, 4)"
      ]
     },
     "execution_count": 84,
     "metadata": {},
     "output_type": "execute_result"
    }
   ],
   "source": [
    "ref_gene_new.shape"
   ]
  },
  {
   "cell_type": "code",
   "execution_count": 86,
   "metadata": {
    "kernel": "SoS"
   },
   "outputs": [],
   "source": [
    "ref_gene_new.to_csv(f\"{cwd}/refGene.clean.gz\", compression = \"gzip\", sep = \"\\t\", index = False, header = True)"
   ]
  },
  {
   "cell_type": "code",
   "execution_count": null,
   "metadata": {
    "kernel": "SoS"
   },
   "outputs": [],
   "source": []
  }
 ],
 "metadata": {
  "kernelspec": {
   "display_name": "SoS",
   "language": "sos",
   "name": "sos"
  },
  "language_info": {
   "codemirror_mode": "sos",
   "file_extension": ".sos",
   "mimetype": "text/x-sos",
   "name": "sos",
   "nbconvert_exporter": "sos_notebook.converter.SoS_Exporter",
   "pygments_lexer": "sos"
  },
  "sos": {
   "kernels": [
    [
     "SoS",
     "sos",
     "",
     ""
    ]
   ],
   "version": "0.19.4"
  }
 },
 "nbformat": 4,
 "nbformat_minor": 2
}
