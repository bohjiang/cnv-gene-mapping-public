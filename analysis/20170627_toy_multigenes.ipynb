{
 "cells": [
  {
   "cell_type": "markdown",
   "metadata": {},
   "source": [
    "# Toy example multiple genes"
   ]
  },
  {
   "cell_type": "code",
   "execution_count": 1,
   "metadata": {
    "collapsed": true
   },
   "outputs": [],
   "source": [
    "import numpy as np\n",
    "import pandas as pd\n",
    "import feather\n",
    "from pandasql import sqldf\n",
    "from fisher import pvalue\n",
    "from scipy import stats\n",
    "from pprint import pprint"
   ]
  },
  {
   "cell_type": "code",
   "execution_count": 2,
   "metadata": {
    "collapsed": true
   },
   "outputs": [],
   "source": [
    "def simu_toy(n_pos, n_max, causal, n=50, const=1, seed=999):\n",
    "    '''\n",
    "    Run simu_toy first to get feather file. Use it in R_varbvs_toy to get PIP, \n",
    "    and in dap_on_toy to get dap PIP, saved in dap file. View dap in terminal.\n",
    "    '''\n",
    "    ptn_ls = []\n",
    "    if n_pos <= n_max:\n",
    "        ptn_keys = [\"p{}\".format(i+1) for i in range(n_pos*2)]\n",
    "        for i in range(n_pos):\n",
    "            ptn = [1]*(i+1) + [0]*(n_pos-i-1)\n",
    "            ptn_ls.append(ptn)\n",
    "        for i in range(n_pos, n_pos*2):\n",
    "            ptn = [0]*(i-n_pos+1) + [1]*(2*n_pos-i-1)\n",
    "            ptn_ls.append(ptn)\n",
    "    else:\n",
    "        ptn_keys = [\"p{}\".format(i+1) for i in range(n_pos+n_max)]\n",
    "        for i in range(n_max):\n",
    "            ptn = [1]*(i+1) + [0]*(n_pos-i-1)\n",
    "            ptn_ls.append(ptn)\n",
    "        for i in range(n_max, n_pos):\n",
    "            ptn = [0]*(i-n_max+1) + [1]*n_max + [0]*(n_pos-i-1)\n",
    "            ptn_ls.append(ptn)\n",
    "        for i in range(n_pos, n_pos+n_max):\n",
    "            ptn = [0]*(i-n_max+1) + [1]*(n_pos+n_max-i-1)\n",
    "            ptn_ls.append(ptn)\n",
    "\n",
    "    ptn_dict = dict(zip(ptn_keys, ptn_ls))\n",
    "    n_ls = [n]*len(ptn_keys)\n",
    "    n_dict = dict(zip(ptn_keys, n_ls))\n",
    "    sample = sum([[ptn_dict[i]] * n_dict[i] for i in n_dict.keys()], [])\n",
    "    \n",
    "    np.random.seed(seed)\n",
    "    mat = [[np.random.normal(0,1)] + line for line in sample]\n",
    "    config = []\n",
    "    for line in mat:\n",
    "        if line[causal] == 1:\n",
    "            line[0] = line[0] + const\n",
    "            config.append(line[0])\n",
    "        else:\n",
    "            config.append(line[0])\n",
    "        if line[0] > np.median(config):\n",
    "            line[0] = 1\n",
    "        else:\n",
    "            line[0] = 0\n",
    "    mat = np.matrix(mat)\n",
    "    df = pd.DataFrame(mat, columns = [\"phenotype\"] + [\"pos{}\".format(i+1) for i in range(mat.shape[1]-1)])\n",
    "    counts = df.groupby([\"pos{}\".format(i+1) for i in range(mat.shape[1]-1)] + [\"phenotype\"]).size()\n",
    "    for col in df.columns:\n",
    "        df[col] = df[col].astype(np.uint8)\n",
    "    output = feather.write_dataframe(df, \"data/toy_pos{}_causal{}_n{}_const{}.feather\"\n",
    "                                     .format(n_pos, causal, sum(n_ls), const))\n",
    "    return df, counts"
   ]
  },
  {
   "cell_type": "code",
   "execution_count": 3,
   "metadata": {
    "collapsed": true,
    "scrolled": true
   },
   "outputs": [],
   "source": [
    "df, counts = simu_toy(n_pos=10, n_max=10, causal=8, const=1, seed=999)\n",
    "# pprint (counts)"
   ]
  },
  {
   "cell_type": "code",
   "execution_count": 4,
   "metadata": {
    "collapsed": true
   },
   "outputs": [],
   "source": [
    "def get_OR(gene_df, fisher=0):\n",
    "    cases = gene_df[gene_df[\"phenotype\"]==1]\n",
    "    ctrls = gene_df[gene_df[\"phenotype\"]==0]\n",
    "    res_dict = {}\n",
    "    for gene in list(gene_df)[1:]:\n",
    "        n_gene_case = len(cases[cases[gene]==1])\n",
    "        n_nogene_case = len(cases[cases[gene]==0])\n",
    "        n_gene_ctrl = len(ctrls[ctrls[gene]==1])\n",
    "        n_nogene_ctrl = len(ctrls[ctrls[gene]==0])\n",
    "#         print (n_gene_case, n_nogene_case, n_gene_ctrl, n_nogene_ctrl)\n",
    "        odds_ratio = stats.fisher_exact([[n_gene_case, n_gene_ctrl], [n_nogene_case, n_nogene_ctrl]])[0]\n",
    "        res_dict[gene] = odds_ratio\n",
    "        if not fisher==0:\n",
    "            logp = -np.log10(pvalue(n_gene_case, n_gene_ctrl, n_nogene_case, n_nogene_ctrl).two_tail)\n",
    "            res_dict[gene] = logp\n",
    "    return res_dict"
   ]
  },
  {
   "cell_type": "code",
   "execution_count": 5,
   "metadata": {},
   "outputs": [
    {
     "data": {
      "text/plain": [
       "{'pos1': 0.6018202502844141,\n",
       " 'pos10': 2.2730664515478471,\n",
       " 'pos2': 0.83150183150183155,\n",
       " 'pos3': 0.84496810772501774,\n",
       " 'pos4': 1.1460732084550611,\n",
       " 'pos5': 1.5072809739794701,\n",
       " 'pos6': 2.023288637967537,\n",
       " 'pos7': 2.2730664515478471,\n",
       " 'pos8': 3.6161220631920066,\n",
       " 'pos9': 2.8326118326118328}"
      ]
     },
     "execution_count": 5,
     "metadata": {},
     "output_type": "execute_result"
    }
   ],
   "source": [
    "get_OR(df)"
   ]
  }
 ],
 "metadata": {
  "kernelspec": {
   "display_name": "SoS",
   "language": "sos",
   "name": "sos"
  },
  "language_info": {
   "codemirror_mode": "sos",
   "file_extension": ".sos",
   "mimetype": "text/x-sos",
   "name": "sos",
   "nbconvert_exporter": "sos.jupyter.converter.SoS_Exporter",
   "pygments_lexer": "sos"
  },
  "sos": {
   "kernels": [
    [
     "SoS",
     "sos",
     "",
     ""
    ],
    [
     "Python3",
     "python3",
     "Python3",
     "#EAFAF1"
    ]
   ],
   "panel": {
    "displayed": true,
    "height": 0,
    "style": "side"
   }
  }
 },
 "nbformat": 4,
 "nbformat_minor": 2
}
