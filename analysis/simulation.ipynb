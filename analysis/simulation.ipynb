{
 "cells": [
  {
   "cell_type": "markdown",
   "metadata": {
    "collapsed": true
   },
   "source": [
    "# Simulation of Exome-wide CNV data for case control samples\n",
    "\n",
    "## Simulation outline\n",
    "For given type of CNV (e.g. duplication) we first simulate all the variants across exome, \n",
    "then assign these simulated CNVs to genes. For case samples we expect an enrichment in causal\n",
    "genes and the enrichment should be quantified by relative risk of a CNV's contribution to disease\n",
    "when presented in causal gene vs. non causal gene.\n",
    "\n",
    "## Parameters\n",
    "We define causal CNV as CNV in causal gene, and denote it as CCNV. Likewise we have NCNV for non-causal CNV.\n",
    "\n",
    "| Parameter | Description | Value|\n",
    "|:-----:|:-----:|:-----:|\n",
    "|$\\lambda$|Average number of CNV per exome| 100 for dup, 20 for del (*FIXME: reference required*)|\n",
    "|$p_L$|Parameter for Geometric distribution that models length of CNV|To be fitted from data|\n",
    "|$\\gamma$| Odds ratio of CCNV|To draw from distribution Gamma(5, 1)|\n",
    "|$p_0$| Pr(case &#124; NCNV)| To be calculated below|\n",
    "|$p_1$| Pr(case &#124; CCNV)| To be calculated from $p_0$ and $\\gamma$|\n",
    "|$N_0, N_1$| Case / Ctrl sample size|Various numbers|\n",
    "|$q$| Proportion of causal gene|(*FIXME: reference required*)|\n",
    "|$k$|The prevalence of diease|(*FIXME: reference required*)|\n",
    "## Simulation steps\n",
    "The steps below simulates exome data for single individual case or control for one type of CNV. \n",
    "The steps are to be repeated multiple times to simulate all samples and all types of CNV.\n",
    "\n",
    "### Step 1: simulate number of CNV per exome\n",
    "Simply drawn from Pois($\\lambda$)\n",
    "\n",
    "### Step 2: get the length of each of these CNV simulated\n",
    "\n",
    "First, an empirical distribution of CNV is to be obtained from real data.\n",
    "\n",
    "Then the parameter for the geometric distribution is to be fitted from the empirical distribution.\n",
    "\n",
    "Finally for each CNV, draw the length of it from the geometric distribution thus obtained.\n",
    "\n",
    "### Step 3: get gene label for each CNV\n",
    "\n",
    "First, put all genes into 2 groups: causal gene and non-causal gene. This can be random for starters, or be based on annotation from real data for refined simulations.\n",
    "\n",
    "Then for each CNV, calculate its probability that it belongs to causal / non-causal gene group given its sample disease status, ie.:\n",
    "\n",
    "$$Pr(CCNV|\\text{case}) = \\frac{p_1 \\times q}{k}$$\n",
    "$$Pr(NCNV|\\text{case}) = 1 - Pr(CCNV|\\text{case})$$\n",
    "\n",
    "Given $k$ and $q$ it remains that $p_1$ is to be cauculated. By definition of $k$ and law of total probability:\n",
    "$$k=p_0 \\times (1 - q) + p_1 \\times q$$\n",
    "and by difiniation of odds ratio:\n",
    "$$\\gamma = \\frac{\\frac{p_1}{1-p_1}}{\\frac{p_0}{1-p_0}}$$\n",
    "\n",
    "Drawing $\\gamma$ from a Gamma distribution and looking up $p_0$ from literature (or make it up) we can calculate $p_1 = f(\\gamma, p_0)$. Then from the 2 equations above it is possible to solve for $p_0$ and calculate $p_1$. So we will obtain Pr(CCNV|case) and Pr(NCNV|case). For controls, Pr(CCNV|ctrl) = Pr(CCNV) = $q$ and Pr(NCNV|ctrl) = Pr(NCNV) = $1-q$.\n",
    "\n",
    "Finally we can use a Bernouli random number generator to determine if a CNV will fall into the causal gene group for given sample with known status. Once the group is determined, we will randomly assign the CNV to a gene in the group.\n",
    "\n",
    "### Step 4: get position of a CNV\n",
    "For Step 2 we know the lenght of the CNV and Step 3 the gene the CNV belongs to. Now we should place the CNV in the genome such that it has reasonable overlap with this gene. The start position of the CNV should therefore lie in between $(T_s - L, T_e)$ where $T_s$ and $T_e$ are start and end positions of the gene and $L$ is the length of the CNV."
   ]
  },
  {
   "cell_type": "code",
   "execution_count": 21,
   "metadata": {
    "collapsed": true
   },
   "outputs": [],
   "source": [
    "import random\n",
    "import pandas as pd\n",
    "from pandasql import sqldf"
   ]
  },
  {
   "cell_type": "code",
   "execution_count": 41,
   "metadata": {
    "collapsed": false,
    "scrolled": true
   },
   "outputs": [
    {
     "name": "stdout",
     "output_type": "stream",
     "text": [
      "      chrom     gene_name  min(tx_start)  max(tx_end)\n",
      "0      chr1       A3GALT2       33772366     33786699\n",
      "1      chr1       AADACL3       12776117     12788726\n",
      "2      chr1       AADACL4       12704565     12727097\n",
      "3      chr1         ABCA4       94458393     94586705\n",
      "4      chr1        ABCB10      229652328    229694442\n",
      "5      chr1         ABCD3       94883932     94984219\n",
      "6      chr1          ABL2      179068461    179198819\n",
      "7      chr1         ACADM       76190031     76229363\n",
      "8      chr1         ACAP3        1227763      1243269\n",
      "9      chr1         ACBD3      226332379    226374423\n",
      "10     chr1         ACBD6      180257351    180472022\n",
      "11     chr1         ACKR1      159173802    159176290\n",
      "12     chr1        ACOT11       55013806     55100417\n",
      "13     chr1         ACOT7        6324331      6453826\n",
      "14     chr1          ACP6      147119167    147142665\n",
      "15     chr1         ACTA1      229566992    229569843\n",
      "16     chr1      ACTG1P20       27650364     27653016\n",
      "17     chr1       ACTG1P4      104112025    104114008\n",
      "18     chr1         ACTL8       18081807     18153558\n",
      "19     chr1         ACTN2      236849753    236927927\n",
      "20     chr1        ACTRT2        2938045      2939467\n",
      "21     chr1        ADAM15      155023747    155035252\n",
      "22     chr1        ADAM30      120436155    120439147\n",
      "23     chr1       ADAMTS4      161159518    161168843\n",
      "24     chr1      ADAMTSL4      150521844    150533412\n",
      "25     chr1  ADAMTSL4-AS1      150533370    150547028\n",
      "26     chr1          ADAR      154554533    154600456\n",
      "27     chr1        ADCY10      167778624    167883464\n",
      "28     chr1        ADGRB2       32192705     32229664\n",
      "29     chr1        ADGRL2       82165454     82458422\n",
      "...     ...           ...            ...          ...\n",
      "28363  chrY        TTTY16        7567397      7569288\n",
      "28364  chrY       TTTY17A       26631478     27330920\n",
      "28365  chrY       TTTY17B       24997730     24998862\n",
      "28366  chrY        TTTY18        8551410      8551919\n",
      "28367  chrY        TTTY19        8572512      8573324\n",
      "28368  chrY         TTTY2        6274284      9596085\n",
      "28369  chrY        TTTY20        9167488      9172441\n",
      "28370  chrY        TTTY21        6311474      9558905\n",
      "28371  chrY        TTTY22        9638761      9650854\n",
      "28372  chrY        TTTY23        6110486      9749571\n",
      "28373  chrY        TTTY3B       26082873     27879535\n",
      "28374  chrY        TTTY4C       25082601     27246039\n",
      "28375  chrY         TTTY5       24442944     24445023\n",
      "28376  chrY         TTTY6       24291111     24587606\n",
      "28377  chrY        TTTY6B       24291133     24587584\n",
      "28378  chrY         TTTY7        6317508      9552871\n",
      "28379  chrY         TTTY8        6339071      9531308\n",
      "28380  chrY        TTTY9B       20743091     20901083\n",
      "28381  chrY        TXLNGY       21729243     21769056\n",
      "28382  chrY         USP9Y       14813159     14972768\n",
      "28383  chrY           UTY       15360258     15592550\n",
      "28384  chrY         VAMP7       59213948     59276439\n",
      "28385  chrY           VCY       16097651     16168838\n",
      "28386  chrY         VCY1B       16097651     16168838\n",
      "28387  chrY        WASIR1       59347234     59349501\n",
      "28388  chrY          XGY2        2620336      2643037\n",
      "28389  chrY          XKRY       19880859     20298915\n",
      "28390  chrY         ZBED1        2354454      2369008\n",
      "28391  chrY           ZFY        2803111      2850547\n",
      "28392  chrY       ZFY-AS1        2834859      2870667\n",
      "\n",
      "[28393 rows x 4 columns]\n"
     ]
    }
   ],
   "source": [
    "ref_gene = pd.read_table(\"data/refGene.txt.gz\", compression=\"gzip\", sep=\"\\t\", \n",
    "                         header = None, usecols=(1,2,4,5,12), \n",
    "                         names = [\"tx_name\", \"chrom\", \"tx_start\", \"tx_end\", \"gene_name\"])\n",
    "#gene_df = ref_gene.drop_duplicates(subset=(\"chrom\", \"tx_start\", \"tx_end\", \"gene_name\"))\n",
    "gene_df = ref_gene.drop_duplicates(subset=(\"chrom\", \"tx_start\", \"tx_end\"))\n",
    "query = '''\n",
    "select chrom, gene_name, min(tx_start), max(tx_end)\n",
    "from gene_df\n",
    "group by chrom, gene_name\n",
    "'''\n",
    "gene_table = sqldf(query)\n",
    "print (gene_table)"
   ]
  },
  {
   "cell_type": "code",
   "execution_count": null,
   "metadata": {
    "collapsed": true
   },
   "outputs": [],
   "source": []
  }
 ],
 "metadata": {
  "kernelspec": {
   "display_name": "Python 3",
   "language": "python",
   "name": "python3"
  },
  "language_info": {
   "codemirror_mode": {
    "name": "ipython",
    "version": 3
   },
   "file_extension": ".py",
   "mimetype": "text/x-python",
   "name": "python",
   "nbconvert_exporter": "python",
   "pygments_lexer": "ipython3",
   "version": "3.5.2"
  }
 },
 "nbformat": 4,
 "nbformat_minor": 0
}
