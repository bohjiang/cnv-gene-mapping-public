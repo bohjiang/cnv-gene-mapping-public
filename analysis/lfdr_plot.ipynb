{
 "cells": [
  {
   "cell_type": "code",
   "execution_count": 1,
   "metadata": {},
   "outputs": [],
   "source": [
    "from simulation import *\n",
    "from power_typeIerror import *\n",
    "from collections import OrderedDict\n",
    "import numpy as np\n",
    "import rpy2.robjects as robjects\n",
    "from rpy2.robjects import pandas2ri\n",
    "pandas2ri.activate()\n",
    "readRDS = robjects.r['readRDS']\n",
    "import matplotlib.pyplot as plt"
   ]
  },
  {
   "cell_type": "code",
   "execution_count": 2,
   "metadata": {},
   "outputs": [],
   "source": [
    "def get_causal_pvalue_from_pkl(input_data):\n",
    "    '''get p values of fisher's exact test of causal genes from pkl input'''\n",
    "    dat = load_data(input_data)\n",
    "    causal_genes = set(dat[\"debug\"][\"causal genes\"])\n",
    "    sample_genes = get_gene_table(dat)\n",
    "    fisher_table = test_contingency_table(sample_genes)\n",
    "    overlap_genes = list(causal_genes.intersection(fisher_table[\"genes\"]))\n",
    "    indices = [fisher_table[\"genes\"].index(x) for x in overlap_genes]\n",
    "    log_overlap_pvalue = [-np.log10(fisher_table[\"p_value\"][num]) for num in indices]\n",
    "    pvalue_df = OrderedDict(sorted(zip(*[overlap_genes, log_overlap_pvalue]), key = lambda x: x[1], reverse=True))\n",
    "    return overlap_genes, pvalue_df"
   ]
  },
  {
   "cell_type": "code",
   "execution_count": 3,
   "metadata": {
    "scrolled": true
   },
   "outputs": [],
   "source": [
    "overlap_genes_from_pkl, pvalue_df_pkl = get_causal_pvalue_from_pkl(\n",
    "    \"data/del_sim_shape5_scale1_p0.005_N4000_M200_12.data.pkl\")"
   ]
  },
  {
   "cell_type": "code",
   "execution_count": 14,
   "metadata": {
    "scrolled": true
   },
   "outputs": [],
   "source": [
    "# print (pvalue_df_pkl)"
   ]
  },
  {
   "cell_type": "code",
   "execution_count": 30,
   "metadata": {},
   "outputs": [],
   "source": [
    "def get_lfdr(rds_data, overlap_genes_from_pkl, inf_sub = 0):\n",
    "    df = readRDS(rds_data)\n",
    "    df = pandas2ri.ri2py(df)\n",
    "    # print (df.names)\n",
    "    # \"20\" is \"pip\", \"18\" is \"summary\"\n",
    "    pip_rds = df[20]\n",
    "    pip_genes = list(pip_rds.names[0])\n",
    "    pip_list = np.array(np.matrix(pip_rds)).reshape(-1,).tolist()\n",
    "    lfdr = [1-x for x in pip_list]\n",
    "    gene_index = [pip_genes.index(gene) for gene in overlap_genes_from_pkl]\n",
    "    log_lfdr_overlap = [-np.log10(lfdr[index]) for index in gene_index]\n",
    "    # replace infinity with maximum of log10(pvalue) plus the median of it\n",
    "    log_lfdr_overlap = [x if not np.isinf(x) else inf_sub for x in log_lfdr_overlap]\n",
    "    lfdr_df = OrderedDict(sorted(zip(*[overlap_genes_from_pkl, log_lfdr_overlap]), \n",
    "                                 key = lambda x: x[1], reverse=True))\n",
    "    return lfdr_df"
   ]
  },
  {
   "cell_type": "code",
   "execution_count": 38,
   "metadata": {},
   "outputs": [],
   "source": [
    "lfdr_df_rds = get_lfdr(\"data/del_sim_shape5_scale1_p0.005_N4000_M200_12.data.feather.RDS\", overlap_genes_from_pkl)"
   ]
  },
  {
   "cell_type": "code",
   "execution_count": 39,
   "metadata": {
    "scrolled": true
   },
   "outputs": [
    {
     "name": "stdout",
     "output_type": "stream",
     "text": [
      "3\n"
     ]
    }
   ],
   "source": [
    "print (len([x for x in lfdr_df_rds.values() if x>0.3]))"
   ]
  },
  {
   "cell_type": "code",
   "execution_count": 33,
   "metadata": {},
   "outputs": [
    {
     "name": "stdout",
     "output_type": "stream",
     "text": [
      "odict_values([0.31734223404192258, 0.3060063163444412, 0.30023947646501031, 0.13382771172494831, 0.071298832768123516, 0.029133591665130142, 0.020603568782929089, 0.018498541148676065, 0.015315561639779179, 0.01413972171837116, 0.01409253938696697, 0.013311358877298078, 0.013010592172627162, 0.010871024730746703, 0.010033329005366428, 0.0096803374639285646, 0.0091761293677533051, 0.0091684834126166109, 0.0089377240230562819, 0.0076889946740771528, 0.0072416080907565282, 0.0071972962490682987, 0.0070547860113805254, 0.0063655671335553412, 0.006198223113734214, 0.0058869566116167534, 0.0058261573105750277, 0.0057986931104516502, 0.0055708303481066864, 0.005444440551454972, 0.0052047625198270121, 0.0048981982573831117, 0.0048074037503126289, 0.0047934692383957804, 0.0047407855852935376, 0.0047254428172659882, 0.0046857003022058447, 0.0046533235286056419, 0.0045722525098816601, 0.0044830696078400163, 0.0043558927612178311, 0.004267867028749108, 0.0041886621270019776, 0.0040420155774971763, 0.0039763209492058305, 0.0036010851342795198, 0.0035867209154398561, 0.0035373589708674194, 0.0035364416218275426, 0.0034116180053607001, 0.0034078700004566242, 0.0033876798748529611, 0.0033217599183789203, 0.0033128102339602078, 0.0031212656996659014, 0.0031137127351480421, 0.0030823431195550768, 0.0029953356601146266, 0.0028068373504632383, 0.0028021310675965336, 0.0027662249644196785, 0.0027610325955581827, 0.0027516573765634625, 0.0027435326896572349, 0.0027370718512441461, 0.0026813138311827904, 0.0026496433626603047, 0.0026413535976663695, 0.0025463071560841485, 0.0024110789127059829, 0.002378649945825876, 0.0022615987711404116, 0.0022147139717782907, 0.0022102567127211645, 0.002203426807962562, 0.0020904317393539238, 0.0019871046260069077, 0.001936423584171051, 0.0019230039413011023, 0.0019178986818435093, 0.0019136517937904129, 0.001900620331256023, 0.0018513545529764547, 0.0018078658567168902, 0.001755458486698186, 0.0017468150214945883, 0.0017437177268988429, 0.0017395063252153597, 0.001734929445632954, 0.0017252340458829255, 0.001587537076971027, 0.0015529565112315374, 0.001410883437696234])\n"
     ]
    }
   ],
   "source": [
    "print ((lfdr_df_rds.values()))"
   ]
  },
  {
   "cell_type": "code",
   "execution_count": 12,
   "metadata": {
    "scrolled": true
   },
   "outputs": [],
   "source": [
    "comb = {\"p1\": [], \"p2\": [], \"gene\": []}\n",
    "for gene, pvalue in lfdr_df_rds.items():\n",
    "    comb[\"p1\"].append(pvalue_df_pkl[gene])\n",
    "    comb[\"p2\"].append(pvalue)\n",
    "    comb[\"gene\"].append(gene)\n",
    "# print (comb)"
   ]
  },
  {
   "cell_type": "code",
   "execution_count": 9,
   "metadata": {},
   "outputs": [],
   "source": [
    "fig = plt.scatter(comb[\"p1\"], comb[\"p2\"])\n",
    "for label, p1, p2 in zip(comb[\"gene\"], comb[\"p1\"], comb[\"p2\"]):\n",
    "    if (p1>1 and p2>1) or (p1>2) or (p2>2):\n",
    "        plt.annotate(label, xy = (p1, p2))\n",
    "plt.xlabel(\"-log(p) fisher test\")\n",
    "plt.ylabel(\"-log(lfdr)\")\n",
    "plt.title(\"-log(p_value) vs -log(lfdr)\")\n",
    "# plt.show()\n",
    "plt.savefig(\"fig_4000_200_5_0.005.png\")\n",
    "plt.close()"
   ]
  },
  {
   "cell_type": "code",
   "execution_count": 10,
   "metadata": {
    "scrolled": true
   },
   "outputs": [],
   "source": [
    "# from itertools import chain\n",
    "# from collections import defaultdict\n",
    "# overall_df = defaultdict(list)\n",
    "# for k,v in chain(pvalue_df_pkl.items(), lfdr_df_rds.items()):\n",
    "#     # The first element in value is -log10(pvalue) from fisher test, the second is -log10(lfdr)\n",
    "#     overall_df[k].append(v)\n",
    "# print (overall_df)"
   ]
  },
  {
   "cell_type": "code",
   "execution_count": 11,
   "metadata": {},
   "outputs": [],
   "source": [
    "# from numpy import inf\n",
    "# test1=np.array([1,3,9,5,6,7,inf])\n",
    "# print (max(test1))\n",
    "# test1[np.isinf(test1)]=10"
   ]
  },
  {
   "cell_type": "code",
   "execution_count": null,
   "metadata": {
    "collapsed": true
   },
   "outputs": [],
   "source": []
  }
 ],
 "metadata": {
  "kernelspec": {
   "display_name": "Python 3",
   "language": "python",
   "name": "python3"
  },
  "language_info": {
   "codemirror_mode": {
    "name": "ipython",
    "version": 3
   },
   "file_extension": ".py",
   "mimetype": "text/x-python",
   "name": "python",
   "nbconvert_exporter": "python",
   "pygments_lexer": "ipython3",
   "version": "3.5.2"
  }
 },
 "nbformat": 4,
 "nbformat_minor": 2
}
