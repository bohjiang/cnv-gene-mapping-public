{
 "cells": [
  {
   "cell_type": "markdown",
   "metadata": {},
   "source": [
    "# Simulation of Exome-wide CNV data for case control samples\n",
    "\n",
    "## Simulation outline\n",
    "For given type of CNV (e.g. duplication) we first simulate all the variants across exome, \n",
    "then assign these simulated CNVs to genes. For case samples we expect an enrichment in causal\n",
    "genes and the enrichment should be quantified by relative risk of a CNV's contribution to disease\n",
    "when presented in causal gene vs. non causal gene.\n",
    "\n",
    "## Parameters\n",
    "We define causal CNV as CNV in causal gene, and denote it as CCNV. Likewise we have NCNV for non-causal CNV.\n",
    "\n",
    "| Parameter | Description | Value|\n",
    "|:-----:|:-----:|:-----:|\n",
    "|$\\lambda$|Average number of CNV per exome| 100 for dup, 20 for del (*FIXME: reference required*)|\n",
    "|$p_L$|Parameter for Geometric distribution that models length of CNV|To be fitted from data|\n",
    "|$\\gamma$| Odds ratio of CCNV|To draw from distribution Gamma(5, 1)|\n",
    "|$p_0$| Pr(case &#124; NCNV)| It can be approximated by $k$ = Pr(case) |\n",
    "|$p_1$| Pr(case &#124; CCNV)| To be calculated from $p_0$ and $\\gamma$|\n",
    "|$N_0, N_1$| Case / Ctrl sample size|Various numbers|\n",
    "|$k$| The prevalence of disease|(*FIXME: reference required*)|"
   ]
  },
  {
   "cell_type": "markdown",
   "metadata": {},
   "source": [
    "## Simulation steps\n",
    "The steps below simulates exome data for single individual case or control for one type of CNV. \n",
    "\n",
    "### Step 1: Simulate number of CNV per exome\n",
    "Simply drawn from $M = Pois(\\lambda)$\n",
    "\n",
    "### Step 2: Simulate CNV for an exome\n",
    "#### Positions of CNVs\n",
    "Distribution of CNV in exome is non-uniform. We need to obtain empirical distribution for CNV hotspots and simulate CNV positions to reflect the hotspot pattern. \n",
    "\n",
    "First, separate genome to 100K blocks and find from real data how many CNVs falls in each block (start position is in a block). We can visualize this via histogram. This gives the pattern of CNV hotspots in exome.\n",
    "\n",
    "Then sample with replacement $M$ such blocks from all blocks based on frequency of their apparences (weighted uniform sample).\n",
    "\n",
    "Finally for each block sampled we put a CNV start position in it, uniformly. Now we need the length of CNV to determine the end positions.\n",
    "\n",
    "#### Length of CNVs\n",
    "\n",
    "We can mimic the distribution of the length of CNV. There are 3 ways to do it:\n",
    "\n",
    "1. Fit a **mixture** of geometric/gamma/gaussian using real data: mixing long tail, short tail and normal tail distributions.\n",
    "2. Fit a geometric distribution\n",
    "3. Instead of fitting anything we simply draw $M$ CNV from real data.\n",
    "\n",
    "Here we adopt option 3. We have tried option 1 and 2 but the result is not good.\n",
    "\n",
    "### Step 3: Tag each simulated CNV by causal genes\n",
    "Causal/noncausal gene positions are supposed to be determined by literature. But we can simulate randomly for starters. Today (2017/02) as a first simple pass we call every CNV within the following 100 genes as causal CNV and non-causal elsewhere:"
   ]
  },
  {
   "cell_type": "code",
   "execution_count": 1,
   "metadata": {
    "collapsed": true,
    "kernel": "SoS"
   },
   "outputs": [],
   "source": [
    "causal_genes_del = ['RAB2B', 'CHD8', 'TOX4', 'SNORD8', 'METTL3', 'SALL2', 'SNORD9', 'SUPT16H', 'RPGRIP1', 'MIR3180-3', 'MIR3670-1', 'NOMO2', 'MIR6511A4', 'NPIPA8', 'FSIP2', 'FSIP2-AS1', 'LOC101927196', 'ATP6V1E1', 'BCL2L13', 'BID', 'CECR1', 'CECR2', 'CECR3', 'CECR5', 'CECR5-AS1', 'CECR6', 'CECR7', 'FLJ41941', 'GAB4', 'IL17RA', 'LINC00528', 'LOC100996342', 'LOC100996415', 'LOC101929372', 'LOC105379550', 'MICAL3', 'MIR3198-1', 'MIR648', 'PEX26', 'SLC25A18', 'TUBA8', 'USP18', 'FAM72C', 'FAM72D', 'LINC01138', 'NBPF8', 'PPIAL4G', 'MIR6770-2', 'MIR3179-1', 'MIR3180-2', 'MACROD2', 'FAM189A1', 'LOC100130111', 'MACROD2-AS1', 'LINC00623', 'LINC00869', 'PPIAL4C', 'MIR3680-2', 'ABCC6P1', 'HNRNPC', 'APBA2', 'C22orf39', 'CDC45', 'CLDN5', 'CLTCL1', 'DGCR14', 'DGCR2', 'GNB1L', 'GOLGA6L7P', 'GOLGA8M', 'GP1BB', 'GSC2', 'HIRA', 'LINC00895', 'LINC01311', 'LOC100289656', 'MRPL40', 'NPIPB4', 'NSMCE3', 'PDCD6IPP2', 'SEPT5', 'SEPT5-GP1BB', 'SLC25A1', 'TBX1', 'TSSK2', 'UFD1L', 'WHAMMP2', 'HSFY1P1', 'PFN1P2', 'XKR3', 'OR4A47', 'C5orf17', 'CNTN4', 'EXOC4', 'LINC00540', 'LOC101927967', 'LRRC4C', 'SMG1P2', 'SPRY2', 'LOC100288162']\n",
    "causal_genes_dup = ['CHN2', 'ESYT2', 'KIF26B', 'RPGRIP1', 'C22orf39', 'CDAN1', 'CDC45', 'CLDN5', 'GNB1L', 'GP1BB', 'HIRA', 'LINC00895', 'MRPL40', 'SEPT5', 'SEPT5-GP1BB', 'STARD9', 'TBX1', 'TTBK2', 'UFD1L', 'LOC283177', 'AGAP6', 'COL18A1', 'COL18A1-AS1', 'FAM21EP', 'LOC440910', 'MIR6815', 'POTEE', 'SLC19A1', 'TIMM23B', 'VAV2', 'WASHC2A', 'PTPRN2', 'ANO2', 'CCNDBP1', 'COLEC12', 'EPB42', 'FAM118A', 'FAM160A1', 'FBLN1', 'KIAA0930', 'LINC01589', 'LOC100996325', 'LOC728613', 'LRRIQ3', 'MACROD2', 'MIR1249', 'NUP153', 'NUP50', 'NUP50-AS1', 'PRSS48', 'RAP1GAP2', 'RBM47', 'RIBC2', 'SH3D19', 'SMC1B', 'TGM5', 'TMEM62', 'UPK3A', 'VWF', 'DGKH', 'KIF13A', 'LINC01266', 'VWA8', 'VWA8-AS1', 'CRYM-AS1', 'SNX29P1', 'KCNJ12', 'KCNJ18', 'BNC1', 'LOC105375545', 'MIR128-2', 'AGAP7P', 'BTBD11', 'C3orf67', 'CHD8', 'COL18A1-AS2', 'FAM110C', 'GMDS', 'HIRIP3', 'INO80E', 'LINC01022', 'MARK3', 'MIR5707', 'MSMB', 'NCAPG2', 'NCOA4', 'PAK5', 'PLEKHB2', 'PWP1', 'RAB2B', 'RNF103-CHMP3', 'SNORD8', 'SNORD9', 'SUPT16H', 'TIMM23', 'ZCCHC14', 'C17orf51', 'COX20', 'DLG1', 'EFCAB2']"
   ]
  },
  {
   "cell_type": "markdown",
   "metadata": {},
   "source": [
    "This list of genes are the top genes from [enrichment analysis](enrichment_analysis_of_CNV_in_schizophrenia.html).\n",
    "\n",
    "### Step 4: Get the probability of a sample being case give all genes\n",
    "Suppose $p$ is baseline probability of the disease (prevalence), and $r_0$ is the baseline odds $\\frac{p}{1-p}$.\n",
    "\n",
    "Given all the genes which overlap with simulated CNVs in a sample, the probability for the sample to be case is $p_1$, then the odds ratio for case is $r_1 = r_0 \\times R = \\frac{p_1}{1-p_1}$, $R$ is the combined relative risks of the genes overlapped with CNVs in a sample. Each $R_i$ for a causal gene is to be sampled from Gamma(5,1), $R = \\prod_{i=1}^{\\#gene} R_i$. For noncausal gene, $R_i$ is 1. Then $P(case|all\\ CNVs) = p_1 = \\frac{r_0*R}{1+r_0*R}$, and $P(ctrl|all\\ CNVs) = 1-p_1$.\n",
    "\n",
    "Since $p_1$ is small, about $\\frac{1}{p} * n$ trials are to be simulated in order to obtain $n$ cases. However, $n$ controls are easy to obtain."
   ]
  },
  {
   "cell_type": "markdown",
   "metadata": {},
   "source": [
    "## Implementation"
   ]
  },
  {
   "cell_type": "markdown",
   "metadata": {},
   "source": [
    "** Notes for 08/07/2017. In order to run calcium pathway, temporarily changed \"Environment\" in `utils` to use given pathway genes instead.**"
   ]
  },
  {
   "cell_type": "code",
   "execution_count": 24,
   "metadata": {
    "collapsed": true,
    "kernel": "SoS"
   },
   "outputs": [],
   "source": [
    "%matplotlib inline\n",
    "from utils import *"
   ]
  },
  {
   "cell_type": "code",
   "execution_count": 39,
   "metadata": {
    "collapsed": true,
    "kernel": "SoS"
   },
   "outputs": [],
   "source": [
    "# specifically for calcium pathway simulation\n",
    "gene_df = load_reference_gene(\"data/refGene.txt.gz\")\n",
    "cnv_data = load_cnv_data(\"data/ISC-r1.CNV.bed\")"
   ]
  },
  {
   "cell_type": "code",
   "execution_count": 34,
   "metadata": {
    "collapsed": true,
    "kernel": "SoS"
   },
   "outputs": [],
   "source": [
    "samples = simulate(gene_df, pd.concat([cnv_data['delCases'], cnv_data['delControls']]), args, args.causal_genes)\n",
    "save_data(samples, \"data/calcium_pathway_{}.data.pkl\".format(args.seed))"
   ]
  },
  {
   "cell_type": "code",
   "execution_count": 25,
   "metadata": {
    "collapsed": true
   },
   "outputs": [],
   "source": [
    "samples = run_simulation(args)"
   ]
  },
  {
   "cell_type": "code",
   "execution_count": 23,
   "metadata": {},
   "outputs": [
    {
     "data": {
      "text/plain": [
       "5"
      ]
     },
     "execution_count": 23,
     "metadata": {},
     "output_type": "execute_result"
    }
   ],
   "source": [
    "len(samples['case'])"
   ]
  },
  {
   "cell_type": "code",
   "execution_count": 3,
   "metadata": {
    "collapsed": true,
    "kernel": "SoS"
   },
   "outputs": [],
   "source": [
    "# the size of calcium simulation is much smaller than previous with the same sample size, check the size\n",
    "args['n_case'] = 2000\n",
    "args['n_ctrl'] = 2000\n",
    "samples_4000 = simulate(gene_df, pd.concat([cnv_data['delCases'],cnv_data['delControls']]), args, args.causal_genes)\n",
    "save_data(samples_4000, \"data/calcium_pathway_4000_shape_25.data.pkl\")"
   ]
  },
  {
   "cell_type": "code",
   "execution_count": 10,
   "metadata": {
    "collapsed": true,
    "kernel": "SoS"
   },
   "outputs": [],
   "source": [
    "del_sample = load_data(\"data/calcium_pathway_4000_shape_25.data.pkl\")\n",
    "del_sample_gene = get_gene_table(del_sample)\n",
    "stats4000 = get_stats_from_input(\"data/calcium_pathway_4000_shape_25.data.pkl\", sort_data=1)"
   ]
  },
  {
   "cell_type": "code",
   "execution_count": 151,
   "metadata": {
    "collapsed": true,
    "kernel": "SoS",
    "scrolled": true
   },
   "outputs": [],
   "source": [
    "### Use feather file to check fisher test and OR directly\n",
    "import feather\n",
    "filename = \"data/calcium_pathway_N500_shape25_nomask.data.feather\"\n",
    "df = feather.read_dataframe(filename)"
   ]
  },
  {
   "cell_type": "code",
   "execution_count": 152,
   "metadata": {
    "collapsed": true,
    "kernel": "SoS"
   },
   "outputs": [],
   "source": [
    "df_fisher = pd.DataFrame()\n",
    "n_case = df[\"phenotype\"][df[\"phenotype\"]==1.0].shape[0]\n",
    "n_ctrl = df[\"phenotype\"][df[\"phenotype\"]==0.0].shape[0]\n",
    "for gene in df.keys()[1:]:\n",
    "    n_gene_case = sum(df[gene][df[\"phenotype\"]==1.0])\n",
    "    n_gene_ctrl = sum(df[gene][df[\"phenotype\"]==0.0])\n",
    "    df_fisher[gene] = pd.Series((n_gene_case, n_case - n_gene_case, n_gene_ctrl, n_ctrl - n_gene_ctrl), \n",
    "                                index = [\"n_gene_case\", \"n_nogene_case\", \"n_gene_ctrl\", \"n_nogene_ctrl\"])"
   ]
  },
  {
   "cell_type": "code",
   "execution_count": 153,
   "metadata": {
    "kernel": "SoS"
   },
   "outputs": [
    {
     "data": {
      "text/html": [
       "<div>\n",
       "<table border=\"1\" class=\"dataframe\">\n",
       "  <thead>\n",
       "    <tr style=\"text-align: right;\">\n",
       "      <th></th>\n",
       "      <th>ANO1-AS2</th>\n",
       "      <th>RNASEK-C17orf49</th>\n",
       "      <th>MED18</th>\n",
       "      <th>COPB2</th>\n",
       "      <th>OVOL1-AS1</th>\n",
       "      <th>HIST1H2BE</th>\n",
       "      <th>SLAIN1</th>\n",
       "      <th>LUZP2</th>\n",
       "      <th>MYL7</th>\n",
       "      <th>ZNF607</th>\n",
       "      <th>...</th>\n",
       "      <th>MSTO1</th>\n",
       "      <th>UBE2M</th>\n",
       "      <th>CREB3L3</th>\n",
       "      <th>MTRNR2L8</th>\n",
       "      <th>LOC440173</th>\n",
       "      <th>LOC101927460</th>\n",
       "      <th>SLC30A8</th>\n",
       "      <th>ARHGAP17</th>\n",
       "      <th>LOC105370068</th>\n",
       "      <th>LOC101927285</th>\n",
       "    </tr>\n",
       "  </thead>\n",
       "  <tbody>\n",
       "    <tr>\n",
       "      <th>n_gene_case</th>\n",
       "      <td>1.0</td>\n",
       "      <td>1.0</td>\n",
       "      <td>1.0</td>\n",
       "      <td>0.0</td>\n",
       "      <td>1.0</td>\n",
       "      <td>1.0</td>\n",
       "      <td>1.0</td>\n",
       "      <td>0.0</td>\n",
       "      <td>1.0</td>\n",
       "      <td>1.0</td>\n",
       "      <td>...</td>\n",
       "      <td>1.0</td>\n",
       "      <td>0.0</td>\n",
       "      <td>1.0</td>\n",
       "      <td>0.0</td>\n",
       "      <td>1.0</td>\n",
       "      <td>1.0</td>\n",
       "      <td>1.0</td>\n",
       "      <td>1.0</td>\n",
       "      <td>2.0</td>\n",
       "      <td>2.0</td>\n",
       "    </tr>\n",
       "    <tr>\n",
       "      <th>n_nogene_case</th>\n",
       "      <td>249.0</td>\n",
       "      <td>249.0</td>\n",
       "      <td>249.0</td>\n",
       "      <td>250.0</td>\n",
       "      <td>249.0</td>\n",
       "      <td>249.0</td>\n",
       "      <td>249.0</td>\n",
       "      <td>250.0</td>\n",
       "      <td>249.0</td>\n",
       "      <td>249.0</td>\n",
       "      <td>...</td>\n",
       "      <td>249.0</td>\n",
       "      <td>250.0</td>\n",
       "      <td>249.0</td>\n",
       "      <td>250.0</td>\n",
       "      <td>249.0</td>\n",
       "      <td>249.0</td>\n",
       "      <td>249.0</td>\n",
       "      <td>249.0</td>\n",
       "      <td>248.0</td>\n",
       "      <td>248.0</td>\n",
       "    </tr>\n",
       "    <tr>\n",
       "      <th>n_gene_ctrl</th>\n",
       "      <td>0.0</td>\n",
       "      <td>0.0</td>\n",
       "      <td>0.0</td>\n",
       "      <td>1.0</td>\n",
       "      <td>0.0</td>\n",
       "      <td>1.0</td>\n",
       "      <td>0.0</td>\n",
       "      <td>1.0</td>\n",
       "      <td>0.0</td>\n",
       "      <td>0.0</td>\n",
       "      <td>...</td>\n",
       "      <td>0.0</td>\n",
       "      <td>1.0</td>\n",
       "      <td>0.0</td>\n",
       "      <td>1.0</td>\n",
       "      <td>0.0</td>\n",
       "      <td>0.0</td>\n",
       "      <td>1.0</td>\n",
       "      <td>0.0</td>\n",
       "      <td>0.0</td>\n",
       "      <td>0.0</td>\n",
       "    </tr>\n",
       "    <tr>\n",
       "      <th>n_nogene_ctrl</th>\n",
       "      <td>250.0</td>\n",
       "      <td>250.0</td>\n",
       "      <td>250.0</td>\n",
       "      <td>249.0</td>\n",
       "      <td>250.0</td>\n",
       "      <td>249.0</td>\n",
       "      <td>250.0</td>\n",
       "      <td>249.0</td>\n",
       "      <td>250.0</td>\n",
       "      <td>250.0</td>\n",
       "      <td>...</td>\n",
       "      <td>250.0</td>\n",
       "      <td>249.0</td>\n",
       "      <td>250.0</td>\n",
       "      <td>249.0</td>\n",
       "      <td>250.0</td>\n",
       "      <td>250.0</td>\n",
       "      <td>249.0</td>\n",
       "      <td>250.0</td>\n",
       "      <td>250.0</td>\n",
       "      <td>250.0</td>\n",
       "    </tr>\n",
       "  </tbody>\n",
       "</table>\n",
       "<p>4 rows × 8254 columns</p>\n",
       "</div>"
      ],
      "text/plain": [
       "               ANO1-AS2  RNASEK-C17orf49  MED18  COPB2  OVOL1-AS1  HIST1H2BE  \\\n",
       "n_gene_case         1.0              1.0    1.0    0.0        1.0        1.0   \n",
       "n_nogene_case     249.0            249.0  249.0  250.0      249.0      249.0   \n",
       "n_gene_ctrl         0.0              0.0    0.0    1.0        0.0        1.0   \n",
       "n_nogene_ctrl     250.0            250.0  250.0  249.0      250.0      249.0   \n",
       "\n",
       "               SLAIN1  LUZP2   MYL7  ZNF607      ...       MSTO1  UBE2M  \\\n",
       "n_gene_case       1.0    0.0    1.0     1.0      ...         1.0    0.0   \n",
       "n_nogene_case   249.0  250.0  249.0   249.0      ...       249.0  250.0   \n",
       "n_gene_ctrl       0.0    1.0    0.0     0.0      ...         0.0    1.0   \n",
       "n_nogene_ctrl   250.0  249.0  250.0   250.0      ...       250.0  249.0   \n",
       "\n",
       "               CREB3L3  MTRNR2L8  LOC440173  LOC101927460  SLC30A8  ARHGAP17  \\\n",
       "n_gene_case        1.0       0.0        1.0           1.0      1.0       1.0   \n",
       "n_nogene_case    249.0     250.0      249.0         249.0    249.0     249.0   \n",
       "n_gene_ctrl        0.0       1.0        0.0           0.0      1.0       0.0   \n",
       "n_nogene_ctrl    250.0     249.0      250.0         250.0    249.0     250.0   \n",
       "\n",
       "               LOC105370068  LOC101927285  \n",
       "n_gene_case             2.0           2.0  \n",
       "n_nogene_case         248.0         248.0  \n",
       "n_gene_ctrl             0.0           0.0  \n",
       "n_nogene_ctrl         250.0         250.0  \n",
       "\n",
       "[4 rows x 8254 columns]"
      ]
     },
     "execution_count": 153,
     "metadata": {},
     "output_type": "execute_result"
    }
   ],
   "source": [
    "df_fisher"
   ]
  },
  {
   "cell_type": "code",
   "execution_count": 154,
   "metadata": {
    "collapsed": true,
    "kernel": "SoS"
   },
   "outputs": [],
   "source": [
    "fisher_stats = [(pvalue(df_fisher[gene][\"n_gene_case\"], df_fisher[gene][\"n_gene_ctrl\"], \n",
    "                        df_fisher[gene][\"n_nogene_case\"], df_fisher[gene][\"n_nogene_ctrl\"]), gene) \n",
    "                 for gene in df_fisher.keys()]\n",
    "p_value = [x[0].two_tail for x in fisher_stats]\n",
    "OR_stats = [(stats.fisher_exact([[df_fisher[gene][\"n_gene_case\"], df_fisher[gene][\"n_gene_ctrl\"]], \n",
    "                                 [df_fisher[gene][\"n_nogene_case\"], df_fisher[gene][\"n_nogene_ctrl\"]]])[0], gene) \n",
    "             for gene in df_fisher.keys()]"
   ]
  },
  {
   "cell_type": "code",
   "execution_count": 155,
   "metadata": {
    "kernel": "SoS"
   },
   "outputs": [
    {
     "name": "stdout",
     "output_type": "stream",
     "text": [
      "0.003630350149776888\n",
      "[0.014974036848775836, 0.00738071187475325, 0.003630350149776888, 0.03031628771841319, 0.03031628771841319, 0.03031628771841319, 0.014974036848775836, 0.03031628771841319, 0.03031628771841319, 0.014974036848775836, 0.03031628771841319, 0.03031628771841319, 0.03031628771841319]\n"
     ]
    }
   ],
   "source": [
    "print (min([p_value[i] for i in range(len(p_value))]))\n",
    "print ([p_value[i] for i in range(len(p_value)) if p_value[i]<0.05])"
   ]
  },
  {
   "cell_type": "code",
   "execution_count": 156,
   "metadata": {
    "kernel": "SoS"
   },
   "outputs": [
    {
     "data": {
      "text/plain": [
       "5.0816326530612246"
      ]
     },
     "execution_count": 156,
     "metadata": {},
     "output_type": "execute_result"
    }
   ],
   "source": [
    "OR = [OR_stats[i][0] for i in range(len(OR_stats)) if OR_stats[i][0]>1 and OR_stats[i][0]<np.inf]\n",
    "max(OR)"
   ]
  },
  {
   "cell_type": "code",
   "execution_count": 2,
   "metadata": {
    "collapsed": true,
    "kernel": "SoS"
   },
   "outputs": [],
   "source": [
    "# Load reference gene database\n",
    "gene_df = load_reference_gene(\"data/refGene.txt.gz\")\n",
    "#[random.sample(gene_df[\"gene_name\"].tolist(), 20)]\n",
    "#print (gene_df[\"gene_name\"].tolist())"
   ]
  },
  {
   "cell_type": "markdown",
   "metadata": {},
   "source": [
    "## Step 1 & 2"
   ]
  },
  {
   "cell_type": "code",
   "execution_count": null,
   "metadata": {
    "collapsed": true,
    "kernel": "SoS"
   },
   "outputs": [],
   "source": [
    "cnvbed_df = load_cnv_data(\"data/ISC-r1.CNV.bed\")\n",
    "# print (cnvbed_df)"
   ]
  },
  {
   "cell_type": "code",
   "execution_count": 4,
   "metadata": {
    "collapsed": true,
    "kernel": "SoS",
    "scrolled": true
   },
   "outputs": [],
   "source": [
    "# Get 2 data-sets from my data for del and dup\n",
    "cnvdel = [cnvbed_df[\"delCases\"], cnvbed_df[\"delControls\"]]\n",
    "cnvdup = [cnvbed_df[\"dupCases\"], cnvbed_df[\"dupControls\"]]\n",
    "#cnvdel = pd.concat(cnvdel).drop_duplicates(subset=(\"chrom\", \"cnv_start\", \"cnv_end\"))\n",
    "#print (len(list(cnvdel[\"cnv_start\"])))\n",
    "del_df = pd.concat(cnvdel)\n",
    "dup_df = pd.concat(cnvdup)"
   ]
  },
  {
   "cell_type": "code",
   "execution_count": 5,
   "metadata": {
    "collapsed": true,
    "kernel": "SoS"
   },
   "outputs": [],
   "source": [
    "-# check how many CNVs start in block_size = 100K blocks genome\n",
    "# this cell produces `block_counts`: ((chrom, block_position), count)\n",
    "block_counts = count_cnv_by_block(dup_df, 100000)\n",
    "#print (block_counts)\n",
    "block_counts_dict = {}\n",
    "for item in block_counts:\n",
    "    block_counts_dict[item[0]] = item[1]\n",
    "#print (block_counts_dict)\n",
    "#pd.DataFrame(block_counts_dict, index=[0]).transpose()"
   ]
  },
  {
   "cell_type": "code",
   "execution_count": 6,
   "metadata": {
    "kernel": "SoS"
   },
   "outputs": [
    {
     "data": {
      "text/plain": [
       "(0, 1000000)"
      ]
     },
     "execution_count": 6,
     "metadata": {},
     "output_type": "execute_result"
    },
    {
     "data": {
      "image/png": "[encoded data removed]",
      "text/plain": [
       "<matplotlib.figure.Figure at 0x7f9c87f48b70>"
      ]
     },
     "metadata": {},
     "output_type": "display_data"
    }
   ],
   "source": [
    "# length of CNVs, and fit mixed geometric distribution\n",
    "cnv_data = pd.concat([cnvbed_df['delCases'], cnvbed_df['delControls']])\n",
    "del_length = cnv_data['cnv_end'] - cnv_data['cnv_start']\n",
    "sns.distplot(del_length, 500)\n",
    "sns.plt.xlim(0, 1000000)\n",
    "#sns.distplot(dup_length[0:1000], color=\"red\")\n",
    "#plt.plot(cnv_length[\"delControls\"])"
   ]
  },
  {
   "cell_type": "code",
   "execution_count": null,
   "metadata": {
    "collapsed": true,
    "kernel": "SoS"
   },
   "outputs": [],
   "source": [
    "# violin plot\n",
    "import plotly\n",
    "plotly.offline.init_notebook_mode()\n",
    "#fig = plotly.figure_factory.create_violin(list(dup_block.values()), colors='#604d9e')\n",
    "#plotly.offline.iplot(fig, filename='One Violin')"
   ]
  },
  {
   "cell_type": "code",
   "execution_count": 20,
   "metadata": {
    "kernel": "SoS"
   },
   "outputs": [
    {
     "name": "stdout",
     "output_type": "stream",
     "text": [
      "[ 157318  219774  200308 1158441  157299  148601  118372  120567  151527]\n"
     ]
    }
   ],
   "source": [
    "sample_len_del = sample_cnv_length(del_length, args['avg_cnv_per_individual'])\n",
    "print(sample_len_del)"
   ]
  },
  {
   "cell_type": "code",
   "execution_count": 21,
   "metadata": {
    "collapsed": true,
    "kernel": "SoS"
   },
   "outputs": [],
   "source": [
    "# Now I get n_del sample CNVs but I only know which block it belongs to\n",
    "# sample_blocks is just a sample set of `block_counts` removing the `count` part: [(chrom, block_position)]\n",
    "sample_blocks = get_sample_blocks(block_counts, len(sample_len_del))"
   ]
  },
  {
   "cell_type": "code",
   "execution_count": 22,
   "metadata": {
    "collapsed": true,
    "kernel": "SoS",
    "scrolled": true
   },
   "outputs": [],
   "source": [
    "# Now for each sample block, I:\n",
    "# 1. give it a random start position unif(block_start, block_start + block_size)\n",
    "# 2. give it a random end position using L previously sampled\n",
    "samples = assign_cnv_to_sample(sample_blocks, sample_len_del, 100000)\n",
    "# print(samples)"
   ]
  },
  {
   "cell_type": "markdown",
   "metadata": {},
   "source": [
    "## Step 3"
   ]
  },
  {
   "cell_type": "code",
   "execution_count": 31,
   "metadata": {
    "collapsed": true,
    "kernel": "SoS"
   },
   "outputs": [],
   "source": [
    "# Annotate data with gene names\n",
    "samples = annotate_samples(samples, gene_df)\n",
    "# print(samples)"
   ]
  },
  {
   "cell_type": "code",
   "execution_count": 24,
   "metadata": {
    "kernel": "SoS",
    "scrolled": true
   },
   "outputs": [
    {
     "name": "stdout",
     "output_type": "stream",
     "text": [
      "[]\n"
     ]
    }
   ],
   "source": [
    "# get causal genes in data\n",
    "del_causal_genes_in_sample = get_causal_genes(args.causal_genes, samples['gene_name'].tolist())\n",
    "# dup_causal_genes_in_sample = get_causal_genes(args.causal_genes[\"causal_genes_dup\"], samples['gene_name'].tolist())\n",
    "#print (samples['gene_name'].tolist())\n",
    "print ((del_causal_genes_in_sample))"
   ]
  },
  {
   "cell_type": "markdown",
   "metadata": {},
   "source": [
    "## Step 4"
   ]
  },
  {
   "cell_type": "code",
   "execution_count": 19,
   "metadata": {
    "kernel": "SoS"
   },
   "outputs": [
    {
     "name": "stdout",
     "output_type": "stream",
     "text": [
      "0\n",
      "0.005\n"
     ]
    }
   ],
   "source": [
    "#k = 0.005 # prevalence of the disease\n",
    "#sim_args = {'shape': 2, 'scale': 1}\n",
    "num_causal_genes_in_sample = len(del_causal_genes_in_sample)\n",
    "print (num_causal_genes_in_sample)\n",
    "p = p_case(args[\"prevalence\"], num_causal_genes_in_sample, args[\"odds_ratio_params\"][\"shape\"], \n",
    "           args[\"odds_ratio_params\"][\"scale\"])\n",
    "print(p)"
   ]
  },
  {
   "cell_type": "markdown",
   "metadata": {},
   "source": [
    "## Putting all together"
   ]
  },
  {
   "cell_type": "code",
   "execution_count": 3,
   "metadata": {
    "collapsed": true,
    "kernel": "SoS",
    "scrolled": true
   },
   "outputs": [],
   "source": [
    "# main procedure for duplication\n",
    "genes = load_reference_gene(\"data/refGene.txt.gz\")\n",
    "empirical_data = load_cnv_data(\"data/ISC-r1.CNV.bed\")\n",
    "# sample_dup = simulate(genes, pd.concat([empirical_data['dupCases'], empirical_data['dupControls']]), \n",
    "#                       args, args.causal_genes[\"causal_genes_dup\"])\n",
    "# save_data(sample_dup, 'dup_sample_test.pkl')"
   ]
  },
  {
   "cell_type": "code",
   "execution_count": 4,
   "metadata": {
    "collapsed": true,
    "kernel": "SoS"
   },
   "outputs": [],
   "source": [
    "# main procedure for deletion\n",
    "sample_del = simulate(genes, pd.concat([empirical_data['delCases'], empirical_data['delControls']]), \n",
    "                      args, args.causal_genes)\n",
    "save_data(sample_del, 'del_sample_test_4000.pkl')"
   ]
  },
  {
   "cell_type": "code",
   "execution_count": 30,
   "metadata": {
    "collapsed": true,
    "kernel": "SoS",
    "scrolled": true
   },
   "outputs": [],
   "source": [
    "del_sample = load_data(\"data/del_sample_10.pkl\")\n",
    "# dup_sample = load_data(\"data/dup_sample_test.pkl\")\n",
    "# print (del_sample)"
   ]
  },
  {
   "cell_type": "code",
   "execution_count": null,
   "metadata": {
    "collapsed": true,
    "kernel": "SoS"
   },
   "outputs": [],
   "source": [
    "#block_counts[idx][0] for idx in sample_idx\n",
    "[pd.concat(del_sample[item]) for item in [\"case\", \"ctrl\"]][0]\n",
    "#for item, value in del_sample.items() for item in (\"case\", \"ctrl\"):\n",
    "#    values = pd.concat(value)\n",
    "#    print (item)"
   ]
  },
  {
   "cell_type": "code",
   "execution_count": null,
   "metadata": {
    "collapsed": true,
    "kernel": "SoS",
    "scrolled": true
   },
   "outputs": [],
   "source": [
    "del_sample_gene = get_gene_table(del_sample)\n",
    "# dup_sample_gene = get_gene_table(dup_sample)\n",
    "print (del_sample_gene)"
   ]
  },
  {
   "cell_type": "code",
   "execution_count": null,
   "metadata": {
    "collapsed": true,
    "kernel": "SoS",
    "scrolled": true
   },
   "outputs": [],
   "source": [
    "del_stats_table = get_stats(del_sample_gene, num=100, sort=1)\n",
    "dup_stats_table = get_stats(dup_sample_gene, num=100, sort=0)"
   ]
  },
  {
   "cell_type": "code",
   "execution_count": 14,
   "metadata": {
    "kernel": "SoS"
   },
   "outputs": [
    {
     "name": "stdout",
     "output_type": "stream",
     "text": [
      "['PTPRD', 'CNTNAP3', 'JUN', 'LOC100132057', 'MIR6077', 'MYSM1', 'NBPF8', 'NBPF9', 'ATAD1', 'CFL1P1', 'KLLN', 'LINC00706', 'LINC00707', 'LINP1', 'PTEN', 'DLG2', 'AKAP13', 'DNM1P46', 'GOLGA6L3', 'LOC642423', 'LYSMD4', 'MEF2A', 'MIR7706', 'PDE8A', 'LOC101927009', 'LOC101928203', 'CDRT15', 'COX10', 'HS3ST3B1', 'MGC12916', 'SH3RF3', 'CPNE4', 'DDX60', 'DDX60L', 'PALLD', 'RWDD4', 'STOX2', 'TRAPPC11', 'LOC102467226', 'LOC646241', 'LOC100507477', 'MIR3668', 'ANKMY2', 'BZW2', 'FAM20C', 'LOC100507642', 'LOC102723672', 'LOC105375115', 'LOC442497', 'LRRC72', 'MIR6839', 'WI2-2373I1.2', 'ZNF107', 'COX6C', 'FBXO43', 'MIR1273A', 'MYOM2', 'POLR2K', 'RGS22', 'RNF19A', 'RUNX1T1', 'SPAG1', 'VPS13B', 'FAM74A1', 'LOC101928195', 'LOC101929583', 'LOC105375972', 'LOC286297', 'SPATA31A1', 'ZNF658B', 'METTL3', 'RAB2B', 'SNORD9', 'SUPT16H', 'TOX4', 'CHD8', 'SNORD8', 'LINC01138', 'NBPF20', 'PPIAL4G', 'LINC00863', 'LINC00864', 'MINPP1', 'MIR4678', 'NUTM2A-AS1', 'NUTM2D', 'PAPSS2', 'ABCC6P1', 'LOC100288162', 'MIR3179-1', 'MIR3180-2', 'MIR3180-3', 'MIR3670-1', 'MIR6511A4', 'MIR6770-2', 'NOMO2', 'NPIPA8', 'LINC01224', 'ZNF91', 'FER1L5']\n"
     ]
    }
   ],
   "source": [
    "print (del_stats_table[\"top_logp_gene\"])"
   ]
  },
  {
   "cell_type": "code",
   "execution_count": 15,
   "metadata": {
    "kernel": "SoS"
   },
   "outputs": [
    {
     "data": {
      "image/png": "[encoded data removed]",
      "text/plain": [
       "<matplotlib.figure.Figure at 0x7f8f01473550>"
      ]
     },
     "metadata": {},
     "output_type": "display_data"
    }
   ],
   "source": [
    "sns.set(style=\"whitegrid\")\n",
    "sns.set_color_codes(\"pastel\")\n",
    "f, ax = plt.subplots(figsize=(8, 25))\n",
    "p_df = pd.DataFrame({\"-logp 2side\": del_stats_table[\"top_logp_2side\"], \"gene name\": del_stats_table[\"top_logp_gene\"]})\n",
    "plot = sns.barplot(x=\"-logp 2side\", y=\"gene name\", data=p_df, color=\"b\")\n",
    "#print (plot)"
   ]
  },
  {
   "cell_type": "markdown",
   "metadata": {
    "kernel": "SoS"
   },
   "source": [
    "#### sns.set(style=\"whitegrid\")\n",
    "sns.set_color_codes(\"pastel\")\n",
    "f, ax = plt.subplots(figsize=(8, 25))\n",
    "p_df = pd.DataFrame({\"logp 2side\": dup_stats_table[\"top_logp_2side\"], \"gene name\":dup_stats_table[\"top_logp_gene\"]})\n",
    "plot = sns.barplot(x=\"logp 2side\", y=\"gene name\", data=p_df, color=\"g\")"
   ]
  },
  {
   "cell_type": "code",
   "execution_count": 3,
   "metadata": {},
   "outputs": [
    {
     "name": "stdout",
     "output_type": "stream",
     "text": [
      "delCases\n"
     ]
    }
   ],
   "source": [
    "indel = \"del\"\n",
    "print (indel + \"Cases\")"
   ]
  },
  {
   "cell_type": "code",
   "execution_count": 6,
   "metadata": {},
   "outputs": [],
   "source": [
    "cnv_data = {\"delCases\": [\"del\"], \"delControls\": [\"Controls\"]}"
   ]
  },
  {
   "cell_type": "code",
   "execution_count": 7,
   "metadata": {},
   "outputs": [
    {
     "data": {
      "text/plain": [
       "['del']"
      ]
     },
     "execution_count": 7,
     "metadata": {},
     "output_type": "execute_result"
    }
   ],
   "source": [
    "cnv_data[indel + \"Cases\"]"
   ]
  },
  {
   "cell_type": "code",
   "execution_count": null,
   "metadata": {},
   "outputs": [],
   "source": []
  },
  {
   "cell_type": "code",
   "execution_count": null,
   "metadata": {},
   "outputs": [],
   "source": []
  },
  {
   "cell_type": "code",
   "execution_count": null,
   "metadata": {},
   "outputs": [],
   "source": []
  }
 ],
 "metadata": {
  "kernelspec": {
   "display_name": "Python 3",
   "language": "python",
   "name": "python3"
  },
  "language_info": {
   "codemirror_mode": {
    "name": "ipython",
    "version": 3
   },
   "file_extension": ".py",
   "mimetype": "text/x-python",
   "name": "python",
   "nbconvert_exporter": "python",
   "pygments_lexer": "ipython3",
   "version": "3.6.6"
  },
  "sos": {
   "kernels": [
    [
     "SoS",
     "sos",
     "",
     ""
    ],
    [
     "Python3",
     "python3",
     "Python3",
     "#FFE771"
    ],
    [
     "R",
     "ir",
     "R",
     "#DCDCDA"
    ]
   ],
   "panel": {
    "displayed": true,
    "height": 0,
    "style": "side"
   }
  }
 },
 "nbformat": 4,
 "nbformat_minor": 2
}
