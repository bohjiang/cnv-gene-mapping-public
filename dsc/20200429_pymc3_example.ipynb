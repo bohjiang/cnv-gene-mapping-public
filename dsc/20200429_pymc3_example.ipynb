{
 "cells": [
  {
   "cell_type": "markdown",
   "metadata": {
    "kernel": "SoS"
   },
   "source": [
    "# pymc3 minimal example"
   ]
  },
  {
   "cell_type": "code",
   "execution_count": 1,
   "metadata": {
    "kernel": "SoS"
   },
   "outputs": [],
   "source": [
    "import os\n",
    "import numpy as np, pandas as pd\n",
    "cwd = os.path.expanduser(\"/home/min/GIT/cnv-gene-mapping/data/deletion_simu_30_shape0.777_scale0.843\")"
   ]
  },
  {
   "cell_type": "markdown",
   "metadata": {
    "kernel": "SoS"
   },
   "source": [
    "## import X and y"
   ]
  },
  {
   "cell_type": "code",
   "execution_count": 3,
   "metadata": {
    "kernel": "SoS"
   },
   "outputs": [],
   "source": [
    "X = pd.read_csv(f'{cwd}/block_1815_1826/deletion.genes.block30.for_simu.sample.combined.genes.block_1815_1826.gz', compression = \"gzip\", sep = \"\\t\", header = None, dtype = float)\n",
    "y = np.loadtxt(f'{cwd}/deletion.genes.block30.for_simu.sample.combined.y.gz', dtype=int)"
   ]
  },
  {
   "cell_type": "code",
   "execution_count": 7,
   "metadata": {
    "kernel": "SoS"
   },
   "outputs": [],
   "source": [
    "pi_varbvs = 0.051366009925488\n",
    "mu_varbvs = 0.783230896500752\n",
    "si_varbvs = 0.816999481742865"
   ]
  },
  {
   "cell_type": "markdown",
   "metadata": {
    "kernel": "SoS"
   },
   "source": [
    "## Spike and Slab model"
   ]
  },
  {
   "cell_type": "code",
   "execution_count": 4,
   "metadata": {
    "kernel": "SoS"
   },
   "outputs": [],
   "source": [
    "import pymc3 as pm\n",
    "import theano.tensor as tt"
   ]
  },
  {
   "cell_type": "code",
   "execution_count": 5,
   "metadata": {
    "kernel": "SoS"
   },
   "outputs": [],
   "source": [
    "prevalence = 0.05\n",
    "case_prop = sum(y) / y.shape[0]\n",
    "iteration = 2000\n",
    "seed = 1\n",
    "n_chain = 1"
   ]
  },
  {
   "cell_type": "code",
   "execution_count": 8,
   "metadata": {
    "kernel": "SoS"
   },
   "outputs": [],
   "source": [
    "def get_model(y, X, pi0 = pi_varbvs, mu = mu_varbvs, sigma = si_varbvs):\n",
    "    invlogit = lambda x: 1/(1 + tt.exp(-x))\n",
    "    model = pm.Model()\n",
    "    with model:\n",
    "        xi = pm.Bernoulli('xi', pi0, shape = X.shape[1]) # inclusion probability for each variable\n",
    "        # alpha = pm.Normal('alpha', mu = mu_intercept, sd = sigma_intercept) # Intercept\n",
    "        alpha = pm.distributions.continuous.Uniform(\"alpha\", lower = np.log(prevalence / (1-prevalence)), upper = np.log(case_prop / (1-case_prop)))\n",
    "        beta = pm.Normal('beta', mu = mu, sd = sigma, shape = X.shape[1]) # Prior for the non-zero coefficients\n",
    "        p = pm.math.dot(X, xi * beta) # Deterministic function to map the stochastics to the output\n",
    "        y_obs = pm.Bernoulli('y_obs', invlogit(p + alpha), observed = y)  # Data likelihood\n",
    "    return model"
   ]
  },
  {
   "cell_type": "code",
   "execution_count": 9,
   "metadata": {
    "kernel": "SoS"
   },
   "outputs": [],
   "source": [
    "model = get_model(y,X)"
   ]
  },
  {
   "cell_type": "code",
   "execution_count": 10,
   "metadata": {
    "kernel": "SoS"
   },
   "outputs": [
    {
     "data": {
      "text/latex": [
       "$$\n",
       "            \\begin{array}{rcl}\n",
       "            \\text{xi} &\\sim & \\text{Bernoulli}(\\mathit{p}=0.051366009925488)\\\\\\text{beta} &\\sim & \\text{Normal}(\\mathit{mu}=0.783230896500752,~\\mathit{sigma}=0.816999481742865)\\\\\\text{alpha} &\\sim & \\text{Uniform}(\\mathit{lower}=-2.9444389791664403,~\\mathit{upper}=0.0)\\\\\\text{y_obs} &\\sim & \\text{Bernoulli}(\\mathit{p}=f(f(),~f(f(),~f(f(f(f(array,~f(\\text{xi},~\\text{beta})),~f(\\text{alpha})))))))\n",
       "            \\end{array}\n",
       "            $$"
      ],
      "text/plain": [
       "<pymc3.model.Model at 0x7fa3d71a2950>"
      ]
     },
     "execution_count": 10,
     "metadata": {},
     "output_type": "execute_result"
    }
   ],
   "source": [
    "model"
   ]
  },
  {
   "cell_type": "code",
   "execution_count": 11,
   "metadata": {
    "kernel": "SoS"
   },
   "outputs": [
    {
     "data": {
      "text/html": [
       "<div class=\"sos_logging sos_info\">INFO: Sequential sampling (1 chains in 1 job)</div>"
      ]
     },
     "metadata": {},
     "output_type": "display_data"
    },
    {
     "data": {
      "text/html": [
       "<div class=\"sos_logging sos_info\">INFO: CompoundStep</div>"
      ]
     },
     "metadata": {},
     "output_type": "display_data"
    },
    {
     "data": {
      "text/html": [
       "<div class=\"sos_logging sos_info\">INFO: >BinaryGibbsMetropolis: [xi]</div>"
      ]
     },
     "metadata": {},
     "output_type": "display_data"
    },
    {
     "data": {
      "text/html": [
       "<div class=\"sos_logging sos_info\">INFO: >NUTS: [beta, alpha]</div>"
      ]
     },
     "metadata": {},
     "output_type": "display_data"
    },
    {
     "name": "stderr",
     "output_type": "stream",
     "text": [
      "Sampling chain 0, 20 divergences: 100%|##########| 2500/2500 [01:54<00:00, 21.77it/s]\n"
     ]
    },
    {
     "data": {
      "text/html": [
       "<div class=\"sos_logging sos_error\">ERROR: There were 20 divergences after tuning. Increase `target_accept` or reparameterize.</div>"
      ]
     },
     "metadata": {},
     "output_type": "display_data"
    },
    {
     "data": {
      "text/html": [
       "<div class=\"sos_logging sos_info\">INFO: Only one chain was sampled, this makes it impossible to run some convergence checks</div>"
      ]
     },
     "metadata": {},
     "output_type": "display_data"
    }
   ],
   "source": [
    "with model:\n",
    "    trace1 = pm.sample(iteration, random_seed = seed, cores = 8, progressbar = True, chains = n_chain, tune = int(0.25*iteration))"
   ]
  },
  {
   "cell_type": "code",
   "execution_count": 13,
   "metadata": {
    "kernel": "SoS"
   },
   "outputs": [
    {
     "data": {
      "text/html": [
       "<div>\n",
       "<style scoped>\n",
       "    .dataframe tbody tr th:only-of-type {\n",
       "        vertical-align: middle;\n",
       "    }\n",
       "\n",
       "    .dataframe tbody tr th {\n",
       "        vertical-align: top;\n",
       "    }\n",
       "\n",
       "    .dataframe thead th {\n",
       "        text-align: right;\n",
       "    }\n",
       "</style>\n",
       "<table border=\"1\" class=\"dataframe\">\n",
       "  <thead>\n",
       "    <tr style=\"text-align: right;\">\n",
       "      <th></th>\n",
       "      <th>inclusion_probability</th>\n",
       "      <th>beta</th>\n",
       "      <th>beta_given_inclusion</th>\n",
       "    </tr>\n",
       "  </thead>\n",
       "  <tbody>\n",
       "    <tr>\n",
       "      <th>0</th>\n",
       "      <td>0.1100</td>\n",
       "      <td>0.089534</td>\n",
       "      <td>0.813947</td>\n",
       "    </tr>\n",
       "    <tr>\n",
       "      <th>1</th>\n",
       "      <td>0.1160</td>\n",
       "      <td>0.102113</td>\n",
       "      <td>0.880282</td>\n",
       "    </tr>\n",
       "    <tr>\n",
       "      <th>2</th>\n",
       "      <td>0.1045</td>\n",
       "      <td>0.082519</td>\n",
       "      <td>0.789652</td>\n",
       "    </tr>\n",
       "    <tr>\n",
       "      <th>3</th>\n",
       "      <td>0.0920</td>\n",
       "      <td>0.065140</td>\n",
       "      <td>0.708042</td>\n",
       "    </tr>\n",
       "    <tr>\n",
       "      <th>4</th>\n",
       "      <td>0.0875</td>\n",
       "      <td>0.058763</td>\n",
       "      <td>0.671578</td>\n",
       "    </tr>\n",
       "    <tr>\n",
       "      <th>5</th>\n",
       "      <td>0.0580</td>\n",
       "      <td>0.033424</td>\n",
       "      <td>0.576279</td>\n",
       "    </tr>\n",
       "    <tr>\n",
       "      <th>6</th>\n",
       "      <td>0.1865</td>\n",
       "      <td>0.353598</td>\n",
       "      <td>1.895968</td>\n",
       "    </tr>\n",
       "    <tr>\n",
       "      <th>7</th>\n",
       "      <td>0.8600</td>\n",
       "      <td>1.796250</td>\n",
       "      <td>2.088663</td>\n",
       "    </tr>\n",
       "    <tr>\n",
       "      <th>8</th>\n",
       "      <td>0.0210</td>\n",
       "      <td>0.005210</td>\n",
       "      <td>0.248075</td>\n",
       "    </tr>\n",
       "    <tr>\n",
       "      <th>9</th>\n",
       "      <td>0.0280</td>\n",
       "      <td>0.012246</td>\n",
       "      <td>0.437342</td>\n",
       "    </tr>\n",
       "    <tr>\n",
       "      <th>10</th>\n",
       "      <td>0.0220</td>\n",
       "      <td>0.006471</td>\n",
       "      <td>0.294130</td>\n",
       "    </tr>\n",
       "    <tr>\n",
       "      <th>11</th>\n",
       "      <td>0.1070</td>\n",
       "      <td>0.078472</td>\n",
       "      <td>0.733384</td>\n",
       "    </tr>\n",
       "  </tbody>\n",
       "</table>\n",
       "</div>"
      ],
      "text/plain": [
       "    inclusion_probability      beta  beta_given_inclusion\n",
       "0                  0.1100  0.089534              0.813947\n",
       "1                  0.1160  0.102113              0.880282\n",
       "2                  0.1045  0.082519              0.789652\n",
       "3                  0.0920  0.065140              0.708042\n",
       "4                  0.0875  0.058763              0.671578\n",
       "5                  0.0580  0.033424              0.576279\n",
       "6                  0.1865  0.353598              1.895968\n",
       "7                  0.8600  1.796250              2.088663\n",
       "8                  0.0210  0.005210              0.248075\n",
       "9                  0.0280  0.012246              0.437342\n",
       "10                 0.0220  0.006471              0.294130\n",
       "11                 0.1070  0.078472              0.733384"
      ]
     },
     "execution_count": 13,
     "metadata": {},
     "output_type": "execute_result"
    }
   ],
   "source": [
    "pd.DataFrame({'inclusion_probability': np.apply_along_axis(np.mean, 0, trace1['xi']),\n",
    "                        'beta': np.apply_along_axis(np.mean, 0, np.multiply(trace1[\"beta\"], trace1[\"xi\"])),\n",
    "                        'beta_given_inclusion': np.apply_along_axis(np.sum, 0, trace1['xi'] * trace1['beta']) / np.apply_along_axis(np.sum, 0, trace1['xi'])\n",
    "                        })"
   ]
  },
  {
   "cell_type": "code",
   "execution_count": null,
   "metadata": {
    "kernel": "SoS"
   },
   "outputs": [],
   "source": []
  }
 ],
 "metadata": {
  "kernelspec": {
   "display_name": "SoS",
   "language": "sos",
   "name": "sos"
  },
  "language_info": {
   "codemirror_mode": "sos",
   "file_extension": ".sos",
   "mimetype": "text/x-sos",
   "name": "sos",
   "nbconvert_exporter": "sos_notebook.converter.SoS_Exporter",
   "pygments_lexer": "sos"
  },
  "sos": {
   "kernels": [
    [
     "SoS",
     "sos",
     "",
     ""
    ]
   ],
   "version": "0.21.7"
  }
 },
 "nbformat": 4,
 "nbformat_minor": 4
}
