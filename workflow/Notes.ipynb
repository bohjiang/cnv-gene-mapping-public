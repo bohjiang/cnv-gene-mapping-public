{
 "cells": [
  {
   "cell_type": "markdown",
   "metadata": {
    "kernel": "SoS"
   },
   "source": [
    "# Notes"
   ]
  },
  {
   "cell_type": "markdown",
   "metadata": {
    "kernel": "SoS"
   },
   "source": [
    "## Track memory monitor\n",
    "github [page](https://github.com/gaow/misc/blob/master/monitor/monitor.py)\n",
    "\n",
    "python raw [script](https://raw.githubusercontent.com/gaow/misc/master/monitor/monitor.py), right click and save as `monitor.py`.\n",
    "\n",
    "### Usage example\n",
    "```\n",
    "python monitor.py python 20200515_pymc3_3genes_1effect.py\n",
    "```\n",
    "### Output 32GB memory (lupinus)\n",
    "genes=3,iteration=50000, chain=2, prop=0.1\n",
    "```\n",
    "Multiprocess sampling (2 chains in 2 jobs)\n",
    "CompoundStep\n",
    ">BinaryGibbsMetropolis: [xi]\n",
    ">NUTS: [alpha, beta]\n",
    "Sampling 2 chains, 0 divergences: 100%|█████████████████████████████████████████████████████████████████████████████████████████████████████████████████████████████████| 110000/110000 [44:50<00:00, 40.88draws/s]\n",
    "\n",
    "time elapsed: 2846.18s\n",
    "peak first occurred: 2845.66s\n",
    "peak last occurred: 2845.66s\n",
    "max vms_memory: 53.24GB\n",
    "max rss_memory: 31.15GB\n",
    "memory check interval: 1s\n",
    "return code: -9\n",
    "```\n",
    "### Output 64GB memory (mordata)\n",
    "genes=3,iteration=50000, chain=2, prop=0.1\n",
    "```\n",
    "gw@cordata:~/Downloads$ python monitor.py python 20200515_pymc3_3genes_1effect.py \n",
    "Multiprocess sampling (2 chains in 2 jobs)\n",
    "CompoundStep\n",
    ">BinaryGibbsMetropolis: [xi]\n",
    ">NUTS: [alpha, beta]\n",
    "Sampling 2 chains, 0 divergences: 100%|███████████████████████████████████████████████████████████████████████████████████████████████████████████████████████████████| 110000/110000 [2:29:35<00:00, 12.26draws/s]\n",
    "\n",
    "The number of effective samples is smaller than 25% for some parameters.\n",
    "time elapsed: 9910.20s\n",
    "peak first occurred: 9430.26s\n",
    "peak last occurred: 9907.63s\n",
    "max vms_memory: 55.35GB\n",
    "max rss_memory: 51.06GB\n",
    "memory check interval: 1s\n",
    "return code: 0\n",
    "```\n",
    "### Output 64GB memory\n",
    "genes=3,iteration=2000, chain=10, prop=0.25\n",
    "```\n",
    "Multiprocess sampling (10 chains in 10 jobs)\n",
    "CompoundStep\n",
    ">BinaryGibbsMetropolis: [xi]\n",
    ">NUTS: [alpha, beta]\n",
    "Sampling 10 chains, 0 divergences: 100%|██████████████████████████████████████████████████████████████████████████████████████████████████████████████████████████████████| 25000/25000 [35:22<00:00, 11.78draws/s]\n",
    "The number of effective samples is smaller than 25% for some parameters.\n",
    "\n",
    "time elapsed: 2307.22s\n",
    "peak first occurred: 9.20s\n",
    "peak last occurred: 1934.04s\n",
    "max vms_memory: 45.83GB\n",
    "max rss_memory: 4.71GB\n",
    "memory check interval: 1s\n",
    "return code: 0\n",
    "```"
   ]
  },
  {
   "cell_type": "markdown",
   "metadata": {
    "kernel": "SoS"
   },
   "source": [
    "## Notebook kernel\n",
    "If use `Python` the whole time, select python kernel instead of SoS kernel."
   ]
  },
  {
   "cell_type": "code",
   "execution_count": null,
   "metadata": {
    "kernel": "SoS"
   },
   "outputs": [],
   "source": []
  }
 ],
 "metadata": {
  "kernelspec": {
   "display_name": "SoS",
   "language": "sos",
   "name": "sos"
  },
  "language_info": {
   "codemirror_mode": "sos",
   "file_extension": ".sos",
   "mimetype": "text/x-sos",
   "name": "sos",
   "nbconvert_exporter": "sos_notebook.converter.SoS_Exporter",
   "pygments_lexer": "sos"
  },
  "sos": {
   "kernels": [
    [
     "SoS",
     "sos",
     "",
     ""
    ]
   ],
   "version": "0.21.7"
  }
 },
 "nbformat": 4,
 "nbformat_minor": 4
}
