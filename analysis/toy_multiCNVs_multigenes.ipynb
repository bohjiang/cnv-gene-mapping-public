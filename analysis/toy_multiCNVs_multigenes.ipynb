{
 "cells": [
  {
   "cell_type": "code",
   "execution_count": 1,
   "metadata": {
    "collapsed": true
   },
   "outputs": [],
   "source": [
    "import numpy as np\n",
    "import pandas as pd\n",
    "import feather\n",
    "from pandasql import sqldf\n",
    "from fisher import pvalue\n",
    "from scipy import stats\n",
    "from pprint import pprint"
   ]
  },
  {
   "cell_type": "code",
   "execution_count": 21,
   "metadata": {},
   "outputs": [],
   "source": [
    "def toy_multi_gene_cnv(p, n_cnv, n_max=10, causal=5, const=1, seed=1):\n",
    "    np.random.seed(seed)\n",
    "    cnv_len = np.random.choice((np.random.geometric(p, size=n_cnv) - 1), n_cnv, replace=False)\n",
    "    cnv_len = cnv_len[cnv_len <= 10].tolist()\n",
    "    start_pos = [np.random.choice(range(n_max+1-i)) if i!=0 else -1 for i in cnv_len]\n",
    "    ptn_ls = []\n",
    "    for j,i in enumerate(start_pos):\n",
    "        if i == -1:\n",
    "            ptn = [0]*n_max\n",
    "        elif i == 0:\n",
    "            ptn = [0]*(i-1) + [1]*cnv_len[j] + [0]*(n_max-cnv_len[j]-i)\n",
    "        else:\n",
    "            ptn = [0]*(i-1) + [1]*cnv_len[j] + [0]*(n_max-cnv_len[j]-(i-1))\n",
    "        ptn_ls.append(ptn)\n",
    "    mat = [[np.random.normal(0,1)] + line for line in ptn_ls]\n",
    "    config = []\n",
    "    for line in mat:\n",
    "#         config.append(line[0]+const) if line[causal-1] == 1 else config.append(line[0])\n",
    "        if line[causal] == 1:\n",
    "            line[0] = line[0] + const\n",
    "        config.append(line[0])\n",
    "\n",
    "#         line[0] = 1 if line[0] > np.median(config) else 0\n",
    "        if line[0] > np.median(config):\n",
    "            line[0] = 1\n",
    "        else:\n",
    "            line[0] = 0\n",
    "    mat = np.matrix(mat)\n",
    "    df = pd.DataFrame(mat, columns = [\"phenotype\"] + [\"gene{}\".format(i+1) for i in range(mat.shape[1]-1)])\n",
    "    counts = df.groupby([\"gene{}\".format(i+1) for i in range(mat.shape[1]-1)] + [\"phenotype\"]).size()\n",
    "    for col in df.columns:\n",
    "        df[col] = df[col].astype(np.uint8)\n",
    "    output = feather.write_dataframe(df, \"data/toy_n{}_p{}_causal{}.feather\".format(len(cnv_len), p, causal))\n",
    "    return df, counts"
   ]
  },
  {
   "cell_type": "code",
   "execution_count": 22,
   "metadata": {
    "scrolled": true
   },
   "outputs": [],
   "source": [
    "df, counts = toy_multi_gene_cnv(p=0.5, n_cnv=2000)\n",
    "# print (df[\"phenotype\"].tolist())"
   ]
  },
  {
   "cell_type": "code",
   "execution_count": 4,
   "metadata": {
    "scrolled": true
   },
   "outputs": [
    {
     "name": "stdout",
     "output_type": "stream",
     "text": [
      "199\n"
     ]
    }
   ],
   "source": [
    "p = 0.3\n",
    "n_cnv = 200\n",
    "n_max = 10\n",
    "const = 1\n",
    "seed = 9\n",
    "np.random.seed(seed)\n",
    "cnv_len = np.random.choice((np.random.geometric(p, size=n_cnv) - 1), n_cnv, replace=False)\n",
    "cnv_len = cnv_len[cnv_len <= 10].tolist()\n",
    "print (len(cnv_len))"
   ]
  },
  {
   "cell_type": "code",
   "execution_count": 5,
   "metadata": {
    "collapsed": true
   },
   "outputs": [],
   "source": [
    "start_pos = [np.random.choice(range(n_max+1-i)) if i!=0 else -1 for i in cnv_len]"
   ]
  },
  {
   "cell_type": "code",
   "execution_count": 6,
   "metadata": {
    "collapsed": true
   },
   "outputs": [],
   "source": [
    "ptn_ls = []\n",
    "for j,i in enumerate(start_pos):\n",
    "    if i == -1:\n",
    "        ptn = [0]*n_max\n",
    "    elif i == 0:\n",
    "        ptn = [0]*(i-1) + [1]*cnv_len[j] + [0]*(n_max-cnv_len[j]-i)\n",
    "    else:\n",
    "        ptn = [0]*(i-1) + [1]*cnv_len[j] + [0]*(n_max-cnv_len[j]-(i-1))\n",
    "    ptn_ls.append(ptn)"
   ]
  },
  {
   "cell_type": "code",
   "execution_count": 7,
   "metadata": {},
   "outputs": [
    {
     "name": "stdout",
     "output_type": "stream",
     "text": [
      "True\n"
     ]
    }
   ],
   "source": [
    "np.random.seed(seed)\n",
    "mat = [[np.random.normal(0,1)] + line for line in ptn_ls]\n",
    "mat_test = mat\n",
    "print (mat_test==mat)"
   ]
  },
  {
   "cell_type": "code",
   "execution_count": 8,
   "metadata": {
    "collapsed": true
   },
   "outputs": [],
   "source": [
    "config = []\n",
    "causal = 5\n",
    "const = 1\n",
    "for line in mat:\n",
    "###     config.append(line[0]+const) if line[causal-1] == 1 else config.append(line[0])\n",
    "    if line[causal-1] == 1:\n",
    "        line[0] = line[0] + const\n",
    "        config.append(line[0])\n",
    "    else:\n",
    "        config.append(line[0])\n",
    "    if line[0] > np.median(config):\n",
    "        line[0] = 1\n",
    "    else:\n",
    "        line[0] = 0\n",
    "#     line[0] = 1 if line[0] > np.median(config) else 0\n",
    "mat1 = np.matrix(mat)"
   ]
  },
  {
   "cell_type": "code",
   "execution_count": 9,
   "metadata": {
    "scrolled": true
   },
   "outputs": [
    {
     "name": "stdout",
     "output_type": "stream",
     "text": [
      "matrix([[0, 0, 0, ..., 0, 0, 0],\n",
      "        [0, 0, 0, ..., 1, 1, 0],\n",
      "        [0, 0, 0, ..., 0, 0, 0],\n",
      "        ..., \n",
      "        [0, 1, 1, ..., 0, 0, 0],\n",
      "        [0, 0, 0, ..., 0, 0, 0],\n",
      "        [1, 0, 0, ..., 0, 0, 0]])\n"
     ]
    }
   ],
   "source": [
    "pprint ((mat1))"
   ]
  },
  {
   "cell_type": "code",
   "execution_count": 10,
   "metadata": {
    "collapsed": true
   },
   "outputs": [],
   "source": [
    "for line in mat_test:\n",
    "    if line[causal-1] == 1:\n",
    "        line[0] = line[0] + const\n",
    "        config.append(line[0])\n",
    "    else:\n",
    "        config.append(line[0])\n",
    "    if line[0] > np.median(config):\n",
    "        line[0] = 1\n",
    "    else:\n",
    "        line[0] = 0\n",
    "mat2 = np.matrix(mat_test)"
   ]
  },
  {
   "cell_type": "code",
   "execution_count": null,
   "metadata": {
    "collapsed": true
   },
   "outputs": [],
   "source": []
  }
 ],
 "metadata": {
  "kernelspec": {
   "display_name": "Python 3",
   "language": "python",
   "name": "python3"
  },
  "language_info": {
   "codemirror_mode": {
    "name": "ipython",
    "version": 3
   },
   "file_extension": ".py",
   "mimetype": "text/x-python",
   "name": "python",
   "nbconvert_exporter": "python",
   "pygments_lexer": "ipython3",
   "version": "3.5.2"
  }
 },
 "nbformat": 4,
 "nbformat_minor": 2
}
