{
 "cells": [
  {
   "cell_type": "code",
   "execution_count": 1,
   "metadata": {
    "collapsed": true
   },
   "outputs": [],
   "source": [
    "library(feather)\n",
    "library(varbvs)"
   ]
  },
  {
   "cell_type": "code",
   "execution_count": 2,
   "metadata": {
    "collapsed": true
   },
   "outputs": [],
   "source": [
    "get_rds_toy <- function(datalist){\n",
    "    for (dat in datalist){\n",
    "        newdat = read_feather(dat)\n",
    "        newmatrix = matrix(as.double(unlist(newdat)), dim(newdat)[1], dim(newdat)[2])\n",
    "        colnames(newmatrix) = colnames(newdat)\n",
    "        newfit = varbvs(newmatrix[,-1], NULL, newmatrix[,1], family = \"binomial\", \n",
    "                        logodds = seq(-3.5,-1,0.1), sa = 1, verbose = F)\n",
    "        newfit$summary = summary(newfit)\n",
    "        newfit$w = normalizelogweights(newfit$logw)\n",
    "        newfit$pip = newfit$alpha %*% c(newfit$w)\n",
    "        filename = paste(dat, \".RDS\", sep=\"\")\n",
    "        saveRDS(newfit, filename)\n",
    "        return (newfit$summary$top.vars)\n",
    "    }\n",
    "}"
   ]
  },
  {
   "cell_type": "code",
   "execution_count": 8,
   "metadata": {},
   "outputs": [
    {
     "data": {
      "text/html": [
       "<table>\n",
       "<thead><tr><th scope=col>index</th><th scope=col>variable</th><th scope=col>prob</th><th scope=col>PVE</th><th scope=col>coef</th><th scope=col>Pr(coef.&gt;0.95)</th></tr></thead>\n",
       "<tbody>\n",
       "\t<tr><td> 5             </td><td>gene5          </td><td>0.79828990     </td><td>NA             </td><td>0.4930287      </td><td>[+0.226,+0.744]</td></tr>\n",
       "\t<tr><td>10             </td><td>gene10         </td><td>0.04038239     </td><td>NA             </td><td>0.0000000      </td><td>[-1.979,+1.897]</td></tr>\n",
       "\t<tr><td> 3             </td><td>gene3          </td><td>0.03480189     </td><td>NA             </td><td>0.2672213      </td><td>[-0.017,+0.517]</td></tr>\n",
       "\t<tr><td> 4             </td><td>gene4          </td><td>0.02158284     </td><td>NA             </td><td>0.2430121      </td><td>[-0.039,+0.541]</td></tr>\n",
       "\t<tr><td> 7             </td><td>gene7          </td><td>0.01608634     </td><td>NA             </td><td>0.2090865      </td><td>[-0.045,+0.490]</td></tr>\n",
       "</tbody>\n",
       "</table>\n"
      ],
      "text/latex": [
       "\\begin{tabular}{r|llllll}\n",
       " index & variable & prob & PVE & coef & Pr(coef.>0.95)\\\\\n",
       "\\hline\n",
       "\t  5                  & gene5               & 0.79828990          & NA                  & 0.4930287           & {[}+0.226,+0.744{]}\\\\\n",
       "\t 10                  & gene10              & 0.04038239          & NA                  & 0.0000000           & {[}-1.979,+1.897{]}\\\\\n",
       "\t  3                  & gene3               & 0.03480189          & NA                  & 0.2672213           & {[}-0.017,+0.517{]}\\\\\n",
       "\t  4                  & gene4               & 0.02158284          & NA                  & 0.2430121           & {[}-0.039,+0.541{]}\\\\\n",
       "\t  7                  & gene7               & 0.01608634          & NA                  & 0.2090865           & {[}-0.045,+0.490{]}\\\\\n",
       "\\end{tabular}\n"
      ],
      "text/markdown": [
       "\n",
       "index | variable | prob | PVE | coef | Pr(coef.>0.95) | \n",
       "|---|---|---|---|---|\n",
       "|  5              | gene5           | 0.79828990      | NA              | 0.4930287       | [+0.226,+0.744] | \n",
       "| 10              | gene10          | 0.04038239      | NA              | 0.0000000       | [-1.979,+1.897] | \n",
       "|  3              | gene3           | 0.03480189      | NA              | 0.2672213       | [-0.017,+0.517] | \n",
       "|  4              | gene4           | 0.02158284      | NA              | 0.2430121       | [-0.039,+0.541] | \n",
       "|  7              | gene7           | 0.01608634      | NA              | 0.2090865       | [-0.045,+0.490] | \n",
       "\n",
       "\n"
      ],
      "text/plain": [
       "  index variable prob       PVE coef      Pr(coef.>0.95) \n",
       "1  5    gene5    0.79828990 NA  0.4930287 [+0.226,+0.744]\n",
       "2 10    gene10   0.04038239 NA  0.0000000 [-1.979,+1.897]\n",
       "3  3    gene3    0.03480189 NA  0.2672213 [-0.017,+0.517]\n",
       "4  4    gene4    0.02158284 NA  0.2430121 [-0.039,+0.541]\n",
       "5  7    gene7    0.01608634 NA  0.2090865 [-0.045,+0.490]"
      ]
     },
     "metadata": {},
     "output_type": "display_data"
    }
   ],
   "source": [
    "# get_rds_toy(c(\"data/toy_n000_600_n100_100_n010_100_n001_100_n110_100_n011_100_n111_100.feather\"))\n",
    "get_rds_toy(c(\"data/toy_n2000_p0.5_causal5_const0.1_0.05.feather\"))"
   ]
  },
  {
   "cell_type": "code",
   "execution_count": null,
   "metadata": {
    "collapsed": true
   },
   "outputs": [],
   "source": []
  },
  {
   "cell_type": "code",
   "execution_count": null,
   "metadata": {
    "collapsed": true
   },
   "outputs": [],
   "source": []
  },
  {
   "cell_type": "code",
   "execution_count": 4,
   "metadata": {},
   "outputs": [
    {
     "name": "stdout",
     "output_type": "stream",
     "text": [
      "Summary of fitted Bayesian variable selection model:\n",
      "family:     binomial   num. hyperparameter settings: 26\n",
      "samples:    1250       iid variable selection prior: yes\n",
      "variables:  15         fit prior var. of coefs (sa): no\n",
      "covariates: 1          fit approx. factors (eta):    yes\n",
      "maximum log-likelihood lower bound: -786.2700\n",
      "Hyperparameters: \n",
      "        estimate Pr>0.95             candidate values\n",
      "sa            NA [NA,NA]             1--1\n",
      "logodds    -1.53 [-2.50,-1.00]       (-3.50)--(-1.00)\n",
      "Selected variables by probability cutoff:\n",
      ">0.10 >0.25 >0.50 >0.75 >0.90 >0.95 \n",
      "    1     1     1     1     1     1 \n",
      "Top 5 variables by inclusion probability:\n",
      "  index variable    prob PVE coef*  Pr(coef.>0.95)\n",
      "1     8     pos8 1.00000  NA 1.596 [+1.354,+1.839]\n",
      "2    13    pos13 0.00816  NA 0.115 [-0.119,+0.329]\n",
      "3    10    pos10 0.00802  NA 0.113 [-0.123,+0.349]\n",
      "4    11    pos11 0.00775  NA 0.109 [-0.109,+0.345]\n",
      "5    12    pos12 0.00752  NA 0.105 [-0.132,+0.329]\n",
      "*See help(varbvs) about interpreting coefficients in logistic regression.\n"
     ]
    },
    {
     "data": {
      "text/html": [
       "<ol class=list-inline>\n",
       "\t<li>'pos1'</li>\n",
       "\t<li>'pos2'</li>\n",
       "\t<li>'pos3'</li>\n",
       "\t<li>'pos4'</li>\n",
       "\t<li>'pos5'</li>\n",
       "\t<li>'pos6'</li>\n",
       "\t<li>'pos7'</li>\n",
       "\t<li>'pos8'</li>\n",
       "\t<li>'pos9'</li>\n",
       "\t<li>'pos10'</li>\n",
       "\t<li>'pos11'</li>\n",
       "\t<li>'pos12'</li>\n",
       "\t<li>'pos13'</li>\n",
       "\t<li>'pos14'</li>\n",
       "\t<li>'pos15'</li>\n",
       "</ol>\n"
      ],
      "text/latex": [
       "\\begin{enumerate*}\n",
       "\\item 'pos1'\n",
       "\\item 'pos2'\n",
       "\\item 'pos3'\n",
       "\\item 'pos4'\n",
       "\\item 'pos5'\n",
       "\\item 'pos6'\n",
       "\\item 'pos7'\n",
       "\\item 'pos8'\n",
       "\\item 'pos9'\n",
       "\\item 'pos10'\n",
       "\\item 'pos11'\n",
       "\\item 'pos12'\n",
       "\\item 'pos13'\n",
       "\\item 'pos14'\n",
       "\\item 'pos15'\n",
       "\\end{enumerate*}\n"
      ],
      "text/markdown": [
       "1. 'pos1'\n",
       "2. 'pos2'\n",
       "3. 'pos3'\n",
       "4. 'pos4'\n",
       "5. 'pos5'\n",
       "6. 'pos6'\n",
       "7. 'pos7'\n",
       "8. 'pos8'\n",
       "9. 'pos9'\n",
       "10. 'pos10'\n",
       "11. 'pos11'\n",
       "12. 'pos12'\n",
       "13. 'pos13'\n",
       "14. 'pos14'\n",
       "15. 'pos15'\n",
       "\n",
       "\n"
      ],
      "text/plain": [
       " [1] \"pos1\"  \"pos2\"  \"pos3\"  \"pos4\"  \"pos5\"  \"pos6\"  \"pos7\"  \"pos8\"  \"pos9\" \n",
       "[10] \"pos10\" \"pos11\" \"pos12\" \"pos13\" \"pos14\" \"pos15\""
      ]
     },
     "metadata": {},
     "output_type": "display_data"
    }
   ],
   "source": [
    "newdat = read_feather(\"data/toy_pos15_causal8_n1250.feather\")\n",
    "newmatrix = matrix(as.double(unlist(newdat)), dim(newdat)[1], dim(newdat)[2])\n",
    "colnames(newmatrix) = colnames(newdat)\n",
    "# print (dim(newdat)[1])\n",
    "newfit = varbvs(newmatrix[,-1], NULL, newmatrix[,1], family = \"binomial\", \n",
    "                logodds = seq(-3.5,-1,0.1), sa = 1, verbose = F)\n",
    "newfit$summary = summary(newfit)\n",
    "newfit$w = normalizelogweights(newfit$logw)\n",
    "newfit$pip = newfit$alpha %*% c(newfit$w)\n",
    "newfit$beta = newfit$mu %*% c(newfit$w)\n",
    "newfit$var_names = colnames(newdat[-1])\n",
    "print (summary(newfit))\n",
    "dimnames(newfit$pip)[[1]]"
   ]
  },
  {
   "cell_type": "code",
   "execution_count": null,
   "metadata": {
    "collapsed": true
   },
   "outputs": [],
   "source": []
  }
 ],
 "metadata": {
  "kernelspec": {
   "display_name": "R",
   "language": "R",
   "name": "ir"
  },
  "language_info": {
   "codemirror_mode": "r",
   "file_extension": ".r",
   "mimetype": "text/x-r-source",
   "name": "R",
   "pygments_lexer": "r",
   "version": "3.3.2"
  }
 },
 "nbformat": 4,
 "nbformat_minor": 2
}
