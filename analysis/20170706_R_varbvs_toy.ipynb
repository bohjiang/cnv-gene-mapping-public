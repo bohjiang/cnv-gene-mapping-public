{
 "cells": [
  {
   "cell_type": "markdown",
   "metadata": {},
   "source": [
    "# R: use package varbvs and feather to file to obtain .RDS file"
   ]
  },
  {
   "cell_type": "code",
   "execution_count": 1,
   "metadata": {
    "collapsed": true,
    "kernel": "R"
   },
   "outputs": [],
   "source": [
    "library(feather)\n",
    "library(varbvs)"
   ]
  },
  {
   "cell_type": "code",
   "execution_count": 3,
   "metadata": {
    "collapsed": true,
    "kernel": "R"
   },
   "outputs": [],
   "source": [
    "get_rds_toy <- function(datalist){\n",
    "    for (dat in datalist){\n",
    "        newdat = read_feather(dat)\n",
    "        newmatrix = matrix(as.double(unlist(newdat)), dim(newdat)[1], dim(newdat)[2])\n",
    "        colnames(newmatrix) = colnames(newdat)\n",
    "        newfit = varbvs(newmatrix[,-1], NULL, newmatrix[,1], family = \"binomial\", \n",
    "                        logodds = seq(-3.5,-1,0.1), sa = 1, verbose = F)\n",
    "        newfit$summary = summary(newfit)\n",
    "        newfit$w = normalizelogweights(newfit$logw)\n",
    "        newfit$pip = newfit$alpha %*% c(newfit$w)\n",
    "        filename = paste(dat, \".RDS\", sep=\"\")\n",
    "        saveRDS(newfit, filename)\n",
    "        return (newfit$summary$top.vars)\n",
    "    }\n",
    "}"
   ]
  },
  {
   "cell_type": "code",
   "execution_count": 10,
   "metadata": {
    "kernel": "R"
   },
   "outputs": [
    {
     "data": {
      "text/html": [
       "<table>\n",
       "<thead><tr><th scope=col>index</th><th scope=col>variable</th><th scope=col>prob</th><th scope=col>PVE</th><th scope=col>coef</th><th scope=col>Pr(coef.&gt;0.95)</th></tr></thead>\n",
       "<tbody>\n",
       "\t<tr><td>18563          </td><td>BDH1           </td><td>0.01937443     </td><td>NA             </td><td> 1.3918208     </td><td>[+0.322,+2.527]</td></tr>\n",
       "\t<tr><td>18744          </td><td>DLG1           </td><td>0.01918658     </td><td>NA             </td><td> 1.3900386     </td><td>[+0.268,+2.525]</td></tr>\n",
       "\t<tr><td>12843          </td><td>MBD3L2         </td><td>0.01451590     </td><td>NA             </td><td>-0.7548205     </td><td>[-1.319,-0.146]</td></tr>\n",
       "\t<tr><td>12844          </td><td>MBD3L3         </td><td>0.01451317     </td><td>NA             </td><td>-0.7548138     </td><td>[-1.353,-0.234]</td></tr>\n",
       "\t<tr><td>12845          </td><td>MBD3L4         </td><td>0.01451019     </td><td>NA             </td><td>-0.7548067     </td><td>[-1.354,-0.177]</td></tr>\n",
       "</tbody>\n",
       "</table>\n"
      ],
      "text/latex": [
       "\\begin{tabular}{r|llllll}\n",
       " index & variable & prob & PVE & coef & Pr(coef.>0.95)\\\\\n",
       "\\hline\n",
       "\t 18563               & BDH1                & 0.01937443          & NA                  &  1.3918208          & {[}+0.322,+2.527{]}\\\\\n",
       "\t 18744               & DLG1                & 0.01918658          & NA                  &  1.3900386          & {[}+0.268,+2.525{]}\\\\\n",
       "\t 12843               & MBD3L2              & 0.01451590          & NA                  & -0.7548205          & {[}-1.319,-0.146{]}\\\\\n",
       "\t 12844               & MBD3L3              & 0.01451317          & NA                  & -0.7548138          & {[}-1.353,-0.234{]}\\\\\n",
       "\t 12845               & MBD3L4              & 0.01451019          & NA                  & -0.7548067          & {[}-1.354,-0.177{]}\\\\\n",
       "\\end{tabular}\n"
      ],
      "text/markdown": [
       "\n",
       "index | variable | prob | PVE | coef | Pr(coef.>0.95) | \n",
       "|---|---|---|---|---|\n",
       "| 18563           | BDH1            | 0.01937443      | NA              |  1.3918208      | [+0.322,+2.527] | \n",
       "| 18744           | DLG1            | 0.01918658      | NA              |  1.3900386      | [+0.268,+2.525] | \n",
       "| 12843           | MBD3L2          | 0.01451590      | NA              | -0.7548205      | [-1.319,-0.146] | \n",
       "| 12844           | MBD3L3          | 0.01451317      | NA              | -0.7548138      | [-1.353,-0.234] | \n",
       "| 12845           | MBD3L4          | 0.01451019      | NA              | -0.7548067      | [-1.354,-0.177] | \n",
       "\n",
       "\n"
      ],
      "text/plain": [
       "  index variable prob       PVE coef       Pr(coef.>0.95) \n",
       "1 18563 BDH1     0.01937443 NA   1.3918208 [+0.322,+2.527]\n",
       "2 18744 DLG1     0.01918658 NA   1.3900386 [+0.268,+2.525]\n",
       "3 12843 MBD3L2   0.01451590 NA  -0.7548205 [-1.319,-0.146]\n",
       "4 12844 MBD3L3   0.01451317 NA  -0.7548138 [-1.353,-0.234]\n",
       "5 12845 MBD3L4   0.01451019 NA  -0.7548067 [-1.354,-0.177]"
      ]
     },
     "metadata": {},
     "output_type": "display_data"
    }
   ],
   "source": [
    "get_rds_toy(c(\"data/Sweden_cnv_gene_overlap_config.feather\"))"
   ]
  },
  {
   "cell_type": "code",
   "execution_count": 4,
   "metadata": {
    "kernel": "R"
   },
   "outputs": [
    {
     "data": {
      "text/html": [
       "<table>\n",
       "<thead><tr><th scope=col>index</th><th scope=col>variable</th><th scope=col>prob</th><th scope=col>PVE</th><th scope=col>coef</th><th scope=col>Pr(coef.&gt;0.95)</th></tr></thead>\n",
       "<tbody>\n",
       "\t<tr><td>4738           </td><td>BDH1           </td><td>0.01937443     </td><td>NA             </td><td> 1.3918208     </td><td>[+0.302,+2.429]</td></tr>\n",
       "\t<tr><td>4774           </td><td>DLG1           </td><td>0.01918657     </td><td>NA             </td><td> 1.3900386     </td><td>[+0.213,+2.404]</td></tr>\n",
       "\t<tr><td>3335           </td><td>MBD3L2         </td><td>0.01451590     </td><td>NA             </td><td>-0.7548205     </td><td>[-1.314,-0.200]</td></tr>\n",
       "\t<tr><td>3336           </td><td>MBD3L3         </td><td>0.01451317     </td><td>NA             </td><td>-0.7548138     </td><td>[-1.294,-0.158]</td></tr>\n",
       "\t<tr><td>3337           </td><td>MBD3L4         </td><td>0.01451019     </td><td>NA             </td><td>-0.7548067     </td><td>[-1.280,-0.165]</td></tr>\n",
       "</tbody>\n",
       "</table>\n"
      ],
      "text/latex": [
       "\\begin{tabular}{r|llllll}\n",
       " index & variable & prob & PVE & coef & Pr(coef.>0.95)\\\\\n",
       "\\hline\n",
       "\t 4738                & BDH1                & 0.01937443          & NA                  &  1.3918208          & {[}+0.302,+2.429{]}\\\\\n",
       "\t 4774                & DLG1                & 0.01918657          & NA                  &  1.3900386          & {[}+0.213,+2.404{]}\\\\\n",
       "\t 3335                & MBD3L2              & 0.01451590          & NA                  & -0.7548205          & {[}-1.314,-0.200{]}\\\\\n",
       "\t 3336                & MBD3L3              & 0.01451317          & NA                  & -0.7548138          & {[}-1.294,-0.158{]}\\\\\n",
       "\t 3337                & MBD3L4              & 0.01451019          & NA                  & -0.7548067          & {[}-1.280,-0.165{]}\\\\\n",
       "\\end{tabular}\n"
      ],
      "text/markdown": [
       "\n",
       "index | variable | prob | PVE | coef | Pr(coef.>0.95) | \n",
       "|---|---|---|---|---|\n",
       "| 4738            | BDH1            | 0.01937443      | NA              |  1.3918208      | [+0.302,+2.429] | \n",
       "| 4774            | DLG1            | 0.01918657      | NA              |  1.3900386      | [+0.213,+2.404] | \n",
       "| 3335            | MBD3L2          | 0.01451590      | NA              | -0.7548205      | [-1.314,-0.200] | \n",
       "| 3336            | MBD3L3          | 0.01451317      | NA              | -0.7548138      | [-1.294,-0.158] | \n",
       "| 3337            | MBD3L4          | 0.01451019      | NA              | -0.7548067      | [-1.280,-0.165] | \n",
       "\n",
       "\n"
      ],
      "text/plain": [
       "  index variable prob       PVE coef       Pr(coef.>0.95) \n",
       "1 4738  BDH1     0.01937443 NA   1.3918208 [+0.302,+2.429]\n",
       "2 4774  DLG1     0.01918657 NA   1.3900386 [+0.213,+2.404]\n",
       "3 3335  MBD3L2   0.01451590 NA  -0.7548205 [-1.314,-0.200]\n",
       "4 3336  MBD3L3   0.01451317 NA  -0.7548138 [-1.294,-0.158]\n",
       "5 3337  MBD3L4   0.01451019 NA  -0.7548067 [-1.280,-0.165]"
      ]
     },
     "metadata": {},
     "output_type": "display_data"
    }
   ],
   "source": [
    "# get_rds_toy(c(\"data/toy_n000_600_n100_100_n010_100_n001_100_n110_100_n011_100_n111_100.feather\"))\n",
    "get_rds_toy(c(\"data/Sweden_genes_overlap_cnv.feather\"))"
   ]
  },
  {
   "cell_type": "code",
   "execution_count": 4,
   "metadata": {
    "kernel": "R"
   },
   "outputs": [
    {
     "name": "stdout",
     "output_type": "stream",
     "text": [
      "Summary of fitted Bayesian variable selection model:\n",
      "family:     binomial   num. hyperparameter settings: 26\n",
      "samples:    1250       iid variable selection prior: yes\n",
      "variables:  15         fit prior var. of coefs (sa): no\n",
      "covariates: 1          fit approx. factors (eta):    yes\n",
      "maximum log-likelihood lower bound: -786.2700\n",
      "Hyperparameters: \n",
      "        estimate Pr>0.95             candidate values\n",
      "sa            NA [NA,NA]             1--1\n",
      "logodds    -1.53 [-2.50,-1.00]       (-3.50)--(-1.00)\n",
      "Selected variables by probability cutoff:\n",
      ">0.10 >0.25 >0.50 >0.75 >0.90 >0.95 \n",
      "    1     1     1     1     1     1 \n",
      "Top 5 variables by inclusion probability:\n",
      "  index variable    prob PVE coef*  Pr(coef.>0.95)\n",
      "1     8     pos8 1.00000  NA 1.596 [+1.368,+1.820]\n",
      "2    13    pos13 0.00816  NA 0.115 [-0.103,+0.351]\n",
      "3    10    pos10 0.00802  NA 0.113 [-0.114,+0.347]\n",
      "4    11    pos11 0.00775  NA 0.109 [-0.119,+0.331]\n",
      "5    12    pos12 0.00752  NA 0.105 [-0.125,+0.326]\n",
      "*See help(varbvs) about interpreting coefficients in logistic regression.\n"
     ]
    },
    {
     "data": {
      "text/html": [
       "<ol class=list-inline>\n",
       "\t<li>'pos1'</li>\n",
       "\t<li>'pos2'</li>\n",
       "\t<li>'pos3'</li>\n",
       "\t<li>'pos4'</li>\n",
       "\t<li>'pos5'</li>\n",
       "\t<li>'pos6'</li>\n",
       "\t<li>'pos7'</li>\n",
       "\t<li>'pos8'</li>\n",
       "\t<li>'pos9'</li>\n",
       "\t<li>'pos10'</li>\n",
       "\t<li>'pos11'</li>\n",
       "\t<li>'pos12'</li>\n",
       "\t<li>'pos13'</li>\n",
       "\t<li>'pos14'</li>\n",
       "\t<li>'pos15'</li>\n",
       "</ol>\n"
      ],
      "text/latex": [
       "\\begin{enumerate*}\n",
       "\\item 'pos1'\n",
       "\\item 'pos2'\n",
       "\\item 'pos3'\n",
       "\\item 'pos4'\n",
       "\\item 'pos5'\n",
       "\\item 'pos6'\n",
       "\\item 'pos7'\n",
       "\\item 'pos8'\n",
       "\\item 'pos9'\n",
       "\\item 'pos10'\n",
       "\\item 'pos11'\n",
       "\\item 'pos12'\n",
       "\\item 'pos13'\n",
       "\\item 'pos14'\n",
       "\\item 'pos15'\n",
       "\\end{enumerate*}\n"
      ],
      "text/markdown": [
       "1. 'pos1'\n",
       "2. 'pos2'\n",
       "3. 'pos3'\n",
       "4. 'pos4'\n",
       "5. 'pos5'\n",
       "6. 'pos6'\n",
       "7. 'pos7'\n",
       "8. 'pos8'\n",
       "9. 'pos9'\n",
       "10. 'pos10'\n",
       "11. 'pos11'\n",
       "12. 'pos12'\n",
       "13. 'pos13'\n",
       "14. 'pos14'\n",
       "15. 'pos15'\n",
       "\n",
       "\n"
      ],
      "text/plain": [
       " [1] \"pos1\"  \"pos2\"  \"pos3\"  \"pos4\"  \"pos5\"  \"pos6\"  \"pos7\"  \"pos8\"  \"pos9\" \n",
       "[10] \"pos10\" \"pos11\" \"pos12\" \"pos13\" \"pos14\" \"pos15\""
      ]
     },
     "metadata": {},
     "output_type": "display_data"
    }
   ],
   "source": [
    "newdat = read_feather(\"data/toy_pos15_causal8_n1250.feather\")\n",
    "newmatrix = matrix(as.double(unlist(newdat)), dim(newdat)[1], dim(newdat)[2])\n",
    "colnames(newmatrix) = colnames(newdat)\n",
    "# print (dim(newdat)[1])\n",
    "newfit = varbvs(newmatrix[,-1], NULL, newmatrix[,1], family = \"binomial\", \n",
    "                logodds = seq(-3.5,-1,0.1), sa = 1, verbose = F)\n",
    "newfit$summary = summary(newfit)\n",
    "newfit$w = normalizelogweights(newfit$logw)\n",
    "newfit$pip = newfit$alpha %*% c(newfit$w)\n",
    "newfit$beta = newfit$mu %*% c(newfit$w)\n",
    "newfit$var_names = colnames(newdat[-1])\n",
    "print (summary(newfit))\n",
    "dimnames(newfit$pip)[[1]]"
   ]
  }
 ],
 "metadata": {
  "kernelspec": {
   "display_name": "SoS",
   "language": "sos",
   "name": "sos"
  },
  "language_info": {
   "codemirror_mode": "sos",
   "file_extension": ".sos",
   "mimetype": "text/x-sos",
   "name": "sos",
   "nbconvert_exporter": "sos.jupyter.converter.SoS_Exporter",
   "pygments_lexer": "sos"
  },
  "sos": {
   "default_kernel": "R",
   "kernels": [
    [
     "R",
     "ir",
     "R",
     "#DCDCDA"
    ],
    [
     "SoS",
     "sos",
     "",
     ""
    ],
    [
     "Python3",
     "python3",
     "Python3",
     "#EAFAF1"
    ]
   ],
   "panel": {
    "displayed": false,
    "height": 0,
    "style": "side"
   }
  }
 },
 "nbformat": 4,
 "nbformat_minor": 2
}
