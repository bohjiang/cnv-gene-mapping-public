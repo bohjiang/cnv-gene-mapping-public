{
 "cells": [
  {
   "cell_type": "markdown",
   "metadata": {
    "kernel": "SoS"
   },
   "source": [
    "# Regional PIP of logit"
   ]
  },
  {
   "cell_type": "code",
   "execution_count": null,
   "metadata": {
    "kernel": "SoS"
   },
   "outputs": [],
   "source": [
    "import numpy as np, pandas as pd\n",
    "import os\n",
    "from dsc.dsc_io import load_rds\n",
    "cwd = os.path.expanduser(\"/home/min/GIT/cnv-gene-mapping/data/deletion_simu_30_shape0.777_scale0.843\")"
   ]
  },
  {
   "cell_type": "code",
   "execution_count": 2,
   "metadata": {
    "kernel": "SoS"
   },
   "outputs": [],
   "source": [
    "pips = load_rds(f\"{cwd}/deletion.genes.block30.for_simu.binomial.whole.genome.prior.varbvs.updateb0.rds\")[\"pip\"]"
   ]
  },
  {
   "cell_type": "code",
   "execution_count": 3,
   "metadata": {
    "kernel": "SoS"
   },
   "outputs": [
    {
     "data": {
      "text/plain": [
       "22356"
      ]
     },
     "execution_count": 3,
     "metadata": {},
     "output_type": "execute_result"
    }
   ],
   "source": [
    "len(pips)"
   ]
  },
  {
   "cell_type": "code",
   "execution_count": 4,
   "metadata": {
    "kernel": "SoS"
   },
   "outputs": [],
   "source": [
    "index = pd.read_csv(f\"{cwd}/deletion.genes.block30.for_simu.sample.combined.block1.index.csv\", sep = \"\\t\", header = None, names = [\"start\", \"end\"])"
   ]
  },
  {
   "cell_type": "code",
   "execution_count": 5,
   "metadata": {
    "kernel": "SoS"
   },
   "outputs": [],
   "source": [
    "index2 = pd.read_csv(f\"{cwd}/deletion.genes.block30.for_simu.sample.combined.block1.forsimu.index.csv\", sep = \"\\t\", header = None, names = [\"start\", \"end\"])"
   ]
  },
  {
   "cell_type": "code",
   "execution_count": 6,
   "metadata": {
    "kernel": "SoS"
   },
   "outputs": [],
   "source": [
    "pips_block = list()\n",
    "for idx, item in index2.iterrows():\n",
    "     pips_block.append(sum(pips[item[0]:item[1]+1]))"
   ]
  },
  {
   "cell_type": "code",
   "execution_count": 7,
   "metadata": {
    "kernel": "SoS"
   },
   "outputs": [],
   "source": [
    "index[\"sumpip\"] = pips_block"
   ]
  },
  {
   "cell_type": "code",
   "execution_count": 8,
   "metadata": {
    "kernel": "SoS"
   },
   "outputs": [],
   "source": [
    "index[\"sumpip2\"] = index.apply(lambda x: 1 if x[\"sumpip\"] > 1 else x[\"sumpip\"], axis = 1)"
   ]
  },
  {
   "cell_type": "code",
   "execution_count": 9,
   "metadata": {
    "kernel": "SoS"
   },
   "outputs": [
    {
     "data": {
      "text/html": [
       "<div>\n",
       "<style scoped>\n",
       "    .dataframe tbody tr th:only-of-type {\n",
       "        vertical-align: middle;\n",
       "    }\n",
       "\n",
       "    .dataframe tbody tr th {\n",
       "        vertical-align: top;\n",
       "    }\n",
       "\n",
       "    .dataframe thead th {\n",
       "        text-align: right;\n",
       "    }\n",
       "</style>\n",
       "<table border=\"1\" class=\"dataframe\">\n",
       "  <thead>\n",
       "    <tr style=\"text-align: right;\">\n",
       "      <th></th>\n",
       "      <th>start</th>\n",
       "      <th>end</th>\n",
       "      <th>sumpip</th>\n",
       "      <th>sumpip2</th>\n",
       "    </tr>\n",
       "  </thead>\n",
       "  <tbody>\n",
       "    <tr>\n",
       "      <th>0</th>\n",
       "      <td>0</td>\n",
       "      <td>7</td>\n",
       "      <td>0.120292</td>\n",
       "      <td>0.120292</td>\n",
       "    </tr>\n",
       "    <tr>\n",
       "      <th>1</th>\n",
       "      <td>8</td>\n",
       "      <td>17</td>\n",
       "      <td>0.150364</td>\n",
       "      <td>0.150364</td>\n",
       "    </tr>\n",
       "    <tr>\n",
       "      <th>2</th>\n",
       "      <td>18</td>\n",
       "      <td>22</td>\n",
       "      <td>0.123744</td>\n",
       "      <td>0.123744</td>\n",
       "    </tr>\n",
       "    <tr>\n",
       "      <th>3</th>\n",
       "      <td>23</td>\n",
       "      <td>36</td>\n",
       "      <td>0.699548</td>\n",
       "      <td>0.699548</td>\n",
       "    </tr>\n",
       "    <tr>\n",
       "      <th>4</th>\n",
       "      <td>37</td>\n",
       "      <td>44</td>\n",
       "      <td>0.101835</td>\n",
       "      <td>0.101835</td>\n",
       "    </tr>\n",
       "  </tbody>\n",
       "</table>\n",
       "</div>"
      ],
      "text/plain": [
       "   start  end    sumpip   sumpip2\n",
       "0      0    7  0.120292  0.120292\n",
       "1      8   17  0.150364  0.150364\n",
       "2     18   22  0.123744  0.123744\n",
       "3     23   36  0.699548  0.699548\n",
       "4     37   44  0.101835  0.101835"
      ]
     },
     "execution_count": 9,
     "metadata": {},
     "output_type": "execute_result"
    }
   ],
   "source": [
    "index.head()"
   ]
  },
  {
   "cell_type": "code",
   "execution_count": 10,
   "metadata": {
    "kernel": "SoS"
   },
   "outputs": [
    {
     "data": {
      "text/plain": [
       "(528, 4)"
      ]
     },
     "execution_count": 10,
     "metadata": {},
     "output_type": "execute_result"
    }
   ],
   "source": [
    "index.shape"
   ]
  },
  {
   "cell_type": "code",
   "execution_count": 11,
   "metadata": {
    "kernel": "SoS"
   },
   "outputs": [],
   "source": [
    "logit = pd.read_csv(f\"{cwd}/deletion.genes.block30.for_simu.sample.combined.genes.logit.all.blocks.pip.csv\", header = None, names = [\"pip\"])"
   ]
  },
  {
   "cell_type": "code",
   "execution_count": 12,
   "metadata": {
    "kernel": "SoS"
   },
   "outputs": [
    {
     "data": {
      "text/plain": [
       "(2290, 1)"
      ]
     },
     "execution_count": 12,
     "metadata": {},
     "output_type": "execute_result"
    }
   ],
   "source": [
    "logit.shape"
   ]
  },
  {
   "cell_type": "markdown",
   "metadata": {
    "kernel": "SoS"
   },
   "source": [
    "## logit PIP multiply by regional PIP (max 1) in whole genome varbvs"
   ]
  },
  {
   "cell_type": "code",
   "execution_count": 17,
   "metadata": {
    "kernel": "SoS"
   },
   "outputs": [],
   "source": [
    "multiplier = [[item[3]]*int(item[1]-item[0]+1) for idx, item in index.iterrows()]"
   ]
  },
  {
   "cell_type": "code",
   "execution_count": 14,
   "metadata": {
    "kernel": "SoS"
   },
   "outputs": [],
   "source": [
    "multiplier = [i for x in multiplier for i in x]"
   ]
  },
  {
   "cell_type": "code",
   "execution_count": 15,
   "metadata": {
    "kernel": "SoS"
   },
   "outputs": [],
   "source": [
    "logit[\"multiplier\"] = multiplier"
   ]
  },
  {
   "cell_type": "code",
   "execution_count": 22,
   "metadata": {
    "kernel": "SoS"
   },
   "outputs": [
    {
     "data": {
      "text/html": [
       "<div class=\"sos_logging sos_info\">INFO: NumExpr defaulting to 8 threads.</div>"
      ]
     },
     "metadata": {},
     "output_type": "display_data"
    }
   ],
   "source": [
    "logit[\"pip2\"] = logit[\"pip\"] * logit[\"multiplier\"]"
   ]
  },
  {
   "cell_type": "code",
   "execution_count": 98,
   "metadata": {
    "kernel": "SoS"
   },
   "outputs": [],
   "source": [
    "logit[[\"pip2\"]].to_csv(f\"{cwd}/deletion.genes.block30.for_simu.sample.combined.genes.logit.all.blocks.pip.regional.csv\", sep = \"\\t\", header = False, index = False)"
   ]
  },
  {
   "cell_type": "markdown",
   "metadata": {
    "kernel": "SoS"
   },
   "source": [
    "## logit PIP multiply by regional PIP (no max) in whole genome varbvs"
   ]
  },
  {
   "cell_type": "code",
   "execution_count": 18,
   "metadata": {
    "kernel": "SoS"
   },
   "outputs": [],
   "source": [
    "multiplier2 = [[item[2]]*int(item[1]-item[0]+1) for idx, item in index.iterrows()]"
   ]
  },
  {
   "cell_type": "code",
   "execution_count": 19,
   "metadata": {
    "kernel": "SoS"
   },
   "outputs": [],
   "source": [
    "multiplier2 = [i for x in multiplier2 for i in x]"
   ]
  },
  {
   "cell_type": "code",
   "execution_count": 20,
   "metadata": {
    "kernel": "SoS"
   },
   "outputs": [],
   "source": [
    "logit[\"multiplier2\"] = multiplier2"
   ]
  },
  {
   "cell_type": "code",
   "execution_count": 24,
   "metadata": {
    "kernel": "SoS"
   },
   "outputs": [],
   "source": [
    "logit[\"pip3\"] = logit[\"pip\"] * logit[\"multiplier2\"]"
   ]
  },
  {
   "cell_type": "code",
   "execution_count": 29,
   "metadata": {
    "kernel": "SoS"
   },
   "outputs": [],
   "source": [
    "logit[\"pip3\"] = logit.apply(lambda x: 1 if x[\"pip3\"] > 1 else x[\"pip3\"], axis = 1)"
   ]
  },
  {
   "cell_type": "code",
   "execution_count": 31,
   "metadata": {
    "kernel": "SoS"
   },
   "outputs": [
    {
     "data": {
      "text/html": [
       "<div>\n",
       "<style scoped>\n",
       "    .dataframe tbody tr th:only-of-type {\n",
       "        vertical-align: middle;\n",
       "    }\n",
       "\n",
       "    .dataframe tbody tr th {\n",
       "        vertical-align: top;\n",
       "    }\n",
       "\n",
       "    .dataframe thead th {\n",
       "        text-align: right;\n",
       "    }\n",
       "</style>\n",
       "<table border=\"1\" class=\"dataframe\">\n",
       "  <thead>\n",
       "    <tr style=\"text-align: right;\">\n",
       "      <th></th>\n",
       "      <th>pip</th>\n",
       "      <th>multiplier</th>\n",
       "      <th>multiplier2</th>\n",
       "      <th>pip2</th>\n",
       "      <th>pip3</th>\n",
       "    </tr>\n",
       "  </thead>\n",
       "  <tbody>\n",
       "    <tr>\n",
       "      <th>0</th>\n",
       "      <td>0.125</td>\n",
       "      <td>0.120292</td>\n",
       "      <td>0.120292</td>\n",
       "      <td>0.015036</td>\n",
       "      <td>0.015036</td>\n",
       "    </tr>\n",
       "    <tr>\n",
       "      <th>1</th>\n",
       "      <td>0.125</td>\n",
       "      <td>0.120292</td>\n",
       "      <td>0.120292</td>\n",
       "      <td>0.015036</td>\n",
       "      <td>0.015036</td>\n",
       "    </tr>\n",
       "    <tr>\n",
       "      <th>2</th>\n",
       "      <td>0.125</td>\n",
       "      <td>0.120292</td>\n",
       "      <td>0.120292</td>\n",
       "      <td>0.015036</td>\n",
       "      <td>0.015036</td>\n",
       "    </tr>\n",
       "    <tr>\n",
       "      <th>3</th>\n",
       "      <td>0.125</td>\n",
       "      <td>0.120292</td>\n",
       "      <td>0.120292</td>\n",
       "      <td>0.015036</td>\n",
       "      <td>0.015036</td>\n",
       "    </tr>\n",
       "    <tr>\n",
       "      <th>4</th>\n",
       "      <td>0.125</td>\n",
       "      <td>0.120292</td>\n",
       "      <td>0.120292</td>\n",
       "      <td>0.015036</td>\n",
       "      <td>0.015036</td>\n",
       "    </tr>\n",
       "  </tbody>\n",
       "</table>\n",
       "</div>"
      ],
      "text/plain": [
       "     pip  multiplier  multiplier2      pip2      pip3\n",
       "0  0.125    0.120292     0.120292  0.015036  0.015036\n",
       "1  0.125    0.120292     0.120292  0.015036  0.015036\n",
       "2  0.125    0.120292     0.120292  0.015036  0.015036\n",
       "3  0.125    0.120292     0.120292  0.015036  0.015036\n",
       "4  0.125    0.120292     0.120292  0.015036  0.015036"
      ]
     },
     "execution_count": 31,
     "metadata": {},
     "output_type": "execute_result"
    }
   ],
   "source": [
    "logit.head()"
   ]
  },
  {
   "cell_type": "code",
   "execution_count": 32,
   "metadata": {
    "kernel": "SoS"
   },
   "outputs": [
    {
     "data": {
      "text/html": [
       "<div>\n",
       "<style scoped>\n",
       "    .dataframe tbody tr th:only-of-type {\n",
       "        vertical-align: middle;\n",
       "    }\n",
       "\n",
       "    .dataframe tbody tr th {\n",
       "        vertical-align: top;\n",
       "    }\n",
       "\n",
       "    .dataframe thead th {\n",
       "        text-align: right;\n",
       "    }\n",
       "</style>\n",
       "<table border=\"1\" class=\"dataframe\">\n",
       "  <thead>\n",
       "    <tr style=\"text-align: right;\">\n",
       "      <th></th>\n",
       "      <th>pip</th>\n",
       "      <th>multiplier</th>\n",
       "      <th>multiplier2</th>\n",
       "      <th>pip2</th>\n",
       "      <th>pip3</th>\n",
       "    </tr>\n",
       "  </thead>\n",
       "  <tbody>\n",
       "    <tr>\n",
       "      <th>2285</th>\n",
       "      <td>0.008967</td>\n",
       "      <td>0.930453</td>\n",
       "      <td>0.930453</td>\n",
       "      <td>0.008343</td>\n",
       "      <td>0.008343</td>\n",
       "    </tr>\n",
       "    <tr>\n",
       "      <th>2286</th>\n",
       "      <td>0.059251</td>\n",
       "      <td>0.930453</td>\n",
       "      <td>0.930453</td>\n",
       "      <td>0.055131</td>\n",
       "      <td>0.055131</td>\n",
       "    </tr>\n",
       "    <tr>\n",
       "      <th>2287</th>\n",
       "      <td>0.059251</td>\n",
       "      <td>0.930453</td>\n",
       "      <td>0.930453</td>\n",
       "      <td>0.055131</td>\n",
       "      <td>0.055131</td>\n",
       "    </tr>\n",
       "    <tr>\n",
       "      <th>2288</th>\n",
       "      <td>0.059251</td>\n",
       "      <td>0.930453</td>\n",
       "      <td>0.930453</td>\n",
       "      <td>0.055131</td>\n",
       "      <td>0.055131</td>\n",
       "    </tr>\n",
       "    <tr>\n",
       "      <th>2289</th>\n",
       "      <td>0.059251</td>\n",
       "      <td>0.930453</td>\n",
       "      <td>0.930453</td>\n",
       "      <td>0.055131</td>\n",
       "      <td>0.055131</td>\n",
       "    </tr>\n",
       "  </tbody>\n",
       "</table>\n",
       "</div>"
      ],
      "text/plain": [
       "           pip  multiplier  multiplier2      pip2      pip3\n",
       "2285  0.008967    0.930453     0.930453  0.008343  0.008343\n",
       "2286  0.059251    0.930453     0.930453  0.055131  0.055131\n",
       "2287  0.059251    0.930453     0.930453  0.055131  0.055131\n",
       "2288  0.059251    0.930453     0.930453  0.055131  0.055131\n",
       "2289  0.059251    0.930453     0.930453  0.055131  0.055131"
      ]
     },
     "execution_count": 32,
     "metadata": {},
     "output_type": "execute_result"
    }
   ],
   "source": [
    "logit.tail()"
   ]
  },
  {
   "cell_type": "code",
   "execution_count": 33,
   "metadata": {
    "kernel": "SoS"
   },
   "outputs": [],
   "source": [
    "logit[[\"pip3\"]].to_csv(f\"{cwd}/deletion.genes.block30.for_simu.sample.combined.genes.logit.all.blocks.pip.regional.notruncated.csv\", sep = \"\\t\", header = False, index = False)"
   ]
  },
  {
   "cell_type": "code",
   "execution_count": null,
   "metadata": {
    "kernel": "SoS"
   },
   "outputs": [],
   "source": []
  }
 ],
 "metadata": {
  "kernelspec": {
   "display_name": "SoS",
   "language": "sos",
   "name": "sos"
  },
  "language_info": {
   "codemirror_mode": "sos",
   "file_extension": ".sos",
   "mimetype": "text/x-sos",
   "name": "sos",
   "nbconvert_exporter": "sos_notebook.converter.SoS_Exporter",
   "pygments_lexer": "sos"
  },
  "sos": {
   "kernels": [
    [
     "SoS",
     "sos",
     "",
     ""
    ]
   ],
   "version": "0.21.7"
  }
 },
 "nbformat": 4,
 "nbformat_minor": 4
}
