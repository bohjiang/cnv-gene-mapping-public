{
 "cells": [
  {
   "cell_type": "markdown",
   "metadata": {
    "kernel": "SoS"
   },
   "source": [
    "# CNV datasets"
   ]
  },
  {
   "cell_type": "markdown",
   "metadata": {
    "kernel": "SoS"
   },
   "source": [
    "No.|datasets|paper|source|NO. of cases vs controls|status\n",
    ":-----:|:-----:|:-----:|:-----:|:-----:|:-----:\n",
    "1|GWAS and CNV - Stage I (Autism Spectrum Disorder)|1. Pinto 2014 AJHG; 2. Pinto 2010 Nature; 3. Sanders, Neuron, 2016|dbGaP phs000267.v4|2,446 ASD-affected families along with 2,640 unrelated controls|application submitted\n",
    "2|SAGE control|Pinto 2010 Nature|dbGaP phs000092.v1|274 Alcoholism cases and 3847 controls|???\n",
    "3|The International Schizophrenia Consortium|Raychaudhuri & Daly, PLG, 2010|resource paper: Rare chromosomal deletions and duplications increase risk of schizophrenia ([website](http://www.nature.com/nature/journal/v455/n7210/pdf/nature07239.pdf))|3,391 patients with schizophrenia and 3,181 ancestrally matched controls|???\n",
    "4|GENEVA: The Atherosclerosis Risk in Communities (ARIC) Study|Coe & Eichler, NG, 2014|Simons Simplex Collection and ESP6500|4,176 probands of developmental delay or ASD (3,387 vs 1,329) and 2,193 unaffected siblings|???\n",
    "5|Swedish national sample (schizophrenia)|Szatkiewicz, Mol Psychiatry, 2014|The corresponding authors had access to the full data set (4719 cases with SCZ and 5917 controls)|4719 to 5917|???\n",
    "6|the International Schizophrenia Consortium (ISC)|Pocklingtong, Neuron, 2015|paper: Rare chromosomal deletions and duplications increase risk of schizophrenia ([data link](http://pngu.mgh.harvard.edu/isc/isc-r1.cnv.bed)) |3,395 cases and 3,185 controls| data can be downloaded from the link\n",
    "7|the Molecular Genetics of Schizophrenia (MGS)|Pocklingtong, Neuron, 2015|[Paper website](http://ajp.psychiatryonline.org/doi/pdf/10.1176/appi.ajp.2010.10060876)|2,214 cases and 2,556 controls|???\n",
    "8|a UK study of individuals diagnosed with schizophrenia and taking the anti-psychotic clozapine (CLOZUK)|Pocklingtong, Neuron, 2015|[Paper website](http://hmg.oxfordjournals.org/content/23/6/1669.full.pdf)|5,745 cases and 10,675 controls|???\n",
    "9|CNV data from the Swedish schizophrenia study|Tzeng, PLoS Genetics, 2015|The Swedish schizophrenia study, dbGaP phs000473.v1 ([dbGaP website](http://www.ncbi.nlm.nih.gov/projects/gap/cgi-bin/study.cgi?study_id=phs000473.v1.p1))|3,637 cases with schizophrenia and 4,820 controls |???\n",
    "10|the genotypes of rare CNVs from the TwinGene study|Tzeng, PLoS Genetics, 2015|TwinGene study [website](http://journals.cambridge.org/download.php?file=%2FTHG%2FTHG6_04%2FS1369052300003883a.pdf&code=1ed751e8284f3320b1a15cd526574854) | |???\n",
    "11|Simons Simplex Collection (SSC)|Sanders, Neuron, 2016| [website1](https://sfari.org/resources/autism-cohorts/simons-simplex-collection)   [website2](https://www.simonsfoundation.org/features/foundation-news/simons-simplex-collection-autism-data-now-available-online/)||???\n",
    "12|Autism Sequencing Consortium (ASC)|Sanders, Neuron, 2016|[website](https://genome.emory.edu/ASC/)| |???"
   ]
  }
 ],
 "metadata": {
  "kernelspec": {
   "display_name": "SoS",
   "language": "sos",
   "name": "sos"
  },
  "language_info": {
   "codemirror_mode": "sos",
   "file_extension": ".sos",
   "mimetype": "text/x-sos",
   "name": "sos",
   "nbconvert_exporter": "sos_notebook.converter.SoS_Exporter",
   "pygments_lexer": "sos"
  },
  "sos": {
   "kernels": [
    [
     "SoS",
     "sos",
     "",
     ""
    ],
    [
     "python",
     "python3",
     "",
     ""
    ]
   ]
  }
 },
 "nbformat": 4,
 "nbformat_minor": 2
}
