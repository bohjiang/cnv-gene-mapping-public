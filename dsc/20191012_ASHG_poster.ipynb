{
 "cells": [
  {
   "cell_type": "markdown",
   "metadata": {
    "kernel": "SoS"
   },
   "source": [
    "## Introduction (Use dot for numbering)\n",
    "1. Copy number variations (CNVs): large genomic insertion or deletion events;\n",
    "2. Length of CNVs: spread from 50 base pairs to kilo- or even mega-bases;\n",
    "3. Previous CNV research: (1) detection of CNVs associated with disease risks, (2) identification of gene sets with CNV burden;\n",
    "4. Challenge: CNVs often span multiple genes (1-30 or more), unclear which one has genetic susceptibility in the same CNV event.\n",
    "\n",
    "Figure 5"
   ]
  },
  {
   "cell_type": "markdown",
   "metadata": {
    "kernel": "SoS"
   },
   "source": [
    "## Motivation and Aim\n",
    "1. Genome-wide association studies (GWAS) have limitations: (1) Risk alleles are usually at low frequencies and difficult to detect, (2) most loci have small effect sizes, not likely to be deleterious mutations, (3) causal variants or genes in GWAS loci are often unclear;\n",
    "2. CNVs are believed to play a critical role in psychiatric disorders, such as schizophrenia (SCZ) [1];\n",
    "2. The prevalence of SCZ ranges between 0.25% and 0.64% in the United States [2]; symptoms of SCZ include: (1) early-onset, usually late adolescence and early adulthood, (2) cognitive impairment/dysfunction, a core feature of SCZ, (3) difficulty in social activities, (4) potential to cause disability;\n",
    "3. Inspired by statistical fine-mapping of causal variants in linkage-disequilibrium blocks from GWAS, we aim to develop a new approach that exploits large-scale genome-wide CNV data in case-control studies to map genes for psychiatric disorders;\n",
    "4. It can be integrated with other gene-level datasets, e.g. results from exome-sequencing studies."
   ]
  },
  {
   "cell_type": "markdown",
   "metadata": {
    "kernel": "SoS"
   },
   "source": [
    "## Data available\n",
    "1. Swedish schizophrenia population-based case-control exome sequencing CNV data from dbGAP;\n",
    "2. Schizophrenia case-control CNV data from International Schizophrenia Consortium (ISC) study;\n",
    "3. hg19 refGene from UCSC genome annotation database."
   ]
  },
  {
   "cell_type": "markdown",
   "metadata": {
    "kernel": "SoS"
   },
   "source": [
    "## Approach and algorighm\n",
    "Suppose the genome is divided into disjoint blocks and no CNVs in common between blocks (i.e. allow overlapping CNVs). Within a block $R$, we may have multiple, possibly overlapping, CNV events, and assume there is at least one causal gene in $R$. To infer CNV-gene configuration from case-control data, we leverage the statistical machinery of Bayesian regression.\n",
    "\n",
    "Assume a mixture prior with spike-and-slab for $β_j$ and logistic regression model for the phenotype:\n",
    "$$\\beta_{j} = (1 - \\pi_{j})\\delta_0 + \\pi_{j}g(\\cdot)$$\n",
    "where $$g(\\cdot) \\sim N(\\mu,\\sigma^2)$$\n",
    "$$\\text{logit P}(y_i = 1) =\\log\\big[\\frac{\\pi_{j}}{1 - \\pi_{j}} \\big] = \\alpha_0 + \\sum_{j=1}^m \\alpha_j d_{{ij}}$$\n",
    "\n",
    "$\\pi_{j}$: prior inclusion probability of $\\textit{j}$-th gene in a CNV-gene block\n",
    "\n",
    "$y_i$: the phenotypic status of sample $i$\n",
    "\n",
    "$\\alpha_j$: effect size of $\\textit{j}$-th gene\n",
    "\n",
    "$d_{ij}$: the overlapping status with CNV event of $j$-th gene in sample $i$\n",
    "\n",
    "$\\mu, \\sigma$: prior mean and standard error for spike, where $\\mu \\neq 0$"
   ]
  },
  {
   "cell_type": "markdown",
   "metadata": {
    "kernel": "SoS"
   },
   "source": [
    "## Simulation processes\n",
    "1. Obtain CNV-gene blocks: simulate CNV-gene blocks containing at least a certain number of genes/exons (no overlapping CNVs between blocks). \n",
    "2. Obtain genome-wide CNV-gene pattern (X matrix): randomly sample each block and merge them together as a simulated individual. Repeat this process $100,000$ times.\n",
    "3. Obtain spike-and-slab prior: set penetrance/prevalence ($p$) as $0.05$, then $p \\approx \\frac{e^{\\beta_0}}{1-e^{\\beta_0}}$ and $\\beta_0 \\approx \\log \\frac{p}{1-p}$. Set $\\pi_j = 0.05$, then $95\\%$ $\\beta_j's$ are adjusted to 0. Odds ratio (OR) for $j$-th gene is $\\text{exp}(\\beta_j)$.\n",
    "4. Obtain phenotype y: first calculate $y=\\frac{e^{x\\boldsymbol{\\beta}+\\beta_0}}{1+e^{x\\boldsymbol{\\beta}+\\beta_0}}$, then use Bernoulli($y_i$) to categorize each $y_i$ to either cases ($1's$) or controls ($0's$). Select all cases (about $5\\%$) and randomly select equal number of controls."
   ]
  },
  {
   "cell_type": "markdown",
   "metadata": {
    "kernel": "SoS"
   },
   "source": [
    "## Results\n",
    "1. Use R package `varbvs` to obtain prior parameters for MCMC method, $\\pi = 0.0438$, $\\mu = 0.777$ and $\\sigma = 0.844$.\n",
    "2. Map the genes for susceptibility in one CNV-gene block using R software packages, `SuSiE` and `varbvs`, to obtain posterior inclusion probabilities (PIP) and potentially credible set (CS);\n",
    "3. Perform Bayesian Logistic Regression using python package `PyMC3`."
   ]
  },
  {
   "cell_type": "markdown",
   "metadata": {
    "kernel": "SoS"
   },
   "source": [
    "        \n",
    "- Block example 1 (5 genes, 1 positive effect gene): \n",
    "\n",
    "        sample_ID  phenotype\t740\t741\t742\t743\t744\n",
    "        655\t1\t0\t0\t1\t0\t0\n",
    "        774\t1\t0\t0\t1\t0\t0\n",
    "        826\t1\t0\t0\t1\t0\t0\n",
    "        950\t1\t0\t0\t1\t0\t0\n",
    "        1006\t1\t0\t0\t1\t0\t0\n",
    "        1011\t1\t0\t0\t1\t0\t0\n",
    "        1454\t1\t0\t0\t1\t0\t0\n",
    "        1678\t1\t1\t1\t1\t1\t1\n",
    "        2079\t1\t0\t0\t0\t1\t0\n",
    "        2276\t1\t0\t0\t1\t0\t0\n",
    "        2691\t1\t0\t0\t1\t0\t0\n",
    "        3187\t1\t1\t1\t1\t1\t1\n",
    "        3837\t1\t0\t0\t1\t0\t0\n",
    "        4900\t1\t0\t0\t1\t0\t0\n",
    "        5713\t1\t0\t0\t1\t0\t0\n",
    "        6080\t1\t1\t1\t1\t1\t1\n",
    "        6278\t1\t0\t0\t1\t0\t0\n",
    "        6368\t1\t0\t0\t0\t1\t0\n",
    "        7037\t0\t0\t0\t0\t1\t0\n",
    "        7891\t0\t1\t1\t1\t1\t1\n",
    "        8321\t0\t0\t0\t1\t0\t0\n",
    "        11199\t0\t0\t0\t1\t0\t0\n",
    "        12311\t0\t1\t1\t1\t1\t1\n",
    "\n",
    "        gene index\td_c\td_nc\tnd_c\tnd_nc\tp\n",
    "        gene_742\t16   6690\t4\t6702\t0.011757\n",
    "        gene_743\t5\t6701\t3\t6703\t0.726481\n",
    "        gene_744\t3\t6703\t2\t6704\t1.000000\n",
    "        gene_741\t3\t6703\t2\t6704\t1.000000\n",
    "        gene_740\t3\t6703\t2\t6704\t1.000000\n",
    "\n",
    "|gene index|simulated effect|SuSiE|varbvs|PyMC3|\n",
    "|:---:|:---:|:---:|:---:|:---:|\n",
    "|740|0|0.0442|0.0913|0.0290|\n",
    "|741|0|0.0442|0.0913|0.0370|\n",
    "|742|0.9806|**0.8173**|**0.6076**|**0.4680**|\n",
    "|743|0|0.0501|0.0804|0.0255|\n",
    "|744|0|0.0442|0.0913|0.0310|"
   ]
  },
  {
   "cell_type": "markdown",
   "metadata": {
    "kernel": "SoS"
   },
   "source": [
    "- Block example 2 (14 genes, 2 positive effect genes)\n",
    "\n",
    "        sample_ID\tphenotype\t1019\t1020\t1021\t1022\t1023\t1024\t1025\t1026\t1027\t1028\t1029\t1030\t1031\t1032\n",
    "        789\t 1\t1\t1\t1\t1\t1\t1\t1\t1\t1\t1\t1\t1\t1\t1\n",
    "        1198\t1\t1\t1\t1\t1\t1\t1\t1\t1\t1\t1\t1\t1\t1\t1\n",
    "        1291\t1\t1\t1\t1\t1\t1\t1\t1\t1\t1\t1\t1\t1\t1\t1\n",
    "        1748\t1\t0\t0\t1\t0\t0\t0\t0\t0\t0\t0\t0\t0\t0\t0\n",
    "        2306\t1\t1\t1\t1\t1\t1\t1\t1\t1\t1\t1\t1\t1\t1\t1\n",
    "        2377\t1\t0\t0\t1\t0\t0\t0\t0\t0\t0\t0\t0\t0\t0\t0\n",
    "        2401\t1\t0\t0\t1\t0\t0\t0\t0\t0\t0\t0\t0\t0\t0\t0\n",
    "        3285\t1\t1\t1\t0\t0\t0\t0\t0\t0\t0\t0\t0\t0\t0\t0\n",
    "        3477\t1\t1\t1\t1\t1\t1\t1\t1\t1\t1\t1\t1\t1\t1\t1\n",
    "        3550\t1\t1\t1\t0\t0\t0\t0\t0\t0\t0\t0\t0\t0\t0\t0\n",
    "        4497\t1\t1\t1\t1\t1\t1\t1\t1\t1\t1\t1\t1\t1\t1\t1\n",
    "        4555\t1\t0\t0\t1\t0\t0\t0\t0\t0\t0\t0\t0\t0\t0\t0\n",
    "        5394\t1\t0\t0\t1\t0\t0\t0\t0\t0\t0\t0\t0\t0\t0\t0\n",
    "        5531\t1\t0\t0\t1\t0\t0\t0\t0\t0\t0\t0\t0\t0\t0\t0\n",
    "        6230\t1\t0\t0\t1\t0\t0\t0\t0\t0\t0\t0\t0\t0\t0\t0\n",
    "        6390\t1\t1\t1\t1\t1\t1\t1\t1\t1\t1\t1\t1\t1\t1\t1\n",
    "        9210\t0\t1\t1\t0\t0\t0\t0\t0\t0\t0\t0\t0\t0\t0\t0\n",
    "        9488\t0\t1\t1\t1\t1\t1\t1\t1\t1\t1\t1\t1\t1\t1\t1\n",
    "        11470\t0\t1\t1\t1\t1\t1\t1\t1\t1\t1\t1\t1\t1\t1\t1\n",
    "        11809\t0\t1\t1\t0\t0\t0\t0\t0\t0\t0\t0\t0\t0\t0\t0\n",
    "        12698\t0\t0\t0\t1\t0\t0\t0\t0\t0\t0\t0\t0\t0\t0\t0\n",
    "        \n",
    "        gene index\td_c  d_nc\tnd_c  nd_nc\tp\n",
    "        gene_1021\t14   6692\t3\t6703\t0.012672\n",
    "        gene_1023\t7\t6699\t2\t6704\t0.179541\n",
    "        gene_1024\t7\t6699\t2\t6704\t0.179541\n",
    "        gene_1022\t7\t6699\t2\t6704\t0.179541\n",
    "        gene_1025\t7\t6699\t2\t6704\t0.179541\n",
    "        gene_1027\t7\t6699\t2\t6704\t0.179541\n",
    "        gene_1030\t7\t6699\t2\t6704\t0.179541\n",
    "        gene_1031\t7\t6699\t2\t6704\t0.179541\n",
    "        gene_1032\t7\t6699\t2\t6704\t0.179541\n",
    "        gene_1029\t7\t6699\t2\t6704\t0.179541\n",
    "        gene_1026\t7\t6699\t2\t6704\t0.179541\n",
    "        gene_1028\t7\t6699\t2\t6704\t0.179541\n",
    "        gene_1020\t9\t6697\t4\t6702\t0.266611\n",
    "        gene_1019\t9\t6697\t4\t6702\t0.266611\n",
    "\n",
    "|gene index|simulated effect|SuSiE|varbvs|PyMC3|\n",
    "|:---:|:---:|:---:|:---:|:---:|\n",
    "|1019|0|0.0414|0.0500|0.0385|\n",
    "|1020|0|0.0414|0.0500|0.0365|\n",
    "|1021|0.60|0.2900|0.2861|0.3040|\n",
    "|1022|0|0.0570|0.0617|0.0580|\n",
    "|1023|0|0.0570|0.0617|0.0505|\n",
    "|1024|0|0.0570|0.0617|0.0650|\n",
    "|1025|0|0.0570|0.0617|0.0495|\n",
    "|1026|0|0.0570|0.0617|0.0475|\n",
    "|1027|0|0.0570|0.0617|0.0640|\n",
    "|1028|0|0.0570|0.0617|0.0635|\n",
    "|1029|0|0.0570|0.0617|0.0585|\n",
    "|1030|0|0.0570|0.0617|0.0485|\n",
    "|1031|0|0.0570|0.0617|0.0580|\n",
    "|1032|1.07|0.0570|0.0617|0.0580|"
   ]
  },
  {
   "cell_type": "markdown",
   "metadata": {
    "kernel": "SoS"
   },
   "source": [
    "- Block example 3 (12 genes, 3 positive effect genes):\n",
    "\n",
    "        gene index  d_c\td_nc   nd_c  nd_nc   p\n",
    "        gene_671\t99\t6607\t9\t6697\t1.956916e-20\n",
    "        gene_672\t99\t6607\t9\t6697\t1.956916e-20\n",
    "        gene_676\t20\t6686\t0\t6706\t1.880480e-06\n",
    "        gene_678\t20\t6686\t0\t6706\t1.880480e-06\n",
    "        gene_677\t20\t6686\t0\t6706\t1.880480e-06\n",
    "        gene_673\t23\t6683\t5\t6701\t9.016016e-04\n",
    "        gene_674\t23\t6683\t5\t6701\t9.016016e-04\n",
    "        gene_675\t23\t6683\t5\t6701\t9.016016e-04\n",
    "        gene_667\t12\t6694\t2\t6704\t1.289476e-02\n",
    "        gene_668\t17\t6689\t6\t6700\t3.453722e-02\n",
    "        gene_670\t17\t6689\t6\t6700\t3.453722e-02\n",
    "        gene_669\t17\t6689\t6\t6700\t3.453722e-02\n",
    "\n",
    "|gene index|simulated effect|SuSiE|varbvs|PyMC3|\n",
    "|:---:|:---:|:---:|:---:|:---:|\n",
    "|667|0|8.8818e-16|0.0435|0.0240|\n",
    "|668|0|3.3307e-16|0.0330|0.0195|\n",
    "|669|0|3.3307e-16|0.0330|0.0110|\n",
    "|670|0|3.3307e-16|0.0330|0.0150|\n",
    "|671|1.2865|**0.4999**|1|0.5460|\n",
    "|672|0.5374|**0.4999**|0.0192|0.5185|\n",
    "|673|0|7.9936e-15|0.0338|0.0185|\n",
    "|674|0|7.9936e-15|0.0338|0.0230|\n",
    "|675|0|7.9936e-15|0.0338|0.0300|\n",
    "|676|0|5.2757e-13|0.0614|0.1270|\n",
    "|677|0|5.2757e-13|0.0614|0.1325|\n",
    "|678|0.9833|5.2757e-13|0.0614|0.1080|"
   ]
  },
  {
   "cell_type": "markdown",
   "metadata": {
    "kernel": "SoS"
   },
   "source": [
    "## Reference\n",
    "1. C. Lowther et al., Genomic Disorders in Psychiatry-What Does the Clinician Need to Know? Current Psychiatry Reports 19 (2017).\n",
    "2. E. Q. Wu et al., Annual prevalence of diagnosed schizophrenia in the USA: a claims data analysis approach. Psychol Med (2006)."
   ]
  },
  {
   "cell_type": "markdown",
   "metadata": {
    "kernel": "SoS"
   },
   "source": [
    "## ASHG talks\n",
    "Session 81\n",
    "\n",
    "Poison exons in neurodevelopmental disorders: from development and disease to therapeutic target\n",
    "1. What is poison exons: small exonic regions that lead to premature truncation of a protein when spliced into an RNA transcript (contain stop codon).\n",
    "2. When does it occur: Inclusion of poison exons occurs during specific times in neurodevelopment, while splicing occurs in a cell-specific manner.\n",
    "3. Many genes involved in neurodevelopmental disorders harbor these poison exons, epilepsy, autism, and malformations of cortical development, including ion channels, epigenetic regulators.\n",
    "4. How to identify poison exons in neuronal development, splicing mechanisms, variants that disrupt splicing\n",
    "5. The identification of patient-specific variants\n",
    "\n",
    "        Dr. Mefford: describe the current genetic landscape of neurodevelopmental disorders and strategies to identify the molecular etiology in undiagnosed cases;\n",
    "        Dr. Zhang: discuss the studies that identified poison exons in neuronal development, the splicing mechanisms that govern their use, and variants detected in patients with malformations of cortical development that disrupt their splicing;\n",
    "        Dr. Carvill: \n",
    "        Dr. Isom: "
   ]
  },
  {
   "cell_type": "markdown",
   "metadata": {
    "kernel": "SoS"
   },
   "source": [
    "This session will focus on the role of poison exons in epilepsy. Poison exons are small exonic regions that, when spliced into an RNA transcript, lead to premature truncation of a protein. Inclusion of poison exons occurs during specific times in neurodevelopment, and splicing occurs in a cell-specific manner. Many of the genes implicated in neurodevelopmental disorders, including epilepsy, autism, and malformations of cortical development, harbor these poison exons. These include ion channels (SCN1A/2A/8A), epigenetic regulators (CHD2, MBD5), and cytoskeletal proteins (FLNA). In this session, Dr. Mefford will open by describing the current genetic landscape of neurodevelopmental disorders and strategies to identify the molecular etiology in undiagnosed cases. Dr. Mefford will also introduce the concept of poison exons and their function. Dr. Zhang will discuss the studies that identified poison exons in neuronal development, the splicing mechanisms that govern their use, and variants detected in patients with malformations of cortical development that disrupt their splicing. Dr. Carvill will discuss the identification of patient-specific variants that lead to aberrant inclusion of poison exons in genes implicated in epilepsy, including SCN1A, and functional studies in patient-derived induced neurons. Dr. Isom will describe an antisense oligonucleotide that targets an SCN1A poison exon, preventing its inclusion and thus restoring full-length protein and preventing SCN1A-related mortality in an animal model of epilepsy."
   ]
  },
  {
   "cell_type": "markdown",
   "metadata": {
    "kernel": "SoS"
   },
   "source": [
    "## ASHG posters\n",
    "Approximately LD independent regions for biobank scale genetic analyses\n",
    "1. For genetic fine-mapping methods to produce valid estimates: loci are assumed to be independent\n",
    "2. Introduce a new method for identifying approximately LD independent regions that minimizes different functins of the full \"off-diagonal\" LD band at region boundaries and apply it to the UK Biobank. (minimize off-diagonal LD scores)\n",
    "3. Use $\\sum_{ij}1_{\\{r_{ij}>0.60\\}}$ instead of a naive odLDSC $\\sum_{ij}r_{ij}^2$\n",
    "4. affect fine-mapping"
   ]
  },
  {
   "cell_type": "code",
   "execution_count": null,
   "metadata": {
    "kernel": "SoS"
   },
   "outputs": [],
   "source": []
  }
 ],
 "metadata": {
  "kernelspec": {
   "display_name": "SoS",
   "language": "sos",
   "name": "sos"
  },
  "language_info": {
   "codemirror_mode": "sos",
   "file_extension": ".sos",
   "mimetype": "text/x-sos",
   "name": "sos",
   "nbconvert_exporter": "sos_notebook.converter.SoS_Exporter",
   "pygments_lexer": "sos"
  },
  "sos": {
   "kernels": [
    [
     "SoS",
     "sos",
     "",
     ""
    ]
   ],
   "version": "0.20.5"
  }
 },
 "nbformat": 4,
 "nbformat_minor": 4
}
