{
 "cells": [
  {
   "cell_type": "markdown",
   "metadata": {},
   "source": [
    "# Analysis of toy data via DAP"
   ]
  },
  {
   "cell_type": "markdown",
   "metadata": {},
   "source": [
    "This notebook explores using [DAP](https://github.com/xqwen/dap) software directly to analyze our CNV data, on a toy example. It largely follows from [this tutorial](https://github.com/xqwen/dap/wiki/Case-study:-multi-SNP-fine-mapping)."
   ]
  },
  {
   "cell_type": "code",
   "execution_count": 1,
   "metadata": {
    "collapsed": true,
    "kernel": "SoS"
   },
   "outputs": [],
   "source": [
    "# ! cd ~/GIT/software; git clone https://github.com/xqwen/dap"
   ]
  },
  {
   "cell_type": "markdown",
   "metadata": {},
   "source": [
    "Here is Python codes to prepare DAP input data, from a matrix where the first column is response and the rest are regressors. In the case of our toy data the first column is disease status and the rest columns are indicators of whether a gene harbors a CNV."
   ]
  },
  {
   "cell_type": "code",
   "execution_count": 13,
   "metadata": {
    "kernel": "Python3"
   },
   "outputs": [
    {
     "name": "stdout",
     "output_type": "stream",
     "text": [
      "(2000, 11)\n"
     ]
    }
   ],
   "source": [
    "import feather\n",
    "from utils import run_dap_lite\n",
    "\n",
    "fn = \"data/toy_n2000_p0.5_causal5.feather\"\n",
    "fout = \"data/toy_n2000_p0.5_causal5_test.dap\"\n",
    "\n",
    "input_file = feather.read_dataframe(fn)\n",
    "print (input_file.shape)\n"
   ]
  },
  {
   "cell_type": "markdown",
   "metadata": {},
   "source": [
    "To run DAP:"
   ]
  },
  {
   "cell_type": "code",
   "execution_count": 14,
   "metadata": {
    "kernel": "Python3"
   },
   "outputs": [
    {
     "name": "stdout",
     "output_type": "stream",
     "text": [
      "2017-08-06 16:46:21.754220\n",
      "2017-08-06 16:46:26.263577\n"
     ]
    }
   ],
   "source": [
    "run_dap_lite(input_file, fout)"
   ]
  },
  {
   "cell_type": "markdown",
   "metadata": {},
   "source": [
    "%preview -n data/toy_4genes_n_1280.dap"
   ]
  },
  {
   "cell_type": "markdown",
   "metadata": {
    "kernel": "sos"
   },
   "source": [
    "    1   7.2437e-01    2      7.465   [chr6.100001] [chr6.100003]\n",
    "    2   2.1527e-01    1      6.938   [chr6.100001]\n",
    "\n",
    "Posterior expected model size: 1.664 (sd = 0.586)\n",
    "\n",
    "LogNC = 17.51028 ( Log10NC = 7.605 )\n",
    "\n",
    "Posterior inclusion probability\n",
    "\n",
    "    1 chr6.100001   9.39636e-01      7.914\n",
    "    2 chr6.100003   7.24368e-01     -1.392"
   ]
  },
  {
   "cell_type": "markdown",
   "metadata": {
    "kernel": "python3"
   },
   "source": [
    "The first line ranks the high-probability association models. \n",
    "\n",
    "The posterior probability of the association model for [chr6.100001] and [chr6.100003] is $0.72437$.\n",
    "\n",
    "The unnormalized posterior score $\\text{log}_{10}$(prior)+$\\text{log}_{BF}$ is $7.465$. \n",
    "\n",
    "    1   7.2437e-01    2      7.465   [chr6.100001] [chr6.100003]\n",
    "The last section of the output is the posterior inclusion probabilities (PIP) for top ranked genes, for example, PIP for gene1 is $0.9396$.\n",
    "\n",
    "The last column gives $\\text{log}_{10}$ Bayes factor of the corresponding SNP/gene in single-SNP/gene testing."
   ]
  }
 ],
 "metadata": {
  "kernelspec": {
   "display_name": "SoS",
   "language": "sos",
   "name": "sos"
  },
  "language_info": {
   "codemirror_mode": "sos",
   "file_extension": ".sos",
   "mimetype": "text/x-sos",
   "name": "sos",
   "nbconvert_exporter": "sos.jupyter.converter.SoS_Exporter",
   "pygments_lexer": "sos"
  },
  "sos": {
   "default_kernel": "SoS",
   "kernels": [
    [
     "SoS",
     "sos",
     "",
     ""
    ],
    [
     "Python3",
     "python3",
     "Python3",
     "#EAFAF1"
    ],
    [
     "R",
     "ir",
     "R",
     "#DCDCDA"
    ]
   ],
   "panel": {
    "displayed": true,
    "height": 0,
    "style": "side"
   }
  }
 },
 "nbformat": 4,
 "nbformat_minor": 2
}
