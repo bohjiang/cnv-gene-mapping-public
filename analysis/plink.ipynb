{
 "cells": [
  {
   "cell_type": "markdown",
   "metadata": {},
   "source": [
    "# plink\n",
    "http://pngu.mgh.harvard.edu/~purcell/plink/cnv.shtml\n",
    "http://pngu.mgh.harvard.edu/~purcell/plink/cnvfreqs.shtml\n",
    "```\n",
    "FID   Family ID\n",
    "IID   Individual ID\n",
    "CHR   Chromosome code\n",
    "BP1   Segment start (bp)\n",
    "BP2   Segment end (bp) \n",
    "TYPE    Type of variant, e.g. 0,1 or 3,4 copies\n",
    "SCORE   Confidence score associated with variant \n",
    "SITES   Number of probes in the variant\n",
    "\n",
    "PHE     Phenotype \n",
    "NSEG    Number of segments that individual has\n",
    "KB      Total kilobase distance spanned by segments \n",
    "KBAVG   Average segment size\n",
    "```\n",
    "--cnv-subset mylist.txt\n",
    "takes a list of region names and extracts just these from the main"
   ]
  },
  {
   "cell_type": "code",
   "execution_count": null,
   "metadata": {
    "collapsed": true
   },
   "outputs": [],
   "source": []
  }
 ],
 "metadata": {
  "kernelspec": {
   "display_name": "Python 3",
   "language": "python",
   "name": "python3"
  },
  "language_info": {
   "codemirror_mode": {
    "name": "ipython",
    "version": 3
   },
   "file_extension": ".py",
   "mimetype": "text/x-python",
   "name": "python",
   "nbconvert_exporter": "python",
   "pygments_lexer": "ipython3",
   "version": "3.5.2"
  }
 },
 "nbformat": 4,
 "nbformat_minor": 2
}
