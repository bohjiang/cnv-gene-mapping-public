{
 "cells": [
  {
   "cell_type": "markdown",
   "metadata": {},
   "source": [
    "# Use BoomSpikeSlab\n",
    "## First check the result of varbvs on whole genome"
   ]
  },
  {
   "cell_type": "code",
   "execution_count": 1,
   "metadata": {},
   "outputs": [],
   "source": [
    "res = readRDS(\"/home/min/GIT/cnv-gene-mapping/data/deletion_simu/deletion.genes.block30.binomial.whole.genome.prior.varbvs.nologodds.updateb0.rds\")"
   ]
  },
  {
   "cell_type": "code",
   "execution_count": 2,
   "metadata": {},
   "outputs": [],
   "source": [
    "mu0 = sum(res$b0 * res$w)"
   ]
  },
  {
   "cell_type": "code",
   "execution_count": 3,
   "metadata": {},
   "outputs": [
    {
     "data": {
      "text/html": [
       "0.777072111580423"
      ],
      "text/latex": [
       "0.777072111580423"
      ],
      "text/markdown": [
       "0.777072111580423"
      ],
      "text/plain": [
       "[1] 0.7770721"
      ]
     },
     "metadata": {},
     "output_type": "display_data"
    }
   ],
   "source": [
    "mu0"
   ]
  },
  {
   "cell_type": "code",
   "execution_count": 4,
   "metadata": {},
   "outputs": [],
   "source": [
    "sd0 = sqrt(sum(res$sa * res$w))"
   ]
  },
  {
   "cell_type": "code",
   "execution_count": 5,
   "metadata": {},
   "outputs": [
    {
     "data": {
      "text/html": [
       "0.843650169910125"
      ],
      "text/latex": [
       "0.843650169910125"
      ],
      "text/markdown": [
       "0.843650169910125"
      ],
      "text/plain": [
       "[1] 0.8436502"
      ]
     },
     "metadata": {},
     "output_type": "display_data"
    }
   ],
   "source": [
    "sd0"
   ]
  },
  {
   "cell_type": "code",
   "execution_count": 6,
   "metadata": {},
   "outputs": [],
   "source": [
    "pi0 = sum((10^(res$logodds) / (1 + 10^(res$logodds))) * res$w)"
   ]
  },
  {
   "cell_type": "code",
   "execution_count": 7,
   "metadata": {},
   "outputs": [
    {
     "data": {
      "text/html": [
       "0.0437754961218526"
      ],
      "text/latex": [
       "0.0437754961218526"
      ],
      "text/markdown": [
       "0.0437754961218526"
      ],
      "text/plain": [
       "[1] 0.0437755"
      ]
     },
     "metadata": {},
     "output_type": "display_data"
    }
   ],
   "source": [
    "pi0"
   ]
  },
  {
   "cell_type": "code",
   "execution_count": 31,
   "metadata": {},
   "outputs": [],
   "source": [
    "# library(varbvs)\n",
    "# help(varbvs)"
   ]
  },
  {
   "cell_type": "code",
   "execution_count": 32,
   "metadata": {},
   "outputs": [],
   "source": [
    "# varbvs::varbvs"
   ]
  },
  {
   "cell_type": "code",
   "execution_count": 8,
   "metadata": {},
   "outputs": [],
   "source": [
    "library(data.table)\n",
    "library(reticulate)"
   ]
  },
  {
   "cell_type": "code",
   "execution_count": 9,
   "metadata": {},
   "outputs": [
    {
     "name": "stderr",
     "output_type": "stream",
     "text": [
      "Loading required package: Boom\n",
      "Loading required package: MASS\n",
      "\n",
      "Attaching package: ‘Boom’\n",
      "\n",
      "The following object is masked from ‘package:stats’:\n",
      "\n",
      "    rWishart\n",
      "\n",
      "\n",
      "Attaching package: ‘BoomSpikeSlab’\n",
      "\n",
      "The following object is masked from ‘package:stats’:\n",
      "\n",
      "    knots\n",
      "\n"
     ]
    }
   ],
   "source": [
    "library(susieR)\n",
    "library(BoomSpikeSlab)"
   ]
  },
  {
   "cell_type": "code",
   "execution_count": 10,
   "metadata": {},
   "outputs": [],
   "source": [
    "X = as.matrix(data.table::fread(\"/home/min/GIT/cnv-gene-mapping/data/deletion_simu/block_79_137/deletion.genes.block30.for_simu.sample.genes.block_79_137.gz\", header = F))"
   ]
  },
  {
   "cell_type": "code",
   "execution_count": 12,
   "metadata": {},
   "outputs": [],
   "source": [
    "y <- as.matrix(data.table::fread(\"/data/GIT/cnv-gene-mapping/data/deletion_simu/deletion.genes.block30.for_simu.sample.y\"))"
   ]
  },
  {
   "cell_type": "code",
   "execution_count": 14,
   "metadata": {},
   "outputs": [],
   "source": [
    "sampler = c(sample(1:sum(y), sum(y)*0.06), c((sum(y)+1):length(y)))\n",
    "y = y[sampler, ]\n",
    "X = X[sampler, ]"
   ]
  },
  {
   "cell_type": "code",
   "execution_count": 15,
   "metadata": {},
   "outputs": [],
   "source": [
    "X_inter = cbind(1, X)"
   ]
  },
  {
   "cell_type": "code",
   "execution_count": 16,
   "metadata": {},
   "outputs": [],
   "source": [
    "storage.mode(X) = 'double'\n",
    "storage.mode(X_inter) = 'double'\n",
    "storage.mode(y) = 'double'"
   ]
  },
  {
   "cell_type": "code",
   "execution_count": 17,
   "metadata": {},
   "outputs": [
    {
     "data": {
      "text/html": [
       "<ol class=list-inline>\n",
       "\t<li>7108</li>\n",
       "\t<li>60</li>\n",
       "</ol>\n"
      ],
      "text/latex": [
       "\\begin{enumerate*}\n",
       "\\item 7108\n",
       "\\item 60\n",
       "\\end{enumerate*}\n"
      ],
      "text/markdown": [
       "1. 7108\n",
       "2. 60\n",
       "\n",
       "\n"
      ],
      "text/plain": [
       "[1] 7108   60"
      ]
     },
     "metadata": {},
     "output_type": "display_data"
    }
   ],
   "source": [
    "dim(X_inter)"
   ]
  },
  {
   "cell_type": "code",
   "execution_count": 18,
   "metadata": {},
   "outputs": [],
   "source": [
    "N = rep(1, length(y))"
   ]
  },
  {
   "cell_type": "code",
   "execution_count": 19,
   "metadata": {},
   "outputs": [],
   "source": [
    "X_center <- scale(X, scale = FALSE)"
   ]
  },
  {
   "cell_type": "code",
   "execution_count": 20,
   "metadata": {},
   "outputs": [],
   "source": [
    "prior <- LogitZellnerPrior(X_inter, y, N, prior.success.probability = NULL, expected.model.size = 2, prior.information.weight = 0.05, \n",
    "                           diagonal.shrinkage = 0, optional.coefficient.estimate = NULL, prior.inclusion.probabilities = NULL)"
   ]
  },
  {
   "cell_type": "code",
   "execution_count": 21,
   "metadata": {},
   "outputs": [
    {
     "data": {
      "text/html": [
       "<ol class=list-inline>\n",
       "\t<li>'prior.inclusion.probabilities'</li>\n",
       "\t<li>'mu'</li>\n",
       "\t<li>'sigma.guess'</li>\n",
       "\t<li>'prior.df'</li>\n",
       "\t<li>'sigma.upper.limit'</li>\n",
       "\t<li>'max.flips'</li>\n",
       "\t<li>'siginv'</li>\n",
       "\t<li>'prior.success.probability'</li>\n",
       "</ol>\n"
      ],
      "text/latex": [
       "\\begin{enumerate*}\n",
       "\\item 'prior.inclusion.probabilities'\n",
       "\\item 'mu'\n",
       "\\item 'sigma.guess'\n",
       "\\item 'prior.df'\n",
       "\\item 'sigma.upper.limit'\n",
       "\\item 'max.flips'\n",
       "\\item 'siginv'\n",
       "\\item 'prior.success.probability'\n",
       "\\end{enumerate*}\n"
      ],
      "text/markdown": [
       "1. 'prior.inclusion.probabilities'\n",
       "2. 'mu'\n",
       "3. 'sigma.guess'\n",
       "4. 'prior.df'\n",
       "5. 'sigma.upper.limit'\n",
       "6. 'max.flips'\n",
       "7. 'siginv'\n",
       "8. 'prior.success.probability'\n",
       "\n",
       "\n"
      ],
      "text/plain": [
       "[1] \"prior.inclusion.probabilities\" \"mu\"                           \n",
       "[3] \"sigma.guess\"                   \"prior.df\"                     \n",
       "[5] \"sigma.upper.limit\"             \"max.flips\"                    \n",
       "[7] \"siginv\"                        \"prior.success.probability\"    "
      ]
     },
     "metadata": {},
     "output_type": "display_data"
    }
   ],
   "source": [
    "names(prior)"
   ]
  },
  {
   "cell_type": "code",
   "execution_count": 73,
   "metadata": {},
   "outputs": [
    {
     "data": {
      "text/html": [
       "0.707106781186548"
      ],
      "text/latex": [
       "0.707106781186548"
      ],
      "text/markdown": [
       "0.707106781186548"
      ],
      "text/plain": [
       "[1] 0.7071068"
      ]
     },
     "metadata": {},
     "output_type": "display_data"
    }
   ],
   "source": [
    "prior$sigma.guess"
   ]
  },
  {
   "cell_type": "code",
   "execution_count": 52,
   "metadata": {},
   "outputs": [],
   "source": [
    "prior_glm <- SpikeSlabGlmPrior(X, weight = rep(1/nrow(X), nrow(X)), prior.inclusion.probabilities = rep(1/ncol(X), ncol(X)), expected.model.size = 1, \n",
    "                               optional.coefficient.estimate = rep(0, ncol(X)), mean.on.natural.scale = -1, max.flips = 5, diagonal.shrinkage = 0, prior.information.weight = 0.05)"
   ]
  },
  {
   "cell_type": "code",
   "execution_count": 53,
   "metadata": {},
   "outputs": [
    {
     "data": {
      "text/html": [
       "<ol class=list-inline>\n",
       "\t<li>'prior.inclusion.probabilities'</li>\n",
       "\t<li>'mu'</li>\n",
       "\t<li>'sigma.guess'</li>\n",
       "\t<li>'prior.df'</li>\n",
       "\t<li>'sigma.upper.limit'</li>\n",
       "\t<li>'max.flips'</li>\n",
       "\t<li>'siginv'</li>\n",
       "</ol>\n"
      ],
      "text/latex": [
       "\\begin{enumerate*}\n",
       "\\item 'prior.inclusion.probabilities'\n",
       "\\item 'mu'\n",
       "\\item 'sigma.guess'\n",
       "\\item 'prior.df'\n",
       "\\item 'sigma.upper.limit'\n",
       "\\item 'max.flips'\n",
       "\\item 'siginv'\n",
       "\\end{enumerate*}\n"
      ],
      "text/markdown": [
       "1. 'prior.inclusion.probabilities'\n",
       "2. 'mu'\n",
       "3. 'sigma.guess'\n",
       "4. 'prior.df'\n",
       "5. 'sigma.upper.limit'\n",
       "6. 'max.flips'\n",
       "7. 'siginv'\n",
       "\n",
       "\n"
      ],
      "text/plain": [
       "[1] \"prior.inclusion.probabilities\" \"mu\"                           \n",
       "[3] \"sigma.guess\"                   \"prior.df\"                     \n",
       "[5] \"sigma.upper.limit\"             \"max.flips\"                    \n",
       "[7] \"siginv\"                       "
      ]
     },
     "metadata": {},
     "output_type": "display_data"
    }
   ],
   "source": [
    "names(prior_glm)"
   ]
  },
  {
   "cell_type": "code",
   "execution_count": 42,
   "metadata": {},
   "outputs": [],
   "source": [
    "prior1 <- prior"
   ]
  },
  {
   "cell_type": "code",
   "execution_count": 43,
   "metadata": {},
   "outputs": [
    {
     "data": {
      "text/html": [
       "60"
      ],
      "text/latex": [
       "60"
      ],
      "text/markdown": [
       "60"
      ],
      "text/plain": [
       "[1] 60"
      ]
     },
     "metadata": {},
     "output_type": "display_data"
    },
    {
     "data": {
      "text/html": [
       "59"
      ],
      "text/latex": [
       "59"
      ],
      "text/markdown": [
       "59"
      ],
      "text/plain": [
       "[1] 59"
      ]
     },
     "metadata": {},
     "output_type": "display_data"
    }
   ],
   "source": [
    "length(prior$mu); ncol(X)"
   ]
  },
  {
   "cell_type": "code",
   "execution_count": 63,
   "metadata": {},
   "outputs": [],
   "source": [
    "prior1$prior.inclusion.probabilities <- c(prior$prior.inclusion.probabilities[1], rep(pi0, ncol(X)))\n",
    "prior1$mu <- c(prior$mu[1], rep(0, 10), mu0, rep(0, 10), mu0, mu0, rep(0, 9), mu0, rep(0,10), mu0, rep(0,10), mu0, rep(0, 4))\n",
    "# prior1$mu <- c(prior$mu[1], colSums(X_inter)[2:ncol(X_inter)]*0.001)\n",
    "prior1$sigma.guess <- sd0"
   ]
  },
  {
   "cell_type": "code",
   "execution_count": 64,
   "metadata": {},
   "outputs": [
    {
     "data": {
      "text/html": [
       "FALSE"
      ],
      "text/latex": [
       "FALSE"
      ],
      "text/markdown": [
       "FALSE"
      ],
      "text/plain": [
       "[1] FALSE"
      ]
     },
     "metadata": {},
     "output_type": "display_data"
    }
   ],
   "source": [
    "length(prior$mu) == ncol(X)"
   ]
  },
  {
   "cell_type": "code",
   "execution_count": 65,
   "metadata": {},
   "outputs": [
    {
     "name": "stdout",
     "output_type": "stream",
     "text": [
      "=-=-=-=-= Iteration 0 Thu Oct  3 22:48:23 2019 =-=-=-=-=\n",
      "=-=-=-=-= Iteration 100 Thu Oct  3 22:48:53 2019 =-=-=-=-=\n",
      "=-=-=-=-= Iteration 200 Thu Oct  3 22:49:17 2019 =-=-=-=-=\n",
      "=-=-=-=-= Iteration 300 Thu Oct  3 22:49:46 2019 =-=-=-=-=\n",
      "=-=-=-=-= Iteration 400 Thu Oct  3 22:50:16 2019 =-=-=-=-=\n",
      "=-=-=-=-= Iteration 500 Thu Oct  3 22:50:45 2019 =-=-=-=-=\n",
      "=-=-=-=-= Iteration 600 Thu Oct  3 22:51:12 2019 =-=-=-=-=\n",
      "=-=-=-=-= Iteration 700 Thu Oct  3 22:51:41 2019 =-=-=-=-=\n",
      "=-=-=-=-= Iteration 800 Thu Oct  3 22:52:09 2019 =-=-=-=-=\n",
      "=-=-=-=-= Iteration 900 Thu Oct  3 22:52:33 2019 =-=-=-=-=\n"
     ]
    }
   ],
   "source": [
    "model1 <- logit.spike(y ~ X, niter = 1000, prior = prior1)"
   ]
  },
  {
   "cell_type": "code",
   "execution_count": 70,
   "metadata": {},
   "outputs": [
    {
     "name": "stdout",
     "output_type": "stream",
     "text": [
      "=-=-=-=-= Iteration 0 Thu Oct  3 23:21:08 2019 =-=-=-=-=\n",
      "=-=-=-=-= Iteration 100 Thu Oct  3 23:21:38 2019 =-=-=-=-=\n",
      "=-=-=-=-= Iteration 200 Thu Oct  3 23:22:05 2019 =-=-=-=-=\n",
      "=-=-=-=-= Iteration 300 Thu Oct  3 23:22:28 2019 =-=-=-=-=\n",
      "=-=-=-=-= Iteration 400 Thu Oct  3 23:22:55 2019 =-=-=-=-=\n",
      "=-=-=-=-= Iteration 500 Thu Oct  3 23:23:24 2019 =-=-=-=-=\n",
      "=-=-=-=-= Iteration 600 Thu Oct  3 23:23:48 2019 =-=-=-=-=\n",
      "=-=-=-=-= Iteration 700 Thu Oct  3 23:24:12 2019 =-=-=-=-=\n",
      "=-=-=-=-= Iteration 800 Thu Oct  3 23:24:39 2019 =-=-=-=-=\n",
      "=-=-=-=-= Iteration 900 Thu Oct  3 23:25:05 2019 =-=-=-=-=\n"
     ]
    }
   ],
   "source": [
    "model0 <- logit.spike(y ~ X, niter = 1000)"
   ]
  },
  {
   "cell_type": "code",
   "execution_count": 71,
   "metadata": {},
   "outputs": [
    {
     "data": {
      "text/plain": [
       "null log likelihood:            -1545.166 \n",
       "posterior mean log likelihood:  -1545.7 \n",
       "posterior max log likelihood:   -1545.166 \n",
       "mean deviance R-sq:             -0.0003451598 \n",
       "\n",
       "predicted vs observed success rates, by decile:\n",
       "                    predicted   observed\n",
       "(0.056818,0.056824] 0.0568237 0.05882353\n",
       "\n",
       "summary of coefficients:\n",
       "                 mean      sd mean.inc sd.inc inc.prob\n",
       "(Intercept) -2.810000 0.05300   -2.810  0.053    1.000\n",
       "XV17         0.000105 0.00331    0.105  0.000    0.001\n",
       "XV59         0.000000 0.00000    0.000  0.000    0.000\n",
       "XV58         0.000000 0.00000    0.000  0.000    0.000\n",
       "XV57         0.000000 0.00000    0.000  0.000    0.000\n",
       "XV56         0.000000 0.00000    0.000  0.000    0.000\n",
       "XV55         0.000000 0.00000    0.000  0.000    0.000\n",
       "XV54         0.000000 0.00000    0.000  0.000    0.000\n",
       "XV53         0.000000 0.00000    0.000  0.000    0.000\n",
       "XV52         0.000000 0.00000    0.000  0.000    0.000\n",
       "XV51         0.000000 0.00000    0.000  0.000    0.000\n",
       "XV50         0.000000 0.00000    0.000  0.000    0.000\n",
       "XV49         0.000000 0.00000    0.000  0.000    0.000\n",
       "XV48         0.000000 0.00000    0.000  0.000    0.000\n",
       "XV47         0.000000 0.00000    0.000  0.000    0.000\n",
       "XV46         0.000000 0.00000    0.000  0.000    0.000\n",
       "XV45         0.000000 0.00000    0.000  0.000    0.000\n",
       "XV44         0.000000 0.00000    0.000  0.000    0.000\n",
       "XV43         0.000000 0.00000    0.000  0.000    0.000\n",
       "XV42         0.000000 0.00000    0.000  0.000    0.000\n",
       "XV41         0.000000 0.00000    0.000  0.000    0.000\n",
       "XV40         0.000000 0.00000    0.000  0.000    0.000\n",
       "XV39         0.000000 0.00000    0.000  0.000    0.000\n",
       "XV38         0.000000 0.00000    0.000  0.000    0.000\n",
       "XV37         0.000000 0.00000    0.000  0.000    0.000\n",
       "XV36         0.000000 0.00000    0.000  0.000    0.000\n",
       "XV35         0.000000 0.00000    0.000  0.000    0.000\n",
       "XV34         0.000000 0.00000    0.000  0.000    0.000\n",
       "XV33         0.000000 0.00000    0.000  0.000    0.000\n",
       "XV32         0.000000 0.00000    0.000  0.000    0.000\n",
       "XV31         0.000000 0.00000    0.000  0.000    0.000\n",
       "XV30         0.000000 0.00000    0.000  0.000    0.000\n",
       "XV29         0.000000 0.00000    0.000  0.000    0.000\n",
       "XV28         0.000000 0.00000    0.000  0.000    0.000\n",
       "XV27         0.000000 0.00000    0.000  0.000    0.000\n",
       "XV26         0.000000 0.00000    0.000  0.000    0.000\n",
       "XV25         0.000000 0.00000    0.000  0.000    0.000\n",
       "XV24         0.000000 0.00000    0.000  0.000    0.000\n",
       "XV23         0.000000 0.00000    0.000  0.000    0.000\n",
       "XV22         0.000000 0.00000    0.000  0.000    0.000\n",
       "XV21         0.000000 0.00000    0.000  0.000    0.000\n",
       "XV20         0.000000 0.00000    0.000  0.000    0.000\n",
       "XV19         0.000000 0.00000    0.000  0.000    0.000\n",
       "XV18         0.000000 0.00000    0.000  0.000    0.000\n",
       "XV16         0.000000 0.00000    0.000  0.000    0.000\n",
       "XV15         0.000000 0.00000    0.000  0.000    0.000\n",
       "XV14         0.000000 0.00000    0.000  0.000    0.000\n",
       "XV13         0.000000 0.00000    0.000  0.000    0.000\n",
       "XV12         0.000000 0.00000    0.000  0.000    0.000\n",
       "XV11         0.000000 0.00000    0.000  0.000    0.000\n",
       "XV10         0.000000 0.00000    0.000  0.000    0.000\n",
       "XV9          0.000000 0.00000    0.000  0.000    0.000\n",
       "XV8          0.000000 0.00000    0.000  0.000    0.000\n",
       "XV7          0.000000 0.00000    0.000  0.000    0.000\n",
       "XV6          0.000000 0.00000    0.000  0.000    0.000\n",
       "XV5          0.000000 0.00000    0.000  0.000    0.000\n",
       "XV4          0.000000 0.00000    0.000  0.000    0.000\n",
       "XV3          0.000000 0.00000    0.000  0.000    0.000\n",
       "XV2          0.000000 0.00000    0.000  0.000    0.000\n",
       "XV1          0.000000 0.00000    0.000  0.000    0.000"
      ]
     },
     "metadata": {},
     "output_type": "display_data"
    }
   ],
   "source": [
    "summary(model0)"
   ]
  },
  {
   "cell_type": "code",
   "execution_count": null,
   "metadata": {},
   "outputs": [],
   "source": [
    "model <- logit.spike(y ~ X, niter = 30000, prior = prior)\n",
    "# model <- logit.spike(y ~ X_inter, niter = 100)"
   ]
  },
  {
   "cell_type": "code",
   "execution_count": null,
   "metadata": {},
   "outputs": [],
   "source": [
    "summary(model) # prior 1000"
   ]
  },
  {
   "cell_type": "code",
   "execution_count": 66,
   "metadata": {},
   "outputs": [
    {
     "data": {
      "text/plain": [
       "null log likelihood:            -1545.166 \n",
       "posterior mean log likelihood:  -1545.637 \n",
       "posterior max log likelihood:   -1544.987 \n",
       "mean deviance R-sq:             -0.0003043409 \n",
       "\n",
       "predicted vs observed success rates, by decile:\n",
       "                 predicted   observed\n",
       "(0.0564,0.0582] 0.05739954 0.05128205\n",
       "\n",
       "summary of coefficients:\n",
       "                 mean     sd mean.inc  sd.inc inc.prob\n",
       "(Intercept) -2.820000 0.0478  -2.8200 0.04780    1.000\n",
       "XV22         0.000816 0.1230   0.0742 1.23000    0.011\n",
       "XV55         0.002830 0.0449   0.7070 0.08550    0.004\n",
       "XV44         0.001430 0.0243   0.3580 0.16100    0.004\n",
       "XV33         0.003210 0.0506   0.8010 0.00488    0.004\n",
       "XV23         0.003010 0.0477   0.7540 0.04700    0.004\n",
       "XV11         0.004150 0.0664   1.0400 0.20300    0.004\n",
       "XV5         -0.000840 0.0266  -0.8400 0.00000    0.001\n",
       "XV59         0.000000 0.0000   0.0000 0.00000    0.000\n",
       "XV58         0.000000 0.0000   0.0000 0.00000    0.000\n",
       "XV57         0.000000 0.0000   0.0000 0.00000    0.000\n",
       "XV56         0.000000 0.0000   0.0000 0.00000    0.000\n",
       "XV54         0.000000 0.0000   0.0000 0.00000    0.000\n",
       "XV53         0.000000 0.0000   0.0000 0.00000    0.000\n",
       "XV52         0.000000 0.0000   0.0000 0.00000    0.000\n",
       "XV51         0.000000 0.0000   0.0000 0.00000    0.000\n",
       "XV50         0.000000 0.0000   0.0000 0.00000    0.000\n",
       "XV49         0.000000 0.0000   0.0000 0.00000    0.000\n",
       "XV48         0.000000 0.0000   0.0000 0.00000    0.000\n",
       "XV47         0.000000 0.0000   0.0000 0.00000    0.000\n",
       "XV46         0.000000 0.0000   0.0000 0.00000    0.000\n",
       "XV45         0.000000 0.0000   0.0000 0.00000    0.000\n",
       "XV43         0.000000 0.0000   0.0000 0.00000    0.000\n",
       "XV42         0.000000 0.0000   0.0000 0.00000    0.000\n",
       "XV41         0.000000 0.0000   0.0000 0.00000    0.000\n",
       "XV40         0.000000 0.0000   0.0000 0.00000    0.000\n",
       "XV39         0.000000 0.0000   0.0000 0.00000    0.000\n",
       "XV38         0.000000 0.0000   0.0000 0.00000    0.000\n",
       "XV37         0.000000 0.0000   0.0000 0.00000    0.000\n",
       "XV36         0.000000 0.0000   0.0000 0.00000    0.000\n",
       "XV35         0.000000 0.0000   0.0000 0.00000    0.000\n",
       "XV34         0.000000 0.0000   0.0000 0.00000    0.000\n",
       "XV32         0.000000 0.0000   0.0000 0.00000    0.000\n",
       "XV31         0.000000 0.0000   0.0000 0.00000    0.000\n",
       "XV30         0.000000 0.0000   0.0000 0.00000    0.000\n",
       "XV29         0.000000 0.0000   0.0000 0.00000    0.000\n",
       "XV28         0.000000 0.0000   0.0000 0.00000    0.000\n",
       "XV27         0.000000 0.0000   0.0000 0.00000    0.000\n",
       "XV26         0.000000 0.0000   0.0000 0.00000    0.000\n",
       "XV25         0.000000 0.0000   0.0000 0.00000    0.000\n",
       "XV24         0.000000 0.0000   0.0000 0.00000    0.000\n",
       "XV21         0.000000 0.0000   0.0000 0.00000    0.000\n",
       "XV20         0.000000 0.0000   0.0000 0.00000    0.000\n",
       "XV19         0.000000 0.0000   0.0000 0.00000    0.000\n",
       "XV18         0.000000 0.0000   0.0000 0.00000    0.000\n",
       "XV17         0.000000 0.0000   0.0000 0.00000    0.000\n",
       "XV16         0.000000 0.0000   0.0000 0.00000    0.000\n",
       "XV15         0.000000 0.0000   0.0000 0.00000    0.000\n",
       "XV14         0.000000 0.0000   0.0000 0.00000    0.000\n",
       "XV13         0.000000 0.0000   0.0000 0.00000    0.000\n",
       "XV12         0.000000 0.0000   0.0000 0.00000    0.000\n",
       "XV10         0.000000 0.0000   0.0000 0.00000    0.000\n",
       "XV9          0.000000 0.0000   0.0000 0.00000    0.000\n",
       "XV8          0.000000 0.0000   0.0000 0.00000    0.000\n",
       "XV7          0.000000 0.0000   0.0000 0.00000    0.000\n",
       "XV6          0.000000 0.0000   0.0000 0.00000    0.000\n",
       "XV4          0.000000 0.0000   0.0000 0.00000    0.000\n",
       "XV3          0.000000 0.0000   0.0000 0.00000    0.000\n",
       "XV2          0.000000 0.0000   0.0000 0.00000    0.000\n",
       "XV1          0.000000 0.0000   0.0000 0.00000    0.000"
      ]
     },
     "metadata": {},
     "output_type": "display_data"
    }
   ],
   "source": [
    "summary(model1) # prior1 1000"
   ]
  },
  {
   "cell_type": "code",
   "execution_count": null,
   "metadata": {},
   "outputs": [],
   "source": []
  },
  {
   "cell_type": "code",
   "execution_count": 19,
   "metadata": {},
   "outputs": [
    {
     "name": "stdout",
     "output_type": "stream",
     "text": [
      "=-=-=-=-= Iteration 0 Wed Oct  2 22:00:39 2019 =-=-=-=-=\n",
      "=-=-=-=-= Iteration 100 Wed Oct  2 22:00:39 2019 =-=-=-=-=\n",
      "=-=-=-=-= Iteration 200 Wed Oct  2 22:00:39 2019 =-=-=-=-=\n",
      "=-=-=-=-= Iteration 300 Wed Oct  2 22:00:39 2019 =-=-=-=-=\n",
      "=-=-=-=-= Iteration 400 Wed Oct  2 22:00:39 2019 =-=-=-=-=\n",
      "=-=-=-=-= Iteration 500 Wed Oct  2 22:00:40 2019 =-=-=-=-=\n",
      "=-=-=-=-= Iteration 600 Wed Oct  2 22:00:40 2019 =-=-=-=-=\n",
      "=-=-=-=-= Iteration 700 Wed Oct  2 22:00:40 2019 =-=-=-=-=\n",
      "=-=-=-=-= Iteration 800 Wed Oct  2 22:00:40 2019 =-=-=-=-=\n",
      "=-=-=-=-= Iteration 900 Wed Oct  2 22:00:40 2019 =-=-=-=-=\n"
     ]
    }
   ],
   "source": [
    "n <- 100\n",
    "p <- 10\n",
    "ngood <- 3\n",
    "niter <- 1000\n",
    "x <- cbind(1, matrix(rnorm(n * (p-1)), nrow=n))\n",
    "beta <- c(rnorm(ngood), rep(0, p - ngood))\n",
    "prob <- plogis(x %*% beta)\n",
    "y <- runif(n) < prob\n",
    "x <- x[,-1]\n",
    "model <- logit.spike(y ~ x, niter=niter)"
   ]
  },
  {
   "cell_type": "code",
   "execution_count": 20,
   "metadata": {},
   "outputs": [
    {
     "data": {
      "text/plain": [
       "null log likelihood:            -57.30569 \n",
       "posterior mean log likelihood:  -69.21457 \n",
       "posterior max log likelihood:   -67.30182 \n",
       "mean deviance R-sq:             -0.2078131 \n",
       "\n",
       "predicted vs observed success rates, by decile:\n",
       "              predicted observed\n",
       "(0.49,0.494]  0.4923392      0.0\n",
       "(0.494,0.496] 0.4952206      0.1\n",
       "(0.496,0.498] 0.4969029      0.2\n",
       "(0.498,0.499] 0.4983347      0.2\n",
       "(0.499,0.5]   0.4996715      0.4\n",
       "(0.5,0.502]   0.5011072      0.3\n",
       "(0.502,0.503] 0.5022994      0.0\n",
       "(0.503,0.504] 0.5036059      0.4\n",
       "(0.504,0.507] 0.5056010      0.3\n",
       "(0.507,0.512] 0.5090135      0.7\n",
       "\n",
       "summary of coefficients:\n",
       "        mean     sd mean.inc sd.inc inc.prob\n",
       "x5 -0.017700 0.0942   -0.455 0.1720    0.039\n",
       "x1 -0.011400 0.0738   -0.394 0.1940    0.029\n",
       "x9 -0.000636 0.0142   -0.318 0.0138    0.002\n",
       "x2 -0.001020 0.0228   -0.510 0.0000    0.002\n",
       "x8  0.000000 0.0000    0.000 0.0000    0.000\n",
       "x7  0.000000 0.0000    0.000 0.0000    0.000\n",
       "x6  0.000000 0.0000    0.000 0.0000    0.000\n",
       "x4  0.000000 0.0000    0.000 0.0000    0.000\n",
       "x3  0.000000 0.0000    0.000 0.0000    0.000"
      ]
     },
     "metadata": {},
     "output_type": "display_data"
    }
   ],
   "source": [
    "summary(test)"
   ]
  },
  {
   "cell_type": "code",
   "execution_count": 36,
   "metadata": {},
   "outputs": [
    {
     "data": {
      "text/plain": [
       "null log likelihood:            -67.68585 \n",
       "posterior mean log likelihood:  -69.297 \n",
       "posterior max log likelihood:   -67.94729 \n",
       "mean deviance R-sq:             -0.02380324 \n",
       "\n",
       "predicted vs observed success rates, by decile:\n",
       "                predicted  observed\n",
       "(0.4974,0.4986] 0.4982661 0.6666667\n",
       "(0.4986,0.499]  0.4988171 0.3000000\n",
       "(0.499,0.4995]  0.4991941 0.6000000\n",
       "(0.4995,0.4999] 0.4996560 0.5000000\n",
       "(0.4999,0.5002] 0.5000711 0.4000000\n",
       "(0.5002,0.5004] 0.5002891 0.8000000\n",
       "(0.5004,0.5007] 0.5005541 0.8000000\n",
       "(0.5007,0.501]  0.5009263 0.4000000\n",
       "(0.501,0.5014]  0.5011724 0.6000000\n",
       "(0.5014,0.5027] 0.5018429 0.9000000\n",
       "\n",
       "summary of coefficients:\n",
       "                 mean      sd mean.inc  sd.inc inc.prob\n",
       "x3           0.004290 0.04540   0.4290 0.16300    0.010\n",
       "x1           0.001960 0.02430   0.2450 0.12700    0.008\n",
       "x9          -0.000974 0.01540  -0.2440 0.00585    0.004\n",
       "x2          -0.000161 0.00413  -0.0536 0.06500    0.003\n",
       "x7          -0.000214 0.00483  -0.1070 0.01970    0.002\n",
       "x5           0.000281 0.00629   0.1410 0.00644    0.002\n",
       "x8           0.000000 0.00000   0.0000 0.00000    0.000\n",
       "x6           0.000000 0.00000   0.0000 0.00000    0.000\n",
       "x4           0.000000 0.00000   0.0000 0.00000    0.000\n",
       "(Intercept)  0.000000 0.00000   0.0000 0.00000    0.000"
      ]
     },
     "metadata": {},
     "output_type": "display_data"
    }
   ],
   "source": [
    "summary(test)"
   ]
  },
  {
   "cell_type": "code",
   "execution_count": 39,
   "metadata": {},
   "outputs": [
    {
     "data": {
      "text/html": [
       "<dl class=dl-horizontal>\n",
       "\t<dt>(Intercept)</dt>\n",
       "\t\t<dd>0</dd>\n",
       "\t<dt>x1</dt>\n",
       "\t\t<dd>1.96146004299969</dd>\n",
       "\t<dt>x2</dt>\n",
       "\t\t<dd>-0.16081442311462</dd>\n",
       "\t<dt>x3</dt>\n",
       "\t\t<dd>4.29328535410661</dd>\n",
       "\t<dt>x4</dt>\n",
       "\t\t<dd>0</dd>\n",
       "\t<dt>x5</dt>\n",
       "\t\t<dd>0.281467533823226</dd>\n",
       "\t<dt>x6</dt>\n",
       "\t\t<dd>0</dd>\n",
       "\t<dt>x7</dt>\n",
       "\t\t<dd>-0.214314657350521</dd>\n",
       "\t<dt>x8</dt>\n",
       "\t\t<dd>0</dd>\n",
       "\t<dt>x9</dt>\n",
       "\t\t<dd>-0.974139610722915</dd>\n",
       "</dl>\n"
      ],
      "text/latex": [
       "\\begin{description*}\n",
       "\\item[(Intercept)] 0\n",
       "\\item[x1] 1.96146004299969\n",
       "\\item[x2] -0.16081442311462\n",
       "\\item[x3] 4.29328535410661\n",
       "\\item[x4] 0\n",
       "\\item[x5] 0.281467533823226\n",
       "\\item[x6] 0\n",
       "\\item[x7] -0.214314657350521\n",
       "\\item[x8] 0\n",
       "\\item[x9] -0.974139610722915\n",
       "\\end{description*}\n"
      ],
      "text/markdown": [
       "(Intercept)\n",
       ":   0x1\n",
       ":   1.96146004299969x2\n",
       ":   -0.16081442311462x3\n",
       ":   4.29328535410661x4\n",
       ":   0x5\n",
       ":   0.281467533823226x6\n",
       ":   0x7\n",
       ":   -0.214314657350521x8\n",
       ":   0x9\n",
       ":   -0.974139610722915\n",
       "\n"
      ],
      "text/plain": [
       "(Intercept)          x1          x2          x3          x4          x5 \n",
       "  0.0000000   1.9614600  -0.1608144   4.2932854   0.0000000   0.2814675 \n",
       "         x6          x7          x8          x9 \n",
       "  0.0000000  -0.2143147   0.0000000  -0.9741396 "
      ]
     },
     "metadata": {},
     "output_type": "display_data"
    }
   ],
   "source": [
    "colSums(test$beta)"
   ]
  },
  {
   "cell_type": "code",
   "execution_count": null,
   "metadata": {},
   "outputs": [],
   "source": []
  },
  {
   "cell_type": "code",
   "execution_count": null,
   "metadata": {},
   "outputs": [],
   "source": []
  },
  {
   "cell_type": "code",
   "execution_count": null,
   "metadata": {},
   "outputs": [],
   "source": []
  },
  {
   "cell_type": "code",
   "execution_count": null,
   "metadata": {},
   "outputs": [],
   "source": []
  },
  {
   "cell_type": "code",
   "execution_count": 10,
   "metadata": {},
   "outputs": [
    {
     "data": {
      "text/html": [
       "<ol class=list-inline>\n",
       "\t<li>1000</li>\n",
       "\t<li>60</li>\n",
       "</ol>\n"
      ],
      "text/latex": [
       "\\begin{enumerate*}\n",
       "\\item 1000\n",
       "\\item 60\n",
       "\\end{enumerate*}\n"
      ],
      "text/markdown": [
       "1. 1000\n",
       "2. 60\n",
       "\n",
       "\n"
      ],
      "text/plain": [
       "[1] 1000   60"
      ]
     },
     "metadata": {},
     "output_type": "display_data"
    }
   ],
   "source": [
    "dim(model$beta)"
   ]
  },
  {
   "cell_type": "code",
   "execution_count": 98,
   "metadata": {},
   "outputs": [
    {
     "data": {
      "text/html": [
       "0.00994830787243098"
      ],
      "text/latex": [
       "0.00994830787243098"
      ],
      "text/markdown": [
       "0.00994830787243098"
      ],
      "text/plain": [
       "[1] 0.009948308"
      ]
     },
     "metadata": {},
     "output_type": "display_data"
    }
   ],
   "source": [
    "mean(model$beta[, 20])"
   ]
  },
  {
   "cell_type": "code",
   "execution_count": 13,
   "metadata": {},
   "outputs": [
    {
     "data": {
      "text/html": [
       "0.00178724383993779"
      ],
      "text/latex": [
       "0.00178724383993779"
      ],
      "text/markdown": [
       "0.00178724383993779"
      ],
      "text/plain": [
       "[1] 0.001787244"
      ]
     },
     "metadata": {},
     "output_type": "display_data"
    }
   ],
   "source": [
    "mean(model$beta[, 50])"
   ]
  },
  {
   "cell_type": "code",
   "execution_count": 45,
   "metadata": {},
   "outputs": [],
   "source": [
    "res1 = susie(X, y, L = 3, scaled_prior_variance = 0.005, estimate_prior_method = \"optim\")"
   ]
  },
  {
   "cell_type": "code",
   "execution_count": 47,
   "metadata": {},
   "outputs": [
    {
     "data": {
      "text/html": [
       "0"
      ],
      "text/latex": [
       "0"
      ],
      "text/markdown": [
       "0"
      ],
      "text/plain": [
       "[1] 0"
      ]
     },
     "metadata": {},
     "output_type": "display_data"
    }
   ],
   "source": [
    "max(res1$pip)"
   ]
  },
  {
   "cell_type": "code",
   "execution_count": 29,
   "metadata": {},
   "outputs": [],
   "source": [
    "res2 = readRDS(\"/home/min/GIT/cnv-gene-mapping/data/deletion_simu/block_79_137/deletion.genes.block30.for_simu.sample.genes.block_79_137.varbvs.rds\")"
   ]
  },
  {
   "cell_type": "code",
   "execution_count": 30,
   "metadata": {},
   "outputs": [
    {
     "data": {
      "text/html": [
       "<ol class=list-inline>\n",
       "\t<li>'fit'</li>\n",
       "\t<li>'mu'</li>\n",
       "\t<li>'beta'</li>\n",
       "</ol>\n"
      ],
      "text/latex": [
       "\\begin{enumerate*}\n",
       "\\item 'fit'\n",
       "\\item 'mu'\n",
       "\\item 'beta'\n",
       "\\end{enumerate*}\n"
      ],
      "text/markdown": [
       "1. 'fit'\n",
       "2. 'mu'\n",
       "3. 'beta'\n",
       "\n",
       "\n"
      ],
      "text/plain": [
       "[1] \"fit\"  \"mu\"   \"beta\""
      ]
     },
     "metadata": {},
     "output_type": "display_data"
    }
   ],
   "source": [
    "names(res2)"
   ]
  },
  {
   "cell_type": "code",
   "execution_count": 48,
   "metadata": {},
   "outputs": [
    {
     "data": {
      "text/html": [
       "0.0269814805603835"
      ],
      "text/latex": [
       "0.0269814805603835"
      ],
      "text/markdown": [
       "0.0269814805603835"
      ],
      "text/plain": [
       "[1] 0.02698148"
      ]
     },
     "metadata": {},
     "output_type": "display_data"
    }
   ],
   "source": [
    "max(res2$fit$pip)"
   ]
  },
  {
   "cell_type": "markdown",
   "metadata": {},
   "source": [
    "**Make input prior as the format of output of SpikeSlabPrior**\n",
    "\n",
    "pi: vector of prior.inclusion.probabilities\n",
    "\n",
    "b: optional.coefficient.estimate"
   ]
  },
  {
   "cell_type": "markdown",
   "metadata": {},
   "source": [
    "    spike.slab.prior Create a spike and slab prior for use with lm.spike.\n",
    "    SpikeSlabPrior(x,\n",
    "    y = NULL,\n",
    "    expected.r2 = .5,\n",
    "    prior.df = .01,\n",
    "    expected.model.size = 1,\n",
    "    prior.information.weight = .01,\n",
    "    diagonal.shrinkage = .5,\n",
    "    optional.coefficient.estimate = NULL,\n",
    "    max.flips = -1,\n",
    "    mean.y = mean(y, na.rm = TRUE),\n",
    "    sdy = sd(as.numeric(y), na.rm = TRUE),\n",
    "    prior.inclusion.probabilities = NULL,\n",
    "    sigma.upper.limit = Inf)\n",
    "    \n",
    "    This object is intended for use with logit.spike.\n",
    "    LogitZellnerPrior(\n",
    "    predictors,\n",
    "    successes = NULL,\n",
    "    trials = NULL,\n",
    "    prior.success.probability = NULL,\n",
    "    expected.model.size = 1,\n",
    "    prior.information.weight = .01,\n",
    "    diagonal.shrinkage = .5,\n",
    "    optional.coefficient.estimate = NULL,\n",
    "    max.flips = -1,\n",
    "    prior.inclusion.probabilities = NULL)"
   ]
  },
  {
   "cell_type": "markdown",
   "metadata": {},
   "source": [
    "    logit.spike    Spike and slab logistic regression\n",
    "    logit.spike(formula,\n",
    "    niter,\n",
    "    data,\n",
    "    subset,\n",
    "    prior = NULL,\n",
    "    na.action = options(\"na.action\"),\n",
    "    contrasts = NULL,\n",
    "    drop.unused.levels = TRUE,\n",
    "    initial.value = NULL,\n",
    "    ping = niter / 10,\n",
    "    nthreads = 0,\n",
    "    clt.threshold = 2,\n",
    "    mh.chunk.size = 10,\n",
    "    proposal.df = 3,\n",
    "    sampler.weights = c(\"DA\" = .333, \"RWM\" = .333, \"TIM\" = .333),\n",
    "    seed = NULL,\n",
    "    ...)\n",
    "    \n",
    "    lm.spike       Spike and slab regression\n",
    "    lm.spike(formula,\n",
    "    niter,\n",
    "    data,\n",
    "    subset,\n",
    "    prior = NULL,\n",
    "    error.distribution = c(\"gaussian\", \"student\"),\n",
    "    contrasts = NULL,\n",
    "    drop.unused.levels = TRUE,\n",
    "    model.options = SsvsOptions(),\n",
    "    ping = niter / 10,\n",
    "    seed = NULL,\n",
    "    ...)"
   ]
  },
  {
   "cell_type": "code",
   "execution_count": null,
   "metadata": {},
   "outputs": [],
   "source": []
  }
 ],
 "metadata": {
  "kernelspec": {
   "display_name": "R",
   "language": "R",
   "name": "ir"
  },
  "language_info": {
   "codemirror_mode": "r",
   "file_extension": ".r",
   "mimetype": "text/x-r-source",
   "name": "R",
   "pygments_lexer": "r",
   "version": "3.5.1"
  }
 },
 "nbformat": 4,
 "nbformat_minor": 4
}
