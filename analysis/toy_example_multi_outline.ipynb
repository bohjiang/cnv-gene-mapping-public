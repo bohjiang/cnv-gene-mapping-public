{
 "cells": [
  {
   "cell_type": "markdown",
   "metadata": {},
   "source": [
    "### Toy example of multi-gene configuration overlapped with multi-CNV"
   ]
  },
  {
   "cell_type": "markdown",
   "metadata": {},
   "source": [
    "#### Simulate CNVs\n",
    "1) Simulate CNV length (number of overlapped genes), following geometric distribution (p=0.5), maximum 10 genes.\n",
    "\n",
    "2) Simulate CNV start position according to the corresponding length. For example, if a CNV interrupts 5 genes, then it could only start within the first 6 gene position, and the start position is randomly selected among the 6 genes."
   ]
  },
  {
   "cell_type": "markdown",
   "metadata": {},
   "source": [
    "#### Assign CNVs to cases and controls\n",
    "1) Set the 5th gene as causal gene.\n",
    "\n",
    "2) Simulate a random number from standard normal for each CNV. For each CNV interrupts with 5th gene, add a constant 1 to the simulated number.\n",
    "\n",
    "3) Since longer CNVs are supposed to have higher risk than shorter CNVs, I add a value to the number obtained from 2nd step, which is 0.1*number of covered gene.\n",
    "\n",
    "4) Calculate the median of all the values obtained from the first three steps; set those larger than median as cases, and the others are controls."
   ]
  },
  {
   "cell_type": "markdown",
   "metadata": {},
   "source": [
    "### Results\n",
    "#### CNV maximum length overlap with 10 genes; sample size 2000; 5th gene is causal\n",
    "#### Constant $0$\n",
    "1) varbvs\n",
    "\n",
    "    variable\t   prob\tPVE\t   coef\t   Pr(coef.>0.95)\n",
    "    gene4\t0.040238922\tNA\t0.3292613\t[+0.065,+0.583]\n",
    "    gene5\t0.037825435\tNA\t0.3154991\t[+0.084,+0.567]\n",
    "    gene3\t0.017228166\tNA\t0.2784136\t[+0.025,+0.526]\n",
    "    gene10   0.016860727\tNA\t0.0000000\t[-1.964,+1.983]\n",
    "    gene7\t0.006282785\tNA\t0.1961343\t[-0.065,+0.462]\n",
    "\n",
    "2) DAP, consumed 1.15s\n",
    "\n",
    "    Posterior expected model size: 0.280 (sd = 0.486)\n",
    "    LogNC = -0.74363 ( Log10NC = -0.323 )\n",
    "    Posterior inclusion probability\n",
    "\n",
    "    1 chr6.100010   9.67567e-02      0.000\n",
    "    2 chr6.100004   6.81672e-02     -0.131\n",
    "    3 chr6.100005   6.24375e-02     -0.173\n",
    "    4 chr6.100003   2.61014e-02     -0.563\n",
    "    5 chr6.100006   6.95827e-03     -1.069\n",
    "    6 chr6.100007   6.23152e-03     -1.117\n",
    "    7 chr6.100002   4.64830e-03     -1.244\n",
    "    8 chr6.100009   3.12758e-03     -1.416\n",
    "    9 chr6.100008   2.85567e-03     -1.455\n",
    "    10 chr6.100001   2.70326e-03     -1.479\n",
    "\n",
    "#### Constant $0.1$\n",
    "1) varbvs\n",
    "\n",
    "    variable\tprob\tPVE\tcoef\tPr(coef.>0.95)\n",
    "    gene5\t0.78612965\tNA\t0.4906664\t[+0.235,+0.732]\n",
    "    gene10   0.03997344\tNA\t0.0000000\t[-1.878,+1.858]\n",
    "    gene3\t0.03384508\tNA\t0.2664869\t[+0.006,+0.514]\n",
    "    gene4\t0.02159713\tNA\t0.2448626\t[-0.041,+0.541]\n",
    "    gene7\t0.01573406\tNA\t0.2086066\t[-0.068,+0.465]\n",
    "\n",
    "2) DAP, consumed 1.84s\n",
    "\n",
    "    Posterior expected model size: 1.004 (sd = 0.483)\n",
    "    LogNC = 1.14602 ( Log10NC = 0.498 )\n",
    "    Posterior inclusion probability\n",
    "\n",
    "    1 chr6.100005   7.25925e-01      1.708\n",
    "    2 chr6.100004   1.40245e-01      0.968\n",
    "    3 chr6.100010   9.87981e-02      0.000\n",
    "    4 chr6.100003   2.80659e-02     -0.103\n",
    "    5 chr6.100006   5.51975e-03     -0.349\n",
    "    6 chr6.100007   3.52228e-03     -0.544\n",
    "    7 chr6.100002   1.08403e-03     -1.055\n",
    "\n",
    "#### Constant $0.5$\n",
    "1) varbvs\n",
    "\n",
    "    variable\tprob\tPVE\tcoef\tPr(coef.>0.95)\n",
    "    gene5\t1.00000000\tNA\t1.0491817\t[+0.790,+1.291]\n",
    "    gene7\t0.06417755\tNA\t0.2934619\t[+0.040,+0.560]\n",
    "    gene3\t0.06116803\tNA\t0.2843804\t[+0.002,+0.539]\n",
    "    gene10   0.04828492\tNA\t0.0000000\t[-1.798,+1.966]\n",
    "    gene2\t0.02864481\tNA\t0.2341940\t[-0.044,+0.514]\n",
    "\n",
    "2) DAP, consumed 2.31s\n",
    "\n",
    "    Posterior expected model size: 1.193 (sd = 0.429)\n",
    "    LogNC = 24.68358 ( Log10NC = 10.720 )\n",
    "    Posterior inclusion probability\n",
    "\n",
    "    1 chr6.100005   9.98185e-01     12.043\n",
    "    2 chr6.100010   9.94609e-02      0.000\n",
    "    3 chr6.100007   3.88496e-02      1.558\n",
    "    4 chr6.100003   3.85528e-02      1.267\n",
    "    5 chr6.100002   1.78767e-02     -0.525\n",
    "\n",
    "#### Constant $1.0$\n",
    "\n",
    "1) varbvs\n",
    "\n",
    "    variable\tprob\tPVE\tcoef\tPr(coef.>0.95)\n",
    "    gene5\t1.00000000\tNA\t1.8363550\t[+1.578,+2.089]\n",
    "    gene3\t0.08170696\tNA\t0.3087521\t[+0.050,+0.589]\n",
    "    gene2\t0.06772296\tNA\t0.3017016\t[+0.045,+0.578]\n",
    "    gene10   0.04849084\tNA\t0.0000000\t[-1.955,+1.949]\n",
    "    gene7\t0.02220443\tNA\t0.2107806\t[-0.096,+0.485]\n",
    "\n",
    "2) DAP, consumed 1.70s\n",
    "\n",
    "    Posterior expected model size: 1.199 (sd = 0.429)\n",
    "    LogNC = 73.39645 ( Log10NC = 31.876 )\n",
    "    Posterior inclusion probability\n",
    "\n",
    "    1 chr6.100005   9.98454e-01     33.195\n",
    "    2 chr6.100010   9.97905e-02      0.000\n",
    "    3 chr6.100003   5.33412e-02      3.068\n",
    "    4 chr6.100002   4.78144e-02      0.287\n"
   ]
  },
  {
   "cell_type": "markdown",
   "metadata": {},
   "source": [
    "#### DAP results \n",
    "The last section of the output is the posterior inclusion probabilities (PIP) for top ranked genes, for example, PIP for gene5 is 0.998\n",
    "\n",
    "The last column gives $\\text{log}_{10}$ Bayes factor of the corresponding SNP/gene in single-SNP/gene testing."
   ]
  },
  {
   "cell_type": "code",
   "execution_count": null,
   "metadata": {
    "collapsed": true
   },
   "outputs": [],
   "source": []
  }
 ],
 "metadata": {
  "kernelspec": {
   "display_name": "Python 3",
   "language": "python",
   "name": "python3"
  },
  "language_info": {
   "codemirror_mode": {
    "name": "ipython",
    "version": 3
   },
   "file_extension": ".py",
   "mimetype": "text/x-python",
   "name": "python",
   "nbconvert_exporter": "python",
   "pygments_lexer": "ipython3",
   "version": "3.5.2"
  }
 },
 "nbformat": 4,
 "nbformat_minor": 2
}
