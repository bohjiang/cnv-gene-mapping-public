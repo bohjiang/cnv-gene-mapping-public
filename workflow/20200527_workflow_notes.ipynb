{
 "cells": [
  {
   "cell_type": "markdown",
   "metadata": {
    "kernel": "SoS"
   },
   "source": []
  },
  {
   "cell_type": "markdown",
   "metadata": {
    "kernel": "SoS"
   },
   "source": [
    "## 20200527 deletion CNV, no header and index\n",
    "### Simulation\n",
    "```\n",
    "sos run workflow/20190717_workflow.ipynb simulate \\\n",
    "    --name simulation_dele \\\n",
    "    --genotype-file /home/min/GIT/cnv-gene-mapping/data/deletion.X.no_colrownames.gz \\\n",
    "    --cwd output/simulation_dele \\\n",
    "    --sample-size 200000 \\\n",
    "    --n-batch 200\n",
    "```\n",
    "### fisher\n",
    "```\n",
    "sos run workflow/20190717_workflow.ipynb fisher \\\n",
    "    --name simulation_dele --cwd output/simulation_dele \\\n",
    "    --genotype-file output/simulation_dele/deletion.X.no_colrownames_b30.simulation_dele.samples.X.gz \\\n",
    "    --phenotype-file output/simulation_dele/deletion.X.no_colrownames_b30.simulation_dele.samples.y.gz\n",
    "```\n",
    "### SuSiE\n",
    "```\n",
    "sos run workflow/20190717_workflow.ipynb susie \\\n",
    "    --name simulation_dele --cwd output/simulation_dele \\\n",
    "    --genotype-file output/simulation_dele/deletion.X.no_colrownames_b30.simulation_dele.samples.X.gz \\\n",
    "    --phenotype-file output/simulation_dele/deletion.X.no_colrownames_b30.simulation_dele.samples.y.gz\n",
    "```\n",
    "### varbvs\n",
    "```\n",
    "sos run workflow/20190717_workflow.ipynb varbvs \\\n",
    "    --name simulation_dele --cwd output/simulation_dele \\\n",
    "    --genotype-file output/simulation_dele/deletion.X.no_colrownames_b30.simulation_dele.samples.X.gz \\\n",
    "    --phenotype-file output/simulation_dele/deletion.X.no_colrownames_b30.simulation_dele.samples.y.gz\n",
    "```"
   ]
  },
  {
   "cell_type": "code",
   "execution_count": null,
   "metadata": {
    "kernel": "SoS"
   },
   "outputs": [],
   "source": []
  }
 ],
 "metadata": {
  "kernelspec": {
   "display_name": "SoS",
   "language": "sos",
   "name": "sos"
  },
  "language_info": {
   "codemirror_mode": "sos",
   "file_extension": ".sos",
   "mimetype": "text/x-sos",
   "name": "sos",
   "nbconvert_exporter": "sos_notebook.converter.SoS_Exporter",
   "pygments_lexer": "sos"
  },
  "sos": {
   "kernels": [
    [
     "SoS",
     "sos",
     "",
     ""
    ]
   ],
   "version": "0.21.7"
  }
 },
 "nbformat": 4,
 "nbformat_minor": 4
}
