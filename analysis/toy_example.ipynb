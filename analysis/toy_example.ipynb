{
 "cells": [
  {
   "cell_type": "code",
   "execution_count": 8,
   "metadata": {
    "collapsed": true
   },
   "outputs": [],
   "source": [
    "import numpy as np\n",
    "import pandas as pd\n",
    "import feather"
   ]
  },
  {
   "cell_type": "code",
   "execution_count": 2,
   "metadata": {
    "collapsed": true
   },
   "outputs": [],
   "source": [
    "n = 600\n",
    "s1 = [0,0,0]\n",
    "s2 = [1,0,0]\n",
    "s3 = [0,1,0]\n",
    "s4 = [0,0,1]\n",
    "s5 = [1,1,0]\n",
    "s6 = [0,1,1]\n",
    "s7 = [1,1,1]"
   ]
  },
  {
   "cell_type": "code",
   "execution_count": 3,
   "metadata": {},
   "outputs": [],
   "source": [
    "config1 = np.matrix( [s7 for i in range(n)] + [s1 for i in range(n)] )\n",
    "# extreme situation 1, [1,1,1] and [0,0,0], first gene is causal\n",
    "# 1 indicates case, 0 indicates ctrl\n",
    "sample1_ext = np.matrix( [[1] for i in range(n)] + [[0] for i in range(n)] )"
   ]
  },
  {
   "cell_type": "code",
   "execution_count": 4,
   "metadata": {},
   "outputs": [],
   "source": [
    "d_const = 0.5\n",
    "config2 = np.matrix( [s5 for i in range(n)] + [s6 for i in range(n)] )\n",
    "# extreme situation 2, [1,1,0] and [0,1,1], first gene is causal\n",
    "sample2_ext = np.matrix( [[1] for i in range(n)] + [[0] for i in range(n)] )\n",
    "# mild situation 1, [1,1,0] and [0,1,1]\n",
    "sample2_mild = [np.random.normal(0,1)+d_const for i in range(n)] + [np.random.normal(0,1) for i in range(n)]\n",
    "sample2_mild = np.matrix( [[1] if i>np.median(sample2_mild) else [0] for i in sample2_mild] )"
   ]
  },
  {
   "cell_type": "code",
   "execution_count": 10,
   "metadata": {},
   "outputs": [
    {
     "name": "stdout",
     "output_type": "stream",
     "text": [
      "4\n"
     ]
    }
   ],
   "source": [
    "s1 = np.concatenate((sample1_ext, config1), axis=1)\n",
    "s2_ext = np.concatenate((sample2_ext, config2), axis=1)\n",
    "s2_mild = np.concatenate((sample2_mild, config2), axis=1)\n",
    "print (s2_mild.shape[1])"
   ]
  },
  {
   "cell_type": "code",
   "execution_count": 30,
   "metadata": {},
   "outputs": [],
   "source": [
    "df = pd.DataFrame(s2_mild, columns = ['phenotype'] + np.array(range(s2_mild.shape[1]-1), dtype = 'str').tolist())\n",
    "for col in df.columns:\n",
    "    df[col] = df[col].astype(np.uint8)\n",
    "feather.write_dataframe(df, \"data/s2_mild.feather\")"
   ]
  },
  {
   "cell_type": "code",
   "execution_count": null,
   "metadata": {
    "collapsed": true
   },
   "outputs": [],
   "source": []
  }
 ],
 "metadata": {
  "kernelspec": {
   "display_name": "Python 3",
   "language": "python",
   "name": "python3"
  },
  "language_info": {
   "codemirror_mode": {
    "name": "ipython",
    "version": 3
   },
   "file_extension": ".py",
   "mimetype": "text/x-python",
   "name": "python",
   "nbconvert_exporter": "python",
   "pygments_lexer": "ipython3",
   "version": "3.5.2"
  }
 },
 "nbformat": 4,
 "nbformat_minor": 2
}
