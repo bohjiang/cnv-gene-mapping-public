{
 "cells": [
  {
   "cell_type": "markdown",
   "metadata": {},
   "source": [
    "# Toy example for multi-genes and multi-CNVs in a region\n",
    "## One or more causal genes"
   ]
  },
  {
   "cell_type": "code",
   "execution_count": 1,
   "metadata": {
    "collapsed": true,
    "kernel": "SoS"
   },
   "outputs": [],
   "source": [
    "import numpy as np\n",
    "import pandas as pd\n",
    "import feather\n",
    "from pandasql import sqldf\n",
    "from scipy import stats\n",
    "import sys\n",
    "import fisher"
   ]
  },
  {
   "cell_type": "code",
   "execution_count": 26,
   "metadata": {
    "collapsed": true
   },
   "outputs": [],
   "source": [
    "def toy_multicnv_multicausal(p, n_cnv, causal, n_geom=10000, n_gene=10, const1=0.5, const2=0.05, seed=12):\n",
    "    '''A region with multiple genes and CNVs. CNVs probably overlap. At least two causal genes.\n",
    "    \"causal\" is a list of positions of causal genes.\n",
    "    \"n_gene\" is the number of genes this region harbors.\n",
    "    \"n_cnv\" is the number of CNV in this region. \"n_geom\" is the number of geometric variables generated.\n",
    "    \"p\" is the probability of geometric dist, then randomly generate a certain number of geometric variables.\n",
    "    I use these variables minus 1 as the length of CNVs, which means the number of genes that a CNV overlap with.\n",
    "    The maximum length for CNV in this region is overlapping with 10 genes'''\n",
    "    np.random.seed(seed)\n",
    "    if n_cnv > n_geom:\n",
    "        print (\"The number of CNV is larger than the number of geometric numbers\")\n",
    "        sys.exit()\n",
    "        return None\n",
    "    geom_minus_1 = np.random.geometric(p, size=n_geom) - 1\n",
    "    if n_cnv > len(geom_minus_1[geom_minus_1 <= n_gene]):\n",
    "        print (\"Cannot take a larger sample than population when 'replace=False'\")\n",
    "        sys.exit()\n",
    "        return None\n",
    "    cnv_len = np.random.choice(geom_minus_1[geom_minus_1 <= n_gene], n_cnv, replace=False)\n",
    "    cnv_start_pos = [np.random.choice(range(n_gene+1-i)) if i!=0 else -1 for i in cnv_len]\n",
    "    ptn_ls = []\n",
    "    for j,i in enumerate(cnv_start_pos):\n",
    "    ## j is the index of i in cnv start position list, so cnv_len[j] is the length of the corresponding cnv;\n",
    "    ## i is the corresponding cnv start position\n",
    "        if i == -1:\n",
    "            ptn = [0]*n_gene\n",
    "        else:\n",
    "            ptn = [0]*i + [1]*cnv_len[j] + [0]*(n_gene - cnv_len[j] - i)\n",
    "        ptn_ls.append(ptn)\n",
    "    mat = [[np.random.normal(0,1)] + line for line in ptn_ls]\n",
    "    config = []\n",
    "    for line in mat:\n",
    "        line[0] = line[0] + line[1:].count(1)*const2\n",
    "        config.append(line[0])\n",
    "#         only one causal gene, and gene pos is no more than the number of gene covered in this region\n",
    "        if len(causal) == 1 and (causal[0] > len(line[1:]) or causal[0] <= 0):\n",
    "            print (\"Single causal CNV index out of range\")\n",
    "            sys.exit()\n",
    "        elif len(causal) == 1 and causal[0] <= len(line[1:]):\n",
    "            line[0] = line[0] + line[causal[0]]*const1\n",
    "            config[-1] = line[0]\n",
    "        elif max(causal) > len(line[1:]) or min(causal) <= 0:\n",
    "            print (\"Causal CNV index out of range\")\n",
    "            sys.exit()\n",
    "        elif any(line[x] for x in causal):\n",
    "            line[0] = line[0] + const1*[line[x] for x in causal].count(1)\n",
    "            config[-1] = line[0]\n",
    "        else:\n",
    "            continue\n",
    "    for line in mat:\n",
    "        line[0] = 1 if line[0] >= np.median(config) else 0\n",
    "    mat = np.matrix(mat)\n",
    "    df = pd.DataFrame(mat, columns = [\"phenotype\"] + [\"gene{}\".format(i+1) for i in range(mat.shape[1]-1)])\n",
    "    counts = df.groupby([\"gene{}\".format(i+1) for i in range(mat.shape[1]-1)] + [\"phenotype\"]).size()\n",
    "    \n",
    "    for col in df.columns:\n",
    "        df[col] = df[col].astype(np.uint8)\n",
    "    output = feather.write_dataframe(df, \"data/toy_n{}_p{}_causal{}_const{}_{}.feather\"\n",
    "                                     .format(len(cnv_len), p, causal, const1, const2))\n",
    "    return df, counts"
   ]
  },
  {
   "cell_type": "code",
   "execution_count": 27,
   "metadata": {
    "scrolled": true
   },
   "outputs": [
    {
     "name": "stdout",
     "output_type": "stream",
     "text": [
      "2500\n"
     ]
    }
   ],
   "source": [
    "df, counts = toy_multicnv_multicausal(p=0.5, n_cnv=5000, causal=[1,15], n_gene=15, const1=0.45, const2=0.03)\n",
    "print (df[\"phenotype\"].tolist().count(1))"
   ]
  },
  {
   "cell_type": "code",
   "execution_count": 10,
   "metadata": {},
   "outputs": [
    {
     "name": "stdout",
     "output_type": "stream",
     "text": [
      "2017-09-05 18:23:23.243223\n",
      "2017-09-05 18:23:38.362238\n"
     ]
    }
   ],
   "source": [
    "from utils import run_dap_lite\n",
    "fileout = \"data/toy_multi_causal_10.dap\"\n",
    "run_dap_lite(df, fileout, grid=[(0, -9.2)])"
   ]
  },
  {
   "cell_type": "code",
   "execution_count": 42,
   "metadata": {
    "collapsed": true
   },
   "outputs": [],
   "source": [
    "def get_summary_stats(gene_df, subst = -100):\n",
    "    '''get summary statistics (e.g. t-statistic, p-value) to be used for TORUS, then transfer p-value to z-score\n",
    "    '''\n",
    "    cases = gene_df[gene_df[\"phenotype\"]==1]\n",
    "    ctrls = gene_df[gene_df[\"phenotype\"]==0]\n",
    "    res_dict = {}\n",
    "    for gene in list(gene_df)[1:]:\n",
    "        n_gene_case = len(cases[cases[gene]==1])\n",
    "        n_nogene_case = len(cases[cases[gene]==0])\n",
    "        n_gene_ctrl = len(ctrls[ctrls[gene]==1])\n",
    "        n_nogene_ctrl = len(ctrls[ctrls[gene]==0])\n",
    "        fisher_stats = fisher.pvalue(n_gene_case, n_gene_ctrl, n_nogene_case, n_nogene_ctrl)\n",
    "        p_value_two = fisher_stats.two_tail\n",
    "        p_value_left = fisher_stats.left_tail\n",
    "        p_value_right = fisher_stats.right_tail\n",
    "        print (p_value_two, p_value_left, p_value_right)\n",
    "        if p_value_right < 0.5 and p_value_two < 1:\n",
    "            z_score = stats.norm.ppf(1-p_value_right)\n",
    "        elif p_value_left < 0.5 and p_value_two < 1:\n",
    "            z_score = -stats.norm.ppf(1-p_value_left)\n",
    "        else:\n",
    "            z_score = subst\n",
    "        res_dict[gene] = z_score\n",
    "    return res_dict"
   ]
  },
  {
   "cell_type": "code",
   "execution_count": 29,
   "metadata": {},
   "outputs": [
    {
     "name": "stdout",
     "output_type": "stream",
     "text": [
      "0.00024462176432881117 0.9999348800778008 0.00012231088216440556\n",
      "0.9529633290053254 0.47648166450266255 0.5702296709879797\n",
      "0.2208036361594937 0.1104018180797468 0.9091897147620988\n",
      "0.6587783076749487 0.7095302789396232 0.32938915383747447\n",
      "0.7860605670384375 0.6480298274140719 0.39303028351921887\n",
      "0.11233726712005403 0.9545154603485689 0.056168633560027006\n",
      "0.48575252342344866 0.24287626171172427 0.7894019985716844\n",
      "0.4004777133244753 0.827899293102909 0.20023885666223779\n",
      "0.48360579825626965 0.7905444120471704 0.24180289912813469\n",
      "0.5922751819477777 0.7397794586927233 0.2961375909738887\n",
      "0.9999999999985895 0.5445378127845576 0.49999999999929434\n",
      "0.029128786223406904 0.9891858882638618 0.014564393111703445\n",
      "0.006481393111004906 0.9977527840366609 0.003240696555502453\n",
      "0.05360166558996012 0.9802540552225478 0.026800832794980065\n",
      "9.854096454110435e-06 0.9999975943958207 4.927048227055219e-06\n"
     ]
    },
    {
     "data": {
      "text/plain": [
       "{'gene1': 3.6678257823421223,\n",
       " 'gene10': 0.53554191477264124,\n",
       " 'gene11': 1.7677085129515064e-12,\n",
       " 'gene12': 2.1817391980275018,\n",
       " 'gene13': 2.7223781458865797,\n",
       " 'gene14': 1.9300417447140998,\n",
       " 'gene15': 4.420350444922196,\n",
       " 'gene2': -0.058985912204876305,\n",
       " 'gene3': -1.2243939880406665,\n",
       " 'gene4': 0.44160051996547306,\n",
       " 'gene5': 0.27142969322658017,\n",
       " 'gene6': 1.587774820610055,\n",
       " 'gene7': -0.69708032974689282,\n",
       " 'gene8': 0.84076836409598865,\n",
       " 'gene9': 0.7005149080833758}"
      ]
     },
     "execution_count": 29,
     "metadata": {},
     "output_type": "execute_result"
    }
   ],
   "source": [
    "get_summary_stats(df)"
   ]
  },
  {
   "cell_type": "code",
   "execution_count": 44,
   "metadata": {},
   "outputs": [
    {
     "data": {
      "text/plain": [
       "1.7677085129515064e-12"
      ]
     },
     "execution_count": 44,
     "metadata": {},
     "output_type": "execute_result"
    }
   ],
   "source": [
    "stats.norm.ppf((1+(1-0.9999999999985895))/2)"
   ]
  },
  {
   "cell_type": "code",
   "execution_count": 43,
   "metadata": {},
   "outputs": [
    {
     "name": "stdout",
     "output_type": "stream",
     "text": [
      "0.00024462176432881117 0.9999348800778008 0.00012231088216440556\n",
      "0.9529633290053254 0.47648166450266255 0.5702296709879797\n",
      "0.2208036361594937 0.1104018180797468 0.9091897147620988\n",
      "0.6587783076749487 0.7095302789396232 0.32938915383747447\n",
      "0.7860605670384375 0.6480298274140719 0.39303028351921887\n",
      "0.11233726712005403 0.9545154603485689 0.056168633560027006\n",
      "0.48575252342344866 0.24287626171172427 0.7894019985716844\n",
      "0.4004777133244753 0.827899293102909 0.20023885666223779\n",
      "0.48360579825626965 0.7905444120471704 0.24180289912813469\n",
      "0.5922751819477777 0.7397794586927233 0.2961375909738887\n",
      "0.9999999999985895 0.5445378127845576 0.49999999999929434\n",
      "0.029128786223406904 0.9891858882638618 0.014564393111703445\n",
      "0.006481393111004906 0.9977527840366609 0.003240696555502453\n",
      "0.05360166558996012 0.9802540552225478 0.026800832794980065\n",
      "9.854096454110435e-06 0.9999975943958207 4.927048227055219e-06\n"
     ]
    },
    {
     "data": {
      "text/plain": [
       "{'gene1': 3.6678257823421223,\n",
       " 'gene10': 0.53554191477264146,\n",
       " 'gene11': 1.7688216795213752e-12,\n",
       " 'gene12': 2.1817391980275018,\n",
       " 'gene13': 2.7223781458865903,\n",
       " 'gene14': 1.9300417447140998,\n",
       " 'gene15': 4.420350444922196,\n",
       " 'gene2': -0.058985912204876582,\n",
       " 'gene3': -1.2243939880406665,\n",
       " 'gene4': 0.44160051996547278,\n",
       " 'gene5': 0.27142969322657989,\n",
       " 'gene6': 1.587774820610055,\n",
       " 'gene7': -0.69708032974689327,\n",
       " 'gene8': 0.84076836409598821,\n",
       " 'gene9': 0.70051490808337613}"
      ]
     },
     "execution_count": 43,
     "metadata": {},
     "output_type": "execute_result"
    }
   ],
   "source": [
    "get_summary_stats(df)"
   ]
  },
  {
   "cell_type": "code",
   "execution_count": 9,
   "metadata": {},
   "outputs": [
    {
     "name": "stdout",
     "output_type": "stream",
     "text": [
      "0 phenotype\n",
      "1 gene1\n",
      "2 gene2\n",
      "3 gene3\n",
      "4 gene4\n",
      "5 gene5\n",
      "6 gene6\n",
      "7 gene7\n",
      "8 gene8\n",
      "9 gene9\n",
      "10 gene10\n",
      "11 gene11\n",
      "12 gene12\n",
      "13 gene13\n",
      "14 gene14\n",
      "15 gene15\n"
     ]
    }
   ],
   "source": [
    "for idx, item in enumerate(df.columns.values):\n",
    "    print (idx, item)"
   ]
  },
  {
   "cell_type": "code",
   "execution_count": 10,
   "metadata": {},
   "outputs": [
    {
     "name": "stdout",
     "output_type": "stream",
     "text": [
      "0 0 0\n",
      "1 6 6\n",
      "2 8 8\n",
      "3 9 9\n",
      "4 1 1\n",
      "5 4 4\n",
      "6 3 3\n"
     ]
    }
   ],
   "source": [
    "startp=[0,6,8,9,1,4,3]\n",
    "for j, i in enumerate(startp):\n",
    "    print (j,i, startp[j])"
   ]
  },
  {
   "cell_type": "code",
   "execution_count": 7,
   "metadata": {
    "collapsed": true,
    "kernel": "SoS"
   },
   "outputs": [],
   "source": [
    "df.to_csv(\"data/df5000.csv\")"
   ]
  },
  {
   "cell_type": "code",
   "execution_count": 8,
   "metadata": {
    "collapsed": true,
    "kernel": "SoS"
   },
   "outputs": [],
   "source": [
    "counts.to_csv(\"data/counts.csv\")"
   ]
  },
  {
   "cell_type": "code",
   "execution_count": null,
   "metadata": {
    "collapsed": true
   },
   "outputs": [],
   "source": []
  },
  {
   "cell_type": "code",
   "execution_count": 121,
   "metadata": {
    "collapsed": true,
    "kernel": "SoS"
   },
   "outputs": [],
   "source": [
    "# bug in it, fixed in function \"toy_multicnv_multicausal\"\n",
    "def toy_multi_gene_cnv(p, n_cnv, n_max=10, causal=5, const1=1, const2=0.1, seed=1):\n",
    "    '''A region with multiple genes and CNVs. CNVs may overlap or not overlap. Only one causal gene.'''\n",
    "    np.random.seed(seed)\n",
    "    cnv_len = np.random.choice((np.random.geometric(p, size=n_cnv) - 1), n_cnv, replace=False)\n",
    "    cnv_len = cnv_len[cnv_len <= 10].tolist()\n",
    "    start_pos = [np.random.choice(range(n_max+1-i)) if i!=0 else -1 for i in cnv_len]\n",
    "    ptn_ls = []\n",
    "    for j,i in enumerate(start_pos):\n",
    "        if i == -1:\n",
    "            ptn = [0]*n_max\n",
    "        elif i == 0:\n",
    "            ptn = [0]*(i-1) + [1]*cnv_len[j] + [0]*(n_max-cnv_len[j]-i)\n",
    "        else:\n",
    "            ptn = [0]*(i-1) + [1]*cnv_len[j] + [0]*(n_max-cnv_len[j]-(i-1))\n",
    "        ptn_ls.append(ptn)\n",
    "    mat = [[np.random.normal(0,1)] + line for line in ptn_ls]\n",
    "    config = []\n",
    "    for line in mat:\n",
    "##         config.append(line[0]+const1) if line[causal-1] == 1 else config.append(line[0])\n",
    "        if line[causal] == 1:\n",
    "            line[0] = line[0] + const1\n",
    "        config.append(line[0])\n",
    "        \n",
    "#       the longer the CNV is, the less common it is, and larger OR\n",
    "        line[0] = line[0] + line[1:].count(1)*const2\n",
    "        \n",
    "##         line[0] = 1 if line[0] > np.median(config) else 0\n",
    "        if line[0] >= np.median(config):\n",
    "            line[0] = 1\n",
    "        else:\n",
    "            line[0] = 0\n",
    "        \n",
    "    mat = np.matrix(mat)\n",
    "    df = pd.DataFrame(mat, columns = [\"phenotype\"] + [\"gene{}\".format(i+1) for i in range(mat.shape[1]-1)])\n",
    "    counts = df.groupby([\"gene{}\".format(i+1) for i in range(mat.shape[1]-1)] + [\"phenotype\"]).size()\n",
    "    for col in df.columns:\n",
    "        df[col] = df[col].astype(np.uint8)\n",
    "    output = feather.write_dataframe(df, \"data/toy_n{}_p{}_causal{}_const{}_{}.feather\"\n",
    "                                     .format(len(cnv_len), p, causal, const1, const2))\n",
    "    return df, counts"
   ]
  },
  {
   "cell_type": "code",
   "execution_count": 123,
   "metadata": {
    "collapsed": true,
    "kernel": "SoS",
    "scrolled": true
   },
   "outputs": [],
   "source": [
    "df1, counts1 = toy_multi_gene_cnv(p=0.6, n_cnv=20, const1=1.0, const2=0.05)\n",
    "# print (df[\"phenotype\"].tolist())"
   ]
  }
 ],
 "metadata": {
  "kernelspec": {
   "display_name": "Python 3",
   "language": "python",
   "name": "python3"
  },
  "language_info": {
   "codemirror_mode": {
    "name": "ipython",
    "version": 3
   },
   "file_extension": ".py",
   "mimetype": "text/x-python",
   "name": "python",
   "nbconvert_exporter": "python",
   "pygments_lexer": "ipython3",
   "version": "3.5.2"
  },
  "sos": {
   "default_kernel": "SoS",
   "kernels": [
    [
     "SoS",
     "sos",
     "",
     ""
    ],
    [
     "Python3",
     "python3",
     "Python3",
     "#FFE771"
    ],
    [
     "R",
     "ir",
     "R",
     "#DCDCDA"
    ]
   ],
   "panel": {
    "displayed": true,
    "height": 0,
    "style": "side"
   }
  }
 },
 "nbformat": 4,
 "nbformat_minor": 2
}
