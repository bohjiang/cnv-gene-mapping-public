{
 "cells": [
  {
   "cell_type": "markdown",
   "metadata": {
    "kernel": "SoS"
   },
   "source": [
    "# Single effect using `logistic`"
   ]
  },
  {
   "cell_type": "code",
   "execution_count": 48,
   "metadata": {
    "kernel": "R"
   },
   "outputs": [],
   "source": [
    "# library(data.table)\n",
    "block = c(2092, 2099)"
   ]
  },
  {
   "cell_type": "code",
   "execution_count": 49,
   "metadata": {
    "kernel": "R"
   },
   "outputs": [],
   "source": [
    "X <- as.matrix(data.table::fread(paste(\"/data/GIT/cnv-gene-mapping/data/deletion_simu/block_\", block[1], \"_\" , block[2], \n",
    "                                       \"/deletion.genes.block30.for_simu.sample.genes.block_\", block[1], \"_\" , block[2], \".gz\", sep = \"\"), header = F))"
   ]
  },
  {
   "cell_type": "code",
   "execution_count": 50,
   "metadata": {
    "kernel": "R"
   },
   "outputs": [],
   "source": [
    "y <- as.matrix(data.table::fread(\"/data/GIT/cnv-gene-mapping/data/deletion_simu/deletion.genes.block30.for_simu.sample.y\"))"
   ]
  },
  {
   "cell_type": "code",
   "execution_count": 51,
   "metadata": {
    "kernel": "R"
   },
   "outputs": [],
   "source": [
    "X <- scale(X, center = TRUE, scale = FALSE)"
   ]
  },
  {
   "cell_type": "code",
   "execution_count": 52,
   "metadata": {
    "kernel": "R"
   },
   "outputs": [
    {
     "data": {
      "text/html": [
       "<table>\n",
       "<thead><tr><th scope=col>V1</th><th scope=col>V2</th><th scope=col>V3</th><th scope=col>V4</th><th scope=col>V5</th><th scope=col>V6</th><th scope=col>V7</th><th scope=col>V8</th></tr></thead>\n",
       "<tbody>\n",
       "\t<tr><td>-0.000745601</td><td>-0.000745601</td><td>-0.003280644</td><td>-0.003653445</td><td>-0.003653445</td><td>-0.003653445</td><td>-0.002907844</td><td>-0.002907844</td></tr>\n",
       "\t<tr><td>-0.000745601</td><td>-0.000745601</td><td>-0.003280644</td><td>-0.003653445</td><td>-0.003653445</td><td>-0.003653445</td><td>-0.002907844</td><td>-0.002907844</td></tr>\n",
       "\t<tr><td>-0.000745601</td><td>-0.000745601</td><td>-0.003280644</td><td>-0.003653445</td><td>-0.003653445</td><td>-0.003653445</td><td>-0.002907844</td><td>-0.002907844</td></tr>\n",
       "\t<tr><td>-0.000745601</td><td>-0.000745601</td><td>-0.003280644</td><td>-0.003653445</td><td>-0.003653445</td><td>-0.003653445</td><td>-0.002907844</td><td>-0.002907844</td></tr>\n",
       "\t<tr><td>-0.000745601</td><td>-0.000745601</td><td>-0.003280644</td><td>-0.003653445</td><td>-0.003653445</td><td>-0.003653445</td><td>-0.002907844</td><td>-0.002907844</td></tr>\n",
       "\t<tr><td>-0.000745601</td><td>-0.000745601</td><td>-0.003280644</td><td>-0.003653445</td><td>-0.003653445</td><td>-0.003653445</td><td>-0.002907844</td><td>-0.002907844</td></tr>\n",
       "</tbody>\n",
       "</table>\n"
      ],
      "text/latex": [
       "\\begin{tabular}{llllllll}\n",
       " V1 & V2 & V3 & V4 & V5 & V6 & V7 & V8\\\\\n",
       "\\hline\n",
       "\t -0.000745601 & -0.000745601 & -0.003280644 & -0.003653445 & -0.003653445 & -0.003653445 & -0.002907844 & -0.002907844\\\\\n",
       "\t -0.000745601 & -0.000745601 & -0.003280644 & -0.003653445 & -0.003653445 & -0.003653445 & -0.002907844 & -0.002907844\\\\\n",
       "\t -0.000745601 & -0.000745601 & -0.003280644 & -0.003653445 & -0.003653445 & -0.003653445 & -0.002907844 & -0.002907844\\\\\n",
       "\t -0.000745601 & -0.000745601 & -0.003280644 & -0.003653445 & -0.003653445 & -0.003653445 & -0.002907844 & -0.002907844\\\\\n",
       "\t -0.000745601 & -0.000745601 & -0.003280644 & -0.003653445 & -0.003653445 & -0.003653445 & -0.002907844 & -0.002907844\\\\\n",
       "\t -0.000745601 & -0.000745601 & -0.003280644 & -0.003653445 & -0.003653445 & -0.003653445 & -0.002907844 & -0.002907844\\\\\n",
       "\\end{tabular}\n"
      ],
      "text/markdown": [
       "\n",
       "| V1 | V2 | V3 | V4 | V5 | V6 | V7 | V8 |\n",
       "|---|---|---|---|---|---|---|---|\n",
       "| -0.000745601 | -0.000745601 | -0.003280644 | -0.003653445 | -0.003653445 | -0.003653445 | -0.002907844 | -0.002907844 |\n",
       "| -0.000745601 | -0.000745601 | -0.003280644 | -0.003653445 | -0.003653445 | -0.003653445 | -0.002907844 | -0.002907844 |\n",
       "| -0.000745601 | -0.000745601 | -0.003280644 | -0.003653445 | -0.003653445 | -0.003653445 | -0.002907844 | -0.002907844 |\n",
       "| -0.000745601 | -0.000745601 | -0.003280644 | -0.003653445 | -0.003653445 | -0.003653445 | -0.002907844 | -0.002907844 |\n",
       "| -0.000745601 | -0.000745601 | -0.003280644 | -0.003653445 | -0.003653445 | -0.003653445 | -0.002907844 | -0.002907844 |\n",
       "| -0.000745601 | -0.000745601 | -0.003280644 | -0.003653445 | -0.003653445 | -0.003653445 | -0.002907844 | -0.002907844 |\n",
       "\n"
      ],
      "text/plain": [
       "     V1           V2           V3           V4           V5          \n",
       "[1,] -0.000745601 -0.000745601 -0.003280644 -0.003653445 -0.003653445\n",
       "[2,] -0.000745601 -0.000745601 -0.003280644 -0.003653445 -0.003653445\n",
       "[3,] -0.000745601 -0.000745601 -0.003280644 -0.003653445 -0.003653445\n",
       "[4,] -0.000745601 -0.000745601 -0.003280644 -0.003653445 -0.003653445\n",
       "[5,] -0.000745601 -0.000745601 -0.003280644 -0.003653445 -0.003653445\n",
       "[6,] -0.000745601 -0.000745601 -0.003280644 -0.003653445 -0.003653445\n",
       "     V6           V7           V8          \n",
       "[1,] -0.003653445 -0.002907844 -0.002907844\n",
       "[2,] -0.003653445 -0.002907844 -0.002907844\n",
       "[3,] -0.003653445 -0.002907844 -0.002907844\n",
       "[4,] -0.003653445 -0.002907844 -0.002907844\n",
       "[5,] -0.003653445 -0.002907844 -0.002907844\n",
       "[6,] -0.003653445 -0.002907844 -0.002907844"
      ]
     },
     "metadata": {},
     "output_type": "display_data"
    }
   ],
   "source": [
    "head(X)"
   ]
  },
  {
   "cell_type": "code",
   "execution_count": 53,
   "metadata": {
    "kernel": "R"
   },
   "outputs": [],
   "source": [
    "mu0 <- 0.777\n",
    "s0 <- 0.844\n",
    "pi0 <- 0.043"
   ]
  },
  {
   "cell_type": "code",
   "execution_count": 54,
   "metadata": {
    "kernel": "R"
   },
   "outputs": [],
   "source": [
    "p <- dim(X)[2]\n",
    "p0  <- rep(pi0,1,p)"
   ]
  },
  {
   "cell_type": "code",
   "execution_count": 55,
   "metadata": {
    "kernel": "R"
   },
   "outputs": [],
   "source": [
    "source(\"/home/min/GIT/logistic/code/misc.R\")\n",
    "source(\"/home/min/GIT/logistic/code/bayes.R\")\n",
    "out <- bayes.logistic(X, y, p0, mu0, s0)"
   ]
  },
  {
   "cell_type": "code",
   "execution_count": 56,
   "metadata": {
    "kernel": "R"
   },
   "outputs": [
    {
     "name": "stdout",
     "output_type": "stream",
     "text": [
      "           p1       mu1        s1\n",
      "1 0.002619979 1.4874452 0.5891827\n",
      "2 0.002619979 1.4874452 0.5891827\n",
      "3 0.840373304 1.4120444 0.3482626\n",
      "4 0.049342893 1.1027142 0.3097065\n",
      "5 0.049342893 1.1027142 0.3097065\n",
      "6 0.049342893 1.1027142 0.3097065\n",
      "7 0.003179030 0.9320685 0.3306724\n",
      "8 0.003179030 0.9320685 0.3306724\n"
     ]
    }
   ],
   "source": [
    "print(out)"
   ]
  },
  {
   "cell_type": "code",
   "execution_count": 21,
   "metadata": {
    "kernel": "R"
   },
   "outputs": [
    {
     "name": "stdout",
     "output_type": "stream",
     "text": [
      "          p1       mu1        s1\n",
      "1 0.03249232 0.6321483 0.6381504\n",
      "2 0.03249232 0.6321483 0.6381504\n",
      "3 0.86833204 1.2468894 0.4571144\n",
      "4 0.03419099 0.6514828 0.5680370\n",
      "5 0.03249232 0.6321483 0.6381504\n"
     ]
    }
   ],
   "source": [
    "print(out)"
   ]
  },
  {
   "cell_type": "code",
   "execution_count": null,
   "metadata": {
    "kernel": "R"
   },
   "outputs": [],
   "source": []
  },
  {
   "cell_type": "code",
   "execution_count": null,
   "metadata": {
    "kernel": "R"
   },
   "outputs": [],
   "source": []
  },
  {
   "cell_type": "code",
   "execution_count": null,
   "metadata": {
    "kernel": "R"
   },
   "outputs": [],
   "source": []
  },
  {
   "cell_type": "code",
   "execution_count": 10,
   "metadata": {
    "kernel": "R"
   },
   "outputs": [],
   "source": [
    "# A very short script demonstrating the use of bayes.logistic to\n",
    "# compute posterior statistics for a simple \"single effect\" Bayesian\n",
    "# logistic regression model.\n",
    "\n",
    "# SCRIPT PARAMETERS\n",
    "# -----------------\n",
    "# These are the data simulation parameters: the data are simulated\n",
    "# from a single-effect regression model with intercept b0 and nonzero\n",
    "# effect with regression coefficient b1; that is, the success rate for\n",
    "# outcome Y is sigmoid(b0 + b*X).\n",
    "n  <- 75\n",
    "p  <- 20\n",
    "b0 <- -1\n",
    "b  <- 1.75\n",
    "\n",
    "# These script parameters specify the prior on the regression\n",
    "# coefficient: mu0 is the prior mean, and s0 is the prior standard\n",
    "# deviation. (The intercept is assigned a \"flat\" prior.)\n",
    "p0  <- rep(1/p,1,p)\n",
    "mu0 <- 1\n",
    "s0  <- 4"
   ]
  },
  {
   "cell_type": "code",
   "execution_count": 11,
   "metadata": {
    "kernel": "R"
   },
   "outputs": [
    {
     "name": "stdout",
     "output_type": "stream",
     "text": [
      "Simulating data.\n"
     ]
    }
   ],
   "source": [
    "# SET UP ENVIRONMENT\n",
    "# ------------------\n",
    "# Load some function definitions.\n",
    "source(\"/home/min/GIT/logistic/code/misc.R\")\n",
    "source(\"/home/min/GIT/logistic/code/bayes.R\")\n",
    "\n",
    "# Initialize the sequence of pseudorandom numbers.\n",
    "set.seed(1)\n",
    "\n",
    "# SIMULATE DATA\n",
    "# -------------\n",
    "# Simulate p covariates i.i.d. from the standard normal, then draw\n",
    "# samples y from a logistic regression in which the probability of\n",
    "# success is given by sigmoid(b0 + x*b).\n",
    "cat(\"Simulating data.\\n\")\n",
    "X <- matrix(rnorm(n*p),n,p)\n",
    "X <- scale(X,center = TRUE,scale = FALSE)\n",
    "u <- b0 + b*X[,1]\n",
    "y <- as.numeric(runif(n) < sigmoid(u))"
   ]
  },
  {
   "cell_type": "code",
   "execution_count": 12,
   "metadata": {
    "kernel": "R"
   },
   "outputs": [
    {
     "name": "stdout",
     "output_type": "stream",
     "text": [
      "Performing Bayesian computations.\n",
      "      p1    mu1    s1\n",
      "1  0.989  1.363 0.388\n",
      "12 0.003  0.611 0.253\n",
      "2  0.002  0.625 0.300\n",
      "10 0.001 -0.512 0.240\n",
      "6  0.000 -0.365 0.239\n",
      "8  0.000  0.386 0.263\n",
      "17 0.000 -0.354 0.240\n",
      "15 0.000  0.334 0.253\n",
      "5  0.000  0.325 0.257\n",
      "7  0.000 -0.293 0.229\n",
      "16 0.000 -0.286 0.244\n",
      "9  0.000 -0.231 0.227\n",
      "14 0.000 -0.205 0.275\n",
      "19 0.000 -0.197 0.268\n",
      "4  0.000  0.208 0.250\n",
      "3  0.000 -0.192 0.240\n",
      "20 0.000  0.148 0.240\n",
      "18 0.000 -0.114 0.249\n",
      "11 0.000  0.062 0.232\n",
      "13 0.000  0.083 0.218\n"
     ]
    }
   ],
   "source": [
    "# COMPUTE POSTERIOR STATTISTICS\n",
    "# -----------------------------\n",
    "# Compute the posterior inclusion probabilities, and the posterior\n",
    "# means and standard deviations of the coefficients in the logistic\n",
    "# regression.\n",
    "cat(\"Performing Bayesian computations.\\n\")\n",
    "out  <- bayes.logistic(X,y,p0,mu0,s0)\n",
    "rows <- order(out$p1,decreasing = TRUE)\n",
    "print(round(out[rows,],digits = 3))"
   ]
  },
  {
   "cell_type": "code",
   "execution_count": 15,
   "metadata": {
    "kernel": "R"
   },
   "outputs": [
    {
     "data": {
      "text/html": [
       "-2.30997245021061"
      ],
      "text/latex": [
       "-2.30997245021061"
      ],
      "text/markdown": [
       "-2.30997245021061"
      ],
      "text/plain": [
       "[1] -2.309972"
      ]
     },
     "metadata": {},
     "output_type": "display_data"
    }
   ],
   "source": [
    "-0.748555685834634*1.75-1"
   ]
  },
  {
   "cell_type": "code",
   "execution_count": 20,
   "metadata": {
    "kernel": "R"
   },
   "outputs": [
    {
     "data": {
      "text/html": [
       "<ol class=list-inline>\n",
       "\t<li>-0.748555685834634</li>\n",
       "\t<li>0.061541449129781</li>\n",
       "\t<li>-0.957730487502348</li>\n",
       "\t<li>1.47317892704549</li>\n",
       "\t<li>0.207405896723059</li>\n",
       "</ol>\n"
      ],
      "text/latex": [
       "\\begin{enumerate*}\n",
       "\\item -0.748555685834634\n",
       "\\item 0.061541449129781\n",
       "\\item -0.957730487502348\n",
       "\\item 1.47317892704549\n",
       "\\item 0.207405896723059\n",
       "\\end{enumerate*}\n"
      ],
      "text/markdown": [
       "1. -0.748555685834634\n",
       "2. 0.061541449129781\n",
       "3. -0.957730487502348\n",
       "4. 1.47317892704549\n",
       "5. 0.207405896723059\n",
       "\n",
       "\n"
      ],
      "text/plain": [
       "[1] -0.74855569  0.06154145 -0.95773049  1.47317893  0.20740590"
      ]
     },
     "metadata": {},
     "output_type": "display_data"
    }
   ],
   "source": [
    "X[,1][1:5]"
   ]
  },
  {
   "cell_type": "code",
   "execution_count": 18,
   "metadata": {
    "kernel": "R"
   },
   "outputs": [
    {
     "data": {
      "text/html": [
       "<ol class=list-inline>\n",
       "\t<li>-2.30997245021061</li>\n",
       "\t<li>-0.892302464022883</li>\n",
       "\t<li>-2.67602835312911</li>\n",
       "\t<li>1.57806312232961</li>\n",
       "\t<li>-0.637039680734646</li>\n",
       "</ol>\n"
      ],
      "text/latex": [
       "\\begin{enumerate*}\n",
       "\\item -2.30997245021061\n",
       "\\item -0.892302464022883\n",
       "\\item -2.67602835312911\n",
       "\\item 1.57806312232961\n",
       "\\item -0.637039680734646\n",
       "\\end{enumerate*}\n"
      ],
      "text/markdown": [
       "1. -2.30997245021061\n",
       "2. -0.892302464022883\n",
       "3. -2.67602835312911\n",
       "4. 1.57806312232961\n",
       "5. -0.637039680734646\n",
       "\n",
       "\n"
      ],
      "text/plain": [
       "[1] -2.3099725 -0.8923025 -2.6760284  1.5780631 -0.6370397"
      ]
     },
     "metadata": {},
     "output_type": "display_data"
    }
   ],
   "source": [
    "u[1:5]"
   ]
  },
  {
   "cell_type": "code",
   "execution_count": null,
   "metadata": {
    "kernel": "R"
   },
   "outputs": [],
   "source": []
  }
 ],
 "metadata": {
  "kernelspec": {
   "display_name": "SoS",
   "language": "sos",
   "name": "sos"
  },
  "language_info": {
   "codemirror_mode": "sos",
   "file_extension": ".sos",
   "mimetype": "text/x-sos",
   "name": "sos",
   "nbconvert_exporter": "sos_notebook.converter.SoS_Exporter",
   "pygments_lexer": "sos"
  },
  "sos": {
   "kernels": [
    [
     "R",
     "ir",
     "R",
     "#DCDCDA",
     "r"
    ]
   ],
   "version": "0.20.5"
  }
 },
 "nbformat": 4,
 "nbformat_minor": 4
}
