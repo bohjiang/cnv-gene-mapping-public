{
 "cells": [
  {
   "cell_type": "markdown",
   "metadata": {},
   "source": [
    "# R: use package varbvs and feather to file to obtain .RDS file"
   ]
  },
  {
   "cell_type": "code",
   "execution_count": 1,
   "metadata": {
    "collapsed": true,
    "kernel": "R"
   },
   "outputs": [],
   "source": [
    "library(feather)\n",
    "library(varbvs)"
   ]
  },
  {
   "cell_type": "code",
   "execution_count": 4,
   "metadata": {
    "kernel": "R"
   },
   "outputs": [
    {
     "data": {
      "text/plain": [
       "R version 3.3.2 (2016-10-31)\n",
       "Platform: x86_64-pc-linux-gnu (64-bit)\n",
       "Running under: BunsenLabs GNU/Linux 8.5 (Hydrogen)\n",
       "\n",
       "locale:\n",
       " [1] LC_CTYPE=en_US.UTF-8       LC_NUMERIC=C              \n",
       " [3] LC_TIME=en_US.UTF-8        LC_COLLATE=en_US.UTF-8    \n",
       " [5] LC_MONETARY=en_US.UTF-8    LC_MESSAGES=en_US.UTF-8   \n",
       " [7] LC_PAPER=en_US.UTF-8       LC_NAME=C                 \n",
       " [9] LC_ADDRESS=C               LC_TELEPHONE=C            \n",
       "[11] LC_MEASUREMENT=en_US.UTF-8 LC_IDENTIFICATION=C       \n",
       "\n",
       "attached base packages:\n",
       "[1] stats     graphics  grDevices utils     datasets  methods   base     \n",
       "\n",
       "other attached packages:\n",
       "[1] varbvs_2.0-8  feather_0.3.1\n",
       "\n",
       "loaded via a namespace (and not attached):\n",
       " [1] Rcpp_0.12.8         lattice_0.20-34     assertthat_0.1     \n",
       " [4] digest_0.6.10       crayon_1.3.2        IRdisplay_0.4.4    \n",
       " [7] grid_3.3.2          repr_0.10           R6_2.2.0           \n",
       "[10] jsonlite_1.1        magrittr_1.5        evaluate_0.10      \n",
       "[13] stringi_1.1.2       uuid_0.1-2          latticeExtra_0.6-28\n",
       "[16] IRkernel_0.7.1      RColorBrewer_1.1-2  tools_3.3.2        \n",
       "[19] stringr_1.1.0       hms_0.3             pbdZMQ_0.2-4       \n",
       "[22] tibble_1.2         "
      ]
     },
     "metadata": {},
     "output_type": "display_data"
    }
   ],
   "source": [
    "sessionInfo()"
   ]
  },
  {
   "cell_type": "code",
   "execution_count": null,
   "metadata": {
    "kernel": "R"
   },
   "outputs": [],
   "source": [
    "get_rds_toy(c(\"data/Sweden_cnv_gene_overlap_config.feather\"))"
   ]
  },
  {
   "cell_type": "code",
   "execution_count": null,
   "metadata": {
    "kernel": "R"
   },
   "outputs": [],
   "source": [
    "# get_rds_toy(c(\"data/toy_n000_600_n100_100_n010_100_n001_100_n110_100_n011_100_n111_100.feather\"))\n",
    "get_rds_toy(c(\"data/Sweden_genes_overlap_cnv.feather\"))"
   ]
  },
  {
   "cell_type": "code",
   "execution_count": null,
   "metadata": {
    "kernel": "R"
   },
   "outputs": [],
   "source": [
    "newdat = read_feather(\"data/toy_pos15_causal8_n1250.feather\")\n",
    "newmatrix = matrix(as.double(unlist(newdat)), dim(newdat)[1], dim(newdat)[2])\n",
    "colnames(newmatrix) = colnames(newdat)\n",
    "# print (dim(newdat)[1])\n",
    "newfit = varbvs(newmatrix[,-1], NULL, newmatrix[,1], family = \"binomial\", \n",
    "                logodds = seq(-3.5,-1,0.1), sa = 1, verbose = F)\n",
    "newfit$summary = summary(newfit)\n",
    "newfit$w = normalizelogweights(newfit$logw)\n",
    "newfit$pip = newfit$alpha %*% c(newfit$w)\n",
    "newfit$beta = newfit$mu %*% c(newfit$w)\n",
    "newfit$var_names = colnames(newdat[-1])\n",
    "print (summary(newfit))\n",
    "dimnames(newfit$pip)[[1]]"
   ]
  }
 ],
 "metadata": {
  "kernelspec": {
   "display_name": "SoS",
   "language": "sos",
   "name": "sos"
  },
  "language_info": {
   "codemirror_mode": "sos",
   "file_extension": ".sos",
   "mimetype": "text/x-sos",
   "name": "sos",
   "nbconvert_exporter": "sos.jupyter.converter.SoS_Exporter",
   "pygments_lexer": "sos"
  },
  "sos": {
   "default_kernel": "R",
   "kernels": [
    [
     "R",
     "ir",
     "R",
     "#DCDCDA"
    ],
    [
     "Python3",
     "python3",
     "Python3",
     "#EAFAF1"
    ],
    [
     "SoS",
     "sos",
     "",
     ""
    ]
   ],
   "panel": {
    "displayed": false,
    "height": 0,
    "style": "side"
   }
  }
 },
 "nbformat": 4,
 "nbformat_minor": 2
}
