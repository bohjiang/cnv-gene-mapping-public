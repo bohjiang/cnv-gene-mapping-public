{
 "cells": [
  {
   "cell_type": "markdown",
   "metadata": {
    "kernel": "SoS"
   },
   "source": [
    "# Solutions for discussion January\n",
    "## Single effect blocks for pymc3 and logistic\n",
    "n_gene_in_block = 20, sample_size = 200000"
   ]
  },
  {
   "cell_type": "code",
   "execution_count": 1,
   "metadata": {
    "kernel": "SoS"
   },
   "outputs": [],
   "source": [
    "import pandas as pd, numpy as np\n",
    "import os\n",
    "import pyreadr\n",
    "from dsc.dsc_io import load_rds\n",
    "cwd = os.path.expanduser(\"~/GIT/cnv-gene-mapping/data\")\n",
    "folder = \"deletion_simu_30_shape0.777_scale0.843\"\n",
    "# name = \"deletion.genes.block20.for_simu.sample.combined.genes.block1\""
   ]
  },
  {
   "cell_type": "code",
   "execution_count": 2,
   "metadata": {
    "kernel": "SoS"
   },
   "outputs": [],
   "source": [
    "# +1 in gene index for gene name\n",
    "fisher = pd.read_csv(f\"{cwd}/{folder}/deletion.genes.block30.for_simu.sample.combined.genes.block1.fisher.gz\", header = 0, sep = \"\\t\")\n",
    "fisher[\"p_deleterious\"] = [k if i >= j else 1 for i,j,k in zip(fisher[\"d_c\"], fisher[\"nd_c\"], fisher[\"p\"])]"
   ]
  },
  {
   "cell_type": "code",
   "execution_count": 3,
   "metadata": {
    "kernel": "SoS"
   },
   "outputs": [
    {
     "data": {
      "text/plain": [
       "(2290, 7)"
      ]
     },
     "execution_count": 3,
     "metadata": {},
     "output_type": "execute_result"
    }
   ],
   "source": [
    "fisher.shape"
   ]
  },
  {
   "cell_type": "code",
   "execution_count": 4,
   "metadata": {
    "kernel": "SoS"
   },
   "outputs": [],
   "source": [
    "beta = pd.read_csv(f\"{cwd}/{folder}/deletion.genes.block30.for_simu.block30.shape0.777.scale0.843.beta\", header = None, names = [\"beta\"])"
   ]
  },
  {
   "cell_type": "code",
   "execution_count": 5,
   "metadata": {
    "kernel": "SoS"
   },
   "outputs": [],
   "source": [
    "# index1 = pd.read_csv(f\"{cwd}/deletion.block1.index.csv\", header = None, sep = \"\\t\", names = [\"id1\", \"id2\"])\n",
    "index1 = pd.read_csv(f\"{cwd}/{folder}/deletion.genes.block30.for_simu.sample.combined.block1.index.csv\", header = None, sep = \"\\t\", names = [\"id1\", \"id2\"])"
   ]
  },
  {
   "cell_type": "code",
   "execution_count": 6,
   "metadata": {
    "kernel": "SoS"
   },
   "outputs": [],
   "source": [
    "index2 = pd.read_csv(f\"{cwd}/{folder}/deletion.genes.block30.for_simu.sample.combined.block1.forsimu.index.csv\", header = None, sep = \"\\t\", names = [\"is1\", \"is2\"])"
   ]
  },
  {
   "cell_type": "code",
   "execution_count": 7,
   "metadata": {
    "kernel": "SoS"
   },
   "outputs": [
    {
     "data": {
      "text/html": [
       "<div>\n",
       "<style scoped>\n",
       "    .dataframe tbody tr th:only-of-type {\n",
       "        vertical-align: middle;\n",
       "    }\n",
       "\n",
       "    .dataframe tbody tr th {\n",
       "        vertical-align: top;\n",
       "    }\n",
       "\n",
       "    .dataframe thead th {\n",
       "        text-align: right;\n",
       "    }\n",
       "</style>\n",
       "<table border=\"1\" class=\"dataframe\">\n",
       "  <thead>\n",
       "    <tr style=\"text-align: right;\">\n",
       "      <th></th>\n",
       "      <th>is1</th>\n",
       "      <th>is2</th>\n",
       "    </tr>\n",
       "  </thead>\n",
       "  <tbody>\n",
       "    <tr>\n",
       "      <th>0</th>\n",
       "      <td>0</td>\n",
       "      <td>7</td>\n",
       "    </tr>\n",
       "    <tr>\n",
       "      <th>1</th>\n",
       "      <td>14</td>\n",
       "      <td>23</td>\n",
       "    </tr>\n",
       "    <tr>\n",
       "      <th>2</th>\n",
       "      <td>93</td>\n",
       "      <td>97</td>\n",
       "    </tr>\n",
       "    <tr>\n",
       "      <th>3</th>\n",
       "      <td>164</td>\n",
       "      <td>177</td>\n",
       "    </tr>\n",
       "    <tr>\n",
       "      <th>4</th>\n",
       "      <td>229</td>\n",
       "      <td>236</td>\n",
       "    </tr>\n",
       "  </tbody>\n",
       "</table>\n",
       "</div>"
      ],
      "text/plain": [
       "   is1  is2\n",
       "0    0    7\n",
       "1   14   23\n",
       "2   93   97\n",
       "3  164  177\n",
       "4  229  236"
      ]
     },
     "execution_count": 7,
     "metadata": {},
     "output_type": "execute_result"
    }
   ],
   "source": [
    "index2.head()"
   ]
  },
  {
   "cell_type": "code",
   "execution_count": 8,
   "metadata": {
    "kernel": "SoS"
   },
   "outputs": [],
   "source": [
    "index = pd.concat([index1, index2], axis = 1)"
   ]
  },
  {
   "cell_type": "code",
   "execution_count": 9,
   "metadata": {
    "kernel": "SoS"
   },
   "outputs": [
    {
     "data": {
      "text/html": [
       "<div>\n",
       "<style scoped>\n",
       "    .dataframe tbody tr th:only-of-type {\n",
       "        vertical-align: middle;\n",
       "    }\n",
       "\n",
       "    .dataframe tbody tr th {\n",
       "        vertical-align: top;\n",
       "    }\n",
       "\n",
       "    .dataframe thead th {\n",
       "        text-align: right;\n",
       "    }\n",
       "</style>\n",
       "<table border=\"1\" class=\"dataframe\">\n",
       "  <thead>\n",
       "    <tr style=\"text-align: right;\">\n",
       "      <th></th>\n",
       "      <th>id1</th>\n",
       "      <th>id2</th>\n",
       "      <th>is1</th>\n",
       "      <th>is2</th>\n",
       "    </tr>\n",
       "  </thead>\n",
       "  <tbody>\n",
       "    <tr>\n",
       "      <th>0</th>\n",
       "      <td>0</td>\n",
       "      <td>7</td>\n",
       "      <td>0</td>\n",
       "      <td>7</td>\n",
       "    </tr>\n",
       "    <tr>\n",
       "      <th>1</th>\n",
       "      <td>8</td>\n",
       "      <td>17</td>\n",
       "      <td>14</td>\n",
       "      <td>23</td>\n",
       "    </tr>\n",
       "    <tr>\n",
       "      <th>2</th>\n",
       "      <td>18</td>\n",
       "      <td>22</td>\n",
       "      <td>93</td>\n",
       "      <td>97</td>\n",
       "    </tr>\n",
       "    <tr>\n",
       "      <th>3</th>\n",
       "      <td>23</td>\n",
       "      <td>36</td>\n",
       "      <td>164</td>\n",
       "      <td>177</td>\n",
       "    </tr>\n",
       "    <tr>\n",
       "      <th>4</th>\n",
       "      <td>37</td>\n",
       "      <td>44</td>\n",
       "      <td>229</td>\n",
       "      <td>236</td>\n",
       "    </tr>\n",
       "    <tr>\n",
       "      <th>5</th>\n",
       "      <td>45</td>\n",
       "      <td>45</td>\n",
       "      <td>399</td>\n",
       "      <td>399</td>\n",
       "    </tr>\n",
       "    <tr>\n",
       "      <th>6</th>\n",
       "      <td>46</td>\n",
       "      <td>49</td>\n",
       "      <td>785</td>\n",
       "      <td>788</td>\n",
       "    </tr>\n",
       "    <tr>\n",
       "      <th>7</th>\n",
       "      <td>50</td>\n",
       "      <td>50</td>\n",
       "      <td>841</td>\n",
       "      <td>841</td>\n",
       "    </tr>\n",
       "    <tr>\n",
       "      <th>8</th>\n",
       "      <td>51</td>\n",
       "      <td>53</td>\n",
       "      <td>853</td>\n",
       "      <td>855</td>\n",
       "    </tr>\n",
       "    <tr>\n",
       "      <th>9</th>\n",
       "      <td>54</td>\n",
       "      <td>54</td>\n",
       "      <td>891</td>\n",
       "      <td>891</td>\n",
       "    </tr>\n",
       "  </tbody>\n",
       "</table>\n",
       "</div>"
      ],
      "text/plain": [
       "   id1  id2  is1  is2\n",
       "0    0    7    0    7\n",
       "1    8   17   14   23\n",
       "2   18   22   93   97\n",
       "3   23   36  164  177\n",
       "4   37   44  229  236\n",
       "5   45   45  399  399\n",
       "6   46   49  785  788\n",
       "7   50   50  841  841\n",
       "8   51   53  853  855\n",
       "9   54   54  891  891"
      ]
     },
     "execution_count": 9,
     "metadata": {},
     "output_type": "execute_result"
    }
   ],
   "source": [
    "index.head(10)"
   ]
  },
  {
   "cell_type": "code",
   "execution_count": 10,
   "metadata": {
    "kernel": "SoS"
   },
   "outputs": [
    {
     "data": {
      "text/plain": [
       "(528, 4)"
      ]
     },
     "execution_count": 10,
     "metadata": {},
     "output_type": "execute_result"
    }
   ],
   "source": [
    "index.shape"
   ]
  },
  {
   "cell_type": "code",
   "execution_count": 11,
   "metadata": {
    "kernel": "SoS"
   },
   "outputs": [],
   "source": [
    "index[\"number_effect\"] = [np.count_nonzero(beta.loc[item[0]:item[1]][\"beta\"].tolist()) for idx, item in index2.iterrows()]"
   ]
  },
  {
   "cell_type": "code",
   "execution_count": 12,
   "metadata": {
    "kernel": "SoS"
   },
   "outputs": [
    {
     "data": {
      "text/plain": [
       "Counter({1: 69, 0: 440, 5: 1, 2: 16, 3: 2})"
      ]
     },
     "execution_count": 12,
     "metadata": {},
     "output_type": "execute_result"
    }
   ],
   "source": [
    "from collections import Counter\n",
    "Counter(index[\"number_effect\"])"
   ]
  },
  {
   "cell_type": "code",
   "execution_count": 13,
   "metadata": {
    "kernel": "SoS"
   },
   "outputs": [],
   "source": [
    "idx_beta = index[index[\"number_effect\"] >= 1][[\"is1\", \"is2\", \"id1\", \"id2\"]]"
   ]
  },
  {
   "cell_type": "code",
   "execution_count": 14,
   "metadata": {
    "kernel": "SoS"
   },
   "outputs": [
    {
     "data": {
      "text/html": [
       "<div>\n",
       "<style scoped>\n",
       "    .dataframe tbody tr th:only-of-type {\n",
       "        vertical-align: middle;\n",
       "    }\n",
       "\n",
       "    .dataframe tbody tr th {\n",
       "        vertical-align: top;\n",
       "    }\n",
       "\n",
       "    .dataframe thead th {\n",
       "        text-align: right;\n",
       "    }\n",
       "</style>\n",
       "<table border=\"1\" class=\"dataframe\">\n",
       "  <thead>\n",
       "    <tr style=\"text-align: right;\">\n",
       "      <th></th>\n",
       "      <th>is1</th>\n",
       "      <th>is2</th>\n",
       "      <th>id1</th>\n",
       "      <th>id2</th>\n",
       "    </tr>\n",
       "  </thead>\n",
       "  <tbody>\n",
       "    <tr>\n",
       "      <th>0</th>\n",
       "      <td>0</td>\n",
       "      <td>7</td>\n",
       "      <td>0</td>\n",
       "      <td>7</td>\n",
       "    </tr>\n",
       "    <tr>\n",
       "      <th>3</th>\n",
       "      <td>164</td>\n",
       "      <td>177</td>\n",
       "      <td>23</td>\n",
       "      <td>36</td>\n",
       "    </tr>\n",
       "    <tr>\n",
       "      <th>8</th>\n",
       "      <td>853</td>\n",
       "      <td>855</td>\n",
       "      <td>51</td>\n",
       "      <td>53</td>\n",
       "    </tr>\n",
       "    <tr>\n",
       "      <th>19</th>\n",
       "      <td>1215</td>\n",
       "      <td>1273</td>\n",
       "      <td>81</td>\n",
       "      <td>139</td>\n",
       "    </tr>\n",
       "    <tr>\n",
       "      <th>20</th>\n",
       "      <td>1613</td>\n",
       "      <td>1617</td>\n",
       "      <td>140</td>\n",
       "      <td>144</td>\n",
       "    </tr>\n",
       "    <tr>\n",
       "      <th>22</th>\n",
       "      <td>1752</td>\n",
       "      <td>1770</td>\n",
       "      <td>146</td>\n",
       "      <td>164</td>\n",
       "    </tr>\n",
       "    <tr>\n",
       "      <th>27</th>\n",
       "      <td>2043</td>\n",
       "      <td>2043</td>\n",
       "      <td>174</td>\n",
       "      <td>174</td>\n",
       "    </tr>\n",
       "    <tr>\n",
       "      <th>36</th>\n",
       "      <td>2272</td>\n",
       "      <td>2294</td>\n",
       "      <td>186</td>\n",
       "      <td>208</td>\n",
       "    </tr>\n",
       "    <tr>\n",
       "      <th>38</th>\n",
       "      <td>2315</td>\n",
       "      <td>2327</td>\n",
       "      <td>218</td>\n",
       "      <td>230</td>\n",
       "    </tr>\n",
       "    <tr>\n",
       "      <th>54</th>\n",
       "      <td>2900</td>\n",
       "      <td>2929</td>\n",
       "      <td>266</td>\n",
       "      <td>295</td>\n",
       "    </tr>\n",
       "  </tbody>\n",
       "</table>\n",
       "</div>"
      ],
      "text/plain": [
       "     is1   is2  id1  id2\n",
       "0      0     7    0    7\n",
       "3    164   177   23   36\n",
       "8    853   855   51   53\n",
       "19  1215  1273   81  139\n",
       "20  1613  1617  140  144\n",
       "22  1752  1770  146  164\n",
       "27  2043  2043  174  174\n",
       "36  2272  2294  186  208\n",
       "38  2315  2327  218  230\n",
       "54  2900  2929  266  295"
      ]
     },
     "execution_count": 14,
     "metadata": {},
     "output_type": "execute_result"
    }
   ],
   "source": [
    "idx_beta.head(10)"
   ]
  },
  {
   "cell_type": "code",
   "execution_count": 15,
   "metadata": {
    "kernel": "SoS"
   },
   "outputs": [
    {
     "data": {
      "text/plain": [
       "(88, 4)"
      ]
     },
     "execution_count": 15,
     "metadata": {},
     "output_type": "execute_result"
    }
   ],
   "source": [
    "idx_beta.shape"
   ]
  },
  {
   "cell_type": "code",
   "execution_count": 16,
   "metadata": {
    "kernel": "SoS"
   },
   "outputs": [],
   "source": [
    "beta_in_block = list()\n",
    "fisher_in_block = list()\n",
    "d_c = list()\n",
    "d_nc = list()\n",
    "nd_c = list()\n",
    "nd_nc = list()\n",
    "gene_in_block = list()\n",
    "for idx, item in idx_beta.iterrows():\n",
    "    beta_in_block.append(beta[\"beta\"][item[0]:item[1]+1].tolist())\n",
    "    fisher_in_block.append(fisher.set_index('gene').loc[[f\"gene_{i+1}\" for i in range(item[2], item[3]+1)]].reset_index()[\"p\"].tolist())\n",
    "    d_c.append(fisher.set_index('gene').loc[[f\"gene_{i+1}\" for i in range(item[2], item[3]+1)]].reset_index()[\"d_c\"].tolist())\n",
    "    d_nc.append(fisher.set_index('gene').loc[[f\"gene_{i+1}\" for i in range(item[2], item[3]+1)]].reset_index()[\"d_nc\"].tolist())\n",
    "    nd_c.append(fisher.set_index('gene').loc[[f\"gene_{i+1}\" for i in range(item[2], item[3]+1)]].reset_index()[\"nd_c\"].tolist())\n",
    "    nd_nc.append(fisher.set_index('gene').loc[[f\"gene_{i+1}\" for i in range(item[2], item[3]+1)]].reset_index()[\"nd_nc\"].tolist())\n",
    "    gene_in_block.append([f\"gene_{i+1}\" for i in range(item[2], item[3]+1)])"
   ]
  },
  {
   "cell_type": "code",
   "execution_count": 17,
   "metadata": {
    "kernel": "SoS"
   },
   "outputs": [],
   "source": [
    "index1 = index[index[\"number_effect\"] >= 1][[\"id1\", \"id2\"]]\n",
    "# index1 = index1.set_index([[i for i in range(index1.shape[0])]])"
   ]
  },
  {
   "cell_type": "code",
   "execution_count": 28,
   "metadata": {
    "kernel": "SoS"
   },
   "outputs": [
    {
     "data": {
      "text/html": [
       "<div>\n",
       "<style scoped>\n",
       "    .dataframe tbody tr th:only-of-type {\n",
       "        vertical-align: middle;\n",
       "    }\n",
       "\n",
       "    .dataframe tbody tr th {\n",
       "        vertical-align: top;\n",
       "    }\n",
       "\n",
       "    .dataframe thead th {\n",
       "        text-align: right;\n",
       "    }\n",
       "</style>\n",
       "<table border=\"1\" class=\"dataframe\">\n",
       "  <thead>\n",
       "    <tr style=\"text-align: right;\">\n",
       "      <th></th>\n",
       "      <th>id1</th>\n",
       "      <th>id2</th>\n",
       "    </tr>\n",
       "  </thead>\n",
       "  <tbody>\n",
       "    <tr>\n",
       "      <th>445</th>\n",
       "      <td>1710</td>\n",
       "      <td>1749</td>\n",
       "    </tr>\n",
       "    <tr>\n",
       "      <th>446</th>\n",
       "      <td>1750</td>\n",
       "      <td>1772</td>\n",
       "    </tr>\n",
       "    <tr>\n",
       "      <th>449</th>\n",
       "      <td>1806</td>\n",
       "      <td>1814</td>\n",
       "    </tr>\n",
       "    <tr>\n",
       "      <th>450</th>\n",
       "      <td>1815</td>\n",
       "      <td>1826</td>\n",
       "    </tr>\n",
       "    <tr>\n",
       "      <th>464</th>\n",
       "      <td>1895</td>\n",
       "      <td>1904</td>\n",
       "    </tr>\n",
       "    <tr>\n",
       "      <th>473</th>\n",
       "      <td>1930</td>\n",
       "      <td>1939</td>\n",
       "    </tr>\n",
       "    <tr>\n",
       "      <th>479</th>\n",
       "      <td>1970</td>\n",
       "      <td>1971</td>\n",
       "    </tr>\n",
       "    <tr>\n",
       "      <th>484</th>\n",
       "      <td>1979</td>\n",
       "      <td>1981</td>\n",
       "    </tr>\n",
       "    <tr>\n",
       "      <th>489</th>\n",
       "      <td>1987</td>\n",
       "      <td>1987</td>\n",
       "    </tr>\n",
       "    <tr>\n",
       "      <th>491</th>\n",
       "      <td>1991</td>\n",
       "      <td>2011</td>\n",
       "    </tr>\n",
       "    <tr>\n",
       "      <th>492</th>\n",
       "      <td>2012</td>\n",
       "      <td>2029</td>\n",
       "    </tr>\n",
       "    <tr>\n",
       "      <th>493</th>\n",
       "      <td>2030</td>\n",
       "      <td>2043</td>\n",
       "    </tr>\n",
       "    <tr>\n",
       "      <th>494</th>\n",
       "      <td>2044</td>\n",
       "      <td>2059</td>\n",
       "    </tr>\n",
       "    <tr>\n",
       "      <th>496</th>\n",
       "      <td>2062</td>\n",
       "      <td>2067</td>\n",
       "    </tr>\n",
       "    <tr>\n",
       "      <th>507</th>\n",
       "      <td>2106</td>\n",
       "      <td>2124</td>\n",
       "    </tr>\n",
       "    <tr>\n",
       "      <th>512</th>\n",
       "      <td>2133</td>\n",
       "      <td>2137</td>\n",
       "    </tr>\n",
       "    <tr>\n",
       "      <th>514</th>\n",
       "      <td>2140</td>\n",
       "      <td>2141</td>\n",
       "    </tr>\n",
       "    <tr>\n",
       "      <th>522</th>\n",
       "      <td>2188</td>\n",
       "      <td>2249</td>\n",
       "    </tr>\n",
       "    <tr>\n",
       "      <th>526</th>\n",
       "      <td>2261</td>\n",
       "      <td>2270</td>\n",
       "    </tr>\n",
       "    <tr>\n",
       "      <th>527</th>\n",
       "      <td>2271</td>\n",
       "      <td>2289</td>\n",
       "    </tr>\n",
       "  </tbody>\n",
       "</table>\n",
       "</div>"
      ],
      "text/plain": [
       "      id1   id2\n",
       "445  1710  1749\n",
       "446  1750  1772\n",
       "449  1806  1814\n",
       "450  1815  1826\n",
       "464  1895  1904\n",
       "473  1930  1939\n",
       "479  1970  1971\n",
       "484  1979  1981\n",
       "489  1987  1987\n",
       "491  1991  2011\n",
       "492  2012  2029\n",
       "493  2030  2043\n",
       "494  2044  2059\n",
       "496  2062  2067\n",
       "507  2106  2124\n",
       "512  2133  2137\n",
       "514  2140  2141\n",
       "522  2188  2249\n",
       "526  2261  2270\n",
       "527  2271  2289"
      ]
     },
     "execution_count": 28,
     "metadata": {},
     "output_type": "execute_result"
    }
   ],
   "source": [
    "index1.tail(20)"
   ]
  },
  {
   "cell_type": "code",
   "execution_count": 19,
   "metadata": {
    "kernel": "SoS"
   },
   "outputs": [
    {
     "data": {
      "text/plain": [
       "(88, 2)"
      ]
     },
     "execution_count": 19,
     "metadata": {},
     "output_type": "execute_result"
    }
   ],
   "source": [
    "index1.shape"
   ]
  },
  {
   "cell_type": "code",
   "execution_count": 20,
   "metadata": {
    "kernel": "SoS"
   },
   "outputs": [],
   "source": [
    "logit_pymc3 = pd.DataFrame()\n",
    "logit1 = pd.read_csv(f\"{cwd}/{folder}/deletion.genes.block30.for_simu.sample.combined.genes.logit.all.blocks.pip.regional.csv\", sep = \"\\t\", header = None, names = [\"logit1\"])\n",
    "pymc31 = pd.read_csv(f\"{cwd}/{folder}/deletion.genes.block30.for_simu.sample.combined.genes.pymc3.chain_5.all.blocks.uniform.multi_seeds.pip.gz\", sep = \"\\t\", header = None, names = [\"pymc3_pip1\"])\n",
    "i = 0\n",
    "for idx, item in index1.iterrows():\n",
    "    logit = pyreadr.read_r(f\"{cwd}/{folder}/block_{item[0]}_{item[1]}/deletion.genes.block30.for_simu.sample.combined.genes.block_{item[0]}_{item[1]}.logit.rds\")\n",
    "    pymc3 = pd.read_csv(f\"{cwd}/{folder}/block_{item[0]}_{item[1]}/deletion.genes.block30.for_simu.sample.combined.genes.block_{item[0]}_{item[1]}.pymc3.chain_1.uniform_new_bound.gz\", usecols = [0], sep = \"\\t\", header = 0)\n",
    "    pymc3[\"block\"] = f\"block{idx}\"\n",
    "    susie = load_rds(f\"{cwd}/{folder}/block_{item[0]}_{item[1]}/deletion.genes.block30.for_simu.sample.combined.genes.block_{item[0]}_{item[1]}.SuSiE.L_10.prior_0p005.susie.rds\")[\"pip\"]\n",
    "    res = pd.concat([logit[None][[\"p1\"]], pymc3[[\"inclusion_probability\", \"block\"]]], axis = 1)\n",
    "    res[\"logit1\"] = logit1[\"logit1\"].tolist()[item[0]:item[1]+1]\n",
    "    res[\"pymc3_new\"] = pymc31[\"pymc3_pip1\"].tolist()[item[0]:item[1]+1]\n",
    "    res[\"susie\"] = susie\n",
    "    res[\"beta\"] = beta_in_block[i]\n",
    "    res[\"fisher\"] = fisher_in_block[i]\n",
    "    res[\"gene\"] = gene_in_block[i]\n",
    "    res[\"d_c\"] = d_c[i]\n",
    "    res[\"d_nc\"] = d_nc[i]\n",
    "    res[\"nd_c\"] = nd_c[i]\n",
    "    res[\"nd_nc\"] = nd_nc[i]\n",
    "    res = res.rename(columns = {\"p1\": \"logit\", \"inclusion_probability\": \"pymc3\"})\n",
    "    logit_pymc3 = pd.concat([logit_pymc3, res])\n",
    "    i += 1"
   ]
  },
  {
   "cell_type": "code",
   "execution_count": 21,
   "metadata": {
    "kernel": "SoS"
   },
   "outputs": [],
   "source": [
    "logit_pymc3[\"beta\"] = logit_pymc3.apply(lambda x: 0 if x[\"beta\"] == -0 else x[\"beta\"], axis = 1)\n",
    "logit_pymc3[\"beta\"] = [np.round(x, 6) for x in logit_pymc3[\"beta\"]]\n",
    "logit_pymc3[\"logit\"] = [np.round(x, 6) for x in logit_pymc3[\"logit\"]]\n",
    "logit_pymc3[\"logit1\"] = [np.round(x, 6) for x in logit_pymc3[\"logit1\"]]\n",
    "logit_pymc3[\"pymc3\"] = [np.round(x, 6) for x in logit_pymc3[\"pymc3\"]]\n",
    "logit_pymc3[\"pymc3_new\"] = [np.round(x, 6) for x in logit_pymc3[\"pymc3_new\"]]\n",
    "logit_pymc3[\"susie\"] = [np.round(x, 6) for x in logit_pymc3[\"susie\"]]"
   ]
  },
  {
   "cell_type": "code",
   "execution_count": 22,
   "metadata": {
    "kernel": "SoS"
   },
   "outputs": [],
   "source": [
    "logit_pymc3 = logit_pymc3[[\"block\", \"gene\", \"beta\", \"fisher\", \"d_c\", \"d_nc\", \"nd_c\", \"nd_nc\", \"logit\", \"logit1\", \"susie\", \"pymc3_new\"]]"
   ]
  },
  {
   "cell_type": "code",
   "execution_count": 23,
   "metadata": {
    "kernel": "SoS"
   },
   "outputs": [
    {
     "data": {
      "text/plain": [
       "(985, 12)"
      ]
     },
     "execution_count": 23,
     "metadata": {},
     "output_type": "execute_result"
    }
   ],
   "source": [
    "logit_pymc3.shape"
   ]
  },
  {
   "cell_type": "code",
   "execution_count": 29,
   "metadata": {
    "kernel": "SoS"
   },
   "outputs": [
    {
     "data": {
      "text/html": [
       "<div>\n",
       "<style scoped>\n",
       "    .dataframe tbody tr th:only-of-type {\n",
       "        vertical-align: middle;\n",
       "    }\n",
       "\n",
       "    .dataframe tbody tr th {\n",
       "        vertical-align: top;\n",
       "    }\n",
       "\n",
       "    .dataframe thead th {\n",
       "        text-align: right;\n",
       "    }\n",
       "</style>\n",
       "<table border=\"1\" class=\"dataframe\">\n",
       "  <thead>\n",
       "    <tr style=\"text-align: right;\">\n",
       "      <th></th>\n",
       "      <th>block</th>\n",
       "      <th>gene</th>\n",
       "      <th>beta</th>\n",
       "      <th>fisher</th>\n",
       "      <th>d_c</th>\n",
       "      <th>d_nc</th>\n",
       "      <th>nd_c</th>\n",
       "      <th>nd_nc</th>\n",
       "      <th>logit</th>\n",
       "      <th>logit1</th>\n",
       "      <th>susie</th>\n",
       "      <th>pymc3_new</th>\n",
       "    </tr>\n",
       "  </thead>\n",
       "  <tbody>\n",
       "    <tr>\n",
       "      <th>0</th>\n",
       "      <td>block0</td>\n",
       "      <td>gene_1</td>\n",
       "      <td>0.000000</td>\n",
       "      <td>0.790466</td>\n",
       "      <td>6</td>\n",
       "      <td>11922</td>\n",
       "      <td>8</td>\n",
       "      <td>11920</td>\n",
       "      <td>0.125</td>\n",
       "      <td>0.015036</td>\n",
       "      <td>0.0</td>\n",
       "      <td>0.0174</td>\n",
       "    </tr>\n",
       "    <tr>\n",
       "      <th>1</th>\n",
       "      <td>block0</td>\n",
       "      <td>gene_2</td>\n",
       "      <td>0.000000</td>\n",
       "      <td>0.790466</td>\n",
       "      <td>6</td>\n",
       "      <td>11922</td>\n",
       "      <td>8</td>\n",
       "      <td>11920</td>\n",
       "      <td>0.125</td>\n",
       "      <td>0.015036</td>\n",
       "      <td>0.0</td>\n",
       "      <td>0.0139</td>\n",
       "    </tr>\n",
       "    <tr>\n",
       "      <th>2</th>\n",
       "      <td>block0</td>\n",
       "      <td>gene_3</td>\n",
       "      <td>0.000000</td>\n",
       "      <td>0.790466</td>\n",
       "      <td>6</td>\n",
       "      <td>11922</td>\n",
       "      <td>8</td>\n",
       "      <td>11920</td>\n",
       "      <td>0.125</td>\n",
       "      <td>0.015036</td>\n",
       "      <td>0.0</td>\n",
       "      <td>0.0174</td>\n",
       "    </tr>\n",
       "    <tr>\n",
       "      <th>3</th>\n",
       "      <td>block0</td>\n",
       "      <td>gene_4</td>\n",
       "      <td>0.000000</td>\n",
       "      <td>0.790466</td>\n",
       "      <td>6</td>\n",
       "      <td>11922</td>\n",
       "      <td>8</td>\n",
       "      <td>11920</td>\n",
       "      <td>0.125</td>\n",
       "      <td>0.015036</td>\n",
       "      <td>0.0</td>\n",
       "      <td>0.0168</td>\n",
       "    </tr>\n",
       "    <tr>\n",
       "      <th>4</th>\n",
       "      <td>block0</td>\n",
       "      <td>gene_5</td>\n",
       "      <td>0.552649</td>\n",
       "      <td>0.790466</td>\n",
       "      <td>6</td>\n",
       "      <td>11922</td>\n",
       "      <td>8</td>\n",
       "      <td>11920</td>\n",
       "      <td>0.125</td>\n",
       "      <td>0.015036</td>\n",
       "      <td>0.0</td>\n",
       "      <td>0.0190</td>\n",
       "    </tr>\n",
       "  </tbody>\n",
       "</table>\n",
       "</div>"
      ],
      "text/plain": [
       "    block    gene      beta    fisher  ...  logit    logit1  susie  pymc3_new\n",
       "0  block0  gene_1  0.000000  0.790466  ...  0.125  0.015036    0.0     0.0174\n",
       "1  block0  gene_2  0.000000  0.790466  ...  0.125  0.015036    0.0     0.0139\n",
       "2  block0  gene_3  0.000000  0.790466  ...  0.125  0.015036    0.0     0.0174\n",
       "3  block0  gene_4  0.000000  0.790466  ...  0.125  0.015036    0.0     0.0168\n",
       "4  block0  gene_5  0.552649  0.790466  ...  0.125  0.015036    0.0     0.0190\n",
       "\n",
       "[5 rows x 12 columns]"
      ]
     },
     "execution_count": 29,
     "metadata": {},
     "output_type": "execute_result"
    }
   ],
   "source": [
    "logit_pymc3.head()"
   ]
  },
  {
   "cell_type": "code",
   "execution_count": 30,
   "metadata": {
    "kernel": "SoS"
   },
   "outputs": [
    {
     "data": {
      "text/html": [
       "<div>\n",
       "<style scoped>\n",
       "    .dataframe tbody tr th:only-of-type {\n",
       "        vertical-align: middle;\n",
       "    }\n",
       "\n",
       "    .dataframe tbody tr th {\n",
       "        vertical-align: top;\n",
       "    }\n",
       "\n",
       "    .dataframe thead th {\n",
       "        text-align: right;\n",
       "    }\n",
       "</style>\n",
       "<table border=\"1\" class=\"dataframe\">\n",
       "  <thead>\n",
       "    <tr style=\"text-align: right;\">\n",
       "      <th></th>\n",
       "      <th>block</th>\n",
       "      <th>gene</th>\n",
       "      <th>beta</th>\n",
       "      <th>fisher</th>\n",
       "      <th>d_c</th>\n",
       "      <th>d_nc</th>\n",
       "      <th>nd_c</th>\n",
       "      <th>nd_nc</th>\n",
       "      <th>logit</th>\n",
       "      <th>logit1</th>\n",
       "      <th>susie</th>\n",
       "      <th>pymc3_new</th>\n",
       "    </tr>\n",
       "  </thead>\n",
       "  <tbody>\n",
       "    <tr>\n",
       "      <th>0</th>\n",
       "      <td>block8</td>\n",
       "      <td>gene_52</td>\n",
       "      <td>1.957626</td>\n",
       "      <td>1.957547e-09</td>\n",
       "      <td>56</td>\n",
       "      <td>11872</td>\n",
       "      <td>9</td>\n",
       "      <td>11919</td>\n",
       "      <td>1.0</td>\n",
       "      <td>1.0</td>\n",
       "      <td>1.0</td>\n",
       "      <td>1.0000</td>\n",
       "    </tr>\n",
       "    <tr>\n",
       "      <th>1</th>\n",
       "      <td>block8</td>\n",
       "      <td>gene_53</td>\n",
       "      <td>0.000000</td>\n",
       "      <td>8.237290e-01</td>\n",
       "      <td>9</td>\n",
       "      <td>11919</td>\n",
       "      <td>11</td>\n",
       "      <td>11917</td>\n",
       "      <td>0.0</td>\n",
       "      <td>0.0</td>\n",
       "      <td>0.0</td>\n",
       "      <td>0.0148</td>\n",
       "    </tr>\n",
       "    <tr>\n",
       "      <th>2</th>\n",
       "      <td>block8</td>\n",
       "      <td>gene_54</td>\n",
       "      <td>0.000000</td>\n",
       "      <td>1.000000e+00</td>\n",
       "      <td>5</td>\n",
       "      <td>11923</td>\n",
       "      <td>4</td>\n",
       "      <td>11924</td>\n",
       "      <td>0.0</td>\n",
       "      <td>0.0</td>\n",
       "      <td>0.0</td>\n",
       "      <td>0.0251</td>\n",
       "    </tr>\n",
       "  </tbody>\n",
       "</table>\n",
       "</div>"
      ],
      "text/plain": [
       "    block     gene      beta        fisher  ...  logit  logit1  susie  pymc3_new\n",
       "0  block8  gene_52  1.957626  1.957547e-09  ...    1.0     1.0    1.0     1.0000\n",
       "1  block8  gene_53  0.000000  8.237290e-01  ...    0.0     0.0    0.0     0.0148\n",
       "2  block8  gene_54  0.000000  1.000000e+00  ...    0.0     0.0    0.0     0.0251\n",
       "\n",
       "[3 rows x 12 columns]"
      ]
     },
     "execution_count": 30,
     "metadata": {},
     "output_type": "execute_result"
    }
   ],
   "source": [
    "logit_pymc3[logit_pymc3[\"block\"] == \"block8\"]"
   ]
  },
  {
   "cell_type": "code",
   "execution_count": 31,
   "metadata": {
    "kernel": "SoS"
   },
   "outputs": [],
   "source": [
    "block1 = list()\n",
    "for i in sorted(set(logit_pymc3[\"block\"]), key=logit_pymc3[\"block\"].tolist().index):\n",
    "    if min(logit_pymc3[logit_pymc3[\"block\"] == i][\"fisher\"]) < 1e-3:# or np.count_nonzero(logit_pymc3[logit_pymc3[\"block\"] == i][\"beta\"]) >= 2:\n",
    "        block1.append(i)"
   ]
  },
  {
   "cell_type": "code",
   "execution_count": 32,
   "metadata": {
    "kernel": "SoS"
   },
   "outputs": [],
   "source": [
    "logit_pymc3_1 = logit_pymc3[logit_pymc3[\"block\"].isin(block1)]"
   ]
  },
  {
   "cell_type": "code",
   "execution_count": 35,
   "metadata": {
    "kernel": "SoS"
   },
   "outputs": [
    {
     "data": {
      "text/html": [
       "<div>\n",
       "<style scoped>\n",
       "    .dataframe tbody tr th:only-of-type {\n",
       "        vertical-align: middle;\n",
       "    }\n",
       "\n",
       "    .dataframe tbody tr th {\n",
       "        vertical-align: top;\n",
       "    }\n",
       "\n",
       "    .dataframe thead th {\n",
       "        text-align: right;\n",
       "    }\n",
       "</style>\n",
       "<table border=\"1\" class=\"dataframe\">\n",
       "  <thead>\n",
       "    <tr style=\"text-align: right;\">\n",
       "      <th></th>\n",
       "      <th>block</th>\n",
       "      <th>gene</th>\n",
       "      <th>beta</th>\n",
       "      <th>fisher</th>\n",
       "      <th>d_c</th>\n",
       "      <th>d_nc</th>\n",
       "      <th>nd_c</th>\n",
       "      <th>nd_nc</th>\n",
       "      <th>logit</th>\n",
       "      <th>logit1</th>\n",
       "      <th>susie</th>\n",
       "      <th>pymc3_new</th>\n",
       "    </tr>\n",
       "  </thead>\n",
       "  <tbody>\n",
       "    <tr>\n",
       "      <th>16</th>\n",
       "      <td>block507</td>\n",
       "      <td>gene_2123</td>\n",
       "      <td>0.000000</td>\n",
       "      <td>5.775135e-15</td>\n",
       "      <td>53</td>\n",
       "      <td>11875</td>\n",
       "      <td>1</td>\n",
       "      <td>11927</td>\n",
       "      <td>0.052632</td>\n",
       "      <td>0.023004</td>\n",
       "      <td>0.052632</td>\n",
       "      <td>0.1264</td>\n",
       "    </tr>\n",
       "    <tr>\n",
       "      <th>17</th>\n",
       "      <td>block507</td>\n",
       "      <td>gene_2124</td>\n",
       "      <td>0.000000</td>\n",
       "      <td>5.775135e-15</td>\n",
       "      <td>53</td>\n",
       "      <td>11875</td>\n",
       "      <td>1</td>\n",
       "      <td>11927</td>\n",
       "      <td>0.052632</td>\n",
       "      <td>0.023004</td>\n",
       "      <td>0.052632</td>\n",
       "      <td>0.1276</td>\n",
       "    </tr>\n",
       "    <tr>\n",
       "      <th>18</th>\n",
       "      <td>block507</td>\n",
       "      <td>gene_2125</td>\n",
       "      <td>0.000000</td>\n",
       "      <td>5.775135e-15</td>\n",
       "      <td>53</td>\n",
       "      <td>11875</td>\n",
       "      <td>1</td>\n",
       "      <td>11927</td>\n",
       "      <td>0.052632</td>\n",
       "      <td>0.023004</td>\n",
       "      <td>0.052632</td>\n",
       "      <td>0.1356</td>\n",
       "    </tr>\n",
       "    <tr>\n",
       "      <th>0</th>\n",
       "      <td>block514</td>\n",
       "      <td>gene_2141</td>\n",
       "      <td>0.888633</td>\n",
       "      <td>1.818127e-05</td>\n",
       "      <td>74</td>\n",
       "      <td>11854</td>\n",
       "      <td>30</td>\n",
       "      <td>11898</td>\n",
       "      <td>0.750675</td>\n",
       "      <td>0.746846</td>\n",
       "      <td>0.760358</td>\n",
       "      <td>0.7020</td>\n",
       "    </tr>\n",
       "    <tr>\n",
       "      <th>1</th>\n",
       "      <td>block514</td>\n",
       "      <td>gene_2142</td>\n",
       "      <td>0.000000</td>\n",
       "      <td>6.821863e-05</td>\n",
       "      <td>58</td>\n",
       "      <td>11870</td>\n",
       "      <td>22</td>\n",
       "      <td>11906</td>\n",
       "      <td>0.249325</td>\n",
       "      <td>0.248053</td>\n",
       "      <td>0.239642</td>\n",
       "      <td>0.3122</td>\n",
       "    </tr>\n",
       "  </tbody>\n",
       "</table>\n",
       "</div>"
      ],
      "text/plain": [
       "       block       gene      beta  ...    logit1     susie  pymc3_new\n",
       "16  block507  gene_2123  0.000000  ...  0.023004  0.052632     0.1264\n",
       "17  block507  gene_2124  0.000000  ...  0.023004  0.052632     0.1276\n",
       "18  block507  gene_2125  0.000000  ...  0.023004  0.052632     0.1356\n",
       "0   block514  gene_2141  0.888633  ...  0.746846  0.760358     0.7020\n",
       "1   block514  gene_2142  0.000000  ...  0.248053  0.239642     0.3122\n",
       "\n",
       "[5 rows x 12 columns]"
      ]
     },
     "execution_count": 35,
     "metadata": {},
     "output_type": "execute_result"
    }
   ],
   "source": [
    "logit_pymc3_1.tail()"
   ]
  },
  {
   "cell_type": "code",
   "execution_count": 36,
   "metadata": {
    "kernel": "SoS"
   },
   "outputs": [
    {
     "data": {
      "text/html": [
       "<div>\n",
       "<style scoped>\n",
       "    .dataframe tbody tr th:only-of-type {\n",
       "        vertical-align: middle;\n",
       "    }\n",
       "\n",
       "    .dataframe tbody tr th {\n",
       "        vertical-align: top;\n",
       "    }\n",
       "\n",
       "    .dataframe thead th {\n",
       "        text-align: right;\n",
       "    }\n",
       "</style>\n",
       "<table border=\"1\" class=\"dataframe\">\n",
       "  <thead>\n",
       "    <tr style=\"text-align: right;\">\n",
       "      <th></th>\n",
       "      <th>block</th>\n",
       "      <th>gene</th>\n",
       "      <th>beta</th>\n",
       "      <th>fisher</th>\n",
       "      <th>d_c</th>\n",
       "      <th>d_nc</th>\n",
       "      <th>nd_c</th>\n",
       "      <th>nd_nc</th>\n",
       "      <th>logit</th>\n",
       "      <th>logit1</th>\n",
       "      <th>susie</th>\n",
       "      <th>pymc3_new</th>\n",
       "    </tr>\n",
       "  </thead>\n",
       "  <tbody>\n",
       "    <tr>\n",
       "      <th>0</th>\n",
       "      <td>block450</td>\n",
       "      <td>gene_1816</td>\n",
       "      <td>1.230252</td>\n",
       "      <td>8.673530e-27</td>\n",
       "      <td>113</td>\n",
       "      <td>11815</td>\n",
       "      <td>6</td>\n",
       "      <td>11922</td>\n",
       "      <td>0.0</td>\n",
       "      <td>0.0</td>\n",
       "      <td>0.0</td>\n",
       "      <td>0.1038</td>\n",
       "    </tr>\n",
       "    <tr>\n",
       "      <th>1</th>\n",
       "      <td>block450</td>\n",
       "      <td>gene_1817</td>\n",
       "      <td>0.000000</td>\n",
       "      <td>8.673530e-27</td>\n",
       "      <td>113</td>\n",
       "      <td>11815</td>\n",
       "      <td>6</td>\n",
       "      <td>11922</td>\n",
       "      <td>0.0</td>\n",
       "      <td>0.0</td>\n",
       "      <td>0.0</td>\n",
       "      <td>0.1015</td>\n",
       "    </tr>\n",
       "    <tr>\n",
       "      <th>2</th>\n",
       "      <td>block450</td>\n",
       "      <td>gene_1818</td>\n",
       "      <td>0.000000</td>\n",
       "      <td>8.673530e-27</td>\n",
       "      <td>113</td>\n",
       "      <td>11815</td>\n",
       "      <td>6</td>\n",
       "      <td>11922</td>\n",
       "      <td>0.0</td>\n",
       "      <td>0.0</td>\n",
       "      <td>0.0</td>\n",
       "      <td>0.1041</td>\n",
       "    </tr>\n",
       "    <tr>\n",
       "      <th>3</th>\n",
       "      <td>block450</td>\n",
       "      <td>gene_1819</td>\n",
       "      <td>0.000000</td>\n",
       "      <td>4.424518e-36</td>\n",
       "      <td>163</td>\n",
       "      <td>11765</td>\n",
       "      <td>11</td>\n",
       "      <td>11917</td>\n",
       "      <td>0.0</td>\n",
       "      <td>0.0</td>\n",
       "      <td>0.0</td>\n",
       "      <td>0.0607</td>\n",
       "    </tr>\n",
       "    <tr>\n",
       "      <th>4</th>\n",
       "      <td>block450</td>\n",
       "      <td>gene_1820</td>\n",
       "      <td>0.000000</td>\n",
       "      <td>4.424518e-36</td>\n",
       "      <td>163</td>\n",
       "      <td>11765</td>\n",
       "      <td>11</td>\n",
       "      <td>11917</td>\n",
       "      <td>0.0</td>\n",
       "      <td>0.0</td>\n",
       "      <td>0.0</td>\n",
       "      <td>0.0635</td>\n",
       "    </tr>\n",
       "    <tr>\n",
       "      <th>5</th>\n",
       "      <td>block450</td>\n",
       "      <td>gene_1821</td>\n",
       "      <td>0.000000</td>\n",
       "      <td>6.837438e-57</td>\n",
       "      <td>310</td>\n",
       "      <td>11618</td>\n",
       "      <td>35</td>\n",
       "      <td>11893</td>\n",
       "      <td>0.0</td>\n",
       "      <td>0.0</td>\n",
       "      <td>0.0</td>\n",
       "      <td>0.0423</td>\n",
       "    </tr>\n",
       "    <tr>\n",
       "      <th>6</th>\n",
       "      <td>block450</td>\n",
       "      <td>gene_1822</td>\n",
       "      <td>0.000000</td>\n",
       "      <td>8.076649e-65</td>\n",
       "      <td>329</td>\n",
       "      <td>11599</td>\n",
       "      <td>31</td>\n",
       "      <td>11897</td>\n",
       "      <td>0.5</td>\n",
       "      <td>0.5</td>\n",
       "      <td>0.5</td>\n",
       "      <td>0.3719</td>\n",
       "    </tr>\n",
       "    <tr>\n",
       "      <th>7</th>\n",
       "      <td>block450</td>\n",
       "      <td>gene_1823</td>\n",
       "      <td>1.813771</td>\n",
       "      <td>8.076649e-65</td>\n",
       "      <td>329</td>\n",
       "      <td>11599</td>\n",
       "      <td>31</td>\n",
       "      <td>11897</td>\n",
       "      <td>0.5</td>\n",
       "      <td>0.5</td>\n",
       "      <td>0.5</td>\n",
       "      <td>0.6827</td>\n",
       "    </tr>\n",
       "    <tr>\n",
       "      <th>8</th>\n",
       "      <td>block450</td>\n",
       "      <td>gene_1824</td>\n",
       "      <td>0.000000</td>\n",
       "      <td>1.224925e-53</td>\n",
       "      <td>270</td>\n",
       "      <td>11658</td>\n",
       "      <td>25</td>\n",
       "      <td>11903</td>\n",
       "      <td>0.0</td>\n",
       "      <td>0.0</td>\n",
       "      <td>0.0</td>\n",
       "      <td>0.0187</td>\n",
       "    </tr>\n",
       "    <tr>\n",
       "      <th>9</th>\n",
       "      <td>block450</td>\n",
       "      <td>gene_1825</td>\n",
       "      <td>0.000000</td>\n",
       "      <td>1.224925e-53</td>\n",
       "      <td>270</td>\n",
       "      <td>11658</td>\n",
       "      <td>25</td>\n",
       "      <td>11903</td>\n",
       "      <td>0.0</td>\n",
       "      <td>0.0</td>\n",
       "      <td>0.0</td>\n",
       "      <td>0.0211</td>\n",
       "    </tr>\n",
       "    <tr>\n",
       "      <th>10</th>\n",
       "      <td>block450</td>\n",
       "      <td>gene_1826</td>\n",
       "      <td>0.000000</td>\n",
       "      <td>1.224925e-53</td>\n",
       "      <td>270</td>\n",
       "      <td>11658</td>\n",
       "      <td>25</td>\n",
       "      <td>11903</td>\n",
       "      <td>0.0</td>\n",
       "      <td>0.0</td>\n",
       "      <td>0.0</td>\n",
       "      <td>0.0202</td>\n",
       "    </tr>\n",
       "    <tr>\n",
       "      <th>11</th>\n",
       "      <td>block450</td>\n",
       "      <td>gene_1827</td>\n",
       "      <td>0.000000</td>\n",
       "      <td>7.536359e-26</td>\n",
       "      <td>113</td>\n",
       "      <td>11815</td>\n",
       "      <td>7</td>\n",
       "      <td>11921</td>\n",
       "      <td>0.0</td>\n",
       "      <td>0.0</td>\n",
       "      <td>0.0</td>\n",
       "      <td>0.0734</td>\n",
       "    </tr>\n",
       "  </tbody>\n",
       "</table>\n",
       "</div>"
      ],
      "text/plain": [
       "       block       gene      beta  ...  logit1  susie  pymc3_new\n",
       "0   block450  gene_1816  1.230252  ...     0.0    0.0     0.1038\n",
       "1   block450  gene_1817  0.000000  ...     0.0    0.0     0.1015\n",
       "2   block450  gene_1818  0.000000  ...     0.0    0.0     0.1041\n",
       "3   block450  gene_1819  0.000000  ...     0.0    0.0     0.0607\n",
       "4   block450  gene_1820  0.000000  ...     0.0    0.0     0.0635\n",
       "5   block450  gene_1821  0.000000  ...     0.0    0.0     0.0423\n",
       "6   block450  gene_1822  0.000000  ...     0.5    0.5     0.3719\n",
       "7   block450  gene_1823  1.813771  ...     0.5    0.5     0.6827\n",
       "8   block450  gene_1824  0.000000  ...     0.0    0.0     0.0187\n",
       "9   block450  gene_1825  0.000000  ...     0.0    0.0     0.0211\n",
       "10  block450  gene_1826  0.000000  ...     0.0    0.0     0.0202\n",
       "11  block450  gene_1827  0.000000  ...     0.0    0.0     0.0734\n",
       "\n",
       "[12 rows x 12 columns]"
      ]
     },
     "execution_count": 36,
     "metadata": {},
     "output_type": "execute_result"
    }
   ],
   "source": [
    "logit_pymc3_1[logit_pymc3_1[\"block\"] == \"block450\"]"
   ]
  },
  {
   "cell_type": "code",
   "execution_count": 37,
   "metadata": {
    "kernel": "SoS"
   },
   "outputs": [],
   "source": [
    "logit_pymc3.to_csv(f\"{cwd}/{folder}/PIP_comparison_0430.csv\", sep = \"\\t\", header = True, index = False)"
   ]
  },
  {
   "cell_type": "code",
   "execution_count": 39,
   "metadata": {
    "kernel": "SoS"
   },
   "outputs": [
    {
     "data": {
      "text/plain": [
       "1.0"
      ]
     },
     "execution_count": 39,
     "metadata": {},
     "output_type": "execute_result"
    }
   ],
   "source": [
    "sum(logit_pymc3[logit_pymc3[\"block\"] == \"block8\"][\"logit\"])"
   ]
  },
  {
   "cell_type": "code",
   "execution_count": 40,
   "metadata": {
    "kernel": "SoS"
   },
   "outputs": [
    {
     "data": {
      "text/html": [
       "<div>\n",
       "<style scoped>\n",
       "    .dataframe tbody tr th:only-of-type {\n",
       "        vertical-align: middle;\n",
       "    }\n",
       "\n",
       "    .dataframe tbody tr th {\n",
       "        vertical-align: top;\n",
       "    }\n",
       "\n",
       "    .dataframe thead th {\n",
       "        text-align: right;\n",
       "    }\n",
       "</style>\n",
       "<table border=\"1\" class=\"dataframe\">\n",
       "  <thead>\n",
       "    <tr style=\"text-align: right;\">\n",
       "      <th></th>\n",
       "      <th>block</th>\n",
       "      <th>gene</th>\n",
       "      <th>beta</th>\n",
       "      <th>fisher</th>\n",
       "      <th>d_c</th>\n",
       "      <th>d_nc</th>\n",
       "      <th>nd_c</th>\n",
       "      <th>nd_nc</th>\n",
       "      <th>logit</th>\n",
       "      <th>logit1</th>\n",
       "      <th>susie</th>\n",
       "      <th>pymc3_new</th>\n",
       "    </tr>\n",
       "  </thead>\n",
       "  <tbody>\n",
       "    <tr>\n",
       "      <th>6</th>\n",
       "      <td>block450</td>\n",
       "      <td>gene_1822</td>\n",
       "      <td>0.000000</td>\n",
       "      <td>8.076649e-65</td>\n",
       "      <td>329</td>\n",
       "      <td>11599</td>\n",
       "      <td>31</td>\n",
       "      <td>11897</td>\n",
       "      <td>0.5</td>\n",
       "      <td>0.5</td>\n",
       "      <td>0.5</td>\n",
       "      <td>0.3719</td>\n",
       "    </tr>\n",
       "    <tr>\n",
       "      <th>7</th>\n",
       "      <td>block450</td>\n",
       "      <td>gene_1823</td>\n",
       "      <td>1.813771</td>\n",
       "      <td>8.076649e-65</td>\n",
       "      <td>329</td>\n",
       "      <td>11599</td>\n",
       "      <td>31</td>\n",
       "      <td>11897</td>\n",
       "      <td>0.5</td>\n",
       "      <td>0.5</td>\n",
       "      <td>0.5</td>\n",
       "      <td>0.6827</td>\n",
       "    </tr>\n",
       "  </tbody>\n",
       "</table>\n",
       "</div>"
      ],
      "text/plain": [
       "      block       gene      beta        fisher  ...  logit  logit1  susie  pymc3_new\n",
       "6  block450  gene_1822  0.000000  8.076649e-65  ...    0.5     0.5    0.5     0.3719\n",
       "7  block450  gene_1823  1.813771  8.076649e-65  ...    0.5     0.5    0.5     0.6827\n",
       "\n",
       "[2 rows x 12 columns]"
      ]
     },
     "execution_count": 40,
     "metadata": {},
     "output_type": "execute_result"
    }
   ],
   "source": [
    "logit_pymc3[logit_pymc3[\"fisher\"] == min(logit_pymc3[\"fisher\"])]"
   ]
  },
  {
   "cell_type": "code",
   "execution_count": null,
   "metadata": {
    "kernel": "SoS"
   },
   "outputs": [],
   "source": []
  }
 ],
 "metadata": {
  "kernelspec": {
   "display_name": "SoS",
   "language": "sos",
   "name": "sos"
  },
  "language_info": {
   "codemirror_mode": "sos",
   "file_extension": ".sos",
   "mimetype": "text/x-sos",
   "name": "sos",
   "nbconvert_exporter": "sos_notebook.converter.SoS_Exporter",
   "pygments_lexer": "sos"
  },
  "sos": {
   "kernels": [
    [
     "SoS",
     "sos",
     "",
     ""
    ]
   ],
   "version": "0.21.7"
  }
 },
 "nbformat": 4,
 "nbformat_minor": 4
}
