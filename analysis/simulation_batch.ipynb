{
 "cells": [
  {
   "cell_type": "code",
   "execution_count": null,
   "metadata": {
    "collapsed": false
   },
   "outputs": [],
   "source": [
    "import copy\n",
    "from simulation import *\n",
    "env = Environment()\n",
    "args = copy.deepcopy(env.args)\n",
    "\n",
    "k = [0.001, 0.005]\n",
    "m = [5, 10]\n",
    "gamma = [(5,1), (3,1)]\n",
    "\n",
    "for kk in k:\n",
    "    for mm in m:\n",
    "        for gg in gamma:\n",
    "            args['avg_cnv_per_individual'] = mm\n",
    "            args['prevalence'] = kk\n",
    "            args['odds_ratio_params']['shape'] = gg[0]\n",
    "            args['odds_ratio_params']['scale'] = gg[1]\n",
    "            simulation_id = '{}_{}_{}_{}'.format(kk, mm, gg[0], gg[1])\n",
    "            run_simulation(\"data/refGene.txt.gz\", \"data/ISC-r1.CNV.bed\", args, env.causal_genes, simulation_id)\n"
   ]
  },
  {
   "cell_type": "code",
   "execution_count": null,
   "metadata": {
    "collapsed": true
   },
   "outputs": [],
   "source": []
  }
 ],
 "metadata": {
  "kernelspec": {
   "display_name": "Python 3",
   "language": "python",
   "name": "python3"
  },
  "language_info": {
   "codemirror_mode": {
    "name": "ipython",
    "version": 3
   },
   "file_extension": ".py",
   "mimetype": "text/x-python",
   "name": "python",
   "nbconvert_exporter": "python",
   "pygments_lexer": "ipython3",
   "version": "3.5.2"
  }
 },
 "nbformat": 4,
 "nbformat_minor": 2
}
