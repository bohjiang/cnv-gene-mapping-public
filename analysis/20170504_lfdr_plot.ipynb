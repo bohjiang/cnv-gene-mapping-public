{
 "cells": [
  {
   "cell_type": "markdown",
   "metadata": {},
   "source": [
    "# Obtain LFDR using .RDS and p-value using simulated dataset (.pkl)"
   ]
  },
  {
   "cell_type": "code",
   "execution_count": 1,
   "metadata": {
    "collapsed": true
   },
   "outputs": [],
   "source": [
    "from simulation import *\n",
    "from power_typeIerror import *\n",
    "from collections import OrderedDict\n",
    "import numpy as np\n",
    "import rpy2.robjects as robjects\n",
    "from rpy2.robjects import pandas2ri\n",
    "pandas2ri.activate()\n",
    "readRDS = robjects.r['readRDS']\n",
    "from rpy2.robjects.packages import importr\n",
    "import matplotlib.pyplot as plt\n",
    "# from numpy import inf"
   ]
  },
  {
   "cell_type": "code",
   "execution_count": 2,
   "metadata": {
    "collapsed": true
   },
   "outputs": [],
   "source": [
    "def get_causal_pvalue_from_pkl(input_data):\n",
    "    '''get p values of fisher's exact test of causal genes from pkl input'''\n",
    "    dat = load_data(input_data)\n",
    "    causal_genes = set(dat[\"debug\"][\"causal genes\"])\n",
    "    args = dat[\"debug\"][\"args\"]\n",
    "    sample_genes = get_gene_table(dat)\n",
    "    fisher_table = test_contingency_table(sample_genes)\n",
    "    overlap_genes = list(causal_genes.intersection(fisher_table[\"genes\"]))\n",
    "    # print (len(overlap_genes))\n",
    "    indices = [fisher_table[\"genes\"].index(x) for x in overlap_genes]\n",
    "    # need to convert pvalue to -log10(pvalue) in def lfdr_pvalue_plot\n",
    "    # log_overlap_pvalue = [-np.log10(fisher_table[\"p_value\"][num]) for num in indices]\n",
    "    overlap_pvalue = [fisher_table[\"p_value\"][num] for num in indices]\n",
    "    pvalue_df = OrderedDict(sorted(zip(*[overlap_genes, overlap_pvalue]), key = lambda x: x[1], reverse=True))\n",
    "    return overlap_genes, pvalue_df, args"
   ]
  },
  {
   "cell_type": "code",
   "execution_count": 3,
   "metadata": {
    "collapsed": true
   },
   "outputs": [],
   "source": [
    "def get_lfdr(rds_data, overlap_genes_from_pkl, inf_sub = None):\n",
    "    df = readRDS(rds_data)\n",
    "    df = pandas2ri.ri2py(df)\n",
    "    # print (df.names)\n",
    "    # \"20\" is \"pip\", \"18\" is \"summary\"\n",
    "    pip_rds = df[20]\n",
    "    pip_genes = list(pip_rds.names[0])\n",
    "    pip_list = np.array(np.matrix(pip_rds)).reshape(-1,).tolist()\n",
    "    lfdr = [1-x for x in pip_list]\n",
    "    gene_index = [pip_genes.index(gene) for gene in overlap_genes_from_pkl]\n",
    "    log_lfdr_overlap = [-np.log10(lfdr[index]) for index in gene_index]\n",
    "    # replace infinity with the maximum of the list excluding infinity\n",
    "    log_lfdr = [x if not np.isinf(x) else max([x for x in log_lfdr_overlap if not np.isinf(x)]) \n",
    "                for x in log_lfdr_overlap]\n",
    "    lfdr_df = OrderedDict(sorted(zip(*[overlap_genes_from_pkl, log_lfdr]), \n",
    "                                 key = lambda x: x[1], reverse=True))\n",
    "    return lfdr_df"
   ]
  },
  {
   "cell_type": "code",
   "execution_count": 4,
   "metadata": {
    "collapsed": true
   },
   "outputs": [],
   "source": [
    "def convert_list_to_R(list_dat):\n",
    "    ks = importr('ks')\n",
    "    R_vector = robjects.r.c(robjects.FloatVector(list_dat))\n",
    "    return R_vector"
   ]
  },
  {
   "cell_type": "code",
   "execution_count": 5,
   "metadata": {
    "collapsed": true
   },
   "outputs": [],
   "source": [
    "robjects.r('''\n",
    "library(\"fdrtool\")\n",
    "f <- function(lfdr){\n",
    "    fdr = fdrtool(lfdr, statistic = \"pvalue\", verbose = FALSE)\n",
    "    return (fdr$lfdr)\n",
    "}\n",
    "''')\n",
    "p_to_lfdr = robjects.r[\"f\"]"
   ]
  },
  {
   "cell_type": "code",
   "execution_count": 6,
   "metadata": {
    "collapsed": true
   },
   "outputs": [],
   "source": [
    "def lfdr_pvalue_plot(pvalue_dat, lfdr_dat):\n",
    "    '''Use LFDR from Fisher's pvalue as x axis, instead of pvalue itself'''\n",
    "    overlap_genes, pvalue, args = get_causal_pvalue_from_pkl(pvalue_dat)\n",
    "    lfdr = get_lfdr(lfdr_dat, overlap_genes)\n",
    "    p_vector = convert_list_to_R(list(pvalue.values()))\n",
    "    p_to_lfdr_list = [-np.log10(x) for x in list(p_to_lfdr(p_vector))]\n",
    "    p_to_lfdr_df = OrderedDict(sorted(zip(*[pvalue.keys(), p_to_lfdr_list])))\n",
    "    comb = {\"p1\": [], \"p2\": [], \"gene\": []}\n",
    "    for gene, p in p_to_lfdr_df.items():\n",
    "        comb[\"p1\"].append(p)\n",
    "        comb[\"p2\"].append(lfdr[gene])\n",
    "        comb[\"gene\"].append(gene)\n",
    "    # print (len(comb[\"gene\"]), len(comb[\"p1\"]), len(comb[\"p2\"]))\n",
    "    fig = plt.scatter(comb[\"p1\"], comb[\"p2\"])\n",
    "    for label, p1, p2 in zip(comb[\"gene\"], comb[\"p1\"], comb[\"p2\"]):\n",
    "        if (p1>1 and p2>1):\n",
    "            plt.annotate(label, xy = (p1, p2))\n",
    "    plt.xlabel(\"-log(lfdr) from Fisher's pvalue\")\n",
    "    plt.ylabel(\"-log(lfdr)\")\n",
    "    plt.title(\"N={}, M={}, Gamma~({},1), p={}\".format( args[\"n_case\"]+args[\"n_ctrl\"], args[\"n_causal_gene\"], \n",
    "                                                args[\"odds_ratio_params\"][\"shape\"], args[\"prevalence\"] ))\n",
    "    # plt.show()\n",
    "    plt.savefig(\"N{}_M{}_shape{}_p{}.png\".format( args[\"n_case\"]+args[\"n_ctrl\"], args[\"n_causal_gene\"], \n",
    "                                                  args[\"odds_ratio_params\"][\"shape\"], args[\"prevalence\"] ))\n",
    "    plt.close()\n",
    "    return None"
   ]
  },
  {
   "cell_type": "code",
   "execution_count": 7,
   "metadata": {
    "collapsed": true,
    "scrolled": true
   },
   "outputs": [],
   "source": [
    "lfdr_pvalue_plot(\"data/del_sim_shape5_scale1_p0.005_N4000_M200_12.data.pkl\", \n",
    "                 \"data/del_sim_shape5_scale1_p0.005_N4000_M200_12.data.feather.RDS\")"
   ]
  },
  {
   "cell_type": "code",
   "execution_count": 8,
   "metadata": {
    "collapsed": true,
    "scrolled": true
   },
   "outputs": [],
   "source": [
    "# overlap_genes_from_pkl, pvalue_df_pkl, args = get_causal_pvalue_from_pkl(\n",
    "#     \"data/del_sim_shape9_scale1_p0.01_N4000_M100_12.data.pkl\")"
   ]
  },
  {
   "cell_type": "code",
   "execution_count": 9,
   "metadata": {
    "collapsed": true,
    "scrolled": true
   },
   "outputs": [],
   "source": [
    "# lfdr_df_rds = get_lfdr(\"data/del_sim_shape9_scale1_p0.01_N4000_M100_12.data.feather.RDS\", overlap_genes_from_pkl)\n",
    "# print (lfdr_df_rds)"
   ]
  },
  {
   "cell_type": "code",
   "execution_count": 10,
   "metadata": {
    "collapsed": true
   },
   "outputs": [],
   "source": [
    "# fig = plt.scatter(comb[\"p1\"], comb[\"p2\"])\n",
    "# for label, p1, p2 in zip(comb[\"gene\"], comb[\"p1\"], comb[\"p2\"]):\n",
    "#     if (p1>1 and p2>1) or (p1>2) or (p2>2):\n",
    "#         plt.annotate(label, xy = (p1, p2))\n",
    "# plt.xlabel(\"-log(p) fisher test\")\n",
    "# plt.ylabel(\"-log(lfdr)\")\n",
    "# plt.title(\"-log(p_value) vs -log(lfdr)\")\n",
    "# # plt.show()\n",
    "# plt.savefig(\"fig_4000_200_5_0.005.png\")\n",
    "# plt.close()"
   ]
  }
 ],
 "metadata": {
  "kernelspec": {
   "display_name": "Python 3",
   "language": "python",
   "name": "python3"
  },
  "language_info": {
   "codemirror_mode": {
    "name": "ipython",
    "version": 3
   },
   "file_extension": ".py",
   "mimetype": "text/x-python",
   "name": "python",
   "nbconvert_exporter": "python",
   "pygments_lexer": "ipython3",
   "version": "3.5.2"
  }
 },
 "nbformat": 4,
 "nbformat_minor": 2
}
