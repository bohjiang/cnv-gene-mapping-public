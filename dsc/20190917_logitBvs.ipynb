{
 "cells": [
  {
   "cell_type": "code",
   "execution_count": 1,
   "metadata": {},
   "outputs": [],
   "source": [
    "library(pogit)\n",
    "# PIP, , what exactly do these 2 weights mean\n",
    "# how to deal with the intercept: did not make difference if centering"
   ]
  },
  {
   "cell_type": "code",
   "execution_count": 2,
   "metadata": {},
   "outputs": [],
   "source": [
    "# block = c(79,137)\n",
    "# block_simu = c(1215, 1273)\n",
    "block = c(23, 36)\n",
    "block_simu = c(164, 177)"
   ]
  },
  {
   "cell_type": "code",
   "execution_count": 3,
   "metadata": {},
   "outputs": [],
   "source": [
    "X_ori <- as.matrix(data.table::fread(paste(\"/data/GIT/cnv-gene-mapping/data/deletion_simu/block_\", block[1], \"_\" , block[2], \n",
    "                                           \"/deletion.genes.block30.for_simu.sample.genes.block_\", block[1], \"_\" , block[2], \".gz\", sep = \"\"), header = F))"
   ]
  },
  {
   "cell_type": "code",
   "execution_count": 4,
   "metadata": {},
   "outputs": [],
   "source": [
    "X_center <- scale(X_ori, scale = FALSE)"
   ]
  },
  {
   "cell_type": "code",
   "execution_count": 5,
   "metadata": {},
   "outputs": [
    {
     "data": {
      "text/html": [
       "<table>\n",
       "<thead><tr><th scope=col>V1</th><th scope=col>V2</th><th scope=col>V3</th><th scope=col>V4</th><th scope=col>V5</th><th scope=col>V6</th><th scope=col>V7</th><th scope=col>V8</th><th scope=col>V9</th><th scope=col>V10</th><th scope=col>V11</th><th scope=col>V12</th><th scope=col>V13</th><th scope=col>V14</th></tr></thead>\n",
       "<tbody>\n",
       "\t<tr><td>-0.0439159   </td><td>-0.0506263   </td><td>-0.0506263   </td><td>-0.0506263   </td><td>-0.0506263   </td><td>-0.0506263   </td><td>-0.02050403  </td><td>-0.0140173   </td><td>-0.001714882 </td><td>-0.001714882 </td><td>-0.001714882 </td><td>-0.0009692812</td><td>-0.0009692812</td><td>-0.0009692812</td></tr>\n",
       "\t<tr><td>-0.0439159   </td><td>-0.0506263   </td><td>-0.0506263   </td><td>-0.0506263   </td><td>-0.0506263   </td><td>-0.0506263   </td><td>-0.02050403  </td><td>-0.0140173   </td><td>-0.001714882 </td><td>-0.001714882 </td><td>-0.001714882 </td><td>-0.0009692812</td><td>-0.0009692812</td><td>-0.0009692812</td></tr>\n",
       "\t<tr><td>-0.0439159   </td><td>-0.0506263   </td><td>-0.0506263   </td><td>-0.0506263   </td><td>-0.0506263   </td><td>-0.0506263   </td><td>-0.02050403  </td><td>-0.0140173   </td><td>-0.001714882 </td><td>-0.001714882 </td><td>-0.001714882 </td><td>-0.0009692812</td><td>-0.0009692812</td><td>-0.0009692812</td></tr>\n",
       "\t<tr><td>-0.0439159   </td><td>-0.0506263   </td><td>-0.0506263   </td><td>-0.0506263   </td><td>-0.0506263   </td><td>-0.0506263   </td><td>-0.02050403  </td><td>-0.0140173   </td><td>-0.001714882 </td><td>-0.001714882 </td><td>-0.001714882 </td><td>-0.0009692812</td><td>-0.0009692812</td><td>-0.0009692812</td></tr>\n",
       "\t<tr><td>-0.0439159   </td><td>-0.0506263   </td><td>-0.0506263   </td><td>-0.0506263   </td><td>-0.0506263   </td><td>-0.0506263   </td><td>-0.02050403  </td><td>-0.0140173   </td><td>-0.001714882 </td><td>-0.001714882 </td><td>-0.001714882 </td><td>-0.0009692812</td><td>-0.0009692812</td><td>-0.0009692812</td></tr>\n",
       "\t<tr><td>-0.0439159   </td><td>-0.0506263   </td><td>-0.0506263   </td><td>-0.0506263   </td><td>-0.0506263   </td><td>-0.0506263   </td><td>-0.02050403  </td><td>-0.0140173   </td><td>-0.001714882 </td><td>-0.001714882 </td><td>-0.001714882 </td><td>-0.0009692812</td><td>-0.0009692812</td><td>-0.0009692812</td></tr>\n",
       "</tbody>\n",
       "</table>\n"
      ],
      "text/latex": [
       "\\begin{tabular}{llllllllllllll}\n",
       " V1 & V2 & V3 & V4 & V5 & V6 & V7 & V8 & V9 & V10 & V11 & V12 & V13 & V14\\\\\n",
       "\\hline\n",
       "\t -0.0439159    & -0.0506263    & -0.0506263    & -0.0506263    & -0.0506263    & -0.0506263    & -0.02050403   & -0.0140173    & -0.001714882  & -0.001714882  & -0.001714882  & -0.0009692812 & -0.0009692812 & -0.0009692812\\\\\n",
       "\t -0.0439159    & -0.0506263    & -0.0506263    & -0.0506263    & -0.0506263    & -0.0506263    & -0.02050403   & -0.0140173    & -0.001714882  & -0.001714882  & -0.001714882  & -0.0009692812 & -0.0009692812 & -0.0009692812\\\\\n",
       "\t -0.0439159    & -0.0506263    & -0.0506263    & -0.0506263    & -0.0506263    & -0.0506263    & -0.02050403   & -0.0140173    & -0.001714882  & -0.001714882  & -0.001714882  & -0.0009692812 & -0.0009692812 & -0.0009692812\\\\\n",
       "\t -0.0439159    & -0.0506263    & -0.0506263    & -0.0506263    & -0.0506263    & -0.0506263    & -0.02050403   & -0.0140173    & -0.001714882  & -0.001714882  & -0.001714882  & -0.0009692812 & -0.0009692812 & -0.0009692812\\\\\n",
       "\t -0.0439159    & -0.0506263    & -0.0506263    & -0.0506263    & -0.0506263    & -0.0506263    & -0.02050403   & -0.0140173    & -0.001714882  & -0.001714882  & -0.001714882  & -0.0009692812 & -0.0009692812 & -0.0009692812\\\\\n",
       "\t -0.0439159    & -0.0506263    & -0.0506263    & -0.0506263    & -0.0506263    & -0.0506263    & -0.02050403   & -0.0140173    & -0.001714882  & -0.001714882  & -0.001714882  & -0.0009692812 & -0.0009692812 & -0.0009692812\\\\\n",
       "\\end{tabular}\n"
      ],
      "text/markdown": [
       "\n",
       "| V1 | V2 | V3 | V4 | V5 | V6 | V7 | V8 | V9 | V10 | V11 | V12 | V13 | V14 |\n",
       "|---|---|---|---|---|---|---|---|---|---|---|---|---|---|\n",
       "| -0.0439159    | -0.0506263    | -0.0506263    | -0.0506263    | -0.0506263    | -0.0506263    | -0.02050403   | -0.0140173    | -0.001714882  | -0.001714882  | -0.001714882  | -0.0009692812 | -0.0009692812 | -0.0009692812 |\n",
       "| -0.0439159    | -0.0506263    | -0.0506263    | -0.0506263    | -0.0506263    | -0.0506263    | -0.02050403   | -0.0140173    | -0.001714882  | -0.001714882  | -0.001714882  | -0.0009692812 | -0.0009692812 | -0.0009692812 |\n",
       "| -0.0439159    | -0.0506263    | -0.0506263    | -0.0506263    | -0.0506263    | -0.0506263    | -0.02050403   | -0.0140173    | -0.001714882  | -0.001714882  | -0.001714882  | -0.0009692812 | -0.0009692812 | -0.0009692812 |\n",
       "| -0.0439159    | -0.0506263    | -0.0506263    | -0.0506263    | -0.0506263    | -0.0506263    | -0.02050403   | -0.0140173    | -0.001714882  | -0.001714882  | -0.001714882  | -0.0009692812 | -0.0009692812 | -0.0009692812 |\n",
       "| -0.0439159    | -0.0506263    | -0.0506263    | -0.0506263    | -0.0506263    | -0.0506263    | -0.02050403   | -0.0140173    | -0.001714882  | -0.001714882  | -0.001714882  | -0.0009692812 | -0.0009692812 | -0.0009692812 |\n",
       "| -0.0439159    | -0.0506263    | -0.0506263    | -0.0506263    | -0.0506263    | -0.0506263    | -0.02050403   | -0.0140173    | -0.001714882  | -0.001714882  | -0.001714882  | -0.0009692812 | -0.0009692812 | -0.0009692812 |\n",
       "\n"
      ],
      "text/plain": [
       "     V1         V2         V3         V4         V5         V6        \n",
       "[1,] -0.0439159 -0.0506263 -0.0506263 -0.0506263 -0.0506263 -0.0506263\n",
       "[2,] -0.0439159 -0.0506263 -0.0506263 -0.0506263 -0.0506263 -0.0506263\n",
       "[3,] -0.0439159 -0.0506263 -0.0506263 -0.0506263 -0.0506263 -0.0506263\n",
       "[4,] -0.0439159 -0.0506263 -0.0506263 -0.0506263 -0.0506263 -0.0506263\n",
       "[5,] -0.0439159 -0.0506263 -0.0506263 -0.0506263 -0.0506263 -0.0506263\n",
       "[6,] -0.0439159 -0.0506263 -0.0506263 -0.0506263 -0.0506263 -0.0506263\n",
       "     V7          V8         V9           V10          V11         \n",
       "[1,] -0.02050403 -0.0140173 -0.001714882 -0.001714882 -0.001714882\n",
       "[2,] -0.02050403 -0.0140173 -0.001714882 -0.001714882 -0.001714882\n",
       "[3,] -0.02050403 -0.0140173 -0.001714882 -0.001714882 -0.001714882\n",
       "[4,] -0.02050403 -0.0140173 -0.001714882 -0.001714882 -0.001714882\n",
       "[5,] -0.02050403 -0.0140173 -0.001714882 -0.001714882 -0.001714882\n",
       "[6,] -0.02050403 -0.0140173 -0.001714882 -0.001714882 -0.001714882\n",
       "     V12           V13           V14          \n",
       "[1,] -0.0009692812 -0.0009692812 -0.0009692812\n",
       "[2,] -0.0009692812 -0.0009692812 -0.0009692812\n",
       "[3,] -0.0009692812 -0.0009692812 -0.0009692812\n",
       "[4,] -0.0009692812 -0.0009692812 -0.0009692812\n",
       "[5,] -0.0009692812 -0.0009692812 -0.0009692812\n",
       "[6,] -0.0009692812 -0.0009692812 -0.0009692812"
      ]
     },
     "metadata": {},
     "output_type": "display_data"
    }
   ],
   "source": [
    "head(X_center)"
   ]
  },
  {
   "cell_type": "code",
   "execution_count": 6,
   "metadata": {},
   "outputs": [
    {
     "data": {
      "text/html": [
       "<ol class=list-inline>\n",
       "\t<li>13412</li>\n",
       "\t<li>14</li>\n",
       "</ol>\n"
      ],
      "text/latex": [
       "\\begin{enumerate*}\n",
       "\\item 13412\n",
       "\\item 14\n",
       "\\end{enumerate*}\n"
      ],
      "text/markdown": [
       "1. 13412\n",
       "2. 14\n",
       "\n",
       "\n"
      ],
      "text/plain": [
       "[1] 13412    14"
      ]
     },
     "metadata": {},
     "output_type": "display_data"
    }
   ],
   "source": [
    "dim(X_ori)"
   ]
  },
  {
   "cell_type": "code",
   "execution_count": 92,
   "metadata": {},
   "outputs": [],
   "source": [
    "y <- as.matrix(data.table::fread(\"/data/GIT/cnv-gene-mapping/data/deletion_simu/deletion.genes.block30.for_simu.sample.y\"))"
   ]
  },
  {
   "cell_type": "code",
   "execution_count": 93,
   "metadata": {},
   "outputs": [
    {
     "data": {
      "text/html": [
       "13412"
      ],
      "text/latex": [
       "13412"
      ],
      "text/markdown": [
       "13412"
      ],
      "text/plain": [
       "[1] 13412"
      ]
     },
     "metadata": {},
     "output_type": "display_data"
    }
   ],
   "source": [
    "length(y)"
   ]
  },
  {
   "cell_type": "code",
   "execution_count": 9,
   "metadata": {},
   "outputs": [],
   "source": [
    "# beta <- as.matrix(data.table::fread(\"/data/GIT/cnv-gene-mapping/data/deletion_simu/deletion.genes.block30.for_simu.sample.beta\"))"
   ]
  },
  {
   "cell_type": "code",
   "execution_count": 10,
   "metadata": {},
   "outputs": [],
   "source": [
    "# mean(beta); sd(beta); sum(beta == 0); sum(beta == 0)/length(beta)"
   ]
  },
  {
   "cell_type": "code",
   "execution_count": 11,
   "metadata": {},
   "outputs": [],
   "source": [
    "X_intercept <- cbind(rep(1, nrow(X_ori)), X_ori)"
   ]
  },
  {
   "cell_type": "code",
   "execution_count": 94,
   "metadata": {},
   "outputs": [],
   "source": [
    "y <- as.numeric(y[,1])"
   ]
  },
  {
   "cell_type": "code",
   "execution_count": 95,
   "metadata": {},
   "outputs": [],
   "source": [
    "N <- rep(1, length(y))"
   ]
  },
  {
   "cell_type": "code",
   "execution_count": 14,
   "metadata": {},
   "outputs": [],
   "source": [
    "prior <- readRDS(\"/home/min/GIT/cnv-gene-mapping/data/deletion_simu/deletion.genes.block30.binomial.whole.genome.prior.varbvs.nologodds.updateb0.rds\")"
   ]
  },
  {
   "cell_type": "code",
   "execution_count": 15,
   "metadata": {},
   "outputs": [],
   "source": [
    "mu0 = sum(prior$b0 * prior$w)"
   ]
  },
  {
   "cell_type": "code",
   "execution_count": 16,
   "metadata": {},
   "outputs": [
    {
     "data": {
      "text/html": [
       "0.777072111580423"
      ],
      "text/latex": [
       "0.777072111580423"
      ],
      "text/markdown": [
       "0.777072111580423"
      ],
      "text/plain": [
       "[1] 0.7770721"
      ]
     },
     "metadata": {},
     "output_type": "display_data"
    }
   ],
   "source": [
    "mu0"
   ]
  },
  {
   "cell_type": "code",
   "execution_count": 17,
   "metadata": {},
   "outputs": [],
   "source": [
    "var = sum(prior$sa * prior$w)"
   ]
  },
  {
   "cell_type": "code",
   "execution_count": 18,
   "metadata": {},
   "outputs": [
    {
     "data": {
      "text/html": [
       "0.711745609189383"
      ],
      "text/latex": [
       "0.711745609189383"
      ],
      "text/markdown": [
       "0.711745609189383"
      ],
      "text/plain": [
       "[1] 0.7117456"
      ]
     },
     "metadata": {},
     "output_type": "display_data"
    }
   ],
   "source": [
    "var"
   ]
  },
  {
   "cell_type": "code",
   "execution_count": 19,
   "metadata": {},
   "outputs": [],
   "source": [
    "pi0 = sum((10^(prior$logodds) / (1 + 10^(prior$logodds))) * prior$w)"
   ]
  },
  {
   "cell_type": "code",
   "execution_count": 20,
   "metadata": {},
   "outputs": [
    {
     "data": {
      "text/html": [
       "0.0437754961218526"
      ],
      "text/latex": [
       "0.0437754961218526"
      ],
      "text/markdown": [
       "0.0437754961218526"
      ],
      "text/plain": [
       "[1] 0.0437755"
      ]
     },
     "metadata": {},
     "output_type": "display_data"
    }
   ],
   "source": [
    "pi0"
   ]
  },
  {
   "cell_type": "code",
   "execution_count": 21,
   "metadata": {},
   "outputs": [],
   "source": [
    "# b = prior$beta[which(prior$beta != 0)]\n",
    "# mean(b); var(b); sum(prior$beta == 0); sum(prior$beta == 0)/length(prior$beta)"
   ]
  },
  {
   "cell_type": "code",
   "execution_count": 90,
   "metadata": {},
   "outputs": [],
   "source": [
    "X <- X_center"
   ]
  },
  {
   "cell_type": "code",
   "execution_count": 110,
   "metadata": {},
   "outputs": [
    {
     "name": "stderr",
     "output_type": "stream",
     "text": [
      "Warning message:\n",
      "“BVS is not performed if prior information on the regression parameters\n",
      " is available: 'BVS' was set to FALSE”"
     ]
    },
    {
     "name": "stdout",
     "output_type": "stream",
     "text": [
      "\n",
      "MCMC for the binomial logit model:\n",
      "\n",
      "it = 1 /--- duration of MCMC so far: 27.91 sec.,  expected time to end: Inf  min. \n",
      "it = 2 /--- duration of MCMC so far: 27.97 sec.,  expected time to end: 2.33  min. \n",
      "it = 3 /--- duration of MCMC so far: 28.02 sec.,  expected time to end: 0.93  min. \n",
      "it = 4 /--- duration of MCMC so far: 28.09 sec.,  expected time to end: 0.47  min. \n",
      "it = 5 /--- duration of MCMC so far: 28.14 sec.,  expected time to end: 0.23  min. \n",
      "it = 6 /--- duration of MCMC (total): 28.19 sec. \n",
      " \n"
     ]
    }
   ],
   "source": [
    "# res <- logitBvs(y, N, X, prior = list(slab = \"Normal\", aj0 = rep(mu0, ncol(X_ori)), V = var, w = c(wa0 = 1, wb0 = 1), pi = c(pa0 = 1.412, pb0 = 10)), \n",
    "#                 mcmc = list(M = 10000, burnin = 2000, msave = TRUE), BVS = FALSE)\n",
    "res1 <- logitBvs(y, N, X, prior = list(slab = \"Normal\", aj0 = rep(mu0, ncol(X_ori)), V = var, w = c(wa0 = 1.412, wb0 = 10), pi = c(pa0 = 1, pb0 = 1)), \n",
    "                 mcmc = list(M = 5, burnin = 1, msave = TRUE))"
   ]
  },
  {
   "cell_type": "code",
   "execution_count": 111,
   "metadata": {},
   "outputs": [
    {
     "data": {
      "text/plain": [
       "MCMC for the logit model:\n",
       "\n",
       "Call:\n",
       "logitBvs(y = y, N = N, X = X, prior = list(slab = \"Normal\", aj0 = rep(mu0, \n",
       "    ncol(X_ori)), V = var, w = c(wa0 = 1.412, wb0 = 10), pi = c(pa0 = 1, \n",
       "    pb0 = 1)), mcmc = list(M = 5, burnin = 1, msave = TRUE))\n",
       "\n",
       "\n",
       "MCMC:\n",
       "M = 5 draws after a burn-in of 1\n",
       "Thinning parameter: 1\n",
       "\n",
       "Prior: Normal prior [V=0.711745609189383]\n",
       "\n",
       " a0[0]  a0[1]  a0[2]  a0[3]  a0[4]  a0[5]  a0[6]  a0[7]  a0[8]  a0[9] a0[10] \n",
       " 0.000  0.777  0.777  0.777  0.777  0.777  0.777  0.777  0.777  0.777  0.777 \n",
       "a0[11] a0[12] a0[13] a0[14] \n",
       " 0.777  0.777  0.777  0.777 \n",
       "\n",
       "\n",
       "Posterior means and 95%-HPD intervals:\n",
       "\n",
       "            Estimate 95%-HPD[l] 95%-HPD[u]\n",
       "(Intercept)    0.013     -0.028      0.049\n",
       "alpha.1        0.292      0.015      0.595\n",
       "alpha.2        0.300     -0.349      1.559\n",
       "alpha.3        0.578     -0.253      1.283\n",
       "alpha.4        0.671      0.003      1.687\n",
       "alpha.5        0.369     -0.912      1.379\n",
       "alpha.6        0.064     -0.380      0.689\n",
       "alpha.7       -0.516     -0.662     -0.277\n",
       "alpha.8        0.214      0.006      0.359\n",
       "alpha.9       -0.038     -0.800      0.790\n",
       "alpha.10      -0.430     -1.340      0.452\n",
       "alpha.11      -0.027     -1.029      0.628\n",
       "alpha.12       0.730     -0.078      1.582\n",
       "alpha.13       0.598     -0.256      1.309\n",
       "alpha.14       0.152     -1.075      2.090\n"
      ]
     },
     "metadata": {},
     "output_type": "display_data"
    }
   ],
   "source": [
    "summary(res1)"
   ]
  },
  {
   "cell_type": "code",
   "execution_count": 18,
   "metadata": {},
   "outputs": [],
   "source": [
    "# saveRDS(res, paste(\"/home/min/GIT/cnv-gene-mapping/data/deletion_simu/logitBvs.block_\", block[1], \"_\", block[2],\".var.selection.res.rds\", sep = \"\"))"
   ]
  },
  {
   "cell_type": "code",
   "execution_count": 1,
   "metadata": {},
   "outputs": [],
   "source": [
    "# res <- readRDS(\"/home/min/GIT/cnv-gene-mapping/data/deletion_simu/logitBvs.var.selection.res.rds\")"
   ]
  },
  {
   "cell_type": "code",
   "execution_count": 22,
   "metadata": {},
   "outputs": [
    {
     "data": {
      "text/html": [
       "<ol class=list-inline>\n",
       "\t<li>'samplesL'</li>\n",
       "\t<li>'data'</li>\n",
       "\t<li>'model.logit'</li>\n",
       "\t<li>'mcmc'</li>\n",
       "\t<li>'prior.logit'</li>\n",
       "\t<li>'dur'</li>\n",
       "\t<li>'BVS'</li>\n",
       "\t<li>'start'</li>\n",
       "\t<li>'family'</li>\n",
       "\t<li>'call'</li>\n",
       "</ol>\n"
      ],
      "text/latex": [
       "\\begin{enumerate*}\n",
       "\\item 'samplesL'\n",
       "\\item 'data'\n",
       "\\item 'model.logit'\n",
       "\\item 'mcmc'\n",
       "\\item 'prior.logit'\n",
       "\\item 'dur'\n",
       "\\item 'BVS'\n",
       "\\item 'start'\n",
       "\\item 'family'\n",
       "\\item 'call'\n",
       "\\end{enumerate*}\n"
      ],
      "text/markdown": [
       "1. 'samplesL'\n",
       "2. 'data'\n",
       "3. 'model.logit'\n",
       "4. 'mcmc'\n",
       "5. 'prior.logit'\n",
       "6. 'dur'\n",
       "7. 'BVS'\n",
       "8. 'start'\n",
       "9. 'family'\n",
       "10. 'call'\n",
       "\n",
       "\n"
      ],
      "text/plain": [
       " [1] \"samplesL\"    \"data\"        \"model.logit\" \"mcmc\"        \"prior.logit\"\n",
       " [6] \"dur\"         \"BVS\"         \"start\"       \"family\"      \"call\"       "
      ]
     },
     "metadata": {},
     "output_type": "display_data"
    }
   ],
   "source": [
    "names(res)"
   ]
  },
  {
   "cell_type": "code",
   "execution_count": 23,
   "metadata": {},
   "outputs": [
    {
     "data": {
      "text/html": [
       "<ol class=list-inline>\n",
       "\t<li>'alpha'</li>\n",
       "\t<li>'pdeltaAlpha'</li>\n",
       "\t<li>'psiAlpha'</li>\n",
       "\t<li>'thetaAlpha'</li>\n",
       "\t<li>'pgammaAlpha'</li>\n",
       "\t<li>'ai'</li>\n",
       "</ol>\n"
      ],
      "text/latex": [
       "\\begin{enumerate*}\n",
       "\\item 'alpha'\n",
       "\\item 'pdeltaAlpha'\n",
       "\\item 'psiAlpha'\n",
       "\\item 'thetaAlpha'\n",
       "\\item 'pgammaAlpha'\n",
       "\\item 'ai'\n",
       "\\end{enumerate*}\n"
      ],
      "text/markdown": [
       "1. 'alpha'\n",
       "2. 'pdeltaAlpha'\n",
       "3. 'psiAlpha'\n",
       "4. 'thetaAlpha'\n",
       "5. 'pgammaAlpha'\n",
       "6. 'ai'\n",
       "\n",
       "\n"
      ],
      "text/plain": [
       "[1] \"alpha\"       \"pdeltaAlpha\" \"psiAlpha\"    \"thetaAlpha\"  \"pgammaAlpha\"\n",
       "[6] \"ai\"         "
      ]
     },
     "metadata": {},
     "output_type": "display_data"
    }
   ],
   "source": [
    "names(res$samplesL)"
   ]
  },
  {
   "cell_type": "code",
   "execution_count": 27,
   "metadata": {},
   "outputs": [
    {
     "data": {
      "text/html": [
       "<table>\n",
       "<thead><tr><th scope=col>alpha.0</th><th scope=col>alpha.1</th><th scope=col>alpha.2</th><th scope=col>alpha.3</th><th scope=col>alpha.4</th><th scope=col>alpha.5</th><th scope=col>alpha.6</th><th scope=col>alpha.7</th><th scope=col>alpha.8</th><th scope=col>alpha.9</th><th scope=col>alpha.10</th><th scope=col>alpha.11</th><th scope=col>alpha.12</th><th scope=col>alpha.13</th><th scope=col>alpha.14</th></tr></thead>\n",
       "<tbody>\n",
       "\t<tr><td> 0.02588799</td><td>-0.08031210</td><td>-3.8108579 </td><td>-0.09847573</td><td> 2.5284632 </td><td> 2.7676266 </td><td> 0.2328063 </td><td>-0.2479022 </td><td>-0.43668230</td><td>-0.8170005 </td><td> 1.7852814 </td><td>-1.640551  </td><td>-0.57939687</td><td> 0.2502257 </td><td> 1.6132132 </td></tr>\n",
       "\t<tr><td> 0.02776211</td><td> 0.25931701</td><td> 1.5580872 </td><td> 1.67526108</td><td>-0.7651095 </td><td> 0.9760082 </td><td>-1.8054832 </td><td>-0.6622759 </td><td> 0.59409346</td><td> 1.6263201 </td><td>-0.1638737 </td><td>-1.371194  </td><td> 1.10402559</td><td>-1.0650517 </td><td> 0.6530346 </td></tr>\n",
       "\t<tr><td> 0.02134579</td><td>-0.22414125</td><td>-0.5806039 </td><td> 2.41131444</td><td> 3.0438672 </td><td> 1.2936762 </td><td>-3.8210450 </td><td>-0.6662171 </td><td> 0.69720757</td><td> 0.8270126 </td><td>-1.7907756 </td><td>-1.309185  </td><td> 0.01275341</td><td> 1.1357786 </td><td> 1.8400763 </td></tr>\n",
       "\t<tr><td>-0.01757827</td><td>-0.41759525</td><td>-1.4833220 </td><td> 2.81883805</td><td> 0.9241440 </td><td>-1.0427321 </td><td> 1.5718639 </td><td>-0.9505111 </td><td> 0.41749959</td><td>-1.7165860 </td><td>-2.9979802 </td><td> 2.628901  </td><td> 0.49467601</td><td> 2.0021976 </td><td>-0.3915729 </td></tr>\n",
       "\t<tr><td> 0.04330657</td><td>-0.19419596</td><td> 1.4752619 </td><td> 0.62902329</td><td> 1.0554862 </td><td> 2.4702260 </td><td>-2.9173043 </td><td>-1.0724747 </td><td> 0.40705811</td><td>-2.8721099 </td><td> 0.7683869 </td><td> 1.480944  </td><td> 0.87816965</td><td>-0.5366791 </td><td> 0.4387426 </td></tr>\n",
       "\t<tr><td> 0.05824466</td><td> 0.05285497</td><td>-2.1558232 </td><td>-0.45282329</td><td> 2.1595056 </td><td> 1.5152219 </td><td> 1.4442232 </td><td>-0.9233384 </td><td> 0.05519366</td><td> 0.4864597 </td><td> 3.1844824 </td><td>-3.936472  </td><td> 2.32489090</td><td>-0.5358907 </td><td>-1.0906857 </td></tr>\n",
       "</tbody>\n",
       "</table>\n"
      ],
      "text/latex": [
       "\\begin{tabular}{lllllllllllllll}\n",
       " alpha.0 & alpha.1 & alpha.2 & alpha.3 & alpha.4 & alpha.5 & alpha.6 & alpha.7 & alpha.8 & alpha.9 & alpha.10 & alpha.11 & alpha.12 & alpha.13 & alpha.14\\\\\n",
       "\\hline\n",
       "\t  0.02588799 & -0.08031210 & -3.8108579  & -0.09847573 &  2.5284632  &  2.7676266  &  0.2328063  & -0.2479022  & -0.43668230 & -0.8170005  &  1.7852814  & -1.640551   & -0.57939687 &  0.2502257  &  1.6132132 \\\\\n",
       "\t  0.02776211 &  0.25931701 &  1.5580872  &  1.67526108 & -0.7651095  &  0.9760082  & -1.8054832  & -0.6622759  &  0.59409346 &  1.6263201  & -0.1638737  & -1.371194   &  1.10402559 & -1.0650517  &  0.6530346 \\\\\n",
       "\t  0.02134579 & -0.22414125 & -0.5806039  &  2.41131444 &  3.0438672  &  1.2936762  & -3.8210450  & -0.6662171  &  0.69720757 &  0.8270126  & -1.7907756  & -1.309185   &  0.01275341 &  1.1357786  &  1.8400763 \\\\\n",
       "\t -0.01757827 & -0.41759525 & -1.4833220  &  2.81883805 &  0.9241440  & -1.0427321  &  1.5718639  & -0.9505111  &  0.41749959 & -1.7165860  & -2.9979802  &  2.628901   &  0.49467601 &  2.0021976  & -0.3915729 \\\\\n",
       "\t  0.04330657 & -0.19419596 &  1.4752619  &  0.62902329 &  1.0554862  &  2.4702260  & -2.9173043  & -1.0724747  &  0.40705811 & -2.8721099  &  0.7683869  &  1.480944   &  0.87816965 & -0.5366791  &  0.4387426 \\\\\n",
       "\t  0.05824466 &  0.05285497 & -2.1558232  & -0.45282329 &  2.1595056  &  1.5152219  &  1.4442232  & -0.9233384  &  0.05519366 &  0.4864597  &  3.1844824  & -3.936472   &  2.32489090 & -0.5358907  & -1.0906857 \\\\\n",
       "\\end{tabular}\n"
      ],
      "text/markdown": [
       "\n",
       "| alpha.0 | alpha.1 | alpha.2 | alpha.3 | alpha.4 | alpha.5 | alpha.6 | alpha.7 | alpha.8 | alpha.9 | alpha.10 | alpha.11 | alpha.12 | alpha.13 | alpha.14 |\n",
       "|---|---|---|---|---|---|---|---|---|---|---|---|---|---|---|\n",
       "|  0.02588799 | -0.08031210 | -3.8108579  | -0.09847573 |  2.5284632  |  2.7676266  |  0.2328063  | -0.2479022  | -0.43668230 | -0.8170005  |  1.7852814  | -1.640551   | -0.57939687 |  0.2502257  |  1.6132132  |\n",
       "|  0.02776211 |  0.25931701 |  1.5580872  |  1.67526108 | -0.7651095  |  0.9760082  | -1.8054832  | -0.6622759  |  0.59409346 |  1.6263201  | -0.1638737  | -1.371194   |  1.10402559 | -1.0650517  |  0.6530346  |\n",
       "|  0.02134579 | -0.22414125 | -0.5806039  |  2.41131444 |  3.0438672  |  1.2936762  | -3.8210450  | -0.6662171  |  0.69720757 |  0.8270126  | -1.7907756  | -1.309185   |  0.01275341 |  1.1357786  |  1.8400763  |\n",
       "| -0.01757827 | -0.41759525 | -1.4833220  |  2.81883805 |  0.9241440  | -1.0427321  |  1.5718639  | -0.9505111  |  0.41749959 | -1.7165860  | -2.9979802  |  2.628901   |  0.49467601 |  2.0021976  | -0.3915729  |\n",
       "|  0.04330657 | -0.19419596 |  1.4752619  |  0.62902329 |  1.0554862  |  2.4702260  | -2.9173043  | -1.0724747  |  0.40705811 | -2.8721099  |  0.7683869  |  1.480944   |  0.87816965 | -0.5366791  |  0.4387426  |\n",
       "|  0.05824466 |  0.05285497 | -2.1558232  | -0.45282329 |  2.1595056  |  1.5152219  |  1.4442232  | -0.9233384  |  0.05519366 |  0.4864597  |  3.1844824  | -3.936472   |  2.32489090 | -0.5358907  | -1.0906857  |\n",
       "\n"
      ],
      "text/plain": [
       "     alpha.0     alpha.1     alpha.2    alpha.3     alpha.4    alpha.5   \n",
       "[1,]  0.02588799 -0.08031210 -3.8108579 -0.09847573  2.5284632  2.7676266\n",
       "[2,]  0.02776211  0.25931701  1.5580872  1.67526108 -0.7651095  0.9760082\n",
       "[3,]  0.02134579 -0.22414125 -0.5806039  2.41131444  3.0438672  1.2936762\n",
       "[4,] -0.01757827 -0.41759525 -1.4833220  2.81883805  0.9241440 -1.0427321\n",
       "[5,]  0.04330657 -0.19419596  1.4752619  0.62902329  1.0554862  2.4702260\n",
       "[6,]  0.05824466  0.05285497 -2.1558232 -0.45282329  2.1595056  1.5152219\n",
       "     alpha.6    alpha.7    alpha.8     alpha.9    alpha.10   alpha.11 \n",
       "[1,]  0.2328063 -0.2479022 -0.43668230 -0.8170005  1.7852814 -1.640551\n",
       "[2,] -1.8054832 -0.6622759  0.59409346  1.6263201 -0.1638737 -1.371194\n",
       "[3,] -3.8210450 -0.6662171  0.69720757  0.8270126 -1.7907756 -1.309185\n",
       "[4,]  1.5718639 -0.9505111  0.41749959 -1.7165860 -2.9979802  2.628901\n",
       "[5,] -2.9173043 -1.0724747  0.40705811 -2.8721099  0.7683869  1.480944\n",
       "[6,]  1.4442232 -0.9233384  0.05519366  0.4864597  3.1844824 -3.936472\n",
       "     alpha.12    alpha.13   alpha.14  \n",
       "[1,] -0.57939687  0.2502257  1.6132132\n",
       "[2,]  1.10402559 -1.0650517  0.6530346\n",
       "[3,]  0.01275341  1.1357786  1.8400763\n",
       "[4,]  0.49467601  2.0021976 -0.3915729\n",
       "[5,]  0.87816965 -0.5366791  0.4387426\n",
       "[6,]  2.32489090 -0.5358907 -1.0906857"
      ]
     },
     "metadata": {},
     "output_type": "display_data"
    }
   ],
   "source": [
    "head(res$samplesL$alpha)"
   ]
  },
  {
   "cell_type": "code",
   "execution_count": 29,
   "metadata": {},
   "outputs": [],
   "source": [
    "bhat <- colMeans(res$samplesL$alpha[,-1])\n",
    "bhat1 <- colMeans(res$samplesL$alpha)"
   ]
  },
  {
   "cell_type": "code",
   "execution_count": 30,
   "metadata": {},
   "outputs": [],
   "source": [
    "# yhat <- exp(X %*% bhat)/(1+exp(X %*% bhat))\n",
    "yhat <- X_ori %*% bhat\n",
    "yhat1 <- X_center %*% bhat\n",
    "yhat2 <- X_intercept %*% bhat1"
   ]
  },
  {
   "cell_type": "code",
   "execution_count": 31,
   "metadata": {},
   "outputs": [
    {
     "data": {
      "text/html": [
       "0"
      ],
      "text/latex": [
       "0"
      ],
      "text/markdown": [
       "0"
      ],
      "text/plain": [
       "[1] 0"
      ]
     },
     "metadata": {},
     "output_type": "display_data"
    },
    {
     "data": {
      "text/html": [
       "2.54998766299737"
      ],
      "text/latex": [
       "2.54998766299737"
      ],
      "text/markdown": [
       "2.54998766299737"
      ],
      "text/plain": [
       "[1] 2.549988"
      ]
     },
     "metadata": {},
     "output_type": "display_data"
    },
    {
     "data": {
      "text/html": [
       "0.111293975657849"
      ],
      "text/latex": [
       "0.111293975657849"
      ],
      "text/markdown": [
       "0.111293975657849"
      ],
      "text/plain": [
       "[1] 0.111294"
      ]
     },
     "metadata": {},
     "output_type": "display_data"
    },
    {
     "data": {
      "text/html": [
       "0"
      ],
      "text/latex": [
       "0"
      ],
      "text/markdown": [
       "0"
      ],
      "text/plain": [
       "[1] 0"
      ]
     },
     "metadata": {},
     "output_type": "display_data"
    }
   ],
   "source": [
    "min(yhat); max(yhat); mean(yhat); median(yhat)"
   ]
  },
  {
   "cell_type": "code",
   "execution_count": 32,
   "metadata": {},
   "outputs": [],
   "source": [
    "b_all <- as.matrix(data.table::fread(\"/data/GIT/cnv-gene-mapping/data/deletion_simu/deletion.genes.block30.for_simu.sample.beta\"))\n",
    "b <- b_all[(block_simu[1]+1):(block_simu[2]+1)]"
   ]
  },
  {
   "cell_type": "code",
   "execution_count": 33,
   "metadata": {},
   "outputs": [],
   "source": [
    "# y <- exp(X %*% b)/(1+exp(X %*% b))\n",
    "yb <- X_ori %*% b"
   ]
  },
  {
   "cell_type": "code",
   "execution_count": 34,
   "metadata": {},
   "outputs": [
    {
     "data": {
      "text/html": [
       "0"
      ],
      "text/latex": [
       "0"
      ],
      "text/markdown": [
       "0"
      ],
      "text/plain": [
       "[1] 0"
      ]
     },
     "metadata": {},
     "output_type": "display_data"
    },
    {
     "data": {
      "text/html": [
       "2.92414631248472"
      ],
      "text/latex": [
       "2.92414631248472"
      ],
      "text/markdown": [
       "2.92414631248472"
      ],
      "text/plain": [
       "[1] 2.924146"
      ]
     },
     "metadata": {},
     "output_type": "display_data"
    },
    {
     "data": {
      "text/html": [
       "0.132801744847629"
      ],
      "text/latex": [
       "0.132801744847629"
      ],
      "text/markdown": [
       "0.132801744847629"
      ],
      "text/plain": [
       "[1] 0.1328017"
      ]
     },
     "metadata": {},
     "output_type": "display_data"
    },
    {
     "data": {
      "text/html": [
       "0"
      ],
      "text/latex": [
       "0"
      ],
      "text/markdown": [
       "0"
      ],
      "text/plain": [
       "[1] 0"
      ]
     },
     "metadata": {},
     "output_type": "display_data"
    }
   ],
   "source": [
    "min(yb); max(yb); mean(yb); median(yb)"
   ]
  },
  {
   "cell_type": "code",
   "execution_count": 38,
   "metadata": {},
   "outputs": [
    {
     "data": {
      "text/html": [
       "<table>\n",
       "<tbody>\n",
       "\t<tr><td>0.9913522</td></tr>\n",
       "</tbody>\n",
       "</table>\n"
      ],
      "text/latex": [
       "\\begin{tabular}{l}\n",
       "\t 0.9913522\\\\\n",
       "\\end{tabular}\n"
      ],
      "text/markdown": [
       "\n",
       "| 0.9913522 |\n",
       "\n"
      ],
      "text/plain": [
       "     [,1]     \n",
       "[1,] 0.9913522"
      ]
     },
     "metadata": {},
     "output_type": "display_data"
    }
   ],
   "source": [
    "cor(yb, yhat1, method = \"pearson\")"
   ]
  },
  {
   "cell_type": "code",
   "execution_count": 39,
   "metadata": {},
   "outputs": [
    {
     "data": {
      "text/html": [
       "-0.111293975657849"
      ],
      "text/latex": [
       "-0.111293975657849"
      ],
      "text/markdown": [
       "-0.111293975657849"
      ],
      "text/plain": [
       "[1] -0.111294"
      ]
     },
     "metadata": {},
     "output_type": "display_data"
    }
   ],
   "source": [
    "min(yhat1[yhat1<0])"
   ]
  },
  {
   "cell_type": "code",
   "execution_count": 40,
   "metadata": {},
   "outputs": [
    {
     "data": {
      "text/plain": [
       "\n",
       "\tPearson's product-moment correlation\n",
       "\n",
       "data:  yb and yhat\n",
       "t = 874.81, df = 13410, p-value < 2.2e-16\n",
       "alternative hypothesis: true correlation is not equal to 0\n",
       "95 percent confidence interval:\n",
       " 0.9910558 0.9916388\n",
       "sample estimates:\n",
       "      cor \n",
       "0.9913522 \n"
      ]
     },
     "metadata": {},
     "output_type": "display_data"
    }
   ],
   "source": [
    "cor.test(yb, yhat, method=c(\"pearson\"))"
   ]
  },
  {
   "cell_type": "code",
   "execution_count": 26,
   "metadata": {},
   "outputs": [
    {
     "data": {
      "text/plain": [
       "Bayesian variable selection for the logit model:\n",
       "\n",
       "Call:\n",
       "logitBvs(y = y, N = N, X = X)\n",
       "\n",
       "\n",
       "MCMC:\n",
       "M = 8000 draws after a burn-in of 2000\n",
       "BVS started after 1000 iterations\n",
       "Thinning parameter: 1\n",
       "\n",
       "Prior:  spike-and-slab prior with Student-t slab [V=5]\n",
       "\n",
       " a0[0]  a0[1]  a0[2]  a0[3]  a0[4]  a0[5]  a0[6]  a0[7]  a0[8]  a0[9] a0[10] \n",
       "     0      0      0      0      0      0      0      0      0      0      0 \n",
       "a0[11] a0[12] a0[13] a0[14] \n",
       "     0      0      0      0 \n",
       " w[a]  w[b] pi[a] pi[b] \n",
       "    1     1     1     1 \n",
       "\n",
       "\n",
       "Model averaged posterior means, estimated posterior inclusion\n",
       " probabilities and 95%-HPD intervals:\n",
       "\n",
       "            Estimate P(.=1) 95%-HPD[l] 95%-HPD[u]\n",
       "(Intercept)    0.029     NA     -0.012      0.067\n",
       "alpha.1        0.216  0.512     -0.099      0.916\n",
       "alpha.2        0.426  0.543     -2.258      3.523\n",
       "alpha.3        0.458  0.541     -2.258      3.663\n",
       "alpha.4        0.448  0.541     -2.249      3.660\n",
       "alpha.5        0.446  0.542     -2.097      3.782\n",
       "alpha.6        0.449  0.544     -2.231      3.643\n",
       "alpha.7       -0.642  0.928     -1.187      0.000\n",
       "alpha.8        0.128  0.429     -0.367      0.877\n",
       "alpha.9       -0.062  0.459     -2.505      2.294\n",
       "alpha.10      -0.046  0.453     -2.346      2.549\n",
       "alpha.11      -0.060  0.456     -2.500      2.372\n",
       "alpha.12       0.235  0.505     -2.139      2.999\n",
       "alpha.13       0.269  0.497     -1.979      3.185\n",
       "alpha.14       0.278  0.503     -2.017      3.096\n"
      ]
     },
     "metadata": {},
     "output_type": "display_data"
    }
   ],
   "source": [
    "summary(res)"
   ]
  },
  {
   "cell_type": "code",
   "execution_count": null,
   "metadata": {},
   "outputs": [],
   "source": []
  },
  {
   "cell_type": "code",
   "execution_count": null,
   "metadata": {},
   "outputs": [],
   "source": []
  },
  {
   "cell_type": "code",
   "execution_count": 92,
   "metadata": {},
   "outputs": [
    {
     "data": {
      "text/html": [
       "<strong>png:</strong> 2"
      ],
      "text/latex": [
       "\\textbf{png:} 2"
      ],
      "text/markdown": [
       "**png:** 2"
      ],
      "text/plain": [
       "png \n",
       "  2 "
      ]
     },
     "metadata": {},
     "output_type": "display_data"
    }
   ],
   "source": [
    "pdf(file = paste(\"/home/min/GIT/cnv-gene-mapping/data/deletion_simu/logitBvs.block_\", block[1], \"_\", block[2],\".var.selection.beta.hist.pdf\", sep = \"\"))\n",
    "par(mfrow = c(2,2))\n",
    "for (i in seq(2, (block[2]-block[1]+2))){\n",
    "    hist(res$samplesL$alpha[,i], breaks = 80, main = paste(\"beta\", i-1, \"histogram\"), xlab = paste(\"beta\", i-1))\n",
    "}\n",
    "dev.off()"
   ]
  },
  {
   "cell_type": "code",
   "execution_count": 94,
   "metadata": {},
   "outputs": [
    {
     "data": {
      "text/html": [
       "<ol class=list-inline>\n",
       "\t<li>12000</li>\n",
       "\t<li>15</li>\n",
       "</ol>\n"
      ],
      "text/latex": [
       "\\begin{enumerate*}\n",
       "\\item 12000\n",
       "\\item 15\n",
       "\\end{enumerate*}\n"
      ],
      "text/markdown": [
       "1. 12000\n",
       "2. 15\n",
       "\n",
       "\n"
      ],
      "text/plain": [
       "[1] 12000    15"
      ]
     },
     "metadata": {},
     "output_type": "display_data"
    }
   ],
   "source": [
    "dim(res$samplesL$alpha)"
   ]
  },
  {
   "cell_type": "code",
   "execution_count": 79,
   "metadata": {},
   "outputs": [],
   "source": [
    "# mean(res$samplesL$alpha[,42])"
   ]
  },
  {
   "cell_type": "code",
   "execution_count": 78,
   "metadata": {},
   "outputs": [
    {
     "data": {
      "text/plain": [
       "MCMC for the logit model:\n",
       "\n",
       "Call:\n",
       "logitBvs(y = y, N = N, X = X, prior = list(slab = \"Normal\", aj0 = rep(mu0, \n",
       "    ncol(X) - 1), V = var, w = c(wa0 = 1, wb0 = 1), pi = c(pa0 = 1.412, \n",
       "    pb0 = 10)), mcmc = list(M = 24000, burnin = 6000, msave = TRUE), \n",
       "    BVS = FALSE)\n",
       "\n",
       "\n",
       "MCMC:\n",
       "M = 24000 draws after a burn-in of 6000\n",
       "Thinning parameter: 1\n",
       "\n",
       "Prior: Normal prior [V=0.711745609189383]\n",
       "\n",
       " a0[0]  a0[1]  a0[2]  a0[3]  a0[4]  a0[5]  a0[6]  a0[7]  a0[8]  a0[9] a0[10] \n",
       " 0.000  0.777  0.777  0.777  0.777  0.777  0.777  0.777  0.777  0.777  0.777 \n",
       "a0[11] a0[12] a0[13] a0[14] a0[15] a0[16] a0[17] a0[18] a0[19] a0[20] a0[21] \n",
       " 0.777  0.777  0.777  0.777  0.777  0.777  0.777  0.777  0.777  0.777  0.777 \n",
       "a0[22] a0[23] a0[24] a0[25] a0[26] a0[27] a0[28] a0[29] a0[30] a0[31] a0[32] \n",
       " 0.777  0.777  0.777  0.777  0.777  0.777  0.777  0.777  0.777  0.777  0.777 \n",
       "a0[33] a0[34] a0[35] a0[36] a0[37] a0[38] a0[39] a0[40] a0[41] a0[42] a0[43] \n",
       " 0.777  0.777  0.777  0.777  0.777  0.777  0.777  0.777  0.777  0.777  0.777 \n",
       "a0[44] a0[45] a0[46] a0[47] a0[48] a0[49] a0[50] a0[51] a0[52] a0[53] a0[54] \n",
       " 0.777  0.777  0.777  0.777  0.777  0.777  0.777  0.777  0.777  0.777  0.777 \n",
       "a0[55] a0[56] a0[57] a0[58] a0[59] \n",
       " 0.777  0.777  0.777  0.777  0.777 \n",
       "\n",
       "\n",
       "Posterior means and 95%-HPD intervals:\n",
       "\n",
       "            Estimate 95%-HPD[l] 95%-HPD[u]\n",
       "(Intercept)   -0.001     -0.043      0.039\n",
       "alpha.1       -0.555     -1.844      0.749\n",
       "alpha.2        0.531     -1.221      2.311\n",
       "alpha.3        0.013     -1.501      1.654\n",
       "alpha.4        0.009     -1.582      1.582\n",
       "alpha.5        0.006     -1.539      1.632\n",
       "alpha.6        0.005     -1.637      1.560\n",
       "alpha.7        0.013     -1.602      1.566\n",
       "alpha.8        0.005     -1.600      1.560\n",
       "alpha.9        0.000     -1.564      1.605\n",
       "alpha.10      -0.001     -1.559      1.624\n",
       "alpha.11       0.011     -1.554      1.621\n",
       "alpha.12       0.012     -1.572      1.620\n",
       "alpha.13       0.004     -1.525      1.602\n",
       "alpha.14       0.226     -1.179      1.629\n",
       "alpha.15       0.227     -1.149      1.657\n",
       "alpha.16      -0.710     -2.042      0.598\n",
       "alpha.17       0.645     -0.873      2.239\n",
       "alpha.18       0.644     -0.843      2.261\n",
       "alpha.19      -1.052     -2.643      0.540\n",
       "alpha.20       0.422     -0.681      1.481\n",
       "alpha.21       0.004     -1.494      1.476\n",
       "alpha.22       0.005     -1.466      1.460\n",
       "alpha.23      -1.046     -2.645      0.559\n",
       "alpha.24       0.180     -1.390      1.771\n",
       "alpha.25       0.167     -1.344      1.750\n",
       "alpha.26       0.163     -1.473      1.679\n",
       "alpha.27       0.168     -1.353      1.788\n",
       "alpha.28       0.163     -1.390      1.719\n",
       "alpha.29      -0.291     -1.733      1.078\n",
       "alpha.30       0.166     -1.432      1.733\n",
       "alpha.31       0.172     -1.396      1.744\n",
       "alpha.32       0.163     -1.403      1.740\n",
       "alpha.33       0.167     -1.413      1.745\n",
       "alpha.34      -0.013     -1.625      1.511\n",
       "alpha.35      -0.010     -1.529      1.605\n",
       "alpha.36      -0.019     -1.550      1.550\n",
       "alpha.37      -0.020     -1.579      1.569\n",
       "alpha.38      -0.017     -1.603      1.514\n",
       "alpha.39      -0.010     -1.578      1.574\n",
       "alpha.40       0.698     -0.859      2.267\n",
       "alpha.41      -0.329     -1.747      1.134\n",
       "alpha.42      -0.431     -1.586      0.686\n",
       "alpha.43       0.996     -0.612      2.618\n",
       "alpha.44       0.993     -0.698      2.561\n",
       "alpha.45      -0.250     -1.764      1.241\n",
       "alpha.46      -0.257     -1.746      1.225\n",
       "alpha.47      -0.266     -1.714      1.258\n",
       "alpha.48      -0.265     -1.718      1.285\n",
       "alpha.49       0.312     -1.007      1.638\n",
       "alpha.50       0.322     -1.018      1.631\n",
       "alpha.51      -0.205     -1.546      1.189\n",
       "alpha.52      -0.208     -1.592      1.155\n",
       "alpha.53      -0.245     -1.768      1.259\n",
       "alpha.54      -0.238     -1.719      1.307\n",
       "alpha.55      -0.232     -1.693      1.304\n",
       "alpha.56       0.021     -1.607      1.617\n",
       "alpha.57       0.017     -1.570      1.650\n",
       "alpha.58       0.051     -1.765      1.719\n",
       "alpha.59       0.051     -1.671      1.762\n"
      ]
     },
     "metadata": {},
     "output_type": "display_data"
    }
   ],
   "source": [
    "summary(res)"
   ]
  },
  {
   "cell_type": "code",
   "execution_count": null,
   "metadata": {},
   "outputs": [],
   "source": []
  },
  {
   "cell_type": "code",
   "execution_count": null,
   "metadata": {},
   "outputs": [],
   "source": []
  },
  {
   "cell_type": "code",
   "execution_count": null,
   "metadata": {},
   "outputs": [],
   "source": []
  },
  {
   "cell_type": "code",
   "execution_count": 70,
   "metadata": {},
   "outputs": [],
   "source": [
    "data(simul_binomial)"
   ]
  },
  {
   "cell_type": "code",
   "execution_count": 71,
   "metadata": {},
   "outputs": [],
   "source": [
    "y <- simul_binomial$y\n",
    "N <- simul_binomial$N\n",
    "X <- as.matrix(simul_binomial[, -c(1,2)])"
   ]
  },
  {
   "cell_type": "code",
   "execution_count": 72,
   "metadata": {},
   "outputs": [
    {
     "data": {
      "text/html": [
       "512"
      ],
      "text/latex": [
       "512"
      ],
      "text/markdown": [
       "512"
      ],
      "text/plain": [
       "[1] 512"
      ]
     },
     "metadata": {},
     "output_type": "display_data"
    },
    {
     "data": {
      "text/html": [
       "512"
      ],
      "text/latex": [
       "512"
      ],
      "text/markdown": [
       "512"
      ],
      "text/plain": [
       "[1] 512"
      ]
     },
     "metadata": {},
     "output_type": "display_data"
    },
    {
     "data": {
      "text/html": [
       "<ol class=list-inline>\n",
       "\t<li>512</li>\n",
       "\t<li>10</li>\n",
       "</ol>\n"
      ],
      "text/latex": [
       "\\begin{enumerate*}\n",
       "\\item 512\n",
       "\\item 10\n",
       "\\end{enumerate*}\n"
      ],
      "text/markdown": [
       "1. 512\n",
       "2. 10\n",
       "\n",
       "\n"
      ],
      "text/plain": [
       "[1] 512  10"
      ]
     },
     "metadata": {},
     "output_type": "display_data"
    }
   ],
   "source": [
    "length(y); length(N); dim(X)"
   ]
  },
  {
   "cell_type": "code",
   "execution_count": 73,
   "metadata": {},
   "outputs": [
    {
     "data": {
      "text/html": [
       "<table>\n",
       "<thead><tr><th scope=col>X.0</th><th scope=col>X.1</th><th scope=col>X.2</th><th scope=col>X.3</th><th scope=col>X.4</th><th scope=col>X.5</th><th scope=col>X.6</th><th scope=col>X.7</th><th scope=col>X.8</th><th scope=col>X.9</th></tr></thead>\n",
       "<tbody>\n",
       "\t<tr><td>1</td><td>0</td><td>0</td><td>0</td><td>0</td><td>0</td><td>0</td><td>0</td><td>0</td><td>0</td></tr>\n",
       "\t<tr><td>1</td><td>0</td><td>0</td><td>0</td><td>0</td><td>0</td><td>0</td><td>0</td><td>0</td><td>1</td></tr>\n",
       "\t<tr><td>1</td><td>0</td><td>0</td><td>0</td><td>0</td><td>0</td><td>0</td><td>0</td><td>1</td><td>0</td></tr>\n",
       "\t<tr><td>1</td><td>0</td><td>0</td><td>0</td><td>0</td><td>0</td><td>0</td><td>0</td><td>1</td><td>1</td></tr>\n",
       "\t<tr><td>1</td><td>0</td><td>0</td><td>0</td><td>0</td><td>0</td><td>0</td><td>1</td><td>0</td><td>0</td></tr>\n",
       "\t<tr><td>1</td><td>0</td><td>0</td><td>0</td><td>0</td><td>0</td><td>0</td><td>1</td><td>0</td><td>1</td></tr>\n",
       "</tbody>\n",
       "</table>\n"
      ],
      "text/latex": [
       "\\begin{tabular}{llllllllll}\n",
       " X.0 & X.1 & X.2 & X.3 & X.4 & X.5 & X.6 & X.7 & X.8 & X.9\\\\\n",
       "\\hline\n",
       "\t 1 & 0 & 0 & 0 & 0 & 0 & 0 & 0 & 0 & 0\\\\\n",
       "\t 1 & 0 & 0 & 0 & 0 & 0 & 0 & 0 & 0 & 1\\\\\n",
       "\t 1 & 0 & 0 & 0 & 0 & 0 & 0 & 0 & 1 & 0\\\\\n",
       "\t 1 & 0 & 0 & 0 & 0 & 0 & 0 & 0 & 1 & 1\\\\\n",
       "\t 1 & 0 & 0 & 0 & 0 & 0 & 0 & 1 & 0 & 0\\\\\n",
       "\t 1 & 0 & 0 & 0 & 0 & 0 & 0 & 1 & 0 & 1\\\\\n",
       "\\end{tabular}\n"
      ],
      "text/markdown": [
       "\n",
       "| X.0 | X.1 | X.2 | X.3 | X.4 | X.5 | X.6 | X.7 | X.8 | X.9 |\n",
       "|---|---|---|---|---|---|---|---|---|---|\n",
       "| 1 | 0 | 0 | 0 | 0 | 0 | 0 | 0 | 0 | 0 |\n",
       "| 1 | 0 | 0 | 0 | 0 | 0 | 0 | 0 | 0 | 1 |\n",
       "| 1 | 0 | 0 | 0 | 0 | 0 | 0 | 0 | 1 | 0 |\n",
       "| 1 | 0 | 0 | 0 | 0 | 0 | 0 | 0 | 1 | 1 |\n",
       "| 1 | 0 | 0 | 0 | 0 | 0 | 0 | 1 | 0 | 0 |\n",
       "| 1 | 0 | 0 | 0 | 0 | 0 | 0 | 1 | 0 | 1 |\n",
       "\n"
      ],
      "text/plain": [
       "     X.0 X.1 X.2 X.3 X.4 X.5 X.6 X.7 X.8 X.9\n",
       "[1,] 1   0   0   0   0   0   0   0   0   0  \n",
       "[2,] 1   0   0   0   0   0   0   0   0   1  \n",
       "[3,] 1   0   0   0   0   0   0   0   1   0  \n",
       "[4,] 1   0   0   0   0   0   0   0   1   1  \n",
       "[5,] 1   0   0   0   0   0   0   1   0   0  \n",
       "[6,] 1   0   0   0   0   0   0   1   0   1  "
      ]
     },
     "metadata": {},
     "output_type": "display_data"
    }
   ],
   "source": [
    "head(X)"
   ]
  },
  {
   "cell_type": "code",
   "execution_count": 74,
   "metadata": {},
   "outputs": [
    {
     "data": {
      "text/html": [
       "512"
      ],
      "text/latex": [
       "512"
      ],
      "text/markdown": [
       "512"
      ],
      "text/plain": [
       "[1] 512"
      ]
     },
     "metadata": {},
     "output_type": "display_data"
    }
   ],
   "source": [
    "prior = list(slab = \"Normal\", aj0 = rep(mu0, ncol(X_ori)), V = var, w = c(wa0 = 1, wb0 = 1), pi = c(pa0 = 1.412, pb0 = 10))"
   ]
  },
  {
   "cell_type": "code",
   "execution_count": 87,
   "metadata": {},
   "outputs": [
    {
     "name": "stderr",
     "output_type": "stream",
     "text": [
      "Warning message:\n",
      "“invalid 'BVS' or 'startsel' argument:\n",
      "'startsel' was set to 0.5”"
     ]
    },
    {
     "name": "stdout",
     "output_type": "stream",
     "text": [
      "\n",
      "MCMC for the binomial logit model with variable selection:\n",
      "\n",
      "it = 1 /--- duration of MCMC so far: 1.1 sec.,  expected time to end: Inf  min. \n",
      "it = 2 /--- duration of MCMC so far: 1.11 sec.,  expected time to end: 0.07  min. \n",
      "it = 3 /--- duration of MCMC so far: 1.13 sec.,  expected time to end: 0.03  min. \n",
      "it = 4 /--- duration of MCMC so far: 1.15 sec.,  expected time to end: 0.01  min. \n",
      "it = 5 /--- duration of MCMC so far: 1.17 sec.,  expected time to end: 0  min. \n"
     ]
    }
   ],
   "source": [
    "m3 <- logitBvs(y = y, N = N, X = X, mcmc = list(M = 4, burnin = 1), prior = list(slab = \"Normal\", aj0 = rep(0, ncol(X)-1)), \n",
    "               model = list(deltafix = c(1, 1, 1, 0, 0, 0, 1, 0, 0)))"
   ]
  },
  {
   "cell_type": "code",
   "execution_count": 88,
   "metadata": {},
   "outputs": [
    {
     "data": {
      "text/plain": [
       "Bayesian variable selection for the binomial logit model:\n",
       "\n",
       "Call:\n",
       "logitBvs(y = y, N = N, X = X, model = list(deltafix = c(1, 1, \n",
       "    1, 0, 0, 0, 1, 0, 0)), prior = list(slab = \"Normal\", aj0 = rep(0, \n",
       "    ncol(X) - 1)), mcmc = list(M = 4, burnin = 1))\n",
       "\n",
       "\n",
       "MCMC:\n",
       "M = 4 draws after a burn-in of 1\n",
       "BVS started after 0.5 iterations\n",
       "Thinning parameter: 1\n",
       "\n",
       "Prior:  spike-and-slab prior with Normal slab [V=5]\n",
       "\n",
       "a0[0] a0[1] a0[2] a0[3] a0[4] a0[5] a0[6] a0[7] a0[8] a0[9] \n",
       "    0     0     0     0     0     0     0     0     0     0 \n",
       " w[a]  w[b] pi[a] pi[b] \n",
       "    1     1     1     1 \n",
       "\n",
       "\n",
       "Model averaged posterior means, estimated posterior inclusion\n",
       " probabilities and 95%-HPD intervals:\n",
       "\n",
       "            Estimate P(.=1) 95%-HPD[l] 95%-HPD[u]\n",
       "(Intercept)   -0.419     NA     -0.483     -0.363\n",
       "alpha.1        0.156  1.000      0.130      0.190\n",
       "alpha.2       -0.106  1.000     -0.124     -0.075\n",
       "alpha.3        0.072  1.000      0.019      0.127\n",
       "alpha.4       -0.874  1.000     -0.946     -0.726\n",
       "alpha.5        0.000  0.029      0.000      0.000\n",
       "alpha.6       -0.013  0.025     -0.052      0.000\n",
       "alpha.7        0.989  1.000      0.792      1.128\n",
       "alpha.8       -0.028  0.459     -0.091      0.000\n",
       "alpha.9        0.256  1.000      0.230      0.291\n"
      ]
     },
     "metadata": {},
     "output_type": "display_data"
    }
   ],
   "source": [
    "summary(m3)"
   ]
  },
  {
   "cell_type": "code",
   "execution_count": null,
   "metadata": {},
   "outputs": [],
   "source": []
  }
 ],
 "metadata": {
  "kernelspec": {
   "display_name": "R",
   "language": "R",
   "name": "ir"
  },
  "language_info": {
   "codemirror_mode": "r",
   "file_extension": ".r",
   "mimetype": "text/x-r-source",
   "name": "R",
   "pygments_lexer": "r",
   "version": "3.5.1"
  }
 },
 "nbformat": 4,
 "nbformat_minor": 2
}
