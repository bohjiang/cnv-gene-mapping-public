{
 "cells": [
  {
   "cell_type": "code",
   "execution_count": 1,
   "metadata": {},
   "outputs": [],
   "source": [
    "res = readRDS(\"/home/min/GIT/cnv-gene-mapping/data/deletion_simu/deletion.genes.block30.binomial.whole.genome.prior.varbvs.rds\")"
   ]
  },
  {
   "cell_type": "code",
   "execution_count": 17,
   "metadata": {},
   "outputs": [],
   "source": [
    "res1 = readRDS(\"/home/min/GIT/cnv-gene-mapping/data/deletion_simu/deletion.genes.block30.binomial.whole.genome.prior.varbvs.nologodds.rds\")"
   ]
  },
  {
   "cell_type": "code",
   "execution_count": 2,
   "metadata": {},
   "outputs": [
    {
     "data": {
      "text/html": [
       "<ol class=list-inline>\n",
       "\t<li>'family'</li>\n",
       "\t<li>'n0'</li>\n",
       "\t<li>'mu.cov'</li>\n",
       "\t<li>'sa0'</li>\n",
       "\t<li>'update.sigma'</li>\n",
       "\t<li>'update.sa'</li>\n",
       "\t<li>'optimize.eta'</li>\n",
       "\t<li>'prior.same'</li>\n",
       "\t<li>'logw'</li>\n",
       "\t<li>'w'</li>\n",
       "\t<li>'sigma'</li>\n",
       "\t<li>'sa'</li>\n",
       "\t<li>'logodds'</li>\n",
       "\t<li>'alpha'</li>\n",
       "\t<li>'mu'</li>\n",
       "\t<li>'s'</li>\n",
       "\t<li>'eta'</li>\n",
       "\t<li>'pip'</li>\n",
       "\t<li>'beta'</li>\n",
       "\t<li>'beta.cov'</li>\n",
       "\t<li>'pve'</li>\n",
       "\t<li>'model.pve'</li>\n",
       "\t<li>'fitted.values'</li>\n",
       "\t<li>'residuals'</li>\n",
       "</ol>\n"
      ],
      "text/latex": [
       "\\begin{enumerate*}\n",
       "\\item 'family'\n",
       "\\item 'n0'\n",
       "\\item 'mu.cov'\n",
       "\\item 'sa0'\n",
       "\\item 'update.sigma'\n",
       "\\item 'update.sa'\n",
       "\\item 'optimize.eta'\n",
       "\\item 'prior.same'\n",
       "\\item 'logw'\n",
       "\\item 'w'\n",
       "\\item 'sigma'\n",
       "\\item 'sa'\n",
       "\\item 'logodds'\n",
       "\\item 'alpha'\n",
       "\\item 'mu'\n",
       "\\item 's'\n",
       "\\item 'eta'\n",
       "\\item 'pip'\n",
       "\\item 'beta'\n",
       "\\item 'beta.cov'\n",
       "\\item 'pve'\n",
       "\\item 'model.pve'\n",
       "\\item 'fitted.values'\n",
       "\\item 'residuals'\n",
       "\\end{enumerate*}\n"
      ],
      "text/markdown": [
       "1. 'family'\n",
       "2. 'n0'\n",
       "3. 'mu.cov'\n",
       "4. 'sa0'\n",
       "5. 'update.sigma'\n",
       "6. 'update.sa'\n",
       "7. 'optimize.eta'\n",
       "8. 'prior.same'\n",
       "9. 'logw'\n",
       "10. 'w'\n",
       "11. 'sigma'\n",
       "12. 'sa'\n",
       "13. 'logodds'\n",
       "14. 'alpha'\n",
       "15. 'mu'\n",
       "16. 's'\n",
       "17. 'eta'\n",
       "18. 'pip'\n",
       "19. 'beta'\n",
       "20. 'beta.cov'\n",
       "21. 'pve'\n",
       "22. 'model.pve'\n",
       "23. 'fitted.values'\n",
       "24. 'residuals'\n",
       "\n",
       "\n"
      ],
      "text/plain": [
       " [1] \"family\"        \"n0\"            \"mu.cov\"        \"sa0\"          \n",
       " [5] \"update.sigma\"  \"update.sa\"     \"optimize.eta\"  \"prior.same\"   \n",
       " [9] \"logw\"          \"w\"             \"sigma\"         \"sa\"           \n",
       "[13] \"logodds\"       \"alpha\"         \"mu\"            \"s\"            \n",
       "[17] \"eta\"           \"pip\"           \"beta\"          \"beta.cov\"     \n",
       "[21] \"pve\"           \"model.pve\"     \"fitted.values\" \"residuals\"    "
      ]
     },
     "metadata": {},
     "output_type": "display_data"
    }
   ],
   "source": [
    "names(res)"
   ]
  },
  {
   "cell_type": "code",
   "execution_count": 14,
   "metadata": {},
   "outputs": [
    {
     "data": {
      "text/html": [
       "<ol class=list-inline>\n",
       "\t<li>22356</li>\n",
       "\t<li>20</li>\n",
       "</ol>\n"
      ],
      "text/latex": [
       "\\begin{enumerate*}\n",
       "\\item 22356\n",
       "\\item 20\n",
       "\\end{enumerate*}\n"
      ],
      "text/markdown": [
       "1. 22356\n",
       "2. 20\n",
       "\n",
       "\n"
      ],
      "text/plain": [
       "[1] 22356    20"
      ]
     },
     "metadata": {},
     "output_type": "display_data"
    },
    {
     "data": {
      "text/html": [
       "<ol class=list-inline>\n",
       "\t<li>22356</li>\n",
       "\t<li>20</li>\n",
       "</ol>\n"
      ],
      "text/latex": [
       "\\begin{enumerate*}\n",
       "\\item 22356\n",
       "\\item 20\n",
       "\\end{enumerate*}\n"
      ],
      "text/markdown": [
       "1. 22356\n",
       "2. 20\n",
       "\n",
       "\n"
      ],
      "text/plain": [
       "[1] 22356    20"
      ]
     },
     "metadata": {},
     "output_type": "display_data"
    },
    {
     "data": {
      "text/html": [
       "<ol class=list-inline>\n",
       "\t<li>22356</li>\n",
       "\t<li>20</li>\n",
       "</ol>\n"
      ],
      "text/latex": [
       "\\begin{enumerate*}\n",
       "\\item 22356\n",
       "\\item 20\n",
       "\\end{enumerate*}\n"
      ],
      "text/markdown": [
       "1. 22356\n",
       "2. 20\n",
       "\n",
       "\n"
      ],
      "text/plain": [
       "[1] 22356    20"
      ]
     },
     "metadata": {},
     "output_type": "display_data"
    }
   ],
   "source": [
    "dim(res$alpha); dim(res$mu); dim(res$s)"
   ]
  },
  {
   "cell_type": "code",
   "execution_count": 13,
   "metadata": {},
   "outputs": [
    {
     "data": {
      "text/html": [
       "447120"
      ],
      "text/latex": [
       "447120"
      ],
      "text/markdown": [
       "447120"
      ],
      "text/plain": [
       "[1] 447120"
      ]
     },
     "metadata": {},
     "output_type": "display_data"
    },
    {
     "data": {
      "text/html": [
       "447120"
      ],
      "text/latex": [
       "447120"
      ],
      "text/markdown": [
       "447120"
      ],
      "text/plain": [
       "[1] 447120"
      ]
     },
     "metadata": {},
     "output_type": "display_data"
    },
    {
     "data": {
      "text/html": [
       "447120"
      ],
      "text/latex": [
       "447120"
      ],
      "text/markdown": [
       "447120"
      ],
      "text/plain": [
       "[1] 447120"
      ]
     },
     "metadata": {},
     "output_type": "display_data"
    }
   ],
   "source": [
    "length(res$alpha); length(res$mu); length(res$s)"
   ]
  },
  {
   "cell_type": "code",
   "execution_count": 15,
   "metadata": {},
   "outputs": [
    {
     "data": {
      "text/html": [
       "20"
      ],
      "text/latex": [
       "20"
      ],
      "text/markdown": [
       "20"
      ],
      "text/plain": [
       "[1] 20"
      ]
     },
     "metadata": {},
     "output_type": "display_data"
    }
   ],
   "source": [
    "length(res$w)"
   ]
  },
  {
   "cell_type": "code",
   "execution_count": 16,
   "metadata": {},
   "outputs": [
    {
     "data": {
      "text/html": [
       "<ol class=list-inline>\n",
       "\t<li>6.59207019882337e-25</li>\n",
       "\t<li>4.43886057398169e-22</li>\n",
       "\t<li>3.01182012664311e-19</li>\n",
       "\t<li>2.36362093721629e-16</li>\n",
       "\t<li>2.04845674073149e-13</li>\n",
       "\t<li>3.38453472831302e-14</li>\n",
       "\t<li>7.21641221010843e-11</li>\n",
       "\t<li>1.58308705353112e-07</li>\n",
       "\t<li>0.000174974894440767</li>\n",
       "\t<li>0.0550677332841</li>\n",
       "\t<li>0.809496952869715</li>\n",
       "\t<li>0.135253018846203</li>\n",
       "\t<li>7.10159181254113e-06</li>\n",
       "\t<li>6.01326068413331e-08</li>\n",
       "\t<li>1.27916314114155e-14</li>\n",
       "\t<li>9.20630025568024e-20</li>\n",
       "\t<li>2.04800212621851e-23</li>\n",
       "\t<li>1.12736930603869e-26</li>\n",
       "\t<li>1.29381863504299e-29</li>\n",
       "\t<li>9.73905439471784e-32</li>\n",
       "</ol>\n"
      ],
      "text/latex": [
       "\\begin{enumerate*}\n",
       "\\item 6.59207019882337e-25\n",
       "\\item 4.43886057398169e-22\n",
       "\\item 3.01182012664311e-19\n",
       "\\item 2.36362093721629e-16\n",
       "\\item 2.04845674073149e-13\n",
       "\\item 3.38453472831302e-14\n",
       "\\item 7.21641221010843e-11\n",
       "\\item 1.58308705353112e-07\n",
       "\\item 0.000174974894440767\n",
       "\\item 0.0550677332841\n",
       "\\item 0.809496952869715\n",
       "\\item 0.135253018846203\n",
       "\\item 7.10159181254113e-06\n",
       "\\item 6.01326068413331e-08\n",
       "\\item 1.27916314114155e-14\n",
       "\\item 9.20630025568024e-20\n",
       "\\item 2.04800212621851e-23\n",
       "\\item 1.12736930603869e-26\n",
       "\\item 1.29381863504299e-29\n",
       "\\item 9.73905439471784e-32\n",
       "\\end{enumerate*}\n"
      ],
      "text/markdown": [
       "1. 6.59207019882337e-25\n",
       "2. 4.43886057398169e-22\n",
       "3. 3.01182012664311e-19\n",
       "4. 2.36362093721629e-16\n",
       "5. 2.04845674073149e-13\n",
       "6. 3.38453472831302e-14\n",
       "7. 7.21641221010843e-11\n",
       "8. 1.58308705353112e-07\n",
       "9. 0.000174974894440767\n",
       "10. 0.0550677332841\n",
       "11. 0.809496952869715\n",
       "12. 0.135253018846203\n",
       "13. 7.10159181254113e-06\n",
       "14. 6.01326068413331e-08\n",
       "15. 1.27916314114155e-14\n",
       "16. 9.20630025568024e-20\n",
       "17. 2.04800212621851e-23\n",
       "18. 1.12736930603869e-26\n",
       "19. 1.29381863504299e-29\n",
       "20. 9.73905439471784e-32\n",
       "\n",
       "\n"
      ],
      "text/plain": [
       " [1] 6.592070e-25 4.438861e-22 3.011820e-19 2.363621e-16 2.048457e-13\n",
       " [6] 3.384535e-14 7.216412e-11 1.583087e-07 1.749749e-04 5.506773e-02\n",
       "[11] 8.094970e-01 1.352530e-01 7.101592e-06 6.013261e-08 1.279163e-14\n",
       "[16] 9.206300e-20 2.048002e-23 1.127369e-26 1.293819e-29 9.739054e-32"
      ]
     },
     "metadata": {},
     "output_type": "display_data"
    }
   ],
   "source": [
    "res$w"
   ]
  },
  {
   "cell_type": "code",
   "execution_count": null,
   "metadata": {},
   "outputs": [],
   "source": []
  },
  {
   "cell_type": "code",
   "execution_count": null,
   "metadata": {},
   "outputs": [],
   "source": []
  },
  {
   "cell_type": "code",
   "execution_count": null,
   "metadata": {},
   "outputs": [],
   "source": []
  },
  {
   "cell_type": "code",
   "execution_count": 1,
   "metadata": {},
   "outputs": [],
   "source": [
    "library(data.table)\n",
    "library(reticulate)"
   ]
  },
  {
   "cell_type": "code",
   "execution_count": 2,
   "metadata": {},
   "outputs": [
    {
     "name": "stderr",
     "output_type": "stream",
     "text": [
      "Loading required package: Boom\n",
      "Loading required package: MASS\n",
      "\n",
      "Attaching package: ‘Boom’\n",
      "\n",
      "The following object is masked from ‘package:stats’:\n",
      "\n",
      "    rWishart\n",
      "\n",
      "\n",
      "Attaching package: ‘BoomSpikeSlab’\n",
      "\n",
      "The following object is masked from ‘package:stats’:\n",
      "\n",
      "    knots\n",
      "\n"
     ]
    }
   ],
   "source": [
    "library(susieR)\n",
    "library(BoomSpikeSlab)"
   ]
  },
  {
   "cell_type": "code",
   "execution_count": 3,
   "metadata": {},
   "outputs": [],
   "source": [
    "X = as.matrix(data.table::fread(\"/home/min/GIT/cnv-gene-mapping/data/deletion_simu/block_79_137/deletion.genes.block30.for_simu.sample.genes.block_79_137.gz\", header = F))"
   ]
  },
  {
   "cell_type": "code",
   "execution_count": 4,
   "metadata": {},
   "outputs": [
    {
     "data": {
      "text/html": [
       "<ol class=list-inline>\n",
       "\t<li>13412</li>\n",
       "\t<li>59</li>\n",
       "</ol>\n"
      ],
      "text/latex": [
       "\\begin{enumerate*}\n",
       "\\item 13412\n",
       "\\item 59\n",
       "\\end{enumerate*}\n"
      ],
      "text/markdown": [
       "1. 13412\n",
       "2. 59\n",
       "\n",
       "\n"
      ],
      "text/plain": [
       "[1] 13412    59"
      ]
     },
     "metadata": {},
     "output_type": "display_data"
    }
   ],
   "source": [
    "dim(X)"
   ]
  },
  {
   "cell_type": "code",
   "execution_count": 5,
   "metadata": {},
   "outputs": [],
   "source": [
    "y <- as.matrix(data.table::fread(\"/data/GIT/cnv-gene-mapping/data/deletion_simu/deletion.genes.block30.for_simu.sample.y\"))"
   ]
  },
  {
   "cell_type": "code",
   "execution_count": 6,
   "metadata": {},
   "outputs": [],
   "source": [
    "storage.mode(X) = 'double'\n",
    "storage.mode(y) = 'double'"
   ]
  },
  {
   "cell_type": "code",
   "execution_count": 8,
   "metadata": {},
   "outputs": [],
   "source": [
    "prior <- LogitZellnerPrior(X, y, expected.model.size = 1, diagonal.shrinkage = 0, optional.coefficient.estimate = rep(0, dim(X)[2]))"
   ]
  },
  {
   "cell_type": "code",
   "execution_count": 9,
   "metadata": {},
   "outputs": [
    {
     "data": {
      "text/html": [
       "<ol class=list-inline>\n",
       "\t<li>'prior.inclusion.probabilities'</li>\n",
       "\t<li>'mu'</li>\n",
       "\t<li>'sigma.guess'</li>\n",
       "\t<li>'prior.df'</li>\n",
       "\t<li>'sigma.upper.limit'</li>\n",
       "\t<li>'max.flips'</li>\n",
       "\t<li>'siginv'</li>\n",
       "\t<li>'prior.success.probability'</li>\n",
       "</ol>\n"
      ],
      "text/latex": [
       "\\begin{enumerate*}\n",
       "\\item 'prior.inclusion.probabilities'\n",
       "\\item 'mu'\n",
       "\\item 'sigma.guess'\n",
       "\\item 'prior.df'\n",
       "\\item 'sigma.upper.limit'\n",
       "\\item 'max.flips'\n",
       "\\item 'siginv'\n",
       "\\item 'prior.success.probability'\n",
       "\\end{enumerate*}\n"
      ],
      "text/markdown": [
       "1. 'prior.inclusion.probabilities'\n",
       "2. 'mu'\n",
       "3. 'sigma.guess'\n",
       "4. 'prior.df'\n",
       "5. 'sigma.upper.limit'\n",
       "6. 'max.flips'\n",
       "7. 'siginv'\n",
       "8. 'prior.success.probability'\n",
       "\n",
       "\n"
      ],
      "text/plain": [
       "[1] \"prior.inclusion.probabilities\" \"mu\"                           \n",
       "[3] \"sigma.guess\"                   \"prior.df\"                     \n",
       "[5] \"sigma.upper.limit\"             \"max.flips\"                    \n",
       "[7] \"siginv\"                        \"prior.success.probability\"    "
      ]
     },
     "metadata": {},
     "output_type": "display_data"
    }
   ],
   "source": [
    "names(prior)"
   ]
  },
  {
   "cell_type": "code",
   "execution_count": 13,
   "metadata": {},
   "outputs": [
    {
     "data": {
      "text/html": [
       "0.99999985"
      ],
      "text/latex": [
       "0.99999985"
      ],
      "text/markdown": [
       "0.99999985"
      ],
      "text/plain": [
       "[1] 0.9999999"
      ]
     },
     "metadata": {},
     "output_type": "display_data"
    }
   ],
   "source": [
    "0.01694915*59"
   ]
  },
  {
   "cell_type": "code",
   "execution_count": 14,
   "metadata": {},
   "outputs": [
    {
     "data": {
      "text/html": [
       "<ol class=list-inline>\n",
       "\t<li>0.0169491525423729</li>\n",
       "\t<li>0.0169491525423729</li>\n",
       "\t<li>0.0169491525423729</li>\n",
       "\t<li>0.0169491525423729</li>\n",
       "\t<li>0.0169491525423729</li>\n",
       "\t<li>0.0169491525423729</li>\n",
       "\t<li>0.0169491525423729</li>\n",
       "\t<li>0.0169491525423729</li>\n",
       "\t<li>0.0169491525423729</li>\n",
       "\t<li>0.0169491525423729</li>\n",
       "\t<li>0.0169491525423729</li>\n",
       "\t<li>0.0169491525423729</li>\n",
       "\t<li>0.0169491525423729</li>\n",
       "\t<li>0.0169491525423729</li>\n",
       "\t<li>0.0169491525423729</li>\n",
       "\t<li>0.0169491525423729</li>\n",
       "\t<li>0.0169491525423729</li>\n",
       "\t<li>0.0169491525423729</li>\n",
       "\t<li>0.0169491525423729</li>\n",
       "\t<li>0.0169491525423729</li>\n",
       "\t<li>0.0169491525423729</li>\n",
       "\t<li>0.0169491525423729</li>\n",
       "\t<li>0.0169491525423729</li>\n",
       "\t<li>0.0169491525423729</li>\n",
       "\t<li>0.0169491525423729</li>\n",
       "\t<li>0.0169491525423729</li>\n",
       "\t<li>0.0169491525423729</li>\n",
       "\t<li>0.0169491525423729</li>\n",
       "\t<li>0.0169491525423729</li>\n",
       "\t<li>0.0169491525423729</li>\n",
       "\t<li>0.0169491525423729</li>\n",
       "\t<li>0.0169491525423729</li>\n",
       "\t<li>0.0169491525423729</li>\n",
       "\t<li>0.0169491525423729</li>\n",
       "\t<li>0.0169491525423729</li>\n",
       "\t<li>0.0169491525423729</li>\n",
       "\t<li>0.0169491525423729</li>\n",
       "\t<li>0.0169491525423729</li>\n",
       "\t<li>0.0169491525423729</li>\n",
       "\t<li>0.0169491525423729</li>\n",
       "\t<li>0.0169491525423729</li>\n",
       "\t<li>0.0169491525423729</li>\n",
       "\t<li>0.0169491525423729</li>\n",
       "\t<li>0.0169491525423729</li>\n",
       "\t<li>0.0169491525423729</li>\n",
       "\t<li>0.0169491525423729</li>\n",
       "\t<li>0.0169491525423729</li>\n",
       "\t<li>0.0169491525423729</li>\n",
       "\t<li>0.0169491525423729</li>\n",
       "\t<li>0.0169491525423729</li>\n",
       "\t<li>0.0169491525423729</li>\n",
       "\t<li>0.0169491525423729</li>\n",
       "\t<li>0.0169491525423729</li>\n",
       "\t<li>0.0169491525423729</li>\n",
       "\t<li>0.0169491525423729</li>\n",
       "\t<li>0.0169491525423729</li>\n",
       "\t<li>0.0169491525423729</li>\n",
       "\t<li>0.0169491525423729</li>\n",
       "\t<li>0.0169491525423729</li>\n",
       "</ol>\n"
      ],
      "text/latex": [
       "\\begin{enumerate*}\n",
       "\\item 0.0169491525423729\n",
       "\\item 0.0169491525423729\n",
       "\\item 0.0169491525423729\n",
       "\\item 0.0169491525423729\n",
       "\\item 0.0169491525423729\n",
       "\\item 0.0169491525423729\n",
       "\\item 0.0169491525423729\n",
       "\\item 0.0169491525423729\n",
       "\\item 0.0169491525423729\n",
       "\\item 0.0169491525423729\n",
       "\\item 0.0169491525423729\n",
       "\\item 0.0169491525423729\n",
       "\\item 0.0169491525423729\n",
       "\\item 0.0169491525423729\n",
       "\\item 0.0169491525423729\n",
       "\\item 0.0169491525423729\n",
       "\\item 0.0169491525423729\n",
       "\\item 0.0169491525423729\n",
       "\\item 0.0169491525423729\n",
       "\\item 0.0169491525423729\n",
       "\\item 0.0169491525423729\n",
       "\\item 0.0169491525423729\n",
       "\\item 0.0169491525423729\n",
       "\\item 0.0169491525423729\n",
       "\\item 0.0169491525423729\n",
       "\\item 0.0169491525423729\n",
       "\\item 0.0169491525423729\n",
       "\\item 0.0169491525423729\n",
       "\\item 0.0169491525423729\n",
       "\\item 0.0169491525423729\n",
       "\\item 0.0169491525423729\n",
       "\\item 0.0169491525423729\n",
       "\\item 0.0169491525423729\n",
       "\\item 0.0169491525423729\n",
       "\\item 0.0169491525423729\n",
       "\\item 0.0169491525423729\n",
       "\\item 0.0169491525423729\n",
       "\\item 0.0169491525423729\n",
       "\\item 0.0169491525423729\n",
       "\\item 0.0169491525423729\n",
       "\\item 0.0169491525423729\n",
       "\\item 0.0169491525423729\n",
       "\\item 0.0169491525423729\n",
       "\\item 0.0169491525423729\n",
       "\\item 0.0169491525423729\n",
       "\\item 0.0169491525423729\n",
       "\\item 0.0169491525423729\n",
       "\\item 0.0169491525423729\n",
       "\\item 0.0169491525423729\n",
       "\\item 0.0169491525423729\n",
       "\\item 0.0169491525423729\n",
       "\\item 0.0169491525423729\n",
       "\\item 0.0169491525423729\n",
       "\\item 0.0169491525423729\n",
       "\\item 0.0169491525423729\n",
       "\\item 0.0169491525423729\n",
       "\\item 0.0169491525423729\n",
       "\\item 0.0169491525423729\n",
       "\\item 0.0169491525423729\n",
       "\\end{enumerate*}\n"
      ],
      "text/markdown": [
       "1. 0.0169491525423729\n",
       "2. 0.0169491525423729\n",
       "3. 0.0169491525423729\n",
       "4. 0.0169491525423729\n",
       "5. 0.0169491525423729\n",
       "6. 0.0169491525423729\n",
       "7. 0.0169491525423729\n",
       "8. 0.0169491525423729\n",
       "9. 0.0169491525423729\n",
       "10. 0.0169491525423729\n",
       "11. 0.0169491525423729\n",
       "12. 0.0169491525423729\n",
       "13. 0.0169491525423729\n",
       "14. 0.0169491525423729\n",
       "15. 0.0169491525423729\n",
       "16. 0.0169491525423729\n",
       "17. 0.0169491525423729\n",
       "18. 0.0169491525423729\n",
       "19. 0.0169491525423729\n",
       "20. 0.0169491525423729\n",
       "21. 0.0169491525423729\n",
       "22. 0.0169491525423729\n",
       "23. 0.0169491525423729\n",
       "24. 0.0169491525423729\n",
       "25. 0.0169491525423729\n",
       "26. 0.0169491525423729\n",
       "27. 0.0169491525423729\n",
       "28. 0.0169491525423729\n",
       "29. 0.0169491525423729\n",
       "30. 0.0169491525423729\n",
       "31. 0.0169491525423729\n",
       "32. 0.0169491525423729\n",
       "33. 0.0169491525423729\n",
       "34. 0.0169491525423729\n",
       "35. 0.0169491525423729\n",
       "36. 0.0169491525423729\n",
       "37. 0.0169491525423729\n",
       "38. 0.0169491525423729\n",
       "39. 0.0169491525423729\n",
       "40. 0.0169491525423729\n",
       "41. 0.0169491525423729\n",
       "42. 0.0169491525423729\n",
       "43. 0.0169491525423729\n",
       "44. 0.0169491525423729\n",
       "45. 0.0169491525423729\n",
       "46. 0.0169491525423729\n",
       "47. 0.0169491525423729\n",
       "48. 0.0169491525423729\n",
       "49. 0.0169491525423729\n",
       "50. 0.0169491525423729\n",
       "51. 0.0169491525423729\n",
       "52. 0.0169491525423729\n",
       "53. 0.0169491525423729\n",
       "54. 0.0169491525423729\n",
       "55. 0.0169491525423729\n",
       "56. 0.0169491525423729\n",
       "57. 0.0169491525423729\n",
       "58. 0.0169491525423729\n",
       "59. 0.0169491525423729\n",
       "\n",
       "\n"
      ],
      "text/plain": [
       " [1] 0.01694915 0.01694915 0.01694915 0.01694915 0.01694915 0.01694915\n",
       " [7] 0.01694915 0.01694915 0.01694915 0.01694915 0.01694915 0.01694915\n",
       "[13] 0.01694915 0.01694915 0.01694915 0.01694915 0.01694915 0.01694915\n",
       "[19] 0.01694915 0.01694915 0.01694915 0.01694915 0.01694915 0.01694915\n",
       "[25] 0.01694915 0.01694915 0.01694915 0.01694915 0.01694915 0.01694915\n",
       "[31] 0.01694915 0.01694915 0.01694915 0.01694915 0.01694915 0.01694915\n",
       "[37] 0.01694915 0.01694915 0.01694915 0.01694915 0.01694915 0.01694915\n",
       "[43] 0.01694915 0.01694915 0.01694915 0.01694915 0.01694915 0.01694915\n",
       "[49] 0.01694915 0.01694915 0.01694915 0.01694915 0.01694915 0.01694915\n",
       "[55] 0.01694915 0.01694915 0.01694915 0.01694915 0.01694915"
      ]
     },
     "metadata": {},
     "output_type": "display_data"
    }
   ],
   "source": [
    "head(prior$prior.inclusion.probabilities)"
   ]
  },
  {
   "cell_type": "code",
   "execution_count": 15,
   "metadata": {},
   "outputs": [
    {
     "data": {
      "text/plain": [
       "NULL"
      ]
     },
     "metadata": {},
     "output_type": "display_data"
    }
   ],
   "source": [
    "prior$optional.coefficient.estimate"
   ]
  },
  {
   "cell_type": "code",
   "execution_count": 13,
   "metadata": {},
   "outputs": [
    {
     "data": {
      "text/html": [
       "FALSE"
      ],
      "text/latex": [
       "FALSE"
      ],
      "text/markdown": [
       "FALSE"
      ],
      "text/plain": [
       "[1] FALSE"
      ]
     },
     "metadata": {},
     "output_type": "display_data"
    }
   ],
   "source": [
    "length(prior$mu) == ncol(X)"
   ]
  },
  {
   "cell_type": "code",
   "execution_count": 12,
   "metadata": {},
   "outputs": [],
   "source": [
    "# X = cbind(1, X)"
   ]
  },
  {
   "cell_type": "code",
   "execution_count": 14,
   "metadata": {},
   "outputs": [
    {
     "ename": "ERROR",
     "evalue": "Error in lm.spike(y ~ X, niter = 5000, prior = prior): length(prior$mu) == ncol(x) is not TRUE\n",
     "output_type": "error",
     "traceback": [
      "Error in lm.spike(y ~ X, niter = 5000, prior = prior): length(prior$mu) == ncol(x) is not TRUE\nTraceback:\n",
      "1. lm.spike(y ~ X, niter = 5000, prior = prior)",
      "2. stopifnot(length(prior$mu) == ncol(x))"
     ]
    }
   ],
   "source": [
    "model <- lm.spike(y ~ X, niter = 5000, prior = prior, error.distribution = \"gaussian\")"
   ]
  },
  {
   "cell_type": "code",
   "execution_count": 10,
   "metadata": {},
   "outputs": [
    {
     "data": {
      "text/html": [
       "<ol class=list-inline>\n",
       "\t<li>'beta'</li>\n",
       "\t<li>'sigma'</li>\n",
       "\t<li>'sse'</li>\n",
       "\t<li>'prior'</li>\n",
       "\t<li>'error.distribution'</li>\n",
       "\t<li>'xlevels'</li>\n",
       "\t<li>'call'</li>\n",
       "\t<li>'terms'</li>\n",
       "\t<li>'sample.sd'</li>\n",
       "\t<li>'sample.size'</li>\n",
       "\t<li>'log.likelihood'</li>\n",
       "\t<li>'null.log.likelihood'</li>\n",
       "\t<li>'response'</li>\n",
       "\t<li>'training.data'</li>\n",
       "</ol>\n"
      ],
      "text/latex": [
       "\\begin{enumerate*}\n",
       "\\item 'beta'\n",
       "\\item 'sigma'\n",
       "\\item 'sse'\n",
       "\\item 'prior'\n",
       "\\item 'error.distribution'\n",
       "\\item 'xlevels'\n",
       "\\item 'call'\n",
       "\\item 'terms'\n",
       "\\item 'sample.sd'\n",
       "\\item 'sample.size'\n",
       "\\item 'log.likelihood'\n",
       "\\item 'null.log.likelihood'\n",
       "\\item 'response'\n",
       "\\item 'training.data'\n",
       "\\end{enumerate*}\n"
      ],
      "text/markdown": [
       "1. 'beta'\n",
       "2. 'sigma'\n",
       "3. 'sse'\n",
       "4. 'prior'\n",
       "5. 'error.distribution'\n",
       "6. 'xlevels'\n",
       "7. 'call'\n",
       "8. 'terms'\n",
       "9. 'sample.sd'\n",
       "10. 'sample.size'\n",
       "11. 'log.likelihood'\n",
       "12. 'null.log.likelihood'\n",
       "13. 'response'\n",
       "14. 'training.data'\n",
       "\n",
       "\n"
      ],
      "text/plain": [
       " [1] \"beta\"                \"sigma\"               \"sse\"                \n",
       " [4] \"prior\"               \"error.distribution\"  \"xlevels\"            \n",
       " [7] \"call\"                \"terms\"               \"sample.sd\"          \n",
       "[10] \"sample.size\"         \"log.likelihood\"      \"null.log.likelihood\"\n",
       "[13] \"response\"            \"training.data\"      "
      ]
     },
     "metadata": {},
     "output_type": "display_data"
    }
   ],
   "source": [
    "names(model)"
   ]
  },
  {
   "cell_type": "code",
   "execution_count": 11,
   "metadata": {},
   "outputs": [
    {
     "data": {
      "text/html": [
       "<ol class=list-inline>\n",
       "\t<li>1000</li>\n",
       "\t<li>59</li>\n",
       "</ol>\n"
      ],
      "text/latex": [
       "\\begin{enumerate*}\n",
       "\\item 1000\n",
       "\\item 59\n",
       "\\end{enumerate*}\n"
      ],
      "text/markdown": [
       "1. 1000\n",
       "2. 59\n",
       "\n",
       "\n"
      ],
      "text/plain": [
       "[1] 1000   59"
      ]
     },
     "metadata": {},
     "output_type": "display_data"
    }
   ],
   "source": [
    "dim(model$beta)"
   ]
  },
  {
   "cell_type": "code",
   "execution_count": 49,
   "metadata": {},
   "outputs": [
    {
     "data": {
      "text/html": [
       "<ol class=list-inline>\n",
       "\t<li>1000</li>\n",
       "\t<li>59</li>\n",
       "</ol>\n"
      ],
      "text/latex": [
       "\\begin{enumerate*}\n",
       "\\item 1000\n",
       "\\item 59\n",
       "\\end{enumerate*}\n"
      ],
      "text/markdown": [
       "1. 1000\n",
       "2. 59\n",
       "\n",
       "\n"
      ],
      "text/plain": [
       "[1] 1000   59"
      ]
     },
     "metadata": {},
     "output_type": "display_data"
    }
   ],
   "source": [
    "dim(model$beta)"
   ]
  },
  {
   "cell_type": "code",
   "execution_count": 30,
   "metadata": {},
   "outputs": [
    {
     "data": {
      "text/html": [
       "0.546997247509321"
      ],
      "text/latex": [
       "0.546997247509321"
      ],
      "text/markdown": [
       "0.546997247509321"
      ],
      "text/plain": [
       "[1] 0.5469972"
      ]
     },
     "metadata": {},
     "output_type": "display_data"
    }
   ],
   "source": [
    "mean(model$beta[, 20])"
   ]
  },
  {
   "cell_type": "code",
   "execution_count": 13,
   "metadata": {},
   "outputs": [
    {
     "data": {
      "text/html": [
       "0.00178724383993779"
      ],
      "text/latex": [
       "0.00178724383993779"
      ],
      "text/markdown": [
       "0.00178724383993779"
      ],
      "text/plain": [
       "[1] 0.001787244"
      ]
     },
     "metadata": {},
     "output_type": "display_data"
    }
   ],
   "source": [
    "mean(model$beta[, 50])"
   ]
  },
  {
   "cell_type": "code",
   "execution_count": 45,
   "metadata": {},
   "outputs": [],
   "source": [
    "res1 = susie(X, y, L = 3, scaled_prior_variance = 0.005, estimate_prior_method = \"optim\")"
   ]
  },
  {
   "cell_type": "code",
   "execution_count": 47,
   "metadata": {},
   "outputs": [
    {
     "data": {
      "text/html": [
       "0"
      ],
      "text/latex": [
       "0"
      ],
      "text/markdown": [
       "0"
      ],
      "text/plain": [
       "[1] 0"
      ]
     },
     "metadata": {},
     "output_type": "display_data"
    }
   ],
   "source": [
    "max(res1$pip)"
   ]
  },
  {
   "cell_type": "code",
   "execution_count": 29,
   "metadata": {},
   "outputs": [],
   "source": [
    "res2 = readRDS(\"/home/min/GIT/cnv-gene-mapping/data/deletion_simu/block_79_137/deletion.genes.block30.for_simu.sample.genes.block_79_137.varbvs.rds\")"
   ]
  },
  {
   "cell_type": "code",
   "execution_count": 30,
   "metadata": {},
   "outputs": [
    {
     "data": {
      "text/html": [
       "<ol class=list-inline>\n",
       "\t<li>'fit'</li>\n",
       "\t<li>'mu'</li>\n",
       "\t<li>'beta'</li>\n",
       "</ol>\n"
      ],
      "text/latex": [
       "\\begin{enumerate*}\n",
       "\\item 'fit'\n",
       "\\item 'mu'\n",
       "\\item 'beta'\n",
       "\\end{enumerate*}\n"
      ],
      "text/markdown": [
       "1. 'fit'\n",
       "2. 'mu'\n",
       "3. 'beta'\n",
       "\n",
       "\n"
      ],
      "text/plain": [
       "[1] \"fit\"  \"mu\"   \"beta\""
      ]
     },
     "metadata": {},
     "output_type": "display_data"
    }
   ],
   "source": [
    "names(res2)"
   ]
  },
  {
   "cell_type": "code",
   "execution_count": 48,
   "metadata": {},
   "outputs": [
    {
     "data": {
      "text/html": [
       "0.0269814805603835"
      ],
      "text/latex": [
       "0.0269814805603835"
      ],
      "text/markdown": [
       "0.0269814805603835"
      ],
      "text/plain": [
       "[1] 0.02698148"
      ]
     },
     "metadata": {},
     "output_type": "display_data"
    }
   ],
   "source": [
    "max(res2$fit$pip)"
   ]
  },
  {
   "cell_type": "markdown",
   "metadata": {},
   "source": [
    "**Make input prior as the format of output of SpikeSlabPrior**\n",
    "\n",
    "pi: vector of prior.inclusion.probabilities\n",
    "\n",
    "b: optional.coefficient.estimate"
   ]
  },
  {
   "cell_type": "code",
   "execution_count": null,
   "metadata": {},
   "outputs": [],
   "source": []
  }
 ],
 "metadata": {
  "kernelspec": {
   "display_name": "R",
   "language": "R",
   "name": "ir"
  },
  "language_info": {
   "codemirror_mode": "r",
   "file_extension": ".r",
   "mimetype": "text/x-r-source",
   "name": "R",
   "pygments_lexer": "r",
   "version": "3.5.1"
  }
 },
 "nbformat": 4,
 "nbformat_minor": 2
}
