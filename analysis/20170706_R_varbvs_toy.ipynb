{
 "cells": [
  {
   "cell_type": "markdown",
   "metadata": {},
   "source": [
    "# R: use package varbvs and feather to file to obtain .RDS file"
   ]
  },
  {
   "cell_type": "raw",
   "metadata": {
    "collapsed": true
   },
   "source": [
    "library(feather)\n",
    "library(varbvs)"
   ]
  },
  {
   "cell_type": "code",
   "execution_count": 2,
   "metadata": {
    "collapsed": true,
    "kernel": "R"
   },
   "outputs": [],
   "source": [
    "get_rds_toy <- function(datalist){\n",
    "    for (dat in datalist){\n",
    "        newdat = read_feather(dat)\n",
    "        newmatrix = matrix(as.double(unlist(newdat)), dim(newdat)[1], dim(newdat)[2])\n",
    "        colnames(newmatrix) = colnames(newdat)\n",
    "        newfit = varbvs(newmatrix[,-1], NULL, newmatrix[,1], family = \"binomial\", \n",
    "                        logodds = seq(-3.5,-1,0.1), sa = 1, verbose = F)\n",
    "        newfit$summary = summary(newfit)\n",
    "        newfit$w = normalizelogweights(newfit$logw)\n",
    "        newfit$pip = newfit$alpha %*% c(newfit$w)\n",
    "        filename = paste(dat, \".RDS\", sep=\"\")\n",
    "        saveRDS(newfit, filename)\n",
    "        return (newfit$summary$top.vars)\n",
    "    }\n",
    "}"
   ]
  },
  {
   "cell_type": "code",
   "execution_count": 5,
   "metadata": {
    "kernel": "R"
   },
   "outputs": [
    {
     "data": {
      "text/html": [
       "<table>\n",
       "<thead><tr><th scope=col>index</th><th scope=col>variable</th><th scope=col>prob</th><th scope=col>PVE</th><th scope=col>coef</th><th scope=col>Pr(coef.&gt;0.95)</th></tr></thead>\n",
       "<tbody>\n",
       "\t<tr><td> 5             </td><td>gene5          </td><td>0.99231132     </td><td>NA             </td><td> 1.5274483     </td><td>[+0.875,+2.219]</td></tr>\n",
       "\t<tr><td> 9             </td><td>gene9          </td><td>0.06996630     </td><td>NA             </td><td> 0.6993455     </td><td>[-0.248,+1.583]</td></tr>\n",
       "\t<tr><td> 8             </td><td>gene8          </td><td>0.06341389     </td><td>NA             </td><td>-0.6179053     </td><td>[-1.383,+0.125]</td></tr>\n",
       "\t<tr><td> 2             </td><td>gene2          </td><td>0.05923688     </td><td>NA             </td><td>-0.5586378     </td><td>[-1.252,+0.136]</td></tr>\n",
       "\t<tr><td>10             </td><td>gene10         </td><td>0.04930603     </td><td>NA             </td><td> 0.0000000     </td><td>[-1.910,+1.988]</td></tr>\n",
       "</tbody>\n",
       "</table>\n"
      ],
      "text/latex": [
       "\\begin{tabular}{r|llllll}\n",
       " index & variable & prob & PVE & coef & Pr(coef.>0.95)\\\\\n",
       "\\hline\n",
       "\t  5                  & gene5               & 0.99231132          & NA                  &  1.5274483          & {[}+0.875,+2.219{]}\\\\\n",
       "\t  9                  & gene9               & 0.06996630          & NA                  &  0.6993455          & {[}-0.248,+1.583{]}\\\\\n",
       "\t  8                  & gene8               & 0.06341389          & NA                  & -0.6179053          & {[}-1.383,+0.125{]}\\\\\n",
       "\t  2                  & gene2               & 0.05923688          & NA                  & -0.5586378          & {[}-1.252,+0.136{]}\\\\\n",
       "\t 10                  & gene10              & 0.04930603          & NA                  &  0.0000000          & {[}-1.910,+1.988{]}\\\\\n",
       "\\end{tabular}\n"
      ],
      "text/markdown": [
       "\n",
       "index | variable | prob | PVE | coef | Pr(coef.>0.95) | \n",
       "|---|---|---|---|---|\n",
       "|  5              | gene5           | 0.99231132      | NA              |  1.5274483      | [+0.875,+2.219] | \n",
       "|  9              | gene9           | 0.06996630      | NA              |  0.6993455      | [-0.248,+1.583] | \n",
       "|  8              | gene8           | 0.06341389      | NA              | -0.6179053      | [-1.383,+0.125] | \n",
       "|  2              | gene2           | 0.05923688      | NA              | -0.5586378      | [-1.252,+0.136] | \n",
       "| 10              | gene10          | 0.04930603      | NA              |  0.0000000      | [-1.910,+1.988] | \n",
       "\n",
       "\n"
      ],
      "text/plain": [
       "  index variable prob       PVE coef       Pr(coef.>0.95) \n",
       "1  5    gene5    0.99231132 NA   1.5274483 [+0.875,+2.219]\n",
       "2  9    gene9    0.06996630 NA   0.6993455 [-0.248,+1.583]\n",
       "3  8    gene8    0.06341389 NA  -0.6179053 [-1.383,+0.125]\n",
       "4  2    gene2    0.05923688 NA  -0.5586378 [-1.252,+0.136]\n",
       "5 10    gene10   0.04930603 NA   0.0000000 [-1.910,+1.988]"
      ]
     },
     "metadata": {},
     "output_type": "display_data"
    }
   ],
   "source": [
    "# get_rds_toy(c(\"data/toy_n000_600_n100_100_n010_100_n001_100_n110_100_n011_100_n111_100.feather\"))\n",
    "get_rds_toy(c(\"data/toy_n2000_p0.9_causal5_const1.0_0.05.feather\"))"
   ]
  },
  {
   "cell_type": "code",
   "execution_count": null,
   "metadata": {
    "collapsed": true,
    "kernel": "R"
   },
   "outputs": [],
   "source": []
  },
  {
   "cell_type": "code",
   "execution_count": null,
   "metadata": {
    "collapsed": true,
    "kernel": "R"
   },
   "outputs": [],
   "source": []
  },
  {
   "cell_type": "code",
   "execution_count": 4,
   "metadata": {
    "kernel": "R"
   },
   "outputs": [
    {
     "name": "stdout",
     "output_type": "stream",
     "text": [
      "Summary of fitted Bayesian variable selection model:\n",
      "family:     binomial   num. hyperparameter settings: 26\n",
      "samples:    1250       iid variable selection prior: yes\n",
      "variables:  15         fit prior var. of coefs (sa): no\n",
      "covariates: 1          fit approx. factors (eta):    yes\n",
      "maximum log-likelihood lower bound: -786.2700\n",
      "Hyperparameters: \n",
      "        estimate Pr>0.95             candidate values\n",
      "sa            NA [NA,NA]             1--1\n",
      "logodds    -1.53 [-2.50,-1.00]       (-3.50)--(-1.00)\n",
      "Selected variables by probability cutoff:\n",
      ">0.10 >0.25 >0.50 >0.75 >0.90 >0.95 \n",
      "    1     1     1     1     1     1 \n",
      "Top 5 variables by inclusion probability:\n",
      "  index variable    prob PVE coef*  Pr(coef.>0.95)\n",
      "1     8     pos8 1.00000  NA 1.596 [+1.368,+1.820]\n",
      "2    13    pos13 0.00816  NA 0.115 [-0.103,+0.351]\n",
      "3    10    pos10 0.00802  NA 0.113 [-0.114,+0.347]\n",
      "4    11    pos11 0.00775  NA 0.109 [-0.119,+0.331]\n",
      "5    12    pos12 0.00752  NA 0.105 [-0.125,+0.326]\n",
      "*See help(varbvs) about interpreting coefficients in logistic regression.\n"
     ]
    },
    {
     "data": {
      "text/html": [
       "<ol class=list-inline>\n",
       "\t<li>'pos1'</li>\n",
       "\t<li>'pos2'</li>\n",
       "\t<li>'pos3'</li>\n",
       "\t<li>'pos4'</li>\n",
       "\t<li>'pos5'</li>\n",
       "\t<li>'pos6'</li>\n",
       "\t<li>'pos7'</li>\n",
       "\t<li>'pos8'</li>\n",
       "\t<li>'pos9'</li>\n",
       "\t<li>'pos10'</li>\n",
       "\t<li>'pos11'</li>\n",
       "\t<li>'pos12'</li>\n",
       "\t<li>'pos13'</li>\n",
       "\t<li>'pos14'</li>\n",
       "\t<li>'pos15'</li>\n",
       "</ol>\n"
      ],
      "text/latex": [
       "\\begin{enumerate*}\n",
       "\\item 'pos1'\n",
       "\\item 'pos2'\n",
       "\\item 'pos3'\n",
       "\\item 'pos4'\n",
       "\\item 'pos5'\n",
       "\\item 'pos6'\n",
       "\\item 'pos7'\n",
       "\\item 'pos8'\n",
       "\\item 'pos9'\n",
       "\\item 'pos10'\n",
       "\\item 'pos11'\n",
       "\\item 'pos12'\n",
       "\\item 'pos13'\n",
       "\\item 'pos14'\n",
       "\\item 'pos15'\n",
       "\\end{enumerate*}\n"
      ],
      "text/markdown": [
       "1. 'pos1'\n",
       "2. 'pos2'\n",
       "3. 'pos3'\n",
       "4. 'pos4'\n",
       "5. 'pos5'\n",
       "6. 'pos6'\n",
       "7. 'pos7'\n",
       "8. 'pos8'\n",
       "9. 'pos9'\n",
       "10. 'pos10'\n",
       "11. 'pos11'\n",
       "12. 'pos12'\n",
       "13. 'pos13'\n",
       "14. 'pos14'\n",
       "15. 'pos15'\n",
       "\n",
       "\n"
      ],
      "text/plain": [
       " [1] \"pos1\"  \"pos2\"  \"pos3\"  \"pos4\"  \"pos5\"  \"pos6\"  \"pos7\"  \"pos8\"  \"pos9\" \n",
       "[10] \"pos10\" \"pos11\" \"pos12\" \"pos13\" \"pos14\" \"pos15\""
      ]
     },
     "metadata": {},
     "output_type": "display_data"
    }
   ],
   "source": [
    "newdat = read_feather(\"data/toy_pos15_causal8_n1250.feather\")\n",
    "newmatrix = matrix(as.double(unlist(newdat)), dim(newdat)[1], dim(newdat)[2])\n",
    "colnames(newmatrix) = colnames(newdat)\n",
    "# print (dim(newdat)[1])\n",
    "newfit = varbvs(newmatrix[,-1], NULL, newmatrix[,1], family = \"binomial\", \n",
    "                logodds = seq(-3.5,-1,0.1), sa = 1, verbose = F)\n",
    "newfit$summary = summary(newfit)\n",
    "newfit$w = normalizelogweights(newfit$logw)\n",
    "newfit$pip = newfit$alpha %*% c(newfit$w)\n",
    "newfit$beta = newfit$mu %*% c(newfit$w)\n",
    "newfit$var_names = colnames(newdat[-1])\n",
    "print (summary(newfit))\n",
    "dimnames(newfit$pip)[[1]]"
   ]
  },
  {
   "cell_type": "code",
   "execution_count": null,
   "metadata": {
    "collapsed": true,
    "kernel": "R"
   },
   "outputs": [],
   "source": []
  }
 ],
 "metadata": {
  "kernelspec": {
   "display_name": "SoS",
   "language": "sos",
   "name": "sos"
  },
  "language_info": {
   "file_extension": ".sos",
   "mimetype": "text/x-sos",
   "name": "sos",
   "nbconvert_exporter": "sos.jupyter.converter.SoS_Exporter",
   "pygments_lexer": "python"
  },
  "sos": {
   "kernels": [
    [
     "SoS",
     "sos",
     "",
     ""
    ],
    [
     "R",
     "ir",
     "",
     ""
    ]
   ]
  }
 },
 "nbformat": 4,
 "nbformat_minor": 2
}
