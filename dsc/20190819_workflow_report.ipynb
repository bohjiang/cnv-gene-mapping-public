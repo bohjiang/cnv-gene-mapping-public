{
 "cells": [
  {
   "cell_type": "markdown",
   "metadata": {
    "kernel": "SoS"
   },
   "source": [
    "# Simulation, analyze and plots"
   ]
  },
  {
   "cell_type": "markdown",
   "metadata": {
    "kernel": "SoS"
   },
   "source": [
    "## Previous work\n",
    "- Import real SCZ CNV data (deletion/duplication, start and end). There are $3085$ samples for deletion, and $4234$ samples for duplication.\n",
    "- Import real gene data (chr, start and end).  But there are multiple replicates and overlapped exons/alleles as follows, and there is a small chance that the exon names are shared among different chromosomes. All overlapped exons are merged on each chromosome regardless of their names. As a results, there are $23343$ non-overlapping genes/exons in total.\n",
    "\n",
    "        1    11868    14362    LOC102725121\n",
    "        1    11873    14409    DDX11L1\n",
    "        1    14361    29370    WASH7P\n",
    "        1    17368    17436    MIR6859-1\n",
    "        1    30365    30503    MIR1302-2\n",
    "\n",
    "\n",
    "- Obtain X matrix of CNVs's overlaps with genes/exons for deletion and duplication: rows are individuals ($3085$ for deletion) and columns are genes/exons ($23343$ genes). It is a binary matrix: 1 indicates CNV overlaps with the particular gene if CNV exists for this individual, 0 indicates no overlaps or no CNVs."
   ]
  },
  {
   "cell_type": "markdown",
   "metadata": {
    "kernel": "SoS"
   },
   "source": [
    "## Simulation\n",
    "- Step 1: Obtain gene blocks (ignore chromosome boundaries): each gene block contains at least 30 genes/exons. Every separator gene/exon must be not overlapped with CNV events for all individuals. \n",
    "- Step 2: Simulate samples (X matrix) for deletion: sample each block from non-repetitive individuals and merge them together as a simulated individual. Repeat this process for $100,000$ times to collect $100,000$ individuals before simulating phenotype.\n",
    "- Step 3: Simulate phenotype (y matrix): set penetrance/prevalence as $0.05$, prevalence (p) $\\approx \\frac{e^{\\beta_0}}{1-e^{\\beta_0}}$, so $\\beta_0 \\approx \\log \\frac{p}{1-p}$. Odds ratio (OR) follows $e^{Normal Distribution}$ or Gamma distribution, $\\beta_j = \\text{log(OR)}$, then use Bernoulli ($0.05$) to decrease $95$% of $\\beta_j$'s to 0.  simulate y (1 as case and 0 as control). $\\text{logit}(y)=X\\boldsymbol{\\beta}+\\beta_0$, $y=\\frac{e^{x\\boldsymbol{\\beta}+\\beta_0}}{1+e^{x\\boldsymbol{\\beta}+\\beta_0}}$ (probabilities). Then use Bernoulli ($y_i$) to multiply $y_i$ itself to generate 1's and 0's. Then select all 1's (about $6700$) as cases and randomly select equal amount of 0's as controls."
   ]
  },
  {
   "cell_type": "markdown",
   "metadata": {
    "kernel": "SoS"
   },
   "source": [
    "## Histogram\n",
    "- Compare the number of genes/exons in all natural blocks, i.e. remove columns with all 0's and then obtain natual blocks separated by all 0's, for X matrix of both real individuals and simulated samples."
   ]
  },
  {
   "cell_type": "code",
   "execution_count": 2,
   "metadata": {
    "kernel": "SoS"
   },
   "outputs": [
    {
     "data": {
      "text/html": [
       "<div class=\"sos_hint\">> /home/min/GIT/cnv-gene-mapping/data/deletion.genes.block1.histogram.pdf (11.7 KiB):</div>"
      ],
      "text/plain": [
       "\n",
       "> /home/min/GIT/cnv-gene-mapping/data/deletion.genes.block1.histogram.pdf (11.7 KiB):"
      ]
     },
     "metadata": {},
     "output_type": "display_data"
    },
    {
     "data": {
      "image/png": "[encoded data removed]"
     },
     "metadata": {},
     "output_type": "display_data"
    }
   ],
   "source": [
    "%preview /home/min/GIT/cnv-gene-mapping/data/deletion.genes.block1.histogram.pdf -s png --dpi 90"
   ]
  },
  {
   "cell_type": "code",
   "execution_count": 3,
   "metadata": {
    "kernel": "SoS"
   },
   "outputs": [
    {
     "data": {
      "text/html": [
       "<div class=\"sos_hint\">> /home/min/GIT/cnv-gene-mapping/data/deletion_simu/deletion.genes.block30.for_simu.sample.genes.block1.histogram.pdf (11.8 KiB):</div>"
      ],
      "text/plain": [
       "\n",
       "> /home/min/GIT/cnv-gene-mapping/data/deletion_simu/deletion.genes.block30.for_simu.sample.genes.block1.histogram.pdf (11.8 KiB):"
      ]
     },
     "metadata": {},
     "output_type": "display_data"
    },
    {
     "data": {
      "image/png": "[encoded data removed]"
     },
     "metadata": {},
     "output_type": "display_data"
    }
   ],
   "source": [
    "%preview /home/min/GIT/cnv-gene-mapping/data/deletion_simu/deletion.genes.block30.for_simu.sample.genes.block1.histogram.pdf -s png --dpi 90"
   ]
  },
  {
   "cell_type": "markdown",
   "metadata": {
    "kernel": "SoS"
   },
   "source": [
    "## Analyze\n",
    "- SuSiE: use R package `SuSiE`. L=1, pve=0.005, \n",
    "- varbvs: use R package `varbvs`."
   ]
  },
  {
   "cell_type": "markdown",
   "metadata": {
    "kernel": "SoS"
   },
   "source": [
    "### SuSiE and varbvs results comparison for block #505 as an example\n",
    "gene: #20701 to #20708\n",
    "beta: \n",
    "\n",
    "      0.0\n",
    "      0.18675656477875957\n",
    "      0.0\n",
    "      1.7125629940213394\n",
    "      0.0\n",
    "      0.0\n",
    "      0.0\n",
    "      0.4756589144219433\n",
    "\n",
    "- SuSiE pip: all 0.1 for 10 genes/exons\n",
    "        0.00348587459776606\n",
    "        0.00348587459776606\n",
    "        0.76964804479735\n",
    "        0.0706923644116202\n",
    "        0.0706923644116202\n",
    "        0.0706923644116202\n",
    "        0.00565155638612869\n",
    "        0.00565155638612869\n",
    "\n",
    "- varbvs pip: all around 0.132, but slightly different for 10 genes/exons\n",
    "        20701\n",
    "            0.116707586870715\n",
    "        20702\n",
    "            0.116702412585606\n",
    "        20703\n",
    "            0.996644700231258\n",
    "        20704\n",
    "            0.0580887469064442\n",
    "        20705\n",
    "            0.0580847159146005\n",
    "        20706\n",
    "            0.0580815050059259\n",
    "        20707\n",
    "            0.0717545436636593\n",
    "        20708\n",
    "            0.0717504665493366"
   ]
  },
  {
   "cell_type": "markdown",
   "metadata": {
    "kernel": "SoS"
   },
   "source": [
    "## Questions\n",
    "- The distributions that $\\beta_j$'s follow are not comparable with each other. For example, the distribution (ppf) Normal(2.191, 0.268) and Gamma(3, 1) are not close. I use Normal(1, 0.5) to be comparable with Gamma(3, 1)."
   ]
  },
  {
   "cell_type": "code",
   "execution_count": null,
   "metadata": {
    "kernel": "SoS"
   },
   "outputs": [],
   "source": []
  }
 ],
 "metadata": {
  "kernelspec": {
   "display_name": "SoS",
   "language": "sos",
   "name": "sos"
  },
  "language_info": {
   "codemirror_mode": "sos",
   "file_extension": ".sos",
   "mimetype": "text/x-sos",
   "name": "sos",
   "nbconvert_exporter": "sos_notebook.converter.SoS_Exporter",
   "pygments_lexer": "sos"
  },
  "sos": {
   "kernels": [
    [
     "SoS",
     "sos",
     "",
     ""
    ]
   ],
   "version": "0.20.5"
  }
 },
 "nbformat": 4,
 "nbformat_minor": 4
}
