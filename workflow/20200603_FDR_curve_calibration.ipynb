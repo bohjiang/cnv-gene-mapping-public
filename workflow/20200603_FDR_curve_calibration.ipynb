{
 "cells": [
  {
   "cell_type": "markdown",
   "metadata": {
    "kernel": "SoS"
   },
   "source": [
    "# FDR power curve using results from new simulated data"
   ]
  },
  {
   "cell_type": "code",
   "execution_count": 1,
   "metadata": {
    "kernel": "Python3"
   },
   "outputs": [],
   "source": [
    "import pandas as pd, numpy as np\n",
    "import os\n",
    "from collections import Counter\n",
    "cwd = os.path.expanduser(\"/home/min/GIT/cnv-gene-mapping/output\")"
   ]
  },
  {
   "cell_type": "code",
   "execution_count": 2,
   "metadata": {
    "kernel": "Python3"
   },
   "outputs": [],
   "source": [
    "m1 = \"varbvs\"\n",
    "m2 = \"susie\"\n",
    "m3 = \"mcmc\"\n",
    "m4 = \"sier\"\n",
    "m5 = \"hybrid\"\n",
    "m6 = 'fisher'"
   ]
  },
  {
   "cell_type": "markdown",
   "metadata": {
    "kernel": "SoS"
   },
   "source": [
    "**Gene names in varbvs, susie and sier are different from those of mcmc, because R (varbvs, susie, sier) change gene names**"
   ]
  },
  {
   "cell_type": "markdown",
   "metadata": {
    "kernel": "Python3"
   },
   "source": [
    "## Get ROC / PR data"
   ]
  },
  {
   "cell_type": "code",
   "execution_count": 3,
   "metadata": {
    "kernel": "Python3"
   },
   "outputs": [],
   "source": [
    "def get_pip_table(name):\n",
    "    prefix = f\"deletion.X.colnames_b30.{name}.y\"\n",
    "    varbvs = pd.read_csv(f\"{cwd}/{name}/{prefix}.{m1}_pip.gz\", sep = \"\\t\", header = None, usecols = [1], names = [f\"pip_{m1}\"])\n",
    "    susie = pd.read_csv(f\"{cwd}/{name}/{prefix}.{m2}_pip.gz\", sep = \"\\t\", header = None, usecols = [1], names = [f\"pip_{m2}\"])\n",
    "    mcmc = pd.read_csv(f\"{cwd}/{name}/{prefix}.{m3}_pip.gz\", sep = \"\\t\", header = None, names = [\"gene\", f\"pip_{m3}\"])\n",
    "    sier = pd.read_csv(f\"{cwd}/{name}/{prefix}.{m4}_pip.gz\", sep = \"\\t\", header = None, usecols = [1], names = [f\"pip_{m4}\"])\n",
    "    hybrid = pd.read_csv(f\"{cwd}/{name}/{prefix}.{m5}_pip.gz\", sep = \"\\t\", header = None, usecols = [1], names = [f\"pip_{m5}\"])\n",
    "    fisher = pd.read_csv(f\"{cwd}/{name}/{prefix[0:-2]}.X.cleaned.fisher.gz\", sep = \"\\t\", header = 0)\n",
    "    beta_all = np.loadtxt(f\"{cwd}/{name}/{prefix[0:-2]}.beta\")\n",
    "    index = pd.read_csv(f\"{cwd}/{name}/{prefix[0:-2]}.X.block_index_original.csv\", sep = \"\\t\", header = None, names = [\"start\", \"end\"])\n",
    "    betas = list()\n",
    "    for i, item in index.iterrows():\n",
    "        betas.extend(list(beta_all[item[0]:(item[1]+1)]))\n",
    "    pips = pd.concat([mcmc, varbvs, susie, sier, hybrid], axis = 1).merge(fisher[[\"gene\", \"p\"]], on = \"gene\")\n",
    "    pips[\"beta\"] = betas\n",
    "    pips[\"is_signal\"] = pips[\"beta\"].apply(lambda x: 1 if x != 0 else 0)\n",
    "    return pips"
   ]
  },
  {
   "cell_type": "code",
   "execution_count": 4,
   "metadata": {
    "kernel": "Python3"
   },
   "outputs": [],
   "source": [
    "pips1 = get_pip_table(\"simu_dele_30_0528\")\n",
    "pips2 = get_pip_table(\"simu_dele_30_0529\")\n",
    "pips3 = get_pip_table(\"simu_dele_30_0605\")\n",
    "pips4 = get_pip_table(\"simu_dele_30_0606\")"
   ]
  },
  {
   "cell_type": "code",
   "execution_count": 5,
   "metadata": {
    "kernel": "Python3"
   },
   "outputs": [],
   "source": [
    "pips = pd.concat([pips1, pips2, pips3, pips4])"
   ]
  },
  {
   "cell_type": "code",
   "execution_count": 6,
   "metadata": {
    "kernel": "Python3"
   },
   "outputs": [],
   "source": [
    "pips = pips.set_index([[i for i in range(pips.shape[0])]])"
   ]
  },
  {
   "cell_type": "code",
   "execution_count": 7,
   "metadata": {
    "kernel": "Python3"
   },
   "outputs": [
    {
     "data": {
      "text/plain": [
       "(11024, 9)"
      ]
     },
     "execution_count": 7,
     "metadata": {},
     "output_type": "execute_result"
    }
   ],
   "source": [
    "pips.shape"
   ]
  },
  {
   "cell_type": "code",
   "execution_count": 8,
   "metadata": {
    "kernel": "Python3"
   },
   "outputs": [
    {
     "data": {
      "text/html": [
       "<div>\n",
       "<style scoped>\n",
       "    .dataframe tbody tr th:only-of-type {\n",
       "        vertical-align: middle;\n",
       "    }\n",
       "\n",
       "    .dataframe tbody tr th {\n",
       "        vertical-align: top;\n",
       "    }\n",
       "\n",
       "    .dataframe thead th {\n",
       "        text-align: right;\n",
       "    }\n",
       "</style>\n",
       "<table border=\"1\" class=\"dataframe\">\n",
       "  <thead>\n",
       "    <tr style=\"text-align: right;\">\n",
       "      <th></th>\n",
       "      <th>gene</th>\n",
       "      <th>pip_mcmc</th>\n",
       "      <th>pip_varbvs</th>\n",
       "      <th>pip_susie</th>\n",
       "      <th>pip_sier</th>\n",
       "      <th>pip_hybrid</th>\n",
       "      <th>p</th>\n",
       "      <th>beta</th>\n",
       "      <th>is_signal</th>\n",
       "    </tr>\n",
       "  </thead>\n",
       "  <tbody>\n",
       "    <tr>\n",
       "      <th>0</th>\n",
       "      <td>TTLL10</td>\n",
       "      <td>0.001832</td>\n",
       "      <td>0.056501</td>\n",
       "      <td>0.0</td>\n",
       "      <td>0.010635</td>\n",
       "      <td>0.010635</td>\n",
       "      <td>1.0</td>\n",
       "      <td>0.0</td>\n",
       "      <td>0</td>\n",
       "    </tr>\n",
       "    <tr>\n",
       "      <th>1</th>\n",
       "      <td>TNFRSF18</td>\n",
       "      <td>0.001832</td>\n",
       "      <td>0.056500</td>\n",
       "      <td>0.0</td>\n",
       "      <td>0.010635</td>\n",
       "      <td>0.010635</td>\n",
       "      <td>1.0</td>\n",
       "      <td>0.0</td>\n",
       "      <td>0</td>\n",
       "    </tr>\n",
       "    <tr>\n",
       "      <th>2</th>\n",
       "      <td>TNFRSF4</td>\n",
       "      <td>0.001832</td>\n",
       "      <td>0.056499</td>\n",
       "      <td>0.0</td>\n",
       "      <td>0.010635</td>\n",
       "      <td>0.010635</td>\n",
       "      <td>1.0</td>\n",
       "      <td>0.0</td>\n",
       "      <td>0</td>\n",
       "    </tr>\n",
       "    <tr>\n",
       "      <th>3</th>\n",
       "      <td>SDF4</td>\n",
       "      <td>0.001832</td>\n",
       "      <td>0.056499</td>\n",
       "      <td>0.0</td>\n",
       "      <td>0.010635</td>\n",
       "      <td>0.010635</td>\n",
       "      <td>1.0</td>\n",
       "      <td>0.0</td>\n",
       "      <td>0</td>\n",
       "    </tr>\n",
       "    <tr>\n",
       "      <th>4</th>\n",
       "      <td>B3GALT6</td>\n",
       "      <td>0.001832</td>\n",
       "      <td>0.056498</td>\n",
       "      <td>0.0</td>\n",
       "      <td>0.010635</td>\n",
       "      <td>0.010635</td>\n",
       "      <td>1.0</td>\n",
       "      <td>0.0</td>\n",
       "      <td>0</td>\n",
       "    </tr>\n",
       "  </tbody>\n",
       "</table>\n",
       "</div>"
      ],
      "text/plain": [
       "       gene  pip_mcmc  pip_varbvs  pip_susie  pip_sier  pip_hybrid    p  beta  \\\n",
       "0    TTLL10  0.001832    0.056501        0.0  0.010635    0.010635  1.0   0.0   \n",
       "1  TNFRSF18  0.001832    0.056500        0.0  0.010635    0.010635  1.0   0.0   \n",
       "2   TNFRSF4  0.001832    0.056499        0.0  0.010635    0.010635  1.0   0.0   \n",
       "3      SDF4  0.001832    0.056499        0.0  0.010635    0.010635  1.0   0.0   \n",
       "4   B3GALT6  0.001832    0.056498        0.0  0.010635    0.010635  1.0   0.0   \n",
       "\n",
       "   is_signal  \n",
       "0          0  \n",
       "1          0  \n",
       "2          0  \n",
       "3          0  \n",
       "4          0  "
      ]
     },
     "execution_count": 8,
     "metadata": {},
     "output_type": "execute_result"
    }
   ],
   "source": [
    "pips.head()"
   ]
  },
  {
   "cell_type": "code",
   "execution_count": 9,
   "metadata": {
    "kernel": "Python3"
   },
   "outputs": [],
   "source": [
    "pips0 = pips.sort_values(by = [\"pip_sier\"])"
   ]
  },
  {
   "cell_type": "code",
   "execution_count": 52,
   "metadata": {
    "kernel": "Python3"
   },
   "outputs": [
    {
     "data": {
      "text/html": [
       "<div>\n",
       "<style scoped>\n",
       "    .dataframe tbody tr th:only-of-type {\n",
       "        vertical-align: middle;\n",
       "    }\n",
       "\n",
       "    .dataframe tbody tr th {\n",
       "        vertical-align: top;\n",
       "    }\n",
       "\n",
       "    .dataframe thead th {\n",
       "        text-align: right;\n",
       "    }\n",
       "</style>\n",
       "<table border=\"1\" class=\"dataframe\">\n",
       "  <thead>\n",
       "    <tr style=\"text-align: right;\">\n",
       "      <th></th>\n",
       "      <th>gene</th>\n",
       "      <th>pip_mcmc</th>\n",
       "      <th>pip_varbvs</th>\n",
       "      <th>pip_susie</th>\n",
       "      <th>pip_sier</th>\n",
       "      <th>pip_hybrid</th>\n",
       "      <th>p</th>\n",
       "      <th>beta</th>\n",
       "      <th>is_signal</th>\n",
       "    </tr>\n",
       "  </thead>\n",
       "  <tbody>\n",
       "    <tr>\n",
       "      <th>185</th>\n",
       "      <td>GPR52</td>\n",
       "      <td>0.65030</td>\n",
       "      <td>0.833652</td>\n",
       "      <td>0.360198</td>\n",
       "      <td>0.711025</td>\n",
       "      <td>0.711025</td>\n",
       "      <td>0.004171</td>\n",
       "      <td>1.228242</td>\n",
       "      <td>1</td>\n",
       "    </tr>\n",
       "    <tr>\n",
       "      <th>650</th>\n",
       "      <td>DGKG</td>\n",
       "      <td>0.64770</td>\n",
       "      <td>0.812681</td>\n",
       "      <td>0.256320</td>\n",
       "      <td>0.740832</td>\n",
       "      <td>0.740832</td>\n",
       "      <td>0.011704</td>\n",
       "      <td>0.000000</td>\n",
       "      <td>0</td>\n",
       "    </tr>\n",
       "    <tr>\n",
       "      <th>6123</th>\n",
       "      <td>LSAMP</td>\n",
       "      <td>0.66428</td>\n",
       "      <td>0.901517</td>\n",
       "      <td>0.397263</td>\n",
       "      <td>0.749964</td>\n",
       "      <td>0.749964</td>\n",
       "      <td>0.002484</td>\n",
       "      <td>0.000000</td>\n",
       "      <td>0</td>\n",
       "    </tr>\n",
       "  </tbody>\n",
       "</table>\n",
       "</div>"
      ],
      "text/plain": [
       "       gene  pip_mcmc  pip_varbvs  pip_susie  pip_sier  pip_hybrid         p  \\\n",
       "185   GPR52   0.65030    0.833652   0.360198  0.711025    0.711025  0.004171   \n",
       "650    DGKG   0.64770    0.812681   0.256320  0.740832    0.740832  0.011704   \n",
       "6123  LSAMP   0.66428    0.901517   0.397263  0.749964    0.749964  0.002484   \n",
       "\n",
       "          beta  is_signal  \n",
       "185   1.228242          1  \n",
       "650   0.000000          0  \n",
       "6123  0.000000          0  "
      ]
     },
     "execution_count": 52,
     "metadata": {},
     "output_type": "execute_result"
    }
   ],
   "source": [
    "pips0[(pips0[\"pip_sier\"] <= 0.75) & (pips0[\"pip_sier\"] > 0.70)]"
   ]
  },
  {
   "cell_type": "code",
   "execution_count": 53,
   "metadata": {
    "kernel": "Python3"
   },
   "outputs": [
    {
     "data": {
      "text/html": [
       "<div>\n",
       "<style scoped>\n",
       "    .dataframe tbody tr th:only-of-type {\n",
       "        vertical-align: middle;\n",
       "    }\n",
       "\n",
       "    .dataframe tbody tr th {\n",
       "        vertical-align: top;\n",
       "    }\n",
       "\n",
       "    .dataframe thead th {\n",
       "        text-align: right;\n",
       "    }\n",
       "</style>\n",
       "<table border=\"1\" class=\"dataframe\">\n",
       "  <thead>\n",
       "    <tr style=\"text-align: right;\">\n",
       "      <th></th>\n",
       "      <th>gene</th>\n",
       "      <th>pip_mcmc</th>\n",
       "      <th>pip_varbvs</th>\n",
       "      <th>pip_susie</th>\n",
       "      <th>pip_sier</th>\n",
       "      <th>pip_hybrid</th>\n",
       "      <th>p</th>\n",
       "      <th>beta</th>\n",
       "      <th>is_signal</th>\n",
       "    </tr>\n",
       "  </thead>\n",
       "  <tbody>\n",
       "    <tr>\n",
       "      <th>611</th>\n",
       "      <td>LSAMP</td>\n",
       "      <td>0.66428</td>\n",
       "      <td>0.901517</td>\n",
       "      <td>0.397263</td>\n",
       "      <td>0.749964</td>\n",
       "      <td>0.749964</td>\n",
       "      <td>0.002484</td>\n",
       "      <td>0.0</td>\n",
       "      <td>0</td>\n",
       "    </tr>\n",
       "  </tbody>\n",
       "</table>\n",
       "</div>"
      ],
      "text/plain": [
       "      gene  pip_mcmc  pip_varbvs  pip_susie  pip_sier  pip_hybrid         p  \\\n",
       "611  LSAMP   0.66428    0.901517   0.397263  0.749964    0.749964  0.002484   \n",
       "\n",
       "     beta  is_signal  \n",
       "611   0.0          0  "
      ]
     },
     "execution_count": 53,
     "metadata": {},
     "output_type": "execute_result"
    }
   ],
   "source": [
    "pips3[(pips3[\"pip_sier\"] <= 0.75) & (pips3[\"pip_sier\"] > 0.70)]"
   ]
  },
  {
   "cell_type": "markdown",
   "metadata": {
    "kernel": "Python3"
   },
   "source": [
    "Original 0528."
   ]
  },
  {
   "cell_type": "code",
   "execution_count": 45,
   "metadata": {
    "kernel": "Python3"
   },
   "outputs": [],
   "source": [
    "pips1_ori = get_pip_table(\"simu_dele_30_0528\")"
   ]
  },
  {
   "cell_type": "code",
   "execution_count": 46,
   "metadata": {
    "kernel": "Python3"
   },
   "outputs": [
    {
     "data": {
      "text/html": [
       "<div>\n",
       "<style scoped>\n",
       "    .dataframe tbody tr th:only-of-type {\n",
       "        vertical-align: middle;\n",
       "    }\n",
       "\n",
       "    .dataframe tbody tr th {\n",
       "        vertical-align: top;\n",
       "    }\n",
       "\n",
       "    .dataframe thead th {\n",
       "        text-align: right;\n",
       "    }\n",
       "</style>\n",
       "<table border=\"1\" class=\"dataframe\">\n",
       "  <thead>\n",
       "    <tr style=\"text-align: right;\">\n",
       "      <th></th>\n",
       "      <th>gene</th>\n",
       "      <th>pip_mcmc</th>\n",
       "      <th>pip_varbvs</th>\n",
       "      <th>pip_susie</th>\n",
       "      <th>pip_sier</th>\n",
       "      <th>pip_hybrid</th>\n",
       "      <th>p</th>\n",
       "      <th>beta</th>\n",
       "      <th>is_signal</th>\n",
       "    </tr>\n",
       "  </thead>\n",
       "  <tbody>\n",
       "    <tr>\n",
       "      <th>416</th>\n",
       "      <td>LINC01941</td>\n",
       "      <td>0.35730</td>\n",
       "      <td>0.657278</td>\n",
       "      <td>0.000000</td>\n",
       "      <td>0.604935</td>\n",
       "      <td>0.604935</td>\n",
       "      <td>0.026549</td>\n",
       "      <td>0.0</td>\n",
       "      <td>0</td>\n",
       "    </tr>\n",
       "    <tr>\n",
       "      <th>1942</th>\n",
       "      <td>LINC02207</td>\n",
       "      <td>0.52666</td>\n",
       "      <td>0.721483</td>\n",
       "      <td>0.177924</td>\n",
       "      <td>0.635114</td>\n",
       "      <td>0.635114</td>\n",
       "      <td>0.021463</td>\n",
       "      <td>0.0</td>\n",
       "      <td>0</td>\n",
       "    </tr>\n",
       "  </tbody>\n",
       "</table>\n",
       "</div>"
      ],
      "text/plain": [
       "           gene  pip_mcmc  pip_varbvs  pip_susie  pip_sier  pip_hybrid  \\\n",
       "416   LINC01941   0.35730    0.657278   0.000000  0.604935    0.604935   \n",
       "1942  LINC02207   0.52666    0.721483   0.177924  0.635114    0.635114   \n",
       "\n",
       "             p  beta  is_signal  \n",
       "416   0.026549   0.0          0  \n",
       "1942  0.021463   0.0          0  "
      ]
     },
     "execution_count": 46,
     "metadata": {},
     "output_type": "execute_result"
    }
   ],
   "source": [
    "pips1_ori[(pips1_ori[\"pip_sier\"] <= 0.65) & (pips1_ori[\"pip_sier\"] > 0.60)]"
   ]
  },
  {
   "cell_type": "code",
   "execution_count": null,
   "metadata": {
    "kernel": "Python3"
   },
   "outputs": [],
   "source": []
  },
  {
   "cell_type": "code",
   "execution_count": null,
   "metadata": {
    "kernel": "Python3"
   },
   "outputs": [],
   "source": []
  },
  {
   "cell_type": "code",
   "execution_count": null,
   "metadata": {
    "kernel": "Python3"
   },
   "outputs": [],
   "source": []
  },
  {
   "cell_type": "code",
   "execution_count": 11,
   "metadata": {
    "kernel": "Python3"
   },
   "outputs": [],
   "source": [
    "pips['pip_fisher'] = 1 - pips['p']"
   ]
  },
  {
   "cell_type": "code",
   "execution_count": 12,
   "metadata": {
    "kernel": "Python3"
   },
   "outputs": [
    {
     "data": {
      "text/html": [
       "<div>\n",
       "<style scoped>\n",
       "    .dataframe tbody tr th:only-of-type {\n",
       "        vertical-align: middle;\n",
       "    }\n",
       "\n",
       "    .dataframe tbody tr th {\n",
       "        vertical-align: top;\n",
       "    }\n",
       "\n",
       "    .dataframe thead th {\n",
       "        text-align: right;\n",
       "    }\n",
       "</style>\n",
       "<table border=\"1\" class=\"dataframe\">\n",
       "  <thead>\n",
       "    <tr style=\"text-align: right;\">\n",
       "      <th></th>\n",
       "      <th>gene</th>\n",
       "      <th>pip_mcmc</th>\n",
       "      <th>pip_varbvs</th>\n",
       "      <th>pip_susie</th>\n",
       "      <th>pip_sier</th>\n",
       "      <th>pip_hybrid</th>\n",
       "      <th>p</th>\n",
       "      <th>beta</th>\n",
       "      <th>is_signal</th>\n",
       "      <th>pip_fisher</th>\n",
       "    </tr>\n",
       "  </thead>\n",
       "  <tbody>\n",
       "    <tr>\n",
       "      <th>11019</th>\n",
       "      <td>SSTR3</td>\n",
       "      <td>0.003502</td>\n",
       "      <td>0.058353</td>\n",
       "      <td>0.0</td>\n",
       "      <td>0.025688</td>\n",
       "      <td>0.025688</td>\n",
       "      <td>0.54876</td>\n",
       "      <td>0.000000</td>\n",
       "      <td>0</td>\n",
       "      <td>0.45124</td>\n",
       "    </tr>\n",
       "    <tr>\n",
       "      <th>11020</th>\n",
       "      <td>RAC2</td>\n",
       "      <td>0.003502</td>\n",
       "      <td>0.058352</td>\n",
       "      <td>0.0</td>\n",
       "      <td>0.025688</td>\n",
       "      <td>0.025688</td>\n",
       "      <td>0.54876</td>\n",
       "      <td>0.000000</td>\n",
       "      <td>0</td>\n",
       "      <td>0.45124</td>\n",
       "    </tr>\n",
       "    <tr>\n",
       "      <th>11021</th>\n",
       "      <td>CYTH4</td>\n",
       "      <td>0.003502</td>\n",
       "      <td>0.058350</td>\n",
       "      <td>0.0</td>\n",
       "      <td>0.025688</td>\n",
       "      <td>0.025688</td>\n",
       "      <td>0.54876</td>\n",
       "      <td>0.000000</td>\n",
       "      <td>0</td>\n",
       "      <td>0.45124</td>\n",
       "    </tr>\n",
       "    <tr>\n",
       "      <th>11022</th>\n",
       "      <td>ELFN2</td>\n",
       "      <td>0.003502</td>\n",
       "      <td>0.058349</td>\n",
       "      <td>0.0</td>\n",
       "      <td>0.025688</td>\n",
       "      <td>0.025688</td>\n",
       "      <td>0.54876</td>\n",
       "      <td>1.006945</td>\n",
       "      <td>1</td>\n",
       "      <td>0.45124</td>\n",
       "    </tr>\n",
       "    <tr>\n",
       "      <th>11023</th>\n",
       "      <td>LOC100506271</td>\n",
       "      <td>0.003502</td>\n",
       "      <td>0.058347</td>\n",
       "      <td>0.0</td>\n",
       "      <td>0.025688</td>\n",
       "      <td>0.025688</td>\n",
       "      <td>0.54876</td>\n",
       "      <td>0.000000</td>\n",
       "      <td>0</td>\n",
       "      <td>0.45124</td>\n",
       "    </tr>\n",
       "  </tbody>\n",
       "</table>\n",
       "</div>"
      ],
      "text/plain": [
       "               gene  pip_mcmc  pip_varbvs  pip_susie  pip_sier  pip_hybrid  \\\n",
       "11019         SSTR3  0.003502    0.058353        0.0  0.025688    0.025688   \n",
       "11020          RAC2  0.003502    0.058352        0.0  0.025688    0.025688   \n",
       "11021         CYTH4  0.003502    0.058350        0.0  0.025688    0.025688   \n",
       "11022         ELFN2  0.003502    0.058349        0.0  0.025688    0.025688   \n",
       "11023  LOC100506271  0.003502    0.058347        0.0  0.025688    0.025688   \n",
       "\n",
       "             p      beta  is_signal  pip_fisher  \n",
       "11019  0.54876  0.000000          0     0.45124  \n",
       "11020  0.54876  0.000000          0     0.45124  \n",
       "11021  0.54876  0.000000          0     0.45124  \n",
       "11022  0.54876  1.006945          1     0.45124  \n",
       "11023  0.54876  0.000000          0     0.45124  "
      ]
     },
     "execution_count": 12,
     "metadata": {},
     "output_type": "execute_result"
    }
   ],
   "source": [
    "pips.tail()"
   ]
  },
  {
   "cell_type": "code",
   "execution_count": 13,
   "metadata": {
    "kernel": "R"
   },
   "outputs": [],
   "source": [
    "roc_data = function(dat, cols, cutoff = c(0.05, 0.999), connect_org = TRUE, grid = 100) {\n",
    "    d1 = dat[,cols]\n",
    "    if (connect_org) start = 0\n",
    "    else start = 1\n",
    "    ttv = (start:grid)/grid\n",
    "    ttv = ttv[which(ttv>=cutoff[1] & ttv<=cutoff[2])]\n",
    "    rst1 = t(sapply(ttv, function(x) c(sum(d1[,2][d1[,1]>=x]), length(d1[,2][d1[,1]>=x]), sum(d1[,2][d1[,1]>=x]==0))))\n",
    "    rst1 = cbind(rst1, sum(d1[,2]), sum(1-d1[,2]))\n",
    "    rst1 = as.data.frame(rst1)\n",
    "    colnames(rst1) = c('true_positive', 'total_positive', 'false_positive', 'total_signal', 'total_null')\n",
    "    rst2 = as.data.frame(cbind(rst1$true_positive / rst1$total_positive, rst1$true_positive / rst1$total_signal,  ttv))\n",
    "    rst3 = as.data.frame(cbind(1 - rst1$false_positive / rst1$total_null, rst1$true_positive / rst1$total_signal,  ttv))\n",
    "    if (connect_org) {\n",
    "        # make a stair to origin\n",
    "        rst2 = rbind(rst2, c(max(1 - cutoff[1], rst2[nrow(rst2),1]), max(rst2[nrow(rst2),2]-0.01, 0), rst2[nrow(rst2),3]))\n",
    "        rst2 = rbind(rst2, c(1, 0, 1))\n",
    "        rst3 = rbind(rst3, c(1, 0, 1))\n",
    "    }\n",
    "    colnames(rst2) = c('Precision', 'Recall', 'Threshold')\n",
    "    colnames(rst3) = c('TN', 'TP', 'Threshold')\n",
    "    return(list(counts = rst1, pr = rst2, roc = rst3))\n",
    "}"
   ]
  },
  {
   "cell_type": "code",
   "execution_count": 14,
   "metadata": {
    "kernel": "R"
   },
   "outputs": [],
   "source": [
    "%get pips m1 m2 m3 m4 m5 m6 --from Python3"
   ]
  },
  {
   "cell_type": "code",
   "execution_count": 15,
   "metadata": {
    "kernel": "R"
   },
   "outputs": [],
   "source": [
    "res = list()\n",
    "for (m in c(m1,m2,m3,m4,m5,m6)) res[[m]] = roc_data(pips, c(paste0('pip_',m), 'is_signal'), cutoff = c(0, 1), connect_org = T, grid=200)"
   ]
  },
  {
   "cell_type": "code",
   "execution_count": 16,
   "metadata": {
    "kernel": "Python3"
   },
   "outputs": [],
   "source": [
    "%get res --from R"
   ]
  },
  {
   "cell_type": "markdown",
   "metadata": {
    "kernel": "Python3"
   },
   "source": [
    "## Plot ROC"
   ]
  },
  {
   "cell_type": "code",
   "execution_count": 17,
   "metadata": {
    "kernel": "Python3"
   },
   "outputs": [],
   "source": [
    "import matplotlib.pyplot as plt\n",
    "import matplotlib.font_manager as font_manager\n",
    "font_prop = font_manager.FontProperties(size=24)"
   ]
  },
  {
   "cell_type": "code",
   "execution_count": 18,
   "metadata": {
    "kernel": "Python3"
   },
   "outputs": [
    {
     "data": {
      "image/png": "[encoded data removed]",
      "text/plain": [
       "<Figure size 720x720 with 1 Axes>"
      ]
     },
     "metadata": {
      "needs_background": "light"
     },
     "output_type": "display_data"
    }
   ],
   "source": [
    "fig, ax = plt.subplots(figsize = (10, 10))\n",
    "for m, c in zip([m1,m2,m3,m4,m5,m6], ['C0','C8','C3','C4','C2','C7']):\n",
    "    plt.plot(1 - res[m]['roc']['TN'], res[m]['roc']['TP'], c = c, label = m)\n",
    "plt.legend(loc = 'lower right', fontsize = 15)\n",
    "plt.ylabel(\"Power\", fontproperties=font_prop)\n",
    "plt.xlabel(\"False positive\", fontproperties=font_prop)\n",
    "plt.title('ROC curve', fontproperties=font_prop)\n",
    "plt.savefig(f\"{cwd}/ROC_4simu_0611.pdf\")\n",
    "plt.show()"
   ]
  },
  {
   "cell_type": "markdown",
   "metadata": {
    "kernel": "Python3"
   },
   "source": [
    "## Plot PR"
   ]
  },
  {
   "cell_type": "code",
   "execution_count": 19,
   "metadata": {
    "kernel": "Python3"
   },
   "outputs": [
    {
     "data": {
      "image/png": "[encoded data removed]",
      "text/plain": [
       "<Figure size 720x720 with 1 Axes>"
      ]
     },
     "metadata": {
      "needs_background": "light"
     },
     "output_type": "display_data"
    }
   ],
   "source": [
    "fig, ax = plt.subplots(figsize = (10, 10))\n",
    "for m, c in zip([m1,m2,m3,m4,m5,m6], ['C0','C8','C3','C4','C2','C7']):\n",
    "    plt.plot(1 - res[m]['pr']['Precision'], res[m]['pr']['Recall'], c = c, label = m)\n",
    "plt.legend(loc = 'lower right', fontsize = 15)\n",
    "plt.ylabel(\"Power\", fontproperties=font_prop)\n",
    "plt.xlabel(\"FDR\", fontproperties=font_prop)\n",
    "plt.savefig(f\"{cwd}/FDR_power_4simu_0611.pdf\")\n",
    "plt.show()"
   ]
  },
  {
   "cell_type": "markdown",
   "metadata": {
    "kernel": "Python3"
   },
   "source": [
    "## 1st version FDR, actually ROC"
   ]
  },
  {
   "cell_type": "code",
   "execution_count": 16,
   "metadata": {
    "kernel": "Python3"
   },
   "outputs": [],
   "source": [
    "cutoffs = [0.025*i for i in range(0,41)]"
   ]
  },
  {
   "cell_type": "code",
   "execution_count": 17,
   "metadata": {
    "kernel": "Python3"
   },
   "outputs": [],
   "source": [
    "n1 = pips.shape[0]\n",
    "n2 = sum(pips[\"is_signal\"])"
   ]
  },
  {
   "cell_type": "code",
   "execution_count": 18,
   "metadata": {
    "kernel": "Python3"
   },
   "outputs": [
    {
     "data": {
      "text/plain": [
       "(5512, 272)"
      ]
     },
     "execution_count": 18,
     "metadata": {},
     "output_type": "execute_result"
    }
   ],
   "source": [
    "n1, n2"
   ]
  },
  {
   "cell_type": "code",
   "execution_count": 19,
   "metadata": {
    "kernel": "Python3"
   },
   "outputs": [],
   "source": [
    "res2 = pd.DataFrame({\"cutoff\": cutoffs})"
   ]
  },
  {
   "cell_type": "code",
   "execution_count": 20,
   "metadata": {
    "kernel": "Python3"
   },
   "outputs": [],
   "source": [
    "for x in [f\"pip_{m1}\", f\"pip_{m2}\", f\"pip_{m3}\", f\"pip_{m4}\", f\"pip_{m5}\", \"p\"]:\n",
    "    res2[f\"{x}_FDR\"] = [sum(pips[x]>=i)/n1 for i in cutoffs]\n",
    "    res2[f\"{x}_power\"] = [pips[(pips[x]>=i) & (pips[\"is_signal\"] == 1)].shape[0]/n2 for i in cutoffs]"
   ]
  },
  {
   "cell_type": "code",
   "execution_count": 21,
   "metadata": {
    "kernel": "Python3"
   },
   "outputs": [
    {
     "data": {
      "text/html": [
       "<div>\n",
       "<style scoped>\n",
       "    .dataframe tbody tr th:only-of-type {\n",
       "        vertical-align: middle;\n",
       "    }\n",
       "\n",
       "    .dataframe tbody tr th {\n",
       "        vertical-align: top;\n",
       "    }\n",
       "\n",
       "    .dataframe thead th {\n",
       "        text-align: right;\n",
       "    }\n",
       "</style>\n",
       "<table border=\"1\" class=\"dataframe\">\n",
       "  <thead>\n",
       "    <tr style=\"text-align: right;\">\n",
       "      <th></th>\n",
       "      <th>cutoff</th>\n",
       "      <th>pip_varbvs_FDR</th>\n",
       "      <th>pip_varbvs_power</th>\n",
       "      <th>pip_susie_FDR</th>\n",
       "      <th>pip_susie_power</th>\n",
       "      <th>pip_mcmc_FDR</th>\n",
       "      <th>pip_mcmc_power</th>\n",
       "      <th>pip_sier_FDR</th>\n",
       "      <th>pip_sier_power</th>\n",
       "      <th>pip_hybrid_FDR</th>\n",
       "      <th>pip_hybrid_power</th>\n",
       "      <th>p_FDR</th>\n",
       "      <th>p_power</th>\n",
       "    </tr>\n",
       "  </thead>\n",
       "  <tbody>\n",
       "    <tr>\n",
       "      <th>0</th>\n",
       "      <td>0.000</td>\n",
       "      <td>1.000000</td>\n",
       "      <td>1.000000</td>\n",
       "      <td>1.000000</td>\n",
       "      <td>1.000000</td>\n",
       "      <td>1.000000</td>\n",
       "      <td>1.000000</td>\n",
       "      <td>1.000000</td>\n",
       "      <td>1.000000</td>\n",
       "      <td>1.000000</td>\n",
       "      <td>1.000000</td>\n",
       "      <td>1.000000</td>\n",
       "      <td>1.000000</td>\n",
       "    </tr>\n",
       "    <tr>\n",
       "      <th>1</th>\n",
       "      <td>0.025</td>\n",
       "      <td>0.761430</td>\n",
       "      <td>0.750000</td>\n",
       "      <td>0.216800</td>\n",
       "      <td>0.639706</td>\n",
       "      <td>0.278483</td>\n",
       "      <td>0.757353</td>\n",
       "      <td>0.359579</td>\n",
       "      <td>0.742647</td>\n",
       "      <td>0.373549</td>\n",
       "      <td>0.816176</td>\n",
       "      <td>0.679608</td>\n",
       "      <td>0.268382</td>\n",
       "    </tr>\n",
       "    <tr>\n",
       "      <th>2</th>\n",
       "      <td>0.050</td>\n",
       "      <td>0.541183</td>\n",
       "      <td>0.617647</td>\n",
       "      <td>0.146226</td>\n",
       "      <td>0.551471</td>\n",
       "      <td>0.163099</td>\n",
       "      <td>0.632353</td>\n",
       "      <td>0.168541</td>\n",
       "      <td>0.584559</td>\n",
       "      <td>0.189405</td>\n",
       "      <td>0.661765</td>\n",
       "      <td>0.646589</td>\n",
       "      <td>0.216912</td>\n",
       "    </tr>\n",
       "    <tr>\n",
       "      <th>3</th>\n",
       "      <td>0.075</td>\n",
       "      <td>0.384253</td>\n",
       "      <td>0.507353</td>\n",
       "      <td>0.098694</td>\n",
       "      <td>0.470588</td>\n",
       "      <td>0.113570</td>\n",
       "      <td>0.529412</td>\n",
       "      <td>0.109761</td>\n",
       "      <td>0.500000</td>\n",
       "      <td>0.121009</td>\n",
       "      <td>0.547794</td>\n",
       "      <td>0.622279</td>\n",
       "      <td>0.194853</td>\n",
       "    </tr>\n",
       "    <tr>\n",
       "      <th>4</th>\n",
       "      <td>0.100</td>\n",
       "      <td>0.271045</td>\n",
       "      <td>0.426471</td>\n",
       "      <td>0.066945</td>\n",
       "      <td>0.386029</td>\n",
       "      <td>0.078556</td>\n",
       "      <td>0.452206</td>\n",
       "      <td>0.075472</td>\n",
       "      <td>0.441176</td>\n",
       "      <td>0.083273</td>\n",
       "      <td>0.481618</td>\n",
       "      <td>0.602141</td>\n",
       "      <td>0.169118</td>\n",
       "    </tr>\n",
       "  </tbody>\n",
       "</table>\n",
       "</div>"
      ],
      "text/plain": [
       "   cutoff  pip_varbvs_FDR  pip_varbvs_power  pip_susie_FDR  pip_susie_power  \\\n",
       "0   0.000        1.000000          1.000000       1.000000         1.000000   \n",
       "1   0.025        0.761430          0.750000       0.216800         0.639706   \n",
       "2   0.050        0.541183          0.617647       0.146226         0.551471   \n",
       "3   0.075        0.384253          0.507353       0.098694         0.470588   \n",
       "4   0.100        0.271045          0.426471       0.066945         0.386029   \n",
       "\n",
       "   pip_mcmc_FDR  pip_mcmc_power  pip_sier_FDR  pip_sier_power  pip_hybrid_FDR  \\\n",
       "0      1.000000        1.000000      1.000000        1.000000        1.000000   \n",
       "1      0.278483        0.757353      0.359579        0.742647        0.373549   \n",
       "2      0.163099        0.632353      0.168541        0.584559        0.189405   \n",
       "3      0.113570        0.529412      0.109761        0.500000        0.121009   \n",
       "4      0.078556        0.452206      0.075472        0.441176        0.083273   \n",
       "\n",
       "   pip_hybrid_power     p_FDR   p_power  \n",
       "0          1.000000  1.000000  1.000000  \n",
       "1          0.816176  0.679608  0.268382  \n",
       "2          0.661765  0.646589  0.216912  \n",
       "3          0.547794  0.622279  0.194853  \n",
       "4          0.481618  0.602141  0.169118  "
      ]
     },
     "execution_count": 21,
     "metadata": {},
     "output_type": "execute_result"
    }
   ],
   "source": [
    "res2.head()"
   ]
  },
  {
   "cell_type": "code",
   "execution_count": 22,
   "metadata": {
    "kernel": "Python3"
   },
   "outputs": [
    {
     "data": {
      "text/html": [
       "<div>\n",
       "<style scoped>\n",
       "    .dataframe tbody tr th:only-of-type {\n",
       "        vertical-align: middle;\n",
       "    }\n",
       "\n",
       "    .dataframe tbody tr th {\n",
       "        vertical-align: top;\n",
       "    }\n",
       "\n",
       "    .dataframe thead th {\n",
       "        text-align: right;\n",
       "    }\n",
       "</style>\n",
       "<table border=\"1\" class=\"dataframe\">\n",
       "  <thead>\n",
       "    <tr style=\"text-align: right;\">\n",
       "      <th></th>\n",
       "      <th>cutoff</th>\n",
       "      <th>pip_varbvs_FDR</th>\n",
       "      <th>pip_varbvs_power</th>\n",
       "      <th>pip_susie_FDR</th>\n",
       "      <th>pip_susie_power</th>\n",
       "      <th>pip_mcmc_FDR</th>\n",
       "      <th>pip_mcmc_power</th>\n",
       "      <th>pip_sier_FDR</th>\n",
       "      <th>pip_sier_power</th>\n",
       "      <th>pip_hybrid_FDR</th>\n",
       "      <th>pip_hybrid_power</th>\n",
       "      <th>p_FDR</th>\n",
       "      <th>p_power</th>\n",
       "    </tr>\n",
       "  </thead>\n",
       "  <tbody>\n",
       "    <tr>\n",
       "      <th>36</th>\n",
       "      <td>0.900</td>\n",
       "      <td>0.021952</td>\n",
       "      <td>0.172794</td>\n",
       "      <td>0.004354</td>\n",
       "      <td>0.062500</td>\n",
       "      <td>0.005443</td>\n",
       "      <td>0.084559</td>\n",
       "      <td>0.005624</td>\n",
       "      <td>0.091912</td>\n",
       "      <td>0.005987</td>\n",
       "      <td>0.099265</td>\n",
       "      <td>0.186321</td>\n",
       "      <td>0.040441</td>\n",
       "    </tr>\n",
       "    <tr>\n",
       "      <th>37</th>\n",
       "      <td>0.925</td>\n",
       "      <td>0.021589</td>\n",
       "      <td>0.165441</td>\n",
       "      <td>0.004173</td>\n",
       "      <td>0.058824</td>\n",
       "      <td>0.005443</td>\n",
       "      <td>0.084559</td>\n",
       "      <td>0.005261</td>\n",
       "      <td>0.084559</td>\n",
       "      <td>0.005624</td>\n",
       "      <td>0.091912</td>\n",
       "      <td>0.183781</td>\n",
       "      <td>0.040441</td>\n",
       "    </tr>\n",
       "    <tr>\n",
       "      <th>38</th>\n",
       "      <td>0.950</td>\n",
       "      <td>0.020864</td>\n",
       "      <td>0.154412</td>\n",
       "      <td>0.003810</td>\n",
       "      <td>0.055147</td>\n",
       "      <td>0.005443</td>\n",
       "      <td>0.084559</td>\n",
       "      <td>0.005080</td>\n",
       "      <td>0.080882</td>\n",
       "      <td>0.005624</td>\n",
       "      <td>0.091912</td>\n",
       "      <td>0.182511</td>\n",
       "      <td>0.040441</td>\n",
       "    </tr>\n",
       "    <tr>\n",
       "      <th>39</th>\n",
       "      <td>0.975</td>\n",
       "      <td>0.019775</td>\n",
       "      <td>0.147059</td>\n",
       "      <td>0.003266</td>\n",
       "      <td>0.044118</td>\n",
       "      <td>0.004717</td>\n",
       "      <td>0.073529</td>\n",
       "      <td>0.004717</td>\n",
       "      <td>0.077206</td>\n",
       "      <td>0.005261</td>\n",
       "      <td>0.088235</td>\n",
       "      <td>0.182148</td>\n",
       "      <td>0.040441</td>\n",
       "    </tr>\n",
       "    <tr>\n",
       "      <th>40</th>\n",
       "      <td>1.000</td>\n",
       "      <td>0.006168</td>\n",
       "      <td>0.040441</td>\n",
       "      <td>0.000363</td>\n",
       "      <td>0.003676</td>\n",
       "      <td>0.001270</td>\n",
       "      <td>0.018382</td>\n",
       "      <td>0.000000</td>\n",
       "      <td>0.000000</td>\n",
       "      <td>0.000907</td>\n",
       "      <td>0.014706</td>\n",
       "      <td>0.182148</td>\n",
       "      <td>0.040441</td>\n",
       "    </tr>\n",
       "  </tbody>\n",
       "</table>\n",
       "</div>"
      ],
      "text/plain": [
       "    cutoff  pip_varbvs_FDR  pip_varbvs_power  pip_susie_FDR  pip_susie_power  \\\n",
       "36   0.900        0.021952          0.172794       0.004354         0.062500   \n",
       "37   0.925        0.021589          0.165441       0.004173         0.058824   \n",
       "38   0.950        0.020864          0.154412       0.003810         0.055147   \n",
       "39   0.975        0.019775          0.147059       0.003266         0.044118   \n",
       "40   1.000        0.006168          0.040441       0.000363         0.003676   \n",
       "\n",
       "    pip_mcmc_FDR  pip_mcmc_power  pip_sier_FDR  pip_sier_power  \\\n",
       "36      0.005443        0.084559      0.005624        0.091912   \n",
       "37      0.005443        0.084559      0.005261        0.084559   \n",
       "38      0.005443        0.084559      0.005080        0.080882   \n",
       "39      0.004717        0.073529      0.004717        0.077206   \n",
       "40      0.001270        0.018382      0.000000        0.000000   \n",
       "\n",
       "    pip_hybrid_FDR  pip_hybrid_power     p_FDR   p_power  \n",
       "36        0.005987          0.099265  0.186321  0.040441  \n",
       "37        0.005624          0.091912  0.183781  0.040441  \n",
       "38        0.005624          0.091912  0.182511  0.040441  \n",
       "39        0.005261          0.088235  0.182148  0.040441  \n",
       "40        0.000907          0.014706  0.182148  0.040441  "
      ]
     },
     "execution_count": 22,
     "metadata": {},
     "output_type": "execute_result"
    }
   ],
   "source": [
    "res2.tail()"
   ]
  },
  {
   "cell_type": "code",
   "execution_count": 15,
   "metadata": {
    "kernel": "Python3"
   },
   "outputs": [
    {
     "data": {
      "text/html": [
       "<div class=\"sos_logging sos_info\">INFO: NumExpr defaulting to 8 threads.</div>"
      ]
     },
     "metadata": {},
     "output_type": "display_data"
    },
    {
     "data": {
      "image/png": "[encoded data removed]",
      "text/plain": [
       "<Figure size 720x720 with 1 Axes>"
      ]
     },
     "metadata": {
      "needs_background": "light"
     },
     "output_type": "display_data"
    }
   ],
   "source": []
  },
  {
   "cell_type": "markdown",
   "metadata": {
    "kernel": "Python3"
   },
   "source": [
    "## PIP calibration"
   ]
  },
  {
   "cell_type": "code",
   "execution_count": 20,
   "metadata": {
    "kernel": "Python3"
   },
   "outputs": [],
   "source": [
    "calib = pips[[f\"pip_{m1}\", f\"pip_{m2}\", f\"pip_{m3}\", f\"pip_{m4}\", f\"pip_{m5}\", \"is_signal\"]]"
   ]
  },
  {
   "cell_type": "code",
   "execution_count": 21,
   "metadata": {
    "kernel": "Python3"
   },
   "outputs": [
    {
     "data": {
      "text/html": [
       "<div>\n",
       "<style scoped>\n",
       "    .dataframe tbody tr th:only-of-type {\n",
       "        vertical-align: middle;\n",
       "    }\n",
       "\n",
       "    .dataframe tbody tr th {\n",
       "        vertical-align: top;\n",
       "    }\n",
       "\n",
       "    .dataframe thead th {\n",
       "        text-align: right;\n",
       "    }\n",
       "</style>\n",
       "<table border=\"1\" class=\"dataframe\">\n",
       "  <thead>\n",
       "    <tr style=\"text-align: right;\">\n",
       "      <th></th>\n",
       "      <th>pip_varbvs</th>\n",
       "      <th>pip_susie</th>\n",
       "      <th>pip_mcmc</th>\n",
       "      <th>pip_sier</th>\n",
       "      <th>pip_hybrid</th>\n",
       "      <th>is_signal</th>\n",
       "    </tr>\n",
       "  </thead>\n",
       "  <tbody>\n",
       "    <tr>\n",
       "      <th>11019</th>\n",
       "      <td>0.058353</td>\n",
       "      <td>0.0</td>\n",
       "      <td>0.003502</td>\n",
       "      <td>0.025688</td>\n",
       "      <td>0.025688</td>\n",
       "      <td>0</td>\n",
       "    </tr>\n",
       "    <tr>\n",
       "      <th>11020</th>\n",
       "      <td>0.058352</td>\n",
       "      <td>0.0</td>\n",
       "      <td>0.003502</td>\n",
       "      <td>0.025688</td>\n",
       "      <td>0.025688</td>\n",
       "      <td>0</td>\n",
       "    </tr>\n",
       "    <tr>\n",
       "      <th>11021</th>\n",
       "      <td>0.058350</td>\n",
       "      <td>0.0</td>\n",
       "      <td>0.003502</td>\n",
       "      <td>0.025688</td>\n",
       "      <td>0.025688</td>\n",
       "      <td>0</td>\n",
       "    </tr>\n",
       "    <tr>\n",
       "      <th>11022</th>\n",
       "      <td>0.058349</td>\n",
       "      <td>0.0</td>\n",
       "      <td>0.003502</td>\n",
       "      <td>0.025688</td>\n",
       "      <td>0.025688</td>\n",
       "      <td>1</td>\n",
       "    </tr>\n",
       "    <tr>\n",
       "      <th>11023</th>\n",
       "      <td>0.058347</td>\n",
       "      <td>0.0</td>\n",
       "      <td>0.003502</td>\n",
       "      <td>0.025688</td>\n",
       "      <td>0.025688</td>\n",
       "      <td>0</td>\n",
       "    </tr>\n",
       "  </tbody>\n",
       "</table>\n",
       "</div>"
      ],
      "text/plain": [
       "       pip_varbvs  pip_susie  pip_mcmc  pip_sier  pip_hybrid  is_signal\n",
       "11019    0.058353        0.0  0.003502  0.025688    0.025688          0\n",
       "11020    0.058352        0.0  0.003502  0.025688    0.025688          0\n",
       "11021    0.058350        0.0  0.003502  0.025688    0.025688          0\n",
       "11022    0.058349        0.0  0.003502  0.025688    0.025688          1\n",
       "11023    0.058347        0.0  0.003502  0.025688    0.025688          0"
      ]
     },
     "execution_count": 21,
     "metadata": {},
     "output_type": "execute_result"
    }
   ],
   "source": [
    "calib.tail()"
   ]
  },
  {
   "cell_type": "code",
   "execution_count": 22,
   "metadata": {
    "kernel": "R"
   },
   "outputs": [],
   "source": [
    "%get calib --from Python3"
   ]
  },
  {
   "cell_type": "code",
   "execution_count": 23,
   "metadata": {
    "kernel": "R"
   },
   "outputs": [
    {
     "name": "stderr",
     "output_type": "stream",
     "text": [
      "\n",
      "********************************************************\n",
      "\n",
      "Note: As of version 1.0.0, cowplot does not change the\n",
      "\n",
      "  default ggplot2 theme anymore. To recover the previous\n",
      "\n",
      "  behavior, execute:\n",
      "  theme_set(theme_cowplot())\n",
      "\n",
      "********************************************************\n",
      "\n",
      "\n",
      "\n",
      "Attaching package: ‘dplyr’\n",
      "\n",
      "\n",
      "The following objects are masked from ‘package:stats’:\n",
      "\n",
      "    filter, lag\n",
      "\n",
      "\n",
      "The following objects are masked from ‘package:base’:\n",
      "\n",
      "    intersect, setdiff, setequal, union\n",
      "\n",
      "\n"
     ]
    }
   ],
   "source": [
    "library(ggplot2)\n",
    "library(cowplot)\n",
    "library(dplyr)"
   ]
  },
  {
   "cell_type": "code",
   "execution_count": 32,
   "metadata": {
    "kernel": "R"
   },
   "outputs": [],
   "source": [
    "bin_size = 20\n",
    "bins = cbind(seq(1:bin_size)/bin_size-1/bin_size, seq(1:bin_size)/bin_size)"
   ]
  },
  {
   "cell_type": "code",
   "execution_count": 33,
   "metadata": {
    "kernel": "R"
   },
   "outputs": [],
   "source": [
    "pip_cali = list()\n",
    "for (name in rev(colnames(calib))[-1]) {\n",
    "    for (i in 1:nrow(bins)) {\n",
    "        tmp = calib[which(calib[[name]] > bins[i,1] & calib[[name]] < bins[i,2]), ]\n",
    "        if (is.null(pip_cali[[name]])) pip_cali[[name]] = c(sum(tmp[[name]]), sum(tmp$is_signal), length(tmp$is_signal))\n",
    "        else pip_cali[[name]] = rbind(pip_cali[[name]], c(sum(tmp[[name]]), sum(tmp$is_signal), length(tmp$is_signal)))\n",
    "    }\n",
    "    pip_cali[[name]][which(is.na(pip_cali[[name]]))] = 0\n",
    "}"
   ]
  },
  {
   "cell_type": "code",
   "execution_count": 34,
   "metadata": {
    "kernel": "R"
   },
   "outputs": [],
   "source": [
    "get_cali = function(alist, col) {\n",
    "    res = alist[[col]]\n",
    "    if (!is.null(alist[[col]])) res = res + alist[[col]]\n",
    "    res[,c(1,2)] = res[,c(1,2)] / res[,3]\n",
    "    return(res[-1,])\n",
    "}"
   ]
  },
  {
   "cell_type": "code",
   "execution_count": 35,
   "metadata": {
    "kernel": "R"
   },
   "outputs": [],
   "source": [
    "dat = list(\"varbvs\" = get_cali(pip_cali, 'pip_varbvs'),\n",
    "           \"susie\" = get_cali(pip_cali, 'pip_susie'),\n",
    "           \"pymc3\" = get_cali(pip_cali, 'pip_mcmc'), \n",
    "           \"sier\" = get_cali(pip_cali, 'pip_sier'),\n",
    "           \"hybrid\" = get_cali(pip_cali, 'pip_hybrid'))"
   ]
  },
  {
   "cell_type": "code",
   "execution_count": 36,
   "metadata": {
    "kernel": "R"
   },
   "outputs": [
    {
     "data": {
      "text/html": [
       "<style>\n",
       ".list-inline {list-style: none; margin:0; padding: 0}\n",
       ".list-inline>li {display: inline-block}\n",
       ".list-inline>li:not(:last-child)::after {content: \"\\00b7\"; padding: 0 .5ex}\n",
       "</style>\n",
       "<ol class=list-inline><li>'varbvs'</li><li>'susie'</li><li>'pymc3'</li><li>'sier'</li><li>'hybrid'</li></ol>\n"
      ],
      "text/latex": [
       "\\begin{enumerate*}\n",
       "\\item 'varbvs'\n",
       "\\item 'susie'\n",
       "\\item 'pymc3'\n",
       "\\item 'sier'\n",
       "\\item 'hybrid'\n",
       "\\end{enumerate*}\n"
      ],
      "text/markdown": [
       "1. 'varbvs'\n",
       "2. 'susie'\n",
       "3. 'pymc3'\n",
       "4. 'sier'\n",
       "5. 'hybrid'\n",
       "\n",
       "\n"
      ],
      "text/plain": [
       "[1] \"varbvs\" \"susie\"  \"pymc3\"  \"sier\"   \"hybrid\""
      ]
     },
     "metadata": {},
     "output_type": "display_data"
    }
   ],
   "source": [
    "names(dat)"
   ]
  },
  {
   "cell_type": "code",
   "execution_count": 37,
   "metadata": {
    "kernel": "R"
   },
   "outputs": [],
   "source": [
    "dot_plot = function(dataframe) {\n",
    "  ggplot(dataframe, aes(x=mean_pip, y=observed_freq)) +\n",
    "    geom_errorbar(aes(ymin=observed_freq-se, ymax=observed_freq+se), colour=\"gray\", size = 0.2, width=.01) +\n",
    "    geom_point(size=1.5, shape=21, fill=\"#002b36\") +\n",
    "    xlab(\"Mean PIP\") +\n",
    "    ylab(\"Observed frequency\") +\n",
    "    coord_cartesian(ylim=c(0,1), xlim=c(0,1)) +\n",
    "    geom_abline(slope=1,intercept=0,colour='red', size=0.2) +\n",
    "    ggtitle(name) +\n",
    "    expand_limits(y=0) + \n",
    "    theme_cowplot()\n",
    "}"
   ]
  },
  {
   "cell_type": "code",
   "execution_count": 38,
   "metadata": {
    "kernel": "R"
   },
   "outputs": [
    {
     "name": "stderr",
     "output_type": "stream",
     "text": [
      "Warning message:\n",
      "“Removed 1 rows containing missing values (geom_point).”\n"
     ]
    }
   ],
   "source": [
    "idx = 0\n",
    "date = \"0611\"\n",
    "for (name in names(dat)) {\n",
    "    idx = idx + 1\n",
    "    dat[[name]][,3] = sqrt(dat[[name]][,2] * (1 - dat[[name]][,2]) / dat[[name]][,3]) * 2\n",
    "    dat[[name]] = as.data.frame(dat[[name]])\n",
    "    colnames(dat[[name]]) = c(\"mean_pip\", \"observed_freq\", \"se\")\n",
    "    pdf(paste0(\"/home/min/GIT/cnv-gene-mapping/output/\", name, '_' , bin_size, '_', date, '.pdf'), width=3, height=3, pointsize=16)\n",
    "    print(dot_plot(dat[[name]]))\n",
    "    dev.off()\n",
    "    system(paste0(\"convert -flatten -density 120 \", \"/home/min/GIT/cnv-gene-mapping/output/\", name, '_' , bin_size, '_', date, '.pdf', \" \", \n",
    "                  \"/home/min/GIT/cnv-gene-mapping/output/\", name, '_' , bin_size, '_', date, '.png'))\n",
    "    }"
   ]
  },
  {
   "cell_type": "code",
   "execution_count": 39,
   "metadata": {
    "kernel": "R"
   },
   "outputs": [
    {
     "data": {
      "text/html": [
       "20"
      ],
      "text/latex": [
       "20"
      ],
      "text/markdown": [
       "20"
      ],
      "text/plain": [
       "[1] 20"
      ]
     },
     "metadata": {},
     "output_type": "display_data"
    }
   ],
   "source": [
    "bin_size"
   ]
  },
  {
   "cell_type": "markdown",
   "metadata": {
    "kernel": "SoS"
   },
   "source": [
    "## ROC"
   ]
  },
  {
   "cell_type": "code",
   "execution_count": 34,
   "metadata": {
    "kernel": "Python3"
   },
   "outputs": [],
   "source": [
    "cutoffs = [0.025*i for i in range(0,41)]"
   ]
  },
  {
   "cell_type": "code",
   "execution_count": 35,
   "metadata": {
    "kernel": "Python3"
   },
   "outputs": [],
   "source": [
    "cutoffs1 = cutoffs[::-1]"
   ]
  },
  {
   "cell_type": "code",
   "execution_count": 37,
   "metadata": {
    "kernel": "Python3"
   },
   "outputs": [],
   "source": [
    "res1 = pd.DataFrame({\"cutoff\": cutoffs1})"
   ]
  },
  {
   "cell_type": "code",
   "execution_count": 40,
   "metadata": {
    "kernel": "Python3"
   },
   "outputs": [],
   "source": [
    "n3 = pips[pips[\"is_signal\"] == 1].shape[0]\n",
    "n4 = pips.shape[0]"
   ]
  },
  {
   "cell_type": "code",
   "execution_count": 41,
   "metadata": {
    "kernel": "Python3"
   },
   "outputs": [
    {
     "data": {
      "text/plain": [
       "(581, 11024)"
      ]
     },
     "execution_count": 41,
     "metadata": {},
     "output_type": "execute_result"
    }
   ],
   "source": [
    "n3,n4"
   ]
  },
  {
   "cell_type": "code",
   "execution_count": 43,
   "metadata": {
    "kernel": "Python3"
   },
   "outputs": [],
   "source": [
    "n3 = pips[pips[\"is_signal\"] == 1].shape[0]\n",
    "n4 = pips[pips[\"is_signal\"] == 0].shape[0]\n",
    "for x in [f\"pip_{m1}\", f\"pip_{m2}\", f\"pip_{m3}\", f\"pip_{m4}\", f\"pip_{m5}\", \"p\"]:\n",
    "    res1[f\"{x}_TPR\"] = [pips[(pips[\"is_signal\"] == 1) & (pips[x] >= i)].shape[0] / n3 for i in cutoffs1]\n",
    "    res1[f\"{x}_FPR\"] = [pips[(pips[\"is_signal\"] == 0) & (pips[x] >= i)].shape[0] / n4 for i in cutoffs1]"
   ]
  },
  {
   "cell_type": "code",
   "execution_count": 44,
   "metadata": {
    "kernel": "Python3"
   },
   "outputs": [
    {
     "data": {
      "text/html": [
       "<div>\n",
       "<style scoped>\n",
       "    .dataframe tbody tr th:only-of-type {\n",
       "        vertical-align: middle;\n",
       "    }\n",
       "\n",
       "    .dataframe tbody tr th {\n",
       "        vertical-align: top;\n",
       "    }\n",
       "\n",
       "    .dataframe thead th {\n",
       "        text-align: right;\n",
       "    }\n",
       "</style>\n",
       "<table border=\"1\" class=\"dataframe\">\n",
       "  <thead>\n",
       "    <tr style=\"text-align: right;\">\n",
       "      <th></th>\n",
       "      <th>cutoff</th>\n",
       "      <th>pip_varbvs_TPR</th>\n",
       "      <th>pip_varbvs_FPR</th>\n",
       "      <th>pip_susie_TPR</th>\n",
       "      <th>pip_susie_FPR</th>\n",
       "      <th>pip_mcmc_TPR</th>\n",
       "      <th>pip_mcmc_FPR</th>\n",
       "      <th>pip_sier_TPR</th>\n",
       "      <th>pip_sier_FPR</th>\n",
       "      <th>pip_hybrid_TPR</th>\n",
       "      <th>pip_hybrid_FPR</th>\n",
       "      <th>p_TPR</th>\n",
       "      <th>p_FPR</th>\n",
       "    </tr>\n",
       "  </thead>\n",
       "  <tbody>\n",
       "    <tr>\n",
       "      <th>0</th>\n",
       "      <td>1.000</td>\n",
       "      <td>0.037866</td>\n",
       "      <td>0.004596</td>\n",
       "      <td>0.003442</td>\n",
       "      <td>0.000192</td>\n",
       "      <td>0.015491</td>\n",
       "      <td>0.000383</td>\n",
       "      <td>0.010327</td>\n",
       "      <td>0.000287</td>\n",
       "      <td>0.012048</td>\n",
       "      <td>0.000192</td>\n",
       "      <td>0.032702</td>\n",
       "      <td>0.187015</td>\n",
       "    </tr>\n",
       "    <tr>\n",
       "      <th>1</th>\n",
       "      <td>0.975</td>\n",
       "      <td>0.154905</td>\n",
       "      <td>0.013406</td>\n",
       "      <td>0.037866</td>\n",
       "      <td>0.000958</td>\n",
       "      <td>0.058520</td>\n",
       "      <td>0.001053</td>\n",
       "      <td>0.063683</td>\n",
       "      <td>0.001149</td>\n",
       "      <td>0.070568</td>\n",
       "      <td>0.000958</td>\n",
       "      <td>0.032702</td>\n",
       "      <td>0.187015</td>\n",
       "    </tr>\n",
       "    <tr>\n",
       "      <th>2</th>\n",
       "      <td>0.950</td>\n",
       "      <td>0.163511</td>\n",
       "      <td>0.014172</td>\n",
       "      <td>0.044750</td>\n",
       "      <td>0.000958</td>\n",
       "      <td>0.072289</td>\n",
       "      <td>0.001245</td>\n",
       "      <td>0.067126</td>\n",
       "      <td>0.001245</td>\n",
       "      <td>0.074010</td>\n",
       "      <td>0.001053</td>\n",
       "      <td>0.032702</td>\n",
       "      <td>0.187207</td>\n",
       "    </tr>\n",
       "    <tr>\n",
       "      <th>3</th>\n",
       "      <td>0.925</td>\n",
       "      <td>0.168675</td>\n",
       "      <td>0.014842</td>\n",
       "      <td>0.048193</td>\n",
       "      <td>0.001149</td>\n",
       "      <td>0.075731</td>\n",
       "      <td>0.001245</td>\n",
       "      <td>0.068847</td>\n",
       "      <td>0.001245</td>\n",
       "      <td>0.077453</td>\n",
       "      <td>0.001053</td>\n",
       "      <td>0.032702</td>\n",
       "      <td>0.188452</td>\n",
       "    </tr>\n",
       "    <tr>\n",
       "      <th>4</th>\n",
       "      <td>0.900</td>\n",
       "      <td>0.175559</td>\n",
       "      <td>0.014938</td>\n",
       "      <td>0.049914</td>\n",
       "      <td>0.001245</td>\n",
       "      <td>0.075731</td>\n",
       "      <td>0.001245</td>\n",
       "      <td>0.074010</td>\n",
       "      <td>0.001341</td>\n",
       "      <td>0.080895</td>\n",
       "      <td>0.001149</td>\n",
       "      <td>0.032702</td>\n",
       "      <td>0.192282</td>\n",
       "    </tr>\n",
       "  </tbody>\n",
       "</table>\n",
       "</div>"
      ],
      "text/plain": [
       "   cutoff  pip_varbvs_TPR  pip_varbvs_FPR  pip_susie_TPR  pip_susie_FPR  \\\n",
       "0   1.000        0.037866        0.004596       0.003442       0.000192   \n",
       "1   0.975        0.154905        0.013406       0.037866       0.000958   \n",
       "2   0.950        0.163511        0.014172       0.044750       0.000958   \n",
       "3   0.925        0.168675        0.014842       0.048193       0.001149   \n",
       "4   0.900        0.175559        0.014938       0.049914       0.001245   \n",
       "\n",
       "   pip_mcmc_TPR  pip_mcmc_FPR  pip_sier_TPR  pip_sier_FPR  pip_hybrid_TPR  \\\n",
       "0      0.015491      0.000383      0.010327      0.000287        0.012048   \n",
       "1      0.058520      0.001053      0.063683      0.001149        0.070568   \n",
       "2      0.072289      0.001245      0.067126      0.001245        0.074010   \n",
       "3      0.075731      0.001245      0.068847      0.001245        0.077453   \n",
       "4      0.075731      0.001245      0.074010      0.001341        0.080895   \n",
       "\n",
       "   pip_hybrid_FPR     p_TPR     p_FPR  \n",
       "0        0.000192  0.032702  0.187015  \n",
       "1        0.000958  0.032702  0.187015  \n",
       "2        0.001053  0.032702  0.187207  \n",
       "3        0.001053  0.032702  0.188452  \n",
       "4        0.001149  0.032702  0.192282  "
      ]
     },
     "execution_count": 44,
     "metadata": {},
     "output_type": "execute_result"
    }
   ],
   "source": [
    "res1.head()"
   ]
  },
  {
   "cell_type": "code",
   "execution_count": 45,
   "metadata": {
    "kernel": "Python3"
   },
   "outputs": [
    {
     "data": {
      "image/png": "[encoded data removed]",
      "text/plain": [
       "<Figure size 720x720 with 1 Axes>"
      ]
     },
     "metadata": {
      "needs_background": "light"
     },
     "output_type": "display_data"
    }
   ],
   "source": [
    "fig, ax = plt.subplots(figsize = (10, 10))\n",
    "plt.plot(res1[f\"pip_{m1}_FPR\"], res1[f\"pip_{m1}_TPR\"], c = \"C0\", label = m1)\n",
    "plt.plot(res1[f\"pip_{m2}_FPR\"], res1[f\"pip_{m2}_TPR\"], c = \"C8\", label = m2)\n",
    "plt.plot(res1[f\"pip_{m3}_FPR\"], res1[f\"pip_{m3}_TPR\"], c = \"C3\", label = m3)\n",
    "plt.plot(res1[f\"pip_{m4}_FPR\"], res1[f\"pip_{m4}_TPR\"], c = \"C4\", label = m4)\n",
    "plt.plot(res1[f\"pip_{m5}_FPR\"], res1[f\"pip_{m5}_TPR\"], c = \"C2\", label = m5)\n",
    "plt.plot(1-res1[\"p_FPR\"], 1-res1[\"p_TPR\"], c = \"C7\", label = \"p-value\")\n",
    "plt.legend(loc = 'lower right', fontsize = 15)\n",
    "plt.xlabel(\"False positive rate\", fontproperties=font_prop)\n",
    "plt.ylabel(\"True positive rate\", fontproperties=font_prop)\n",
    "plt.show()"
   ]
  },
  {
   "cell_type": "code",
   "execution_count": null,
   "metadata": {
    "kernel": "SoS"
   },
   "outputs": [],
   "source": []
  }
 ],
 "metadata": {
  "kernelspec": {
   "display_name": "SoS",
   "language": "sos",
   "name": "sos"
  },
  "language_info": {
   "codemirror_mode": "sos",
   "file_extension": ".sos",
   "mimetype": "text/x-sos",
   "name": "sos",
   "nbconvert_exporter": "sos_notebook.converter.SoS_Exporter",
   "pygments_lexer": "sos"
  },
  "sos": {
   "kernels": [
    [
     "R",
     "ir",
     "R",
     "#DCDCDA",
     ""
    ],
    [
     "SoS",
     "sos",
     "",
     "",
     "sos"
    ]
   ],
   "version": "0.21.7"
  }
 },
 "nbformat": 4,
 "nbformat_minor": 4
}
