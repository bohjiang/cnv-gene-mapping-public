{
 "cells": [
  {
   "cell_type": "markdown",
   "metadata": {},
   "source": [
    "# DAP on simulation results"
   ]
  },
  {
   "cell_type": "markdown",
   "metadata": {},
   "source": [
    "#### Data transformation: transform $y \\in \\{0,1\\}$ to $y \\in \\{0,t\\}$\n",
    "\n",
    "The area under the original normal curve is $1-\\Phi(t)$, the area under the transformed/shifted normal curve is $1-\\Phi(t-Z_\\mu)$. The mean of the original and transformed normal curve is $0$ and $Z_\\mu$.\n",
    "\n",
    "$ P(X \\geqslant t) = P(X=Z_\\mu+X' \\geqslant t) = P(X' \\geqslant t-Z_\\mu) = 1-\\Phi(t-Z_\\mu) $, in which $Z_\\mu$ is the effect size $\\beta$, and $1-\\Phi(t)$ is prevalence.\n",
    "\n",
    "$t$ is transformed $y$, only depending on the prevalence.\n",
    "\n",
    "Relative risk (RR) is the ratio of two areas under two normal curves:\n",
    "\n",
    "$ RR = \\frac{1-\\Phi(t-Z_\\mu)}{1-\\Phi(t)} $\n",
    "\n",
    "The effect size $Z_\\mu$ depends on RR and prevalence of disease. Solve $Z_\\mu$ from a given RR:\n",
    "\n",
    "$ \\Phi(t-Z_\\mu) = 1-RR*(1-\\Phi(t)) $\n",
    "\n",
    "For example, if $RR=2.5$ and prevalence=$0.01$, the effect size $Z_\\mu$ is $0.366$ and the transformed $y$ is 2.326; if $RR=5$ and prevalence = $0.01$, the effect size is $0.681$."
   ]
  },
  {
   "cell_type": "markdown",
   "metadata": {},
   "source": [
    "####  Prepare DAP input\n",
    "Grid file: prior effect size specifications for causal variantscausal variants.\n",
    "\n",
    "ω: the average effect size; ϕ: the heterogeneity of a genetic effect across multiple subgroups.\n",
    "\n",
    "It is a two-column data matrix: 1st column specifies ϕ, 2nd column specifies ω. Each row provides a unique combination. \n",
    "\n",
    "For single study, ϕ can be set to $0$ and only ω needs to specify."
   ]
  },
  {
   "cell_type": "markdown",
   "metadata": {},
   "source": [
    "#### Run DAP\n"
   ]
  },
  {
   "cell_type": "code",
   "execution_count": null,
   "metadata": {
    "collapsed": true
   },
   "outputs": [],
   "source": []
  }
 ],
 "metadata": {
  "kernelspec": {
   "display_name": "Python 3",
   "language": "python",
   "name": "python3"
  },
  "language_info": {
   "codemirror_mode": {
    "name": "ipython",
    "version": 3
   },
   "file_extension": ".py",
   "mimetype": "text/x-python",
   "name": "python",
   "nbconvert_exporter": "python",
   "pygments_lexer": "ipython3",
   "version": "3.5.2"
  }
 },
 "nbformat": 4,
 "nbformat_minor": 2
}
