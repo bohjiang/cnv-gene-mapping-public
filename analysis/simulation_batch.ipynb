{
 "cells": [
  {
   "cell_type": "code",
   "execution_count": 4,
   "metadata": {
    "collapsed": false
   },
   "outputs": [
    {
     "ename": "NameError",
     "evalue": "name 'del_sample_gene' is not defined",
     "output_type": "error",
     "traceback": [
      "\u001b[1;31m\u001b[0m",
      "\u001b[1;31mNameError\u001b[0mTraceback (most recent call last)",
      "\u001b[1;32m<ipython-input-4-633163e51ebb>\u001b[0m in \u001b[0;36m<module>\u001b[1;34m()\u001b[0m\n\u001b[0;32m     17\u001b[0m         \u001b[0mrun_simulation\u001b[0m\u001b[1;33m(\u001b[0m\u001b[1;34m\"data/refGene.txt.gz\"\u001b[0m\u001b[1;33m,\u001b[0m \u001b[1;34m\"data/ISC-r1.CNV.bed\"\u001b[0m\u001b[1;33m,\u001b[0m \u001b[0margs\u001b[0m\u001b[1;33m,\u001b[0m \u001b[0menv\u001b[0m\u001b[1;33m.\u001b[0m\u001b[0mcausal_genes\u001b[0m\u001b[1;33m,\u001b[0m \u001b[0msimulation_id\u001b[0m\u001b[1;33m)\u001b[0m\u001b[1;33m\u001b[0m\u001b[0m\n\u001b[0;32m     18\u001b[0m         run_stats(\"dup_sample_{}.pkl\".format(simulation_id), \"del_sample_{}.pkl\".format(simulation_id), \n\u001b[1;32m---> 19\u001b[1;33m                   simulation_id)\n\u001b[0m",
      "\u001b[1;32m/home/gaow/GIT/cnv-gene-mapping/analysis/simulation.py\u001b[0m in \u001b[0;36mrun_stats\u001b[1;34m(sample_dup, sample_del, simulation_id)\u001b[0m\n\u001b[0;32m    254\u001b[0m \u001b[1;33m\u001b[0m\u001b[0m\n\u001b[0;32m    255\u001b[0m \u001b[1;32mdef\u001b[0m \u001b[0mrun_stats\u001b[0m\u001b[1;33m(\u001b[0m\u001b[0msample_dup\u001b[0m\u001b[1;33m,\u001b[0m \u001b[0msample_del\u001b[0m\u001b[1;33m,\u001b[0m \u001b[0msimulation_id\u001b[0m \u001b[1;33m=\u001b[0m \u001b[1;36m0\u001b[0m\u001b[1;33m)\u001b[0m\u001b[1;33m:\u001b[0m\u001b[1;33m\u001b[0m\u001b[0m\n\u001b[1;32m--> 256\u001b[1;33m     \u001b[0mdup_stats_table\u001b[0m \u001b[1;33m=\u001b[0m \u001b[0mget_stats_from_input\u001b[0m\u001b[1;33m(\u001b[0m\u001b[0msample_dup\u001b[0m\u001b[1;33m,\u001b[0m \u001b[0msort_data\u001b[0m\u001b[1;33m=\u001b[0m\u001b[1;36m0\u001b[0m\u001b[1;33m)\u001b[0m\u001b[1;33m\u001b[0m\u001b[0m\n\u001b[0m\u001b[0;32m    257\u001b[0m     \u001b[0mdel_stats_table\u001b[0m \u001b[1;33m=\u001b[0m \u001b[0mget_stats_from_input\u001b[0m\u001b[1;33m(\u001b[0m\u001b[0msample_del\u001b[0m\u001b[1;33m,\u001b[0m \u001b[0msort_data\u001b[0m\u001b[1;33m=\u001b[0m\u001b[1;36m0\u001b[0m\u001b[1;33m)\u001b[0m\u001b[1;33m\u001b[0m\u001b[0m\n\u001b[0;32m    258\u001b[0m     \u001b[0msave_data\u001b[0m\u001b[1;33m(\u001b[0m\u001b[0mdup_stats_table\u001b[0m\u001b[1;33m,\u001b[0m \u001b[1;34m'dup_stats_table_{}.pkl'\u001b[0m\u001b[1;33m.\u001b[0m\u001b[0mformat\u001b[0m\u001b[1;33m(\u001b[0m\u001b[0msimulation_id\u001b[0m\u001b[1;33m)\u001b[0m\u001b[1;33m)\u001b[0m\u001b[1;33m\u001b[0m\u001b[0m\n",
      "\u001b[1;32m/home/gaow/GIT/cnv-gene-mapping/analysis/simulation.py\u001b[0m in \u001b[0;36mget_stats_from_input\u001b[1;34m(input_data, sort_data)\u001b[0m\n\u001b[0;32m    250\u001b[0m     \u001b[0minput_data\u001b[0m \u001b[1;33m=\u001b[0m \u001b[0mload_data\u001b[0m\u001b[1;33m(\u001b[0m\u001b[0minput_data\u001b[0m\u001b[1;33m)\u001b[0m\u001b[1;33m\u001b[0m\u001b[0m\n\u001b[0;32m    251\u001b[0m     \u001b[0msample_gene_table\u001b[0m \u001b[1;33m=\u001b[0m \u001b[0mget_gene_table\u001b[0m\u001b[1;33m(\u001b[0m\u001b[0minput_data\u001b[0m\u001b[1;33m)\u001b[0m\u001b[1;33m\u001b[0m\u001b[0m\n\u001b[1;32m--> 252\u001b[1;33m     \u001b[0msample_stats_table\u001b[0m \u001b[1;33m=\u001b[0m \u001b[0mget_stats\u001b[0m\u001b[1;33m(\u001b[0m\u001b[0mdel_sample_gene\u001b[0m\u001b[1;33m,\u001b[0m \u001b[0mnum\u001b[0m\u001b[1;33m=\u001b[0m\u001b[1;36m100\u001b[0m\u001b[1;33m,\u001b[0m \u001b[0msort\u001b[0m \u001b[1;33m=\u001b[0m \u001b[0msort_data\u001b[0m\u001b[1;33m)\u001b[0m\u001b[1;33m\u001b[0m\u001b[0m\n\u001b[0m\u001b[0;32m    253\u001b[0m     \u001b[1;32mreturn\u001b[0m \u001b[0msample_stats_table\u001b[0m\u001b[1;33m\u001b[0m\u001b[0m\n\u001b[0;32m    254\u001b[0m \u001b[1;33m\u001b[0m\u001b[0m\n",
      "\u001b[1;31mNameError\u001b[0m: name 'del_sample_gene' is not defined"
     ]
    }
   ],
   "source": [
    "import copy\n",
    "from simulation import *\n",
    "env = Environment()\n",
    "args = copy.deepcopy(env.args)\n",
    "\n",
    "#k = [0.001, 0.005]\n",
    "#m = [5, 10]\n",
    "gamma = [(None, None), (5,1), (3,1)]\n",
    "sample_size = [5, 50, 100, 500]\n",
    "\n",
    "for gg in gamma[:1]:\n",
    "    for ss in sample_size[:1]:\n",
    "        args['odds_ratio_params']['shape'] = gg[0]\n",
    "        args['odds_ratio_params']['scale'] = gg[1]\n",
    "        args['n_case'] = args['n_ctrl'] = ss\n",
    "        simulation_id = '{}_{}_{}'.format(ss, gg[0], gg[1])\n",
    "        run_simulation(\"data/refGene.txt.gz\", \"data/ISC-r1.CNV.bed\", args, env.causal_genes, simulation_id)\n",
    "        run_stats(\"dup_sample_{}.pkl\".format(simulation_id), \"del_sample_{}.pkl\".format(simulation_id), \n",
    "                  simulation_id)"
   ]
  },
  {
   "cell_type": "code",
   "execution_count": null,
   "metadata": {
    "collapsed": true
   },
   "outputs": [],
   "source": []
  }
 ],
 "metadata": {
  "kernelspec": {
   "display_name": "Python 3",
   "language": "python",
   "name": "python3"
  },
  "language_info": {
   "codemirror_mode": {
    "name": "ipython",
    "version": 3
   },
   "file_extension": ".py",
   "mimetype": "text/x-python",
   "name": "python",
   "nbconvert_exporter": "python",
   "pygments_lexer": "ipython3",
   "version": "3.5.2"
  }
 },
 "nbformat": 4,
 "nbformat_minor": 2
}
