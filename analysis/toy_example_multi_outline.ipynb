{
 "cells": [
  {
   "cell_type": "markdown",
   "metadata": {},
   "source": [
    "### Toy example of multi-gene configuration overlapped with multi-CNV"
   ]
  },
  {
   "cell_type": "markdown",
   "metadata": {},
   "source": [
    "#### Simulate CNVs\n",
    "1) Simulate CNV length (number of overlapped genes), following geometric distribution (p=0.5), maximum 10 genes.\n",
    "\n",
    "2) Simulate CNV start position according to the corresponding length. For example, if a CNV interrupts 5 genes, then it could only start within the first 6 gene position, and the start position is randomly selected among the 6 genes."
   ]
  },
  {
   "cell_type": "markdown",
   "metadata": {},
   "source": [
    "#### Assign CNVs to cases and controls\n",
    "1) Set the 5th gene as causal gene.\n",
    "\n",
    "2) Simulate a random number from standard normal for each CNV. For each CNV interrupts with 5th gene, add a constant 1 to the simulated number.\n",
    "\n",
    "3) Since longer CNVs are supposed to have higher risk than shorter CNVs, I add a value to the number obtained from 2nd step, which is 0.1*number of covered gene.\n",
    "\n",
    "4) Calculate the median of all the values obtained from the first three steps; set those larger than median as cases, and the others are controls."
   ]
  },
  {
   "cell_type": "markdown",
   "metadata": {},
   "source": [
    "#### Convergence of genes and CNVs\n"
   ]
  },
  {
   "cell_type": "markdown",
   "metadata": {},
   "source": []
  }
 ],
 "metadata": {
  "kernelspec": {
   "display_name": "Python 3",
   "language": "python",
   "name": "python3"
  },
  "language_info": {
   "codemirror_mode": {
    "name": "ipython",
    "version": 3
   },
   "file_extension": ".py",
   "mimetype": "text/x-python",
   "name": "python",
   "nbconvert_exporter": "python",
   "pygments_lexer": "ipython3",
   "version": "3.5.2"
  }
 },
 "nbformat": 4,
 "nbformat_minor": 2
}
