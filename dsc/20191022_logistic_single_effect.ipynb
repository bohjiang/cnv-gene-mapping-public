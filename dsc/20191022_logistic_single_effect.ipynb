{
 "cells": [
  {
   "cell_type": "markdown",
   "metadata": {
    "kernel": "SoS"
   },
   "source": [
    "# Single effect using `logistic`"
   ]
  },
  {
   "cell_type": "code",
   "execution_count": 1,
   "metadata": {
    "kernel": "R"
   },
   "outputs": [],
   "source": [
    "# library(data.table)\n",
    "block = c(739, 743)"
   ]
  },
  {
   "cell_type": "code",
   "execution_count": 2,
   "metadata": {
    "kernel": "R"
   },
   "outputs": [],
   "source": [
    "X <- as.matrix(data.table::fread(paste(\"/data/GIT/cnv-gene-mapping/data/deletion_simu/block_\", block[1], \"_\" , block[2], \n",
    "                                       \"/deletion.genes.block30.for_simu.sample.genes.block_\", block[1], \"_\" , block[2], \".gz\", sep = \"\"), header = F))"
   ]
  },
  {
   "cell_type": "code",
   "execution_count": 6,
   "metadata": {
    "kernel": "R"
   },
   "outputs": [
    {
     "data": {
      "text/html": [
       "<table>\n",
       "<thead><tr><th></th><th scope=col>V1</th><th scope=col>V2</th><th scope=col>V3</th><th scope=col>V4</th><th scope=col>V5</th></tr></thead>\n",
       "<tbody>\n",
       "\t<tr><th scope=row>V1</th><td>1.0000000</td><td>1.0000000</td><td>0.4997202</td><td>0.7904810</td><td>1.0000000</td></tr>\n",
       "\t<tr><th scope=row>V2</th><td>1.0000000</td><td>1.0000000</td><td>0.4997202</td><td>0.7904810</td><td>1.0000000</td></tr>\n",
       "\t<tr><th scope=row>V3</th><td>0.4997202</td><td>0.4997202</td><td>1.0000000</td><td>0.3947537</td><td>0.4997202</td></tr>\n",
       "\t<tr><th scope=row>V4</th><td>0.7904810</td><td>0.7904810</td><td>0.3947537</td><td>1.0000000</td><td>0.7904810</td></tr>\n",
       "\t<tr><th scope=row>V5</th><td>1.0000000</td><td>1.0000000</td><td>0.4997202</td><td>0.7904810</td><td>1.0000000</td></tr>\n",
       "</tbody>\n",
       "</table>\n"
      ],
      "text/latex": [
       "\\begin{tabular}{r|lllll}\n",
       "  & V1 & V2 & V3 & V4 & V5\\\\\n",
       "\\hline\n",
       "\tV1 & 1.0000000 & 1.0000000 & 0.4997202 & 0.7904810 & 1.0000000\\\\\n",
       "\tV2 & 1.0000000 & 1.0000000 & 0.4997202 & 0.7904810 & 1.0000000\\\\\n",
       "\tV3 & 0.4997202 & 0.4997202 & 1.0000000 & 0.3947537 & 0.4997202\\\\\n",
       "\tV4 & 0.7904810 & 0.7904810 & 0.3947537 & 1.0000000 & 0.7904810\\\\\n",
       "\tV5 & 1.0000000 & 1.0000000 & 0.4997202 & 0.7904810 & 1.0000000\\\\\n",
       "\\end{tabular}\n"
      ],
      "text/markdown": [
       "\n",
       "| <!--/--> | V1 | V2 | V3 | V4 | V5 |\n",
       "|---|---|---|---|---|---|\n",
       "| V1 | 1.0000000 | 1.0000000 | 0.4997202 | 0.7904810 | 1.0000000 |\n",
       "| V2 | 1.0000000 | 1.0000000 | 0.4997202 | 0.7904810 | 1.0000000 |\n",
       "| V3 | 0.4997202 | 0.4997202 | 1.0000000 | 0.3947537 | 0.4997202 |\n",
       "| V4 | 0.7904810 | 0.7904810 | 0.3947537 | 1.0000000 | 0.7904810 |\n",
       "| V5 | 1.0000000 | 1.0000000 | 0.4997202 | 0.7904810 | 1.0000000 |\n",
       "\n"
      ],
      "text/plain": [
       "   V1        V2        V3        V4        V5       \n",
       "V1 1.0000000 1.0000000 0.4997202 0.7904810 1.0000000\n",
       "V2 1.0000000 1.0000000 0.4997202 0.7904810 1.0000000\n",
       "V3 0.4997202 0.4997202 1.0000000 0.3947537 0.4997202\n",
       "V4 0.7904810 0.7904810 0.3947537 1.0000000 0.7904810\n",
       "V5 1.0000000 1.0000000 0.4997202 0.7904810 1.0000000"
      ]
     },
     "metadata": {},
     "output_type": "display_data"
    }
   ],
   "source": [
    "cor(X)"
   ]
  },
  {
   "cell_type": "code",
   "execution_count": 4,
   "metadata": {
    "kernel": "R"
   },
   "outputs": [],
   "source": [
    "y <- as.matrix(data.table::fread(\"/data/GIT/cnv-gene-mapping/data/deletion_simu/deletion.genes.block30.for_simu.sample.y\"))"
   ]
  },
  {
   "cell_type": "code",
   "execution_count": 5,
   "metadata": {
    "kernel": "R"
   },
   "outputs": [],
   "source": [
    "X <- scale(X, center = TRUE, scale = FALSE)"
   ]
  },
  {
   "cell_type": "code",
   "execution_count": 7,
   "metadata": {
    "kernel": "R"
   },
   "outputs": [],
   "source": [
    "mu0 <- 0.777\n",
    "s0 <- 0.844\n",
    "pi0 <- 0.043"
   ]
  },
  {
   "cell_type": "code",
   "execution_count": 8,
   "metadata": {
    "kernel": "R"
   },
   "outputs": [],
   "source": [
    "p <- dim(X)[2]\n",
    "p0 <- rep(pi0,1,p)"
   ]
  },
  {
   "cell_type": "code",
   "execution_count": 9,
   "metadata": {
    "kernel": "R"
   },
   "outputs": [],
   "source": [
    "source(\"/home/min/GIT/logistic/code/misc.R\")\n",
    "source(\"/home/min/GIT/logistic/code/bayes.R\")\n",
    "out <- bayes.logistic(X, y, p0, mu0, s0)"
   ]
  },
  {
   "cell_type": "code",
   "execution_count": 56,
   "metadata": {
    "kernel": "R"
   },
   "outputs": [
    {
     "name": "stdout",
     "output_type": "stream",
     "text": [
      "           p1       mu1        s1\n",
      "1 0.002619979 1.4874452 0.5891827\n",
      "2 0.002619979 1.4874452 0.5891827\n",
      "3 0.840373304 1.4120444 0.3482626\n",
      "4 0.049342893 1.1027142 0.3097065\n",
      "5 0.049342893 1.1027142 0.3097065\n",
      "6 0.049342893 1.1027142 0.3097065\n",
      "7 0.003179030 0.9320685 0.3306724\n",
      "8 0.003179030 0.9320685 0.3306724\n"
     ]
    }
   ],
   "source": [
    "print(out)"
   ]
  },
  {
   "cell_type": "code",
   "execution_count": 10,
   "metadata": {
    "kernel": "R"
   },
   "outputs": [
    {
     "name": "stdout",
     "output_type": "stream",
     "text": [
      "          p1       mu1        s1\n",
      "1 0.03249232 0.6321483 0.6381504\n",
      "2 0.03249232 0.6321483 0.6381504\n",
      "3 0.86833204 1.2468894 0.4571144\n",
      "4 0.03419099 0.6514828 0.5680370\n",
      "5 0.03249232 0.6321483 0.6381504\n"
     ]
    }
   ],
   "source": [
    "print(out)"
   ]
  },
  {
   "cell_type": "code",
   "execution_count": 11,
   "metadata": {
    "kernel": "R"
   },
   "outputs": [],
   "source": [
    "library(susieR)"
   ]
  },
  {
   "cell_type": "code",
   "execution_count": 12,
   "metadata": {
    "kernel": "R"
   },
   "outputs": [],
   "source": [
    "susie2 <- susie(X, y, L = 1, scaled_prior_variance = 0.005, estimate_prior_method = \"optim\", estimate_prior_variance = TRUE)"
   ]
  },
  {
   "cell_type": "code",
   "execution_count": 13,
   "metadata": {
    "kernel": "R"
   },
   "outputs": [
    {
     "name": "stdout",
     "output_type": "stream",
     "text": [
      "\"0.044212\" \"0.001606 \"0.499908\"\n",
      " \"0.044212\" \"0.001606 \"0.499908\"\n",
      " \"0.817270\" \"0.009644 \"0.499908\"\n",
      " \"0.050094\" \"0.002540 \"0.499908\"\n",
      " \"0.044212\" \"0.001606 \"0.499908\"\n"
     ]
    }
   ],
   "source": [
    "cat(sprintf(\"\\\"%f\\\" \\\"%f\\ \\\"%f\\\"\\n\", susie2$pip, susie2$mu, sqrt(susie2$sigma2)))"
   ]
  },
  {
   "cell_type": "code",
   "execution_count": null,
   "metadata": {
    "kernel": "R"
   },
   "outputs": [],
   "source": []
  },
  {
   "cell_type": "code",
   "execution_count": 1,
   "metadata": {
    "kernel": "R"
   },
   "outputs": [],
   "source": [
    "tmp = readRDS(\"~/GIT/cnv-gene-mapping/data/deletion_simu/block_0_7/deletion.genes.block30.for_simu.sample.genes.block_0_7.logit.rds\")"
   ]
  },
  {
   "cell_type": "code",
   "execution_count": 3,
   "metadata": {
    "kernel": "R"
   },
   "outputs": [
    {
     "data": {
      "text/html": [
       "<ol class=list-inline>\n",
       "\t<li>0.125</li>\n",
       "\t<li>0.125</li>\n",
       "\t<li>0.125</li>\n",
       "\t<li>0.125</li>\n",
       "\t<li>0.125</li>\n",
       "\t<li>0.125</li>\n",
       "\t<li>0.125</li>\n",
       "\t<li>0.125</li>\n",
       "</ol>\n"
      ],
      "text/latex": [
       "\\begin{enumerate*}\n",
       "\\item 0.125\n",
       "\\item 0.125\n",
       "\\item 0.125\n",
       "\\item 0.125\n",
       "\\item 0.125\n",
       "\\item 0.125\n",
       "\\item 0.125\n",
       "\\item 0.125\n",
       "\\end{enumerate*}\n"
      ],
      "text/markdown": [
       "1. 0.125\n",
       "2. 0.125\n",
       "3. 0.125\n",
       "4. 0.125\n",
       "5. 0.125\n",
       "6. 0.125\n",
       "7. 0.125\n",
       "8. 0.125\n",
       "\n",
       "\n"
      ],
      "text/plain": [
       "[1] 0.125 0.125 0.125 0.125 0.125 0.125 0.125 0.125"
      ]
     },
     "metadata": {},
     "output_type": "display_data"
    }
   ],
   "source": [
    "tmp[[\"p1\"]]"
   ]
  },
  {
   "cell_type": "code",
   "execution_count": null,
   "metadata": {
    "kernel": "R"
   },
   "outputs": [],
   "source": []
  },
  {
   "cell_type": "code",
   "execution_count": 58,
   "metadata": {
    "kernel": "R"
   },
   "outputs": [],
   "source": [
    "susie <- readRDS(paste(\"/data/GIT/cnv-gene-mapping/data/deletion_simu/block_\", block[1], \"_\" , block[2], \n",
    "                       \"/deletion.genes.block30.for_simu.sample.genes.block_\", block[1], \"_\" , block[2], \".SuSiE.L_1.prior_0p005.susie.rds\", sep = \"\"))"
   ]
  },
  {
   "cell_type": "code",
   "execution_count": 59,
   "metadata": {
    "kernel": "R"
   },
   "outputs": [
    {
     "data": {
      "text/html": [
       "<ol class=list-inline>\n",
       "\t<li>0.0442118535262893</li>\n",
       "\t<li>0.0442118535262893</li>\n",
       "\t<li>0.817270053824042</li>\n",
       "\t<li>0.0500943855970895</li>\n",
       "\t<li>0.0442118535262893</li>\n",
       "</ol>\n"
      ],
      "text/latex": [
       "\\begin{enumerate*}\n",
       "\\item 0.0442118535262893\n",
       "\\item 0.0442118535262893\n",
       "\\item 0.817270053824042\n",
       "\\item 0.0500943855970895\n",
       "\\item 0.0442118535262893\n",
       "\\end{enumerate*}\n"
      ],
      "text/markdown": [
       "1. 0.0442118535262893\n",
       "2. 0.0442118535262893\n",
       "3. 0.817270053824042\n",
       "4. 0.0500943855970895\n",
       "5. 0.0442118535262893\n",
       "\n",
       "\n"
      ],
      "text/plain": [
       "[1] 0.04421185 0.04421185 0.81727005 0.05009439 0.04421185"
      ]
     },
     "metadata": {},
     "output_type": "display_data"
    }
   ],
   "source": [
    "susie$pip"
   ]
  },
  {
   "cell_type": "code",
   "execution_count": 82,
   "metadata": {
    "kernel": "R"
   },
   "outputs": [],
   "source": [
    "varbvs <- readRDS(paste(\"/data/GIT/cnv-gene-mapping/data/deletion_simu/block_\", block[1], \"_\" , block[2], \n",
    "                        \"/deletion.genes.block30.for_simu.sample.genes.block_\", block[1], \"_\" , block[2], \".varbvs.rds\", sep = \"\"))"
   ]
  },
  {
   "cell_type": "code",
   "execution_count": 75,
   "metadata": {
    "kernel": "R"
   },
   "outputs": [
    {
     "data": {
      "text/html": [
       "<dl>\n",
       "\t<dt>$alpha</dt>\n",
       "\t\t<dd><table>\n",
       "<tbody>\n",
       "\t<tr><td>0.04421185</td><td>0.04421185</td><td>0.8172701 </td><td>0.05009439</td><td>0.04421185</td></tr>\n",
       "</tbody>\n",
       "</table>\n",
       "</dd>\n",
       "\t<dt>$pip</dt>\n",
       "\t\t<dd><ol class=list-inline>\n",
       "\t<li>0.0442118535262893</li>\n",
       "\t<li>0.0442118535262893</li>\n",
       "\t<li>0.817270053824042</li>\n",
       "\t<li>0.0500943855970895</li>\n",
       "\t<li>0.0442118535262893</li>\n",
       "</ol>\n",
       "</dd>\n",
       "</dl>\n"
      ],
      "text/latex": [
       "\\begin{description}\n",
       "\\item[\\$alpha] \\begin{tabular}{lllll}\n",
       "\t 0.04421185 & 0.04421185 & 0.8172701  & 0.05009439 & 0.04421185\\\\\n",
       "\\end{tabular}\n",
       "\n",
       "\\item[\\$pip] \\begin{enumerate*}\n",
       "\\item 0.0442118535262893\n",
       "\\item 0.0442118535262893\n",
       "\\item 0.817270053824042\n",
       "\\item 0.0500943855970895\n",
       "\\item 0.0442118535262893\n",
       "\\end{enumerate*}\n",
       "\n",
       "\\end{description}\n"
      ],
      "text/markdown": [
       "$alpha\n",
       ":   \n",
       "| 0.04421185 | 0.04421185 | 0.8172701  | 0.05009439 | 0.04421185 |\n",
       "\n",
       "\n",
       "$pip\n",
       ":   1. 0.0442118535262893\n",
       "2. 0.0442118535262893\n",
       "3. 0.817270053824042\n",
       "4. 0.0500943855970895\n",
       "5. 0.0442118535262893\n",
       "\n",
       "\n",
       "\n",
       "\n",
       "\n"
      ],
      "text/plain": [
       "$alpha\n",
       "           [,1]       [,2]      [,3]       [,4]       [,5]\n",
       "[1,] 0.04421185 0.04421185 0.8172701 0.05009439 0.04421185\n",
       "\n",
       "$pip\n",
       "[1] 0.04421185 0.04421185 0.81727005 0.05009439 0.04421185\n"
      ]
     },
     "metadata": {},
     "output_type": "display_data"
    }
   ],
   "source": [
    "susie[c(\"alpha\", \"pip\")]"
   ]
  },
  {
   "cell_type": "code",
   "execution_count": 114,
   "metadata": {
    "kernel": "R"
   },
   "outputs": [
    {
     "name": "stdout",
     "output_type": "stream",
     "text": [
      "\"0.044212\" \"0.001606 \"0.499908\"\n",
      " \"0.044212\" \"0.001606 \"0.499908\"\n",
      " \"0.817270\" \"0.009644 \"0.499908\"\n",
      " \"0.050094\" \"0.002540 \"0.499908\"\n",
      " \"0.044212\" \"0.001606 \"0.499908\"\n"
     ]
    }
   ],
   "source": [
    "cat(sprintf(\"\\\"%f\\\" \\\"%f\\ \\\"%f\\\"\\n\", susie$pip, susie$mu, sqrt(susie$sigma2)))"
   ]
  },
  {
   "cell_type": "code",
   "execution_count": 112,
   "metadata": {
    "kernel": "R"
   },
   "outputs": [
    {
     "name": "stdout",
     "output_type": "stream",
     "text": [
      "\"0.091284\" \"-0.086177 \"0.679331\"\n",
      " \"0.091284\" \"-0.086170 \"0.679331\"\n",
      " \"0.607564\" \"1.070141 \"0.419637\"\n",
      " \"0.080390\" \"0.114609 \"0.585766\"\n",
      " \"0.091284\" \"-0.086189 \"0.679331\"\n"
     ]
    }
   ],
   "source": [
    "cat(sprintf(\"\\\"%f\\\" \\\"%f\\ \\\"%f\\\"\\n\", varbvs$pip, varbvs$mu %*% varbvs$w, sqrt(varbvs$s %*% varbvs$w)))"
   ]
  },
  {
   "cell_type": "code",
   "execution_count": 99,
   "metadata": {
    "kernel": "R"
   },
   "outputs": [
    {
     "data": {
      "text/html": [
       "0.0578355239420391"
      ],
      "text/latex": [
       "0.0578355239420391"
      ],
      "text/markdown": [
       "0.0578355239420391"
      ],
      "text/plain": [
       "[1] 0.05783552"
      ]
     },
     "metadata": {},
     "output_type": "display_data"
    }
   ],
   "source": [
    "sum(varbvs$b0 * varbvs$w)"
   ]
  },
  {
   "cell_type": "code",
   "execution_count": 100,
   "metadata": {
    "kernel": "R"
   },
   "outputs": [
    {
     "data": {
      "text/html": [
       "<table>\n",
       "<tbody>\n",
       "\t<tr><th scope=row>V1</th><td>-0.08617726</td></tr>\n",
       "\t<tr><th scope=row>V2</th><td>-0.08617005</td></tr>\n",
       "\t<tr><th scope=row>V3</th><td> 1.07014141</td></tr>\n",
       "\t<tr><th scope=row>V4</th><td> 0.11460868</td></tr>\n",
       "\t<tr><th scope=row>V5</th><td>-0.08618939</td></tr>\n",
       "</tbody>\n",
       "</table>\n"
      ],
      "text/latex": [
       "\\begin{tabular}{r|l}\n",
       "\tV1 & -0.08617726\\\\\n",
       "\tV2 & -0.08617005\\\\\n",
       "\tV3 &  1.07014141\\\\\n",
       "\tV4 &  0.11460868\\\\\n",
       "\tV5 & -0.08618939\\\\\n",
       "\\end{tabular}\n"
      ],
      "text/markdown": [
       "\n",
       "| V1 | -0.08617726 |\n",
       "| V2 | -0.08617005 |\n",
       "| V3 |  1.07014141 |\n",
       "| V4 |  0.11460868 |\n",
       "| V5 | -0.08618939 |\n",
       "\n"
      ],
      "text/plain": [
       "   [,1]       \n",
       "V1 -0.08617726\n",
       "V2 -0.08617005\n",
       "V3  1.07014141\n",
       "V4  0.11460868\n",
       "V5 -0.08618939"
      ]
     },
     "metadata": {},
     "output_type": "display_data"
    }
   ],
   "source": [
    "varbvs$mu %*% varbvs$w"
   ]
  },
  {
   "cell_type": "code",
   "execution_count": 104,
   "metadata": {
    "kernel": "R"
   },
   "outputs": [
    {
     "data": {
      "text/html": [
       "<table>\n",
       "<tbody>\n",
       "\t<tr><th scope=row>V1</th><td>0.4614906</td></tr>\n",
       "\t<tr><th scope=row>V2</th><td>0.4614906</td></tr>\n",
       "\t<tr><th scope=row>V3</th><td>0.1760952</td></tr>\n",
       "\t<tr><th scope=row>V4</th><td>0.3431223</td></tr>\n",
       "\t<tr><th scope=row>V5</th><td>0.4614906</td></tr>\n",
       "</tbody>\n",
       "</table>\n"
      ],
      "text/latex": [
       "\\begin{tabular}{r|l}\n",
       "\tV1 & 0.4614906\\\\\n",
       "\tV2 & 0.4614906\\\\\n",
       "\tV3 & 0.1760952\\\\\n",
       "\tV4 & 0.3431223\\\\\n",
       "\tV5 & 0.4614906\\\\\n",
       "\\end{tabular}\n"
      ],
      "text/markdown": [
       "\n",
       "| V1 | 0.4614906 |\n",
       "| V2 | 0.4614906 |\n",
       "| V3 | 0.1760952 |\n",
       "| V4 | 0.3431223 |\n",
       "| V5 | 0.4614906 |\n",
       "\n"
      ],
      "text/plain": [
       "   [,1]     \n",
       "V1 0.4614906\n",
       "V2 0.4614906\n",
       "V3 0.1760952\n",
       "V4 0.3431223\n",
       "V5 0.4614906"
      ]
     },
     "metadata": {},
     "output_type": "display_data"
    }
   ],
   "source": [
    "varbvs$s %*% varbvs$w"
   ]
  },
  {
   "cell_type": "code",
   "execution_count": 105,
   "metadata": {
    "kernel": "R"
   },
   "outputs": [
    {
     "data": {
      "text/html": [
       "<table>\n",
       "<thead><tr><th></th><th scope=col>theta_1</th><th scope=col>theta_2</th><th scope=col>theta_3</th><th scope=col>theta_4</th><th scope=col>theta_5</th><th scope=col>theta_6</th><th scope=col>theta_7</th><th scope=col>theta_8</th><th scope=col>theta_9</th><th scope=col>theta_10</th><th scope=col>theta_11</th><th scope=col>theta_12</th><th scope=col>theta_13</th><th scope=col>theta_14</th><th scope=col>theta_15</th><th scope=col>theta_16</th><th scope=col>theta_17</th><th scope=col>theta_18</th><th scope=col>theta_19</th><th scope=col>theta_20</th></tr></thead>\n",
       "<tbody>\n",
       "\t<tr><th scope=row>V1</th><td>0.4640006</td><td>0.4637542</td><td>0.4634954</td><td>0.4632318</td><td>0.4629647</td><td>0.4626929</td><td>0.4624166</td><td>0.4621363</td><td>0.4618523</td><td>0.4615649</td><td>0.4612745</td><td>0.4609815</td><td>0.4606842</td><td>0.4603869</td><td>0.4600882</td><td>0.4597883</td><td>0.4594876</td><td>0.4591865</td><td>0.4588853</td><td>0.4585843</td></tr>\n",
       "\t<tr><th scope=row>V2</th><td>0.4640006</td><td>0.4637542</td><td>0.4634954</td><td>0.4632318</td><td>0.4629647</td><td>0.4626929</td><td>0.4624166</td><td>0.4621363</td><td>0.4618523</td><td>0.4615649</td><td>0.4612745</td><td>0.4609815</td><td>0.4606842</td><td>0.4603869</td><td>0.4600882</td><td>0.4597883</td><td>0.4594876</td><td>0.4591865</td><td>0.4588853</td><td>0.4585843</td></tr>\n",
       "\t<tr><th scope=row>V3</th><td>0.1776425</td><td>0.1774811</td><td>0.1773148</td><td>0.1771470</td><td>0.1769785</td><td>0.1768087</td><td>0.1766377</td><td>0.1764657</td><td>0.1762927</td><td>0.1761191</td><td>0.1759450</td><td>0.1757705</td><td>0.1755948</td><td>0.1754200</td><td>0.1752454</td><td>0.1750711</td><td>0.1748972</td><td>0.1747240</td><td>0.1745516</td><td>0.1743801</td></tr>\n",
       "\t<tr><th scope=row>V4</th><td>0.3445726</td><td>0.3444283</td><td>0.3442773</td><td>0.3441240</td><td>0.3439689</td><td>0.3438115</td><td>0.3436518</td><td>0.3434900</td><td>0.3433264</td><td>0.3431611</td><td>0.3429943</td><td>0.3428262</td><td>0.3426560</td><td>0.3424859</td><td>0.3423151</td><td>0.3421438</td><td>0.3419722</td><td>0.3418004</td><td>0.3416287</td><td>0.3414573</td></tr>\n",
       "\t<tr><th scope=row>V5</th><td>0.4640006</td><td>0.4637542</td><td>0.4634954</td><td>0.4632318</td><td>0.4629647</td><td>0.4626929</td><td>0.4624166</td><td>0.4621363</td><td>0.4618523</td><td>0.4615649</td><td>0.4612745</td><td>0.4609815</td><td>0.4606842</td><td>0.4603869</td><td>0.4600882</td><td>0.4597883</td><td>0.4594876</td><td>0.4591865</td><td>0.4588853</td><td>0.4585843</td></tr>\n",
       "</tbody>\n",
       "</table>\n"
      ],
      "text/latex": [
       "\\begin{tabular}{r|llllllllllllllllllll}\n",
       "  & theta\\_1 & theta\\_2 & theta\\_3 & theta\\_4 & theta\\_5 & theta\\_6 & theta\\_7 & theta\\_8 & theta\\_9 & theta\\_10 & theta\\_11 & theta\\_12 & theta\\_13 & theta\\_14 & theta\\_15 & theta\\_16 & theta\\_17 & theta\\_18 & theta\\_19 & theta\\_20\\\\\n",
       "\\hline\n",
       "\tV1 & 0.4640006 & 0.4637542 & 0.4634954 & 0.4632318 & 0.4629647 & 0.4626929 & 0.4624166 & 0.4621363 & 0.4618523 & 0.4615649 & 0.4612745 & 0.4609815 & 0.4606842 & 0.4603869 & 0.4600882 & 0.4597883 & 0.4594876 & 0.4591865 & 0.4588853 & 0.4585843\\\\\n",
       "\tV2 & 0.4640006 & 0.4637542 & 0.4634954 & 0.4632318 & 0.4629647 & 0.4626929 & 0.4624166 & 0.4621363 & 0.4618523 & 0.4615649 & 0.4612745 & 0.4609815 & 0.4606842 & 0.4603869 & 0.4600882 & 0.4597883 & 0.4594876 & 0.4591865 & 0.4588853 & 0.4585843\\\\\n",
       "\tV3 & 0.1776425 & 0.1774811 & 0.1773148 & 0.1771470 & 0.1769785 & 0.1768087 & 0.1766377 & 0.1764657 & 0.1762927 & 0.1761191 & 0.1759450 & 0.1757705 & 0.1755948 & 0.1754200 & 0.1752454 & 0.1750711 & 0.1748972 & 0.1747240 & 0.1745516 & 0.1743801\\\\\n",
       "\tV4 & 0.3445726 & 0.3444283 & 0.3442773 & 0.3441240 & 0.3439689 & 0.3438115 & 0.3436518 & 0.3434900 & 0.3433264 & 0.3431611 & 0.3429943 & 0.3428262 & 0.3426560 & 0.3424859 & 0.3423151 & 0.3421438 & 0.3419722 & 0.3418004 & 0.3416287 & 0.3414573\\\\\n",
       "\tV5 & 0.4640006 & 0.4637542 & 0.4634954 & 0.4632318 & 0.4629647 & 0.4626929 & 0.4624166 & 0.4621363 & 0.4618523 & 0.4615649 & 0.4612745 & 0.4609815 & 0.4606842 & 0.4603869 & 0.4600882 & 0.4597883 & 0.4594876 & 0.4591865 & 0.4588853 & 0.4585843\\\\\n",
       "\\end{tabular}\n"
      ],
      "text/markdown": [
       "\n",
       "| <!--/--> | theta_1 | theta_2 | theta_3 | theta_4 | theta_5 | theta_6 | theta_7 | theta_8 | theta_9 | theta_10 | theta_11 | theta_12 | theta_13 | theta_14 | theta_15 | theta_16 | theta_17 | theta_18 | theta_19 | theta_20 |\n",
       "|---|---|---|---|---|---|---|---|---|---|---|---|---|---|---|---|---|---|---|---|---|\n",
       "| V1 | 0.4640006 | 0.4637542 | 0.4634954 | 0.4632318 | 0.4629647 | 0.4626929 | 0.4624166 | 0.4621363 | 0.4618523 | 0.4615649 | 0.4612745 | 0.4609815 | 0.4606842 | 0.4603869 | 0.4600882 | 0.4597883 | 0.4594876 | 0.4591865 | 0.4588853 | 0.4585843 |\n",
       "| V2 | 0.4640006 | 0.4637542 | 0.4634954 | 0.4632318 | 0.4629647 | 0.4626929 | 0.4624166 | 0.4621363 | 0.4618523 | 0.4615649 | 0.4612745 | 0.4609815 | 0.4606842 | 0.4603869 | 0.4600882 | 0.4597883 | 0.4594876 | 0.4591865 | 0.4588853 | 0.4585843 |\n",
       "| V3 | 0.1776425 | 0.1774811 | 0.1773148 | 0.1771470 | 0.1769785 | 0.1768087 | 0.1766377 | 0.1764657 | 0.1762927 | 0.1761191 | 0.1759450 | 0.1757705 | 0.1755948 | 0.1754200 | 0.1752454 | 0.1750711 | 0.1748972 | 0.1747240 | 0.1745516 | 0.1743801 |\n",
       "| V4 | 0.3445726 | 0.3444283 | 0.3442773 | 0.3441240 | 0.3439689 | 0.3438115 | 0.3436518 | 0.3434900 | 0.3433264 | 0.3431611 | 0.3429943 | 0.3428262 | 0.3426560 | 0.3424859 | 0.3423151 | 0.3421438 | 0.3419722 | 0.3418004 | 0.3416287 | 0.3414573 |\n",
       "| V5 | 0.4640006 | 0.4637542 | 0.4634954 | 0.4632318 | 0.4629647 | 0.4626929 | 0.4624166 | 0.4621363 | 0.4618523 | 0.4615649 | 0.4612745 | 0.4609815 | 0.4606842 | 0.4603869 | 0.4600882 | 0.4597883 | 0.4594876 | 0.4591865 | 0.4588853 | 0.4585843 |\n",
       "\n"
      ],
      "text/plain": [
       "   theta_1   theta_2   theta_3   theta_4   theta_5   theta_6   theta_7  \n",
       "V1 0.4640006 0.4637542 0.4634954 0.4632318 0.4629647 0.4626929 0.4624166\n",
       "V2 0.4640006 0.4637542 0.4634954 0.4632318 0.4629647 0.4626929 0.4624166\n",
       "V3 0.1776425 0.1774811 0.1773148 0.1771470 0.1769785 0.1768087 0.1766377\n",
       "V4 0.3445726 0.3444283 0.3442773 0.3441240 0.3439689 0.3438115 0.3436518\n",
       "V5 0.4640006 0.4637542 0.4634954 0.4632318 0.4629647 0.4626929 0.4624166\n",
       "   theta_8   theta_9   theta_10  theta_11  theta_12  theta_13  theta_14 \n",
       "V1 0.4621363 0.4618523 0.4615649 0.4612745 0.4609815 0.4606842 0.4603869\n",
       "V2 0.4621363 0.4618523 0.4615649 0.4612745 0.4609815 0.4606842 0.4603869\n",
       "V3 0.1764657 0.1762927 0.1761191 0.1759450 0.1757705 0.1755948 0.1754200\n",
       "V4 0.3434900 0.3433264 0.3431611 0.3429943 0.3428262 0.3426560 0.3424859\n",
       "V5 0.4621363 0.4618523 0.4615649 0.4612745 0.4609815 0.4606842 0.4603869\n",
       "   theta_15  theta_16  theta_17  theta_18  theta_19  theta_20 \n",
       "V1 0.4600882 0.4597883 0.4594876 0.4591865 0.4588853 0.4585843\n",
       "V2 0.4600882 0.4597883 0.4594876 0.4591865 0.4588853 0.4585843\n",
       "V3 0.1752454 0.1750711 0.1748972 0.1747240 0.1745516 0.1743801\n",
       "V4 0.3423151 0.3421438 0.3419722 0.3418004 0.3416287 0.3414573\n",
       "V5 0.4600882 0.4597883 0.4594876 0.4591865 0.4588853 0.4585843"
      ]
     },
     "metadata": {},
     "output_type": "display_data"
    }
   ],
   "source": [
    "varbvs$s"
   ]
  },
  {
   "cell_type": "code",
   "execution_count": 110,
   "metadata": {
    "kernel": "R"
   },
   "outputs": [
    {
     "data": {
      "text/html": [
       "<ol class=list-inline>\n",
       "\t<li>0.99115458757371</li>\n",
       "\t<li>0.991477758408664</li>\n",
       "\t<li>0.991778706573653</li>\n",
       "\t<li>0.992071331769724</li>\n",
       "\t<li>0.992357636327466</li>\n",
       "\t<li>0.992635117150219</li>\n",
       "\t<li>0.992904086177809</li>\n",
       "\t<li>0.993164838916659</li>\n",
       "\t<li>0.993417654565726</li>\n",
       "\t<li>0.993662796290711</li>\n",
       "\t<li>0.993900511632446</li>\n",
       "\t<li>0.994131033034551</li>\n",
       "\t<li>0.994351523116981</li>\n",
       "\t<li>0.994568311269068</li>\n",
       "\t<li>0.994778544463095</li>\n",
       "\t<li>0.994982398492895</li>\n",
       "\t<li>0.995180038053318</li>\n",
       "\t<li>0.995371617681734</li>\n",
       "\t<li>0.995557282707902</li>\n",
       "\t<li>0.995737170198971</li>\n",
       "</ol>\n"
      ],
      "text/latex": [
       "\\begin{enumerate*}\n",
       "\\item 0.99115458757371\n",
       "\\item 0.991477758408664\n",
       "\\item 0.991778706573653\n",
       "\\item 0.992071331769724\n",
       "\\item 0.992357636327466\n",
       "\\item 0.992635117150219\n",
       "\\item 0.992904086177809\n",
       "\\item 0.993164838916659\n",
       "\\item 0.993417654565726\n",
       "\\item 0.993662796290711\n",
       "\\item 0.993900511632446\n",
       "\\item 0.994131033034551\n",
       "\\item 0.994351523116981\n",
       "\\item 0.994568311269068\n",
       "\\item 0.994778544463095\n",
       "\\item 0.994982398492895\n",
       "\\item 0.995180038053318\n",
       "\\item 0.995371617681734\n",
       "\\item 0.995557282707902\n",
       "\\item 0.995737170198971\n",
       "\\end{enumerate*}\n"
      ],
      "text/markdown": [
       "1. 0.99115458757371\n",
       "2. 0.991477758408664\n",
       "3. 0.991778706573653\n",
       "4. 0.992071331769724\n",
       "5. 0.992357636327466\n",
       "6. 0.992635117150219\n",
       "7. 0.992904086177809\n",
       "8. 0.993164838916659\n",
       "9. 0.993417654565726\n",
       "10. 0.993662796290711\n",
       "11. 0.993900511632446\n",
       "12. 0.994131033034551\n",
       "13. 0.994351523116981\n",
       "14. 0.994568311269068\n",
       "15. 0.994778544463095\n",
       "16. 0.994982398492895\n",
       "17. 0.995180038053318\n",
       "18. 0.995371617681734\n",
       "19. 0.995557282707902\n",
       "20. 0.995737170198971\n",
       "\n",
       "\n"
      ],
      "text/plain": [
       " [1] 0.9911546 0.9914778 0.9917787 0.9920713 0.9923576 0.9926351 0.9929041\n",
       " [8] 0.9931648 0.9934177 0.9936628 0.9939005 0.9941310 0.9943515 0.9945683\n",
       "[15] 0.9947785 0.9949824 0.9951800 0.9953716 0.9955573 0.9957372"
      ]
     },
     "metadata": {},
     "output_type": "display_data"
    }
   ],
   "source": [
    "varbvs$sa"
   ]
  },
  {
   "cell_type": "code",
   "execution_count": null,
   "metadata": {
    "kernel": "R"
   },
   "outputs": [],
   "source": []
  },
  {
   "cell_type": "code",
   "execution_count": null,
   "metadata": {
    "kernel": "R"
   },
   "outputs": [],
   "source": []
  },
  {
   "cell_type": "code",
   "execution_count": null,
   "metadata": {
    "kernel": "R"
   },
   "outputs": [],
   "source": []
  },
  {
   "cell_type": "code",
   "execution_count": null,
   "metadata": {
    "kernel": "R"
   },
   "outputs": [],
   "source": []
  },
  {
   "cell_type": "code",
   "execution_count": null,
   "metadata": {
    "kernel": "R"
   },
   "outputs": [],
   "source": []
  },
  {
   "cell_type": "code",
   "execution_count": 10,
   "metadata": {
    "kernel": "R"
   },
   "outputs": [],
   "source": [
    "# A very short script demonstrating the use of bayes.logistic to\n",
    "# compute posterior statistics for a simple \"single effect\" Bayesian\n",
    "# logistic regression model.\n",
    "\n",
    "# SCRIPT PARAMETERS\n",
    "# -----------------\n",
    "# These are the data simulation parameters: the data are simulated\n",
    "# from a single-effect regression model with intercept b0 and nonzero\n",
    "# effect with regression coefficient b1; that is, the success rate for\n",
    "# outcome Y is sigmoid(b0 + b*X).\n",
    "n  <- 75\n",
    "p  <- 20\n",
    "b0 <- -1\n",
    "b  <- 1.75\n",
    "\n",
    "# These script parameters specify the prior on the regression\n",
    "# coefficient: mu0 is the prior mean, and s0 is the prior standard\n",
    "# deviation. (The intercept is assigned a \"flat\" prior.)\n",
    "p0  <- rep(1/p,1,p)\n",
    "mu0 <- 1\n",
    "s0  <- 4"
   ]
  },
  {
   "cell_type": "code",
   "execution_count": 11,
   "metadata": {
    "kernel": "R"
   },
   "outputs": [
    {
     "name": "stdout",
     "output_type": "stream",
     "text": [
      "Simulating data.\n"
     ]
    }
   ],
   "source": [
    "# SET UP ENVIRONMENT\n",
    "# ------------------\n",
    "# Load some function definitions.\n",
    "source(\"/home/min/GIT/logistic/code/misc.R\")\n",
    "source(\"/home/min/GIT/logistic/code/bayes.R\")\n",
    "\n",
    "# Initialize the sequence of pseudorandom numbers.\n",
    "set.seed(1)\n",
    "\n",
    "# SIMULATE DATA\n",
    "# -------------\n",
    "# Simulate p covariates i.i.d. from the standard normal, then draw\n",
    "# samples y from a logistic regression in which the probability of\n",
    "# success is given by sigmoid(b0 + x*b).\n",
    "cat(\"Simulating data.\\n\")\n",
    "X <- matrix(rnorm(n*p),n,p)\n",
    "X <- scale(X,center = TRUE,scale = FALSE)\n",
    "u <- b0 + b*X[,1]\n",
    "y <- as.numeric(runif(n) < sigmoid(u))"
   ]
  },
  {
   "cell_type": "code",
   "execution_count": 12,
   "metadata": {
    "kernel": "R"
   },
   "outputs": [
    {
     "name": "stdout",
     "output_type": "stream",
     "text": [
      "Performing Bayesian computations.\n",
      "      p1    mu1    s1\n",
      "1  0.989  1.363 0.388\n",
      "12 0.003  0.611 0.253\n",
      "2  0.002  0.625 0.300\n",
      "10 0.001 -0.512 0.240\n",
      "6  0.000 -0.365 0.239\n",
      "8  0.000  0.386 0.263\n",
      "17 0.000 -0.354 0.240\n",
      "15 0.000  0.334 0.253\n",
      "5  0.000  0.325 0.257\n",
      "7  0.000 -0.293 0.229\n",
      "16 0.000 -0.286 0.244\n",
      "9  0.000 -0.231 0.227\n",
      "14 0.000 -0.205 0.275\n",
      "19 0.000 -0.197 0.268\n",
      "4  0.000  0.208 0.250\n",
      "3  0.000 -0.192 0.240\n",
      "20 0.000  0.148 0.240\n",
      "18 0.000 -0.114 0.249\n",
      "11 0.000  0.062 0.232\n",
      "13 0.000  0.083 0.218\n"
     ]
    }
   ],
   "source": [
    "# COMPUTE POSTERIOR STATTISTICS\n",
    "# -----------------------------\n",
    "# Compute the posterior inclusion probabilities, and the posterior\n",
    "# means and standard deviations of the coefficients in the logistic\n",
    "# regression.\n",
    "cat(\"Performing Bayesian computations.\\n\")\n",
    "out  <- bayes.logistic(X,y,p0,mu0,s0)\n",
    "rows <- order(out$p1,decreasing = TRUE)\n",
    "print(round(out[rows,],digits = 3))"
   ]
  },
  {
   "cell_type": "code",
   "execution_count": 15,
   "metadata": {
    "kernel": "R"
   },
   "outputs": [
    {
     "data": {
      "text/html": [
       "-2.30997245021061"
      ],
      "text/latex": [
       "-2.30997245021061"
      ],
      "text/markdown": [
       "-2.30997245021061"
      ],
      "text/plain": [
       "[1] -2.309972"
      ]
     },
     "metadata": {},
     "output_type": "display_data"
    }
   ],
   "source": [
    "-0.748555685834634*1.75-1"
   ]
  },
  {
   "cell_type": "code",
   "execution_count": 20,
   "metadata": {
    "kernel": "R"
   },
   "outputs": [
    {
     "data": {
      "text/html": [
       "<ol class=list-inline>\n",
       "\t<li>-0.748555685834634</li>\n",
       "\t<li>0.061541449129781</li>\n",
       "\t<li>-0.957730487502348</li>\n",
       "\t<li>1.47317892704549</li>\n",
       "\t<li>0.207405896723059</li>\n",
       "</ol>\n"
      ],
      "text/latex": [
       "\\begin{enumerate*}\n",
       "\\item -0.748555685834634\n",
       "\\item 0.061541449129781\n",
       "\\item -0.957730487502348\n",
       "\\item 1.47317892704549\n",
       "\\item 0.207405896723059\n",
       "\\end{enumerate*}\n"
      ],
      "text/markdown": [
       "1. -0.748555685834634\n",
       "2. 0.061541449129781\n",
       "3. -0.957730487502348\n",
       "4. 1.47317892704549\n",
       "5. 0.207405896723059\n",
       "\n",
       "\n"
      ],
      "text/plain": [
       "[1] -0.74855569  0.06154145 -0.95773049  1.47317893  0.20740590"
      ]
     },
     "metadata": {},
     "output_type": "display_data"
    }
   ],
   "source": [
    "X[,1][1:5]"
   ]
  },
  {
   "cell_type": "code",
   "execution_count": 18,
   "metadata": {
    "kernel": "R"
   },
   "outputs": [
    {
     "data": {
      "text/html": [
       "<ol class=list-inline>\n",
       "\t<li>-2.30997245021061</li>\n",
       "\t<li>-0.892302464022883</li>\n",
       "\t<li>-2.67602835312911</li>\n",
       "\t<li>1.57806312232961</li>\n",
       "\t<li>-0.637039680734646</li>\n",
       "</ol>\n"
      ],
      "text/latex": [
       "\\begin{enumerate*}\n",
       "\\item -2.30997245021061\n",
       "\\item -0.892302464022883\n",
       "\\item -2.67602835312911\n",
       "\\item 1.57806312232961\n",
       "\\item -0.637039680734646\n",
       "\\end{enumerate*}\n"
      ],
      "text/markdown": [
       "1. -2.30997245021061\n",
       "2. -0.892302464022883\n",
       "3. -2.67602835312911\n",
       "4. 1.57806312232961\n",
       "5. -0.637039680734646\n",
       "\n",
       "\n"
      ],
      "text/plain": [
       "[1] -2.3099725 -0.8923025 -2.6760284  1.5780631 -0.6370397"
      ]
     },
     "metadata": {},
     "output_type": "display_data"
    }
   ],
   "source": [
    "u[1:5]"
   ]
  },
  {
   "cell_type": "code",
   "execution_count": null,
   "metadata": {
    "kernel": "R"
   },
   "outputs": [],
   "source": []
  }
 ],
 "metadata": {
  "kernelspec": {
   "display_name": "SoS",
   "language": "sos",
   "name": "sos"
  },
  "language_info": {
   "codemirror_mode": "sos",
   "file_extension": ".sos",
   "mimetype": "text/x-sos",
   "name": "sos",
   "nbconvert_exporter": "sos_notebook.converter.SoS_Exporter",
   "pygments_lexer": "sos"
  },
  "sos": {
   "kernels": [
    [
     "R",
     "ir",
     "R",
     "#DCDCDA",
     "r"
    ]
   ],
   "version": "0.20.5"
  }
 },
 "nbformat": 4,
 "nbformat_minor": 4
}
