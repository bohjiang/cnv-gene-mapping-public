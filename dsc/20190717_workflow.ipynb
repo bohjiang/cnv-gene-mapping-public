{
 "cells": [
  {
   "cell_type": "markdown",
   "metadata": {
    "kernel": "SoS"
   },
   "source": [
    "# Copy model simulation and analysis workflow"
   ]
  },
  {
   "cell_type": "code",
   "execution_count": 1,
   "metadata": {
    "kernel": "SoS"
   },
   "outputs": [
    {
     "name": "stdout",
     "output_type": "stream",
     "text": [
      "usage: sos run 20190717_workflow.ipynb\n",
      "               [workflow_name | -t targets] [options] [workflow_options]\n",
      "  workflow_name:        Single or combined workflows defined in this script\n",
      "  targets:              One or more targets to generate\n",
      "  options:              Single-hyphen sos parameters (see \"sos run -h\" for details)\n",
      "  workflow_options:     Double-hyphen workflow-specific parameters\n",
      "\n",
      "Workflows:\n",
      "  get_hist\n",
      "  simulate\n",
      "  analyze\n",
      "  default\n",
      "  get_data_hist\n",
      "\n",
      "Global Workflow Options:\n",
      "  --cnv-type deletion\n",
      "  --cwd /home/min/GIT/github/cnv-gene-mapping/data (as path)\n",
      "  --genotype-file  path(f\"{cwd:a}/{cnv_type}.X.gz\")\n",
      "\n",
      "  --phenotype-file  path(f\"{cwd:a}/{cnv_type}.y\") # real CNV data phenotype\n",
      "\n",
      "\n",
      "Sections\n",
      "  get_hist_1, simulate_1, analyze_1:\n",
      "    Workflow Options:\n",
      "      --n-gene-in-block 1 (as int)\n",
      "                        For simulation: get real deletion/duplication CNV data\n",
      "                        and its block n_gene_in_block: get_hist: 1, simulate:\n",
      "                        20~50, analyze: 1\n",
      "  simulate_2:\n",
      "  simulate_3:\n",
      "    Workflow Options:\n",
      "      --sample-size 100000 (as int)\n",
      "      --n-batch 200 (as int)\n",
      "  simulate_4:\n",
      "  simulate_5:\n",
      "    Workflow Options:\n",
      "      --shape 3.0 (as float)\n",
      "                        shape = 3; scale = 1 for gamma shape = 2.191013; scale =\n",
      "                        0.2682398 for normal\n",
      "      --scale 1.0 (as float)\n",
      "      --beta-method normal\n",
      "                        'gamma' or 'normal'\n",
      "      --penetrance 0.05 (as float)\n",
      "      --seed 999999 (as int)\n",
      "      --ctrl-case-ratio 1.0 (as float)\n",
      "      --pi0 0.95 (as float)\n",
      "  analyze_2:\n",
      "    Workflow Options:\n",
      "      --L 1 (as int)\n",
      "      --pve 0.005 (as float)\n",
      "      --method optim\n",
      "      --real TRUE\n",
      "      --simu-pheno VAL (required)\n",
      "  get_hist_2:\n",
      "  default_1, get_data_hist_1:\n",
      "    Workflow Options:\n",
      "      --n-gene-in-block 20 (as int)\n",
      "  default_2:\n",
      "    Workflow Options:\n",
      "      --sample-size 100000 (as int)\n",
      "      --n-batch 200 (as int)\n",
      "  default_3:\n",
      "  default_4:\n",
      "    Workflow Options:\n",
      "      --shape 3 (as int)\n",
      "                        For shape = 3; scale = 1 for gamma shape = 2.191013;\n",
      "                        scale = 0.2682398 for normal\n",
      "      --scale 1 (as int)\n",
      "      --beta-method normal\n",
      "                        'gamma' or 'normal'\n",
      "      --penetrance 0.05 (as float)\n",
      "      --seed 999999 (as int)\n",
      "      --ctrl-case-ratio 1.0 (as float)\n",
      "      --pi0 0.95 (as float)\n",
      "  default_5, get_data_hist_2:\n",
      "  default_6:\n",
      "  default_7:\n",
      "    Workflow Options:\n",
      "      --L 10 (as int)\n",
      "      --pve 0.005 (as float)\n",
      "      --method optim\n"
     ]
    }
   ],
   "source": [
    "!sos run 20190717_workflow.ipynb -h"
   ]
  },
  {
   "cell_type": "markdown",
   "metadata": {
    "kernel": "SoS"
   },
   "source": [
    "## Run this workflow\n",
    "### Simulation:\n",
    "```\n",
    "sos run dsc/20190717_workflow.ipynb simulate:1-5 --n_gene_in_block 30 --shape 1 --scale 0.5 -s build\n",
    "```\n",
    "### Get histogram\n",
    "- For simulation\n",
    "```\n",
    "sos run dsc/20190717_workflow.ipynb get_hist:1-2 --genotype_file /home/min/GIT/cnv-gene-mapping/data/deletion_simu/deletion.genes.block30.for_simu.sample.X.gz \\\n",
    "--n_gene_in_block 1 -s build\n",
    "```\n",
    "- For real data\n",
    "```\n",
    "sos run dsc/20190717_workflow.ipynb get_hist:1-2 --n_gene_in_block 1 -s build\n",
    "```\n",
    "\n",
    "### Analyze\n",
    "```\n",
    "sos run dsc/20190717_workflow.ipynb susie:1-3 --genotype_file /home/min/GIT/cnv-gene-mapping/data/deletion_simu/deletion.genes.block30.for_simu.sample.X.gz \\\n",
    "--phenotype_file /home/min/GIT/cnv-gene-mapping/data/deletion_simu/deletion.genes.block30.for_simu.sample.y --n_gene_in_block 1 -s build\n",
    "```\n",
    "```\n",
    "sos run dsc/20190717_workflow.ipynb fisher:1-2 --genotype_file /home/min/GIT/cnv-gene-mapping/data/deletion_simu/deletion.genes.block30.for_simu.sample.X.gz \\\n",
    "--phenotype_file /home/min/GIT/cnv-gene-mapping/data/deletion_simu/deletion.genes.block30.for_simu.sample.y --n_gene_in_block 1 -s build\n",
    "```"
   ]
  },
  {
   "cell_type": "code",
   "execution_count": null,
   "metadata": {
    "kernel": "SoS"
   },
   "outputs": [],
   "source": [
    "[global]\n",
    "parameter: cnv_type = \"deletion\"\n",
    "parameter: cwd = path(\"~/GIT/cnv-gene-mapping/data\")\n",
    "parameter: genotype_file = path(f\"{cwd:a}/{cnv_type}.X.gz\")\n",
    "parameter: phenotype_file = path(f\"{cwd:a}/{cnv_type}.y\") # real CNV data phenotype\n",
    "def fmtP(x):\n",
    "    return str(x).replace(\".\", \"p\").replace(' ', '_').replace('\"', \"\").replace(\"'\", \"\").replace(\"-\", '_')"
   ]
  },
  {
   "cell_type": "code",
   "execution_count": 1,
   "metadata": {
    "kernel": "SoS"
   },
   "outputs": [],
   "source": [
    "[get_hist_1, simulate_1, susie_1, varbvs_1, fisher_1]\n",
    "# For simulation: get real deletion/duplication CNV data and its block\n",
    "# n_gene_in_block: get_hist: 1, simulate: 20~50, analyze: 1\n",
    "parameter: n_gene_in_block = 1\n",
    "input: genotype_file\n",
    "output: f\"{_input:nn}.genes.block{n_gene_in_block}.gz\", f\"{_input:nn}.block{n_gene_in_block}.forsimu.index.csv\", f\"{_input:nn}.block{n_gene_in_block}.index.csv\"\n",
    "python: expand = '${ }'\n",
    "    import pandas as pd\n",
    "    from operator import itemgetter\n",
    "    from itertools import *\n",
    "    data = pd.read_csv(${_input:r}, compression = \"gzip\", sep = \"\\t\", header = None)\n",
    "    data_clean = data.loc[:, (data != 0).any(axis = 0)]\n",
    "    data_clean.to_csv(${_output[0]:r}, compression = \"gzip\", sep = \"\\t\", header = False, index = False)\n",
    "    indices = list(data_clean.columns)\n",
    "    bound = list()\n",
    "    i = 0; j = 1; n_0 = len(indices)\n",
    "    while (j < n_0):\n",
    "        if indices[j] - indices[i] >= ${n_gene_in_block} and indices[j] - indices[j-1] > 1:\n",
    "            bound.append([indices[i], indices[j-1]])\n",
    "            i = j\n",
    "        j += 1\n",
    "    bound.append([indices[i], indices[j-1]])\n",
    "    bound = [item for item in bound if item[1] != 0]\n",
    "    if bound[-1] == bound[-2]:\n",
    "        bound = bound[:-1]\n",
    "    pd.DataFrame(bound).to_csv(${_output[1]:r}, sep = \"\\t\", header = False, index = False)\n",
    "    span = [item[1] - item[0] for item in bound]\n",
    "    bound2 = list()\n",
    "    start = 0\n",
    "    for i in span:\n",
    "        end = start + i\n",
    "        start = end + 1\n",
    "        bound2.extend([end, start])\n",
    "    bound2 = [0] + bound2[:-1]\n",
    "    bound3 = [bound2[x:x+2] for x in range(0, len(bound2), 2)]\n",
    "    ## bound3: index start from 0\n",
    "    pd.DataFrame(bound3).to_csv(${_output[2]:r}, sep = \"\\t\", header = False, index = False)"
   ]
  },
  {
   "cell_type": "code",
   "execution_count": null,
   "metadata": {
    "kernel": "SoS"
   },
   "outputs": [],
   "source": [
    "[fisher_2]\n",
    "output: f\"{_input[0]:n}.fisher.gz\"\n",
    "python: expand = '${ }'\n",
    "    import pandas as pd\n",
    "    from fisher import pvalue\n",
    "    data = pd.read_csv(${_input[0]:r}, compression = \"gzip\", sep = \"\\t\", header = None)\n",
    "    y = pd.read_csv(\"${phenotype_file}\", header = None, names = [\"y\"])\n",
    "    xy = pd.concat([y, data], axis = 1, join = 'inner')\n",
    "    xy1 = xy[xy[\"y\"] == 1]\n",
    "    n1 = xy1.shape[0]\n",
    "    xy0 = xy[xy[\"y\"] == 0]\n",
    "    n0 = xy0.shape[0]\n",
    "    res = list()\n",
    "    for i in list(data.columns):\n",
    "        res.append([sum(xy1.loc[:,i]), n1 - sum(xy1.loc[:,i]), sum(xy0.loc[:,i]), n0 - sum(xy0.loc[:,i]), \n",
    "                   pvalue(sum(xy1.loc[:,i]), n1 - sum(xy1.loc[:,i]), sum(xy0.loc[:,i]), n0 - sum(xy0.loc[:,i])).two_tail])\n",
    "    pd.DataFrame(res).to_csv(${_output:r}, compression = \"gzip\", sep = \"\\t\", header = [\"d_c\", \"d_nc\", \"nd_c\", \"nd_nc\", \"p\"], index = False)"
   ]
  },
  {
   "cell_type": "code",
   "execution_count": 135,
   "metadata": {
    "kernel": "SoS"
   },
   "outputs": [],
   "source": [
    "fisher = pd.read_csv(\"/home/min/GIT/cnv-gene-mapping/data/deletion_simu/deletion.genes.block30.for_simu.sample.genes.block1.fisher.gz\", compression = \"gzip\", sep = \"\\t\", header = 0)"
   ]
  },
  {
   "cell_type": "code",
   "execution_count": 136,
   "metadata": {
    "kernel": "SoS"
   },
   "outputs": [
    {
     "data": {
      "text/plain": [
       "(2285, 5)"
      ]
     },
     "execution_count": 136,
     "metadata": {},
     "output_type": "execute_result"
    }
   ],
   "source": [
    "fisher.shape"
   ]
  },
  {
   "cell_type": "code",
   "execution_count": 160,
   "metadata": {
    "kernel": "SoS"
   },
   "outputs": [
    {
     "data": {
      "text/html": [
       "<div>\n",
       "<style scoped>\n",
       "    .dataframe tbody tr th:only-of-type {\n",
       "        vertical-align: middle;\n",
       "    }\n",
       "\n",
       "    .dataframe tbody tr th {\n",
       "        vertical-align: top;\n",
       "    }\n",
       "\n",
       "    .dataframe thead th {\n",
       "        text-align: right;\n",
       "    }\n",
       "</style>\n",
       "<table border=\"1\" class=\"dataframe\">\n",
       "  <thead>\n",
       "    <tr style=\"text-align: right;\">\n",
       "      <th></th>\n",
       "      <th>d_c</th>\n",
       "      <th>d_nc</th>\n",
       "      <th>nd_c</th>\n",
       "      <th>nd_nc</th>\n",
       "      <th>p</th>\n",
       "    </tr>\n",
       "  </thead>\n",
       "  <tbody>\n",
       "    <tr>\n",
       "      <th>23</th>\n",
       "      <td>528</td>\n",
       "      <td>6178</td>\n",
       "      <td>61</td>\n",
       "      <td>6645</td>\n",
       "      <td>0.000005</td>\n",
       "    </tr>\n",
       "    <tr>\n",
       "      <th>24</th>\n",
       "      <td>603</td>\n",
       "      <td>6103</td>\n",
       "      <td>76</td>\n",
       "      <td>6630</td>\n",
       "      <td>0.000005</td>\n",
       "    </tr>\n",
       "    <tr>\n",
       "      <th>25</th>\n",
       "      <td>603</td>\n",
       "      <td>6103</td>\n",
       "      <td>76</td>\n",
       "      <td>6630</td>\n",
       "      <td>0.000005</td>\n",
       "    </tr>\n",
       "    <tr>\n",
       "      <th>26</th>\n",
       "      <td>603</td>\n",
       "      <td>6103</td>\n",
       "      <td>76</td>\n",
       "      <td>6630</td>\n",
       "      <td>0.000005</td>\n",
       "    </tr>\n",
       "    <tr>\n",
       "      <th>27</th>\n",
       "      <td>603</td>\n",
       "      <td>6103</td>\n",
       "      <td>76</td>\n",
       "      <td>6630</td>\n",
       "      <td>0.000005</td>\n",
       "    </tr>\n",
       "    <tr>\n",
       "      <th>28</th>\n",
       "      <td>603</td>\n",
       "      <td>6103</td>\n",
       "      <td>76</td>\n",
       "      <td>6630</td>\n",
       "      <td>0.000005</td>\n",
       "    </tr>\n",
       "    <tr>\n",
       "      <th>29</th>\n",
       "      <td>234</td>\n",
       "      <td>6472</td>\n",
       "      <td>41</td>\n",
       "      <td>6665</td>\n",
       "      <td>0.000003</td>\n",
       "    </tr>\n",
       "    <tr>\n",
       "      <th>30</th>\n",
       "      <td>162</td>\n",
       "      <td>6544</td>\n",
       "      <td>26</td>\n",
       "      <td>6680</td>\n",
       "      <td>0.000003</td>\n",
       "    </tr>\n",
       "    <tr>\n",
       "      <th>31</th>\n",
       "      <td>20</td>\n",
       "      <td>6686</td>\n",
       "      <td>3</td>\n",
       "      <td>6703</td>\n",
       "      <td>0.000483</td>\n",
       "    </tr>\n",
       "    <tr>\n",
       "      <th>32</th>\n",
       "      <td>20</td>\n",
       "      <td>6686</td>\n",
       "      <td>3</td>\n",
       "      <td>6703</td>\n",
       "      <td>0.000483</td>\n",
       "    </tr>\n",
       "  </tbody>\n",
       "</table>\n",
       "</div>"
      ],
      "text/plain": [
       "    d_c  d_nc  nd_c  nd_nc         p\n",
       "23  528  6178    61   6645  0.000005\n",
       "24  603  6103    76   6630  0.000005\n",
       "25  603  6103    76   6630  0.000005\n",
       "26  603  6103    76   6630  0.000005\n",
       "27  603  6103    76   6630  0.000005\n",
       "28  603  6103    76   6630  0.000005\n",
       "29  234  6472    41   6665  0.000003\n",
       "30  162  6544    26   6680  0.000003\n",
       "31   20  6686     3   6703  0.000483\n",
       "32   20  6686     3   6703  0.000483"
      ]
     },
     "execution_count": 160,
     "metadata": {},
     "output_type": "execute_result"
    }
   ],
   "source": [
    "fisher[fisher[\"p\"] < 0.05].head(10)"
   ]
  },
  {
   "cell_type": "code",
   "execution_count": 134,
   "metadata": {
    "kernel": "SoS"
   },
   "outputs": [
    {
     "data": {
      "text/plain": [
       "PValues(left_tail=0.03808, right_tail=1, two_tail=0.06372)"
      ]
     },
     "execution_count": 134,
     "metadata": {},
     "output_type": "execute_result"
    }
   ],
   "source": [
    "pvalue(0,7,10,13)"
   ]
  },
  {
   "cell_type": "code",
   "execution_count": 151,
   "metadata": {
    "kernel": "SoS"
   },
   "outputs": [
    {
     "data": {
      "text/plain": [
       "188"
      ]
     },
     "execution_count": 151,
     "metadata": {},
     "output_type": "execute_result"
    }
   ],
   "source": [
    "sum(ydata.loc[:, 30])"
   ]
  },
  {
   "cell_type": "code",
   "execution_count": 182,
   "metadata": {
    "kernel": "SoS"
   },
   "outputs": [],
   "source": [
    "[susie_2, varbvs_2]\n",
    "## R: fread(${_input:[0]}, select = ${_blocks.replace('_', ':')})\n",
    "## similar to fine mapping, create 527 folders and save results for each of them\n",
    "blocks = ['_'.join(x.strip().split()) for x in open(f'{_input[2]:a}').readlines()]#[:5]\n",
    "input: for_each = ['blocks']\n",
    "output: f\"{_input[0]:d}/block_{_blocks}/{_input[0]:bnn}.block_{_blocks}.gz\"\n",
    "python: expand = '${ }'\n",
    "    import pandas as pd\n",
    "    data = pd.read_csv(${_input[0]:r}, compression = \"gzip\", sep = \"\\t\", header = None)\n",
    "    data.loc[:, int('${_blocks}'.split(\"_\")[0]):int('${_blocks}'.split(\"_\")[1])].to_csv(${_output:r}, compression = \"gzip\", sep = \"\\t\", header = False, index = False)"
   ]
  },
  {
   "cell_type": "code",
   "execution_count": null,
   "metadata": {
    "kernel": "SoS"
   },
   "outputs": [],
   "source": [
    "[susie_3]\n",
    "depends: R_library(\"data.table\"), R_library('susieR'), R_library(\"reticulate\")\n",
    "parameter: L = 1\n",
    "parameter: pve = 0.005\n",
    "parameter: method = \"optim\"\n",
    "suffix = f\"SuSiE.L_{L}.prior_{fmtP(pve)}\"\n",
    "input: group_by = 1\n",
    "output: f\"{_input[0]:n}.{suffix}.susie.rds\"\n",
    "R: expand = '${ }', stderr = f'{_input[0]:n}.susie.stderr', stdout = f'{_input[0]:n}.susie.stdout'\n",
    "    library(susieR)\n",
    "    library(data.table)\n",
    "    library(reticulate)\n",
    "    X <- as.matrix(data.table::fread(${_input:r}))\n",
    "    y <- as.matrix(data.table::fread(\"${phenotype_file}\"))\n",
    "    storage.mode(X) = 'double'\n",
    "    storage.mode(y) = 'double'\n",
    "    res <- susie(X, y, L = ${L}, scaled_prior_variance = ${pve}, estimate_prior_method = '${method}')\n",
    "    saveRDS(res, ${_output:r})"
   ]
  },
  {
   "cell_type": "code",
   "execution_count": null,
   "metadata": {
    "kernel": "SoS"
   },
   "outputs": [],
   "source": [
    "[varbvs_3]\n",
    "depends: R_library(\"data.table\"), R_library(\"reticulate\"), R_library(\"varbvs\")\n",
    "input: group_by = 1\n",
    "output: f\"{_input[0]:n}.varbvs.rds\"\n",
    "R: expand = '${ }', stderr = f'{_input[0]:n}.varbvs.stderr', stdout = f'{_input[0]:n}.varbvs.stdout'\n",
    "    library(varbvs)\n",
    "    library(data.table)\n",
    "    X <- as.matrix(data.table::fread(${_input:r}))\n",
    "    y <- as.matrix(data.table::fread(\"${phenotype_file}\"))\n",
    "    storage.mode(X) = 'double'\n",
    "    storage.mode(y) = 'double'\n",
    "    logodds <- seq(-log10(ncol(X)), 0, length.out = 20)\n",
    "    fit <- varbvs::varbvs(X, NULL, y, family = \"binomial\", logodds = logodds, verbose = FALSE)\n",
    "    saveRDS(fit, ${_output:r})"
   ]
  },
  {
   "cell_type": "code",
   "execution_count": 40,
   "metadata": {
    "kernel": "R"
   },
   "outputs": [],
   "source": [
    "res = readRDS(\"/home/min/GIT/cnv-gene-mapping/data/deletion_simu/block_23_36/deletion.genes.block30.for_simu.sample.genes.block_23_36.SuSiE.L_1.prior_0p005.susie.rds\")"
   ]
  },
  {
   "cell_type": "code",
   "execution_count": 43,
   "metadata": {
    "kernel": "R"
   },
   "outputs": [
    {
     "data": {
      "text/html": [
       "<ol class=list-inline>\n",
       "\t<li>3.55400153750907e-11</li>\n",
       "\t<li>0.199999999992892</li>\n",
       "\t<li>0.199999999992892</li>\n",
       "\t<li>0.199999999992892</li>\n",
       "\t<li>0.199999999992892</li>\n",
       "\t<li>0.199999999992892</li>\n",
       "\t<li>0</li>\n",
       "\t<li>0</li>\n",
       "\t<li>0</li>\n",
       "\t<li>0</li>\n",
       "\t<li>0</li>\n",
       "\t<li>0</li>\n",
       "\t<li>0</li>\n",
       "\t<li>0</li>\n",
       "</ol>\n"
      ],
      "text/latex": [
       "\\begin{enumerate*}\n",
       "\\item 3.55400153750907e-11\n",
       "\\item 0.199999999992892\n",
       "\\item 0.199999999992892\n",
       "\\item 0.199999999992892\n",
       "\\item 0.199999999992892\n",
       "\\item 0.199999999992892\n",
       "\\item 0\n",
       "\\item 0\n",
       "\\item 0\n",
       "\\item 0\n",
       "\\item 0\n",
       "\\item 0\n",
       "\\item 0\n",
       "\\item 0\n",
       "\\end{enumerate*}\n"
      ],
      "text/markdown": [
       "1. 3.55400153750907e-11\n",
       "2. 0.199999999992892\n",
       "3. 0.199999999992892\n",
       "4. 0.199999999992892\n",
       "5. 0.199999999992892\n",
       "6. 0.199999999992892\n",
       "7. 0\n",
       "8. 0\n",
       "9. 0\n",
       "10. 0\n",
       "11. 0\n",
       "12. 0\n",
       "13. 0\n",
       "14. 0\n",
       "\n",
       "\n"
      ],
      "text/plain": [
       " [1] 3.554002e-11 2.000000e-01 2.000000e-01 2.000000e-01 2.000000e-01\n",
       " [6] 2.000000e-01 0.000000e+00 0.000000e+00 0.000000e+00 0.000000e+00\n",
       "[11] 0.000000e+00 0.000000e+00 0.000000e+00 0.000000e+00"
      ]
     },
     "metadata": {},
     "output_type": "display_data"
    }
   ],
   "source": [
    "res$pip"
   ]
  },
  {
   "cell_type": "code",
   "execution_count": 32,
   "metadata": {
    "kernel": "R"
   },
   "outputs": [],
   "source": [
    "res1 = readRDS(\"/home/min/GIT/cnv-gene-mapping/data/deletion_simu/block_23_36/deletion.genes.block30.for_simu.sample.genes.block_23_36.varbvs.rds\")"
   ]
  },
  {
   "cell_type": "code",
   "execution_count": 45,
   "metadata": {
    "kernel": "R"
   },
   "outputs": [
    {
     "data": {
      "text/html": [
       "0.47933828065121"
      ],
      "text/latex": [
       "0.47933828065121"
      ],
      "text/markdown": [
       "0.47933828065121"
      ],
      "text/plain": [
       "[1] 0.4793383"
      ]
     },
     "metadata": {},
     "output_type": "display_data"
    }
   ],
   "source": [
    "res1$mu"
   ]
  },
  {
   "cell_type": "code",
   "execution_count": 39,
   "metadata": {
    "kernel": "R"
   },
   "outputs": [
    {
     "data": {
      "text/html": [
       "<dl class=dl-horizontal>\n",
       "\t<dt>V1</dt>\n",
       "\t\t<dd>0.00825389005979698</dd>\n",
       "\t<dt>V2</dt>\n",
       "\t\t<dd>0.00698878460834714</dd>\n",
       "\t<dt>V3</dt>\n",
       "\t\t<dd>0.00698878560879561</dd>\n",
       "\t<dt>V4</dt>\n",
       "\t\t<dd>0.00698878662536879</dd>\n",
       "\t<dt>V5</dt>\n",
       "\t\t<dd>0.00698878765520829</dd>\n",
       "\t<dt>V6</dt>\n",
       "\t\t<dd>1</dd>\n",
       "\t<dt>V7</dt>\n",
       "\t\t<dd>0.0230334193506585</dd>\n",
       "\t<dt>V8</dt>\n",
       "\t\t<dd>0.0164400597516299</dd>\n",
       "\t<dt>V9</dt>\n",
       "\t\t<dd>0.035274687112671</dd>\n",
       "\t<dt>V10</dt>\n",
       "\t\t<dd>0.0352748609555738</dd>\n",
       "\t<dt>V11</dt>\n",
       "\t\t<dd>0.0352751373237204</dd>\n",
       "\t<dt>V12</dt>\n",
       "\t\t<dd>0.0461188227004067</dd>\n",
       "\t<dt>V13</dt>\n",
       "\t\t<dd>0.0461180060619368</dd>\n",
       "\t<dt>V14</dt>\n",
       "\t\t<dd>0.0461175692878908</dd>\n",
       "</dl>\n"
      ],
      "text/latex": [
       "\\begin{description*}\n",
       "\\item[V1] 0.00825389005979698\n",
       "\\item[V2] 0.00698878460834714\n",
       "\\item[V3] 0.00698878560879561\n",
       "\\item[V4] 0.00698878662536879\n",
       "\\item[V5] 0.00698878765520829\n",
       "\\item[V6] 1\n",
       "\\item[V7] 0.0230334193506585\n",
       "\\item[V8] 0.0164400597516299\n",
       "\\item[V9] 0.035274687112671\n",
       "\\item[V10] 0.0352748609555738\n",
       "\\item[V11] 0.0352751373237204\n",
       "\\item[V12] 0.0461188227004067\n",
       "\\item[V13] 0.0461180060619368\n",
       "\\item[V14] 0.0461175692878908\n",
       "\\end{description*}\n"
      ],
      "text/markdown": [
       "V1\n",
       ":   0.00825389005979698V2\n",
       ":   0.00698878460834714V3\n",
       ":   0.00698878560879561V4\n",
       ":   0.00698878662536879V5\n",
       ":   0.00698878765520829V6\n",
       ":   1V7\n",
       ":   0.0230334193506585V8\n",
       ":   0.0164400597516299V9\n",
       ":   0.035274687112671V10\n",
       ":   0.0352748609555738V11\n",
       ":   0.0352751373237204V12\n",
       ":   0.0461188227004067V13\n",
       ":   0.0461180060619368V14\n",
       ":   0.0461175692878908\n",
       "\n"
      ],
      "text/plain": [
       "         V1          V2          V3          V4          V5          V6 \n",
       "0.008253890 0.006988785 0.006988786 0.006988787 0.006988788 1.000000000 \n",
       "         V7          V8          V9         V10         V11         V12 \n",
       "0.023033419 0.016440060 0.035274687 0.035274861 0.035275137 0.046118823 \n",
       "        V13         V14 \n",
       "0.046118006 0.046117569 "
      ]
     },
     "metadata": {},
     "output_type": "display_data"
    }
   ],
   "source": [
    "res1$fit$pip"
   ]
  },
  {
   "cell_type": "code",
   "execution_count": null,
   "metadata": {
    "kernel": "SoS"
   },
   "outputs": [],
   "source": [
    "[get_hist_2]\n",
    "output: f\"{_input[0]:n}.histogram.pdf\"\n",
    "python: expand = '${ }'\n",
    "    import pandas as pd, matplotlib.pyplot as plt\n",
    "    blocks = pd.read_csv(${_input[1]:r}, sep = \"\\t\", header = None, names = [\"start\", \"end\"])\n",
    "    spans = [j-i+1 for i,j in zip(blocks[\"start\"], blocks[\"end\"])]\n",
    "    counts = {i: spans.count(i) for i in set(spans) if i != 0}\n",
    "    fig, ax = plt.subplots(figsize = (8,6))\n",
    "    plt.bar(list(counts.keys()), list(counts.values()), width = 0.8)\n",
    "    ax.set_title(\"Histogram of number of genes in blocks\")\n",
    "    plt.savefig(${_output:r})"
   ]
  },
  {
   "cell_type": "code",
   "execution_count": null,
   "metadata": {
    "kernel": "SoS"
   },
   "outputs": [],
   "source": [
    "[simulate_2]\n",
    "output: f\"{_input[0]:n}.for_simu.gz\"\n",
    "python: expand = '${ }'\n",
    "    import pandas as pd\n",
    "    data = pd.read_csv(${genotype_file:r}, compression = \"gzip\", header = None, sep = \"\\t\")\n",
    "    bound = pd.read_csv(${_input[1]:r}, header = None, sep = \"\\t\")\n",
    "    bound2 = [[item[0], item[1]] if item[0] == bound.values[-1][0] else [item[0], bound.values[j+1][0]-1] for j, item in enumerate(bound.values)]\n",
    "    fill = list()\n",
    "    for l in range(data.shape[0]):\n",
    "        fill.append([data.loc[l, k[0]:k[1]].tolist() for k in bound2])\n",
    "    res = pd.DataFrame(fill)\n",
    "    res.to_csv(${_output:r}, compression = \"gzip\", sep = \"\\t\", header = False, index = False)"
   ]
  },
  {
   "cell_type": "markdown",
   "metadata": {
    "kernel": "SoS"
   },
   "source": [
    "The output of this step has two files:\n",
    "- Boundary file\n",
    "\n",
    "        block_start     block_end\n",
    "        14      23\n",
    "        93      97\n",
    "        164     177\n",
    "        229     236\n",
    "- Genotype matrix with column names from boundary: column names are index from start to end in each boundary.\n",
    "\n",
    "        14      15      16      17      18      19      20      21      22      23      93      94    95       96      97\n",
    "         0       1       1       0       1       1       1       1       0       0       0       0     1        1       1"
   ]
  },
  {
   "cell_type": "code",
   "execution_count": null,
   "metadata": {
    "kernel": "SoS"
   },
   "outputs": [],
   "source": [
    "[simulate_3]\n",
    "parameter: sample_size = 100000 # sample size: default 100000, test: 1000\n",
    "parameter: n_batch = 200 # number of simulated sample for each job, default: 200, test: 20\n",
    "assert sample_size % n_batch == 0\n",
    "batches = [x+1 for x in range(n_batch)]\n",
    "input: for_each = ['batches']\n",
    "output: f\"{cwd:a}/{cnv_type}_simu/{_input[0]:bn}.sample.{_batches}.gz\"\n",
    "python: expand = '${ }'\n",
    "    import pandas as pd, numpy as np\n",
    "    import random, itertools, ast\n",
    "    data = pd.read_csv(${_input:r}, compression = \"gzip\", header = None, sep = \"\\t\")\n",
    "    size = int(${sample_size} / ${n_batch})\n",
    "    random.seed(${_batches})\n",
    "    samples_genome = list()\n",
    "    for i in range(size):\n",
    "        order = random.sample(data.index.tolist(), data.shape[1])\n",
    "        s = list(itertools.chain(*list(ast.literal_eval(n) for n in np.diag(data.loc[order, :]))))\n",
    "        samples_genome.append(s)\n",
    "    samples_genome_df = pd.DataFrame(samples_genome) # row: sample, column: gene\n",
    "    samples_genome_df.to_csv(${_output:r}, compression = \"gzip\", sep = \"\\t\", header = False, index = False)"
   ]
  },
  {
   "cell_type": "code",
   "execution_count": null,
   "metadata": {
    "kernel": "SoS"
   },
   "outputs": [],
   "source": [
    "[simulate_4]\n",
    "input: group_by = 'all'\n",
    "output: f'{_input[0]:nn}.combined.gz'\n",
    "bash: expand = \"${ }\"\n",
    "    zcat ${_input} | gzip > ${_output}"
   ]
  },
  {
   "cell_type": "code",
   "execution_count": null,
   "metadata": {
    "kernel": "SoS"
   },
   "outputs": [],
   "source": [
    "[simulate_5]\n",
    "# shape = 3; scale = 1 for gamma\n",
    "# shape = 2.191013; scale = 0.2682398 for normal\n",
    "parameter: shape = 3.0 # mean for normal (1), shape for gamma (3)\n",
    "parameter: scale = 1.0 # se for normal (0.5), scale for gamma (1)\n",
    "# 'gamma' or 'normal'\n",
    "parameter: beta_method = 'normal'\n",
    "parameter: penetrance = 0.05\n",
    "parameter: seed = 999999\n",
    "parameter: ctrl_case_ratio = 1.0\n",
    "parameter: pi0 = 0.95\n",
    "output: f'{_input:nn}.X.gz', f'{_input:nn}.y', f'{_input:nn}.beta'\n",
    "python: expand = \"${ }\"\n",
    "    import pandas as pd, numpy as np\n",
    "    np.random.seed(${seed})\n",
    "    # For normal distribution the -3*sigma to 3*sigma on x-axis should correspond to\n",
    "    # log(4) and log(20). The shape and scale parameters are thus:\n",
    "    # mu = (log(20) + log(4))/2 = 2.191013; sigma = (log(20) - mu) / 3 = 0.2682398\n",
    "    def logor_gamma(shape, scale, n):\n",
    "        return np.log(np.random.gamma(shape, scale, n))\n",
    "\n",
    "    def logor_normal(mean, se, n):\n",
    "        return np.random.normal(mean, se, n)\n",
    "\n",
    "    data = pd.read_csv(${_input:r}, compression = \"gzip\", sep = \"\\t\", header = None)\n",
    "    beta0 = np.log(${penetrance} / (1-${penetrance}))\n",
    "    beta1s = [x for x in logor_${beta_method}(${shape}, ${scale}, data.shape[1])]\n",
    "    beta1s = [np.random.binomial(1, 1-${pi0}) * i for i in beta1s]\n",
    "    ## FIXME: store sparse beta: non-zero beta's with their indices\n",
    "    with open(${_output[2]:r}, 'w') as f:\n",
    "        f.write(\"\\n\".join([str(b) for b in beta1s]))\n",
    "    logit_y = np.matmul(data.values, beta1s) + beta0\n",
    "    ys_p = np.exp(logit_y) / (1+np.exp(logit_y))\n",
    "    ys = np.random.binomial(1, ys_p)\n",
    "    case_index = np.ravel(np.where(ys == 1))\n",
    "    ctrl_index = sorted(np.random.choice(np.ravel(np.where(ys == 0)), int(len(case_index) * ${ctrl_case_ratio})))\n",
    "    genotype = data.iloc[case_index.tolist() + ctrl_index, :]\n",
    "    genotype.to_csv(${_output[0]:r}, compression = \"gzip\", sep = \"\\t\", header = False, index = False)\n",
    "    with open(${_output[1]:r}, 'w') as f:\n",
    "        f.write('\\n'.join(['1'] * len(case_index) + ['0'] * len(ctrl_index)))"
   ]
  },
  {
   "cell_type": "markdown",
   "metadata": {
    "kernel": "SoS"
   },
   "source": [
    "## Note\n",
    "```\n",
    "cd ~/GIT/cnv-gene-mapping\n",
    "sos run dsc/20190717_workflow.ipynb get_hist:1-2 -s build\n",
    "sos run dsc/20190717_workflow.ipynb get_hist:1-2 --genotype_file /home/min/GIT/cnv-gene-mapping/data/deletion_simu/deletion.genes.block30.for_simu.sample.X.gz\n",
    "sos run dsc/20190717_workflow.ipynb analyze:1-2 -s build\n",
    "sos run dsc/20190717_workflow.ipynb analyze:1-2 --simu_pheno /home/min/GIT/cnv-gene-mapping/data/deletion_simu/deletion.genes.block30.for_simu.sample.y -s build\n",
    "sos run dsc/20190717_workflow.ipynb simulate:1-5 --n_gene_in_block 30 --shape 1 --scale 0.5 -s build\n",
    "sos run dsc/20190717_workflow.ipynb -s build -j 6\n",
    "```\n",
    "```\n",
    "sinteractive --time=01:00:00 --partition=bigmem2 --nodes=1 --ntasks-per-node=1 --mem-per-cpu=100G\n",
    "sos run dsc/20190717_workflow.ipynb simulate:1-5 --n_gene_in_block 30 --shape 1 --scale 0.5 -s build\n",
    "\n",
    "sos run dsc/20190717_workflow.ipynb get_hist:1-2 --genotype_file /home/gaow/GIT/github/cnv-gene-mapping/data/deletion_simu/deletion.genes.block30.for_simu.sample.X.gz \\\n",
    "--phenotype_file /home/gaow/GIT/github/cnv-gene-mapping/data/deletion_simu/deletion.genes.block30.for_simu.sample.y --n_gene_in_block 1 -s build\n",
    "\n",
    "sos run dsc/20190717_workflow.ipynb analyze:1-2 --genotype_file /home/gaow/GIT/github/cnv-gene-mapping/data/deletion_simu/deletion.genes.block30.for_simu.sample.X.gz \\\n",
    "--phenotype_file /home/gaow/GIT/github/cnv-gene-mapping/data/deletion_simu/deletion.genes.block30.for_simu.sample.y --n_gene_in_block 1 \\\n",
    "--simu_pheno /home/gaow/GIT/github/cnv-gene-mapping/data/deletion_simu/deletion.genes.block30.for_simu.sample.y --real \"FALSE\" -s build\n",
    "```"
   ]
  },
  {
   "cell_type": "code",
   "execution_count": null,
   "metadata": {
    "kernel": "SoS"
   },
   "outputs": [],
   "source": []
  }
 ],
 "metadata": {
  "kernelspec": {
   "display_name": "SoS",
   "language": "sos",
   "name": "sos"
  },
  "language_info": {
   "codemirror_mode": "sos",
   "file_extension": ".sos",
   "mimetype": "text/x-sos",
   "name": "sos",
   "nbconvert_exporter": "sos_notebook.converter.SoS_Exporter",
   "pygments_lexer": "sos"
  },
  "sos": {
   "kernels": [
    [
     "R",
     "ir",
     "R",
     "#DCDCDA"
    ],
    [
     "SoS",
     "sos",
     "",
     ""
    ]
   ],
   "version": "0.20.0"
  }
 },
 "nbformat": 4,
 "nbformat_minor": 4
}
