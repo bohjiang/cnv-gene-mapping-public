{
 "cells": [
  {
   "cell_type": "markdown",
   "metadata": {
    "kernel": "SoS"
   },
   "source": [
    "```\n",
    "cd ~/GIT/cnv-gene-mapping\n",
    "sos run dsc/20190717_workflow.ipynb default:1-4 -s build\n",
    "sos run dsc/20190717_workflow.ipynb -s build -j 6\n",
    "```"
   ]
  },
  {
   "cell_type": "code",
   "execution_count": null,
   "metadata": {
    "kernel": "SoS"
   },
   "outputs": [],
   "source": [
    "[global]\n",
    "parameter: cwd = path(\"~/GIT/cnv-gene-mapping/data\")\n",
    "def fmtP(x):\n",
    "    return str(x).replace(\".\", \"p\").replace(' ', '_').replace('\"', \"\").replace(\"'\", \"\").replace(\"-\", '_')"
   ]
  },
  {
   "cell_type": "code",
   "execution_count": null,
   "metadata": {
    "kernel": "SoS"
   },
   "outputs": [],
   "source": [
    "[default_1]\n",
    "input: f\"{cwd:a}/deletion.gz\"\n",
    "output: f'{_input:n}_geneblock.gz'\n",
    "python: expand = '${ }'\n",
    "    import pandas as pd\n",
    "    data = pd.read_table(\"${_input}\", compression = \"gzip\", sep = \"\\t\", header = 0)\n",
    "    data = data.rename(columns = {\"Unnamed: 0\": \"gene\"})\n",
    "    all0 = list()\n",
    "    for i in range(data.shape[0]):\n",
    "        if sum(data.iloc[i, 1:]) == 0:\n",
    "            all0.append(i)\n",
    "    bound = list()\n",
    "    i = 0; j = 1; n_0 = len(all0)\n",
    "    while (j < n_0):\n",
    "        if all0[j] - all0[i] >= 50:\n",
    "            bound.append(all0[j])\n",
    "            i = j\n",
    "        j += 1\n",
    "    bound = [0] + bound[:-1] + [data.shape[0]]\n",
    "    fill = list()\n",
    "    for k in range(len(bound)-1):\n",
    "        fill_tmp = list()\n",
    "        if bound[k]+1 > data.shape[0]:\n",
    "            print (k, bound[k]+1, data.shape[0], \"break\")\n",
    "            break\n",
    "        for l in range(data.shape[1]-1):\n",
    "            fill_tmp.append(data.iloc[bound[k]:bound[k+1], l+1].tolist())\n",
    "        fill.append(fill_tmp)\n",
    "    res = pd.DataFrame(fill) # row: gene block, column: sample name\n",
    "    res.iloc.to_csv(${_output:r}, compression = \"gzip\", sep = \"\\t\", header = False, index = False)"
   ]
  },
  {
   "cell_type": "code",
   "execution_count": null,
   "metadata": {
    "kernel": "SoS"
   },
   "outputs": [],
   "source": [
    "[default_2]\n",
    "parameter: sample_size = 100000 # sample size: default 100000\n",
    "parameter: n_batch = 200 # number of simulated sample for each job, default: 200\n",
    "assert sample_size % n_batch == 0\n",
    "batches = [x+1 for x in range(n_batch)]\n",
    "input: for_each = ['batches']\n",
    "output: f'{cwd:a}/simu_data/{_input:bnn}.sample.{_batches}.gz'\n",
    "python: expand = \"${ }\"\n",
    "    import pandas as pd, numpy as np\n",
    "    import random, itertools, ast\n",
    "    size = int(${sample_size} / ${n_batch})\n",
    "    random.seed(${_batches})\n",
    "    data = pd.read_table(${_input:r}, compression = \"gzip\", header = None, sep = \"\\t\")\n",
    "    samples_genome = list()\n",
    "    for i in range(size):\n",
    "        order = random.sample(data.columns.tolist(), data.shape[0])\n",
    "        sample_genome = list(itertools.chain(*list(ast.literal_eval(i) for i in np.diag(data.loc[:, order]))))\n",
    "        samples_genome.append(sample_genome)\n",
    "    samples_genome_df = pd.DataFrame(samples_genome) # row: sample name, column: genes\n",
    "    samples_genome_df.to_csv(${_output:r}, compression = \"gzip\", sep = \"\\t\", header = False, index = False)"
   ]
  },
  {
   "cell_type": "code",
   "execution_count": null,
   "metadata": {
    "kernel": "SoS"
   },
   "outputs": [],
   "source": [
    "[default_3]\n",
    "input: group_by = 'all'\n",
    "output: f'{_input[0]:nn}.combined.gz'\n",
    "bash: expand = \"${ }\"\n",
    "    zcat ${_input} | gzip > ${_output}"
   ]
  },
  {
   "cell_type": "code",
   "execution_count": null,
   "metadata": {
    "kernel": "SoS"
   },
   "outputs": [],
   "source": [
    "[default_4]\n",
    "parameter: shape = 3\n",
    "parameter: scale = 1\n",
    "parameter: penetrance = 0.05\n",
    "parameter: seed = 999999\n",
    "parameter: percentile = 95\n",
    "parameter: fold = 1.0\n",
    "output: f'{_input:nn}.X.gz', f'{_input:nn}.y.gz'\n",
    "python: expand = \"${ }\"\n",
    "    import pandas as pd, numpy as np\n",
    "    import random\n",
    "    np.random.seed(${seed})\n",
    "    data = pd.read_table(${_input:r}, compression = \"gzip\", sep = \"\\t\", header = None)\n",
    "    d1 = data.values\n",
    "    beta0 = np.log(${penetrance}/(1-${penetrance}))\n",
    "    beta1s = [np.log(x) for x in np.random.gamma(${shape}, ${scale}, data.shape[1])] # ORs follow gamma(5,1)\n",
    "    ys = np.matmul(d1, beta1s) + beta0\n",
    "    y_df = pd.DataFrame(ys)\n",
    "    cutoff = np.percentile(ys, ${percentile})\n",
    "    case_index = [i for i,x in enumerate(ys) if x >= cutoff]\n",
    "\n",
    "    #     print (f'${cwd:a}/simu_data/deletion_geneblock.sample.y.gz')\n",
    "    #     y_df = pd.read_table(f'${cwd:a}/simu_data/deletion_geneblock.sample.y.gz', compression = \"gzip\", sep = \"\\t\", header = None)\n",
    "    #     y_case_index = pd.read_table(f'${cwd:a}/simu_data/deletion_geneblock.sample.ycase.gz', compression = \"gzip\", sep = \"\\t\", header = None)\n",
    "    #     y_case_index = y_case_index.iloc[:, 0].tolist()\n",
    "    #     print (y_case_index[:10])\n",
    "    #     y_ctrl_all_index = [i for i in list(y_df.index.values) if i not in y_case_index]\n",
    "    #     y_ctrl_index = random.sample(y_ctrl_all_index, int(len(y_case_index) * ${fold}))\n",
    "    #     y_all = pd.DataFrame(sorted(y_case_index + y_ctrl_index))\n",
    "    #     x_all = data.iloc[sorted(y_case_index + y_ctrl_index), :]\n",
    "\n",
    "    ctrl_all = [i for i in list(data.index.values) if i not in case_index]\n",
    "    ctrl_index = random.sample(ctrl_all, int(len(case_index) * ${fold}))\n",
    "    y_all = pd.DataFrame(sorted(case_index + ctrl_index))\n",
    "    x_all = data.iloc[sorted(case_index + ctrl_index), :]\n",
    "    x_all.to_csv(${_output[0]:r}, compression = \"gzip\", sep = \"\\t\", header = False, index = False)\n",
    "    y_all.to_csv(${_output[1]:r}, compression = \"gzip\", sep = \"\\t\", header = False, index = False)\n",
    "    # select cases and same number of controls for fine-mapping"
   ]
  },
  {
   "cell_type": "code",
   "execution_count": null,
   "metadata": {
    "kernel": "SoS"
   },
   "outputs": [],
   "source": [
    "[default_5]\n",
    "depends: R_library(\"data.table\"), R_library('susieR')\n",
    "parameter: L = 10\n",
    "parameter: pve = 0.005\n",
    "parameter: method = \"optim\"\n",
    "suffix = f'SuSiE.L_{L}.prior_{fmtP(pve)}'\n",
    "print (suffix)\n",
    "output: f'{_input[0]:nn}.{suffix}.susie.rds'\n",
    "R: expand = '${ }', stderr = f'{_input[0]:nn}.stderr', stdout = f'{_input[0]:nn}.stdout'\n",
    "    library(susieR)\n",
    "    library(data.table)\n",
    "    X = as.matrix(data.table::fread(\"zcat ${_input[0]}\"))\n",
    "    y = as.matrix(data.table::fread(\"zcat ${_input[1]}\"))\n",
    "    storage.mode(X) = 'double'\n",
    "    storage.mode(y) = 'double'\n",
    "    res = susie(X, y, L = ${L}, scaled_prior_variance = ${pve}, estimate_prior_method = '${method}')\n",
    "    saveRDS(res, ${_output:r})"
   ]
  },
  {
   "cell_type": "code",
   "execution_count": 3,
   "metadata": {
    "kernel": "SoS"
   },
   "outputs": [],
   "source": [
    "beta0 = np.log(0.05/(1-0.05))\n",
    "beta1s = [np.log(x) for x in np.random.gamma(5, 1, data.shape[1])]\n",
    "np.random.seed(9999999)\n",
    "ys = [sum([x*y for x,y in zip(beta1s, data.iloc[i, :].tolist())]) + beta0 for i in range(data.shape[0])]"
   ]
  },
  {
   "cell_type": "code",
   "execution_count": 4,
   "metadata": {
    "kernel": "SoS"
   },
   "outputs": [],
   "source": [
    "y_df = pd.DataFrame(ys)"
   ]
  },
  {
   "cell_type": "code",
   "execution_count": 5,
   "metadata": {
    "kernel": "SoS"
   },
   "outputs": [
    {
     "data": {
      "text/html": [
       "<div>\n",
       "<style scoped>\n",
       "    .dataframe tbody tr th:only-of-type {\n",
       "        vertical-align: middle;\n",
       "    }\n",
       "\n",
       "    .dataframe tbody tr th {\n",
       "        vertical-align: top;\n",
       "    }\n",
       "\n",
       "    .dataframe thead th {\n",
       "        text-align: right;\n",
       "    }\n",
       "</style>\n",
       "<table border=\"1\" class=\"dataframe\">\n",
       "  <thead>\n",
       "    <tr style=\"text-align: right;\">\n",
       "      <th></th>\n",
       "      <th>0</th>\n",
       "    </tr>\n",
       "  </thead>\n",
       "  <tbody>\n",
       "    <tr>\n",
       "      <th>0</th>\n",
       "      <td>2.786281</td>\n",
       "    </tr>\n",
       "    <tr>\n",
       "      <th>1</th>\n",
       "      <td>-2.944439</td>\n",
       "    </tr>\n",
       "    <tr>\n",
       "      <th>2</th>\n",
       "      <td>-2.944439</td>\n",
       "    </tr>\n",
       "    <tr>\n",
       "      <th>3</th>\n",
       "      <td>10.642412</td>\n",
       "    </tr>\n",
       "    <tr>\n",
       "      <th>4</th>\n",
       "      <td>2.972804</td>\n",
       "    </tr>\n",
       "    <tr>\n",
       "      <th>5</th>\n",
       "      <td>6.935966</td>\n",
       "    </tr>\n",
       "    <tr>\n",
       "      <th>6</th>\n",
       "      <td>-2.944439</td>\n",
       "    </tr>\n",
       "    <tr>\n",
       "      <th>7</th>\n",
       "      <td>2.219492</td>\n",
       "    </tr>\n",
       "    <tr>\n",
       "      <th>8</th>\n",
       "      <td>-2.944439</td>\n",
       "    </tr>\n",
       "    <tr>\n",
       "      <th>9</th>\n",
       "      <td>14.617213</td>\n",
       "    </tr>\n",
       "  </tbody>\n",
       "</table>\n",
       "</div>"
      ],
      "text/plain": [
       "           0\n",
       "0   2.786281\n",
       "1  -2.944439\n",
       "2  -2.944439\n",
       "3  10.642412\n",
       "4   2.972804\n",
       "5   6.935966\n",
       "6  -2.944439\n",
       "7   2.219492\n",
       "8  -2.944439\n",
       "9  14.617213"
      ]
     },
     "execution_count": 5,
     "metadata": {},
     "output_type": "execute_result"
    }
   ],
   "source": [
    "y_df"
   ]
  },
  {
   "cell_type": "code",
   "execution_count": 6,
   "metadata": {
    "kernel": "SoS"
   },
   "outputs": [],
   "source": [
    "d1 = data.values"
   ]
  },
  {
   "cell_type": "code",
   "execution_count": 7,
   "metadata": {
    "kernel": "SoS"
   },
   "outputs": [],
   "source": [
    "ys = np.matmul(d1, beta1s) + beta0"
   ]
  },
  {
   "cell_type": "code",
   "execution_count": 24,
   "metadata": {
    "kernel": "R"
   },
   "outputs": [],
   "source": [
    "susie_res = readRDS(\"/home/min/GIT/cnv-gene-mapping/data/simu_data_test/deletion_geneblock.sample.SuSiE.L_10.prior_0p005.susie.rds\")"
   ]
  },
  {
   "cell_type": "code",
   "execution_count": 25,
   "metadata": {
    "kernel": "R"
   },
   "outputs": [
    {
     "data": {
      "text/html": [
       "<ol class=list-inline>\n",
       "\t<li>'alpha'</li>\n",
       "\t<li>'mu'</li>\n",
       "\t<li>'mu2'</li>\n",
       "\t<li>'Xr'</li>\n",
       "\t<li>'KL'</li>\n",
       "\t<li>'lbf'</li>\n",
       "\t<li>'sigma2'</li>\n",
       "\t<li>'V'</li>\n",
       "\t<li>'pi'</li>\n",
       "\t<li>'null_index'</li>\n",
       "\t<li>'converged'</li>\n",
       "\t<li>'elbo'</li>\n",
       "\t<li>'niter'</li>\n",
       "\t<li>'intercept'</li>\n",
       "\t<li>'fitted'</li>\n",
       "\t<li>'sets'</li>\n",
       "\t<li>'pip'</li>\n",
       "\t<li>'X_column_scale_factors'</li>\n",
       "</ol>\n"
      ],
      "text/latex": [
       "\\begin{enumerate*}\n",
       "\\item 'alpha'\n",
       "\\item 'mu'\n",
       "\\item 'mu2'\n",
       "\\item 'Xr'\n",
       "\\item 'KL'\n",
       "\\item 'lbf'\n",
       "\\item 'sigma2'\n",
       "\\item 'V'\n",
       "\\item 'pi'\n",
       "\\item 'null\\_index'\n",
       "\\item 'converged'\n",
       "\\item 'elbo'\n",
       "\\item 'niter'\n",
       "\\item 'intercept'\n",
       "\\item 'fitted'\n",
       "\\item 'sets'\n",
       "\\item 'pip'\n",
       "\\item 'X\\_column\\_scale\\_factors'\n",
       "\\end{enumerate*}\n"
      ],
      "text/markdown": [
       "1. 'alpha'\n",
       "2. 'mu'\n",
       "3. 'mu2'\n",
       "4. 'Xr'\n",
       "5. 'KL'\n",
       "6. 'lbf'\n",
       "7. 'sigma2'\n",
       "8. 'V'\n",
       "9. 'pi'\n",
       "10. 'null_index'\n",
       "11. 'converged'\n",
       "12. 'elbo'\n",
       "13. 'niter'\n",
       "14. 'intercept'\n",
       "15. 'fitted'\n",
       "16. 'sets'\n",
       "17. 'pip'\n",
       "18. 'X_column_scale_factors'\n",
       "\n",
       "\n"
      ],
      "text/plain": [
       " [1] \"alpha\"                  \"mu\"                     \"mu2\"                   \n",
       " [4] \"Xr\"                     \"KL\"                     \"lbf\"                   \n",
       " [7] \"sigma2\"                 \"V\"                      \"pi\"                    \n",
       "[10] \"null_index\"             \"converged\"              \"elbo\"                  \n",
       "[13] \"niter\"                  \"intercept\"              \"fitted\"                \n",
       "[16] \"sets\"                   \"pip\"                    \"X_column_scale_factors\""
      ]
     },
     "metadata": {},
     "output_type": "display_data"
    }
   ],
   "source": [
    "names(susie_res)"
   ]
  },
  {
   "cell_type": "code",
   "execution_count": 27,
   "metadata": {
    "kernel": "R"
   },
   "outputs": [],
   "source": [
    "# %put susie_res"
   ]
  },
  {
   "cell_type": "code",
   "execution_count": null,
   "metadata": {
    "kernel": "SoS"
   },
   "outputs": [],
   "source": []
  }
 ],
 "metadata": {
  "kernelspec": {
   "display_name": "SoS",
   "language": "sos",
   "name": "sos"
  },
  "language_info": {
   "codemirror_mode": "sos",
   "file_extension": ".sos",
   "mimetype": "text/x-sos",
   "name": "sos",
   "nbconvert_exporter": "sos_notebook.converter.SoS_Exporter",
   "pygments_lexer": "sos"
  },
  "sos": {
   "kernels": [
    [
     "R",
     "ir",
     "R",
     "#DCDCDA"
    ],
    [
     "SoS",
     "sos",
     "",
     ""
    ]
   ],
   "version": "0.19.4"
  }
 },
 "nbformat": 4,
 "nbformat_minor": 2
}
