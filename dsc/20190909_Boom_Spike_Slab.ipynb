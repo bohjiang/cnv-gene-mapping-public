{
 "cells": [
  {
   "cell_type": "markdown",
   "metadata": {},
   "source": [
    "# Use BoomSpikeSlab\n",
    "## First check the result of varbvs on whole genome"
   ]
  },
  {
   "cell_type": "code",
   "execution_count": 1,
   "metadata": {},
   "outputs": [],
   "source": [
    "res = readRDS(\"/home/min/GIT/cnv-gene-mapping/data/deletion_simu/deletion.genes.block30.binomial.whole.genome.prior.varbvs.nologodds.updateb0.rds\")"
   ]
  },
  {
   "cell_type": "code",
   "execution_count": 2,
   "metadata": {},
   "outputs": [],
   "source": [
    "mu0 = sum(res$b0 * res$w)"
   ]
  },
  {
   "cell_type": "code",
   "execution_count": 3,
   "metadata": {},
   "outputs": [
    {
     "data": {
      "text/html": [
       "0.777072111580423"
      ],
      "text/latex": [
       "0.777072111580423"
      ],
      "text/markdown": [
       "0.777072111580423"
      ],
      "text/plain": [
       "[1] 0.7770721"
      ]
     },
     "metadata": {},
     "output_type": "display_data"
    }
   ],
   "source": [
    "mu0"
   ]
  },
  {
   "cell_type": "code",
   "execution_count": 4,
   "metadata": {},
   "outputs": [],
   "source": [
    "sd0 = sqrt(sum(res$sa * res$w))"
   ]
  },
  {
   "cell_type": "code",
   "execution_count": 5,
   "metadata": {},
   "outputs": [
    {
     "data": {
      "text/html": [
       "0.843650169910125"
      ],
      "text/latex": [
       "0.843650169910125"
      ],
      "text/markdown": [
       "0.843650169910125"
      ],
      "text/plain": [
       "[1] 0.8436502"
      ]
     },
     "metadata": {},
     "output_type": "display_data"
    }
   ],
   "source": [
    "sd0"
   ]
  },
  {
   "cell_type": "code",
   "execution_count": 6,
   "metadata": {},
   "outputs": [],
   "source": [
    "pi0 = sum((10^(res$logodds) / (1 + 10^(res$logodds))) * res$w)"
   ]
  },
  {
   "cell_type": "code",
   "execution_count": 7,
   "metadata": {},
   "outputs": [
    {
     "data": {
      "text/html": [
       "0.0437754961218526"
      ],
      "text/latex": [
       "0.0437754961218526"
      ],
      "text/markdown": [
       "0.0437754961218526"
      ],
      "text/plain": [
       "[1] 0.0437755"
      ]
     },
     "metadata": {},
     "output_type": "display_data"
    }
   ],
   "source": [
    "pi0"
   ]
  },
  {
   "cell_type": "code",
   "execution_count": 31,
   "metadata": {},
   "outputs": [],
   "source": [
    "# library(varbvs)\n",
    "# help(varbvs)"
   ]
  },
  {
   "cell_type": "code",
   "execution_count": 32,
   "metadata": {},
   "outputs": [],
   "source": [
    "# varbvs::varbvs"
   ]
  },
  {
   "cell_type": "code",
   "execution_count": 8,
   "metadata": {},
   "outputs": [],
   "source": [
    "library(data.table)\n",
    "library(reticulate)"
   ]
  },
  {
   "cell_type": "code",
   "execution_count": 9,
   "metadata": {},
   "outputs": [
    {
     "name": "stderr",
     "output_type": "stream",
     "text": [
      "Loading required package: Boom\n",
      "Loading required package: MASS\n",
      "\n",
      "Attaching package: ‘Boom’\n",
      "\n",
      "The following object is masked from ‘package:stats’:\n",
      "\n",
      "    rWishart\n",
      "\n",
      "\n",
      "Attaching package: ‘BoomSpikeSlab’\n",
      "\n",
      "The following object is masked from ‘package:stats’:\n",
      "\n",
      "    knots\n",
      "\n"
     ]
    }
   ],
   "source": [
    "library(susieR)\n",
    "library(BoomSpikeSlab)"
   ]
  },
  {
   "cell_type": "code",
   "execution_count": 10,
   "metadata": {},
   "outputs": [],
   "source": [
    "X = as.matrix(data.table::fread(\"/home/min/GIT/cnv-gene-mapping/data/deletion_simu/block_79_137/deletion.genes.block30.for_simu.sample.genes.block_79_137.gz\", header = F))"
   ]
  },
  {
   "cell_type": "code",
   "execution_count": 12,
   "metadata": {},
   "outputs": [],
   "source": [
    "y <- as.matrix(data.table::fread(\"/data/GIT/cnv-gene-mapping/data/deletion_simu/deletion.genes.block30.for_simu.sample.y\"))"
   ]
  },
  {
   "cell_type": "code",
   "execution_count": 14,
   "metadata": {},
   "outputs": [],
   "source": [
    "sampler = c(sample(1:sum(y), sum(y)*0.06), c((sum(y)+1):length(y)))\n",
    "y = y[sampler, ]\n",
    "X = X[sampler, ]"
   ]
  },
  {
   "cell_type": "code",
   "execution_count": 15,
   "metadata": {},
   "outputs": [],
   "source": [
    "X_inter = cbind(1, X)"
   ]
  },
  {
   "cell_type": "code",
   "execution_count": 16,
   "metadata": {},
   "outputs": [],
   "source": [
    "storage.mode(X) = 'double'\n",
    "storage.mode(X_inter) = 'double'\n",
    "storage.mode(y) = 'double'"
   ]
  },
  {
   "cell_type": "code",
   "execution_count": 17,
   "metadata": {},
   "outputs": [
    {
     "data": {
      "text/html": [
       "<ol class=list-inline>\n",
       "\t<li>7108</li>\n",
       "\t<li>60</li>\n",
       "</ol>\n"
      ],
      "text/latex": [
       "\\begin{enumerate*}\n",
       "\\item 7108\n",
       "\\item 60\n",
       "\\end{enumerate*}\n"
      ],
      "text/markdown": [
       "1. 7108\n",
       "2. 60\n",
       "\n",
       "\n"
      ],
      "text/plain": [
       "[1] 7108   60"
      ]
     },
     "metadata": {},
     "output_type": "display_data"
    }
   ],
   "source": [
    "dim(X_inter)"
   ]
  },
  {
   "cell_type": "code",
   "execution_count": 18,
   "metadata": {},
   "outputs": [],
   "source": [
    "N = rep(1, length(y))"
   ]
  },
  {
   "cell_type": "code",
   "execution_count": 19,
   "metadata": {},
   "outputs": [],
   "source": [
    "X_center <- scale(X, scale = FALSE)"
   ]
  },
  {
   "cell_type": "code",
   "execution_count": 20,
   "metadata": {},
   "outputs": [],
   "source": [
    "prior <- LogitZellnerPrior(X_inter, y, N, prior.success.probability = NULL, expected.model.size = 2, prior.information.weight = 0.05, \n",
    "                           diagonal.shrinkage = 0, optional.coefficient.estimate = NULL, prior.inclusion.probabilities = NULL)"
   ]
  },
  {
   "cell_type": "code",
   "execution_count": 21,
   "metadata": {},
   "outputs": [
    {
     "data": {
      "text/html": [
       "<ol class=list-inline>\n",
       "\t<li>'prior.inclusion.probabilities'</li>\n",
       "\t<li>'mu'</li>\n",
       "\t<li>'sigma.guess'</li>\n",
       "\t<li>'prior.df'</li>\n",
       "\t<li>'sigma.upper.limit'</li>\n",
       "\t<li>'max.flips'</li>\n",
       "\t<li>'siginv'</li>\n",
       "\t<li>'prior.success.probability'</li>\n",
       "</ol>\n"
      ],
      "text/latex": [
       "\\begin{enumerate*}\n",
       "\\item 'prior.inclusion.probabilities'\n",
       "\\item 'mu'\n",
       "\\item 'sigma.guess'\n",
       "\\item 'prior.df'\n",
       "\\item 'sigma.upper.limit'\n",
       "\\item 'max.flips'\n",
       "\\item 'siginv'\n",
       "\\item 'prior.success.probability'\n",
       "\\end{enumerate*}\n"
      ],
      "text/markdown": [
       "1. 'prior.inclusion.probabilities'\n",
       "2. 'mu'\n",
       "3. 'sigma.guess'\n",
       "4. 'prior.df'\n",
       "5. 'sigma.upper.limit'\n",
       "6. 'max.flips'\n",
       "7. 'siginv'\n",
       "8. 'prior.success.probability'\n",
       "\n",
       "\n"
      ],
      "text/plain": [
       "[1] \"prior.inclusion.probabilities\" \"mu\"                           \n",
       "[3] \"sigma.guess\"                   \"prior.df\"                     \n",
       "[5] \"sigma.upper.limit\"             \"max.flips\"                    \n",
       "[7] \"siginv\"                        \"prior.success.probability\"    "
      ]
     },
     "metadata": {},
     "output_type": "display_data"
    }
   ],
   "source": [
    "names(prior)"
   ]
  },
  {
   "cell_type": "code",
   "execution_count": 78,
   "metadata": {},
   "outputs": [
    {
     "data": {
      "text/html": [
       "0.0565559932470456"
      ],
      "text/latex": [
       "0.0565559932470456"
      ],
      "text/markdown": [
       "0.0565559932470456"
      ],
      "text/plain": [
       "[1] 0.05655599"
      ]
     },
     "metadata": {},
     "output_type": "display_data"
    }
   ],
   "source": [
    "prior$prior.success.probability"
   ]
  },
  {
   "cell_type": "code",
   "execution_count": 52,
   "metadata": {},
   "outputs": [],
   "source": [
    "prior_glm <- SpikeSlabGlmPrior(X, weight = rep(1/nrow(X), nrow(X)), prior.inclusion.probabilities = rep(1/ncol(X), ncol(X)), expected.model.size = 1, \n",
    "                               optional.coefficient.estimate = rep(0, ncol(X)), mean.on.natural.scale = -1, max.flips = 5, diagonal.shrinkage = 0, prior.information.weight = 0.05)"
   ]
  },
  {
   "cell_type": "code",
   "execution_count": 53,
   "metadata": {},
   "outputs": [
    {
     "data": {
      "text/html": [
       "<ol class=list-inline>\n",
       "\t<li>'prior.inclusion.probabilities'</li>\n",
       "\t<li>'mu'</li>\n",
       "\t<li>'sigma.guess'</li>\n",
       "\t<li>'prior.df'</li>\n",
       "\t<li>'sigma.upper.limit'</li>\n",
       "\t<li>'max.flips'</li>\n",
       "\t<li>'siginv'</li>\n",
       "</ol>\n"
      ],
      "text/latex": [
       "\\begin{enumerate*}\n",
       "\\item 'prior.inclusion.probabilities'\n",
       "\\item 'mu'\n",
       "\\item 'sigma.guess'\n",
       "\\item 'prior.df'\n",
       "\\item 'sigma.upper.limit'\n",
       "\\item 'max.flips'\n",
       "\\item 'siginv'\n",
       "\\end{enumerate*}\n"
      ],
      "text/markdown": [
       "1. 'prior.inclusion.probabilities'\n",
       "2. 'mu'\n",
       "3. 'sigma.guess'\n",
       "4. 'prior.df'\n",
       "5. 'sigma.upper.limit'\n",
       "6. 'max.flips'\n",
       "7. 'siginv'\n",
       "\n",
       "\n"
      ],
      "text/plain": [
       "[1] \"prior.inclusion.probabilities\" \"mu\"                           \n",
       "[3] \"sigma.guess\"                   \"prior.df\"                     \n",
       "[5] \"sigma.upper.limit\"             \"max.flips\"                    \n",
       "[7] \"siginv\"                       "
      ]
     },
     "metadata": {},
     "output_type": "display_data"
    }
   ],
   "source": [
    "names(prior_glm)"
   ]
  },
  {
   "cell_type": "code",
   "execution_count": 42,
   "metadata": {},
   "outputs": [],
   "source": [
    "prior1 <- prior"
   ]
  },
  {
   "cell_type": "code",
   "execution_count": 43,
   "metadata": {},
   "outputs": [
    {
     "data": {
      "text/html": [
       "60"
      ],
      "text/latex": [
       "60"
      ],
      "text/markdown": [
       "60"
      ],
      "text/plain": [
       "[1] 60"
      ]
     },
     "metadata": {},
     "output_type": "display_data"
    },
    {
     "data": {
      "text/html": [
       "59"
      ],
      "text/latex": [
       "59"
      ],
      "text/markdown": [
       "59"
      ],
      "text/plain": [
       "[1] 59"
      ]
     },
     "metadata": {},
     "output_type": "display_data"
    }
   ],
   "source": [
    "length(prior$mu); ncol(X)"
   ]
  },
  {
   "cell_type": "code",
   "execution_count": 63,
   "metadata": {},
   "outputs": [],
   "source": [
    "prior1$prior.inclusion.probabilities <- c(prior$prior.inclusion.probabilities[1], rep(pi0, ncol(X)))\n",
    "prior1$mu <- c(prior$mu[1], rep(0, 10), mu0, rep(0, 10), mu0, mu0, rep(0, 9), mu0, rep(0,10), mu0, rep(0,10), mu0, rep(0, 4))\n",
    "# prior1$mu <- c(prior$mu[1], colSums(X_inter)[2:ncol(X_inter)]*0.001)\n",
    "prior1$sigma.guess <- sd0"
   ]
  },
  {
   "cell_type": "code",
   "execution_count": 64,
   "metadata": {},
   "outputs": [
    {
     "data": {
      "text/html": [
       "FALSE"
      ],
      "text/latex": [
       "FALSE"
      ],
      "text/markdown": [
       "FALSE"
      ],
      "text/plain": [
       "[1] FALSE"
      ]
     },
     "metadata": {},
     "output_type": "display_data"
    }
   ],
   "source": [
    "length(prior$mu) == ncol(X)"
   ]
  },
  {
   "cell_type": "code",
   "execution_count": 65,
   "metadata": {},
   "outputs": [
    {
     "name": "stdout",
     "output_type": "stream",
     "text": [
      "=-=-=-=-= Iteration 0 Thu Oct  3 22:48:23 2019 =-=-=-=-=\n",
      "=-=-=-=-= Iteration 100 Thu Oct  3 22:48:53 2019 =-=-=-=-=\n",
      "=-=-=-=-= Iteration 200 Thu Oct  3 22:49:17 2019 =-=-=-=-=\n",
      "=-=-=-=-= Iteration 300 Thu Oct  3 22:49:46 2019 =-=-=-=-=\n",
      "=-=-=-=-= Iteration 400 Thu Oct  3 22:50:16 2019 =-=-=-=-=\n",
      "=-=-=-=-= Iteration 500 Thu Oct  3 22:50:45 2019 =-=-=-=-=\n",
      "=-=-=-=-= Iteration 600 Thu Oct  3 22:51:12 2019 =-=-=-=-=\n",
      "=-=-=-=-= Iteration 700 Thu Oct  3 22:51:41 2019 =-=-=-=-=\n",
      "=-=-=-=-= Iteration 800 Thu Oct  3 22:52:09 2019 =-=-=-=-=\n",
      "=-=-=-=-= Iteration 900 Thu Oct  3 22:52:33 2019 =-=-=-=-=\n"
     ]
    }
   ],
   "source": [
    "model1 <- logit.spike(y ~ X, niter = 1000, prior = prior1)"
   ]
  },
  {
   "cell_type": "code",
   "execution_count": 76,
   "metadata": {},
   "outputs": [
    {
     "name": "stdout",
     "output_type": "stream",
     "text": [
      "=-=-=-=-= Iteration 0 Fri Oct  4 10:31:52 2019 =-=-=-=-=\n",
      "=-=-=-=-= Iteration 3000 Fri Oct  4 10:44:58 2019 =-=-=-=-=\n",
      "=-=-=-=-= Iteration 6000 Fri Oct  4 10:58:11 2019 =-=-=-=-=\n",
      "=-=-=-=-= Iteration 9000 Fri Oct  4 11:11:12 2019 =-=-=-=-=\n",
      "=-=-=-=-= Iteration 12000 Fri Oct  4 11:24:44 2019 =-=-=-=-=\n",
      "=-=-=-=-= Iteration 15000 Fri Oct  4 11:37:53 2019 =-=-=-=-=\n",
      "=-=-=-=-= Iteration 18000 Fri Oct  4 12:01:18 2019 =-=-=-=-=\n",
      "=-=-=-=-= Iteration 21000 Fri Oct  4 12:17:17 2019 =-=-=-=-=\n",
      "=-=-=-=-= Iteration 24000 Fri Oct  4 12:30:34 2019 =-=-=-=-=\n",
      "=-=-=-=-= Iteration 27000 Fri Oct  4 12:48:20 2019 =-=-=-=-=\n"
     ]
    }
   ],
   "source": [
    "model0 <- logit.spike(y ~ X, niter = 30000)"
   ]
  },
  {
   "cell_type": "code",
   "execution_count": 77,
   "metadata": {},
   "outputs": [
    {
     "data": {
      "text/plain": [
       "null log likelihood:            -1545.166 \n",
       "posterior mean log likelihood:  -1545.593 \n",
       "posterior max log likelihood:   -1543.954 \n",
       "mean deviance R-sq:             -0.0002758504 \n",
       "\n",
       "predicted vs observed success rates, by decile:\n",
       "                     predicted   observed\n",
       "(0.050313,0.056566] 0.05656074 0.05632411\n",
       "(0.056566,0.056569] 0.05656864 0.17647059\n",
       "\n",
       "summary of coefficients:\n",
       "                 mean       sd  mean.inc   sd.inc inc.prob\n",
       "(Intercept) -2.82e+00 5.20e-02    -2.820    0.052 1.00e+00\n",
       "XV7         -1.79e+01 1.74e+02  -979.000  844.000 1.83e-02\n",
       "XV51        -7.26e+00 7.31e+01  -404.000  371.000 1.80e-02\n",
       "XV11        -1.67e+01 1.67e+02  -995.000  833.000 1.68e-02\n",
       "XV52        -1.02e+01 1.02e+02  -678.000  485.000 1.50e-02\n",
       "XV9         -1.57e+01 2.17e+02 -1150.000 1470.000 1.37e-02\n",
       "XV53        -1.73e+01 1.78e+02 -1470.000  748.000 1.18e-02\n",
       "XV12        -1.06e+01 1.69e+02  -934.000 1290.000 1.13e-02\n",
       "XV10        -7.42e+00 9.21e+01  -698.000  562.000 1.06e-02\n",
       "XV8         -1.14e+01 1.65e+02 -1100.000 1190.000 1.04e-02\n",
       "XV13        -9.62e+00 1.25e+02 -1010.000  796.000 9.57e-03\n",
       "XV3         -1.21e+01 1.58e+02 -1310.000 1010.000 9.20e-03\n",
       "XV5         -1.22e+01 1.60e+02 -1340.000 1020.000 9.17e-03\n",
       "XV4         -9.50e+00 1.50e+02 -1100.000 1190.000 8.63e-03\n",
       "XV55        -1.07e+01 1.42e+02 -1560.000  718.000 6.87e-03\n",
       "XV54        -1.04e+01 1.47e+02 -1750.000  769.000 5.93e-03\n",
       "XV6         -6.63e+00 1.43e+02 -1470.000 1550.000 4.50e-03\n",
       "XV21        -4.88e-04 3.57e-02    -2.090    1.120 2.33e-04\n",
       "XV58        -4.05e-04 4.98e-02    -6.080    0.664 6.67e-05\n",
       "XV44         3.33e-05 5.03e-03     0.499    0.511 6.67e-05\n",
       "XV20         3.07e-05 5.31e-03     0.920    0.000 3.33e-05\n",
       "XV19        -1.93e-05 3.34e-03    -0.578    0.000 3.33e-05\n",
       "XV59         0.00e+00 0.00e+00     0.000    0.000 0.00e+00\n",
       "XV57         0.00e+00 0.00e+00     0.000    0.000 0.00e+00\n",
       "XV56         0.00e+00 0.00e+00     0.000    0.000 0.00e+00\n",
       "XV50         0.00e+00 0.00e+00     0.000    0.000 0.00e+00\n",
       "XV49         0.00e+00 0.00e+00     0.000    0.000 0.00e+00\n",
       "XV48         0.00e+00 0.00e+00     0.000    0.000 0.00e+00\n",
       "XV47         0.00e+00 0.00e+00     0.000    0.000 0.00e+00\n",
       "XV46         0.00e+00 0.00e+00     0.000    0.000 0.00e+00\n",
       "XV45         0.00e+00 0.00e+00     0.000    0.000 0.00e+00\n",
       "XV43         0.00e+00 0.00e+00     0.000    0.000 0.00e+00\n",
       "XV42         0.00e+00 0.00e+00     0.000    0.000 0.00e+00\n",
       "XV41         0.00e+00 0.00e+00     0.000    0.000 0.00e+00\n",
       "XV40         0.00e+00 0.00e+00     0.000    0.000 0.00e+00\n",
       "XV39         0.00e+00 0.00e+00     0.000    0.000 0.00e+00\n",
       "XV38         0.00e+00 0.00e+00     0.000    0.000 0.00e+00\n",
       "XV37         0.00e+00 0.00e+00     0.000    0.000 0.00e+00\n",
       "XV36         0.00e+00 0.00e+00     0.000    0.000 0.00e+00\n",
       "XV35         0.00e+00 0.00e+00     0.000    0.000 0.00e+00\n",
       "XV34         0.00e+00 0.00e+00     0.000    0.000 0.00e+00\n",
       "XV33         0.00e+00 0.00e+00     0.000    0.000 0.00e+00\n",
       "XV32         0.00e+00 0.00e+00     0.000    0.000 0.00e+00\n",
       "XV31         0.00e+00 0.00e+00     0.000    0.000 0.00e+00\n",
       "XV30         0.00e+00 0.00e+00     0.000    0.000 0.00e+00\n",
       "XV29         0.00e+00 0.00e+00     0.000    0.000 0.00e+00\n",
       "XV28         0.00e+00 0.00e+00     0.000    0.000 0.00e+00\n",
       "XV27         0.00e+00 0.00e+00     0.000    0.000 0.00e+00\n",
       "XV26         0.00e+00 0.00e+00     0.000    0.000 0.00e+00\n",
       "XV25         0.00e+00 0.00e+00     0.000    0.000 0.00e+00\n",
       "XV24         0.00e+00 0.00e+00     0.000    0.000 0.00e+00\n",
       "XV23         0.00e+00 0.00e+00     0.000    0.000 0.00e+00\n",
       "XV22         0.00e+00 0.00e+00     0.000    0.000 0.00e+00\n",
       "XV18         0.00e+00 0.00e+00     0.000    0.000 0.00e+00\n",
       "XV17         0.00e+00 0.00e+00     0.000    0.000 0.00e+00\n",
       "XV16         0.00e+00 0.00e+00     0.000    0.000 0.00e+00\n",
       "XV15         0.00e+00 0.00e+00     0.000    0.000 0.00e+00\n",
       "XV14         0.00e+00 0.00e+00     0.000    0.000 0.00e+00\n",
       "XV2          0.00e+00 0.00e+00     0.000    0.000 0.00e+00\n",
       "XV1          0.00e+00 0.00e+00     0.000    0.000 0.00e+00"
      ]
     },
     "metadata": {},
     "output_type": "display_data"
    }
   ],
   "source": [
    "summary(model0)"
   ]
  },
  {
   "cell_type": "code",
   "execution_count": 74,
   "metadata": {},
   "outputs": [
    {
     "name": "stdout",
     "output_type": "stream",
     "text": [
      "=-=-=-=-= Iteration 0 Thu Oct  3 23:29:17 2019 =-=-=-=-=\n",
      "=-=-=-=-= Iteration 3000 Thu Oct  3 23:44:03 2019 =-=-=-=-=\n",
      "=-=-=-=-= Iteration 6000 Fri Oct  4 00:00:58 2019 =-=-=-=-=\n",
      "=-=-=-=-= Iteration 9000 Fri Oct  4 00:15:56 2019 =-=-=-=-=\n",
      "=-=-=-=-= Iteration 12000 Fri Oct  4 00:34:17 2019 =-=-=-=-=\n",
      "=-=-=-=-= Iteration 15000 Fri Oct  4 00:47:14 2019 =-=-=-=-=\n",
      "=-=-=-=-= Iteration 18000 Fri Oct  4 01:04:03 2019 =-=-=-=-=\n",
      "=-=-=-=-= Iteration 21000 Fri Oct  4 01:18:54 2019 =-=-=-=-=\n",
      "=-=-=-=-= Iteration 24000 Fri Oct  4 01:34:07 2019 =-=-=-=-=\n",
      "=-=-=-=-= Iteration 27000 Fri Oct  4 01:53:01 2019 =-=-=-=-=\n"
     ]
    }
   ],
   "source": [
    "model <- logit.spike(y ~ X, niter = 30000, prior = prior)\n",
    "# model <- logit.spike(y ~ X_inter, niter = 100)"
   ]
  },
  {
   "cell_type": "code",
   "execution_count": 75,
   "metadata": {},
   "outputs": [
    {
     "data": {
      "text/plain": [
       "null log likelihood:            -1545.166 \n",
       "posterior mean log likelihood:  -1545.555 \n",
       "posterior max log likelihood:   -1544.175 \n",
       "mean deviance R-sq:             -0.0002518388 \n",
       "\n",
       "predicted vs observed success rates, by decile:\n",
       "                 predicted   observed\n",
       "(0.0429,0.0566] 0.05661999 0.05611166\n",
       "(0.0566,0.0567] 0.05664569 0.36363636\n",
       "\n",
       "summary of coefficients:\n",
       "                 mean       sd  mean.inc   sd.inc inc.prob\n",
       "(Intercept) -2.81e+00 5.13e-02   -2.8100 5.13e-02 1.00e+00\n",
       "XV2         -3.71e+01 1.89e+02 -671.0000 4.70e+02 5.53e-02\n",
       "XV7         -2.88e+01 1.48e+02 -534.0000 3.72e+02 5.40e-02\n",
       "XV56        -2.55e+01 1.43e+02 -552.0000 3.91e+02 4.63e-02\n",
       "XV10        -2.91e+01 1.75e+02 -694.0000 5.22e+02 4.20e-02\n",
       "XV3         -1.67e+01 9.96e+01 -431.0000 2.78e+02 3.88e-02\n",
       "XV11        -1.94e+01 1.24e+02 -504.0000 3.94e+02 3.85e-02\n",
       "XV13        -9.79e+00 1.02e+02 -720.0000 5.04e+02 1.36e-02\n",
       "XV53        -4.28e+00 5.51e+01 -493.0000 3.31e+02 8.67e-03\n",
       "XV47        -1.96e+00 2.92e+01 -296.0000 2.05e+02 6.60e-03\n",
       "XV51        -1.76e+00 2.76e+01 -298.0000 2.03e+02 5.90e-03\n",
       "XV55        -2.47e+00 4.98e+01 -593.0000 4.97e+02 4.17e-03\n",
       "XV1         -1.60e-03 5.47e-02   -1.5000 7.60e-01 1.07e-03\n",
       "XV35        -1.49e-03 7.00e-02   -2.0400 1.63e+00 7.33e-04\n",
       "XV38        -6.18e-04 3.66e-02   -1.3200 1.10e+00 4.67e-04\n",
       "XV50         3.92e-04 2.53e-02    1.4700 5.16e-01 2.67e-04\n",
       "XV44        -2.22e-04 1.70e-02   -0.8320 6.66e-01 2.67e-04\n",
       "XV25         2.66e-05 2.30e-03    0.0999 1.06e-01 2.67e-04\n",
       "XV59        -1.21e-03 8.93e-02   -6.0600 1.94e+00 2.00e-04\n",
       "XV18         1.68e-05 1.41e-02    0.0842 1.09e+00 2.00e-04\n",
       "XV12         5.07e-04 3.59e-02    2.5300 1.27e-01 2.00e-04\n",
       "XV33        -1.92e-04 1.54e-02   -1.1500 3.63e-01 1.67e-04\n",
       "XV22        -9.29e-05 8.06e-03   -0.6970 4.63e-02 1.33e-04\n",
       "XV19         1.02e-04 1.00e-02    0.7640 4.76e-01 1.33e-04\n",
       "XV8          7.38e-05 6.60e-03    0.5540 1.64e-01 1.33e-04\n",
       "XV36        -3.77e-05 5.09e-03   -0.3770 4.19e-01 1.00e-04\n",
       "XV29         3.61e-05 5.64e-03    0.3610 5.31e-01 1.00e-04\n",
       "XV26        -1.58e-04 1.59e-02   -1.5800 1.76e-01 1.00e-04\n",
       "XV48        -1.15e-04 1.41e-02   -1.7300 1.27e-01 6.67e-05\n",
       "XV41        -3.20e-06 4.69e-03   -0.0480 8.09e-01 6.67e-05\n",
       "XV37         4.75e-05 5.86e-03    0.7130 1.18e-01 6.67e-05\n",
       "XV27         5.43e-05 6.66e-03    0.8150 5.49e-02 6.67e-05\n",
       "XV24         2.93e-05 3.59e-03    0.4400 1.45e-03 6.67e-05\n",
       "XV14        -3.41e-06 9.89e-04   -0.0511 1.55e-01 6.67e-05\n",
       "XV54         1.83e-05 3.17e-03    0.5490 0.00e+00 3.33e-05\n",
       "XV52        -1.37e-06 2.38e-04   -0.0412 0.00e+00 3.33e-05\n",
       "XV46        -2.60e-05 4.51e-03   -0.7800 0.00e+00 3.33e-05\n",
       "XV42        -4.05e-05 7.02e-03   -1.2200 0.00e+00 3.33e-05\n",
       "XV40         9.31e-06 1.61e-03    0.2790 0.00e+00 3.33e-05\n",
       "XV34        -1.51e-06 2.62e-04   -0.0454 0.00e+00 3.33e-05\n",
       "XV32         1.36e-05 2.36e-03    0.4090 0.00e+00 3.33e-05\n",
       "XV31         1.85e-05 3.21e-03    0.5560 0.00e+00 3.33e-05\n",
       "XV23         3.84e-06 6.64e-04    0.1150 0.00e+00 3.33e-05\n",
       "XV5         -8.45e-06 1.46e-03   -0.2540 0.00e+00 3.33e-05\n",
       "XV58         0.00e+00 0.00e+00    0.0000 0.00e+00 0.00e+00\n",
       "XV57         0.00e+00 0.00e+00    0.0000 0.00e+00 0.00e+00\n",
       "XV49         0.00e+00 0.00e+00    0.0000 0.00e+00 0.00e+00\n",
       "XV45         0.00e+00 0.00e+00    0.0000 0.00e+00 0.00e+00\n",
       "XV43         0.00e+00 0.00e+00    0.0000 0.00e+00 0.00e+00\n",
       "XV39         0.00e+00 0.00e+00    0.0000 0.00e+00 0.00e+00\n",
       "XV30         0.00e+00 0.00e+00    0.0000 0.00e+00 0.00e+00\n",
       "XV28         0.00e+00 0.00e+00    0.0000 0.00e+00 0.00e+00\n",
       "XV21         0.00e+00 0.00e+00    0.0000 0.00e+00 0.00e+00\n",
       "XV20         0.00e+00 0.00e+00    0.0000 0.00e+00 0.00e+00\n",
       "XV17         0.00e+00 0.00e+00    0.0000 0.00e+00 0.00e+00\n",
       "XV16         0.00e+00 0.00e+00    0.0000 0.00e+00 0.00e+00\n",
       "XV15         0.00e+00 0.00e+00    0.0000 0.00e+00 0.00e+00\n",
       "XV9          0.00e+00 0.00e+00    0.0000 0.00e+00 0.00e+00\n",
       "XV6          0.00e+00 0.00e+00    0.0000 0.00e+00 0.00e+00\n",
       "XV4          0.00e+00 0.00e+00    0.0000 0.00e+00 0.00e+00"
      ]
     },
     "metadata": {},
     "output_type": "display_data"
    }
   ],
   "source": [
    "summary(model) # prior 1000"
   ]
  },
  {
   "cell_type": "code",
   "execution_count": 66,
   "metadata": {},
   "outputs": [
    {
     "data": {
      "text/plain": [
       "null log likelihood:            -1545.166 \n",
       "posterior mean log likelihood:  -1545.637 \n",
       "posterior max log likelihood:   -1544.987 \n",
       "mean deviance R-sq:             -0.0003043409 \n",
       "\n",
       "predicted vs observed success rates, by decile:\n",
       "                 predicted   observed\n",
       "(0.0564,0.0582] 0.05739954 0.05128205\n",
       "\n",
       "summary of coefficients:\n",
       "                 mean     sd mean.inc  sd.inc inc.prob\n",
       "(Intercept) -2.820000 0.0478  -2.8200 0.04780    1.000\n",
       "XV22         0.000816 0.1230   0.0742 1.23000    0.011\n",
       "XV55         0.002830 0.0449   0.7070 0.08550    0.004\n",
       "XV44         0.001430 0.0243   0.3580 0.16100    0.004\n",
       "XV33         0.003210 0.0506   0.8010 0.00488    0.004\n",
       "XV23         0.003010 0.0477   0.7540 0.04700    0.004\n",
       "XV11         0.004150 0.0664   1.0400 0.20300    0.004\n",
       "XV5         -0.000840 0.0266  -0.8400 0.00000    0.001\n",
       "XV59         0.000000 0.0000   0.0000 0.00000    0.000\n",
       "XV58         0.000000 0.0000   0.0000 0.00000    0.000\n",
       "XV57         0.000000 0.0000   0.0000 0.00000    0.000\n",
       "XV56         0.000000 0.0000   0.0000 0.00000    0.000\n",
       "XV54         0.000000 0.0000   0.0000 0.00000    0.000\n",
       "XV53         0.000000 0.0000   0.0000 0.00000    0.000\n",
       "XV52         0.000000 0.0000   0.0000 0.00000    0.000\n",
       "XV51         0.000000 0.0000   0.0000 0.00000    0.000\n",
       "XV50         0.000000 0.0000   0.0000 0.00000    0.000\n",
       "XV49         0.000000 0.0000   0.0000 0.00000    0.000\n",
       "XV48         0.000000 0.0000   0.0000 0.00000    0.000\n",
       "XV47         0.000000 0.0000   0.0000 0.00000    0.000\n",
       "XV46         0.000000 0.0000   0.0000 0.00000    0.000\n",
       "XV45         0.000000 0.0000   0.0000 0.00000    0.000\n",
       "XV43         0.000000 0.0000   0.0000 0.00000    0.000\n",
       "XV42         0.000000 0.0000   0.0000 0.00000    0.000\n",
       "XV41         0.000000 0.0000   0.0000 0.00000    0.000\n",
       "XV40         0.000000 0.0000   0.0000 0.00000    0.000\n",
       "XV39         0.000000 0.0000   0.0000 0.00000    0.000\n",
       "XV38         0.000000 0.0000   0.0000 0.00000    0.000\n",
       "XV37         0.000000 0.0000   0.0000 0.00000    0.000\n",
       "XV36         0.000000 0.0000   0.0000 0.00000    0.000\n",
       "XV35         0.000000 0.0000   0.0000 0.00000    0.000\n",
       "XV34         0.000000 0.0000   0.0000 0.00000    0.000\n",
       "XV32         0.000000 0.0000   0.0000 0.00000    0.000\n",
       "XV31         0.000000 0.0000   0.0000 0.00000    0.000\n",
       "XV30         0.000000 0.0000   0.0000 0.00000    0.000\n",
       "XV29         0.000000 0.0000   0.0000 0.00000    0.000\n",
       "XV28         0.000000 0.0000   0.0000 0.00000    0.000\n",
       "XV27         0.000000 0.0000   0.0000 0.00000    0.000\n",
       "XV26         0.000000 0.0000   0.0000 0.00000    0.000\n",
       "XV25         0.000000 0.0000   0.0000 0.00000    0.000\n",
       "XV24         0.000000 0.0000   0.0000 0.00000    0.000\n",
       "XV21         0.000000 0.0000   0.0000 0.00000    0.000\n",
       "XV20         0.000000 0.0000   0.0000 0.00000    0.000\n",
       "XV19         0.000000 0.0000   0.0000 0.00000    0.000\n",
       "XV18         0.000000 0.0000   0.0000 0.00000    0.000\n",
       "XV17         0.000000 0.0000   0.0000 0.00000    0.000\n",
       "XV16         0.000000 0.0000   0.0000 0.00000    0.000\n",
       "XV15         0.000000 0.0000   0.0000 0.00000    0.000\n",
       "XV14         0.000000 0.0000   0.0000 0.00000    0.000\n",
       "XV13         0.000000 0.0000   0.0000 0.00000    0.000\n",
       "XV12         0.000000 0.0000   0.0000 0.00000    0.000\n",
       "XV10         0.000000 0.0000   0.0000 0.00000    0.000\n",
       "XV9          0.000000 0.0000   0.0000 0.00000    0.000\n",
       "XV8          0.000000 0.0000   0.0000 0.00000    0.000\n",
       "XV7          0.000000 0.0000   0.0000 0.00000    0.000\n",
       "XV6          0.000000 0.0000   0.0000 0.00000    0.000\n",
       "XV4          0.000000 0.0000   0.0000 0.00000    0.000\n",
       "XV3          0.000000 0.0000   0.0000 0.00000    0.000\n",
       "XV2          0.000000 0.0000   0.0000 0.00000    0.000\n",
       "XV1          0.000000 0.0000   0.0000 0.00000    0.000"
      ]
     },
     "metadata": {},
     "output_type": "display_data"
    }
   ],
   "source": [
    "summary(model1) # prior1 1000"
   ]
  },
  {
   "cell_type": "code",
   "execution_count": null,
   "metadata": {},
   "outputs": [],
   "source": []
  },
  {
   "cell_type": "code",
   "execution_count": 19,
   "metadata": {},
   "outputs": [
    {
     "name": "stdout",
     "output_type": "stream",
     "text": [
      "=-=-=-=-= Iteration 0 Wed Oct  2 22:00:39 2019 =-=-=-=-=\n",
      "=-=-=-=-= Iteration 100 Wed Oct  2 22:00:39 2019 =-=-=-=-=\n",
      "=-=-=-=-= Iteration 200 Wed Oct  2 22:00:39 2019 =-=-=-=-=\n",
      "=-=-=-=-= Iteration 300 Wed Oct  2 22:00:39 2019 =-=-=-=-=\n",
      "=-=-=-=-= Iteration 400 Wed Oct  2 22:00:39 2019 =-=-=-=-=\n",
      "=-=-=-=-= Iteration 500 Wed Oct  2 22:00:40 2019 =-=-=-=-=\n",
      "=-=-=-=-= Iteration 600 Wed Oct  2 22:00:40 2019 =-=-=-=-=\n",
      "=-=-=-=-= Iteration 700 Wed Oct  2 22:00:40 2019 =-=-=-=-=\n",
      "=-=-=-=-= Iteration 800 Wed Oct  2 22:00:40 2019 =-=-=-=-=\n",
      "=-=-=-=-= Iteration 900 Wed Oct  2 22:00:40 2019 =-=-=-=-=\n"
     ]
    }
   ],
   "source": [
    "n <- 100\n",
    "p <- 10\n",
    "ngood <- 3\n",
    "niter <- 1000\n",
    "x <- cbind(1, matrix(rnorm(n * (p-1)), nrow=n))\n",
    "beta <- c(rnorm(ngood), rep(0, p - ngood))\n",
    "prob <- plogis(x %*% beta)\n",
    "y <- runif(n) < prob\n",
    "x <- x[,-1]\n",
    "model <- logit.spike(y ~ x, niter=niter)"
   ]
  },
  {
   "cell_type": "code",
   "execution_count": 20,
   "metadata": {},
   "outputs": [
    {
     "data": {
      "text/plain": [
       "null log likelihood:            -57.30569 \n",
       "posterior mean log likelihood:  -69.21457 \n",
       "posterior max log likelihood:   -67.30182 \n",
       "mean deviance R-sq:             -0.2078131 \n",
       "\n",
       "predicted vs observed success rates, by decile:\n",
       "              predicted observed\n",
       "(0.49,0.494]  0.4923392      0.0\n",
       "(0.494,0.496] 0.4952206      0.1\n",
       "(0.496,0.498] 0.4969029      0.2\n",
       "(0.498,0.499] 0.4983347      0.2\n",
       "(0.499,0.5]   0.4996715      0.4\n",
       "(0.5,0.502]   0.5011072      0.3\n",
       "(0.502,0.503] 0.5022994      0.0\n",
       "(0.503,0.504] 0.5036059      0.4\n",
       "(0.504,0.507] 0.5056010      0.3\n",
       "(0.507,0.512] 0.5090135      0.7\n",
       "\n",
       "summary of coefficients:\n",
       "        mean     sd mean.inc sd.inc inc.prob\n",
       "x5 -0.017700 0.0942   -0.455 0.1720    0.039\n",
       "x1 -0.011400 0.0738   -0.394 0.1940    0.029\n",
       "x9 -0.000636 0.0142   -0.318 0.0138    0.002\n",
       "x2 -0.001020 0.0228   -0.510 0.0000    0.002\n",
       "x8  0.000000 0.0000    0.000 0.0000    0.000\n",
       "x7  0.000000 0.0000    0.000 0.0000    0.000\n",
       "x6  0.000000 0.0000    0.000 0.0000    0.000\n",
       "x4  0.000000 0.0000    0.000 0.0000    0.000\n",
       "x3  0.000000 0.0000    0.000 0.0000    0.000"
      ]
     },
     "metadata": {},
     "output_type": "display_data"
    }
   ],
   "source": [
    "summary(test)"
   ]
  },
  {
   "cell_type": "code",
   "execution_count": 36,
   "metadata": {},
   "outputs": [
    {
     "data": {
      "text/plain": [
       "null log likelihood:            -67.68585 \n",
       "posterior mean log likelihood:  -69.297 \n",
       "posterior max log likelihood:   -67.94729 \n",
       "mean deviance R-sq:             -0.02380324 \n",
       "\n",
       "predicted vs observed success rates, by decile:\n",
       "                predicted  observed\n",
       "(0.4974,0.4986] 0.4982661 0.6666667\n",
       "(0.4986,0.499]  0.4988171 0.3000000\n",
       "(0.499,0.4995]  0.4991941 0.6000000\n",
       "(0.4995,0.4999] 0.4996560 0.5000000\n",
       "(0.4999,0.5002] 0.5000711 0.4000000\n",
       "(0.5002,0.5004] 0.5002891 0.8000000\n",
       "(0.5004,0.5007] 0.5005541 0.8000000\n",
       "(0.5007,0.501]  0.5009263 0.4000000\n",
       "(0.501,0.5014]  0.5011724 0.6000000\n",
       "(0.5014,0.5027] 0.5018429 0.9000000\n",
       "\n",
       "summary of coefficients:\n",
       "                 mean      sd mean.inc  sd.inc inc.prob\n",
       "x3           0.004290 0.04540   0.4290 0.16300    0.010\n",
       "x1           0.001960 0.02430   0.2450 0.12700    0.008\n",
       "x9          -0.000974 0.01540  -0.2440 0.00585    0.004\n",
       "x2          -0.000161 0.00413  -0.0536 0.06500    0.003\n",
       "x7          -0.000214 0.00483  -0.1070 0.01970    0.002\n",
       "x5           0.000281 0.00629   0.1410 0.00644    0.002\n",
       "x8           0.000000 0.00000   0.0000 0.00000    0.000\n",
       "x6           0.000000 0.00000   0.0000 0.00000    0.000\n",
       "x4           0.000000 0.00000   0.0000 0.00000    0.000\n",
       "(Intercept)  0.000000 0.00000   0.0000 0.00000    0.000"
      ]
     },
     "metadata": {},
     "output_type": "display_data"
    }
   ],
   "source": [
    "summary(test)"
   ]
  },
  {
   "cell_type": "code",
   "execution_count": 39,
   "metadata": {},
   "outputs": [
    {
     "data": {
      "text/html": [
       "<dl class=dl-horizontal>\n",
       "\t<dt>(Intercept)</dt>\n",
       "\t\t<dd>0</dd>\n",
       "\t<dt>x1</dt>\n",
       "\t\t<dd>1.96146004299969</dd>\n",
       "\t<dt>x2</dt>\n",
       "\t\t<dd>-0.16081442311462</dd>\n",
       "\t<dt>x3</dt>\n",
       "\t\t<dd>4.29328535410661</dd>\n",
       "\t<dt>x4</dt>\n",
       "\t\t<dd>0</dd>\n",
       "\t<dt>x5</dt>\n",
       "\t\t<dd>0.281467533823226</dd>\n",
       "\t<dt>x6</dt>\n",
       "\t\t<dd>0</dd>\n",
       "\t<dt>x7</dt>\n",
       "\t\t<dd>-0.214314657350521</dd>\n",
       "\t<dt>x8</dt>\n",
       "\t\t<dd>0</dd>\n",
       "\t<dt>x9</dt>\n",
       "\t\t<dd>-0.974139610722915</dd>\n",
       "</dl>\n"
      ],
      "text/latex": [
       "\\begin{description*}\n",
       "\\item[(Intercept)] 0\n",
       "\\item[x1] 1.96146004299969\n",
       "\\item[x2] -0.16081442311462\n",
       "\\item[x3] 4.29328535410661\n",
       "\\item[x4] 0\n",
       "\\item[x5] 0.281467533823226\n",
       "\\item[x6] 0\n",
       "\\item[x7] -0.214314657350521\n",
       "\\item[x8] 0\n",
       "\\item[x9] -0.974139610722915\n",
       "\\end{description*}\n"
      ],
      "text/markdown": [
       "(Intercept)\n",
       ":   0x1\n",
       ":   1.96146004299969x2\n",
       ":   -0.16081442311462x3\n",
       ":   4.29328535410661x4\n",
       ":   0x5\n",
       ":   0.281467533823226x6\n",
       ":   0x7\n",
       ":   -0.214314657350521x8\n",
       ":   0x9\n",
       ":   -0.974139610722915\n",
       "\n"
      ],
      "text/plain": [
       "(Intercept)          x1          x2          x3          x4          x5 \n",
       "  0.0000000   1.9614600  -0.1608144   4.2932854   0.0000000   0.2814675 \n",
       "         x6          x7          x8          x9 \n",
       "  0.0000000  -0.2143147   0.0000000  -0.9741396 "
      ]
     },
     "metadata": {},
     "output_type": "display_data"
    }
   ],
   "source": [
    "colSums(test$beta)"
   ]
  },
  {
   "cell_type": "code",
   "execution_count": null,
   "metadata": {},
   "outputs": [],
   "source": []
  },
  {
   "cell_type": "code",
   "execution_count": null,
   "metadata": {},
   "outputs": [],
   "source": []
  },
  {
   "cell_type": "code",
   "execution_count": null,
   "metadata": {},
   "outputs": [],
   "source": []
  },
  {
   "cell_type": "code",
   "execution_count": null,
   "metadata": {},
   "outputs": [],
   "source": []
  },
  {
   "cell_type": "code",
   "execution_count": 10,
   "metadata": {},
   "outputs": [
    {
     "data": {
      "text/html": [
       "<ol class=list-inline>\n",
       "\t<li>1000</li>\n",
       "\t<li>60</li>\n",
       "</ol>\n"
      ],
      "text/latex": [
       "\\begin{enumerate*}\n",
       "\\item 1000\n",
       "\\item 60\n",
       "\\end{enumerate*}\n"
      ],
      "text/markdown": [
       "1. 1000\n",
       "2. 60\n",
       "\n",
       "\n"
      ],
      "text/plain": [
       "[1] 1000   60"
      ]
     },
     "metadata": {},
     "output_type": "display_data"
    }
   ],
   "source": [
    "dim(model$beta)"
   ]
  },
  {
   "cell_type": "code",
   "execution_count": 98,
   "metadata": {},
   "outputs": [
    {
     "data": {
      "text/html": [
       "0.00994830787243098"
      ],
      "text/latex": [
       "0.00994830787243098"
      ],
      "text/markdown": [
       "0.00994830787243098"
      ],
      "text/plain": [
       "[1] 0.009948308"
      ]
     },
     "metadata": {},
     "output_type": "display_data"
    }
   ],
   "source": [
    "mean(model$beta[, 20])"
   ]
  },
  {
   "cell_type": "code",
   "execution_count": 13,
   "metadata": {},
   "outputs": [
    {
     "data": {
      "text/html": [
       "0.00178724383993779"
      ],
      "text/latex": [
       "0.00178724383993779"
      ],
      "text/markdown": [
       "0.00178724383993779"
      ],
      "text/plain": [
       "[1] 0.001787244"
      ]
     },
     "metadata": {},
     "output_type": "display_data"
    }
   ],
   "source": [
    "mean(model$beta[, 50])"
   ]
  },
  {
   "cell_type": "code",
   "execution_count": 45,
   "metadata": {},
   "outputs": [],
   "source": [
    "res1 = susie(X, y, L = 3, scaled_prior_variance = 0.005, estimate_prior_method = \"optim\")"
   ]
  },
  {
   "cell_type": "code",
   "execution_count": 47,
   "metadata": {},
   "outputs": [
    {
     "data": {
      "text/html": [
       "0"
      ],
      "text/latex": [
       "0"
      ],
      "text/markdown": [
       "0"
      ],
      "text/plain": [
       "[1] 0"
      ]
     },
     "metadata": {},
     "output_type": "display_data"
    }
   ],
   "source": [
    "max(res1$pip)"
   ]
  },
  {
   "cell_type": "code",
   "execution_count": 29,
   "metadata": {},
   "outputs": [],
   "source": [
    "res2 = readRDS(\"/home/min/GIT/cnv-gene-mapping/data/deletion_simu/block_79_137/deletion.genes.block30.for_simu.sample.genes.block_79_137.varbvs.rds\")"
   ]
  },
  {
   "cell_type": "code",
   "execution_count": 30,
   "metadata": {},
   "outputs": [
    {
     "data": {
      "text/html": [
       "<ol class=list-inline>\n",
       "\t<li>'fit'</li>\n",
       "\t<li>'mu'</li>\n",
       "\t<li>'beta'</li>\n",
       "</ol>\n"
      ],
      "text/latex": [
       "\\begin{enumerate*}\n",
       "\\item 'fit'\n",
       "\\item 'mu'\n",
       "\\item 'beta'\n",
       "\\end{enumerate*}\n"
      ],
      "text/markdown": [
       "1. 'fit'\n",
       "2. 'mu'\n",
       "3. 'beta'\n",
       "\n",
       "\n"
      ],
      "text/plain": [
       "[1] \"fit\"  \"mu\"   \"beta\""
      ]
     },
     "metadata": {},
     "output_type": "display_data"
    }
   ],
   "source": [
    "names(res2)"
   ]
  },
  {
   "cell_type": "code",
   "execution_count": 48,
   "metadata": {},
   "outputs": [
    {
     "data": {
      "text/html": [
       "0.0269814805603835"
      ],
      "text/latex": [
       "0.0269814805603835"
      ],
      "text/markdown": [
       "0.0269814805603835"
      ],
      "text/plain": [
       "[1] 0.02698148"
      ]
     },
     "metadata": {},
     "output_type": "display_data"
    }
   ],
   "source": [
    "max(res2$fit$pip)"
   ]
  },
  {
   "cell_type": "markdown",
   "metadata": {},
   "source": [
    "**Make input prior as the format of output of SpikeSlabPrior**\n",
    "\n",
    "pi: vector of prior.inclusion.probabilities\n",
    "\n",
    "b: optional.coefficient.estimate"
   ]
  },
  {
   "cell_type": "markdown",
   "metadata": {},
   "source": [
    "    spike.slab.prior Create a spike and slab prior for use with lm.spike.\n",
    "    SpikeSlabPrior(x,\n",
    "    y = NULL,\n",
    "    expected.r2 = .5,\n",
    "    prior.df = .01,\n",
    "    expected.model.size = 1,\n",
    "    prior.information.weight = .01,\n",
    "    diagonal.shrinkage = .5,\n",
    "    optional.coefficient.estimate = NULL,\n",
    "    max.flips = -1,\n",
    "    mean.y = mean(y, na.rm = TRUE),\n",
    "    sdy = sd(as.numeric(y), na.rm = TRUE),\n",
    "    prior.inclusion.probabilities = NULL,\n",
    "    sigma.upper.limit = Inf)\n",
    "    \n",
    "    This object is intended for use with logit.spike.\n",
    "    LogitZellnerPrior(\n",
    "    predictors,\n",
    "    successes = NULL,\n",
    "    trials = NULL,\n",
    "    prior.success.probability = NULL,\n",
    "    expected.model.size = 1,\n",
    "    prior.information.weight = .01,\n",
    "    diagonal.shrinkage = .5,\n",
    "    optional.coefficient.estimate = NULL,\n",
    "    max.flips = -1,\n",
    "    prior.inclusion.probabilities = NULL)"
   ]
  },
  {
   "cell_type": "markdown",
   "metadata": {},
   "source": [
    "    logit.spike    Spike and slab logistic regression\n",
    "    logit.spike(formula,\n",
    "    niter,\n",
    "    data,\n",
    "    subset,\n",
    "    prior = NULL,\n",
    "    na.action = options(\"na.action\"),\n",
    "    contrasts = NULL,\n",
    "    drop.unused.levels = TRUE,\n",
    "    initial.value = NULL,\n",
    "    ping = niter / 10,\n",
    "    nthreads = 0,\n",
    "    clt.threshold = 2,\n",
    "    mh.chunk.size = 10,\n",
    "    proposal.df = 3,\n",
    "    sampler.weights = c(\"DA\" = .333, \"RWM\" = .333, \"TIM\" = .333),\n",
    "    seed = NULL,\n",
    "    ...)\n",
    "    \n",
    "    lm.spike       Spike and slab regression\n",
    "    lm.spike(formula,\n",
    "    niter,\n",
    "    data,\n",
    "    subset,\n",
    "    prior = NULL,\n",
    "    error.distribution = c(\"gaussian\", \"student\"),\n",
    "    contrasts = NULL,\n",
    "    drop.unused.levels = TRUE,\n",
    "    model.options = SsvsOptions(),\n",
    "    ping = niter / 10,\n",
    "    seed = NULL,\n",
    "    ...)"
   ]
  },
  {
   "cell_type": "code",
   "execution_count": null,
   "metadata": {},
   "outputs": [],
   "source": []
  }
 ],
 "metadata": {
  "kernelspec": {
   "display_name": "R",
   "language": "R",
   "name": "ir"
  },
  "language_info": {
   "codemirror_mode": "r",
   "file_extension": ".r",
   "mimetype": "text/x-r-source",
   "name": "R",
   "pygments_lexer": "r",
   "version": "3.5.3"
  }
 },
 "nbformat": 4,
 "nbformat_minor": 4
}
