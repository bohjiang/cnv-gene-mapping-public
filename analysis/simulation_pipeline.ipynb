{
 "cells": [
  {
   "cell_type": "markdown",
   "metadata": {},
   "source": [
    "# Simulation pipeline"
   ]
  },
  {
   "cell_type": "markdown",
   "metadata": {
    "output_cache": "[]"
   },
   "source": [
    "This is the pipeline version of simulation and data analysis of gene-based CNV analysis methods."
   ]
  },
  {
   "cell_type": "code",
   "execution_count": 3,
   "metadata": {
    "collapsed": false,
    "kernel": "sos",
    "output_cache": "[{\"output_type\":\"stream\",\"text\":\"Set sos options to \\\"-j 4\\\"\\n\",\"name\":\"stdout\"},{\"output_type\":\"display_data\",\"data\":{\"text/html\":\"<table style=\\\"border: 0px\\\"><tr style=\\\"border: 0px\\\">\\n                            <td style=\\\"border: 0px\\\"><i id=\\\"8584fa5cf53201e3ea08e61790a6025c\\\" class=\\\"fa fa-2x fa-fw fa-spinner fa-pulse fa-spin\\\"></i> </td>\\n                            <td style=\\\"border: 0px\\\"><pre>8584fa5cf53201e3ea08e61790a6025c</pre></td>\\n                            </tr></table>\"},\"metadata\":{}},{\"output_type\":\"display_data\",\"data\":{\"text/html\":\"<table style=\\\"border: 0px\\\"><tr style=\\\"border: 0px\\\">\\n                            <td style=\\\"border: 0px\\\"><i id=\\\"c258c13e45b5092a49a69f0044035264\\\" class=\\\"fa fa-2x fa-fw fa-spinner fa-pulse fa-spin\\\"></i> </td>\\n                            <td style=\\\"border: 0px\\\"><pre>c258c13e45b5092a49a69f0044035264</pre></td>\\n                            </tr></table>\"},\"metadata\":{}},{\"output_type\":\"display_data\",\"data\":{\"text/html\":\"<table style=\\\"border: 0px\\\"><tr style=\\\"border: 0px\\\">\\n                            <td style=\\\"border: 0px\\\"><i id=\\\"d39900eefc38f460625811e75da7500d\\\" class=\\\"fa fa-2x fa-fw fa-spinner fa-pulse fa-spin\\\"></i> </td>\\n                            <td style=\\\"border: 0px\\\"><pre>d39900eefc38f460625811e75da7500d</pre></td>\\n                            </tr></table>\"},\"metadata\":{}},{\"output_type\":\"display_data\",\"data\":{\"text/html\":\"<table style=\\\"border: 0px\\\"><tr style=\\\"border: 0px\\\">\\n                            <td style=\\\"border: 0px\\\"><i id=\\\"e8a1fcf612388b58c49961ab99ab6c50\\\" class=\\\"fa fa-2x fa-fw fa-spinner fa-pulse fa-spin\\\"></i> </td>\\n                            <td style=\\\"border: 0px\\\"><pre>e8a1fcf612388b58c49961ab99ab6c50</pre></td>\\n                            </tr></table>\"},\"metadata\":{}},{\"output_type\":\"display_data\",\"data\":{\"text/html\":\"<table style=\\\"border: 0px\\\"><tr style=\\\"border: 0px\\\">\\n                            <td style=\\\"border: 0px\\\"><i id=\\\"eb518a619333e17d44b29fcc75f79ffc\\\" class=\\\"fa fa-2x fa-fw fa-spinner fa-pulse fa-spin\\\"></i> </td>\\n                            <td style=\\\"border: 0px\\\"><pre>eb518a619333e17d44b29fcc75f79ffc</pre></td>\\n                            </tr></table>\"},\"metadata\":{}},{\"output_type\":\"display_data\",\"data\":{\"text/html\":\"<table style=\\\"border: 0px\\\"><tr style=\\\"border: 0px\\\">\\n                            <td style=\\\"border: 0px\\\"><i id=\\\"a3f12cb38ffa77625c2f7042bb6811d6\\\" class=\\\"fa fa-2x fa-fw fa-spinner fa-pulse fa-spin\\\"></i> </td>\\n                            <td style=\\\"border: 0px\\\"><pre>a3f12cb38ffa77625c2f7042bb6811d6</pre></td>\\n                            </tr></table>\"},\"metadata\":{}},{\"output_type\":\"display_data\",\"data\":{\"text/html\":\"<table style=\\\"border: 0px\\\"><tr style=\\\"border: 0px\\\">\\n                            <td style=\\\"border: 0px\\\"><i id=\\\"eb394f67c4a1fcb0ae98c7d19b3d6c49\\\" class=\\\"fa fa-2x fa-fw fa-spinner fa-pulse fa-spin\\\"></i> </td>\\n                            <td style=\\\"border: 0px\\\"><pre>eb394f67c4a1fcb0ae98c7d19b3d6c49</pre></td>\\n                            </tr></table>\"},\"metadata\":{}},{\"output_type\":\"display_data\",\"data\":{\"text/html\":\"<table style=\\\"border: 0px\\\"><tr style=\\\"border: 0px\\\">\\n                            <td style=\\\"border: 0px\\\"><i id=\\\"4a20acb560a0b3753e737be4deb24d96\\\" class=\\\"fa fa-2x fa-fw fa-spinner fa-pulse fa-spin\\\"></i> </td>\\n                            <td style=\\\"border: 0px\\\"><pre>4a20acb560a0b3753e737be4deb24d96</pre></td>\\n                            </tr></table>\"},\"metadata\":{}},{\"output_type\":\"display_data\",\"data\":{\"text/html\":\"<table style=\\\"border: 0px\\\"><tr style=\\\"border: 0px\\\">\\n                            <td style=\\\"border: 0px\\\"><i id=\\\"c04640ea214cbbd1bce58c7e07c8e7e4\\\" class=\\\"fa fa-2x fa-fw fa-spinner fa-pulse fa-spin\\\"></i> </td>\\n                            <td style=\\\"border: 0px\\\"><pre>c04640ea214cbbd1bce58c7e07c8e7e4</pre></td>\\n                            </tr></table>\"},\"metadata\":{}}]"
   },
   "outputs": [
    {
     "name": "stdout",
     "output_type": "stream",
     "text": [
      "Set sos options to \"-j 4\"\n"
     ]
    },
    {
     "data": {
      "text/html": [
       "<table style=\"border: 0px\"><tr style=\"border: 0px\">\n",
       "                            <td style=\"border: 0px\"><i id=\"8584fa5cf53201e3ea08e61790a6025c\" class=\"fa fa-2x fa-fw fa-spinner fa-pulse fa-spin\"></i> </td>\n",
       "                            <td style=\"border: 0px\"><pre>8584fa5cf53201e3ea08e61790a6025c</pre></td>\n",
       "                            </tr></table>"
      ]
     },
     "metadata": {},
     "output_type": "display_data"
    },
    {
     "data": {
      "text/html": [
       "<table style=\"border: 0px\"><tr style=\"border: 0px\">\n",
       "                            <td style=\"border: 0px\"><i id=\"c258c13e45b5092a49a69f0044035264\" class=\"fa fa-2x fa-fw fa-spinner fa-pulse fa-spin\"></i> </td>\n",
       "                            <td style=\"border: 0px\"><pre>c258c13e45b5092a49a69f0044035264</pre></td>\n",
       "                            </tr></table>"
      ]
     },
     "metadata": {},
     "output_type": "display_data"
    },
    {
     "data": {
      "text/html": [
       "<table style=\"border: 0px\"><tr style=\"border: 0px\">\n",
       "                            <td style=\"border: 0px\"><i id=\"d39900eefc38f460625811e75da7500d\" class=\"fa fa-2x fa-fw fa-spinner fa-pulse fa-spin\"></i> </td>\n",
       "                            <td style=\"border: 0px\"><pre>d39900eefc38f460625811e75da7500d</pre></td>\n",
       "                            </tr></table>"
      ]
     },
     "metadata": {},
     "output_type": "display_data"
    },
    {
     "data": {
      "text/html": [
       "<table style=\"border: 0px\"><tr style=\"border: 0px\">\n",
       "                            <td style=\"border: 0px\"><i id=\"e8a1fcf612388b58c49961ab99ab6c50\" class=\"fa fa-2x fa-fw fa-spinner fa-pulse fa-spin\"></i> </td>\n",
       "                            <td style=\"border: 0px\"><pre>e8a1fcf612388b58c49961ab99ab6c50</pre></td>\n",
       "                            </tr></table>"
      ]
     },
     "metadata": {},
     "output_type": "display_data"
    },
    {
     "data": {
      "text/html": [
       "<table style=\"border: 0px\"><tr style=\"border: 0px\">\n",
       "                            <td style=\"border: 0px\"><i id=\"eb518a619333e17d44b29fcc75f79ffc\" class=\"fa fa-2x fa-fw fa-spinner fa-pulse fa-spin\"></i> </td>\n",
       "                            <td style=\"border: 0px\"><pre>eb518a619333e17d44b29fcc75f79ffc</pre></td>\n",
       "                            </tr></table>"
      ]
     },
     "metadata": {},
     "output_type": "display_data"
    },
    {
     "data": {
      "text/html": [
       "<table style=\"border: 0px\"><tr style=\"border: 0px\">\n",
       "                            <td style=\"border: 0px\"><i id=\"a3f12cb38ffa77625c2f7042bb6811d6\" class=\"fa fa-2x fa-fw fa-spinner fa-pulse fa-spin\"></i> </td>\n",
       "                            <td style=\"border: 0px\"><pre>a3f12cb38ffa77625c2f7042bb6811d6</pre></td>\n",
       "                            </tr></table>"
      ]
     },
     "metadata": {},
     "output_type": "display_data"
    },
    {
     "data": {
      "text/html": [
       "<table style=\"border: 0px\"><tr style=\"border: 0px\">\n",
       "                            <td style=\"border: 0px\"><i id=\"eb394f67c4a1fcb0ae98c7d19b3d6c49\" class=\"fa fa-2x fa-fw fa-spinner fa-pulse fa-spin\"></i> </td>\n",
       "                            <td style=\"border: 0px\"><pre>eb394f67c4a1fcb0ae98c7d19b3d6c49</pre></td>\n",
       "                            </tr></table>"
      ]
     },
     "metadata": {},
     "output_type": "display_data"
    },
    {
     "data": {
      "text/html": [
       "<table style=\"border: 0px\"><tr style=\"border: 0px\">\n",
       "                            <td style=\"border: 0px\"><i id=\"4a20acb560a0b3753e737be4deb24d96\" class=\"fa fa-2x fa-fw fa-spinner fa-pulse fa-spin\"></i> </td>\n",
       "                            <td style=\"border: 0px\"><pre>4a20acb560a0b3753e737be4deb24d96</pre></td>\n",
       "                            </tr></table>"
      ]
     },
     "metadata": {},
     "output_type": "display_data"
    },
    {
     "data": {
      "text/html": [
       "<table style=\"border: 0px\"><tr style=\"border: 0px\">\n",
       "                            <td style=\"border: 0px\"><i id=\"c04640ea214cbbd1bce58c7e07c8e7e4\" class=\"fa fa-2x fa-fw fa-spinner fa-pulse fa-spin\"></i> </td>\n",
       "                            <td style=\"border: 0px\"><pre>c04640ea214cbbd1bce58c7e07c8e7e4</pre></td>\n",
       "                            </tr></table>"
      ]
     },
     "metadata": {},
     "output_type": "display_data"
    }
   ],
   "source": [
    "%set -j 4\n",
    "%run simulate\n",
    "[simulate: shared = {'simulate_data': 'output'}]\n",
    "parameter: gamma = [(None, None), (5,1), (3,1)]\n",
    "parameter: sample_size = [50, 100, 500]\n",
    "parameter: n_causal_gene = [100]\n",
    "parameter: name = 'data/del_sim'\n",
    "input: for_each = ['gamma', 'sample_size', 'n_causal_gene']\n",
    "output: expand_pattern(\"{name}_{_index}.pkl\")\n",
    "task:\n",
    "python:\n",
    "import sys, os\n",
    "sys.path.append(os.path.expanduser('~/GIT/cnv-gene-mapping/analysis'))\n",
    "from simulation import *\n",
    "args = Environment()\n",
    "args['odds_ratio_params']['shape'] = ${_gamma[0]}\n",
    "args['odds_ratio_params']['scale'] = ${_gamma[1]}\n",
    "args['n_case'] = args['n_ctrl'] = ${_sample_size}\n",
    "args['n_causal_gene'] = ${_n_causal_gene}\n",
    "args['output'] = ${name!r}\n",
    "run_simulation(args, ${_index})"
   ]
  }
 ],
 "metadata": {
  "kernelspec": {
   "display_name": "SoS",
   "language": "sos",
   "name": "sos"
  },
  "language_info": {
   "codemirror_mode": "sos",
   "file_extension": ".sos",
   "mimetype": "text/x-sos",
   "name": "sos",
   "nbconvert_exporter": "sos.jupyter.converter.SoS_Exporter",
   "pygments_lexer": "sos"
  },
  "sos": {
   "celltoolbar": true,
   "kernels": [
    [
     "sos",
     "SoS",
     ""
    ],
    [
     "python3",
     "Python3",
     "#EAFAF1"
    ],
    [
     "ir",
     "R",
     "#FDEDEC"
    ]
   ],
   "panel": {
    "displayed": true,
    "height": 0,
    "style": "side"
   }
  }
 },
 "nbformat": 4,
 "nbformat_minor": 0
}
