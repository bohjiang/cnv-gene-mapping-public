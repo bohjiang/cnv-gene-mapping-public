{
 "cells": [
  {
   "cell_type": "markdown",
   "metadata": {
    "kernel": "SoS"
   },
   "source": [
    "# Regional PIP of logit"
   ]
  },
  {
   "cell_type": "code",
   "execution_count": 1,
   "metadata": {
    "kernel": "SoS"
   },
   "outputs": [],
   "source": [
    "import numpy as np, pandas as pd\n",
    "import os\n",
    "from dsc.dsc_io import load_rds\n",
    "cwd = os.path.expanduser(\"/home/min/GIT/cnv-gene-mapping/data/deletion_simu_30_shape0.777_scale0.843\")"
   ]
  },
  {
   "cell_type": "code",
   "execution_count": 2,
   "metadata": {
    "kernel": "SoS"
   },
   "outputs": [],
   "source": [
    "pips = load_rds(f\"{cwd}/deletion.genes.block30.for_simu.binomial.whole.genome.prior.varbvs.updateb0.rds\")[\"pip\"]"
   ]
  },
  {
   "cell_type": "code",
   "execution_count": 3,
   "metadata": {
    "kernel": "SoS"
   },
   "outputs": [
    {
     "data": {
      "text/plain": [
       "22356"
      ]
     },
     "execution_count": 3,
     "metadata": {},
     "output_type": "execute_result"
    }
   ],
   "source": [
    "len(pips)"
   ]
  },
  {
   "cell_type": "code",
   "execution_count": 4,
   "metadata": {
    "kernel": "SoS"
   },
   "outputs": [],
   "source": [
    "index = pd.read_csv(f\"{cwd}/deletion.genes.block30.for_simu.sample.combined.block1.index.csv\", sep = \"\\t\", header = None, names = [\"start\", \"end\"])"
   ]
  },
  {
   "cell_type": "code",
   "execution_count": 5,
   "metadata": {
    "kernel": "SoS"
   },
   "outputs": [],
   "source": [
    "index2 = pd.read_csv(f\"{cwd}/deletion.genes.block30.for_simu.sample.combined.block1.forsimu.index.csv\", sep = \"\\t\", header = None, names = [\"start\", \"end\"])"
   ]
  },
  {
   "cell_type": "code",
   "execution_count": 9,
   "metadata": {
    "kernel": "SoS"
   },
   "outputs": [],
   "source": [
    "pips_block = [sum(pips[item[0]:item[1]+1]) for idx, item in index2.iterrows()]\n",
    "# pips_block = list()\n",
    "# for idx, item in index2.iterrows():\n",
    "#      pips_block.append(sum(pips[item[0]:item[1]+1]))"
   ]
  },
  {
   "cell_type": "code",
   "execution_count": 10,
   "metadata": {
    "kernel": "SoS"
   },
   "outputs": [],
   "source": [
    "index[\"sumpip\"] = pips_block"
   ]
  },
  {
   "cell_type": "code",
   "execution_count": 11,
   "metadata": {
    "kernel": "SoS"
   },
   "outputs": [],
   "source": [
    "index[\"sumpip2\"] = index.apply(lambda x: 1 if x[\"sumpip\"] > 1 else x[\"sumpip\"], axis = 1)"
   ]
  },
  {
   "cell_type": "code",
   "execution_count": 12,
   "metadata": {
    "kernel": "SoS"
   },
   "outputs": [
    {
     "data": {
      "text/html": [
       "<div>\n",
       "<style scoped>\n",
       "    .dataframe tbody tr th:only-of-type {\n",
       "        vertical-align: middle;\n",
       "    }\n",
       "\n",
       "    .dataframe tbody tr th {\n",
       "        vertical-align: top;\n",
       "    }\n",
       "\n",
       "    .dataframe thead th {\n",
       "        text-align: right;\n",
       "    }\n",
       "</style>\n",
       "<table border=\"1\" class=\"dataframe\">\n",
       "  <thead>\n",
       "    <tr style=\"text-align: right;\">\n",
       "      <th></th>\n",
       "      <th>start</th>\n",
       "      <th>end</th>\n",
       "      <th>sumpip</th>\n",
       "      <th>sumpip2</th>\n",
       "    </tr>\n",
       "  </thead>\n",
       "  <tbody>\n",
       "    <tr>\n",
       "      <th>0</th>\n",
       "      <td>0</td>\n",
       "      <td>7</td>\n",
       "      <td>0.120292</td>\n",
       "      <td>0.120292</td>\n",
       "    </tr>\n",
       "    <tr>\n",
       "      <th>1</th>\n",
       "      <td>8</td>\n",
       "      <td>17</td>\n",
       "      <td>0.150364</td>\n",
       "      <td>0.150364</td>\n",
       "    </tr>\n",
       "    <tr>\n",
       "      <th>2</th>\n",
       "      <td>18</td>\n",
       "      <td>22</td>\n",
       "      <td>0.123744</td>\n",
       "      <td>0.123744</td>\n",
       "    </tr>\n",
       "    <tr>\n",
       "      <th>3</th>\n",
       "      <td>23</td>\n",
       "      <td>36</td>\n",
       "      <td>0.699548</td>\n",
       "      <td>0.699548</td>\n",
       "    </tr>\n",
       "    <tr>\n",
       "      <th>4</th>\n",
       "      <td>37</td>\n",
       "      <td>44</td>\n",
       "      <td>0.101835</td>\n",
       "      <td>0.101835</td>\n",
       "    </tr>\n",
       "    <tr>\n",
       "      <th>5</th>\n",
       "      <td>45</td>\n",
       "      <td>45</td>\n",
       "      <td>0.026463</td>\n",
       "      <td>0.026463</td>\n",
       "    </tr>\n",
       "    <tr>\n",
       "      <th>6</th>\n",
       "      <td>46</td>\n",
       "      <td>49</td>\n",
       "      <td>0.087681</td>\n",
       "      <td>0.087681</td>\n",
       "    </tr>\n",
       "    <tr>\n",
       "      <th>7</th>\n",
       "      <td>50</td>\n",
       "      <td>50</td>\n",
       "      <td>0.032480</td>\n",
       "      <td>0.032480</td>\n",
       "    </tr>\n",
       "    <tr>\n",
       "      <th>8</th>\n",
       "      <td>51</td>\n",
       "      <td>53</td>\n",
       "      <td>1.037956</td>\n",
       "      <td>1.000000</td>\n",
       "    </tr>\n",
       "    <tr>\n",
       "      <th>9</th>\n",
       "      <td>54</td>\n",
       "      <td>54</td>\n",
       "      <td>0.019501</td>\n",
       "      <td>0.019501</td>\n",
       "    </tr>\n",
       "    <tr>\n",
       "      <th>10</th>\n",
       "      <td>55</td>\n",
       "      <td>55</td>\n",
       "      <td>0.040891</td>\n",
       "      <td>0.040891</td>\n",
       "    </tr>\n",
       "    <tr>\n",
       "      <th>11</th>\n",
       "      <td>56</td>\n",
       "      <td>60</td>\n",
       "      <td>0.228104</td>\n",
       "      <td>0.228104</td>\n",
       "    </tr>\n",
       "    <tr>\n",
       "      <th>12</th>\n",
       "      <td>61</td>\n",
       "      <td>61</td>\n",
       "      <td>0.014626</td>\n",
       "      <td>0.014626</td>\n",
       "    </tr>\n",
       "    <tr>\n",
       "      <th>13</th>\n",
       "      <td>62</td>\n",
       "      <td>62</td>\n",
       "      <td>0.024712</td>\n",
       "      <td>0.024712</td>\n",
       "    </tr>\n",
       "    <tr>\n",
       "      <th>14</th>\n",
       "      <td>63</td>\n",
       "      <td>71</td>\n",
       "      <td>0.181786</td>\n",
       "      <td>0.181786</td>\n",
       "    </tr>\n",
       "    <tr>\n",
       "      <th>15</th>\n",
       "      <td>72</td>\n",
       "      <td>73</td>\n",
       "      <td>0.231477</td>\n",
       "      <td>0.231477</td>\n",
       "    </tr>\n",
       "    <tr>\n",
       "      <th>16</th>\n",
       "      <td>74</td>\n",
       "      <td>76</td>\n",
       "      <td>0.126395</td>\n",
       "      <td>0.126395</td>\n",
       "    </tr>\n",
       "    <tr>\n",
       "      <th>17</th>\n",
       "      <td>77</td>\n",
       "      <td>77</td>\n",
       "      <td>0.091473</td>\n",
       "      <td>0.091473</td>\n",
       "    </tr>\n",
       "    <tr>\n",
       "      <th>18</th>\n",
       "      <td>78</td>\n",
       "      <td>80</td>\n",
       "      <td>0.135260</td>\n",
       "      <td>0.135260</td>\n",
       "    </tr>\n",
       "    <tr>\n",
       "      <th>19</th>\n",
       "      <td>81</td>\n",
       "      <td>139</td>\n",
       "      <td>2.654800</td>\n",
       "      <td>1.000000</td>\n",
       "    </tr>\n",
       "    <tr>\n",
       "      <th>20</th>\n",
       "      <td>140</td>\n",
       "      <td>144</td>\n",
       "      <td>1.023152</td>\n",
       "      <td>1.000000</td>\n",
       "    </tr>\n",
       "    <tr>\n",
       "      <th>21</th>\n",
       "      <td>145</td>\n",
       "      <td>145</td>\n",
       "      <td>0.012903</td>\n",
       "      <td>0.012903</td>\n",
       "    </tr>\n",
       "    <tr>\n",
       "      <th>22</th>\n",
       "      <td>146</td>\n",
       "      <td>164</td>\n",
       "      <td>0.353906</td>\n",
       "      <td>0.353906</td>\n",
       "    </tr>\n",
       "    <tr>\n",
       "      <th>23</th>\n",
       "      <td>165</td>\n",
       "      <td>166</td>\n",
       "      <td>0.041388</td>\n",
       "      <td>0.041388</td>\n",
       "    </tr>\n",
       "    <tr>\n",
       "      <th>24</th>\n",
       "      <td>167</td>\n",
       "      <td>168</td>\n",
       "      <td>0.034031</td>\n",
       "      <td>0.034031</td>\n",
       "    </tr>\n",
       "    <tr>\n",
       "      <th>25</th>\n",
       "      <td>169</td>\n",
       "      <td>169</td>\n",
       "      <td>0.096706</td>\n",
       "      <td>0.096706</td>\n",
       "    </tr>\n",
       "    <tr>\n",
       "      <th>26</th>\n",
       "      <td>170</td>\n",
       "      <td>173</td>\n",
       "      <td>0.037410</td>\n",
       "      <td>0.037410</td>\n",
       "    </tr>\n",
       "    <tr>\n",
       "      <th>27</th>\n",
       "      <td>174</td>\n",
       "      <td>174</td>\n",
       "      <td>0.057054</td>\n",
       "      <td>0.057054</td>\n",
       "    </tr>\n",
       "    <tr>\n",
       "      <th>28</th>\n",
       "      <td>175</td>\n",
       "      <td>175</td>\n",
       "      <td>0.034464</td>\n",
       "      <td>0.034464</td>\n",
       "    </tr>\n",
       "    <tr>\n",
       "      <th>29</th>\n",
       "      <td>176</td>\n",
       "      <td>176</td>\n",
       "      <td>0.018010</td>\n",
       "      <td>0.018010</td>\n",
       "    </tr>\n",
       "    <tr>\n",
       "      <th>30</th>\n",
       "      <td>177</td>\n",
       "      <td>178</td>\n",
       "      <td>0.045024</td>\n",
       "      <td>0.045024</td>\n",
       "    </tr>\n",
       "    <tr>\n",
       "      <th>31</th>\n",
       "      <td>179</td>\n",
       "      <td>179</td>\n",
       "      <td>0.020424</td>\n",
       "      <td>0.020424</td>\n",
       "    </tr>\n",
       "    <tr>\n",
       "      <th>32</th>\n",
       "      <td>180</td>\n",
       "      <td>181</td>\n",
       "      <td>0.066037</td>\n",
       "      <td>0.066037</td>\n",
       "    </tr>\n",
       "    <tr>\n",
       "      <th>33</th>\n",
       "      <td>182</td>\n",
       "      <td>183</td>\n",
       "      <td>0.049074</td>\n",
       "      <td>0.049074</td>\n",
       "    </tr>\n",
       "    <tr>\n",
       "      <th>34</th>\n",
       "      <td>184</td>\n",
       "      <td>184</td>\n",
       "      <td>0.017513</td>\n",
       "      <td>0.017513</td>\n",
       "    </tr>\n",
       "    <tr>\n",
       "      <th>35</th>\n",
       "      <td>185</td>\n",
       "      <td>185</td>\n",
       "      <td>0.030063</td>\n",
       "      <td>0.030063</td>\n",
       "    </tr>\n",
       "    <tr>\n",
       "      <th>36</th>\n",
       "      <td>186</td>\n",
       "      <td>208</td>\n",
       "      <td>0.809788</td>\n",
       "      <td>0.809788</td>\n",
       "    </tr>\n",
       "    <tr>\n",
       "      <th>37</th>\n",
       "      <td>209</td>\n",
       "      <td>217</td>\n",
       "      <td>0.209022</td>\n",
       "      <td>0.209022</td>\n",
       "    </tr>\n",
       "    <tr>\n",
       "      <th>38</th>\n",
       "      <td>218</td>\n",
       "      <td>230</td>\n",
       "      <td>0.301718</td>\n",
       "      <td>0.301718</td>\n",
       "    </tr>\n",
       "    <tr>\n",
       "      <th>39</th>\n",
       "      <td>231</td>\n",
       "      <td>233</td>\n",
       "      <td>0.107208</td>\n",
       "      <td>0.107208</td>\n",
       "    </tr>\n",
       "    <tr>\n",
       "      <th>40</th>\n",
       "      <td>234</td>\n",
       "      <td>236</td>\n",
       "      <td>0.051446</td>\n",
       "      <td>0.051446</td>\n",
       "    </tr>\n",
       "    <tr>\n",
       "      <th>41</th>\n",
       "      <td>237</td>\n",
       "      <td>239</td>\n",
       "      <td>0.070785</td>\n",
       "      <td>0.070785</td>\n",
       "    </tr>\n",
       "    <tr>\n",
       "      <th>42</th>\n",
       "      <td>240</td>\n",
       "      <td>240</td>\n",
       "      <td>0.014661</td>\n",
       "      <td>0.014661</td>\n",
       "    </tr>\n",
       "    <tr>\n",
       "      <th>43</th>\n",
       "      <td>241</td>\n",
       "      <td>242</td>\n",
       "      <td>0.039086</td>\n",
       "      <td>0.039086</td>\n",
       "    </tr>\n",
       "    <tr>\n",
       "      <th>44</th>\n",
       "      <td>243</td>\n",
       "      <td>245</td>\n",
       "      <td>0.047490</td>\n",
       "      <td>0.047490</td>\n",
       "    </tr>\n",
       "    <tr>\n",
       "      <th>45</th>\n",
       "      <td>246</td>\n",
       "      <td>246</td>\n",
       "      <td>0.022816</td>\n",
       "      <td>0.022816</td>\n",
       "    </tr>\n",
       "    <tr>\n",
       "      <th>46</th>\n",
       "      <td>247</td>\n",
       "      <td>248</td>\n",
       "      <td>0.151026</td>\n",
       "      <td>0.151026</td>\n",
       "    </tr>\n",
       "    <tr>\n",
       "      <th>47</th>\n",
       "      <td>249</td>\n",
       "      <td>254</td>\n",
       "      <td>0.101551</td>\n",
       "      <td>0.101551</td>\n",
       "    </tr>\n",
       "    <tr>\n",
       "      <th>48</th>\n",
       "      <td>255</td>\n",
       "      <td>255</td>\n",
       "      <td>0.017249</td>\n",
       "      <td>0.017249</td>\n",
       "    </tr>\n",
       "    <tr>\n",
       "      <th>49</th>\n",
       "      <td>256</td>\n",
       "      <td>258</td>\n",
       "      <td>0.059048</td>\n",
       "      <td>0.059048</td>\n",
       "    </tr>\n",
       "  </tbody>\n",
       "</table>\n",
       "</div>"
      ],
      "text/plain": [
       "    start  end    sumpip   sumpip2\n",
       "0       0    7  0.120292  0.120292\n",
       "1       8   17  0.150364  0.150364\n",
       "2      18   22  0.123744  0.123744\n",
       "3      23   36  0.699548  0.699548\n",
       "4      37   44  0.101835  0.101835\n",
       "5      45   45  0.026463  0.026463\n",
       "6      46   49  0.087681  0.087681\n",
       "7      50   50  0.032480  0.032480\n",
       "8      51   53  1.037956  1.000000\n",
       "9      54   54  0.019501  0.019501\n",
       "10     55   55  0.040891  0.040891\n",
       "11     56   60  0.228104  0.228104\n",
       "12     61   61  0.014626  0.014626\n",
       "13     62   62  0.024712  0.024712\n",
       "14     63   71  0.181786  0.181786\n",
       "15     72   73  0.231477  0.231477\n",
       "16     74   76  0.126395  0.126395\n",
       "17     77   77  0.091473  0.091473\n",
       "18     78   80  0.135260  0.135260\n",
       "19     81  139  2.654800  1.000000\n",
       "20    140  144  1.023152  1.000000\n",
       "21    145  145  0.012903  0.012903\n",
       "22    146  164  0.353906  0.353906\n",
       "23    165  166  0.041388  0.041388\n",
       "24    167  168  0.034031  0.034031\n",
       "25    169  169  0.096706  0.096706\n",
       "26    170  173  0.037410  0.037410\n",
       "27    174  174  0.057054  0.057054\n",
       "28    175  175  0.034464  0.034464\n",
       "29    176  176  0.018010  0.018010\n",
       "30    177  178  0.045024  0.045024\n",
       "31    179  179  0.020424  0.020424\n",
       "32    180  181  0.066037  0.066037\n",
       "33    182  183  0.049074  0.049074\n",
       "34    184  184  0.017513  0.017513\n",
       "35    185  185  0.030063  0.030063\n",
       "36    186  208  0.809788  0.809788\n",
       "37    209  217  0.209022  0.209022\n",
       "38    218  230  0.301718  0.301718\n",
       "39    231  233  0.107208  0.107208\n",
       "40    234  236  0.051446  0.051446\n",
       "41    237  239  0.070785  0.070785\n",
       "42    240  240  0.014661  0.014661\n",
       "43    241  242  0.039086  0.039086\n",
       "44    243  245  0.047490  0.047490\n",
       "45    246  246  0.022816  0.022816\n",
       "46    247  248  0.151026  0.151026\n",
       "47    249  254  0.101551  0.101551\n",
       "48    255  255  0.017249  0.017249\n",
       "49    256  258  0.059048  0.059048"
      ]
     },
     "execution_count": 12,
     "metadata": {},
     "output_type": "execute_result"
    }
   ],
   "source": [
    "index.head(50)"
   ]
  },
  {
   "cell_type": "code",
   "execution_count": 10,
   "metadata": {
    "kernel": "SoS"
   },
   "outputs": [
    {
     "data": {
      "text/plain": [
       "(528, 4)"
      ]
     },
     "execution_count": 10,
     "metadata": {},
     "output_type": "execute_result"
    }
   ],
   "source": [
    "index.shape"
   ]
  },
  {
   "cell_type": "code",
   "execution_count": 11,
   "metadata": {
    "kernel": "SoS"
   },
   "outputs": [],
   "source": [
    "logit = pd.read_csv(f\"{cwd}/deletion.genes.block30.for_simu.sample.combined.genes.logit.all.blocks.pip.csv\", header = None, names = [\"pip\"])"
   ]
  },
  {
   "cell_type": "code",
   "execution_count": 12,
   "metadata": {
    "kernel": "SoS"
   },
   "outputs": [
    {
     "data": {
      "text/plain": [
       "(2290, 1)"
      ]
     },
     "execution_count": 12,
     "metadata": {},
     "output_type": "execute_result"
    }
   ],
   "source": [
    "logit.shape"
   ]
  },
  {
   "cell_type": "markdown",
   "metadata": {
    "kernel": "SoS"
   },
   "source": [
    "## logit PIP multiply by regional PIP (max 1) in whole genome varbvs"
   ]
  },
  {
   "cell_type": "code",
   "execution_count": 17,
   "metadata": {
    "kernel": "SoS"
   },
   "outputs": [],
   "source": [
    "multiplier = [[item[3]]*int(item[1]-item[0]+1) for idx, item in index.iterrows()]"
   ]
  },
  {
   "cell_type": "code",
   "execution_count": 14,
   "metadata": {
    "kernel": "SoS"
   },
   "outputs": [],
   "source": [
    "multiplier = [i for x in multiplier for i in x]"
   ]
  },
  {
   "cell_type": "code",
   "execution_count": 15,
   "metadata": {
    "kernel": "SoS"
   },
   "outputs": [],
   "source": [
    "logit[\"multiplier\"] = multiplier"
   ]
  },
  {
   "cell_type": "code",
   "execution_count": 22,
   "metadata": {
    "kernel": "SoS"
   },
   "outputs": [
    {
     "data": {
      "text/html": [
       "<div class=\"sos_logging sos_info\">INFO: NumExpr defaulting to 8 threads.</div>"
      ]
     },
     "metadata": {},
     "output_type": "display_data"
    }
   ],
   "source": [
    "logit[\"pip2\"] = logit[\"pip\"] * logit[\"multiplier\"]"
   ]
  },
  {
   "cell_type": "code",
   "execution_count": 98,
   "metadata": {
    "kernel": "SoS"
   },
   "outputs": [],
   "source": [
    "logit[[\"pip2\"]].to_csv(f\"{cwd}/deletion.genes.block30.for_simu.sample.combined.genes.logit.all.blocks.pip.regional.csv\", sep = \"\\t\", header = False, index = False)"
   ]
  },
  {
   "cell_type": "markdown",
   "metadata": {
    "kernel": "SoS"
   },
   "source": [
    "## logit PIP multiply by regional PIP (no max) in whole genome varbvs"
   ]
  },
  {
   "cell_type": "code",
   "execution_count": 18,
   "metadata": {
    "kernel": "SoS"
   },
   "outputs": [],
   "source": [
    "multiplier2 = [[item[2]]*int(item[1]-item[0]+1) for idx, item in index.iterrows()]"
   ]
  },
  {
   "cell_type": "code",
   "execution_count": 19,
   "metadata": {
    "kernel": "SoS"
   },
   "outputs": [],
   "source": [
    "multiplier2 = [i for x in multiplier2 for i in x]"
   ]
  },
  {
   "cell_type": "code",
   "execution_count": 20,
   "metadata": {
    "kernel": "SoS"
   },
   "outputs": [],
   "source": [
    "logit[\"multiplier2\"] = multiplier2"
   ]
  },
  {
   "cell_type": "code",
   "execution_count": 24,
   "metadata": {
    "kernel": "SoS"
   },
   "outputs": [],
   "source": [
    "logit[\"pip3\"] = logit[\"pip\"] * logit[\"multiplier2\"]"
   ]
  },
  {
   "cell_type": "code",
   "execution_count": 29,
   "metadata": {
    "kernel": "SoS"
   },
   "outputs": [],
   "source": [
    "logit[\"pip3\"] = logit.apply(lambda x: 1 if x[\"pip3\"] > 1 else x[\"pip3\"], axis = 1)"
   ]
  },
  {
   "cell_type": "code",
   "execution_count": 31,
   "metadata": {
    "kernel": "SoS"
   },
   "outputs": [
    {
     "data": {
      "text/html": [
       "<div>\n",
       "<style scoped>\n",
       "    .dataframe tbody tr th:only-of-type {\n",
       "        vertical-align: middle;\n",
       "    }\n",
       "\n",
       "    .dataframe tbody tr th {\n",
       "        vertical-align: top;\n",
       "    }\n",
       "\n",
       "    .dataframe thead th {\n",
       "        text-align: right;\n",
       "    }\n",
       "</style>\n",
       "<table border=\"1\" class=\"dataframe\">\n",
       "  <thead>\n",
       "    <tr style=\"text-align: right;\">\n",
       "      <th></th>\n",
       "      <th>pip</th>\n",
       "      <th>multiplier</th>\n",
       "      <th>multiplier2</th>\n",
       "      <th>pip2</th>\n",
       "      <th>pip3</th>\n",
       "    </tr>\n",
       "  </thead>\n",
       "  <tbody>\n",
       "    <tr>\n",
       "      <th>0</th>\n",
       "      <td>0.125</td>\n",
       "      <td>0.120292</td>\n",
       "      <td>0.120292</td>\n",
       "      <td>0.015036</td>\n",
       "      <td>0.015036</td>\n",
       "    </tr>\n",
       "    <tr>\n",
       "      <th>1</th>\n",
       "      <td>0.125</td>\n",
       "      <td>0.120292</td>\n",
       "      <td>0.120292</td>\n",
       "      <td>0.015036</td>\n",
       "      <td>0.015036</td>\n",
       "    </tr>\n",
       "    <tr>\n",
       "      <th>2</th>\n",
       "      <td>0.125</td>\n",
       "      <td>0.120292</td>\n",
       "      <td>0.120292</td>\n",
       "      <td>0.015036</td>\n",
       "      <td>0.015036</td>\n",
       "    </tr>\n",
       "    <tr>\n",
       "      <th>3</th>\n",
       "      <td>0.125</td>\n",
       "      <td>0.120292</td>\n",
       "      <td>0.120292</td>\n",
       "      <td>0.015036</td>\n",
       "      <td>0.015036</td>\n",
       "    </tr>\n",
       "    <tr>\n",
       "      <th>4</th>\n",
       "      <td>0.125</td>\n",
       "      <td>0.120292</td>\n",
       "      <td>0.120292</td>\n",
       "      <td>0.015036</td>\n",
       "      <td>0.015036</td>\n",
       "    </tr>\n",
       "  </tbody>\n",
       "</table>\n",
       "</div>"
      ],
      "text/plain": [
       "     pip  multiplier  multiplier2      pip2      pip3\n",
       "0  0.125    0.120292     0.120292  0.015036  0.015036\n",
       "1  0.125    0.120292     0.120292  0.015036  0.015036\n",
       "2  0.125    0.120292     0.120292  0.015036  0.015036\n",
       "3  0.125    0.120292     0.120292  0.015036  0.015036\n",
       "4  0.125    0.120292     0.120292  0.015036  0.015036"
      ]
     },
     "execution_count": 31,
     "metadata": {},
     "output_type": "execute_result"
    }
   ],
   "source": [
    "logit.head()"
   ]
  },
  {
   "cell_type": "code",
   "execution_count": 32,
   "metadata": {
    "kernel": "SoS"
   },
   "outputs": [
    {
     "data": {
      "text/html": [
       "<div>\n",
       "<style scoped>\n",
       "    .dataframe tbody tr th:only-of-type {\n",
       "        vertical-align: middle;\n",
       "    }\n",
       "\n",
       "    .dataframe tbody tr th {\n",
       "        vertical-align: top;\n",
       "    }\n",
       "\n",
       "    .dataframe thead th {\n",
       "        text-align: right;\n",
       "    }\n",
       "</style>\n",
       "<table border=\"1\" class=\"dataframe\">\n",
       "  <thead>\n",
       "    <tr style=\"text-align: right;\">\n",
       "      <th></th>\n",
       "      <th>pip</th>\n",
       "      <th>multiplier</th>\n",
       "      <th>multiplier2</th>\n",
       "      <th>pip2</th>\n",
       "      <th>pip3</th>\n",
       "    </tr>\n",
       "  </thead>\n",
       "  <tbody>\n",
       "    <tr>\n",
       "      <th>2285</th>\n",
       "      <td>0.008967</td>\n",
       "      <td>0.930453</td>\n",
       "      <td>0.930453</td>\n",
       "      <td>0.008343</td>\n",
       "      <td>0.008343</td>\n",
       "    </tr>\n",
       "    <tr>\n",
       "      <th>2286</th>\n",
       "      <td>0.059251</td>\n",
       "      <td>0.930453</td>\n",
       "      <td>0.930453</td>\n",
       "      <td>0.055131</td>\n",
       "      <td>0.055131</td>\n",
       "    </tr>\n",
       "    <tr>\n",
       "      <th>2287</th>\n",
       "      <td>0.059251</td>\n",
       "      <td>0.930453</td>\n",
       "      <td>0.930453</td>\n",
       "      <td>0.055131</td>\n",
       "      <td>0.055131</td>\n",
       "    </tr>\n",
       "    <tr>\n",
       "      <th>2288</th>\n",
       "      <td>0.059251</td>\n",
       "      <td>0.930453</td>\n",
       "      <td>0.930453</td>\n",
       "      <td>0.055131</td>\n",
       "      <td>0.055131</td>\n",
       "    </tr>\n",
       "    <tr>\n",
       "      <th>2289</th>\n",
       "      <td>0.059251</td>\n",
       "      <td>0.930453</td>\n",
       "      <td>0.930453</td>\n",
       "      <td>0.055131</td>\n",
       "      <td>0.055131</td>\n",
       "    </tr>\n",
       "  </tbody>\n",
       "</table>\n",
       "</div>"
      ],
      "text/plain": [
       "           pip  multiplier  multiplier2      pip2      pip3\n",
       "2285  0.008967    0.930453     0.930453  0.008343  0.008343\n",
       "2286  0.059251    0.930453     0.930453  0.055131  0.055131\n",
       "2287  0.059251    0.930453     0.930453  0.055131  0.055131\n",
       "2288  0.059251    0.930453     0.930453  0.055131  0.055131\n",
       "2289  0.059251    0.930453     0.930453  0.055131  0.055131"
      ]
     },
     "execution_count": 32,
     "metadata": {},
     "output_type": "execute_result"
    }
   ],
   "source": [
    "logit.tail()"
   ]
  },
  {
   "cell_type": "code",
   "execution_count": 33,
   "metadata": {
    "kernel": "SoS"
   },
   "outputs": [],
   "source": [
    "logit[[\"pip3\"]].to_csv(f\"{cwd}/deletion.genes.block30.for_simu.sample.combined.genes.logit.all.blocks.pip.regional.notruncated.csv\", sep = \"\\t\", header = False, index = False)"
   ]
  },
  {
   "cell_type": "code",
   "execution_count": null,
   "metadata": {
    "kernel": "SoS"
   },
   "outputs": [],
   "source": []
  }
 ],
 "metadata": {
  "kernelspec": {
   "display_name": "SoS",
   "language": "sos",
   "name": "sos"
  },
  "language_info": {
   "codemirror_mode": "sos",
   "file_extension": ".sos",
   "mimetype": "text/x-sos",
   "name": "sos",
   "nbconvert_exporter": "sos_notebook.converter.SoS_Exporter",
   "pygments_lexer": "sos"
  },
  "sos": {
   "kernels": [
    [
     "SoS",
     "sos",
     "",
     ""
    ]
   ],
   "version": "0.21.7"
  }
 },
 "nbformat": 4,
 "nbformat_minor": 4
}
