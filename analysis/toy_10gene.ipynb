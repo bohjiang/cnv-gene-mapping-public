{
 "cells": [
  {
   "cell_type": "code",
   "execution_count": 7,
   "metadata": {
    "collapsed": true
   },
   "outputs": [],
   "source": [
    "import numpy as np\n",
    "import pandas as pd\n",
    "import feather\n",
    "from pandasql import sqldf\n",
    "from fisher import pvalue\n",
    "from scipy import stats\n",
    "from pprint import pprint"
   ]
  },
  {
   "cell_type": "code",
   "execution_count": 20,
   "metadata": {},
   "outputs": [
    {
     "name": "stdout",
     "output_type": "stream",
     "text": [
      "[[1, 0, 0, 0, 0, 0, 0, 0, 0, 0],\n",
      " [1, 1, 0, 0, 0, 0, 0, 0, 0, 0],\n",
      " [1, 1, 1, 0, 0, 0, 0, 0, 0, 0],\n",
      " [1, 1, 1, 1, 0, 0, 0, 0, 0, 0],\n",
      " [1, 1, 1, 1, 1, 0, 0, 0, 0, 0],\n",
      " [1, 1, 1, 1, 1, 1, 0, 0, 0, 0],\n",
      " [1, 1, 1, 1, 1, 1, 1, 0, 0, 0],\n",
      " [1, 1, 1, 1, 1, 1, 1, 1, 0, 0],\n",
      " [1, 1, 1, 1, 1, 1, 1, 1, 1, 0],\n",
      " [1, 1, 1, 1, 1, 1, 1, 1, 1, 1],\n",
      " [0, 1, 1, 1, 1, 1, 1, 1, 1, 1],\n",
      " [0, 0, 1, 1, 1, 1, 1, 1, 1, 1],\n",
      " [0, 0, 0, 1, 1, 1, 1, 1, 1, 1],\n",
      " [0, 0, 0, 0, 1, 1, 1, 1, 1, 1],\n",
      " [0, 0, 0, 0, 0, 1, 1, 1, 1, 1],\n",
      " [0, 0, 0, 0, 0, 0, 1, 1, 1, 1],\n",
      " [0, 0, 0, 0, 0, 0, 0, 1, 1, 1],\n",
      " [0, 0, 0, 0, 0, 0, 0, 0, 1, 1],\n",
      " [0, 0, 0, 0, 0, 0, 0, 0, 0, 1],\n",
      " [0, 0, 0, 0, 0, 0, 0, 0, 0, 0]]\n"
     ]
    }
   ],
   "source": [
    "n_pos = 15\n",
    "n_max = 10\n",
    "ptn_name = [\"p{}\".format(i+1) for i in range(n_pos*2)]\n",
    "ptns = []\n",
    "if n_pos <= n_max:\n",
    "    for i in range(n_pos):\n",
    "        ptn = [1]*(i+1) + [0]*(n_pos-i-1)\n",
    "        ptns.append(ptn)\n",
    "    for i in range(n_pos, n_pos*2):\n",
    "        ptn = [0]*(i-n_pos+1) + [1]*(2*n_pos-i-1)\n",
    "        ptns.append(ptn)\n",
    "else:\n",
    "    for i in range(n_max):\n",
    "        ptn = [1]*(i+1) + [0]*(n_pos-i-1)\n",
    "        ptn.append(ptn)\n",
    "    for i in range(n_max, n_pos):\n",
    "        ptn = [0]*() + [1]*n_max + [0]*()\n",
    "        ptn.append(ptn)\n",
    "    for i in range(n_pos, n_pos+n_max):\n",
    "        ptn = [0]*max(i-n_pos+1, ) + [1]*min(2*n_pos-i-1)\n",
    "        ptns.append(ptn)\n",
    "\n",
    "pprint (ptns)"
   ]
  },
  {
   "cell_type": "code",
   "execution_count": 2,
   "metadata": {},
   "outputs": [
    {
     "name": "stdout",
     "output_type": "stream",
     "text": [
      "['p1', 'p2', 'p3', 'p4', 'p5', 'p6', 'p7', 'p8', 'p9', 'p10', 'p11', 'p12', 'p13', 'p14', 'p15', 'p16', 'p17', 'p18', 'p19', 'p20']\n"
     ]
    }
   ],
   "source": [
    "pattern_df = {\"p1\": [1,0,0,0,0,0,0,0,0,0], \"p2\": []}\n",
    "print (ptn_name)"
   ]
  },
  {
   "cell_type": "code",
   "execution_count": 5,
   "metadata": {},
   "outputs": [
    {
     "name": "stdout",
     "output_type": "stream",
     "text": [
      "[1, 0, 0, 0, 0, 0, 0, 0, 0, 0]\n"
     ]
    }
   ],
   "source": [
    "print (pattern_df[\"p1\"])"
   ]
  },
  {
   "cell_type": "code",
   "execution_count": 11,
   "metadata": {},
   "outputs": [
    {
     "name": "stdout",
     "output_type": "stream",
     "text": [
      "[[1]]\n"
     ]
    }
   ],
   "source": [
    "test = []\n",
    "test.append([1])\n",
    "print (test)"
   ]
  },
  {
   "cell_type": "code",
   "execution_count": null,
   "metadata": {
    "collapsed": true
   },
   "outputs": [],
   "source": [
    "for i in range(5,10):\n",
    "    print (i)"
   ]
  },
  {
   "cell_type": "code",
   "execution_count": 9,
   "metadata": {},
   "outputs": [
    {
     "name": "stdout",
     "output_type": "stream",
     "text": [
      "[[1, 0, 0, 0, 0, 0, 0, 0, 0, 0]]\n",
      "[[1, 1, 0, 0, 0, 0, 0, 0, 0, 0]]\n",
      "[[1, 1, 1, 0, 0, 0, 0, 0, 0, 0]]\n",
      "[[1, 1, 1, 1, 0, 0, 0, 0, 0, 0]]\n",
      "[[1, 1, 1, 1, 1, 0, 0, 0, 0, 0]]\n",
      "[[1, 1, 1, 1, 1, 1, 0, 0, 0, 0]]\n",
      "[[1, 1, 1, 1, 1, 1, 1, 0, 0, 0]]\n",
      "[[1, 1, 1, 1, 1, 1, 1, 1, 0, 0]]\n",
      "[[1, 1, 1, 1, 1, 1, 1, 1, 1, 0]]\n",
      "[[1, 1, 1, 1, 1, 1, 1, 1, 1, 1]]\n"
     ]
    }
   ],
   "source": [
    "for i in range(n_pos):\n",
    "    ptn = [[1]*(i+1) + [0]*(n_pos-i-1)]\n",
    "    print (ptn)"
   ]
  },
  {
   "cell_type": "code",
   "execution_count": null,
   "metadata": {
    "collapsed": true
   },
   "outputs": [],
   "source": []
  }
 ],
 "metadata": {
  "kernelspec": {
   "display_name": "Python 3",
   "language": "python",
   "name": "python3"
  },
  "language_info": {
   "codemirror_mode": {
    "name": "ipython",
    "version": 3
   },
   "file_extension": ".py",
   "mimetype": "text/x-python",
   "name": "python",
   "nbconvert_exporter": "python",
   "pygments_lexer": "ipython3",
   "version": "3.5.2"
  }
 },
 "nbformat": 4,
 "nbformat_minor": 2
}
