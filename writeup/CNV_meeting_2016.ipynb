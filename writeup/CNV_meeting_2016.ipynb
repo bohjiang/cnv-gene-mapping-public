{
 "cells": [
  {
   "cell_type": "markdown",
   "metadata": {},
   "source": [
    "## Project meeting 20161208\n",
    "### Modify enrichment analysis\n",
    "* Combine gene when transcripts' start/end positions are close (start and end both less than 500Kbps). If not, rename the transcript which is far away from others, for example, name FAM72C.2 for FAM72C outsider. Figure out the number of genes which has this property.\n",
    "\n",
    "* Keep the overlapped genes if the chromosome, start/end positions are identical.\n",
    "\n",
    "* Merge CNVs first, both start and end position less than 1kbps.\n",
    "\n",
    "* Obtain sample size from Pocklingtong's paper.\n",
    "\n",
    "* Transcripts are arbitrary, use CNV counts in exon/intron instead (CNV overlap with exon).\n",
    "\n",
    "* Draw histograms of gene counts per CNV and CNV counts per gene.\n",
    "\n",
    "* After merging, how often CNVs overlap with each other. Define the region with overlapping CNVs as a block. Count the number of genes and CNVs on each block. Figure out block size.\n",
    "\n",
    "* Calculate odds ratio among 2*2 tables with Fisher Exact test's pvalue < 0.05.\n",
    "\n",
    "### Simulation steps\n",
    "* Sample risk genes: sample 1000 genes of 20Kbp\n",
    "\n",
    "* Sample relative risk for risk genes: γi ~ Gamma(5,1)\n",
    "\n",
    "* Assign relative risk for all CNVs: RRi, i∈CNV, i is risk gene\n",
    "\n",
    "* Sample case-control data: χcnv(case)~Bin(CNV.count, RRcnv / (RRcnv+1))\n",
    "\n",
    "\n",
    "## Project meeting 20160919\n",
    "### Status\n",
    "#### Done\n",
    "* PLINK [link](http://pngu.mgh.harvard.edu/~purcell/plink/cnv.shtml)\n",
    "* data from ISC (Raychaudhuri and Daly)\n",
    "\n",
    "#### Doing\n",
    "read books BDA, Exploring Personal Genomics and Machine Learning A Probabilistic Perspective\n",
    "obtain access to \n",
    "\n",
    "#### Todo\n",
    "apply for data in the paper \"Copy number variation in schizophrenia in Sweden\""
   ]
  }
 ],
 "metadata": {
  "kernelspec": {
   "display_name": "SoS",
   "language": "sos",
   "name": "sos"
  },
  "language_info": {
   "codemirror_mode": "sos",
   "file_extension": ".sos",
   "mimetype": "text/x-sos",
   "name": "sos",
   "nbconvert_exporter": "sos.jupyter.converter.SoS_Exporter",
   "pygments_lexer": "sos"
  },
  "sos": {
   "kernels": [
    [
     "Python3",
     "python3",
     "Python3",
     "#FFE771"
    ],
    [
     "SoS",
     "sos",
     "",
     ""
    ]
   ],
   "panel": {
    "displayed": true,
    "height": 0,
    "style": "side"
   }
  }
 },
 "nbformat": 4,
 "nbformat_minor": 2
}
