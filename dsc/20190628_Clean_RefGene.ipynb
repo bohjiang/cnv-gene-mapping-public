{
 "cells": [
  {
   "cell_type": "markdown",
   "metadata": {
    "kernel": "SoS"
   },
   "source": [
    "# Obtain X matrix\n",
    "column: individual\n",
    "\n",
    "row: gene"
   ]
  },
  {
   "cell_type": "markdown",
   "metadata": {
    "kernel": "SoS"
   },
   "source": [
    "## Import phenotype"
   ]
  },
  {
   "cell_type": "code",
   "execution_count": 1,
   "metadata": {
    "kernel": "SoS"
   },
   "outputs": [],
   "source": [
    "import pandas as pd, numpy as np\n",
    "import os\n",
    "from pandasql import sqldf\n",
    "from collections import Counter\n",
    "from more_itertools import unique_everseen\n",
    "cwd = os.path.expanduser(\"~/GIT/cnv-gene-mapping/data\")"
   ]
  },
  {
   "cell_type": "code",
   "execution_count": 2,
   "metadata": {
    "kernel": "SoS"
   },
   "outputs": [],
   "source": [
    "pheno1 = pd.read_table(f\"{cwd}/swcnv/swcnv.pheno\", header = 0, sep = \"\\s+\", usecols = [0,2,3,4])"
   ]
  },
  {
   "cell_type": "code",
   "execution_count": 4,
   "metadata": {
    "kernel": "SoS"
   },
   "outputs": [
    {
     "data": {
      "text/plain": [
       "(12406, 4)"
      ]
     },
     "execution_count": 4,
     "metadata": {},
     "output_type": "execute_result"
    }
   ],
   "source": [
    "pheno1.shape"
   ]
  },
  {
   "cell_type": "code",
   "execution_count": 5,
   "metadata": {
    "kernel": "SoS"
   },
   "outputs": [
    {
     "data": {
      "text/plain": [
       "(Counter({1: 6256, 2: 6150}),\n",
       " Counter({-9: 1172, 1: 6256, 2: 4978}),\n",
       " Counter({-9: 4978, 1: 6256, 2: 1172}))"
      ]
     },
     "execution_count": 5,
     "metadata": {},
     "output_type": "execute_result"
    }
   ],
   "source": [
    "Counter(pheno1[\"BPSCZ\"]), Counter(pheno1[\"SCZ\"]), Counter(pheno1[\"BP\"])"
   ]
  },
  {
   "cell_type": "code",
   "execution_count": 3,
   "metadata": {
    "kernel": "SoS"
   },
   "outputs": [],
   "source": [
    "pheno2 = pd.read_table(f\"{cwd}/swcnv/swcnv.qc6.cnv.indiv\", header = 0, sep = \"\\s+\", usecols = [0,2])"
   ]
  },
  {
   "cell_type": "code",
   "execution_count": 6,
   "metadata": {
    "kernel": "SoS"
   },
   "outputs": [
    {
     "data": {
      "text/plain": [
       "(10636, 2)"
      ]
     },
     "execution_count": 6,
     "metadata": {},
     "output_type": "execute_result"
    }
   ],
   "source": [
    "pheno2.shape"
   ]
  },
  {
   "cell_type": "code",
   "execution_count": 7,
   "metadata": {
    "kernel": "SoS"
   },
   "outputs": [],
   "source": [
    "pheno2[\"FID\"] = [x.split(\"_\")[0] for x in pheno2[\"FID\"]]"
   ]
  },
  {
   "cell_type": "code",
   "execution_count": 8,
   "metadata": {
    "kernel": "SoS"
   },
   "outputs": [],
   "source": [
    "pheno = pd.merge(pheno1, pheno2, how = \"outer\", on = \"FID\")"
   ]
  },
  {
   "cell_type": "code",
   "execution_count": 9,
   "metadata": {
    "kernel": "SoS"
   },
   "outputs": [],
   "source": [
    "pheno[\"PHENO\"] = pheno.apply(lambda x: int(x[\"SCZ\"]) if str(x[\"SCZ\"]) != \"nan\" else int(x[\"PHE\"]), axis = 1)"
   ]
  },
  {
   "cell_type": "code",
   "execution_count": 10,
   "metadata": {
    "kernel": "SoS"
   },
   "outputs": [
    {
     "data": {
      "text/html": [
       "<div>\n",
       "<style scoped>\n",
       "    .dataframe tbody tr th:only-of-type {\n",
       "        vertical-align: middle;\n",
       "    }\n",
       "\n",
       "    .dataframe tbody tr th {\n",
       "        vertical-align: top;\n",
       "    }\n",
       "\n",
       "    .dataframe thead th {\n",
       "        text-align: right;\n",
       "    }\n",
       "</style>\n",
       "<table border=\"1\" class=\"dataframe\">\n",
       "  <thead>\n",
       "    <tr style=\"text-align: right;\">\n",
       "      <th></th>\n",
       "      <th>FID</th>\n",
       "      <th>BPSCZ</th>\n",
       "      <th>SCZ</th>\n",
       "      <th>BP</th>\n",
       "      <th>PHE</th>\n",
       "      <th>PHENO</th>\n",
       "    </tr>\n",
       "  </thead>\n",
       "  <tbody>\n",
       "    <tr>\n",
       "      <th>0</th>\n",
       "      <td>PT-1RTW</td>\n",
       "      <td>1.0</td>\n",
       "      <td>1.0</td>\n",
       "      <td>1.0</td>\n",
       "      <td>1.0</td>\n",
       "      <td>1</td>\n",
       "    </tr>\n",
       "    <tr>\n",
       "      <th>1</th>\n",
       "      <td>PT-1RTX</td>\n",
       "      <td>1.0</td>\n",
       "      <td>1.0</td>\n",
       "      <td>1.0</td>\n",
       "      <td>1.0</td>\n",
       "      <td>1</td>\n",
       "    </tr>\n",
       "    <tr>\n",
       "      <th>2</th>\n",
       "      <td>PT-1RTY</td>\n",
       "      <td>1.0</td>\n",
       "      <td>1.0</td>\n",
       "      <td>1.0</td>\n",
       "      <td>1.0</td>\n",
       "      <td>1</td>\n",
       "    </tr>\n",
       "    <tr>\n",
       "      <th>3</th>\n",
       "      <td>PT-1RTZ</td>\n",
       "      <td>2.0</td>\n",
       "      <td>2.0</td>\n",
       "      <td>-9.0</td>\n",
       "      <td>2.0</td>\n",
       "      <td>2</td>\n",
       "    </tr>\n",
       "    <tr>\n",
       "      <th>4</th>\n",
       "      <td>PT-1RU1</td>\n",
       "      <td>1.0</td>\n",
       "      <td>1.0</td>\n",
       "      <td>1.0</td>\n",
       "      <td>1.0</td>\n",
       "      <td>1</td>\n",
       "    </tr>\n",
       "  </tbody>\n",
       "</table>\n",
       "</div>"
      ],
      "text/plain": [
       "       FID  BPSCZ  SCZ   BP  PHE  PHENO\n",
       "0  PT-1RTW    1.0  1.0  1.0  1.0      1\n",
       "1  PT-1RTX    1.0  1.0  1.0  1.0      1\n",
       "2  PT-1RTY    1.0  1.0  1.0  1.0      1\n",
       "3  PT-1RTZ    2.0  2.0 -9.0  2.0      2\n",
       "4  PT-1RU1    1.0  1.0  1.0  1.0      1"
      ]
     },
     "execution_count": 10,
     "metadata": {},
     "output_type": "execute_result"
    }
   ],
   "source": [
    "pheno.head()"
   ]
  },
  {
   "cell_type": "code",
   "execution_count": 11,
   "metadata": {
    "kernel": "SoS"
   },
   "outputs": [
    {
     "data": {
      "text/plain": [
       "Counter({-9: 1172, 1: 6355, 2: 5097})"
      ]
     },
     "execution_count": 11,
     "metadata": {},
     "output_type": "execute_result"
    }
   ],
   "source": [
    "Counter(pheno[\"PHENO\"])"
   ]
  },
  {
   "cell_type": "markdown",
   "metadata": {
    "kernel": "SoS"
   },
   "source": [
    "## Import individual CNV\n",
    "TYPE: 1 is deletion, 3 is duplication"
   ]
  },
  {
   "cell_type": "code",
   "execution_count": 12,
   "metadata": {
    "kernel": "SoS"
   },
   "outputs": [],
   "source": [
    "cnv = pd.read_table(f\"{cwd}/swcnv/swcnv.qc6.cnv\", header = 0, sep = \"\\s+\", usecols = [0,2,3,4,5])"
   ]
  },
  {
   "cell_type": "code",
   "execution_count": 13,
   "metadata": {
    "kernel": "SoS"
   },
   "outputs": [
    {
     "data": {
      "text/plain": [
       "(9723, 5)"
      ]
     },
     "execution_count": 13,
     "metadata": {},
     "output_type": "execute_result"
    }
   ],
   "source": [
    "cnv.shape"
   ]
  },
  {
   "cell_type": "code",
   "execution_count": 14,
   "metadata": {
    "kernel": "SoS"
   },
   "outputs": [],
   "source": [
    "cnv[\"FID\"] = [x.split(\"_\")[0] for x in cnv[\"FID\"]]"
   ]
  },
  {
   "cell_type": "code",
   "execution_count": 15,
   "metadata": {
    "kernel": "SoS"
   },
   "outputs": [],
   "source": [
    "cnv = pd.merge(cnv, pheno[[\"FID\", \"PHENO\"]], how = \"left\", on = \"FID\")"
   ]
  },
  {
   "cell_type": "code",
   "execution_count": 16,
   "metadata": {
    "kernel": "SoS"
   },
   "outputs": [
    {
     "data": {
      "text/html": [
       "<div>\n",
       "<style scoped>\n",
       "    .dataframe tbody tr th:only-of-type {\n",
       "        vertical-align: middle;\n",
       "    }\n",
       "\n",
       "    .dataframe tbody tr th {\n",
       "        vertical-align: top;\n",
       "    }\n",
       "\n",
       "    .dataframe thead th {\n",
       "        text-align: right;\n",
       "    }\n",
       "</style>\n",
       "<table border=\"1\" class=\"dataframe\">\n",
       "  <thead>\n",
       "    <tr style=\"text-align: right;\">\n",
       "      <th></th>\n",
       "      <th>FID</th>\n",
       "      <th>CHR</th>\n",
       "      <th>BP1</th>\n",
       "      <th>BP2</th>\n",
       "      <th>TYPE</th>\n",
       "      <th>PHENO</th>\n",
       "    </tr>\n",
       "  </thead>\n",
       "  <tbody>\n",
       "    <tr>\n",
       "      <th>0</th>\n",
       "      <td>PT-8K8C</td>\n",
       "      <td>8</td>\n",
       "      <td>30371917</td>\n",
       "      <td>30849740</td>\n",
       "      <td>3</td>\n",
       "      <td>1</td>\n",
       "    </tr>\n",
       "    <tr>\n",
       "      <th>1</th>\n",
       "      <td>PT-8UHJ</td>\n",
       "      <td>7</td>\n",
       "      <td>143218408</td>\n",
       "      <td>143532998</td>\n",
       "      <td>3</td>\n",
       "      <td>1</td>\n",
       "    </tr>\n",
       "    <tr>\n",
       "      <th>2</th>\n",
       "      <td>PT-8UHU</td>\n",
       "      <td>2</td>\n",
       "      <td>117775371</td>\n",
       "      <td>117925547</td>\n",
       "      <td>3</td>\n",
       "      <td>1</td>\n",
       "    </tr>\n",
       "    <tr>\n",
       "      <th>3</th>\n",
       "      <td>PT-8UHU</td>\n",
       "      <td>2</td>\n",
       "      <td>230714025</td>\n",
       "      <td>230902238</td>\n",
       "      <td>3</td>\n",
       "      <td>1</td>\n",
       "    </tr>\n",
       "    <tr>\n",
       "      <th>4</th>\n",
       "      <td>PT-8UHU</td>\n",
       "      <td>15</td>\n",
       "      <td>24578499</td>\n",
       "      <td>24778891</td>\n",
       "      <td>4</td>\n",
       "      <td>1</td>\n",
       "    </tr>\n",
       "    <tr>\n",
       "      <th>5</th>\n",
       "      <td>PT-8K6N</td>\n",
       "      <td>4</td>\n",
       "      <td>2058475</td>\n",
       "      <td>2316874</td>\n",
       "      <td>3</td>\n",
       "      <td>1</td>\n",
       "    </tr>\n",
       "    <tr>\n",
       "      <th>6</th>\n",
       "      <td>PT-8K6N</td>\n",
       "      <td>7</td>\n",
       "      <td>157925600</td>\n",
       "      <td>158260724</td>\n",
       "      <td>1</td>\n",
       "      <td>1</td>\n",
       "    </tr>\n",
       "    <tr>\n",
       "      <th>7</th>\n",
       "      <td>PT-8TUA</td>\n",
       "      <td>2</td>\n",
       "      <td>83597659</td>\n",
       "      <td>83749480</td>\n",
       "      <td>3</td>\n",
       "      <td>1</td>\n",
       "    </tr>\n",
       "    <tr>\n",
       "      <th>8</th>\n",
       "      <td>PT-8UCU</td>\n",
       "      <td>7</td>\n",
       "      <td>57481104</td>\n",
       "      <td>57636170</td>\n",
       "      <td>3</td>\n",
       "      <td>1</td>\n",
       "    </tr>\n",
       "    <tr>\n",
       "      <th>9</th>\n",
       "      <td>PT-8UD3</td>\n",
       "      <td>7</td>\n",
       "      <td>143444216</td>\n",
       "      <td>143568059</td>\n",
       "      <td>1</td>\n",
       "      <td>1</td>\n",
       "    </tr>\n",
       "  </tbody>\n",
       "</table>\n",
       "</div>"
      ],
      "text/plain": [
       "       FID  CHR        BP1        BP2  TYPE  PHENO\n",
       "0  PT-8K8C    8   30371917   30849740     3      1\n",
       "1  PT-8UHJ    7  143218408  143532998     3      1\n",
       "2  PT-8UHU    2  117775371  117925547     3      1\n",
       "3  PT-8UHU    2  230714025  230902238     3      1\n",
       "4  PT-8UHU   15   24578499   24778891     4      1\n",
       "5  PT-8K6N    4    2058475    2316874     3      1\n",
       "6  PT-8K6N    7  157925600  158260724     1      1\n",
       "7  PT-8TUA    2   83597659   83749480     3      1\n",
       "8  PT-8UCU    7   57481104   57636170     3      1\n",
       "9  PT-8UD3    7  143444216  143568059     1      1"
      ]
     },
     "execution_count": 16,
     "metadata": {},
     "output_type": "execute_result"
    }
   ],
   "source": [
    "cnv.head(10)"
   ]
  },
  {
   "cell_type": "code",
   "execution_count": 17,
   "metadata": {
    "kernel": "SoS"
   },
   "outputs": [
    {
     "data": {
      "text/plain": [
       "Counter({1: 5200, 2: 4523})"
      ]
     },
     "execution_count": 17,
     "metadata": {},
     "output_type": "execute_result"
    }
   ],
   "source": [
    "Counter(cnv[\"PHENO\"])"
   ]
  },
  {
   "cell_type": "code",
   "execution_count": 18,
   "metadata": {
    "kernel": "SoS"
   },
   "outputs": [
    {
     "data": {
      "text/plain": [
       "(9723, 6)"
      ]
     },
     "execution_count": 18,
     "metadata": {},
     "output_type": "execute_result"
    }
   ],
   "source": [
    "cnv.drop_duplicates(subset = [\"FID\", \"CHR\", \"BP2\", \"TYPE\", \"PHENO\"]).shape"
   ]
  },
  {
   "cell_type": "code",
   "execution_count": 19,
   "metadata": {
    "kernel": "SoS"
   },
   "outputs": [],
   "source": [
    "dele = cnv[cnv[\"TYPE\"] == 1]\n",
    "dup = cnv[cnv[\"TYPE\"] == 3]"
   ]
  },
  {
   "cell_type": "code",
   "execution_count": 20,
   "metadata": {
    "kernel": "SoS"
   },
   "outputs": [],
   "source": [
    "dele = dele.sort_values(by = [\"CHR\", \"BP1\", \"BP2\"])\n",
    "dup = dup.sort_values(by = [\"CHR\", \"BP1\", \"BP2\"])"
   ]
  },
  {
   "cell_type": "code",
   "execution_count": 21,
   "metadata": {
    "kernel": "SoS"
   },
   "outputs": [],
   "source": [
    "# dele[dele[\"FID\"].isin(list(set(dele[dele.duplicated(subset = [\"FID\", \"CHR\"])][\"FID\"].tolist())))]"
   ]
  },
  {
   "cell_type": "code",
   "execution_count": 22,
   "metadata": {
    "kernel": "SoS"
   },
   "outputs": [],
   "source": [
    "ref_gene = pd.read_table(f\"{cwd}/refGene.clean.gz\", compression = \"gzip\", sep = \"\\t\", header = 0)"
   ]
  },
  {
   "cell_type": "code",
   "execution_count": 25,
   "metadata": {
    "kernel": "SoS"
   },
   "outputs": [
    {
     "data": {
      "text/html": [
       "<div>\n",
       "<style scoped>\n",
       "    .dataframe tbody tr th:only-of-type {\n",
       "        vertical-align: middle;\n",
       "    }\n",
       "\n",
       "    .dataframe tbody tr th {\n",
       "        vertical-align: top;\n",
       "    }\n",
       "\n",
       "    .dataframe thead th {\n",
       "        text-align: right;\n",
       "    }\n",
       "</style>\n",
       "<table border=\"1\" class=\"dataframe\">\n",
       "  <thead>\n",
       "    <tr style=\"text-align: right;\">\n",
       "      <th></th>\n",
       "      <th>CHR</th>\n",
       "      <th>start</th>\n",
       "      <th>end</th>\n",
       "      <th>gene</th>\n",
       "    </tr>\n",
       "  </thead>\n",
       "  <tbody>\n",
       "    <tr>\n",
       "      <th>0</th>\n",
       "      <td>1</td>\n",
       "      <td>11868</td>\n",
       "      <td>29370</td>\n",
       "      <td>gene1</td>\n",
       "    </tr>\n",
       "    <tr>\n",
       "      <th>1</th>\n",
       "      <td>1</td>\n",
       "      <td>30365</td>\n",
       "      <td>30503</td>\n",
       "      <td>gene2</td>\n",
       "    </tr>\n",
       "    <tr>\n",
       "      <th>2</th>\n",
       "      <td>1</td>\n",
       "      <td>34610</td>\n",
       "      <td>36081</td>\n",
       "      <td>gene3</td>\n",
       "    </tr>\n",
       "    <tr>\n",
       "      <th>3</th>\n",
       "      <td>1</td>\n",
       "      <td>69090</td>\n",
       "      <td>70008</td>\n",
       "      <td>gene4</td>\n",
       "    </tr>\n",
       "    <tr>\n",
       "      <th>4</th>\n",
       "      <td>1</td>\n",
       "      <td>134772</td>\n",
       "      <td>140566</td>\n",
       "      <td>gene5</td>\n",
       "    </tr>\n",
       "  </tbody>\n",
       "</table>\n",
       "</div>"
      ],
      "text/plain": [
       "   CHR   start     end   gene\n",
       "0    1   11868   29370  gene1\n",
       "1    1   30365   30503  gene2\n",
       "2    1   34610   36081  gene3\n",
       "3    1   69090   70008  gene4\n",
       "4    1  134772  140566  gene5"
      ]
     },
     "execution_count": 25,
     "metadata": {},
     "output_type": "execute_result"
    }
   ],
   "source": [
    "ref_gene.head()"
   ]
  },
  {
   "cell_type": "code",
   "execution_count": 26,
   "metadata": {
    "kernel": "SoS"
   },
   "outputs": [],
   "source": [
    "query = \"\"\"\n",
    "    SELECT dele.FID, dele.CHR, dele.BP1, dele.BP2, dele.PHENO, ref_gene.gene, ref_gene.start, ref_gene.end\n",
    "    FROM dele LEFT JOIN ref_gene\n",
    "    WHERE dele.CHR == ref_gene.CHR\n",
    "    AND (\n",
    "    (dele.BP1 >= ref_gene.start AND dele.BP1 <= ref_gene.end)\n",
    "    OR\n",
    "    (dele.BP2 >= ref_gene.start AND dele.BP2 <= ref_gene.end)\n",
    "    OR\n",
    "    (dele.BP1 <= ref_gene.start AND dele.BP2 >= ref_gene.end)\n",
    "    )\n",
    "\"\"\""
   ]
  },
  {
   "cell_type": "code",
   "execution_count": 28,
   "metadata": {
    "kernel": "SoS"
   },
   "outputs": [],
   "source": [
    "res = sqldf(query)"
   ]
  },
  {
   "cell_type": "code",
   "execution_count": 29,
   "metadata": {
    "kernel": "SoS"
   },
   "outputs": [
    {
     "data": {
      "text/html": [
       "<div>\n",
       "<style scoped>\n",
       "    .dataframe tbody tr th:only-of-type {\n",
       "        vertical-align: middle;\n",
       "    }\n",
       "\n",
       "    .dataframe tbody tr th {\n",
       "        vertical-align: top;\n",
       "    }\n",
       "\n",
       "    .dataframe thead th {\n",
       "        text-align: right;\n",
       "    }\n",
       "</style>\n",
       "<table border=\"1\" class=\"dataframe\">\n",
       "  <thead>\n",
       "    <tr style=\"text-align: right;\">\n",
       "      <th></th>\n",
       "      <th>FID</th>\n",
       "      <th>CHR</th>\n",
       "      <th>BP1</th>\n",
       "      <th>BP2</th>\n",
       "      <th>PHENO</th>\n",
       "      <th>gene</th>\n",
       "      <th>start</th>\n",
       "      <th>end</th>\n",
       "    </tr>\n",
       "  </thead>\n",
       "  <tbody>\n",
       "    <tr>\n",
       "      <th>0</th>\n",
       "      <td>PT-L1HP</td>\n",
       "      <td>1</td>\n",
       "      <td>1106784</td>\n",
       "      <td>1220136</td>\n",
       "      <td>2</td>\n",
       "      <td>gene31</td>\n",
       "      <td>1109285</td>\n",
       "      <td>1133313</td>\n",
       "    </tr>\n",
       "    <tr>\n",
       "      <th>1</th>\n",
       "      <td>PT-L1HP</td>\n",
       "      <td>1</td>\n",
       "      <td>1106784</td>\n",
       "      <td>1220136</td>\n",
       "      <td>2</td>\n",
       "      <td>gene32</td>\n",
       "      <td>1138887</td>\n",
       "      <td>1142089</td>\n",
       "    </tr>\n",
       "    <tr>\n",
       "      <th>2</th>\n",
       "      <td>PT-L1HP</td>\n",
       "      <td>1</td>\n",
       "      <td>1106784</td>\n",
       "      <td>1220136</td>\n",
       "      <td>2</td>\n",
       "      <td>gene33</td>\n",
       "      <td>1146719</td>\n",
       "      <td>1149533</td>\n",
       "    </tr>\n",
       "    <tr>\n",
       "      <th>3</th>\n",
       "      <td>PT-L1HP</td>\n",
       "      <td>1</td>\n",
       "      <td>1106784</td>\n",
       "      <td>1220136</td>\n",
       "      <td>2</td>\n",
       "      <td>gene34</td>\n",
       "      <td>1152287</td>\n",
       "      <td>1167447</td>\n",
       "    </tr>\n",
       "    <tr>\n",
       "      <th>4</th>\n",
       "      <td>PT-L1HP</td>\n",
       "      <td>1</td>\n",
       "      <td>1106784</td>\n",
       "      <td>1220136</td>\n",
       "      <td>2</td>\n",
       "      <td>gene35</td>\n",
       "      <td>1167616</td>\n",
       "      <td>1170420</td>\n",
       "    </tr>\n",
       "  </tbody>\n",
       "</table>\n",
       "</div>"
      ],
      "text/plain": [
       "       FID  CHR      BP1      BP2  PHENO    gene    start      end\n",
       "0  PT-L1HP    1  1106784  1220136      2  gene31  1109285  1133313\n",
       "1  PT-L1HP    1  1106784  1220136      2  gene32  1138887  1142089\n",
       "2  PT-L1HP    1  1106784  1220136      2  gene33  1146719  1149533\n",
       "3  PT-L1HP    1  1106784  1220136      2  gene34  1152287  1167447\n",
       "4  PT-L1HP    1  1106784  1220136      2  gene35  1167616  1170420"
      ]
     },
     "execution_count": 29,
     "metadata": {},
     "output_type": "execute_result"
    }
   ],
   "source": [
    "res.head()"
   ]
  },
  {
   "cell_type": "code",
   "execution_count": null,
   "metadata": {
    "kernel": "SoS"
   },
   "outputs": [],
   "source": []
  }
 ],
 "metadata": {
  "kernelspec": {
   "display_name": "SoS",
   "language": "sos",
   "name": "sos"
  },
  "language_info": {
   "codemirror_mode": "sos",
   "file_extension": ".sos",
   "mimetype": "text/x-sos",
   "name": "sos",
   "nbconvert_exporter": "sos_notebook.converter.SoS_Exporter",
   "pygments_lexer": "sos"
  },
  "sos": {
   "kernels": [
    [
     "SoS",
     "sos",
     "",
     ""
    ]
   ],
   "version": "0.19.4"
  }
 },
 "nbformat": 4,
 "nbformat_minor": 2
}
