{
 "cells": [
  {
   "cell_type": "markdown",
   "metadata": {},
   "source": [
    "# Fix simulation sier results\n",
    "7 genes' sier PIP are greater than 1 since the summation of whole genome varbvs PIPs are greater than 1."
   ]
  },
  {
   "cell_type": "code",
   "execution_count": 1,
   "metadata": {},
   "outputs": [],
   "source": [
    "import pandas as pd, numpy as np\n",
    "import os\n",
    "from collections import Counter\n",
    "cwd = os.path.expanduser(\"/home/min/GIT/cnv-gene-mapping/output\")\n",
    "name = \"simu_dele_30_0529\"\n",
    "prefix = \"deletion.X.colnames_b30.simu_dele_30_0529\""
   ]
  },
  {
   "cell_type": "code",
   "execution_count": 2,
   "metadata": {},
   "outputs": [],
   "source": [
    "index = pd.read_csv(f\"{cwd}/{name}/{prefix}.X.block_index.csv\", sep = \"\\t\", header = None, names = [\"start\", \"end\"])"
   ]
  },
  {
   "cell_type": "code",
   "execution_count": 4,
   "metadata": {},
   "outputs": [
    {
     "data": {
      "text/plain": [
       "(565, 2)"
      ]
     },
     "execution_count": 4,
     "metadata": {},
     "output_type": "execute_result"
    }
   ],
   "source": [
    "index.shape"
   ]
  },
  {
   "cell_type": "code",
   "execution_count": 17,
   "metadata": {},
   "outputs": [
    {
     "name": "stdout",
     "output_type": "stream",
     "text": [
      "start    95\n",
      "end      96\n",
      "Name: 19, dtype: int64 1.000000000000005\n",
      "     gene           pip\n",
      "0  NBPF20  4.225934e-23\n",
      "1  NBPF19  9.958327e-01\n"
     ]
    }
   ],
   "source": [
    "for i, item in index.iterrows():\n",
    "    sumpip = np.sum(np.loadtxt(f\"{cwd}/{name}/{prefix}.X_block_{item[0]}_{item[1]}/block_{item[0]}_{item[1]}.varbvs_pip\", usecols = 1))\n",
    "    if sumpip > 1:\n",
    "        sier = pd.read_csv(f\"{cwd}/{name}/{prefix}.X_block_{item[0]}_{item[1]}/block_{item[0]}_{item[1]}.sier.pip\", sep = \"\\t\", header = None, names = [\"gene\", \"pip\"])\n",
    "        if max(sier[\"pip\"]) > 1:\n",
    "            print (item, max(sier[\"pip\"]))\n",
    "            sier[\"pip\"] = [x/sumpip for x in sier[\"pip\"]]\n",
    "            print (sier)\n",
    "            sier.to_csv(f\"{cwd}/{name}/{prefix}.X_block_{item[0]}_{item[1]}/block_{item[0]}_{item[1]}.sier.pip\", sep = \"\\t\", header = False, index = False)"
   ]
  },
  {
   "cell_type": "code",
   "execution_count": null,
   "metadata": {},
   "outputs": [],
   "source": []
  }
 ],
 "metadata": {
  "kernelspec": {
   "display_name": "Python 3",
   "language": "python",
   "name": "python3"
  },
  "language_info": {
   "codemirror_mode": {
    "name": "ipython",
    "version": 3
   },
   "file_extension": ".py",
   "mimetype": "text/x-python",
   "name": "python",
   "nbconvert_exporter": "python",
   "pygments_lexer": "ipython3",
   "version": "3.7.6"
  }
 },
 "nbformat": 4,
 "nbformat_minor": 4
}
