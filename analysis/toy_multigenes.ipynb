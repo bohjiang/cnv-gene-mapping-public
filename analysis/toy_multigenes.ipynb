{
 "cells": [
  {
   "cell_type": "code",
   "execution_count": 4,
   "metadata": {
    "collapsed": true
   },
   "outputs": [],
   "source": [
    "import numpy as np\n",
    "import pandas as pd\n",
    "import feather\n",
    "from pandasql import sqldf\n",
    "from fisher import pvalue\n",
    "from scipy import stats\n",
    "from pprint import pprint"
   ]
  },
  {
   "cell_type": "code",
   "execution_count": 5,
   "metadata": {},
   "outputs": [],
   "source": [
    "def simu_toy(n_pos, n_max, causal, n=50, const=1, seed=999):\n",
    "    ptn_ls = []\n",
    "    if n_pos <= n_max:\n",
    "        ptn_keys = [\"p{}\".format(i+1) for i in range(n_pos*2)]\n",
    "        for i in range(n_pos):\n",
    "            ptn = [1]*(i+1) + [0]*(n_pos-i-1)\n",
    "            ptn_ls.append(ptn)\n",
    "        for i in range(n_pos, n_pos*2):\n",
    "            ptn = [0]*(i-n_pos+1) + [1]*(2*n_pos-i-1)\n",
    "            ptn_ls.append(ptn)\n",
    "    else:\n",
    "        ptn_keys = [\"p{}\".format(i+1) for i in range(n_pos+n_max)]\n",
    "        for i in range(n_max):\n",
    "            ptn = [1]*(i+1) + [0]*(n_pos-i-1)\n",
    "            ptn_ls.append(ptn)\n",
    "        for i in range(n_max, n_pos):\n",
    "            ptn = [0]*(i-n_max+1) + [1]*n_max + [0]*(n_pos-i-1)\n",
    "            ptn_ls.append(ptn)\n",
    "        for i in range(n_pos, n_pos+n_max):\n",
    "            ptn = [0]*(i-n_max+1) + [1]*(n_pos+n_max-i-1)\n",
    "            ptn_ls.append(ptn)\n",
    "\n",
    "    ptn_dict = dict(zip(ptn_keys, ptn_ls))\n",
    "    n_ls = [n]*len(ptn_keys)\n",
    "    n_dict = dict(zip(ptn_keys, n_ls))\n",
    "    sample = sum([[ptn_dict[i]] * n_dict[i] for i in n_dict.keys()], [])\n",
    "    \n",
    "    np.random.seed(seed)    \n",
    "    mat = [[np.random.normal(0,1)] + line for line in sample]\n",
    "    config = []\n",
    "    for line in mat:\n",
    "        if line[causal] == 1:\n",
    "            line[0] = line[0] + const\n",
    "            config.append(line[0])\n",
    "        else:\n",
    "            config.append(line[0])\n",
    "        if line[0] > np.median(config):\n",
    "            line[0] = 1\n",
    "        else:\n",
    "            line[0] = 0\n",
    "    mat = np.matrix(mat)\n",
    "    df = pd.DataFrame(mat, columns = [\"phenotype\"] + [\"pos{}\".format(i+1) for i in range(mat.shape[1]-1)])\n",
    "    counts = df.groupby([\"pos{}\".format(i+1) for i in range(mat.shape[1]-1)] + [\"phenotype\"]).size()\n",
    "    for col in df.columns:\n",
    "        df[col] = df[col].astype(np.uint8)\n",
    "    output = feather.write_dataframe(df, \"data/toy_pos{}_causal{}_n{}.feather\".format(n_pos, causal, sum(n_ls)))\n",
    "    return df, counts"
   ]
  },
  {
   "cell_type": "code",
   "execution_count": 6,
   "metadata": {},
   "outputs": [
    {
     "name": "stdout",
     "output_type": "stream",
     "text": [
      "      phenotype  pos1  pos2  pos3  pos4  pos5  pos6  pos7  pos8  pos9  pos10  \\\n",
      "0             0     1     1     1     1     1     1     1     0     0      0   \n",
      "1             1     1     1     1     1     1     1     1     0     0      0   \n",
      "2             0     1     1     1     1     1     1     1     0     0      0   \n",
      "3             0     1     1     1     1     1     1     1     0     0      0   \n",
      "4             0     1     1     1     1     1     1     1     0     0      0   \n",
      "5             0     1     1     1     1     1     1     1     0     0      0   \n",
      "6             1     1     1     1     1     1     1     1     0     0      0   \n",
      "7             0     1     1     1     1     1     1     1     0     0      0   \n",
      "8             1     1     1     1     1     1     1     1     0     0      0   \n",
      "9             1     1     1     1     1     1     1     1     0     0      0   \n",
      "10            0     1     1     1     1     1     1     1     0     0      0   \n",
      "11            1     1     1     1     1     1     1     1     0     0      0   \n",
      "12            0     1     1     1     1     1     1     1     0     0      0   \n",
      "13            0     1     1     1     1     1     1     1     0     0      0   \n",
      "14            0     1     1     1     1     1     1     1     0     0      0   \n",
      "15            1     1     1     1     1     1     1     1     0     0      0   \n",
      "16            0     1     1     1     1     1     1     1     0     0      0   \n",
      "17            1     1     1     1     1     1     1     1     0     0      0   \n",
      "18            1     1     1     1     1     1     1     1     0     0      0   \n",
      "19            0     1     1     1     1     1     1     1     0     0      0   \n",
      "20            0     1     1     1     1     1     1     1     0     0      0   \n",
      "21            0     1     1     1     1     1     1     1     0     0      0   \n",
      "22            0     1     1     1     1     1     1     1     0     0      0   \n",
      "23            0     1     1     1     1     1     1     1     0     0      0   \n",
      "24            1     1     1     1     1     1     1     1     0     0      0   \n",
      "25            1     1     1     1     1     1     1     1     0     0      0   \n",
      "26            1     1     1     1     1     1     1     1     0     0      0   \n",
      "27            0     1     1     1     1     1     1     1     0     0      0   \n",
      "28            0     1     1     1     1     1     1     1     0     0      0   \n",
      "29            0     1     1     1     1     1     1     1     0     0      0   \n",
      "...         ...   ...   ...   ...   ...   ...   ...   ...   ...   ...    ...   \n",
      "1220          1     1     0     0     0     0     0     0     0     0      0   \n",
      "1221          0     1     0     0     0     0     0     0     0     0      0   \n",
      "1222          1     1     0     0     0     0     0     0     0     0      0   \n",
      "1223          0     1     0     0     0     0     0     0     0     0      0   \n",
      "1224          0     1     0     0     0     0     0     0     0     0      0   \n",
      "1225          1     1     0     0     0     0     0     0     0     0      0   \n",
      "1226          0     1     0     0     0     0     0     0     0     0      0   \n",
      "1227          0     1     0     0     0     0     0     0     0     0      0   \n",
      "1228          1     1     0     0     0     0     0     0     0     0      0   \n",
      "1229          1     1     0     0     0     0     0     0     0     0      0   \n",
      "1230          0     1     0     0     0     0     0     0     0     0      0   \n",
      "1231          0     1     0     0     0     0     0     0     0     0      0   \n",
      "1232          1     1     0     0     0     0     0     0     0     0      0   \n",
      "1233          0     1     0     0     0     0     0     0     0     0      0   \n",
      "1234          0     1     0     0     0     0     0     0     0     0      0   \n",
      "1235          1     1     0     0     0     0     0     0     0     0      0   \n",
      "1236          0     1     0     0     0     0     0     0     0     0      0   \n",
      "1237          0     1     0     0     0     0     0     0     0     0      0   \n",
      "1238          0     1     0     0     0     0     0     0     0     0      0   \n",
      "1239          0     1     0     0     0     0     0     0     0     0      0   \n",
      "1240          1     1     0     0     0     0     0     0     0     0      0   \n",
      "1241          1     1     0     0     0     0     0     0     0     0      0   \n",
      "1242          1     1     0     0     0     0     0     0     0     0      0   \n",
      "1243          1     1     0     0     0     0     0     0     0     0      0   \n",
      "1244          0     1     0     0     0     0     0     0     0     0      0   \n",
      "1245          0     1     0     0     0     0     0     0     0     0      0   \n",
      "1246          1     1     0     0     0     0     0     0     0     0      0   \n",
      "1247          0     1     0     0     0     0     0     0     0     0      0   \n",
      "1248          0     1     0     0     0     0     0     0     0     0      0   \n",
      "1249          0     1     0     0     0     0     0     0     0     0      0   \n",
      "\n",
      "      pos11  pos12  pos13  pos14  pos15  \n",
      "0         0      0      0      0      0  \n",
      "1         0      0      0      0      0  \n",
      "2         0      0      0      0      0  \n",
      "3         0      0      0      0      0  \n",
      "4         0      0      0      0      0  \n",
      "5         0      0      0      0      0  \n",
      "6         0      0      0      0      0  \n",
      "7         0      0      0      0      0  \n",
      "8         0      0      0      0      0  \n",
      "9         0      0      0      0      0  \n",
      "10        0      0      0      0      0  \n",
      "11        0      0      0      0      0  \n",
      "12        0      0      0      0      0  \n",
      "13        0      0      0      0      0  \n",
      "14        0      0      0      0      0  \n",
      "15        0      0      0      0      0  \n",
      "16        0      0      0      0      0  \n",
      "17        0      0      0      0      0  \n",
      "18        0      0      0      0      0  \n",
      "19        0      0      0      0      0  \n",
      "20        0      0      0      0      0  \n",
      "21        0      0      0      0      0  \n",
      "22        0      0      0      0      0  \n",
      "23        0      0      0      0      0  \n",
      "24        0      0      0      0      0  \n",
      "25        0      0      0      0      0  \n",
      "26        0      0      0      0      0  \n",
      "27        0      0      0      0      0  \n",
      "28        0      0      0      0      0  \n",
      "29        0      0      0      0      0  \n",
      "...     ...    ...    ...    ...    ...  \n",
      "1220      0      0      0      0      0  \n",
      "1221      0      0      0      0      0  \n",
      "1222      0      0      0      0      0  \n",
      "1223      0      0      0      0      0  \n",
      "1224      0      0      0      0      0  \n",
      "1225      0      0      0      0      0  \n",
      "1226      0      0      0      0      0  \n",
      "1227      0      0      0      0      0  \n",
      "1228      0      0      0      0      0  \n",
      "1229      0      0      0      0      0  \n",
      "1230      0      0      0      0      0  \n",
      "1231      0      0      0      0      0  \n",
      "1232      0      0      0      0      0  \n",
      "1233      0      0      0      0      0  \n",
      "1234      0      0      0      0      0  \n",
      "1235      0      0      0      0      0  \n",
      "1236      0      0      0      0      0  \n",
      "1237      0      0      0      0      0  \n",
      "1238      0      0      0      0      0  \n",
      "1239      0      0      0      0      0  \n",
      "1240      0      0      0      0      0  \n",
      "1241      0      0      0      0      0  \n",
      "1242      0      0      0      0      0  \n",
      "1243      0      0      0      0      0  \n",
      "1244      0      0      0      0      0  \n",
      "1245      0      0      0      0      0  \n",
      "1246      0      0      0      0      0  \n",
      "1247      0      0      0      0      0  \n",
      "1248      0      0      0      0      0  \n",
      "1249      0      0      0      0      0  \n",
      "\n",
      "[1250 rows x 16 columns]\n"
     ]
    }
   ],
   "source": [
    "df, counts = simu_toy(n_pos=15, n_max=10, causal=8)\n",
    "print (df)"
   ]
  },
  {
   "cell_type": "markdown",
   "metadata": {},
   "source": [
    "# mat_l = sum([[ptn_dict[i]] * n_dict[i] for i in n_dict.keys()], [])\n",
    "print(len(mat_l))"
   ]
  },
  {
   "cell_type": "code",
   "execution_count": null,
   "metadata": {
    "scrolled": true
   },
   "outputs": [],
   "source": [
    "mat_1=[]\n",
    "for i in n_dict.keys():\n",
    "    for j in range(n_dict[i]):\n",
    "        mat_1.append(ptn_dict[i])\n",
    "print ((mat_1))"
   ]
  },
  {
   "cell_type": "code",
   "execution_count": null,
   "metadata": {
    "scrolled": true
   },
   "outputs": [],
   "source": [
    "n_gene = 15\n",
    "n_max = 10\n",
    "ptn_dict, n_dict = simu_toy(n_pos=n_gene, n_max=n_max)\n",
    "# print ([n_dict.keys()])\n",
    "\n",
    "[ptn_dict[i] for j in range(n_dict[i]) for i in n_dict.keys()]"
   ]
  },
  {
   "cell_type": "code",
   "execution_count": null,
   "metadata": {},
   "outputs": [],
   "source": [
    "seed = 999\n",
    "np.random.seed(seed)\n",
    "config = [[np.random.normal(0,1)]+ptn_dict[i] for j in range(n_dict[i]) for i in n_dict.keys()]\n",
    "print (config)\n",
    "# first gene is causal\n",
    "for line in config:\n",
    "    if line[1]==1:\n",
    "        line[0] = line[0]+1\n",
    "# print (config)"
   ]
  },
  {
   "cell_type": "code",
   "execution_count": null,
   "metadata": {
    "collapsed": true
   },
   "outputs": [],
   "source": [
    "def toy_10gene(ptn_dict, n_dict, const=1, seed=999):\n",
    "    np.random.seed(seed)\n",
    "    return None"
   ]
  },
  {
   "cell_type": "code",
   "execution_count": 14,
   "metadata": {},
   "outputs": [
    {
     "data": {
      "text/plain": [
       "79"
      ]
     },
     "execution_count": 14,
     "metadata": {},
     "output_type": "execute_result"
    }
   ],
   "source": [
    "sum([1,3,54,6,7,8])"
   ]
  },
  {
   "cell_type": "code",
   "execution_count": null,
   "metadata": {
    "collapsed": true
   },
   "outputs": [],
   "source": []
  }
 ],
 "metadata": {
  "kernelspec": {
   "display_name": "Python 3",
   "language": "python",
   "name": "python3"
  },
  "language_info": {
   "codemirror_mode": {
    "name": "ipython",
    "version": 3
   },
   "file_extension": ".py",
   "mimetype": "text/x-python",
   "name": "python",
   "nbconvert_exporter": "python",
   "pygments_lexer": "ipython3",
   "version": "3.5.2"
  }
 },
 "nbformat": 4,
 "nbformat_minor": 2
}
