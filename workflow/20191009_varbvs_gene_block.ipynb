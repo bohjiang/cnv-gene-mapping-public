{
 "cells": [
  {
   "cell_type": "markdown",
   "metadata": {
    "kernel": "SoS"
   },
   "source": [
    "# Use `varbvs` result to compare \n",
    "plot the varbvs estimates of number of causal genes vs. the true number.\n",
    "\n",
    "rank all blocks by the sum of PIPs, and then assess true positive and false positive rates."
   ]
  },
  {
   "cell_type": "code",
   "execution_count": 2,
   "metadata": {
    "kernel": "SoS"
   },
   "outputs": [],
   "source": [
    "import pandas as pd, numpy as np, matplotlib.pyplot as plt\n",
    "import os\n",
    "cwd = os.path.expanduser(\"/home/min/GIT/cnv-gene-mapping/data/deletion_simu\")\n",
    "# pipsum = pd.read_csv(f\"{cwd}/deletion.genes.block30.for_simu.sample.genes.varbvs.all.blocks.pip.sum.csv\", header = None, names = [pipsum\"])\n",
    "pipsum = pd.read_csv(f\"{cwd}/deletion.genes.block30.for_simu.sample.genes.block_0_7.SuSiE.L_1.susie.all.blocks.pip.sum.csv\", header = None, names = [\"pipsum\"])"
   ]
  },
  {
   "cell_type": "code",
   "execution_count": 3,
   "metadata": {
    "kernel": "SoS"
   },
   "outputs": [],
   "source": [
    "betas_all = pd.read_csv(f\"{cwd}/deletion.genes.block30.for_simu.sample.beta\", header = None, names = [\"beta\"])"
   ]
  },
  {
   "cell_type": "code",
   "execution_count": 4,
   "metadata": {
    "kernel": "SoS"
   },
   "outputs": [],
   "source": [
    "index = pd.read_csv(f\"{cwd}/deletion.genes.block30.for_simu.sample.block1.forsimu.index.csv\", header = None, names = [\"start\", \"end\"], sep = \"\\t\")"
   ]
  },
  {
   "cell_type": "code",
   "execution_count": 58,
   "metadata": {
    "kernel": "SoS"
   },
   "outputs": [
    {
     "data": {
      "text/html": [
       "<div>\n",
       "<style scoped>\n",
       "    .dataframe tbody tr th:only-of-type {\n",
       "        vertical-align: middle;\n",
       "    }\n",
       "\n",
       "    .dataframe tbody tr th {\n",
       "        vertical-align: top;\n",
       "    }\n",
       "\n",
       "    .dataframe thead th {\n",
       "        text-align: right;\n",
       "    }\n",
       "</style>\n",
       "<table border=\"1\" class=\"dataframe\">\n",
       "  <thead>\n",
       "    <tr style=\"text-align: right;\">\n",
       "      <th></th>\n",
       "      <th>start</th>\n",
       "      <th>end</th>\n",
       "    </tr>\n",
       "  </thead>\n",
       "  <tbody>\n",
       "    <tr>\n",
       "      <td>0</td>\n",
       "      <td>0</td>\n",
       "      <td>7</td>\n",
       "    </tr>\n",
       "    <tr>\n",
       "      <td>1</td>\n",
       "      <td>14</td>\n",
       "      <td>23</td>\n",
       "    </tr>\n",
       "    <tr>\n",
       "      <td>2</td>\n",
       "      <td>93</td>\n",
       "      <td>97</td>\n",
       "    </tr>\n",
       "    <tr>\n",
       "      <td>3</td>\n",
       "      <td>164</td>\n",
       "      <td>177</td>\n",
       "    </tr>\n",
       "    <tr>\n",
       "      <td>4</td>\n",
       "      <td>229</td>\n",
       "      <td>236</td>\n",
       "    </tr>\n",
       "    <tr>\n",
       "      <td>5</td>\n",
       "      <td>399</td>\n",
       "      <td>399</td>\n",
       "    </tr>\n",
       "    <tr>\n",
       "      <td>6</td>\n",
       "      <td>785</td>\n",
       "      <td>788</td>\n",
       "    </tr>\n",
       "    <tr>\n",
       "      <td>7</td>\n",
       "      <td>841</td>\n",
       "      <td>841</td>\n",
       "    </tr>\n",
       "    <tr>\n",
       "      <td>8</td>\n",
       "      <td>853</td>\n",
       "      <td>855</td>\n",
       "    </tr>\n",
       "    <tr>\n",
       "      <td>9</td>\n",
       "      <td>891</td>\n",
       "      <td>891</td>\n",
       "    </tr>\n",
       "  </tbody>\n",
       "</table>\n",
       "</div>"
      ],
      "text/plain": [
       "   start  end\n",
       "0      0    7\n",
       "1     14   23\n",
       "2     93   97\n",
       "3    164  177\n",
       "4    229  236\n",
       "5    399  399\n",
       "6    785  788\n",
       "7    841  841\n",
       "8    853  855\n",
       "9    891  891"
      ]
     },
     "execution_count": 58,
     "metadata": {},
     "output_type": "execute_result"
    }
   ],
   "source": [
    "index.head(10)"
   ]
  },
  {
   "cell_type": "code",
   "execution_count": 5,
   "metadata": {
    "kernel": "SoS"
   },
   "outputs": [],
   "source": [
    "pipsum[\"real\"] = [len([k for k in betas_all[\"beta\"].tolist()[i:j+1] if k > 0]) for i,j in zip(index[\"start\"], index[\"end\"])]"
   ]
  },
  {
   "cell_type": "code",
   "execution_count": 34,
   "metadata": {
    "kernel": "SoS"
   },
   "outputs": [
    {
     "data": {
      "text/plain": [
       "(527, 2)"
      ]
     },
     "execution_count": 34,
     "metadata": {},
     "output_type": "execute_result"
    }
   ],
   "source": [
    "pipsum.shape"
   ]
  },
  {
   "cell_type": "code",
   "execution_count": 108,
   "metadata": {
    "kernel": "SoS"
   },
   "outputs": [],
   "source": [
    "pips_varbvs = pd.read_csv(f\"{cwd}/deletion.genes.block30.for_simu.sample.genes.varbvs.all.blocks.pip.csv\", header = None, names = [\"pip_v\"])\n",
    "pips_susie = pd.read_csv(f\"{cwd}/deletion.genes.block30.for_simu.sample.genes.block_0_7.SuSiE.L_1.susie.all.blocks.pip.csv\", header = None, names = [\"pip_s\"])"
   ]
  },
  {
   "cell_type": "code",
   "execution_count": 109,
   "metadata": {
    "kernel": "SoS"
   },
   "outputs": [],
   "source": [
    "pips = pd.concat([pips_varbvs, pips_susie], axis=1)"
   ]
  },
  {
   "cell_type": "code",
   "execution_count": 110,
   "metadata": {
    "kernel": "SoS"
   },
   "outputs": [
    {
     "data": {
      "text/html": [
       "<div>\n",
       "<style scoped>\n",
       "    .dataframe tbody tr th:only-of-type {\n",
       "        vertical-align: middle;\n",
       "    }\n",
       "\n",
       "    .dataframe tbody tr th {\n",
       "        vertical-align: top;\n",
       "    }\n",
       "\n",
       "    .dataframe thead th {\n",
       "        text-align: right;\n",
       "    }\n",
       "</style>\n",
       "<table border=\"1\" class=\"dataframe\">\n",
       "  <thead>\n",
       "    <tr style=\"text-align: right;\">\n",
       "      <th></th>\n",
       "      <th>pip_v</th>\n",
       "      <th>pip_s</th>\n",
       "    </tr>\n",
       "  </thead>\n",
       "  <tbody>\n",
       "    <tr>\n",
       "      <td>0</td>\n",
       "      <td>0.072735</td>\n",
       "      <td>0.0</td>\n",
       "    </tr>\n",
       "    <tr>\n",
       "      <td>1</td>\n",
       "      <td>0.072734</td>\n",
       "      <td>0.0</td>\n",
       "    </tr>\n",
       "    <tr>\n",
       "      <td>2</td>\n",
       "      <td>0.072733</td>\n",
       "      <td>0.0</td>\n",
       "    </tr>\n",
       "    <tr>\n",
       "      <td>3</td>\n",
       "      <td>0.072733</td>\n",
       "      <td>0.0</td>\n",
       "    </tr>\n",
       "    <tr>\n",
       "      <td>4</td>\n",
       "      <td>0.072732</td>\n",
       "      <td>0.0</td>\n",
       "    </tr>\n",
       "  </tbody>\n",
       "</table>\n",
       "</div>"
      ],
      "text/plain": [
       "      pip_v  pip_s\n",
       "0  0.072735    0.0\n",
       "1  0.072734    0.0\n",
       "2  0.072733    0.0\n",
       "3  0.072733    0.0\n",
       "4  0.072732    0.0"
      ]
     },
     "execution_count": 110,
     "metadata": {},
     "output_type": "execute_result"
    }
   ],
   "source": [
    "pips.head()"
   ]
  },
  {
   "cell_type": "code",
   "execution_count": 111,
   "metadata": {
    "kernel": "SoS"
   },
   "outputs": [],
   "source": [
    "pips[\"beta\"] = [item for item in [k for sublist in [betas_all[\"beta\"].tolist()[i:j+1] for i,j in zip(index[\"start\"], index[\"end\"])] for k in sublist]]\n",
    "pips[\"effect\"] = [1 if item != 0 else 0 for item in [k for sublist in [betas_all[\"beta\"].tolist()[i:j+1] for i,j in zip(index[\"start\"], index[\"end\"])] for k in sublist]]"
   ]
  },
  {
   "cell_type": "code",
   "execution_count": 186,
   "metadata": {
    "kernel": "R"
   },
   "outputs": [],
   "source": [
    "s = 1018\n",
    "e = 1031"
   ]
  },
  {
   "cell_type": "code",
   "execution_count": 187,
   "metadata": {
    "kernel": "R"
   },
   "outputs": [],
   "source": [
    "susie = readRDS(paste(\"/home/min/GIT/cnv-gene-mapping/data/deletion_simu/block_\", s, \"_\", e, \"/deletion.genes.block30.for_simu.sample.genes.block_\", s, \"_\", e, \".SuSiE.L_1.prior_0p005.susie.rds\", sep = \"\"))"
   ]
  },
  {
   "cell_type": "code",
   "execution_count": 188,
   "metadata": {
    "kernel": "R"
   },
   "outputs": [
    {
     "data": {
      "text/html": [
       "<ol class=list-inline>\n",
       "\t<li>0.0414125943017912</li>\n",
       "\t<li>0.0414125943017912</li>\n",
       "\t<li>0.289975968087993</li>\n",
       "\t<li>0.0570180766644023</li>\n",
       "\t<li>0.0570180766644023</li>\n",
       "\t<li>0.0570180766644023</li>\n",
       "\t<li>0.0570180766644023</li>\n",
       "\t<li>0.0570180766644023</li>\n",
       "\t<li>0.0570180766644023</li>\n",
       "\t<li>0.0570180766644023</li>\n",
       "\t<li>0.0570180766644023</li>\n",
       "\t<li>0.0570180766644023</li>\n",
       "\t<li>0.0570180766644023</li>\n",
       "\t<li>0.0570180766644023</li>\n",
       "</ol>\n"
      ],
      "text/latex": [
       "\\begin{enumerate*}\n",
       "\\item 0.0414125943017912\n",
       "\\item 0.0414125943017912\n",
       "\\item 0.289975968087993\n",
       "\\item 0.0570180766644023\n",
       "\\item 0.0570180766644023\n",
       "\\item 0.0570180766644023\n",
       "\\item 0.0570180766644023\n",
       "\\item 0.0570180766644023\n",
       "\\item 0.0570180766644023\n",
       "\\item 0.0570180766644023\n",
       "\\item 0.0570180766644023\n",
       "\\item 0.0570180766644023\n",
       "\\item 0.0570180766644023\n",
       "\\item 0.0570180766644023\n",
       "\\end{enumerate*}\n"
      ],
      "text/markdown": [
       "1. 0.0414125943017912\n",
       "2. 0.0414125943017912\n",
       "3. 0.289975968087993\n",
       "4. 0.0570180766644023\n",
       "5. 0.0570180766644023\n",
       "6. 0.0570180766644023\n",
       "7. 0.0570180766644023\n",
       "8. 0.0570180766644023\n",
       "9. 0.0570180766644023\n",
       "10. 0.0570180766644023\n",
       "11. 0.0570180766644023\n",
       "12. 0.0570180766644023\n",
       "13. 0.0570180766644023\n",
       "14. 0.0570180766644023\n",
       "\n",
       "\n"
      ],
      "text/plain": [
       " [1] 0.04141259 0.04141259 0.28997597 0.05701808 0.05701808 0.05701808\n",
       " [7] 0.05701808 0.05701808 0.05701808 0.05701808 0.05701808 0.05701808\n",
       "[13] 0.05701808 0.05701808"
      ]
     },
     "metadata": {},
     "output_type": "display_data"
    }
   ],
   "source": [
    "susie$pip"
   ]
  },
  {
   "cell_type": "code",
   "execution_count": 190,
   "metadata": {
    "kernel": "R"
   },
   "outputs": [],
   "source": [
    "varbvs = readRDS(paste(\"/home/min/GIT/cnv-gene-mapping/data/deletion_simu/block_\", s, \"_\", e, \"/deletion.genes.block30.for_simu.sample.genes.block_\", s, \"_\", e, \".varbvs.rds\", sep = \"\"))"
   ]
  },
  {
   "cell_type": "code",
   "execution_count": 191,
   "metadata": {
    "kernel": "R"
   },
   "outputs": [
    {
     "data": {
      "text/html": [
       "<dl class=dl-horizontal>\n",
       "\t<dt>V1</dt>\n",
       "\t\t<dd>0.05000478430492</dd>\n",
       "\t<dt>V2</dt>\n",
       "\t\t<dd>0.050004846862358</dd>\n",
       "\t<dt>V3</dt>\n",
       "\t\t<dd>0.286056673351632</dd>\n",
       "\t<dt>V4</dt>\n",
       "\t\t<dd>0.0616684058224621</dd>\n",
       "\t<dt>V5</dt>\n",
       "\t\t<dd>0.061667427187113</dd>\n",
       "\t<dt>V6</dt>\n",
       "\t\t<dd>0.0616664277804144</dd>\n",
       "\t<dt>V7</dt>\n",
       "\t\t<dd>0.0616654284192911</dd>\n",
       "\t<dt>V8</dt>\n",
       "\t\t<dd>0.0616644489115419</dd>\n",
       "\t<dt>V9</dt>\n",
       "\t\t<dd>0.0616635076210608</dd>\n",
       "\t<dt>V10</dt>\n",
       "\t\t<dd>0.061662621066815</dd>\n",
       "\t<dt>V11</dt>\n",
       "\t\t<dd>0.0616618035457723</dd>\n",
       "\t<dt>V12</dt>\n",
       "\t\t<dd>0.0616610667706282</dd>\n",
       "\t<dt>V13</dt>\n",
       "\t\t<dd>0.0616604195137571</dd>\n",
       "\t<dt>V14</dt>\n",
       "\t\t<dd>0.0616598672492982</dd>\n",
       "</dl>\n"
      ],
      "text/latex": [
       "\\begin{description*}\n",
       "\\item[V1] 0.05000478430492\n",
       "\\item[V2] 0.050004846862358\n",
       "\\item[V3] 0.286056673351632\n",
       "\\item[V4] 0.0616684058224621\n",
       "\\item[V5] 0.061667427187113\n",
       "\\item[V6] 0.0616664277804144\n",
       "\\item[V7] 0.0616654284192911\n",
       "\\item[V8] 0.0616644489115419\n",
       "\\item[V9] 0.0616635076210608\n",
       "\\item[V10] 0.061662621066815\n",
       "\\item[V11] 0.0616618035457723\n",
       "\\item[V12] 0.0616610667706282\n",
       "\\item[V13] 0.0616604195137571\n",
       "\\item[V14] 0.0616598672492982\n",
       "\\end{description*}\n"
      ],
      "text/markdown": [
       "V1\n",
       ":   0.05000478430492V2\n",
       ":   0.050004846862358V3\n",
       ":   0.286056673351632V4\n",
       ":   0.0616684058224621V5\n",
       ":   0.061667427187113V6\n",
       ":   0.0616664277804144V7\n",
       ":   0.0616654284192911V8\n",
       ":   0.0616644489115419V9\n",
       ":   0.0616635076210608V10\n",
       ":   0.061662621066815V11\n",
       ":   0.0616618035457723V12\n",
       ":   0.0616610667706282V13\n",
       ":   0.0616604195137571V14\n",
       ":   0.0616598672492982\n",
       "\n"
      ],
      "text/plain": [
       "        V1         V2         V3         V4         V5         V6         V7 \n",
       "0.05000478 0.05000485 0.28605667 0.06166841 0.06166743 0.06166643 0.06166543 \n",
       "        V8         V9        V10        V11        V12        V13        V14 \n",
       "0.06166445 0.06166351 0.06166262 0.06166180 0.06166107 0.06166042 0.06165987 "
      ]
     },
     "metadata": {},
     "output_type": "display_data"
    }
   ],
   "source": [
    "varbvs$pip"
   ]
  },
  {
   "cell_type": "code",
   "execution_count": 112,
   "metadata": {
    "kernel": "SoS"
   },
   "outputs": [
    {
     "data": {
      "text/html": [
       "<div>\n",
       "<style scoped>\n",
       "    .dataframe tbody tr th:only-of-type {\n",
       "        vertical-align: middle;\n",
       "    }\n",
       "\n",
       "    .dataframe tbody tr th {\n",
       "        vertical-align: top;\n",
       "    }\n",
       "\n",
       "    .dataframe thead th {\n",
       "        text-align: right;\n",
       "    }\n",
       "</style>\n",
       "<table border=\"1\" class=\"dataframe\">\n",
       "  <thead>\n",
       "    <tr style=\"text-align: right;\">\n",
       "      <th></th>\n",
       "      <th>pip_v</th>\n",
       "      <th>pip_s</th>\n",
       "      <th>beta</th>\n",
       "      <th>effect</th>\n",
       "    </tr>\n",
       "  </thead>\n",
       "  <tbody>\n",
       "    <tr>\n",
       "      <td>0</td>\n",
       "      <td>0.072735</td>\n",
       "      <td>0.0</td>\n",
       "      <td>0.000000</td>\n",
       "      <td>0</td>\n",
       "    </tr>\n",
       "    <tr>\n",
       "      <td>1</td>\n",
       "      <td>0.072734</td>\n",
       "      <td>0.0</td>\n",
       "      <td>0.000000</td>\n",
       "      <td>0</td>\n",
       "    </tr>\n",
       "    <tr>\n",
       "      <td>2</td>\n",
       "      <td>0.072733</td>\n",
       "      <td>0.0</td>\n",
       "      <td>0.791109</td>\n",
       "      <td>1</td>\n",
       "    </tr>\n",
       "    <tr>\n",
       "      <td>3</td>\n",
       "      <td>0.072733</td>\n",
       "      <td>0.0</td>\n",
       "      <td>0.000000</td>\n",
       "      <td>0</td>\n",
       "    </tr>\n",
       "    <tr>\n",
       "      <td>4</td>\n",
       "      <td>0.072732</td>\n",
       "      <td>0.0</td>\n",
       "      <td>0.000000</td>\n",
       "      <td>0</td>\n",
       "    </tr>\n",
       "    <tr>\n",
       "      <td>...</td>\n",
       "      <td>...</td>\n",
       "      <td>...</td>\n",
       "      <td>...</td>\n",
       "      <td>...</td>\n",
       "    </tr>\n",
       "    <tr>\n",
       "      <td>423</td>\n",
       "      <td>0.223754</td>\n",
       "      <td>0.2</td>\n",
       "      <td>-0.000000</td>\n",
       "      <td>0</td>\n",
       "    </tr>\n",
       "    <tr>\n",
       "      <td>424</td>\n",
       "      <td>0.223792</td>\n",
       "      <td>0.2</td>\n",
       "      <td>0.000000</td>\n",
       "      <td>0</td>\n",
       "    </tr>\n",
       "    <tr>\n",
       "      <td>425</td>\n",
       "      <td>0.223857</td>\n",
       "      <td>0.2</td>\n",
       "      <td>1.643100</td>\n",
       "      <td>1</td>\n",
       "    </tr>\n",
       "    <tr>\n",
       "      <td>426</td>\n",
       "      <td>0.223914</td>\n",
       "      <td>0.2</td>\n",
       "      <td>0.000000</td>\n",
       "      <td>0</td>\n",
       "    </tr>\n",
       "    <tr>\n",
       "      <td>427</td>\n",
       "      <td>0.223937</td>\n",
       "      <td>0.2</td>\n",
       "      <td>0.000000</td>\n",
       "      <td>0</td>\n",
       "    </tr>\n",
       "  </tbody>\n",
       "</table>\n",
       "<p>428 rows × 4 columns</p>\n",
       "</div>"
      ],
      "text/plain": [
       "        pip_v  pip_s      beta  effect\n",
       "0    0.072735    0.0  0.000000       0\n",
       "1    0.072734    0.0  0.000000       0\n",
       "2    0.072733    0.0  0.791109       1\n",
       "3    0.072733    0.0  0.000000       0\n",
       "4    0.072732    0.0  0.000000       0\n",
       "..        ...    ...       ...     ...\n",
       "423  0.223754    0.2 -0.000000       0\n",
       "424  0.223792    0.2  0.000000       0\n",
       "425  0.223857    0.2  1.643100       1\n",
       "426  0.223914    0.2  0.000000       0\n",
       "427  0.223937    0.2  0.000000       0\n",
       "\n",
       "[428 rows x 4 columns]"
      ]
     },
     "execution_count": 112,
     "metadata": {},
     "output_type": "execute_result"
    }
   ],
   "source": [
    "pips.head(428)"
   ]
  },
  {
   "cell_type": "code",
   "execution_count": 62,
   "metadata": {
    "kernel": "SoS"
   },
   "outputs": [
    {
     "data": {
      "text/html": [
       "<div>\n",
       "<style scoped>\n",
       "    .dataframe tbody tr th:only-of-type {\n",
       "        vertical-align: middle;\n",
       "    }\n",
       "\n",
       "    .dataframe tbody tr th {\n",
       "        vertical-align: top;\n",
       "    }\n",
       "\n",
       "    .dataframe thead th {\n",
       "        text-align: right;\n",
       "    }\n",
       "</style>\n",
       "<table border=\"1\" class=\"dataframe\">\n",
       "  <thead>\n",
       "    <tr style=\"text-align: right;\">\n",
       "      <th></th>\n",
       "      <th>pip</th>\n",
       "      <th>effect</th>\n",
       "      <th>beta</th>\n",
       "    </tr>\n",
       "  </thead>\n",
       "  <tbody>\n",
       "    <tr>\n",
       "      <td>2</td>\n",
       "      <td>0.000000e+00</td>\n",
       "      <td>1</td>\n",
       "      <td>0.791109</td>\n",
       "    </tr>\n",
       "    <tr>\n",
       "      <td>23</td>\n",
       "      <td>3.554002e-11</td>\n",
       "      <td>1</td>\n",
       "      <td>0.985360</td>\n",
       "    </tr>\n",
       "    <tr>\n",
       "      <td>25</td>\n",
       "      <td>2.000000e-01</td>\n",
       "      <td>1</td>\n",
       "      <td>1.754288</td>\n",
       "    </tr>\n",
       "    <tr>\n",
       "      <td>28</td>\n",
       "      <td>2.000000e-01</td>\n",
       "      <td>1</td>\n",
       "      <td>0.010811</td>\n",
       "    </tr>\n",
       "    <tr>\n",
       "      <td>34</td>\n",
       "      <td>0.000000e+00</td>\n",
       "      <td>1</td>\n",
       "      <td>0.173688</td>\n",
       "    </tr>\n",
       "    <tr>\n",
       "      <td>91</td>\n",
       "      <td>0.000000e+00</td>\n",
       "      <td>1</td>\n",
       "      <td>0.621799</td>\n",
       "    </tr>\n",
       "    <tr>\n",
       "      <td>108</td>\n",
       "      <td>0.000000e+00</td>\n",
       "      <td>1</td>\n",
       "      <td>0.957889</td>\n",
       "    </tr>\n",
       "    <tr>\n",
       "      <td>145</td>\n",
       "      <td>0.000000e+00</td>\n",
       "      <td>1</td>\n",
       "      <td>1.057356</td>\n",
       "    </tr>\n",
       "    <tr>\n",
       "      <td>160</td>\n",
       "      <td>0.000000e+00</td>\n",
       "      <td>1</td>\n",
       "      <td>0.945642</td>\n",
       "    </tr>\n",
       "    <tr>\n",
       "      <td>249</td>\n",
       "      <td>0.000000e+00</td>\n",
       "      <td>1</td>\n",
       "      <td>0.816182</td>\n",
       "    </tr>\n",
       "    <tr>\n",
       "      <td>262</td>\n",
       "      <td>1.000000e+00</td>\n",
       "      <td>1</td>\n",
       "      <td>1.834466</td>\n",
       "    </tr>\n",
       "    <tr>\n",
       "      <td>272</td>\n",
       "      <td>8.151442e-02</td>\n",
       "      <td>1</td>\n",
       "      <td>0.924102</td>\n",
       "    </tr>\n",
       "    <tr>\n",
       "      <td>273</td>\n",
       "      <td>8.151442e-02</td>\n",
       "      <td>1</td>\n",
       "      <td>1.211900</td>\n",
       "    </tr>\n",
       "    <tr>\n",
       "      <td>293</td>\n",
       "      <td>5.826409e-02</td>\n",
       "      <td>1</td>\n",
       "      <td>1.663527</td>\n",
       "    </tr>\n",
       "    <tr>\n",
       "      <td>347</td>\n",
       "      <td>0.000000e+00</td>\n",
       "      <td>1</td>\n",
       "      <td>1.538067</td>\n",
       "    </tr>\n",
       "    <tr>\n",
       "      <td>355</td>\n",
       "      <td>0.000000e+00</td>\n",
       "      <td>1</td>\n",
       "      <td>0.767198</td>\n",
       "    </tr>\n",
       "    <tr>\n",
       "      <td>358</td>\n",
       "      <td>1.000000e+00</td>\n",
       "      <td>1</td>\n",
       "      <td>0.230637</td>\n",
       "    </tr>\n",
       "    <tr>\n",
       "      <td>369</td>\n",
       "      <td>1.000000e-01</td>\n",
       "      <td>1</td>\n",
       "      <td>1.597756</td>\n",
       "    </tr>\n",
       "    <tr>\n",
       "      <td>375</td>\n",
       "      <td>0.000000e+00</td>\n",
       "      <td>1</td>\n",
       "      <td>-0.110630</td>\n",
       "    </tr>\n",
       "    <tr>\n",
       "      <td>397</td>\n",
       "      <td>2.666116e-02</td>\n",
       "      <td>1</td>\n",
       "      <td>0.661771</td>\n",
       "    </tr>\n",
       "    <tr>\n",
       "      <td>417</td>\n",
       "      <td>2.666116e-02</td>\n",
       "      <td>1</td>\n",
       "      <td>0.881230</td>\n",
       "    </tr>\n",
       "    <tr>\n",
       "      <td>425</td>\n",
       "      <td>2.000000e-01</td>\n",
       "      <td>1</td>\n",
       "      <td>1.643100</td>\n",
       "    </tr>\n",
       "    <tr>\n",
       "      <td>449</td>\n",
       "      <td>0.000000e+00</td>\n",
       "      <td>1</td>\n",
       "      <td>0.915124</td>\n",
       "    </tr>\n",
       "    <tr>\n",
       "      <td>517</td>\n",
       "      <td>5.000000e-01</td>\n",
       "      <td>1</td>\n",
       "      <td>1.330594</td>\n",
       "    </tr>\n",
       "    <tr>\n",
       "      <td>564</td>\n",
       "      <td>4.999972e-02</td>\n",
       "      <td>1</td>\n",
       "      <td>2.034686</td>\n",
       "    </tr>\n",
       "    <tr>\n",
       "      <td>570</td>\n",
       "      <td>4.999972e-02</td>\n",
       "      <td>1</td>\n",
       "      <td>0.846691</td>\n",
       "    </tr>\n",
       "    <tr>\n",
       "      <td>576</td>\n",
       "      <td>4.999972e-02</td>\n",
       "      <td>1</td>\n",
       "      <td>0.710309</td>\n",
       "    </tr>\n",
       "    <tr>\n",
       "      <td>596</td>\n",
       "      <td>0.000000e+00</td>\n",
       "      <td>1</td>\n",
       "      <td>0.829328</td>\n",
       "    </tr>\n",
       "    <tr>\n",
       "      <td>612</td>\n",
       "      <td>0.000000e+00</td>\n",
       "      <td>1</td>\n",
       "      <td>1.430204</td>\n",
       "    </tr>\n",
       "    <tr>\n",
       "      <td>635</td>\n",
       "      <td>5.000000e-01</td>\n",
       "      <td>1</td>\n",
       "      <td>1.362473</td>\n",
       "    </tr>\n",
       "    <tr>\n",
       "      <td>670</td>\n",
       "      <td>5.000000e-01</td>\n",
       "      <td>1</td>\n",
       "      <td>1.286499</td>\n",
       "    </tr>\n",
       "    <tr>\n",
       "      <td>671</td>\n",
       "      <td>5.000000e-01</td>\n",
       "      <td>1</td>\n",
       "      <td>0.537448</td>\n",
       "    </tr>\n",
       "    <tr>\n",
       "      <td>677</td>\n",
       "      <td>5.275780e-13</td>\n",
       "      <td>1</td>\n",
       "      <td>0.983327</td>\n",
       "    </tr>\n",
       "    <tr>\n",
       "      <td>741</td>\n",
       "      <td>8.172701e-01</td>\n",
       "      <td>1</td>\n",
       "      <td>0.980605</td>\n",
       "    </tr>\n",
       "    <tr>\n",
       "      <td>758</td>\n",
       "      <td>1.428571e-01</td>\n",
       "      <td>1</td>\n",
       "      <td>0.334135</td>\n",
       "    </tr>\n",
       "    <tr>\n",
       "      <td>759</td>\n",
       "      <td>1.428571e-01</td>\n",
       "      <td>1</td>\n",
       "      <td>1.470975</td>\n",
       "    </tr>\n",
       "    <tr>\n",
       "      <td>762</td>\n",
       "      <td>5.000000e-01</td>\n",
       "      <td>1</td>\n",
       "      <td>0.990921</td>\n",
       "    </tr>\n",
       "    <tr>\n",
       "      <td>780</td>\n",
       "      <td>9.005711e-01</td>\n",
       "      <td>1</td>\n",
       "      <td>1.226331</td>\n",
       "    </tr>\n",
       "    <tr>\n",
       "      <td>795</td>\n",
       "      <td>1.000000e-01</td>\n",
       "      <td>1</td>\n",
       "      <td>1.808548</td>\n",
       "    </tr>\n",
       "    <tr>\n",
       "      <td>825</td>\n",
       "      <td>1.000000e+00</td>\n",
       "      <td>1</td>\n",
       "      <td>1.198930</td>\n",
       "    </tr>\n",
       "    <tr>\n",
       "      <td>845</td>\n",
       "      <td>3.333333e-02</td>\n",
       "      <td>1</td>\n",
       "      <td>0.745585</td>\n",
       "    </tr>\n",
       "    <tr>\n",
       "      <td>858</td>\n",
       "      <td>3.333333e-02</td>\n",
       "      <td>1</td>\n",
       "      <td>1.448067</td>\n",
       "    </tr>\n",
       "    <tr>\n",
       "      <td>877</td>\n",
       "      <td>3.333333e-01</td>\n",
       "      <td>1</td>\n",
       "      <td>0.502539</td>\n",
       "    </tr>\n",
       "    <tr>\n",
       "      <td>904</td>\n",
       "      <td>6.226122e-02</td>\n",
       "      <td>1</td>\n",
       "      <td>1.923951</td>\n",
       "    </tr>\n",
       "    <tr>\n",
       "      <td>908</td>\n",
       "      <td>6.226122e-02</td>\n",
       "      <td>1</td>\n",
       "      <td>1.485713</td>\n",
       "    </tr>\n",
       "    <tr>\n",
       "      <td>932</td>\n",
       "      <td>1.250000e-01</td>\n",
       "      <td>1</td>\n",
       "      <td>0.959896</td>\n",
       "    </tr>\n",
       "    <tr>\n",
       "      <td>962</td>\n",
       "      <td>0.000000e+00</td>\n",
       "      <td>1</td>\n",
       "      <td>0.656905</td>\n",
       "    </tr>\n",
       "    <tr>\n",
       "      <td>980</td>\n",
       "      <td>1.000000e+00</td>\n",
       "      <td>1</td>\n",
       "      <td>1.744738</td>\n",
       "    </tr>\n",
       "    <tr>\n",
       "      <td>1009</td>\n",
       "      <td>2.500000e-01</td>\n",
       "      <td>1</td>\n",
       "      <td>2.174273</td>\n",
       "    </tr>\n",
       "    <tr>\n",
       "      <td>1020</td>\n",
       "      <td>2.899760e-01</td>\n",
       "      <td>1</td>\n",
       "      <td>0.605252</td>\n",
       "    </tr>\n",
       "  </tbody>\n",
       "</table>\n",
       "</div>"
      ],
      "text/plain": [
       "               pip  effect      beta\n",
       "2     0.000000e+00       1  0.791109\n",
       "23    3.554002e-11       1  0.985360\n",
       "25    2.000000e-01       1  1.754288\n",
       "28    2.000000e-01       1  0.010811\n",
       "34    0.000000e+00       1  0.173688\n",
       "91    0.000000e+00       1  0.621799\n",
       "108   0.000000e+00       1  0.957889\n",
       "145   0.000000e+00       1  1.057356\n",
       "160   0.000000e+00       1  0.945642\n",
       "249   0.000000e+00       1  0.816182\n",
       "262   1.000000e+00       1  1.834466\n",
       "272   8.151442e-02       1  0.924102\n",
       "273   8.151442e-02       1  1.211900\n",
       "293   5.826409e-02       1  1.663527\n",
       "347   0.000000e+00       1  1.538067\n",
       "355   0.000000e+00       1  0.767198\n",
       "358   1.000000e+00       1  0.230637\n",
       "369   1.000000e-01       1  1.597756\n",
       "375   0.000000e+00       1 -0.110630\n",
       "397   2.666116e-02       1  0.661771\n",
       "417   2.666116e-02       1  0.881230\n",
       "425   2.000000e-01       1  1.643100\n",
       "449   0.000000e+00       1  0.915124\n",
       "517   5.000000e-01       1  1.330594\n",
       "564   4.999972e-02       1  2.034686\n",
       "570   4.999972e-02       1  0.846691\n",
       "576   4.999972e-02       1  0.710309\n",
       "596   0.000000e+00       1  0.829328\n",
       "612   0.000000e+00       1  1.430204\n",
       "635   5.000000e-01       1  1.362473\n",
       "670   5.000000e-01       1  1.286499\n",
       "671   5.000000e-01       1  0.537448\n",
       "677   5.275780e-13       1  0.983327\n",
       "741   8.172701e-01       1  0.980605\n",
       "758   1.428571e-01       1  0.334135\n",
       "759   1.428571e-01       1  1.470975\n",
       "762   5.000000e-01       1  0.990921\n",
       "780   9.005711e-01       1  1.226331\n",
       "795   1.000000e-01       1  1.808548\n",
       "825   1.000000e+00       1  1.198930\n",
       "845   3.333333e-02       1  0.745585\n",
       "858   3.333333e-02       1  1.448067\n",
       "877   3.333333e-01       1  0.502539\n",
       "904   6.226122e-02       1  1.923951\n",
       "908   6.226122e-02       1  1.485713\n",
       "932   1.250000e-01       1  0.959896\n",
       "962   0.000000e+00       1  0.656905\n",
       "980   1.000000e+00       1  1.744738\n",
       "1009  2.500000e-01       1  2.174273\n",
       "1020  2.899760e-01       1  0.605252"
      ]
     },
     "execution_count": 62,
     "metadata": {},
     "output_type": "execute_result"
    }
   ],
   "source": [
    "pips[pips[\"beta\"] != 0].head(50)"
   ]
  },
  {
   "cell_type": "markdown",
   "metadata": {
    "kernel": "SoS"
   },
   "source": [
    "### FDR"
   ]
  },
  {
   "cell_type": "code",
   "execution_count": 45,
   "metadata": {
    "kernel": "SoS"
   },
   "outputs": [],
   "source": [
    "pips_cutoff = pips[pips[\"pip\"] > 0]"
   ]
  },
  {
   "cell_type": "code",
   "execution_count": 28,
   "metadata": {
    "kernel": "SoS"
   },
   "outputs": [
    {
     "data": {
      "text/html": [
       "<div>\n",
       "<style scoped>\n",
       "    .dataframe tbody tr th:only-of-type {\n",
       "        vertical-align: middle;\n",
       "    }\n",
       "\n",
       "    .dataframe tbody tr th {\n",
       "        vertical-align: top;\n",
       "    }\n",
       "\n",
       "    .dataframe thead th {\n",
       "        text-align: right;\n",
       "    }\n",
       "</style>\n",
       "<table border=\"1\" class=\"dataframe\">\n",
       "  <thead>\n",
       "    <tr style=\"text-align: right;\">\n",
       "      <th></th>\n",
       "      <th>pip</th>\n",
       "      <th>effect</th>\n",
       "    </tr>\n",
       "  </thead>\n",
       "  <tbody>\n",
       "    <tr>\n",
       "      <td>23</td>\n",
       "      <td>3.554002e-11</td>\n",
       "      <td>1</td>\n",
       "    </tr>\n",
       "    <tr>\n",
       "      <td>24</td>\n",
       "      <td>2.000000e-01</td>\n",
       "      <td>0</td>\n",
       "    </tr>\n",
       "    <tr>\n",
       "      <td>25</td>\n",
       "      <td>2.000000e-01</td>\n",
       "      <td>1</td>\n",
       "    </tr>\n",
       "    <tr>\n",
       "      <td>26</td>\n",
       "      <td>2.000000e-01</td>\n",
       "      <td>0</td>\n",
       "    </tr>\n",
       "    <tr>\n",
       "      <td>27</td>\n",
       "      <td>2.000000e-01</td>\n",
       "      <td>0</td>\n",
       "    </tr>\n",
       "    <tr>\n",
       "      <td>28</td>\n",
       "      <td>2.000000e-01</td>\n",
       "      <td>1</td>\n",
       "    </tr>\n",
       "    <tr>\n",
       "      <td>50</td>\n",
       "      <td>1.000000e+00</td>\n",
       "      <td>0</td>\n",
       "    </tr>\n",
       "    <tr>\n",
       "      <td>72</td>\n",
       "      <td>3.333333e-01</td>\n",
       "      <td>0</td>\n",
       "    </tr>\n",
       "    <tr>\n",
       "      <td>73</td>\n",
       "      <td>3.333333e-01</td>\n",
       "      <td>0</td>\n",
       "    </tr>\n",
       "    <tr>\n",
       "      <td>74</td>\n",
       "      <td>3.333333e-01</td>\n",
       "      <td>0</td>\n",
       "    </tr>\n",
       "    <tr>\n",
       "      <td>172</td>\n",
       "      <td>1.000000e+00</td>\n",
       "      <td>0</td>\n",
       "    </tr>\n",
       "    <tr>\n",
       "      <td>175</td>\n",
       "      <td>5.000000e-01</td>\n",
       "      <td>0</td>\n",
       "    </tr>\n",
       "    <tr>\n",
       "      <td>176</td>\n",
       "      <td>5.000000e-01</td>\n",
       "      <td>0</td>\n",
       "    </tr>\n",
       "    <tr>\n",
       "      <td>177</td>\n",
       "      <td>1.000000e+00</td>\n",
       "      <td>0</td>\n",
       "    </tr>\n",
       "    <tr>\n",
       "      <td>183</td>\n",
       "      <td>1.000000e+00</td>\n",
       "      <td>0</td>\n",
       "    </tr>\n",
       "    <tr>\n",
       "      <td>207</td>\n",
       "      <td>1.823430e-01</td>\n",
       "      <td>0</td>\n",
       "    </tr>\n",
       "    <tr>\n",
       "      <td>208</td>\n",
       "      <td>6.749375e-02</td>\n",
       "      <td>0</td>\n",
       "    </tr>\n",
       "    <tr>\n",
       "      <td>209</td>\n",
       "      <td>8.483364e-02</td>\n",
       "      <td>0</td>\n",
       "    </tr>\n",
       "    <tr>\n",
       "      <td>210</td>\n",
       "      <td>1.030262e-01</td>\n",
       "      <td>0</td>\n",
       "    </tr>\n",
       "    <tr>\n",
       "      <td>211</td>\n",
       "      <td>1.030262e-01</td>\n",
       "      <td>0</td>\n",
       "    </tr>\n",
       "    <tr>\n",
       "      <td>212</td>\n",
       "      <td>6.590513e-02</td>\n",
       "      <td>0</td>\n",
       "    </tr>\n",
       "    <tr>\n",
       "      <td>213</td>\n",
       "      <td>1.311240e-01</td>\n",
       "      <td>0</td>\n",
       "    </tr>\n",
       "    <tr>\n",
       "      <td>214</td>\n",
       "      <td>1.311240e-01</td>\n",
       "      <td>0</td>\n",
       "    </tr>\n",
       "    <tr>\n",
       "      <td>215</td>\n",
       "      <td>1.311240e-01</td>\n",
       "      <td>0</td>\n",
       "    </tr>\n",
       "    <tr>\n",
       "      <td>216</td>\n",
       "      <td>4.517063e-02</td>\n",
       "      <td>0</td>\n",
       "    </tr>\n",
       "    <tr>\n",
       "      <td>217</td>\n",
       "      <td>4.517063e-02</td>\n",
       "      <td>0</td>\n",
       "    </tr>\n",
       "    <tr>\n",
       "      <td>218</td>\n",
       "      <td>4.517063e-02</td>\n",
       "      <td>0</td>\n",
       "    </tr>\n",
       "    <tr>\n",
       "      <td>219</td>\n",
       "      <td>4.517063e-02</td>\n",
       "      <td>0</td>\n",
       "    </tr>\n",
       "    <tr>\n",
       "      <td>220</td>\n",
       "      <td>4.517063e-02</td>\n",
       "      <td>0</td>\n",
       "    </tr>\n",
       "    <tr>\n",
       "      <td>221</td>\n",
       "      <td>4.964926e-02</td>\n",
       "      <td>0</td>\n",
       "    </tr>\n",
       "    <tr>\n",
       "      <td>222</td>\n",
       "      <td>4.964926e-02</td>\n",
       "      <td>0</td>\n",
       "    </tr>\n",
       "    <tr>\n",
       "      <td>223</td>\n",
       "      <td>4.964926e-02</td>\n",
       "      <td>0</td>\n",
       "    </tr>\n",
       "    <tr>\n",
       "      <td>224</td>\n",
       "      <td>4.964926e-02</td>\n",
       "      <td>0</td>\n",
       "    </tr>\n",
       "    <tr>\n",
       "      <td>225</td>\n",
       "      <td>1.136387e-01</td>\n",
       "      <td>0</td>\n",
       "    </tr>\n",
       "    <tr>\n",
       "      <td>226</td>\n",
       "      <td>1.009196e-01</td>\n",
       "      <td>0</td>\n",
       "    </tr>\n",
       "    <tr>\n",
       "      <td>227</td>\n",
       "      <td>2.600720e-01</td>\n",
       "      <td>0</td>\n",
       "    </tr>\n",
       "    <tr>\n",
       "      <td>228</td>\n",
       "      <td>1.009196e-01</td>\n",
       "      <td>0</td>\n",
       "    </tr>\n",
       "    <tr>\n",
       "      <td>235</td>\n",
       "      <td>3.333333e-01</td>\n",
       "      <td>0</td>\n",
       "    </tr>\n",
       "    <tr>\n",
       "      <td>236</td>\n",
       "      <td>3.333333e-01</td>\n",
       "      <td>0</td>\n",
       "    </tr>\n",
       "    <tr>\n",
       "      <td>237</td>\n",
       "      <td>3.333333e-01</td>\n",
       "      <td>0</td>\n",
       "    </tr>\n",
       "    <tr>\n",
       "      <td>239</td>\n",
       "      <td>2.198043e-01</td>\n",
       "      <td>0</td>\n",
       "    </tr>\n",
       "    <tr>\n",
       "      <td>240</td>\n",
       "      <td>7.801957e-01</td>\n",
       "      <td>0</td>\n",
       "    </tr>\n",
       "    <tr>\n",
       "      <td>241</td>\n",
       "      <td>6.550735e-01</td>\n",
       "      <td>0</td>\n",
       "    </tr>\n",
       "    <tr>\n",
       "      <td>242</td>\n",
       "      <td>2.391489e-01</td>\n",
       "      <td>0</td>\n",
       "    </tr>\n",
       "    <tr>\n",
       "      <td>243</td>\n",
       "      <td>1.057776e-01</td>\n",
       "      <td>0</td>\n",
       "    </tr>\n",
       "    <tr>\n",
       "      <td>253</td>\n",
       "      <td>1.000000e+00</td>\n",
       "      <td>0</td>\n",
       "    </tr>\n",
       "    <tr>\n",
       "      <td>262</td>\n",
       "      <td>1.000000e+00</td>\n",
       "      <td>1</td>\n",
       "    </tr>\n",
       "    <tr>\n",
       "      <td>264</td>\n",
       "      <td>8.151442e-02</td>\n",
       "      <td>0</td>\n",
       "    </tr>\n",
       "    <tr>\n",
       "      <td>265</td>\n",
       "      <td>2.332250e-02</td>\n",
       "      <td>0</td>\n",
       "    </tr>\n",
       "    <tr>\n",
       "      <td>266</td>\n",
       "      <td>2.332250e-02</td>\n",
       "      <td>0</td>\n",
       "    </tr>\n",
       "  </tbody>\n",
       "</table>\n",
       "</div>"
      ],
      "text/plain": [
       "              pip  effect\n",
       "23   3.554002e-11       1\n",
       "24   2.000000e-01       0\n",
       "25   2.000000e-01       1\n",
       "26   2.000000e-01       0\n",
       "27   2.000000e-01       0\n",
       "28   2.000000e-01       1\n",
       "50   1.000000e+00       0\n",
       "72   3.333333e-01       0\n",
       "73   3.333333e-01       0\n",
       "74   3.333333e-01       0\n",
       "172  1.000000e+00       0\n",
       "175  5.000000e-01       0\n",
       "176  5.000000e-01       0\n",
       "177  1.000000e+00       0\n",
       "183  1.000000e+00       0\n",
       "207  1.823430e-01       0\n",
       "208  6.749375e-02       0\n",
       "209  8.483364e-02       0\n",
       "210  1.030262e-01       0\n",
       "211  1.030262e-01       0\n",
       "212  6.590513e-02       0\n",
       "213  1.311240e-01       0\n",
       "214  1.311240e-01       0\n",
       "215  1.311240e-01       0\n",
       "216  4.517063e-02       0\n",
       "217  4.517063e-02       0\n",
       "218  4.517063e-02       0\n",
       "219  4.517063e-02       0\n",
       "220  4.517063e-02       0\n",
       "221  4.964926e-02       0\n",
       "222  4.964926e-02       0\n",
       "223  4.964926e-02       0\n",
       "224  4.964926e-02       0\n",
       "225  1.136387e-01       0\n",
       "226  1.009196e-01       0\n",
       "227  2.600720e-01       0\n",
       "228  1.009196e-01       0\n",
       "235  3.333333e-01       0\n",
       "236  3.333333e-01       0\n",
       "237  3.333333e-01       0\n",
       "239  2.198043e-01       0\n",
       "240  7.801957e-01       0\n",
       "241  6.550735e-01       0\n",
       "242  2.391489e-01       0\n",
       "243  1.057776e-01       0\n",
       "253  1.000000e+00       0\n",
       "262  1.000000e+00       1\n",
       "264  8.151442e-02       0\n",
       "265  2.332250e-02       0\n",
       "266  2.332250e-02       0"
      ]
     },
     "execution_count": 28,
     "metadata": {},
     "output_type": "execute_result"
    }
   ],
   "source": [
    "pips_cutoff.head(50)"
   ]
  },
  {
   "cell_type": "code",
   "execution_count": 29,
   "metadata": {
    "kernel": "SoS"
   },
   "outputs": [
    {
     "data": {
      "text/plain": [
       "(961, 2)"
      ]
     },
     "execution_count": 29,
     "metadata": {},
     "output_type": "execute_result"
    }
   ],
   "source": [
    "pips_cutoff.shape"
   ]
  },
  {
   "cell_type": "code",
   "execution_count": 30,
   "metadata": {
    "kernel": "SoS"
   },
   "outputs": [
    {
     "data": {
      "text/plain": [
       "86"
      ]
     },
     "execution_count": 30,
     "metadata": {},
     "output_type": "execute_result"
    }
   ],
   "source": [
    "sum(pips_cutoff[\"effect\"])"
   ]
  },
  {
   "cell_type": "code",
   "execution_count": 31,
   "metadata": {
    "kernel": "SoS"
   },
   "outputs": [
    {
     "data": {
      "text/plain": [
       "0.9105098855359001"
      ]
     },
     "execution_count": 31,
     "metadata": {},
     "output_type": "execute_result"
    }
   ],
   "source": [
    "(pips_cutoff.shape[0] - sum(pips_cutoff[\"effect\"])) / pips_cutoff.shape[0]"
   ]
  },
  {
   "cell_type": "markdown",
   "metadata": {
    "kernel": "SoS"
   },
   "source": [
    "### Power"
   ]
  },
  {
   "cell_type": "code",
   "execution_count": 32,
   "metadata": {
    "kernel": "SoS"
   },
   "outputs": [
    {
     "data": {
      "text/plain": [
       "0.7166666666666667"
      ]
     },
     "execution_count": 32,
     "metadata": {},
     "output_type": "execute_result"
    }
   ],
   "source": [
    "pips_cutoff[pips_cutoff[\"effect\"] == 1].shape[0] / sum(pips[\"effect\"])"
   ]
  },
  {
   "cell_type": "code",
   "execution_count": 33,
   "metadata": {
    "kernel": "SoS"
   },
   "outputs": [
    {
     "data": {
      "text/plain": [
       "(86, 2)"
      ]
     },
     "execution_count": 33,
     "metadata": {},
     "output_type": "execute_result"
    }
   ],
   "source": [
    "pips_cutoff[pips_cutoff[\"effect\"] == 1].shape"
   ]
  },
  {
   "cell_type": "code",
   "execution_count": null,
   "metadata": {
    "kernel": "SoS"
   },
   "outputs": [],
   "source": []
  },
  {
   "cell_type": "code",
   "execution_count": 31,
   "metadata": {
    "kernel": "SoS"
   },
   "outputs": [
    {
     "data": {
      "image/png": "[encoded data removed]",
      "text/plain": [
       "<Figure size 432x432 with 1 Axes>"
      ]
     },
     "metadata": {
      "needs_background": "light"
     },
     "output_type": "display_data"
    }
   ],
   "source": [
    "%matplotlib inline\n",
    "fig, ax = plt.subplots(figsize = (6,6))\n",
    "plt.hist(pipsum[\"pipsum\"].tolist(), bins = 9)\n",
    "plt.show()"
   ]
  },
  {
   "cell_type": "code",
   "execution_count": 30,
   "metadata": {
    "kernel": "SoS"
   },
   "outputs": [
    {
     "data": {
      "text/plain": [
       "Text(0.5, 1.0, 'Histogram of number of genes in blocks')"
      ]
     },
     "execution_count": 30,
     "metadata": {},
     "output_type": "execute_result"
    },
    {
     "data": {
      "image/png": "[encoded data removed]",
      "text/plain": [
       "<Figure size 576x432 with 1 Axes>"
      ]
     },
     "metadata": {
      "needs_background": "light"
     },
     "output_type": "display_data"
    }
   ],
   "source": [
    "counts = {i: pipsum[\"real\"].tolist().count(i) for i in set(pipsum[\"real\"].tolist())}\n",
    "fig, ax = plt.subplots(figsize = (8,6))\n",
    "plt.bar(list(counts.keys()), list(counts.values()), width = 0.6)\n",
    "ax.set_title(\"Histogram of number of genes in blocks\")"
   ]
  },
  {
   "cell_type": "code",
   "execution_count": null,
   "metadata": {
    "kernel": "SoS"
   },
   "outputs": [],
   "source": []
  }
 ],
 "metadata": {
  "kernelspec": {
   "display_name": "SoS",
   "language": "sos",
   "name": "sos"
  },
  "language_info": {
   "codemirror_mode": "sos",
   "file_extension": ".sos",
   "mimetype": "text/x-sos",
   "name": "sos",
   "nbconvert_exporter": "sos_notebook.converter.SoS_Exporter",
   "pygments_lexer": "sos"
  },
  "sos": {
   "kernels": [
    [
     "R",
     "ir",
     "R",
     "#DCDCDA",
     "r"
    ],
    [
     "SoS",
     "sos",
     "",
     "",
     "sos"
    ]
   ],
   "version": "0.20.5"
  }
 },
 "nbformat": 4,
 "nbformat_minor": 4
}
