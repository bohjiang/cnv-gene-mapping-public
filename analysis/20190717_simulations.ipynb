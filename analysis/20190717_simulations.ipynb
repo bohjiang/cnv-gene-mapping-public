{
 "cells": [
  {
   "cell_type": "markdown",
   "metadata": {
    "kernel": "SoS"
   },
   "source": [
    "# Copy model simulation and analysis"
   ]
  },
  {
   "cell_type": "markdown",
   "metadata": {
    "kernel": "SoS"
   },
   "source": [
    "## Run this workflow\n",
    "### Simulation:\n",
    "```\n",
    "sos run dsc/20190717_workflow.ipynb simulate:1-5 --n_gene_in_block 30 --shape 1 --scale 0.5 -s build\n",
    "```\n",
    "$\\pi_0*\\delta + (1-\\pi_0)* \\text{N} (0, 1)$, shape = 0, scale = 1, to test `varbvs`\n",
    "```\n",
    "sos run dsc/20190717_workflow.ipynb simulate:1-5 --n_gene_in_block 30 --shape 0 --scale 1 -s build\n",
    "```\n",
    "### Get histogram\n",
    "- For simulation\n",
    "\n",
    "```\n",
    "sos run dsc/20190717_workflow.ipynb get_hist:1-2 --genotype_file /home/min/GIT/cnv-gene-mapping/data/deletion_simu/deletion.genes.block30.for_simu.sample.X.gz \\\n",
    "--n_gene_in_block 1 -s build\n",
    "```\n",
    "- For real data\n",
    "\n",
    "```\n",
    "sos run dsc/20190717_workflow.ipynb get_hist:1-2 --n_gene_in_block 1 -s build\n",
    "```\n",
    "\n",
    "### Analyze\n",
    "```\n",
    "sos run dsc/20190717_workflow.ipynb susie:1-3 --genotype_file /home/min/GIT/cnv-gene-mapping/data/deletion_simu/deletion.genes.block30.for_simu.sample.X.gz \\\n",
    "--phenotype_file /home/min/GIT/cnv-gene-mapping/data/deletion_simu/deletion.genes.block30.for_simu.sample.y --n_gene_in_block 1 -s build\n",
    "```\n",
    "```\n",
    "sos run dsc/20190717_workflow.ipynb fisher --genotype_file /home/min/GIT/cnv-gene-mapping/data/deletion_simu/deletion.genes.block30.for_simu.sample.X.gz \\\n",
    "--phenotype_file /home/min/GIT/cnv-gene-mapping/data/deletion_simu/deletion.genes.block30.for_simu.sample.y --n_gene_in_block 1 -s build\n",
    "```\n",
    "```\n",
    "sos run dsc/20190717_workflow.ipynb sier --genotype_file /home/min/GIT/cnv-gene-mapping/data/deletion_simu/deletion.genes.block30.for_simu.sample.X.gz \\\n",
    "--phenotype_file /home/min/GIT/cnv-gene-mapping/data/deletion_simu/deletion.genes.block30.for_simu.sample.y --n_gene_in_block 1 -s build\n",
    "```\n",
    "```\n",
    "sos run dsc/20190717_workflow.ipynb mcmc --genotype_file /home/min/GIT/cnv-gene-mapping/data/deletion_simu/deletion.genes.block30.for_simu.sample.X.gz \\\n",
    "--phenotype_file /home/min/GIT/cnv-gene-mapping/data/deletion_simu/deletion.genes.block30.for_simu.sample.y --n_gene_in_block 1 -s build\n",
    "```"
   ]
  },
  {
   "cell_type": "markdown",
   "metadata": {
    "kernel": "SoS"
   },
   "source": [
    "### midway\n",
    "mcmc\n",
    "```\n",
    "cd /home/gaow/GIT/github/cnv-gene-mapping\n",
    "JOB_OPT=\"-q midway2 -c midway2.yml\"\n",
    "sos run dsc/20190717_workflow.ipynb mcmc --genotype_file /home/gaow/GIT/github/cnv-gene-mapping/data/deletion_simu/deletion.genes.block30.for_simu.sample.X.gz \\\n",
    "--phenotype_file /home/gaow/GIT/github/cnv-gene-mapping/data/deletion_simu/deletion.genes.block30.for_simu.sample.y --n_gene_in_block 1 -s build \\\n",
    "--job_size 10 $JOB_OPT\n",
    "```\n",
    "\n",
    "## n_gene_in_block = 20, sample_size = 200000\n",
    "### midway\n",
    "```\n",
    "cd /home/gaow/GIT/github/cnv-gene-mapping\n",
    "JOB_OPT=\"-q midway2 -c midway2.yml\"\n",
    "sos run dsc/20190717_workflow.ipynb simulate:1-4 --n_gene_in_block 20 --shape 0 --scale 1 --sample_size 200000 -s build --job_size 40 $JOB_OPT\n",
    "```\n",
    "\n",
    "```\n",
    "JOB_OPT=\"-q midway2 -c midway2.yml\"\n",
    "sos run dsc/20190717_workflow.ipynb mcmc --genotype_file /home/gaow/GIT/github/cnv-gene-mapping/data/deletion_simu_20/deletion.genes.block20.for_simu.sample.combined.X.gz \\\n",
    "--phenotype_file /home/gaow/GIT/github/cnv-gene-mapping/data/deletion_simu_20/deletion.genes.block20.for_simu.sample.combined.y.gz --n_gene_in_block 1 \\\n",
    "-s build --job_size 10 $JOB_OPT\n",
    "```\n",
    "### local\n",
    "```\n",
    "sos run dsc/20190717_workflow.ipynb fisher --genotype_file /home/min/GIT/cnv-gene-mapping/data/deletion_simu_20/deletion.genes.block20.for_simu.sample.combined.X.gz \\\n",
    "--phenotype_file /home/min/GIT/cnv-gene-mapping/data/deletion_simu_20/deletion.genes.block20.for_simu.sample.combined.y.gz --n_gene_in_block 1 -s build\n",
    "```"
   ]
  },
  {
   "cell_type": "markdown",
   "metadata": {
    "kernel": "SoS"
   },
   "source": [
    "## n_gene_in_block = 30, sample_size = 200000, method = gamma, shape = 3, scale = 1\n",
    "### midway 20200304\n",
    "```\n",
    "cd /home/gaow/GIT/github/cnv-gene-mapping\n",
    "JOB_OPT=\"-q midway2 -c midway2.yml\"\n",
    "sos run dsc/20190717_workflow.ipynb simulate:1-4 --n_gene_in_block 30 --beta_method normal --shape 0.777 --scale 0.843 --sample_size 200000 --job_size 50 $JOB_OPT\n",
    "```\n",
    "\n",
    "```\n",
    "sos run dsc/20190717_workflow.ipynb susie --genotype_file /home/gaow/GIT/github/cnv-gene-mapping/data/deletion_simu_30_shape0.777_scale0.843/deletion.genes.block30.for_simu.sample.combined.X.gz \\\n",
    "--phenotype_file /home/gaow/GIT/github/cnv-gene-mapping/data/deletion_simu_30_shape0.777_scale0.843/deletion.genes.block30.for_simu.sample.combined.y.gz --n_gene_in_block 1 -s build --job_size 10 $JOB_OPT\n",
    "\n",
    "wall_time=\"20m\"\n",
    "sos run dsc/20190717_workflow.ipynb mcmc --genotype_file /home/gaow/GIT/github/cnv-gene-mapping/data/deletion_simu_30_shape0.777_scale0.843/deletion.genes.block30.for_simu.sample.combined.X.gz \\\n",
    "--phenotype_file /home/gaow/GIT/github/cnv-gene-mapping/data/deletion_simu_30_shape0.777_scale0.843/deletion.genes.block30.for_simu.sample.combined.y.gz \\\n",
    "--n_gene_in_block 1 --mcmc_seed 1 --n_chain 1 --wall_time $wall_time --job_size 8 -s build $JOB_OPT\n",
    "```"
   ]
  },
  {
   "cell_type": "markdown",
   "metadata": {
    "kernel": "SoS"
   },
   "source": [
    "### new susie local 30300331\n",
    "```\n",
    "cd /home/gaow/GIT/cnv-gene-mapping\n",
    "sos run dsc/20190717_workflow.ipynb susie --genotype_file /home/min/GIT/cnv-gene-mapping/data/deletion_simu_30_shape0.777_scale0.843/deletion.genes.block30.for_simu.sample.combined.X.gz \\\n",
    "--phenotype_file /home/min/GIT/cnv-gene-mapping/data/deletion_simu_30_shape0.777_scale0.843/deletion.genes.block30.for_simu.sample.combined.y.gz --n_gene_in_block 1 -s build -j 7\n",
    "```\n",
    "### fisher\n",
    "```\n",
    "sos run dsc/20190717_workflow.ipynb fisher --genotype_file data/deletion_simu_30_shape0.777_scale0.843/deletion.genes.block30.for_simu.sample.combined.X.gz \\\n",
    "--phenotype_file data/deletion_simu_30_shape0.777_scale0.843/deletion.genes.block30.for_simu.sample.combined.y.gz --n_gene_in_block 1 -s build\n",
    "```"
   ]
  },
  {
   "cell_type": "markdown",
   "metadata": {
    "kernel": "SoS"
   },
   "source": [
    "## New mcmc 20200425 local\n",
    "test: iteration=200, n_tune=200, block: 140_144\n",
    "```\n",
    "cd /home/min/GIT/cnv-gene-mapping\n",
    "sos run dsc/20190717_workflow.ipynb mcmc --genotype_file /home/min/GIT/cnv-gene-mapping/data/deletion_simu_30_shape0.777_scale0.843/deletion.genes.block30.for_simu.sample.combined.X.gz \\\n",
    "--phenotype_file /home/min/GIT/cnv-gene-mapping/data/deletion_simu_30_shape0.777_scale0.843/deletion.genes.block30.for_simu.sample.combined.y.gz \\\n",
    "--blocks_specify /home/min/GIT/cnv-gene-mapping/data/deletion_simu_30_shape0.777_scale0.843/block_specify.csv --n_gene_in_block 1 --n_chain 2 -s build\n",
    "```\n",
    "### midway\n",
    "max_walltime=56\n",
    "```\n",
    "cd /home/gaow/GIT/github/cnv-gene-mapping\n",
    "JOB_OPT=\"-q midway2 -c midway2.yml\"\n",
    "wall_time=\"30m\"\n",
    "sinteractive --mem-per-cpu=2000 --cpus-per-task=4 --time=24:00:00\n",
    "sos run dsc/20190717_workflow.ipynb mcmc --genotype_file /home/gaow/GIT/github/cnv-gene-mapping/data/deletion_simu_30_shape0.777_scale0.843/deletion.genes.block30.for_simu.sample.combined.X.gz \\\n",
    "--phenotype_file /home/gaow/GIT/github/cnv-gene-mapping/data/deletion_simu_30_shape0.777_scale0.843/deletion.genes.block30.for_simu.sample.combined.y.gz \\\n",
    "--n_gene_in_block 1 --n_chain 5 --wall_time $wall_time --job_size 5 -s build $JOB_OPT\n",
    "```\n",
    "```\n",
    "wall_time=\"5h\"\n",
    "JOB_OPT=\"-q midway2 -c midway2.yml\"\n",
    "sos run dsc/20190717_workflow.ipynb mcmc --genotype_file /home/gaow/GIT/github/cnv-gene-mapping/data/deletion_simu_30_shape0.777_scale0.843/deletion.genes.block30.for_simu.sample.combined.X.gz --phenotype_file /home/gaow/GIT/github/cnv-gene-mapping/data/deletion_simu_30_shape0.777_scale0.843/deletion.genes.block30.for_simu.sample.combined.y.gz --n_gene_in_block 1 --n_chain 10 --n_core 5 --wall_time $wall_time --job_size 1 -s build $JOB_OPT\n",
    "```"
   ]
  },
  {
   "cell_type": "markdown",
   "metadata": {
    "kernel": "SoS"
   },
   "source": [
    "## mcmc-sier hybrid PIP 20200524\n",
    "### local\n",
    "```\n",
    "cd /home/min/GIT/cnv-gene-mapping\n",
    "sos run dsc/20190717_workflow.ipynb hybrid --genotype_file /home/min/GIT/cnv-gene-mapping/data/deletion_simu_30_shape0.777_scale0.843/deletion.genes.block30.for_simu.sample.combined.X.gz \\\n",
    "--phenotype_file /home/min/GIT/cnv-gene-mapping/data/deletion_simu_30_shape0.777_scale0.843/deletion.genes.block30.for_simu.sample.combined.y.gz \\\n",
    "--blocks_specify /home/min/GIT/cnv-gene-mapping/data/deletion_simu_30_shape0.777_scale0.843/block_specify.csv \\\n",
    "--n_gene_in_block 1 --n_chain 1 -s build\n",
    "```"
   ]
  },
  {
   "cell_type": "markdown",
   "metadata": {
    "kernel": "SoS"
   },
   "source": [
    "## Real deletion data\n",
    "### local, fisher test\n",
    "```\n",
    "cd ~/GIT/cnv-gene-mapping/\n",
    "sos run dsc/20190717_workflow.ipynb fisher --genotype_file /home/min/GIT/cnv-gene-mapping/data/deletion/deletion.X.gz --n_gene_in_block 1 -s build\n",
    "```\n",
    "### midway\n",
    "```\n",
    "cd ~/GIT/github/cnv-gene-mapping/\n",
    "JOB_OPT=\"-q midway2 -c midway2.yml\"\n",
    "sos run dsc/20190717_workflow.ipynb susie --genotype_file /home/gaow/GIT/github/cnv-gene-mapping/data/deletion/deletion.X.gz \\\n",
    "--phenotype_file /home/gaow/GIT/github/cnv-gene-mapping/data/deletion/deletion.y.gz --n_gene_in_block 1 -s build --job_size 10 $JOB_OPT\n",
    "```\n",
    "\n",
    "```\n",
    "sos run dsc/20190717_workflow.ipynb sier --genotype_file /home/gaow/GIT/github/cnv-gene-mapping/data/deletion/deletion.X.gz \\\n",
    "--phenotype_file /home/gaow/GIT/github/cnv-gene-mapping/data/deletion/deletion.y.gz --n_gene_in_block 1 -s build --job_size 10 $JOB_OPT\n",
    "```\n",
    "\n",
    "```\n",
    "sos run dsc/20190717_workflow.ipynb mcmc --genotype_file /home/gaow/GIT/github/cnv-gene-mapping/data/deletion/deletion.X.gz \\\n",
    "--phenotype_file /home/gaow/GIT/github/cnv-gene-mapping/data/deletion/deletion.y.gz --n_gene_in_block 1 -s build --job_size 10 $JOB_OPT\n",
    "```\n",
    "\n",
    "```\n",
    "sos run dsc/20190717_workflow.ipynb varbvs --genotype_file /home/gaow/GIT/github/cnv-gene-mapping/data/deletion/deletion.X.gz \\\n",
    "--phenotype_file /home/gaow/GIT/github/cnv-gene-mapping/data/deletion/deletion.y.gz --n_gene_in_block 1 -s build --job_size 10 $JOB_OPT\n",
    "```"
   ]
  },
  {
   "cell_type": "markdown",
   "metadata": {
    "kernel": "SoS"
   },
   "source": [
    "## kill all jobs on midway\n",
    "```\n",
    "scancel -u gaow\n",
    "```"
   ]
  },
  {
   "cell_type": "markdown",
   "metadata": {
    "kernel": "SoS"
   },
   "source": [
    "## check task error\n",
    "```\n",
    "sos status 80a206cba2a43ed5 -v4\n",
    "```"
   ]
  },
  {
   "cell_type": "markdown",
   "metadata": {
    "kernel": "SoS"
   },
   "source": [
    "## Note\n",
    "```\n",
    "cd ~/GIT/cnv-gene-mapping\n",
    "sos run dsc/20190717_workflow.ipynb get_hist:1-2 -s build\n",
    "sos run dsc/20190717_workflow.ipynb get_hist:1-2 --genotype_file /home/min/GIT/cnv-gene-mapping/data/deletion_simu/deletion.genes.block30.for_simu.sample.X.gz\n",
    "sos run dsc/20190717_workflow.ipynb analyze:1-2 -s build\n",
    "sos run dsc/20190717_workflow.ipynb analyze:1-2 --simu_pheno /home/min/GIT/cnv-gene-mapping/data/deletion_simu/deletion.genes.block30.for_simu.sample.y -s build\n",
    "sos run dsc/20190717_workflow.ipynb simulate:1-5 --n_gene_in_block 30 --shape 1 --scale 0.5 -s build\n",
    "sos run dsc/20190717_workflow.ipynb -s build -j 6\n",
    "```\n",
    "```\n",
    "sinteractive --time=01:00:00 --partition=bigmem2 --nodes=1 --ntasks-per-node=1 --mem-per-cpu=100G\n",
    "sos run dsc/20190717_workflow.ipynb simulate:1-5 --n_gene_in_block 30 --shape 1 --scale 0.5 -s build\n",
    "\n",
    "sos run dsc/20190717_workflow.ipynb get_hist:1-2 --genotype_file /home/gaow/GIT/github/cnv-gene-mapping/data/deletion_simu/deletion.genes.block30.for_simu.sample.X.gz \\\n",
    "--phenotype_file /home/gaow/GIT/github/cnv-gene-mapping/data/deletion_simu/deletion.genes.block30.for_simu.sample.y --n_gene_in_block 1 -s build\n",
    "\n",
    "sos run dsc/20190717_workflow.ipynb analyze:1-2 \\\n",
    "    --genotype_file /home/gaow/GIT/github/cnv-gene-mapping/data/deletion_simu/deletion.genes.block30.for_simu.sample.X.gz \\\n",
    "    --phenotype_file /home/gaow/GIT/github/cnv-gene-mapping/data/deletion_simu/deletion.genes.block30.for_simu.sample.y \\\n",
    "    --n_gene_in_block 1 \\\n",
    "    --simu_pheno /home/gaow/GIT/github/cnv-gene-mapping/data/deletion_simu/deletion.genes.block30.for_simu.sample.y \\\n",
    "    --real \"FALSE\" \\\n",
    "    -s build\n",
    "```"
   ]
  }
 ],
 "metadata": {
  "kernelspec": {
   "display_name": "SoS",
   "language": "sos",
   "name": "sos"
  },
  "language_info": {
   "codemirror_mode": "sos",
   "file_extension": ".sos",
   "mimetype": "text/x-sos",
   "name": "sos",
   "nbconvert_exporter": "sos_notebook.converter.SoS_Exporter",
   "pygments_lexer": "sos"
  },
  "sos": {
   "kernels": [
    [
     "R",
     "ir",
     "R",
     "#DCDCDA",
     "r"
    ],
    [
     "SoS",
     "sos",
     "",
     "",
     "sos"
    ]
   ],
   "version": "0.21.7"
  }
 },
 "nbformat": 4,
 "nbformat_minor": 4
}
