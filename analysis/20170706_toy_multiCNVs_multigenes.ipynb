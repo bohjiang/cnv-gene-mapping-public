{
 "cells": [
  {
   "cell_type": "markdown",
   "metadata": {},
   "source": [
    "# Toy example for multi-genes and multi-CNVs in a region\n",
    "## One or more causal genes"
   ]
  },
  {
   "cell_type": "code",
   "execution_count": 1,
   "metadata": {
    "collapsed": true,
    "kernel": "SoS"
   },
   "outputs": [],
   "source": [
    "import numpy as np\n",
    "import pandas as pd\n",
    "import feather\n",
    "from pandasql import sqldf\n",
    "from fisher import pvalue\n",
    "from scipy import stats\n",
    "import sys"
   ]
  },
  {
   "cell_type": "code",
   "execution_count": 2,
   "metadata": {
    "collapsed": true
   },
   "outputs": [],
   "source": [
    "def toy_multicnv_multicausal(p, n_cnv, causal, n_geom=10000, n_gene=10, const1=0.5, const2=0.05, seed=12):\n",
    "    '''A region with multiple genes and CNVs. CNVs probably overlap. At least two causal genes.\n",
    "    \"causal\" is a list of positions of causal genes.\n",
    "    \"n_gene\" is the number of genes this region harbors.\n",
    "    \"n_cnv\" is the number of CNV in this region. \"n_geom\" is the number of geometric variables generated.\n",
    "    \"p\" is the probability of geometric dist, then randomly generate a certain number of geometric variables.\n",
    "    I use these variables minus 1 as the length of CNVs, which means the number of genes that a CNV overlap with.\n",
    "    The maximum length for CNV in this region is overlapping with 10 genes'''\n",
    "    np.random.seed(seed)\n",
    "    if n_cnv > n_geom:\n",
    "        print (\"The number of CNV is larger than the number of geometric numbers\")\n",
    "        sys.exit()\n",
    "        return None\n",
    "    geom_minus_1 = np.random.geometric(p, size=n_geom) - 1\n",
    "    if n_cnv > len(geom_minus_1[geom_minus_1 <= n_gene]):\n",
    "        print (\"Cannot take a larger sample than population when 'replace=False'\")\n",
    "        sys.exit()\n",
    "        return None\n",
    "    cnv_len = np.random.choice(geom_minus_1[geom_minus_1 <= n_gene], n_cnv, replace=False)\n",
    "    cnv_start_pos = [np.random.choice(range(n_gene+1-i)) if i!=0 else -1 for i in cnv_len]\n",
    "    ptn_ls = []\n",
    "    for j,i in enumerate(cnv_start_pos):\n",
    "    ## j is the index of i in cnv start position list, so cnv_len[j] is the length of the corresponding cnv;\n",
    "    ## i is the corresponding cnv start position\n",
    "        if i == -1:\n",
    "            ptn = [0]*n_gene\n",
    "        else:\n",
    "            ptn = [0]*i + [1]*cnv_len[j] + [0]*(n_gene - cnv_len[j] - i)\n",
    "        ptn_ls.append(ptn)\n",
    "    mat = [[np.random.normal(0,1)] + line for line in ptn_ls]\n",
    "    config = []\n",
    "    for line in mat:\n",
    "        line[0] = line[0] + line[1:].count(1)*const2\n",
    "        config.append(line[0])\n",
    "#         only one causal gene, and gene pos is no more than the number of gene covered in this region\n",
    "        if len(causal) == 1 and (causal[0] > len(line[1:]) or causal[0] <= 0):\n",
    "            print (\"Single causal CNV index out of range\")\n",
    "            sys.exit()\n",
    "        elif len(causal) == 1 and causal[0] <= len(line[1:]):\n",
    "            line[0] = line[0] + line[causal[0]]*const1\n",
    "            config[-1] = line[0]\n",
    "        elif max(causal) > len(line[1:]) or min(causal) <= 0:\n",
    "            print (\"Causal CNV index out of range\")\n",
    "            sys.exit()\n",
    "        elif any(line[x] for x in causal):\n",
    "            line[0] = line[0] + const1*[line[x] for x in causal].count(1)\n",
    "            config[-1] = line[0]\n",
    "        else:\n",
    "            continue\n",
    "    for line in mat:\n",
    "        line[0] = 1 if line[0] >= np.median(config) else 0\n",
    "    mat = np.matrix(mat)\n",
    "    df = pd.DataFrame(mat, columns = [\"phenotype\"] + [\"gene{}\".format(i+1) for i in range(mat.shape[1]-1)])\n",
    "    counts = df.groupby([\"gene{}\".format(i+1) for i in range(mat.shape[1]-1)] + [\"phenotype\"]).size()\n",
    "    \n",
    "    for col in df.columns:\n",
    "        df[col] = df[col].astype(np.uint8)\n",
    "    output = feather.write_dataframe(df, \"data/toy_n{}_p{}_causal{}_const{}_{}.feather\"\n",
    "                                     .format(len(cnv_len), p, causal, const1, const2))\n",
    "    return df, counts"
   ]
  },
  {
   "cell_type": "code",
   "execution_count": 3,
   "metadata": {
    "scrolled": true
   },
   "outputs": [
    {
     "name": "stdout",
     "output_type": "stream",
     "text": [
      "2500\n"
     ]
    }
   ],
   "source": [
    "df, counts = toy_multicnv_multicausal(p=0.5, n_cnv=5000, causal=[1,15], n_gene=15, const1=0.45, const2=0.03)\n",
    "print (df[\"phenotype\"].tolist().count(1))"
   ]
  },
  {
   "cell_type": "code",
   "execution_count": 10,
   "metadata": {},
   "outputs": [
    {
     "name": "stdout",
     "output_type": "stream",
     "text": [
      "2017-09-05 18:23:23.243223\n",
      "2017-09-05 18:23:38.362238\n"
     ]
    }
   ],
   "source": [
    "from utils import run_dap_lite\n",
    "fileout = \"data/toy_multi_causal_10.dap\"\n",
    "run_dap_lite(df, fileout, grid=[(0, -9.2)])"
   ]
  },
  {
   "cell_type": "code",
   "execution_count": 31,
   "metadata": {
    "collapsed": true
   },
   "outputs": [],
   "source": [
    "# get summary statistics (t-statistic, p-value) and to be used for TORUS\n",
    "# needs to transfer p-value to z-score\n",
    "def get_summary_stats(gene_df, fisher=True):\n",
    "    cases = gene_df[gene_df[\"phenotype\"]==1]\n",
    "    ctrls = gene_df[gene_df[\"phenotype\"]==0]\n",
    "    res_dict = {}\n",
    "    for gene in list(gene_df)[1:]:\n",
    "        n_gene_case = len(cases[cases[gene]==1])\n",
    "        n_nogene_case = len(cases[cases[gene]==0])\n",
    "        n_gene_ctrl = len(ctrls[ctrls[gene]==1])\n",
    "        n_nogene_ctrl = len(ctrls[ctrls[gene]==0])\n",
    "        fisher_stat = stats.fisher_exact([[n_gene_case, n_gene_ctrl], [n_nogene_case, n_nogene_ctrl]])\n",
    "        if fisher==True:\n",
    "            p_value = pvalue(n_gene_case, n_gene_ctrl, n_nogene_case, n_nogene_ctrl).two_tail\n",
    "            logp = -np.log10(p_value)\n",
    "        else:\n",
    "            odds_ratio = fisher_stat[0]\n",
    "            p_value = fisher_stat[1]\n",
    "        res_dict[gene] = p_value\n",
    "    return res_dict"
   ]
  },
  {
   "cell_type": "code",
   "execution_count": 33,
   "metadata": {},
   "outputs": [
    {
     "data": {
      "text/plain": [
       "{'gene1': 0.0002446217643295764,\n",
       " 'gene10': 0.59227518194117013,\n",
       " 'gene11': 1.0,\n",
       " 'gene12': 0.029128786223128776,\n",
       " 'gene13': 0.0064813931109873515,\n",
       " 'gene14': 0.05360166558967952,\n",
       " 'gene15': 9.8540964540339358e-06,\n",
       " 'gene2': 0.9529633289975934,\n",
       " 'gene3': 0.22080363615944593,\n",
       " 'gene4': 0.65877830767161916,\n",
       " 'gene5': 0.78606056702950711,\n",
       " 'gene6': 0.11233726711975983,\n",
       " 'gene7': 0.4857525234242086,\n",
       " 'gene8': 0.4004777133207823,\n",
       " 'gene9': 0.48360579825725558}"
      ]
     },
     "execution_count": 33,
     "metadata": {},
     "output_type": "execute_result"
    }
   ],
   "source": [
    "get_summary_stats(df, fisher=False)"
   ]
  },
  {
   "cell_type": "code",
   "execution_count": 32,
   "metadata": {},
   "outputs": [
    {
     "data": {
      "text/plain": [
       "{'gene1': 0.00024462176432881117,\n",
       " 'gene10': 0.5922751819477777,\n",
       " 'gene11': 0.9999999999985895,\n",
       " 'gene12': 0.029128786223406904,\n",
       " 'gene13': 0.006481393111004906,\n",
       " 'gene14': 0.05360166558996012,\n",
       " 'gene15': 9.854096454110435e-06,\n",
       " 'gene2': 0.9529633290053254,\n",
       " 'gene3': 0.2208036361594937,\n",
       " 'gene4': 0.6587783076749487,\n",
       " 'gene5': 0.7860605670384375,\n",
       " 'gene6': 0.11233726712005403,\n",
       " 'gene7': 0.48575252342344866,\n",
       " 'gene8': 0.4004777133244753,\n",
       " 'gene9': 0.48360579825626965}"
      ]
     },
     "execution_count": 32,
     "metadata": {},
     "output_type": "execute_result"
    }
   ],
   "source": [
    "get_summary_stats(df, fisher=True)"
   ]
  },
  {
   "cell_type": "code",
   "execution_count": 17,
   "metadata": {},
   "outputs": [
    {
     "name": "stdout",
     "output_type": "stream",
     "text": [
      "0 phenotype\n",
      "1 gene1\n",
      "2 gene2\n",
      "3 gene3\n",
      "4 gene4\n",
      "5 gene5\n",
      "6 gene6\n",
      "7 gene7\n",
      "8 gene8\n",
      "9 gene9\n",
      "10 gene10\n"
     ]
    },
    {
     "data": {
      "text/plain": [
       "[1, 1, 1, 1, 1]"
      ]
     },
     "execution_count": 17,
     "metadata": {},
     "output_type": "execute_result"
    }
   ],
   "source": [
    "for idx, item in enumerate(df.columns.values):\n",
    "    print (idx, item)"
   ]
  },
  {
   "cell_type": "code",
   "execution_count": 10,
   "metadata": {},
   "outputs": [
    {
     "name": "stdout",
     "output_type": "stream",
     "text": [
      "0 0 0\n",
      "1 6 6\n",
      "2 8 8\n",
      "3 9 9\n",
      "4 1 1\n",
      "5 4 4\n",
      "6 3 3\n"
     ]
    }
   ],
   "source": [
    "startp=[0,6,8,9,1,4,3]\n",
    "for j, i in enumerate(startp):\n",
    "    print (j,i, startp[j])"
   ]
  },
  {
   "cell_type": "code",
   "execution_count": 7,
   "metadata": {
    "collapsed": true,
    "kernel": "SoS"
   },
   "outputs": [],
   "source": [
    "df.to_csv(\"data/df5000.csv\")"
   ]
  },
  {
   "cell_type": "code",
   "execution_count": 8,
   "metadata": {
    "collapsed": true,
    "kernel": "SoS"
   },
   "outputs": [],
   "source": [
    "counts.to_csv(\"data/counts.csv\")"
   ]
  },
  {
   "cell_type": "code",
   "execution_count": null,
   "metadata": {
    "collapsed": true
   },
   "outputs": [],
   "source": []
  },
  {
   "cell_type": "code",
   "execution_count": 121,
   "metadata": {
    "collapsed": true,
    "kernel": "SoS"
   },
   "outputs": [],
   "source": [
    "# bug in it, fixed in function \"toy_multicnv_multicausal\"\n",
    "def toy_multi_gene_cnv(p, n_cnv, n_max=10, causal=5, const1=1, const2=0.1, seed=1):\n",
    "    '''A region with multiple genes and CNVs. CNVs may overlap or not overlap. Only one causal gene.'''\n",
    "    np.random.seed(seed)\n",
    "    cnv_len = np.random.choice((np.random.geometric(p, size=n_cnv) - 1), n_cnv, replace=False)\n",
    "    cnv_len = cnv_len[cnv_len <= 10].tolist()\n",
    "    start_pos = [np.random.choice(range(n_max+1-i)) if i!=0 else -1 for i in cnv_len]\n",
    "    ptn_ls = []\n",
    "    for j,i in enumerate(start_pos):\n",
    "        if i == -1:\n",
    "            ptn = [0]*n_max\n",
    "        elif i == 0:\n",
    "            ptn = [0]*(i-1) + [1]*cnv_len[j] + [0]*(n_max-cnv_len[j]-i)\n",
    "        else:\n",
    "            ptn = [0]*(i-1) + [1]*cnv_len[j] + [0]*(n_max-cnv_len[j]-(i-1))\n",
    "        ptn_ls.append(ptn)\n",
    "    mat = [[np.random.normal(0,1)] + line for line in ptn_ls]\n",
    "    config = []\n",
    "    for line in mat:\n",
    "##         config.append(line[0]+const1) if line[causal-1] == 1 else config.append(line[0])\n",
    "        if line[causal] == 1:\n",
    "            line[0] = line[0] + const1\n",
    "        config.append(line[0])\n",
    "        \n",
    "#       the longer the CNV is, the less common it is, and larger OR\n",
    "        line[0] = line[0] + line[1:].count(1)*const2\n",
    "        \n",
    "##         line[0] = 1 if line[0] > np.median(config) else 0\n",
    "        if line[0] >= np.median(config):\n",
    "            line[0] = 1\n",
    "        else:\n",
    "            line[0] = 0\n",
    "        \n",
    "    mat = np.matrix(mat)\n",
    "    df = pd.DataFrame(mat, columns = [\"phenotype\"] + [\"gene{}\".format(i+1) for i in range(mat.shape[1]-1)])\n",
    "    counts = df.groupby([\"gene{}\".format(i+1) for i in range(mat.shape[1]-1)] + [\"phenotype\"]).size()\n",
    "    for col in df.columns:\n",
    "        df[col] = df[col].astype(np.uint8)\n",
    "    output = feather.write_dataframe(df, \"data/toy_n{}_p{}_causal{}_const{}_{}.feather\"\n",
    "                                     .format(len(cnv_len), p, causal, const1, const2))\n",
    "    return df, counts"
   ]
  },
  {
   "cell_type": "code",
   "execution_count": 123,
   "metadata": {
    "collapsed": true,
    "kernel": "SoS",
    "scrolled": true
   },
   "outputs": [],
   "source": [
    "df1, counts1 = toy_multi_gene_cnv(p=0.6, n_cnv=20, const1=1.0, const2=0.05)\n",
    "# print (df[\"phenotype\"].tolist())"
   ]
  }
 ],
 "metadata": {
  "kernelspec": {
   "display_name": "Python 3",
   "language": "python",
   "name": "python3"
  },
  "language_info": {
   "codemirror_mode": {
    "name": "ipython",
    "version": 3
   },
   "file_extension": ".py",
   "mimetype": "text/x-python",
   "name": "python",
   "nbconvert_exporter": "python",
   "pygments_lexer": "ipython3",
   "version": "3.5.2"
  },
  "sos": {
   "default_kernel": "SoS",
   "kernels": [
    [
     "SoS",
     "sos",
     "",
     ""
    ],
    [
     "Python3",
     "python3",
     "Python3",
     "#FFE771"
    ],
    [
     "R",
     "ir",
     "R",
     "#DCDCDA"
    ]
   ],
   "panel": {
    "displayed": true,
    "height": 0,
    "style": "side"
   }
  }
 },
 "nbformat": 4,
 "nbformat_minor": 2
}
