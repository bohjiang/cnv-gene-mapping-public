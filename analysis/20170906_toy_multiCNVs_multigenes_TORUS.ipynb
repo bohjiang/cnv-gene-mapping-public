{
 "cells": [
  {
   "cell_type": "markdown",
   "metadata": {},
   "source": [
    "# Toy example for multi-genes and multi-CNVs in a region\n",
    "## One or more causal genes\n",
    "## Obtain summary statistics - z_score"
   ]
  },
  {
   "cell_type": "code",
   "execution_count": 1,
   "metadata": {
    "collapsed": true,
    "kernel": "SoS"
   },
   "outputs": [],
   "source": [
    "import numpy as np\n",
    "import pandas as pd\n",
    "import feather\n",
    "from pandasql import sqldf\n",
    "from scipy import stats\n",
    "import sys\n",
    "import fisher"
   ]
  },
  {
   "cell_type": "code",
   "execution_count": 2,
   "metadata": {
    "collapsed": true
   },
   "outputs": [],
   "source": [
    "def toy_multicnv_multicausal(p, n_cnv, causal, n_geom=10000, n_gene=10, const1=0.5, const2=0.05, seed=999):\n",
    "    '''A region with multiple genes and CNVs. CNVs probably overlap. At least two causal genes.\n",
    "    \"causal\" is a list of positions of causal genes.\n",
    "    \"n_gene\" is the number of genes this region harbors.\n",
    "    \"n_cnv\" is the number of CNV in this region. \"n_geom\" is the number of geometric variables generated.\n",
    "    \"p\" is the probability of geometric dist, then randomly generate a certain number of geometric variables.\n",
    "    I use these variables minus 1 as the length of CNVs, which means the number of genes that a CNV overlap with.\n",
    "    The maximum length for CNV in this region is overlapping with 10 genes'''\n",
    "    np.random.seed(seed)\n",
    "    if n_cnv > n_geom:\n",
    "        print (\"The number of CNV is larger than the number of geometric numbers\")\n",
    "        sys.exit()\n",
    "        return None\n",
    "    geom_minus_1 = np.random.geometric(p, size=n_geom) - 1\n",
    "    if n_cnv > len(geom_minus_1[geom_minus_1 <= n_gene]):\n",
    "        print (\"Cannot take a larger sample than population when 'replace=False'\")\n",
    "        sys.exit()\n",
    "        return None\n",
    "    cnv_len = np.random.choice(geom_minus_1[geom_minus_1 <= n_gene], n_cnv, replace=False)\n",
    "    cnv_start_pos = [np.random.choice(range(n_gene+1-i)) if i!=0 else -1 for i in cnv_len]\n",
    "    ptn_ls = []\n",
    "    for j,i in enumerate(cnv_start_pos):\n",
    "    ## j is the index of i in cnv start position list, so cnv_len[j] is the length of the corresponding cnv;\n",
    "    ## i is the corresponding cnv start position\n",
    "        if i == -1:\n",
    "            ptn = [0]*n_gene\n",
    "        else:\n",
    "            ptn = [0]*i + [1]*cnv_len[j] + [0]*(n_gene - cnv_len[j] - i)\n",
    "        ptn_ls.append(ptn)\n",
    "    mat = [[np.random.normal(0,1)] + line for line in ptn_ls]\n",
    "    config = []\n",
    "    for line in mat:\n",
    "        line[0] = line[0] + line[1:].count(1)*const2\n",
    "        config.append(line[0])\n",
    "#         only one causal gene, and gene pos is no more than the number of gene covered in this region\n",
    "        if len(causal) == 1 and (causal[0] > len(line[1:]) or causal[0] <= 0):\n",
    "            print (\"Single causal CNV index out of range\")\n",
    "            sys.exit()\n",
    "        elif len(causal) == 1 and causal[0] <= len(line[1:]):\n",
    "            line[0] = line[0] + line[causal[0]]*const1\n",
    "            config[-1] = line[0]\n",
    "        elif max(causal) > len(line[1:]) or min(causal) <= 0:\n",
    "            print (\"Causal CNV index out of range\")\n",
    "            sys.exit()\n",
    "        elif any(line[x] for x in causal):\n",
    "            line[0] = line[0] + const1*[line[x] for x in causal].count(1)\n",
    "            config[-1] = line[0]\n",
    "        else:\n",
    "            continue\n",
    "    for line in mat:\n",
    "        line[0] = 1 if line[0] >= np.median(config) else 0\n",
    "    mat = np.matrix(mat)\n",
    "    df = pd.DataFrame(mat, columns = [\"phenotype\"] + [\"gene{}\".format(i+1) for i in range(mat.shape[1]-1)])\n",
    "    counts = df.groupby([\"gene{}\".format(i+1) for i in range(mat.shape[1]-1)] + [\"phenotype\"]).size()\n",
    "    \n",
    "    for col in df.columns:\n",
    "        df[col] = df[col].astype(np.uint8)\n",
    "    output = feather.write_dataframe(df, \"data/toy_n{}_p{}_causal{}_const{}_{}.feather\"\n",
    "                                     .format(len(cnv_len), p, causal, const1, const2))\n",
    "    return df, counts, causal"
   ]
  },
  {
   "cell_type": "code",
   "execution_count": 3,
   "metadata": {
    "scrolled": true
   },
   "outputs": [
    {
     "name": "stdout",
     "output_type": "stream",
     "text": [
      "2500\n"
     ]
    }
   ],
   "source": [
    "df, counts, causal = toy_multicnv_multicausal(p=0.5, n_cnv=5000, causal=[1,15], n_gene=15, const1=0.45, const2=0.03)\n",
    "print (df[\"phenotype\"].tolist().count(1))"
   ]
  },
  {
   "cell_type": "code",
   "execution_count": 4,
   "metadata": {},
   "outputs": [
    {
     "name": "stdout",
     "output_type": "stream",
     "text": [
      "2017-10-09 14:49:47.261231\n",
      "2017-10-09 14:50:02.751030\n"
     ]
    }
   ],
   "source": [
    "from utils import run_dap_lite\n",
    "fileout = \"data/toy_multi_causal_10.dap\"\n",
    "run_dap_lite(df, fileout, grid=[(0, -9.2)])"
   ]
  },
  {
   "cell_type": "code",
   "execution_count": 45,
   "metadata": {},
   "outputs": [],
   "source": [
    "def get_summary_stats(gene_df, causal, subst = -10, chrom = 'chr6', multiplier = 1000, multi_cat = 0):\n",
    "    '''get summary statistics (e.g. t-statistic, p-value) to be used for TORUS, then transfer p-value to z-score\n",
    "       Actually do NOT need SNP (gene) map and gene (chromosome) map\n",
    "    '''\n",
    "    cases = gene_df[gene_df[\"phenotype\"]==1]\n",
    "    ctrls = gene_df[gene_df[\"phenotype\"]==0]\n",
    "    df_bf = pd.DataFrame()\n",
    "    df_beta = pd.DataFrame()\n",
    "    df_zscore = pd.DataFrame()\n",
    "    SNP_anno = pd.DataFrame()\n",
    "    i = 1\n",
    "    cat = [0]*3 + [2]*3 + [3]*3 + [4]*2 + [5]*2\n",
    "    for gene in list(gene_df)[1:]:\n",
    "        n_gene_case = len(cases[cases[gene]==1])\n",
    "        n_nogene_case = len(cases[cases[gene]==0])\n",
    "        n_gene_ctrl = len(ctrls[ctrls[gene]==1])\n",
    "        n_nogene_ctrl = len(ctrls[ctrls[gene]==0])\n",
    "        odds_ratio = stats.fisher_exact([[n_gene_case, n_gene_ctrl], [n_nogene_case, n_nogene_ctrl]])[0]\n",
    "#         print (n_gene_case, n_gene_ctrl, odds_ratio)\n",
    "        beta1 = np.log(odds_ratio)\n",
    "        fisher_stats = fisher.pvalue(n_gene_case, n_gene_ctrl, n_nogene_case, n_nogene_ctrl)\n",
    "        p_value_two = fisher_stats.two_tail\n",
    "        p_value_left = fisher_stats.left_tail\n",
    "        p_value_right = fisher_stats.right_tail\n",
    "        if p_value_right < 0.5 and p_value_two < 1:\n",
    "            z_score = stats.norm.ppf(1-p_value_right)\n",
    "        elif p_value_left < 0.5 and p_value_two < 1:\n",
    "            z_score = -stats.norm.ppf(1-p_value_left)\n",
    "        else:\n",
    "            z_score = subst\n",
    "        df_bf = df_bf.append([(\"{}.{}\".format(chrom, gene), chrom, odds_ratio)])\n",
    "        df_beta = df_beta.append([(\"{}.{}\".format(chrom, gene), chrom, beta1, z_score, p_value_two/2)])\n",
    "        df_zscore = df_zscore.append([(\"{}.{}\".format(chrom, gene), chrom, z_score)])\n",
    "        ### gene annotation needs to be determined\n",
    "        if multi_cat == 0:\n",
    "            SNP_anno = SNP_anno.append([(\"{}.{}\".format(chrom, gene), 1 if int(gene[4:]) in causal else 0)])\n",
    "        else:\n",
    "            if len(cat) != 0:\n",
    "                rand_cat = np.random.choice(cat)\n",
    "            SNP_anno = SNP_anno.append([(\"{}.{}\".format(chrom, gene), 1 if int(gene[4:]) in causal else rand_cat)])\n",
    "            if not int(gene[4:]) in causal:\n",
    "                cat.remove(rand_cat)\n",
    "        i += 1\n",
    "    df_bf.columns = [\"SNP\", \"gene\", \"bf\"]\n",
    "    df_beta.columns = [\"SNP\", \"gene\", \"beta\", \"t-stat\", \"p-value\"]\n",
    "    df_zscore.columns = [\"SNP\", \"gene\", \"z-score\"]\n",
    "    SNP_anno.columns = [\"SNP\", \"binding_d\"]\n",
    "    df_bf.to_csv(\"data/TORUS/bf\", sep = \"\\t\", header = False, index = False)\n",
    "    df_beta.to_csv(\"data/TORUS/beta\", sep = \"\\t\", header = True, index = False)\n",
    "    df_zscore.to_csv(\"data/TORUS/z_score\", sep = \"\\t\", header = False, index = False)\n",
    "    SNP_anno.to_csv(\"data/TORUS/snp_anno\", sep = \"\\t\", header = True, index = False)\n",
    "    return df_bf, df_beta, df_zscore, SNP_anno"
   ]
  },
  {
   "cell_type": "code",
   "execution_count": 46,
   "metadata": {},
   "outputs": [],
   "source": [
    "df_bf, df_beta, df_zscore, snp_anno = get_summary_stats(df, causal, multi_cat = 1)"
   ]
  },
  {
   "cell_type": "markdown",
   "metadata": {},
   "source": [
    "### command\n",
    "\n",
    "Do NOT need the optional annotation files - snp_map and gene_map, only need snp annotation.\n",
    "\n",
    "gzip *\n",
    "\n",
    "torus.sh -d beta.gz -annot snp_anno.gz -est > toy_multi_beta.est\n",
    "\n",
    "/# torus.sh -d beta.gz -smap snp_map.gz -gmap gene_map.gz -annot snp_anno.gz -est > toy_multi_beta.est\n",
    "\n",
    "/# torus.sh -d bf.gz --load_bf -smap snp_map.gz -gmap gene_map.gz -annot snp_anno.gz -qtl > toy_multi_bf.est\n",
    "\n",
    "/# torus.sh -d z_score.gz --load_zval -smap snp_map.gz -gmap gene_map.gz -annot snp_anno.gz -qtl > toy_multi_zscore.est"
   ]
  },
  {
   "cell_type": "code",
   "execution_count": 22,
   "metadata": {},
   "outputs": [
    {
     "name": "stdout",
     "output_type": "stream",
     "text": [
      "134 63 2.19081163037\n",
      "162 134 1.22343372956\n",
      "195 143 1.39439952672\n",
      "178 168 1.06408678889\n",
      "187 175 1.07411524921\n",
      "205 169 1.23204548091\n",
      "204 180 1.14518002323\n",
      "201 174 1.16873903196\n",
      "183 180 1.01798302403\n",
      "187 179 1.04830602835\n",
      "182 170 1.0761305385\n",
      "180 148 1.2329916123\n",
      "173 119 1.48751774023\n",
      "163 108 1.5447788396\n",
      "132 63 2.15629021879\n"
     ]
    }
   ],
   "source": [
    "df_bf, df_beta, df_zscore, snp_anno = get_summary_stats(df, causal)"
   ]
  },
  {
   "cell_type": "code",
   "execution_count": 14,
   "metadata": {
    "scrolled": true
   },
   "outputs": [
    {
     "name": "stdout",
     "output_type": "stream",
     "text": [
      "           SNP  gene        bf\n",
      "0   chr6.gene1  chr6  2.190812\n",
      "0   chr6.gene2  chr6  1.223434\n",
      "0   chr6.gene3  chr6  1.394400\n",
      "0   chr6.gene4  chr6  1.064087\n",
      "0   chr6.gene5  chr6  1.074115\n",
      "0   chr6.gene6  chr6  1.232045\n",
      "0   chr6.gene7  chr6  1.145180\n",
      "0   chr6.gene8  chr6  1.168739\n",
      "0   chr6.gene9  chr6  1.017983\n",
      "0  chr6.gene10  chr6  1.048306\n",
      "0  chr6.gene11  chr6  1.076131\n",
      "0  chr6.gene12  chr6  1.232992\n",
      "0  chr6.gene13  chr6  1.487518\n",
      "0  chr6.gene14  chr6  1.544779\n",
      "0  chr6.gene15  chr6  2.156290\n",
      "           SNP  gene      beta    t-stat   p-value\n",
      "0   chr6.gene1  chr6  0.784272  5.140413  0.000001\n",
      "0   chr6.gene2  chr6  0.201661  1.618618  0.052765\n",
      "0   chr6.gene3  chr6  0.332464  2.877339  0.002005\n",
      "0   chr6.gene4  chr6  0.062117  0.501427  0.308035\n",
      "0   chr6.gene5  chr6  0.071497  0.600209  0.274183\n",
      "0   chr6.gene6  chr6  0.208676  1.882458  0.029887\n",
      "0   chr6.gene7  chr6  0.135562  1.221669  0.110916\n",
      "0   chr6.gene8  chr6  0.155925  1.396256  0.081319\n",
      "0   chr6.gene9  chr6  0.017823  0.108983  0.456608\n",
      "0  chr6.gene10  chr6  0.047176  0.380007  0.351970\n",
      "0  chr6.gene11  chr6  0.073372  0.608019  0.271588\n",
      "0  chr6.gene12  chr6  0.209443  1.771595  0.038231\n",
      "0  chr6.gene13  chr6  0.397109  3.203872  0.000678\n",
      "0  chr6.gene14  chr6  0.434881  3.382716  0.000359\n",
      "0  chr6.gene15  chr6  0.768389  5.016009  0.000001\n",
      "           SNP  gene   z-score\n",
      "0   chr6.gene1  chr6  5.140413\n",
      "0   chr6.gene2  chr6  1.618618\n",
      "0   chr6.gene3  chr6  2.877339\n",
      "0   chr6.gene4  chr6  0.501427\n",
      "0   chr6.gene5  chr6  0.600209\n",
      "0   chr6.gene6  chr6  1.882458\n",
      "0   chr6.gene7  chr6  1.221669\n",
      "0   chr6.gene8  chr6  1.396256\n",
      "0   chr6.gene9  chr6  0.108983\n",
      "0  chr6.gene10  chr6  0.380007\n",
      "0  chr6.gene11  chr6  0.608019\n",
      "0  chr6.gene12  chr6  1.771595\n",
      "0  chr6.gene13  chr6  3.203872\n",
      "0  chr6.gene14  chr6  3.382716\n",
      "0  chr6.gene15  chr6  5.016009\n",
      "           SNP  binding_d\n",
      "0   chr6.gene1          1\n",
      "0   chr6.gene2          0\n",
      "0   chr6.gene3          0\n",
      "0   chr6.gene4          0\n",
      "0   chr6.gene5          0\n",
      "0   chr6.gene6          0\n",
      "0   chr6.gene7          0\n",
      "0   chr6.gene8          0\n",
      "0   chr6.gene9          0\n",
      "0  chr6.gene10          0\n",
      "0  chr6.gene11          0\n",
      "0  chr6.gene12          0\n",
      "0  chr6.gene13          0\n",
      "0  chr6.gene14          0\n",
      "0  chr6.gene15          1\n"
     ]
    }
   ],
   "source": [
    "print (df_bf)\n",
    "print (df_beta)\n",
    "print (df_zscore)\n",
    "print (snp_anno)"
   ]
  },
  {
   "cell_type": "code",
   "execution_count": 9,
   "metadata": {},
   "outputs": [
    {
     "name": "stdout",
     "output_type": "stream",
     "text": [
      "0 phenotype\n",
      "1 gene1\n",
      "2 gene2\n",
      "3 gene3\n",
      "4 gene4\n",
      "5 gene5\n",
      "6 gene6\n",
      "7 gene7\n",
      "8 gene8\n",
      "9 gene9\n",
      "10 gene10\n",
      "11 gene11\n",
      "12 gene12\n",
      "13 gene13\n",
      "14 gene14\n",
      "15 gene15\n"
     ]
    }
   ],
   "source": [
    "for idx, item in enumerate(df.columns.values):\n",
    "    print (idx, item)"
   ]
  },
  {
   "cell_type": "code",
   "execution_count": 41,
   "metadata": {},
   "outputs": [
    {
     "data": {
      "text/plain": [
       "1.7677085129515064e-12"
      ]
     },
     "execution_count": 41,
     "metadata": {},
     "output_type": "execute_result"
    }
   ],
   "source": [
    "stats.norm.ppf((1+(1-0.9999999999985895))/2)"
   ]
  },
  {
   "cell_type": "code",
   "execution_count": 10,
   "metadata": {},
   "outputs": [
    {
     "name": "stdout",
     "output_type": "stream",
     "text": [
      "0 0 0\n",
      "1 6 6\n",
      "2 8 8\n",
      "3 9 9\n",
      "4 1 1\n",
      "5 4 4\n",
      "6 3 3\n"
     ]
    }
   ],
   "source": [
    "startp=[0,6,8,9,1,4,3]\n",
    "for j, i in enumerate(startp):\n",
    "    print (j,i, startp[j])"
   ]
  },
  {
   "cell_type": "code",
   "execution_count": 21,
   "metadata": {
    "kernel": "SoS"
   },
   "outputs": [],
   "source": [
    "cat = [0]*3 + [2]*3 + [3]*3 + [4]*2 + [5]*2\n",
    "if (5) in causal:\n",
    "    print (\"balala\")"
   ]
  },
  {
   "cell_type": "code",
   "execution_count": null,
   "metadata": {
    "collapsed": true
   },
   "outputs": [],
   "source": []
  },
  {
   "cell_type": "code",
   "execution_count": 121,
   "metadata": {
    "collapsed": true,
    "kernel": "SoS"
   },
   "outputs": [],
   "source": [
    "# previous version, bug in it, fixed in function \"toy_multicnv_multicausal\"\n",
    "def toy_multi_gene_cnv(p, n_cnv, n_max=10, causal=5, const1=1, const2=0.1, seed=1):\n",
    "    '''A region with multiple genes and CNVs. CNVs may overlap or not overlap. Only one causal gene.'''\n",
    "    np.random.seed(seed)\n",
    "    cnv_len = np.random.choice((np.random.geometric(p, size=n_cnv) - 1), n_cnv, replace=False)\n",
    "    cnv_len = cnv_len[cnv_len <= 10].tolist()\n",
    "    start_pos = [np.random.choice(range(n_max+1-i)) if i!=0 else -1 for i in cnv_len]\n",
    "    ptn_ls = []\n",
    "    for j,i in enumerate(start_pos):\n",
    "        if i == -1:\n",
    "            ptn = [0]*n_max\n",
    "        elif i == 0:\n",
    "            ptn = [0]*(i-1) + [1]*cnv_len[j] + [0]*(n_max-cnv_len[j]-i)\n",
    "        else:\n",
    "            ptn = [0]*(i-1) + [1]*cnv_len[j] + [0]*(n_max-cnv_len[j]-(i-1))\n",
    "        ptn_ls.append(ptn)\n",
    "    mat = [[np.random.normal(0,1)] + line for line in ptn_ls]\n",
    "    config = []\n",
    "    for line in mat:\n",
    "##         config.append(line[0]+const1) if line[causal-1] == 1 else config.append(line[0])\n",
    "        if line[causal] == 1:\n",
    "            line[0] = line[0] + const1\n",
    "        config.append(line[0])\n",
    "        \n",
    "#       the longer the CNV is, the less common it is, and larger OR\n",
    "        line[0] = line[0] + line[1:].count(1)*const2\n",
    "        \n",
    "##         line[0] = 1 if line[0] > np.median(config) else 0\n",
    "        if line[0] >= np.median(config):\n",
    "            line[0] = 1\n",
    "        else:\n",
    "            line[0] = 0\n",
    "        \n",
    "    mat = np.matrix(mat)\n",
    "    df = pd.DataFrame(mat, columns = [\"phenotype\"] + [\"gene{}\".format(i+1) for i in range(mat.shape[1]-1)])\n",
    "    counts = df.groupby([\"gene{}\".format(i+1) for i in range(mat.shape[1]-1)] + [\"phenotype\"]).size()\n",
    "    for col in df.columns:\n",
    "        df[col] = df[col].astype(np.uint8)\n",
    "    output = feather.write_dataframe(df, \"data/toy_n{}_p{}_causal{}_const{}_{}.feather\"\n",
    "                                     .format(len(cnv_len), p, causal, const1, const2))\n",
    "    return df, counts"
   ]
  }
 ],
 "metadata": {
  "kernelspec": {
   "display_name": "Python 3",
   "language": "python",
   "name": "python3"
  },
  "language_info": {
   "codemirror_mode": {
    "name": "ipython",
    "version": 3
   },
   "file_extension": ".py",
   "mimetype": "text/x-python",
   "name": "python",
   "nbconvert_exporter": "python",
   "pygments_lexer": "ipython3",
   "version": "3.5.2"
  },
  "sos": {
   "default_kernel": "SoS",
   "kernels": [
    [
     "SoS",
     "sos",
     "",
     ""
    ],
    [
     "Python3",
     "python3",
     "Python3",
     "#FFE771"
    ],
    [
     "R",
     "ir",
     "R",
     "#DCDCDA"
    ]
   ],
   "panel": {
    "displayed": true,
    "height": 0,
    "style": "side"
   }
  }
 },
 "nbformat": 4,
 "nbformat_minor": 2
}
