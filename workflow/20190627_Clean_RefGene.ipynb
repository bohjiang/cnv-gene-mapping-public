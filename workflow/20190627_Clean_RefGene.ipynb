{
 "cells": [
  {
   "cell_type": "markdown",
   "metadata": {
    "kernel": "SoS"
   },
   "source": [
    "# Obtain clean reference gene\n",
    "Use CNV individual level data (del and dup) and gene data to obtain individual (real, column) by gene (real, row) matrix (ideally two bed files, bedtools) - reference X matrix"
   ]
  },
  {
   "cell_type": "code",
   "execution_count": null,
   "metadata": {
    "kernel": "SoS"
   },
   "outputs": [],
   "source": [
    "import pandas as pd, numpy as np\n",
    "import os\n",
    "from pandasql import sqldf\n",
    "from collections import Counter\n",
    "from more_itertools import unique_everseen\n",
    "cwd = os.path.expanduser(\"~/GIT/cnv-gene-mapping/data\")"
   ]
  },
  {
   "cell_type": "markdown",
   "metadata": {
    "kernel": "SoS"
   },
   "source": [
    "## Import original genes/exons"
   ]
  },
  {
   "cell_type": "code",
   "execution_count": 2,
   "metadata": {
    "kernel": "SoS"
   },
   "outputs": [],
   "source": [
    "ref_gene = pd.read_table(f\"{cwd}/refGene.txt.gz\", compression=\"gzip\", sep = \"\\t\", header = None, usecols = (1,2,4,5,12), names = [\"tx_name\", \"chrom\", \"start\", \"end\", \"gene_name\"])"
   ]
  },
  {
   "cell_type": "code",
   "execution_count": 3,
   "metadata": {
    "kernel": "SoS"
   },
   "outputs": [
    {
     "data": {
      "text/html": [
       "<div>\n",
       "<style scoped>\n",
       "    .dataframe tbody tr th:only-of-type {\n",
       "        vertical-align: middle;\n",
       "    }\n",
       "\n",
       "    .dataframe tbody tr th {\n",
       "        vertical-align: top;\n",
       "    }\n",
       "\n",
       "    .dataframe thead th {\n",
       "        text-align: right;\n",
       "    }\n",
       "</style>\n",
       "<table border=\"1\" class=\"dataframe\">\n",
       "  <thead>\n",
       "    <tr style=\"text-align: right;\">\n",
       "      <th></th>\n",
       "      <th>tx_name</th>\n",
       "      <th>chrom</th>\n",
       "      <th>start</th>\n",
       "      <th>end</th>\n",
       "      <th>gene_name</th>\n",
       "    </tr>\n",
       "  </thead>\n",
       "  <tbody>\n",
       "    <tr>\n",
       "      <th>0</th>\n",
       "      <td>NR_148357</td>\n",
       "      <td>chr1</td>\n",
       "      <td>11868</td>\n",
       "      <td>14362</td>\n",
       "      <td>LOC102725121</td>\n",
       "    </tr>\n",
       "    <tr>\n",
       "      <th>1</th>\n",
       "      <td>NR_046018</td>\n",
       "      <td>chr1</td>\n",
       "      <td>11873</td>\n",
       "      <td>14409</td>\n",
       "      <td>DDX11L1</td>\n",
       "    </tr>\n",
       "    <tr>\n",
       "      <th>2</th>\n",
       "      <td>NM_012154</td>\n",
       "      <td>chr8</td>\n",
       "      <td>141530254</td>\n",
       "      <td>141645732</td>\n",
       "      <td>AGO2</td>\n",
       "    </tr>\n",
       "    <tr>\n",
       "      <th>3</th>\n",
       "      <td>NR_106918</td>\n",
       "      <td>chr1</td>\n",
       "      <td>17368</td>\n",
       "      <td>17436</td>\n",
       "      <td>MIR6859-1</td>\n",
       "    </tr>\n",
       "    <tr>\n",
       "      <th>4</th>\n",
       "      <td>NR_107062</td>\n",
       "      <td>chr1</td>\n",
       "      <td>17368</td>\n",
       "      <td>17436</td>\n",
       "      <td>MIR6859-2</td>\n",
       "    </tr>\n",
       "  </tbody>\n",
       "</table>\n",
       "</div>"
      ],
      "text/plain": [
       "     tx_name chrom      start        end     gene_name\n",
       "0  NR_148357  chr1      11868      14362  LOC102725121\n",
       "1  NR_046018  chr1      11873      14409       DDX11L1\n",
       "2  NM_012154  chr8  141530254  141645732          AGO2\n",
       "3  NR_106918  chr1      17368      17436     MIR6859-1\n",
       "4  NR_107062  chr1      17368      17436     MIR6859-2"
      ]
     },
     "execution_count": 3,
     "metadata": {},
     "output_type": "execute_result"
    }
   ],
   "source": [
    "ref_gene.head()"
   ]
  },
  {
   "cell_type": "code",
   "execution_count": 4,
   "metadata": {
    "kernel": "SoS"
   },
   "outputs": [
    {
     "data": {
      "text/plain": [
       "(78288, 5)"
      ]
     },
     "execution_count": 4,
     "metadata": {},
     "output_type": "execute_result"
    }
   ],
   "source": [
    "ref_gene.shape"
   ]
  },
  {
   "cell_type": "code",
   "execution_count": 5,
   "metadata": {
    "kernel": "SoS"
   },
   "outputs": [
    {
     "data": {
      "text/html": [
       "<div>\n",
       "<style scoped>\n",
       "    .dataframe tbody tr th:only-of-type {\n",
       "        vertical-align: middle;\n",
       "    }\n",
       "\n",
       "    .dataframe tbody tr th {\n",
       "        vertical-align: top;\n",
       "    }\n",
       "\n",
       "    .dataframe thead th {\n",
       "        text-align: right;\n",
       "    }\n",
       "</style>\n",
       "<table border=\"1\" class=\"dataframe\">\n",
       "  <thead>\n",
       "    <tr style=\"text-align: right;\">\n",
       "      <th></th>\n",
       "      <th>tx_name</th>\n",
       "      <th>chrom</th>\n",
       "      <th>start</th>\n",
       "      <th>end</th>\n",
       "      <th>gene_name</th>\n",
       "    </tr>\n",
       "  </thead>\n",
       "  <tbody>\n",
       "    <tr>\n",
       "      <th>93</th>\n",
       "      <td>NR_126445</td>\n",
       "      <td>chr22</td>\n",
       "      <td>24322324</td>\n",
       "      <td>24326106</td>\n",
       "      <td>GSTT2</td>\n",
       "    </tr>\n",
       "    <tr>\n",
       "      <th>1279</th>\n",
       "      <td>NR_126445</td>\n",
       "      <td>chr22</td>\n",
       "      <td>24299600</td>\n",
       "      <td>24303382</td>\n",
       "      <td>GSTT2</td>\n",
       "    </tr>\n",
       "    <tr>\n",
       "      <th>7664</th>\n",
       "      <td>NM_001302670</td>\n",
       "      <td>chr22</td>\n",
       "      <td>24322218</td>\n",
       "      <td>24326106</td>\n",
       "      <td>GSTT2</td>\n",
       "    </tr>\n",
       "    <tr>\n",
       "      <th>8447</th>\n",
       "      <td>NM_001080843</td>\n",
       "      <td>chr22</td>\n",
       "      <td>24299600</td>\n",
       "      <td>24303382</td>\n",
       "      <td>GSTT2B</td>\n",
       "    </tr>\n",
       "    <tr>\n",
       "      <th>20162</th>\n",
       "      <td>NM_000854</td>\n",
       "      <td>chr22</td>\n",
       "      <td>24322218</td>\n",
       "      <td>24326106</td>\n",
       "      <td>GSTT2</td>\n",
       "    </tr>\n",
       "    <tr>\n",
       "      <th>23076</th>\n",
       "      <td>NM_001363804</td>\n",
       "      <td>chr22</td>\n",
       "      <td>24322313</td>\n",
       "      <td>24326106</td>\n",
       "      <td>GSTT2B</td>\n",
       "    </tr>\n",
       "    <tr>\n",
       "      <th>25695</th>\n",
       "      <td>NM_001363804</td>\n",
       "      <td>chr22</td>\n",
       "      <td>24299600</td>\n",
       "      <td>24303393</td>\n",
       "      <td>GSTT2B</td>\n",
       "    </tr>\n",
       "    <tr>\n",
       "      <th>39248</th>\n",
       "      <td>NM_001080843</td>\n",
       "      <td>chr22</td>\n",
       "      <td>24322324</td>\n",
       "      <td>24326106</td>\n",
       "      <td>GSTT2B</td>\n",
       "    </tr>\n",
       "    <tr>\n",
       "      <th>62166</th>\n",
       "      <td>NR_126442</td>\n",
       "      <td>chr22</td>\n",
       "      <td>24322218</td>\n",
       "      <td>24326106</td>\n",
       "      <td>GSTT2</td>\n",
       "    </tr>\n",
       "    <tr>\n",
       "      <th>62167</th>\n",
       "      <td>NR_126446</td>\n",
       "      <td>chr22</td>\n",
       "      <td>24322218</td>\n",
       "      <td>24326106</td>\n",
       "      <td>GSTT2</td>\n",
       "    </tr>\n",
       "  </tbody>\n",
       "</table>\n",
       "</div>"
      ],
      "text/plain": [
       "            tx_name  chrom     start       end gene_name\n",
       "93        NR_126445  chr22  24322324  24326106     GSTT2\n",
       "1279      NR_126445  chr22  24299600  24303382     GSTT2\n",
       "7664   NM_001302670  chr22  24322218  24326106     GSTT2\n",
       "8447   NM_001080843  chr22  24299600  24303382    GSTT2B\n",
       "20162     NM_000854  chr22  24322218  24326106     GSTT2\n",
       "23076  NM_001363804  chr22  24322313  24326106    GSTT2B\n",
       "25695  NM_001363804  chr22  24299600  24303393    GSTT2B\n",
       "39248  NM_001080843  chr22  24322324  24326106    GSTT2B\n",
       "62166     NR_126442  chr22  24322218  24326106     GSTT2\n",
       "62167     NR_126446  chr22  24322218  24326106     GSTT2"
      ]
     },
     "execution_count": 5,
     "metadata": {},
     "output_type": "execute_result"
    }
   ],
   "source": [
    "ref_gene[ref_gene[\"gene_name\"].str.contains(\"GSTT2\")]"
   ]
  },
  {
   "cell_type": "markdown",
   "metadata": {
    "kernel": "SoS"
   },
   "source": [
    "## Remove chromosome Y, M and unmatched"
   ]
  },
  {
   "cell_type": "code",
   "execution_count": 6,
   "metadata": {
    "kernel": "SoS"
   },
   "outputs": [],
   "source": [
    "ref_gene = ref_gene[ref_gene[\"chrom\"].isin([\"chr\"+str(x+1) for x in range(22)] + [\"chrX\"])]"
   ]
  },
  {
   "cell_type": "code",
   "execution_count": 7,
   "metadata": {
    "kernel": "SoS"
   },
   "outputs": [
    {
     "data": {
      "text/plain": [
       "(74551, 5)"
      ]
     },
     "execution_count": 7,
     "metadata": {},
     "output_type": "execute_result"
    }
   ],
   "source": [
    "ref_gene.shape"
   ]
  },
  {
   "cell_type": "code",
   "execution_count": 8,
   "metadata": {
    "kernel": "SoS"
   },
   "outputs": [],
   "source": [
    "ref_gene[\"CHR\"] = ref_gene[\"chrom\"].apply(lambda x: int(x.split(\"chr\")[1]) if x.split(\"chr\")[1] != \"X\" else 23)"
   ]
  },
  {
   "cell_type": "code",
   "execution_count": 9,
   "metadata": {
    "kernel": "SoS"
   },
   "outputs": [
    {
     "data": {
      "text/plain": [
       "(74551, 6)"
      ]
     },
     "execution_count": 9,
     "metadata": {},
     "output_type": "execute_result"
    }
   ],
   "source": [
    "ref_gene.shape"
   ]
  },
  {
   "cell_type": "code",
   "execution_count": 10,
   "metadata": {
    "kernel": "SoS"
   },
   "outputs": [],
   "source": [
    "ref_gene = ref_gene.sort_values(by = [\"CHR\", \"gene_name\", \"start\", \"end\"])[[\"CHR\", \"start\", \"end\", \"gene_name\", \"tx_name\"]]"
   ]
  },
  {
   "cell_type": "markdown",
   "metadata": {
    "kernel": "SoS"
   },
   "source": [
    "## Drop genes that share same chr, start, end and exon/gene name (44322 left)"
   ]
  },
  {
   "cell_type": "code",
   "execution_count": 11,
   "metadata": {
    "kernel": "SoS"
   },
   "outputs": [],
   "source": [
    "ref_gene = ref_gene.drop_duplicates(subset = (\"CHR\", \"start\", \"end\", \"gene_name\"))"
   ]
  },
  {
   "cell_type": "code",
   "execution_count": 12,
   "metadata": {
    "kernel": "SoS"
   },
   "outputs": [
    {
     "data": {
      "text/plain": [
       "(44322, 5)"
      ]
     },
     "execution_count": 12,
     "metadata": {},
     "output_type": "execute_result"
    }
   ],
   "source": [
    "ref_gene.shape"
   ]
  },
  {
   "cell_type": "code",
   "execution_count": 14,
   "metadata": {
    "kernel": "SoS"
   },
   "outputs": [
    {
     "data": {
      "text/html": [
       "<div>\n",
       "<style scoped>\n",
       "    .dataframe tbody tr th:only-of-type {\n",
       "        vertical-align: middle;\n",
       "    }\n",
       "\n",
       "    .dataframe tbody tr th {\n",
       "        vertical-align: top;\n",
       "    }\n",
       "\n",
       "    .dataframe thead th {\n",
       "        text-align: right;\n",
       "    }\n",
       "</style>\n",
       "<table border=\"1\" class=\"dataframe\">\n",
       "  <thead>\n",
       "    <tr style=\"text-align: right;\">\n",
       "      <th></th>\n",
       "      <th>CHR</th>\n",
       "      <th>start</th>\n",
       "      <th>end</th>\n",
       "      <th>gene_name</th>\n",
       "      <th>tx_name</th>\n",
       "    </tr>\n",
       "  </thead>\n",
       "  <tbody>\n",
       "    <tr>\n",
       "      <th>1279</th>\n",
       "      <td>22</td>\n",
       "      <td>24299600</td>\n",
       "      <td>24303382</td>\n",
       "      <td>GSTT2</td>\n",
       "      <td>NR_126445</td>\n",
       "    </tr>\n",
       "    <tr>\n",
       "      <th>7664</th>\n",
       "      <td>22</td>\n",
       "      <td>24322218</td>\n",
       "      <td>24326106</td>\n",
       "      <td>GSTT2</td>\n",
       "      <td>NM_001302670</td>\n",
       "    </tr>\n",
       "    <tr>\n",
       "      <th>93</th>\n",
       "      <td>22</td>\n",
       "      <td>24322324</td>\n",
       "      <td>24326106</td>\n",
       "      <td>GSTT2</td>\n",
       "      <td>NR_126445</td>\n",
       "    </tr>\n",
       "    <tr>\n",
       "      <th>8447</th>\n",
       "      <td>22</td>\n",
       "      <td>24299600</td>\n",
       "      <td>24303382</td>\n",
       "      <td>GSTT2B</td>\n",
       "      <td>NM_001080843</td>\n",
       "    </tr>\n",
       "    <tr>\n",
       "      <th>25695</th>\n",
       "      <td>22</td>\n",
       "      <td>24299600</td>\n",
       "      <td>24303393</td>\n",
       "      <td>GSTT2B</td>\n",
       "      <td>NM_001363804</td>\n",
       "    </tr>\n",
       "    <tr>\n",
       "      <th>23076</th>\n",
       "      <td>22</td>\n",
       "      <td>24322313</td>\n",
       "      <td>24326106</td>\n",
       "      <td>GSTT2B</td>\n",
       "      <td>NM_001363804</td>\n",
       "    </tr>\n",
       "    <tr>\n",
       "      <th>39248</th>\n",
       "      <td>22</td>\n",
       "      <td>24322324</td>\n",
       "      <td>24326106</td>\n",
       "      <td>GSTT2B</td>\n",
       "      <td>NM_001080843</td>\n",
       "    </tr>\n",
       "  </tbody>\n",
       "</table>\n",
       "</div>"
      ],
      "text/plain": [
       "       CHR     start       end gene_name       tx_name\n",
       "1279    22  24299600  24303382     GSTT2     NR_126445\n",
       "7664    22  24322218  24326106     GSTT2  NM_001302670\n",
       "93      22  24322324  24326106     GSTT2     NR_126445\n",
       "8447    22  24299600  24303382    GSTT2B  NM_001080843\n",
       "25695   22  24299600  24303393    GSTT2B  NM_001363804\n",
       "23076   22  24322313  24326106    GSTT2B  NM_001363804\n",
       "39248   22  24322324  24326106    GSTT2B  NM_001080843"
      ]
     },
     "execution_count": 14,
     "metadata": {},
     "output_type": "execute_result"
    }
   ],
   "source": [
    "ref_gene[ref_gene[\"gene_name\"].str.contains(\"GSTT2\")]"
   ]
  },
  {
   "cell_type": "markdown",
   "metadata": {
    "kernel": "SoS"
   },
   "source": [
    "## Mark the genes and adjust gene names\n",
    "1. If chromosome for a gene (in a row) is different from the previous (previous row), then mark it as new gene;\n",
    "2. If gene name in a row is the same from the previous and start position >= previous end position\n",
    "3. If gene name in a row is different from the previous"
   ]
  },
  {
   "cell_type": "code",
   "execution_count": 15,
   "metadata": {
    "kernel": "SoS"
   },
   "outputs": [],
   "source": [
    "## shift() or shift(1): previous row\n",
    "## shift(-1): next row\n",
    "# ref_gene[\"match\"] = (ref_gene.CHR != ref_gene.CHR.shift()) | ((ref_gene.start >= ref_gene.end.shift()) & (ref_gene.gene_name == ref_gene.gene_name.shift())) | \\\n",
    "#                     ((ref_gene.start >= ref_gene.end.shift()) & (ref_gene.gene_name != ref_gene.gene_name.shift()))\n",
    "while (True):\n",
    "    ref_gene = ref_gene.set_index([[i for i in range(ref_gene.shape[0])]])\n",
    "    ref_gene[\"match\"] = (ref_gene.CHR != ref_gene.CHR.shift()) | ((ref_gene.gene_name == ref_gene.gene_name.shift()) & (ref_gene.start >= ref_gene.end.shift())) | \\\n",
    "                        (ref_gene.gene_name != ref_gene.gene_name.shift())\n",
    "    if ref_gene[ref_gene[\"match\"] == True].shape[0] == ref_gene.shape[0]:\n",
    "        break\n",
    "    else:\n",
    "        num = 1\n",
    "        gene = list()\n",
    "        for i in range(23):\n",
    "            tmp = ref_gene[ref_gene[\"CHR\"] == i+1]\n",
    "            for index, row in tmp.iterrows():\n",
    "                if row[\"match\"] == True:\n",
    "                    gene.append(\"gene\" + str(num))\n",
    "                    num += 1\n",
    "                else:\n",
    "                    gene.append(\"gene\" + str(num-1))\n",
    "        ref_gene[\"gene\"] = gene\n",
    "        ref_gene_fromlist = list()\n",
    "        gene_list = list(unique_everseen(gene))\n",
    "        for gn in gene_list:\n",
    "            tmp = ref_gene[ref_gene[\"gene\"] == gn]\n",
    "            if tmp.shape[0] == 1:\n",
    "                ref_gene_fromlist.append([tmp[\"CHR\"].tolist()[0], tmp[\"start\"].tolist()[0], tmp[\"end\"].tolist()[0], tmp[\"gene_name\"].tolist()[0]])\n",
    "            else:\n",
    "                ref_gene_fromlist.append([tmp[\"CHR\"].tolist()[0], min(tmp[\"start\"]), max(tmp[\"end\"]), tmp[\"gene_name\"].tolist()[0]])\n",
    "        ref_gene = pd.DataFrame(ref_gene_fromlist, columns = [\"CHR\", \"start\", \"end\", \"gene_name\"])"
   ]
  },
  {
   "cell_type": "code",
   "execution_count": 16,
   "metadata": {
    "kernel": "SoS"
   },
   "outputs": [
    {
     "data": {
      "text/html": [
       "<div>\n",
       "<style scoped>\n",
       "    .dataframe tbody tr th:only-of-type {\n",
       "        vertical-align: middle;\n",
       "    }\n",
       "\n",
       "    .dataframe tbody tr th {\n",
       "        vertical-align: top;\n",
       "    }\n",
       "\n",
       "    .dataframe thead th {\n",
       "        text-align: right;\n",
       "    }\n",
       "</style>\n",
       "<table border=\"1\" class=\"dataframe\">\n",
       "  <thead>\n",
       "    <tr style=\"text-align: right;\">\n",
       "      <th></th>\n",
       "      <th>CHR</th>\n",
       "      <th>start</th>\n",
       "      <th>end</th>\n",
       "      <th>gene_name</th>\n",
       "      <th>match</th>\n",
       "    </tr>\n",
       "  </thead>\n",
       "  <tbody>\n",
       "    <tr>\n",
       "      <th>0</th>\n",
       "      <td>1</td>\n",
       "      <td>33772366</td>\n",
       "      <td>33786699</td>\n",
       "      <td>A3GALT2</td>\n",
       "      <td>True</td>\n",
       "    </tr>\n",
       "    <tr>\n",
       "      <th>1</th>\n",
       "      <td>1</td>\n",
       "      <td>12776112</td>\n",
       "      <td>12788727</td>\n",
       "      <td>AADACL3</td>\n",
       "      <td>True</td>\n",
       "    </tr>\n",
       "    <tr>\n",
       "      <th>2</th>\n",
       "      <td>1</td>\n",
       "      <td>12704565</td>\n",
       "      <td>12727097</td>\n",
       "      <td>AADACL4</td>\n",
       "      <td>True</td>\n",
       "    </tr>\n",
       "    <tr>\n",
       "      <th>3</th>\n",
       "      <td>1</td>\n",
       "      <td>94458389</td>\n",
       "      <td>94586704</td>\n",
       "      <td>ABCA4</td>\n",
       "      <td>True</td>\n",
       "    </tr>\n",
       "    <tr>\n",
       "      <th>4</th>\n",
       "      <td>1</td>\n",
       "      <td>229652328</td>\n",
       "      <td>229694454</td>\n",
       "      <td>ABCB10</td>\n",
       "      <td>True</td>\n",
       "    </tr>\n",
       "  </tbody>\n",
       "</table>\n",
       "</div>"
      ],
      "text/plain": [
       "   CHR      start        end gene_name  match\n",
       "0    1   33772366   33786699   A3GALT2   True\n",
       "1    1   12776112   12788727   AADACL3   True\n",
       "2    1   12704565   12727097   AADACL4   True\n",
       "3    1   94458389   94586704     ABCA4   True\n",
       "4    1  229652328  229694454    ABCB10   True"
      ]
     },
     "execution_count": 16,
     "metadata": {},
     "output_type": "execute_result"
    }
   ],
   "source": [
    "ref_gene.head()"
   ]
  },
  {
   "cell_type": "code",
   "execution_count": 17,
   "metadata": {
    "kernel": "SoS"
   },
   "outputs": [
    {
     "data": {
      "text/plain": [
       "Counter({True: 29337})"
      ]
     },
     "execution_count": 17,
     "metadata": {},
     "output_type": "execute_result"
    }
   ],
   "source": [
    "Counter(ref_gene[\"match\"])"
   ]
  },
  {
   "cell_type": "markdown",
   "metadata": {
    "kernel": "SoS"
   },
   "source": [
    "## Rename duplicated genes"
   ]
  },
  {
   "cell_type": "code",
   "execution_count": 19,
   "metadata": {
    "kernel": "SoS"
   },
   "outputs": [],
   "source": [
    "gene_name = ref_gene[\"gene_name\"].tolist()"
   ]
  },
  {
   "cell_type": "code",
   "execution_count": 20,
   "metadata": {
    "kernel": "SoS"
   },
   "outputs": [],
   "source": [
    "gene_name_new = []\n",
    "for i, v in enumerate(gene_name):\n",
    "    totalcount = gene_name.count(v)\n",
    "    count = gene_name[:i].count(v)\n",
    "    gene_name_new.append(v + \"@\" + str(count + 1) if totalcount > 1 else v)"
   ]
  },
  {
   "cell_type": "code",
   "execution_count": 21,
   "metadata": {
    "kernel": "SoS"
   },
   "outputs": [],
   "source": [
    "ref_gene[\"gene_name\"] = gene_name_new"
   ]
  },
  {
   "cell_type": "code",
   "execution_count": 22,
   "metadata": {
    "kernel": "SoS"
   },
   "outputs": [],
   "source": [
    "query = '''\n",
    "select CHR, start, end, group_concat(gene_name) as gene_name\n",
    "from ref_gene\n",
    "group by CHR, start, end\n",
    "'''"
   ]
  },
  {
   "cell_type": "code",
   "execution_count": 23,
   "metadata": {
    "kernel": "SoS"
   },
   "outputs": [],
   "source": [
    "ref_gene = sqldf(query)"
   ]
  },
  {
   "cell_type": "code",
   "execution_count": 24,
   "metadata": {
    "kernel": "SoS"
   },
   "outputs": [
    {
     "data": {
      "text/plain": [
       "(28488, 4)"
      ]
     },
     "execution_count": 24,
     "metadata": {},
     "output_type": "execute_result"
    }
   ],
   "source": [
    "ref_gene.shape"
   ]
  },
  {
   "cell_type": "code",
   "execution_count": 25,
   "metadata": {
    "kernel": "SoS"
   },
   "outputs": [
    {
     "data": {
      "text/html": [
       "<div>\n",
       "<style scoped>\n",
       "    .dataframe tbody tr th:only-of-type {\n",
       "        vertical-align: middle;\n",
       "    }\n",
       "\n",
       "    .dataframe tbody tr th {\n",
       "        vertical-align: top;\n",
       "    }\n",
       "\n",
       "    .dataframe thead th {\n",
       "        text-align: right;\n",
       "    }\n",
       "</style>\n",
       "<table border=\"1\" class=\"dataframe\">\n",
       "  <thead>\n",
       "    <tr style=\"text-align: right;\">\n",
       "      <th></th>\n",
       "      <th>CHR</th>\n",
       "      <th>start</th>\n",
       "      <th>end</th>\n",
       "      <th>gene_name</th>\n",
       "    </tr>\n",
       "  </thead>\n",
       "  <tbody>\n",
       "    <tr>\n",
       "      <th>9</th>\n",
       "      <td>1</td>\n",
       "      <td>367658</td>\n",
       "      <td>368597</td>\n",
       "      <td>OR4F16@1,OR4F29@1,OR4F3@1</td>\n",
       "    </tr>\n",
       "    <tr>\n",
       "      <th>12</th>\n",
       "      <td>1</td>\n",
       "      <td>621095</td>\n",
       "      <td>622034</td>\n",
       "      <td>OR4F16@2,OR4F29@2,OR4F3@2</td>\n",
       "    </tr>\n",
       "    <tr>\n",
       "      <th>8646</th>\n",
       "      <td>5</td>\n",
       "      <td>180794287</td>\n",
       "      <td>180795226</td>\n",
       "      <td>OR4F16@3,OR4F29@3,OR4F3@3</td>\n",
       "    </tr>\n",
       "  </tbody>\n",
       "</table>\n",
       "</div>"
      ],
      "text/plain": [
       "      CHR      start        end                  gene_name\n",
       "9       1     367658     368597  OR4F16@1,OR4F29@1,OR4F3@1\n",
       "12      1     621095     622034  OR4F16@2,OR4F29@2,OR4F3@2\n",
       "8646    5  180794287  180795226  OR4F16@3,OR4F29@3,OR4F3@3"
      ]
     },
     "execution_count": 25,
     "metadata": {},
     "output_type": "execute_result"
    }
   ],
   "source": [
    "ref_gene[ref_gene[\"gene_name\"].str.contains(\"OR4F16\")]"
   ]
  },
  {
   "cell_type": "code",
   "execution_count": 26,
   "metadata": {
    "kernel": "SoS"
   },
   "outputs": [],
   "source": [
    "for idx, item in ref_gene.iterrows():\n",
    "    ref_gene.iloc[idx, 3] = str(sorted(item[\"gene_name\"].split(\",\"))).strip('[]').replace('\\'', '').replace(' ', '')"
   ]
  },
  {
   "cell_type": "code",
   "execution_count": 27,
   "metadata": {
    "kernel": "SoS"
   },
   "outputs": [
    {
     "data": {
      "text/html": [
       "<div>\n",
       "<style scoped>\n",
       "    .dataframe tbody tr th:only-of-type {\n",
       "        vertical-align: middle;\n",
       "    }\n",
       "\n",
       "    .dataframe tbody tr th {\n",
       "        vertical-align: top;\n",
       "    }\n",
       "\n",
       "    .dataframe thead th {\n",
       "        text-align: right;\n",
       "    }\n",
       "</style>\n",
       "<table border=\"1\" class=\"dataframe\">\n",
       "  <thead>\n",
       "    <tr style=\"text-align: right;\">\n",
       "      <th></th>\n",
       "      <th>CHR</th>\n",
       "      <th>start</th>\n",
       "      <th>end</th>\n",
       "      <th>gene_name</th>\n",
       "    </tr>\n",
       "  </thead>\n",
       "  <tbody>\n",
       "    <tr>\n",
       "      <th>0</th>\n",
       "      <td>1</td>\n",
       "      <td>11868</td>\n",
       "      <td>14362</td>\n",
       "      <td>LOC102725121@1</td>\n",
       "    </tr>\n",
       "    <tr>\n",
       "      <th>1</th>\n",
       "      <td>1</td>\n",
       "      <td>11873</td>\n",
       "      <td>14409</td>\n",
       "      <td>DDX11L1</td>\n",
       "    </tr>\n",
       "    <tr>\n",
       "      <th>2</th>\n",
       "      <td>1</td>\n",
       "      <td>14361</td>\n",
       "      <td>29370</td>\n",
       "      <td>WASH7P</td>\n",
       "    </tr>\n",
       "    <tr>\n",
       "      <th>3</th>\n",
       "      <td>1</td>\n",
       "      <td>17368</td>\n",
       "      <td>17436</td>\n",
       "      <td>MIR6859-1@1,MIR6859-2@1,MIR6859-3@1,MIR6859-4@1</td>\n",
       "    </tr>\n",
       "    <tr>\n",
       "      <th>4</th>\n",
       "      <td>1</td>\n",
       "      <td>30365</td>\n",
       "      <td>30503</td>\n",
       "      <td>MIR1302-10@1,MIR1302-11@1,MIR1302-2@1,MIR1302-9@1</td>\n",
       "    </tr>\n",
       "  </tbody>\n",
       "</table>\n",
       "</div>"
      ],
      "text/plain": [
       "   CHR  start    end                                          gene_name\n",
       "0    1  11868  14362                                     LOC102725121@1\n",
       "1    1  11873  14409                                            DDX11L1\n",
       "2    1  14361  29370                                             WASH7P\n",
       "3    1  17368  17436    MIR6859-1@1,MIR6859-2@1,MIR6859-3@1,MIR6859-4@1\n",
       "4    1  30365  30503  MIR1302-10@1,MIR1302-11@1,MIR1302-2@1,MIR1302-9@1"
      ]
     },
     "execution_count": 27,
     "metadata": {},
     "output_type": "execute_result"
    }
   ],
   "source": [
    "ref_gene.head()"
   ]
  },
  {
   "cell_type": "code",
   "execution_count": 28,
   "metadata": {
    "kernel": "SoS"
   },
   "outputs": [
    {
     "data": {
      "text/html": [
       "<div>\n",
       "<style scoped>\n",
       "    .dataframe tbody tr th:only-of-type {\n",
       "        vertical-align: middle;\n",
       "    }\n",
       "\n",
       "    .dataframe tbody tr th {\n",
       "        vertical-align: top;\n",
       "    }\n",
       "\n",
       "    .dataframe thead th {\n",
       "        text-align: right;\n",
       "    }\n",
       "</style>\n",
       "<table border=\"1\" class=\"dataframe\">\n",
       "  <thead>\n",
       "    <tr style=\"text-align: right;\">\n",
       "      <th></th>\n",
       "      <th>CHR</th>\n",
       "      <th>start</th>\n",
       "      <th>end</th>\n",
       "      <th>gene_name</th>\n",
       "    </tr>\n",
       "  </thead>\n",
       "  <tbody>\n",
       "    <tr>\n",
       "      <th>9</th>\n",
       "      <td>1</td>\n",
       "      <td>367658</td>\n",
       "      <td>368597</td>\n",
       "      <td>OR4F16@1,OR4F29@1,OR4F3@1</td>\n",
       "    </tr>\n",
       "    <tr>\n",
       "      <th>12</th>\n",
       "      <td>1</td>\n",
       "      <td>621095</td>\n",
       "      <td>622034</td>\n",
       "      <td>OR4F16@2,OR4F29@2,OR4F3@2</td>\n",
       "    </tr>\n",
       "    <tr>\n",
       "      <th>8646</th>\n",
       "      <td>5</td>\n",
       "      <td>180794287</td>\n",
       "      <td>180795226</td>\n",
       "      <td>OR4F16@3,OR4F29@3,OR4F3@3</td>\n",
       "    </tr>\n",
       "  </tbody>\n",
       "</table>\n",
       "</div>"
      ],
      "text/plain": [
       "      CHR      start        end                  gene_name\n",
       "9       1     367658     368597  OR4F16@1,OR4F29@1,OR4F3@1\n",
       "12      1     621095     622034  OR4F16@2,OR4F29@2,OR4F3@2\n",
       "8646    5  180794287  180795226  OR4F16@3,OR4F29@3,OR4F3@3"
      ]
     },
     "execution_count": 28,
     "metadata": {},
     "output_type": "execute_result"
    }
   ],
   "source": [
    "ref_gene[ref_gene[\"gene_name\"].str.contains(\"OR4F16\")]"
   ]
  },
  {
   "cell_type": "code",
   "execution_count": 29,
   "metadata": {
    "kernel": "SoS"
   },
   "outputs": [
    {
     "data": {
      "text/html": [
       "<div>\n",
       "<style scoped>\n",
       "    .dataframe tbody tr th:only-of-type {\n",
       "        vertical-align: middle;\n",
       "    }\n",
       "\n",
       "    .dataframe tbody tr th {\n",
       "        vertical-align: top;\n",
       "    }\n",
       "\n",
       "    .dataframe thead th {\n",
       "        text-align: right;\n",
       "    }\n",
       "</style>\n",
       "<table border=\"1\" class=\"dataframe\">\n",
       "  <thead>\n",
       "    <tr style=\"text-align: right;\">\n",
       "      <th></th>\n",
       "      <th>CHR</th>\n",
       "      <th>start</th>\n",
       "      <th>end</th>\n",
       "      <th>gene_name</th>\n",
       "    </tr>\n",
       "  </thead>\n",
       "  <tbody>\n",
       "    <tr>\n",
       "      <th>3</th>\n",
       "      <td>1</td>\n",
       "      <td>17368</td>\n",
       "      <td>17436</td>\n",
       "      <td>MIR6859-1@1,MIR6859-2@1,MIR6859-3@1,MIR6859-4@1</td>\n",
       "    </tr>\n",
       "    <tr>\n",
       "      <th>20455</th>\n",
       "      <td>15</td>\n",
       "      <td>102513726</td>\n",
       "      <td>102513794</td>\n",
       "      <td>MIR6859-1@2,MIR6859-2@2,MIR6859-3@2,MIR6859-4@2</td>\n",
       "    </tr>\n",
       "    <tr>\n",
       "      <th>20459</th>\n",
       "      <td>16</td>\n",
       "      <td>67051</td>\n",
       "      <td>67119</td>\n",
       "      <td>MIR6859-1@3,MIR6859-2@3,MIR6859-3@3,MIR6859-4@3</td>\n",
       "    </tr>\n",
       "  </tbody>\n",
       "</table>\n",
       "</div>"
      ],
      "text/plain": [
       "       CHR  ...                                        gene_name\n",
       "3        1  ...  MIR6859-1@1,MIR6859-2@1,MIR6859-3@1,MIR6859-4@1\n",
       "20455   15  ...  MIR6859-1@2,MIR6859-2@2,MIR6859-3@2,MIR6859-4@2\n",
       "20459   16  ...  MIR6859-1@3,MIR6859-2@3,MIR6859-3@3,MIR6859-4@3\n",
       "\n",
       "[3 rows x 4 columns]"
      ]
     },
     "execution_count": 29,
     "metadata": {},
     "output_type": "execute_result"
    }
   ],
   "source": [
    "ref_gene[ref_gene[\"gene_name\"].str.contains(\"MIR6859-1\")]"
   ]
  },
  {
   "cell_type": "markdown",
   "metadata": {
    "kernel": "SoS"
   },
   "source": [
    "## Drop genes that share same chr, start and end (43442 left)"
   ]
  },
  {
   "cell_type": "code",
   "execution_count": 26,
   "metadata": {
    "kernel": "SoS"
   },
   "outputs": [
    {
     "data": {
      "text/plain": [
       "(43442, 5)"
      ]
     },
     "execution_count": 26,
     "metadata": {},
     "output_type": "execute_result"
    }
   ],
   "source": [
    "# ref_gene = ref_gene.drop_duplicates(subset = (\"CHR\", \"start\", \"end\"))\n",
    "# ref_gene.shape"
   ]
  },
  {
   "cell_type": "code",
   "execution_count": 13,
   "metadata": {
    "kernel": "SoS"
   },
   "outputs": [],
   "source": [
    "## not correct\n",
    "# start = ref_gene[[\"CHR\", \"gene_name\", \"start\"]].groupby([\"CHR\", \"gene_name\"]).min().reset_index(drop = False)\n",
    "# end = ref_gene[[\"CHR\", \"gene_name\", \"end\"]].groupby([\"CHR\", \"gene_name\"]).max().reset_index(drop = False)"
   ]
  },
  {
   "cell_type": "code",
   "execution_count": 30,
   "metadata": {
    "kernel": "SoS"
   },
   "outputs": [
    {
     "data": {
      "text/html": [
       "<div>\n",
       "<style scoped>\n",
       "    .dataframe tbody tr th:only-of-type {\n",
       "        vertical-align: middle;\n",
       "    }\n",
       "\n",
       "    .dataframe tbody tr th {\n",
       "        vertical-align: top;\n",
       "    }\n",
       "\n",
       "    .dataframe thead th {\n",
       "        text-align: right;\n",
       "    }\n",
       "</style>\n",
       "<table border=\"1\" class=\"dataframe\">\n",
       "  <thead>\n",
       "    <tr style=\"text-align: right;\">\n",
       "      <th></th>\n",
       "      <th>CHR</th>\n",
       "      <th>start</th>\n",
       "      <th>end</th>\n",
       "      <th>gene_name</th>\n",
       "    </tr>\n",
       "  </thead>\n",
       "  <tbody>\n",
       "    <tr>\n",
       "      <th>35</th>\n",
       "      <td>1</td>\n",
       "      <td>1109259</td>\n",
       "      <td>1133315</td>\n",
       "      <td>TTLL10</td>\n",
       "    </tr>\n",
       "  </tbody>\n",
       "</table>\n",
       "</div>"
      ],
      "text/plain": [
       "    CHR    start      end gene_name\n",
       "35    1  1109259  1133315    TTLL10"
      ]
     },
     "execution_count": 30,
     "metadata": {},
     "output_type": "execute_result"
    }
   ],
   "source": [
    "ref_gene[ref_gene[\"gene_name\"].str.contains(\"TTLL10\")]"
   ]
  },
  {
   "cell_type": "code",
   "execution_count": 31,
   "metadata": {
    "kernel": "SoS"
   },
   "outputs": [
    {
     "data": {
      "text/html": [
       "<div>\n",
       "<style scoped>\n",
       "    .dataframe tbody tr th:only-of-type {\n",
       "        vertical-align: middle;\n",
       "    }\n",
       "\n",
       "    .dataframe tbody tr th {\n",
       "        vertical-align: top;\n",
       "    }\n",
       "\n",
       "    .dataframe thead th {\n",
       "        text-align: right;\n",
       "    }\n",
       "</style>\n",
       "<table border=\"1\" class=\"dataframe\">\n",
       "  <thead>\n",
       "    <tr style=\"text-align: right;\">\n",
       "      <th></th>\n",
       "      <th>CHR</th>\n",
       "      <th>start</th>\n",
       "      <th>end</th>\n",
       "      <th>gene_name</th>\n",
       "    </tr>\n",
       "  </thead>\n",
       "  <tbody>\n",
       "    <tr>\n",
       "      <th>17</th>\n",
       "      <td>1</td>\n",
       "      <td>762970</td>\n",
       "      <td>794826</td>\n",
       "      <td>LINC01128</td>\n",
       "    </tr>\n",
       "  </tbody>\n",
       "</table>\n",
       "</div>"
      ],
      "text/plain": [
       "    CHR   start     end  gene_name\n",
       "17    1  762970  794826  LINC01128"
      ]
     },
     "execution_count": 31,
     "metadata": {},
     "output_type": "execute_result"
    }
   ],
   "source": [
    "ref_gene[ref_gene[\"gene_name\"].str.contains(\"LINC01128\")]"
   ]
  },
  {
   "cell_type": "code",
   "execution_count": 32,
   "metadata": {
    "kernel": "SoS"
   },
   "outputs": [
    {
     "data": {
      "text/html": [
       "<div>\n",
       "<style scoped>\n",
       "    .dataframe tbody tr th:only-of-type {\n",
       "        vertical-align: middle;\n",
       "    }\n",
       "\n",
       "    .dataframe tbody tr th {\n",
       "        vertical-align: top;\n",
       "    }\n",
       "\n",
       "    .dataframe thead th {\n",
       "        text-align: right;\n",
       "    }\n",
       "</style>\n",
       "<table border=\"1\" class=\"dataframe\">\n",
       "  <thead>\n",
       "    <tr style=\"text-align: right;\">\n",
       "      <th></th>\n",
       "      <th>CHR</th>\n",
       "      <th>start</th>\n",
       "      <th>end</th>\n",
       "      <th>gene_name</th>\n",
       "    </tr>\n",
       "  </thead>\n",
       "  <tbody>\n",
       "    <tr>\n",
       "      <th>149</th>\n",
       "      <td>1</td>\n",
       "      <td>6843951</td>\n",
       "      <td>6845040</td>\n",
       "      <td>CAMTA1-DT</td>\n",
       "    </tr>\n",
       "    <tr>\n",
       "      <th>150</th>\n",
       "      <td>1</td>\n",
       "      <td>6845383</td>\n",
       "      <td>7829766</td>\n",
       "      <td>CAMTA1</td>\n",
       "    </tr>\n",
       "    <tr>\n",
       "      <th>151</th>\n",
       "      <td>1</td>\n",
       "      <td>7442547</td>\n",
       "      <td>7449814</td>\n",
       "      <td>CAMTA1-AS2</td>\n",
       "    </tr>\n",
       "  </tbody>\n",
       "</table>\n",
       "</div>"
      ],
      "text/plain": [
       "     CHR    start      end   gene_name\n",
       "149    1  6843951  6845040   CAMTA1-DT\n",
       "150    1  6845383  7829766      CAMTA1\n",
       "151    1  7442547  7449814  CAMTA1-AS2"
      ]
     },
     "execution_count": 32,
     "metadata": {},
     "output_type": "execute_result"
    }
   ],
   "source": [
    "ref_gene[ref_gene[\"gene_name\"].str.contains(\"CAMTA1\")]"
   ]
  },
  {
   "cell_type": "code",
   "execution_count": 34,
   "metadata": {
    "kernel": "SoS"
   },
   "outputs": [],
   "source": [
    "ref_gene[\"CHR\"] = [item if item != 23 else \"X\" for item in ref_gene[\"CHR\"]]"
   ]
  },
  {
   "cell_type": "code",
   "execution_count": 35,
   "metadata": {
    "kernel": "SoS"
   },
   "outputs": [
    {
     "data": {
      "text/html": [
       "<div>\n",
       "<style scoped>\n",
       "    .dataframe tbody tr th:only-of-type {\n",
       "        vertical-align: middle;\n",
       "    }\n",
       "\n",
       "    .dataframe tbody tr th {\n",
       "        vertical-align: top;\n",
       "    }\n",
       "\n",
       "    .dataframe thead th {\n",
       "        text-align: right;\n",
       "    }\n",
       "</style>\n",
       "<table border=\"1\" class=\"dataframe\">\n",
       "  <thead>\n",
       "    <tr style=\"text-align: right;\">\n",
       "      <th></th>\n",
       "      <th>CHR</th>\n",
       "      <th>start</th>\n",
       "      <th>end</th>\n",
       "      <th>gene_name</th>\n",
       "    </tr>\n",
       "  </thead>\n",
       "  <tbody>\n",
       "    <tr>\n",
       "      <th>28483</th>\n",
       "      <td>X</td>\n",
       "      <td>154842225</td>\n",
       "      <td>155012119</td>\n",
       "      <td>SPRY3</td>\n",
       "    </tr>\n",
       "    <tr>\n",
       "      <th>28484</th>\n",
       "      <td>X</td>\n",
       "      <td>155111007</td>\n",
       "      <td>155173433</td>\n",
       "      <td>VAMP7</td>\n",
       "    </tr>\n",
       "    <tr>\n",
       "      <th>28485</th>\n",
       "      <td>X</td>\n",
       "      <td>155227360</td>\n",
       "      <td>155240482</td>\n",
       "      <td>IL9R</td>\n",
       "    </tr>\n",
       "    <tr>\n",
       "      <th>28486</th>\n",
       "      <td>X</td>\n",
       "      <td>155244228</td>\n",
       "      <td>155246495</td>\n",
       "      <td>WASIR1</td>\n",
       "    </tr>\n",
       "    <tr>\n",
       "      <th>28487</th>\n",
       "      <td>X</td>\n",
       "      <td>155255322</td>\n",
       "      <td>155257848</td>\n",
       "      <td>DDX11L16</td>\n",
       "    </tr>\n",
       "  </tbody>\n",
       "</table>\n",
       "</div>"
      ],
      "text/plain": [
       "      CHR      start        end gene_name\n",
       "28483   X  154842225  155012119     SPRY3\n",
       "28484   X  155111007  155173433     VAMP7\n",
       "28485   X  155227360  155240482      IL9R\n",
       "28486   X  155244228  155246495    WASIR1\n",
       "28487   X  155255322  155257848  DDX11L16"
      ]
     },
     "execution_count": 35,
     "metadata": {},
     "output_type": "execute_result"
    }
   ],
   "source": [
    "ref_gene.tail()"
   ]
  },
  {
   "cell_type": "code",
   "execution_count": 36,
   "metadata": {
    "kernel": "SoS"
   },
   "outputs": [
    {
     "data": {
      "text/html": [
       "<div>\n",
       "<style scoped>\n",
       "    .dataframe tbody tr th:only-of-type {\n",
       "        vertical-align: middle;\n",
       "    }\n",
       "\n",
       "    .dataframe tbody tr th {\n",
       "        vertical-align: top;\n",
       "    }\n",
       "\n",
       "    .dataframe thead th {\n",
       "        text-align: right;\n",
       "    }\n",
       "</style>\n",
       "<table border=\"1\" class=\"dataframe\">\n",
       "  <thead>\n",
       "    <tr style=\"text-align: right;\">\n",
       "      <th></th>\n",
       "      <th>CHR</th>\n",
       "      <th>start</th>\n",
       "      <th>end</th>\n",
       "      <th>gene_name</th>\n",
       "    </tr>\n",
       "  </thead>\n",
       "  <tbody>\n",
       "    <tr>\n",
       "      <th>3</th>\n",
       "      <td>1</td>\n",
       "      <td>17368</td>\n",
       "      <td>17436</td>\n",
       "      <td>MIR6859-1@1,MIR6859-2@1,MIR6859-3@1,MIR6859-4@1</td>\n",
       "    </tr>\n",
       "    <tr>\n",
       "      <th>20455</th>\n",
       "      <td>15</td>\n",
       "      <td>102513726</td>\n",
       "      <td>102513794</td>\n",
       "      <td>MIR6859-1@2,MIR6859-2@2,MIR6859-3@2,MIR6859-4@2</td>\n",
       "    </tr>\n",
       "    <tr>\n",
       "      <th>20459</th>\n",
       "      <td>16</td>\n",
       "      <td>67051</td>\n",
       "      <td>67119</td>\n",
       "      <td>MIR6859-1@3,MIR6859-2@3,MIR6859-3@3,MIR6859-4@3</td>\n",
       "    </tr>\n",
       "  </tbody>\n",
       "</table>\n",
       "</div>"
      ],
      "text/plain": [
       "      CHR  ...                                        gene_name\n",
       "3       1  ...  MIR6859-1@1,MIR6859-2@1,MIR6859-3@1,MIR6859-4@1\n",
       "20455  15  ...  MIR6859-1@2,MIR6859-2@2,MIR6859-3@2,MIR6859-4@2\n",
       "20459  16  ...  MIR6859-1@3,MIR6859-2@3,MIR6859-3@3,MIR6859-4@3\n",
       "\n",
       "[3 rows x 4 columns]"
      ]
     },
     "execution_count": 36,
     "metadata": {},
     "output_type": "execute_result"
    }
   ],
   "source": [
    "ref_gene[ref_gene[\"gene_name\"].str.contains(\"MIR6859-1\")]"
   ]
  },
  {
   "cell_type": "code",
   "execution_count": 55,
   "metadata": {
    "kernel": "SoS"
   },
   "outputs": [
    {
     "data": {
      "text/html": [
       "<div>\n",
       "<style scoped>\n",
       "    .dataframe tbody tr th:only-of-type {\n",
       "        vertical-align: middle;\n",
       "    }\n",
       "\n",
       "    .dataframe tbody tr th {\n",
       "        vertical-align: top;\n",
       "    }\n",
       "\n",
       "    .dataframe thead th {\n",
       "        text-align: right;\n",
       "    }\n",
       "</style>\n",
       "<table border=\"1\" class=\"dataframe\">\n",
       "  <thead>\n",
       "    <tr style=\"text-align: right;\">\n",
       "      <th></th>\n",
       "      <th>CHR</th>\n",
       "      <th>start</th>\n",
       "      <th>end</th>\n",
       "      <th>gene_name</th>\n",
       "    </tr>\n",
       "  </thead>\n",
       "  <tbody>\n",
       "    <tr>\n",
       "      <th>0</th>\n",
       "      <td>1</td>\n",
       "      <td>11868</td>\n",
       "      <td>14362</td>\n",
       "      <td>LOC102725121@1</td>\n",
       "    </tr>\n",
       "    <tr>\n",
       "      <th>20457</th>\n",
       "      <td>15</td>\n",
       "      <td>102516807</td>\n",
       "      <td>102519301</td>\n",
       "      <td>LOC102725121@2</td>\n",
       "    </tr>\n",
       "  </tbody>\n",
       "</table>\n",
       "</div>"
      ],
      "text/plain": [
       "      CHR      start        end       gene_name\n",
       "0       1      11868      14362  LOC102725121@1\n",
       "20457  15  102516807  102519301  LOC102725121@2"
      ]
     },
     "execution_count": 55,
     "metadata": {},
     "output_type": "execute_result"
    }
   ],
   "source": [
    "ref_gene[ref_gene[\"gene_name\"].str.contains(\"LOC102725121\")]"
   ]
  },
  {
   "cell_type": "code",
   "execution_count": 38,
   "metadata": {
    "kernel": "SoS"
   },
   "outputs": [
    {
     "data": {
      "text/html": [
       "<div>\n",
       "<style scoped>\n",
       "    .dataframe tbody tr th:only-of-type {\n",
       "        vertical-align: middle;\n",
       "    }\n",
       "\n",
       "    .dataframe tbody tr th {\n",
       "        vertical-align: top;\n",
       "    }\n",
       "\n",
       "    .dataframe thead th {\n",
       "        text-align: right;\n",
       "    }\n",
       "</style>\n",
       "<table border=\"1\" class=\"dataframe\">\n",
       "  <thead>\n",
       "    <tr style=\"text-align: right;\">\n",
       "      <th></th>\n",
       "      <th>CHR</th>\n",
       "      <th>start</th>\n",
       "      <th>end</th>\n",
       "      <th>gene_name</th>\n",
       "    </tr>\n",
       "  </thead>\n",
       "  <tbody>\n",
       "    <tr>\n",
       "      <th>4</th>\n",
       "      <td>1</td>\n",
       "      <td>30365</td>\n",
       "      <td>30503</td>\n",
       "      <td>MIR1302-10@1,MIR1302-11@1,MIR1302-2@1,MIR1302-9@1</td>\n",
       "    </tr>\n",
       "    <tr>\n",
       "      <th>12533</th>\n",
       "      <td>9</td>\n",
       "      <td>30143</td>\n",
       "      <td>30281</td>\n",
       "      <td>MIR1302-10@2,MIR1302-11@2,MIR1302-2@2,MIR1302-9@2</td>\n",
       "    </tr>\n",
       "    <tr>\n",
       "      <th>20453</th>\n",
       "      <td>15</td>\n",
       "      <td>102500661</td>\n",
       "      <td>102500799</td>\n",
       "      <td>MIR1302-10@3,MIR1302-11@3,MIR1302-2@3,MIR1302-9@3</td>\n",
       "    </tr>\n",
       "    <tr>\n",
       "      <th>23662</th>\n",
       "      <td>19</td>\n",
       "      <td>71972</td>\n",
       "      <td>72110</td>\n",
       "      <td>MIR1302-10@4,MIR1302-11@4,MIR1302-2@4,MIR1302-9@4</td>\n",
       "    </tr>\n",
       "  </tbody>\n",
       "</table>\n",
       "</div>"
      ],
      "text/plain": [
       "      CHR  ...                                          gene_name\n",
       "4       1  ...  MIR1302-10@1,MIR1302-11@1,MIR1302-2@1,MIR1302-9@1\n",
       "12533   9  ...  MIR1302-10@2,MIR1302-11@2,MIR1302-2@2,MIR1302-9@2\n",
       "20453  15  ...  MIR1302-10@3,MIR1302-11@3,MIR1302-2@3,MIR1302-9@3\n",
       "23662  19  ...  MIR1302-10@4,MIR1302-11@4,MIR1302-2@4,MIR1302-9@4\n",
       "\n",
       "[4 rows x 4 columns]"
      ]
     },
     "execution_count": 38,
     "metadata": {},
     "output_type": "execute_result"
    }
   ],
   "source": [
    "ref_gene[ref_gene[\"gene_name\"].str.contains(\"MIR1302-10\")]"
   ]
  },
  {
   "cell_type": "code",
   "execution_count": 39,
   "metadata": {
    "kernel": "SoS"
   },
   "outputs": [],
   "source": [
    "ref_gene = ref_gene.sort_values(by = [\"CHR\", \"start\", \"end\", \"gene_name\"])"
   ]
  },
  {
   "cell_type": "code",
   "execution_count": 40,
   "metadata": {
    "kernel": "SoS"
   },
   "outputs": [],
   "source": [
    "## 20200317\n",
    "ref_gene.to_csv(f\"{cwd}/refGene.clean.gz\", compression = \"gzip\", sep = \"\\t\", index = False, header = [\"CHR\", \"start\", \"end\", \"gene\"])"
   ]
  },
  {
   "cell_type": "markdown",
   "metadata": {
    "kernel": "SoS"
   },
   "source": [
    "## Check for validity"
   ]
  },
  {
   "cell_type": "code",
   "execution_count": 41,
   "metadata": {
    "kernel": "SoS"
   },
   "outputs": [
    {
     "data": {
      "text/plain": [
       "(28488, 4)"
      ]
     },
     "execution_count": 41,
     "metadata": {},
     "output_type": "execute_result"
    }
   ],
   "source": [
    "ref_gene.drop_duplicates(subset = (\"CHR\", \"start\", \"end\")).shape"
   ]
  },
  {
   "cell_type": "code",
   "execution_count": 42,
   "metadata": {
    "kernel": "SoS"
   },
   "outputs": [],
   "source": [
    "tmp1 = ref_gene[ref_gene[\"CHR\"] != \"X\"]"
   ]
  },
  {
   "cell_type": "code",
   "execution_count": 43,
   "metadata": {
    "kernel": "SoS"
   },
   "outputs": [
    {
     "data": {
      "text/html": [
       "<div>\n",
       "<style scoped>\n",
       "    .dataframe tbody tr th:only-of-type {\n",
       "        vertical-align: middle;\n",
       "    }\n",
       "\n",
       "    .dataframe tbody tr th {\n",
       "        vertical-align: top;\n",
       "    }\n",
       "\n",
       "    .dataframe thead th {\n",
       "        text-align: right;\n",
       "    }\n",
       "</style>\n",
       "<table border=\"1\" class=\"dataframe\">\n",
       "  <thead>\n",
       "    <tr style=\"text-align: right;\">\n",
       "      <th></th>\n",
       "      <th>CHR</th>\n",
       "      <th>start</th>\n",
       "      <th>end</th>\n",
       "      <th>gene_name</th>\n",
       "    </tr>\n",
       "  </thead>\n",
       "  <tbody>\n",
       "    <tr>\n",
       "      <th>0</th>\n",
       "      <td>1</td>\n",
       "      <td>11868</td>\n",
       "      <td>14362</td>\n",
       "      <td>LOC102725121@1</td>\n",
       "    </tr>\n",
       "    <tr>\n",
       "      <th>1</th>\n",
       "      <td>1</td>\n",
       "      <td>11873</td>\n",
       "      <td>14409</td>\n",
       "      <td>DDX11L1</td>\n",
       "    </tr>\n",
       "    <tr>\n",
       "      <th>2</th>\n",
       "      <td>1</td>\n",
       "      <td>14361</td>\n",
       "      <td>29370</td>\n",
       "      <td>WASH7P</td>\n",
       "    </tr>\n",
       "    <tr>\n",
       "      <th>3</th>\n",
       "      <td>1</td>\n",
       "      <td>17368</td>\n",
       "      <td>17436</td>\n",
       "      <td>MIR6859-1@1,MIR6859-2@1,MIR6859-3@1,MIR6859-4@1</td>\n",
       "    </tr>\n",
       "    <tr>\n",
       "      <th>4</th>\n",
       "      <td>1</td>\n",
       "      <td>30365</td>\n",
       "      <td>30503</td>\n",
       "      <td>MIR1302-10@1,MIR1302-11@1,MIR1302-2@1,MIR1302-9@1</td>\n",
       "    </tr>\n",
       "  </tbody>\n",
       "</table>\n",
       "</div>"
      ],
      "text/plain": [
       "  CHR  start    end                                          gene_name\n",
       "0   1  11868  14362                                     LOC102725121@1\n",
       "1   1  11873  14409                                            DDX11L1\n",
       "2   1  14361  29370                                             WASH7P\n",
       "3   1  17368  17436    MIR6859-1@1,MIR6859-2@1,MIR6859-3@1,MIR6859-4@1\n",
       "4   1  30365  30503  MIR1302-10@1,MIR1302-11@1,MIR1302-2@1,MIR1302-9@1"
      ]
     },
     "execution_count": 43,
     "metadata": {},
     "output_type": "execute_result"
    }
   ],
   "source": [
    "tmp1.head()"
   ]
  },
  {
   "cell_type": "code",
   "execution_count": 44,
   "metadata": {
    "kernel": "SoS"
   },
   "outputs": [],
   "source": [
    "tmp2 = pd.read_csv(f\"{cwd}/refGene.clean.20200317_3.gz\", sep = \"\\t\", header = 0, names = [\"CHR\", \"start\", \"end\", \"gene_name\"])"
   ]
  },
  {
   "cell_type": "code",
   "execution_count": 45,
   "metadata": {
    "kernel": "SoS"
   },
   "outputs": [
    {
     "data": {
      "text/html": [
       "<div>\n",
       "<style scoped>\n",
       "    .dataframe tbody tr th:only-of-type {\n",
       "        vertical-align: middle;\n",
       "    }\n",
       "\n",
       "    .dataframe tbody tr th {\n",
       "        vertical-align: top;\n",
       "    }\n",
       "\n",
       "    .dataframe thead th {\n",
       "        text-align: right;\n",
       "    }\n",
       "</style>\n",
       "<table border=\"1\" class=\"dataframe\">\n",
       "  <thead>\n",
       "    <tr style=\"text-align: right;\">\n",
       "      <th></th>\n",
       "      <th>CHR</th>\n",
       "      <th>start</th>\n",
       "      <th>end</th>\n",
       "      <th>gene_name</th>\n",
       "    </tr>\n",
       "  </thead>\n",
       "  <tbody>\n",
       "    <tr>\n",
       "      <th>0</th>\n",
       "      <td>1</td>\n",
       "      <td>11868</td>\n",
       "      <td>14362</td>\n",
       "      <td>LOC102725121@1</td>\n",
       "    </tr>\n",
       "    <tr>\n",
       "      <th>1</th>\n",
       "      <td>1</td>\n",
       "      <td>11873</td>\n",
       "      <td>14409</td>\n",
       "      <td>DDX11L1</td>\n",
       "    </tr>\n",
       "    <tr>\n",
       "      <th>2</th>\n",
       "      <td>1</td>\n",
       "      <td>14361</td>\n",
       "      <td>29370</td>\n",
       "      <td>WASH7P</td>\n",
       "    </tr>\n",
       "    <tr>\n",
       "      <th>3</th>\n",
       "      <td>1</td>\n",
       "      <td>17368</td>\n",
       "      <td>17436</td>\n",
       "      <td>MIR6859-1@1,MIR6859-2@1,MIR6859-3@1,MIR6859-4@1</td>\n",
       "    </tr>\n",
       "    <tr>\n",
       "      <th>4</th>\n",
       "      <td>1</td>\n",
       "      <td>30365</td>\n",
       "      <td>30503</td>\n",
       "      <td>MIR1302-10@1,MIR1302-11@1,MIR1302-2@1,MIR1302-9@1</td>\n",
       "    </tr>\n",
       "  </tbody>\n",
       "</table>\n",
       "</div>"
      ],
      "text/plain": [
       "  CHR  start    end                                          gene_name\n",
       "0   1  11868  14362                                     LOC102725121@1\n",
       "1   1  11873  14409                                            DDX11L1\n",
       "2   1  14361  29370                                             WASH7P\n",
       "3   1  17368  17436    MIR6859-1@1,MIR6859-2@1,MIR6859-3@1,MIR6859-4@1\n",
       "4   1  30365  30503  MIR1302-10@1,MIR1302-11@1,MIR1302-2@1,MIR1302-9@1"
      ]
     },
     "execution_count": 45,
     "metadata": {},
     "output_type": "execute_result"
    }
   ],
   "source": [
    "tmp2.head()"
   ]
  },
  {
   "cell_type": "code",
   "execution_count": 46,
   "metadata": {
    "kernel": "SoS"
   },
   "outputs": [],
   "source": [
    "tmp2 = tmp2[tmp2[\"CHR\"] != \"X\"]"
   ]
  },
  {
   "cell_type": "code",
   "execution_count": 47,
   "metadata": {
    "kernel": "SoS"
   },
   "outputs": [],
   "source": [
    "tmp2[\"CHR\"] = tmp2[\"CHR\"].astype(int)"
   ]
  },
  {
   "cell_type": "code",
   "execution_count": 48,
   "metadata": {
    "kernel": "SoS"
   },
   "outputs": [],
   "source": [
    "df1 = tmp1.merge(tmp2, how = 'outer', on = [\"CHR\", \"start\", \"end\"], indicator=True).loc[lambda x : x['_merge']=='left_only']"
   ]
  },
  {
   "cell_type": "code",
   "execution_count": 49,
   "metadata": {
    "kernel": "SoS"
   },
   "outputs": [
    {
     "data": {
      "text/html": [
       "<div>\n",
       "<style scoped>\n",
       "    .dataframe tbody tr th:only-of-type {\n",
       "        vertical-align: middle;\n",
       "    }\n",
       "\n",
       "    .dataframe tbody tr th {\n",
       "        vertical-align: top;\n",
       "    }\n",
       "\n",
       "    .dataframe thead th {\n",
       "        text-align: right;\n",
       "    }\n",
       "</style>\n",
       "<table border=\"1\" class=\"dataframe\">\n",
       "  <thead>\n",
       "    <tr style=\"text-align: right;\">\n",
       "      <th></th>\n",
       "      <th>CHR</th>\n",
       "      <th>start</th>\n",
       "      <th>end</th>\n",
       "      <th>gene_name_x</th>\n",
       "      <th>gene_name_y</th>\n",
       "      <th>_merge</th>\n",
       "    </tr>\n",
       "  </thead>\n",
       "  <tbody>\n",
       "    <tr>\n",
       "      <th>1041</th>\n",
       "      <td>1.0</td>\n",
       "      <td>65886334</td>\n",
       "      <td>66107242</td>\n",
       "      <td>LEPR</td>\n",
       "      <td>NaN</td>\n",
       "      <td>left_only</td>\n",
       "    </tr>\n",
       "    <tr>\n",
       "      <th>1246</th>\n",
       "      <td>1.0</td>\n",
       "      <td>97543299</td>\n",
       "      <td>98386615</td>\n",
       "      <td>DPYD</td>\n",
       "      <td>NaN</td>\n",
       "      <td>left_only</td>\n",
       "    </tr>\n",
       "    <tr>\n",
       "      <th>1509</th>\n",
       "      <td>1.0</td>\n",
       "      <td>144146811</td>\n",
       "      <td>148346791</td>\n",
       "      <td>NBPF19</td>\n",
       "      <td>NaN</td>\n",
       "      <td>left_only</td>\n",
       "    </tr>\n",
       "    <tr>\n",
       "      <th>1564</th>\n",
       "      <td>1.0</td>\n",
       "      <td>146644325</td>\n",
       "      <td>146767447</td>\n",
       "      <td>CHD1L</td>\n",
       "      <td>NaN</td>\n",
       "      <td>left_only</td>\n",
       "    </tr>\n",
       "    <tr>\n",
       "      <th>1914</th>\n",
       "      <td>1.0</td>\n",
       "      <td>157090982</td>\n",
       "      <td>157108383</td>\n",
       "      <td>ETV3</td>\n",
       "      <td>NaN</td>\n",
       "      <td>left_only</td>\n",
       "    </tr>\n",
       "    <tr>\n",
       "      <th>1955</th>\n",
       "      <td>1.0</td>\n",
       "      <td>159367254</td>\n",
       "      <td>159410757</td>\n",
       "      <td>OR10J1</td>\n",
       "      <td>NaN</td>\n",
       "      <td>left_only</td>\n",
       "    </tr>\n",
       "    <tr>\n",
       "      <th>3496</th>\n",
       "      <td>2.0</td>\n",
       "      <td>85829983</td>\n",
       "      <td>85876407</td>\n",
       "      <td>USP39</td>\n",
       "      <td>NaN</td>\n",
       "      <td>left_only</td>\n",
       "    </tr>\n",
       "    <tr>\n",
       "      <th>3599</th>\n",
       "      <td>2.0</td>\n",
       "      <td>98081675</td>\n",
       "      <td>98094824</td>\n",
       "      <td>LOC100506076@2</td>\n",
       "      <td>NaN</td>\n",
       "      <td>left_only</td>\n",
       "    </tr>\n",
       "    <tr>\n",
       "      <th>3615</th>\n",
       "      <td>2.0</td>\n",
       "      <td>99613723</td>\n",
       "      <td>99771429</td>\n",
       "      <td>TSGA10</td>\n",
       "      <td>NaN</td>\n",
       "      <td>left_only</td>\n",
       "    </tr>\n",
       "    <tr>\n",
       "      <th>3783</th>\n",
       "      <td>2.0</td>\n",
       "      <td>114726898</td>\n",
       "      <td>114785659</td>\n",
       "      <td>LINC01191</td>\n",
       "      <td>NaN</td>\n",
       "      <td>left_only</td>\n",
       "    </tr>\n",
       "    <tr>\n",
       "      <th>3785</th>\n",
       "      <td>2.0</td>\n",
       "      <td>115200217</td>\n",
       "      <td>116603354</td>\n",
       "      <td>DPP10</td>\n",
       "      <td>NaN</td>\n",
       "      <td>left_only</td>\n",
       "    </tr>\n",
       "    <tr>\n",
       "      <th>3836</th>\n",
       "      <td>2.0</td>\n",
       "      <td>128458604</td>\n",
       "      <td>128568761</td>\n",
       "      <td>WDR33</td>\n",
       "      <td>NaN</td>\n",
       "      <td>left_only</td>\n",
       "    </tr>\n",
       "    <tr>\n",
       "      <th>3865</th>\n",
       "      <td>2.0</td>\n",
       "      <td>131294142</td>\n",
       "      <td>131307488</td>\n",
       "      <td>PRSS40B@1</td>\n",
       "      <td>NaN</td>\n",
       "      <td>left_only</td>\n",
       "    </tr>\n",
       "    <tr>\n",
       "      <th>3866</th>\n",
       "      <td>2.0</td>\n",
       "      <td>131328401</td>\n",
       "      <td>131341734</td>\n",
       "      <td>PRSS40B@2</td>\n",
       "      <td>NaN</td>\n",
       "      <td>left_only</td>\n",
       "    </tr>\n",
       "    <tr>\n",
       "      <th>4228</th>\n",
       "      <td>2.0</td>\n",
       "      <td>197504438</td>\n",
       "      <td>197597530</td>\n",
       "      <td>CCDC150</td>\n",
       "      <td>NaN</td>\n",
       "      <td>left_only</td>\n",
       "    </tr>\n",
       "    <tr>\n",
       "      <th>4629</th>\n",
       "      <td>2.0</td>\n",
       "      <td>240831861</td>\n",
       "      <td>240964819</td>\n",
       "      <td>NDUFA10</td>\n",
       "      <td>NaN</td>\n",
       "      <td>left_only</td>\n",
       "    </tr>\n",
       "    <tr>\n",
       "      <th>4729</th>\n",
       "      <td>3.0</td>\n",
       "      <td>9834178</td>\n",
       "      <td>9849408</td>\n",
       "      <td>ARPC4</td>\n",
       "      <td>NaN</td>\n",
       "      <td>left_only</td>\n",
       "    </tr>\n",
       "    <tr>\n",
       "      <th>5273</th>\n",
       "      <td>3.0</td>\n",
       "      <td>58291971</td>\n",
       "      <td>58305920</td>\n",
       "      <td>HTD2</td>\n",
       "      <td>NaN</td>\n",
       "      <td>left_only</td>\n",
       "    </tr>\n",
       "    <tr>\n",
       "      <th>5282</th>\n",
       "      <td>3.0</td>\n",
       "      <td>58727734</td>\n",
       "      <td>59035758</td>\n",
       "      <td>C3orf67</td>\n",
       "      <td>NaN</td>\n",
       "      <td>left_only</td>\n",
       "    </tr>\n",
       "    <tr>\n",
       "      <th>5285</th>\n",
       "      <td>3.0</td>\n",
       "      <td>59733002</td>\n",
       "      <td>61237135</td>\n",
       "      <td>FHIT</td>\n",
       "      <td>NaN</td>\n",
       "      <td>left_only</td>\n",
       "    </tr>\n",
       "    <tr>\n",
       "      <th>5893</th>\n",
       "      <td>3.0</td>\n",
       "      <td>156977531</td>\n",
       "      <td>157221394</td>\n",
       "      <td>VEPH1</td>\n",
       "      <td>NaN</td>\n",
       "      <td>left_only</td>\n",
       "    </tr>\n",
       "    <tr>\n",
       "      <th>5914</th>\n",
       "      <td>3.0</td>\n",
       "      <td>159945240</td>\n",
       "      <td>160203535</td>\n",
       "      <td>TRIM59-IFT80</td>\n",
       "      <td>NaN</td>\n",
       "      <td>left_only</td>\n",
       "    </tr>\n",
       "    <tr>\n",
       "      <th>5970</th>\n",
       "      <td>3.0</td>\n",
       "      <td>170776202</td>\n",
       "      <td>171178197</td>\n",
       "      <td>TNIK</td>\n",
       "      <td>NaN</td>\n",
       "      <td>left_only</td>\n",
       "    </tr>\n",
       "    <tr>\n",
       "      <th>6494</th>\n",
       "      <td>4.0</td>\n",
       "      <td>37892704</td>\n",
       "      <td>38140796</td>\n",
       "      <td>TBC1D1</td>\n",
       "      <td>NaN</td>\n",
       "      <td>left_only</td>\n",
       "    </tr>\n",
       "    <tr>\n",
       "      <th>6716</th>\n",
       "      <td>4.0</td>\n",
       "      <td>75310852</td>\n",
       "      <td>75320721</td>\n",
       "      <td>AREG@1</td>\n",
       "      <td>NaN</td>\n",
       "      <td>left_only</td>\n",
       "    </tr>\n",
       "    <tr>\n",
       "      <th>6717</th>\n",
       "      <td>4.0</td>\n",
       "      <td>75480628</td>\n",
       "      <td>75490480</td>\n",
       "      <td>AREG@2</td>\n",
       "      <td>NaN</td>\n",
       "      <td>left_only</td>\n",
       "    </tr>\n",
       "    <tr>\n",
       "      <th>7109</th>\n",
       "      <td>4.0</td>\n",
       "      <td>147175132</td>\n",
       "      <td>147443123</td>\n",
       "      <td>SLC10A7</td>\n",
       "      <td>NaN</td>\n",
       "      <td>left_only</td>\n",
       "    </tr>\n",
       "    <tr>\n",
       "      <th>7220</th>\n",
       "      <td>4.0</td>\n",
       "      <td>170907752</td>\n",
       "      <td>170947546</td>\n",
       "      <td>MFAP3L@1</td>\n",
       "      <td>NaN</td>\n",
       "      <td>left_only</td>\n",
       "    </tr>\n",
       "    <tr>\n",
       "      <th>7221</th>\n",
       "      <td>4.0</td>\n",
       "      <td>170952925</td>\n",
       "      <td>170954154</td>\n",
       "      <td>MFAP3L@2</td>\n",
       "      <td>NaN</td>\n",
       "      <td>left_only</td>\n",
       "    </tr>\n",
       "    <tr>\n",
       "      <th>7680</th>\n",
       "      <td>5.0</td>\n",
       "      <td>64920557</td>\n",
       "      <td>64962060</td>\n",
       "      <td>TRAPPC13</td>\n",
       "      <td>NaN</td>\n",
       "      <td>left_only</td>\n",
       "    </tr>\n",
       "    <tr>\n",
       "      <th>7852</th>\n",
       "      <td>5.0</td>\n",
       "      <td>86607287</td>\n",
       "      <td>86708850</td>\n",
       "      <td>CCNH</td>\n",
       "      <td>NaN</td>\n",
       "      <td>left_only</td>\n",
       "    </tr>\n",
       "    <tr>\n",
       "      <th>8185</th>\n",
       "      <td>5.0</td>\n",
       "      <td>139781398</td>\n",
       "      <td>139919434</td>\n",
       "      <td>ANKHD1</td>\n",
       "      <td>NaN</td>\n",
       "      <td>left_only</td>\n",
       "    </tr>\n",
       "    <tr>\n",
       "      <th>8215</th>\n",
       "      <td>5.0</td>\n",
       "      <td>140247097</td>\n",
       "      <td>140391931</td>\n",
       "      <td>PCDHA11</td>\n",
       "      <td>NaN</td>\n",
       "      <td>left_only</td>\n",
       "    </tr>\n",
       "    <tr>\n",
       "      <th>8755</th>\n",
       "      <td>6.0</td>\n",
       "      <td>13273325</td>\n",
       "      <td>13295818</td>\n",
       "      <td>LOC100130357</td>\n",
       "      <td>NaN</td>\n",
       "      <td>left_only</td>\n",
       "    </tr>\n",
       "    <tr>\n",
       "      <th>9092</th>\n",
       "      <td>6.0</td>\n",
       "      <td>31865559</td>\n",
       "      <td>31913451</td>\n",
       "      <td>C2</td>\n",
       "      <td>NaN</td>\n",
       "      <td>left_only</td>\n",
       "    </tr>\n",
       "    <tr>\n",
       "      <th>9317</th>\n",
       "      <td>6.0</td>\n",
       "      <td>42714724</td>\n",
       "      <td>42836298</td>\n",
       "      <td>BICRAL</td>\n",
       "      <td>NaN</td>\n",
       "      <td>left_only</td>\n",
       "    </tr>\n",
       "    <tr>\n",
       "      <th>9703</th>\n",
       "      <td>6.0</td>\n",
       "      <td>112429133</td>\n",
       "      <td>112575917</td>\n",
       "      <td>LAMA4</td>\n",
       "      <td>NaN</td>\n",
       "      <td>left_only</td>\n",
       "    </tr>\n",
       "    <tr>\n",
       "      <th>9746</th>\n",
       "      <td>6.0</td>\n",
       "      <td>119134611</td>\n",
       "      <td>119256327</td>\n",
       "      <td>MCM9</td>\n",
       "      <td>NaN</td>\n",
       "      <td>left_only</td>\n",
       "    </tr>\n",
       "    <tr>\n",
       "      <th>9762</th>\n",
       "      <td>6.0</td>\n",
       "      <td>123537483</td>\n",
       "      <td>123958238</td>\n",
       "      <td>TRDN</td>\n",
       "      <td>NaN</td>\n",
       "      <td>left_only</td>\n",
       "    </tr>\n",
       "    <tr>\n",
       "      <th>9922</th>\n",
       "      <td>6.0</td>\n",
       "      <td>149539059</td>\n",
       "      <td>149732749</td>\n",
       "      <td>TAB2</td>\n",
       "      <td>NaN</td>\n",
       "      <td>left_only</td>\n",
       "    </tr>\n",
       "    <tr>\n",
       "      <th>10119</th>\n",
       "      <td>7.0</td>\n",
       "      <td>1017599</td>\n",
       "      <td>1177893</td>\n",
       "      <td>C7orf50</td>\n",
       "      <td>NaN</td>\n",
       "      <td>left_only</td>\n",
       "    </tr>\n",
       "    <tr>\n",
       "      <th>10394</th>\n",
       "      <td>7.0</td>\n",
       "      <td>34386123</td>\n",
       "      <td>34873943</td>\n",
       "      <td>NPSR1-AS1</td>\n",
       "      <td>NaN</td>\n",
       "      <td>left_only</td>\n",
       "    </tr>\n",
       "    <tr>\n",
       "      <th>10560</th>\n",
       "      <td>7.0</td>\n",
       "      <td>62809447</td>\n",
       "      <td>62812152</td>\n",
       "      <td>LOC100287704,LOC100287834@1</td>\n",
       "      <td>NaN</td>\n",
       "      <td>left_only</td>\n",
       "    </tr>\n",
       "    <tr>\n",
       "      <th>10561</th>\n",
       "      <td>7.0</td>\n",
       "      <td>62856717</td>\n",
       "      <td>62859419</td>\n",
       "      <td>LOC100287834@2</td>\n",
       "      <td>NaN</td>\n",
       "      <td>left_only</td>\n",
       "    </tr>\n",
       "    <tr>\n",
       "      <th>11082</th>\n",
       "      <td>7.0</td>\n",
       "      <td>116712125</td>\n",
       "      <td>116730835</td>\n",
       "      <td>ST7-AS2@1</td>\n",
       "      <td>NaN</td>\n",
       "      <td>left_only</td>\n",
       "    </tr>\n",
       "    <tr>\n",
       "      <th>11083</th>\n",
       "      <td>7.0</td>\n",
       "      <td>116752345</td>\n",
       "      <td>116785646</td>\n",
       "      <td>ST7-AS2@2</td>\n",
       "      <td>NaN</td>\n",
       "      <td>left_only</td>\n",
       "    </tr>\n",
       "    <tr>\n",
       "      <th>11184</th>\n",
       "      <td>7.0</td>\n",
       "      <td>130126015</td>\n",
       "      <td>130146306</td>\n",
       "      <td>MEST</td>\n",
       "      <td>NaN</td>\n",
       "      <td>left_only</td>\n",
       "    </tr>\n",
       "    <tr>\n",
       "      <th>11199</th>\n",
       "      <td>7.0</td>\n",
       "      <td>131808090</td>\n",
       "      <td>132333447</td>\n",
       "      <td>PLXNA4</td>\n",
       "      <td>NaN</td>\n",
       "      <td>left_only</td>\n",
       "    </tr>\n",
       "    <tr>\n",
       "      <th>11248</th>\n",
       "      <td>7.0</td>\n",
       "      <td>139025195</td>\n",
       "      <td>139031074</td>\n",
       "      <td>FMC1</td>\n",
       "      <td>NaN</td>\n",
       "      <td>left_only</td>\n",
       "    </tr>\n",
       "    <tr>\n",
       "      <th>11333</th>\n",
       "      <td>7.0</td>\n",
       "      <td>143892413</td>\n",
       "      <td>144052811</td>\n",
       "      <td>OR2A1-AS1</td>\n",
       "      <td>NaN</td>\n",
       "      <td>left_only</td>\n",
       "    </tr>\n",
       "    <tr>\n",
       "      <th>11376</th>\n",
       "      <td>7.0</td>\n",
       "      <td>149578447</td>\n",
       "      <td>150020758</td>\n",
       "      <td>ACTR3C</td>\n",
       "      <td>NaN</td>\n",
       "      <td>left_only</td>\n",
       "    </tr>\n",
       "    <tr>\n",
       "      <th>11518</th>\n",
       "      <td>8.0</td>\n",
       "      <td>7118140</td>\n",
       "      <td>7121014</td>\n",
       "      <td>LINC00965@1</td>\n",
       "      <td>NaN</td>\n",
       "      <td>left_only</td>\n",
       "    </tr>\n",
       "    <tr>\n",
       "      <th>11519</th>\n",
       "      <td>8.0</td>\n",
       "      <td>7125762</td>\n",
       "      <td>7128636</td>\n",
       "      <td>LINC00965@2</td>\n",
       "      <td>NaN</td>\n",
       "      <td>left_only</td>\n",
       "    </tr>\n",
       "    <tr>\n",
       "      <th>11520</th>\n",
       "      <td>8.0</td>\n",
       "      <td>7141006</td>\n",
       "      <td>7143880</td>\n",
       "      <td>LINC00965@3</td>\n",
       "      <td>NaN</td>\n",
       "      <td>left_only</td>\n",
       "    </tr>\n",
       "    <tr>\n",
       "      <th>11540</th>\n",
       "      <td>8.0</td>\n",
       "      <td>7413659</td>\n",
       "      <td>7416626</td>\n",
       "      <td>FAM90A7P@1</td>\n",
       "      <td>NaN</td>\n",
       "      <td>left_only</td>\n",
       "    </tr>\n",
       "    <tr>\n",
       "      <th>11541</th>\n",
       "      <td>8.0</td>\n",
       "      <td>7421309</td>\n",
       "      <td>7431920</td>\n",
       "      <td>FAM90A7P@2</td>\n",
       "      <td>NaN</td>\n",
       "      <td>left_only</td>\n",
       "    </tr>\n",
       "    <tr>\n",
       "      <th>11790</th>\n",
       "      <td>8.0</td>\n",
       "      <td>31497267</td>\n",
       "      <td>32631562</td>\n",
       "      <td>NRG1</td>\n",
       "      <td>NaN</td>\n",
       "      <td>left_only</td>\n",
       "    </tr>\n",
       "    <tr>\n",
       "      <th>11804</th>\n",
       "      <td>8.0</td>\n",
       "      <td>37263981</td>\n",
       "      <td>37351431</td>\n",
       "      <td>LINC01605@1</td>\n",
       "      <td>NaN</td>\n",
       "      <td>left_only</td>\n",
       "    </tr>\n",
       "    <tr>\n",
       "      <th>11805</th>\n",
       "      <td>8.0</td>\n",
       "      <td>37373923</td>\n",
       "      <td>37378904</td>\n",
       "      <td>LINC01605@2</td>\n",
       "      <td>NaN</td>\n",
       "      <td>left_only</td>\n",
       "    </tr>\n",
       "    <tr>\n",
       "      <th>12085</th>\n",
       "      <td>8.0</td>\n",
       "      <td>86566827</td>\n",
       "      <td>86567905</td>\n",
       "      <td>REXO1L2P@1</td>\n",
       "      <td>NaN</td>\n",
       "      <td>left_only</td>\n",
       "    </tr>\n",
       "  </tbody>\n",
       "</table>\n",
       "</div>"
      ],
      "text/plain": [
       "       CHR      start  ...  gene_name_y     _merge\n",
       "1041   1.0   65886334  ...          NaN  left_only\n",
       "1246   1.0   97543299  ...          NaN  left_only\n",
       "1509   1.0  144146811  ...          NaN  left_only\n",
       "1564   1.0  146644325  ...          NaN  left_only\n",
       "1914   1.0  157090982  ...          NaN  left_only\n",
       "1955   1.0  159367254  ...          NaN  left_only\n",
       "3496   2.0   85829983  ...          NaN  left_only\n",
       "3599   2.0   98081675  ...          NaN  left_only\n",
       "3615   2.0   99613723  ...          NaN  left_only\n",
       "3783   2.0  114726898  ...          NaN  left_only\n",
       "3785   2.0  115200217  ...          NaN  left_only\n",
       "3836   2.0  128458604  ...          NaN  left_only\n",
       "3865   2.0  131294142  ...          NaN  left_only\n",
       "3866   2.0  131328401  ...          NaN  left_only\n",
       "4228   2.0  197504438  ...          NaN  left_only\n",
       "4629   2.0  240831861  ...          NaN  left_only\n",
       "4729   3.0    9834178  ...          NaN  left_only\n",
       "5273   3.0   58291971  ...          NaN  left_only\n",
       "5282   3.0   58727734  ...          NaN  left_only\n",
       "5285   3.0   59733002  ...          NaN  left_only\n",
       "5893   3.0  156977531  ...          NaN  left_only\n",
       "5914   3.0  159945240  ...          NaN  left_only\n",
       "5970   3.0  170776202  ...          NaN  left_only\n",
       "6494   4.0   37892704  ...          NaN  left_only\n",
       "6716   4.0   75310852  ...          NaN  left_only\n",
       "6717   4.0   75480628  ...          NaN  left_only\n",
       "7109   4.0  147175132  ...          NaN  left_only\n",
       "7220   4.0  170907752  ...          NaN  left_only\n",
       "7221   4.0  170952925  ...          NaN  left_only\n",
       "7680   5.0   64920557  ...          NaN  left_only\n",
       "7852   5.0   86607287  ...          NaN  left_only\n",
       "8185   5.0  139781398  ...          NaN  left_only\n",
       "8215   5.0  140247097  ...          NaN  left_only\n",
       "8755   6.0   13273325  ...          NaN  left_only\n",
       "9092   6.0   31865559  ...          NaN  left_only\n",
       "9317   6.0   42714724  ...          NaN  left_only\n",
       "9703   6.0  112429133  ...          NaN  left_only\n",
       "9746   6.0  119134611  ...          NaN  left_only\n",
       "9762   6.0  123537483  ...          NaN  left_only\n",
       "9922   6.0  149539059  ...          NaN  left_only\n",
       "10119  7.0    1017599  ...          NaN  left_only\n",
       "10394  7.0   34386123  ...          NaN  left_only\n",
       "10560  7.0   62809447  ...          NaN  left_only\n",
       "10561  7.0   62856717  ...          NaN  left_only\n",
       "11082  7.0  116712125  ...          NaN  left_only\n",
       "11083  7.0  116752345  ...          NaN  left_only\n",
       "11184  7.0  130126015  ...          NaN  left_only\n",
       "11199  7.0  131808090  ...          NaN  left_only\n",
       "11248  7.0  139025195  ...          NaN  left_only\n",
       "11333  7.0  143892413  ...          NaN  left_only\n",
       "11376  7.0  149578447  ...          NaN  left_only\n",
       "11518  8.0    7118140  ...          NaN  left_only\n",
       "11519  8.0    7125762  ...          NaN  left_only\n",
       "11520  8.0    7141006  ...          NaN  left_only\n",
       "11540  8.0    7413659  ...          NaN  left_only\n",
       "11541  8.0    7421309  ...          NaN  left_only\n",
       "11790  8.0   31497267  ...          NaN  left_only\n",
       "11804  8.0   37263981  ...          NaN  left_only\n",
       "11805  8.0   37373923  ...          NaN  left_only\n",
       "12085  8.0   86566827  ...          NaN  left_only\n",
       "\n",
       "[60 rows x 6 columns]"
      ]
     },
     "execution_count": 49,
     "metadata": {},
     "output_type": "execute_result"
    }
   ],
   "source": [
    "df1.head(60)"
   ]
  },
  {
   "cell_type": "code",
   "execution_count": 50,
   "metadata": {
    "kernel": "SoS"
   },
   "outputs": [
    {
     "data": {
      "text/html": [
       "<div>\n",
       "<style scoped>\n",
       "    .dataframe tbody tr th:only-of-type {\n",
       "        vertical-align: middle;\n",
       "    }\n",
       "\n",
       "    .dataframe tbody tr th {\n",
       "        vertical-align: top;\n",
       "    }\n",
       "\n",
       "    .dataframe thead th {\n",
       "        text-align: right;\n",
       "    }\n",
       "</style>\n",
       "<table border=\"1\" class=\"dataframe\">\n",
       "  <thead>\n",
       "    <tr style=\"text-align: right;\">\n",
       "      <th></th>\n",
       "      <th>CHR</th>\n",
       "      <th>start</th>\n",
       "      <th>end</th>\n",
       "      <th>gene_name</th>\n",
       "    </tr>\n",
       "  </thead>\n",
       "  <tbody>\n",
       "    <tr>\n",
       "      <th>6716</th>\n",
       "      <td>4</td>\n",
       "      <td>75310852</td>\n",
       "      <td>75320721</td>\n",
       "      <td>AREG@1</td>\n",
       "    </tr>\n",
       "    <tr>\n",
       "      <th>6717</th>\n",
       "      <td>4</td>\n",
       "      <td>75480628</td>\n",
       "      <td>75490480</td>\n",
       "      <td>AREG@2</td>\n",
       "    </tr>\n",
       "  </tbody>\n",
       "</table>\n",
       "</div>"
      ],
      "text/plain": [
       "     CHR     start       end gene_name\n",
       "6716   4  75310852  75320721    AREG@1\n",
       "6717   4  75480628  75490480    AREG@2"
      ]
     },
     "execution_count": 50,
     "metadata": {},
     "output_type": "execute_result"
    }
   ],
   "source": [
    "tmp1[tmp1[\"gene_name\"].str.contains(\"AREG\")]"
   ]
  },
  {
   "cell_type": "code",
   "execution_count": 51,
   "metadata": {
    "kernel": "SoS"
   },
   "outputs": [
    {
     "data": {
      "text/html": [
       "<div>\n",
       "<style scoped>\n",
       "    .dataframe tbody tr th:only-of-type {\n",
       "        vertical-align: middle;\n",
       "    }\n",
       "\n",
       "    .dataframe tbody tr th {\n",
       "        vertical-align: top;\n",
       "    }\n",
       "\n",
       "    .dataframe thead th {\n",
       "        text-align: right;\n",
       "    }\n",
       "</style>\n",
       "<table border=\"1\" class=\"dataframe\">\n",
       "  <thead>\n",
       "    <tr style=\"text-align: right;\">\n",
       "      <th></th>\n",
       "      <th>CHR</th>\n",
       "      <th>start</th>\n",
       "      <th>end</th>\n",
       "      <th>gene_name</th>\n",
       "    </tr>\n",
       "  </thead>\n",
       "  <tbody>\n",
       "    <tr>\n",
       "      <th>6843</th>\n",
       "      <td>4</td>\n",
       "      <td>75310852</td>\n",
       "      <td>75490480</td>\n",
       "      <td>AREG@1</td>\n",
       "    </tr>\n",
       "  </tbody>\n",
       "</table>\n",
       "</div>"
      ],
      "text/plain": [
       "      CHR     start       end gene_name\n",
       "6843    4  75310852  75490480    AREG@1"
      ]
     },
     "execution_count": 51,
     "metadata": {},
     "output_type": "execute_result"
    }
   ],
   "source": [
    "tmp2[tmp2[\"gene_name\"].str.contains(\"AREG\")]"
   ]
  },
  {
   "cell_type": "code",
   "execution_count": 52,
   "metadata": {
    "kernel": "SoS"
   },
   "outputs": [
    {
     "data": {
      "text/html": [
       "<div>\n",
       "<style scoped>\n",
       "    .dataframe tbody tr th:only-of-type {\n",
       "        vertical-align: middle;\n",
       "    }\n",
       "\n",
       "    .dataframe tbody tr th {\n",
       "        vertical-align: top;\n",
       "    }\n",
       "\n",
       "    .dataframe thead th {\n",
       "        text-align: right;\n",
       "    }\n",
       "</style>\n",
       "<table border=\"1\" class=\"dataframe\">\n",
       "  <thead>\n",
       "    <tr style=\"text-align: right;\">\n",
       "      <th></th>\n",
       "      <th>CHR</th>\n",
       "      <th>start</th>\n",
       "      <th>end</th>\n",
       "      <th>gene_name</th>\n",
       "    </tr>\n",
       "  </thead>\n",
       "  <tbody>\n",
       "    <tr>\n",
       "      <th>3598</th>\n",
       "      <td>2</td>\n",
       "      <td>97949671</td>\n",
       "      <td>97957533</td>\n",
       "      <td>LOC100506123@1</td>\n",
       "    </tr>\n",
       "    <tr>\n",
       "      <th>3599</th>\n",
       "      <td>2</td>\n",
       "      <td>98081675</td>\n",
       "      <td>98094824</td>\n",
       "      <td>LOC100506076@2</td>\n",
       "    </tr>\n",
       "    <tr>\n",
       "      <th>3600</th>\n",
       "      <td>2</td>\n",
       "      <td>98081774</td>\n",
       "      <td>98089620</td>\n",
       "      <td>LOC100506123@2</td>\n",
       "    </tr>\n",
       "    <tr>\n",
       "      <th>3601</th>\n",
       "      <td>2</td>\n",
       "      <td>98121260</td>\n",
       "      <td>98206428</td>\n",
       "      <td>ANKRD36B</td>\n",
       "    </tr>\n",
       "  </tbody>\n",
       "</table>\n",
       "</div>"
      ],
      "text/plain": [
       "     CHR     start       end       gene_name\n",
       "3598   2  97949671  97957533  LOC100506123@1\n",
       "3599   2  98081675  98094824  LOC100506076@2\n",
       "3600   2  98081774  98089620  LOC100506123@2\n",
       "3601   2  98121260  98206428        ANKRD36B"
      ]
     },
     "execution_count": 52,
     "metadata": {},
     "output_type": "execute_result"
    }
   ],
   "source": [
    "tmp1.iloc[3598:3602]"
   ]
  },
  {
   "cell_type": "code",
   "execution_count": 53,
   "metadata": {
    "kernel": "SoS"
   },
   "outputs": [
    {
     "data": {
      "text/html": [
       "<div>\n",
       "<style scoped>\n",
       "    .dataframe tbody tr th:only-of-type {\n",
       "        vertical-align: middle;\n",
       "    }\n",
       "\n",
       "    .dataframe tbody tr th {\n",
       "        vertical-align: top;\n",
       "    }\n",
       "\n",
       "    .dataframe thead th {\n",
       "        text-align: right;\n",
       "    }\n",
       "</style>\n",
       "<table border=\"1\" class=\"dataframe\">\n",
       "  <thead>\n",
       "    <tr style=\"text-align: right;\">\n",
       "      <th></th>\n",
       "      <th>CHR</th>\n",
       "      <th>start</th>\n",
       "      <th>end</th>\n",
       "      <th>gene_name</th>\n",
       "    </tr>\n",
       "  </thead>\n",
       "  <tbody>\n",
       "    <tr>\n",
       "      <th>19495</th>\n",
       "      <td>15</td>\n",
       "      <td>25068754</td>\n",
       "      <td>25223870</td>\n",
       "      <td>SNRPN</td>\n",
       "    </tr>\n",
       "    <tr>\n",
       "      <th>19497</th>\n",
       "      <td>15</td>\n",
       "      <td>25200039</td>\n",
       "      <td>25223870</td>\n",
       "      <td>SNURF</td>\n",
       "    </tr>\n",
       "  </tbody>\n",
       "</table>\n",
       "</div>"
      ],
      "text/plain": [
       "      CHR     start       end gene_name\n",
       "19495  15  25068754  25223870     SNRPN\n",
       "19497  15  25200039  25223870     SNURF"
      ]
     },
     "execution_count": 53,
     "metadata": {},
     "output_type": "execute_result"
    }
   ],
   "source": [
    "tmp1[tmp1[\"end\"] == 25223870]"
   ]
  },
  {
   "cell_type": "code",
   "execution_count": 54,
   "metadata": {
    "kernel": "SoS"
   },
   "outputs": [
    {
     "data": {
      "text/html": [
       "<div>\n",
       "<style scoped>\n",
       "    .dataframe tbody tr th:only-of-type {\n",
       "        vertical-align: middle;\n",
       "    }\n",
       "\n",
       "    .dataframe tbody tr th {\n",
       "        vertical-align: top;\n",
       "    }\n",
       "\n",
       "    .dataframe thead th {\n",
       "        text-align: right;\n",
       "    }\n",
       "</style>\n",
       "<table border=\"1\" class=\"dataframe\">\n",
       "  <thead>\n",
       "    <tr style=\"text-align: right;\">\n",
       "      <th></th>\n",
       "      <th>CHR</th>\n",
       "      <th>start</th>\n",
       "      <th>end</th>\n",
       "      <th>gene_name</th>\n",
       "    </tr>\n",
       "  </thead>\n",
       "  <tbody>\n",
       "    <tr>\n",
       "      <th>587</th>\n",
       "      <td>1</td>\n",
       "      <td>31408535</td>\n",
       "      <td>31408623</td>\n",
       "      <td>SNORD103A@1,SNORD103B@1</td>\n",
       "    </tr>\n",
       "    <tr>\n",
       "      <th>588</th>\n",
       "      <td>1</td>\n",
       "      <td>31421964</td>\n",
       "      <td>31422052</td>\n",
       "      <td>SNORD103A@2,SNORD103B@2</td>\n",
       "    </tr>\n",
       "  </tbody>\n",
       "</table>\n",
       "</div>"
      ],
      "text/plain": [
       "    CHR     start       end                gene_name\n",
       "587   1  31408535  31408623  SNORD103A@1,SNORD103B@1\n",
       "588   1  31421964  31422052  SNORD103A@2,SNORD103B@2"
      ]
     },
     "execution_count": 54,
     "metadata": {},
     "output_type": "execute_result"
    }
   ],
   "source": [
    "ref_gene[ref_gene[\"gene_name\"].str.contains(\"SNORD103A@\")]"
   ]
  },
  {
   "cell_type": "code",
   "execution_count": null,
   "metadata": {
    "kernel": "SoS"
   },
   "outputs": [],
   "source": []
  }
 ],
 "metadata": {
  "kernelspec": {
   "display_name": "SoS",
   "language": "sos",
   "name": "sos"
  },
  "language_info": {
   "codemirror_mode": "sos",
   "file_extension": ".sos",
   "mimetype": "text/x-sos",
   "name": "sos",
   "nbconvert_exporter": "sos_notebook.converter.SoS_Exporter",
   "pygments_lexer": "sos"
  },
  "sos": {
   "kernels": [
    [
     "SoS",
     "sos",
     "",
     ""
    ]
   ],
   "version": "0.21.7"
  }
 },
 "nbformat": 4,
 "nbformat_minor": 4
}
