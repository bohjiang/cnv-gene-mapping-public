{
 "cells": [
  {
   "cell_type": "markdown",
   "metadata": {
    "kernel": "SoS"
   },
   "source": [
    "# Answers for new comments in January 2020"
   ]
  },
  {
   "cell_type": "markdown",
   "metadata": {
    "kernel": "SoS"
   },
   "source": [
    "## logistic model on non-signal block_37_44\n",
    "PIPs are approximately equal\n",
    "\n",
    "             p1        mu1        s1\n",
    "    1 0.1187680 0.16859762 0.5349063\n",
    "    2 0.1029645 0.02141242 0.4856847\n",
    "    3 0.1143664 0.29242630 0.4309201\n",
    "    4 0.1327802 0.35716902 0.4770831\n",
    "    5 0.1327802 0.35716902 0.4770831\n",
    "    6 0.1327802 0.35716902 0.4770831\n",
    "    7 0.1327802 0.35716902 0.4770831\n",
    "    8 0.1327802 0.35716902 0.4770831"
   ]
  },
  {
   "cell_type": "markdown",
   "metadata": {
    "kernel": "SoS"
   },
   "source": [
    "## Compare logistic and pymc3 on single causal gene block.\n",
    "single effect gene results: pymc3 is supposed to be the same with logistic. But they are not. \n",
    "```\n",
    "logit\t\tpymc3\tblock\tsusie\tbeta\n",
    "0.115353\t0.0275\tblock0\t0.0\t0.0\n",
    "0.101018\t0.0195\tblock0\t0.0\t0.0\n",
    "0.101018\t0.0195\tblock0\t0.0\t0.2546776549724981\n",
    "0.136522\t0.0235\tblock0\t0.0\t0.0\n",
    "0.136522\t0.025\tblock0\t0.0\t0.0\n",
    "0.136522\t0.026\tblock0\t0.0\t0.0\n",
    "0.136522\t0.0255\tblock0\t0.0\t0.0\n",
    "0.136522\t0.0275\tblock0\t0.0\t0.0\n",
    "```"
   ]
  },
  {
   "cell_type": "markdown",
   "metadata": {
    "kernel": "SoS"
   },
   "source": [
    "## ROC curve issue\n"
   ]
  },
  {
   "cell_type": "markdown",
   "metadata": {
    "kernel": "SoS"
   },
   "source": [
    "## Real deletion CNV data\n"
   ]
  },
  {
   "cell_type": "code",
   "execution_count": null,
   "metadata": {
    "kernel": "SoS"
   },
   "outputs": [],
   "source": []
  }
 ],
 "metadata": {
  "kernelspec": {
   "display_name": "SoS",
   "language": "sos",
   "name": "sos"
  },
  "language_info": {
   "codemirror_mode": "sos",
   "file_extension": ".sos",
   "mimetype": "text/x-sos",
   "name": "sos",
   "nbconvert_exporter": "sos_notebook.converter.SoS_Exporter",
   "pygments_lexer": "sos"
  },
  "sos": {
   "kernels": [
    [
     "SoS",
     "sos",
     "",
     ""
    ]
   ],
   "version": "0.21.7"
  }
 },
 "nbformat": 4,
 "nbformat_minor": 4
}
