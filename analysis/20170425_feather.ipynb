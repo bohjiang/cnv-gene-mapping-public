{
 "cells": [
  {
   "cell_type": "markdown",
   "metadata": {},
   "source": [
    "# Obtain .feather file from .pkl to analyze in R"
   ]
  },
  {
   "cell_type": "code",
   "execution_count": 1,
   "metadata": {
    "collapsed": true
   },
   "outputs": [],
   "source": [
    "import pickle, feather\n",
    "import pandas as pd\n",
    "import numpy as np\n",
    "from simulation import *\n",
    "from pprint import pprint\n",
    "args = Environment()"
   ]
  },
  {
   "cell_type": "markdown",
   "metadata": {},
   "source": [
    "#### temporarily changed for calcium pathway"
   ]
  },
  {
   "cell_type": "code",
   "execution_count": 1,
   "metadata": {
    "collapsed": true
   },
   "outputs": [],
   "source": [
    "# only for calcium pathway analysis\n",
    "import pickle, feather\n",
    "import numpy as np\n",
    "import pandas as pd\n",
    "from Simulation_calcium import Environment, load_reference_gene\n",
    "args = Environment()\n",
    "ref = load_reference_gene(args[\"refgene_file\"])\n",
    "genes = pd.Series(list(set(ref['gene_name'])))"
   ]
  },
  {
   "cell_type": "code",
   "execution_count": 2,
   "metadata": {
    "collapsed": true
   },
   "outputs": [],
   "source": [
    "def get_feather(input_data):\n",
    "    dat = pickle.load(open(input_data, \"rb\"))\n",
    "    regression_data = np.array([np.array(genes.isin(item[\"gene_name\"]), dtype = float) \n",
    "                                for item in dat['case'] + dat['ctrl']])\n",
    "    phenotype = np.matrix([1]*len(dat['case']) + [0]*len(dat['ctrl'])).T\n",
    "    regression_data = np.hstack((phenotype, regression_data))\n",
    "    mask = np.ravel((regression_data==0).all(0))\n",
    "    regression_data = np.hstack((phenotype, regression_data[:, mask]))\n",
    "    output_data = feather.write_dataframe(pd.DataFrame(regression_data, \n",
    "                                          columns = ['phenotype'] + genes[mask[1:]].tolist()), \n",
    "                                          \"data/calcium_pathway_N{}.data.feather\".format(\n",
    "                                          dat[\"debug\"][\"args\"][\"n_case\"] + dat[\"debug\"][\"args\"][\"n_ctrl\"]))\n",
    "    return output_data"
   ]
  },
  {
   "cell_type": "code",
   "execution_count": 11,
   "metadata": {},
   "outputs": [],
   "source": [
    "get_feather(\"data/calcium_pathway_4000.data.pkl\")"
   ]
  },
  {
   "cell_type": "code",
   "execution_count": 12,
   "metadata": {},
   "outputs": [
    {
     "name": "stdout",
     "output_type": "stream",
     "text": [
      "      phenotype  MIR6069  FNBP4  ISCA2  LOC100506472  RPL39  LOC101927817  \\\n",
      "0           1.0      0.0    0.0    0.0           0.0    0.0           0.0   \n",
      "1           1.0      0.0    0.0    0.0           0.0    0.0           0.0   \n",
      "2           1.0      0.0    0.0    0.0           0.0    0.0           0.0   \n",
      "3           1.0      0.0    0.0    0.0           0.0    0.0           0.0   \n",
      "4           1.0      0.0    0.0    0.0           0.0    0.0           0.0   \n",
      "5           1.0      0.0    0.0    0.0           0.0    0.0           0.0   \n",
      "6           1.0      0.0    0.0    0.0           0.0    0.0           0.0   \n",
      "7           1.0      0.0    0.0    0.0           0.0    0.0           0.0   \n",
      "8           1.0      0.0    0.0    0.0           0.0    0.0           0.0   \n",
      "9           1.0      0.0    0.0    0.0           0.0    0.0           0.0   \n",
      "10          1.0      0.0    0.0    0.0           0.0    0.0           0.0   \n",
      "11          1.0      0.0    0.0    0.0           0.0    0.0           0.0   \n",
      "12          1.0      0.0    0.0    0.0           0.0    0.0           0.0   \n",
      "13          1.0      0.0    0.0    0.0           0.0    0.0           0.0   \n",
      "14          1.0      0.0    0.0    0.0           0.0    0.0           0.0   \n",
      "15          1.0      0.0    0.0    0.0           0.0    0.0           0.0   \n",
      "16          1.0      0.0    0.0    0.0           0.0    0.0           0.0   \n",
      "17          1.0      0.0    0.0    0.0           0.0    0.0           0.0   \n",
      "18          1.0      0.0    0.0    0.0           0.0    0.0           0.0   \n",
      "19          1.0      0.0    0.0    0.0           0.0    0.0           0.0   \n",
      "20          1.0      0.0    0.0    0.0           0.0    0.0           0.0   \n",
      "21          1.0      0.0    0.0    0.0           0.0    0.0           0.0   \n",
      "22          1.0      0.0    0.0    0.0           0.0    0.0           0.0   \n",
      "23          1.0      0.0    0.0    0.0           0.0    0.0           0.0   \n",
      "24          1.0      0.0    0.0    0.0           0.0    0.0           0.0   \n",
      "25          1.0      0.0    0.0    0.0           0.0    0.0           0.0   \n",
      "26          1.0      0.0    0.0    0.0           0.0    0.0           0.0   \n",
      "27          1.0      0.0    0.0    0.0           0.0    0.0           0.0   \n",
      "28          1.0      0.0    0.0    0.0           0.0    0.0           0.0   \n",
      "29          1.0      0.0    0.0    0.0           0.0    0.0           0.0   \n",
      "...         ...      ...    ...    ...           ...    ...           ...   \n",
      "3970        0.0      0.0    0.0    0.0           0.0    0.0           0.0   \n",
      "3971        0.0      0.0    0.0    0.0           0.0    0.0           0.0   \n",
      "3972        0.0      0.0    0.0    0.0           0.0    0.0           0.0   \n",
      "3973        0.0      0.0    0.0    0.0           0.0    0.0           0.0   \n",
      "3974        0.0      0.0    0.0    0.0           0.0    0.0           0.0   \n",
      "3975        0.0      0.0    0.0    0.0           0.0    0.0           0.0   \n",
      "3976        0.0      0.0    0.0    0.0           0.0    0.0           0.0   \n",
      "3977        0.0      0.0    0.0    0.0           0.0    0.0           0.0   \n",
      "3978        0.0      0.0    0.0    0.0           0.0    0.0           0.0   \n",
      "3979        0.0      0.0    0.0    0.0           0.0    0.0           0.0   \n",
      "3980        0.0      0.0    0.0    0.0           0.0    0.0           0.0   \n",
      "3981        0.0      0.0    0.0    0.0           0.0    0.0           0.0   \n",
      "3982        0.0      0.0    0.0    0.0           0.0    0.0           0.0   \n",
      "3983        0.0      0.0    0.0    0.0           0.0    0.0           0.0   \n",
      "3984        0.0      0.0    0.0    0.0           0.0    0.0           0.0   \n",
      "3985        0.0      0.0    0.0    0.0           0.0    0.0           0.0   \n",
      "3986        0.0      0.0    0.0    0.0           0.0    0.0           0.0   \n",
      "3987        0.0      0.0    0.0    0.0           0.0    0.0           0.0   \n",
      "3988        0.0      0.0    0.0    0.0           0.0    0.0           0.0   \n",
      "3989        0.0      0.0    0.0    0.0           0.0    0.0           0.0   \n",
      "3990        0.0      0.0    0.0    0.0           0.0    0.0           0.0   \n",
      "3991        0.0      0.0    0.0    0.0           0.0    0.0           0.0   \n",
      "3992        0.0      0.0    0.0    0.0           0.0    0.0           0.0   \n",
      "3993        0.0      0.0    0.0    0.0           0.0    0.0           0.0   \n",
      "3994        0.0      0.0    0.0    0.0           0.0    0.0           0.0   \n",
      "3995        0.0      0.0    0.0    0.0           0.0    0.0           0.0   \n",
      "3996        0.0      0.0    0.0    0.0           0.0    0.0           0.0   \n",
      "3997        0.0      0.0    0.0    0.0           0.0    0.0           0.0   \n",
      "3998        0.0      0.0    0.0    0.0           0.0    0.0           0.0   \n",
      "3999        0.0      0.0    0.0    0.0           0.0    0.0           0.0   \n",
      "\n",
      "      TMEM231  TMEM72-AS1  SIRPG-AS1   ...     TTTY18  FBXW10  SLC10A3  PIN4  \\\n",
      "0         0.0         0.0        0.0   ...        0.0     0.0      0.0   0.0   \n",
      "1         0.0         0.0        0.0   ...        0.0     0.0      0.0   0.0   \n",
      "2         0.0         0.0        0.0   ...        0.0     0.0      0.0   0.0   \n",
      "3         0.0         0.0        0.0   ...        0.0     0.0      0.0   0.0   \n",
      "4         0.0         0.0        0.0   ...        0.0     0.0      0.0   0.0   \n",
      "5         0.0         0.0        0.0   ...        0.0     0.0      0.0   0.0   \n",
      "6         0.0         0.0        0.0   ...        0.0     0.0      0.0   0.0   \n",
      "7         0.0         0.0        0.0   ...        0.0     0.0      0.0   0.0   \n",
      "8         0.0         0.0        0.0   ...        0.0     0.0      0.0   0.0   \n",
      "9         0.0         0.0        0.0   ...        0.0     0.0      0.0   0.0   \n",
      "10        0.0         0.0        0.0   ...        0.0     0.0      0.0   0.0   \n",
      "11        0.0         0.0        0.0   ...        0.0     0.0      0.0   0.0   \n",
      "12        0.0         0.0        0.0   ...        0.0     0.0      0.0   0.0   \n",
      "13        0.0         0.0        0.0   ...        0.0     0.0      0.0   0.0   \n",
      "14        0.0         0.0        0.0   ...        0.0     0.0      0.0   0.0   \n",
      "15        0.0         0.0        0.0   ...        0.0     0.0      0.0   0.0   \n",
      "16        0.0         0.0        0.0   ...        0.0     0.0      0.0   0.0   \n",
      "17        0.0         0.0        0.0   ...        0.0     0.0      0.0   0.0   \n",
      "18        0.0         0.0        0.0   ...        0.0     0.0      0.0   0.0   \n",
      "19        0.0         0.0        0.0   ...        0.0     0.0      0.0   0.0   \n",
      "20        0.0         0.0        0.0   ...        0.0     0.0      0.0   0.0   \n",
      "21        0.0         0.0        0.0   ...        0.0     0.0      0.0   0.0   \n",
      "22        0.0         0.0        0.0   ...        0.0     0.0      0.0   0.0   \n",
      "23        0.0         0.0        0.0   ...        0.0     0.0      0.0   0.0   \n",
      "24        0.0         0.0        0.0   ...        0.0     0.0      0.0   0.0   \n",
      "25        0.0         0.0        0.0   ...        0.0     0.0      0.0   0.0   \n",
      "26        0.0         0.0        0.0   ...        0.0     0.0      0.0   0.0   \n",
      "27        0.0         0.0        0.0   ...        0.0     0.0      0.0   0.0   \n",
      "28        0.0         0.0        0.0   ...        0.0     0.0      0.0   0.0   \n",
      "29        0.0         0.0        0.0   ...        0.0     0.0      0.0   0.0   \n",
      "...       ...         ...        ...   ...        ...     ...      ...   ...   \n",
      "3970      0.0         0.0        0.0   ...        0.0     0.0      0.0   0.0   \n",
      "3971      0.0         0.0        0.0   ...        0.0     0.0      0.0   0.0   \n",
      "3972      0.0         0.0        0.0   ...        0.0     0.0      0.0   0.0   \n",
      "3973      0.0         0.0        0.0   ...        0.0     0.0      0.0   0.0   \n",
      "3974      0.0         0.0        0.0   ...        0.0     0.0      0.0   0.0   \n",
      "3975      0.0         0.0        0.0   ...        0.0     0.0      0.0   0.0   \n",
      "3976      0.0         0.0        0.0   ...        0.0     0.0      0.0   0.0   \n",
      "3977      0.0         0.0        0.0   ...        0.0     0.0      0.0   0.0   \n",
      "3978      0.0         0.0        0.0   ...        0.0     0.0      0.0   0.0   \n",
      "3979      0.0         0.0        0.0   ...        0.0     0.0      0.0   0.0   \n",
      "3980      0.0         0.0        0.0   ...        0.0     0.0      0.0   0.0   \n",
      "3981      0.0         0.0        0.0   ...        0.0     0.0      0.0   0.0   \n",
      "3982      0.0         0.0        0.0   ...        0.0     0.0      0.0   0.0   \n",
      "3983      0.0         0.0        0.0   ...        0.0     0.0      0.0   0.0   \n",
      "3984      0.0         0.0        0.0   ...        0.0     0.0      0.0   0.0   \n",
      "3985      0.0         0.0        0.0   ...        0.0     0.0      0.0   0.0   \n",
      "3986      0.0         0.0        0.0   ...        0.0     0.0      0.0   0.0   \n",
      "3987      0.0         0.0        0.0   ...        0.0     0.0      0.0   0.0   \n",
      "3988      0.0         0.0        0.0   ...        0.0     0.0      0.0   0.0   \n",
      "3989      0.0         0.0        0.0   ...        0.0     0.0      0.0   0.0   \n",
      "3990      0.0         0.0        0.0   ...        0.0     0.0      0.0   0.0   \n",
      "3991      0.0         0.0        0.0   ...        0.0     0.0      0.0   0.0   \n",
      "3992      0.0         0.0        0.0   ...        0.0     0.0      0.0   0.0   \n",
      "3993      0.0         0.0        0.0   ...        0.0     0.0      0.0   0.0   \n",
      "3994      0.0         0.0        0.0   ...        0.0     0.0      0.0   0.0   \n",
      "3995      0.0         0.0        0.0   ...        0.0     0.0      0.0   0.0   \n",
      "3996      0.0         0.0        0.0   ...        0.0     0.0      0.0   0.0   \n",
      "3997      0.0         0.0        0.0   ...        0.0     0.0      0.0   0.0   \n",
      "3998      0.0         0.0        0.0   ...        0.0     0.0      0.0   0.0   \n",
      "3999      0.0         0.0        0.0   ...        0.0     0.0      0.0   0.0   \n",
      "\n",
      "      MIR4769  LOC102723544  FAAHP1  HCG26  MIR532  MIR6807  \n",
      "0         0.0           0.0     0.0    0.0     0.0      0.0  \n",
      "1         0.0           0.0     0.0    0.0     0.0      0.0  \n",
      "2         0.0           0.0     0.0    0.0     0.0      0.0  \n",
      "3         0.0           0.0     0.0    0.0     0.0      0.0  \n",
      "4         0.0           0.0     0.0    0.0     0.0      0.0  \n",
      "5         0.0           0.0     0.0    0.0     0.0      0.0  \n",
      "6         0.0           0.0     0.0    0.0     0.0      0.0  \n",
      "7         0.0           0.0     0.0    0.0     0.0      0.0  \n",
      "8         0.0           0.0     0.0    0.0     0.0      0.0  \n",
      "9         0.0           0.0     0.0    0.0     0.0      0.0  \n",
      "10        0.0           0.0     0.0    0.0     0.0      0.0  \n",
      "11        0.0           0.0     0.0    0.0     0.0      0.0  \n",
      "12        0.0           0.0     0.0    0.0     0.0      0.0  \n",
      "13        0.0           0.0     0.0    0.0     0.0      0.0  \n",
      "14        0.0           0.0     0.0    0.0     0.0      0.0  \n",
      "15        0.0           0.0     0.0    0.0     0.0      0.0  \n",
      "16        0.0           0.0     0.0    0.0     0.0      0.0  \n",
      "17        0.0           0.0     0.0    0.0     0.0      0.0  \n",
      "18        0.0           0.0     0.0    0.0     0.0      0.0  \n",
      "19        0.0           0.0     0.0    0.0     0.0      0.0  \n",
      "20        0.0           0.0     0.0    0.0     0.0      0.0  \n",
      "21        0.0           0.0     0.0    0.0     0.0      0.0  \n",
      "22        0.0           0.0     0.0    0.0     0.0      0.0  \n",
      "23        0.0           0.0     0.0    0.0     0.0      0.0  \n",
      "24        0.0           0.0     0.0    0.0     0.0      0.0  \n",
      "25        0.0           0.0     0.0    0.0     0.0      0.0  \n",
      "26        0.0           0.0     0.0    0.0     0.0      0.0  \n",
      "27        0.0           0.0     0.0    0.0     0.0      0.0  \n",
      "28        0.0           0.0     0.0    0.0     0.0      0.0  \n",
      "29        0.0           0.0     0.0    0.0     0.0      0.0  \n",
      "...       ...           ...     ...    ...     ...      ...  \n",
      "3970      0.0           0.0     0.0    0.0     0.0      0.0  \n",
      "3971      0.0           0.0     0.0    0.0     0.0      0.0  \n",
      "3972      0.0           0.0     0.0    0.0     0.0      0.0  \n",
      "3973      0.0           0.0     0.0    0.0     0.0      0.0  \n",
      "3974      0.0           0.0     0.0    0.0     0.0      0.0  \n",
      "3975      0.0           0.0     0.0    0.0     0.0      0.0  \n",
      "3976      0.0           0.0     0.0    0.0     0.0      0.0  \n",
      "3977      0.0           0.0     0.0    0.0     0.0      0.0  \n",
      "3978      0.0           0.0     0.0    0.0     0.0      0.0  \n",
      "3979      0.0           0.0     0.0    0.0     0.0      0.0  \n",
      "3980      0.0           0.0     0.0    0.0     0.0      0.0  \n",
      "3981      0.0           0.0     0.0    0.0     0.0      0.0  \n",
      "3982      0.0           0.0     0.0    0.0     0.0      0.0  \n",
      "3983      0.0           0.0     0.0    0.0     0.0      0.0  \n",
      "3984      0.0           0.0     0.0    0.0     0.0      0.0  \n",
      "3985      0.0           0.0     0.0    0.0     0.0      0.0  \n",
      "3986      0.0           0.0     0.0    0.0     0.0      0.0  \n",
      "3987      0.0           0.0     0.0    0.0     0.0      0.0  \n",
      "3988      0.0           0.0     0.0    0.0     0.0      0.0  \n",
      "3989      0.0           0.0     0.0    0.0     0.0      0.0  \n",
      "3990      0.0           0.0     0.0    0.0     0.0      0.0  \n",
      "3991      0.0           0.0     0.0    0.0     0.0      0.0  \n",
      "3992      0.0           0.0     0.0    0.0     0.0      0.0  \n",
      "3993      0.0           0.0     0.0    0.0     0.0      0.0  \n",
      "3994      0.0           0.0     0.0    0.0     0.0      0.0  \n",
      "3995      0.0           0.0     0.0    0.0     0.0      0.0  \n",
      "3996      0.0           0.0     0.0    0.0     0.0      0.0  \n",
      "3997      0.0           0.0     0.0    0.0     0.0      0.0  \n",
      "3998      0.0           0.0     0.0    0.0     0.0      0.0  \n",
      "3999      0.0           0.0     0.0    0.0     0.0      0.0  \n",
      "\n",
      "[4000 rows x 4917 columns]\n"
     ]
    }
   ],
   "source": [
    "test4000 = feather.read_dataframe(\"data/calcium_pathway_N4000.data.feather\")\n",
    "print (test4000)"
   ]
  },
  {
   "cell_type": "code",
   "execution_count": null,
   "metadata": {
    "collapsed": true
   },
   "outputs": [],
   "source": []
  },
  {
   "cell_type": "code",
   "execution_count": null,
   "metadata": {
    "collapsed": true
   },
   "outputs": [],
   "source": []
  },
  {
   "cell_type": "code",
   "execution_count": 7,
   "metadata": {
    "collapsed": true
   },
   "outputs": [],
   "source": [
    "ref = load_reference_gene(args[\"refgene_file\"])\n",
    "genes = pd.Series(list(set(ref['gene_name'])))\n",
    "def get_feather(input_data):\n",
    "    dat = pickle.load(open(input_data, \"rb\"))\n",
    "    regression_data = np.array([np.array(genes.isin(item[\"gene_name\"]), dtype = float) \n",
    "                                for item in dat['case'] + dat['ctrl']])\n",
    "    phenotype = np.matrix([1]*len(dat['case']) + [0]*len(dat['ctrl'])).T\n",
    "    regression_data = np.hstack((phenotype, regression_data))\n",
    "    mask = np.ravel((regression_data==0).all(0))\n",
    "    regression_data = np.hstack((phenotype, regression_data[:, mask]))\n",
    "    output_data = feather.write_dataframe(pd.DataFrame(regression_data, \n",
    "                                          columns = ['phenotype'] + genes[mask[1:]].tolist()), \n",
    "                                          \"data/del_sim_shape{}_scale1_p{}_N{}_M{}_{}.data.feather\".format(\n",
    "                                          dat[\"debug\"][\"args\"][\"odds_ratio_params\"][\"shape\"], \n",
    "                                          dat[\"debug\"][\"args\"][\"prevalence\"], \n",
    "                                          dat[\"debug\"][\"args\"][\"n_case\"] + dat[\"debug\"][\"args\"][\"n_ctrl\"], \n",
    "                                          dat[\"debug\"][\"args\"][\"n_causal_gene\"], dat[\"debug\"][\"seed\"]))\n",
    "#     the last item -seed - need to be fixed. For new simulation after 04/25/17, use the default one. \n",
    "#     For previous simulations, use seed manually.\n",
    "    return output_data"
   ]
  },
  {
   "cell_type": "code",
   "execution_count": null,
   "metadata": {
    "collapsed": true
   },
   "outputs": [],
   "source": [
    "get_feather(\"data/del_sim_shape9_scale1_p0.01_N4000_M200_12.data.pkl\")\n",
    "get_feather(\"data/del_sim_shape9_scale1_p0.01_N4000_M100_12.data.pkl\")\n",
    "get_feather(\"data/del_sim_shape5_scale1_p0.01_N4000_M200_12.data.pkl\")\n",
    "get_feather(\"data/del_sim_shape5_scale1_p0.01_N4000_M100_12.data.pkl\")\n",
    "get_feather(\"data/del_sim_shape3_scale1_p0.01_N4000_M200_12.data.pkl\")\n",
    "get_feather(\"data/del_sim_shape3_scale1_p0.01_N4000_M100_12.data.pkl\")"
   ]
  },
  {
   "cell_type": "code",
   "execution_count": null,
   "metadata": {
    "collapsed": true
   },
   "outputs": [],
   "source": []
  },
  {
   "cell_type": "code",
   "execution_count": null,
   "metadata": {
    "collapsed": true
   },
   "outputs": [],
   "source": []
  },
  {
   "cell_type": "code",
   "execution_count": 8,
   "metadata": {
    "collapsed": true
   },
   "outputs": [],
   "source": [
    "get_feather(\"data/del_sim_scale9_shape1_N4000_M200_999.data.pkl\")"
   ]
  },
  {
   "cell_type": "code",
   "execution_count": 2,
   "metadata": {},
   "outputs": [
    {
     "name": "stdout",
     "output_type": "stream",
     "text": [
      "(4000, 26929)\n"
     ]
    }
   ],
   "source": [
    "dat = pickle.load(open(\"data/del_sample_test_4000.pkl\", \"rb\"))\n",
    "ref = load_reference_gene(args[\"refgene_file\"])\n",
    "genes = pd.Series(list(set(ref['gene_name'])))\n",
    "regression_data = np.array([np.array(genes.isin(item[\"gene_name\"]), dtype = float) \n",
    "                            for item in dat['case'] + dat['ctrl']])\n",
    "print (np.shape(regression_data))"
   ]
  },
  {
   "cell_type": "code",
   "execution_count": 3,
   "metadata": {},
   "outputs": [
    {
     "name": "stdout",
     "output_type": "stream",
     "text": [
      "(4000, 26930)\n"
     ]
    }
   ],
   "source": [
    "regression_data = np.hstack((np.matrix([1] * len(dat['case']) + [0] * len(dat['ctrl'])).T, regression_data))\n",
    "print (np.shape(regression_data))"
   ]
  },
  {
   "cell_type": "code",
   "execution_count": 4,
   "metadata": {},
   "outputs": [
    {
     "name": "stdout",
     "output_type": "stream",
     "text": [
      "26930\n",
      "26930\n"
     ]
    }
   ],
   "source": [
    "mask = np.ravel((regression_data==0).all(0))\n",
    "print (len(mask==True))\n",
    "print (len(mask==False))"
   ]
  },
  {
   "cell_type": "code",
   "execution_count": 5,
   "metadata": {},
   "outputs": [
    {
     "name": "stdout",
     "output_type": "stream",
     "text": [
      "(4000, 4941)\n",
      "4000\n"
     ]
    }
   ],
   "source": [
    "regression_data = np.hstack((np.matrix([1]*len(dat['case']) + [0]*len(dat['ctrl'])).T, regression_data[:, mask]))\n",
    "print (np.shape(regression_data))\n",
    "\n",
    "df = pd.DataFrame(regression_data)\n",
    "pprint (len(df.iloc[0:, 0:1].values.tolist()))"
   ]
  },
  {
   "cell_type": "code",
   "execution_count": 6,
   "metadata": {
    "collapsed": true
   },
   "outputs": [],
   "source": [
    "feather.write_dataframe(pd.DataFrame(regression_data, columns = ['phenotype'] + genes[mask[1:]].tolist()), \n",
    "                        \"data/del_test_data.feather\")"
   ]
  },
  {
   "cell_type": "code",
   "execution_count": null,
   "metadata": {
    "collapsed": true
   },
   "outputs": [],
   "source": []
  }
 ],
 "metadata": {
  "kernelspec": {
   "display_name": "Python 3",
   "language": "python",
   "name": "python3"
  },
  "language_info": {
   "codemirror_mode": {
    "name": "ipython",
    "version": 3
   },
   "file_extension": ".py",
   "mimetype": "text/x-python",
   "name": "python",
   "nbconvert_exporter": "python",
   "pygments_lexer": "ipython3",
   "version": "3.5.2"
  }
 },
 "nbformat": 4,
 "nbformat_minor": 2
}
