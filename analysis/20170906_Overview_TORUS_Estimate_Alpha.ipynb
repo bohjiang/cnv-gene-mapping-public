{
 "cells": [
  {
   "cell_type": "markdown",
   "metadata": {},
   "source": [
    "# Use TORUS to estimate α for toy of multi-CNV-causal-gene example"
   ]
  },
  {
   "cell_type": "markdown",
   "metadata": {},
   "source": [
    "### Methods"
   ]
  },
  {
   "cell_type": "markdown",
   "metadata": {
    "collapsed": true
   },
   "source": [
    "### Results\n",
    "The results for enrichment analysis is directly output to the screen. 1st column represents the annotation name and its corresponding level; 2nd column is the point estimate (MLE) of the log odds ratio.\n",
    "\n",
    "log(OR) = -17.588\n",
    "\n",
    "    Read in 1 loci, 15 locus-SNP pairs ... \n",
    "    Loading annotations ... \n",
    "    Initializing ... \n",
    "    Starting EM ... \n",
    "      Iter          loglik          Intercept    binding.1\tdtss.1\tdtss.2\tdtss.3\tdtss.4\t\n",
    "       1             3.707           -1.765     -7.932      1.139     -1.186     -1.077     -6.009  \n",
    "       2             9.425           -5.175    -16.645      3.450     -0.154      0.064    -12.232  \n",
    "       3             9.850          -12.107    -25.214      8.071      3.190      3.516    -18.309  \n",
    "       4            10.126          -25.967    -33.765     17.310     11.152     11.587    -24.369  \n",
    "       5            10.160          -53.352    -42.316     35.456     28.020     28.564    -30.429  \n",
    "\n",
    "\n",
    "```sh\n",
    "cat toy_multi_beta.est\n",
    "```\n",
    "\n",
    "                Intercept    -53.352     -739479.978  739373.273\n",
    "                binding.1    -17.588      -93724.770  93689.593\n",
    "        dtss.1::[-17.5kb]     35.456        20.040     50.873\n",
    "         dtss.2::[-7.5kb]     28.019     -388293.712  388349.749\n",
    "        dtss.3::[-3.75kb]     28.563     -395832.517  395889.642\n",
    "        dtss.4::[-1.75kb]    -16.490     -175834.248  175801.269\n"
   ]
  },
  {
   "cell_type": "markdown",
   "metadata": {},
   "source": []
  }
 ],
 "metadata": {
  "kernelspec": {
   "display_name": "Python 3",
   "language": "python",
   "name": "python3"
  },
  "language_info": {
   "codemirror_mode": {
    "name": "ipython",
    "version": 3
   },
   "file_extension": ".py",
   "mimetype": "text/x-python",
   "name": "python",
   "nbconvert_exporter": "python",
   "pygments_lexer": "ipython3",
   "version": "3.5.2"
  }
 },
 "nbformat": 4,
 "nbformat_minor": 2
}
