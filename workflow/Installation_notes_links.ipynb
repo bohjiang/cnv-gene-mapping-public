{
 "cells": [
  {
   "cell_type": "markdown",
   "metadata": {
    "kernel": "SoS"
   },
   "source": [
    "# Useful Notes and links"
   ]
  },
  {
   "cell_type": "markdown",
   "metadata": {
    "kernel": "SoS"
   },
   "source": [
    "## intall SoS, sos-notebook, jupyter-lab\n",
    "http://statgen.us/lab-wiki/orientation/jupyter-setup.html"
   ]
  },
  {
   "cell_type": "markdown",
   "metadata": {
    "kernel": "SoS"
   },
   "source": [
    "## install `susieR`\n",
    "libgfortran.so.4: cannot open shared object file: No such file or directory\n",
    "```\n",
    "wget -q -O - https://dl.google.com/linux/linux_signing_key.pub | sudo apt-key add -\n",
    "sudo add-apt-repository ppa:jonathonf/gcc-7.1\n",
    "sudo apt-get update\n",
    "sudo apt-get install gcc-7 g++-7\n",
    "sudo apt-get install gfortran-7\n",
    "```\n",
    "R packages need to install before susie\n",
    "```\n",
    "R\n",
    "devtools::install_github(\"ctmm-initiative/ctmm\")\n",
    "devtools::install_github(\"cran/expm\")\n",
    "devtools::install_github(\"hazimehh/L0Learn\")\n",
    "install.packages(\"microbenchmark\")\n",
    "install.packages(\"cowplot\")\n",
    "install_github(\"igraph/rigraph\")\n",
    "devtools::install_github(\"glmgen/genlasso\")\n",
    "```\n",
    "susie\n",
    "```\n",
    "devtools::install_github(\"stephenslab/susieR@0.9.0\",build_vignettes = TRUE)\n",
    "```"
   ]
  },
  {
   "cell_type": "markdown",
   "metadata": {
    "kernel": "SoS"
   },
   "source": [
    "Find file by name\n",
    "```\n",
    "find . -name \"admixture\"\n",
    "```"
   ]
  },
  {
   "cell_type": "code",
   "execution_count": null,
   "metadata": {
    "kernel": "SoS"
   },
   "outputs": [],
   "source": []
  }
 ],
 "metadata": {
  "kernelspec": {
   "display_name": "SoS",
   "language": "sos",
   "name": "sos"
  },
  "language_info": {
   "codemirror_mode": "sos",
   "file_extension": ".sos",
   "mimetype": "text/x-sos",
   "name": "sos",
   "nbconvert_exporter": "sos_notebook.converter.SoS_Exporter",
   "pygments_lexer": "sos"
  },
  "sos": {
   "kernels": [
    [
     "SoS",
     "sos",
     "",
     ""
    ]
   ],
   "version": "0.21.7"
  }
 },
 "nbformat": 4,
 "nbformat_minor": 4
}
