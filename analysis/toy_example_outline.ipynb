{
 "cells": [
  {
   "cell_type": "markdown",
   "metadata": {},
   "source": [
    "## Toy example of gene configuration overlapped with CNV"
   ]
  },
  {
   "cell_type": "markdown",
   "metadata": {},
   "source": [
    "### Outline\n",
    "Suppose there are three adjacent genes, gene1, gene2 and gene3, on a genomic region. Only gene1 is causal gene. Simulated CNVs overlap with none, soly one, two adjacent or all the three genes.\n",
    "\n",
    "For one specific sample, each gene is either overlapped with one CNV or none, denoted as {0,1}. Whether the three genes overlap with CNV are denoted as one of the seven following scenarios: {0,0,0}, {1,0,0}, {0,1,0}, {0,0,1}, {1,1,0}, {0,1,1}, {1,1,1}.\n",
    "\n",
    "#### Cases and Controls assignment\n",
    "\n",
    "The fraction for each scenario is uncertain. Here I suppose {0,0,0} accounts for 0.5, the other six scenarios account for the other 0.5 evenly. For example, there are 600 samples for {0,0,0}, and 100 samples for the other six respectively. Half of all simulated samples are cases and the other are controls. Scenarios {0,0,0}, {0,1,0}, {0,0,1} and {0,1,1} tend to be controls, while the other three, {1,0,0}, {1,1,0} and {1,1,1}, tend to be cases, because they cover the causal gene. To determine the category, I simply simulated a normal random variable for each sample, and add a constant for each of those three scenarios, respectively, which tend to be cases. To be specific, 1.0 is added to {1,0,0}, 0.66 is added to {1,1,0}, 0.33 is added to {1,1,1}. These constants can be adjusted.\n",
    "\n",
    "#### Methods\n",
    "1) Use R package varbvs to calculate the posterior inclusion probability (pip) for each gene.\n",
    "\n",
    "2) Calculate odds ratio and p-value of Fisher's exact test for each gene."
   ]
  },
  {
   "cell_type": "markdown",
   "metadata": {
    "collapsed": true
   },
   "source": [
    "#### Results\n",
    "PIP for three genes\n",
    "\n",
    "    variable\tprob\t    PVE\tcoef\t    Pr(coef.>0.95)\n",
    "    gene1\t0.999999816\tNA\t0.8815534\t[+0.620,+1.157]\n",
    "    gene2\t0.012486887\tNA\t-0.1412246\t[-0.394,+0.098]\n",
    "    gene3\t0.009969412\tNA\t-0.1118736\t[-0.377,+0.150]\n",
    "The pip for gene1 (causal) is close to 1 and pip for the other two genes are close to 0.\n",
    "\n",
    "Odds ratio for three genes\n",
    "\n",
    "    gene1    2.4518160045430979\n",
    "    gene2    1.1974117130949771\n",
    "    gene3    0.98237911337572137\n",
    "Odds ratio for gene1 is most largest."
   ]
  },
  {
   "cell_type": "code",
   "execution_count": null,
   "metadata": {
    "collapsed": true
   },
   "outputs": [],
   "source": []
  }
 ],
 "metadata": {
  "kernelspec": {
   "display_name": "Python 3",
   "language": "python",
   "name": "python3"
  },
  "language_info": {
   "codemirror_mode": {
    "name": "ipython",
    "version": 3
   },
   "file_extension": ".py",
   "mimetype": "text/x-python",
   "name": "python",
   "nbconvert_exporter": "python",
   "pygments_lexer": "ipython3",
   "version": "3.5.2"
  }
 },
 "nbformat": 4,
 "nbformat_minor": 2
}
