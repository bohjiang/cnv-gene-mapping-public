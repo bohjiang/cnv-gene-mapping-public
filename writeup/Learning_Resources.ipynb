{
 "cells": [
  {
   "cell_type": "markdown",
   "metadata": {},
   "source": [
    "# Learning resources"
   ]
  },
  {
   "cell_type": "markdown",
   "metadata": {},
   "source": [
    "## NGS\n",
    "\n",
    "1). lecture notes\n",
    "\n",
    "## CNV lecture notes: identify CNV\n",
    "\n",
    "1). second last page 1st and 2nd papers\n",
    "\n",
    "Alkan et al (2011) Genome structural variation discovery and genotyping. Nat Rev Genet. 12(5):363\n",
    "\n",
    "Girirajan et al (2011) Human Copy Number Variation and Complex Genetic Disease. Annu Rev Genet. 2011;45:203\n",
    "\n",
    "## Bioinformatics course\n",
    "\n",
    "1). Bioinformatics: Introduction and Methods 生物信息学: 导论与方法 - Peking University | Coursera\n",
    "\n",
    "https://www.coursera.org/learn/bioinformatics-pku/#\n",
    "\n",
    "## AWK\n",
    "\n",
    "http://www.hcs.harvard.edu/~dholland/computers/awk.html\n",
    "\n",
    "http://www.grymoire.com/Unix/Awk.html\n",
    "\n",
    "The Grymoire's AWK tutorial : Awk - A Tutorial and Introduction - by Bruce Barnett\n",
    "\n",
    "http://www.grymoire.com/Unix/Awk.html\n",
    "\n",
    "SHELL Script\n",
    "\n",
    "http://www.freeos.com/guides/lsst/ Chapters 1-3, examples in Chapter 8.\n",
    "\n",
    "## BDA book: Bayesian Data analysis / Gelman et al. \n",
    "\n",
    "1). Chapters 1-3, 5. Bayesian statistics background\n",
    "\n",
    "2). Chapters 10-11. MCMC\n",
    "\n",
    "3). Chapter 14.15: Bayesian regression\n",
    "\n",
    "## Machine Learning: a probabilistic perspective\n",
    "\n",
    "1). Chapter 5. Bayesian model selection\n",
    "\n",
    "2). Chapter 17, 24: MCMC\n",
    "\n",
    "## stephens999/stat302\n",
    "\n",
    "notes from 302 class on Bayesian methods and principles of statistics \n",
    "\n",
    "https://github.com/stephens999/stat302/tree/master/notes\n",
    "\n",
    "## The Art of R Programming: A Tour of Statistical Software Design\n",
    "\n",
    "http://heather.cs.ucdavis.edu/~matloff/132/NSPpart.pdf First 11 chapters\n"
   ]
  }
 ],
 "metadata": {
  "kernelspec": {
   "display_name": "SoS",
   "language": "sos",
   "name": "sos"
  },
  "language_info": {
   "codemirror_mode": "sos",
   "file_extension": ".sos",
   "mimetype": "text/x-sos",
   "name": "sos",
   "nbconvert_exporter": "sos.jupyter.converter.SoS_Exporter",
   "pygments_lexer": "sos"
  },
  "sos": {
   "kernels": [
    [
     "R",
     "ir",
     "R",
     "#FDEDEC"
    ],
    [
     "Python3",
     "python3",
     "Python3",
     "#EAFAF1"
    ],
    [
     "SoS",
     "sos",
     "",
     ""
    ]
   ],
   "panel": {
    "displayed": true,
    "height": 0,
    "style": "side"
   }
  }
 },
 "nbformat": 4,
 "nbformat_minor": 2
}
