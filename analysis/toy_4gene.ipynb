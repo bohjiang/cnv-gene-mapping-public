{
 "cells": [
  {
   "cell_type": "code",
   "execution_count": 1,
   "metadata": {},
   "outputs": [],
   "source": [
    "import numpy as np\n",
    "import pandas as pd\n",
    "import feather\n",
    "from pandasql import sqldf\n",
    "from fisher import pvalue\n",
    "from scipy import stats\n",
    "from pprint import pprint"
   ]
  },
  {
   "cell_type": "code",
   "execution_count": 2,
   "metadata": {
    "collapsed": true
   },
   "outputs": [],
   "source": [
    "# 4 adjacent genes, the first gene is caucal\n",
    "# common\n",
    "s1 = [0,0,0,0]\n",
    "s2 = [1,0,0,0] # need to be added a constant\n",
    "s5 = [0,0,0,1]\n",
    "s6 = [1,1,0,0] # need to be added a constant\n",
    "s8 = [0,0,1,1]\n",
    "s9 = [1,1,1,0] # need to be added a constant\n",
    "s10 = [0,1,1,1]\n",
    "s11 = [1,1,1,1] # need to be added a constant\n",
    "# less common\n",
    "s3 = [0,1,0,0]\n",
    "s4 = [0,0,1,0]\n",
    "s7 = [0,1,1,0]"
   ]
  },
  {
   "cell_type": "code",
   "execution_count": 3,
   "metadata": {},
   "outputs": [],
   "source": [
    "def sample_4gene(n1, n2, n3, n4, n5, n6, n7, n8, n9, n10, n11, const, causal_2nd = 0, seed=999):\n",
    "    np.random.seed(seed)\n",
    "    overlap = np.matrix( [s1 for i in range(n1)] + [s2 for i in range(n2)] + [s5 for i in range(n5)] \n",
    "                       + [s6 for i in range(n6)] + [s8 for i in range(n8)] + [s9 for i in range(n9)] \n",
    "                       + [s10 for i in range(n10)] + [s11 for i in range(n11)] \n",
    "                       + [s3 for i in range(n3)] + [s4 for i in range(n4)] + [s7 for i in range(n7)] )\n",
    "    config = [np.random.normal(0,1) for i in range(n1)] + [np.random.normal(0,1)+const for i in range(n2)] + [np.random.normal(0,1) for i in range(n5)] + [np.random.normal(0,1)+const for i in range(n6)] + [np.random.normal(0,1) for i in range(n8)] + [np.random.normal(0,1)+const for i in range(n9)] + [np.random.normal(0,1) for i in range(n10)] + [np.random.normal(0,1)+const for i in range(n11)] + [np.random.normal(0,1) for i in range(n3)] + [np.random.normal(0,1) for i in range(n4)] + [np.random.normal(0,1) for i in range(n7)]\n",
    "    if not causal_2nd == 0:\n",
    "        config = [np.random.normal(0,1) for i in range(n1)] + [np.random.normal(0,1) for i in range(n2)] + [np.random.normal(0,1) for i in range(n5)] + [np.random.normal(0,1)+const for i in range(n6)] + [np.random.normal(0,1) for i in range(n8)] + [np.random.normal(0,1)+const for i in range(n9)] + [np.random.normal(0,1)+const for i in range(n10)] + [np.random.normal(0,1)+const for i in range(n11)] + [np.random.normal(0,1)+const for i in range(n3)] + [np.random.normal(0,1) for i in range(n4)] + [np.random.normal(0,1)+const for i in range(n7)]\n",
    "    config = np.matrix([[1] if i>np.median(config) else [0] for i in config])\n",
    "    sample = np.concatenate((config, overlap), axis=1)\n",
    "    df = pd.DataFrame(sample, columns = [\"phenotype\"] + [\"gene{}\".format(i+1) for i in range(sample.shape[1]-1)])\n",
    "    counts = df.groupby([\"gene1\",\"gene2\",\"gene3\",\"gene4\",\"phenotype\"]).size()\n",
    "    for col in df.columns:\n",
    "        df[col] = df[col].astype(np.uint8)\n",
    "    output = feather.write_dataframe(df, \"data/toy_4genes_n{}_causal{}.feather\"\n",
    "                                     .format(n1+n2+n3+n4+n5+n6+n7+n8+n9+n10+n11, causal_2nd+1))\n",
    "    return df, counts"
   ]
  },
  {
   "cell_type": "code",
   "execution_count": 4,
   "metadata": {},
   "outputs": [],
   "source": [
    "# 1010 can be divided into 1000 and 0010, 1101 can be divided into 1100 and 0001\n",
    "# So we add 25 for 1000 and 0001, 5 for 0010 and 0100, 10 for 1100 and 0011\n",
    "n0000 = 200; n1000 = 100; n0001 = 100; n1100 = 150; n0011 = 150; n1110 = 200; n0111 = 200; n1111 = 150\n",
    "n0100 = 20; n0010 = 20; n0110 = 30\n",
    "### a special case\n",
    "# n0000 = 1000; n1000 = 0; n0001 = 0; n1100 = 500; n0011 = 500; n1110 = 0; n0111 = 0; n1111 = 0\n",
    "# n0100 = 0; n0010 = 0; n0110 = 0\n",
    "diff = 1.0\n",
    "sample, counts = sample_4gene(n1=n0000, n2=n1000, n5=n0001, n6=n1100, n8=n0011, n9=n1110, n10=n0111, n11=n1111, \n",
    "                              n3=n0100, n4=n0010, n7=n0110, const=diff, causal_2nd=0)\n",
    "sample_2, counts_2 = sample_4gene(n1=n0000, n2=n1000, n5=n0001, n6=n1100, n8=n0011, n9=n1110, n10=n0111, n11=n1111, \n",
    "                                  n3=n0100, n4=n0010, n7=n0110, const=diff, causal_2nd=1)"
   ]
  },
  {
   "cell_type": "code",
   "execution_count": 5,
   "metadata": {
    "collapsed": true
   },
   "outputs": [],
   "source": [
    "def get_OR(gene_df, fisher=0):\n",
    "    cases = gene_df[gene_df[\"phenotype\"]==1]\n",
    "    ctrls = gene_df[gene_df[\"phenotype\"]==0]\n",
    "    res_dict = {}\n",
    "    for gene in list(gene_df)[1:]:\n",
    "        n_gene_case = len(cases[cases[gene]==1])\n",
    "        n_nogene_case = len(cases[cases[gene]==0])\n",
    "        n_gene_ctrl = len(ctrls[ctrls[gene]==1])\n",
    "        n_nogene_ctrl = len(ctrls[ctrls[gene]==0])\n",
    "#         print (n_gene_case, n_nogene_case, n_gene_ctrl, n_nogene_ctrl)\n",
    "        odds_ratio = stats.fisher_exact([[n_gene_case, n_gene_ctrl], [n_nogene_case, n_nogene_ctrl]])[0]\n",
    "        res_dict[gene] = odds_ratio\n",
    "        if not fisher==0:\n",
    "            logp = -np.log10(pvalue(n_gene_case, n_gene_ctrl, n_nogene_case, n_nogene_ctrl).two_tail)\n",
    "            res_dict[gene] = logp\n",
    "    return res_dict"
   ]
  },
  {
   "cell_type": "code",
   "execution_count": 6,
   "metadata": {},
   "outputs": [
    {
     "name": "stdout",
     "output_type": "stream",
     "text": [
      "{'gene1': 4.5364635364635362,\n",
      " 'gene2': 2.144790718835305,\n",
      " 'gene3': 1.1176051318602993,\n",
      " 'gene4': 0.5967530767216549}\n"
     ]
    }
   ],
   "source": [
    "pprint (get_OR(sample, fisher=0))"
   ]
  },
  {
   "cell_type": "code",
   "execution_count": 7,
   "metadata": {},
   "outputs": [
    {
     "name": "stdout",
     "output_type": "stream",
     "text": [
      "{'gene1': 2.1814345991561179,\n",
      " 'gene2': 4.977072310405644,\n",
      " 'gene3': 2.3473633648058363,\n",
      " 'gene4': 1.0373482726423904}\n"
     ]
    }
   ],
   "source": [
    "pprint (get_OR(sample_2, fisher=0))"
   ]
  }
 ],
 "metadata": {
  "kernelspec": {
   "display_name": "Python 3",
   "language": "python",
   "name": "python3"
  },
  "language_info": {
   "codemirror_mode": {
    "name": "ipython",
    "version": 3
   },
   "file_extension": ".py",
   "mimetype": "text/x-python",
   "name": "python",
   "nbconvert_exporter": "python",
   "pygments_lexer": "ipython3",
   "version": "3.5.2"
  }
 },
 "nbformat": 4,
 "nbformat_minor": 2
}
