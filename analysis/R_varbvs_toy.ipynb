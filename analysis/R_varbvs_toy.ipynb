{
 "cells": [
  {
   "cell_type": "code",
   "execution_count": 1,
   "metadata": {
    "collapsed": true
   },
   "outputs": [],
   "source": [
    "library(feather)\n",
    "library(varbvs)"
   ]
  },
  {
   "cell_type": "code",
   "execution_count": 2,
   "metadata": {},
   "outputs": [],
   "source": [
    "get_rds_toy <- function(datalist){\n",
    "    for (dat in datalist){\n",
    "        newdat = read_feather(dat)\n",
    "        newmatrix = matrix(as.double(unlist(newdat)), dim(newdat)[1], dim(newdat)[2])\n",
    "        colnames(newmatrix) = colnames(newdat)\n",
    "        newfit = varbvs(newmatrix[,-1], NULL, newmatrix[,1], family = \"binomial\", \n",
    "                        logodds = seq(-3.5,-1,0.1), sa = 1, verbose = F)\n",
    "        newfit$summary = summary(newfit)\n",
    "        newfit$w = normalizelogweights(newfit$logw)\n",
    "        newfit$pip = newfit$alpha %*% c(newfit$w)\n",
    "        filename = paste(dat, \".RDS\", sep=\"\")\n",
    "        saveRDS(newfit, filename)\n",
    "        return (newfit$summary$top.vars)\n",
    "    }\n",
    "}"
   ]
  },
  {
   "cell_type": "code",
   "execution_count": 3,
   "metadata": {},
   "outputs": [
    {
     "data": {
      "text/html": [
       "<table>\n",
       "<thead><tr><th scope=col>index</th><th scope=col>variable</th><th scope=col>prob</th><th scope=col>PVE</th><th scope=col>coef</th><th scope=col>Pr(coef.&gt;0.95)</th></tr></thead>\n",
       "<tbody>\n",
       "\t<tr><td>1              </td><td>gene1          </td><td>0.999999816    </td><td>NA             </td><td> 0.8815534     </td><td>[+0.620,+1.157]</td></tr>\n",
       "\t<tr><td>2              </td><td>gene2          </td><td>0.012486887    </td><td>NA             </td><td>-0.1412246     </td><td>[-0.394,+0.098]</td></tr>\n",
       "\t<tr><td>3              </td><td>gene3          </td><td>0.009969412    </td><td>NA             </td><td>-0.1118736     </td><td>[-0.377,+0.150]</td></tr>\n",
       "</tbody>\n",
       "</table>\n"
      ],
      "text/latex": [
       "\\begin{tabular}{r|llllll}\n",
       " index & variable & prob & PVE & coef & Pr(coef.>0.95)\\\\\n",
       "\\hline\n",
       "\t 1                   & gene1               & 0.999999816         & NA                  &  0.8815534          & {[}+0.620,+1.157{]}\\\\\n",
       "\t 2                   & gene2               & 0.012486887         & NA                  & -0.1412246          & {[}-0.394,+0.098{]}\\\\\n",
       "\t 3                   & gene3               & 0.009969412         & NA                  & -0.1118736          & {[}-0.377,+0.150{]}\\\\\n",
       "\\end{tabular}\n"
      ],
      "text/markdown": [
       "\n",
       "index | variable | prob | PVE | coef | Pr(coef.>0.95) | \n",
       "|---|---|---|\n",
       "| 1               | gene1           | 0.999999816     | NA              |  0.8815534      | [+0.620,+1.157] | \n",
       "| 2               | gene2           | 0.012486887     | NA              | -0.1412246      | [-0.394,+0.098] | \n",
       "| 3               | gene3           | 0.009969412     | NA              | -0.1118736      | [-0.377,+0.150] | \n",
       "\n",
       "\n"
      ],
      "text/plain": [
       "  index variable prob        PVE coef       Pr(coef.>0.95) \n",
       "1 1     gene1    0.999999816 NA   0.8815534 [+0.620,+1.157]\n",
       "2 2     gene2    0.012486887 NA  -0.1412246 [-0.394,+0.098]\n",
       "3 3     gene3    0.009969412 NA  -0.1118736 [-0.377,+0.150]"
      ]
     },
     "metadata": {},
     "output_type": "display_data"
    }
   ],
   "source": [
    "get_rds_toy(c(\"data/toy_n000_600_n100_100_n010_100_n001_100_n110_100_n011_100_n111_100.feather\"))"
   ]
  },
  {
   "cell_type": "code",
   "execution_count": null,
   "metadata": {
    "collapsed": true
   },
   "outputs": [],
   "source": []
  },
  {
   "cell_type": "code",
   "execution_count": null,
   "metadata": {
    "collapsed": true
   },
   "outputs": [],
   "source": []
  },
  {
   "cell_type": "code",
   "execution_count": 4,
   "metadata": {},
   "outputs": [
    {
     "name": "stdout",
     "output_type": "stream",
     "text": [
      "Summary of fitted Bayesian variable selection model:\n",
      "family:     binomial   num. hyperparameter settings: 26\n",
      "samples:    1200       iid variable selection prior: yes\n",
      "variables:  3          fit prior var. of coefs (sa): no\n",
      "covariates: 1          fit approx. factors (eta):    yes\n",
      "maximum log-likelihood lower bound: -817.9226\n",
      "Hyperparameters: \n",
      "        estimate Pr>0.95             candidate values\n",
      "sa            NA [NA,NA]             1--1\n",
      "logodds    -1.41 [-2.30,-1.00]       (-3.50)--(-1.00)\n",
      "Selected variables by probability cutoff:\n",
      ">0.10 >0.25 >0.50 >0.75 >0.90 >0.95 \n",
      "    1     1     1     1     1     1 \n",
      "Top 3 variables by inclusion probability:\n",
      "  index variable    prob PVE  coef*  Pr(coef.>0.95)\n",
      "1     1    gene1 1.00000  NA  0.882 [+0.615,+1.143]\n",
      "2     2    gene2 0.01249  NA -0.141 [-0.373,+0.095]\n",
      "3     3    gene3 0.00997  NA -0.112 [-0.366,+0.158]\n",
      "*See help(varbvs) about interpreting coefficients in logistic regression.\n"
     ]
    },
    {
     "data": {
      "text/html": [
       "<ol class=list-inline>\n",
       "\t<li>'gene1'</li>\n",
       "\t<li>'gene2'</li>\n",
       "\t<li>'gene3'</li>\n",
       "</ol>\n"
      ],
      "text/latex": [
       "\\begin{enumerate*}\n",
       "\\item 'gene1'\n",
       "\\item 'gene2'\n",
       "\\item 'gene3'\n",
       "\\end{enumerate*}\n"
      ],
      "text/markdown": [
       "1. 'gene1'\n",
       "2. 'gene2'\n",
       "3. 'gene3'\n",
       "\n",
       "\n"
      ],
      "text/plain": [
       "[1] \"gene1\" \"gene2\" \"gene3\""
      ]
     },
     "metadata": {},
     "output_type": "display_data"
    }
   ],
   "source": [
    "newdat = read_feather(\"data/toy_n000_600_n100_100_n010_100_n001_100_n110_100_n011_100_n111_100.feather\")\n",
    "newmatrix = matrix(as.double(unlist(newdat)), dim(newdat)[1], dim(newdat)[2])\n",
    "colnames(newmatrix) = colnames(newdat)\n",
    "# print (dim(newdat)[1])\n",
    "newfit = varbvs(newmatrix[,-1], NULL, newmatrix[,1], family = \"binomial\", \n",
    "                logodds = seq(-3.5,-1,0.1), sa = 1, verbose = F)\n",
    "newfit$summary = summary(newfit)\n",
    "newfit$w = normalizelogweights(newfit$logw)\n",
    "newfit$pip = newfit$alpha %*% c(newfit$w)\n",
    "newfit$beta = newfit$mu %*% c(newfit$w)\n",
    "newfit$var_names = colnames(newdat[-1])\n",
    "print (summary(newfit))\n",
    "dimnames(newfit$pip)[[1]]"
   ]
  },
  {
   "cell_type": "code",
   "execution_count": null,
   "metadata": {
    "collapsed": true
   },
   "outputs": [],
   "source": []
  }
 ],
 "metadata": {
  "kernelspec": {
   "display_name": "R",
   "language": "R",
   "name": "ir"
  },
  "language_info": {
   "codemirror_mode": "r",
   "file_extension": ".r",
   "mimetype": "text/x-r-source",
   "name": "R",
   "pygments_lexer": "r",
   "version": "3.3.2"
  }
 },
 "nbformat": 4,
 "nbformat_minor": 2
}
