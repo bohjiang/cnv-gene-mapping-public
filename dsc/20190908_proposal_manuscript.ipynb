{
 "cells": [
  {
   "cell_type": "markdown",
   "metadata": {
    "kernel": "SoS"
   },
   "source": [
    "## Integrated fine-mapping of non-coding disease variants with functional genomics data"
   ]
  },
  {
   "cell_type": "markdown",
   "metadata": {
    "kernel": "SoS"
   },
   "source": [
    "### Background and Public Health Significance\n",
    "#### Schizophrenia\n",
    "Schizophrenia is a type of mental disorder, typically starting to develop in late adolescence or early adulthood. Schizophrenia can be severe due to its cognitive impairment, difficulty in social activities, and even potential to cause disability (9). Children may also develop schizophrenia (10). The prevalence of schizophrenia ranges between 0.25% and 0.64% in the United States (11).\n",
    "\n",
    "A few hypothese for the mechanism of schizophrenia have been proposed, but it is not fully known yet. The risk factors for schizophrenia mainly include genetics and environment. The estimated heritability of schizophrenia is between 70% and 80%. Both rare variants with large effect and common variants with small effect can contribute to this disorder. Widely known environmental factors are living environment and drug use, etc.\n",
    "\n",
    "Antipsychotic and  is the most popular medication for schizophrenia treatment, supported by social activity restoration, professional skill and job training and psychotherapy. However, involuntary hospitalization is necessary for severe schizophrenia cases or severe episodes, since merely medication is not sufficient to control the sumptoms.\n",
    "\n",
    "heritability: https://www.sciencedirect.com/science/article/pii/S0065266016300529?via%3Dihub\n",
    "\n",
    "#### The limitation of Genome-wide Association Studies (GWAS)\n",
    "Abundant common disease risk variants have been found in various GWAS over the past ten years. Most of these variants locate in non-coding regions of human genome, which are likely to be regulatory elements/sequences, such as enhancers, promoters and 5' untranslated region (5' UTR) (1-3). Functional interpretation for most of these non-coding variants remains unanswered, and it is still challenging to even identify the causal ones. GWAS for a particular trait often detects from millions to tens of millions variants, but most of them are common variants with small or modest effects, which limited their value for disease risk prediction.\n",
    "\n",
    "#### Open chromatin regions and allele-specific open chromatin variants\n",
    "Chromatin's default tight coiling structure limits its accessibility. As a result, gene expression only happens when chromatin is in \"opening\" state. A new genomic technique, Assay for Transposase-Accessible Chromatin using sequencing (ATAC-seq), is widely used in recent years to access sequence on open chromatin, thus can map regions of transcription factor binding sites and nucleosome positions (4, 5). ATAC-seq takes advantage of next-generation sequencing (NGS) technology - the number of reads of a sequence is mainly determined by the extent of opening status of the chromatin region at a single nucleotide resolution.\n",
    "\n",
    "The fact that open chromatin regions (OCRs) often overlap with regulatory sequence can help detect functional non-coding risk variants for some neuropsychiatric disorders, such as schizophrenia, in induced pluripotent stem cells (iPSC)-derived neurons from adult (6, 7). Therefore, it is a favorable approach to make use of ATAC-seq for chromatin accessibility profile in neuron cells to restrict variants detected by GWAS for neurodevelopmental disorders.\n",
    "\n",
    "Another promising approach to overcome the challenge is to focus on allele-specific open chromatin (ASoC) variants in OCRs. ASoC variants are characterized by allelic imbalance in sequencing reads at heterozygous single nucleotide polymorphism (SNP) sites. They can be mapped by comparing the chromatin accessibilities of both alleles (SNPs) in the same individual. A binomial test is often used to test allelic imbalance of the sequencing reads. The main advantage of ASoC mapping compared to another commonly used approach, expression quantitative trait loci (eQTL), lies in its direct identification of putative functional disease variants (8). Since only a small fractional alleles in OCRs are actually functional, it will be more accurate to detect the functional SNPs and further limit GWAS variants.\n",
    "\n",
    "#### Public Health Significance\n",
    "The significance of this study mainly lies in the potential detection of schizophrenia associated variants' regulatory activities by computational fine-mapping, endeavoring to provide a powerful statistical framework for the priorization of disease functional variants, as well as a brief landscape of neuron ASoC for schizophrenia. In addition, the regulatory variants from the fine-mapping conclusions are potential to provide more evidence for Clustered Regularly Interspaced Short Palindromic Repeats (CRISPR) editing, a fast-developing powerful gene editing technique, and may further assist to understand the mechanism of certain types of neurodevelopmental disorders."
   ]
  },
  {
   "cell_type": "markdown",
   "metadata": {
    "kernel": "SoS"
   },
   "source": [
    "### Aim\n",
    "The goal of this proposal is to explore the enrichment of schizophrenia GWAS signals, as well as other neurodevelopmental disorders and common phenotypes for comparison, in OCRs and ASoC SNPs obtained in experiments, and to precisely identify causal variants among ASoC variants associated with schizophrenia, then investigate the mechanism of non-coding regulatory elements.\n",
    "\n",
    "#### Aim 1: To construct statistical model for GWAS enrichment analysis for genomic features\n",
    "The statistical model to combine functional annotation with genetic fine-mapping is \n",
    "\n",
    "$$\\beta_{j} = (1 - \\pi_{j})\\delta_0 + \\pi_{j}g(\\cdot) (1)$$\n",
    "$$\\log\\big[\\frac{\\pi_{j}}{1 - \\pi_{j}} \\big] = \\alpha_0 + \\sum_{k=1}^m \\alpha_k d_{jk} (2)$$\n",
    "where $\\pi_{j}$ is prior inclusion probability of $\\textit{j}$th SNP in a certain locus, thus $1-\\pi_j$ denotes the probability of the coefficient to be zero; $\\alpha_k$ is enrichment of annotation $\\textit{k}$ in causal variants; $d_{jk}$ is the annotation $\\textit{k}$ of $\\textit{j}$th SNP, which is often binary."
   ]
  },
  {
   "cell_type": "markdown",
   "metadata": {
    "kernel": "SoS"
   },
   "source": [
    "We assume GWAS effect size $\\beta_j$ follows a spike-and-slab distribution. $\\delta_0$ is 0, indicating a particular coefficient in the model to be 0, with probability $\\pi_j$ for $\\textit{j}$th SNP. $g(\\cdot)$ is the prior distribution for the regression coefficient values, with probability $1-\\pi_j$ for $\\textit{j}$th SNP.\n",
    "\n",
    "#### Aim 2: To utilize newly developed statistical method to explore the enrichment of Schizophrenia GWAS signals in different regulatory regions\n",
    "Aiming to explore whether Schizophrenia associated GWAS signals are enriched in certain types of functional genomic annotations, we propose to perform enrichment analysis of 15 types of genomic regions, 5 of which are from ATAC-seq OCR peaks of 5 types of neuron cell, 2 of which are from ASoC variants, while the rest are 8 types of commonly known generic genomic regions, including coding, promoter, conserved sequence, intron, 5'UTR, 3'UTR, DNase I hypersensitive (DHS) and repressed regions. A Bayesian hierarchical based tool, TORUS (12), will be applied for this purpose. We hypothesize that ASoC variants are more enriched for functional disease variants. We will evaluate enrichment by single-annotation (univariate) analysis for each single genomic region, and compare the effects and significance between OCR/ASoC and generic annotations. Furthermore, we will access joint enrichment effect using multiple-annotation (joint) analysis, where $m > 1$ in (2), and different multiple-annotation combinations will be evaluated to obtain their respective prior inclusion probabilities ($\\pi_{j}'s$) for fine-mapping process in Aim 3. In both univariate and joint analysis, we will obtain odds ratio (OR), $\\alpha_k$ in (2), and credible intervals (CI) for each type of regulatory genomic region.\n",
    "\n",
    "To illustrate the expected positive effects of OCRs/ASoC in neuron cells for Schizophrenia, which belongs to neurodevelopmental disorder, we will perform enrichment analysis for GWAS SNPs from non-neurodevelopmental traits, such as stroke, body fat percentage, body mass index, total cholesterol etc. We expect most enrichment effects for non-neurodevelopmental traits to be smaller and less significant than those in Schizophrenia.\n",
    "\n",
    "#### Aim 3: To perform fine-mapping of putative causal SNPs in 108 identified loci\n",
    "Ripke et al identified 108 independent and significant genomic loci associated with Schizophrenia. We will employ SuSiE (14), a newly developed Bayesian variable selection and genetic fine-mapping software package, to determine each SNP of being causal based on posterior inclusion probability (PIP) over the 108 Schizophrenia significant loci, incorporated with external linkage disequilibrium (LD) from the 1000 Genomes project and prior inclusion probabilities as functions of genomic features for each SNP. Besides PIP, we will also obtain 95% credible sets of variants, indicating a minimum set of variants with 95% probability to capture one non-zero effect variant."
   ]
  },
  {
   "cell_type": "markdown",
   "metadata": {
    "kernel": "SoS"
   },
   "source": [
    "### Data\n",
    "1. A set of 20 iPSC lines used open chromatin mapping are reprogrammed by collaborators. The cell lines then differentiated into neural progenitor cells (NPC), subsequently to glutamatergic (iN-Glut), GABAergic (iN-GA), and dopaminergic (iN-DN) neurons. ATAC-seq is utilized to call OCR peaks (FDR<0.05) for each cell type. The median length for all 5 types of neuron cells is 335 base pair (bp), and all OCR peaks cover about 4% of the whole human genome.\n",
    "\n",
    "2. ASoC SNPs are obtained by testing heterozygous SNPs that showed allelic imbalance in ATAC-seq reads in iN-Glut and NPC neurons.\n",
    "\n",
    "3. Schizophrenia GWAS risk variants from Psychiatric Genomics Consortium (PGC)."
   ]
  },
  {
   "cell_type": "markdown",
   "metadata": {
    "kernel": "SoS"
   },
   "source": [
    "### Reference\n",
    "1. M. J. Gandal et al., Transcriptome-wide isoform-level dysregulation in ASD, schizophrenia, and bipolar disorder. Science (2018).\n",
    "2. P. Rajarajan et al., Neuron-specific signatures in the chromosomal connectome associated with schizophrenia risk. Science (2018).\n",
    "3. M. Li et al., Integrative functional genomic analysis of human brain development and neuropsychiatric risks. Science (2018).\n",
    "4. J. D. Buenrostro et al., Transposition of native chromatin for fast and sensitive epigenomic profiling of open chromatin, DNA-binding proteins and nucleosome position. Nature Methods (2013).\n",
    "5. J. D. Buenrostro et al., ATAC-seq: A Method for Assaying Chromatin Accessibility Genome-Wide. Current Protocols in Molecular Biology (2015).\n",
    "6. J. F. Degner et al., DNase I sensitivity QTLs are a major determinant of human expression variation. Nature 482, 390-394 (2012).\n",
    "7. R. E. Thurman et al., The accessible chromatin landscape of the human genome. Nature 489, 75-82 (2012).\n",
    "8. S. Zhang et al., Landscape of allele-specific open chromatin in human iPSC-differentiated neurons and its implication for mental disorders. European Neuropsychopharmacology 29 (2019).\n",
    "9. J. van Os et al., Schizophrenia. Lancet 374 (2009).\n",
    "10. American Psychiatric Association. Schizophrenia. 295.90 (F20.9). American Psychiatric Publishing (2013).\n",
    "11. E. Q. Wu et al., Annual prevalence of diagnosed schizophrenia in the USA: a claims data analysis approach. Psychol Med (2006).\n",
    "12. X. Wen et al., Molecular QTL discovery incorporating genomic annotations using Bayesian false discovery rate control. Ann Appl Stat 10,  (2016).\n",
    "13. C. Schizophrenia Working Group of the Psychiatric Genomics, Biological insights from 108 schizophrenia-associated genetic loci. Nature 511, (2014).\n",
    "14. G. Wang et al., A simple new approach to variable selection in regression, with application to genetic fine-mapping. biorxiv 2018"
   ]
  },
  {
   "cell_type": "markdown",
   "metadata": {
    "kernel": "SoS"
   },
   "source": [
    "## Alzheimer's Disease"
   ]
  },
  {
   "cell_type": "markdown",
   "metadata": {
    "kernel": "SoS"
   },
   "source": [
    "### Background\n",
    "Alzheimer's disease (AD) is a type of neurodegenerative disease featured by its chronicity and irreversibility. Patients who develop AD have difficulty in remembering recent events at the beginning. Later symptoms include problems with language, loss of cognitive functioning, extreme and rapid changes in mood, disability in self-care, motivation loss and other behavioral issues. As the disease progresses, patients' body functions are gradually lost, until death. It is also the main cause of dementia.\n",
    "\n",
    "The usual onset for AD is over 65 years old, which is late-onset. On the other hand, there are still a small subgroup, less than 10%, of early-onset cases occur from a person's 30s to mid-60s. The life expectancy is about 3 to 9 years. AD is currently ranked as the 6th leading cause of death in the United States (US). Worldwide, the number of deaths caused by AD for year of 2015 is about 1.9 million, and the prevalence of the disease in 2015 is roughly 29.8 million. There is no effective cure for AD, and caregiving and family supports is important and essential for patients, placing heavy burden to caregivers and families and even the whole society.\n",
    "\n",
    "Alzheimer's disease is a severe threat to people's physical and mental health, a heavy burden to family members and caregivers, as well as a huge consumption of social and community resources. The cost for caring US AD and other dementia patients in 2017 is estimated as high as 277 billion dollars. By the year of 2050, the total number of AD patients all over the world is expected to increase to 13.8 million with the acceleration of population aging process, and the caring cost will rapidly increase to over 1 trillion dollars.\n",
    "\n",
    "Although the brain imaging shows that, for AD patients, plaques and tangles gradually spread throughout their cerebral cortex and the brain tissue begins to shrink, the biological mechanism of developing AD is not yet fully understood. Some researches indicate that deteriorate vascular and metabolic conditions, such as heart disease, high blood pressure, diabetes and obesity, are associated with decline in cognition, and more social engagement and physical activities are potential to help old people stay healthy. Meanwhile, geneticists find that the disease is highly heritable. For familial early-onset patients, rare variants in a few genes with strong effect are often detected playing the main role. The most recent large-scale AD genome-wide association study (GWAS) have identified 94 lead single nucleotide polymorphism (SNP) sites located in 29 risk genomic loci."
   ]
  },
  {
   "cell_type": "markdown",
   "metadata": {
    "kernel": "SoS"
   },
   "source": [
    "277 billion: https://www.webmd.com/alzheimers/news/20180320/the-high-costs-of-alzheimers#1\n",
    "\n",
    "13.8 million: https://www.alzinfo.org/articles/alzheimers-cases-triple-2050/"
   ]
  },
  {
   "cell_type": "markdown",
   "metadata": {
    "kernel": "SoS"
   },
   "source": [
    "### Aims and strategies (methods)\n",
    "The overall goal of this proposal is to interpret the function of the variants at AD GWAS identified loci, most of which are enriched in non-coding regions and activated transcription regions, and to identify potential causal variants in those associated with AD. Two steps will be conducted to achieve the goal. First, utilize new statistical method in chapter 1 to explore the enrichment of Alzheimer's GWAS signals in OCRs and ASoC SNPs obtained using in ATAC-seq method, as well as other well-known functional regions. Second, apply Bayesian fine-mapping approach in chapter 1 for putative causal SNPs in 29 loci identified in AD GWAS, using prior inclusion probabilities obtained in aim 1.\n",
    "\n",
    "#### Aim 1: To explore whether AD GWAS signals are enriched in different regulatory regions\n",
    "We will utilize statistical method in chapter 1 by both univariate analysis for each single genomic region and joint analysis. For joint analysis, we will test 3 multiple annotation combinations: 1) 5 OCRs in neuron cells, 2) 5 OCRs and 2 ASoC in neuron cells, 3) coding, promoter and conserved sequence regions. Then, we will obtain prior inclusion probabilities for fine-mapping in aim 2. Next, we will compare the enrichment odds ratio with those in schizophrenia.\n",
    "\n",
    "#### Aim 2: To identify putative causal variants in 29 loci identified in AD GWAS \n",
    "We propose to apply Bayesian fine-mapping approach in chapter 1 to identify genetic variant(s) responsible for AD, assuming there is at least one causal variant exists. Meanwhile, I will apply second method, Deterministic Approximation of Posteriors (DAP), for this purpose. Then, we will check the consistency, i.e. whether the same variant(s) are identified in a certain locus, and compare PIPs for the two methods."
   ]
  },
  {
   "cell_type": "markdown",
   "metadata": {
    "kernel": "SoS"
   },
   "source": [
    "### reference"
   ]
  },
  {
   "cell_type": "markdown",
   "metadata": {
    "kernel": "SoS"
   },
   "source": [
    "## A statistical method to identify causal genes in copy number variation data"
   ]
  },
  {
   "cell_type": "markdown",
   "metadata": {
    "kernel": "SoS"
   },
   "source": [
    "### Background and Significance\n",
    "#### Background\n",
    "For over a decade, genome-wide association studies (GWAS) have been the main strategy to uncover genetic architecture of complex diseases and traits and detected tens of thousands of loci associated with some psychiatric disorders (1). GWAS typically focus on studying single nucleotide polymorphisms (SNPs). Despite their success in a wide range of disease applications, GWAS have major limitations: 1) Risk alleles are usually at low frequencies thus difficult to detect, especially for in early-onset cognitive development disorders such as Schizophrenia and autism (2); 2) Most loci have small effect sizes, not likely to be deleterious mutations (3); 3) Furthermore, causal variants or genes in GWAS loci are often unclear. Therefore, SNPs only explain limited heritability.\n",
    "\n",
    "Copy number variations (CNVs), on the other hand, are believed to play a critical role in complex disease etiology (4). CNVs are large genomic insertion or deletion events, which are a type of structural variation of an organism's chromosome. The length of CNVs vary enormously, often spread from 50 base pairs to kilo- or even mega-bases. Computational methods to call CNVs have been developed from sequencing data, making great opportunities for CNV analysis after DNA sequencing (5).\n",
    "\n",
    "Existing methods for analyzing CNV data are usually focused on either the detection of association of CNVs and disease risk, or the identification of gene sets with CNV burden (6, 7), for example, CNV deletions that affecting a gene set are more common in cases than controls."
   ]
  },
  {
   "cell_type": "markdown",
   "metadata": {
    "kernel": "SoS"
   },
   "source": [
    "### Aim and Public Health Significance\n",
    "#### Aim\n",
    "Previous studies have suggested that CNVs are an important source of genetic variation affecting neurodevelopmental disorders. It is estimated that 10% of individuals with developmental delay carry at least one CNV larger than 500 kilo-bases (6). However, since the challenge is that CNVs often span multiple genes, distinguish the susceptible or causal gene(s) from other genes in the same CNV event is a difficult problem. Results of CNV associations are thus difficult to interpret. This hurdles the use of CNV data to unravel the genetics of complex diseases. The goal of this proposal is to develop a statistical framework that leverage genome-wide CNVs for mapping susceptibility genes of psychiatric diseases, and link these findings with those from single-nucleotide variant (SNV) -based studies. The advantage of our method is its highly integrative characteristic, which can use enrichment results to re-rank genes and avoid a fixed cutoff.\n",
    "\n",
    "#### Public Health Significance\n",
    "CNV is less studied comparing to SNV, and CNV and SNV studies are usually conducted separately. CNVs often collect numerous SNVs and account for much larger genetic variation because of their lengths, thus they play a significant role in neurodevelopmental disorders. This proposed study provides a rigorous statistical framework to extract gene-level knowledge from CNVs for the first time, and to link the discoveries with those from SNVs for more accurate identification of disease genes."
   ]
  },
  {
   "cell_type": "markdown",
   "metadata": {
    "kernel": "SoS"
   },
   "source": [
    "### Methods\n",
    "To address the challenge we will develop a new approach that exploits large-scale genome-wide CNV data in case-control studies to map genes. It is inspired by statistical fine-mapping of causal variants in linkage-disequilibrium blocks from GWAS. Unlike existing approaches that directly test for CNV associations, our method seeks to identify in CNV events true susceptible genes in a rigorous statistical framework. Genome-wide CNV data are first clustered into disjoint analysis blocks, i.e. no CNV spans between any two blocks. For genes within a block we test for disease associations while accounting for correlations among genes induced by CNV in the same block. We accomplish this by extension of a recently developed Bayesian variable selection method, SuSiE (7). Our method thus selects a small number of putative risk genes among multiple correlated ones that best explain the CNV-phenotype data. Furthermore, we leverage knowledge of known biological pathways to set prior probabilities of genes in CNV events to increase power. Our model estimates posterior probabilities of all putative risk genes as well as 95% credible sets (i.e. the set of genes that cover all risk genes with high probability). Using this new approach we perform gene-level analysis in several case-control CNV datasets in Schizophrenia. Since our method reports the statistical confidence of genes, it can be integrated with other gene-level datasets, e.g. results from exome-sequencing studies. This provides a powerful strategy to integrate data from independent sources.\n",
    "\n",
    "To infer CNV configuration $B(Z)$ from case-control data, we leverage the statistical machinery of Bayesian regression. Specifically, let $\\beta_j$ be the effect size of the $j$-th gene.\n",
    "\n",
    "$$\\beta_j|Z_j = 0\\sim0, \\beta_j|Z_j = 1\\sim N(\\mu,\\sigma^2), \\text{logit P}(y_i = 1) = \\beta_0+\\rho w_i + \\sum_j \\beta_j x_{ij}$$\n",
    "where $w_i$ denotes possible covariates (such as the total number of CNVs in subject $i$) and $\\rho$ their effects. Inference on this model leads to the support of each CNV configuration $B(Z)$."
   ]
  },
  {
   "cell_type": "markdown",
   "metadata": {
    "kernel": "SoS"
   },
   "source": [
    "### Integrated association analysis of CNV and SNP data for causal genes mapping in psychiatric disorders\n",
    "\n",
    "We will apply the method to individual-level schizophrenia CNV data and non-individual level case-control CNV data.\n",
    "1. Swedish Schizophrenia Population-Based Case-control Exome Sequencing CNV data from dbGAP.\n",
    "2. Schizophrenia case-control CNV data International Schizophrenia Consortium (ISC) study."
   ]
  },
  {
   "cell_type": "markdown",
   "metadata": {
    "kernel": "SoS"
   },
   "source": [
    "### Reference\n",
    "1. J. Gratten et al., Large-scale genomics unveils the genetic architecture of psychiatric disorders. Nature Neuroscience 17 (2014).\n",
    "2. B. Devlin et al., Genetic architecture in autism spectrum disorder. Current Opinion in Genetics & Development 22 (2012).\n",
    "3. J. Hardy et al., Genomewide association studies and human disease. The New England Journal of Medicine 360 (2009).\n",
    "4. C. Lowther et al., Genomic Disorders in Psychiatry-What Does the Clinician Need to Know? Current Psychiatry Reports 19 (2017).\n",
    "5. C. Alkan et al., Genome structural variation discovery and genotyping. Nature Reviews Genetics 12 (2011).\n",
    "6. S. Girirajan et al., Human copy number variation and complex genetic disease. Annual Review of Genetics 45 (2011).\n",
    "7. G. Wang et al., A simple new approach to variable selection in regression, with application to genetic fine-mapping. biorxiv 2018"
   ]
  },
  {
   "cell_type": "code",
   "execution_count": null,
   "metadata": {
    "kernel": "SoS"
   },
   "outputs": [],
   "source": []
  }
 ],
 "metadata": {
  "kernelspec": {
   "display_name": "SoS",
   "language": "sos",
   "name": "sos"
  },
  "language_info": {
   "codemirror_mode": "sos",
   "file_extension": ".sos",
   "mimetype": "text/x-sos",
   "name": "sos",
   "nbconvert_exporter": "sos_notebook.converter.SoS_Exporter",
   "pygments_lexer": "sos"
  },
  "sos": {
   "kernels": [
    [
     "R",
     "ir",
     "R",
     "#DCDCDA"
    ]
   ],
   "version": "0.20.5"
  }
 },
 "nbformat": 4,
 "nbformat_minor": 4
}
