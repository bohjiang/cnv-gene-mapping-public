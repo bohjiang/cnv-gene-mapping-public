{
 "cells": [
  {
   "cell_type": "markdown",
   "metadata": {
    "kernel": "SoS"
   },
   "source": [
    "# Useful Info"
   ]
  },
  {
   "cell_type": "markdown",
   "metadata": {
    "kernel": "SoS"
   },
   "source": [
    "## dbGaP Data access requests\n",
    "\n",
    "General Instructions\n",
    "\n",
    "This application will automatically generate a Data Access Request (DAR) number and a project number. Please keep track of this number for future communications with dbGaP and relevant Data Access Committee(s) (DAC)\n",
    "A completed request for data access includes this form as well as a review of and agreement to the terms, conditions, and statements in the Data Use Certification (DUC) for each respective dataset requested.\n",
    "Dataset requests are project-specific. If you were granted access to a dataset(s) for another project, that approval does not carry over to this new proposed project. You must request access to all datasets that you plan to use in the new project.\n",
    "Please note that fields marked as \"*\" are required fields.\n",
    "Before You Get Started\n",
    "\n",
    "In order to complete the application for data access you will need to collect the following information:\n",
    "\n",
    "A research statement and a nontechnical summary statement describing your planned use of the data.\n",
    "The name of the institutional signing official who will certify the terms of use assurances on behalf of your institution.\n",
    "A list of all internal investigators at your institution who will share access to the data for the proposed research.\n",
    "A list of external collaborating investigators.\n",
    "The name of the information technology (IT) Director.\n",
    "Some datasets may require local Institutional Review Board (IRB) approval for use. These are noted in the study list. Please check the individual study pages in dbGaP for these additional requirements.\n",
    "Some datasets may require supplemental documentation to accompany this standard application. Review the DUC* instruction pages for detailed information about how to prepare these materials in a single PDF file.\n",
    "* You can navigate to each study DUC from the public study home page in dbGaP. Look for the \"individual-level data\" section.\n",
    "\n",
    "dbGaP APPROVED USER CODE OF CONDUCT\n",
    "\n",
    "The following is the Code of Conduct that research investigators agree to abide by as Approved Users of data received through the database of Genotypes and Phenotypes (dbGaP). Failure to abide by any term within this Code of Conduct may result in revocation of approved access to any or all datasets obtained through dbGaP.\n",
    "\n",
    "The elements of the NIH Code of Conduct for Data Use include:\n",
    "\n",
    "- Investigator(s) will use requested datasets solely in connection with the research project described in the approved Data Access Request for each dataset;\n",
    "- Investigator(s) will make no attempt to identify or contact individual participants from whom these data were collected without appropriate approvals from the relevant IRBs;\n",
    "- Investigator(s) will not distribute these data to any entity or individual beyond those specified in the approved Data Access Request;\n",
    "- Investigator(s) will adhere to computer security practices that ensure that only authorized individuals can gain access to data files;\n",
    "- Investigator(s) will not submit for publication or any other form of public dissemination analyses or other reports on work using or referencing NIH datasets prior to the embargo release date listed for the dataset (or dataset version) on dbGaP;\n",
    "- Investigator(s) acknowledge the Intellectual Property Policies as specified in the Data Use Certification; and,\n",
    "- Investigator(s) will report any inadvertent data release in accordance with the terms in the Data Use Certification, breach of data security, or other data management incidents contrary to the terms of data access.\n"
   ]
  },
  {
   "cell_type": "code",
   "execution_count": null,
   "metadata": {
    "collapsed": true,
    "kernel": "SoS"
   },
   "outputs": [],
   "source": []
  }
 ],
 "metadata": {
  "kernelspec": {
   "display_name": "SoS",
   "language": "sos",
   "name": "sos"
  },
  "language_info": {
   "codemirror_mode": "sos",
   "file_extension": ".sos",
   "mimetype": "text/x-sos",
   "name": "sos",
   "nbconvert_exporter": "sos_notebook.converter.SoS_Exporter",
   "pygments_lexer": "sos"
  },
  "sos": {
   "kernels": [
    [
     "R",
     "ir",
     "R",
     "#FDEDEC"
    ],
    [
     "Python3",
     "python3",
     "Python3",
     "#EAFAF1"
    ],
    [
     "SoS",
     "sos",
     "",
     ""
    ]
   ],
   "panel": {
    "displayed": true,
    "height": 0,
    "style": "side"
   }
  }
 },
 "nbformat": 4,
 "nbformat_minor": 2
}
