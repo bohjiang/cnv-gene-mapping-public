{
 "cells": [
  {
   "cell_type": "markdown",
   "metadata": {},
   "source": [
    "# Implement TORUS by using CNV data of Schizophrenia in Sweden\n",
    "### Use Sweden Schizphrenia individual data to obtain gene and CNV overlap configuration; columns represent genes, rows represent individuals\n",
    "### Use the transformed file to perform TOURS"
   ]
  },
  {
   "cell_type": "markdown",
   "metadata": {},
   "source": [
    "#### Obtain file format used in TORUS\n",
    "\n",
    "Use "
   ]
  },
  {
   "cell_type": "code",
   "execution_count": 1,
   "metadata": {
    "collapsed": true
   },
   "outputs": [],
   "source": [
    "import pandas as pd\n",
    "from pandasql import sqldf\n",
    "from utils import load_reference_gene, load_data, save_data, get_analysis_blocks\n",
    "import re\n",
    "from collections import Counter\n",
    "import numpy as np\n",
    "import fisher\n",
    "from scipy import stats"
   ]
  },
  {
   "cell_type": "code",
   "execution_count": 2,
   "metadata": {
    "collapsed": true
   },
   "outputs": [],
   "source": [
    "# load reference genes and Sweden CNV data\n",
    "ref_genes = load_reference_gene(\"../data/refGene.txt.gz\")\n",
    "ref_genes[\"chrom\"] = ref_genes.apply(lambda row: row[\"chrom\"][3:5] \n",
    "                                     if re.match(\"^[c,h,r,0-9]*$\", row[\"chrom\"][:5]) else row[\"chrom\"][3:4], axis=1)\n",
    "ref_genes[\"chrom\"] = ref_genes.apply(lambda row: row[\"chrom\"] if not row[\"chrom\"] in (\"X\", \"Y\") else 23, axis=1)"
   ]
  },
  {
   "cell_type": "code",
   "execution_count": 3,
   "metadata": {
    "collapsed": true
   },
   "outputs": [],
   "source": [
    "chromosome = list(str(x) for x in range(1,24))\n",
    "ref_genes[\"chrom\"] = ref_genes.apply(lambda row: row[\"chrom\"] if str(row[\"chrom\"]) in chromosome else 0, axis=1)\n",
    "ref_genes = ref_genes[ref_genes.chrom != 0]"
   ]
  },
  {
   "cell_type": "code",
   "execution_count": 4,
   "metadata": {
    "collapsed": true
   },
   "outputs": [],
   "source": [
    "sw_cnv = pd.read_table(\"../data/swcnv/swcnv.qc6.cnv\", sep=\"\\s+\")\n",
    "sw_indiv = pd.read_table(\"../data/swcnv/swcnv.qc6.cnv.indiv\", sep=\"\\s+\") # \"NSEG\": number of CNV in each sample\n",
    "sw_cnv_indiv = pd.merge(sw_cnv, sw_indiv, how=\"inner\", on=[\"FID\", \"IID\"])\n",
    "sw_cnv_indiv[\"PHE\"] = sw_cnv_indiv.apply(lambda row: 1 if row[\"PHE\"]==2 else 0, axis=1)"
   ]
  },
  {
   "cell_type": "code",
   "execution_count": 5,
   "metadata": {
    "collapsed": true
   },
   "outputs": [],
   "source": [
    "# calcium pathway genes\n",
    "calpath_genes = pd.read_table(\"../data/calciumgeneset.txt\", skiprows = 2, header = None, names = [\"gene_name\"])\n",
    "calpath_genes_list = calpath_genes[\"gene_name\"].tolist()\n",
    "calpath_genes_pos = pd.merge(ref_genes, calpath_genes, how=\"inner\", on=[\"gene_name\"])"
   ]
  },
  {
   "cell_type": "code",
   "execution_count": 6,
   "metadata": {
    "collapsed": true
   },
   "outputs": [],
   "source": [
    "query = '''\n",
    "SELECT gene_name, chrom, min(tx_start), max(tx_end)\n",
    "FROM calpath_genes_pos\n",
    "GROUP BY gene_name\n",
    "'''\n",
    "calpath_genes_pos = sqldf(query)\n",
    "calpath_genes_pos = calpath_genes_pos.rename(columns={\"min(tx_start)\": \"gene_start\", \"max(tx_end)\": \"gene_end\"})"
   ]
  },
  {
   "cell_type": "code",
   "execution_count": 7,
   "metadata": {
    "collapsed": true,
    "scrolled": true
   },
   "outputs": [],
   "source": [
    "diff = list(set(calpath_genes_list) - set(calpath_genes_pos[\"gene_name\"].tolist()))\n",
    "calpath_genes_pos.loc[calpath_genes_pos.shape[0]] = [diff[0], \"2\", 65205076, 65206278]\n",
    "calpath_genes_pos.loc[calpath_genes_pos.shape[0]] = [diff[1], \"15\", 41231149, 41281887]\n",
    "calpath_genes_pos[\"chr\"] = calpath_genes_pos.apply(lambda row: int(row[\"chrom\"]) \n",
    "                                                if not row[\"chrom\"] in (\"X\", \"Y\") else 23, axis=1)"
   ]
  },
  {
   "cell_type": "code",
   "execution_count": 8,
   "metadata": {
    "scrolled": true
   },
   "outputs": [
    {
     "name": "stdout",
     "output_type": "stream",
     "text": [
      "         FID  PHE  CHR        BP1        BP2  TYPE gene_name     tx_name\n",
      "0    PT-8TWI    0    1    1804302    2047584     3    CALML6  test_ABCDE\n",
      "1    PT-BQT1    0    1  239678115  239800921     3     CHRM3  test_ABCDE\n",
      "2    PT-BRNL    0    2  218749319  219480897     3     PLCD4  test_ABCDE\n",
      "3    PT-L1G8    0    2   40674308   41559590     3    SLC8A1  test_ABCDE\n",
      "4    PT-L31A    0    2   74969763   75323267     3     TACR1  test_ABCDE\n",
      "5    PT-ESLA    0    3  123486169  123634548     1      MYLK  test_ABCDE\n",
      "6    PT-FFX5    0    3    4317445    4747247     3     ITPR1  test_ABCDE\n",
      "7    PT-8U8J    0    4    9688014    9794193     3      DRD5  test_ABCDE\n",
      "8    PT-OPJ8    0    4  104179046  104766986     1     TACR3  test_ABCDE\n",
      "9    PT-27QK    0    6  118701889  118900024     3       PLN  test_ABCDE\n",
      "10   PT-29AJ    0    6  118853079  119033109     3       PLN  test_ABCDE\n",
      "11   PT-2M7G    0    6  118842321  119039482     3       PLN  test_ABCDE\n",
      "12   PT-8W9S    0    6  118835126  119032859     3       PLN  test_ABCDE\n",
      "13   PT-8WJQ    0    6  118691108  119101336     3       PLN  test_ABCDE\n",
      "14   PT-9YVZ    0    6  118835126  119033109     3       PLN  test_ABCDE\n",
      "15   PT-BPIQ    0    6  118701889  118900024     3       PLN  test_ABCDE\n",
      "16   PT-ESKZ    0    6  118786486  119048269     3       PLN  test_ABCDE\n",
      "17   PT-ET7H    0    6  118868953  119048269     3       PLN  test_ABCDE\n",
      "18   PT-FFKU    0    6  118786486  119056733     3       PLN  test_ABCDE\n",
      "19   PT-FG7N    0    6  118719413  118891582     3       PLN  test_ABCDE\n",
      "20   PT-FGHQ    0    6  118695049  118891582     3       PLN  test_ABCDE\n",
      "21   PT-OO6J    0    6  118690822  119080379     3       PLN  test_ABCDE\n",
      "22   PT-OPDH    0    6  118791804  119018502     3       PLN  test_ABCDE\n",
      "23   PT-OPY7    0    6  118700137  118891582     3       PLN  test_ABCDE\n",
      "24   PT-8VX9    0    7   32209359   32426450     3     PDE1C  test_ABCDE\n",
      "25   PT-8VYD    0    7   32210926   32423399     3     PDE1C  test_ABCDE\n",
      "26   PT-8WP8    0    7   32209359   32431274     3     PDE1C  test_ABCDE\n",
      "27   PT-BQAQ    0    7   32210926   32423399     3     PDE1C  test_ABCDE\n",
      "28   PT-BQH5    0    7   32210926   32412682     3     PDE1C  test_ABCDE\n",
      "29   PT-FFVB    0    7   32209459   32423399     3     PDE1C  test_ABCDE\n",
      "..       ...  ...  ...        ...        ...   ...       ...         ...\n",
      "164  PT-3MHL    1   22   18876428   21465835     1     P2RX6  test_ABCDE\n",
      "165  PT-8WLE    1   22   18876428   21465835     1     P2RX6  test_ABCDE\n",
      "166  PT-8WQ7    1   22   18876428   21465835     1     P2RX6  test_ABCDE\n",
      "167  PT-9ZCE    1   22   18876428   21542615     1     P2RX6  test_ABCDE\n",
      "168  PT-BQ5V    1   22   22997811   25076598     3   ADORA2A  test_ABCDE\n",
      "169  PT-BQA6    1   22   22997811   24997309     3   ADORA2A  test_ABCDE\n",
      "170  PT-BRL3    1   22   23689983   25070067     3   ADORA2A  test_ABCDE\n",
      "171  PT-BS88    1   22   23689983   24914451     3   ADORA2A  test_ABCDE\n",
      "172  PT-ERRP    1   22   19634877   21463730     1     P2RX6  test_ABCDE\n",
      "173  PT-ERRZ    1   22   18861748   21462353     1     P2RX6  test_ABCDE\n",
      "174  PT-ISV8    1   22   20753615   21463730     1     P2RX6  test_ABCDE\n",
      "175  PT-ITRD    1   22   23692738   25064809     3   ADORA2A  test_ABCDE\n",
      "176  PT-OPSY    1   22   20789074   21463730     1     P2RX6  test_ABCDE\n",
      "177  PT-OPXM    1   22   24447288   25032774     3   ADORA2A  test_ABCDE\n",
      "178  PT-1RZS    1   23    2703391    4505504     3      PRKX  test_ABCDE\n",
      "179  PT-1S19    1   23    2850801    3659193     3      PRKX  test_ABCDE\n",
      "180  PT-1S1P    1   23    2916735    3659193     3      PRKX  test_ABCDE\n",
      "181  PT-1S1Y    1   23    2850801    3637916     3      PRKX  test_ABCDE\n",
      "182  PT-1S66    1   23    2703391    3659193     3      PRKX  test_ABCDE\n",
      "183  PT-1S6I    1   23    2741339    3649902     3      PRKX  test_ABCDE\n",
      "184  PT-1S7B    1   23    2741339    3649902     3      PRKX  test_ABCDE\n",
      "185  PT-1S7C    1   23    2916735    3539248     3      PRKX  test_ABCDE\n",
      "186  PT-1S7P    1   23    2979529    3659193     3      PRKX  test_ABCDE\n",
      "187  PT-1S7Z    1   23    2741339    3649902     3      PRKX  test_ABCDE\n",
      "188  PT-1S8F    1   23    2839942    3678164     3      PRKX  test_ABCDE\n",
      "189  PT-1SBT    1   23    2811119    7355636     3      PRKX  test_ABCDE\n",
      "190  PT-1SC1    1   23    2802568    4859798     3      PRKX  test_ABCDE\n",
      "191  PT-1SC9    1   23    3070182    4736479     3      PRKX  test_ABCDE\n",
      "192  PT-1SCR    1   23    2979529    3539248     3      PRKX  test_ABCDE\n",
      "193  PT-FFLF    1   23    2712661    7044081     1      PRKX  test_ABCDE\n",
      "\n",
      "[194 rows x 8 columns]\n"
     ]
    }
   ],
   "source": [
    "query = '''\n",
    "SELECT sw.FID, sw.PHE, sw.CHR, sw.BP1, sw.BP2, sw.TYPE, cal.gene_name\n",
    "FROM calpath_genes_pos cal LEFT JOIN sw_cnv_indiv sw\n",
    "WHERE sw.CHR == cal.chr\n",
    "AND (\n",
    "(sw.BP1 >= cal.gene_start AND sw.BP1 <= cal.gene_end)\n",
    "OR\n",
    "(sw.BP2 >= cal.gene_start AND sw.BP2 <= cal.gene_end)\n",
    "OR\n",
    "(sw.BP1 <= cal.gene_start AND sw.BP2 >= cal.gene_end)\n",
    "OR\n",
    "(sw.BP1 >= cal.gene_start AND sw.BP2 <= cal.gene_end)\n",
    ")\n",
    "GROUP BY sw.PHE, sw.CHR, sw.FID, sw.BP1, sw.BP2, sw.TYPE, cal.gene_name\n",
    "'''\n",
    "cnv_gene_overlap_calpath = sqldf(query).drop_duplicates(subset=(\"FID\", \"PHE\", \"CHR\", \"BP1\", \"BP2\", \"TYPE\", \"gene_name\"))\n",
    "cnv_gene_overlap_calpath[\"tx_name\"] = \"test_ABCDE\"\n",
    "print (cnv_gene_overlap_calpath)"
   ]
  },
  {
   "cell_type": "code",
   "execution_count": 10,
   "metadata": {
    "collapsed": true
   },
   "outputs": [],
   "source": [
    "# cnv_gene_overlap_calpath.reset_index(inplace=True)\n",
    "# cnv_gene_overlap_calpath = cnv_gene_overlap_calpath.groupby((\"PHE\", \"FID\", \"CHR\", \"BP1\", \"BP2\", \"TYPE\"))\n",
    "# cnv_gene_overlap_calpath = cnv_gene_overlap_calpath[\"gene_name\"].unique()\n",
    "# cnv_gene_overlap_calpath = cnv_gene_overlap_calpath.reset_index()"
   ]
  },
  {
   "cell_type": "code",
   "execution_count": 11,
   "metadata": {
    "scrolled": true
   },
   "outputs": [],
   "source": [
    "query = '''\n",
    "SELECT chrom, gene_name, tx_name, min(tx_start), max(tx_end)\n",
    "FROM ref_genes\n",
    "GROUP BY chrom, gene_name\n",
    "'''\n",
    "ref_genes = sqldf(query).drop_duplicates(subset = (\"gene_name\"))\n",
    "ref_genes = ref_genes.rename(columns={\"min(tx_start)\": \"gene_start\", \"max(tx_end)\": \"gene_end\"})"
   ]
  },
  {
   "cell_type": "markdown",
   "metadata": {},
   "source": [
    "#### The table of overlap of CNVs (Sweden data) and genes"
   ]
  },
  {
   "cell_type": "code",
   "execution_count": 12,
   "metadata": {
    "collapsed": true
   },
   "outputs": [],
   "source": [
    "query = '''\n",
    "SELECT sw.FID, sw.CHR, sw.BP1, sw.BP2, ref.gene_name, ref.tx_name, sw.PHE, sw.TYPE\n",
    "FROM ref_genes ref LEFT JOIN sw_cnv_indiv sw\n",
    "WHERE sw.CHR == ref.chrom\n",
    "AND (\n",
    "(sw.BP1 >= ref.gene_start AND sw.BP1 <= ref.gene_end)\n",
    "OR\n",
    "(sw.BP2 >= ref.gene_start AND sw.BP2 <= ref.gene_end)\n",
    "OR\n",
    "(sw.BP1 <= ref.gene_start AND sw.BP2 >= ref.gene_end)\n",
    "OR\n",
    "(sw.BP1 >= ref.gene_start AND sw.BP2 <= ref.gene_end)\n",
    ")\n",
    "GROUP BY sw.PHE, sw.CHR, sw.FID, sw.BP1, sw.BP2, sw.TYPE, ref.gene_name\n",
    "'''\n",
    "cnv_gene_overlap = sqldf(query).drop_duplicates(subset=(\"FID\", \"PHE\", \"CHR\", \"BP1\", \"BP2\", \"TYPE\", \"gene_name\"))"
   ]
  },
  {
   "cell_type": "code",
   "execution_count": 13,
   "metadata": {
    "collapsed": true
   },
   "outputs": [],
   "source": [
    "def get_block_matrix(input_data, ref_genes, deletion = True, make_block = False, dtype = np.uint8):\n",
    "    '''input_data is a dataframe from a query of overlapping of CNVs and genes. Controls come first, cases follow.\n",
    "       Therefore, controls (0) come first in \"phenotype\", cases (1) follow, \n",
    "       in order to coordinate the format of input data.\n",
    "       The input_data may contain deletion and duplication. Separate them if needed.\n",
    "       ref_genes is a dataframe from a query of reference genes\n",
    "    '''\n",
    "    if deletion:\n",
    "        dat = input_data[input_data[\"TYPE\"]==1]\n",
    "    else:\n",
    "        dat = input_data[input_data[\"TYPE\"]==3]\n",
    "    n_case = dat[dat[\"PHE\"]==1].drop_duplicates(subset=(\"FID\")).groupby(\"PHE\").size()[1]\n",
    "    n_ctrl = dat[dat[\"PHE\"]==0].drop_duplicates(subset=(\"FID\")).groupby(\"PHE\").size()[0]\n",
    "    print (n_case + n_ctrl)\n",
    "    dat_select = dat[[\"CHR\", \"BP1\", \"BP2\", \"tx_name\", \"gene_name\"]]\n",
    "    dat_select = dat_select.rename(columns={\"CHR\": \"chrom\", \"BP1\": \"cnv_start\", \"BP2\": \"cnv_terminate\"})\n",
    "    case = dat_select[dat[\"PHE\"]==1]\n",
    "    ctrl = dat_select[dat[\"PHE\"]==0]\n",
    "    genes = ref_genes[\"gene_name\"]\n",
    "    print (len(genes.tolist()))\n",
    "    regression_data = np.array([np.array(genes.isin(dat[dat[\"FID\"]==item][\"gene_name\"]), dtype=float) \n",
    "                                for item in dat.drop_duplicates(subset=(\"FID\"))[\"FID\"]])\n",
    "    phenotype = np.matrix([0]*n_ctrl + [1]*n_case).T\n",
    "    regression_data = np.hstack((phenotype, regression_data))\n",
    "    print (np.shape(regression_data))\n",
    "    df = pd.DataFrame(regression_data, columns = ['phenotype'] + genes.tolist())\n",
    "    newdf = pd.DataFrame()\n",
    "    for col in df:\n",
    "        if sum(df[col]) > 0:\n",
    "            newdf[col] = df[col]\n",
    "        else: continue\n",
    "    if not make_block:\n",
    "        res = newdf.astype(dtype, copy = True)\n",
    "    else:\n",
    "        blocks = get_analysis_blocks(pd.concat([case, ctrl]))\n",
    "        res = [newdf[['phenotype'] + item].astype(dtype, copy = True) for item in blocks]\n",
    "    save_data(res, \"data/calcium_pathway_Sweden_CNVs_{}.data.blocks.pkl\".format(\"del\" if deletion else \"dup\"))\n",
    "    return {\"data\": res}"
   ]
  },
  {
   "cell_type": "code",
   "execution_count": 14,
   "metadata": {
    "scrolled": true
   },
   "outputs": [
    {
     "name": "stdout",
     "output_type": "stream",
     "text": [
      "47\n",
      "26910\n",
      "(47, 26911)\n"
     ]
    }
   ],
   "source": [
    "res = get_block_matrix(cnv_gene_overlap_calpath, ref_genes, make_block = True)"
   ]
  },
  {
   "cell_type": "markdown",
   "metadata": {},
   "source": [
    "### Run TORUS"
   ]
  },
  {
   "cell_type": "code",
   "execution_count": 15,
   "metadata": {
    "collapsed": true
   },
   "outputs": [],
   "source": [
    "# from get_summary_for_torus import get_sum_stats_cal_simu as get_sum_Sweden_for_torus\n",
    "cal_pthwy_genes = pd.read_table(\"../data/calciumgeneset.txt\", skiprows = 2, header = None, names = [\"gene_name\"])\n",
    "causal_genes = cal_pthwy_genes[\"gene_name\"].tolist()"
   ]
  },
  {
   "cell_type": "code",
   "execution_count": 16,
   "metadata": {},
   "outputs": [
    {
     "data": {
      "text/plain": [
       "[0, 1, 2, 3, 4, 5, 6, 7, 8, 9, 10, 11, 12, 13, 14, 15, 16, 17, 18]"
      ]
     },
     "execution_count": 16,
     "metadata": {},
     "output_type": "execute_result"
    }
   ],
   "source": [
    "col = []\n",
    "for item in res[\"data\"]:\n",
    "    col.append(np.shape(item)[1])\n",
    "[i for i, j in enumerate(col) if j == max(col)]"
   ]
  },
  {
   "cell_type": "code",
   "execution_count": 17,
   "metadata": {},
   "outputs": [
    {
     "name": "stdout",
     "output_type": "stream",
     "text": [
      "0 ['ITPKB']\n",
      "1 ['RYR2']\n",
      "2 ['SLC8A1']\n",
      "3 ['PDE1A']\n",
      "4 ['MYLK']\n",
      "5 ['PPP3CA']\n",
      "6 ['TACR3']\n",
      "7 ['PDE1C']\n",
      "8 ['CACNA1B']\n",
      "9 ['P2RX2']\n",
      "10 ['ITPR2']\n",
      "11 ['BDKRB2']\n",
      "12 ['CHRNA7']\n",
      "13 ['ATP2A1']\n",
      "14 ['PHKB']\n",
      "15 ['PRKACA']\n",
      "16 ['PLCB1']\n",
      "17 ['P2RX6']\n",
      "18 ['PRKX']\n"
     ]
    }
   ],
   "source": [
    "for index, item in enumerate(res[\"data\"]):\n",
    "    print (index, [gene for gene in item.columns.values[1:].tolist() if gene in causal_genes])"
   ]
  },
  {
   "cell_type": "code",
   "execution_count": null,
   "metadata": {},
   "outputs": [],
   "source": [
    "max_block = res[\"data\"][25]\n",
    "block_genes = max_block.columns.values[1:].tolist()\n",
    "pheno = []\n",
    "for gene in block_genes:\n",
    "    if gene in causal_genes:\n",
    "        pheno.append(1)\n",
    "    else: \n",
    "        pheno.append(0)"
   ]
  },
  {
   "cell_type": "code",
   "execution_count": null,
   "metadata": {
    "collapsed": true
   },
   "outputs": [],
   "source": [
    "def get_sum_Sweden_for_torus(gene_df, causal, cat, multi_cat = 0, subst = -10, chrom = \"chr6\", seed = 999):\n",
    "    '''get summary statistics (e.g. t-statistic, p-value) to be used for TORUS, then transfer p-value to z-score\n",
    "       Actually do NOT need SNP (gene) map and gene (chromosome) map\n",
    "       If multi_cat!=0, then cat must be multiple categories\n",
    "       If multi_cat==0, then cat can be any list (because it won't be used) but must be given\n",
    "    '''\n",
    "    np.random.seed(seed)\n",
    "    cases = gene_df[gene_df[\"phenotype\"]==1]\n",
    "    ctrls = gene_df[gene_df[\"phenotype\"]==0]\n",
    "    df_cal_bf = pd.DataFrame()\n",
    "    df_cal_beta = pd.DataFrame()\n",
    "    df_cal_zscore = pd.DataFrame()\n",
    "    SNP_anno_cal = pd.DataFrame()\n",
    "    i = 1\n",
    "    for gene in list(gene_df)[1:]:\n",
    "        print (gene)\n",
    "        n_gene_case = len(cases[cases[gene]==1])\n",
    "        n_nogene_case = len(cases[cases[gene]==0])\n",
    "        n_gene_ctrl = len(ctrls[ctrls[gene]==1])\n",
    "        n_nogene_ctrl = len(ctrls[ctrls[gene]==0])\n",
    "        if n_gene_case == 0 or n_gene_ctrl == 0:\n",
    "            odds_ratio = 0\n",
    "        else:\n",
    "            odds_ratio = n_gene_case * n_nogene_ctrl / n_gene_ctrl / n_nogene_case\n",
    "        print (n_gene_case, n_nogene_case, n_gene_ctrl, n_nogene_ctrl, odds_ratio)\n",
    "        if np.isinf(odds_ratio):\n",
    "            beta1 = 10\n",
    "        elif odds_ratio == 0:\n",
    "            beta1 = -10\n",
    "        else:\n",
    "            beta1 = np.log(odds_ratio)\n",
    "        fisher_stats = fisher.pvalue(n_gene_case, n_gene_ctrl, n_nogene_case, n_nogene_ctrl)\n",
    "        p_value_two = fisher_stats.two_tail\n",
    "        p_value_left = fisher_stats.left_tail\n",
    "        p_value_right = fisher_stats.right_tail\n",
    "        if p_value_right < 0.5 and p_value_two < 1:\n",
    "            z_score = stats.norm.ppf(1-p_value_right)\n",
    "        elif p_value_left < 0.5 and p_value_two < 1:\n",
    "            z_score = -stats.norm.ppf(1-p_value_left)\n",
    "        else:\n",
    "            z_score = subst\n",
    "        df_cal_bf = df_cal_bf.append([(\"{}.{}\".format(chrom, gene), chrom, odds_ratio)])\n",
    "        df_cal_beta = df_cal_beta.append([(\"{}.{}\".format(chrom, gene), chrom, beta1, z_score, p_value_two/2)])\n",
    "        df_cal_zscore = df_cal_zscore.append([(\"{}.{}\".format(chrom, gene), chrom, z_score)])\n",
    "        ### gene annotation needs to be determined\n",
    "        if multi_cat == 0:\n",
    "            SNP_anno_cal = SNP_anno_cal.append([(\"{}.{}\".format(chrom, gene), 1 if gene in causal else 0)])\n",
    "        else:\n",
    "            if len(cat) != 0:\n",
    "                rand_cat = np.random.choice(cat)\n",
    "            SNP_anno_cal = SNP_anno_cal.append([(\"{}.{}\".format(chrom, gene), 1 if gene in causal else rand_cat)])\n",
    "            if not gene in causal:\n",
    "                cat.remove(rand_cat)\n",
    "        i += 1\n",
    "    df_cal_bf.columns = [\"SNP\", \"gene\", \"bf\"]\n",
    "    df_cal_beta.columns = [\"SNP\", \"gene\", \"beta\", \"t-stat\", \"p-value\"]\n",
    "    df_cal_zscore.columns = [\"SNP\", \"gene\", \"z-score\"]\n",
    "    SNP_anno_cal.columns = [\"SNP\", \"binding_d\"]\n",
    "    df_cal_bf.to_csv(\"data/TORUS/calcium/bf_cal\", sep = \"\\t\", header = False, index = False)\n",
    "    df_cal_beta.to_csv(\"data/TORUS/calcium/beta_cal\", sep = \"\\t\", header = True, index = False)\n",
    "    df_cal_zscore.to_csv(\"data/TORUS/calcium/z_score_cal\", sep = \"\\t\", header = False, index = False)\n",
    "    SNP_anno_cal.to_csv(\"data/TORUS/calcium/snp_anno_cal\", sep = \"\\t\", header = True, index = False)"
   ]
  },
  {
   "cell_type": "code",
   "execution_count": null,
   "metadata": {},
   "outputs": [],
   "source": [
    "get_sum_Sweden_for_torus(gene_df = max_block, causal = causal_genes, cat = pheno, multi_cat = 1)"
   ]
  },
  {
   "cell_type": "code",
   "execution_count": null,
   "metadata": {},
   "outputs": [],
   "source": [
    "!rm data/TORUS/calcium/*.gz\n",
    "!gzip data/TORUS/calcium/*_cal\n",
    "!torus.sh -d data/TORUS/calcium/beta_cal.gz -annot data/TORUS/calcium/snp_anno_cal.gz -est > data/TORUS/calcium/cal_block_beta.est"
   ]
  },
  {
   "cell_type": "code",
   "execution_count": null,
   "metadata": {},
   "outputs": [],
   "source": [
    "print (block_genes)"
   ]
  },
  {
   "cell_type": "code",
   "execution_count": null,
   "metadata": {
    "collapsed": true
   },
   "outputs": [],
   "source": []
  }
 ],
 "metadata": {
  "kernelspec": {
   "display_name": "Python 3",
   "language": "python",
   "name": "python3"
  },
  "language_info": {
   "codemirror_mode": {
    "name": "ipython",
    "version": 3
   },
   "file_extension": ".py",
   "mimetype": "text/x-python",
   "name": "python",
   "nbconvert_exporter": "python",
   "pygments_lexer": "ipython3",
   "version": "3.5.2"
  }
 },
 "nbformat": 4,
 "nbformat_minor": 2
}
