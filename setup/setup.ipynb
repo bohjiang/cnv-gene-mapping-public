{
 "cells": [
  {
   "cell_type": "markdown",
   "metadata": {},
   "source": [
    "## install saasCNV\n",
    "\n",
    "The package is used to extract data from vcf and make diagnostic plots.\n",
    "\n",
    "First install [DNAcopy using bioconductor](http://www.bioconductor.org/packages/release/bioc/html/DNAcopy.html), instead of cran, then install saasCNV."
   ]
  },
  {
   "cell_type": "code",
   "execution_count": null,
   "metadata": {
    "attributes": {
     "classes": [
      "R"
     ],
     "id": ""
    }
   },
   "outputs": [],
   "source": [
    "## try http:// if https:// URLs are not supported\n",
    "source(\"https://bioconductor.org/biocLite.R\")\n",
    "biocLite(\"DNAcopy\")\n",
    "install.packages(\"saasCNV\")"
   ]
  }
 ],
 "metadata": {},
 "nbformat": 4,
 "nbformat_minor": 2
}
