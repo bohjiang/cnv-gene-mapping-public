{
 "cells": [
  {
   "cell_type": "markdown",
   "metadata": {},
   "source": [
    "# Toy example for multi-genes and multi-CNVs in a region\n",
    "## One or more causal genes"
   ]
  },
  {
   "cell_type": "code",
   "execution_count": 1,
   "metadata": {
    "collapsed": true,
    "kernel": "SoS"
   },
   "outputs": [],
   "source": [
    "import numpy as np\n",
    "import pandas as pd\n",
    "import feather\n",
    "from pandasql import sqldf\n",
    "from fisher import pvalue\n",
    "from scipy import stats"
   ]
  },
  {
   "cell_type": "code",
   "execution_count": 2,
   "metadata": {
    "collapsed": true
   },
   "outputs": [],
   "source": [
    "def toy_multicnv_multicausal(p, n_cnv, causal, n_geom=5000, n_gene=10, const1=0.5, const2=0.05, seed=12):\n",
    "    '''A region with multiple genes and CNVs. CNVs probably overlap. At least two causal genes.\n",
    "    \"causal\" is a list of positions of causal genes.\n",
    "    \"n_gene\" is the number of genes this region harbors.\n",
    "    \"n_cnv\" is the number of CNV in this region. \"n_geom\" is the number of geometric variables generated.\n",
    "    \"p\" is the probability of geometric dist, then randomly generate a certain number of geometric variables.\n",
    "    I use these variables minus 1 as the length of CNVs, which means the number of genes that a CNV overlap with.\n",
    "    The maximum length for CNV in this region is overlapping with 10 genes'''\n",
    "    np.random.seed(seed)\n",
    "    geom_minus_1 = np.random.geometric(p, size=n_geom) - 1\n",
    "    cnv_len = np.random.choice(geom_minus_1[geom_minus_1 <= 10], n_cnv, replace=False)\n",
    "    cnv_start_pos = [np.random.choice(range(n_gene+1-i)) if i!=0 else -1 for i in cnv_len]\n",
    "    ptn_ls = []\n",
    "    for j,i in enumerate(cnv_start_pos):\n",
    "    ## j is the index of i in cnv start position list, so cnv_len[j] is the length of the corresponding cnv;\n",
    "    ## i is the corresponding cnv start position\n",
    "        if i == -1:\n",
    "            ptn = [0]*n_gene\n",
    "        elif i == 0:\n",
    "            ptn = [0]*(i - 1) + [1]*cnv_len[j] + [0]*(n_gene - cnv_len[j] - i)\n",
    "        else:\n",
    "            ptn = [0]*(i - 1) + [1]*cnv_len[j] + [0]*(n_gene - cnv_len[j] - (i-1))\n",
    "        ptn_ls.append(ptn)\n",
    "    \n",
    "    mat = [[np.random.normal(0,1)] + line for line in ptn_ls]\n",
    "    config = []\n",
    "    for line in mat:\n",
    "        line[0] = line[0] + line[1:].count(1)*const2\n",
    "        config.append(line[0])\n",
    "        if min(causal) > len(line[1:])-1:\n",
    "            continue\n",
    "        elif any(line[x] for x in causal):\n",
    "            line[0] = line[0] + const1*[line[x] for x in causal].count(1)\n",
    "            config[-1] = line[0]\n",
    "        else:\n",
    "            continue\n",
    "#     print (np.median(config))\n",
    "    for line in mat:\n",
    "        line[0] = 1 if line[0] >= np.median(config) else 0\n",
    "    mat = np.matrix(mat)\n",
    "    df = pd.DataFrame(mat, columns = [\"phenotype\"] + [\"gene{}\".format(i+1) for i in range(mat.shape[1]-1)])\n",
    "    counts = df.groupby([\"gene{}\".format(i+1) for i in range(mat.shape[1]-1)] + [\"phenotype\"]).size()\n",
    "    \n",
    "    for col in df.columns:\n",
    "        df[col] = df[col].astype(np.uint8)\n",
    "    output = feather.write_dataframe(df, \"data/toy_n{}_p{}_causal{}_const{}_{}.feather\"\n",
    "                                     .format(len(cnv_len), p, causal, const1, const2))\n",
    "    return df, counts"
   ]
  },
  {
   "cell_type": "code",
   "execution_count": 5,
   "metadata": {
    "scrolled": true
   },
   "outputs": [
    {
     "name": "stdout",
     "output_type": "stream",
     "text": [
      "2500\n"
     ]
    }
   ],
   "source": [
    "df, counts = toy_multicnv_multicausal(p=0.6, n_cnv=5000, causal = [1,6])\n",
    "print (df[\"phenotype\"].tolist().count(1))"
   ]
  },
  {
   "cell_type": "code",
   "execution_count": 15,
   "metadata": {},
   "outputs": [
    {
     "name": "stdout",
     "output_type": "stream",
     "text": [
      "2017-09-01 17:15:15.703035\n",
      "2017-09-01 17:15:30.239393\n"
     ]
    }
   ],
   "source": [
    "from utils import run_dap_lite\n",
    "fileout = \"data/toy_multi_causal_1.dap\"\n",
    "run_dap_lite(df, fileout)"
   ]
  },
  {
   "cell_type": "code",
   "execution_count": 9,
   "metadata": {
    "collapsed": true
   },
   "outputs": [],
   "source": [
    "def get_OR(gene_df, fisher=0):\n",
    "    cases = gene_df[gene_df[\"phenotype\"]==1]\n",
    "    ctrls = gene_df[gene_df[\"phenotype\"]==0]\n",
    "    res_dict = {}\n",
    "    for gene in list(gene_df)[1:]:\n",
    "        n_gene_case = len(cases[cases[gene]==1])\n",
    "        n_nogene_case = len(cases[cases[gene]==0])\n",
    "        n_gene_ctrl = len(ctrls[ctrls[gene]==1])\n",
    "        n_nogene_ctrl = len(ctrls[ctrls[gene]==0])\n",
    "#         print (n_gene_case, n_nogene_case, n_gene_ctrl, n_nogene_ctrl)\n",
    "        odds_ratio = stats.fisher_exact([[n_gene_case, n_gene_ctrl], [n_nogene_case, n_nogene_ctrl]])[0]\n",
    "        res_dict[gene] = odds_ratio\n",
    "        if not fisher==0:\n",
    "            logp = -np.log10(pvalue(n_gene_case, n_gene_ctrl, n_nogene_case, n_nogene_ctrl).two_tail)\n",
    "            res_dict[gene] = logp\n",
    "    return res_dict"
   ]
  },
  {
   "cell_type": "code",
   "execution_count": 10,
   "metadata": {},
   "outputs": [
    {
     "data": {
      "text/plain": [
       "{'gene1': 2.6518291834747529,\n",
       " 'gene10': nan,\n",
       " 'gene2': 1.3884052475523887,\n",
       " 'gene3': 1.1973816427894692,\n",
       " 'gene4': 1.2583252831966012,\n",
       " 'gene5': 1.5109064331635043,\n",
       " 'gene6': 3.0249634842650379,\n",
       " 'gene7': 1.5090627109472192,\n",
       " 'gene8': 1.1395852642628224,\n",
       " 'gene9': 1.1088686371230176}"
      ]
     },
     "execution_count": 10,
     "metadata": {},
     "output_type": "execute_result"
    }
   ],
   "source": [
    "get_OR(df)"
   ]
  },
  {
   "cell_type": "code",
   "execution_count": 86,
   "metadata": {},
   "outputs": [
    {
     "name": "stdout",
     "output_type": "stream",
     "text": [
      "0\n"
     ]
    },
    {
     "data": {
      "text/plain": [
       "[1, 0, 0, 0, 0, 1, 1, 0, 0, 3]"
      ]
     },
     "execution_count": 86,
     "metadata": {},
     "output_type": "execute_result"
    }
   ],
   "source": [
    "causal = [10,12]\n",
    "line = [1,0,0,0,0,1,1,0,0,7]\n",
    "if min(causal) > len(line)-1:\n",
    "    print (0)\n",
    "elif any(line[x] for x in causal):\n",
    "    print (1)\n",
    "else: print (0)\n",
    "line[-1]=3\n",
    "line"
   ]
  },
  {
   "cell_type": "code",
   "execution_count": 7,
   "metadata": {
    "collapsed": true,
    "kernel": "SoS"
   },
   "outputs": [],
   "source": [
    "df.to_csv(\"data/df.csv\")"
   ]
  },
  {
   "cell_type": "code",
   "execution_count": 8,
   "metadata": {
    "collapsed": true,
    "kernel": "SoS"
   },
   "outputs": [],
   "source": [
    "counts.to_csv(\"data/counts.csv\")"
   ]
  },
  {
   "cell_type": "code",
   "execution_count": null,
   "metadata": {
    "collapsed": true
   },
   "outputs": [],
   "source": []
  },
  {
   "cell_type": "code",
   "execution_count": 121,
   "metadata": {
    "collapsed": true,
    "kernel": "SoS"
   },
   "outputs": [],
   "source": [
    "# bug in it, fixed in function \"toy_multicnv_multicausal\"\n",
    "def toy_multi_gene_cnv(p, n_cnv, n_max=10, causal=5, const1=1, const2=0.1, seed=1):\n",
    "    '''A region with multiple genes and CNVs. CNVs may overlap or not overlap. Only one causal gene.'''\n",
    "    np.random.seed(seed)\n",
    "    cnv_len = np.random.choice((np.random.geometric(p, size=n_cnv) - 1), n_cnv, replace=False)\n",
    "    cnv_len = cnv_len[cnv_len <= 10].tolist()\n",
    "    start_pos = [np.random.choice(range(n_max+1-i)) if i!=0 else -1 for i in cnv_len]\n",
    "    ptn_ls = []\n",
    "    for j,i in enumerate(start_pos):\n",
    "        if i == -1:\n",
    "            ptn = [0]*n_max\n",
    "        elif i == 0:\n",
    "            ptn = [0]*(i-1) + [1]*cnv_len[j] + [0]*(n_max-cnv_len[j]-i)\n",
    "        else:\n",
    "            ptn = [0]*(i-1) + [1]*cnv_len[j] + [0]*(n_max-cnv_len[j]-(i-1))\n",
    "        ptn_ls.append(ptn)\n",
    "    mat = [[np.random.normal(0,1)] + line for line in ptn_ls]\n",
    "    config = []\n",
    "    for line in mat:\n",
    "##         config.append(line[0]+const1) if line[causal-1] == 1 else config.append(line[0])\n",
    "        if line[causal] == 1:\n",
    "            line[0] = line[0] + const1\n",
    "        config.append(line[0])\n",
    "        \n",
    "#       the longer the CNV is, the less common it is, and larger OR\n",
    "        line[0] = line[0] + line[1:].count(1)*const2\n",
    "        \n",
    "##         line[0] = 1 if line[0] > np.median(config) else 0\n",
    "        if line[0] >= np.median(config):\n",
    "            line[0] = 1\n",
    "        else:\n",
    "            line[0] = 0\n",
    "        \n",
    "    mat = np.matrix(mat)\n",
    "    df = pd.DataFrame(mat, columns = [\"phenotype\"] + [\"gene{}\".format(i+1) for i in range(mat.shape[1]-1)])\n",
    "    counts = df.groupby([\"gene{}\".format(i+1) for i in range(mat.shape[1]-1)] + [\"phenotype\"]).size()\n",
    "    for col in df.columns:\n",
    "        df[col] = df[col].astype(np.uint8)\n",
    "    output = feather.write_dataframe(df, \"data/toy_n{}_p{}_causal{}_const{}_{}.feather\"\n",
    "                                     .format(len(cnv_len), p, causal, const1, const2))\n",
    "    return df, counts"
   ]
  },
  {
   "cell_type": "code",
   "execution_count": 123,
   "metadata": {
    "collapsed": true,
    "kernel": "SoS",
    "scrolled": true
   },
   "outputs": [],
   "source": [
    "df1, counts1 = toy_multi_gene_cnv(p=0.6, n_cnv=20, const1=1.0, const2=0.05)\n",
    "# print (df[\"phenotype\"].tolist())"
   ]
  }
 ],
 "metadata": {
  "kernelspec": {
   "display_name": "Python 3",
   "language": "python",
   "name": "python3"
  },
  "language_info": {
   "codemirror_mode": {
    "name": "ipython",
    "version": 3
   },
   "file_extension": ".py",
   "mimetype": "text/x-python",
   "name": "python",
   "nbconvert_exporter": "python",
   "pygments_lexer": "ipython3",
   "version": "3.6.1"
  },
  "sos": {
   "default_kernel": "SoS",
   "kernels": [
    [
     "SoS",
     "sos",
     "",
     ""
    ],
    [
     "Python3",
     "python3",
     "Python3",
     "#FFE771"
    ],
    [
     "R",
     "ir",
     "R",
     "#DCDCDA"
    ]
   ],
   "panel": {
    "displayed": true,
    "height": 0,
    "style": "side"
   }
  }
 },
 "nbformat": 4,
 "nbformat_minor": 2
}
