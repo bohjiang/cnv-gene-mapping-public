{
 "cells": [
  {
   "cell_type": "code",
   "execution_count": 17,
   "metadata": {},
   "outputs": [],
   "source": [
    "import pandas as pd\n",
    "import numpy as np\n",
    "from fisher import pvalue"
   ]
  },
  {
   "cell_type": "code",
   "execution_count": 40,
   "metadata": {},
   "outputs": [],
   "source": [
    "def fisher_from_block(filename, const=0.5):\n",
    "    block_data = pd.read_pickle(filename)\n",
    "    fisher_table = pd.DataFrame(index = [\"n_gene_case\", \"n_gene_ctrl\", \"n_nogene_case\", \"n_nogene_ctrl\", \"p_value\"])\n",
    "    for block in block_data[\"data\"]:\n",
    "        for gene_name in block.keys()[1:]:\n",
    "            n_gene_case = block[\"phenotype\"][block[gene_name]==1][block[\"phenotype\"]==1].count() + const\n",
    "            n_gene_ctrl = block[\"phenotype\"][block[gene_name]==1][block[\"phenotype\"]==0].count() + const\n",
    "            n_nogene_case = block_data[\"debug\"][\"args\"][\"n_case\"] - n_gene_case + const\n",
    "            n_nogene_ctrl = block_data[\"debug\"][\"args\"][\"n_ctrl\"] - n_gene_ctrl + const\n",
    "            p_value = pvalue(n_gene_case, n_gene_ctrl, n_nogene_case, n_nogene_ctrl).two_tail\n",
    "            fisher_table[gene_name] = [n_gene_case, n_gene_ctrl, n_nogene_case, n_nogene_ctrl, p_value]\n",
    "    return fisher_table"
   ]
  },
  {
   "cell_type": "code",
   "execution_count": 42,
   "metadata": {},
   "outputs": [],
   "source": [
    "filename = \"../analysis/data/calcium_pathway_1000_shape_25.data.blocks.pkl\"\n",
    "fisher_table_1000 = fisher_from_block(filename)"
   ]
  },
  {
   "cell_type": "code",
   "execution_count": 43,
   "metadata": {},
   "outputs": [
    {
     "data": {
      "text/plain": [
       "0.00045674363305719457"
      ]
     },
     "execution_count": 43,
     "metadata": {},
     "output_type": "execute_result"
    }
   ],
   "source": [
    "min(fisher_table_1000.loc[\"p_value\"])"
   ]
  }
 ],
 "metadata": {
  "kernelspec": {
   "display_name": "Python 3",
   "language": "python",
   "name": "python3"
  },
  "language_info": {
   "codemirror_mode": {
    "name": "ipython",
    "version": 3
   },
   "file_extension": ".py",
   "mimetype": "text/x-python",
   "name": "python",
   "nbconvert_exporter": "python",
   "pygments_lexer": "ipython3",
   "version": "3.5.2"
  }
 },
 "nbformat": 4,
 "nbformat_minor": 2
}
