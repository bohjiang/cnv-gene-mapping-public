{
 "cells": [
  {
   "cell_type": "markdown",
   "metadata": {},
   "source": [
    "# Implement TORUS by using CNV data of Schizophrenia in Sweden\n",
    "### Use Sweden Schizphrenia individual data to obtain gene and CNV overlap configuration; columns represent genes, rows represent individuals\n",
    "### Use the transformed file to perform TOURS"
   ]
  },
  {
   "cell_type": "markdown",
   "metadata": {},
   "source": [
    "#### Obtain file format used in TORUS\n",
    "\n",
    "Use "
   ]
  },
  {
   "cell_type": "code",
   "execution_count": 1,
   "metadata": {
    "collapsed": true
   },
   "outputs": [],
   "source": [
    "import pandas as pd\n",
    "from pandasql import sqldf\n",
    "from utils import load_reference_gene, load_data, save_data, get_analysis_blocks\n",
    "import re\n",
    "from collections import Counter\n",
    "import numpy as np"
   ]
  },
  {
   "cell_type": "code",
   "execution_count": 2,
   "metadata": {
    "collapsed": true
   },
   "outputs": [],
   "source": [
    "# load reference genes and Sweden CNV data\n",
    "ref_genes = load_reference_gene(\"../data/refGene.txt.gz\")\n",
    "ref_genes[\"chrom\"] = ref_genes.apply(lambda row: row[\"chrom\"][3:5] \n",
    "                                     if re.match(\"^[c,h,r,0-9]*$\", row[\"chrom\"][:5]) else row[\"chrom\"][3:4], axis=1)\n",
    "ref_genes[\"chrom\"] = ref_genes.apply(lambda row: row[\"chrom\"] if not row[\"chrom\"] in (\"X\", \"Y\") else 23, axis=1)"
   ]
  },
  {
   "cell_type": "code",
   "execution_count": 3,
   "metadata": {
    "collapsed": true
   },
   "outputs": [],
   "source": [
    "chromosome = list(str(x) for x in range(1,24))\n",
    "ref_genes[\"chrom\"] = ref_genes.apply(lambda row: row[\"chrom\"] if str(row[\"chrom\"]) in chromosome else 0, axis=1)\n",
    "ref_genes = ref_genes[ref_genes.chrom != 0]"
   ]
  },
  {
   "cell_type": "code",
   "execution_count": 4,
   "metadata": {
    "collapsed": true
   },
   "outputs": [],
   "source": [
    "sw_cnv = pd.read_table(\"../data/swcnv/swcnv.qc6.cnv\", sep=\"\\s+\")\n",
    "sw_indiv = pd.read_table(\"../data/swcnv/swcnv.qc6.cnv.indiv\", sep=\"\\s+\") # \"NSEG\": number of CNV in each sample\n",
    "sw_cnv_indiv = pd.merge(sw_cnv, sw_indiv, how=\"inner\", on=[\"FID\", \"IID\"])\n",
    "sw_cnv_indiv[\"PHE\"] = sw_cnv_indiv.apply(lambda row: 1 if row[\"PHE\"]==2 else 0, axis=1)"
   ]
  },
  {
   "cell_type": "code",
   "execution_count": 5,
   "metadata": {
    "collapsed": true
   },
   "outputs": [],
   "source": [
    "# calcium pathway genes\n",
    "calpath_genes = pd.read_table(\"../data/calciumgeneset.txt\", skiprows = 2, header = None, names = [\"gene_name\"])\n",
    "calpath_genes_list = calpath_genes[\"gene_name\"].tolist()\n",
    "calpath_genes_pos = pd.merge(ref_genes, calpath_genes, how=\"inner\", on=[\"gene_name\"])"
   ]
  },
  {
   "cell_type": "code",
   "execution_count": 6,
   "metadata": {
    "collapsed": true
   },
   "outputs": [],
   "source": [
    "query = '''\n",
    "SELECT gene_name, chrom, min(tx_start), max(tx_end)\n",
    "FROM calpath_genes_pos\n",
    "GROUP BY gene_name\n",
    "'''\n",
    "calpath_genes_pos = sqldf(query)\n",
    "calpath_genes_pos = calpath_genes_pos.rename(columns={\"min(tx_start)\": \"gene_start\", \"max(tx_end)\": \"gene_end\"})"
   ]
  },
  {
   "cell_type": "code",
   "execution_count": 7,
   "metadata": {
    "collapsed": true,
    "scrolled": true
   },
   "outputs": [],
   "source": [
    "diff = list(set(calpath_genes_list) - set(calpath_genes_pos[\"gene_name\"].tolist()))\n",
    "calpath_genes_pos.loc[calpath_genes_pos.shape[0]] = [diff[0], \"2\", 65205076, 65206278]\n",
    "calpath_genes_pos.loc[calpath_genes_pos.shape[0]] = [diff[1], \"15\", 41231149, 41281887]\n",
    "calpath_genes_pos[\"chr\"] = calpath_genes_pos.apply(lambda row: int(row[\"chrom\"]) \n",
    "                                                if not row[\"chrom\"] in (\"X\", \"Y\") else 23, axis=1)"
   ]
  },
  {
   "cell_type": "code",
   "execution_count": 8,
   "metadata": {
    "scrolled": true
   },
   "outputs": [],
   "source": [
    "query = '''\n",
    "SELECT sw.FID, sw.PHE, sw.CHR, sw.BP1, sw.BP2, sw.TYPE, cal.gene_name\n",
    "FROM calpath_genes_pos cal LEFT JOIN sw_cnv_indiv sw\n",
    "WHERE sw.CHR == cal.chr\n",
    "AND (\n",
    "(sw.BP1 >= cal.gene_start AND sw.BP1 <= cal.gene_end)\n",
    "OR\n",
    "(sw.BP2 >= cal.gene_start AND sw.BP2 <= cal.gene_end)\n",
    "OR\n",
    "(sw.BP1 <= cal.gene_start AND sw.BP2 >= cal.gene_end)\n",
    "OR\n",
    "(sw.BP1 >= cal.gene_start AND sw.BP2 <= cal.gene_end)\n",
    ")\n",
    "GROUP BY sw.PHE, sw.CHR, sw.FID, sw.BP1, sw.BP2, sw.TYPE, cal.gene_name\n",
    "'''\n",
    "overlap_CNV_gene_calpath = sqldf(query).drop_duplicates(subset=(\"FID\", \"PHE\", \"CHR\", \"BP1\", \"BP2\", \"TYPE\", \"gene_name\"))\n",
    "overlap_CNV_gene_calpath.reset_index(inplace=True)"
   ]
  },
  {
   "cell_type": "code",
   "execution_count": 9,
   "metadata": {
    "collapsed": true
   },
   "outputs": [],
   "source": [
    "overlap_CNV_gene_calpath = overlap_CNV_gene_calpath.groupby((\"PHE\", \"FID\", \"CHR\", \"BP1\", \"BP2\", \"TYPE\"))\n",
    "overlap_CNV_gene_calpath = overlap_CNV_gene_calpath[\"gene_name\"].unique()\n",
    "overlap_CNV_gene_calpath = overlap_CNV_gene_calpath.reset_index()"
   ]
  },
  {
   "cell_type": "code",
   "execution_count": 10,
   "metadata": {
    "scrolled": true
   },
   "outputs": [],
   "source": [
    "query = '''\n",
    "SELECT chrom, gene_name, tx_name, min(tx_start), max(tx_end)\n",
    "FROM ref_genes\n",
    "GROUP BY chrom, gene_name\n",
    "'''\n",
    "ref_genes = sqldf(query).drop_duplicates(subset = (\"gene_name\"))\n",
    "ref_genes = ref_genes.rename(columns={\"min(tx_start)\": \"gene_start\", \"max(tx_end)\": \"gene_end\"})"
   ]
  },
  {
   "cell_type": "markdown",
   "metadata": {},
   "source": [
    "#### The table of overlap of CNVs (Sweden data) and genes"
   ]
  },
  {
   "cell_type": "code",
   "execution_count": 11,
   "metadata": {
    "collapsed": true
   },
   "outputs": [],
   "source": [
    "# needs to be modified, does not work\n",
    "query = '''\n",
    "SELECT sw.FID, sw.CHR, sw.BP1, sw.BP2, ref.gene_name, ref.tx_name, sw.PHE, sw.TYPE\n",
    "FROM ref_genes ref LEFT JOIN sw_cnv_indiv sw\n",
    "WHERE sw.CHR == ref.chrom\n",
    "AND (\n",
    "(sw.BP1 >= ref.gene_start AND sw.BP1 <= ref.gene_end)\n",
    "OR\n",
    "(sw.BP2 >= ref.gene_start AND sw.BP2 <= ref.gene_end)\n",
    "OR\n",
    "(sw.BP1 <= ref.gene_start AND sw.BP2 >= ref.gene_end)\n",
    "OR\n",
    "(sw.BP1 >= ref.gene_start AND sw.BP2 <= ref.gene_end)\n",
    ")\n",
    "GROUP BY sw.PHE, sw.CHR, sw.FID, sw.BP1, sw.BP2, sw.TYPE, ref.gene_name\n",
    "'''\n",
    "cnv_gene_overlap = sqldf(query).drop_duplicates(subset=(\"FID\", \"PHE\", \"CHR\", \"BP1\", \"BP2\", \"TYPE\", \"gene_name\"))"
   ]
  },
  {
   "cell_type": "code",
   "execution_count": 63,
   "metadata": {
    "collapsed": true
   },
   "outputs": [],
   "source": [
    "def get_block_matrix(input_data, ref_genes, deletion = True, make_block = False, dtype = np.uint8):\n",
    "    '''input_data is a dataframe from a query of overlapping of CNVs and genes. Controls come first, cases follow.\n",
    "       Therefore, controls (0) come first in \"phenotype\", cases (1) follow, \n",
    "       in order to coordinate the format of input data.\n",
    "       The input_data may contain deletion and duplication. Separate them if needed.\n",
    "       ref_genes is a dataframe from a query of reference genes\n",
    "    '''\n",
    "    if deletion:\n",
    "        dat = input_data[cnv_gene_overlap[\"TYPE\"]==1]\n",
    "    else:\n",
    "        dat = input_data[cnv_gene_overlap[\"TYPE\"]==3]\n",
    "    n_case = dat[dat[\"PHE\"]==1].drop_duplicates(subset=(\"FID\")).groupby(\"PHE\").size()[1]\n",
    "    n_ctrl = dat[dat[\"PHE\"]==0].drop_duplicates(subset=(\"FID\")).groupby(\"PHE\").size()[0]\n",
    "    print (n_case + n_ctrl)\n",
    "    dat_select = dat[[\"CHR\", \"BP1\", \"BP2\", \"tx_name\", \"gene_name\"]]\n",
    "    dat_select = dat_select.rename(columns={\"CHR\": \"chrom\", \"BP1\": \"cnv_start\", \"BP2\": \"cnv_terminate\"})\n",
    "    case = dat_select[dat[\"PHE\"]==1]\n",
    "    ctrl = dat_select[dat[\"PHE\"]==0]\n",
    "    genes = ref_genes[\"gene_name\"]\n",
    "    print (len(genes.tolist()))\n",
    "    regression_data = np.array([np.array(genes.isin(dat[dat[\"FID\"]==item][\"gene_name\"]), dtype=float) \n",
    "                                for item in dat.drop_duplicates(subset=(\"FID\"))[\"FID\"]])\n",
    "    phenotype = np.matrix([0]*n_ctrl + [1]*n_case).T\n",
    "    regression_data = np.hstack((phenotype, regression_data))\n",
    "    print (np.shape(regression_data))\n",
    "    df = pd.DataFrame(regression_data, columns = ['phenotype'] + genes.tolist())\n",
    "    newdf = pd.DataFrame()\n",
    "    for col in df:\n",
    "        if sum(df[col]) > 0:\n",
    "            newdf[col] = df[col]\n",
    "        else: continue\n",
    "    if not make_block:\n",
    "        res = newdf.astype(dtype, copy = True)\n",
    "    else:\n",
    "        blocks = get_analysis_blocks(pd.concat([case, ctrl]))\n",
    "        res = [newdf[['phenotype'] + item].astype(dtype, copy = True) for item in blocks]\n",
    "    save_data(res, \"data/calcium_pathway_Sweden_CNVs_{}.data.blocks.pkl\".format(\"del\" if deletion else \"dup\"))\n",
    "    return {\"data\": res}"
   ]
  },
  {
   "cell_type": "code",
   "execution_count": 64,
   "metadata": {
    "scrolled": true
   },
   "outputs": [
    {
     "name": "stdout",
     "output_type": "stream",
     "text": [
      "2239\n",
      "26910\n",
      "(2239, 26911)\n"
     ]
    }
   ],
   "source": [
    "res = get_block_matrix(cnv_gene_overlap, ref_genes, make_block = True)"
   ]
  },
  {
   "cell_type": "code",
   "execution_count": null,
   "metadata": {
    "collapsed": true
   },
   "outputs": [],
   "source": []
  }
 ],
 "metadata": {
  "kernelspec": {
   "display_name": "Python 3",
   "language": "python",
   "name": "python3"
  },
  "language_info": {
   "codemirror_mode": {
    "name": "ipython",
    "version": 3
   },
   "file_extension": ".py",
   "mimetype": "text/x-python",
   "name": "python",
   "nbconvert_exporter": "python",
   "pygments_lexer": "ipython3",
   "version": "3.5.2"
  }
 },
 "nbformat": 4,
 "nbformat_minor": 2
}
