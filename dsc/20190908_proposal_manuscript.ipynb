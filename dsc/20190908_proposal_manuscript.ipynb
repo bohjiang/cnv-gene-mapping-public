{
 "cells": [
  {
   "cell_type": "markdown",
   "metadata": {
    "kernel": "SoS"
   },
   "source": [
    "## ATAC-seq"
   ]
  },
  {
   "cell_type": "markdown",
   "metadata": {
    "kernel": "SoS"
   },
   "source": [
    "Open chromatin"
   ]
  },
  {
   "cell_type": "markdown",
   "metadata": {
    "kernel": "SoS"
   },
   "source": [
    "## ASoC\n",
    "Background: Allelic Imbalance of gene Expression (AIE) plays important role during neurodevelopment. However,the underlying mechanism of AIE has not been fully under-stood. Since chromatin accessibility (openness) has a stronginfluence on gene transcription, we hypothesised thatAllele-Specific open Chromatin (ASoC) might regulate AIE. Also, as Open Chromatin Regions (OCRs) overlap with generegulatory sequences and a genetic variant showing ASoC likely affects gene expression, we reasoned that mapping ASoC in neurons will help functionally interpret the abun-dant noncoding risk variants of neurodevelopmental disorders."
   ]
  },
  {
   "cell_type": "markdown",
   "metadata": {
    "kernel": "SoS"
   },
   "source": [
    "## CNV"
   ]
  },
  {
   "cell_type": "code",
   "execution_count": null,
   "metadata": {
    "kernel": "SoS"
   },
   "outputs": [],
   "source": []
  }
 ],
 "metadata": {
  "kernelspec": {
   "display_name": "SoS",
   "language": "sos",
   "name": "sos"
  },
  "language_info": {
   "codemirror_mode": "sos",
   "file_extension": ".sos",
   "mimetype": "text/x-sos",
   "name": "sos",
   "nbconvert_exporter": "sos_notebook.converter.SoS_Exporter",
   "pygments_lexer": "sos"
  },
  "sos": {
   "kernels": [
    [
     "SoS",
     "sos",
     "",
     ""
    ]
   ],
   "version": "0.20.0"
  }
 },
 "nbformat": 4,
 "nbformat_minor": 2
}
