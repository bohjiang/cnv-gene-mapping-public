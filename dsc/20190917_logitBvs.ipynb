{
 "cells": [
  {
   "cell_type": "code",
   "execution_count": 1,
   "metadata": {},
   "outputs": [],
   "source": [
    "library(pogit)\n",
    "# PIP, , what exactly do these 2 weights mean\n",
    "# how to deal with the intercept: did not make difference if centering"
   ]
  },
  {
   "cell_type": "code",
   "execution_count": 2,
   "metadata": {},
   "outputs": [],
   "source": [
    "block = c(79,137)\n",
    "block_simu = c(1215, 1273)\n",
    "# block = c(23, 36)\n",
    "# block_simu = c(164, 177)"
   ]
  },
  {
   "cell_type": "code",
   "execution_count": 3,
   "metadata": {},
   "outputs": [],
   "source": [
    "X_ori <- as.matrix(data.table::fread(paste(\"/data/GIT/cnv-gene-mapping/data/deletion_simu/block_\", block[1], \"_\" , block[2], \n",
    "                                           \"/deletion.genes.block30.for_simu.sample.genes.block_\", block[1], \"_\" , block[2], \".gz\", sep = \"\"), header = F))"
   ]
  },
  {
   "cell_type": "code",
   "execution_count": 4,
   "metadata": {},
   "outputs": [],
   "source": [
    "X_center <- scale(X_ori, scale = FALSE)"
   ]
  },
  {
   "cell_type": "code",
   "execution_count": 5,
   "metadata": {},
   "outputs": [
    {
     "data": {
      "text/html": [
       "<table>\n",
       "<thead><tr><th scope=col>V1</th><th scope=col>V2</th><th scope=col>V3</th><th scope=col>V4</th><th scope=col>V5</th><th scope=col>V6</th><th scope=col>V7</th><th scope=col>V8</th><th scope=col>V9</th><th scope=col>V10</th><th scope=col>⋯</th><th scope=col>V50</th><th scope=col>V51</th><th scope=col>V52</th><th scope=col>V53</th><th scope=col>V54</th><th scope=col>V55</th><th scope=col>V56</th><th scope=col>V57</th><th scope=col>V58</th><th scope=col>V59</th></tr></thead>\n",
       "<tbody>\n",
       "\t<tr><td>-0.005592007 </td><td>-0.0005219207</td><td>-0.000820161 </td><td>-0.000820161 </td><td>-0.000820161 </td><td>-0.000820161 </td><td>-0.000820161 </td><td>-0.000820161 </td><td>-0.000820161 </td><td>-0.000820161 </td><td>⋯            </td><td>-0.003280644 </td><td>-0.002311363 </td><td>-0.002311363 </td><td>-0.0005964808</td><td>-0.0005964808</td><td>-0.0005964808</td><td>-0.0003728005</td><td>-0.0003728005</td><td>-7.45601e-05 </td><td>-7.45601e-05 </td></tr>\n",
       "\t<tr><td>-0.005592007 </td><td>-0.0005219207</td><td>-0.000820161 </td><td>-0.000820161 </td><td>-0.000820161 </td><td>-0.000820161 </td><td>-0.000820161 </td><td>-0.000820161 </td><td>-0.000820161 </td><td>-0.000820161 </td><td>⋯            </td><td>-0.003280644 </td><td>-0.002311363 </td><td>-0.002311363 </td><td>-0.0005964808</td><td>-0.0005964808</td><td>-0.0005964808</td><td>-0.0003728005</td><td>-0.0003728005</td><td>-7.45601e-05 </td><td>-7.45601e-05 </td></tr>\n",
       "\t<tr><td>-0.005592007 </td><td>-0.0005219207</td><td>-0.000820161 </td><td>-0.000820161 </td><td>-0.000820161 </td><td>-0.000820161 </td><td>-0.000820161 </td><td>-0.000820161 </td><td>-0.000820161 </td><td>-0.000820161 </td><td>⋯            </td><td>-0.003280644 </td><td>-0.002311363 </td><td>-0.002311363 </td><td>-0.0005964808</td><td>-0.0005964808</td><td>-0.0005964808</td><td>-0.0003728005</td><td>-0.0003728005</td><td>-7.45601e-05 </td><td>-7.45601e-05 </td></tr>\n",
       "\t<tr><td>-0.005592007 </td><td>-0.0005219207</td><td>-0.000820161 </td><td>-0.000820161 </td><td>-0.000820161 </td><td>-0.000820161 </td><td>-0.000820161 </td><td>-0.000820161 </td><td>-0.000820161 </td><td>-0.000820161 </td><td>⋯            </td><td>-0.003280644 </td><td>-0.002311363 </td><td>-0.002311363 </td><td>-0.0005964808</td><td>-0.0005964808</td><td>-0.0005964808</td><td>-0.0003728005</td><td>-0.0003728005</td><td>-7.45601e-05 </td><td>-7.45601e-05 </td></tr>\n",
       "\t<tr><td>-0.005592007 </td><td>-0.0005219207</td><td>-0.000820161 </td><td>-0.000820161 </td><td>-0.000820161 </td><td>-0.000820161 </td><td>-0.000820161 </td><td>-0.000820161 </td><td>-0.000820161 </td><td>-0.000820161 </td><td>⋯            </td><td>-0.003280644 </td><td>-0.002311363 </td><td>-0.002311363 </td><td>-0.0005964808</td><td>-0.0005964808</td><td>-0.0005964808</td><td>-0.0003728005</td><td>-0.0003728005</td><td>-7.45601e-05 </td><td>-7.45601e-05 </td></tr>\n",
       "\t<tr><td>-0.005592007 </td><td>-0.0005219207</td><td>-0.000820161 </td><td>-0.000820161 </td><td>-0.000820161 </td><td>-0.000820161 </td><td>-0.000820161 </td><td>-0.000820161 </td><td>-0.000820161 </td><td>-0.000820161 </td><td>⋯            </td><td>-0.003280644 </td><td>-0.002311363 </td><td>-0.002311363 </td><td>-0.0005964808</td><td>-0.0005964808</td><td>-0.0005964808</td><td>-0.0003728005</td><td>-0.0003728005</td><td>-7.45601e-05 </td><td>-7.45601e-05 </td></tr>\n",
       "</tbody>\n",
       "</table>\n"
      ],
      "text/latex": [
       "\\begin{tabular}{lllllllllllllllllllllllllllllllllllllllllllllllllllllllllll}\n",
       " V1 & V2 & V3 & V4 & V5 & V6 & V7 & V8 & V9 & V10 & ⋯ & V50 & V51 & V52 & V53 & V54 & V55 & V56 & V57 & V58 & V59\\\\\n",
       "\\hline\n",
       "\t -0.005592007  & -0.0005219207 & -0.000820161  & -0.000820161  & -0.000820161  & -0.000820161  & -0.000820161  & -0.000820161  & -0.000820161  & -0.000820161  & ⋯             & -0.003280644  & -0.002311363  & -0.002311363  & -0.0005964808 & -0.0005964808 & -0.0005964808 & -0.0003728005 & -0.0003728005 & -7.45601e-05  & -7.45601e-05 \\\\\n",
       "\t -0.005592007  & -0.0005219207 & -0.000820161  & -0.000820161  & -0.000820161  & -0.000820161  & -0.000820161  & -0.000820161  & -0.000820161  & -0.000820161  & ⋯             & -0.003280644  & -0.002311363  & -0.002311363  & -0.0005964808 & -0.0005964808 & -0.0005964808 & -0.0003728005 & -0.0003728005 & -7.45601e-05  & -7.45601e-05 \\\\\n",
       "\t -0.005592007  & -0.0005219207 & -0.000820161  & -0.000820161  & -0.000820161  & -0.000820161  & -0.000820161  & -0.000820161  & -0.000820161  & -0.000820161  & ⋯             & -0.003280644  & -0.002311363  & -0.002311363  & -0.0005964808 & -0.0005964808 & -0.0005964808 & -0.0003728005 & -0.0003728005 & -7.45601e-05  & -7.45601e-05 \\\\\n",
       "\t -0.005592007  & -0.0005219207 & -0.000820161  & -0.000820161  & -0.000820161  & -0.000820161  & -0.000820161  & -0.000820161  & -0.000820161  & -0.000820161  & ⋯             & -0.003280644  & -0.002311363  & -0.002311363  & -0.0005964808 & -0.0005964808 & -0.0005964808 & -0.0003728005 & -0.0003728005 & -7.45601e-05  & -7.45601e-05 \\\\\n",
       "\t -0.005592007  & -0.0005219207 & -0.000820161  & -0.000820161  & -0.000820161  & -0.000820161  & -0.000820161  & -0.000820161  & -0.000820161  & -0.000820161  & ⋯             & -0.003280644  & -0.002311363  & -0.002311363  & -0.0005964808 & -0.0005964808 & -0.0005964808 & -0.0003728005 & -0.0003728005 & -7.45601e-05  & -7.45601e-05 \\\\\n",
       "\t -0.005592007  & -0.0005219207 & -0.000820161  & -0.000820161  & -0.000820161  & -0.000820161  & -0.000820161  & -0.000820161  & -0.000820161  & -0.000820161  & ⋯             & -0.003280644  & -0.002311363  & -0.002311363  & -0.0005964808 & -0.0005964808 & -0.0005964808 & -0.0003728005 & -0.0003728005 & -7.45601e-05  & -7.45601e-05 \\\\\n",
       "\\end{tabular}\n"
      ],
      "text/markdown": [
       "\n",
       "| V1 | V2 | V3 | V4 | V5 | V6 | V7 | V8 | V9 | V10 | ⋯ | V50 | V51 | V52 | V53 | V54 | V55 | V56 | V57 | V58 | V59 |\n",
       "|---|---|---|---|---|---|---|---|---|---|---|---|---|---|---|---|---|---|---|---|---|\n",
       "| -0.005592007  | -0.0005219207 | -0.000820161  | -0.000820161  | -0.000820161  | -0.000820161  | -0.000820161  | -0.000820161  | -0.000820161  | -0.000820161  | ⋯             | -0.003280644  | -0.002311363  | -0.002311363  | -0.0005964808 | -0.0005964808 | -0.0005964808 | -0.0003728005 | -0.0003728005 | -7.45601e-05  | -7.45601e-05  |\n",
       "| -0.005592007  | -0.0005219207 | -0.000820161  | -0.000820161  | -0.000820161  | -0.000820161  | -0.000820161  | -0.000820161  | -0.000820161  | -0.000820161  | ⋯             | -0.003280644  | -0.002311363  | -0.002311363  | -0.0005964808 | -0.0005964808 | -0.0005964808 | -0.0003728005 | -0.0003728005 | -7.45601e-05  | -7.45601e-05  |\n",
       "| -0.005592007  | -0.0005219207 | -0.000820161  | -0.000820161  | -0.000820161  | -0.000820161  | -0.000820161  | -0.000820161  | -0.000820161  | -0.000820161  | ⋯             | -0.003280644  | -0.002311363  | -0.002311363  | -0.0005964808 | -0.0005964808 | -0.0005964808 | -0.0003728005 | -0.0003728005 | -7.45601e-05  | -7.45601e-05  |\n",
       "| -0.005592007  | -0.0005219207 | -0.000820161  | -0.000820161  | -0.000820161  | -0.000820161  | -0.000820161  | -0.000820161  | -0.000820161  | -0.000820161  | ⋯             | -0.003280644  | -0.002311363  | -0.002311363  | -0.0005964808 | -0.0005964808 | -0.0005964808 | -0.0003728005 | -0.0003728005 | -7.45601e-05  | -7.45601e-05  |\n",
       "| -0.005592007  | -0.0005219207 | -0.000820161  | -0.000820161  | -0.000820161  | -0.000820161  | -0.000820161  | -0.000820161  | -0.000820161  | -0.000820161  | ⋯             | -0.003280644  | -0.002311363  | -0.002311363  | -0.0005964808 | -0.0005964808 | -0.0005964808 | -0.0003728005 | -0.0003728005 | -7.45601e-05  | -7.45601e-05  |\n",
       "| -0.005592007  | -0.0005219207 | -0.000820161  | -0.000820161  | -0.000820161  | -0.000820161  | -0.000820161  | -0.000820161  | -0.000820161  | -0.000820161  | ⋯             | -0.003280644  | -0.002311363  | -0.002311363  | -0.0005964808 | -0.0005964808 | -0.0005964808 | -0.0003728005 | -0.0003728005 | -7.45601e-05  | -7.45601e-05  |\n",
       "\n"
      ],
      "text/plain": [
       "     V1           V2            V3           V4           V5          \n",
       "[1,] -0.005592007 -0.0005219207 -0.000820161 -0.000820161 -0.000820161\n",
       "[2,] -0.005592007 -0.0005219207 -0.000820161 -0.000820161 -0.000820161\n",
       "[3,] -0.005592007 -0.0005219207 -0.000820161 -0.000820161 -0.000820161\n",
       "[4,] -0.005592007 -0.0005219207 -0.000820161 -0.000820161 -0.000820161\n",
       "[5,] -0.005592007 -0.0005219207 -0.000820161 -0.000820161 -0.000820161\n",
       "[6,] -0.005592007 -0.0005219207 -0.000820161 -0.000820161 -0.000820161\n",
       "     V6           V7           V8           V9           V10          ⋯\n",
       "[1,] -0.000820161 -0.000820161 -0.000820161 -0.000820161 -0.000820161 ⋯\n",
       "[2,] -0.000820161 -0.000820161 -0.000820161 -0.000820161 -0.000820161 ⋯\n",
       "[3,] -0.000820161 -0.000820161 -0.000820161 -0.000820161 -0.000820161 ⋯\n",
       "[4,] -0.000820161 -0.000820161 -0.000820161 -0.000820161 -0.000820161 ⋯\n",
       "[5,] -0.000820161 -0.000820161 -0.000820161 -0.000820161 -0.000820161 ⋯\n",
       "[6,] -0.000820161 -0.000820161 -0.000820161 -0.000820161 -0.000820161 ⋯\n",
       "     V50          V51          V52          V53           V54          \n",
       "[1,] -0.003280644 -0.002311363 -0.002311363 -0.0005964808 -0.0005964808\n",
       "[2,] -0.003280644 -0.002311363 -0.002311363 -0.0005964808 -0.0005964808\n",
       "[3,] -0.003280644 -0.002311363 -0.002311363 -0.0005964808 -0.0005964808\n",
       "[4,] -0.003280644 -0.002311363 -0.002311363 -0.0005964808 -0.0005964808\n",
       "[5,] -0.003280644 -0.002311363 -0.002311363 -0.0005964808 -0.0005964808\n",
       "[6,] -0.003280644 -0.002311363 -0.002311363 -0.0005964808 -0.0005964808\n",
       "     V55           V56           V57           V58          V59         \n",
       "[1,] -0.0005964808 -0.0003728005 -0.0003728005 -7.45601e-05 -7.45601e-05\n",
       "[2,] -0.0005964808 -0.0003728005 -0.0003728005 -7.45601e-05 -7.45601e-05\n",
       "[3,] -0.0005964808 -0.0003728005 -0.0003728005 -7.45601e-05 -7.45601e-05\n",
       "[4,] -0.0005964808 -0.0003728005 -0.0003728005 -7.45601e-05 -7.45601e-05\n",
       "[5,] -0.0005964808 -0.0003728005 -0.0003728005 -7.45601e-05 -7.45601e-05\n",
       "[6,] -0.0005964808 -0.0003728005 -0.0003728005 -7.45601e-05 -7.45601e-05"
      ]
     },
     "metadata": {},
     "output_type": "display_data"
    }
   ],
   "source": [
    "head(X_center)"
   ]
  },
  {
   "cell_type": "code",
   "execution_count": 6,
   "metadata": {},
   "outputs": [
    {
     "data": {
      "text/html": [
       "<ol class=list-inline>\n",
       "\t<li>13412</li>\n",
       "\t<li>59</li>\n",
       "</ol>\n"
      ],
      "text/latex": [
       "\\begin{enumerate*}\n",
       "\\item 13412\n",
       "\\item 59\n",
       "\\end{enumerate*}\n"
      ],
      "text/markdown": [
       "1. 13412\n",
       "2. 59\n",
       "\n",
       "\n"
      ],
      "text/plain": [
       "[1] 13412    59"
      ]
     },
     "metadata": {},
     "output_type": "display_data"
    }
   ],
   "source": [
    "dim(X_ori)"
   ]
  },
  {
   "cell_type": "code",
   "execution_count": 7,
   "metadata": {},
   "outputs": [],
   "source": [
    "y <- as.matrix(data.table::fread(\"/data/GIT/cnv-gene-mapping/data/deletion_simu/deletion.genes.block30.for_simu.sample.y\"))"
   ]
  },
  {
   "cell_type": "code",
   "execution_count": 8,
   "metadata": {},
   "outputs": [
    {
     "data": {
      "text/html": [
       "13412"
      ],
      "text/latex": [
       "13412"
      ],
      "text/markdown": [
       "13412"
      ],
      "text/plain": [
       "[1] 13412"
      ]
     },
     "metadata": {},
     "output_type": "display_data"
    }
   ],
   "source": [
    "length(y)"
   ]
  },
  {
   "cell_type": "code",
   "execution_count": 9,
   "metadata": {},
   "outputs": [],
   "source": [
    "# beta <- as.matrix(data.table::fread(\"/data/GIT/cnv-gene-mapping/data/deletion_simu/deletion.genes.block30.for_simu.sample.beta\"))"
   ]
  },
  {
   "cell_type": "code",
   "execution_count": 10,
   "metadata": {},
   "outputs": [],
   "source": [
    "# mean(beta); sd(beta); sum(beta == 0); sum(beta == 0)/length(beta)"
   ]
  },
  {
   "cell_type": "code",
   "execution_count": 11,
   "metadata": {},
   "outputs": [],
   "source": [
    "X_intercept <- cbind(rep(1, nrow(X_ori)), X_ori)"
   ]
  },
  {
   "cell_type": "code",
   "execution_count": 12,
   "metadata": {},
   "outputs": [],
   "source": [
    "y <- as.numeric(y[,1])"
   ]
  },
  {
   "cell_type": "code",
   "execution_count": 13,
   "metadata": {},
   "outputs": [],
   "source": [
    "N <- rep(1, length(y))"
   ]
  },
  {
   "cell_type": "code",
   "execution_count": 14,
   "metadata": {},
   "outputs": [],
   "source": [
    "prior <- readRDS(\"/home/min/GIT/cnv-gene-mapping/data/deletion_simu/deletion.genes.block30.binomial.whole.genome.prior.varbvs.nologodds.updateb0.rds\")"
   ]
  },
  {
   "cell_type": "code",
   "execution_count": 15,
   "metadata": {},
   "outputs": [],
   "source": [
    "mu0 = sum(prior$b0 * prior$w)"
   ]
  },
  {
   "cell_type": "code",
   "execution_count": 16,
   "metadata": {},
   "outputs": [
    {
     "data": {
      "text/html": [
       "0.777072111580423"
      ],
      "text/latex": [
       "0.777072111580423"
      ],
      "text/markdown": [
       "0.777072111580423"
      ],
      "text/plain": [
       "[1] 0.7770721"
      ]
     },
     "metadata": {},
     "output_type": "display_data"
    }
   ],
   "source": [
    "mu0"
   ]
  },
  {
   "cell_type": "code",
   "execution_count": 17,
   "metadata": {},
   "outputs": [],
   "source": [
    "var = sum(prior$sa * prior$w)"
   ]
  },
  {
   "cell_type": "code",
   "execution_count": 18,
   "metadata": {},
   "outputs": [
    {
     "data": {
      "text/html": [
       "0.711745609189383"
      ],
      "text/latex": [
       "0.711745609189383"
      ],
      "text/markdown": [
       "0.711745609189383"
      ],
      "text/plain": [
       "[1] 0.7117456"
      ]
     },
     "metadata": {},
     "output_type": "display_data"
    }
   ],
   "source": [
    "var"
   ]
  },
  {
   "cell_type": "code",
   "execution_count": 19,
   "metadata": {},
   "outputs": [],
   "source": [
    "pi0 = sum((10^(prior$logodds) / (1 + 10^(prior$logodds))) * prior$w)"
   ]
  },
  {
   "cell_type": "code",
   "execution_count": 20,
   "metadata": {},
   "outputs": [
    {
     "data": {
      "text/html": [
       "0.0437754961218526"
      ],
      "text/latex": [
       "0.0437754961218526"
      ],
      "text/markdown": [
       "0.0437754961218526"
      ],
      "text/plain": [
       "[1] 0.0437755"
      ]
     },
     "metadata": {},
     "output_type": "display_data"
    }
   ],
   "source": [
    "pi0"
   ]
  },
  {
   "cell_type": "code",
   "execution_count": 21,
   "metadata": {},
   "outputs": [],
   "source": [
    "# b = prior$beta[which(prior$beta != 0)]\n",
    "# mean(b); var(b); sum(prior$beta == 0); sum(prior$beta == 0)/length(prior$beta)"
   ]
  },
  {
   "cell_type": "code",
   "execution_count": 22,
   "metadata": {},
   "outputs": [],
   "source": [
    "X <- X_center"
   ]
  },
  {
   "cell_type": "code",
   "execution_count": 23,
   "metadata": {},
   "outputs": [
    {
     "name": "stdout",
     "output_type": "stream",
     "text": [
      "\n",
      "MCMC for the binomial logit model:\n",
      "\n",
      "it = 1 /--- duration of MCMC so far: 26.2 sec.,  expected time to end: Inf  min. \n",
      "it = 2 /--- duration of MCMC so far: 26.32 sec.,  expected time to end: 2631.86  min. \n",
      "it = 3 /--- duration of MCMC so far: 26.44 sec.,  expected time to end: 1321.81  min. \n",
      "it = 4 /--- duration of MCMC so far: 26.57 sec.,  expected time to end: 885.32  min. \n",
      "it = 5 /--- duration of MCMC so far: 26.7 sec.,  expected time to end: 667.03  min. \n",
      "it = 10 /--- duration of MCMC so far: 27.46 sec.,  expected time to end: 304.63  min. \n",
      "it = 20 /--- duration of MCMC so far: 29.18 sec.,  expected time to end: 153.09  min. \n",
      "it = 50 /--- duration of MCMC so far: 32.88 sec.,  expected time to end: 66.56  min. \n",
      "it = 100 /--- duration of MCMC so far: 39.11 sec.,  expected time to end: 38.86  min. \n",
      "it = 200 /--- duration of MCMC so far: 50.34 sec.,  expected time to end: 24.46  min. \n",
      "it = 500 /--- duration of MCMC so far: 83.28 sec.,  expected time to end: 15.3  min. \n",
      "it = 1000 /--- duration of MCMC so far: 141.31 sec.,  expected time to end: 11.79  min. \n",
      "it = 1500 /--- duration of MCMC so far: 208.18 sec.,  expected time to end: 10.42  min. \n",
      "it = 2000 /--- duration of MCMC so far: 285.96 sec.,  expected time to end: 9.54  min. \n",
      "it = 2500 /--- duration of MCMC so far: 361.16 sec.,  expected time to end: 8.43  min. \n",
      "it = 3000 /--- duration of MCMC so far: 438.05 sec.,  expected time to end: 7.31  min. \n",
      "it = 3500 /--- duration of MCMC so far: 504.97 sec.,  expected time to end: 6.02  min. \n",
      "it = 4000 /--- duration of MCMC so far: 558.73 sec.,  expected time to end: 4.66  min. \n",
      "it = 4500 /--- duration of MCMC so far: 612.76 sec.,  expected time to end: 3.41  min. \n",
      "it = 5000 /--- duration of MCMC so far: 666.6 sec.,  expected time to end: 2.22  min. \n",
      "it = 5500 /--- duration of MCMC so far: 720.38 sec.,  expected time to end: 1.09  min. \n",
      "it = 6000 /--- duration of MCMC (total): 774.03 sec. \n",
      " \n"
     ]
    }
   ],
   "source": [
    "res <- logitBvs(y, N, X, prior = list(slab = \"Normal\", aj0 = rep(mu0, ncol(X_ori)), V = var, w = c(wa0 = 1, wb0 = 1), pi = c(pa0 = 1.412, pb0 = 10)), \n",
    "                mcmc = list(M = 5000, burnin = 1000, msave = TRUE), BVS = FALSE)"
   ]
  },
  {
   "cell_type": "code",
   "execution_count": 26,
   "metadata": {},
   "outputs": [],
   "source": [
    "saveRDS(res, paste(\"/home/min/GIT/cnv-gene-mapping/data/deletion_simu/logitBvs.block_\", block[1], \"_\", block[2],\".pi.rds\", sep = \"\"))"
   ]
  },
  {
   "cell_type": "code",
   "execution_count": 24,
   "metadata": {},
   "outputs": [
    {
     "name": "stdout",
     "output_type": "stream",
     "text": [
      "\n",
      "MCMC for the binomial logit model:\n",
      "\n",
      "it = 1 /--- duration of MCMC so far: 25.29 sec.,  expected time to end: Inf  min. \n",
      "it = 2 /--- duration of MCMC so far: 25.39 sec.,  expected time to end: 2538.18  min. \n",
      "it = 3 /--- duration of MCMC so far: 25.49 sec.,  expected time to end: 1274.13  min. \n",
      "it = 4 /--- duration of MCMC so far: 25.6 sec.,  expected time to end: 852.91  min. \n",
      "it = 5 /--- duration of MCMC so far: 25.71 sec.,  expected time to end: 642.3  min. \n",
      "it = 10 /--- duration of MCMC so far: 26.22 sec.,  expected time to end: 290.89  min. \n",
      "it = 20 /--- duration of MCMC so far: 27.32 sec.,  expected time to end: 143.31  min. \n",
      "it = 50 /--- duration of MCMC so far: 30.48 sec.,  expected time to end: 61.7  min. \n",
      "it = 100 /--- duration of MCMC so far: 35.73 sec.,  expected time to end: 35.5  min. \n",
      "it = 200 /--- duration of MCMC so far: 46.2 sec.,  expected time to end: 22.44  min. \n",
      "it = 500 /--- duration of MCMC so far: 77.58 sec.,  expected time to end: 14.25  min. \n",
      "it = 1000 /--- duration of MCMC so far: 130.17 sec.,  expected time to end: 10.86  min. \n",
      "it = 1500 /--- duration of MCMC so far: 182.85 sec.,  expected time to end: 9.15  min. \n",
      "it = 2000 /--- duration of MCMC so far: 235.5 sec.,  expected time to end: 7.86  min. \n",
      "it = 2500 /--- duration of MCMC so far: 288.15 sec.,  expected time to end: 6.73  min. \n",
      "it = 3000 /--- duration of MCMC so far: 340.58 sec.,  expected time to end: 5.68  min. \n",
      "it = 3500 /--- duration of MCMC so far: 392.92 sec.,  expected time to end: 4.68  min. \n",
      "it = 4000 /--- duration of MCMC so far: 445.69 sec.,  expected time to end: 3.72  min. \n",
      "it = 4500 /--- duration of MCMC so far: 499.04 sec.,  expected time to end: 2.77  min. \n",
      "it = 5000 /--- duration of MCMC so far: 551.72 sec.,  expected time to end: 1.84  min. \n",
      "it = 5500 /--- duration of MCMC so far: 612 sec.,  expected time to end: 0.93  min. \n",
      "it = 6000 /--- duration of MCMC (total): 671.58 sec. \n",
      " \n"
     ]
    }
   ],
   "source": [
    "res1 <- logitBvs(y, N, X, prior = list(slab = \"Normal\", aj0 = rep(mu0, ncol(X_ori)), V = var, w = c(wa0 = 1.412, wb0 = 10), pi = c(pa0 = 1, pb0 = 1)), \n",
    "                 mcmc = list(M = 5000, burnin = 1000, msave = TRUE), BVS = FALSE)"
   ]
  },
  {
   "cell_type": "code",
   "execution_count": 29,
   "metadata": {},
   "outputs": [],
   "source": [
    "saveRDS(res1, paste(\"/home/min/GIT/cnv-gene-mapping/data/deletion_simu/logitBvs.block_\", block[1], \"_\", block[2],\".omega.rds\", sep = \"\"))"
   ]
  },
  {
   "cell_type": "code",
   "execution_count": 27,
   "metadata": {},
   "outputs": [
    {
     "data": {
      "text/plain": [
       "MCMC for the logit model:\n",
       "\n",
       "Call:\n",
       "logitBvs(y = y, N = N, X = X, prior = list(slab = \"Normal\", aj0 = rep(mu0, \n",
       "    ncol(X_ori)), V = var, w = c(wa0 = 1, wb0 = 1), pi = c(pa0 = 1.412, \n",
       "    pb0 = 10)), mcmc = list(M = 5000, burnin = 1000, msave = TRUE), \n",
       "    BVS = FALSE)\n",
       "\n",
       "\n",
       "MCMC:\n",
       "M = 5000 draws after a burn-in of 1000\n",
       "Thinning parameter: 1\n",
       "\n",
       "Prior: Normal prior [V=0.711745609189383]\n",
       "\n",
       " a0[0]  a0[1]  a0[2]  a0[3]  a0[4]  a0[5]  a0[6]  a0[7]  a0[8]  a0[9] a0[10] \n",
       " 0.000  0.777  0.777  0.777  0.777  0.777  0.777  0.777  0.777  0.777  0.777 \n",
       "a0[11] a0[12] a0[13] a0[14] a0[15] a0[16] a0[17] a0[18] a0[19] a0[20] a0[21] \n",
       " 0.777  0.777  0.777  0.777  0.777  0.777  0.777  0.777  0.777  0.777  0.777 \n",
       "a0[22] a0[23] a0[24] a0[25] a0[26] a0[27] a0[28] a0[29] a0[30] a0[31] a0[32] \n",
       " 0.777  0.777  0.777  0.777  0.777  0.777  0.777  0.777  0.777  0.777  0.777 \n",
       "a0[33] a0[34] a0[35] a0[36] a0[37] a0[38] a0[39] a0[40] a0[41] a0[42] a0[43] \n",
       " 0.777  0.777  0.777  0.777  0.777  0.777  0.777  0.777  0.777  0.777  0.777 \n",
       "a0[44] a0[45] a0[46] a0[47] a0[48] a0[49] a0[50] a0[51] a0[52] a0[53] a0[54] \n",
       " 0.777  0.777  0.777  0.777  0.777  0.777  0.777  0.777  0.777  0.777  0.777 \n",
       "a0[55] a0[56] a0[57] a0[58] a0[59] \n",
       " 0.777  0.777  0.777  0.777  0.777 \n",
       "\n",
       "\n",
       "Posterior means and 95%-HPD intervals:\n",
       "\n",
       "            Estimate 95%-HPD[l] 95%-HPD[u]\n",
       "(Intercept)    0.000     -0.038      0.039\n",
       "alpha.1       -0.549     -1.900      0.681\n",
       "alpha.2        0.524     -1.249      2.308\n",
       "alpha.3        0.018     -1.589      1.565\n",
       "alpha.4        0.012     -1.550      1.610\n",
       "alpha.5        0.011     -1.593      1.529\n",
       "alpha.6        0.008     -1.488      1.627\n",
       "alpha.7        0.015     -1.505      1.571\n",
       "alpha.8       -0.001     -1.688      1.514\n",
       "alpha.9        0.025     -1.568      1.675\n",
       "alpha.10       0.007     -1.574      1.535\n",
       "alpha.11      -0.003     -1.519      1.656\n",
       "alpha.12       0.000     -1.580      1.653\n",
       "alpha.13      -0.011     -1.551      1.621\n",
       "alpha.14       0.222     -1.175      1.586\n",
       "alpha.15       0.215     -1.163      1.651\n",
       "alpha.16      -0.703     -1.985      0.585\n",
       "alpha.17       0.642     -0.814      2.253\n",
       "alpha.18       0.637     -0.959      2.079\n",
       "alpha.19      -1.051     -2.652      0.540\n",
       "alpha.20       0.444     -0.581      1.563\n",
       "alpha.21       0.006     -1.416      1.537\n",
       "alpha.22      -0.021     -1.449      1.482\n",
       "alpha.23      -1.059     -2.708      0.473\n",
       "alpha.24       0.151     -1.418      1.724\n",
       "alpha.25       0.183     -1.358      1.768\n",
       "alpha.26       0.170     -1.502      1.603\n",
       "alpha.27       0.145     -1.488      1.622\n",
       "alpha.28       0.164     -1.344      1.812\n",
       "alpha.29      -0.299     -1.646      1.136\n",
       "alpha.30       0.179     -1.446      1.680\n",
       "alpha.31       0.174     -1.435      1.590\n",
       "alpha.32       0.171     -1.290      1.800\n",
       "alpha.33       0.180     -1.352      1.785\n",
       "alpha.34      -0.001     -1.482      1.615\n",
       "alpha.35      -0.015     -1.538      1.555\n",
       "alpha.36      -0.013     -1.684      1.491\n",
       "alpha.37      -0.009     -1.505      1.514\n",
       "alpha.38      -0.007     -1.502      1.628\n",
       "alpha.39      -0.010     -1.663      1.509\n",
       "alpha.40       0.683     -0.848      2.257\n",
       "alpha.41      -0.323     -1.740      1.173\n",
       "alpha.42      -0.440     -1.611      0.614\n",
       "alpha.43       0.979     -0.729      2.527\n",
       "alpha.44       0.994     -0.619      2.651\n",
       "alpha.45      -0.258     -1.744      1.234\n",
       "alpha.46      -0.276     -1.751      1.168\n",
       "alpha.47      -0.261     -1.680      1.288\n",
       "alpha.48      -0.255     -1.711      1.227\n",
       "alpha.49       0.314     -0.925      1.658\n",
       "alpha.50       0.297     -1.014      1.607\n",
       "alpha.51      -0.208     -1.559      1.139\n",
       "alpha.52      -0.202     -1.562      1.154\n",
       "alpha.53      -0.231     -1.778      1.241\n",
       "alpha.54      -0.230     -1.719      1.287\n",
       "alpha.55      -0.214     -1.773      1.233\n",
       "alpha.56       0.013     -1.556      1.675\n",
       "alpha.57       0.005     -1.591      1.670\n",
       "alpha.58       0.053     -1.563      1.820\n",
       "alpha.59       0.057     -1.602      1.870\n"
      ]
     },
     "metadata": {},
     "output_type": "display_data"
    }
   ],
   "source": [
    "summary(res)"
   ]
  },
  {
   "cell_type": "code",
   "execution_count": 32,
   "metadata": {},
   "outputs": [
    {
     "data": {
      "text/html": [
       "<ol class=list-inline>\n",
       "\t<li>'samplesL'</li>\n",
       "\t<li>'data'</li>\n",
       "\t<li>'model.logit'</li>\n",
       "\t<li>'mcmc'</li>\n",
       "\t<li>'prior.logit'</li>\n",
       "\t<li>'dur'</li>\n",
       "\t<li>'BVS'</li>\n",
       "\t<li>'start'</li>\n",
       "\t<li>'family'</li>\n",
       "\t<li>'call'</li>\n",
       "</ol>\n"
      ],
      "text/latex": [
       "\\begin{enumerate*}\n",
       "\\item 'samplesL'\n",
       "\\item 'data'\n",
       "\\item 'model.logit'\n",
       "\\item 'mcmc'\n",
       "\\item 'prior.logit'\n",
       "\\item 'dur'\n",
       "\\item 'BVS'\n",
       "\\item 'start'\n",
       "\\item 'family'\n",
       "\\item 'call'\n",
       "\\end{enumerate*}\n"
      ],
      "text/markdown": [
       "1. 'samplesL'\n",
       "2. 'data'\n",
       "3. 'model.logit'\n",
       "4. 'mcmc'\n",
       "5. 'prior.logit'\n",
       "6. 'dur'\n",
       "7. 'BVS'\n",
       "8. 'start'\n",
       "9. 'family'\n",
       "10. 'call'\n",
       "\n",
       "\n"
      ],
      "text/plain": [
       " [1] \"samplesL\"    \"data\"        \"model.logit\" \"mcmc\"        \"prior.logit\"\n",
       " [6] \"dur\"         \"BVS\"         \"start\"       \"family\"      \"call\"       "
      ]
     },
     "metadata": {},
     "output_type": "display_data"
    }
   ],
   "source": [
    "names(res1)"
   ]
  },
  {
   "cell_type": "code",
   "execution_count": 53,
   "metadata": {},
   "outputs": [
    {
     "data": {
      "text/html": [
       "<ol class=list-inline>\n",
       "\t<li>'alpha'</li>\n",
       "\t<li>'pdeltaAlpha'</li>\n",
       "\t<li>'psiAlpha'</li>\n",
       "\t<li>'thetaAlpha'</li>\n",
       "\t<li>'pgammaAlpha'</li>\n",
       "\t<li>'ai'</li>\n",
       "</ol>\n"
      ],
      "text/latex": [
       "\\begin{enumerate*}\n",
       "\\item 'alpha'\n",
       "\\item 'pdeltaAlpha'\n",
       "\\item 'psiAlpha'\n",
       "\\item 'thetaAlpha'\n",
       "\\item 'pgammaAlpha'\n",
       "\\item 'ai'\n",
       "\\end{enumerate*}\n"
      ],
      "text/markdown": [
       "1. 'alpha'\n",
       "2. 'pdeltaAlpha'\n",
       "3. 'psiAlpha'\n",
       "4. 'thetaAlpha'\n",
       "5. 'pgammaAlpha'\n",
       "6. 'ai'\n",
       "\n",
       "\n"
      ],
      "text/plain": [
       "[1] \"alpha\"       \"pdeltaAlpha\" \"psiAlpha\"    \"thetaAlpha\"  \"pgammaAlpha\"\n",
       "[6] \"ai\"         "
      ]
     },
     "metadata": {},
     "output_type": "display_data"
    }
   ],
   "source": [
    "names(res1$samplesL)"
   ]
  },
  {
   "cell_type": "code",
   "execution_count": 119,
   "metadata": {},
   "outputs": [
    {
     "data": {
      "text/html": [
       "354000"
      ],
      "text/latex": [
       "354000"
      ],
      "text/markdown": [
       "354000"
      ],
      "text/plain": [
       "[1] 354000"
      ]
     },
     "metadata": {},
     "output_type": "display_data"
    }
   ],
   "source": [
    "sum(res1$samplesL$pdeltaAlpha)"
   ]
  },
  {
   "cell_type": "code",
   "execution_count": 196,
   "metadata": {},
   "outputs": [],
   "source": [
    "aj0_tmp = c(rep(0, 29), 0, rep(0, 29))"
   ]
  },
  {
   "cell_type": "code",
   "execution_count": 202,
   "metadata": {},
   "outputs": [
    {
     "name": "stdout",
     "output_type": "stream",
     "text": [
      "\n",
      "MCMC for the binomial logit model with variable selection:\n",
      "\n",
      "it = 1 /--- duration of MCMC so far: 24.82 sec.,  expected time to end: Inf  min. \n",
      "it = 2 /--- duration of MCMC so far: 24.93 sec.,  expected time to end: 2.91  min. \n",
      "it = 3 /--- duration of MCMC so far: 30.58 sec.,  expected time to end: 1.53  min. \n",
      "it = 4 /--- duration of MCMC so far: 35.38 sec.,  expected time to end: 0.98  min. \n",
      "it = 5 /--- duration of MCMC so far: 39.37 sec.,  expected time to end: 0.66  min. \n",
      "it = 8 /--- duration of MCMC (total): 44.39 sec. \n",
      " \n"
     ]
    }
   ],
   "source": [
    "res_mu0 <- logitBvs(y, N, X, prior = list(slab = \"Normal\", aj0 = aj0_tmp, V = var, w = c(wa0 = 1.412, wb0 = 10), pi = c(pa0 = 1, pb0 = 1)), \n",
    "                    mcmc = list(M = 6, burnin = 2, startsel = 1, msave = FALSE), BVS = TRUE)"
   ]
  },
  {
   "cell_type": "code",
   "execution_count": 203,
   "metadata": {},
   "outputs": [
    {
     "data": {
      "text/html": [
       "<ol class=list-inline>\n",
       "\t<li>'alpha'</li>\n",
       "\t<li>'pdeltaAlpha'</li>\n",
       "\t<li>'psiAlpha'</li>\n",
       "\t<li>'thetaAlpha'</li>\n",
       "\t<li>'pgammaAlpha'</li>\n",
       "\t<li>'ai'</li>\n",
       "</ol>\n"
      ],
      "text/latex": [
       "\\begin{enumerate*}\n",
       "\\item 'alpha'\n",
       "\\item 'pdeltaAlpha'\n",
       "\\item 'psiAlpha'\n",
       "\\item 'thetaAlpha'\n",
       "\\item 'pgammaAlpha'\n",
       "\\item 'ai'\n",
       "\\end{enumerate*}\n"
      ],
      "text/markdown": [
       "1. 'alpha'\n",
       "2. 'pdeltaAlpha'\n",
       "3. 'psiAlpha'\n",
       "4. 'thetaAlpha'\n",
       "5. 'pgammaAlpha'\n",
       "6. 'ai'\n",
       "\n",
       "\n"
      ],
      "text/plain": [
       "[1] \"alpha\"       \"pdeltaAlpha\" \"psiAlpha\"    \"thetaAlpha\"  \"pgammaAlpha\"\n",
       "[6] \"ai\"         "
      ]
     },
     "metadata": {},
     "output_type": "display_data"
    }
   ],
   "source": [
    "names(res_mu0$samplesL)"
   ]
  },
  {
   "cell_type": "code",
   "execution_count": 204,
   "metadata": {},
   "outputs": [
    {
     "data": {
      "text/html": [
       "<dl>\n",
       "\t<dt>$alpha</dt>\n",
       "\t\t<dd><table>\n",
       "<thead><tr><th scope=col>alpha.0</th><th scope=col>alpha.1</th><th scope=col>alpha.2</th><th scope=col>alpha.3</th><th scope=col>alpha.4</th><th scope=col>alpha.5</th><th scope=col>alpha.6</th><th scope=col>alpha.7</th><th scope=col>alpha.8</th><th scope=col>alpha.9</th><th scope=col>⋯</th><th scope=col>alpha.50</th><th scope=col>alpha.51</th><th scope=col>alpha.52</th><th scope=col>alpha.53</th><th scope=col>alpha.54</th><th scope=col>alpha.55</th><th scope=col>alpha.56</th><th scope=col>alpha.57</th><th scope=col>alpha.58</th><th scope=col>alpha.59</th></tr></thead>\n",
       "<tbody>\n",
       "\t<tr><td>-0.0252518542</td><td>-1.7665745   </td><td> 1.6120074   </td><td>-0.3948854   </td><td> 0.4565698   </td><td> 0.2425785   </td><td>-0.8092669   </td><td>-1.0030502   </td><td> 2.3954637   </td><td> 0.4602667   </td><td>⋯            </td><td> 0.5335080   </td><td> 0.01634485  </td><td> 0.5814829   </td><td> 0.4946527   </td><td>-1.34048820  </td><td>1.1488151    </td><td>-0.22614725  </td><td> 0.2293970   </td><td>-0.1564463   </td><td> 0.2864377   </td></tr>\n",
       "\t<tr><td> 0.0033881734</td><td>-0.8420072   </td><td> 0.4435998   </td><td>-2.8966846   </td><td>-0.1940203   </td><td> 0.1539358   </td><td>-0.2427303   </td><td>-0.9475327   </td><td>-0.5695298   </td><td> 0.0000000   </td><td>⋯            </td><td> 0.2605585   </td><td> 0.68082006  </td><td>-1.1227716   </td><td> 0.0000000   </td><td> 0.59749111  </td><td>0.1807795    </td><td>-0.28951579  </td><td>-0.7903163   </td><td>-0.8129027   </td><td> 0.5611303   </td></tr>\n",
       "\t<tr><td> 0.0399952188</td><td> 0.6378380   </td><td>-0.3209207   </td><td> 0.0000000   </td><td> 0.0000000   </td><td>-0.5919549   </td><td> 0.2091963   </td><td>-0.1734753   </td><td>-0.2217359   </td><td> 0.5463862   </td><td>⋯            </td><td>-0.4453246   </td><td>-1.20630500  </td><td> 0.0000000   </td><td>-0.7083775   </td><td> 0.01688112  </td><td>0.0000000    </td><td> 0.03370242  </td><td> 1.2561097   </td><td>-0.9307225   </td><td>-1.0977128   </td></tr>\n",
       "\t<tr><td> 0.0115263602</td><td>-0.6055566   </td><td> 0.0000000   </td><td> 0.0000000   </td><td> 0.0000000   </td><td> 0.0000000   </td><td> 0.0000000   </td><td> 0.0000000   </td><td> 0.0000000   </td><td> 0.0000000   </td><td>⋯            </td><td> 0.0000000   </td><td>-0.08834737  </td><td>-0.9068963   </td><td> 0.0000000   </td><td> 0.00000000  </td><td>0.0000000    </td><td> 0.00000000  </td><td>-0.4516599   </td><td>-2.2563741   </td><td>-1.4160819   </td></tr>\n",
       "\t<tr><td> 0.0048777583</td><td> 0.0000000   </td><td> 0.0000000   </td><td> 0.0000000   </td><td> 0.0000000   </td><td>-0.2365425   </td><td> 0.0000000   </td><td> 0.0000000   </td><td> 0.0000000   </td><td> 0.0000000   </td><td>⋯            </td><td> 0.4170449   </td><td> 0.00000000  </td><td>-0.8719510   </td><td> 0.0000000   </td><td> 0.31577137  </td><td>0.0000000    </td><td>-0.62599621  </td><td> 0.0000000   </td><td> 0.0000000   </td><td> 0.0000000   </td></tr>\n",
       "\t<tr><td> 0.0037599214</td><td> 0.0000000   </td><td> 0.0000000   </td><td> 0.0000000   </td><td> 0.0000000   </td><td> 0.0000000   </td><td> 0.0000000   </td><td> 0.0000000   </td><td> 0.0000000   </td><td>-0.2009508   </td><td>⋯            </td><td> 0.0000000   </td><td>-1.66274258  </td><td> 0.0000000   </td><td> 0.0000000   </td><td> 0.00000000  </td><td>0.0000000    </td><td>-0.63268368  </td><td> 1.3065045   </td><td>-1.2901685   </td><td> 0.0000000   </td></tr>\n",
       "\t<tr><td>-0.0078225405</td><td> 0.0000000   </td><td>-0.3196419   </td><td> 0.0000000   </td><td> 0.0000000   </td><td> 0.6915492   </td><td> 0.0000000   </td><td> 0.2305308   </td><td> 0.0000000   </td><td> 1.1854659   </td><td>⋯            </td><td> 0.0000000   </td><td>-1.24505488  </td><td> 0.0000000   </td><td> 0.0000000   </td><td> 0.00000000  </td><td>0.0000000    </td><td> 0.00000000  </td><td> 0.0000000   </td><td> 0.3578740   </td><td>-1.6534579   </td></tr>\n",
       "\t<tr><td> 0.0009612315</td><td> 0.0000000   </td><td> 0.0000000   </td><td> 0.0000000   </td><td>-0.1486452   </td><td> 0.0000000   </td><td> 0.0000000   </td><td> 0.5489134   </td><td>-1.0797960   </td><td> 0.0000000   </td><td>⋯            </td><td> 0.0000000   </td><td> 0.00000000  </td><td> 0.0000000   </td><td>-1.4560184   </td><td> 0.00000000  </td><td>0.0000000    </td><td>-0.05249286  </td><td> 0.0000000   </td><td> 0.0000000   </td><td> 0.0000000   </td></tr>\n",
       "</tbody>\n",
       "</table>\n",
       "</dd>\n",
       "\t<dt>$pdeltaAlpha</dt>\n",
       "\t\t<dd><table>\n",
       "<thead><tr><th scope=col>pdeltaA.1</th><th scope=col>pdeltaA.2</th><th scope=col>pdeltaA.3</th><th scope=col>pdeltaA.4</th><th scope=col>pdeltaA.5</th><th scope=col>pdeltaA.6</th><th scope=col>pdeltaA.7</th><th scope=col>pdeltaA.8</th><th scope=col>pdeltaA.9</th><th scope=col>pdeltaA.10</th><th scope=col>⋯</th><th scope=col>pdeltaA.50</th><th scope=col>pdeltaA.51</th><th scope=col>pdeltaA.52</th><th scope=col>pdeltaA.53</th><th scope=col>pdeltaA.54</th><th scope=col>pdeltaA.55</th><th scope=col>pdeltaA.56</th><th scope=col>pdeltaA.57</th><th scope=col>pdeltaA.58</th><th scope=col>pdeltaA.59</th></tr></thead>\n",
       "<tbody>\n",
       "\t<tr><td>1.0000000</td><td>1.0000000</td><td>1.0000000</td><td>1.0000000</td><td>1.0000000</td><td>1.0000000</td><td>1.0000000</td><td>1.0000000</td><td>1.0000000</td><td>1.0000000</td><td>⋯        </td><td>1.0000000</td><td>1.0000000</td><td>1.0000000</td><td>1.0000000</td><td>1.0000000</td><td>1.0000000</td><td>1.0000000</td><td>1.0000000</td><td>1.0000000</td><td>1.0000000</td></tr>\n",
       "\t<tr><td>0.7557678</td><td>0.8169478</td><td>0.8039208</td><td>0.8039207</td><td>0.8034432</td><td>0.8039207</td><td>0.8039207</td><td>0.8039207</td><td>0.8034432</td><td>0.8039207</td><td>⋯        </td><td>0.6451147</td><td>0.7634704</td><td>0.7634618</td><td>0.7796071</td><td>0.7796071</td><td>0.7796074</td><td>0.7769605</td><td>0.7776254</td><td>0.7984925</td><td>0.7986702</td></tr>\n",
       "\t<tr><td>0.5768714</td><td>0.5676096</td><td>0.6386940</td><td>0.6396920</td><td>0.6375581</td><td>0.6375581</td><td>0.6375581</td><td>0.6396793</td><td>0.6396920</td><td>0.6386940</td><td>⋯        </td><td>0.9889703</td><td>0.9246102</td><td>0.6355516</td><td>0.6006895</td><td>0.6004827</td><td>0.6004827</td><td>0.6246974</td><td>0.6262387</td><td>0.6395435</td><td>0.6395951</td></tr>\n",
       "\t<tr><td>0.4321657</td><td>0.3849200</td><td>0.4925015</td><td>0.4879574</td><td>0.4904482</td><td>0.4925124</td><td>0.4887244</td><td>0.4941556</td><td>0.4873296</td><td>0.4887244</td><td>⋯        </td><td>0.5566689</td><td>0.4600381</td><td>0.4600381</td><td>0.4642683</td><td>0.4718956</td><td>0.4642683</td><td>0.4829502</td><td>0.4960748</td><td>0.9168845</td><td>0.9173156</td></tr>\n",
       "\t<tr><td>0.3004501</td><td>0.3141652</td><td>0.4351654</td><td>0.3877059</td><td>0.4351654</td><td>0.3618674</td><td>0.4351658</td><td>0.4351652</td><td>0.3760891</td><td>0.9280171</td><td>⋯        </td><td>0.3137099</td><td>0.3390405</td><td>0.5961997</td><td>0.3578291</td><td>0.4195994</td><td>0.4455667</td><td>0.3626331</td><td>0.3628310</td><td>0.4268017</td><td>0.4512680</td></tr>\n",
       "\t<tr><td>0.1810761</td><td>0.4388234</td><td>0.2806875</td><td>0.2806876</td><td>0.2543118</td><td>0.2806876</td><td>0.2806638</td><td>0.2806875</td><td>0.2749235</td><td>0.2749235</td><td>⋯        </td><td>0.5242154</td><td>0.3596590</td><td>0.3733660</td><td>0.4245175</td><td>0.3394634</td><td>0.3388906</td><td>0.4395430</td><td>0.3206879</td><td>0.4033212</td><td>0.3675939</td></tr>\n",
       "\t<tr><td>0.6336520</td><td>0.2142168</td><td>0.2333481</td><td>0.2373214</td><td>0.2328831</td><td>0.2353866</td><td>0.2306176</td><td>0.2220592</td><td>0.2353866</td><td>0.2220592</td><td>⋯        </td><td>0.3739105</td><td>0.9988921</td><td>0.3557666</td><td>0.2115050</td><td>0.1918769</td><td>0.2115050</td><td>0.2086099</td><td>0.2164999</td><td>0.2539166</td><td>0.2620525</td></tr>\n",
       "\t<tr><td>0.1886888</td><td>0.1878193</td><td>0.2453947</td><td>0.2478959</td><td>0.2443568</td><td>0.2478959</td><td>0.2502806</td><td>0.2502806</td><td>0.2502806</td><td>0.2502806</td><td>⋯        </td><td>0.2280279</td><td>0.1564782</td><td>0.2181374</td><td>0.7005140</td><td>0.2985138</td><td>0.2911831</td><td>0.2040210</td><td>0.2093484</td><td>0.3164191</td><td>0.3188503</td></tr>\n",
       "</tbody>\n",
       "</table>\n",
       "</dd>\n",
       "</dl>\n"
      ],
      "text/latex": [
       "\\begin{description}\n",
       "\\item[\\$alpha] \\begin{tabular}{llllllllllllllllllllllllllllllllllllllllllllllllllllllllllll}\n",
       " alpha.0 & alpha.1 & alpha.2 & alpha.3 & alpha.4 & alpha.5 & alpha.6 & alpha.7 & alpha.8 & alpha.9 & ⋯ & alpha.50 & alpha.51 & alpha.52 & alpha.53 & alpha.54 & alpha.55 & alpha.56 & alpha.57 & alpha.58 & alpha.59\\\\\n",
       "\\hline\n",
       "\t -0.0252518542 & -1.7665745    &  1.6120074    & -0.3948854    &  0.4565698    &  0.2425785    & -0.8092669    & -1.0030502    &  2.3954637    &  0.4602667    & ⋯             &  0.5335080    &  0.01634485   &  0.5814829    &  0.4946527    & -1.34048820   & 1.1488151     & -0.22614725   &  0.2293970    & -0.1564463    &  0.2864377   \\\\\n",
       "\t  0.0033881734 & -0.8420072    &  0.4435998    & -2.8966846    & -0.1940203    &  0.1539358    & -0.2427303    & -0.9475327    & -0.5695298    &  0.0000000    & ⋯             &  0.2605585    &  0.68082006   & -1.1227716    &  0.0000000    &  0.59749111   & 0.1807795     & -0.28951579   & -0.7903163    & -0.8129027    &  0.5611303   \\\\\n",
       "\t  0.0399952188 &  0.6378380    & -0.3209207    &  0.0000000    &  0.0000000    & -0.5919549    &  0.2091963    & -0.1734753    & -0.2217359    &  0.5463862    & ⋯             & -0.4453246    & -1.20630500   &  0.0000000    & -0.7083775    &  0.01688112   & 0.0000000     &  0.03370242   &  1.2561097    & -0.9307225    & -1.0977128   \\\\\n",
       "\t  0.0115263602 & -0.6055566    &  0.0000000    &  0.0000000    &  0.0000000    &  0.0000000    &  0.0000000    &  0.0000000    &  0.0000000    &  0.0000000    & ⋯             &  0.0000000    & -0.08834737   & -0.9068963    &  0.0000000    &  0.00000000   & 0.0000000     &  0.00000000   & -0.4516599    & -2.2563741    & -1.4160819   \\\\\n",
       "\t  0.0048777583 &  0.0000000    &  0.0000000    &  0.0000000    &  0.0000000    & -0.2365425    &  0.0000000    &  0.0000000    &  0.0000000    &  0.0000000    & ⋯             &  0.4170449    &  0.00000000   & -0.8719510    &  0.0000000    &  0.31577137   & 0.0000000     & -0.62599621   &  0.0000000    &  0.0000000    &  0.0000000   \\\\\n",
       "\t  0.0037599214 &  0.0000000    &  0.0000000    &  0.0000000    &  0.0000000    &  0.0000000    &  0.0000000    &  0.0000000    &  0.0000000    & -0.2009508    & ⋯             &  0.0000000    & -1.66274258   &  0.0000000    &  0.0000000    &  0.00000000   & 0.0000000     & -0.63268368   &  1.3065045    & -1.2901685    &  0.0000000   \\\\\n",
       "\t -0.0078225405 &  0.0000000    & -0.3196419    &  0.0000000    &  0.0000000    &  0.6915492    &  0.0000000    &  0.2305308    &  0.0000000    &  1.1854659    & ⋯             &  0.0000000    & -1.24505488   &  0.0000000    &  0.0000000    &  0.00000000   & 0.0000000     &  0.00000000   &  0.0000000    &  0.3578740    & -1.6534579   \\\\\n",
       "\t  0.0009612315 &  0.0000000    &  0.0000000    &  0.0000000    & -0.1486452    &  0.0000000    &  0.0000000    &  0.5489134    & -1.0797960    &  0.0000000    & ⋯             &  0.0000000    &  0.00000000   &  0.0000000    & -1.4560184    &  0.00000000   & 0.0000000     & -0.05249286   &  0.0000000    &  0.0000000    &  0.0000000   \\\\\n",
       "\\end{tabular}\n",
       "\n",
       "\\item[\\$pdeltaAlpha] \\begin{tabular}{lllllllllllllllllllllllllllllllllllllllllllllllllllllllllll}\n",
       " pdeltaA.1 & pdeltaA.2 & pdeltaA.3 & pdeltaA.4 & pdeltaA.5 & pdeltaA.6 & pdeltaA.7 & pdeltaA.8 & pdeltaA.9 & pdeltaA.10 & ⋯ & pdeltaA.50 & pdeltaA.51 & pdeltaA.52 & pdeltaA.53 & pdeltaA.54 & pdeltaA.55 & pdeltaA.56 & pdeltaA.57 & pdeltaA.58 & pdeltaA.59\\\\\n",
       "\\hline\n",
       "\t 1.0000000 & 1.0000000 & 1.0000000 & 1.0000000 & 1.0000000 & 1.0000000 & 1.0000000 & 1.0000000 & 1.0000000 & 1.0000000 & ⋯         & 1.0000000 & 1.0000000 & 1.0000000 & 1.0000000 & 1.0000000 & 1.0000000 & 1.0000000 & 1.0000000 & 1.0000000 & 1.0000000\\\\\n",
       "\t 0.7557678 & 0.8169478 & 0.8039208 & 0.8039207 & 0.8034432 & 0.8039207 & 0.8039207 & 0.8039207 & 0.8034432 & 0.8039207 & ⋯         & 0.6451147 & 0.7634704 & 0.7634618 & 0.7796071 & 0.7796071 & 0.7796074 & 0.7769605 & 0.7776254 & 0.7984925 & 0.7986702\\\\\n",
       "\t 0.5768714 & 0.5676096 & 0.6386940 & 0.6396920 & 0.6375581 & 0.6375581 & 0.6375581 & 0.6396793 & 0.6396920 & 0.6386940 & ⋯         & 0.9889703 & 0.9246102 & 0.6355516 & 0.6006895 & 0.6004827 & 0.6004827 & 0.6246974 & 0.6262387 & 0.6395435 & 0.6395951\\\\\n",
       "\t 0.4321657 & 0.3849200 & 0.4925015 & 0.4879574 & 0.4904482 & 0.4925124 & 0.4887244 & 0.4941556 & 0.4873296 & 0.4887244 & ⋯         & 0.5566689 & 0.4600381 & 0.4600381 & 0.4642683 & 0.4718956 & 0.4642683 & 0.4829502 & 0.4960748 & 0.9168845 & 0.9173156\\\\\n",
       "\t 0.3004501 & 0.3141652 & 0.4351654 & 0.3877059 & 0.4351654 & 0.3618674 & 0.4351658 & 0.4351652 & 0.3760891 & 0.9280171 & ⋯         & 0.3137099 & 0.3390405 & 0.5961997 & 0.3578291 & 0.4195994 & 0.4455667 & 0.3626331 & 0.3628310 & 0.4268017 & 0.4512680\\\\\n",
       "\t 0.1810761 & 0.4388234 & 0.2806875 & 0.2806876 & 0.2543118 & 0.2806876 & 0.2806638 & 0.2806875 & 0.2749235 & 0.2749235 & ⋯         & 0.5242154 & 0.3596590 & 0.3733660 & 0.4245175 & 0.3394634 & 0.3388906 & 0.4395430 & 0.3206879 & 0.4033212 & 0.3675939\\\\\n",
       "\t 0.6336520 & 0.2142168 & 0.2333481 & 0.2373214 & 0.2328831 & 0.2353866 & 0.2306176 & 0.2220592 & 0.2353866 & 0.2220592 & ⋯         & 0.3739105 & 0.9988921 & 0.3557666 & 0.2115050 & 0.1918769 & 0.2115050 & 0.2086099 & 0.2164999 & 0.2539166 & 0.2620525\\\\\n",
       "\t 0.1886888 & 0.1878193 & 0.2453947 & 0.2478959 & 0.2443568 & 0.2478959 & 0.2502806 & 0.2502806 & 0.2502806 & 0.2502806 & ⋯         & 0.2280279 & 0.1564782 & 0.2181374 & 0.7005140 & 0.2985138 & 0.2911831 & 0.2040210 & 0.2093484 & 0.3164191 & 0.3188503\\\\\n",
       "\\end{tabular}\n",
       "\n",
       "\\end{description}\n"
      ],
      "text/markdown": [
       "$alpha\n",
       ":   \n",
       "| alpha.0 | alpha.1 | alpha.2 | alpha.3 | alpha.4 | alpha.5 | alpha.6 | alpha.7 | alpha.8 | alpha.9 | ⋯ | alpha.50 | alpha.51 | alpha.52 | alpha.53 | alpha.54 | alpha.55 | alpha.56 | alpha.57 | alpha.58 | alpha.59 |\n",
       "|---|---|---|---|---|---|---|---|---|---|---|---|---|---|---|---|---|---|---|---|---|\n",
       "| -0.0252518542 | -1.7665745    |  1.6120074    | -0.3948854    |  0.4565698    |  0.2425785    | -0.8092669    | -1.0030502    |  2.3954637    |  0.4602667    | ⋯             |  0.5335080    |  0.01634485   |  0.5814829    |  0.4946527    | -1.34048820   | 1.1488151     | -0.22614725   |  0.2293970    | -0.1564463    |  0.2864377    |\n",
       "|  0.0033881734 | -0.8420072    |  0.4435998    | -2.8966846    | -0.1940203    |  0.1539358    | -0.2427303    | -0.9475327    | -0.5695298    |  0.0000000    | ⋯             |  0.2605585    |  0.68082006   | -1.1227716    |  0.0000000    |  0.59749111   | 0.1807795     | -0.28951579   | -0.7903163    | -0.8129027    |  0.5611303    |\n",
       "|  0.0399952188 |  0.6378380    | -0.3209207    |  0.0000000    |  0.0000000    | -0.5919549    |  0.2091963    | -0.1734753    | -0.2217359    |  0.5463862    | ⋯             | -0.4453246    | -1.20630500   |  0.0000000    | -0.7083775    |  0.01688112   | 0.0000000     |  0.03370242   |  1.2561097    | -0.9307225    | -1.0977128    |\n",
       "|  0.0115263602 | -0.6055566    |  0.0000000    |  0.0000000    |  0.0000000    |  0.0000000    |  0.0000000    |  0.0000000    |  0.0000000    |  0.0000000    | ⋯             |  0.0000000    | -0.08834737   | -0.9068963    |  0.0000000    |  0.00000000   | 0.0000000     |  0.00000000   | -0.4516599    | -2.2563741    | -1.4160819    |\n",
       "|  0.0048777583 |  0.0000000    |  0.0000000    |  0.0000000    |  0.0000000    | -0.2365425    |  0.0000000    |  0.0000000    |  0.0000000    |  0.0000000    | ⋯             |  0.4170449    |  0.00000000   | -0.8719510    |  0.0000000    |  0.31577137   | 0.0000000     | -0.62599621   |  0.0000000    |  0.0000000    |  0.0000000    |\n",
       "|  0.0037599214 |  0.0000000    |  0.0000000    |  0.0000000    |  0.0000000    |  0.0000000    |  0.0000000    |  0.0000000    |  0.0000000    | -0.2009508    | ⋯             |  0.0000000    | -1.66274258   |  0.0000000    |  0.0000000    |  0.00000000   | 0.0000000     | -0.63268368   |  1.3065045    | -1.2901685    |  0.0000000    |\n",
       "| -0.0078225405 |  0.0000000    | -0.3196419    |  0.0000000    |  0.0000000    |  0.6915492    |  0.0000000    |  0.2305308    |  0.0000000    |  1.1854659    | ⋯             |  0.0000000    | -1.24505488   |  0.0000000    |  0.0000000    |  0.00000000   | 0.0000000     |  0.00000000   |  0.0000000    |  0.3578740    | -1.6534579    |\n",
       "|  0.0009612315 |  0.0000000    |  0.0000000    |  0.0000000    | -0.1486452    |  0.0000000    |  0.0000000    |  0.5489134    | -1.0797960    |  0.0000000    | ⋯             |  0.0000000    |  0.00000000   |  0.0000000    | -1.4560184    |  0.00000000   | 0.0000000     | -0.05249286   |  0.0000000    |  0.0000000    |  0.0000000    |\n",
       "\n",
       "\n",
       "$pdeltaAlpha\n",
       ":   \n",
       "| pdeltaA.1 | pdeltaA.2 | pdeltaA.3 | pdeltaA.4 | pdeltaA.5 | pdeltaA.6 | pdeltaA.7 | pdeltaA.8 | pdeltaA.9 | pdeltaA.10 | ⋯ | pdeltaA.50 | pdeltaA.51 | pdeltaA.52 | pdeltaA.53 | pdeltaA.54 | pdeltaA.55 | pdeltaA.56 | pdeltaA.57 | pdeltaA.58 | pdeltaA.59 |\n",
       "|---|---|---|---|---|---|---|---|---|---|---|---|---|---|---|---|---|---|---|---|---|\n",
       "| 1.0000000 | 1.0000000 | 1.0000000 | 1.0000000 | 1.0000000 | 1.0000000 | 1.0000000 | 1.0000000 | 1.0000000 | 1.0000000 | ⋯         | 1.0000000 | 1.0000000 | 1.0000000 | 1.0000000 | 1.0000000 | 1.0000000 | 1.0000000 | 1.0000000 | 1.0000000 | 1.0000000 |\n",
       "| 0.7557678 | 0.8169478 | 0.8039208 | 0.8039207 | 0.8034432 | 0.8039207 | 0.8039207 | 0.8039207 | 0.8034432 | 0.8039207 | ⋯         | 0.6451147 | 0.7634704 | 0.7634618 | 0.7796071 | 0.7796071 | 0.7796074 | 0.7769605 | 0.7776254 | 0.7984925 | 0.7986702 |\n",
       "| 0.5768714 | 0.5676096 | 0.6386940 | 0.6396920 | 0.6375581 | 0.6375581 | 0.6375581 | 0.6396793 | 0.6396920 | 0.6386940 | ⋯         | 0.9889703 | 0.9246102 | 0.6355516 | 0.6006895 | 0.6004827 | 0.6004827 | 0.6246974 | 0.6262387 | 0.6395435 | 0.6395951 |\n",
       "| 0.4321657 | 0.3849200 | 0.4925015 | 0.4879574 | 0.4904482 | 0.4925124 | 0.4887244 | 0.4941556 | 0.4873296 | 0.4887244 | ⋯         | 0.5566689 | 0.4600381 | 0.4600381 | 0.4642683 | 0.4718956 | 0.4642683 | 0.4829502 | 0.4960748 | 0.9168845 | 0.9173156 |\n",
       "| 0.3004501 | 0.3141652 | 0.4351654 | 0.3877059 | 0.4351654 | 0.3618674 | 0.4351658 | 0.4351652 | 0.3760891 | 0.9280171 | ⋯         | 0.3137099 | 0.3390405 | 0.5961997 | 0.3578291 | 0.4195994 | 0.4455667 | 0.3626331 | 0.3628310 | 0.4268017 | 0.4512680 |\n",
       "| 0.1810761 | 0.4388234 | 0.2806875 | 0.2806876 | 0.2543118 | 0.2806876 | 0.2806638 | 0.2806875 | 0.2749235 | 0.2749235 | ⋯         | 0.5242154 | 0.3596590 | 0.3733660 | 0.4245175 | 0.3394634 | 0.3388906 | 0.4395430 | 0.3206879 | 0.4033212 | 0.3675939 |\n",
       "| 0.6336520 | 0.2142168 | 0.2333481 | 0.2373214 | 0.2328831 | 0.2353866 | 0.2306176 | 0.2220592 | 0.2353866 | 0.2220592 | ⋯         | 0.3739105 | 0.9988921 | 0.3557666 | 0.2115050 | 0.1918769 | 0.2115050 | 0.2086099 | 0.2164999 | 0.2539166 | 0.2620525 |\n",
       "| 0.1886888 | 0.1878193 | 0.2453947 | 0.2478959 | 0.2443568 | 0.2478959 | 0.2502806 | 0.2502806 | 0.2502806 | 0.2502806 | ⋯         | 0.2280279 | 0.1564782 | 0.2181374 | 0.7005140 | 0.2985138 | 0.2911831 | 0.2040210 | 0.2093484 | 0.3164191 | 0.3188503 |\n",
       "\n",
       "\n",
       "\n",
       "\n"
      ],
      "text/plain": [
       "$alpha\n",
       "           alpha.0    alpha.1    alpha.2    alpha.3    alpha.4    alpha.5\n",
       "[1,] -0.0252518542 -1.7665745  1.6120074 -0.3948854  0.4565698  0.2425785\n",
       "[2,]  0.0033881734 -0.8420072  0.4435998 -2.8966846 -0.1940203  0.1539358\n",
       "[3,]  0.0399952188  0.6378380 -0.3209207  0.0000000  0.0000000 -0.5919549\n",
       "[4,]  0.0115263602 -0.6055566  0.0000000  0.0000000  0.0000000  0.0000000\n",
       "[5,]  0.0048777583  0.0000000  0.0000000  0.0000000  0.0000000 -0.2365425\n",
       "[6,]  0.0037599214  0.0000000  0.0000000  0.0000000  0.0000000  0.0000000\n",
       "[7,] -0.0078225405  0.0000000 -0.3196419  0.0000000  0.0000000  0.6915492\n",
       "[8,]  0.0009612315  0.0000000  0.0000000  0.0000000 -0.1486452  0.0000000\n",
       "        alpha.6    alpha.7    alpha.8    alpha.9   alpha.10    alpha.11\n",
       "[1,] -0.8092669 -1.0030502  2.3954637  0.4602667  0.2334358 -1.08758831\n",
       "[2,] -0.2427303 -0.9475327 -0.5695298  0.0000000  0.8486145  1.68046970\n",
       "[3,]  0.2091963 -0.1734753 -0.2217359  0.5463862  0.1544392 -0.77634975\n",
       "[4,]  0.0000000  0.0000000  0.0000000  0.0000000 -0.7943170 -0.03327152\n",
       "[5,]  0.0000000  0.0000000  0.0000000  0.0000000 -1.0882356  0.00000000\n",
       "[6,]  0.0000000  0.0000000  0.0000000 -0.2009508  0.0000000  0.00000000\n",
       "[7,]  0.0000000  0.2305308  0.0000000  1.1854659  0.0000000 -0.12083415\n",
       "[8,]  0.0000000  0.5489134 -1.0797960  0.0000000  0.0000000  0.00000000\n",
       "        alpha.12   alpha.13    alpha.14   alpha.15    alpha.16   alpha.17\n",
       "[1,] -1.14058734 -0.3590586  1.41917613  0.1378317  0.03134409  1.0205611\n",
       "[2,] -1.29044812  0.5816429  0.29140379  0.8028698 -0.64157957  2.2440642\n",
       "[3,]  0.02484422  0.0000000 -0.11816234  0.0000000  0.00000000  1.4063809\n",
       "[4,]  0.00000000  0.0000000  0.57194497 -0.3736421  0.70096041 -0.4895704\n",
       "[5,]  0.00000000  0.0000000  0.00000000  0.0000000  0.00000000  0.0000000\n",
       "[6,]  0.00000000  0.2214427 -0.03235160 -0.8662243  0.00000000  0.0000000\n",
       "[7,]  0.00000000  0.0000000 -1.35243430  0.0000000  0.00000000  0.0000000\n",
       "[8,]  0.00000000  0.6564266 -0.03350788  0.0000000 -0.80341444  0.0000000\n",
       "      alpha.18   alpha.19 alpha.20   alpha.21   alpha.22   alpha.23  alpha.24\n",
       "[1,] 1.4681211 -1.9384663 1.481744 -1.0018213  1.5248563 -0.4040932 0.7291965\n",
       "[2,] 0.2580062 -1.0214453 0.000000  0.4008049 -0.3104223  0.0000000 1.3266222\n",
       "[3,] 0.8177708 -0.3545648 0.000000  0.3850650 -1.2833889 -1.5024446 0.0000000\n",
       "[4,] 0.0000000  0.6476037 0.000000  0.1675653  0.5483413 -1.5472344 0.2441002\n",
       "[5,] 2.2547717 -1.3967295 0.000000  0.0000000  0.0000000  0.0000000 0.7380977\n",
       "[6,] 0.2268945 -1.6462897 0.000000  0.0000000  0.0000000  0.0000000 0.0000000\n",
       "[7,] 0.0000000  0.0000000 0.000000  0.8733481 -1.4095664  0.0000000 0.0000000\n",
       "[8,] 0.0000000 -0.6524533 0.000000  0.0000000  0.0000000  0.0000000 0.0000000\n",
       "       alpha.25   alpha.26    alpha.27   alpha.28   alpha.29   alpha.30\n",
       "[1,] -1.0977644 -0.2937776  0.06450783 -0.2983262 -1.1029754 -0.2254106\n",
       "[2,]  0.0000000  0.0000000 -1.74668741  0.6983150  0.0000000  1.8909897\n",
       "[3,] -0.4689231  0.4334029  0.31739974 -0.3395656 -0.4147878 -0.4877125\n",
       "[4,]  0.1223030  0.0000000  1.06307542  1.1939366  0.0000000  0.0000000\n",
       "[5,]  0.0000000  0.0000000  0.00000000  0.0000000  0.0000000  0.0000000\n",
       "[6,]  1.1188791  0.8018154  0.00000000  0.0000000 -1.4121311  0.0000000\n",
       "[7,]  0.0000000  0.0000000  0.00000000  1.7376447  0.0000000  0.0000000\n",
       "[8,]  0.0000000  0.0000000  0.00000000  1.1394058  0.0000000  0.1244709\n",
       "       alpha.31   alpha.32    alpha.33   alpha.34    alpha.35    alpha.36\n",
       "[1,]  0.1975017  1.6039271  0.04557332  0.9242105 -0.08864058  0.05536396\n",
       "[2,]  0.2143200 -0.8259246  0.00000000 -1.0149266 -0.97274169  0.07229548\n",
       "[3,]  1.6554317  0.0000000  0.00000000 -1.0743340  0.00000000  0.10752629\n",
       "[4,]  0.1355248 -0.6720931 -0.86317011  0.4100139  0.00000000  0.00000000\n",
       "[5,]  0.0000000  0.1898514  0.00000000 -1.0615035  0.00000000  0.00000000\n",
       "[6,]  0.0000000  0.0000000  1.19303947  0.0000000  0.00000000  0.00000000\n",
       "[7,] -1.0502025  0.0000000  0.00000000  0.0000000  0.00000000  0.00000000\n",
       "[8,]  0.0000000  0.0000000  0.00000000  0.0000000  0.00000000 -0.57005342\n",
       "       alpha.37   alpha.38   alpha.39   alpha.40    alpha.41   alpha.42\n",
       "[1,]  0.3948838  1.1161315 -1.3112385 -0.1200224 -0.60058192 -0.6422041\n",
       "[2,] -0.2263480  0.4362842 -0.9599791  0.5632629  0.02473987  0.0000000\n",
       "[3,]  0.0000000 -0.9896070  0.3955084  1.8370258 -0.76538345  0.0000000\n",
       "[4,]  0.1123193 -0.9538088  0.0000000  0.7590537  0.00000000 -0.5302881\n",
       "[5,]  0.0000000  0.0000000  0.0000000  0.0000000 -0.74365142  0.8667591\n",
       "[6,] -1.2006500  0.0000000  0.9294673  0.0000000  0.00000000  0.0000000\n",
       "[7,]  0.0000000  0.0000000  0.0000000  0.0000000  0.00000000  0.0000000\n",
       "[8,]  0.0000000  0.0000000  0.0000000  0.2325656  0.73530086  0.0000000\n",
       "       alpha.43   alpha.44    alpha.45    alpha.46   alpha.47    alpha.48\n",
       "[1,]  0.8769928  2.2148546 -1.07329365 -0.08918387 -1.9094018  0.81056926\n",
       "[2,] -0.5932002  1.1681240 -0.07470084 -0.03821477 -0.2798423 -0.84202439\n",
       "[3,]  1.5175225  0.4998845 -1.17291988 -0.64968752  0.0000000  0.92518736\n",
       "[4,]  0.0000000  0.7532073  0.00000000 -0.87790424  0.0000000  0.00000000\n",
       "[5,]  0.5839910  0.0000000 -0.29010874  0.00000000  0.2078081 -0.34448457\n",
       "[6,]  0.0000000  0.1483989  0.00000000 -0.41023559 -1.4640115  0.00000000\n",
       "[7,]  0.0000000 -0.3437639  0.00000000  0.00000000  0.0000000  0.00000000\n",
       "[8,]  0.0000000 -0.3780702  0.00000000  0.00000000  0.0000000 -0.05852335\n",
       "        alpha.49   alpha.50    alpha.51   alpha.52   alpha.53    alpha.54\n",
       "[1,] -0.61933593  0.5335080  0.01634485  0.5814829  0.4946527 -1.34048820\n",
       "[2,]  0.00000000  0.2605585  0.68082006 -1.1227716  0.0000000  0.59749111\n",
       "[3,]  1.62920105 -0.4453246 -1.20630500  0.0000000 -0.7083775  0.01688112\n",
       "[4,]  1.07489211  0.0000000 -0.08834737 -0.9068963  0.0000000  0.00000000\n",
       "[5,] -0.02377204  0.4170449  0.00000000 -0.8719510  0.0000000  0.31577137\n",
       "[6,]  2.14529893  0.0000000 -1.66274258  0.0000000  0.0000000  0.00000000\n",
       "[7,]  1.24685180  0.0000000 -1.24505488  0.0000000  0.0000000  0.00000000\n",
       "[8,]  0.64445067  0.0000000  0.00000000  0.0000000 -1.4560184  0.00000000\n",
       "      alpha.55    alpha.56   alpha.57   alpha.58   alpha.59\n",
       "[1,] 1.1488151 -0.22614725  0.2293970 -0.1564463  0.2864377\n",
       "[2,] 0.1807795 -0.28951579 -0.7903163 -0.8129027  0.5611303\n",
       "[3,] 0.0000000  0.03370242  1.2561097 -0.9307225 -1.0977128\n",
       "[4,] 0.0000000  0.00000000 -0.4516599 -2.2563741 -1.4160819\n",
       "[5,] 0.0000000 -0.62599621  0.0000000  0.0000000  0.0000000\n",
       "[6,] 0.0000000 -0.63268368  1.3065045 -1.2901685  0.0000000\n",
       "[7,] 0.0000000  0.00000000  0.0000000  0.3578740 -1.6534579\n",
       "[8,] 0.0000000 -0.05249286  0.0000000  0.0000000  0.0000000\n",
       "\n",
       "$pdeltaAlpha\n",
       "     pdeltaA.1 pdeltaA.2 pdeltaA.3 pdeltaA.4 pdeltaA.5 pdeltaA.6 pdeltaA.7\n",
       "[1,] 1.0000000 1.0000000 1.0000000 1.0000000 1.0000000 1.0000000 1.0000000\n",
       "[2,] 0.7557678 0.8169478 0.8039208 0.8039207 0.8034432 0.8039207 0.8039207\n",
       "[3,] 0.5768714 0.5676096 0.6386940 0.6396920 0.6375581 0.6375581 0.6375581\n",
       "[4,] 0.4321657 0.3849200 0.4925015 0.4879574 0.4904482 0.4925124 0.4887244\n",
       "[5,] 0.3004501 0.3141652 0.4351654 0.3877059 0.4351654 0.3618674 0.4351658\n",
       "[6,] 0.1810761 0.4388234 0.2806875 0.2806876 0.2543118 0.2806876 0.2806638\n",
       "[7,] 0.6336520 0.2142168 0.2333481 0.2373214 0.2328831 0.2353866 0.2306176\n",
       "[8,] 0.1886888 0.1878193 0.2453947 0.2478959 0.2443568 0.2478959 0.2502806\n",
       "     pdeltaA.8 pdeltaA.9 pdeltaA.10 pdeltaA.11 pdeltaA.12 pdeltaA.13 pdeltaA.14\n",
       "[1,] 1.0000000 1.0000000  1.0000000  1.0000000  1.0000000  1.0000000  1.0000000\n",
       "[2,] 0.8039207 0.8034432  0.8039207  0.8037136  0.8039207  0.8039207  0.7736987\n",
       "[3,] 0.6396793 0.6396920  0.6386940  0.6396791  0.6386940  0.6396791  0.6169686\n",
       "[4,] 0.4941556 0.4873296  0.4887244  0.4873296  0.4871244  0.4925015  0.4198060\n",
       "[5,] 0.4351652 0.3760891  0.9280171  0.4374423  0.3617438  0.3760630  0.3119738\n",
       "[6,] 0.2806875 0.2749235  0.2749235  0.2751026  0.2806638  0.2543118  0.6514121\n",
       "[7,] 0.2220592 0.2353866  0.2220592  0.2353866  0.2220592  0.2353866  0.2244982\n",
       "[8,] 0.2502806 0.2502806  0.2502806  0.2453947  0.2518433  0.2443568  0.3943193\n",
       "     pdeltaA.15 pdeltaA.16 pdeltaA.17 pdeltaA.18 pdeltaA.19 pdeltaA.20\n",
       "[1,]  1.0000000  1.0000000  1.0000000  1.0000000  1.0000000  1.0000000\n",
       "[2,]  0.7736957  0.9505607  0.9273582  0.9272706  0.9283726  0.7839262\n",
       "[3,]  0.6162697  0.7431936  0.8836455  0.8649828  0.9421684  0.5361744\n",
       "[4,]  0.4554144  0.6013414  0.4606753  0.4712622  0.7097328  0.4015170\n",
       "[5,]  0.1877464  0.8998329  0.8055294  0.8091287  0.4810725  0.3081232\n",
       "[6,]  0.2775261  0.1610580  0.2977037  0.4685762  0.9999895  0.3894404\n",
       "[7,]  0.2243854  0.3638262  0.1923796  0.1912766  0.5701764  0.1392130\n",
       "[8,]  0.2264202  0.9474289  0.1594330  0.5680561  0.7929499  0.1581266\n",
       "     pdeltaA.21 pdeltaA.22 pdeltaA.23 pdeltaA.24 pdeltaA.25 pdeltaA.26\n",
       "[1,]  1.0000000  1.0000000  1.0000000  1.0000000  1.0000000  1.0000000\n",
       "[2,]  0.7855947  0.7855942  0.9274676  0.8015822  0.8020907  0.8016995\n",
       "[3,]  0.6135931  0.6305080  0.9421654  0.6381848  0.6346344  0.6381935\n",
       "[4,]  0.4595271  0.4595297  0.7093135  0.4915240  0.4929504  0.4949813\n",
       "[5,]  0.3397630  0.2679035  0.4122121  0.3698240  0.3543408  0.3650934\n",
       "[6,]  0.1941061  0.1969218  0.8473338  0.4082590  0.4108246  0.3332949\n",
       "[7,]  0.3004661  0.8460765  0.2147873  0.2306099  0.2628794  0.2306087\n",
       "[8,]  0.2270201  0.2011490  0.4306249  0.2702563  0.2702563  0.2702563\n",
       "     pdeltaA.27 pdeltaA.28 pdeltaA.29 pdeltaA.30 pdeltaA.31 pdeltaA.32\n",
       "[1,]  1.0000000  1.0000000  1.0000000  1.0000000  1.0000000  1.0000000\n",
       "[2,]  0.8016995  0.8030480  0.6606945  0.8015822  0.8030480  0.8015822\n",
       "[3,]  0.6370181  0.6346344  0.4698964  0.6370181  0.6370181  0.6370067\n",
       "[4,]  0.4930226  0.4929503  0.3869787  0.4941938  0.4897995  0.4941627\n",
       "[5,]  0.3650934  0.3616628  0.3026364  0.3543349  0.3696271  0.3581405\n",
       "[6,]  0.3655954  0.3333032  0.9993477  0.4072354  0.3656967  0.4082590\n",
       "[7,]  0.2329313  0.2306086  0.6179206  0.2306099  0.2293451  0.2628794\n",
       "[8,]  0.2702563  0.3121315  0.1671125  0.2698695  0.2698695  0.2698695\n",
       "     pdeltaA.33 pdeltaA.34 pdeltaA.35 pdeltaA.36 pdeltaA.37 pdeltaA.38\n",
       "[1,]  1.0000000  1.0000000  1.0000000  1.0000000  1.0000000  1.0000000\n",
       "[2,]  0.8015822  0.7986052  0.7985721  0.7985721  0.7985448  0.7985603\n",
       "[3,]  0.6381935  0.6285927  0.6346802  0.6285927  0.6360922  0.6360688\n",
       "[4,]  0.4929504  0.4712623  0.4766911  0.4766911  0.4673354  0.4676724\n",
       "[5,]  0.3677741  0.3196946  0.3499143  0.3865054  0.3524744  0.4234575\n",
       "[6,]  0.4082590  0.2065107  0.2064263  0.2771987  0.2603150  0.2065108\n",
       "[7,]  0.2306086  0.2167944  0.2223189  0.2454134  0.2454134  0.2162478\n",
       "[8,]  0.2733318  0.2320188  0.2320188  0.4647206  0.2320190  0.2331481\n",
       "     pdeltaA.39 pdeltaA.40 pdeltaA.41 pdeltaA.42 pdeltaA.43 pdeltaA.44\n",
       "[1,]  1.0000000  1.0000000  1.0000000  1.0000000  1.0000000  1.0000000\n",
       "[2,]  0.7985813  0.7847205  0.7260114  0.7089383  0.8067951  0.8067978\n",
       "[3,]  0.6360764  0.9809718  0.5606846  0.6654637  0.7984824  0.7983135\n",
       "[4,]  0.4673341  0.7894386  0.4147259  0.5427725  0.6022333  0.6011272\n",
       "[5,]  0.4234574  0.7631094  0.7181786  0.9729662  0.5061374  0.4356053\n",
       "[6,]  0.2065414  0.6118411  0.1918084  0.1300585  0.3545956  0.3512048\n",
       "[7,]  0.2104883  0.1911101  0.1164206  0.2214081  0.2228217  0.2049222\n",
       "[8,]  0.2320188  0.1657697  0.6568202  0.1775109  0.3626180  0.7358212\n",
       "     pdeltaA.45 pdeltaA.46 pdeltaA.47 pdeltaA.48 pdeltaA.49 pdeltaA.50\n",
       "[1,]  1.0000000  1.0000000  1.0000000  1.0000000  1.0000000  1.0000000\n",
       "[2,]  0.8126744  0.7990149  0.7991949  0.7991949  0.7548066  0.6451147\n",
       "[3,]  0.6496707  0.6483444  0.6404805  0.6496707  0.6368925  0.9889703\n",
       "[4,]  0.4994799  0.9709379  0.4994799  0.5307900  0.9994392  0.5566689\n",
       "[5,]  0.3428778  0.3535019  0.3535019  0.3206340  0.2008536  0.3137099\n",
       "[6,]  0.3755465  0.3761473  0.5436159  0.3753504  0.9999999  0.5242154\n",
       "[7,]  0.2380947  0.2373689  0.6639105  0.2380947  0.9999916  0.3739105\n",
       "[8,]  0.2427316  0.2599018  0.2378410  0.6611786  0.2161619  0.2280279\n",
       "     pdeltaA.51 pdeltaA.52 pdeltaA.53 pdeltaA.54 pdeltaA.55 pdeltaA.56\n",
       "[1,]  1.0000000  1.0000000  1.0000000  1.0000000  1.0000000  1.0000000\n",
       "[2,]  0.7634704  0.7634618  0.7796071  0.7796071  0.7796074  0.7769605\n",
       "[3,]  0.9246102  0.6355516  0.6006895  0.6004827  0.6004827  0.6246974\n",
       "[4,]  0.4600381  0.4600381  0.4642683  0.4718956  0.4642683  0.4829502\n",
       "[5,]  0.3390405  0.5961997  0.3578291  0.4195994  0.4455667  0.3626331\n",
       "[6,]  0.3596590  0.3733660  0.4245175  0.3394634  0.3388906  0.4395430\n",
       "[7,]  0.9988921  0.3557666  0.2115050  0.1918769  0.2115050  0.2086099\n",
       "[8,]  0.1564782  0.2181374  0.7005140  0.2985138  0.2911831  0.2040210\n",
       "     pdeltaA.57 pdeltaA.58 pdeltaA.59\n",
       "[1,]  1.0000000  1.0000000  1.0000000\n",
       "[2,]  0.7776254  0.7984925  0.7986702\n",
       "[3,]  0.6262387  0.6395435  0.6395951\n",
       "[4,]  0.4960748  0.9168845  0.9173156\n",
       "[5,]  0.3628310  0.4268017  0.4512680\n",
       "[6,]  0.3206879  0.4033212  0.3675939\n",
       "[7,]  0.2164999  0.2539166  0.2620525\n",
       "[8,]  0.2093484  0.3164191  0.3188503\n"
      ]
     },
     "metadata": {},
     "output_type": "display_data"
    }
   ],
   "source": [
    "Filter(Negate(is.null), res_mu0$samplesL)"
   ]
  },
  {
   "cell_type": "code",
   "execution_count": 200,
   "metadata": {},
   "outputs": [
    {
     "data": {
      "text/html": [
       "0.714596997672817"
      ],
      "text/latex": [
       "0.714596997672817"
      ],
      "text/markdown": [
       "0.714596997672817"
      ],
      "text/plain": [
       "[1] 0.714597"
      ]
     },
     "metadata": {},
     "output_type": "display_data"
    }
   ],
   "source": [
    "mean(res_mu0$samplesL$pdeltaAlpha[3:8,2])"
   ]
  },
  {
   "cell_type": "code",
   "execution_count": 201,
   "metadata": {},
   "outputs": [
    {
     "data": {
      "text/plain": [
       "Bayesian variable selection for the logit model:\n",
       "\n",
       "Call:\n",
       "logitBvs(y = y, N = N, X = X, prior = list(slab = \"Normal\", aj0 = aj0_tmp, \n",
       "    V = var, w = c(wa0 = 1.412, wb0 = 10), pi = c(pa0 = 1, pb0 = 1)), \n",
       "    mcmc = list(M = 6, burnin = 2, startsel = 1, msave = TRUE), \n",
       "    BVS = TRUE)\n",
       "\n",
       "\n",
       "MCMC:\n",
       "M = 6 draws after a burn-in of 2\n",
       "BVS started after 1 iterations\n",
       "Thinning parameter: 1\n",
       "\n",
       "Prior:  spike-and-slab prior with Normal slab [V=0.711745609189383]\n",
       "\n",
       " a0[0]  a0[1]  a0[2]  a0[3]  a0[4]  a0[5]  a0[6]  a0[7]  a0[8]  a0[9] a0[10] \n",
       "     0      0      0      0      0      0      0      0      0      0      0 \n",
       "a0[11] a0[12] a0[13] a0[14] a0[15] a0[16] a0[17] a0[18] a0[19] a0[20] a0[21] \n",
       "     0      0      0      0      0      0      0      0      0      0      0 \n",
       "a0[22] a0[23] a0[24] a0[25] a0[26] a0[27] a0[28] a0[29] a0[30] a0[31] a0[32] \n",
       "     0      0      0      0      0      0      0      0      0      0      0 \n",
       "a0[33] a0[34] a0[35] a0[36] a0[37] a0[38] a0[39] a0[40] a0[41] a0[42] a0[43] \n",
       "     0      0      0      0      0      0      0      0      0      0      0 \n",
       "a0[44] a0[45] a0[46] a0[47] a0[48] a0[49] a0[50] a0[51] a0[52] a0[53] a0[54] \n",
       "     0      0      0      0      0      0      0      0      0      0      0 \n",
       "a0[55] a0[56] a0[57] a0[58] a0[59] \n",
       "     0      0      0      0      0 \n",
       "  w[a]   w[b]  pi[a]  pi[b] \n",
       " 1.412 10.000  1.000  1.000 \n",
       "\n",
       "\n",
       "Model averaged posterior means, estimated posterior inclusion\n",
       " probabilities and 95%-HPD intervals:\n",
       "\n",
       "            Estimate P(.=1) 95%-HPD[l] 95%-HPD[u]\n",
       "(Intercept)   -0.014     NA     -0.055      0.022\n",
       "alpha.1        0.037  0.567     -0.343      0.541\n",
       "alpha.2        0.257  0.715     -0.623      1.431\n",
       "alpha.3       -0.131  0.561     -1.382      1.048\n",
       "alpha.4        0.027  0.565      0.000      0.159\n",
       "alpha.5       -0.230  0.562     -0.701      0.000\n",
       "alpha.6       -0.096  0.564     -0.434      0.000\n",
       "alpha.7        0.208  0.563     -0.964      1.251\n",
       "alpha.8       -0.171  0.563     -1.476      1.127\n",
       "alpha.9       -0.145  0.564     -0.869      0.000\n",
       "alpha.10       0.180  0.563     -0.310      0.936\n",
       "alpha.11       0.255  0.562      0.000      0.816\n",
       "alpha.12      -0.273  0.562     -1.117      0.762\n",
       "alpha.13      -0.205  0.564     -1.694      1.129\n",
       "alpha.14       0.316  0.464     -0.374      1.312\n",
       "alpha.15      -0.156  0.532     -0.670      0.000\n",
       "alpha.16      -0.514  0.706     -0.961      0.000\n",
       "alpha.17       0.481  0.592      0.000      1.208\n",
       "alpha.18       0.655  0.614     -0.170      1.167\n",
       "alpha.19      -0.790  0.730     -1.769      0.308\n",
       "alpha.20       0.530  0.744     -0.205      1.720\n",
       "alpha.21       0.046  0.532     -0.245      0.520\n",
       "alpha.22      -0.168  0.549     -0.769      0.000\n",
       "alpha.23      -0.611  0.735     -1.483      0.467\n",
       "alpha.24       0.066  0.565     -0.295      0.521\n",
       "alpha.25       0.075  0.566     -0.971      1.542\n",
       "alpha.26       0.241  0.565     -0.192      0.966\n",
       "alpha.27       0.182  0.564     -0.070      0.534\n",
       "alpha.28       0.593  0.569      0.000      1.661\n",
       "alpha.29      -0.419  0.592     -2.249      0.660\n",
       "alpha.30       0.083  0.571     -0.310      0.672\n",
       "alpha.31       0.160  0.564      0.000      0.637\n",
       "alpha.32       0.018  0.564     -0.204      0.432\n",
       "alpha.33       0.095  0.565     -0.187      0.402\n",
       "alpha.34      -0.291  0.556     -0.915      0.000\n",
       "alpha.35      -0.201  0.562     -2.077      1.027\n",
       "alpha.36      -0.614  0.554     -1.812      0.000\n",
       "alpha.37       0.050  0.556     -0.320      0.516\n",
       "alpha.38      -0.075  0.559     -0.921      0.263\n",
       "alpha.39      -0.167  0.562     -1.012      0.493\n",
       "alpha.40       0.747  0.652      0.000      2.054\n",
       "alpha.41       0.287  0.498      0.000      1.313\n",
       "alpha.42      -0.945  0.789     -1.542     -0.258\n",
       "alpha.43       0.570  0.709     -0.267      1.631\n",
       "alpha.44       0.701  0.673      0.000      1.694\n",
       "alpha.45      -0.192  0.568     -1.062      0.684\n",
       "alpha.46      -0.404  0.561     -0.886      0.692\n",
       "alpha.47      -0.145  0.557     -1.070      0.201\n",
       "alpha.48      -0.189  0.565     -1.179      0.232\n",
       "alpha.49       0.629  0.774      0.000      1.619\n",
       "alpha.50       0.076  0.555      0.000      0.341\n",
       "alpha.51      -0.161  0.593     -1.043      0.074\n",
       "alpha.52      -0.279  0.667     -1.219      0.267\n",
       "alpha.53      -0.585  0.658     -1.060      0.000\n",
       "alpha.54      -0.438  0.586     -1.425      0.000\n",
       "alpha.55      -0.095  0.620     -0.657      0.157\n",
       "alpha.56       0.321  0.622     -0.206      0.958\n",
       "alpha.57      -0.434  0.596     -1.768      0.054\n",
       "alpha.58      -0.562  0.587     -2.151      0.848\n",
       "alpha.59      -0.221  0.576     -1.886      0.575\n"
      ]
     },
     "metadata": {},
     "output_type": "display_data"
    }
   ],
   "source": [
    "summary(res_mu0)"
   ]
  },
  {
   "cell_type": "code",
   "execution_count": null,
   "metadata": {},
   "outputs": [],
   "source": []
  },
  {
   "cell_type": "code",
   "execution_count": 51,
   "metadata": {},
   "outputs": [],
   "source": [
    "tmp <- res1"
   ]
  },
  {
   "cell_type": "code",
   "execution_count": 52,
   "metadata": {},
   "outputs": [
    {
     "data": {
      "text/html": [
       "<ol class=list-inline>\n",
       "\t<li>'samplesL'</li>\n",
       "\t<li>'data'</li>\n",
       "\t<li>'model.logit'</li>\n",
       "\t<li>'mcmc'</li>\n",
       "\t<li>'prior.logit'</li>\n",
       "\t<li>'dur'</li>\n",
       "\t<li>'BVS'</li>\n",
       "\t<li>'start'</li>\n",
       "\t<li>'family'</li>\n",
       "\t<li>'call'</li>\n",
       "</ol>\n"
      ],
      "text/latex": [
       "\\begin{enumerate*}\n",
       "\\item 'samplesL'\n",
       "\\item 'data'\n",
       "\\item 'model.logit'\n",
       "\\item 'mcmc'\n",
       "\\item 'prior.logit'\n",
       "\\item 'dur'\n",
       "\\item 'BVS'\n",
       "\\item 'start'\n",
       "\\item 'family'\n",
       "\\item 'call'\n",
       "\\end{enumerate*}\n"
      ],
      "text/markdown": [
       "1. 'samplesL'\n",
       "2. 'data'\n",
       "3. 'model.logit'\n",
       "4. 'mcmc'\n",
       "5. 'prior.logit'\n",
       "6. 'dur'\n",
       "7. 'BVS'\n",
       "8. 'start'\n",
       "9. 'family'\n",
       "10. 'call'\n",
       "\n",
       "\n"
      ],
      "text/plain": [
       " [1] \"samplesL\"    \"data\"        \"model.logit\" \"mcmc\"        \"prior.logit\"\n",
       " [6] \"dur\"         \"BVS\"         \"start\"       \"family\"      \"call\"       "
      ]
     },
     "metadata": {},
     "output_type": "display_data"
    }
   ],
   "source": [
    "names(tmp)"
   ]
  },
  {
   "cell_type": "code",
   "execution_count": 53,
   "metadata": {},
   "outputs": [
    {
     "data": {
      "text/html": [
       "<ol class=list-inline>\n",
       "\t<li>'alpha'</li>\n",
       "\t<li>'pdeltaAlpha'</li>\n",
       "\t<li>'psiAlpha'</li>\n",
       "\t<li>'thetaAlpha'</li>\n",
       "\t<li>'pgammaAlpha'</li>\n",
       "\t<li>'ai'</li>\n",
       "</ol>\n"
      ],
      "text/latex": [
       "\\begin{enumerate*}\n",
       "\\item 'alpha'\n",
       "\\item 'pdeltaAlpha'\n",
       "\\item 'psiAlpha'\n",
       "\\item 'thetaAlpha'\n",
       "\\item 'pgammaAlpha'\n",
       "\\item 'ai'\n",
       "\\end{enumerate*}\n"
      ],
      "text/markdown": [
       "1. 'alpha'\n",
       "2. 'pdeltaAlpha'\n",
       "3. 'psiAlpha'\n",
       "4. 'thetaAlpha'\n",
       "5. 'pgammaAlpha'\n",
       "6. 'ai'\n",
       "\n",
       "\n"
      ],
      "text/plain": [
       "[1] \"alpha\"       \"pdeltaAlpha\" \"psiAlpha\"    \"thetaAlpha\"  \"pgammaAlpha\"\n",
       "[6] \"ai\"         "
      ]
     },
     "metadata": {},
     "output_type": "display_data"
    }
   ],
   "source": [
    "names(tmp$samplesL)"
   ]
  },
  {
   "cell_type": "code",
   "execution_count": 55,
   "metadata": {},
   "outputs": [],
   "source": [
    "bhat <- colMeans(tmp$samplesL$alpha[,-1])\n",
    "bhat1 <- colMeans(tmp$samplesL$alpha)"
   ]
  },
  {
   "cell_type": "code",
   "execution_count": 56,
   "metadata": {},
   "outputs": [],
   "source": [
    "# yhat <- exp(X %*% bhat)/(1+exp(X %*% bhat))\n",
    "yhat <- X_ori %*% bhat\n",
    "yhat1 <- X_center %*% bhat\n",
    "yhat2 <- X_intercept %*% bhat1"
   ]
  },
  {
   "cell_type": "code",
   "execution_count": 57,
   "metadata": {},
   "outputs": [
    {
     "data": {
      "text/html": [
       "-1.07900361328641"
      ],
      "text/latex": [
       "-1.07900361328641"
      ],
      "text/markdown": [
       "-1.07900361328641"
      ],
      "text/plain": [
       "[1] -1.079004"
      ]
     },
     "metadata": {},
     "output_type": "display_data"
    },
    {
     "data": {
      "text/html": [
       "1.65047347772882"
      ],
      "text/latex": [
       "1.65047347772882"
      ],
      "text/markdown": [
       "1.65047347772882"
      ],
      "text/plain": [
       "[1] 1.650473"
      ]
     },
     "metadata": {},
     "output_type": "display_data"
    },
    {
     "data": {
      "text/html": [
       "0.00129559479633665"
      ],
      "text/latex": [
       "0.00129559479633665"
      ],
      "text/markdown": [
       "0.00129559479633665"
      ],
      "text/plain": [
       "[1] 0.001295595"
      ]
     },
     "metadata": {},
     "output_type": "display_data"
    },
    {
     "data": {
      "text/html": [
       "0"
      ],
      "text/latex": [
       "0"
      ],
      "text/markdown": [
       "0"
      ],
      "text/plain": [
       "[1] 0"
      ]
     },
     "metadata": {},
     "output_type": "display_data"
    }
   ],
   "source": [
    "min(yhat); max(yhat); mean(yhat); median(yhat)"
   ]
  },
  {
   "cell_type": "code",
   "execution_count": 58,
   "metadata": {},
   "outputs": [],
   "source": [
    "b_all <- as.matrix(data.table::fread(\"/data/GIT/cnv-gene-mapping/data/deletion_simu/deletion.genes.block30.for_simu.sample.beta\"))\n",
    "b <- b_all[(block_simu[1]+1):(block_simu[2]+1)]"
   ]
  },
  {
   "cell_type": "code",
   "execution_count": 59,
   "metadata": {},
   "outputs": [],
   "source": [
    "# y <- exp(X %*% b)/(1+exp(X %*% b))\n",
    "yb <- X_ori %*% b"
   ]
  },
  {
   "cell_type": "code",
   "execution_count": 60,
   "metadata": {},
   "outputs": [
    {
     "data": {
      "text/html": [
       "0"
      ],
      "text/latex": [
       "0"
      ],
      "text/markdown": [
       "0"
      ],
      "text/plain": [
       "[1] 0"
      ]
     },
     "metadata": {},
     "output_type": "display_data"
    },
    {
     "data": {
      "text/html": [
       "0.957889221371214"
      ],
      "text/latex": [
       "0.957889221371214"
      ],
      "text/markdown": [
       "0.957889221371214"
      ],
      "text/plain": [
       "[1] 0.9578892"
      ]
     },
     "metadata": {},
     "output_type": "display_data"
    },
    {
     "data": {
      "text/html": [
       "0.00443809267985746"
      ],
      "text/latex": [
       "0.00443809267985746"
      ],
      "text/markdown": [
       "0.00443809267985746"
      ],
      "text/plain": [
       "[1] 0.004438093"
      ]
     },
     "metadata": {},
     "output_type": "display_data"
    },
    {
     "data": {
      "text/html": [
       "0"
      ],
      "text/latex": [
       "0"
      ],
      "text/markdown": [
       "0"
      ],
      "text/plain": [
       "[1] 0"
      ]
     },
     "metadata": {},
     "output_type": "display_data"
    }
   ],
   "source": [
    "min(yb); max(yb); mean(yb); median(yb)"
   ]
  },
  {
   "cell_type": "code",
   "execution_count": 63,
   "metadata": {},
   "outputs": [
    {
     "data": {
      "text/html": [
       "<table>\n",
       "<tbody>\n",
       "\t<tr><td>0.3444027</td></tr>\n",
       "</tbody>\n",
       "</table>\n"
      ],
      "text/latex": [
       "\\begin{tabular}{l}\n",
       "\t 0.3444027\\\\\n",
       "\\end{tabular}\n"
      ],
      "text/markdown": [
       "\n",
       "| 0.3444027 |\n",
       "\n"
      ],
      "text/plain": [
       "     [,1]     \n",
       "[1,] 0.3444027"
      ]
     },
     "metadata": {},
     "output_type": "display_data"
    }
   ],
   "source": [
    "cor(yb, yhat, method = \"pearson\")"
   ]
  },
  {
   "cell_type": "code",
   "execution_count": 39,
   "metadata": {},
   "outputs": [
    {
     "data": {
      "text/html": [
       "-0.111293975657849"
      ],
      "text/latex": [
       "-0.111293975657849"
      ],
      "text/markdown": [
       "-0.111293975657849"
      ],
      "text/plain": [
       "[1] -0.111294"
      ]
     },
     "metadata": {},
     "output_type": "display_data"
    }
   ],
   "source": [
    "min(yhat1[yhat1<0])"
   ]
  },
  {
   "cell_type": "code",
   "execution_count": 40,
   "metadata": {},
   "outputs": [
    {
     "data": {
      "text/plain": [
       "\n",
       "\tPearson's product-moment correlation\n",
       "\n",
       "data:  yb and yhat\n",
       "t = 874.81, df = 13410, p-value < 2.2e-16\n",
       "alternative hypothesis: true correlation is not equal to 0\n",
       "95 percent confidence interval:\n",
       " 0.9910558 0.9916388\n",
       "sample estimates:\n",
       "      cor \n",
       "0.9913522 \n"
      ]
     },
     "metadata": {},
     "output_type": "display_data"
    }
   ],
   "source": [
    "cor.test(yb, yhat, method=c(\"pearson\"))"
   ]
  },
  {
   "cell_type": "code",
   "execution_count": 26,
   "metadata": {},
   "outputs": [
    {
     "data": {
      "text/plain": [
       "Bayesian variable selection for the logit model:\n",
       "\n",
       "Call:\n",
       "logitBvs(y = y, N = N, X = X)\n",
       "\n",
       "\n",
       "MCMC:\n",
       "M = 8000 draws after a burn-in of 2000\n",
       "BVS started after 1000 iterations\n",
       "Thinning parameter: 1\n",
       "\n",
       "Prior:  spike-and-slab prior with Student-t slab [V=5]\n",
       "\n",
       " a0[0]  a0[1]  a0[2]  a0[3]  a0[4]  a0[5]  a0[6]  a0[7]  a0[8]  a0[9] a0[10] \n",
       "     0      0      0      0      0      0      0      0      0      0      0 \n",
       "a0[11] a0[12] a0[13] a0[14] \n",
       "     0      0      0      0 \n",
       " w[a]  w[b] pi[a] pi[b] \n",
       "    1     1     1     1 \n",
       "\n",
       "\n",
       "Model averaged posterior means, estimated posterior inclusion\n",
       " probabilities and 95%-HPD intervals:\n",
       "\n",
       "            Estimate P(.=1) 95%-HPD[l] 95%-HPD[u]\n",
       "(Intercept)    0.029     NA     -0.012      0.067\n",
       "alpha.1        0.216  0.512     -0.099      0.916\n",
       "alpha.2        0.426  0.543     -2.258      3.523\n",
       "alpha.3        0.458  0.541     -2.258      3.663\n",
       "alpha.4        0.448  0.541     -2.249      3.660\n",
       "alpha.5        0.446  0.542     -2.097      3.782\n",
       "alpha.6        0.449  0.544     -2.231      3.643\n",
       "alpha.7       -0.642  0.928     -1.187      0.000\n",
       "alpha.8        0.128  0.429     -0.367      0.877\n",
       "alpha.9       -0.062  0.459     -2.505      2.294\n",
       "alpha.10      -0.046  0.453     -2.346      2.549\n",
       "alpha.11      -0.060  0.456     -2.500      2.372\n",
       "alpha.12       0.235  0.505     -2.139      2.999\n",
       "alpha.13       0.269  0.497     -1.979      3.185\n",
       "alpha.14       0.278  0.503     -2.017      3.096\n"
      ]
     },
     "metadata": {},
     "output_type": "display_data"
    }
   ],
   "source": [
    "summary(tmp)"
   ]
  },
  {
   "cell_type": "code",
   "execution_count": null,
   "metadata": {},
   "outputs": [],
   "source": []
  },
  {
   "cell_type": "code",
   "execution_count": null,
   "metadata": {},
   "outputs": [],
   "source": []
  },
  {
   "cell_type": "code",
   "execution_count": 92,
   "metadata": {},
   "outputs": [
    {
     "data": {
      "text/html": [
       "<strong>png:</strong> 2"
      ],
      "text/latex": [
       "\\textbf{png:} 2"
      ],
      "text/markdown": [
       "**png:** 2"
      ],
      "text/plain": [
       "png \n",
       "  2 "
      ]
     },
     "metadata": {},
     "output_type": "display_data"
    }
   ],
   "source": [
    "pdf(file = paste(\"/home/min/GIT/cnv-gene-mapping/data/deletion_simu/logitBvs.block_\", block[1], \"_\", block[2],\".var.selection.beta.hist.pdf\", sep = \"\"))\n",
    "par(mfrow = c(2,2))\n",
    "for (i in seq(2, (block[2]-block[1]+2))){\n",
    "    hist(res$samplesL$alpha[,i], breaks = 80, main = paste(\"beta\", i-1, \"histogram\"), xlab = paste(\"beta\", i-1))\n",
    "}\n",
    "dev.off()"
   ]
  },
  {
   "cell_type": "code",
   "execution_count": 94,
   "metadata": {},
   "outputs": [
    {
     "data": {
      "text/html": [
       "<ol class=list-inline>\n",
       "\t<li>12000</li>\n",
       "\t<li>15</li>\n",
       "</ol>\n"
      ],
      "text/latex": [
       "\\begin{enumerate*}\n",
       "\\item 12000\n",
       "\\item 15\n",
       "\\end{enumerate*}\n"
      ],
      "text/markdown": [
       "1. 12000\n",
       "2. 15\n",
       "\n",
       "\n"
      ],
      "text/plain": [
       "[1] 12000    15"
      ]
     },
     "metadata": {},
     "output_type": "display_data"
    }
   ],
   "source": [
    "dim(res$samplesL$alpha)"
   ]
  },
  {
   "cell_type": "code",
   "execution_count": 79,
   "metadata": {},
   "outputs": [],
   "source": [
    "# mean(res$samplesL$alpha[,42])"
   ]
  },
  {
   "cell_type": "code",
   "execution_count": 78,
   "metadata": {},
   "outputs": [
    {
     "data": {
      "text/plain": [
       "MCMC for the logit model:\n",
       "\n",
       "Call:\n",
       "logitBvs(y = y, N = N, X = X, prior = list(slab = \"Normal\", aj0 = rep(mu0, \n",
       "    ncol(X) - 1), V = var, w = c(wa0 = 1, wb0 = 1), pi = c(pa0 = 1.412, \n",
       "    pb0 = 10)), mcmc = list(M = 24000, burnin = 6000, msave = TRUE), \n",
       "    BVS = FALSE)\n",
       "\n",
       "\n",
       "MCMC:\n",
       "M = 24000 draws after a burn-in of 6000\n",
       "Thinning parameter: 1\n",
       "\n",
       "Prior: Normal prior [V=0.711745609189383]\n",
       "\n",
       " a0[0]  a0[1]  a0[2]  a0[3]  a0[4]  a0[5]  a0[6]  a0[7]  a0[8]  a0[9] a0[10] \n",
       " 0.000  0.777  0.777  0.777  0.777  0.777  0.777  0.777  0.777  0.777  0.777 \n",
       "a0[11] a0[12] a0[13] a0[14] a0[15] a0[16] a0[17] a0[18] a0[19] a0[20] a0[21] \n",
       " 0.777  0.777  0.777  0.777  0.777  0.777  0.777  0.777  0.777  0.777  0.777 \n",
       "a0[22] a0[23] a0[24] a0[25] a0[26] a0[27] a0[28] a0[29] a0[30] a0[31] a0[32] \n",
       " 0.777  0.777  0.777  0.777  0.777  0.777  0.777  0.777  0.777  0.777  0.777 \n",
       "a0[33] a0[34] a0[35] a0[36] a0[37] a0[38] a0[39] a0[40] a0[41] a0[42] a0[43] \n",
       " 0.777  0.777  0.777  0.777  0.777  0.777  0.777  0.777  0.777  0.777  0.777 \n",
       "a0[44] a0[45] a0[46] a0[47] a0[48] a0[49] a0[50] a0[51] a0[52] a0[53] a0[54] \n",
       " 0.777  0.777  0.777  0.777  0.777  0.777  0.777  0.777  0.777  0.777  0.777 \n",
       "a0[55] a0[56] a0[57] a0[58] a0[59] \n",
       " 0.777  0.777  0.777  0.777  0.777 \n",
       "\n",
       "\n",
       "Posterior means and 95%-HPD intervals:\n",
       "\n",
       "            Estimate 95%-HPD[l] 95%-HPD[u]\n",
       "(Intercept)   -0.001     -0.043      0.039\n",
       "alpha.1       -0.555     -1.844      0.749\n",
       "alpha.2        0.531     -1.221      2.311\n",
       "alpha.3        0.013     -1.501      1.654\n",
       "alpha.4        0.009     -1.582      1.582\n",
       "alpha.5        0.006     -1.539      1.632\n",
       "alpha.6        0.005     -1.637      1.560\n",
       "alpha.7        0.013     -1.602      1.566\n",
       "alpha.8        0.005     -1.600      1.560\n",
       "alpha.9        0.000     -1.564      1.605\n",
       "alpha.10      -0.001     -1.559      1.624\n",
       "alpha.11       0.011     -1.554      1.621\n",
       "alpha.12       0.012     -1.572      1.620\n",
       "alpha.13       0.004     -1.525      1.602\n",
       "alpha.14       0.226     -1.179      1.629\n",
       "alpha.15       0.227     -1.149      1.657\n",
       "alpha.16      -0.710     -2.042      0.598\n",
       "alpha.17       0.645     -0.873      2.239\n",
       "alpha.18       0.644     -0.843      2.261\n",
       "alpha.19      -1.052     -2.643      0.540\n",
       "alpha.20       0.422     -0.681      1.481\n",
       "alpha.21       0.004     -1.494      1.476\n",
       "alpha.22       0.005     -1.466      1.460\n",
       "alpha.23      -1.046     -2.645      0.559\n",
       "alpha.24       0.180     -1.390      1.771\n",
       "alpha.25       0.167     -1.344      1.750\n",
       "alpha.26       0.163     -1.473      1.679\n",
       "alpha.27       0.168     -1.353      1.788\n",
       "alpha.28       0.163     -1.390      1.719\n",
       "alpha.29      -0.291     -1.733      1.078\n",
       "alpha.30       0.166     -1.432      1.733\n",
       "alpha.31       0.172     -1.396      1.744\n",
       "alpha.32       0.163     -1.403      1.740\n",
       "alpha.33       0.167     -1.413      1.745\n",
       "alpha.34      -0.013     -1.625      1.511\n",
       "alpha.35      -0.010     -1.529      1.605\n",
       "alpha.36      -0.019     -1.550      1.550\n",
       "alpha.37      -0.020     -1.579      1.569\n",
       "alpha.38      -0.017     -1.603      1.514\n",
       "alpha.39      -0.010     -1.578      1.574\n",
       "alpha.40       0.698     -0.859      2.267\n",
       "alpha.41      -0.329     -1.747      1.134\n",
       "alpha.42      -0.431     -1.586      0.686\n",
       "alpha.43       0.996     -0.612      2.618\n",
       "alpha.44       0.993     -0.698      2.561\n",
       "alpha.45      -0.250     -1.764      1.241\n",
       "alpha.46      -0.257     -1.746      1.225\n",
       "alpha.47      -0.266     -1.714      1.258\n",
       "alpha.48      -0.265     -1.718      1.285\n",
       "alpha.49       0.312     -1.007      1.638\n",
       "alpha.50       0.322     -1.018      1.631\n",
       "alpha.51      -0.205     -1.546      1.189\n",
       "alpha.52      -0.208     -1.592      1.155\n",
       "alpha.53      -0.245     -1.768      1.259\n",
       "alpha.54      -0.238     -1.719      1.307\n",
       "alpha.55      -0.232     -1.693      1.304\n",
       "alpha.56       0.021     -1.607      1.617\n",
       "alpha.57       0.017     -1.570      1.650\n",
       "alpha.58       0.051     -1.765      1.719\n",
       "alpha.59       0.051     -1.671      1.762\n"
      ]
     },
     "metadata": {},
     "output_type": "display_data"
    }
   ],
   "source": [
    "summary(res)"
   ]
  },
  {
   "cell_type": "code",
   "execution_count": null,
   "metadata": {},
   "outputs": [],
   "source": []
  },
  {
   "cell_type": "code",
   "execution_count": null,
   "metadata": {},
   "outputs": [],
   "source": []
  },
  {
   "cell_type": "code",
   "execution_count": null,
   "metadata": {},
   "outputs": [],
   "source": []
  },
  {
   "cell_type": "code",
   "execution_count": 70,
   "metadata": {},
   "outputs": [],
   "source": [
    "data(simul_binomial)"
   ]
  },
  {
   "cell_type": "code",
   "execution_count": 71,
   "metadata": {},
   "outputs": [],
   "source": [
    "y <- simul_binomial$y\n",
    "N <- simul_binomial$N\n",
    "X <- as.matrix(simul_binomial[, -c(1,2)])"
   ]
  },
  {
   "cell_type": "code",
   "execution_count": 72,
   "metadata": {},
   "outputs": [
    {
     "data": {
      "text/html": [
       "512"
      ],
      "text/latex": [
       "512"
      ],
      "text/markdown": [
       "512"
      ],
      "text/plain": [
       "[1] 512"
      ]
     },
     "metadata": {},
     "output_type": "display_data"
    },
    {
     "data": {
      "text/html": [
       "512"
      ],
      "text/latex": [
       "512"
      ],
      "text/markdown": [
       "512"
      ],
      "text/plain": [
       "[1] 512"
      ]
     },
     "metadata": {},
     "output_type": "display_data"
    },
    {
     "data": {
      "text/html": [
       "<ol class=list-inline>\n",
       "\t<li>512</li>\n",
       "\t<li>10</li>\n",
       "</ol>\n"
      ],
      "text/latex": [
       "\\begin{enumerate*}\n",
       "\\item 512\n",
       "\\item 10\n",
       "\\end{enumerate*}\n"
      ],
      "text/markdown": [
       "1. 512\n",
       "2. 10\n",
       "\n",
       "\n"
      ],
      "text/plain": [
       "[1] 512  10"
      ]
     },
     "metadata": {},
     "output_type": "display_data"
    }
   ],
   "source": [
    "length(y); length(N); dim(X)"
   ]
  },
  {
   "cell_type": "code",
   "execution_count": 73,
   "metadata": {},
   "outputs": [
    {
     "data": {
      "text/html": [
       "<table>\n",
       "<thead><tr><th scope=col>X.0</th><th scope=col>X.1</th><th scope=col>X.2</th><th scope=col>X.3</th><th scope=col>X.4</th><th scope=col>X.5</th><th scope=col>X.6</th><th scope=col>X.7</th><th scope=col>X.8</th><th scope=col>X.9</th></tr></thead>\n",
       "<tbody>\n",
       "\t<tr><td>1</td><td>0</td><td>0</td><td>0</td><td>0</td><td>0</td><td>0</td><td>0</td><td>0</td><td>0</td></tr>\n",
       "\t<tr><td>1</td><td>0</td><td>0</td><td>0</td><td>0</td><td>0</td><td>0</td><td>0</td><td>0</td><td>1</td></tr>\n",
       "\t<tr><td>1</td><td>0</td><td>0</td><td>0</td><td>0</td><td>0</td><td>0</td><td>0</td><td>1</td><td>0</td></tr>\n",
       "\t<tr><td>1</td><td>0</td><td>0</td><td>0</td><td>0</td><td>0</td><td>0</td><td>0</td><td>1</td><td>1</td></tr>\n",
       "\t<tr><td>1</td><td>0</td><td>0</td><td>0</td><td>0</td><td>0</td><td>0</td><td>1</td><td>0</td><td>0</td></tr>\n",
       "\t<tr><td>1</td><td>0</td><td>0</td><td>0</td><td>0</td><td>0</td><td>0</td><td>1</td><td>0</td><td>1</td></tr>\n",
       "</tbody>\n",
       "</table>\n"
      ],
      "text/latex": [
       "\\begin{tabular}{llllllllll}\n",
       " X.0 & X.1 & X.2 & X.3 & X.4 & X.5 & X.6 & X.7 & X.8 & X.9\\\\\n",
       "\\hline\n",
       "\t 1 & 0 & 0 & 0 & 0 & 0 & 0 & 0 & 0 & 0\\\\\n",
       "\t 1 & 0 & 0 & 0 & 0 & 0 & 0 & 0 & 0 & 1\\\\\n",
       "\t 1 & 0 & 0 & 0 & 0 & 0 & 0 & 0 & 1 & 0\\\\\n",
       "\t 1 & 0 & 0 & 0 & 0 & 0 & 0 & 0 & 1 & 1\\\\\n",
       "\t 1 & 0 & 0 & 0 & 0 & 0 & 0 & 1 & 0 & 0\\\\\n",
       "\t 1 & 0 & 0 & 0 & 0 & 0 & 0 & 1 & 0 & 1\\\\\n",
       "\\end{tabular}\n"
      ],
      "text/markdown": [
       "\n",
       "| X.0 | X.1 | X.2 | X.3 | X.4 | X.5 | X.6 | X.7 | X.8 | X.9 |\n",
       "|---|---|---|---|---|---|---|---|---|---|\n",
       "| 1 | 0 | 0 | 0 | 0 | 0 | 0 | 0 | 0 | 0 |\n",
       "| 1 | 0 | 0 | 0 | 0 | 0 | 0 | 0 | 0 | 1 |\n",
       "| 1 | 0 | 0 | 0 | 0 | 0 | 0 | 0 | 1 | 0 |\n",
       "| 1 | 0 | 0 | 0 | 0 | 0 | 0 | 0 | 1 | 1 |\n",
       "| 1 | 0 | 0 | 0 | 0 | 0 | 0 | 1 | 0 | 0 |\n",
       "| 1 | 0 | 0 | 0 | 0 | 0 | 0 | 1 | 0 | 1 |\n",
       "\n"
      ],
      "text/plain": [
       "     X.0 X.1 X.2 X.3 X.4 X.5 X.6 X.7 X.8 X.9\n",
       "[1,] 1   0   0   0   0   0   0   0   0   0  \n",
       "[2,] 1   0   0   0   0   0   0   0   0   1  \n",
       "[3,] 1   0   0   0   0   0   0   0   1   0  \n",
       "[4,] 1   0   0   0   0   0   0   0   1   1  \n",
       "[5,] 1   0   0   0   0   0   0   1   0   0  \n",
       "[6,] 1   0   0   0   0   0   0   1   0   1  "
      ]
     },
     "metadata": {},
     "output_type": "display_data"
    }
   ],
   "source": [
    "head(X)"
   ]
  },
  {
   "cell_type": "code",
   "execution_count": 74,
   "metadata": {},
   "outputs": [
    {
     "data": {
      "text/html": [
       "512"
      ],
      "text/latex": [
       "512"
      ],
      "text/markdown": [
       "512"
      ],
      "text/plain": [
       "[1] 512"
      ]
     },
     "metadata": {},
     "output_type": "display_data"
    }
   ],
   "source": [
    "prior = list(slab = \"Normal\", aj0 = rep(mu0, ncol(X_ori)), V = var, w = c(wa0 = 1, wb0 = 1), pi = c(pa0 = 1.412, pb0 = 10))"
   ]
  },
  {
   "cell_type": "code",
   "execution_count": 87,
   "metadata": {},
   "outputs": [
    {
     "name": "stderr",
     "output_type": "stream",
     "text": [
      "Warning message:\n",
      "“invalid 'BVS' or 'startsel' argument:\n",
      "'startsel' was set to 0.5”"
     ]
    },
    {
     "name": "stdout",
     "output_type": "stream",
     "text": [
      "\n",
      "MCMC for the binomial logit model with variable selection:\n",
      "\n",
      "it = 1 /--- duration of MCMC so far: 1.1 sec.,  expected time to end: Inf  min. \n",
      "it = 2 /--- duration of MCMC so far: 1.11 sec.,  expected time to end: 0.07  min. \n",
      "it = 3 /--- duration of MCMC so far: 1.13 sec.,  expected time to end: 0.03  min. \n",
      "it = 4 /--- duration of MCMC so far: 1.15 sec.,  expected time to end: 0.01  min. \n",
      "it = 5 /--- duration of MCMC so far: 1.17 sec.,  expected time to end: 0  min. \n"
     ]
    }
   ],
   "source": [
    "m3 <- logitBvs(y = y, N = N, X = X, mcmc = list(M = 4, burnin = 1), prior = list(slab = \"Normal\", aj0 = rep(0, ncol(X)-1)), \n",
    "               model = list(deltafix = c(1, 1, 1, 0, 0, 0, 1, 0, 0)))"
   ]
  },
  {
   "cell_type": "code",
   "execution_count": 88,
   "metadata": {},
   "outputs": [
    {
     "data": {
      "text/plain": [
       "Bayesian variable selection for the binomial logit model:\n",
       "\n",
       "Call:\n",
       "logitBvs(y = y, N = N, X = X, model = list(deltafix = c(1, 1, \n",
       "    1, 0, 0, 0, 1, 0, 0)), prior = list(slab = \"Normal\", aj0 = rep(0, \n",
       "    ncol(X) - 1)), mcmc = list(M = 4, burnin = 1))\n",
       "\n",
       "\n",
       "MCMC:\n",
       "M = 4 draws after a burn-in of 1\n",
       "BVS started after 0.5 iterations\n",
       "Thinning parameter: 1\n",
       "\n",
       "Prior:  spike-and-slab prior with Normal slab [V=5]\n",
       "\n",
       "a0[0] a0[1] a0[2] a0[3] a0[4] a0[5] a0[6] a0[7] a0[8] a0[9] \n",
       "    0     0     0     0     0     0     0     0     0     0 \n",
       " w[a]  w[b] pi[a] pi[b] \n",
       "    1     1     1     1 \n",
       "\n",
       "\n",
       "Model averaged posterior means, estimated posterior inclusion\n",
       " probabilities and 95%-HPD intervals:\n",
       "\n",
       "            Estimate P(.=1) 95%-HPD[l] 95%-HPD[u]\n",
       "(Intercept)   -0.419     NA     -0.483     -0.363\n",
       "alpha.1        0.156  1.000      0.130      0.190\n",
       "alpha.2       -0.106  1.000     -0.124     -0.075\n",
       "alpha.3        0.072  1.000      0.019      0.127\n",
       "alpha.4       -0.874  1.000     -0.946     -0.726\n",
       "alpha.5        0.000  0.029      0.000      0.000\n",
       "alpha.6       -0.013  0.025     -0.052      0.000\n",
       "alpha.7        0.989  1.000      0.792      1.128\n",
       "alpha.8       -0.028  0.459     -0.091      0.000\n",
       "alpha.9        0.256  1.000      0.230      0.291\n"
      ]
     },
     "metadata": {},
     "output_type": "display_data"
    }
   ],
   "source": [
    "summary(m3)"
   ]
  },
  {
   "cell_type": "code",
   "execution_count": null,
   "metadata": {},
   "outputs": [],
   "source": []
  }
 ],
 "metadata": {
  "kernelspec": {
   "display_name": "R",
   "language": "R",
   "name": "ir"
  },
  "language_info": {
   "codemirror_mode": "r",
   "file_extension": ".r",
   "mimetype": "text/x-r-source",
   "name": "R",
   "pygments_lexer": "r",
   "version": "3.5.1"
  }
 },
 "nbformat": 4,
 "nbformat_minor": 4
}
