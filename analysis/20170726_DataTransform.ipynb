{
 "cells": [
  {
   "cell_type": "markdown",
   "metadata": {},
   "source": [
    "# Data transform: $y \\in \\{0,1\\}$ to $y \\in \\{0,t\\}$"
   ]
  },
  {
   "cell_type": "code",
   "execution_count": 1,
   "metadata": {
    "collapsed": true
   },
   "outputs": [],
   "source": [
    "import numpy as np\n",
    "import pandas as pd\n",
    "from pprint import pprint\n",
    "from pandasql import sqldf\n",
    "from scipy import stats"
   ]
  },
  {
   "cell_type": "code",
   "execution_count": 7,
   "metadata": {},
   "outputs": [
    {
     "name": "stdout",
     "output_type": "stream",
     "text": [
      "2.32634787404 0.366383889501\n"
     ]
    }
   ],
   "source": [
    "# the lifetime prevalence of schizophrenia is 4.0/1000, not 1%, but we first set it as 0.01\n",
    "# according to https://www.ncbi.nlm.nih.gov/pmc/articles/PMC1140960/\n",
    "prevalence = 0.01\n",
    "# relative risk is normally between 2 and 10\n",
    "RR = 2.5\n",
    "t = stats.norm(0,1).ppf(1-prevalence)\n",
    "# effect size of beta is z_mu, prior\n",
    "z_mu = t - stats.norm(0,1).ppf(1-RR*prevalence)\n",
    "print (t, z_mu)"
   ]
  },
  {
   "cell_type": "code",
   "execution_count": null,
   "metadata": {
    "collapsed": true
   },
   "outputs": [],
   "source": []
  }
 ],
 "metadata": {
  "kernelspec": {
   "display_name": "Python 3",
   "language": "python",
   "name": "python3"
  },
  "language_info": {
   "codemirror_mode": {
    "name": "ipython",
    "version": 3
   },
   "file_extension": ".py",
   "mimetype": "text/x-python",
   "name": "python",
   "nbconvert_exporter": "python",
   "pygments_lexer": "ipython3",
   "version": "3.5.2"
  }
 },
 "nbformat": 4,
 "nbformat_minor": 2
}
