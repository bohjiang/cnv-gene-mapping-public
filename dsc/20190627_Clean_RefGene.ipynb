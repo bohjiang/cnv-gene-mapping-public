{
 "cells": [
  {
   "cell_type": "markdown",
   "metadata": {
    "kernel": "SoS"
   },
   "source": [
    "# Obtain clean reference gene\n",
    "Use CNV individual level data (del and dup) and gene data to obtain individual (real, column) by gene (real, row) matrix (ideally two bed files, bedtools) - reference X matrix"
   ]
  },
  {
   "cell_type": "code",
   "execution_count": 1,
   "metadata": {
    "kernel": "SoS"
   },
   "outputs": [],
   "source": [
    "import pandas as pd, numpy as np\n",
    "import os\n",
    "from pandasql import sqldf\n",
    "from collections import Counter\n",
    "from more_itertools import unique_everseen\n",
    "cwd = os.path.expanduser(\"~/GIT/cnv-gene-mapping/data\")"
   ]
  },
  {
   "cell_type": "markdown",
   "metadata": {
    "kernel": "SoS"
   },
   "source": [
    "## Import genes"
   ]
  },
  {
   "cell_type": "code",
   "execution_count": 2,
   "metadata": {
    "kernel": "SoS"
   },
   "outputs": [],
   "source": [
    "ref_gene = pd.read_table(f\"{cwd}/refGene.txt.gz\", compression=\"gzip\", sep = \"\\t\", header = None, usecols = (1,2,4,5,12), names = [\"tx_name\", \"chrom\", \"start\", \"end\", \"gene_name\"])"
   ]
  },
  {
   "cell_type": "code",
   "execution_count": 3,
   "metadata": {
    "kernel": "SoS"
   },
   "outputs": [
    {
     "data": {
      "text/html": [
       "<div>\n",
       "<style scoped>\n",
       "    .dataframe tbody tr th:only-of-type {\n",
       "        vertical-align: middle;\n",
       "    }\n",
       "\n",
       "    .dataframe tbody tr th {\n",
       "        vertical-align: top;\n",
       "    }\n",
       "\n",
       "    .dataframe thead th {\n",
       "        text-align: right;\n",
       "    }\n",
       "</style>\n",
       "<table border=\"1\" class=\"dataframe\">\n",
       "  <thead>\n",
       "    <tr style=\"text-align: right;\">\n",
       "      <th></th>\n",
       "      <th>tx_name</th>\n",
       "      <th>chrom</th>\n",
       "      <th>start</th>\n",
       "      <th>end</th>\n",
       "      <th>gene_name</th>\n",
       "    </tr>\n",
       "  </thead>\n",
       "  <tbody>\n",
       "    <tr>\n",
       "      <th>6597</th>\n",
       "      <td>NM_001005277</td>\n",
       "      <td>chr1</td>\n",
       "      <td>367658</td>\n",
       "      <td>368597</td>\n",
       "      <td>OR4F16</td>\n",
       "    </tr>\n",
       "    <tr>\n",
       "      <th>38096</th>\n",
       "      <td>NM_001005277</td>\n",
       "      <td>chr5</td>\n",
       "      <td>180794287</td>\n",
       "      <td>180795226</td>\n",
       "      <td>OR4F16</td>\n",
       "    </tr>\n",
       "    <tr>\n",
       "      <th>39136</th>\n",
       "      <td>NM_001005277</td>\n",
       "      <td>chr1</td>\n",
       "      <td>621095</td>\n",
       "      <td>622034</td>\n",
       "      <td>OR4F16</td>\n",
       "    </tr>\n",
       "  </tbody>\n",
       "</table>\n",
       "</div>"
      ],
      "text/plain": [
       "            tx_name chrom      start        end gene_name\n",
       "6597   NM_001005277  chr1     367658     368597    OR4F16\n",
       "38096  NM_001005277  chr5  180794287  180795226    OR4F16\n",
       "39136  NM_001005277  chr1     621095     622034    OR4F16"
      ]
     },
     "execution_count": 3,
     "metadata": {},
     "output_type": "execute_result"
    }
   ],
   "source": [
    "ref_gene[ref_gene[\"gene_name\"].str.contains(\"OR4F16\")]"
   ]
  },
  {
   "cell_type": "code",
   "execution_count": 4,
   "metadata": {
    "kernel": "SoS"
   },
   "outputs": [
    {
     "data": {
      "text/html": [
       "<div>\n",
       "<style scoped>\n",
       "    .dataframe tbody tr th:only-of-type {\n",
       "        vertical-align: middle;\n",
       "    }\n",
       "\n",
       "    .dataframe tbody tr th {\n",
       "        vertical-align: top;\n",
       "    }\n",
       "\n",
       "    .dataframe thead th {\n",
       "        text-align: right;\n",
       "    }\n",
       "</style>\n",
       "<table border=\"1\" class=\"dataframe\">\n",
       "  <thead>\n",
       "    <tr style=\"text-align: right;\">\n",
       "      <th></th>\n",
       "      <th>tx_name</th>\n",
       "      <th>chrom</th>\n",
       "      <th>start</th>\n",
       "      <th>end</th>\n",
       "      <th>gene_name</th>\n",
       "    </tr>\n",
       "  </thead>\n",
       "  <tbody>\n",
       "    <tr>\n",
       "      <th>0</th>\n",
       "      <td>NR_148357</td>\n",
       "      <td>chr1</td>\n",
       "      <td>11868</td>\n",
       "      <td>14362</td>\n",
       "      <td>LOC102725121</td>\n",
       "    </tr>\n",
       "    <tr>\n",
       "      <th>1</th>\n",
       "      <td>NR_046018</td>\n",
       "      <td>chr1</td>\n",
       "      <td>11873</td>\n",
       "      <td>14409</td>\n",
       "      <td>DDX11L1</td>\n",
       "    </tr>\n",
       "    <tr>\n",
       "      <th>2</th>\n",
       "      <td>NM_012154</td>\n",
       "      <td>chr8</td>\n",
       "      <td>141530254</td>\n",
       "      <td>141645732</td>\n",
       "      <td>AGO2</td>\n",
       "    </tr>\n",
       "    <tr>\n",
       "      <th>3</th>\n",
       "      <td>NR_106918</td>\n",
       "      <td>chr1</td>\n",
       "      <td>17368</td>\n",
       "      <td>17436</td>\n",
       "      <td>MIR6859-1</td>\n",
       "    </tr>\n",
       "    <tr>\n",
       "      <th>4</th>\n",
       "      <td>NR_107062</td>\n",
       "      <td>chr1</td>\n",
       "      <td>17368</td>\n",
       "      <td>17436</td>\n",
       "      <td>MIR6859-2</td>\n",
       "    </tr>\n",
       "  </tbody>\n",
       "</table>\n",
       "</div>"
      ],
      "text/plain": [
       "     tx_name chrom      start        end     gene_name\n",
       "0  NR_148357  chr1      11868      14362  LOC102725121\n",
       "1  NR_046018  chr1      11873      14409       DDX11L1\n",
       "2  NM_012154  chr8  141530254  141645732          AGO2\n",
       "3  NR_106918  chr1      17368      17436     MIR6859-1\n",
       "4  NR_107062  chr1      17368      17436     MIR6859-2"
      ]
     },
     "execution_count": 4,
     "metadata": {},
     "output_type": "execute_result"
    }
   ],
   "source": [
    "ref_gene.head()"
   ]
  },
  {
   "cell_type": "code",
   "execution_count": 5,
   "metadata": {
    "kernel": "SoS"
   },
   "outputs": [
    {
     "data": {
      "text/plain": [
       "(78288, 5)"
      ]
     },
     "execution_count": 5,
     "metadata": {},
     "output_type": "execute_result"
    }
   ],
   "source": [
    "ref_gene.shape"
   ]
  },
  {
   "cell_type": "code",
   "execution_count": 6,
   "metadata": {
    "kernel": "SoS"
   },
   "outputs": [],
   "source": [
    "ref_gene = ref_gene[ref_gene[\"chrom\"].isin([\"chr\"+str(x+1) for x in range(22)] + [\"chrX\"])]"
   ]
  },
  {
   "cell_type": "code",
   "execution_count": 7,
   "metadata": {
    "kernel": "SoS"
   },
   "outputs": [
    {
     "data": {
      "text/plain": [
       "(74551, 5)"
      ]
     },
     "execution_count": 7,
     "metadata": {},
     "output_type": "execute_result"
    }
   ],
   "source": [
    "ref_gene.shape"
   ]
  },
  {
   "cell_type": "code",
   "execution_count": 8,
   "metadata": {
    "kernel": "SoS"
   },
   "outputs": [],
   "source": [
    "ref_gene[\"CHR\"] = ref_gene[\"chrom\"].apply(lambda x: int(x.split(\"chr\")[1]) if x.split(\"chr\")[1] != \"X\" else 23)"
   ]
  },
  {
   "cell_type": "code",
   "execution_count": 9,
   "metadata": {
    "kernel": "SoS"
   },
   "outputs": [
    {
     "data": {
      "text/plain": [
       "(74551, 6)"
      ]
     },
     "execution_count": 9,
     "metadata": {},
     "output_type": "execute_result"
    }
   ],
   "source": [
    "ref_gene.shape"
   ]
  },
  {
   "cell_type": "code",
   "execution_count": 10,
   "metadata": {
    "kernel": "SoS"
   },
   "outputs": [],
   "source": [
    "ref_gene = ref_gene.sort_values(by = [\"CHR\", \"start\", \"end\"])[[\"CHR\", \"start\", \"end\", \"gene_name\", \"tx_name\"]]"
   ]
  },
  {
   "cell_type": "markdown",
   "metadata": {
    "kernel": "SoS"
   },
   "source": [
    "## Drop genes that share same chr, start, end and exon/gene name (44322 left)"
   ]
  },
  {
   "cell_type": "code",
   "execution_count": 11,
   "metadata": {
    "kernel": "SoS"
   },
   "outputs": [],
   "source": [
    "ref_gene = ref_gene.drop_duplicates(subset = (\"CHR\", \"start\", \"end\", \"gene_name\"))"
   ]
  },
  {
   "cell_type": "code",
   "execution_count": 12,
   "metadata": {
    "kernel": "SoS"
   },
   "outputs": [
    {
     "data": {
      "text/plain": [
       "(44322, 5)"
      ]
     },
     "execution_count": 12,
     "metadata": {},
     "output_type": "execute_result"
    }
   ],
   "source": [
    "ref_gene.shape"
   ]
  },
  {
   "cell_type": "code",
   "execution_count": 22,
   "metadata": {
    "kernel": "SoS"
   },
   "outputs": [
    {
     "data": {
      "text/html": [
       "<div>\n",
       "<style scoped>\n",
       "    .dataframe tbody tr th:only-of-type {\n",
       "        vertical-align: middle;\n",
       "    }\n",
       "\n",
       "    .dataframe tbody tr th {\n",
       "        vertical-align: top;\n",
       "    }\n",
       "\n",
       "    .dataframe thead th {\n",
       "        text-align: right;\n",
       "    }\n",
       "</style>\n",
       "<table border=\"1\" class=\"dataframe\">\n",
       "  <thead>\n",
       "    <tr style=\"text-align: right;\">\n",
       "      <th></th>\n",
       "      <th>CHR</th>\n",
       "      <th>start</th>\n",
       "      <th>end</th>\n",
       "      <th>gene_name</th>\n",
       "      <th>tx_name</th>\n",
       "    </tr>\n",
       "  </thead>\n",
       "  <tbody>\n",
       "    <tr>\n",
       "      <th>70411</th>\n",
       "      <td>1</td>\n",
       "      <td>69090</td>\n",
       "      <td>70008</td>\n",
       "      <td>OR4F5</td>\n",
       "      <td>NM_001005484</td>\n",
       "    </tr>\n",
       "    <tr>\n",
       "      <th>6597</th>\n",
       "      <td>1</td>\n",
       "      <td>367658</td>\n",
       "      <td>368597</td>\n",
       "      <td>OR4F16</td>\n",
       "      <td>NM_001005277</td>\n",
       "    </tr>\n",
       "    <tr>\n",
       "      <th>23110</th>\n",
       "      <td>1</td>\n",
       "      <td>367658</td>\n",
       "      <td>368597</td>\n",
       "      <td>OR4F29</td>\n",
       "      <td>NM_001005221</td>\n",
       "    </tr>\n",
       "    <tr>\n",
       "      <th>65910</th>\n",
       "      <td>1</td>\n",
       "      <td>367658</td>\n",
       "      <td>368597</td>\n",
       "      <td>OR4F3</td>\n",
       "      <td>NM_001005224</td>\n",
       "    </tr>\n",
       "    <tr>\n",
       "      <th>23111</th>\n",
       "      <td>1</td>\n",
       "      <td>621095</td>\n",
       "      <td>622034</td>\n",
       "      <td>OR4F29</td>\n",
       "      <td>NM_001005221</td>\n",
       "    </tr>\n",
       "    <tr>\n",
       "      <th>39136</th>\n",
       "      <td>1</td>\n",
       "      <td>621095</td>\n",
       "      <td>622034</td>\n",
       "      <td>OR4F16</td>\n",
       "      <td>NM_001005277</td>\n",
       "    </tr>\n",
       "    <tr>\n",
       "      <th>53605</th>\n",
       "      <td>1</td>\n",
       "      <td>621095</td>\n",
       "      <td>622034</td>\n",
       "      <td>OR4F3</td>\n",
       "      <td>NM_001005224</td>\n",
       "    </tr>\n",
       "    <tr>\n",
       "      <th>8216</th>\n",
       "      <td>5</td>\n",
       "      <td>180794287</td>\n",
       "      <td>180795226</td>\n",
       "      <td>OR4F3</td>\n",
       "      <td>NM_001005224</td>\n",
       "    </tr>\n",
       "    <tr>\n",
       "      <th>23112</th>\n",
       "      <td>5</td>\n",
       "      <td>180794287</td>\n",
       "      <td>180795226</td>\n",
       "      <td>OR4F29</td>\n",
       "      <td>NM_001005221</td>\n",
       "    </tr>\n",
       "    <tr>\n",
       "      <th>38096</th>\n",
       "      <td>5</td>\n",
       "      <td>180794287</td>\n",
       "      <td>180795226</td>\n",
       "      <td>OR4F16</td>\n",
       "      <td>NM_001005277</td>\n",
       "    </tr>\n",
       "    <tr>\n",
       "      <th>70404</th>\n",
       "      <td>8</td>\n",
       "      <td>116085</td>\n",
       "      <td>117024</td>\n",
       "      <td>OR4F21</td>\n",
       "      <td>NM_001005504</td>\n",
       "    </tr>\n",
       "    <tr>\n",
       "      <th>70435</th>\n",
       "      <td>15</td>\n",
       "      <td>102345922</td>\n",
       "      <td>102346861</td>\n",
       "      <td>OR4F6</td>\n",
       "      <td>NM_001005326</td>\n",
       "    </tr>\n",
       "    <tr>\n",
       "      <th>30563</th>\n",
       "      <td>15</td>\n",
       "      <td>102358389</td>\n",
       "      <td>102359328</td>\n",
       "      <td>OR4F15</td>\n",
       "      <td>NM_001001674</td>\n",
       "    </tr>\n",
       "    <tr>\n",
       "      <th>22066</th>\n",
       "      <td>15</td>\n",
       "      <td>102382321</td>\n",
       "      <td>102390527</td>\n",
       "      <td>OR4F13P</td>\n",
       "      <td>NR_046417</td>\n",
       "    </tr>\n",
       "    <tr>\n",
       "      <th>69120</th>\n",
       "      <td>15</td>\n",
       "      <td>102462344</td>\n",
       "      <td>102463262</td>\n",
       "      <td>OR4F4</td>\n",
       "      <td>NM_001004195</td>\n",
       "    </tr>\n",
       "    <tr>\n",
       "      <th>40445</th>\n",
       "      <td>19</td>\n",
       "      <td>107145</td>\n",
       "      <td>111696</td>\n",
       "      <td>OR4F17</td>\n",
       "      <td>NM_001005240</td>\n",
       "    </tr>\n",
       "  </tbody>\n",
       "</table>\n",
       "</div>"
      ],
      "text/plain": [
       "       CHR      start        end gene_name       tx_name\n",
       "70411    1      69090      70008     OR4F5  NM_001005484\n",
       "6597     1     367658     368597    OR4F16  NM_001005277\n",
       "23110    1     367658     368597    OR4F29  NM_001005221\n",
       "65910    1     367658     368597     OR4F3  NM_001005224\n",
       "23111    1     621095     622034    OR4F29  NM_001005221\n",
       "39136    1     621095     622034    OR4F16  NM_001005277\n",
       "53605    1     621095     622034     OR4F3  NM_001005224\n",
       "8216     5  180794287  180795226     OR4F3  NM_001005224\n",
       "23112    5  180794287  180795226    OR4F29  NM_001005221\n",
       "38096    5  180794287  180795226    OR4F16  NM_001005277\n",
       "70404    8     116085     117024    OR4F21  NM_001005504\n",
       "70435   15  102345922  102346861     OR4F6  NM_001005326\n",
       "30563   15  102358389  102359328    OR4F15  NM_001001674\n",
       "22066   15  102382321  102390527   OR4F13P     NR_046417\n",
       "69120   15  102462344  102463262     OR4F4  NM_001004195\n",
       "40445   19     107145     111696    OR4F17  NM_001005240"
      ]
     },
     "execution_count": 22,
     "metadata": {},
     "output_type": "execute_result"
    }
   ],
   "source": [
    "ref_gene[ref_gene[\"gene_name\"].str.contains(\"OR4F\")]"
   ]
  },
  {
   "cell_type": "code",
   "execution_count": 23,
   "metadata": {
    "kernel": "SoS"
   },
   "outputs": [
    {
     "data": {
      "text/html": [
       "<div>\n",
       "<style scoped>\n",
       "    .dataframe tbody tr th:only-of-type {\n",
       "        vertical-align: middle;\n",
       "    }\n",
       "\n",
       "    .dataframe tbody tr th {\n",
       "        vertical-align: top;\n",
       "    }\n",
       "\n",
       "    .dataframe thead th {\n",
       "        text-align: right;\n",
       "    }\n",
       "</style>\n",
       "<table border=\"1\" class=\"dataframe\">\n",
       "  <thead>\n",
       "    <tr style=\"text-align: right;\">\n",
       "      <th></th>\n",
       "      <th>CHR</th>\n",
       "      <th>start</th>\n",
       "      <th>end</th>\n",
       "      <th>gene_name</th>\n",
       "      <th>tx_name</th>\n",
       "    </tr>\n",
       "  </thead>\n",
       "  <tbody>\n",
       "    <tr>\n",
       "      <th>8216</th>\n",
       "      <td>5</td>\n",
       "      <td>180794287</td>\n",
       "      <td>180795226</td>\n",
       "      <td>OR4F3</td>\n",
       "      <td>NM_001005224</td>\n",
       "    </tr>\n",
       "    <tr>\n",
       "      <th>23112</th>\n",
       "      <td>5</td>\n",
       "      <td>180794287</td>\n",
       "      <td>180795226</td>\n",
       "      <td>OR4F29</td>\n",
       "      <td>NM_001005221</td>\n",
       "    </tr>\n",
       "    <tr>\n",
       "      <th>38096</th>\n",
       "      <td>5</td>\n",
       "      <td>180794287</td>\n",
       "      <td>180795226</td>\n",
       "      <td>OR4F16</td>\n",
       "      <td>NM_001005277</td>\n",
       "    </tr>\n",
       "  </tbody>\n",
       "</table>\n",
       "</div>"
      ],
      "text/plain": [
       "       CHR      start        end gene_name       tx_name\n",
       "8216     5  180794287  180795226     OR4F3  NM_001005224\n",
       "23112    5  180794287  180795226    OR4F29  NM_001005221\n",
       "38096    5  180794287  180795226    OR4F16  NM_001005277"
      ]
     },
     "execution_count": 23,
     "metadata": {},
     "output_type": "execute_result"
    }
   ],
   "source": [
    "ref_gene[ref_gene[\"start\"] == 180794287]"
   ]
  },
  {
   "cell_type": "code",
   "execution_count": 24,
   "metadata": {
    "kernel": "SoS"
   },
   "outputs": [
    {
     "data": {
      "text/html": [
       "<div>\n",
       "<style scoped>\n",
       "    .dataframe tbody tr th:only-of-type {\n",
       "        vertical-align: middle;\n",
       "    }\n",
       "\n",
       "    .dataframe tbody tr th {\n",
       "        vertical-align: top;\n",
       "    }\n",
       "\n",
       "    .dataframe thead th {\n",
       "        text-align: right;\n",
       "    }\n",
       "</style>\n",
       "<table border=\"1\" class=\"dataframe\">\n",
       "  <thead>\n",
       "    <tr style=\"text-align: right;\">\n",
       "      <th></th>\n",
       "      <th>CHR</th>\n",
       "      <th>start</th>\n",
       "      <th>end</th>\n",
       "      <th>gene_name</th>\n",
       "      <th>tx_name</th>\n",
       "    </tr>\n",
       "  </thead>\n",
       "  <tbody>\n",
       "    <tr>\n",
       "      <th>23111</th>\n",
       "      <td>1</td>\n",
       "      <td>621095</td>\n",
       "      <td>622034</td>\n",
       "      <td>OR4F29</td>\n",
       "      <td>NM_001005221</td>\n",
       "    </tr>\n",
       "    <tr>\n",
       "      <th>39136</th>\n",
       "      <td>1</td>\n",
       "      <td>621095</td>\n",
       "      <td>622034</td>\n",
       "      <td>OR4F16</td>\n",
       "      <td>NM_001005277</td>\n",
       "    </tr>\n",
       "    <tr>\n",
       "      <th>53605</th>\n",
       "      <td>1</td>\n",
       "      <td>621095</td>\n",
       "      <td>622034</td>\n",
       "      <td>OR4F3</td>\n",
       "      <td>NM_001005224</td>\n",
       "    </tr>\n",
       "  </tbody>\n",
       "</table>\n",
       "</div>"
      ],
      "text/plain": [
       "       CHR   start     end gene_name       tx_name\n",
       "23111    1  621095  622034    OR4F29  NM_001005221\n",
       "39136    1  621095  622034    OR4F16  NM_001005277\n",
       "53605    1  621095  622034     OR4F3  NM_001005224"
      ]
     },
     "execution_count": 24,
     "metadata": {},
     "output_type": "execute_result"
    }
   ],
   "source": [
    "ref_gene[ref_gene[\"start\"] == 621095]"
   ]
  },
  {
   "cell_type": "markdown",
   "metadata": {
    "kernel": "SoS"
   },
   "source": [
    "## Drop genes that share same chr, start and end (43442 left)"
   ]
  },
  {
   "cell_type": "code",
   "execution_count": 25,
   "metadata": {
    "kernel": "SoS"
   },
   "outputs": [],
   "source": [
    "ref_gene = ref_gene.drop_duplicates(subset = (\"CHR\", \"start\", \"end\"))"
   ]
  },
  {
   "cell_type": "code",
   "execution_count": 26,
   "metadata": {
    "kernel": "SoS"
   },
   "outputs": [
    {
     "data": {
      "text/plain": [
       "(43442, 5)"
      ]
     },
     "execution_count": 26,
     "metadata": {},
     "output_type": "execute_result"
    }
   ],
   "source": [
    "ref_gene.shape"
   ]
  },
  {
   "cell_type": "code",
   "execution_count": 27,
   "metadata": {
    "kernel": "SoS"
   },
   "outputs": [
    {
     "data": {
      "text/html": [
       "<div>\n",
       "<style scoped>\n",
       "    .dataframe tbody tr th:only-of-type {\n",
       "        vertical-align: middle;\n",
       "    }\n",
       "\n",
       "    .dataframe tbody tr th {\n",
       "        vertical-align: top;\n",
       "    }\n",
       "\n",
       "    .dataframe thead th {\n",
       "        text-align: right;\n",
       "    }\n",
       "</style>\n",
       "<table border=\"1\" class=\"dataframe\">\n",
       "  <thead>\n",
       "    <tr style=\"text-align: right;\">\n",
       "      <th></th>\n",
       "      <th>CHR</th>\n",
       "      <th>start</th>\n",
       "      <th>end</th>\n",
       "      <th>gene_name</th>\n",
       "      <th>tx_name</th>\n",
       "    </tr>\n",
       "  </thead>\n",
       "  <tbody>\n",
       "    <tr>\n",
       "      <th>6597</th>\n",
       "      <td>1</td>\n",
       "      <td>367658</td>\n",
       "      <td>368597</td>\n",
       "      <td>OR4F16</td>\n",
       "      <td>NM_001005277</td>\n",
       "    </tr>\n",
       "  </tbody>\n",
       "</table>\n",
       "</div>"
      ],
      "text/plain": [
       "      CHR   start     end gene_name       tx_name\n",
       "6597    1  367658  368597    OR4F16  NM_001005277"
      ]
     },
     "execution_count": 27,
     "metadata": {},
     "output_type": "execute_result"
    }
   ],
   "source": [
    "ref_gene[ref_gene[\"gene_name\"].str.contains(\"OR4F16\")]"
   ]
  },
  {
   "cell_type": "code",
   "execution_count": 28,
   "metadata": {
    "kernel": "SoS"
   },
   "outputs": [
    {
     "data": {
      "text/html": [
       "<div>\n",
       "<style scoped>\n",
       "    .dataframe tbody tr th:only-of-type {\n",
       "        vertical-align: middle;\n",
       "    }\n",
       "\n",
       "    .dataframe tbody tr th {\n",
       "        vertical-align: top;\n",
       "    }\n",
       "\n",
       "    .dataframe thead th {\n",
       "        text-align: right;\n",
       "    }\n",
       "</style>\n",
       "<table border=\"1\" class=\"dataframe\">\n",
       "  <thead>\n",
       "    <tr style=\"text-align: right;\">\n",
       "      <th></th>\n",
       "      <th>CHR</th>\n",
       "      <th>start</th>\n",
       "      <th>end</th>\n",
       "      <th>gene_name</th>\n",
       "      <th>tx_name</th>\n",
       "    </tr>\n",
       "  </thead>\n",
       "  <tbody>\n",
       "    <tr>\n",
       "      <th>8216</th>\n",
       "      <td>5</td>\n",
       "      <td>180794287</td>\n",
       "      <td>180795226</td>\n",
       "      <td>OR4F3</td>\n",
       "      <td>NM_001005224</td>\n",
       "    </tr>\n",
       "  </tbody>\n",
       "</table>\n",
       "</div>"
      ],
      "text/plain": [
       "      CHR      start        end gene_name       tx_name\n",
       "8216    5  180794287  180795226     OR4F3  NM_001005224"
      ]
     },
     "execution_count": 28,
     "metadata": {},
     "output_type": "execute_result"
    }
   ],
   "source": [
    "ref_gene[ref_gene[\"start\"] == 180794287]"
   ]
  },
  {
   "cell_type": "code",
   "execution_count": null,
   "metadata": {
    "kernel": "SoS"
   },
   "outputs": [],
   "source": []
  },
  {
   "cell_type": "code",
   "execution_count": 13,
   "metadata": {
    "kernel": "SoS"
   },
   "outputs": [],
   "source": [
    "## not correct\n",
    "# start = ref_gene[[\"CHR\", \"gene_name\", \"start\"]].groupby([\"CHR\", \"gene_name\"]).min().reset_index(drop = False)\n",
    "# end = ref_gene[[\"CHR\", \"gene_name\", \"end\"]].groupby([\"CHR\", \"gene_name\"]).max().reset_index(drop = False)"
   ]
  },
  {
   "cell_type": "code",
   "execution_count": 30,
   "metadata": {
    "kernel": "SoS"
   },
   "outputs": [
    {
     "data": {
      "text/html": [
       "<div>\n",
       "<style scoped>\n",
       "    .dataframe tbody tr th:only-of-type {\n",
       "        vertical-align: middle;\n",
       "    }\n",
       "\n",
       "    .dataframe tbody tr th {\n",
       "        vertical-align: top;\n",
       "    }\n",
       "\n",
       "    .dataframe thead th {\n",
       "        text-align: right;\n",
       "    }\n",
       "</style>\n",
       "<table border=\"1\" class=\"dataframe\">\n",
       "  <thead>\n",
       "    <tr style=\"text-align: right;\">\n",
       "      <th></th>\n",
       "      <th>CHR</th>\n",
       "      <th>start</th>\n",
       "      <th>end</th>\n",
       "      <th>gene_name</th>\n",
       "      <th>tx_name</th>\n",
       "    </tr>\n",
       "  </thead>\n",
       "  <tbody>\n",
       "    <tr>\n",
       "      <th>10588</th>\n",
       "      <td>1</td>\n",
       "      <td>1109259</td>\n",
       "      <td>1133315</td>\n",
       "      <td>TTLL10</td>\n",
       "      <td>NM_001130045</td>\n",
       "    </tr>\n",
       "    <tr>\n",
       "      <th>62676</th>\n",
       "      <td>1</td>\n",
       "      <td>1115060</td>\n",
       "      <td>1121243</td>\n",
       "      <td>TTLL10</td>\n",
       "      <td>NM_153254</td>\n",
       "    </tr>\n",
       "  </tbody>\n",
       "</table>\n",
       "</div>"
      ],
      "text/plain": [
       "       CHR    start      end gene_name       tx_name\n",
       "10588    1  1109259  1133315    TTLL10  NM_001130045\n",
       "62676    1  1115060  1121243    TTLL10     NM_153254"
      ]
     },
     "execution_count": 30,
     "metadata": {},
     "output_type": "execute_result"
    }
   ],
   "source": [
    "ref_gene[ref_gene[\"gene_name\"] == \"TTLL10\"]"
   ]
  },
  {
   "cell_type": "code",
   "execution_count": 31,
   "metadata": {
    "kernel": "SoS"
   },
   "outputs": [
    {
     "data": {
      "text/html": [
       "<div>\n",
       "<style scoped>\n",
       "    .dataframe tbody tr th:only-of-type {\n",
       "        vertical-align: middle;\n",
       "    }\n",
       "\n",
       "    .dataframe tbody tr th {\n",
       "        vertical-align: top;\n",
       "    }\n",
       "\n",
       "    .dataframe thead th {\n",
       "        text-align: right;\n",
       "    }\n",
       "</style>\n",
       "<table border=\"1\" class=\"dataframe\">\n",
       "  <thead>\n",
       "    <tr style=\"text-align: right;\">\n",
       "      <th></th>\n",
       "      <th>CHR</th>\n",
       "      <th>start</th>\n",
       "      <th>end</th>\n",
       "      <th>gene_name</th>\n",
       "      <th>tx_name</th>\n",
       "    </tr>\n",
       "  </thead>\n",
       "  <tbody>\n",
       "    <tr>\n",
       "      <th>24</th>\n",
       "      <td>1</td>\n",
       "      <td>762970</td>\n",
       "      <td>778984</td>\n",
       "      <td>LINC01128</td>\n",
       "      <td>NR_047526</td>\n",
       "    </tr>\n",
       "    <tr>\n",
       "      <th>25</th>\n",
       "      <td>1</td>\n",
       "      <td>762970</td>\n",
       "      <td>794826</td>\n",
       "      <td>LINC01128</td>\n",
       "      <td>NR_047519</td>\n",
       "    </tr>\n",
       "    <tr>\n",
       "      <th>29</th>\n",
       "      <td>1</td>\n",
       "      <td>763177</td>\n",
       "      <td>794826</td>\n",
       "      <td>LINC01128</td>\n",
       "      <td>NR_047525</td>\n",
       "    </tr>\n",
       "  </tbody>\n",
       "</table>\n",
       "</div>"
      ],
      "text/plain": [
       "    CHR   start     end  gene_name    tx_name\n",
       "24    1  762970  778984  LINC01128  NR_047526\n",
       "25    1  762970  794826  LINC01128  NR_047519\n",
       "29    1  763177  794826  LINC01128  NR_047525"
      ]
     },
     "execution_count": 31,
     "metadata": {},
     "output_type": "execute_result"
    }
   ],
   "source": [
    "ref_gene[ref_gene[\"gene_name\"] == \"LINC01128\"]"
   ]
  },
  {
   "cell_type": "code",
   "execution_count": 32,
   "metadata": {
    "kernel": "SoS"
   },
   "outputs": [
    {
     "data": {
      "text/html": [
       "<div>\n",
       "<style scoped>\n",
       "    .dataframe tbody tr th:only-of-type {\n",
       "        vertical-align: middle;\n",
       "    }\n",
       "\n",
       "    .dataframe tbody tr th {\n",
       "        vertical-align: top;\n",
       "    }\n",
       "\n",
       "    .dataframe thead th {\n",
       "        text-align: right;\n",
       "    }\n",
       "</style>\n",
       "<table border=\"1\" class=\"dataframe\">\n",
       "  <thead>\n",
       "    <tr style=\"text-align: right;\">\n",
       "      <th></th>\n",
       "      <th>CHR</th>\n",
       "      <th>start</th>\n",
       "      <th>end</th>\n",
       "      <th>gene_name</th>\n",
       "      <th>tx_name</th>\n",
       "    </tr>\n",
       "  </thead>\n",
       "  <tbody>\n",
       "    <tr>\n",
       "      <th>24151</th>\n",
       "      <td>1</td>\n",
       "      <td>6845383</td>\n",
       "      <td>6948261</td>\n",
       "      <td>CAMTA1</td>\n",
       "      <td>NR_146202</td>\n",
       "    </tr>\n",
       "    <tr>\n",
       "      <th>27295</th>\n",
       "      <td>1</td>\n",
       "      <td>6845513</td>\n",
       "      <td>6932074</td>\n",
       "      <td>CAMTA1</td>\n",
       "      <td>NR_146204</td>\n",
       "    </tr>\n",
       "    <tr>\n",
       "      <th>9741</th>\n",
       "      <td>1</td>\n",
       "      <td>6845513</td>\n",
       "      <td>6948261</td>\n",
       "      <td>CAMTA1</td>\n",
       "      <td>NR_146203</td>\n",
       "    </tr>\n",
       "    <tr>\n",
       "      <th>13648</th>\n",
       "      <td>1</td>\n",
       "      <td>6845513</td>\n",
       "      <td>7829766</td>\n",
       "      <td>CAMTA1</td>\n",
       "      <td>NM_001349610</td>\n",
       "    </tr>\n",
       "    <tr>\n",
       "      <th>57536</th>\n",
       "      <td>1</td>\n",
       "      <td>7729789</td>\n",
       "      <td>7829766</td>\n",
       "      <td>CAMTA1</td>\n",
       "      <td>NM_001349623</td>\n",
       "    </tr>\n",
       "    <tr>\n",
       "      <th>7467</th>\n",
       "      <td>1</td>\n",
       "      <td>7729803</td>\n",
       "      <td>7829766</td>\n",
       "      <td>CAMTA1</td>\n",
       "      <td>NM_001349625</td>\n",
       "    </tr>\n",
       "    <tr>\n",
       "      <th>63410</th>\n",
       "      <td>1</td>\n",
       "      <td>7729824</td>\n",
       "      <td>7829766</td>\n",
       "      <td>CAMTA1</td>\n",
       "      <td>NM_001349617</td>\n",
       "    </tr>\n",
       "    <tr>\n",
       "      <th>63406</th>\n",
       "      <td>1</td>\n",
       "      <td>7740147</td>\n",
       "      <td>7829766</td>\n",
       "      <td>CAMTA1</td>\n",
       "      <td>NM_001349613</td>\n",
       "    </tr>\n",
       "    <tr>\n",
       "      <th>15217</th>\n",
       "      <td>1</td>\n",
       "      <td>7764795</td>\n",
       "      <td>7829766</td>\n",
       "      <td>CAMTA1</td>\n",
       "      <td>NM_001349619</td>\n",
       "    </tr>\n",
       "  </tbody>\n",
       "</table>\n",
       "</div>"
      ],
      "text/plain": [
       "       CHR    start      end gene_name       tx_name\n",
       "24151    1  6845383  6948261    CAMTA1     NR_146202\n",
       "27295    1  6845513  6932074    CAMTA1     NR_146204\n",
       "9741     1  6845513  6948261    CAMTA1     NR_146203\n",
       "13648    1  6845513  7829766    CAMTA1  NM_001349610\n",
       "57536    1  7729789  7829766    CAMTA1  NM_001349623\n",
       "7467     1  7729803  7829766    CAMTA1  NM_001349625\n",
       "63410    1  7729824  7829766    CAMTA1  NM_001349617\n",
       "63406    1  7740147  7829766    CAMTA1  NM_001349613\n",
       "15217    1  7764795  7829766    CAMTA1  NM_001349619"
      ]
     },
     "execution_count": 32,
     "metadata": {},
     "output_type": "execute_result"
    }
   ],
   "source": [
    "ref_gene[ref_gene[\"gene_name\"] == \"CAMTA1\"]"
   ]
  },
  {
   "cell_type": "code",
   "execution_count": 33,
   "metadata": {
    "kernel": "SoS"
   },
   "outputs": [],
   "source": [
    "# ref_gene[\"match\"] = (ref_gene.CHR != ref_gene.CHR.shift()) | ((ref_gene.start >= ref_gene.end.shift()) & (ref_gene.gene_name == ref_gene.gene_name.shift())) | \\\n",
    "#                     ((ref_gene.start >= ref_gene.end.shift()) & (ref_gene.gene_name != ref_gene.gene_name.shift()))\n",
    "ref_gene[\"match\"] = (ref_gene.CHR != ref_gene.CHR.shift()) | ((ref_gene.end >= ref_gene.start.shift()) & (ref_gene.gene_name != ref_gene.gene_name.shift()))"
   ]
  },
  {
   "cell_type": "code",
   "execution_count": 34,
   "metadata": {
    "kernel": "SoS"
   },
   "outputs": [
    {
     "data": {
      "text/html": [
       "<div>\n",
       "<style scoped>\n",
       "    .dataframe tbody tr th:only-of-type {\n",
       "        vertical-align: middle;\n",
       "    }\n",
       "\n",
       "    .dataframe tbody tr th {\n",
       "        vertical-align: top;\n",
       "    }\n",
       "\n",
       "    .dataframe thead th {\n",
       "        text-align: right;\n",
       "    }\n",
       "</style>\n",
       "<table border=\"1\" class=\"dataframe\">\n",
       "  <thead>\n",
       "    <tr style=\"text-align: right;\">\n",
       "      <th></th>\n",
       "      <th>CHR</th>\n",
       "      <th>start</th>\n",
       "      <th>end</th>\n",
       "      <th>gene_name</th>\n",
       "      <th>tx_name</th>\n",
       "      <th>match</th>\n",
       "    </tr>\n",
       "  </thead>\n",
       "  <tbody>\n",
       "    <tr>\n",
       "      <th>0</th>\n",
       "      <td>1</td>\n",
       "      <td>11868</td>\n",
       "      <td>14362</td>\n",
       "      <td>LOC102725121</td>\n",
       "      <td>NR_148357</td>\n",
       "      <td>True</td>\n",
       "    </tr>\n",
       "    <tr>\n",
       "      <th>1</th>\n",
       "      <td>1</td>\n",
       "      <td>11873</td>\n",
       "      <td>14409</td>\n",
       "      <td>DDX11L1</td>\n",
       "      <td>NR_046018</td>\n",
       "      <td>True</td>\n",
       "    </tr>\n",
       "    <tr>\n",
       "      <th>41329</th>\n",
       "      <td>1</td>\n",
       "      <td>14361</td>\n",
       "      <td>29370</td>\n",
       "      <td>WASH7P</td>\n",
       "      <td>NR_024540</td>\n",
       "      <td>True</td>\n",
       "    </tr>\n",
       "    <tr>\n",
       "      <th>3</th>\n",
       "      <td>1</td>\n",
       "      <td>17368</td>\n",
       "      <td>17436</td>\n",
       "      <td>MIR6859-1</td>\n",
       "      <td>NR_106918</td>\n",
       "      <td>True</td>\n",
       "    </tr>\n",
       "    <tr>\n",
       "      <th>7</th>\n",
       "      <td>1</td>\n",
       "      <td>30365</td>\n",
       "      <td>30503</td>\n",
       "      <td>MIR1302-2</td>\n",
       "      <td>NR_036051</td>\n",
       "      <td>True</td>\n",
       "    </tr>\n",
       "  </tbody>\n",
       "</table>\n",
       "</div>"
      ],
      "text/plain": [
       "       CHR  start    end     gene_name    tx_name  match\n",
       "0        1  11868  14362  LOC102725121  NR_148357   True\n",
       "1        1  11873  14409       DDX11L1  NR_046018   True\n",
       "41329    1  14361  29370        WASH7P  NR_024540   True\n",
       "3        1  17368  17436     MIR6859-1  NR_106918   True\n",
       "7        1  30365  30503     MIR1302-2  NR_036051   True"
      ]
     },
     "execution_count": 34,
     "metadata": {},
     "output_type": "execute_result"
    }
   ],
   "source": [
    "ref_gene.head()"
   ]
  },
  {
   "cell_type": "code",
   "execution_count": 35,
   "metadata": {
    "kernel": "SoS"
   },
   "outputs": [
    {
     "data": {
      "text/plain": [
       "Counter({True: 28957, False: 14485})"
      ]
     },
     "execution_count": 35,
     "metadata": {},
     "output_type": "execute_result"
    }
   ],
   "source": [
    "Counter(ref_gene[\"match\"])"
   ]
  },
  {
   "cell_type": "code",
   "execution_count": 36,
   "metadata": {
    "kernel": "SoS"
   },
   "outputs": [],
   "source": [
    "num = 1\n",
    "gene = list()\n",
    "for i in range(23):\n",
    "    tmp = ref_gene[ref_gene[\"CHR\"] == i+1]\n",
    "    for index, row in tmp.iterrows():\n",
    "        if row[\"match\"] == True:\n",
    "            gene.append(\"gene\" + str(num))\n",
    "            num += 1\n",
    "        else:\n",
    "            gene.append(\"gene\" + str(num-1))\n",
    "ref_gene[\"gene\"] = gene"
   ]
  },
  {
   "cell_type": "code",
   "execution_count": 38,
   "metadata": {
    "kernel": "SoS"
   },
   "outputs": [],
   "source": [
    "ref_gene_new = pd.DataFrame(columns = [\"CHR\", \"start\", \"end\", \"gene_name\"])\n",
    "gene_list = list(unique_everseen(gene))"
   ]
  },
  {
   "cell_type": "code",
   "execution_count": 39,
   "metadata": {
    "kernel": "SoS"
   },
   "outputs": [],
   "source": [
    "for gn in gene_list:\n",
    "    tmp = ref_gene[ref_gene[\"gene\"] == gn]\n",
    "    if tmp.shape[0] == 1:\n",
    "        ref_gene_new = ref_gene_new.append(tmp[[\"CHR\", \"start\", \"end\", \"gene_name\"]])\n",
    "    else:\n",
    "        ref_gene_new = ref_gene_new.append({\"CHR\": tmp[\"CHR\"].tolist()[0], \"start\": min(tmp[\"start\"]), \"end\": max(tmp[\"end\"]), \"gene_name\": tmp[\"gene_name\"].tolist()[0]}, ignore_index=True)"
   ]
  },
  {
   "cell_type": "code",
   "execution_count": 40,
   "metadata": {
    "kernel": "SoS"
   },
   "outputs": [
    {
     "data": {
      "text/plain": [
       "(28957, 4)"
      ]
     },
     "execution_count": 40,
     "metadata": {},
     "output_type": "execute_result"
    }
   ],
   "source": [
    "ref_gene_new.shape"
   ]
  },
  {
   "cell_type": "code",
   "execution_count": 41,
   "metadata": {
    "kernel": "SoS"
   },
   "outputs": [],
   "source": [
    "gene_name = ref_gene_new[\"gene_name\"].tolist()"
   ]
  },
  {
   "cell_type": "code",
   "execution_count": 42,
   "metadata": {
    "kernel": "SoS"
   },
   "outputs": [],
   "source": [
    "gene_name_new = []\n",
    "for i, v in enumerate(gene_name):\n",
    "    totalcount = gene_name.count(v)\n",
    "    count = gene_name[:i].count(v)\n",
    "    gene_name_new.append(v + \":\" + str(count + 1) if totalcount > 1 else v)"
   ]
  },
  {
   "cell_type": "code",
   "execution_count": 43,
   "metadata": {
    "kernel": "SoS"
   },
   "outputs": [],
   "source": [
    "ref_gene_new[\"gene_name\"] = gene_name_new"
   ]
  },
  {
   "cell_type": "code",
   "execution_count": 44,
   "metadata": {
    "kernel": "SoS"
   },
   "outputs": [
    {
     "data": {
      "text/html": [
       "<div>\n",
       "<style scoped>\n",
       "    .dataframe tbody tr th:only-of-type {\n",
       "        vertical-align: middle;\n",
       "    }\n",
       "\n",
       "    .dataframe tbody tr th {\n",
       "        vertical-align: top;\n",
       "    }\n",
       "\n",
       "    .dataframe thead th {\n",
       "        text-align: right;\n",
       "    }\n",
       "</style>\n",
       "<table border=\"1\" class=\"dataframe\">\n",
       "  <thead>\n",
       "    <tr style=\"text-align: right;\">\n",
       "      <th></th>\n",
       "      <th>CHR</th>\n",
       "      <th>start</th>\n",
       "      <th>end</th>\n",
       "      <th>gene_name</th>\n",
       "    </tr>\n",
       "  </thead>\n",
       "  <tbody>\n",
       "    <tr>\n",
       "      <th>0</th>\n",
       "      <td>1</td>\n",
       "      <td>11868</td>\n",
       "      <td>14362</td>\n",
       "      <td>LOC102725121:1</td>\n",
       "    </tr>\n",
       "    <tr>\n",
       "      <th>1</th>\n",
       "      <td>1</td>\n",
       "      <td>11873</td>\n",
       "      <td>14409</td>\n",
       "      <td>DDX11L1</td>\n",
       "    </tr>\n",
       "    <tr>\n",
       "      <th>2</th>\n",
       "      <td>1</td>\n",
       "      <td>14361</td>\n",
       "      <td>29370</td>\n",
       "      <td>WASH7P</td>\n",
       "    </tr>\n",
       "    <tr>\n",
       "      <th>3</th>\n",
       "      <td>1</td>\n",
       "      <td>17368</td>\n",
       "      <td>17436</td>\n",
       "      <td>MIR6859-1:1</td>\n",
       "    </tr>\n",
       "    <tr>\n",
       "      <th>4</th>\n",
       "      <td>1</td>\n",
       "      <td>30365</td>\n",
       "      <td>30503</td>\n",
       "      <td>MIR1302-2:1</td>\n",
       "    </tr>\n",
       "  </tbody>\n",
       "</table>\n",
       "</div>"
      ],
      "text/plain": [
       "  CHR  start    end       gene_name\n",
       "0   1  11868  14362  LOC102725121:1\n",
       "1   1  11873  14409         DDX11L1\n",
       "2   1  14361  29370          WASH7P\n",
       "3   1  17368  17436     MIR6859-1:1\n",
       "4   1  30365  30503     MIR1302-2:1"
      ]
     },
     "execution_count": 44,
     "metadata": {},
     "output_type": "execute_result"
    }
   ],
   "source": [
    "ref_gene_new.head()"
   ]
  },
  {
   "cell_type": "code",
   "execution_count": 46,
   "metadata": {
    "kernel": "SoS"
   },
   "outputs": [
    {
     "data": {
      "text/html": [
       "<div>\n",
       "<style scoped>\n",
       "    .dataframe tbody tr th:only-of-type {\n",
       "        vertical-align: middle;\n",
       "    }\n",
       "\n",
       "    .dataframe tbody tr th {\n",
       "        vertical-align: top;\n",
       "    }\n",
       "\n",
       "    .dataframe thead th {\n",
       "        text-align: right;\n",
       "    }\n",
       "</style>\n",
       "<table border=\"1\" class=\"dataframe\">\n",
       "  <thead>\n",
       "    <tr style=\"text-align: right;\">\n",
       "      <th></th>\n",
       "      <th>CHR</th>\n",
       "      <th>start</th>\n",
       "      <th>end</th>\n",
       "      <th>gene_name</th>\n",
       "    </tr>\n",
       "  </thead>\n",
       "  <tbody>\n",
       "    <tr>\n",
       "      <th>3</th>\n",
       "      <td>1</td>\n",
       "      <td>17368</td>\n",
       "      <td>17436</td>\n",
       "      <td>MIR6859-1:1</td>\n",
       "    </tr>\n",
       "    <tr>\n",
       "      <th>20802</th>\n",
       "      <td>15</td>\n",
       "      <td>102513726</td>\n",
       "      <td>102513794</td>\n",
       "      <td>MIR6859-1:2</td>\n",
       "    </tr>\n",
       "    <tr>\n",
       "      <th>20806</th>\n",
       "      <td>16</td>\n",
       "      <td>67051</td>\n",
       "      <td>67119</td>\n",
       "      <td>MIR6859-1:3</td>\n",
       "    </tr>\n",
       "  </tbody>\n",
       "</table>\n",
       "</div>"
      ],
      "text/plain": [
       "      CHR      start        end    gene_name\n",
       "3       1      17368      17436  MIR6859-1:1\n",
       "20802  15  102513726  102513794  MIR6859-1:2\n",
       "20806  16      67051      67119  MIR6859-1:3"
      ]
     },
     "execution_count": 46,
     "metadata": {},
     "output_type": "execute_result"
    }
   ],
   "source": [
    "ref_gene_new[ref_gene_new[\"gene_name\"].str.contains(\"MIR6859-1\")]"
   ]
  },
  {
   "cell_type": "code",
   "execution_count": 50,
   "metadata": {
    "kernel": "SoS"
   },
   "outputs": [],
   "source": [
    "## 20200316\n",
    "ref_gene_new.to_csv(f\"{cwd}/refGene.clean.gz\", compression = \"gzip\", sep = \"\\t\", index = False, header = [\"CHR\", \"start\", \"end\", \"gene\"])"
   ]
  },
  {
   "cell_type": "code",
   "execution_count": null,
   "metadata": {
    "kernel": "SoS"
   },
   "outputs": [],
   "source": []
  }
 ],
 "metadata": {
  "kernelspec": {
   "display_name": "SoS",
   "language": "sos",
   "name": "sos"
  },
  "language_info": {
   "codemirror_mode": "sos",
   "file_extension": ".sos",
   "mimetype": "text/x-sos",
   "name": "sos",
   "nbconvert_exporter": "sos_notebook.converter.SoS_Exporter",
   "pygments_lexer": "sos"
  },
  "sos": {
   "kernels": [
    [
     "SoS",
     "sos",
     "",
     ""
    ]
   ],
   "version": "0.21.7"
  }
 },
 "nbformat": 4,
 "nbformat_minor": 4
}
