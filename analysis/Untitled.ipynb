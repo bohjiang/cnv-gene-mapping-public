{
 "cells": [
  {
   "cell_type": "code",
   "execution_count": 4,
   "metadata": {
    "collapsed": true
   },
   "outputs": [],
   "source": [
    "library(feather)\n",
    "library(varbvs)"
   ]
  },
  {
   "cell_type": "code",
   "execution_count": 7,
   "metadata": {},
   "outputs": [
    {
     "ename": "ERROR",
     "evalue": "Error in varbvs(newdat[, -1], NULL, newdat[, 1], family = \"binomial\", : Input X must be a double-precision matrix with no missing values.\n",
     "output_type": "error",
     "traceback": [
      "Error in varbvs(newdat[, -1], NULL, newdat[, 1], family = \"binomial\", : Input X must be a double-precision matrix with no missing values.\nTraceback:\n",
      "1. varbvs(newdat[, -1], NULL, newdat[, 1], family = \"binomial\", \n .     logodds = seq(-3, -1, 0.1), sa = 1, verbose = F)",
      "2. stop(\"Input X must be a double-precision matrix with no missing values.\")"
     ]
    }
   ],
   "source": [
    "newdat = read_feather(\"data/s2_mild.feather\")\n",
    "newfit = varbvs(newdat[,-1], NULL, newdat[,1], family = \"binomial\", logodds = seq(-3.0,-1,0.1), sa = 1, verbose = F)"
   ]
  },
  {
   "cell_type": "code",
   "execution_count": 6,
   "metadata": {},
   "outputs": [
    {
     "name": "stdout",
     "output_type": "stream",
     "text": [
      "# A tibble: 1,200 × 4\n",
      "   phenotype   `0`   `1`   `2`\n",
      "       <int> <int> <int> <int>\n",
      "1          0     1     1     0\n",
      "2          1     1     1     0\n",
      "3          0     1     1     0\n",
      "4          0     1     1     0\n",
      "5          0     1     1     0\n",
      "6          0     1     1     0\n",
      "7          1     1     1     0\n",
      "8          1     1     1     0\n",
      "9          1     1     1     0\n",
      "10         1     1     1     0\n",
      "# ... with 1,190 more rows\n"
     ]
    }
   ],
   "source": [
    "print (newdat)"
   ]
  },
  {
   "cell_type": "code",
   "execution_count": null,
   "metadata": {
    "collapsed": true
   },
   "outputs": [],
   "source": []
  }
 ],
 "metadata": {
  "kernelspec": {
   "display_name": "R",
   "language": "R",
   "name": "ir"
  },
  "language_info": {
   "codemirror_mode": "r",
   "file_extension": ".r",
   "mimetype": "text/x-r-source",
   "name": "R",
   "pygments_lexer": "r",
   "version": "3.3.2"
  }
 },
 "nbformat": 4,
 "nbformat_minor": 2
}
