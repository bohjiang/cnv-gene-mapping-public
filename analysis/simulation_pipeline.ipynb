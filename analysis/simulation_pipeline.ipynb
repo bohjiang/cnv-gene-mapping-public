{
 "cells": [
  {
   "cell_type": "markdown",
   "metadata": {},
   "source": [
    "# Simulation pipeline"
   ]
  },
  {
   "cell_type": "markdown",
   "metadata": {
    "output_cache": "[]"
   },
   "source": [
    "This is the pipeline versions of simulation and data analysis of gene-based CNV analysis methods.\n",
    "## Large scale Bayesian variable selection\n",
    "This pipeline implements simulation and data analysis using Carbonetto & Stephens 2012."
   ]
  },
  {
   "cell_type": "code",
   "execution_count": null,
   "metadata": {
    "collapsed": false,
    "kernel": "sos",
    "output_cache": "[{\"output_type\":\"stream\",\"text\":\"Set sos options to \\\"-j 4\\\"\\n\",\"name\":\"stdout\"},{\"output_type\":\"display_data\",\"data\":{\"text/html\":\"<table style=\\\"border: 0px\\\"><tr style=\\\"border: 0px\\\">\\n                            <td style=\\\"border: 0px\\\"><i id=\\\"e88151fc6fbc45fa3068fb4160e3f299\\\" class=\\\"fa fa-2x fa-fw fa-spinner fa-pulse fa-spin\\\"></i> </td>\\n                            <td style=\\\"border: 0px\\\"><pre>e88151fc6fbc45fa3068fb4160e3f299</pre></td>\\n                            </tr></table>\"},\"metadata\":{}},{\"output_type\":\"display_data\",\"data\":{\"text/html\":\"<table style=\\\"border: 0px\\\"><tr style=\\\"border: 0px\\\">\\n                            <td style=\\\"border: 0px\\\"><i id=\\\"04d4faa702537e7bb1fd6a85d8b7ecc4\\\" class=\\\"fa fa-2x fa-fw fa-spinner fa-pulse fa-spin\\\"></i> </td>\\n                            <td style=\\\"border: 0px\\\"><pre>04d4faa702537e7bb1fd6a85d8b7ecc4</pre></td>\\n                            </tr></table>\"},\"metadata\":{}},{\"output_type\":\"display_data\",\"data\":{\"text/html\":\"<table style=\\\"border: 0px\\\"><tr style=\\\"border: 0px\\\">\\n                            <td style=\\\"border: 0px\\\"><i id=\\\"105e6f0f40abaee394ad86b5c64d6bc9\\\" class=\\\"fa fa-2x fa-fw fa-spinner fa-pulse fa-spin\\\"></i> </td>\\n                            <td style=\\\"border: 0px\\\"><pre>105e6f0f40abaee394ad86b5c64d6bc9</pre></td>\\n                            </tr></table>\"},\"metadata\":{}},{\"output_type\":\"display_data\",\"data\":{\"text/html\":\"<table style=\\\"border: 0px\\\"><tr style=\\\"border: 0px\\\">\\n                            <td style=\\\"border: 0px\\\"><i id=\\\"29ff60815ce0c1e7be526ecb26bdd0c0\\\" class=\\\"fa fa-2x fa-fw fa-spinner fa-pulse fa-spin\\\"></i> </td>\\n                            <td style=\\\"border: 0px\\\"><pre>29ff60815ce0c1e7be526ecb26bdd0c0</pre></td>\\n                            </tr></table>\"},\"metadata\":{}},{\"output_type\":\"display_data\",\"data\":{\"text/html\":\"<table style=\\\"border: 0px\\\"><tr style=\\\"border: 0px\\\">\\n                            <td style=\\\"border: 0px\\\"><i id=\\\"a9877f74aabdd9ac7d68f4cde9e055dd\\\" class=\\\"fa fa-2x fa-fw fa-spinner fa-pulse fa-spin\\\"></i> </td>\\n                            <td style=\\\"border: 0px\\\"><pre>a9877f74aabdd9ac7d68f4cde9e055dd</pre></td>\\n                            </tr></table>\"},\"metadata\":{}},{\"output_type\":\"display_data\",\"data\":{\"text/html\":\"<table style=\\\"border: 0px\\\"><tr style=\\\"border: 0px\\\">\\n                            <td style=\\\"border: 0px\\\"><i id=\\\"7cfa584dd037ebac85d03a06b1ef0c24\\\" class=\\\"fa fa-2x fa-fw fa-spinner fa-pulse fa-spin\\\"></i> </td>\\n                            <td style=\\\"border: 0px\\\"><pre>7cfa584dd037ebac85d03a06b1ef0c24</pre></td>\\n                            </tr></table>\"},\"metadata\":{}},{\"output_type\":\"display_data\",\"data\":{\"text/html\":\"<table style=\\\"border: 0px\\\"><tr style=\\\"border: 0px\\\">\\n                            <td style=\\\"border: 0px\\\"><i id=\\\"52abb89e170a3d4f3275138401189147\\\" class=\\\"fa fa-2x fa-fw fa-spinner fa-pulse fa-spin\\\"></i> </td>\\n                            <td style=\\\"border: 0px\\\"><pre>52abb89e170a3d4f3275138401189147</pre></td>\\n                            </tr></table>\"},\"metadata\":{}},{\"output_type\":\"display_data\",\"data\":{\"text/html\":\"<table style=\\\"border: 0px\\\"><tr style=\\\"border: 0px\\\">\\n                            <td style=\\\"border: 0px\\\"><i id=\\\"aa104a0388f91ee81ae29c81150defac\\\" class=\\\"fa fa-2x fa-fw fa-spinner fa-pulse fa-spin\\\"></i> </td>\\n                            <td style=\\\"border: 0px\\\"><pre>aa104a0388f91ee81ae29c81150defac</pre></td>\\n                            </tr></table>\"},\"metadata\":{}},{\"output_type\":\"display_data\",\"data\":{\"text/html\":\"<table style=\\\"border: 0px\\\"><tr style=\\\"border: 0px\\\">\\n                            <td style=\\\"border: 0px\\\"><i id=\\\"8d44261a06e35f40e8a8b444efbd8a39\\\" class=\\\"fa fa-2x fa-fw fa-spinner fa-pulse fa-spin\\\"></i> </td>\\n                            <td style=\\\"border: 0px\\\"><pre>8d44261a06e35f40e8a8b444efbd8a39</pre></td>\\n                            </tr></table>\"},\"metadata\":{}},{\"output_type\":\"display_data\",\"data\":{\"text/html\":\"<table style=\\\"border: 0px\\\"><tr style=\\\"border: 0px\\\">\\n                            <td style=\\\"border: 0px\\\"><i id=\\\"4fe8f9cb53afa3e5dbd7ec91b6defbac\\\" class=\\\"fa fa-2x fa-fw fa-spinner fa-pulse fa-spin\\\"></i> </td>\\n                            <td style=\\\"border: 0px\\\"><pre>4fe8f9cb53afa3e5dbd7ec91b6defbac</pre></td>\\n                            </tr></table>\"},\"metadata\":{}},{\"output_type\":\"display_data\",\"data\":{\"text/html\":\"<table style=\\\"border: 0px\\\"><tr style=\\\"border: 0px\\\">\\n                            <td style=\\\"border: 0px\\\"><i id=\\\"4b6355d7280ef82317510c9c990045a7\\\" class=\\\"fa fa-2x fa-fw fa-square-o\\\"></i> </td>\\n                            <td style=\\\"border: 0px\\\"><pre>4b6355d7280ef82317510c9c990045a7</pre></td>\\n                            </tr></table>\"},\"metadata\":{}},{\"output_type\":\"display_data\",\"data\":{\"text/html\":\"<table style=\\\"border: 0px\\\"><tr style=\\\"border: 0px\\\">\\n                            <td style=\\\"border: 0px\\\"><i id=\\\"40c9843a45e3e8bd4ddc84d478643305\\\" class=\\\"fa fa-2x fa-fw fa-square-o\\\"></i> </td>\\n                            <td style=\\\"border: 0px\\\"><pre>40c9843a45e3e8bd4ddc84d478643305</pre></td>\\n                            </tr></table>\"},\"metadata\":{}},{\"output_type\":\"display_data\",\"data\":{\"text/html\":\"<table style=\\\"border: 0px\\\"><tr style=\\\"border: 0px\\\">\\n                            <td style=\\\"border: 0px\\\"><i id=\\\"1669a8018dbd3c4b9335fcf27b9f2b5c\\\" class=\\\"fa fa-2x fa-fw fa-square-o\\\"></i> </td>\\n                            <td style=\\\"border: 0px\\\"><pre>1669a8018dbd3c4b9335fcf27b9f2b5c</pre></td>\\n                            </tr></table>\"},\"metadata\":{}},{\"output_type\":\"display_data\",\"data\":{\"text/html\":\"<table style=\\\"border: 0px\\\"><tr style=\\\"border: 0px\\\">\\n                            <td style=\\\"border: 0px\\\"><i id=\\\"39b22431d867cd8fcedd18a44d741f37\\\" class=\\\"fa fa-2x fa-fw fa-square-o\\\"></i> </td>\\n                            <td style=\\\"border: 0px\\\"><pre>39b22431d867cd8fcedd18a44d741f37</pre></td>\\n                            </tr></table>\"},\"metadata\":{}},{\"output_type\":\"display_data\",\"data\":{\"text/html\":\"<table style=\\\"border: 0px\\\"><tr style=\\\"border: 0px\\\">\\n                            <td style=\\\"border: 0px\\\"><i id=\\\"eef15edc907ac42d402112a83566a92d\\\" class=\\\"fa fa-2x fa-fw fa-square-o\\\"></i> </td>\\n                            <td style=\\\"border: 0px\\\"><pre>eef15edc907ac42d402112a83566a92d</pre></td>\\n                            </tr></table>\"},\"metadata\":{}},{\"output_type\":\"display_data\",\"data\":{\"text/html\":\"<table style=\\\"border: 0px\\\"><tr style=\\\"border: 0px\\\">\\n                            <td style=\\\"border: 0px\\\"><i id=\\\"32b2dafb601dd01f4efefa5a76cb596e\\\" class=\\\"fa fa-2x fa-fw fa-square-o\\\"></i> </td>\\n                            <td style=\\\"border: 0px\\\"><pre>32b2dafb601dd01f4efefa5a76cb596e</pre></td>\\n                            </tr></table>\"},\"metadata\":{}},{\"output_type\":\"display_data\",\"data\":{\"text/html\":\"<table style=\\\"border: 0px\\\"><tr style=\\\"border: 0px\\\">\\n                            <td style=\\\"border: 0px\\\"><i id=\\\"49b3160710cf87ef095133f3af2fbeb3\\\" class=\\\"fa fa-2x fa-fw fa-square-o\\\"></i> </td>\\n                            <td style=\\\"border: 0px\\\"><pre>49b3160710cf87ef095133f3af2fbeb3</pre></td>\\n                            </tr></table>\"},\"metadata\":{}},{\"output_type\":\"display_data\",\"data\":{\"text/html\":\"<table style=\\\"border: 0px\\\"><tr style=\\\"border: 0px\\\">\\n                            <td style=\\\"border: 0px\\\"><i id=\\\"9e133a517e0c71c86f6683fcf216cc60\\\" class=\\\"fa fa-2x fa-fw fa-square-o\\\"></i> </td>\\n                            <td style=\\\"border: 0px\\\"><pre>9e133a517e0c71c86f6683fcf216cc60</pre></td>\\n                            </tr></table>\"},\"metadata\":{}}]"
   },
   "outputs": [
    {
     "name": "stdout",
     "output_type": "stream",
     "text": [
      "Set sos options to \"-j 4\"\n"
     ]
    },
    {
     "data": {
      "text/html": [
       "<table style=\"border: 0px\"><tr style=\"border: 0px\">\n",
       "                            <td style=\"border: 0px\"><i id=\"e88151fc6fbc45fa3068fb4160e3f299\" class=\"fa fa-2x fa-fw fa-spinner fa-pulse fa-spin\"></i> </td>\n",
       "                            <td style=\"border: 0px\"><pre>e88151fc6fbc45fa3068fb4160e3f299</pre></td>\n",
       "                            </tr></table>"
      ]
     },
     "metadata": {},
     "output_type": "display_data"
    },
    {
     "data": {
      "text/html": [
       "<table style=\"border: 0px\"><tr style=\"border: 0px\">\n",
       "                            <td style=\"border: 0px\"><i id=\"04d4faa702537e7bb1fd6a85d8b7ecc4\" class=\"fa fa-2x fa-fw fa-spinner fa-pulse fa-spin\"></i> </td>\n",
       "                            <td style=\"border: 0px\"><pre>04d4faa702537e7bb1fd6a85d8b7ecc4</pre></td>\n",
       "                            </tr></table>"
      ]
     },
     "metadata": {},
     "output_type": "display_data"
    },
    {
     "data": {
      "text/html": [
       "<table style=\"border: 0px\"><tr style=\"border: 0px\">\n",
       "                            <td style=\"border: 0px\"><i id=\"105e6f0f40abaee394ad86b5c64d6bc9\" class=\"fa fa-2x fa-fw fa-spinner fa-pulse fa-spin\"></i> </td>\n",
       "                            <td style=\"border: 0px\"><pre>105e6f0f40abaee394ad86b5c64d6bc9</pre></td>\n",
       "                            </tr></table>"
      ]
     },
     "metadata": {},
     "output_type": "display_data"
    },
    {
     "data": {
      "text/html": [
       "<table style=\"border: 0px\"><tr style=\"border: 0px\">\n",
       "                            <td style=\"border: 0px\"><i id=\"29ff60815ce0c1e7be526ecb26bdd0c0\" class=\"fa fa-2x fa-fw fa-spinner fa-pulse fa-spin\"></i> </td>\n",
       "                            <td style=\"border: 0px\"><pre>29ff60815ce0c1e7be526ecb26bdd0c0</pre></td>\n",
       "                            </tr></table>"
      ]
     },
     "metadata": {},
     "output_type": "display_data"
    },
    {
     "data": {
      "text/html": [
       "<table style=\"border: 0px\"><tr style=\"border: 0px\">\n",
       "                            <td style=\"border: 0px\"><i id=\"a9877f74aabdd9ac7d68f4cde9e055dd\" class=\"fa fa-2x fa-fw fa-spinner fa-pulse fa-spin\"></i> </td>\n",
       "                            <td style=\"border: 0px\"><pre>a9877f74aabdd9ac7d68f4cde9e055dd</pre></td>\n",
       "                            </tr></table>"
      ]
     },
     "metadata": {},
     "output_type": "display_data"
    },
    {
     "data": {
      "text/html": [
       "<table style=\"border: 0px\"><tr style=\"border: 0px\">\n",
       "                            <td style=\"border: 0px\"><i id=\"7cfa584dd037ebac85d03a06b1ef0c24\" class=\"fa fa-2x fa-fw fa-spinner fa-pulse fa-spin\"></i> </td>\n",
       "                            <td style=\"border: 0px\"><pre>7cfa584dd037ebac85d03a06b1ef0c24</pre></td>\n",
       "                            </tr></table>"
      ]
     },
     "metadata": {},
     "output_type": "display_data"
    },
    {
     "data": {
      "text/html": [
       "<table style=\"border: 0px\"><tr style=\"border: 0px\">\n",
       "                            <td style=\"border: 0px\"><i id=\"52abb89e170a3d4f3275138401189147\" class=\"fa fa-2x fa-fw fa-spinner fa-pulse fa-spin\"></i> </td>\n",
       "                            <td style=\"border: 0px\"><pre>52abb89e170a3d4f3275138401189147</pre></td>\n",
       "                            </tr></table>"
      ]
     },
     "metadata": {},
     "output_type": "display_data"
    },
    {
     "data": {
      "text/html": [
       "<table style=\"border: 0px\"><tr style=\"border: 0px\">\n",
       "                            <td style=\"border: 0px\"><i id=\"aa104a0388f91ee81ae29c81150defac\" class=\"fa fa-2x fa-fw fa-spinner fa-pulse fa-spin\"></i> </td>\n",
       "                            <td style=\"border: 0px\"><pre>aa104a0388f91ee81ae29c81150defac</pre></td>\n",
       "                            </tr></table>"
      ]
     },
     "metadata": {},
     "output_type": "display_data"
    },
    {
     "data": {
      "text/html": [
       "<table style=\"border: 0px\"><tr style=\"border: 0px\">\n",
       "                            <td style=\"border: 0px\"><i id=\"8d44261a06e35f40e8a8b444efbd8a39\" class=\"fa fa-2x fa-fw fa-spinner fa-pulse fa-spin\"></i> </td>\n",
       "                            <td style=\"border: 0px\"><pre>8d44261a06e35f40e8a8b444efbd8a39</pre></td>\n",
       "                            </tr></table>"
      ]
     },
     "metadata": {},
     "output_type": "display_data"
    },
    {
     "data": {
      "text/html": [
       "<table style=\"border: 0px\"><tr style=\"border: 0px\">\n",
       "                            <td style=\"border: 0px\"><i id=\"4fe8f9cb53afa3e5dbd7ec91b6defbac\" class=\"fa fa-2x fa-fw fa-spinner fa-pulse fa-spin\"></i> </td>\n",
       "                            <td style=\"border: 0px\"><pre>4fe8f9cb53afa3e5dbd7ec91b6defbac</pre></td>\n",
       "                            </tr></table>"
      ]
     },
     "metadata": {},
     "output_type": "display_data"
    },
    {
     "data": {
      "text/html": [
       "<table style=\"border: 0px\"><tr style=\"border: 0px\">\n",
       "                            <td style=\"border: 0px\"><i id=\"4b6355d7280ef82317510c9c990045a7\" class=\"fa fa-2x fa-fw fa-square-o\"></i> </td>\n",
       "                            <td style=\"border: 0px\"><pre>4b6355d7280ef82317510c9c990045a7</pre></td>\n",
       "                            </tr></table>"
      ]
     },
     "metadata": {},
     "output_type": "display_data"
    },
    {
     "data": {
      "text/html": [
       "<table style=\"border: 0px\"><tr style=\"border: 0px\">\n",
       "                            <td style=\"border: 0px\"><i id=\"40c9843a45e3e8bd4ddc84d478643305\" class=\"fa fa-2x fa-fw fa-square-o\"></i> </td>\n",
       "                            <td style=\"border: 0px\"><pre>40c9843a45e3e8bd4ddc84d478643305</pre></td>\n",
       "                            </tr></table>"
      ]
     },
     "metadata": {},
     "output_type": "display_data"
    },
    {
     "data": {
      "text/html": [
       "<table style=\"border: 0px\"><tr style=\"border: 0px\">\n",
       "                            <td style=\"border: 0px\"><i id=\"1669a8018dbd3c4b9335fcf27b9f2b5c\" class=\"fa fa-2x fa-fw fa-square-o\"></i> </td>\n",
       "                            <td style=\"border: 0px\"><pre>1669a8018dbd3c4b9335fcf27b9f2b5c</pre></td>\n",
       "                            </tr></table>"
      ]
     },
     "metadata": {},
     "output_type": "display_data"
    },
    {
     "data": {
      "text/html": [
       "<table style=\"border: 0px\"><tr style=\"border: 0px\">\n",
       "                            <td style=\"border: 0px\"><i id=\"39b22431d867cd8fcedd18a44d741f37\" class=\"fa fa-2x fa-fw fa-square-o\"></i> </td>\n",
       "                            <td style=\"border: 0px\"><pre>39b22431d867cd8fcedd18a44d741f37</pre></td>\n",
       "                            </tr></table>"
      ]
     },
     "metadata": {},
     "output_type": "display_data"
    },
    {
     "data": {
      "text/html": [
       "<table style=\"border: 0px\"><tr style=\"border: 0px\">\n",
       "                            <td style=\"border: 0px\"><i id=\"eef15edc907ac42d402112a83566a92d\" class=\"fa fa-2x fa-fw fa-square-o\"></i> </td>\n",
       "                            <td style=\"border: 0px\"><pre>eef15edc907ac42d402112a83566a92d</pre></td>\n",
       "                            </tr></table>"
      ]
     },
     "metadata": {},
     "output_type": "display_data"
    },
    {
     "data": {
      "text/html": [
       "<table style=\"border: 0px\"><tr style=\"border: 0px\">\n",
       "                            <td style=\"border: 0px\"><i id=\"32b2dafb601dd01f4efefa5a76cb596e\" class=\"fa fa-2x fa-fw fa-square-o\"></i> </td>\n",
       "                            <td style=\"border: 0px\"><pre>32b2dafb601dd01f4efefa5a76cb596e</pre></td>\n",
       "                            </tr></table>"
      ]
     },
     "metadata": {},
     "output_type": "display_data"
    },
    {
     "data": {
      "text/html": [
       "<table style=\"border: 0px\"><tr style=\"border: 0px\">\n",
       "                            <td style=\"border: 0px\"><i id=\"49b3160710cf87ef095133f3af2fbeb3\" class=\"fa fa-2x fa-fw fa-square-o\"></i> </td>\n",
       "                            <td style=\"border: 0px\"><pre>49b3160710cf87ef095133f3af2fbeb3</pre></td>\n",
       "                            </tr></table>"
      ]
     },
     "metadata": {},
     "output_type": "display_data"
    },
    {
     "data": {
      "text/html": [
       "<table style=\"border: 0px\"><tr style=\"border: 0px\">\n",
       "                            <td style=\"border: 0px\"><i id=\"9e133a517e0c71c86f6683fcf216cc60\" class=\"fa fa-2x fa-fw fa-square-o\"></i> </td>\n",
       "                            <td style=\"border: 0px\"><pre>9e133a517e0c71c86f6683fcf216cc60</pre></td>\n",
       "                            </tr></table>"
      ]
     },
     "metadata": {},
     "output_type": "display_data"
    }
   ],
   "source": [
    "%set -j 4\n",
    "%run simulate\n",
    "[simulate: shared = {'simulated_data': 'output'}]\n",
    "parameter: gamma = [(None, None), (3,1), (5,1)]\n",
    "parameter: sample_size = [50, 100, 500]\n",
    "parameter: n_causal_gene = [50, 100]\n",
    "parameter: seed = [999]\n",
    "parameter: name = 'data/del_sim'\n",
    "input: for_each = ['gamma', 'sample_size', 'n_causal_gene', 'seed']\n",
    "output: \"${name}_%s.pkl\" % \"scale{}_shape{}_N{}_M{}\".format(\"${_gamma[0]}\", \"${_gamma[1]}\", \"${_sample_size}\", \"${_n_causal_gene}\", \"${_seed}\")\n",
    "task:\n",
    "python:\n",
    "import sys, os\n",
    "sys.path.append(os.path.expanduser('~/GIT/cnv-gene-mapping/analysis'))\n",
    "from simulation import *\n",
    "args = Environment()\n",
    "args['odds_ratio_params']['shape'] = ${_gamma[0]}\n",
    "args['odds_ratio_params']['scale'] = ${_gamma[1]}\n",
    "args['n_case'] = args['n_ctrl'] = ${_sample_size}\n",
    "args['n_causal_gene'] = ${_n_causal_gene}\n",
    "args['output'] = ${name!r}\n",
    "args.seed = ${_seed}\n",
    "run_simulation(args, ${_index})\n",
    "\n",
    "[varbvs_1]\n",
    "depends: sos_variable(\"simulated_data\"), Py_Module(\"feather\")\n",
    "input: simulated_data, group_by = 'single'\n",
    "output: \"${_input!n}.feather\"\n",
    "task:\n",
    "python:\n",
    "import pickle\n",
    "import pandas as pd\n",
    "import numpy as np\n",
    "import feather\n",
    "sys.path.append(os.path.expanduser('~/GIT/cnv-gene-mapping/analysis'))\n",
    "from simulation import *\n",
    "args = Environment()\n",
    "#\n",
    "dat = pickle.load(open(${_input!r}, \"rb\"))\n",
    "ref = load_reference_gene(args[\"refgene_file\"])\n",
    "# create regression data\n",
    "genes = pd.Series(ref['gene_name'])\n",
    "regression_data = np.array([np.array(genes.isin(item[\"gene_name\"]), dtype = float) for item in dat['case'] + dat['ctrl']])\n",
    "regression_data = np.hstack((np.matrix([1] * len(dat['case']) + [0] * len(dat['ctrl'])).T, regression_data))\n",
    "regression_data = regression_data[:,~np.ravel((regression_data==0).all(0))]\n",
    "# save to disk\n",
    "feather.write_dataframe(pd.DataFrame(regression_data), ${_output!r})\n",
    "\n",
    "[varbvs_2]\n",
    "depends: R_library(\"varbvs\"), R_library(\"feather\")\n",
    "input: group_by = \"single\"\n",
    "output: \"${_input!n}.varbvs.rds\"\n",
    "task:\n",
    "R:\n",
    "dat = as.matrix(feather::read_feather(${input!r}))\n",
    "# FIXME: need to check if the usage is correct\n",
    "fit = varbvs::varbvs(dat[,-1], NULL, dat[,1], family = \"binomial\", logodds = seq(-3.5,-1,0.1), sa = 1, verbose = F)\n",
    "saveRDS(fit, ${output!r})"
   ]
  },
  {
   "cell_type": "code",
   "execution_count": null,
   "metadata": {
    "collapsed": true
   },
   "outputs": [],
   "source": []
  }
 ],
 "metadata": {
  "kernelspec": {
   "display_name": "SoS",
   "language": "sos",
   "name": "sos"
  },
  "language_info": {
   "codemirror_mode": "sos",
   "file_extension": ".sos",
   "mimetype": "text/x-sos",
   "name": "sos",
   "nbconvert_exporter": "sos.jupyter.converter.SoS_Exporter",
   "pygments_lexer": "sos"
  },
  "sos": {
   "celltoolbar": true,
   "kernels": [
    [
     "sos",
     "SoS",
     ""
    ],
    [
     "python3",
     "Python3",
     "#EAFAF1"
    ],
    [
     "ir",
     "R",
     "#FDEDEC"
    ]
   ],
   "panel": {
    "displayed": true,
    "height": 0,
    "style": "side"
   }
  }
 },
 "nbformat": 4,
 "nbformat_minor": 0
}
