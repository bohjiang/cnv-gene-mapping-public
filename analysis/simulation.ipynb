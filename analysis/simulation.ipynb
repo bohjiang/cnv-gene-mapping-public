{
 "cells": [
  {
   "cell_type": "markdown",
   "metadata": {
    "collapsed": true
   },
   "source": [
    "## Simulation steps\n",
    "1. Sample risk genes: sample 1000 genes of 20Kbp\n",
    "2. Sample relative risk for risk genes: γi ~ Gamma(5,1)\n",
    "3. Assign relative risk for all CNVs\n",
    "4. Sample case-control data: χcnv(case)~Bin(CNV.count, RRcnv / (RRcnv+1))"
   ]
  },
  {
   "cell_type": "code",
   "execution_count": 21,
   "metadata": {
    "collapsed": true
   },
   "outputs": [],
   "source": [
    "import random\n",
    "import pandas as pd\n",
    "from pandasql import sqldf"
   ]
  },
  {
   "cell_type": "code",
   "execution_count": 41,
   "metadata": {
    "collapsed": false,
    "scrolled": true
   },
   "outputs": [
    {
     "name": "stdout",
     "output_type": "stream",
     "text": [
      "      chrom     gene_name  min(tx_start)  max(tx_end)\n",
      "0      chr1       A3GALT2       33772366     33786699\n",
      "1      chr1       AADACL3       12776117     12788726\n",
      "2      chr1       AADACL4       12704565     12727097\n",
      "3      chr1         ABCA4       94458393     94586705\n",
      "4      chr1        ABCB10      229652328    229694442\n",
      "5      chr1         ABCD3       94883932     94984219\n",
      "6      chr1          ABL2      179068461    179198819\n",
      "7      chr1         ACADM       76190031     76229363\n",
      "8      chr1         ACAP3        1227763      1243269\n",
      "9      chr1         ACBD3      226332379    226374423\n",
      "10     chr1         ACBD6      180257351    180472022\n",
      "11     chr1         ACKR1      159173802    159176290\n",
      "12     chr1        ACOT11       55013806     55100417\n",
      "13     chr1         ACOT7        6324331      6453826\n",
      "14     chr1          ACP6      147119167    147142665\n",
      "15     chr1         ACTA1      229566992    229569843\n",
      "16     chr1      ACTG1P20       27650364     27653016\n",
      "17     chr1       ACTG1P4      104112025    104114008\n",
      "18     chr1         ACTL8       18081807     18153558\n",
      "19     chr1         ACTN2      236849753    236927927\n",
      "20     chr1        ACTRT2        2938045      2939467\n",
      "21     chr1        ADAM15      155023747    155035252\n",
      "22     chr1        ADAM30      120436155    120439147\n",
      "23     chr1       ADAMTS4      161159518    161168843\n",
      "24     chr1      ADAMTSL4      150521844    150533412\n",
      "25     chr1  ADAMTSL4-AS1      150533370    150547028\n",
      "26     chr1          ADAR      154554533    154600456\n",
      "27     chr1        ADCY10      167778624    167883464\n",
      "28     chr1        ADGRB2       32192705     32229664\n",
      "29     chr1        ADGRL2       82165454     82458422\n",
      "...     ...           ...            ...          ...\n",
      "28363  chrY        TTTY16        7567397      7569288\n",
      "28364  chrY       TTTY17A       26631478     27330920\n",
      "28365  chrY       TTTY17B       24997730     24998862\n",
      "28366  chrY        TTTY18        8551410      8551919\n",
      "28367  chrY        TTTY19        8572512      8573324\n",
      "28368  chrY         TTTY2        6274284      9596085\n",
      "28369  chrY        TTTY20        9167488      9172441\n",
      "28370  chrY        TTTY21        6311474      9558905\n",
      "28371  chrY        TTTY22        9638761      9650854\n",
      "28372  chrY        TTTY23        6110486      9749571\n",
      "28373  chrY        TTTY3B       26082873     27879535\n",
      "28374  chrY        TTTY4C       25082601     27246039\n",
      "28375  chrY         TTTY5       24442944     24445023\n",
      "28376  chrY         TTTY6       24291111     24587606\n",
      "28377  chrY        TTTY6B       24291133     24587584\n",
      "28378  chrY         TTTY7        6317508      9552871\n",
      "28379  chrY         TTTY8        6339071      9531308\n",
      "28380  chrY        TTTY9B       20743091     20901083\n",
      "28381  chrY        TXLNGY       21729243     21769056\n",
      "28382  chrY         USP9Y       14813159     14972768\n",
      "28383  chrY           UTY       15360258     15592550\n",
      "28384  chrY         VAMP7       59213948     59276439\n",
      "28385  chrY           VCY       16097651     16168838\n",
      "28386  chrY         VCY1B       16097651     16168838\n",
      "28387  chrY        WASIR1       59347234     59349501\n",
      "28388  chrY          XGY2        2620336      2643037\n",
      "28389  chrY          XKRY       19880859     20298915\n",
      "28390  chrY         ZBED1        2354454      2369008\n",
      "28391  chrY           ZFY        2803111      2850547\n",
      "28392  chrY       ZFY-AS1        2834859      2870667\n",
      "\n",
      "[28393 rows x 4 columns]\n"
     ]
    }
   ],
   "source": [
    "ref_gene = pd.read_table(\"data/refGene.txt.gz\", compression=\"gzip\", sep=\"\\t\", \n",
    "                         header = None, usecols=(1,2,4,5,12), \n",
    "                         names = [\"tx_name\", \"chrom\", \"tx_start\", \"tx_end\", \"gene_name\"])\n",
    "#gene_df = ref_gene.drop_duplicates(subset=(\"chrom\", \"tx_start\", \"tx_end\", \"gene_name\"))\n",
    "gene_df = ref_gene.drop_duplicates(subset=(\"chrom\", \"tx_start\", \"tx_end\"))\n",
    "query = '''\n",
    "select chrom, gene_name, min(tx_start), max(tx_end)\n",
    "from gene_df\n",
    "group by chrom, gene_name\n",
    "'''\n",
    "gene_table = sqldf(query)\n",
    "print (gene_table)"
   ]
  },
  {
   "cell_type": "code",
   "execution_count": null,
   "metadata": {
    "collapsed": true
   },
   "outputs": [],
   "source": []
  }
 ],
 "metadata": {
  "kernelspec": {
   "display_name": "Python 3",
   "language": "python",
   "name": "python3"
  },
  "language_info": {
   "codemirror_mode": {
    "name": "ipython",
    "version": 3
   },
   "file_extension": ".py",
   "mimetype": "text/x-python",
   "name": "python",
   "nbconvert_exporter": "python",
   "pygments_lexer": "ipython3",
   "version": "3.5.2"
  }
 },
 "nbformat": 4,
 "nbformat_minor": 0
}
