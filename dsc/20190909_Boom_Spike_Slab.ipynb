{
 "cells": [
  {
   "cell_type": "code",
   "execution_count": 1,
   "metadata": {},
   "outputs": [],
   "source": [
    "library(data.table)\n",
    "library(reticulate)"
   ]
  },
  {
   "cell_type": "code",
   "execution_count": 2,
   "metadata": {},
   "outputs": [
    {
     "name": "stderr",
     "output_type": "stream",
     "text": [
      "Loading required package: Boom\n",
      "Loading required package: MASS\n",
      "\n",
      "Attaching package: ‘Boom’\n",
      "\n",
      "The following object is masked from ‘package:stats’:\n",
      "\n",
      "    rWishart\n",
      "\n",
      "\n",
      "Attaching package: ‘BoomSpikeSlab’\n",
      "\n",
      "The following object is masked from ‘package:stats’:\n",
      "\n",
      "    knots\n",
      "\n"
     ]
    }
   ],
   "source": [
    "library(susieR)\n",
    "library(BoomSpikeSlab)"
   ]
  },
  {
   "cell_type": "code",
   "execution_count": 8,
   "metadata": {},
   "outputs": [],
   "source": [
    "X = as.matrix(data.table::fread(\"/home/min/GIT/cnv-gene-mapping/data/deletion_simu/block_79_137/deletion.genes.block30.for_simu.sample.genes.block_79_137.gz\", header = F))"
   ]
  },
  {
   "cell_type": "code",
   "execution_count": 4,
   "metadata": {},
   "outputs": [
    {
     "data": {
      "text/html": [
       "<ol class=list-inline>\n",
       "\t<li>13412</li>\n",
       "\t<li>59</li>\n",
       "</ol>\n"
      ],
      "text/latex": [
       "\\begin{enumerate*}\n",
       "\\item 13412\n",
       "\\item 59\n",
       "\\end{enumerate*}\n"
      ],
      "text/markdown": [
       "1. 13412\n",
       "2. 59\n",
       "\n",
       "\n"
      ],
      "text/plain": [
       "[1] 13412    59"
      ]
     },
     "metadata": {},
     "output_type": "display_data"
    }
   ],
   "source": [
    "dim(X)"
   ]
  },
  {
   "cell_type": "code",
   "execution_count": 5,
   "metadata": {},
   "outputs": [],
   "source": [
    "y <- as.matrix(data.table::fread(\"/data/GIT/cnv-gene-mapping/data/deletion_simu/deletion.genes.block30.for_simu.sample.y\"))"
   ]
  },
  {
   "cell_type": "code",
   "execution_count": 10,
   "metadata": {},
   "outputs": [],
   "source": [
    "storage.mode(X) = 'double'\n",
    "# storage.mode(y) = 'double'"
   ]
  },
  {
   "cell_type": "code",
   "execution_count": 11,
   "metadata": {},
   "outputs": [],
   "source": [
    "prior <- SpikeSlabPrior(X, y, expected.model.size = 1, diagonal.shrinkage = 0, optional.coefficient.estimate = rep(0, dim(X)[2]))"
   ]
  },
  {
   "cell_type": "code",
   "execution_count": 12,
   "metadata": {},
   "outputs": [
    {
     "data": {
      "text/html": [
       "<ol class=list-inline>\n",
       "\t<li>'prior.inclusion.probabilities'</li>\n",
       "\t<li>'mu'</li>\n",
       "\t<li>'sigma.guess'</li>\n",
       "\t<li>'prior.df'</li>\n",
       "\t<li>'sigma.upper.limit'</li>\n",
       "\t<li>'max.flips'</li>\n",
       "\t<li>'siginv'</li>\n",
       "</ol>\n"
      ],
      "text/latex": [
       "\\begin{enumerate*}\n",
       "\\item 'prior.inclusion.probabilities'\n",
       "\\item 'mu'\n",
       "\\item 'sigma.guess'\n",
       "\\item 'prior.df'\n",
       "\\item 'sigma.upper.limit'\n",
       "\\item 'max.flips'\n",
       "\\item 'siginv'\n",
       "\\end{enumerate*}\n"
      ],
      "text/markdown": [
       "1. 'prior.inclusion.probabilities'\n",
       "2. 'mu'\n",
       "3. 'sigma.guess'\n",
       "4. 'prior.df'\n",
       "5. 'sigma.upper.limit'\n",
       "6. 'max.flips'\n",
       "7. 'siginv'\n",
       "\n",
       "\n"
      ],
      "text/plain": [
       "[1] \"prior.inclusion.probabilities\" \"mu\"                           \n",
       "[3] \"sigma.guess\"                   \"prior.df\"                     \n",
       "[5] \"sigma.upper.limit\"             \"max.flips\"                    \n",
       "[7] \"siginv\"                       "
      ]
     },
     "metadata": {},
     "output_type": "display_data"
    }
   ],
   "source": [
    "names(prior)"
   ]
  },
  {
   "cell_type": "code",
   "execution_count": 21,
   "metadata": {},
   "outputs": [
    {
     "data": {
      "text/html": [
       "59"
      ],
      "text/latex": [
       "59"
      ],
      "text/markdown": [
       "59"
      ],
      "text/plain": [
       "[1] 59"
      ]
     },
     "metadata": {},
     "output_type": "display_data"
    }
   ],
   "source": [
    "length(prior$mu)"
   ]
  },
  {
   "cell_type": "code",
   "execution_count": 22,
   "metadata": {},
   "outputs": [
    {
     "data": {
      "text/html": [
       "59"
      ],
      "text/latex": [
       "59"
      ],
      "text/markdown": [
       "59"
      ],
      "text/plain": [
       "[1] 59"
      ]
     },
     "metadata": {},
     "output_type": "display_data"
    }
   ],
   "source": [
    "ncol(X)"
   ]
  },
  {
   "cell_type": "code",
   "execution_count": 23,
   "metadata": {},
   "outputs": [
    {
     "name": "stdout",
     "output_type": "stream",
     "text": [
      "=-=-=-=-= Iteration 0 Tue Sep 10 16:09:25 2019 =-=-=-=-=\n",
      "=-=-=-=-= Iteration 500 Tue Sep 10 16:09:27 2019 =-=-=-=-=\n",
      "=-=-=-=-= Iteration 1000 Tue Sep 10 16:09:29 2019 =-=-=-=-=\n",
      "=-=-=-=-= Iteration 1500 Tue Sep 10 16:09:31 2019 =-=-=-=-=\n",
      "=-=-=-=-= Iteration 2000 Tue Sep 10 16:09:34 2019 =-=-=-=-=\n",
      "=-=-=-=-= Iteration 2500 Tue Sep 10 16:09:36 2019 =-=-=-=-=\n",
      "=-=-=-=-= Iteration 3000 Tue Sep 10 16:09:38 2019 =-=-=-=-=\n",
      "=-=-=-=-= Iteration 3500 Tue Sep 10 16:09:40 2019 =-=-=-=-=\n",
      "=-=-=-=-= Iteration 4000 Tue Sep 10 16:09:42 2019 =-=-=-=-=\n",
      "=-=-=-=-= Iteration 4500 Tue Sep 10 16:09:44 2019 =-=-=-=-=\n"
     ]
    }
   ],
   "source": [
    "model <- lm.spike(y ~ X-1, niter = 5000, prior = prior)"
   ]
  },
  {
   "cell_type": "code",
   "execution_count": 10,
   "metadata": {},
   "outputs": [
    {
     "data": {
      "text/html": [
       "<ol class=list-inline>\n",
       "\t<li>'beta'</li>\n",
       "\t<li>'sigma'</li>\n",
       "\t<li>'sse'</li>\n",
       "\t<li>'prior'</li>\n",
       "\t<li>'error.distribution'</li>\n",
       "\t<li>'xlevels'</li>\n",
       "\t<li>'call'</li>\n",
       "\t<li>'terms'</li>\n",
       "\t<li>'sample.sd'</li>\n",
       "\t<li>'sample.size'</li>\n",
       "\t<li>'log.likelihood'</li>\n",
       "\t<li>'null.log.likelihood'</li>\n",
       "\t<li>'response'</li>\n",
       "\t<li>'training.data'</li>\n",
       "</ol>\n"
      ],
      "text/latex": [
       "\\begin{enumerate*}\n",
       "\\item 'beta'\n",
       "\\item 'sigma'\n",
       "\\item 'sse'\n",
       "\\item 'prior'\n",
       "\\item 'error.distribution'\n",
       "\\item 'xlevels'\n",
       "\\item 'call'\n",
       "\\item 'terms'\n",
       "\\item 'sample.sd'\n",
       "\\item 'sample.size'\n",
       "\\item 'log.likelihood'\n",
       "\\item 'null.log.likelihood'\n",
       "\\item 'response'\n",
       "\\item 'training.data'\n",
       "\\end{enumerate*}\n"
      ],
      "text/markdown": [
       "1. 'beta'\n",
       "2. 'sigma'\n",
       "3. 'sse'\n",
       "4. 'prior'\n",
       "5. 'error.distribution'\n",
       "6. 'xlevels'\n",
       "7. 'call'\n",
       "8. 'terms'\n",
       "9. 'sample.sd'\n",
       "10. 'sample.size'\n",
       "11. 'log.likelihood'\n",
       "12. 'null.log.likelihood'\n",
       "13. 'response'\n",
       "14. 'training.data'\n",
       "\n",
       "\n"
      ],
      "text/plain": [
       " [1] \"beta\"                \"sigma\"               \"sse\"                \n",
       " [4] \"prior\"               \"error.distribution\"  \"xlevels\"            \n",
       " [7] \"call\"                \"terms\"               \"sample.sd\"          \n",
       "[10] \"sample.size\"         \"log.likelihood\"      \"null.log.likelihood\"\n",
       "[13] \"response\"            \"training.data\"      "
      ]
     },
     "metadata": {},
     "output_type": "display_data"
    }
   ],
   "source": [
    "names(model)"
   ]
  },
  {
   "cell_type": "code",
   "execution_count": 11,
   "metadata": {},
   "outputs": [
    {
     "data": {
      "text/html": [
       "<ol class=list-inline>\n",
       "\t<li>1000</li>\n",
       "\t<li>59</li>\n",
       "</ol>\n"
      ],
      "text/latex": [
       "\\begin{enumerate*}\n",
       "\\item 1000\n",
       "\\item 59\n",
       "\\end{enumerate*}\n"
      ],
      "text/markdown": [
       "1. 1000\n",
       "2. 59\n",
       "\n",
       "\n"
      ],
      "text/plain": [
       "[1] 1000   59"
      ]
     },
     "metadata": {},
     "output_type": "display_data"
    }
   ],
   "source": [
    "dim(model$beta)"
   ]
  },
  {
   "cell_type": "code",
   "execution_count": 49,
   "metadata": {},
   "outputs": [
    {
     "data": {
      "text/html": [
       "<ol class=list-inline>\n",
       "\t<li>1000</li>\n",
       "\t<li>59</li>\n",
       "</ol>\n"
      ],
      "text/latex": [
       "\\begin{enumerate*}\n",
       "\\item 1000\n",
       "\\item 59\n",
       "\\end{enumerate*}\n"
      ],
      "text/markdown": [
       "1. 1000\n",
       "2. 59\n",
       "\n",
       "\n"
      ],
      "text/plain": [
       "[1] 1000   59"
      ]
     },
     "metadata": {},
     "output_type": "display_data"
    }
   ],
   "source": [
    "dim(model$beta)"
   ]
  },
  {
   "cell_type": "code",
   "execution_count": 30,
   "metadata": {},
   "outputs": [
    {
     "data": {
      "text/html": [
       "0.546997247509321"
      ],
      "text/latex": [
       "0.546997247509321"
      ],
      "text/markdown": [
       "0.546997247509321"
      ],
      "text/plain": [
       "[1] 0.5469972"
      ]
     },
     "metadata": {},
     "output_type": "display_data"
    }
   ],
   "source": [
    "mean(model$beta[, 20])"
   ]
  },
  {
   "cell_type": "code",
   "execution_count": 13,
   "metadata": {},
   "outputs": [
    {
     "data": {
      "text/html": [
       "0.00178724383993779"
      ],
      "text/latex": [
       "0.00178724383993779"
      ],
      "text/markdown": [
       "0.00178724383993779"
      ],
      "text/plain": [
       "[1] 0.001787244"
      ]
     },
     "metadata": {},
     "output_type": "display_data"
    }
   ],
   "source": [
    "mean(model$beta[, 50])"
   ]
  },
  {
   "cell_type": "code",
   "execution_count": 45,
   "metadata": {},
   "outputs": [],
   "source": [
    "res1 = susie(X, y, L = 3, scaled_prior_variance = 0.005, estimate_prior_method = \"optim\")"
   ]
  },
  {
   "cell_type": "code",
   "execution_count": 47,
   "metadata": {},
   "outputs": [
    {
     "data": {
      "text/html": [
       "0"
      ],
      "text/latex": [
       "0"
      ],
      "text/markdown": [
       "0"
      ],
      "text/plain": [
       "[1] 0"
      ]
     },
     "metadata": {},
     "output_type": "display_data"
    }
   ],
   "source": [
    "max(res1$pip)"
   ]
  },
  {
   "cell_type": "code",
   "execution_count": 29,
   "metadata": {},
   "outputs": [],
   "source": [
    "res2 = readRDS(\"/home/min/GIT/cnv-gene-mapping/data/deletion_simu/block_79_137/deletion.genes.block30.for_simu.sample.genes.block_79_137.varbvs.rds\")"
   ]
  },
  {
   "cell_type": "code",
   "execution_count": 30,
   "metadata": {},
   "outputs": [
    {
     "data": {
      "text/html": [
       "<ol class=list-inline>\n",
       "\t<li>'fit'</li>\n",
       "\t<li>'mu'</li>\n",
       "\t<li>'beta'</li>\n",
       "</ol>\n"
      ],
      "text/latex": [
       "\\begin{enumerate*}\n",
       "\\item 'fit'\n",
       "\\item 'mu'\n",
       "\\item 'beta'\n",
       "\\end{enumerate*}\n"
      ],
      "text/markdown": [
       "1. 'fit'\n",
       "2. 'mu'\n",
       "3. 'beta'\n",
       "\n",
       "\n"
      ],
      "text/plain": [
       "[1] \"fit\"  \"mu\"   \"beta\""
      ]
     },
     "metadata": {},
     "output_type": "display_data"
    }
   ],
   "source": [
    "names(res2)"
   ]
  },
  {
   "cell_type": "code",
   "execution_count": 48,
   "metadata": {},
   "outputs": [
    {
     "data": {
      "text/html": [
       "0.0269814805603835"
      ],
      "text/latex": [
       "0.0269814805603835"
      ],
      "text/markdown": [
       "0.0269814805603835"
      ],
      "text/plain": [
       "[1] 0.02698148"
      ]
     },
     "metadata": {},
     "output_type": "display_data"
    }
   ],
   "source": [
    "max(res2$fit$pip)"
   ]
  },
  {
   "cell_type": "code",
   "execution_count": null,
   "metadata": {},
   "outputs": [],
   "source": []
  }
 ],
 "metadata": {
  "kernelspec": {
   "display_name": "R",
   "language": "R",
   "name": "ir"
  },
  "language_info": {
   "codemirror_mode": "r",
   "file_extension": ".r",
   "mimetype": "text/x-r-source",
   "name": "R",
   "pygments_lexer": "r",
   "version": "3.5.1"
  }
 },
 "nbformat": 4,
 "nbformat_minor": 2
}
