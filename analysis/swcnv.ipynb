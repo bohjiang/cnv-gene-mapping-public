{
 "cells": [
  {
   "cell_type": "code",
   "execution_count": 1,
   "metadata": {
    "collapsed": true
   },
   "outputs": [],
   "source": [
    "import pandas as pd\n",
    "import numpy as np\n",
    "from pprint import pprint\n",
    "from collections import Counter"
   ]
  },
  {
   "cell_type": "code",
   "execution_count": 2,
   "metadata": {},
   "outputs": [],
   "source": [
    "sw_pheno = pd.read_table(\"../swcnv/swcnv.pheno\", sep=\"\\s+\")\n",
    "sw_sum = pd.read_table(\"../swcnv/swcnv.qc6.cnv.summary\", sep=\"\\s+\") # \"CHR\"\n",
    "sw_fam = pd.read_table(\"../swcnv/swcnv.qc6.fam\", sep=\"\\s+\", header = None, \n",
    "                       usecols = (0,1,4,5), names = [\"FID\", \"IID\", \"sex\", \"Case-Ctrl\"]) # sex and case-ctrl\n",
    "sw_cnv = pd.read_table(\"../swcnv/swcnv.qc6.cnv\", sep=\"\\s+\")\n",
    "sw_cluster = pd.read_table(\"../swcnv/swcnv.clusters\", sep=\"\\s+\") # Sw1, Sw2-4, Sw5-6\n",
    "sw_cluster = sw_cluster.rename(columns={\"uFID\": \"FID\", \"uIID\": \"IID\"})\n",
    "sw_indiv = pd.read_table(\"../swcnv/swcnv.qc6.cnv.indiv\", sep=\"\\s+\") # \"NSEG\": number of CNV in each sample\n",
    "sw_cluster_indiv = pd.merge(sw_cluster, sw_indiv, how=\"inner\", on=[\"FID\", \"IID\"])\n",
    "sw_cluster_cnv = pd.merge(sw_cluster, sw_cnv, how=\"inner\", on=[\"FID\", \"IID\"])\n",
    "sw_cluster_cnv_indiv = pd.merge(sw_cluster_cnv, sw_indiv, how=\"inner\", on=[\"FID\", \"IID\"])\n",
    "sw_cluster_cnv_indiv[\"CNV_LEN\"] = (sw_cluster_cnv_indiv[\"BP2\"] - sw_cluster_cnv_indiv[\"BP1\"])/1000"
   ]
  },
  {
   "cell_type": "code",
   "execution_count": 3,
   "metadata": {},
   "outputs": [
    {
     "data": {
      "text/plain": [
       "Case-Ctrl\n",
       "1    5917\n",
       "2    4719\n",
       "dtype: int64"
      ]
     },
     "execution_count": 3,
     "metadata": {},
     "output_type": "execute_result"
    }
   ],
   "source": [
    "# Number of Cases and Controls, 2: cases, 1: controls\n",
    "sw_fam.groupby(\"Case-Ctrl\").size()"
   ]
  },
  {
   "cell_type": "code",
   "execution_count": 4,
   "metadata": {},
   "outputs": [
    {
     "name": "stdout",
     "output_type": "stream",
     "text": [
      "Case-Ctrl  sex\n",
      "1          1      3034\n",
      "           2      2883\n",
      "2          1      2826\n",
      "           2      1893\n",
      "dtype: int64\n"
     ]
    }
   ],
   "source": [
    "# sex by status\n",
    "sex_by_casectrl = sw_fam.groupby([\"Case-Ctrl\", \"sex\"]).size()\n",
    "print (sex_by_casectrl)"
   ]
  },
  {
   "cell_type": "code",
   "execution_count": 5,
   "metadata": {},
   "outputs": [
    {
     "name": "stdout",
     "output_type": "stream",
     "text": [
      "0.598855689765\n",
      "0.512759844516\n"
     ]
    }
   ],
   "source": [
    "prp_male_case = sex_by_casectrl[2][1] / (sex_by_casectrl[2][1] + sex_by_casectrl[2][2])\n",
    "print (prp_male_case)\n",
    "prp_male_ctrl = sex_by_casectrl[1][1] / (sex_by_casectrl[1][1] + sex_by_casectrl[1][2])\n",
    "print (prp_male_ctrl)"
   ]
  },
  {
   "cell_type": "code",
   "execution_count": 6,
   "metadata": {},
   "outputs": [
    {
     "name": "stdout",
     "output_type": "stream",
     "text": [
      "tr            PHE\n",
      "scz_s234_eur  1      2137\n",
      "              2      1847\n",
      "scz_swe1_eur  1       206\n",
      "              2       207\n",
      "scz_swe5_eur  1      2456\n",
      "              2      1674\n",
      "scz_swe6_eur  1      1118\n",
      "              2       991\n",
      "dtype: int64\n"
     ]
    }
   ],
   "source": [
    "print (sw_cluster_indiv.groupby([\"tr\", \"PHE\"]).size())"
   ]
  },
  {
   "cell_type": "code",
   "execution_count": 7,
   "metadata": {
    "scrolled": true
   },
   "outputs": [
    {
     "name": "stdout",
     "output_type": "stream",
     "text": [
      "1.05797101449 0.844660194175\n",
      "1.2360584732 1.20870379036\n",
      "0.758348968105 0.683547845551\n",
      "0.958465776648 0.878823728241\n"
     ]
    }
   ],
   "source": [
    "# \"NSEG\": number of CNV in each subject\n",
    "mean_cnv_case_sw1 = np.mean(sw_cluster_indiv[\"NSEG\"][sw_cluster_indiv[\"tr\"]==\"scz_swe1_eur\"]\n",
    "                            [sw_cluster_indiv[\"PHE\"]==2].tolist())\n",
    "mean_cnv_ctrl_sw1 = np.mean(sw_cluster_indiv[\"NSEG\"][sw_cluster_indiv[\"tr\"]==\"scz_swe1_eur\"]\n",
    "                            [sw_cluster_indiv[\"PHE\"]==1].tolist())\n",
    "print (mean_cnv_case_sw1, mean_cnv_ctrl_sw1)\n",
    "mean_cnv_case_sw234 = np.mean(sw_cluster_indiv[\"NSEG\"][sw_cluster_indiv[\"tr\"]==\"scz_s234_eur\"]\n",
    "                              [sw_cluster_indiv[\"PHE\"]==2].tolist())\n",
    "mean_cnv_ctrl_sw234 = np.mean(sw_cluster_indiv[\"NSEG\"][sw_cluster_indiv[\"tr\"]==\"scz_s234_eur\"]\n",
    "                              [sw_cluster_indiv[\"PHE\"]==1].tolist())\n",
    "print (mean_cnv_case_sw234, mean_cnv_ctrl_sw234)\n",
    "mean_cnv_case_sw56 = np.mean(sw_cluster_indiv[\"NSEG\"][sw_cluster_indiv[\"tr\"]==\"scz_swe5_eur\"]\n",
    "                            [sw_cluster_indiv[\"PHE\"]==2].tolist()\n",
    "                            + sw_cluster_indiv[\"NSEG\"][sw_cluster_indiv[\"tr\"]==\"scz_swe6_eur\"]\n",
    "                            [sw_cluster_indiv[\"PHE\"]==2].tolist())\n",
    "mean_cnv_ctrl_sw56 = np.mean(sw_cluster_indiv[\"NSEG\"][sw_cluster_indiv[\"tr\"]==(\"scz_swe5_eur\")]\n",
    "                             [sw_cluster_indiv[\"PHE\"]==1].tolist()\n",
    "                            + sw_cluster_indiv[\"NSEG\"][sw_cluster_indiv[\"tr\"]==\"scz_swe6_eur\"]\n",
    "                            [sw_cluster_indiv[\"PHE\"]==1].tolist())\n",
    "print (mean_cnv_case_sw56, mean_cnv_ctrl_sw56)\n",
    "mean_cnv_case = np.mean(sw_cluster_indiv[\"NSEG\"][sw_cluster_indiv[\"PHE\"]==2].tolist())\n",
    "mean_cnv_ctrl = np.mean(sw_cluster_indiv[\"NSEG\"][sw_cluster_indiv[\"PHE\"]==1].tolist())\n",
    "print (mean_cnv_case, mean_cnv_ctrl)"
   ]
  },
  {
   "cell_type": "code",
   "execution_count": 8,
   "metadata": {},
   "outputs": [
    {
     "name": "stdout",
     "output_type": "stream",
     "text": [
      "0.38182622153437984\n",
      "0.38211538461538463\n"
     ]
    }
   ],
   "source": [
    "prp_del_case = sw_cluster_cnv_indiv[\"TYPE\"][sw_cluster_cnv_indiv[\"PHE\"]==2].tolist()\n",
    "prp_del_ctrl = sw_cluster_cnv_indiv[\"TYPE\"][sw_cluster_cnv_indiv[\"PHE\"]==1].tolist()\n",
    "print (prp_del_case.count(1)/len(prp_del_case))\n",
    "print (prp_del_ctrl.count(1)/len(prp_del_ctrl))"
   ]
  },
  {
   "cell_type": "code",
   "execution_count": 9,
   "metadata": {},
   "outputs": [
    {
     "name": "stdout",
     "output_type": "stream",
     "text": [
      "0.4794520547945205\n",
      "0.39080459770114945\n"
     ]
    }
   ],
   "source": [
    "prp_del_case_sw1 = sw_cluster_cnv_indiv[\"TYPE\"][sw_cluster_cnv_indiv[\"PHE\"]==2][sw_cluster_cnv_indiv[\"tr\"]==\"scz_swe1_eur\"].tolist()\n",
    "prp_del_ctrl_sw1 = sw_cluster_cnv_indiv[\"TYPE\"][sw_cluster_cnv_indiv[\"PHE\"]==1][sw_cluster_cnv_indiv[\"tr\"]==\"scz_swe1_eur\"].tolist()\n",
    "print (prp_del_case_sw1.count(1)/len(prp_del_case_sw1))\n",
    "print (prp_del_ctrl_sw1.count(1)/len(prp_del_ctrl_sw1))"
   ]
  },
  {
   "cell_type": "code",
   "execution_count": 10,
   "metadata": {},
   "outputs": [
    {
     "name": "stdout",
     "output_type": "stream",
     "text": [
      "0.3587385019710907\n",
      "0.36624080526519553\n"
     ]
    }
   ],
   "source": [
    "prp_del_case_sw234 = sw_cluster_cnv_indiv[\"TYPE\"][sw_cluster_cnv_indiv[\"PHE\"]==2][sw_cluster_cnv_indiv[\"tr\"]==\"scz_s234_eur\"].tolist()\n",
    "prp_del_ctrl_sw234 = sw_cluster_cnv_indiv[\"TYPE\"][sw_cluster_cnv_indiv[\"PHE\"]==1][sw_cluster_cnv_indiv[\"tr\"]==\"scz_s234_eur\"].tolist()\n",
    "print (prp_del_case_sw234.count(1)/len(prp_del_case_sw234))\n",
    "print (prp_del_ctrl_sw234.count(1)/len(prp_del_ctrl_sw234))"
   ]
  },
  {
   "cell_type": "code",
   "execution_count": 11,
   "metadata": {},
   "outputs": [
    {
     "name": "stdout",
     "output_type": "stream",
     "text": [
      "0.39732805541810984\n",
      "0.3982808022922636\n"
     ]
    }
   ],
   "source": [
    "prp_del_case_sw56 = sw_cluster_cnv_indiv[\"TYPE\"][sw_cluster_cnv_indiv[\"PHE\"]==2][sw_cluster_cnv_indiv[\"tr\"]==\"scz_swe5_eur\"].tolist() + sw_cluster_cnv_indiv[\"TYPE\"][sw_cluster_cnv_indiv[\"PHE\"]==2][sw_cluster_cnv_indiv[\"tr\"]==\"scz_swe6_eur\"].tolist()\n",
    "prp_del_ctrl_sw56 = sw_cluster_cnv_indiv[\"TYPE\"][sw_cluster_cnv_indiv[\"PHE\"]==1][sw_cluster_cnv_indiv[\"tr\"]==\"scz_swe5_eur\"].tolist() + sw_cluster_cnv_indiv[\"TYPE\"][sw_cluster_cnv_indiv[\"PHE\"]==1][sw_cluster_cnv_indiv[\"tr\"]==\"scz_swe6_eur\"].tolist()\n",
    "print (prp_del_case_sw56.count(1)/len(prp_del_case_sw56))\n",
    "print (prp_del_ctrl_sw56.count(1)/len(prp_del_ctrl_sw56))"
   ]
  },
  {
   "cell_type": "code",
   "execution_count": 12,
   "metadata": {},
   "outputs": [
    {
     "name": "stdout",
     "output_type": "stream",
     "text": [
      "188.797\n",
      "182.711\n"
     ]
    }
   ],
   "source": [
    "median_cnv_len_case = np.median(sw_cluster_cnv_indiv[\"CNV_LEN\"][sw_cluster_cnv_indiv[\"PHE\"]==2].tolist())\n",
    "median_cnv_len_ctrl = np.median(sw_cluster_cnv_indiv[\"CNV_LEN\"][sw_cluster_cnv_indiv[\"PHE\"]==1].tolist())\n",
    "print (median_cnv_len_case)\n",
    "print (median_cnv_len_ctrl)"
   ]
  },
  {
   "cell_type": "code",
   "execution_count": 13,
   "metadata": {},
   "outputs": [
    {
     "name": "stdout",
     "output_type": "stream",
     "text": [
      "178.016\n",
      "181.313\n"
     ]
    }
   ],
   "source": [
    "median_cnv_len_case_sw1 = np.median(sw_cluster_cnv_indiv[\"CNV_LEN\"][sw_cluster_cnv_indiv[\"PHE\"]==2][sw_cluster_cnv_indiv[\"tr\"]==\"scz_swe1_eur\"].tolist())\n",
    "median_cnv_len_ctrl_sw1 = np.median(sw_cluster_cnv_indiv[\"CNV_LEN\"][sw_cluster_cnv_indiv[\"PHE\"]==1][sw_cluster_cnv_indiv[\"tr\"]==\"scz_swe1_eur\"].tolist())\n",
    "print (median_cnv_len_case_sw1)\n",
    "print (median_cnv_len_ctrl_sw1)"
   ]
  },
  {
   "cell_type": "code",
   "execution_count": 14,
   "metadata": {},
   "outputs": [
    {
     "name": "stdout",
     "output_type": "stream",
     "text": [
      "188.213\n",
      "182.211\n"
     ]
    }
   ],
   "source": [
    "median_cnv_len_case_sw234 = np.median(sw_cluster_cnv_indiv[\"CNV_LEN\"][sw_cluster_cnv_indiv[\"PHE\"]==2][sw_cluster_cnv_indiv[\"tr\"]==\"scz_s234_eur\"].tolist())\n",
    "median_cnv_len_ctrl_sw234 = np.median(sw_cluster_cnv_indiv[\"CNV_LEN\"][sw_cluster_cnv_indiv[\"PHE\"]==1][sw_cluster_cnv_indiv[\"tr\"]==\"scz_s234_eur\"].tolist())\n",
    "print (median_cnv_len_case_sw234)\n",
    "print (median_cnv_len_ctrl_sw234)"
   ]
  },
  {
   "cell_type": "code",
   "execution_count": 15,
   "metadata": {},
   "outputs": [
    {
     "name": "stdout",
     "output_type": "stream",
     "text": [
      "190.739\n",
      "183.127\n"
     ]
    }
   ],
   "source": [
    "median_cnv_len_case_sw56 = np.median(sw_cluster_cnv_indiv[\"CNV_LEN\"][sw_cluster_cnv_indiv[\"PHE\"]==2][sw_cluster_cnv_indiv[\"tr\"]==\"scz_swe5_eur\"].tolist() + sw_cluster_cnv_indiv[\"CNV_LEN\"][sw_cluster_cnv_indiv[\"PHE\"]==2][sw_cluster_cnv_indiv[\"tr\"]==\"scz_swe6_eur\"].tolist())\n",
    "median_cnv_len_ctrl_sw56 = np.median(sw_cluster_cnv_indiv[\"CNV_LEN\"][sw_cluster_cnv_indiv[\"PHE\"]==1][sw_cluster_cnv_indiv[\"tr\"]==\"scz_swe5_eur\"].tolist() + sw_cluster_cnv_indiv[\"CNV_LEN\"][sw_cluster_cnv_indiv[\"PHE\"]==1][sw_cluster_cnv_indiv[\"tr\"]==\"scz_swe6_eur\"].tolist())\n",
    "print (median_cnv_len_case_sw56)\n",
    "print (median_cnv_len_ctrl_sw56)"
   ]
  },
  {
   "cell_type": "code",
   "execution_count": null,
   "metadata": {
    "collapsed": true
   },
   "outputs": [],
   "source": []
  },
  {
   "cell_type": "code",
   "execution_count": null,
   "metadata": {
    "collapsed": true
   },
   "outputs": [],
   "source": []
  },
  {
   "cell_type": "code",
   "execution_count": null,
   "metadata": {
    "collapsed": true
   },
   "outputs": [],
   "source": []
  },
  {
   "cell_type": "code",
   "execution_count": 16,
   "metadata": {},
   "outputs": [],
   "source": [
    "sw_mds = pd.read_table(\"../swcnv/swcnv.mds\", sep=\"\\s+\")"
   ]
  },
  {
   "cell_type": "code",
   "execution_count": 17,
   "metadata": {},
   "outputs": [],
   "source": [
    "sw_mds[\"C_sum\"] = sw_mds[\"C1\"] + sw_mds[\"C2\"] + sw_mds[\"C3\"] + sw_mds[\"C4\"] + sw_mds[\"C5\"] + sw_mds[\"C6\"] + sw_mds[\"C7\"] + sw_mds[\"C8\"] + sw_mds[\"C9\"] + sw_mds[\"C10\"]"
   ]
  },
  {
   "cell_type": "code",
   "execution_count": 18,
   "metadata": {},
   "outputs": [
    {
     "name": "stdout",
     "output_type": "stream",
     "text": [
      "1.00015782373\n"
     ]
    }
   ],
   "source": [
    "print (np.mean(np.exp(sw_mds[\"C_sum\"].tolist())))"
   ]
  }
 ],
 "metadata": {
  "kernelspec": {
   "display_name": "Python 3",
   "language": "python",
   "name": "python3"
  },
  "language_info": {
   "codemirror_mode": {
    "name": "ipython",
    "version": 3
   },
   "file_extension": ".py",
   "mimetype": "text/x-python",
   "name": "python",
   "nbconvert_exporter": "python",
   "pygments_lexer": "ipython3",
   "version": "3.5.2"
  }
 },
 "nbformat": 4,
 "nbformat_minor": 2
}
