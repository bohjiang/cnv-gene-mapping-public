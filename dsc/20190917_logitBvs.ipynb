{
 "cells": [
  {
   "cell_type": "code",
   "execution_count": 1,
   "metadata": {},
   "outputs": [],
   "source": [
    "library(pogit)\n",
    "# PIP, , what exactly do these 2 weights mean\n",
    "# how to deal with the intercept: did not make difference if centering"
   ]
  },
  {
   "cell_type": "code",
   "execution_count": 3,
   "metadata": {},
   "outputs": [],
   "source": [
    "block = c(79,137)\n",
    "block_simu = c(1215, 1273)\n",
    "# block = c(23, 36)\n",
    "# block_simu = c(164, 177)"
   ]
  },
  {
   "cell_type": "code",
   "execution_count": 4,
   "metadata": {},
   "outputs": [],
   "source": [
    "X_ori <- as.matrix(data.table::fread(paste(\"/data/GIT/cnv-gene-mapping/data/deletion_simu/block_\", block[1], \"_\" , block[2], \n",
    "                                           \"/deletion.genes.block30.for_simu.sample.genes.block_\", block[1], \"_\" , block[2], \".gz\", sep = \"\"), header = F))"
   ]
  },
  {
   "cell_type": "code",
   "execution_count": 5,
   "metadata": {},
   "outputs": [],
   "source": [
    "X_center <- scale(X_ori, scale = FALSE)"
   ]
  },
  {
   "cell_type": "code",
   "execution_count": 6,
   "metadata": {},
   "outputs": [
    {
     "data": {
      "text/html": [
       "<table>\n",
       "<thead><tr><th scope=col>V1</th><th scope=col>V2</th><th scope=col>V3</th><th scope=col>V4</th><th scope=col>V5</th><th scope=col>V6</th><th scope=col>V7</th><th scope=col>V8</th><th scope=col>V9</th><th scope=col>V10</th><th scope=col>⋯</th><th scope=col>V50</th><th scope=col>V51</th><th scope=col>V52</th><th scope=col>V53</th><th scope=col>V54</th><th scope=col>V55</th><th scope=col>V56</th><th scope=col>V57</th><th scope=col>V58</th><th scope=col>V59</th></tr></thead>\n",
       "<tbody>\n",
       "\t<tr><td>-0.005592007 </td><td>-0.0005219207</td><td>-0.000820161 </td><td>-0.000820161 </td><td>-0.000820161 </td><td>-0.000820161 </td><td>-0.000820161 </td><td>-0.000820161 </td><td>-0.000820161 </td><td>-0.000820161 </td><td>⋯            </td><td>-0.003280644 </td><td>-0.002311363 </td><td>-0.002311363 </td><td>-0.0005964808</td><td>-0.0005964808</td><td>-0.0005964808</td><td>-0.0003728005</td><td>-0.0003728005</td><td>-7.45601e-05 </td><td>-7.45601e-05 </td></tr>\n",
       "\t<tr><td>-0.005592007 </td><td>-0.0005219207</td><td>-0.000820161 </td><td>-0.000820161 </td><td>-0.000820161 </td><td>-0.000820161 </td><td>-0.000820161 </td><td>-0.000820161 </td><td>-0.000820161 </td><td>-0.000820161 </td><td>⋯            </td><td>-0.003280644 </td><td>-0.002311363 </td><td>-0.002311363 </td><td>-0.0005964808</td><td>-0.0005964808</td><td>-0.0005964808</td><td>-0.0003728005</td><td>-0.0003728005</td><td>-7.45601e-05 </td><td>-7.45601e-05 </td></tr>\n",
       "\t<tr><td>-0.005592007 </td><td>-0.0005219207</td><td>-0.000820161 </td><td>-0.000820161 </td><td>-0.000820161 </td><td>-0.000820161 </td><td>-0.000820161 </td><td>-0.000820161 </td><td>-0.000820161 </td><td>-0.000820161 </td><td>⋯            </td><td>-0.003280644 </td><td>-0.002311363 </td><td>-0.002311363 </td><td>-0.0005964808</td><td>-0.0005964808</td><td>-0.0005964808</td><td>-0.0003728005</td><td>-0.0003728005</td><td>-7.45601e-05 </td><td>-7.45601e-05 </td></tr>\n",
       "\t<tr><td>-0.005592007 </td><td>-0.0005219207</td><td>-0.000820161 </td><td>-0.000820161 </td><td>-0.000820161 </td><td>-0.000820161 </td><td>-0.000820161 </td><td>-0.000820161 </td><td>-0.000820161 </td><td>-0.000820161 </td><td>⋯            </td><td>-0.003280644 </td><td>-0.002311363 </td><td>-0.002311363 </td><td>-0.0005964808</td><td>-0.0005964808</td><td>-0.0005964808</td><td>-0.0003728005</td><td>-0.0003728005</td><td>-7.45601e-05 </td><td>-7.45601e-05 </td></tr>\n",
       "\t<tr><td>-0.005592007 </td><td>-0.0005219207</td><td>-0.000820161 </td><td>-0.000820161 </td><td>-0.000820161 </td><td>-0.000820161 </td><td>-0.000820161 </td><td>-0.000820161 </td><td>-0.000820161 </td><td>-0.000820161 </td><td>⋯            </td><td>-0.003280644 </td><td>-0.002311363 </td><td>-0.002311363 </td><td>-0.0005964808</td><td>-0.0005964808</td><td>-0.0005964808</td><td>-0.0003728005</td><td>-0.0003728005</td><td>-7.45601e-05 </td><td>-7.45601e-05 </td></tr>\n",
       "\t<tr><td>-0.005592007 </td><td>-0.0005219207</td><td>-0.000820161 </td><td>-0.000820161 </td><td>-0.000820161 </td><td>-0.000820161 </td><td>-0.000820161 </td><td>-0.000820161 </td><td>-0.000820161 </td><td>-0.000820161 </td><td>⋯            </td><td>-0.003280644 </td><td>-0.002311363 </td><td>-0.002311363 </td><td>-0.0005964808</td><td>-0.0005964808</td><td>-0.0005964808</td><td>-0.0003728005</td><td>-0.0003728005</td><td>-7.45601e-05 </td><td>-7.45601e-05 </td></tr>\n",
       "</tbody>\n",
       "</table>\n"
      ],
      "text/latex": [
       "\\begin{tabular}{lllllllllllllllllllllllllllllllllllllllllllllllllllllllllll}\n",
       " V1 & V2 & V3 & V4 & V5 & V6 & V7 & V8 & V9 & V10 & ⋯ & V50 & V51 & V52 & V53 & V54 & V55 & V56 & V57 & V58 & V59\\\\\n",
       "\\hline\n",
       "\t -0.005592007  & -0.0005219207 & -0.000820161  & -0.000820161  & -0.000820161  & -0.000820161  & -0.000820161  & -0.000820161  & -0.000820161  & -0.000820161  & ⋯             & -0.003280644  & -0.002311363  & -0.002311363  & -0.0005964808 & -0.0005964808 & -0.0005964808 & -0.0003728005 & -0.0003728005 & -7.45601e-05  & -7.45601e-05 \\\\\n",
       "\t -0.005592007  & -0.0005219207 & -0.000820161  & -0.000820161  & -0.000820161  & -0.000820161  & -0.000820161  & -0.000820161  & -0.000820161  & -0.000820161  & ⋯             & -0.003280644  & -0.002311363  & -0.002311363  & -0.0005964808 & -0.0005964808 & -0.0005964808 & -0.0003728005 & -0.0003728005 & -7.45601e-05  & -7.45601e-05 \\\\\n",
       "\t -0.005592007  & -0.0005219207 & -0.000820161  & -0.000820161  & -0.000820161  & -0.000820161  & -0.000820161  & -0.000820161  & -0.000820161  & -0.000820161  & ⋯             & -0.003280644  & -0.002311363  & -0.002311363  & -0.0005964808 & -0.0005964808 & -0.0005964808 & -0.0003728005 & -0.0003728005 & -7.45601e-05  & -7.45601e-05 \\\\\n",
       "\t -0.005592007  & -0.0005219207 & -0.000820161  & -0.000820161  & -0.000820161  & -0.000820161  & -0.000820161  & -0.000820161  & -0.000820161  & -0.000820161  & ⋯             & -0.003280644  & -0.002311363  & -0.002311363  & -0.0005964808 & -0.0005964808 & -0.0005964808 & -0.0003728005 & -0.0003728005 & -7.45601e-05  & -7.45601e-05 \\\\\n",
       "\t -0.005592007  & -0.0005219207 & -0.000820161  & -0.000820161  & -0.000820161  & -0.000820161  & -0.000820161  & -0.000820161  & -0.000820161  & -0.000820161  & ⋯             & -0.003280644  & -0.002311363  & -0.002311363  & -0.0005964808 & -0.0005964808 & -0.0005964808 & -0.0003728005 & -0.0003728005 & -7.45601e-05  & -7.45601e-05 \\\\\n",
       "\t -0.005592007  & -0.0005219207 & -0.000820161  & -0.000820161  & -0.000820161  & -0.000820161  & -0.000820161  & -0.000820161  & -0.000820161  & -0.000820161  & ⋯             & -0.003280644  & -0.002311363  & -0.002311363  & -0.0005964808 & -0.0005964808 & -0.0005964808 & -0.0003728005 & -0.0003728005 & -7.45601e-05  & -7.45601e-05 \\\\\n",
       "\\end{tabular}\n"
      ],
      "text/markdown": [
       "\n",
       "| V1 | V2 | V3 | V4 | V5 | V6 | V7 | V8 | V9 | V10 | ⋯ | V50 | V51 | V52 | V53 | V54 | V55 | V56 | V57 | V58 | V59 |\n",
       "|---|---|---|---|---|---|---|---|---|---|---|---|---|---|---|---|---|---|---|---|---|\n",
       "| -0.005592007  | -0.0005219207 | -0.000820161  | -0.000820161  | -0.000820161  | -0.000820161  | -0.000820161  | -0.000820161  | -0.000820161  | -0.000820161  | ⋯             | -0.003280644  | -0.002311363  | -0.002311363  | -0.0005964808 | -0.0005964808 | -0.0005964808 | -0.0003728005 | -0.0003728005 | -7.45601e-05  | -7.45601e-05  |\n",
       "| -0.005592007  | -0.0005219207 | -0.000820161  | -0.000820161  | -0.000820161  | -0.000820161  | -0.000820161  | -0.000820161  | -0.000820161  | -0.000820161  | ⋯             | -0.003280644  | -0.002311363  | -0.002311363  | -0.0005964808 | -0.0005964808 | -0.0005964808 | -0.0003728005 | -0.0003728005 | -7.45601e-05  | -7.45601e-05  |\n",
       "| -0.005592007  | -0.0005219207 | -0.000820161  | -0.000820161  | -0.000820161  | -0.000820161  | -0.000820161  | -0.000820161  | -0.000820161  | -0.000820161  | ⋯             | -0.003280644  | -0.002311363  | -0.002311363  | -0.0005964808 | -0.0005964808 | -0.0005964808 | -0.0003728005 | -0.0003728005 | -7.45601e-05  | -7.45601e-05  |\n",
       "| -0.005592007  | -0.0005219207 | -0.000820161  | -0.000820161  | -0.000820161  | -0.000820161  | -0.000820161  | -0.000820161  | -0.000820161  | -0.000820161  | ⋯             | -0.003280644  | -0.002311363  | -0.002311363  | -0.0005964808 | -0.0005964808 | -0.0005964808 | -0.0003728005 | -0.0003728005 | -7.45601e-05  | -7.45601e-05  |\n",
       "| -0.005592007  | -0.0005219207 | -0.000820161  | -0.000820161  | -0.000820161  | -0.000820161  | -0.000820161  | -0.000820161  | -0.000820161  | -0.000820161  | ⋯             | -0.003280644  | -0.002311363  | -0.002311363  | -0.0005964808 | -0.0005964808 | -0.0005964808 | -0.0003728005 | -0.0003728005 | -7.45601e-05  | -7.45601e-05  |\n",
       "| -0.005592007  | -0.0005219207 | -0.000820161  | -0.000820161  | -0.000820161  | -0.000820161  | -0.000820161  | -0.000820161  | -0.000820161  | -0.000820161  | ⋯             | -0.003280644  | -0.002311363  | -0.002311363  | -0.0005964808 | -0.0005964808 | -0.0005964808 | -0.0003728005 | -0.0003728005 | -7.45601e-05  | -7.45601e-05  |\n",
       "\n"
      ],
      "text/plain": [
       "     V1           V2            V3           V4           V5          \n",
       "[1,] -0.005592007 -0.0005219207 -0.000820161 -0.000820161 -0.000820161\n",
       "[2,] -0.005592007 -0.0005219207 -0.000820161 -0.000820161 -0.000820161\n",
       "[3,] -0.005592007 -0.0005219207 -0.000820161 -0.000820161 -0.000820161\n",
       "[4,] -0.005592007 -0.0005219207 -0.000820161 -0.000820161 -0.000820161\n",
       "[5,] -0.005592007 -0.0005219207 -0.000820161 -0.000820161 -0.000820161\n",
       "[6,] -0.005592007 -0.0005219207 -0.000820161 -0.000820161 -0.000820161\n",
       "     V6           V7           V8           V9           V10          ⋯\n",
       "[1,] -0.000820161 -0.000820161 -0.000820161 -0.000820161 -0.000820161 ⋯\n",
       "[2,] -0.000820161 -0.000820161 -0.000820161 -0.000820161 -0.000820161 ⋯\n",
       "[3,] -0.000820161 -0.000820161 -0.000820161 -0.000820161 -0.000820161 ⋯\n",
       "[4,] -0.000820161 -0.000820161 -0.000820161 -0.000820161 -0.000820161 ⋯\n",
       "[5,] -0.000820161 -0.000820161 -0.000820161 -0.000820161 -0.000820161 ⋯\n",
       "[6,] -0.000820161 -0.000820161 -0.000820161 -0.000820161 -0.000820161 ⋯\n",
       "     V50          V51          V52          V53           V54          \n",
       "[1,] -0.003280644 -0.002311363 -0.002311363 -0.0005964808 -0.0005964808\n",
       "[2,] -0.003280644 -0.002311363 -0.002311363 -0.0005964808 -0.0005964808\n",
       "[3,] -0.003280644 -0.002311363 -0.002311363 -0.0005964808 -0.0005964808\n",
       "[4,] -0.003280644 -0.002311363 -0.002311363 -0.0005964808 -0.0005964808\n",
       "[5,] -0.003280644 -0.002311363 -0.002311363 -0.0005964808 -0.0005964808\n",
       "[6,] -0.003280644 -0.002311363 -0.002311363 -0.0005964808 -0.0005964808\n",
       "     V55           V56           V57           V58          V59         \n",
       "[1,] -0.0005964808 -0.0003728005 -0.0003728005 -7.45601e-05 -7.45601e-05\n",
       "[2,] -0.0005964808 -0.0003728005 -0.0003728005 -7.45601e-05 -7.45601e-05\n",
       "[3,] -0.0005964808 -0.0003728005 -0.0003728005 -7.45601e-05 -7.45601e-05\n",
       "[4,] -0.0005964808 -0.0003728005 -0.0003728005 -7.45601e-05 -7.45601e-05\n",
       "[5,] -0.0005964808 -0.0003728005 -0.0003728005 -7.45601e-05 -7.45601e-05\n",
       "[6,] -0.0005964808 -0.0003728005 -0.0003728005 -7.45601e-05 -7.45601e-05"
      ]
     },
     "metadata": {},
     "output_type": "display_data"
    }
   ],
   "source": [
    "head(X_center)"
   ]
  },
  {
   "cell_type": "code",
   "execution_count": 7,
   "metadata": {},
   "outputs": [
    {
     "data": {
      "text/html": [
       "<ol class=list-inline>\n",
       "\t<li>13412</li>\n",
       "\t<li>59</li>\n",
       "</ol>\n"
      ],
      "text/latex": [
       "\\begin{enumerate*}\n",
       "\\item 13412\n",
       "\\item 59\n",
       "\\end{enumerate*}\n"
      ],
      "text/markdown": [
       "1. 13412\n",
       "2. 59\n",
       "\n",
       "\n"
      ],
      "text/plain": [
       "[1] 13412    59"
      ]
     },
     "metadata": {},
     "output_type": "display_data"
    }
   ],
   "source": [
    "dim(X_ori)"
   ]
  },
  {
   "cell_type": "code",
   "execution_count": 8,
   "metadata": {},
   "outputs": [],
   "source": [
    "y <- as.matrix(data.table::fread(\"/data/GIT/cnv-gene-mapping/data/deletion_simu/deletion.genes.block30.for_simu.sample.y\"))"
   ]
  },
  {
   "cell_type": "code",
   "execution_count": 9,
   "metadata": {},
   "outputs": [
    {
     "data": {
      "text/html": [
       "13412"
      ],
      "text/latex": [
       "13412"
      ],
      "text/markdown": [
       "13412"
      ],
      "text/plain": [
       "[1] 13412"
      ]
     },
     "metadata": {},
     "output_type": "display_data"
    }
   ],
   "source": [
    "length(y)"
   ]
  },
  {
   "cell_type": "code",
   "execution_count": 9,
   "metadata": {},
   "outputs": [],
   "source": [
    "# beta <- as.matrix(data.table::fread(\"/data/GIT/cnv-gene-mapping/data/deletion_simu/deletion.genes.block30.for_simu.sample.beta\"))"
   ]
  },
  {
   "cell_type": "code",
   "execution_count": 10,
   "metadata": {},
   "outputs": [],
   "source": [
    "# mean(beta); sd(beta); sum(beta == 0); sum(beta == 0)/length(beta)"
   ]
  },
  {
   "cell_type": "code",
   "execution_count": 29,
   "metadata": {},
   "outputs": [],
   "source": [
    "X_intercept <- cbind(rep(1, nrow(X_ori)), X_ori)"
   ]
  },
  {
   "cell_type": "code",
   "execution_count": 10,
   "metadata": {},
   "outputs": [],
   "source": [
    "y <- as.numeric(y[,1])"
   ]
  },
  {
   "cell_type": "code",
   "execution_count": 11,
   "metadata": {},
   "outputs": [],
   "source": [
    "N <- rep(1, length(y))"
   ]
  },
  {
   "cell_type": "code",
   "execution_count": 12,
   "metadata": {},
   "outputs": [],
   "source": [
    "prior <- readRDS(\"/home/min/GIT/cnv-gene-mapping/data/deletion_simu/deletion.genes.block30.binomial.whole.genome.prior.varbvs.nologodds.updateb0.rds\")"
   ]
  },
  {
   "cell_type": "code",
   "execution_count": 45,
   "metadata": {},
   "outputs": [],
   "source": [
    "mu0 = sum(prior$b0 * prior$w)"
   ]
  },
  {
   "cell_type": "code",
   "execution_count": 46,
   "metadata": {},
   "outputs": [
    {
     "data": {
      "text/html": [
       "0.777072111580423"
      ],
      "text/latex": [
       "0.777072111580423"
      ],
      "text/markdown": [
       "0.777072111580423"
      ],
      "text/plain": [
       "[1] 0.7770721"
      ]
     },
     "metadata": {},
     "output_type": "display_data"
    }
   ],
   "source": [
    "mu0"
   ]
  },
  {
   "cell_type": "code",
   "execution_count": 15,
   "metadata": {},
   "outputs": [],
   "source": [
    "var = sum(prior$sa * prior$w)"
   ]
  },
  {
   "cell_type": "code",
   "execution_count": 16,
   "metadata": {},
   "outputs": [
    {
     "data": {
      "text/html": [
       "0.711745609189383"
      ],
      "text/latex": [
       "0.711745609189383"
      ],
      "text/markdown": [
       "0.711745609189383"
      ],
      "text/plain": [
       "[1] 0.7117456"
      ]
     },
     "metadata": {},
     "output_type": "display_data"
    }
   ],
   "source": [
    "var"
   ]
  },
  {
   "cell_type": "code",
   "execution_count": 17,
   "metadata": {},
   "outputs": [],
   "source": [
    "pi0 = sum((10^(prior$logodds) / (1 + 10^(prior$logodds))) * prior$w)"
   ]
  },
  {
   "cell_type": "code",
   "execution_count": 18,
   "metadata": {},
   "outputs": [
    {
     "data": {
      "text/html": [
       "0.0437754961218526"
      ],
      "text/latex": [
       "0.0437754961218526"
      ],
      "text/markdown": [
       "0.0437754961218526"
      ],
      "text/plain": [
       "[1] 0.0437755"
      ]
     },
     "metadata": {},
     "output_type": "display_data"
    }
   ],
   "source": [
    "pi0"
   ]
  },
  {
   "cell_type": "code",
   "execution_count": 21,
   "metadata": {},
   "outputs": [],
   "source": [
    "# b = prior$beta[which(prior$beta != 0)]\n",
    "# mean(b); var(b); sum(prior$beta == 0); sum(prior$beta == 0)/length(prior$beta)"
   ]
  },
  {
   "cell_type": "code",
   "execution_count": 19,
   "metadata": {},
   "outputs": [],
   "source": [
    "X <- X_center"
   ]
  },
  {
   "cell_type": "code",
   "execution_count": null,
   "metadata": {},
   "outputs": [
    {
     "name": "stdout",
     "output_type": "stream",
     "text": [
      "\n",
      "MCMC for the binomial logit model:\n",
      "\n",
      "it = 1 /--- duration of MCMC so far: 25.1 sec.,  expected time to end: Inf  min. \n",
      "it = 2 /--- duration of MCMC so far: 25.23 sec.,  expected time to end: 2522.18  min. \n",
      "it = 3 /--- duration of MCMC so far: 25.37 sec.,  expected time to end: 1268.13  min. \n",
      "it = 4 /--- duration of MCMC so far: 25.5 sec.,  expected time to end: 849.58  min. \n",
      "it = 5 /--- duration of MCMC so far: 25.66 sec.,  expected time to end: 641.05  min. \n",
      "it = 10 /--- duration of MCMC so far: 26.26 sec.,  expected time to end: 291.33  min. \n",
      "it = 20 /--- duration of MCMC so far: 27.68 sec.,  expected time to end: 145.21  min. \n",
      "it = 50 /--- duration of MCMC so far: 31.47 sec.,  expected time to end: 63.7  min. \n",
      "it = 100 /--- duration of MCMC so far: 37.39 sec.,  expected time to end: 37.15  min. \n",
      "it = 200 /--- duration of MCMC so far: 48.93 sec.,  expected time to end: 23.77  min. \n",
      "it = 500 /--- duration of MCMC so far: 83.96 sec.,  expected time to end: 15.43  min. \n"
     ]
    }
   ],
   "source": [
    "res <- logitBvs(y, N, X, prior = list(slab = \"Normal\", aj0 = rep(mu0, ncol(X_ori)), V = var, w = c(wa0 = 1, wb0 = 1), pi = c(pa0 = 1.412, pb0 = 10)), \n",
    "                mcmc = list(M = 5000, burnin = 1000, msave = TRUE), BVS = FALSE)\n",
    "# res1 <- logitBvs(y, N, X, prior = list(slab = \"Normal\", aj0 = rep(mu0, ncol(X_ori)), V = var, w = c(wa0 = 1.412, wb0 = 10), pi = c(pa0 = 1, pb0 = 1)), \n",
    "#                  mcmc = list(M = 5000, burnin = 1000, msave = TRUE), BVS = TRUE)"
   ]
  },
  {
   "cell_type": "code",
   "execution_count": 48,
   "metadata": {},
   "outputs": [
    {
     "name": "stderr",
     "output_type": "stream",
     "text": [
      "Warning message:\n",
      "“invalid 'BVS' or 'startsel' argument:\n",
      "'startsel' was set to 0.5”"
     ]
    },
    {
     "name": "stdout",
     "output_type": "stream",
     "text": [
      "\n",
      "MCMC for the binomial logit model with variable selection:\n",
      "\n",
      "it = 1 /--- duration of MCMC so far: 25.22 sec.,  expected time to end: Inf  min. \n",
      "it = 2 /--- duration of MCMC so far: 31.43 sec.,  expected time to end: 2.62  min. \n",
      "it = 3 /--- duration of MCMC so far: 36.56 sec.,  expected time to end: 1.22  min. \n",
      "it = 4 /--- duration of MCMC so far: 41.13 sec.,  expected time to end: 0.69  min. \n",
      "it = 5 /--- duration of MCMC so far: 45.67 sec.,  expected time to end: 0.38  min. \n",
      "it = 6 /--- duration of MCMC (total): 50.33 sec. \n",
      " \n"
     ]
    }
   ],
   "source": [
    "res_pip <- logitBvs(y, N, X, prior = list(slab = \"Normal\", aj0 = rep(0, ncol(X_ori)), V = var, w = c(wa0 = 1.412, wb0 = 10), pi = c(pa0 = 1, pb0 = 1)), \n",
    "                    mcmc = list(M = 5, burnin = 1, msave = TRUE), BVS = TRUE)"
   ]
  },
  {
   "cell_type": "code",
   "execution_count": null,
   "metadata": {},
   "outputs": [],
   "source": [
    "head(summary(res_pip))"
   ]
  },
  {
   "cell_type": "code",
   "execution_count": null,
   "metadata": {},
   "outputs": [],
   "source": [
    "summary(res)"
   ]
  },
  {
   "cell_type": "code",
   "execution_count": 50,
   "metadata": {},
   "outputs": [
    {
     "data": {
      "text/plain": [
       "MCMC for the logit model:\n",
       "\n",
       "Call:\n",
       "logitBvs(y = y, N = N, X = X, prior = list(slab = \"Normal\", aj0 = rep(mu0, \n",
       "    ncol(X_ori)), V = var, w = c(wa0 = 1.412, wb0 = 10), pi = c(pa0 = 1, \n",
       "    pb0 = 1)), mcmc = list(M = 5000, burnin = 1000, msave = TRUE), \n",
       "    BVS = TRUE)\n",
       "\n",
       "\n",
       "MCMC:\n",
       "M = 5000 draws after a burn-in of 1000\n",
       "Thinning parameter: 1\n",
       "\n",
       "Prior: Normal prior [V=0.711745609189383]\n",
       "\n",
       " a0[0]  a0[1]  a0[2]  a0[3]  a0[4]  a0[5]  a0[6]  a0[7]  a0[8]  a0[9] a0[10] \n",
       " 0.000  0.777  0.777  0.777  0.777  0.777  0.777  0.777  0.777  0.777  0.777 \n",
       "a0[11] a0[12] a0[13] a0[14] a0[15] a0[16] a0[17] a0[18] a0[19] a0[20] a0[21] \n",
       " 0.777  0.777  0.777  0.777  0.777  0.777  0.777  0.777  0.777  0.777  0.777 \n",
       "a0[22] a0[23] a0[24] a0[25] a0[26] a0[27] a0[28] a0[29] a0[30] a0[31] a0[32] \n",
       " 0.777  0.777  0.777  0.777  0.777  0.777  0.777  0.777  0.777  0.777  0.777 \n",
       "a0[33] a0[34] a0[35] a0[36] a0[37] a0[38] a0[39] a0[40] a0[41] a0[42] a0[43] \n",
       " 0.777  0.777  0.777  0.777  0.777  0.777  0.777  0.777  0.777  0.777  0.777 \n",
       "a0[44] a0[45] a0[46] a0[47] a0[48] a0[49] a0[50] a0[51] a0[52] a0[53] a0[54] \n",
       " 0.777  0.777  0.777  0.777  0.777  0.777  0.777  0.777  0.777  0.777  0.777 \n",
       "a0[55] a0[56] a0[57] a0[58] a0[59] \n",
       " 0.777  0.777  0.777  0.777  0.777 \n",
       "\n",
       "\n",
       "Posterior means and 95%-HPD intervals:\n",
       "\n",
       "            Estimate 95%-HPD[l] 95%-HPD[u]\n",
       "(Intercept)    0.000     -0.040      0.041\n",
       "alpha.1       -0.544     -1.771      0.815\n",
       "alpha.2        0.536     -1.214      2.351\n",
       "alpha.3        0.001     -1.544      1.680\n",
       "alpha.4        0.015     -1.670      1.575\n",
       "alpha.5        0.009     -1.658      1.560\n",
       "alpha.6        0.012     -1.549      1.630\n",
       "alpha.7        0.013     -1.569      1.588\n",
       "alpha.8        0.011     -1.542      1.583\n",
       "alpha.9       -0.002     -1.531      1.586\n",
       "alpha.10      -0.013     -1.639      1.560\n",
       "alpha.11      -0.017     -1.629      1.583\n",
       "alpha.12       0.008     -1.600      1.524\n",
       "alpha.13       0.018     -1.531      1.637\n",
       "alpha.14       0.235     -1.109      1.733\n",
       "alpha.15       0.208     -1.201      1.615\n",
       "alpha.16      -0.698     -1.927      0.689\n",
       "alpha.17       0.650     -0.930      2.202\n",
       "alpha.18       0.643     -0.780      2.248\n",
       "alpha.19      -1.055     -2.684      0.470\n",
       "alpha.20       0.434     -0.643      1.548\n",
       "alpha.21      -0.010     -1.544      1.437\n",
       "alpha.22       0.008     -1.439      1.466\n",
       "alpha.23      -1.061     -2.575      0.589\n",
       "alpha.24       0.178     -1.348      1.854\n",
       "alpha.25       0.168     -1.377      1.744\n",
       "alpha.26       0.172     -1.370      1.766\n",
       "alpha.27       0.169     -1.358      1.808\n",
       "alpha.28       0.178     -1.377      1.733\n",
       "alpha.29      -0.314     -1.762      1.049\n",
       "alpha.30       0.183     -1.285      1.809\n",
       "alpha.31       0.166     -1.396      1.793\n",
       "alpha.32       0.159     -1.339      1.839\n",
       "alpha.33       0.173     -1.378      1.764\n",
       "alpha.34      -0.007     -1.497      1.592\n",
       "alpha.35      -0.031     -1.627      1.482\n",
       "alpha.36      -0.004     -1.502      1.657\n",
       "alpha.37      -0.028     -1.589      1.550\n",
       "alpha.38      -0.006     -1.433      1.626\n",
       "alpha.39      -0.002     -1.604      1.517\n",
       "alpha.40       0.696     -0.817      2.261\n",
       "alpha.41      -0.337     -1.800      1.105\n",
       "alpha.42      -0.448     -1.589      0.698\n",
       "alpha.43       0.997     -0.686      2.604\n",
       "alpha.44       1.008     -0.570      2.660\n",
       "alpha.45      -0.270     -1.759      1.169\n",
       "alpha.46      -0.256     -1.676      1.267\n",
       "alpha.47      -0.274     -1.697      1.173\n",
       "alpha.48      -0.246     -1.800      1.158\n",
       "alpha.49       0.325     -0.964      1.672\n",
       "alpha.50       0.312     -1.033      1.586\n",
       "alpha.51      -0.216     -1.609      1.148\n",
       "alpha.52      -0.211     -1.558      1.146\n",
       "alpha.53      -0.230     -1.665      1.244\n",
       "alpha.54      -0.237     -1.734      1.268\n",
       "alpha.55      -0.220     -1.820      1.165\n",
       "alpha.56       0.006     -1.603      1.659\n",
       "alpha.57       0.011     -1.609      1.653\n",
       "alpha.58       0.047     -1.684      1.732\n",
       "alpha.59       0.042     -1.615      1.824\n"
      ]
     },
     "metadata": {},
     "output_type": "display_data"
    }
   ],
   "source": [
    "summary(res1)"
   ]
  },
  {
   "cell_type": "code",
   "execution_count": 21,
   "metadata": {},
   "outputs": [],
   "source": [
    "# saveRDS(res, paste(\"/home/min/GIT/cnv-gene-mapping/data/deletion_simu/logitBvs.block_\", block[1], \"_\", block[2],\".var.selection.res.rds\", sep = \"\"))"
   ]
  },
  {
   "cell_type": "code",
   "execution_count": 1,
   "metadata": {},
   "outputs": [],
   "source": [
    "# res <- readRDS(\"/home/min/GIT/cnv-gene-mapping/data/deletion_simu/logitBvs.var.selection.res.rds\")"
   ]
  },
  {
   "cell_type": "code",
   "execution_count": 51,
   "metadata": {},
   "outputs": [],
   "source": [
    "tmp <- res1"
   ]
  },
  {
   "cell_type": "code",
   "execution_count": 52,
   "metadata": {},
   "outputs": [
    {
     "data": {
      "text/html": [
       "<ol class=list-inline>\n",
       "\t<li>'samplesL'</li>\n",
       "\t<li>'data'</li>\n",
       "\t<li>'model.logit'</li>\n",
       "\t<li>'mcmc'</li>\n",
       "\t<li>'prior.logit'</li>\n",
       "\t<li>'dur'</li>\n",
       "\t<li>'BVS'</li>\n",
       "\t<li>'start'</li>\n",
       "\t<li>'family'</li>\n",
       "\t<li>'call'</li>\n",
       "</ol>\n"
      ],
      "text/latex": [
       "\\begin{enumerate*}\n",
       "\\item 'samplesL'\n",
       "\\item 'data'\n",
       "\\item 'model.logit'\n",
       "\\item 'mcmc'\n",
       "\\item 'prior.logit'\n",
       "\\item 'dur'\n",
       "\\item 'BVS'\n",
       "\\item 'start'\n",
       "\\item 'family'\n",
       "\\item 'call'\n",
       "\\end{enumerate*}\n"
      ],
      "text/markdown": [
       "1. 'samplesL'\n",
       "2. 'data'\n",
       "3. 'model.logit'\n",
       "4. 'mcmc'\n",
       "5. 'prior.logit'\n",
       "6. 'dur'\n",
       "7. 'BVS'\n",
       "8. 'start'\n",
       "9. 'family'\n",
       "10. 'call'\n",
       "\n",
       "\n"
      ],
      "text/plain": [
       " [1] \"samplesL\"    \"data\"        \"model.logit\" \"mcmc\"        \"prior.logit\"\n",
       " [6] \"dur\"         \"BVS\"         \"start\"       \"family\"      \"call\"       "
      ]
     },
     "metadata": {},
     "output_type": "display_data"
    }
   ],
   "source": [
    "names(tmp)"
   ]
  },
  {
   "cell_type": "code",
   "execution_count": 53,
   "metadata": {},
   "outputs": [
    {
     "data": {
      "text/html": [
       "<ol class=list-inline>\n",
       "\t<li>'alpha'</li>\n",
       "\t<li>'pdeltaAlpha'</li>\n",
       "\t<li>'psiAlpha'</li>\n",
       "\t<li>'thetaAlpha'</li>\n",
       "\t<li>'pgammaAlpha'</li>\n",
       "\t<li>'ai'</li>\n",
       "</ol>\n"
      ],
      "text/latex": [
       "\\begin{enumerate*}\n",
       "\\item 'alpha'\n",
       "\\item 'pdeltaAlpha'\n",
       "\\item 'psiAlpha'\n",
       "\\item 'thetaAlpha'\n",
       "\\item 'pgammaAlpha'\n",
       "\\item 'ai'\n",
       "\\end{enumerate*}\n"
      ],
      "text/markdown": [
       "1. 'alpha'\n",
       "2. 'pdeltaAlpha'\n",
       "3. 'psiAlpha'\n",
       "4. 'thetaAlpha'\n",
       "5. 'pgammaAlpha'\n",
       "6. 'ai'\n",
       "\n",
       "\n"
      ],
      "text/plain": [
       "[1] \"alpha\"       \"pdeltaAlpha\" \"psiAlpha\"    \"thetaAlpha\"  \"pgammaAlpha\"\n",
       "[6] \"ai\"         "
      ]
     },
     "metadata": {},
     "output_type": "display_data"
    }
   ],
   "source": [
    "names(tmp$samplesL)"
   ]
  },
  {
   "cell_type": "code",
   "execution_count": 54,
   "metadata": {},
   "outputs": [
    {
     "data": {
      "text/html": [
       "<table>\n",
       "<thead><tr><th scope=col>alpha.0</th><th scope=col>alpha.1</th><th scope=col>alpha.2</th><th scope=col>alpha.3</th><th scope=col>alpha.4</th><th scope=col>alpha.5</th><th scope=col>alpha.6</th><th scope=col>alpha.7</th><th scope=col>alpha.8</th><th scope=col>alpha.9</th><th scope=col>⋯</th><th scope=col>alpha.50</th><th scope=col>alpha.51</th><th scope=col>alpha.52</th><th scope=col>alpha.53</th><th scope=col>alpha.54</th><th scope=col>alpha.55</th><th scope=col>alpha.56</th><th scope=col>alpha.57</th><th scope=col>alpha.58</th><th scope=col>alpha.59</th></tr></thead>\n",
       "<tbody>\n",
       "\t<tr><td>-0.008922104</td><td>-0.53034624 </td><td> 0.531186533</td><td> 0.4457819  </td><td> 0.1599986  </td><td>-1.3182861  </td><td> 0.09927597 </td><td> 0.040819133</td><td> 0.14441332 </td><td>-1.20171809 </td><td>⋯           </td><td>-0.4265390  </td><td> 0.3910205  </td><td> 0.46967763 </td><td> 0.5613216  </td><td> 1.324210991</td><td>-1.5534997  </td><td>-1.6478087  </td><td>-1.075354152</td><td> 0.1485861  </td><td> 1.2174901  </td></tr>\n",
       "\t<tr><td> 0.008121581</td><td> 0.79518523 </td><td> 0.954229860</td><td>-0.1130958  </td><td>-0.7076055  </td><td> 1.0144555  </td><td> 0.06313414 </td><td> 0.500058544</td><td>-0.05249471 </td><td> 0.02847695 </td><td>⋯           </td><td>-0.5672389  </td><td>-0.2361822  </td><td> 0.69763880 </td><td>-0.9993369  </td><td>-0.003138283</td><td> 0.1564388  </td><td>-0.2261067  </td><td> 0.178268803</td><td> 0.8484847  </td><td> 1.5755036  </td></tr>\n",
       "\t<tr><td> 0.004549283</td><td>-0.49674451 </td><td>-0.988052445</td><td>-0.5637793  </td><td> 1.0699240  </td><td> 1.3984557  </td><td>-0.06392324 </td><td>-0.002354454</td><td>-0.54175689 </td><td>-0.58197656 </td><td>⋯           </td><td> 1.4600980  </td><td>-0.9431929  </td><td>-0.52161259 </td><td> 0.3376865  </td><td>-0.529398446</td><td> 0.5669247  </td><td> 0.5654980  </td><td> 0.006672887</td><td> 0.2599798  </td><td>-0.6937189  </td></tr>\n",
       "\t<tr><td>-0.015049224</td><td>-0.13860589 </td><td> 0.293100422</td><td>-0.1334541  </td><td> 1.2996531  </td><td> 1.4361739  </td><td>-1.19321224 </td><td> 0.508942331</td><td> 0.26084063 </td><td> 0.32264172 </td><td>⋯           </td><td> 0.2647752  </td><td>-1.3852779  </td><td> 0.78115515 </td><td> 0.1477897  </td><td>-0.534497911</td><td>-0.8138973  </td><td>-1.4152443  </td><td> 1.090435096</td><td>-0.7521541  </td><td> 0.9998119  </td></tr>\n",
       "\t<tr><td>-0.035771400</td><td> 0.06670708 </td><td> 0.009164063</td><td>-0.7054603  </td><td> 0.3679066  </td><td>-1.3005890  </td><td>-0.02348997 </td><td> 0.197857705</td><td> 1.90309204 </td><td>-0.90931598 </td><td>⋯           </td><td>-0.2912868  </td><td> 0.6487994  </td><td>-0.07720553 </td><td>-0.3198757  </td><td>-0.346299501</td><td> 0.2265415  </td><td>-0.2786059  </td><td> 0.926508434</td><td>-0.5175433  </td><td>-1.0035232  </td></tr>\n",
       "\t<tr><td>-0.015940786</td><td>-1.33713301 </td><td> 1.018747459</td><td>-1.2060913  </td><td>-0.7895486  </td><td>-0.3490836  </td><td> 0.63312591 </td><td> 1.465485144</td><td>-0.17208142 </td><td> 0.33057663 </td><td>⋯           </td><td>-0.2077031  </td><td> 0.5747511  </td><td>-0.31270666 </td><td> 0.4434742  </td><td>-1.602214803</td><td> 1.0651499  </td><td>-1.0111447  </td><td> 0.510094357</td><td>-0.8205276  </td><td>-0.5999659  </td></tr>\n",
       "</tbody>\n",
       "</table>\n"
      ],
      "text/latex": [
       "\\begin{tabular}{llllllllllllllllllllllllllllllllllllllllllllllllllllllllllll}\n",
       " alpha.0 & alpha.1 & alpha.2 & alpha.3 & alpha.4 & alpha.5 & alpha.6 & alpha.7 & alpha.8 & alpha.9 & ⋯ & alpha.50 & alpha.51 & alpha.52 & alpha.53 & alpha.54 & alpha.55 & alpha.56 & alpha.57 & alpha.58 & alpha.59\\\\\n",
       "\\hline\n",
       "\t -0.008922104 & -0.53034624  &  0.531186533 &  0.4457819   &  0.1599986   & -1.3182861   &  0.09927597  &  0.040819133 &  0.14441332  & -1.20171809  & ⋯            & -0.4265390   &  0.3910205   &  0.46967763  &  0.5613216   &  1.324210991 & -1.5534997   & -1.6478087   & -1.075354152 &  0.1485861   &  1.2174901  \\\\\n",
       "\t  0.008121581 &  0.79518523  &  0.954229860 & -0.1130958   & -0.7076055   &  1.0144555   &  0.06313414  &  0.500058544 & -0.05249471  &  0.02847695  & ⋯            & -0.5672389   & -0.2361822   &  0.69763880  & -0.9993369   & -0.003138283 &  0.1564388   & -0.2261067   &  0.178268803 &  0.8484847   &  1.5755036  \\\\\n",
       "\t  0.004549283 & -0.49674451  & -0.988052445 & -0.5637793   &  1.0699240   &  1.3984557   & -0.06392324  & -0.002354454 & -0.54175689  & -0.58197656  & ⋯            &  1.4600980   & -0.9431929   & -0.52161259  &  0.3376865   & -0.529398446 &  0.5669247   &  0.5654980   &  0.006672887 &  0.2599798   & -0.6937189  \\\\\n",
       "\t -0.015049224 & -0.13860589  &  0.293100422 & -0.1334541   &  1.2996531   &  1.4361739   & -1.19321224  &  0.508942331 &  0.26084063  &  0.32264172  & ⋯            &  0.2647752   & -1.3852779   &  0.78115515  &  0.1477897   & -0.534497911 & -0.8138973   & -1.4152443   &  1.090435096 & -0.7521541   &  0.9998119  \\\\\n",
       "\t -0.035771400 &  0.06670708  &  0.009164063 & -0.7054603   &  0.3679066   & -1.3005890   & -0.02348997  &  0.197857705 &  1.90309204  & -0.90931598  & ⋯            & -0.2912868   &  0.6487994   & -0.07720553  & -0.3198757   & -0.346299501 &  0.2265415   & -0.2786059   &  0.926508434 & -0.5175433   & -1.0035232  \\\\\n",
       "\t -0.015940786 & -1.33713301  &  1.018747459 & -1.2060913   & -0.7895486   & -0.3490836   &  0.63312591  &  1.465485144 & -0.17208142  &  0.33057663  & ⋯            & -0.2077031   &  0.5747511   & -0.31270666  &  0.4434742   & -1.602214803 &  1.0651499   & -1.0111447   &  0.510094357 & -0.8205276   & -0.5999659  \\\\\n",
       "\\end{tabular}\n"
      ],
      "text/markdown": [
       "\n",
       "| alpha.0 | alpha.1 | alpha.2 | alpha.3 | alpha.4 | alpha.5 | alpha.6 | alpha.7 | alpha.8 | alpha.9 | ⋯ | alpha.50 | alpha.51 | alpha.52 | alpha.53 | alpha.54 | alpha.55 | alpha.56 | alpha.57 | alpha.58 | alpha.59 |\n",
       "|---|---|---|---|---|---|---|---|---|---|---|---|---|---|---|---|---|---|---|---|---|\n",
       "| -0.008922104 | -0.53034624  |  0.531186533 |  0.4457819   |  0.1599986   | -1.3182861   |  0.09927597  |  0.040819133 |  0.14441332  | -1.20171809  | ⋯            | -0.4265390   |  0.3910205   |  0.46967763  |  0.5613216   |  1.324210991 | -1.5534997   | -1.6478087   | -1.075354152 |  0.1485861   |  1.2174901   |\n",
       "|  0.008121581 |  0.79518523  |  0.954229860 | -0.1130958   | -0.7076055   |  1.0144555   |  0.06313414  |  0.500058544 | -0.05249471  |  0.02847695  | ⋯            | -0.5672389   | -0.2361822   |  0.69763880  | -0.9993369   | -0.003138283 |  0.1564388   | -0.2261067   |  0.178268803 |  0.8484847   |  1.5755036   |\n",
       "|  0.004549283 | -0.49674451  | -0.988052445 | -0.5637793   |  1.0699240   |  1.3984557   | -0.06392324  | -0.002354454 | -0.54175689  | -0.58197656  | ⋯            |  1.4600980   | -0.9431929   | -0.52161259  |  0.3376865   | -0.529398446 |  0.5669247   |  0.5654980   |  0.006672887 |  0.2599798   | -0.6937189   |\n",
       "| -0.015049224 | -0.13860589  |  0.293100422 | -0.1334541   |  1.2996531   |  1.4361739   | -1.19321224  |  0.508942331 |  0.26084063  |  0.32264172  | ⋯            |  0.2647752   | -1.3852779   |  0.78115515  |  0.1477897   | -0.534497911 | -0.8138973   | -1.4152443   |  1.090435096 | -0.7521541   |  0.9998119   |\n",
       "| -0.035771400 |  0.06670708  |  0.009164063 | -0.7054603   |  0.3679066   | -1.3005890   | -0.02348997  |  0.197857705 |  1.90309204  | -0.90931598  | ⋯            | -0.2912868   |  0.6487994   | -0.07720553  | -0.3198757   | -0.346299501 |  0.2265415   | -0.2786059   |  0.926508434 | -0.5175433   | -1.0035232   |\n",
       "| -0.015940786 | -1.33713301  |  1.018747459 | -1.2060913   | -0.7895486   | -0.3490836   |  0.63312591  |  1.465485144 | -0.17208142  |  0.33057663  | ⋯            | -0.2077031   |  0.5747511   | -0.31270666  |  0.4434742   | -1.602214803 |  1.0651499   | -1.0111447   |  0.510094357 | -0.8205276   | -0.5999659   |\n",
       "\n"
      ],
      "text/plain": [
       "     alpha.0      alpha.1     alpha.2      alpha.3    alpha.4    alpha.5   \n",
       "[1,] -0.008922104 -0.53034624  0.531186533  0.4457819  0.1599986 -1.3182861\n",
       "[2,]  0.008121581  0.79518523  0.954229860 -0.1130958 -0.7076055  1.0144555\n",
       "[3,]  0.004549283 -0.49674451 -0.988052445 -0.5637793  1.0699240  1.3984557\n",
       "[4,] -0.015049224 -0.13860589  0.293100422 -0.1334541  1.2996531  1.4361739\n",
       "[5,] -0.035771400  0.06670708  0.009164063 -0.7054603  0.3679066 -1.3005890\n",
       "[6,] -0.015940786 -1.33713301  1.018747459 -1.2060913 -0.7895486 -0.3490836\n",
       "     alpha.6     alpha.7      alpha.8     alpha.9     ⋯ alpha.50   alpha.51  \n",
       "[1,]  0.09927597  0.040819133  0.14441332 -1.20171809 ⋯ -0.4265390  0.3910205\n",
       "[2,]  0.06313414  0.500058544 -0.05249471  0.02847695 ⋯ -0.5672389 -0.2361822\n",
       "[3,] -0.06392324 -0.002354454 -0.54175689 -0.58197656 ⋯  1.4600980 -0.9431929\n",
       "[4,] -1.19321224  0.508942331  0.26084063  0.32264172 ⋯  0.2647752 -1.3852779\n",
       "[5,] -0.02348997  0.197857705  1.90309204 -0.90931598 ⋯ -0.2912868  0.6487994\n",
       "[6,]  0.63312591  1.465485144 -0.17208142  0.33057663 ⋯ -0.2077031  0.5747511\n",
       "     alpha.52    alpha.53   alpha.54     alpha.55   alpha.56   alpha.57    \n",
       "[1,]  0.46967763  0.5613216  1.324210991 -1.5534997 -1.6478087 -1.075354152\n",
       "[2,]  0.69763880 -0.9993369 -0.003138283  0.1564388 -0.2261067  0.178268803\n",
       "[3,] -0.52161259  0.3376865 -0.529398446  0.5669247  0.5654980  0.006672887\n",
       "[4,]  0.78115515  0.1477897 -0.534497911 -0.8138973 -1.4152443  1.090435096\n",
       "[5,] -0.07720553 -0.3198757 -0.346299501  0.2265415 -0.2786059  0.926508434\n",
       "[6,] -0.31270666  0.4434742 -1.602214803  1.0651499 -1.0111447  0.510094357\n",
       "     alpha.58   alpha.59  \n",
       "[1,]  0.1485861  1.2174901\n",
       "[2,]  0.8484847  1.5755036\n",
       "[3,]  0.2599798 -0.6937189\n",
       "[4,] -0.7521541  0.9998119\n",
       "[5,] -0.5175433 -1.0035232\n",
       "[6,] -0.8205276 -0.5999659"
      ]
     },
     "metadata": {},
     "output_type": "display_data"
    }
   ],
   "source": [
    "head(tmp$samplesL$alpha)"
   ]
  },
  {
   "cell_type": "code",
   "execution_count": 55,
   "metadata": {},
   "outputs": [],
   "source": [
    "bhat <- colMeans(tmp$samplesL$alpha[,-1])\n",
    "bhat1 <- colMeans(tmp$samplesL$alpha)"
   ]
  },
  {
   "cell_type": "code",
   "execution_count": 56,
   "metadata": {},
   "outputs": [],
   "source": [
    "# yhat <- exp(X %*% bhat)/(1+exp(X %*% bhat))\n",
    "yhat <- X_ori %*% bhat\n",
    "yhat1 <- X_center %*% bhat\n",
    "yhat2 <- X_intercept %*% bhat1"
   ]
  },
  {
   "cell_type": "code",
   "execution_count": 57,
   "metadata": {},
   "outputs": [
    {
     "data": {
      "text/html": [
       "-1.07900361328641"
      ],
      "text/latex": [
       "-1.07900361328641"
      ],
      "text/markdown": [
       "-1.07900361328641"
      ],
      "text/plain": [
       "[1] -1.079004"
      ]
     },
     "metadata": {},
     "output_type": "display_data"
    },
    {
     "data": {
      "text/html": [
       "1.65047347772882"
      ],
      "text/latex": [
       "1.65047347772882"
      ],
      "text/markdown": [
       "1.65047347772882"
      ],
      "text/plain": [
       "[1] 1.650473"
      ]
     },
     "metadata": {},
     "output_type": "display_data"
    },
    {
     "data": {
      "text/html": [
       "0.00129559479633665"
      ],
      "text/latex": [
       "0.00129559479633665"
      ],
      "text/markdown": [
       "0.00129559479633665"
      ],
      "text/plain": [
       "[1] 0.001295595"
      ]
     },
     "metadata": {},
     "output_type": "display_data"
    },
    {
     "data": {
      "text/html": [
       "0"
      ],
      "text/latex": [
       "0"
      ],
      "text/markdown": [
       "0"
      ],
      "text/plain": [
       "[1] 0"
      ]
     },
     "metadata": {},
     "output_type": "display_data"
    }
   ],
   "source": [
    "min(yhat); max(yhat); mean(yhat); median(yhat)"
   ]
  },
  {
   "cell_type": "code",
   "execution_count": 58,
   "metadata": {},
   "outputs": [],
   "source": [
    "b_all <- as.matrix(data.table::fread(\"/data/GIT/cnv-gene-mapping/data/deletion_simu/deletion.genes.block30.for_simu.sample.beta\"))\n",
    "b <- b_all[(block_simu[1]+1):(block_simu[2]+1)]"
   ]
  },
  {
   "cell_type": "code",
   "execution_count": 59,
   "metadata": {},
   "outputs": [],
   "source": [
    "# y <- exp(X %*% b)/(1+exp(X %*% b))\n",
    "yb <- X_ori %*% b"
   ]
  },
  {
   "cell_type": "code",
   "execution_count": 60,
   "metadata": {},
   "outputs": [
    {
     "data": {
      "text/html": [
       "0"
      ],
      "text/latex": [
       "0"
      ],
      "text/markdown": [
       "0"
      ],
      "text/plain": [
       "[1] 0"
      ]
     },
     "metadata": {},
     "output_type": "display_data"
    },
    {
     "data": {
      "text/html": [
       "0.957889221371214"
      ],
      "text/latex": [
       "0.957889221371214"
      ],
      "text/markdown": [
       "0.957889221371214"
      ],
      "text/plain": [
       "[1] 0.9578892"
      ]
     },
     "metadata": {},
     "output_type": "display_data"
    },
    {
     "data": {
      "text/html": [
       "0.00443809267985746"
      ],
      "text/latex": [
       "0.00443809267985746"
      ],
      "text/markdown": [
       "0.00443809267985746"
      ],
      "text/plain": [
       "[1] 0.004438093"
      ]
     },
     "metadata": {},
     "output_type": "display_data"
    },
    {
     "data": {
      "text/html": [
       "0"
      ],
      "text/latex": [
       "0"
      ],
      "text/markdown": [
       "0"
      ],
      "text/plain": [
       "[1] 0"
      ]
     },
     "metadata": {},
     "output_type": "display_data"
    }
   ],
   "source": [
    "min(yb); max(yb); mean(yb); median(yb)"
   ]
  },
  {
   "cell_type": "code",
   "execution_count": 63,
   "metadata": {},
   "outputs": [
    {
     "data": {
      "text/html": [
       "<table>\n",
       "<tbody>\n",
       "\t<tr><td>0.3444027</td></tr>\n",
       "</tbody>\n",
       "</table>\n"
      ],
      "text/latex": [
       "\\begin{tabular}{l}\n",
       "\t 0.3444027\\\\\n",
       "\\end{tabular}\n"
      ],
      "text/markdown": [
       "\n",
       "| 0.3444027 |\n",
       "\n"
      ],
      "text/plain": [
       "     [,1]     \n",
       "[1,] 0.3444027"
      ]
     },
     "metadata": {},
     "output_type": "display_data"
    }
   ],
   "source": [
    "cor(yb, yhat, method = \"pearson\")"
   ]
  },
  {
   "cell_type": "code",
   "execution_count": 39,
   "metadata": {},
   "outputs": [
    {
     "data": {
      "text/html": [
       "-0.111293975657849"
      ],
      "text/latex": [
       "-0.111293975657849"
      ],
      "text/markdown": [
       "-0.111293975657849"
      ],
      "text/plain": [
       "[1] -0.111294"
      ]
     },
     "metadata": {},
     "output_type": "display_data"
    }
   ],
   "source": [
    "min(yhat1[yhat1<0])"
   ]
  },
  {
   "cell_type": "code",
   "execution_count": 40,
   "metadata": {},
   "outputs": [
    {
     "data": {
      "text/plain": [
       "\n",
       "\tPearson's product-moment correlation\n",
       "\n",
       "data:  yb and yhat\n",
       "t = 874.81, df = 13410, p-value < 2.2e-16\n",
       "alternative hypothesis: true correlation is not equal to 0\n",
       "95 percent confidence interval:\n",
       " 0.9910558 0.9916388\n",
       "sample estimates:\n",
       "      cor \n",
       "0.9913522 \n"
      ]
     },
     "metadata": {},
     "output_type": "display_data"
    }
   ],
   "source": [
    "cor.test(yb, yhat, method=c(\"pearson\"))"
   ]
  },
  {
   "cell_type": "code",
   "execution_count": 26,
   "metadata": {},
   "outputs": [
    {
     "data": {
      "text/plain": [
       "Bayesian variable selection for the logit model:\n",
       "\n",
       "Call:\n",
       "logitBvs(y = y, N = N, X = X)\n",
       "\n",
       "\n",
       "MCMC:\n",
       "M = 8000 draws after a burn-in of 2000\n",
       "BVS started after 1000 iterations\n",
       "Thinning parameter: 1\n",
       "\n",
       "Prior:  spike-and-slab prior with Student-t slab [V=5]\n",
       "\n",
       " a0[0]  a0[1]  a0[2]  a0[3]  a0[4]  a0[5]  a0[6]  a0[7]  a0[8]  a0[9] a0[10] \n",
       "     0      0      0      0      0      0      0      0      0      0      0 \n",
       "a0[11] a0[12] a0[13] a0[14] \n",
       "     0      0      0      0 \n",
       " w[a]  w[b] pi[a] pi[b] \n",
       "    1     1     1     1 \n",
       "\n",
       "\n",
       "Model averaged posterior means, estimated posterior inclusion\n",
       " probabilities and 95%-HPD intervals:\n",
       "\n",
       "            Estimate P(.=1) 95%-HPD[l] 95%-HPD[u]\n",
       "(Intercept)    0.029     NA     -0.012      0.067\n",
       "alpha.1        0.216  0.512     -0.099      0.916\n",
       "alpha.2        0.426  0.543     -2.258      3.523\n",
       "alpha.3        0.458  0.541     -2.258      3.663\n",
       "alpha.4        0.448  0.541     -2.249      3.660\n",
       "alpha.5        0.446  0.542     -2.097      3.782\n",
       "alpha.6        0.449  0.544     -2.231      3.643\n",
       "alpha.7       -0.642  0.928     -1.187      0.000\n",
       "alpha.8        0.128  0.429     -0.367      0.877\n",
       "alpha.9       -0.062  0.459     -2.505      2.294\n",
       "alpha.10      -0.046  0.453     -2.346      2.549\n",
       "alpha.11      -0.060  0.456     -2.500      2.372\n",
       "alpha.12       0.235  0.505     -2.139      2.999\n",
       "alpha.13       0.269  0.497     -1.979      3.185\n",
       "alpha.14       0.278  0.503     -2.017      3.096\n"
      ]
     },
     "metadata": {},
     "output_type": "display_data"
    }
   ],
   "source": [
    "summary(tmp)"
   ]
  },
  {
   "cell_type": "code",
   "execution_count": null,
   "metadata": {},
   "outputs": [],
   "source": []
  },
  {
   "cell_type": "code",
   "execution_count": null,
   "metadata": {},
   "outputs": [],
   "source": []
  },
  {
   "cell_type": "code",
   "execution_count": 92,
   "metadata": {},
   "outputs": [
    {
     "data": {
      "text/html": [
       "<strong>png:</strong> 2"
      ],
      "text/latex": [
       "\\textbf{png:} 2"
      ],
      "text/markdown": [
       "**png:** 2"
      ],
      "text/plain": [
       "png \n",
       "  2 "
      ]
     },
     "metadata": {},
     "output_type": "display_data"
    }
   ],
   "source": [
    "pdf(file = paste(\"/home/min/GIT/cnv-gene-mapping/data/deletion_simu/logitBvs.block_\", block[1], \"_\", block[2],\".var.selection.beta.hist.pdf\", sep = \"\"))\n",
    "par(mfrow = c(2,2))\n",
    "for (i in seq(2, (block[2]-block[1]+2))){\n",
    "    hist(res$samplesL$alpha[,i], breaks = 80, main = paste(\"beta\", i-1, \"histogram\"), xlab = paste(\"beta\", i-1))\n",
    "}\n",
    "dev.off()"
   ]
  },
  {
   "cell_type": "code",
   "execution_count": 94,
   "metadata": {},
   "outputs": [
    {
     "data": {
      "text/html": [
       "<ol class=list-inline>\n",
       "\t<li>12000</li>\n",
       "\t<li>15</li>\n",
       "</ol>\n"
      ],
      "text/latex": [
       "\\begin{enumerate*}\n",
       "\\item 12000\n",
       "\\item 15\n",
       "\\end{enumerate*}\n"
      ],
      "text/markdown": [
       "1. 12000\n",
       "2. 15\n",
       "\n",
       "\n"
      ],
      "text/plain": [
       "[1] 12000    15"
      ]
     },
     "metadata": {},
     "output_type": "display_data"
    }
   ],
   "source": [
    "dim(res$samplesL$alpha)"
   ]
  },
  {
   "cell_type": "code",
   "execution_count": 79,
   "metadata": {},
   "outputs": [],
   "source": [
    "# mean(res$samplesL$alpha[,42])"
   ]
  },
  {
   "cell_type": "code",
   "execution_count": 78,
   "metadata": {},
   "outputs": [
    {
     "data": {
      "text/plain": [
       "MCMC for the logit model:\n",
       "\n",
       "Call:\n",
       "logitBvs(y = y, N = N, X = X, prior = list(slab = \"Normal\", aj0 = rep(mu0, \n",
       "    ncol(X) - 1), V = var, w = c(wa0 = 1, wb0 = 1), pi = c(pa0 = 1.412, \n",
       "    pb0 = 10)), mcmc = list(M = 24000, burnin = 6000, msave = TRUE), \n",
       "    BVS = FALSE)\n",
       "\n",
       "\n",
       "MCMC:\n",
       "M = 24000 draws after a burn-in of 6000\n",
       "Thinning parameter: 1\n",
       "\n",
       "Prior: Normal prior [V=0.711745609189383]\n",
       "\n",
       " a0[0]  a0[1]  a0[2]  a0[3]  a0[4]  a0[5]  a0[6]  a0[7]  a0[8]  a0[9] a0[10] \n",
       " 0.000  0.777  0.777  0.777  0.777  0.777  0.777  0.777  0.777  0.777  0.777 \n",
       "a0[11] a0[12] a0[13] a0[14] a0[15] a0[16] a0[17] a0[18] a0[19] a0[20] a0[21] \n",
       " 0.777  0.777  0.777  0.777  0.777  0.777  0.777  0.777  0.777  0.777  0.777 \n",
       "a0[22] a0[23] a0[24] a0[25] a0[26] a0[27] a0[28] a0[29] a0[30] a0[31] a0[32] \n",
       " 0.777  0.777  0.777  0.777  0.777  0.777  0.777  0.777  0.777  0.777  0.777 \n",
       "a0[33] a0[34] a0[35] a0[36] a0[37] a0[38] a0[39] a0[40] a0[41] a0[42] a0[43] \n",
       " 0.777  0.777  0.777  0.777  0.777  0.777  0.777  0.777  0.777  0.777  0.777 \n",
       "a0[44] a0[45] a0[46] a0[47] a0[48] a0[49] a0[50] a0[51] a0[52] a0[53] a0[54] \n",
       " 0.777  0.777  0.777  0.777  0.777  0.777  0.777  0.777  0.777  0.777  0.777 \n",
       "a0[55] a0[56] a0[57] a0[58] a0[59] \n",
       " 0.777  0.777  0.777  0.777  0.777 \n",
       "\n",
       "\n",
       "Posterior means and 95%-HPD intervals:\n",
       "\n",
       "            Estimate 95%-HPD[l] 95%-HPD[u]\n",
       "(Intercept)   -0.001     -0.043      0.039\n",
       "alpha.1       -0.555     -1.844      0.749\n",
       "alpha.2        0.531     -1.221      2.311\n",
       "alpha.3        0.013     -1.501      1.654\n",
       "alpha.4        0.009     -1.582      1.582\n",
       "alpha.5        0.006     -1.539      1.632\n",
       "alpha.6        0.005     -1.637      1.560\n",
       "alpha.7        0.013     -1.602      1.566\n",
       "alpha.8        0.005     -1.600      1.560\n",
       "alpha.9        0.000     -1.564      1.605\n",
       "alpha.10      -0.001     -1.559      1.624\n",
       "alpha.11       0.011     -1.554      1.621\n",
       "alpha.12       0.012     -1.572      1.620\n",
       "alpha.13       0.004     -1.525      1.602\n",
       "alpha.14       0.226     -1.179      1.629\n",
       "alpha.15       0.227     -1.149      1.657\n",
       "alpha.16      -0.710     -2.042      0.598\n",
       "alpha.17       0.645     -0.873      2.239\n",
       "alpha.18       0.644     -0.843      2.261\n",
       "alpha.19      -1.052     -2.643      0.540\n",
       "alpha.20       0.422     -0.681      1.481\n",
       "alpha.21       0.004     -1.494      1.476\n",
       "alpha.22       0.005     -1.466      1.460\n",
       "alpha.23      -1.046     -2.645      0.559\n",
       "alpha.24       0.180     -1.390      1.771\n",
       "alpha.25       0.167     -1.344      1.750\n",
       "alpha.26       0.163     -1.473      1.679\n",
       "alpha.27       0.168     -1.353      1.788\n",
       "alpha.28       0.163     -1.390      1.719\n",
       "alpha.29      -0.291     -1.733      1.078\n",
       "alpha.30       0.166     -1.432      1.733\n",
       "alpha.31       0.172     -1.396      1.744\n",
       "alpha.32       0.163     -1.403      1.740\n",
       "alpha.33       0.167     -1.413      1.745\n",
       "alpha.34      -0.013     -1.625      1.511\n",
       "alpha.35      -0.010     -1.529      1.605\n",
       "alpha.36      -0.019     -1.550      1.550\n",
       "alpha.37      -0.020     -1.579      1.569\n",
       "alpha.38      -0.017     -1.603      1.514\n",
       "alpha.39      -0.010     -1.578      1.574\n",
       "alpha.40       0.698     -0.859      2.267\n",
       "alpha.41      -0.329     -1.747      1.134\n",
       "alpha.42      -0.431     -1.586      0.686\n",
       "alpha.43       0.996     -0.612      2.618\n",
       "alpha.44       0.993     -0.698      2.561\n",
       "alpha.45      -0.250     -1.764      1.241\n",
       "alpha.46      -0.257     -1.746      1.225\n",
       "alpha.47      -0.266     -1.714      1.258\n",
       "alpha.48      -0.265     -1.718      1.285\n",
       "alpha.49       0.312     -1.007      1.638\n",
       "alpha.50       0.322     -1.018      1.631\n",
       "alpha.51      -0.205     -1.546      1.189\n",
       "alpha.52      -0.208     -1.592      1.155\n",
       "alpha.53      -0.245     -1.768      1.259\n",
       "alpha.54      -0.238     -1.719      1.307\n",
       "alpha.55      -0.232     -1.693      1.304\n",
       "alpha.56       0.021     -1.607      1.617\n",
       "alpha.57       0.017     -1.570      1.650\n",
       "alpha.58       0.051     -1.765      1.719\n",
       "alpha.59       0.051     -1.671      1.762\n"
      ]
     },
     "metadata": {},
     "output_type": "display_data"
    }
   ],
   "source": [
    "summary(res)"
   ]
  },
  {
   "cell_type": "code",
   "execution_count": null,
   "metadata": {},
   "outputs": [],
   "source": []
  },
  {
   "cell_type": "code",
   "execution_count": null,
   "metadata": {},
   "outputs": [],
   "source": []
  },
  {
   "cell_type": "code",
   "execution_count": null,
   "metadata": {},
   "outputs": [],
   "source": []
  },
  {
   "cell_type": "code",
   "execution_count": 70,
   "metadata": {},
   "outputs": [],
   "source": [
    "data(simul_binomial)"
   ]
  },
  {
   "cell_type": "code",
   "execution_count": 71,
   "metadata": {},
   "outputs": [],
   "source": [
    "y <- simul_binomial$y\n",
    "N <- simul_binomial$N\n",
    "X <- as.matrix(simul_binomial[, -c(1,2)])"
   ]
  },
  {
   "cell_type": "code",
   "execution_count": 72,
   "metadata": {},
   "outputs": [
    {
     "data": {
      "text/html": [
       "512"
      ],
      "text/latex": [
       "512"
      ],
      "text/markdown": [
       "512"
      ],
      "text/plain": [
       "[1] 512"
      ]
     },
     "metadata": {},
     "output_type": "display_data"
    },
    {
     "data": {
      "text/html": [
       "512"
      ],
      "text/latex": [
       "512"
      ],
      "text/markdown": [
       "512"
      ],
      "text/plain": [
       "[1] 512"
      ]
     },
     "metadata": {},
     "output_type": "display_data"
    },
    {
     "data": {
      "text/html": [
       "<ol class=list-inline>\n",
       "\t<li>512</li>\n",
       "\t<li>10</li>\n",
       "</ol>\n"
      ],
      "text/latex": [
       "\\begin{enumerate*}\n",
       "\\item 512\n",
       "\\item 10\n",
       "\\end{enumerate*}\n"
      ],
      "text/markdown": [
       "1. 512\n",
       "2. 10\n",
       "\n",
       "\n"
      ],
      "text/plain": [
       "[1] 512  10"
      ]
     },
     "metadata": {},
     "output_type": "display_data"
    }
   ],
   "source": [
    "length(y); length(N); dim(X)"
   ]
  },
  {
   "cell_type": "code",
   "execution_count": 73,
   "metadata": {},
   "outputs": [
    {
     "data": {
      "text/html": [
       "<table>\n",
       "<thead><tr><th scope=col>X.0</th><th scope=col>X.1</th><th scope=col>X.2</th><th scope=col>X.3</th><th scope=col>X.4</th><th scope=col>X.5</th><th scope=col>X.6</th><th scope=col>X.7</th><th scope=col>X.8</th><th scope=col>X.9</th></tr></thead>\n",
       "<tbody>\n",
       "\t<tr><td>1</td><td>0</td><td>0</td><td>0</td><td>0</td><td>0</td><td>0</td><td>0</td><td>0</td><td>0</td></tr>\n",
       "\t<tr><td>1</td><td>0</td><td>0</td><td>0</td><td>0</td><td>0</td><td>0</td><td>0</td><td>0</td><td>1</td></tr>\n",
       "\t<tr><td>1</td><td>0</td><td>0</td><td>0</td><td>0</td><td>0</td><td>0</td><td>0</td><td>1</td><td>0</td></tr>\n",
       "\t<tr><td>1</td><td>0</td><td>0</td><td>0</td><td>0</td><td>0</td><td>0</td><td>0</td><td>1</td><td>1</td></tr>\n",
       "\t<tr><td>1</td><td>0</td><td>0</td><td>0</td><td>0</td><td>0</td><td>0</td><td>1</td><td>0</td><td>0</td></tr>\n",
       "\t<tr><td>1</td><td>0</td><td>0</td><td>0</td><td>0</td><td>0</td><td>0</td><td>1</td><td>0</td><td>1</td></tr>\n",
       "</tbody>\n",
       "</table>\n"
      ],
      "text/latex": [
       "\\begin{tabular}{llllllllll}\n",
       " X.0 & X.1 & X.2 & X.3 & X.4 & X.5 & X.6 & X.7 & X.8 & X.9\\\\\n",
       "\\hline\n",
       "\t 1 & 0 & 0 & 0 & 0 & 0 & 0 & 0 & 0 & 0\\\\\n",
       "\t 1 & 0 & 0 & 0 & 0 & 0 & 0 & 0 & 0 & 1\\\\\n",
       "\t 1 & 0 & 0 & 0 & 0 & 0 & 0 & 0 & 1 & 0\\\\\n",
       "\t 1 & 0 & 0 & 0 & 0 & 0 & 0 & 0 & 1 & 1\\\\\n",
       "\t 1 & 0 & 0 & 0 & 0 & 0 & 0 & 1 & 0 & 0\\\\\n",
       "\t 1 & 0 & 0 & 0 & 0 & 0 & 0 & 1 & 0 & 1\\\\\n",
       "\\end{tabular}\n"
      ],
      "text/markdown": [
       "\n",
       "| X.0 | X.1 | X.2 | X.3 | X.4 | X.5 | X.6 | X.7 | X.8 | X.9 |\n",
       "|---|---|---|---|---|---|---|---|---|---|\n",
       "| 1 | 0 | 0 | 0 | 0 | 0 | 0 | 0 | 0 | 0 |\n",
       "| 1 | 0 | 0 | 0 | 0 | 0 | 0 | 0 | 0 | 1 |\n",
       "| 1 | 0 | 0 | 0 | 0 | 0 | 0 | 0 | 1 | 0 |\n",
       "| 1 | 0 | 0 | 0 | 0 | 0 | 0 | 0 | 1 | 1 |\n",
       "| 1 | 0 | 0 | 0 | 0 | 0 | 0 | 1 | 0 | 0 |\n",
       "| 1 | 0 | 0 | 0 | 0 | 0 | 0 | 1 | 0 | 1 |\n",
       "\n"
      ],
      "text/plain": [
       "     X.0 X.1 X.2 X.3 X.4 X.5 X.6 X.7 X.8 X.9\n",
       "[1,] 1   0   0   0   0   0   0   0   0   0  \n",
       "[2,] 1   0   0   0   0   0   0   0   0   1  \n",
       "[3,] 1   0   0   0   0   0   0   0   1   0  \n",
       "[4,] 1   0   0   0   0   0   0   0   1   1  \n",
       "[5,] 1   0   0   0   0   0   0   1   0   0  \n",
       "[6,] 1   0   0   0   0   0   0   1   0   1  "
      ]
     },
     "metadata": {},
     "output_type": "display_data"
    }
   ],
   "source": [
    "head(X)"
   ]
  },
  {
   "cell_type": "code",
   "execution_count": 74,
   "metadata": {},
   "outputs": [
    {
     "data": {
      "text/html": [
       "512"
      ],
      "text/latex": [
       "512"
      ],
      "text/markdown": [
       "512"
      ],
      "text/plain": [
       "[1] 512"
      ]
     },
     "metadata": {},
     "output_type": "display_data"
    }
   ],
   "source": [
    "prior = list(slab = \"Normal\", aj0 = rep(mu0, ncol(X_ori)), V = var, w = c(wa0 = 1, wb0 = 1), pi = c(pa0 = 1.412, pb0 = 10))"
   ]
  },
  {
   "cell_type": "code",
   "execution_count": 87,
   "metadata": {},
   "outputs": [
    {
     "name": "stderr",
     "output_type": "stream",
     "text": [
      "Warning message:\n",
      "“invalid 'BVS' or 'startsel' argument:\n",
      "'startsel' was set to 0.5”"
     ]
    },
    {
     "name": "stdout",
     "output_type": "stream",
     "text": [
      "\n",
      "MCMC for the binomial logit model with variable selection:\n",
      "\n",
      "it = 1 /--- duration of MCMC so far: 1.1 sec.,  expected time to end: Inf  min. \n",
      "it = 2 /--- duration of MCMC so far: 1.11 sec.,  expected time to end: 0.07  min. \n",
      "it = 3 /--- duration of MCMC so far: 1.13 sec.,  expected time to end: 0.03  min. \n",
      "it = 4 /--- duration of MCMC so far: 1.15 sec.,  expected time to end: 0.01  min. \n",
      "it = 5 /--- duration of MCMC so far: 1.17 sec.,  expected time to end: 0  min. \n"
     ]
    }
   ],
   "source": [
    "m3 <- logitBvs(y = y, N = N, X = X, mcmc = list(M = 4, burnin = 1), prior = list(slab = \"Normal\", aj0 = rep(0, ncol(X)-1)), \n",
    "               model = list(deltafix = c(1, 1, 1, 0, 0, 0, 1, 0, 0)))"
   ]
  },
  {
   "cell_type": "code",
   "execution_count": 88,
   "metadata": {},
   "outputs": [
    {
     "data": {
      "text/plain": [
       "Bayesian variable selection for the binomial logit model:\n",
       "\n",
       "Call:\n",
       "logitBvs(y = y, N = N, X = X, model = list(deltafix = c(1, 1, \n",
       "    1, 0, 0, 0, 1, 0, 0)), prior = list(slab = \"Normal\", aj0 = rep(0, \n",
       "    ncol(X) - 1)), mcmc = list(M = 4, burnin = 1))\n",
       "\n",
       "\n",
       "MCMC:\n",
       "M = 4 draws after a burn-in of 1\n",
       "BVS started after 0.5 iterations\n",
       "Thinning parameter: 1\n",
       "\n",
       "Prior:  spike-and-slab prior with Normal slab [V=5]\n",
       "\n",
       "a0[0] a0[1] a0[2] a0[3] a0[4] a0[5] a0[6] a0[7] a0[8] a0[9] \n",
       "    0     0     0     0     0     0     0     0     0     0 \n",
       " w[a]  w[b] pi[a] pi[b] \n",
       "    1     1     1     1 \n",
       "\n",
       "\n",
       "Model averaged posterior means, estimated posterior inclusion\n",
       " probabilities and 95%-HPD intervals:\n",
       "\n",
       "            Estimate P(.=1) 95%-HPD[l] 95%-HPD[u]\n",
       "(Intercept)   -0.419     NA     -0.483     -0.363\n",
       "alpha.1        0.156  1.000      0.130      0.190\n",
       "alpha.2       -0.106  1.000     -0.124     -0.075\n",
       "alpha.3        0.072  1.000      0.019      0.127\n",
       "alpha.4       -0.874  1.000     -0.946     -0.726\n",
       "alpha.5        0.000  0.029      0.000      0.000\n",
       "alpha.6       -0.013  0.025     -0.052      0.000\n",
       "alpha.7        0.989  1.000      0.792      1.128\n",
       "alpha.8       -0.028  0.459     -0.091      0.000\n",
       "alpha.9        0.256  1.000      0.230      0.291\n"
      ]
     },
     "metadata": {},
     "output_type": "display_data"
    }
   ],
   "source": [
    "summary(m3)"
   ]
  },
  {
   "cell_type": "code",
   "execution_count": null,
   "metadata": {},
   "outputs": [],
   "source": []
  }
 ],
 "metadata": {
  "kernelspec": {
   "display_name": "R",
   "language": "R",
   "name": "ir"
  },
  "language_info": {
   "codemirror_mode": "r",
   "file_extension": ".r",
   "mimetype": "text/x-r-source",
   "name": "R",
   "pygments_lexer": "r",
   "version": "3.5.1"
  }
 },
 "nbformat": 4,
 "nbformat_minor": 4
}
