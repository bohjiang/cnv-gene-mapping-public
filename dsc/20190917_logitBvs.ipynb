{
 "cells": [
  {
   "cell_type": "code",
   "execution_count": 1,
   "metadata": {},
   "outputs": [],
   "source": [
    "library(pogit)"
   ]
  },
  {
   "cell_type": "code",
   "execution_count": 2,
   "metadata": {},
   "outputs": [],
   "source": [
    "X <- as.matrix(data.table::fread(\"/data/GIT/cnv-gene-mapping/data/deletion_simu/block_79_137/deletion.genes.block30.for_simu.sample.genes.block_79_137.gz\", header = F))"
   ]
  },
  {
   "cell_type": "code",
   "execution_count": 3,
   "metadata": {},
   "outputs": [],
   "source": [
    "y <- as.matrix(data.table::fread(\"/data/GIT/cnv-gene-mapping/data/deletion_simu/deletion.genes.block30.for_simu.sample.y\"))"
   ]
  },
  {
   "cell_type": "code",
   "execution_count": 4,
   "metadata": {},
   "outputs": [
    {
     "data": {
      "text/html": [
       "13412"
      ],
      "text/latex": [
       "13412"
      ],
      "text/markdown": [
       "13412"
      ],
      "text/plain": [
       "[1] 13412"
      ]
     },
     "metadata": {},
     "output_type": "display_data"
    }
   ],
   "source": [
    "length(y)"
   ]
  },
  {
   "cell_type": "code",
   "execution_count": 5,
   "metadata": {},
   "outputs": [],
   "source": [
    "# beta <- as.matrix(data.table::fread(\"/data/GIT/cnv-gene-mapping/data/deletion_simu/deletion.genes.block30.for_simu.sample.beta\"))"
   ]
  },
  {
   "cell_type": "code",
   "execution_count": 13,
   "metadata": {},
   "outputs": [],
   "source": [
    "# mean(beta); sd(beta); sum(beta == 0); sum(beta == 0)/length(beta)"
   ]
  },
  {
   "cell_type": "code",
   "execution_count": 5,
   "metadata": {},
   "outputs": [],
   "source": [
    "X <- cbind(rep(1, nrow(X)), X)"
   ]
  },
  {
   "cell_type": "code",
   "execution_count": 6,
   "metadata": {},
   "outputs": [],
   "source": [
    "y <- as.numeric(y[,1])"
   ]
  },
  {
   "cell_type": "code",
   "execution_count": 7,
   "metadata": {},
   "outputs": [
    {
     "data": {
      "text/html": [
       "13412"
      ],
      "text/latex": [
       "13412"
      ],
      "text/markdown": [
       "13412"
      ],
      "text/plain": [
       "[1] 13412"
      ]
     },
     "metadata": {},
     "output_type": "display_data"
    }
   ],
   "source": [
    "length(y)"
   ]
  },
  {
   "cell_type": "code",
   "execution_count": 8,
   "metadata": {},
   "outputs": [],
   "source": [
    "N <- rep(1, length(y))"
   ]
  },
  {
   "cell_type": "code",
   "execution_count": 11,
   "metadata": {},
   "outputs": [],
   "source": [
    "# prior <- readRDS(\"/home/min/GIT/cnv-gene-mapping/data/deletion_simu/deletion.genes.block30.binomial.whole.genome.prior.varbvs.rds\")\n",
    "# prior <- readRDS(\"/home/min/GIT/cnv-gene-mapping/data/deletion_simu/deletion.genes.block30.binomial.whole.genome.prior.varbvs.nologodds.rds\")"
   ]
  },
  {
   "cell_type": "code",
   "execution_count": 14,
   "metadata": {},
   "outputs": [],
   "source": [
    "prior <- readRDS(\"/home/min/GIT/cnv-gene-mapping/data/deletion_simu/deletion.genes.block30.binomial.whole.genome.prior.varbvs.nologodds.updateb0.rds\")"
   ]
  },
  {
   "cell_type": "code",
   "execution_count": 15,
   "metadata": {},
   "outputs": [],
   "source": [
    "mu0 = sum(prior$b0 * prior$w)"
   ]
  },
  {
   "cell_type": "code",
   "execution_count": 16,
   "metadata": {},
   "outputs": [
    {
     "data": {
      "text/html": [
       "0.777072111580423"
      ],
      "text/latex": [
       "0.777072111580423"
      ],
      "text/markdown": [
       "0.777072111580423"
      ],
      "text/plain": [
       "[1] 0.7770721"
      ]
     },
     "metadata": {},
     "output_type": "display_data"
    }
   ],
   "source": [
    "mu0"
   ]
  },
  {
   "cell_type": "code",
   "execution_count": 17,
   "metadata": {},
   "outputs": [],
   "source": [
    "var = sum(prior$sa * prior$w)"
   ]
  },
  {
   "cell_type": "code",
   "execution_count": 18,
   "metadata": {},
   "outputs": [
    {
     "data": {
      "text/html": [
       "0.711745609189383"
      ],
      "text/latex": [
       "0.711745609189383"
      ],
      "text/markdown": [
       "0.711745609189383"
      ],
      "text/plain": [
       "[1] 0.7117456"
      ]
     },
     "metadata": {},
     "output_type": "display_data"
    }
   ],
   "source": [
    "var"
   ]
  },
  {
   "cell_type": "code",
   "execution_count": 19,
   "metadata": {},
   "outputs": [],
   "source": [
    "pi0 = sum((10^(prior$logodds) / (1 + 10^(prior$logodds))) * prior$w)"
   ]
  },
  {
   "cell_type": "code",
   "execution_count": 20,
   "metadata": {},
   "outputs": [
    {
     "data": {
      "text/html": [
       "0.0437754961218526"
      ],
      "text/latex": [
       "0.0437754961218526"
      ],
      "text/markdown": [
       "0.0437754961218526"
      ],
      "text/plain": [
       "[1] 0.0437755"
      ]
     },
     "metadata": {},
     "output_type": "display_data"
    }
   ],
   "source": [
    "pi0"
   ]
  },
  {
   "cell_type": "code",
   "execution_count": 20,
   "metadata": {},
   "outputs": [],
   "source": [
    "# b = prior$beta[which(prior$beta != 0)]\n",
    "# mean(b); var(b); sum(prior$beta == 0); sum(prior$beta == 0)/length(prior$beta)"
   ]
  },
  {
   "cell_type": "code",
   "execution_count": 75,
   "metadata": {},
   "outputs": [
    {
     "name": "stdout",
     "output_type": "stream",
     "text": [
      "\n",
      "MCMC for the binomial logit model:\n",
      "\n",
      "it = 1 /--- duration of MCMC so far: 28.9 sec.,  expected time to end: Inf  min. \n",
      "it = 2 /--- duration of MCMC so far: 29.14 sec.,  expected time to end: 14570.01  min. \n",
      "it = 3 /--- duration of MCMC so far: 29.45 sec.,  expected time to end: 7360.76  min. \n",
      "it = 4 /--- duration of MCMC so far: 29.58 sec.,  expected time to end: 4929.84  min. \n",
      "it = 5 /--- duration of MCMC so far: 29.74 sec.,  expected time to end: 3717.13  min. \n",
      "it = 10 /--- duration of MCMC so far: 30.34 sec.,  expected time to end: 1684.94  min. \n",
      "it = 20 /--- duration of MCMC so far: 31.66 sec.,  expected time to end: 832.63  min. \n",
      "it = 50 /--- duration of MCMC so far: 35.58 sec.,  expected time to end: 362.45  min. \n",
      "it = 100 /--- duration of MCMC so far: 42.17 sec.,  expected time to end: 212.26  min. \n",
      "it = 200 /--- duration of MCMC so far: 54.91 sec.,  expected time to end: 137.06  min. \n",
      "it = 500 /--- duration of MCMC so far: 91.6 sec.,  expected time to end: 90.25  min. \n",
      "it = 1000 /--- duration of MCMC so far: 145.57 sec.,  expected time to end: 70.43  min. \n",
      "it = 1500 /--- duration of MCMC so far: 199.39 sec.,  expected time to end: 63.18  min. \n",
      "it = 2000 /--- duration of MCMC so far: 253.3 sec.,  expected time to end: 59.13  min. \n",
      "it = 2500 /--- duration of MCMC so far: 306.47 sec.,  expected time to end: 56.21  min. \n",
      "it = 3000 /--- duration of MCMC so far: 359.81 sec.,  expected time to end: 53.99  min. \n",
      "it = 3500 /--- duration of MCMC so far: 412.83 sec.,  expected time to end: 52.11  min. \n",
      "it = 4000 /--- duration of MCMC so far: 466.25 sec.,  expected time to end: 50.53  min. \n",
      "it = 4500 /--- duration of MCMC so far: 519.55 sec.,  expected time to end: 49.08  min. \n",
      "it = 5000 /--- duration of MCMC so far: 572.82 sec.,  expected time to end: 47.75  min. \n",
      "it = 5500 /--- duration of MCMC so far: 626.25 sec.,  expected time to end: 46.5  min. \n",
      "it = 6000 /--- duration of MCMC so far: 679.98 sec.,  expected time to end: 45.34  min. \n",
      "it = 6500 /--- duration of MCMC so far: 733.51 sec.,  expected time to end: 44.21  min. \n",
      "it = 7000 /--- duration of MCMC so far: 787.11 sec.,  expected time to end: 43.11  min. \n",
      "it = 7500 /--- duration of MCMC so far: 840.4 sec.,  expected time to end: 42.03  min. \n",
      "it = 8000 /--- duration of MCMC so far: 893.54 sec.,  expected time to end: 40.96  min. \n",
      "it = 8500 /--- duration of MCMC so far: 946.51 sec.,  expected time to end: 39.91  min. \n",
      "it = 9000 /--- duration of MCMC so far: 999.69 sec.,  expected time to end: 38.88  min. \n",
      "it = 9500 /--- duration of MCMC so far: 1052.89 sec.,  expected time to end: 37.87  min. \n",
      "it = 10000 /--- duration of MCMC so far: 1105.95 sec.,  expected time to end: 36.87  min. \n",
      "it = 10500 /--- duration of MCMC so far: 1159.19 sec.,  expected time to end: 35.88  min. \n",
      "it = 11000 /--- duration of MCMC so far: 1212.76 sec.,  expected time to end: 34.92  min. \n",
      "it = 11500 /--- duration of MCMC so far: 1266.09 sec.,  expected time to end: 33.95  min. \n",
      "it = 12000 /--- duration of MCMC so far: 1319.24 sec.,  expected time to end: 32.99  min. \n",
      "it = 12500 /--- duration of MCMC so far: 1372.45 sec.,  expected time to end: 32.03  min. \n",
      "it = 13000 /--- duration of MCMC so far: 1426.04 sec.,  expected time to end: 31.08  min. \n",
      "it = 13500 /--- duration of MCMC so far: 1479.39 sec.,  expected time to end: 30.14  min. \n",
      "it = 14000 /--- duration of MCMC so far: 1532.99 sec.,  expected time to end: 29.2  min. \n",
      "it = 14500 /--- duration of MCMC so far: 1586.4 sec.,  expected time to end: 28.27  min. \n",
      "it = 15000 /--- duration of MCMC so far: 1639.53 sec.,  expected time to end: 27.33  min. \n",
      "it = 15500 /--- duration of MCMC so far: 1692.68 sec.,  expected time to end: 26.39  min. \n",
      "it = 16000 /--- duration of MCMC so far: 1745.84 sec.,  expected time to end: 25.46  min. \n",
      "it = 16500 /--- duration of MCMC so far: 1799.56 sec.,  expected time to end: 24.54  min. \n",
      "it = 17000 /--- duration of MCMC so far: 1852.7 sec.,  expected time to end: 23.62  min. \n",
      "it = 17500 /--- duration of MCMC so far: 1906.69 sec.,  expected time to end: 22.7  min. \n",
      "it = 18000 /--- duration of MCMC so far: 1959.87 sec.,  expected time to end: 21.78  min. \n",
      "it = 18500 /--- duration of MCMC so far: 2013.1 sec.,  expected time to end: 20.86  min. \n",
      "it = 19000 /--- duration of MCMC so far: 2066.25 sec.,  expected time to end: 19.94  min. \n",
      "it = 19500 /--- duration of MCMC so far: 2119.43 sec.,  expected time to end: 19.02  min. \n",
      "it = 20000 /--- duration of MCMC so far: 2172.71 sec.,  expected time to end: 18.11  min. \n",
      "it = 20500 /--- duration of MCMC so far: 2226.28 sec.,  expected time to end: 17.2  min. \n",
      "it = 21000 /--- duration of MCMC so far: 2279.93 sec.,  expected time to end: 16.29  min. \n",
      "it = 21500 /--- duration of MCMC so far: 2333.88 sec.,  expected time to end: 15.38  min. \n",
      "it = 22000 /--- duration of MCMC so far: 2387.32 sec.,  expected time to end: 14.47  min. \n",
      "it = 22500 /--- duration of MCMC so far: 2440.88 sec.,  expected time to end: 13.56  min. \n",
      "it = 23000 /--- duration of MCMC so far: 2494.38 sec.,  expected time to end: 12.65  min. \n",
      "it = 23500 /--- duration of MCMC so far: 2548.18 sec.,  expected time to end: 11.75  min. \n",
      "it = 24000 /--- duration of MCMC so far: 2602.19 sec.,  expected time to end: 10.84  min. \n",
      "it = 24500 /--- duration of MCMC so far: 2656.99 sec.,  expected time to end: 9.94  min. \n",
      "it = 25000 /--- duration of MCMC so far: 2710.95 sec.,  expected time to end: 9.04  min. \n",
      "it = 25500 /--- duration of MCMC so far: 2764.43 sec.,  expected time to end: 8.13  min. \n",
      "it = 26000 /--- duration of MCMC so far: 2818.11 sec.,  expected time to end: 7.23  min. \n",
      "it = 26500 /--- duration of MCMC so far: 2873.35 sec.,  expected time to end: 6.33  min. \n",
      "it = 27000 /--- duration of MCMC so far: 2926.86 sec.,  expected time to end: 5.42  min. \n",
      "it = 27500 /--- duration of MCMC so far: 2980.29 sec.,  expected time to end: 4.52  min. \n",
      "it = 28000 /--- duration of MCMC so far: 3033.85 sec.,  expected time to end: 3.61  min. \n",
      "it = 28500 /--- duration of MCMC so far: 3087.22 sec.,  expected time to end: 2.71  min. \n",
      "it = 29000 /--- duration of MCMC so far: 3140.66 sec.,  expected time to end: 1.81  min. \n",
      "it = 29500 /--- duration of MCMC so far: 3194.03 sec.,  expected time to end: 0.9  min. \n",
      "it = 30000 /--- duration of MCMC (total): 3247.75 sec. \n",
      " \n"
     ]
    }
   ],
   "source": [
    "res <- logitBvs(y, N, X, prior = list(slab = \"Normal\", aj0 = rep(mu0, ncol(X)-1), V = var, w = c(wa0 = 1, wb0 = 1), pi = c(pa0 = 1.412, pb0 = 10)), \n",
    "                mcmc = list(M = 24000, burnin = 6000, msave = TRUE), BVS = FALSE)"
   ]
  },
  {
   "cell_type": "code",
   "execution_count": 76,
   "metadata": {},
   "outputs": [],
   "source": [
    "saveRDS(res, \"/home/min/GIT/cnv-gene-mapping/data/deletion_simu/logitBvs.var.selection.res.rds\")"
   ]
  },
  {
   "cell_type": "code",
   "execution_count": 1,
   "metadata": {},
   "outputs": [],
   "source": [
    "res <- readRDS(\"/home/min/GIT/cnv-gene-mapping/data/deletion_simu/logitBvs.var.selection.res.rds\")"
   ]
  },
  {
   "cell_type": "code",
   "execution_count": 30,
   "metadata": {},
   "outputs": [],
   "source": [
    "# res1 <- logitBvs(y, N, X, prior = list(slab = \"Normal\", aj0 = mu, V = 1.725, w = c(wa0 = 1, wb0 = 1), pi = c(pa0 = 0.02, pb0 = 20)), \n",
    "#                  mcmc = list(M = 1000, burnin = 200, msave = TRUE), BVS = FALSE)"
   ]
  },
  {
   "cell_type": "code",
   "execution_count": 27,
   "metadata": {},
   "outputs": [],
   "source": [
    "# saveRDS(res1, \"/home/min/GIT/cnv-gene-mapping/data/deletion_simu/logitBvs.novar.selection.nointercept.res.rds\")"
   ]
  },
  {
   "cell_type": "code",
   "execution_count": 2,
   "metadata": {},
   "outputs": [
    {
     "data": {
      "text/html": [
       "<ol class=list-inline>\n",
       "\t<li>'samplesL'</li>\n",
       "\t<li>'data'</li>\n",
       "\t<li>'model.logit'</li>\n",
       "\t<li>'mcmc'</li>\n",
       "\t<li>'prior.logit'</li>\n",
       "\t<li>'dur'</li>\n",
       "\t<li>'BVS'</li>\n",
       "\t<li>'start'</li>\n",
       "\t<li>'family'</li>\n",
       "\t<li>'call'</li>\n",
       "</ol>\n"
      ],
      "text/latex": [
       "\\begin{enumerate*}\n",
       "\\item 'samplesL'\n",
       "\\item 'data'\n",
       "\\item 'model.logit'\n",
       "\\item 'mcmc'\n",
       "\\item 'prior.logit'\n",
       "\\item 'dur'\n",
       "\\item 'BVS'\n",
       "\\item 'start'\n",
       "\\item 'family'\n",
       "\\item 'call'\n",
       "\\end{enumerate*}\n"
      ],
      "text/markdown": [
       "1. 'samplesL'\n",
       "2. 'data'\n",
       "3. 'model.logit'\n",
       "4. 'mcmc'\n",
       "5. 'prior.logit'\n",
       "6. 'dur'\n",
       "7. 'BVS'\n",
       "8. 'start'\n",
       "9. 'family'\n",
       "10. 'call'\n",
       "\n",
       "\n"
      ],
      "text/plain": [
       " [1] \"samplesL\"    \"data\"        \"model.logit\" \"mcmc\"        \"prior.logit\"\n",
       " [6] \"dur\"         \"BVS\"         \"start\"       \"family\"      \"call\"       "
      ]
     },
     "metadata": {},
     "output_type": "display_data"
    }
   ],
   "source": [
    "names(res)"
   ]
  },
  {
   "cell_type": "code",
   "execution_count": 3,
   "metadata": {},
   "outputs": [
    {
     "data": {
      "text/html": [
       "<ol class=list-inline>\n",
       "\t<li>'alpha'</li>\n",
       "\t<li>'pdeltaAlpha'</li>\n",
       "\t<li>'psiAlpha'</li>\n",
       "\t<li>'thetaAlpha'</li>\n",
       "\t<li>'pgammaAlpha'</li>\n",
       "\t<li>'ai'</li>\n",
       "</ol>\n"
      ],
      "text/latex": [
       "\\begin{enumerate*}\n",
       "\\item 'alpha'\n",
       "\\item 'pdeltaAlpha'\n",
       "\\item 'psiAlpha'\n",
       "\\item 'thetaAlpha'\n",
       "\\item 'pgammaAlpha'\n",
       "\\item 'ai'\n",
       "\\end{enumerate*}\n"
      ],
      "text/markdown": [
       "1. 'alpha'\n",
       "2. 'pdeltaAlpha'\n",
       "3. 'psiAlpha'\n",
       "4. 'thetaAlpha'\n",
       "5. 'pgammaAlpha'\n",
       "6. 'ai'\n",
       "\n",
       "\n"
      ],
      "text/plain": [
       "[1] \"alpha\"       \"pdeltaAlpha\" \"psiAlpha\"    \"thetaAlpha\"  \"pgammaAlpha\"\n",
       "[6] \"ai\"         "
      ]
     },
     "metadata": {},
     "output_type": "display_data"
    }
   ],
   "source": [
    "names(res$samplesL)"
   ]
  },
  {
   "cell_type": "code",
   "execution_count": 4,
   "metadata": {},
   "outputs": [
    {
     "data": {
      "text/html": [
       "<table>\n",
       "<thead><tr><th></th><th scope=col>alpha.0</th><th scope=col>alpha.1</th><th scope=col>alpha.2</th><th scope=col>alpha.3</th><th scope=col>alpha.4</th><th scope=col>alpha.5</th><th scope=col>alpha.6</th><th scope=col>alpha.7</th><th scope=col>alpha.8</th><th scope=col>alpha.9</th><th scope=col>⋯</th><th scope=col>alpha.50</th><th scope=col>alpha.51</th><th scope=col>alpha.52</th><th scope=col>alpha.53</th><th scope=col>alpha.54</th><th scope=col>alpha.55</th><th scope=col>alpha.56</th><th scope=col>alpha.57</th><th scope=col>alpha.58</th><th scope=col>alpha.59</th></tr></thead>\n",
       "<tbody>\n",
       "\t<tr><th scope=row>[29995,]</th><td>-0.007653857</td><td>-0.5193818  </td><td>-0.520366601</td><td>-0.1474175  </td><td>-0.76011955 </td><td> 0.7388037  </td><td> 1.47619864 </td><td>-0.8617838  </td><td>-0.50778035 </td><td>-0.2405105  </td><td>⋯           </td><td>-0.41974952 </td><td>-0.3631451  </td><td>-0.72137598 </td><td> 0.25719187 </td><td> 0.39627697 </td><td> 0.20411898 </td><td>-0.3374192  </td><td>-0.15102723 </td><td>-1.0826467  </td><td>-0.7347509  </td></tr>\n",
       "\t<tr><th scope=row>[29996,]</th><td> 0.026830350</td><td>-1.5508240  </td><td>-0.389330809</td><td> 0.5240256  </td><td>-0.51532572 </td><td>-0.3016745  </td><td> 0.29392918 </td><td>-0.8501085  </td><td>-0.22266356 </td><td> 0.7726066  </td><td>⋯           </td><td> 0.03190974 </td><td>-1.9984795  </td><td> 0.10805900 </td><td>-1.42742742 </td><td> 1.22510572 </td><td> 0.97100754 </td><td>-0.1510454  </td><td>-0.61063335 </td><td> 1.6321240  </td><td>-0.6115048  </td></tr>\n",
       "\t<tr><th scope=row>[29997,]</th><td>-0.006593492</td><td> 0.2918810  </td><td> 0.378455826</td><td>-0.7575933  </td><td> 0.66307775 </td><td>-0.7353371  </td><td>-0.51112290 </td><td>-0.3062849  </td><td>-0.03769368 </td><td> 0.1291314  </td><td>⋯           </td><td>-0.46541433 </td><td>-0.6806733  </td><td> 0.98982394 </td><td> 0.03677122 </td><td>-0.09928249 </td><td> 0.92759542 </td><td>-0.5442748  </td><td>-0.21756448 </td><td> 0.8673406  </td><td> 0.7755560  </td></tr>\n",
       "\t<tr><th scope=row>[29998,]</th><td>-0.006157508</td><td>-0.2276703  </td><td>-0.356913298</td><td> 0.1762708  </td><td>-0.45982362 </td><td>-0.1984215  </td><td> 0.99863209 </td><td> 0.3898950  </td><td> 0.41135617 </td><td> 0.6750564  </td><td>⋯           </td><td>-0.55486745 </td><td> 0.4710242  </td><td> 0.04810161 </td><td>-1.47260055 </td><td> 0.08448171 </td><td> 0.34144218 </td><td> 1.3580200  </td><td>-0.24977774 </td><td> 0.0136931  </td><td> 0.7726712  </td></tr>\n",
       "\t<tr><th scope=row>[29999,]</th><td>-0.011414031</td><td>-0.3812228  </td><td> 0.006346653</td><td>-0.1396916  </td><td>-0.08154313 </td><td>-0.5927963  </td><td> 1.32415001 </td><td>-0.7460840  </td><td>-0.26232916 </td><td> 0.3447536  </td><td>⋯           </td><td> 0.80156515 </td><td> 0.8208681  </td><td>-0.90988254 </td><td> 0.18360267 </td><td>-0.30009704 </td><td>-0.03496347 </td><td>-0.4454567  </td><td>-0.52621925 </td><td> 0.3667309  </td><td>-0.0944279  </td></tr>\n",
       "\t<tr><th scope=row>[30000,]</th><td> 0.005618920</td><td>-1.3045432  </td><td> 0.423120079</td><td>-0.7436679  </td><td> 0.36686714 </td><td>-0.5400485  </td><td>-0.06992023 </td><td>-1.2590402  </td><td>-0.35496848 </td><td> 1.3286319  </td><td>⋯           </td><td> 0.88611863 </td><td>-1.0965383  </td><td> 0.98591452 </td><td>-0.28698698 </td><td>-2.74859608 </td><td> 2.18645588 </td><td>-0.3443066  </td><td> 0.06212546 </td><td> 0.8379464  </td><td> 0.0120315  </td></tr>\n",
       "</tbody>\n",
       "</table>\n"
      ],
      "text/latex": [
       "\\begin{tabular}{r|llllllllllllllllllllllllllllllllllllllllllllllllllllllllllll}\n",
       "  & alpha.0 & alpha.1 & alpha.2 & alpha.3 & alpha.4 & alpha.5 & alpha.6 & alpha.7 & alpha.8 & alpha.9 & ⋯ & alpha.50 & alpha.51 & alpha.52 & alpha.53 & alpha.54 & alpha.55 & alpha.56 & alpha.57 & alpha.58 & alpha.59\\\\\n",
       "\\hline\n",
       "\t{[}29995,{]} & -0.007653857 & -0.5193818   & -0.520366601 & -0.1474175   & -0.76011955  &  0.7388037   &  1.47619864  & -0.8617838   & -0.50778035  & -0.2405105   & ⋯            & -0.41974952  & -0.3631451   & -0.72137598  &  0.25719187  &  0.39627697  &  0.20411898  & -0.3374192   & -0.15102723  & -1.0826467   & -0.7347509  \\\\\n",
       "\t{[}29996,{]} &  0.026830350 & -1.5508240   & -0.389330809 &  0.5240256   & -0.51532572  & -0.3016745   &  0.29392918  & -0.8501085   & -0.22266356  &  0.7726066   & ⋯            &  0.03190974  & -1.9984795   &  0.10805900  & -1.42742742  &  1.22510572  &  0.97100754  & -0.1510454   & -0.61063335  &  1.6321240   & -0.6115048  \\\\\n",
       "\t{[}29997,{]} & -0.006593492 &  0.2918810   &  0.378455826 & -0.7575933   &  0.66307775  & -0.7353371   & -0.51112290  & -0.3062849   & -0.03769368  &  0.1291314   & ⋯            & -0.46541433  & -0.6806733   &  0.98982394  &  0.03677122  & -0.09928249  &  0.92759542  & -0.5442748   & -0.21756448  &  0.8673406   &  0.7755560  \\\\\n",
       "\t{[}29998,{]} & -0.006157508 & -0.2276703   & -0.356913298 &  0.1762708   & -0.45982362  & -0.1984215   &  0.99863209  &  0.3898950   &  0.41135617  &  0.6750564   & ⋯            & -0.55486745  &  0.4710242   &  0.04810161  & -1.47260055  &  0.08448171  &  0.34144218  &  1.3580200   & -0.24977774  &  0.0136931   &  0.7726712  \\\\\n",
       "\t{[}29999,{]} & -0.011414031 & -0.3812228   &  0.006346653 & -0.1396916   & -0.08154313  & -0.5927963   &  1.32415001  & -0.7460840   & -0.26232916  &  0.3447536   & ⋯            &  0.80156515  &  0.8208681   & -0.90988254  &  0.18360267  & -0.30009704  & -0.03496347  & -0.4454567   & -0.52621925  &  0.3667309   & -0.0944279  \\\\\n",
       "\t{[}30000,{]} &  0.005618920 & -1.3045432   &  0.423120079 & -0.7436679   &  0.36686714  & -0.5400485   & -0.06992023  & -1.2590402   & -0.35496848  &  1.3286319   & ⋯            &  0.88611863  & -1.0965383   &  0.98591452  & -0.28698698  & -2.74859608  &  2.18645588  & -0.3443066   &  0.06212546  &  0.8379464   &  0.0120315  \\\\\n",
       "\\end{tabular}\n"
      ],
      "text/markdown": [
       "\n",
       "| <!--/--> | alpha.0 | alpha.1 | alpha.2 | alpha.3 | alpha.4 | alpha.5 | alpha.6 | alpha.7 | alpha.8 | alpha.9 | ⋯ | alpha.50 | alpha.51 | alpha.52 | alpha.53 | alpha.54 | alpha.55 | alpha.56 | alpha.57 | alpha.58 | alpha.59 |\n",
       "|---|---|---|---|---|---|---|---|---|---|---|---|---|---|---|---|---|---|---|---|---|---|\n",
       "| [29995,] | -0.007653857 | -0.5193818   | -0.520366601 | -0.1474175   | -0.76011955  |  0.7388037   |  1.47619864  | -0.8617838   | -0.50778035  | -0.2405105   | ⋯            | -0.41974952  | -0.3631451   | -0.72137598  |  0.25719187  |  0.39627697  |  0.20411898  | -0.3374192   | -0.15102723  | -1.0826467   | -0.7347509   |\n",
       "| [29996,] |  0.026830350 | -1.5508240   | -0.389330809 |  0.5240256   | -0.51532572  | -0.3016745   |  0.29392918  | -0.8501085   | -0.22266356  |  0.7726066   | ⋯            |  0.03190974  | -1.9984795   |  0.10805900  | -1.42742742  |  1.22510572  |  0.97100754  | -0.1510454   | -0.61063335  |  1.6321240   | -0.6115048   |\n",
       "| [29997,] | -0.006593492 |  0.2918810   |  0.378455826 | -0.7575933   |  0.66307775  | -0.7353371   | -0.51112290  | -0.3062849   | -0.03769368  |  0.1291314   | ⋯            | -0.46541433  | -0.6806733   |  0.98982394  |  0.03677122  | -0.09928249  |  0.92759542  | -0.5442748   | -0.21756448  |  0.8673406   |  0.7755560   |\n",
       "| [29998,] | -0.006157508 | -0.2276703   | -0.356913298 |  0.1762708   | -0.45982362  | -0.1984215   |  0.99863209  |  0.3898950   |  0.41135617  |  0.6750564   | ⋯            | -0.55486745  |  0.4710242   |  0.04810161  | -1.47260055  |  0.08448171  |  0.34144218  |  1.3580200   | -0.24977774  |  0.0136931   |  0.7726712   |\n",
       "| [29999,] | -0.011414031 | -0.3812228   |  0.006346653 | -0.1396916   | -0.08154313  | -0.5927963   |  1.32415001  | -0.7460840   | -0.26232916  |  0.3447536   | ⋯            |  0.80156515  |  0.8208681   | -0.90988254  |  0.18360267  | -0.30009704  | -0.03496347  | -0.4454567   | -0.52621925  |  0.3667309   | -0.0944279   |\n",
       "| [30000,] |  0.005618920 | -1.3045432   |  0.423120079 | -0.7436679   |  0.36686714  | -0.5400485   | -0.06992023  | -1.2590402   | -0.35496848  |  1.3286319   | ⋯            |  0.88611863  | -1.0965383   |  0.98591452  | -0.28698698  | -2.74859608  |  2.18645588  | -0.3443066   |  0.06212546  |  0.8379464   |  0.0120315   |\n",
       "\n"
      ],
      "text/plain": [
       "         alpha.0      alpha.1    alpha.2      alpha.3    alpha.4     alpha.5   \n",
       "[29995,] -0.007653857 -0.5193818 -0.520366601 -0.1474175 -0.76011955  0.7388037\n",
       "[29996,]  0.026830350 -1.5508240 -0.389330809  0.5240256 -0.51532572 -0.3016745\n",
       "[29997,] -0.006593492  0.2918810  0.378455826 -0.7575933  0.66307775 -0.7353371\n",
       "[29998,] -0.006157508 -0.2276703 -0.356913298  0.1762708 -0.45982362 -0.1984215\n",
       "[29999,] -0.011414031 -0.3812228  0.006346653 -0.1396916 -0.08154313 -0.5927963\n",
       "[30000,]  0.005618920 -1.3045432  0.423120079 -0.7436679  0.36686714 -0.5400485\n",
       "         alpha.6     alpha.7    alpha.8     alpha.9    ⋯ alpha.50    alpha.51  \n",
       "[29995,]  1.47619864 -0.8617838 -0.50778035 -0.2405105 ⋯ -0.41974952 -0.3631451\n",
       "[29996,]  0.29392918 -0.8501085 -0.22266356  0.7726066 ⋯  0.03190974 -1.9984795\n",
       "[29997,] -0.51112290 -0.3062849 -0.03769368  0.1291314 ⋯ -0.46541433 -0.6806733\n",
       "[29998,]  0.99863209  0.3898950  0.41135617  0.6750564 ⋯ -0.55486745  0.4710242\n",
       "[29999,]  1.32415001 -0.7460840 -0.26232916  0.3447536 ⋯  0.80156515  0.8208681\n",
       "[30000,] -0.06992023 -1.2590402 -0.35496848  1.3286319 ⋯  0.88611863 -1.0965383\n",
       "         alpha.52    alpha.53    alpha.54    alpha.55    alpha.56   alpha.57   \n",
       "[29995,] -0.72137598  0.25719187  0.39627697  0.20411898 -0.3374192 -0.15102723\n",
       "[29996,]  0.10805900 -1.42742742  1.22510572  0.97100754 -0.1510454 -0.61063335\n",
       "[29997,]  0.98982394  0.03677122 -0.09928249  0.92759542 -0.5442748 -0.21756448\n",
       "[29998,]  0.04810161 -1.47260055  0.08448171  0.34144218  1.3580200 -0.24977774\n",
       "[29999,] -0.90988254  0.18360267 -0.30009704 -0.03496347 -0.4454567 -0.52621925\n",
       "[30000,]  0.98591452 -0.28698698 -2.74859608  2.18645588 -0.3443066  0.06212546\n",
       "         alpha.58   alpha.59  \n",
       "[29995,] -1.0826467 -0.7347509\n",
       "[29996,]  1.6321240 -0.6115048\n",
       "[29997,]  0.8673406  0.7755560\n",
       "[29998,]  0.0136931  0.7726712\n",
       "[29999,]  0.3667309 -0.0944279\n",
       "[30000,]  0.8379464  0.0120315"
      ]
     },
     "metadata": {},
     "output_type": "display_data"
    }
   ],
   "source": [
    "tail(res$samplesL$alpha)"
   ]
  },
  {
   "cell_type": "code",
   "execution_count": 16,
   "metadata": {},
   "outputs": [
    {
     "data": {
      "text/html": [
       "30000"
      ],
      "text/latex": [
       "30000"
      ],
      "text/markdown": [
       "30000"
      ],
      "text/plain": [
       "[1] 30000"
      ]
     },
     "metadata": {},
     "output_type": "display_data"
    }
   ],
   "source": [
    "length(res$samplesL$alpha[,60])"
   ]
  },
  {
   "cell_type": "code",
   "execution_count": 49,
   "metadata": {},
   "outputs": [
    {
     "data": {
      "text/html": [
       "<strong>png:</strong> 2"
      ],
      "text/latex": [
       "\\textbf{png:} 2"
      ],
      "text/markdown": [
       "**png:** 2"
      ],
      "text/plain": [
       "png \n",
       "  2 "
      ]
     },
     "metadata": {},
     "output_type": "display_data"
    }
   ],
   "source": [
    "pdf(file = \"/home/min/GIT/cnv-gene-mapping/data/deletion_simu/logitBvs.var.selection.beta.hist.pdf\")\n",
    "par(mfrow = c(2,2))\n",
    "for (i in seq(2,60)){\n",
    "    hist(res$samplesL$alpha[,i], breaks = 80, main = paste(\"beta\", i-1, \"histogram\"), xlab=paste(\"beta\",i-1))\n",
    "}\n",
    "dev.off()"
   ]
  },
  {
   "cell_type": "code",
   "execution_count": 47,
   "metadata": {},
   "outputs": [
    {
     "data": {
      "image/png": "[encoded data removed]",
      "text/plain": [
       "Plot with title “Histogram of res$samplesL$alpha[, 41]”"
      ]
     },
     "metadata": {},
     "output_type": "display_data"
    }
   ],
   "source": [
    "hist(res$samplesL$alpha[,41], breaks = 80)"
   ]
  },
  {
   "cell_type": "code",
   "execution_count": 79,
   "metadata": {},
   "outputs": [],
   "source": [
    "# mean(res$samplesL$alpha[,42])"
   ]
  },
  {
   "cell_type": "code",
   "execution_count": 78,
   "metadata": {},
   "outputs": [
    {
     "data": {
      "text/plain": [
       "MCMC for the logit model:\n",
       "\n",
       "Call:\n",
       "logitBvs(y = y, N = N, X = X, prior = list(slab = \"Normal\", aj0 = rep(mu0, \n",
       "    ncol(X) - 1), V = var, w = c(wa0 = 1, wb0 = 1), pi = c(pa0 = 1.412, \n",
       "    pb0 = 10)), mcmc = list(M = 24000, burnin = 6000, msave = TRUE), \n",
       "    BVS = FALSE)\n",
       "\n",
       "\n",
       "MCMC:\n",
       "M = 24000 draws after a burn-in of 6000\n",
       "Thinning parameter: 1\n",
       "\n",
       "Prior: Normal prior [V=0.711745609189383]\n",
       "\n",
       " a0[0]  a0[1]  a0[2]  a0[3]  a0[4]  a0[5]  a0[6]  a0[7]  a0[8]  a0[9] a0[10] \n",
       " 0.000  0.777  0.777  0.777  0.777  0.777  0.777  0.777  0.777  0.777  0.777 \n",
       "a0[11] a0[12] a0[13] a0[14] a0[15] a0[16] a0[17] a0[18] a0[19] a0[20] a0[21] \n",
       " 0.777  0.777  0.777  0.777  0.777  0.777  0.777  0.777  0.777  0.777  0.777 \n",
       "a0[22] a0[23] a0[24] a0[25] a0[26] a0[27] a0[28] a0[29] a0[30] a0[31] a0[32] \n",
       " 0.777  0.777  0.777  0.777  0.777  0.777  0.777  0.777  0.777  0.777  0.777 \n",
       "a0[33] a0[34] a0[35] a0[36] a0[37] a0[38] a0[39] a0[40] a0[41] a0[42] a0[43] \n",
       " 0.777  0.777  0.777  0.777  0.777  0.777  0.777  0.777  0.777  0.777  0.777 \n",
       "a0[44] a0[45] a0[46] a0[47] a0[48] a0[49] a0[50] a0[51] a0[52] a0[53] a0[54] \n",
       " 0.777  0.777  0.777  0.777  0.777  0.777  0.777  0.777  0.777  0.777  0.777 \n",
       "a0[55] a0[56] a0[57] a0[58] a0[59] \n",
       " 0.777  0.777  0.777  0.777  0.777 \n",
       "\n",
       "\n",
       "Posterior means and 95%-HPD intervals:\n",
       "\n",
       "            Estimate 95%-HPD[l] 95%-HPD[u]\n",
       "(Intercept)   -0.001     -0.043      0.039\n",
       "alpha.1       -0.555     -1.844      0.749\n",
       "alpha.2        0.531     -1.221      2.311\n",
       "alpha.3        0.013     -1.501      1.654\n",
       "alpha.4        0.009     -1.582      1.582\n",
       "alpha.5        0.006     -1.539      1.632\n",
       "alpha.6        0.005     -1.637      1.560\n",
       "alpha.7        0.013     -1.602      1.566\n",
       "alpha.8        0.005     -1.600      1.560\n",
       "alpha.9        0.000     -1.564      1.605\n",
       "alpha.10      -0.001     -1.559      1.624\n",
       "alpha.11       0.011     -1.554      1.621\n",
       "alpha.12       0.012     -1.572      1.620\n",
       "alpha.13       0.004     -1.525      1.602\n",
       "alpha.14       0.226     -1.179      1.629\n",
       "alpha.15       0.227     -1.149      1.657\n",
       "alpha.16      -0.710     -2.042      0.598\n",
       "alpha.17       0.645     -0.873      2.239\n",
       "alpha.18       0.644     -0.843      2.261\n",
       "alpha.19      -1.052     -2.643      0.540\n",
       "alpha.20       0.422     -0.681      1.481\n",
       "alpha.21       0.004     -1.494      1.476\n",
       "alpha.22       0.005     -1.466      1.460\n",
       "alpha.23      -1.046     -2.645      0.559\n",
       "alpha.24       0.180     -1.390      1.771\n",
       "alpha.25       0.167     -1.344      1.750\n",
       "alpha.26       0.163     -1.473      1.679\n",
       "alpha.27       0.168     -1.353      1.788\n",
       "alpha.28       0.163     -1.390      1.719\n",
       "alpha.29      -0.291     -1.733      1.078\n",
       "alpha.30       0.166     -1.432      1.733\n",
       "alpha.31       0.172     -1.396      1.744\n",
       "alpha.32       0.163     -1.403      1.740\n",
       "alpha.33       0.167     -1.413      1.745\n",
       "alpha.34      -0.013     -1.625      1.511\n",
       "alpha.35      -0.010     -1.529      1.605\n",
       "alpha.36      -0.019     -1.550      1.550\n",
       "alpha.37      -0.020     -1.579      1.569\n",
       "alpha.38      -0.017     -1.603      1.514\n",
       "alpha.39      -0.010     -1.578      1.574\n",
       "alpha.40       0.698     -0.859      2.267\n",
       "alpha.41      -0.329     -1.747      1.134\n",
       "alpha.42      -0.431     -1.586      0.686\n",
       "alpha.43       0.996     -0.612      2.618\n",
       "alpha.44       0.993     -0.698      2.561\n",
       "alpha.45      -0.250     -1.764      1.241\n",
       "alpha.46      -0.257     -1.746      1.225\n",
       "alpha.47      -0.266     -1.714      1.258\n",
       "alpha.48      -0.265     -1.718      1.285\n",
       "alpha.49       0.312     -1.007      1.638\n",
       "alpha.50       0.322     -1.018      1.631\n",
       "alpha.51      -0.205     -1.546      1.189\n",
       "alpha.52      -0.208     -1.592      1.155\n",
       "alpha.53      -0.245     -1.768      1.259\n",
       "alpha.54      -0.238     -1.719      1.307\n",
       "alpha.55      -0.232     -1.693      1.304\n",
       "alpha.56       0.021     -1.607      1.617\n",
       "alpha.57       0.017     -1.570      1.650\n",
       "alpha.58       0.051     -1.765      1.719\n",
       "alpha.59       0.051     -1.671      1.762\n"
      ]
     },
     "metadata": {},
     "output_type": "display_data"
    }
   ],
   "source": [
    "summary(res)"
   ]
  },
  {
   "cell_type": "code",
   "execution_count": null,
   "metadata": {},
   "outputs": [],
   "source": []
  },
  {
   "cell_type": "code",
   "execution_count": null,
   "metadata": {},
   "outputs": [],
   "source": []
  },
  {
   "cell_type": "code",
   "execution_count": null,
   "metadata": {},
   "outputs": [],
   "source": []
  },
  {
   "cell_type": "code",
   "execution_count": 4,
   "metadata": {},
   "outputs": [],
   "source": [
    "data(simul_binomial)"
   ]
  },
  {
   "cell_type": "code",
   "execution_count": 50,
   "metadata": {},
   "outputs": [],
   "source": [
    "y <- simul_binomial$y\n",
    "N <- simul_binomial$N\n",
    "X <- as.matrix(simul_binomial[, -c(1,2)])"
   ]
  },
  {
   "cell_type": "code",
   "execution_count": 51,
   "metadata": {},
   "outputs": [
    {
     "data": {
      "text/html": [
       "512"
      ],
      "text/latex": [
       "512"
      ],
      "text/markdown": [
       "512"
      ],
      "text/plain": [
       "[1] 512"
      ]
     },
     "metadata": {},
     "output_type": "display_data"
    },
    {
     "data": {
      "text/html": [
       "512"
      ],
      "text/latex": [
       "512"
      ],
      "text/markdown": [
       "512"
      ],
      "text/plain": [
       "[1] 512"
      ]
     },
     "metadata": {},
     "output_type": "display_data"
    },
    {
     "data": {
      "text/html": [
       "<ol class=list-inline>\n",
       "\t<li>512</li>\n",
       "\t<li>10</li>\n",
       "</ol>\n"
      ],
      "text/latex": [
       "\\begin{enumerate*}\n",
       "\\item 512\n",
       "\\item 10\n",
       "\\end{enumerate*}\n"
      ],
      "text/markdown": [
       "1. 512\n",
       "2. 10\n",
       "\n",
       "\n"
      ],
      "text/plain": [
       "[1] 512  10"
      ]
     },
     "metadata": {},
     "output_type": "display_data"
    }
   ],
   "source": [
    "length(y); length(N); dim(X)"
   ]
  },
  {
   "cell_type": "code",
   "execution_count": 16,
   "metadata": {},
   "outputs": [
    {
     "data": {
      "text/html": [
       "<table>\n",
       "<thead><tr><th scope=col>X.0</th><th scope=col>X.1</th><th scope=col>X.2</th><th scope=col>X.3</th><th scope=col>X.4</th><th scope=col>X.5</th><th scope=col>X.6</th><th scope=col>X.7</th><th scope=col>X.8</th><th scope=col>X.9</th></tr></thead>\n",
       "<tbody>\n",
       "\t<tr><td>1</td><td>0</td><td>0</td><td>0</td><td>0</td><td>0</td><td>0</td><td>0</td><td>0</td><td>0</td></tr>\n",
       "\t<tr><td>1</td><td>0</td><td>0</td><td>0</td><td>0</td><td>0</td><td>0</td><td>0</td><td>0</td><td>1</td></tr>\n",
       "\t<tr><td>1</td><td>0</td><td>0</td><td>0</td><td>0</td><td>0</td><td>0</td><td>0</td><td>1</td><td>0</td></tr>\n",
       "\t<tr><td>1</td><td>0</td><td>0</td><td>0</td><td>0</td><td>0</td><td>0</td><td>0</td><td>1</td><td>1</td></tr>\n",
       "\t<tr><td>1</td><td>0</td><td>0</td><td>0</td><td>0</td><td>0</td><td>0</td><td>1</td><td>0</td><td>0</td></tr>\n",
       "\t<tr><td>1</td><td>0</td><td>0</td><td>0</td><td>0</td><td>0</td><td>0</td><td>1</td><td>0</td><td>1</td></tr>\n",
       "</tbody>\n",
       "</table>\n"
      ],
      "text/latex": [
       "\\begin{tabular}{llllllllll}\n",
       " X.0 & X.1 & X.2 & X.3 & X.4 & X.5 & X.6 & X.7 & X.8 & X.9\\\\\n",
       "\\hline\n",
       "\t 1 & 0 & 0 & 0 & 0 & 0 & 0 & 0 & 0 & 0\\\\\n",
       "\t 1 & 0 & 0 & 0 & 0 & 0 & 0 & 0 & 0 & 1\\\\\n",
       "\t 1 & 0 & 0 & 0 & 0 & 0 & 0 & 0 & 1 & 0\\\\\n",
       "\t 1 & 0 & 0 & 0 & 0 & 0 & 0 & 0 & 1 & 1\\\\\n",
       "\t 1 & 0 & 0 & 0 & 0 & 0 & 0 & 1 & 0 & 0\\\\\n",
       "\t 1 & 0 & 0 & 0 & 0 & 0 & 0 & 1 & 0 & 1\\\\\n",
       "\\end{tabular}\n"
      ],
      "text/markdown": [
       "\n",
       "| X.0 | X.1 | X.2 | X.3 | X.4 | X.5 | X.6 | X.7 | X.8 | X.9 |\n",
       "|---|---|---|---|---|---|---|---|---|---|\n",
       "| 1 | 0 | 0 | 0 | 0 | 0 | 0 | 0 | 0 | 0 |\n",
       "| 1 | 0 | 0 | 0 | 0 | 0 | 0 | 0 | 0 | 1 |\n",
       "| 1 | 0 | 0 | 0 | 0 | 0 | 0 | 0 | 1 | 0 |\n",
       "| 1 | 0 | 0 | 0 | 0 | 0 | 0 | 0 | 1 | 1 |\n",
       "| 1 | 0 | 0 | 0 | 0 | 0 | 0 | 1 | 0 | 0 |\n",
       "| 1 | 0 | 0 | 0 | 0 | 0 | 0 | 1 | 0 | 1 |\n",
       "\n"
      ],
      "text/plain": [
       "     X.0 X.1 X.2 X.3 X.4 X.5 X.6 X.7 X.8 X.9\n",
       "[1,] 1   0   0   0   0   0   0   0   0   0  \n",
       "[2,] 1   0   0   0   0   0   0   0   0   1  \n",
       "[3,] 1   0   0   0   0   0   0   0   1   0  \n",
       "[4,] 1   0   0   0   0   0   0   0   1   1  \n",
       "[5,] 1   0   0   0   0   0   0   1   0   0  \n",
       "[6,] 1   0   0   0   0   0   0   1   0   1  "
      ]
     },
     "metadata": {},
     "output_type": "display_data"
    }
   ],
   "source": [
    "head(X)"
   ]
  },
  {
   "cell_type": "code",
   "execution_count": 23,
   "metadata": {},
   "outputs": [
    {
     "data": {
      "text/html": [
       "512"
      ],
      "text/latex": [
       "512"
      ],
      "text/markdown": [
       "512"
      ],
      "text/plain": [
       "[1] 512"
      ]
     },
     "metadata": {},
     "output_type": "display_data"
    }
   ],
   "source": [
    "sum(X[,1])"
   ]
  },
  {
   "cell_type": "code",
   "execution_count": 17,
   "metadata": {},
   "outputs": [
    {
     "name": "stdout",
     "output_type": "stream",
     "text": [
      "\n",
      "MCMC for the binomial logit model with variable selection:\n",
      "\n",
      "it = 1 /--- duration of MCMC so far: 1.02 sec.,  expected time to end: Inf  min. \n",
      "it = 2 /--- duration of MCMC so far: 1.03 sec.,  expected time to end: 171.65  min. \n",
      "it = 3 /--- duration of MCMC so far: 1.03 sec.,  expected time to end: 86.23  min. \n",
      "it = 4 /--- duration of MCMC so far: 1.04 sec.,  expected time to end: 57.7  min. \n",
      "it = 5 /--- duration of MCMC so far: 1.04 sec.,  expected time to end: 43.48  min. \n",
      "it = 10 /--- duration of MCMC so far: 1.06 sec.,  expected time to end: 19.57  min. \n",
      "it = 20 /--- duration of MCMC so far: 1.09 sec.,  expected time to end: 9.54  min. \n",
      "it = 50 /--- duration of MCMC so far: 1.16 sec.,  expected time to end: 3.92  min. \n",
      "it = 100 /--- duration of MCMC so far: 1.27 sec.,  expected time to end: 2.12  min. \n",
      "it = 200 /--- duration of MCMC so far: 1.57 sec.,  expected time to end: 1.29  min. \n",
      "it = 500 /--- duration of MCMC so far: 2.32 sec.,  expected time to end: 0.74  min. \n",
      "it = 1000 /--- duration of MCMC so far: 3.35 sec.,  expected time to end: 0.5  min. \n",
      "it = 1500 /--- duration of MCMC so far: 9.07 sec.,  expected time to end: 0.86  min. \n",
      "it = 2000 /--- duration of MCMC so far: 16.76 sec.,  expected time to end: 1.12  min. \n",
      "it = 2500 /--- duration of MCMC so far: 22.82 sec.,  expected time to end: 1.14  min. \n",
      "it = 3000 /--- duration of MCMC so far: 29.03 sec.,  expected time to end: 1.13  min. \n",
      "it = 3500 /--- duration of MCMC so far: 34.71 sec.,  expected time to end: 1.07  min. \n",
      "it = 4000 /--- duration of MCMC so far: 40.04 sec.,  expected time to end: 1  min. \n",
      "it = 4500 /--- duration of MCMC so far: 45.17 sec.,  expected time to end: 0.92  min. \n",
      "it = 5000 /--- duration of MCMC so far: 50.09 sec.,  expected time to end: 0.84  min. \n",
      "it = 5500 /--- duration of MCMC so far: 55.16 sec.,  expected time to end: 0.75  min. \n",
      "it = 6000 /--- duration of MCMC so far: 60.3 sec.,  expected time to end: 0.67  min. \n",
      "it = 6500 /--- duration of MCMC so far: 65.41 sec.,  expected time to end: 0.59  min. \n",
      "it = 7000 /--- duration of MCMC so far: 70.33 sec.,  expected time to end: 0.5  min. \n",
      "it = 7500 /--- duration of MCMC so far: 75.22 sec.,  expected time to end: 0.42  min. \n",
      "it = 8000 /--- duration of MCMC so far: 80.2 sec.,  expected time to end: 0.33  min. \n",
      "it = 8500 /--- duration of MCMC so far: 85.12 sec.,  expected time to end: 0.25  min. \n",
      "it = 9000 /--- duration of MCMC so far: 90.54 sec.,  expected time to end: 0.17  min. \n",
      "it = 9500 /--- duration of MCMC so far: 95.67 sec.,  expected time to end: 0.08  min. \n",
      "it = 10000 /--- duration of MCMC (total): 101.78 sec. \n",
      " \n"
     ]
    }
   ],
   "source": [
    "m1 <- logitBvs(y = y, N = N, X = X)"
   ]
  },
  {
   "cell_type": "code",
   "execution_count": 18,
   "metadata": {},
   "outputs": [
    {
     "name": "stdout",
     "output_type": "stream",
     "text": [
      "Bayesian variable selection for the binomial logit model:\n",
      "\n",
      "Call:\n",
      "logitBvs(y = y, N = N, X = X)\n",
      "\n",
      "Model: 512 observations\n",
      " Covariates: 9\n",
      " --- subject to selection: 9\n",
      " Random intercept included: no\n",
      "\n",
      "MCMC:\n",
      "M = 8000 draws after a burn-in of 2000\n",
      "BVS started after 1000 iterations\n",
      "Thinning parameter: 1\n",
      "\n",
      "Runtime:\n",
      "total: 101.8 sec.\n",
      "since burn-in: 85 sec."
     ]
    }
   ],
   "source": [
    "print(m1)"
   ]
  },
  {
   "cell_type": "code",
   "execution_count": 19,
   "metadata": {},
   "outputs": [
    {
     "data": {
      "text/plain": [
       "Bayesian variable selection for the binomial logit model:\n",
       "\n",
       "Call:\n",
       "logitBvs(y = y, N = N, X = X)\n",
       "\n",
       "\n",
       "MCMC:\n",
       "M = 8000 draws after a burn-in of 2000\n",
       "BVS started after 1000 iterations\n",
       "Thinning parameter: 1\n",
       "\n",
       "Prior:  spike-and-slab prior with Student-t slab [V=5]\n",
       "\n",
       "a0[0] a0[1] a0[2] a0[3] a0[4] a0[5] a0[6] a0[7] a0[8] a0[9] \n",
       "    0     0     0     0     0     0     0     0     0     0 \n",
       " w[a]  w[b] pi[a] pi[b] \n",
       "    1     1     1     1 \n",
       "\n",
       "\n",
       "Model averaged posterior means, estimated posterior inclusion\n",
       " probabilities and 95%-HPD intervals:\n",
       "\n",
       "            Estimate P(.=1) 95%-HPD[l] 95%-HPD[u]\n",
       "(Intercept)   -0.452     NA     -0.549     -0.366\n",
       "alpha.1        0.180  1.000      0.124      0.236\n",
       "alpha.2       -0.141  1.000     -0.197     -0.086\n",
       "alpha.3        0.044  0.569      0.000      0.117\n",
       "alpha.4       -1.077  1.000     -1.135     -1.018\n",
       "alpha.5       -0.003  0.083     -0.037      0.000\n",
       "alpha.6        0.000  0.045      0.000      0.000\n",
       "alpha.7        1.152  1.000      1.096      1.213\n",
       "alpha.8       -0.077  0.850     -0.135      0.000\n",
       "alpha.9        0.334  1.000      0.278      0.390\n"
      ]
     },
     "metadata": {},
     "output_type": "display_data"
    }
   ],
   "source": [
    "summary(m1)"
   ]
  },
  {
   "cell_type": "code",
   "execution_count": null,
   "metadata": {},
   "outputs": [],
   "source": []
  }
 ],
 "metadata": {
  "kernelspec": {
   "display_name": "R",
   "language": "R",
   "name": "ir"
  },
  "language_info": {
   "codemirror_mode": "r",
   "file_extension": ".r",
   "mimetype": "text/x-r-source",
   "name": "R",
   "pygments_lexer": "r",
   "version": "3.5.1"
  }
 },
 "nbformat": 4,
 "nbformat_minor": 2
}
