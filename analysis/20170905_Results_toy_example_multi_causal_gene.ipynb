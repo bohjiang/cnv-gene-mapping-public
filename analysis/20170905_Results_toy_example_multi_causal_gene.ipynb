{
 "cells": [
  {
   "cell_type": "markdown",
   "metadata": {},
   "source": [
    "# Results of toy example for multi-causal-gene in a region\n",
    "### Two or more causal genes in a region with multiple CNVs and genes"
   ]
  },
  {
   "cell_type": "markdown",
   "metadata": {},
   "source": [
    "A genomic region contains multiple genes, two or more of which are causal.\n",
    "\n",
    "CNVs are simulated over this region. The lengths of CNVs follow geometric distribution with probability 0.5, as a result, approximately half of the simulated CNVs are with length 0, meaning half of samples do not have any CNVs if we suppose each sample has at most one CNV within this particular region.\n",
    "\n",
    "Suppose there are 10 genes in this region. 3rd and 9th genes are causal. Simulate a random number from $N(0,1)$ for each sample. \n",
    "\n",
    "For each sample: 1) if CNV in this region, if ther is any, overlap with either of the two causal genes, add a constant, for example 0.5, to the random $N(0,1)$ number. 2) Then check the length of CNV."
   ]
  },
  {
   "cell_type": "markdown",
   "metadata": {},
   "source": [
    "Sample size 5000, prior effect size of $\\beta = \\frac{1}{\\#\\ of\\ genes} $, grid = $(0, 0.1)$\n",
    "\n",
    "Causal genes 1 and 10, PIP for both gene is high.\n",
    "\n",
    "    1 chr6.100010   9.99920e-01      9.690\n",
    "    2 chr6.100001   9.99800e-01      5.933\n",
    "    3 chr6.100004   6.96652e-01      1.975\n",
    "    4 chr6.100003   3.22292e-01      1.926\n",
    "    5 chr6.100002   2.34198e-01      2.511\n",
    "    6 chr6.100007   2.03050e-01      0.806\n",
    "    7 chr6.100006   1.39017e-01      0.479\n",
    "    8 chr6.100009   1.24859e-01      1.949\n",
    "    9 chr6.100008   3.42060e-02      0.331\n",
    "    10 chr6.100005  9.61600e-03      0.166\n",
    "\n"
   ]
  },
  {
   "cell_type": "code",
   "execution_count": null,
   "metadata": {
    "collapsed": true
   },
   "outputs": [],
   "source": []
  }
 ],
 "metadata": {
  "kernelspec": {
   "display_name": "Python 3",
   "language": "python",
   "name": "python3"
  },
  "language_info": {
   "codemirror_mode": {
    "name": "ipython",
    "version": 3
   },
   "file_extension": ".py",
   "mimetype": "text/x-python",
   "name": "python",
   "nbconvert_exporter": "python",
   "pygments_lexer": "ipython3",
   "version": "3.5.2"
  }
 },
 "nbformat": 4,
 "nbformat_minor": 2
}
