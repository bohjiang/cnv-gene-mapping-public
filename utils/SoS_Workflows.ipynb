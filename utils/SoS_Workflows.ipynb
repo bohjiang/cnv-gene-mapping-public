{
 "cells": [
  {
   "cell_type": "markdown",
   "metadata": {},
   "source": [
    "# SoS utilities\n",
    "For simulation and data analysis of the CNV project."
   ]
  },
  {
   "cell_type": "markdown",
   "metadata": {},
   "source": [
    "## Workflows"
   ]
  },
  {
   "cell_type": "code",
   "execution_count": 1,
   "metadata": {
    "collapsed": true,
    "kernel": "SoS",
    "output_cache": "[{\"text\":\"Set sos options to \\\"-j 4\\\"\\n\",\"name\":\"stdout\",\"output_type\":\"stream\"},{\"metadata\":{},\"data\":{\"text/html\":\"<table id=\\\"table_e48d03a5c429b8cd75cbea1941b28d05\\\" style=\\\"border: 0px\\\"><tr style=\\\"border: 0px\\\">\\n                            <td style=\\\"border: 0px\\\"><i id=\\\"e48d03a5c429b8cd75cbea1941b28d05\\\" class=\\\"fa fa-2x fa-fw fa-frown-o\\\"></i> </td>\\n                            <td style=\\\"border: 0px\\\"><pre>e48d03a5c429b8cd75cbea1941b28d05</pre></td>\\n                            </tr></table>\"},\"output_type\":\"display_data\"},{\"metadata\":{},\"data\":{\"text/html\":\"<table id=\\\"table_c1e2510ee12d8a2f8dfd794aa4d8a8ef\\\" style=\\\"border: 0px\\\"><tr style=\\\"border: 0px\\\">\\n                            <td style=\\\"border: 0px\\\"><i id=\\\"c1e2510ee12d8a2f8dfd794aa4d8a8ef\\\" class=\\\"fa fa-2x fa-fw fa-frown-o\\\"></i> </td>\\n                            <td style=\\\"border: 0px\\\"><pre>c1e2510ee12d8a2f8dfd794aa4d8a8ef</pre></td>\\n                            </tr></table>\"},\"output_type\":\"display_data\"},{\"metadata\":{},\"data\":{\"text/html\":\"<table id=\\\"table_e4627ef11008c07ae98e44ee3bcd9ccc\\\" style=\\\"border: 0px\\\"><tr style=\\\"border: 0px\\\">\\n                            <td style=\\\"border: 0px\\\"><i id=\\\"e4627ef11008c07ae98e44ee3bcd9ccc\\\" class=\\\"fa fa-2x fa-fw fa-frown-o\\\"></i> </td>\\n                            <td style=\\\"border: 0px\\\"><pre>e4627ef11008c07ae98e44ee3bcd9ccc</pre></td>\\n                            </tr></table>\"},\"output_type\":\"display_data\"},{\"metadata\":{},\"data\":{\"text/html\":\"<table id=\\\"table_67e518eb863f245bde1e0046028e4934\\\" style=\\\"border: 0px\\\"><tr style=\\\"border: 0px\\\">\\n                            <td style=\\\"border: 0px\\\"><i id=\\\"67e518eb863f245bde1e0046028e4934\\\" class=\\\"fa fa-2x fa-fw fa-frown-o\\\"></i> </td>\\n                            <td style=\\\"border: 0px\\\"><pre>67e518eb863f245bde1e0046028e4934</pre></td>\\n                            </tr></table>\"},\"output_type\":\"display_data\"},{\"metadata\":{},\"data\":{\"text/html\":\"<table id=\\\"table_6e6962ef53c3a9da487e2052a0023806\\\" style=\\\"border: 0px\\\"><tr style=\\\"border: 0px\\\">\\n                            <td style=\\\"border: 0px\\\"><i id=\\\"6e6962ef53c3a9da487e2052a0023806\\\" class=\\\"fa fa-2x fa-fw fa-frown-o\\\"></i> </td>\\n                            <td style=\\\"border: 0px\\\"><pre>6e6962ef53c3a9da487e2052a0023806</pre></td>\\n                            </tr></table>\"},\"output_type\":\"display_data\"},{\"metadata\":{},\"data\":{\"text/html\":\"<table id=\\\"table_1c6c102ed160f926d99e77022b744032\\\" style=\\\"border: 0px\\\"><tr style=\\\"border: 0px\\\">\\n                            <td style=\\\"border: 0px\\\"><i id=\\\"1c6c102ed160f926d99e77022b744032\\\" class=\\\"fa fa-2x fa-fw fa-frown-o\\\"></i> </td>\\n                            <td style=\\\"border: 0px\\\"><pre>1c6c102ed160f926d99e77022b744032</pre></td>\\n                            </tr></table>\"},\"output_type\":\"display_data\"}]",
    "scrolled": false
   },
   "outputs": [],
   "source": [
    "[varbvs_1]\n",
    "depends: Py_Module(\"pandasql\"), Py_Module('fisher'), Py_Module('plotly')\n",
    "parameter: sample_size = 2000\n",
    "parameter: seed = [12]\n",
    "parameter: prevalence = [0.01]\n",
    "parameter: gamma = [(3,1), (5,1), (9,1)]\n",
    "parameter: n_causal_gene = [100, 200]\n",
    "parameter: name = '../analysis/data/del_sim'\n",
    "input: for_each = ['gamma', 'prevalence', 'n_causal_gene', 'seed']\n",
    "output: \"${name}_%s.data.pkl\" % \"shape{}_scale{}_p{}_N{}_M{}_{}\".format(\"${_gamma[0]}\", \"${_gamma[1]}\", \"${_prevalence}\", int(\"${sample_size}\") * 2, \"${_n_causal_gene}\", \"${_seed}\")\n",
    "task:\n",
    "python:\n",
    "import sys, os\n",
    "sys.path.append(os.getcwd())\n",
    "from utils import Environment, run_simulation \n",
    "args = Environment()\n",
    "args['odds_ratio_params']['shape'] = ${_gamma[0]}\n",
    "args['odds_ratio_params']['scale'] = ${_gamma[1]}\n",
    "args['prevalence'] = ${_prevalence}\n",
    "args['n_case'] = args['n_ctrl'] = ${sample_size}\n",
    "args['n_causal_gene'] = ${_n_causal_gene}\n",
    "args['output'] = ${name!r}\n",
    "args.seed = ${_seed}\n",
    "run_simulation(args, \"shape{}_scale{}_p{}_N{}_M{}_{}\".\\\n",
    "               format(${_gamma[0]}, ${_gamma[1]}, ${_prevalence}, ${sample_size} * 2, ${_n_causal_gene}, ${_seed}))\n",
    "\n",
    "[varbvs_2]\n",
    "depends: Py_Module(\"feather-format\")\n",
    "input: group_by = 'single'\n",
    "output: \"${_input!n}.feather\"\n",
    "task:\n",
    "python:\n",
    "import sys, os\n",
    "sys.path.append(os.getcwd())\n",
    "import pickle, feather\n",
    "import pandas as pd\n",
    "import numpy as np\n",
    "from utils import Environment, load_reference_gene \n",
    "args = Environment()\n",
    "#\n",
    "dat = pickle.load(open(${_input!r}, \"rb\"))\n",
    "ref = load_reference_gene(args[\"refgene_file\"])\n",
    "# create regression data\n",
    "genes = pd.Series(list(set(ref['gene_name'])))\n",
    "regression_data = np.array([np.array(genes.isin(item[\"gene_name\"]), dtype = float) for item in dat['case'] + dat['ctrl']])\n",
    "regression_data = np.hstack((np.matrix([1] * len(dat['case']) + [0] * len(dat['ctrl'])).T, regression_data))\n",
    "mask = ~np.ravel((regression_data==0).all(0))\n",
    "# fix next line according to feather\n",
    "regression_data = regression_data[:, mask]\n",
    "# save to disk\n",
    "feather.write_dataframe(pd.DataFrame(regression_data, columns = ['phenotype'] + genes[mask[1:]].tolist()), ${_output!r})\n",
    "\n",
    "[varbvs_3]\n",
    "depends: R_library(\"varbvs\"), R_library(\"feather\")\n",
    "input: group_by = \"single\"\n",
    "output: \"${_input!nn}.varbvs.rds\"\n",
    "task:\n",
    "R:\n",
    "dat = as.matrix(feather::read_feather(${_input!r}))\n",
    "# FIXME: need to check if the usage is correct\n",
    "fit = varbvs::varbvs(dat[,-1], NULL, dat[,1], family = \"binomial\", logodds = seq(-3.5,-1,0.1), sa = 1, verbose = F)\n",
    "fit$summary = summary(fit)\n",
    "fit$w = varbvs::normalizelogweights(fit$logw)\n",
    "fit$pip = fit$alpha %*% c(fit$w)\n",
    "fit$beta = fit$mu %*% c(fit$w)\n",
    "fit$var_names = colnames(dat[-1])\n",
    "saveRDS(fit, ${_output!r})\n",
    "\n",
    "[dap_1]\n",
    "depends: Py_Module(\"pandasql\")\n",
    "parameter: sample_size = 10\n",
    "parameter: seed = [999]\n",
    "parameter: prevalence = [0.01]\n",
    "parameter: shape = [25]\n",
    "parameter: scale = [1]\n",
    "parameter: prefix = \"data/tmp.test\"\n",
    "parameter: ncpu = 4\n",
    "input: for_each = [\"shape\", \"scale\", \"prevalence\", \"seed\"]\n",
    "output: \"${prefix!a}_%s.data.pkl\" % \"{}_shape_{}\".format(int(\"${sample_size}\")*2, \"${_shape}\")\n",
    "task:\n",
    "python:\n",
    "import sys, os\n",
    "sys.path.append(os.getcwd())\n",
    "from utils import Environment, run_simulation\n",
    "args = Environment()\n",
    "args['odds_ratio_params']['shape'] = ${_shape}\n",
    "args['odds_ratio_params']['scale'] = ${_scale}\n",
    "args['prevalence'] = ${_prevalence}\n",
    "args['n_case'] = args['n_ctrl'] = ${sample_size}\n",
    "args['output'] = ${_output!nnr}\n",
    "args['ncpu'] = ${ncpu}\n",
    "args.seed = ${_seed}\n",
    "run_simulation(args)\n",
    "\n",
    "[dap_2]\n",
    "depends: Py_Module(\"feather-format\")\n",
    "input: group_by = 'single'\n",
    "output: \"${_input!n}.blocks.pkl\"\n",
    "task:\n",
    "python:\n",
    "import sys, os, pickle\n",
    "import numpy as np\n",
    "sys.path.append(os.getcwd())\n",
    "from utils import pkl_to_matrix, save_data\n",
    "dat = pkl_to_matrix(${_input!r}, make_block = True, dtype = np.uint8)\n",
    "save_data(dat, ${_output!r})"
   ]
  },
  {
   "cell_type": "markdown",
   "metadata": {
    "output_cache": "[]"
   },
   "source": [
    "## Simulation for variable selection methods\n",
    "This pipeline implements simulation and data analysis using \n",
    "* Carbonetto & Stephens 2012 (varbvs)\n",
    "* Wen et al 2016 (DAP)"
   ]
  },
  {
   "cell_type": "markdown",
   "metadata": {},
   "source": [
    "### DAP data simulation\n",
    "\n",
    "**For calcium pathway simulation**"
   ]
  },
  {
   "cell_type": "code",
   "execution_count": 2,
   "metadata": {
    "kernel": "SoS"
   },
   "outputs": [
    {
     "name": "stderr",
     "output_type": "stream",
     "text": [
      "\u001b[94mDEBUG\u001b[0m: \u001b[94mWorkflow dap created with 2 sections: dap_1, dap_2\u001b[0m\n",
      "\u001b[94mDEBUG\u001b[0m: \u001b[94mArgs \"${prefix!a}_%s.data.pkl\" % \"N{}_p{}\".format(int(\"${sample_size}\")*2, \"${_prevalence}\")\n",
      " cannot be determined: name 'prefix' is not defined\u001b[0m\n",
      "\u001b[94mDEBUG\u001b[0m: \u001b[94mArgs \"${_input!n}.blocks.pkl\"\n",
      " cannot be determined: name '_input' is not defined\u001b[0m\n",
      "\u001b[94mDEBUG\u001b[0m: \u001b[94mArgs \"${name}_%s.data.pkl\" % \"shape{}_scale{}_p{}_N{}_M{}_{}\".format(\"${_gamma[0]}\", \"${_gamma[1]}\", \"${_prevalence}\", int(\"${sample_size}\") * 2, \"${_n_causal_gene}\", \"${_seed}\")\n",
      " cannot be determined: name 'name' is not defined\u001b[0m\n",
      "\u001b[94mDEBUG\u001b[0m: \u001b[94mArgs \"${_input!n}.feather\"\n",
      " cannot be determined: name '_input' is not defined\u001b[0m\n",
      "\u001b[94mDEBUG\u001b[0m: \u001b[94mArgs \"${_input!nn}.varbvs.rds\"\n",
      " cannot be determined: name '_input' is not defined\u001b[0m\n",
      "\u001b[94mDEBUG\u001b[0m: \u001b[94mArgs \"${prefix!a}_%s.data.pkl\" % \"N{}_p{}\".format(int(\"${sample_size}\")*2, \"${_prevalence}\")\n",
      " cannot be determined: name 'prefix' is not defined\u001b[0m\n",
      "\u001b[94mDEBUG\u001b[0m: \u001b[94mArgs \"${_input!n}.blocks.pkl\"\n",
      " cannot be determined: name '_input' is not defined\u001b[0m\n",
      "\u001b[94mDEBUG\u001b[0m: \u001b[94mExecuting \u001b[0m\u001b[32mdap_1\u001b[0m\u001b[94m: \u001b[0m\n",
      "\u001b[94mDEBUG\u001b[0m: \u001b[94minput:    \u001b[0m\u001b[32m[]\u001b[0m\u001b[94m\u001b[0m\n",
      "\u001b[94mDEBUG\u001b[0m: \u001b[94mSet \u001b[0m\u001b[32m_shape\u001b[0m\u001b[94m = \u001b[0m\u001b[32m25\u001b[0m\u001b[94m\u001b[0m\n",
      "\u001b[94mDEBUG\u001b[0m: \u001b[94mSet \u001b[0m\u001b[32m_scale\u001b[0m\u001b[94m = \u001b[0m\u001b[32m1\u001b[0m\u001b[94m\u001b[0m\n",
      "\u001b[94mDEBUG\u001b[0m: \u001b[94mSet \u001b[0m\u001b[32m_prevalence\u001b[0m\u001b[94m = \u001b[0m\u001b[32m0.01\u001b[0m\u001b[94m\u001b[0m\n",
      "\u001b[94mDEBUG\u001b[0m: \u001b[94mSet \u001b[0m\u001b[32m_seed\u001b[0m\u001b[94m = \u001b[0m\u001b[32m12\u001b[0m\u001b[94m\u001b[0m\n",
      "\u001b[94mDEBUG\u001b[0m: \u001b[94moutput:   \u001b[0m\u001b[32m['/home/min/GIT/cnv-gene-mapping/analysis/data/calcium_pathway_N40_p0.01.data.pkl']\u001b[0m\u001b[94m\u001b[0m\n",
      "\u001b[94mDEBUG\u001b[0m: \u001b[94mExecuting \u001b[0m\u001b[32mdap_2\u001b[0m\u001b[94m: \u001b[0m\n",
      "\u001b[94mDEBUG\u001b[0m: \u001b[94minput:    \u001b[0m\u001b[32m['/home/min/GIT/cnv-gene-mapping/analysis/data/calcium_pathway_N40_p0.01.data.pkl']\u001b[0m\u001b[94m\u001b[0m\n",
      "\u001b[94mDEBUG\u001b[0m: \u001b[94moutput:   \u001b[0m\u001b[32m['/home/min/GIT/cnv-gene-mapping/analysis/data/calcium_pathway_N40_p0.01.data.blocks.pkl']\u001b[0m\u001b[94m\u001b[0m\n",
      "\u001b[94mDEBUG\u001b[0m: \u001b[94mWorkflow dap (ID=2e3a905248506a38) is executed successfully.\u001b[0m\n"
     ]
    }
   ],
   "source": [
    "%sosrun dap -J 1 -j 1 --sample_size 20 --seed 12 --shape 25 --prefix \"../analysis/data/calcium_pathway\" -v 3"
   ]
  },
  {
   "cell_type": "markdown",
   "metadata": {},
   "source": [
    "### Resume from simulated data\n",
    "Input are simulation results, output is blocked data: basically run `dap_2`"
   ]
  },
  {
   "cell_type": "code",
   "execution_count": 14,
   "metadata": {
    "collapsed": true,
    "kernel": "SoS"
   },
   "outputs": [],
   "source": [
    "[make_block]\n",
    "input: [\"../analysis/data/calcium_pathway_1000_shape_25.data.pkl\", \n",
    "        \"../analysis/data/calcium_pathway_500_shape_5.data.pkl\", \n",
    "        \"../analysis/data/calcium_pathway_500_shape_25.data.pkl\",\n",
    "        \"../analysis/data/calcium_pathway_4000_shape_25.data.pkl\", \n",
    "        \"../analysis/data/calcium_pathway_20_shape_5.data.pkl\"]\n",
    "sos_run('dap:2')"
   ]
  },
  {
   "cell_type": "code",
   "execution_count": 21,
   "metadata": {
    "kernel": "SoS"
   },
   "outputs": [
    {
     "data": {
      "text/html": [
       "<div class=\"sos_hint\">5 tasks completed: <a onclick=\"task_info('1bc1d63c09fe59af6e91130397ffb0e3', 'localhost')\">1bc1</a>, <a onclick=\"task_info('b13d7f23454c0dfb4a8ed61f893ac665', 'localhost')\">b13d</a>, ..., <a onclick=\"task_info('2cda0504888253b12958ca7e1332de73', 'localhost')\">2cda</a></div>"
      ]
     },
     "metadata": {},
     "output_type": "display_data"
    },
    {
     "name": "stdout",
     "output_type": "stream",
     "text": [
      "\n"
     ]
    }
   ],
   "source": [
    "%sosrun make_block -J 5"
   ]
  }
 ],
 "metadata": {
  "kernelspec": {
   "display_name": "SoS",
   "language": "sos",
   "name": "sos"
  },
  "language_info": {
   "codemirror_mode": "sos",
   "file_extension": ".sos",
   "mimetype": "text/x-sos",
   "name": "sos",
   "nbconvert_exporter": "sos.jupyter.converter.SoS_Exporter",
   "pygments_lexer": "sos"
  },
  "sos": {
   "celltoolbar": true,
   "default_kernel": "SoS",
   "kernels": [
    [
     "SoS",
     "sos",
     "",
     ""
    ],
    [
     "R",
     "ir",
     "R",
     "#FDEDEC"
    ],
    [
     "Python3",
     "python3",
     "Python3",
     "#EAFAF1"
    ]
   ],
   "panel": {
    "displayed": false,
    "height": 0,
    "style": "side"
   }
  }
 },
 "nbformat": 4,
 "nbformat_minor": 1
}
