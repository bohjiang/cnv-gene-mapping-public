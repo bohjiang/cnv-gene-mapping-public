{
 "cells": [
  {
   "cell_type": "markdown",
   "metadata": {},
   "source": [
    "# Pipeline on DAP for simulation results"
   ]
  },
  {
   "cell_type": "code",
   "execution_count": null,
   "metadata": {
    "collapsed": true
   },
   "outputs": [],
   "source": [
    "%set -J 4 -j 1\n",
    "%run dap\n",
    "\n",
    "[dap_1]\n",
    "depends: Py_Module(\"feather\"), Py_Module(\"pandas\"), Py_Module(\"\")"
   ]
  },
  {
   "cell_type": "code",
   "execution_count": null,
   "metadata": {
    "collapsed": true
   },
   "outputs": [],
   "source": [
    "[varbvs_1]\n",
    "depends: Py_Module(\"pandasql\"), Py_Module('fisher'), Py_Module('plotly')\n",
    "parameter: sample_size = 2000\n",
    "parameter: seed = [12]\n",
    "parameter: prevalence = [0.01]\n",
    "parameter: gamma = [(3,1), (5,1), (9,1)]\n",
    "parameter: n_causal_gene = [100, 200]\n",
    "parameter: name = 'data/del_sim'\n",
    "input: for_each = ['gamma', 'prevalence', 'n_causal_gene', 'seed']\n",
    "output: \"${name}_%s.data.pkl\" % \"shape{}_scale{}_p{}_N{}_M{}_{}\".format(\"${_gamma[0]}\", \"${_gamma[1]}\", \"${_prevalence}\", int(\"${sample_size}\") * 2, \"${_n_causal_gene}\", \"${_seed}\")\n",
    "task:\n",
    "python:\n",
    "import sys, os\n",
    "sys.path.append(os.getcwd())\n",
    "from simulation import Environment, run_simulation \n",
    "args = Environment()\n",
    "args['odds_ratio_params']['shape'] = ${_gamma[0]}\n",
    "args['odds_ratio_params']['scale'] = ${_gamma[1]}\n",
    "args['prevalence'] = ${_prevalence}\n",
    "args['n_case'] = args['n_ctrl'] = ${sample_size}\n",
    "args['n_causal_gene'] = ${_n_causal_gene}\n",
    "args['output'] = ${name!r}\n",
    "args.seed = ${_seed}\n",
    "run_simulation(args, \"shape{}_scale{}_p{}_N{}_M{}_{}\".format(${_gamma[0]}, ${_gamma[1]}, ${_prevalence}, ${sample_size} * 2, ${_n_causal_gene}, ${_seed}))"
   ]
  },
  {
   "cell_type": "code",
   "execution_count": null,
   "metadata": {
    "collapsed": true
   },
   "outputs": [],
   "source": [
    "[varbvs_3]\n",
    "depends: R_library(\"varbvs\"), R_library(\"feather\")\n",
    "input: group_by = \"single\"\n",
    "output: \"${_input!nn}.varbvs.rds\"\n",
    "task:\n",
    "R:\n",
    "dat = as.matrix(feather::read_feather(${_input!r}))\n",
    "# FIXME: need to check if the usage is correct\n",
    "fit = varbvs::varbvs(dat[,-1], NULL, dat[,1], family = \"binomial\", logodds = seq(-3.5,-1,0.1), sa = 1, verbose = F)\n",
    "fit$summary = summary(fit)\n",
    "fit$w = varbvs::normalizelogweights(fit$logw)\n",
    "fit$pip = fit$alpha %*% c(fit$w)\n",
    "fit$beta = fit$mu %*% c(fit$w)\n",
    "fit$var_names = colnames(dat[-1])\n",
    "saveRDS(fit, ${_output!r})"
   ]
  }
 ],
 "metadata": {
  "kernelspec": {
   "display_name": "SoS",
   "language": "sos",
   "name": "sos"
  },
  "language_info": {
   "codemirror_mode": "sos",
   "file_extension": ".sos",
   "mimetype": "text/x-sos",
   "name": "sos",
   "nbconvert_exporter": "sos.jupyter.converter.SoS_Exporter",
   "pygments_lexer": "sos"
  },
  "sos": {
   "kernels": [
    [
     "Python3",
     "python3",
     "Python3",
     "#EAFAF1"
    ],
    [
     "SoS",
     "sos",
     "",
     ""
    ],
    [
     "R",
     "ir",
     "R",
     "#FDEDEC"
    ]
   ],
   "panel": {
    "displayed": false,
    "height": 0,
    "style": "side"
   }
  }
 },
 "nbformat": 4,
 "nbformat_minor": 2
}
