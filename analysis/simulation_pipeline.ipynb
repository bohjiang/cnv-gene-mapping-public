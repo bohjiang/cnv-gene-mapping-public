{
 "cells": [
  {
   "cell_type": "markdown",
   "metadata": {
    "deletable": true,
    "editable": true
   },
   "source": [
    "# Simulation pipeline"
   ]
  },
  {
   "cell_type": "markdown",
   "metadata": {
    "deletable": true,
    "editable": true,
    "output_cache": "[]"
   },
   "source": [
    "This is the pipeline versions of simulation and data analysis of gene-based CNV analysis methods.\n",
    "## Large scale Bayesian variable selection\n",
    "This pipeline implements simulation and data analysis using Carbonetto & Stephens 2012."
   ]
  },
  {
   "cell_type": "code",
   "execution_count": null,
   "metadata": {
    "collapsed": false,
    "deletable": true,
    "editable": true,
    "kernel": "sos",
    "output_cache": "[]"
   },
   "outputs": [],
   "source": [
    "%set -j 4\n",
    "%run varbvs\n",
    "[varbvs_1]\n",
    "depends: Py_Module(\"pandasql\"), Py_Module('fisher'), Py_Module('plotly')\n",
    "parameter: gamma = [(None, None), (3,1), (5,1)]\n",
    "parameter: sample_size = [50, 100, 500]\n",
    "parameter: n_causal_gene = [50, 100]\n",
    "parameter: seed = [999]\n",
    "parameter: name = 'data/del_sim'\n",
    "input: for_each = ['gamma', 'sample_size', 'n_causal_gene', 'seed']\n",
    "output: \"${name}_%s.pkl\" % \"scale{}_shape{}_N{}_M{}_{}\".format(\"${_gamma[0]}\", \"${_gamma[1]}\", int(\"${_sample_size}\") * 2, \"${_n_causal_gene}\", \"${_seed}\")\n",
    "task:\n",
    "python:\n",
    "import sys, os\n",
    "sys.path.append(os.getcwd())\n",
    "from simulation import Environment, run_simulation \n",
    "args = Environment()\n",
    "args['odds_ratio_params']['shape'] = ${_gamma[0]}\n",
    "args['odds_ratio_params']['scale'] = ${_gamma[1]}\n",
    "args['n_case'] = args['n_ctrl'] = ${_sample_size}\n",
    "args['n_causal_gene'] = ${_n_causal_gene}\n",
    "args['output'] = ${name!r}\n",
    "args.seed = ${_seed}\n",
    "run_simulation(args, \"scale{}_shape{}_N{}_M{}_{}\".format(${_gamma[0]}, ${_gamma[1]}, ${_sample_size} * 2, ${_n_causal_gene}, ${_seed}))\n",
    "\n",
    "[varbvs_2]\n",
    "depends: Py_Module(\"feather-format\")\n",
    "input: group_by = 'single'\n",
    "output: \"${_input!n}.feather\"\n",
    "task:\n",
    "python:\n",
    "import sys, os\n",
    "sys.path.append(os.getcwd())\n",
    "import pickle, feather\n",
    "import pandas as pd\n",
    "import numpy as np\n",
    "from simulation import Environment, load_reference_gene \n",
    "args = Environment()\n",
    "#\n",
    "dat = pickle.load(open(${_input!r}, \"rb\"))\n",
    "ref = load_reference_gene(args[\"refgene_file\"])\n",
    "# create regression data\n",
    "genes = pd.Series(list(set(ref['gene_name'])))\n",
    "regression_data = np.array([np.array(genes.isin(item[\"gene_name\"]), dtype = float) for item in dat['case'] + dat['ctrl']])\n",
    "regression_data = np.hstack((np.matrix([1] * len(dat['case']) + [0] * len(dat['ctrl'])).T, regression_data))\n",
    "mask = ~np.ravel((regression_data==0).all(0))\n",
    "regression_data = regression_data[:,mask]\n",
    "# save to disk\n",
    "feather.write_dataframe(pd.DataFrame(regression_data, columns = ['phenotype'] + genes[mask[1:]].tolist()), ${_output!r})\n",
    "\n",
    "[varbvs_3]\n",
    "depends: R_library(\"varbvs\"), R_library(\"feather\")\n",
    "input: group_by = \"single\"\n",
    "output: \"${_input!n}.varbvs.rds\"\n",
    "task:\n",
    "R:\n",
    "dat = as.matrix(feather::read_feather(${_input!r}))\n",
    "# FIXME: need to check if the usage is correct\n",
    "fit = varbvs::varbvs(dat[,-1], NULL, dat[,1], family = \"binomial\", logodds = seq(-3.5,-1,0.1), sa = 1, verbose = F)\n",
    "fit$summary = summary(fit)\n",
    "fit$w = varbvs::normalizelogweights(fit$logw)\n",
    "fit$pip = fit$alpha %*% c(fit$w)\n",
    "fit$beta = fit$mu %*% c(fit$w)\n",
    "fit$var_names = colnames(dat[-1])\n",
    "saveRDS(fit, ${_output!r})"
   ]
  }
 ],
 "metadata": {
  "kernelspec": {
   "display_name": "SoS",
   "language": "sos",
   "name": "sos"
  },
  "language_info": {
   "codemirror_mode": "sos",
   "file_extension": ".sos",
   "mimetype": "text/x-sos",
   "name": "sos",
   "nbconvert_exporter": "sos.jupyter.converter.SoS_Exporter",
   "pygments_lexer": "sos"
  },
  "sos": {
   "celltoolbar": true,
   "kernels": [
    [
     "sos",
     "SoS",
     ""
    ],
    [
     "python3",
     "Python3",
     "#EAFAF1"
    ],
    [
     "ir",
     "R",
     "#FDEDEC"
    ]
   ],
   "panel": {
    "displayed": true,
    "height": 0,
    "style": "side"
   }
  }
 },
 "nbformat": 4,
 "nbformat_minor": 0
}
