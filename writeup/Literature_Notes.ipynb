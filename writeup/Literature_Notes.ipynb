{
 "cells": [
  {
   "cell_type": "markdown",
   "metadata": {
    "kernel": "SoS"
   },
   "source": [
    "# Literature notes"
   ]
  },
  {
   "cell_type": "markdown",
   "metadata": {
    "kernel": "SoS"
   },
   "source": [
    "## Pinto 2014 AJHG\n",
    "\n",
    "### Copy-number variations (CNVs)\n",
    "A form of structural variation; it is a type of duplication or deletion event that affects a considerable number of base pairs, resulting in the cell having an abnormal number of copies of one or more sections of the DNA.\n",
    "\n",
    "De novo CNVs: CNVs present for the first time in a family member as a result of a mutation in a germ cell of one of the parents or in the fertilized egg; significantly enriched in autism patients comparing with their unaffected siblings; highly deleterious; signifiant role for early-onset/developmental diseases.\n",
    "\n",
    "Large CNVs are rare; many rare CNVs (<1% frequency) result from de novo mutations. CNVs > 20kb are easier to detect and studied more extensively.\n",
    "\n",
    "### Autism spectrum disorders (ASDs)\n",
    "Affects ~1% of the population\n",
    "\n",
    "Highly heritable\n",
    "\n",
    "ASD risk: chromosome abnormalities, CNVs, SNVs\n",
    "\n",
    "### Subjects of the study\n",
    "2446 ASD individuals and their parents (2147 European and 299 other ancestries), along with 2640 unrelated controls, restricted to European ancestry.\n",
    "\n",
    "### Aim/goal\n",
    "apply a series of approaches to characterize candidate ASD-associated genes disrupted by CNVs, and to identify the biological relationships and common pathways they share.\n",
    "\n",
    "### Data/CNV analysis\n",
    "Perform genotyping, data cleaning and quality control to ensure that CNV ascertainment was consistent among the affected, parents and controls.\n",
    "\n",
    "Use analytical pipeline of Illumina 1M arrays and quality control filters to detect CNVs.\n",
    "\n",
    "Use PLINK, R stats to analyze CNVs for case-control differences.\n",
    "\n",
    "### One/multiple-gene-hit burden analysis\n",
    "One-gene-hit: Fisher's exact test.\n",
    "\n",
    "Multiple-gene-hit: fit logit models to the data; log odds of case status was fit to predictor variables.\n",
    "\n",
    "### Results\n",
    "#### Excess burden of rare and de novo CNVs\n",
    "ASD subjects had a 1.41-fold increase burden in the number of genes affected by rare CNVs, compared to control subjects. The enrichment was apparent for both deletions and duplications (Table 1).\n",
    "\n",
    "102 rare de novo CNVs were found in 99 affected subjects. 4.7% of trios had at least one de novo CNV.\n",
    "\n",
    "Average length of de novo events in affected subjects was larger than that of unaffected siblings (1.17 Mb vs 0.67 Mb).\n",
    "\n",
    "De novo CNVs affected 3.8-fold more genes in affected subjects than in controls.\n",
    "\n",
    "#### CNV burden in autosomal-dominant or X-linked genes implicated in ASD/ID\n",
    "4% (87/2147) ASD affected subjects had CNVs overlapping autosomal-dominant or X-linked genes/loci implicated in ASD/ID, which is significantly higher than controls, OR=4.09 (Figure 1A).\n",
    "\n",
    "These CNVs are classified into three categories: pathogenic (60/87), accounting for 2.8% (60/2147) of affected subjects, benign and uncertain (Figure 1B). Among the 60 affected with pathogenic CNVs, 63% (38/60) carried de novo events.\n",
    "\n",
    "When considering chromosome abnormalities (>7.5 Mb), large rare de novo events validated small CNVs (<30 kb), Pathogenic CNVs were identified in ~3.3% of individuals with unexplained ASD (84/2446) (Figure 2A). 64% of pathogenic CNVs were de novo events (54/84, 59% deletions and 41% duplications), and the remaining 36% (30/84) were inherited, with 7 X-linked and 23 on autosomes (Figure 2C).\n",
    "\n",
    "The proportion of females was significantly increased among carriers of highly penetrant pathogenic CNVs (male-to-female ratio of 2:1 versus 6:1 among all affected subjects) (Figure 2E).\n",
    "\n",
    "#### Increased multigene burden in ASD-affected subjects\n",
    "ASD risk was found increased as the numbers of deleted brain-expressed genes increased (Figure 3C).\n",
    "\n",
    "#### De novo CNVs and Loss-of-Function SNVs converge on functional gene networks\n",
    "By expanding the analyses to genes altered by both de novo CNVs and de novo LoF SNVs, 11 genes affcted by de novo CNVs were also found to be altered by de novo LoF SNVs among autism cohorts."
   ]
  },
  {
   "cell_type": "markdown",
   "metadata": {
    "kernel": "SoS"
   },
   "source": [
    "## Girirajan ARG 2011\n",
    "\n",
    "Human Copy Number Variation and Complex Genetic Disease"
   ]
  }
 ],
 "metadata": {
  "kernelspec": {
   "display_name": "SoS",
   "language": "sos",
   "name": "sos"
  },
  "language_info": {
   "codemirror_mode": "sos",
   "file_extension": ".sos",
   "mimetype": "text/x-sos",
   "name": "sos",
   "nbconvert_exporter": "sos_notebook.converter.SoS_Exporter",
   "pygments_lexer": "sos"
  },
  "sos": {
   "kernels": [
    [
     "R",
     "ir",
     "R",
     "#FDEDEC"
    ],
    [
     "Python3",
     "python3",
     "Python3",
     "#EAFAF1"
    ],
    [
     "SoS",
     "sos",
     "",
     ""
    ]
   ],
   "panel": {
    "displayed": true,
    "height": 0,
    "style": "side"
   }
  }
 },
 "nbformat": 4,
 "nbformat_minor": 2
}
