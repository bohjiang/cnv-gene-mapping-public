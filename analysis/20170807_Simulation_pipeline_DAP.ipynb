{
 "cells": [
  {
   "cell_type": "markdown",
   "metadata": {},
   "source": [
    "# Pipeline on DAP for simulation results"
   ]
  },
  {
   "cell_type": "markdown",
   "metadata": {},
   "source": [
    "#### Specifically for calcium pathway simulation"
   ]
  },
  {
   "cell_type": "code",
   "execution_count": 1,
   "metadata": {
    "kernel": "SoS"
   },
   "outputs": [
    {
     "name": "stdout",
     "output_type": "stream",
     "text": [
      "Set sos options to \"-J 1 -j 2\"\n"
     ]
    },
    {
     "data": {
      "text/html": [
       "<table id=\"table_localhost_fcf69a1cd086731cad449eb56af1bfa1\" style=\"border: 0px\"><tr style=\"border: 0px\">\n",
       "                        <td style=\"border: 0px\">\n",
       "                        <i id=\"status_localhost_fcf69a1cd086731cad449eb56af1bfa1\"\n",
       "                            class=\"fa fa-2x fa-fw fa-square-o\"\n",
       "                            onmouseover=\"$('#status_localhost_fcf69a1cd086731cad449eb56af1bfa1').addClass('fa-stop').removeClass('fa-square-o')\"\n",
       "                            onmouseleave=\"$('#status_localhost_fcf69a1cd086731cad449eb56af1bfa1').addClass('fa-square-o').removeClass('fa-stop')\"\n",
       "                            onclick=\"kill_task('fcf69a1cd086731cad449eb56af1bfa1', 'localhost')\"\n",
       "                        ></i> </td>\n",
       "                        <td style=\"border:0px\"><a onclick=\"task_info('fcf69a1cd086731cad449eb56af1bfa1', 'localhost')\"><pre>fcf69a1cd086731cad449eb56af1bfa1</pre></a></td>\n",
       "                        <td style=\"border:0px\">&nbsp;</td>\n",
       "                        <td style=\"border:0px;text-align=right;\">\n",
       "                        <pre><time id=\"duration_localhost_fcf69a1cd086731cad449eb56af1bfa1\" datetime=\"1502298080245.5073\">0 sec</time></pre></td>\n",
       "                        </tr>\n",
       "                        </table>"
      ]
     },
     "metadata": {},
     "output_type": "display_data"
    }
   ],
   "source": [
    "%set -J 1 -j 2\n",
    "%run dap\n",
    "[dap_1]\n",
    "depends: Py_Module(\"pandasql\"), Py_Module('fisher'), Py_Module('plotly')\n",
    "parameter: sample_size = 2000\n",
    "parameter: seed = [999]\n",
    "parameter: prevalence = [0.01]\n",
    "parameter: gamma = [(5,1)]\n",
    "parameter: name = \"data/calcium_pathway_sos\"\n",
    "input: for_each = [\"gamma\", \"prevalence\", \"seed\"]\n",
    "output: \"${name}_%s.data.pkl\" % \"N{}_p{}\".format(int(\"${sample_size}\")*2, \"${_prevalence}\")\n",
    "task:\n",
    "python:\n",
    "import sys, os\n",
    "sys.path.append(os.getcwd())\n",
    "from Simulation_calcium import Environment, run_simulation\n",
    "args = Environment()\n",
    "args['odds_ratio_params']['shape'] = ${_gamma[0]}\n",
    "args['odds_ratio_params']['scale'] = ${_gamma[1]}\n",
    "args['prevalence'] = ${_prevalence}\n",
    "args['n_case'] = args['n_ctrl'] = ${sample_size}\n",
    "args['output'] = ${name!r}\n",
    "args.seed = ${_seed}\n",
    "run_simulation(args, \"N{}_p{}\".format(${sample_size} * 2, ${_prevalence}))\n",
    "\n",
    "[dap_2]\n",
    "depends: Py_Module(\"feather-format\")\n",
    "input: group_by = 'single'\n",
    "output: \"${_input!n}.feather\"\n",
    "task:\n",
    "python:\n",
    "import sys, os\n",
    "sys.path.append(os.getcwd())\n",
    "import pickle, feather\n",
    "import pandas as pd\n",
    "import numpy as np\n",
    "from Simulation_calcium import Environment, load_reference_gene \n",
    "args = Environment()\n",
    "dat = pickle.load(open(${_input!r}, \"rb\"))\n",
    "ref = load_reference_gene(args[\"refgene_file\"])\n",
    "# create regression data\n",
    "genes = pd.Series(list(set(ref['gene_name'])))\n",
    "regression_data = np.array([np.array(genes.isin(item[\"gene_name\"]), dtype = float) for item in dat['case'] + dat['ctrl']])\n",
    "regression_data = np.hstack((np.matrix([1] * len(dat['case']) + [0] * len(dat['ctrl'])).T, regression_data))\n",
    "mask = ~np.ravel((regression_data==0).all(0))\n",
    "regression_data = regression_data[:,mask]\n",
    "# save to disk\n",
    "feather.write_dataframe(pd.DataFrame(regression_data, columns = ['phenotype'] + genes[mask[1:]].tolist()), ${_output!r})\n",
    "\n",
    "[dap_3]\n",
    "depends: \n",
    "input: \n",
    "output: \n",
    "task:\n",
    "python:\n"
   ]
  },
  {
   "cell_type": "code",
   "execution_count": null,
   "metadata": {
    "collapsed": true
   },
   "outputs": [],
   "source": [
    "[varbvs_1]\n",
    "depends: Py_Module(\"pandasql\"), Py_Module('fisher'), Py_Module('plotly')\n",
    "parameter: sample_size = 2000\n",
    "parameter: seed = [12]\n",
    "parameter: prevalence = [0.01]\n",
    "parameter: gamma = [(3,1), (5,1), (9,1)]\n",
    "parameter: n_causal_gene = [100, 200]\n",
    "parameter: name = 'data/del_sim'\n",
    "input: for_each = ['gamma', 'prevalence', 'n_causal_gene', 'seed']\n",
    "output: \"${name}_%s.data.pkl\" % \"shape{}_scale{}_p{}_N{}_M{}_{}\".format(\"${_gamma[0]}\", \"${_gamma[1]}\", \"${_prevalence}\", int(\"${sample_size}\") * 2, \"${_n_causal_gene}\", \"${_seed}\")\n",
    "task:\n",
    "python:\n",
    "import sys, os\n",
    "sys.path.append(os.getcwd())\n",
    "from simulation import Environment, run_simulation\n",
    "args = Environment()\n",
    "args['odds_ratio_params']['shape'] = ${_gamma[0]}\n",
    "args['odds_ratio_params']['scale'] = ${_gamma[1]}\n",
    "args['prevalence'] = ${_prevalence}\n",
    "args['n_case'] = args['n_ctrl'] = ${sample_size}\n",
    "args['n_causal_gene'] = ${_n_causal_gene}\n",
    "args['output'] = ${name!r}\n",
    "args.seed = ${_seed}\n",
    "run_simulation(args, \"shape{}_scale{}_p{}_N{}_M{}_{}\".format(${_gamma[0]}, ${_gamma[1]}, ${_prevalence}, ${sample_size} * 2, ${_n_causal_gene}, ${_seed}))"
   ]
  }
 ],
 "metadata": {
  "kernelspec": {
   "display_name": "SoS",
   "language": "sos",
   "name": "sos"
  },
  "language_info": {
   "codemirror_mode": "sos",
   "file_extension": ".sos",
   "mimetype": "text/x-sos",
   "name": "sos",
   "nbconvert_exporter": "sos.jupyter.converter.SoS_Exporter",
   "pygments_lexer": "sos"
  },
  "sos": {
   "kernels": [
    [
     "SoS",
     "sos",
     "",
     ""
    ],
    [
     "Python3",
     "python3",
     "Python3",
     "#EAFAF1"
    ],
    [
     "R",
     "ir",
     "R",
     "#FDEDEC"
    ]
   ],
   "panel": {
    "displayed": false,
    "height": 0,
    "style": "side"
   }
  }
 },
 "nbformat": 4,
 "nbformat_minor": 2
}
