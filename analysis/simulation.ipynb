{
 "cells": [
  {
   "cell_type": "markdown",
   "metadata": {
    "collapsed": true
   },
   "source": [
    "# Simulation of Exome-wide CNV data for case control samples\n",
    "\n",
    "## Simulation outline\n",
    "For given type of CNV (e.g. duplication) we first simulate all the variants across exome, \n",
    "then assign these simulated CNVs to genes. For case samples we expect an enrichment in causal\n",
    "genes and the enrichment should be quantified by relative risk of a CNV's contribution to disease\n",
    "when presented in causal gene vs. non causal gene.\n",
    "\n",
    "## Parameters\n",
    "We define causal CNV as CNV in causal gene, and denote it as CCNV. Likewise we have NCNV for non-causal CNV.\n",
    "\n",
    "| Parameter | Description | Value|\n",
    "|:-----:|:-----:|:-----:|\n",
    "|$\\lambda$|Average number of CNV per exome| 100 for dup, 20 for del (*FIXME: reference required*)|\n",
    "|$p_L$|Parameter for Geometric distribution that models length of CNV|To be fitted from data|\n",
    "|$\\gamma$| Odds ratio of CCNV|To draw from distribution Gamma(5, 1)|\n",
    "|$p_0$| Pr(case &#124; NCNV)| To be calculated below|\n",
    "|$p_1$| Pr(case &#124; CCNV)| To be calculated from $p_0$ and $\\gamma$|\n",
    "|$N_0, N_1$| Case / Ctrl sample size|Various numbers|\n",
    "|$q$| Proportion of causal gene|(*FIXME: reference required*)|\n",
    "|$k$| The prevalence of disease|(*FIXME: reference required*)|"
   ]
  },
  {
   "cell_type": "markdown",
   "metadata": {},
   "source": [
    "## Simulation steps\n",
    "The steps below simulates exome data for single individual case or control for one type of CNV. \n",
    "\n",
    "### Step 1: Simulate number of CNV per exome\n",
    "Simply drawn from Pois($\\lambda$)\n",
    "\n",
    "### Step 2: Get the length of each of these CNV simulated\n",
    "First, separate genome to 10K blocks and find how many CNV overlap (for real data), draw histogram and create a table. Define any block containing 2 or more CNVs as a hotspot.\n",
    "\n",
    "Second, mimic the distribution of the length of CNV: fit a mixture of geometric, a prop is long tail, a prop is short and a prop is normal.\n",
    "\n",
    "Finally for each CNV, draw the length of it from the distribution obtained, and set the start point according to the histogram of CNV start point among 10K blocks, and set the length according to mixed geometric.\n",
    "\n",
    "### Step 3: Get the probability of a sample being case give all CNVs\n",
    "Suppose $p$ is baseline probability of the disease (prevalence), and $r_0$ is the baseline odds $\\frac{p}{1-p}$.\n",
    "\n",
    "Given simulated CNVs in a sample, the probability for the sample to be case is $p_1$, then the odds ratio for case is $r_1 = r_0 \\times R = \\frac{p_1}{1-p_1}$, $R$ is the combined relative risks of the all CNVs involved in a sample. Each $R_i$ for causal CNVs is to be sampled from Gamma(1,5), $R = \\prod_{i=1}^{\\#CNV} R_i$. For noncausal CNV, the $R_i$ is 1. Then $P(case|all CNV) = p_1 = \\frac{r_0*R}{1+r_0*R}$, and $P(ctrl|all CNV) = 1-p_1$.\n",
    "\n",
    "Since $p_1$ is small, about $\\frac{1}{p} * n$ trials are to be simulated in order to obtain $n$ cases. However, $n$ controls are easy to obtain.\n",
    "\n",
    "### Step 4: Check if CNVs overlap with causal gene\n",
    "Causal/noncausal gene positions are supposed to be determined by literature. But we can simulate randomly for starters."
   ]
  },
  {
   "cell_type": "markdown",
   "metadata": {},
   "source": [
    "## Implementation"
   ]
  },
  {
   "cell_type": "code",
   "execution_count": 1,
   "metadata": {
    "collapsed": false
   },
   "outputs": [],
   "source": [
    "import random\n",
    "import pandas as pd\n",
    "from pandasql import sqldf\n",
    "import numpy as np\n",
    "import matplotlib.pyplot as plt\n",
    "import seaborn as sns\n",
    "from scipy import stats\n",
    "import math\n",
    "%matplotlib inline"
   ]
  },
  {
   "cell_type": "code",
   "execution_count": 2,
   "metadata": {
    "collapsed": false
   },
   "outputs": [],
   "source": [
    "ref_gene = pd.read_table(\"data/refGene.txt.gz\", compression=\"gzip\", sep=\"\\t\", \n",
    "                         header = None, usecols=(1,2,4,5,12), \n",
    "                         names = [\"tx_name\", \"chrom\", \"tx_start\", \"tx_end\", \"gene_name\"])\n",
    "#gene_df = ref_gene.drop_duplicates(subset=(\"chrom\", \"tx_start\", \"tx_end\", \"gene_name\"))\n",
    "gene_df = ref_gene.drop_duplicates(subset=(\"chrom\", \"tx_start\", \"tx_end\"))\n",
    "query = '''\n",
    "select chrom, gene_name, min(tx_start), max(tx_end)\n",
    "from gene_df\n",
    "group by chrom, gene_name\n",
    "'''\n",
    "gene_table = sqldf(query)\n",
    "#print (gene_table)"
   ]
  },
  {
   "cell_type": "markdown",
   "metadata": {},
   "source": [
    "## Step 1 & 2"
   ]
  },
  {
   "cell_type": "code",
   "execution_count": 6,
   "metadata": {
    "collapsed": false
   },
   "outputs": [
    {
     "name": "stdout",
     "output_type": "stream",
     "text": [
      "{'dupControls':       chrom    cnv_end  cnv_start\n",
      "0      chr4     192796      55677\n",
      "1      chr4     190632      58821\n",
      "2      chr4     192796      58821\n",
      "3      chr4     240067     110944\n",
      "4      chr4     250808     133439\n",
      "5      chr4     302482     200096\n",
      "6      chr4     380687     256863\n",
      "7      chr4    3225269    2943461\n",
      "8      chr4    4972110    4627826\n",
      "9      chr4    7871489    7340508\n",
      "10     chr4    7871489    7340508\n",
      "11     chr4    9133247    8842614\n",
      "12     chr4    9147528    9046959\n",
      "13     chr4    9147528    9046959\n",
      "14     chr4    9162357    9046959\n",
      "15     chr4    9177664    9046959\n",
      "16     chr4    9168219    9048572\n",
      "17     chr4    9171010    9048572\n",
      "18     chr4    9174136    9048572\n",
      "19     chr4    9310260    9162356\n",
      "20     chr4    9326868    9223591\n",
      "21     chr4   22479717   22268861\n",
      "22     chr4   22689901   22542427\n",
      "23     chr4   33876324   33562102\n",
      "24     chr4   40620897   40512226\n",
      "25     chr4   40621293   40512226\n",
      "26     chr4   40621293   40519602\n",
      "27     chr4   43061614   42660686\n",
      "28     chr4   47747776   47328868\n",
      "29     chr4   49420535   48954984\n",
      "...     ...        ...        ...\n",
      "1843  chr11   63808017   63641029\n",
      "1844  chr11   64137868   63953600\n",
      "1845  chr11   64555625   64404625\n",
      "1846  chr11   65343086   65207596\n",
      "1847  chr11   67505899   67229481\n",
      "1848  chr11   67505899   67229481\n",
      "1849  chr11   67505899   67232177\n",
      "1850  chr11   67505822   67232201\n",
      "1851  chr11   67505899   67258202\n",
      "1852  chr11   67505899   67258202\n",
      "1853  chr11   67488891   67267202\n",
      "1854  chr11   67505899   67273413\n",
      "1855  chr11   71252943   71004601\n",
      "1856  chr11   71252943   71012031\n",
      "1857  chr11   84898422   84793776\n",
      "1858  chr11   92385453   92234331\n",
      "1859  chr11   99851558   95784982\n",
      "1860  chr11  107463032  107046147\n",
      "1861  chr11  107368941  107047029\n",
      "1862  chr11  113291750  113039585\n",
      "1863  chr11  117458899  117346037\n",
      "1864  chr11  120490210  120145290\n",
      "1865  chr11  122194854  122038669\n",
      "1866  chr11  123088827  122871569\n",
      "1867  chr11  129371864  129194999\n",
      "1868  chr11  131103920  130068459\n",
      "1869  chr11  132206155  130150716\n",
      "1870  chr11  134074153  133631822\n",
      "1871  chr11  133924158  133760600\n",
      "1872  chr11  134357489  134216179\n",
      "\n",
      "[1873 rows x 3 columns], 'delControls':       chrom    cnv_end  cnv_start\n",
      "0      chr4     220238      77113\n",
      "1      chr4    4240901    3934713\n",
      "2      chr4    9147528    9046959\n",
      "3      chr4    9162357    9046959\n",
      "4      chr4    9174185    9046959\n",
      "5      chr4    9174185    9048572\n",
      "6      chr4    9174185    9048572\n",
      "7      chr4    9174185    9048572\n",
      "8      chr4    9177664    9048572\n",
      "9      chr4    9174136    9052835\n",
      "10     chr4    9162357    9057460\n",
      "11     chr4   11948682   11838297\n",
      "12     chr4   11948682   11841929\n",
      "13     chr4   12783628   12580799\n",
      "14     chr4   18892765   18776398\n",
      "15     chr4   35266905   35166442\n",
      "16     chr4   56543228   56332815\n",
      "17     chr4   58690124   58544547\n",
      "18     chr4   58691860   58544547\n",
      "19     chr4   64122614   63951115\n",
      "20     chr4   64122614   63951115\n",
      "21     chr4   65745197   65561686\n",
      "22     chr4   65745197   65561686\n",
      "23     chr4   69318484   69021137\n",
      "24     chr4   69702177   69203707\n",
      "25     chr4   69702177   69203707\n",
      "26     chr4   69702177   69203707\n",
      "27     chr4   69702177   69203707\n",
      "28     chr4   69702177   69203707\n",
      "29     chr4   69724268   69203707\n",
      "...     ...        ...        ...\n",
      "1248  chr11   48931205   48335526\n",
      "1249  chr11   48622613   48337480\n",
      "1250  chr11   48690754   48358731\n",
      "1251  chr11   48924604   48358731\n",
      "1252  chr11   48763985   48358889\n",
      "1253  chr11   48527010   48386976\n",
      "1254  chr11   48849796   48747676\n",
      "1255  chr11   48849796   48747676\n",
      "1256  chr11   48849796   48747676\n",
      "1257  chr11   48849796   48747676\n",
      "1258  chr11   48849796   48747676\n",
      "1259  chr11   60384160   60282828\n",
      "1260  chr11   65105808   64875573\n",
      "1261  chr11   67505899   67247590\n",
      "1262  chr11   67488891   67263973\n",
      "1263  chr11   67488891   67263973\n",
      "1264  chr11   67505899   67267202\n",
      "1265  chr11   67488533   67268917\n",
      "1266  chr11   67488766   67268917\n",
      "1267  chr11   79777811   79604531\n",
      "1268  chr11   82124217   81811881\n",
      "1269  chr11   83952350   83687877\n",
      "1270  chr11   89299217   89097352\n",
      "1271  chr11   89913100   89693979\n",
      "1272  chr11   97048013   96918354\n",
      "1273  chr11   97061600   96928700\n",
      "1274  chr11   97858766   97224044\n",
      "1275  chr11   97615092   97336453\n",
      "1276  chr11  134449983  132212647\n",
      "1277  chr11  134314301  134167737\n",
      "\n",
      "[1278 rows x 3 columns], 'dupCases':       chrom    cnv_end  cnv_start\n",
      "0      chr4     111563       2116\n",
      "1      chr4     111563       6428\n",
      "2      chr4     141233       6428\n",
      "3      chr4     207972       6428\n",
      "4      chr4     173518      26855\n",
      "5      chr4     207972      48827\n",
      "6      chr4    4285206    4045997\n",
      "7      chr4    5812277    5643778\n",
      "8      chr4    7957994    7357403\n",
      "9      chr4    7871489    7613999\n",
      "10     chr4    8113746    7993652\n",
      "11     chr4    8561190    8415398\n",
      "12     chr4    9162357    9046959\n",
      "13     chr4    9162222    9048572\n",
      "14     chr4    9168219    9048572\n",
      "15     chr4    9171010    9048572\n",
      "16     chr4    9503140    9197126\n",
      "17     chr4    9508574    9220415\n",
      "18     chr4   10066985    9661275\n",
      "19     chr4   10358658   10078987\n",
      "20     chr4   11103073   10382691\n",
      "21     chr4   11978183   11796129\n",
      "22     chr4   12351659   12053862\n",
      "23     chr4   22695018   22542427\n",
      "24     chr4   28573504   28393800\n",
      "25     chr4   33876324   33577983\n",
      "26     chr4   37584918   37397276\n",
      "27     chr4   40057340   39521590\n",
      "28     chr4   39937505   39594100\n",
      "29     chr4   47747776   47328868\n",
      "...     ...        ...        ...\n",
      "2198  chr11   69644131   69521535\n",
      "2199  chr11   70141466   69804033\n",
      "2200  chr11   70269882   70141465\n",
      "2201  chr11   72225335   72061419\n",
      "2202  chr11   77108365   76961696\n",
      "2203  chr11   77108365   76961696\n",
      "2204  chr11   85042205   84304683\n",
      "2205  chr11   85465059   85142570\n",
      "2206  chr11   87354718   87201391\n",
      "2207  chr11   89098558   88988300\n",
      "2208  chr11   89138011   89015605\n",
      "2209  chr11   96106467   95950843\n",
      "2210  chr11  104792504  103542068\n",
      "2211  chr11  107451795  107022117\n",
      "2212  chr11  114682575  114570503\n",
      "2213  chr11  118566821  118321366\n",
      "2214  chr11  119101983  118863632\n",
      "2215  chr11  119047766  118915906\n",
      "2216  chr11  128790554  128603323\n",
      "2217  chr11  132771542  132329581\n",
      "2218  chr11  134449983  134161618\n",
      "2219  chr11  134449983  134258768\n",
      "2220  chr11  134449983  134258768\n",
      "2221  chr11  134449983  134268514\n",
      "2222  chr11  134449983  134284092\n",
      "2223  chr11  134449983  134291361\n",
      "2224  chr11  134449983  134313007\n",
      "2225  chr11  134449983  134338994\n",
      "2226  chr11  134449983  134347740\n",
      "2227  chr11  134449983  134347740\n",
      "\n",
      "[2228 rows x 3 columns], 'delCases':      chrom    cnv_end  cnv_start\n",
      "0     chr4     166522      58821\n",
      "1     chr4     712308     511830\n",
      "2     chr4    8738298    8586366\n",
      "3     chr4    8738298    8586709\n",
      "4     chr4    9155615    9046959\n",
      "5     chr4    9174185    9046959\n",
      "6     chr4    9177664    9046959\n",
      "7     chr4    9177664    9046959\n",
      "8     chr4    9262583    9046959\n",
      "9     chr4    9263034    9046959\n",
      "10    chr4    9174136    9048572\n",
      "11    chr4    9174136    9048572\n",
      "12    chr4    9177664    9052835\n",
      "13    chr4   11876033   11775897\n",
      "14    chr4   11948682   11838410\n",
      "15    chr4   12783628   12671014\n",
      "16    chr4   16467467   16195988\n",
      "17    chr4   18863181   18692392\n",
      "18    chr4   29213748   28161470\n",
      "19    chr4   28541944   28415433\n",
      "20    chr4   29994533   29759473\n",
      "21    chr4   29994405   29759720\n",
      "22    chr4   29999261   29759720\n",
      "23    chr4   32087396   30676200\n",
      "24    chr4   48050810   47943533\n",
      "25    chr4   64107613   63951115\n",
      "26    chr4   64837821   64328775\n",
      "27    chr4   65745197   65561686\n",
      "28    chr4   66634266   66454990\n",
      "29    chr4   66776942   66657713\n",
      "...    ...        ...        ...\n",
      "1344  chr2  117847299  117685310\n",
      "1345  chr2  117837101  117689384\n",
      "1346  chr2  118115373  117965018\n",
      "1347  chr2  118114733  117965159\n",
      "1348  chr2  118114733  117971266\n",
      "1349  chr2  123952005  123823604\n",
      "1350  chr2  126757786  126522904\n",
      "1351  chr2  126771256  126522904\n",
      "1352  chr2  132095962  131989506\n",
      "1353  chr2  133717921  133599881\n",
      "1354  chr2  133997053  133621694\n",
      "1355  chr2  151493414  150848112\n",
      "1356  chr2  153166230  153054076\n",
      "1357  chr2  181995913  181854864\n",
      "1358  chr2  185909729  185118087\n",
      "1359  chr2  186688954  186267497\n",
      "1360  chr2  193867991  193681876\n",
      "1361  chr2  193960577  193697717\n",
      "1362  chr2  194972493  194779093\n",
      "1363  chr2  195747271  195566354\n",
      "1364  chr2  213074751  212966805\n",
      "1365  chr2  215598268  215454266\n",
      "1366  chr2  233134572  233029864\n",
      "1367  chr2  234518700  234336814\n",
      "1368  chr2  237502635  236664542\n",
      "1369  chr2  242745404  242439795\n",
      "1370  chr2  242745404  242439795\n",
      "1371  chr2  242750316  242439795\n",
      "1372  chr2  242753422  242439795\n",
      "1373  chr2  242750439  242502261\n",
      "\n",
      "[1374 rows x 3 columns]}\n"
     ]
    }
   ],
   "source": [
    "filename = \"data/ISC-r1.CNV.bed\"\n",
    "cnvbed = {}\n",
    "dataset = None\n",
    "for line in open(filename).readlines():\n",
    "    if not line.startswith(\"chr\"):\n",
    "        dataset = line.strip().split()[1].lstrip(\"name=\")\n",
    "        cnvbed[dataset] = {}\n",
    "        continue\n",
    "    line = line.strip().split()\n",
    "    if not line[0] in cnvbed[dataset]:\n",
    "        cnvbed[dataset][line[0]] = []\n",
    "    cnvbed[dataset][line[0]].append((int(line[1]),int(line[2])))\n",
    "    \n",
    "for dataset in cnvbed.keys():\n",
    "    for chrom in cnvbed[dataset]:\n",
    "        cnvbed[dataset][chrom].sort()\n",
    "\n",
    "cnvbed_df = {}\n",
    "for dataset in cnvbed.keys():\n",
    "    cnvbed_df[dataset] = {\"chrom\":[], \"cnv_start\":[], \"cnv_end\":[]}\n",
    "    for chrom in cnvbed[dataset]:\n",
    "        start, end = tuple(zip(*cnvbed[dataset][chrom])) \n",
    "        cnvbed_df[dataset][\"chrom\"].extend([chrom] * len(start))\n",
    "        cnvbed_df[dataset][\"cnv_start\"] += list(start)\n",
    "        cnvbed_df[dataset][\"cnv_end\"] += list(end)\n",
    "    cnvbed_df[dataset] = pd.DataFrame.from_dict(cnvbed_df[dataset]).drop_duplicates(\n",
    "                                            subset=(\"chrom\", \"cnv_start\", \"cnv_end\"))\n",
    "print (cnvbed_df)"
   ]
  },
  {
   "cell_type": "code",
   "execution_count": 7,
   "metadata": {
    "collapsed": false
   },
   "outputs": [
    {
     "name": "stdout",
     "output_type": "stream",
     "text": [
      "192471.0\n"
     ]
    },
    {
     "data": {
      "text/plain": [
       "<matplotlib.axes._subplots.AxesSubplot at 0x7f11adb8b668>"
      ]
     },
     "execution_count": 7,
     "metadata": {},
     "output_type": "execute_result"
    },
    {
     "data": {
      "image/png": "[encoded data removed]",
      "text/plain": [
       "<matplotlib.figure.Figure at 0x7f11ad5d4a20>"
      ]
     },
     "metadata": {},
     "output_type": "display_data"
    }
   ],
   "source": [
    "cnv_length = {}\n",
    "for name, value in cnvbed_df.items():\n",
    "    query = \"\"\"\n",
    "    SELECT cnv_end-cnv_start\n",
    "    FROM value\n",
    "    \"\"\"\n",
    "    cnv_length[name] = sqldf(query)\n",
    "    cnv_length[name] = cnv_length[name].rename(columns={\"cnv_end-cnv_start\": \"cnv_length\"})\n",
    "\n",
    "#print (cnv_length[\"delCases\"])\n",
    "print (np.median(cnv_length[\"dupCases\"]))\n",
    "sns.distplot(cnv_length[\"delCases\"][0:800])\n",
    "#plt.plot(cnv_length[\"delControls\"])"
   ]
  },
  {
   "cell_type": "code",
   "execution_count": 8,
   "metadata": {
    "collapsed": true
   },
   "outputs": [],
   "source": [
    "cnv_overlap = {}\n",
    "for name, value in cnvbed_df.items():\n",
    "    query = \"\"\"\n",
    "    WHERE \n",
    "    \"\"\""
   ]
  },
  {
   "cell_type": "code",
   "execution_count": 153,
   "metadata": {
    "collapsed": true
   },
   "outputs": [],
   "source": [
    "n1 = 20 # to be obtained from literature\n",
    "n2 = 80 # to be obtained from literature\n",
    "p_del = 0.00006 # to be obtained from real data\n",
    "p_dup = 0.00004 # to be obtained from real data\n",
    "n_delcase = 1000\n",
    "n_delctrl = 1000\n",
    "n_dupcase = 1000\n",
    "n_dupctrl = 1000\n",
    "n_del = n_delcase+n_delctrl\n",
    "n_dup = n_dupcase+n_dupctrl\n",
    "k = 0.001 # prevalence of the disease\n",
    "q = 0.002 # q: Proportion of causal gene\n",
    "shape = 5\n",
    "scale = 1"
   ]
  },
  {
   "cell_type": "code",
   "execution_count": 25,
   "metadata": {
    "collapsed": false
   },
   "outputs": [],
   "source": [
    "def delCNV(n1):\n",
    "    n_del = np.random.poisson(n1)\n",
    "    len_delcnv = np.random.geometric(p=p_del, size=n_del)+10000\n",
    "    return len_delcnv\n",
    "\n",
    "def dupCNV(n2):\n",
    "    n_dup = np.random.poisson(n2)\n",
    "    len_dupcnv = np.random.geometric(p=p_dup, size=n_dup)+10000\n",
    "    return len_dupcnv"
   ]
  },
  {
   "cell_type": "markdown",
   "metadata": {},
   "source": [
    "## Step 3"
   ]
  },
  {
   "cell_type": "code",
   "execution_count": null,
   "metadata": {
    "collapsed": true
   },
   "outputs": [],
   "source": [
    "def genegroup(genelist):\n",
    "    cslgene = random.sample(genelist, int(q*len(genelist)))\n",
    "    noncslgene = genelist - cslgene\n",
    "    return (cslgene, noncslgene)\n",
    "\n",
    "def p_case(q,k):\n",
    "    # p1: Pr(case | CCNV), p0: Pr(case | NCNV)\n",
    "    rv = np.random.gamma(shape, scale)\n",
    "    a = q*rv-q\n",
    "    b = k-k*rv-q*rv+q-1\n",
    "    c = k*rv\n",
    "    p1 = (-b-math.sqrt(b**2-4*a*c)) / (2*a)\n",
    "    p_ccnv_case = p1*q / k\n",
    "    p_ncnv_case = 1 - p_ccnv_case\n",
    "    return (p_ccnv_case, p_ncnv_case)\n",
    "\n",
    "def p_ctrl(q):\n",
    "    p_ccnv_ctrl = q\n",
    "    p_ncnv_ctrl = 1-q\n",
    "    return (p_ccnv_ctrl, p_ncnv_ctrl)"
   ]
  },
  {
   "cell_type": "markdown",
   "metadata": {},
   "source": [
    "### Trial"
   ]
  },
  {
   "cell_type": "code",
   "execution_count": 79,
   "metadata": {
    "collapsed": false
   },
   "outputs": [
    {
     "name": "stdout",
     "output_type": "stream",
     "text": [
      "4.889419045453884\n",
      "0.043919588316617804\n"
     ]
    },
    {
     "data": {
      "text/plain": [
       "(0.08783917663323561, 0.9121608233667644)"
      ]
     },
     "execution_count": 79,
     "metadata": {},
     "output_type": "execute_result"
    }
   ],
   "source": [
    "def cnvg(shape, scale):\n",
    "    k = 0.01 # prevalence of the disease\n",
    "    q = 0.02 # q: Proportion of causal gene\n",
    "    r = np.random.gamma(shape, scale)\n",
    "    print (r)\n",
    "    a = q*r-q\n",
    "    b = k-k*r-q*r+q-1\n",
    "    c = k*r\n",
    "    p1 = (-b-math.sqrt(b**2-4*a*c)) / (2*a)\n",
    "    print (p1)\n",
    "    p_ccnv_case = p1*q/k\n",
    "    p_ncnv_case = 1 - p_ccnv_case\n",
    "    return (p_ccnv_case, p_ncnv_case)\n",
    "cnvg(5,1)"
   ]
  },
  {
   "cell_type": "code",
   "execution_count": 152,
   "metadata": {
    "collapsed": false
   },
   "outputs": [],
   "source": [
    "def CNVcase(delCNV):\n",
    "    cslcnv = []\n",
    "    CCNV = np.random.binomial(1, p_ccnv_case)\n",
    "    if CCNV==1:\n",
    "        cslcnv.append()"
   ]
  }
 ],
 "metadata": {
  "kernelspec": {
   "display_name": "Python 3",
   "language": "python",
   "name": "python3"
  },
  "language_info": {
   "codemirror_mode": {
    "name": "ipython",
    "version": 3
   },
   "file_extension": ".py",
   "mimetype": "text/x-python",
   "name": "python",
   "nbconvert_exporter": "python",
   "pygments_lexer": "ipython3",
   "version": "3.5.2"
  }
 },
 "nbformat": 4,
 "nbformat_minor": 0
}
