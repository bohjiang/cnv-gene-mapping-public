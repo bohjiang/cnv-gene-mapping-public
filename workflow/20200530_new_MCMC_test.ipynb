{
 "cells": [
  {
   "cell_type": "code",
   "execution_count": null,
   "metadata": {
    "kernel": "SoS"
   },
   "outputs": [],
   "source": []
  },
  {
   "cell_type": "code",
   "execution_count": 2,
   "metadata": {
    "kernel": "SoS"
   },
   "outputs": [],
   "source": [
    "import os, pickle\n",
    "import numpy as np, pandas as pd\n",
    "cwd = os.path.expanduser(\"~/GIT/cnv-gene-mapping/output/archive/deletion_simu_30_shape0.777_scale0.843\")\n",
    "X = pd.read_csv(f'{cwd}/block_1151_1159/deletion.genes.block30.for_simu.sample.combined.genes.block_1151_1159.gz', compression = \"gzip\", sep = \"\\t\", header = None, dtype = float)\n",
    "X = X.iloc[:, 1:4]\n",
    "X = X.astype(int)\n",
    "y = np.loadtxt(f'{cwd}/deletion.genes.block30.for_simu.sample.combined.y.gz', dtype=int)"
   ]
  },
  {
   "cell_type": "code",
   "execution_count": 4,
   "metadata": {
    "kernel": "SoS"
   },
   "outputs": [
    {
     "data": {
      "text/html": [
       "<div>\n",
       "<style scoped>\n",
       "    .dataframe tbody tr th:only-of-type {\n",
       "        vertical-align: middle;\n",
       "    }\n",
       "\n",
       "    .dataframe tbody tr th {\n",
       "        vertical-align: top;\n",
       "    }\n",
       "\n",
       "    .dataframe thead th {\n",
       "        text-align: right;\n",
       "    }\n",
       "</style>\n",
       "<table border=\"1\" class=\"dataframe\">\n",
       "  <thead>\n",
       "    <tr style=\"text-align: right;\">\n",
       "      <th></th>\n",
       "      <th>1</th>\n",
       "      <th>2</th>\n",
       "      <th>3</th>\n",
       "    </tr>\n",
       "  </thead>\n",
       "  <tbody>\n",
       "    <tr>\n",
       "      <th>0</th>\n",
       "      <td>0</td>\n",
       "      <td>0</td>\n",
       "      <td>0</td>\n",
       "    </tr>\n",
       "    <tr>\n",
       "      <th>1</th>\n",
       "      <td>0</td>\n",
       "      <td>0</td>\n",
       "      <td>0</td>\n",
       "    </tr>\n",
       "    <tr>\n",
       "      <th>2</th>\n",
       "      <td>0</td>\n",
       "      <td>0</td>\n",
       "      <td>0</td>\n",
       "    </tr>\n",
       "    <tr>\n",
       "      <th>3</th>\n",
       "      <td>0</td>\n",
       "      <td>0</td>\n",
       "      <td>0</td>\n",
       "    </tr>\n",
       "    <tr>\n",
       "      <th>4</th>\n",
       "      <td>0</td>\n",
       "      <td>0</td>\n",
       "      <td>0</td>\n",
       "    </tr>\n",
       "  </tbody>\n",
       "</table>\n",
       "</div>"
      ],
      "text/plain": [
       "   1  2  3\n",
       "0  0  0  0\n",
       "1  0  0  0\n",
       "2  0  0  0\n",
       "3  0  0  0\n",
       "4  0  0  0"
      ]
     },
     "execution_count": 4,
     "metadata": {},
     "output_type": "execute_result"
    }
   ],
   "source": [
    "X.head()"
   ]
  },
  {
   "cell_type": "code",
   "execution_count": 7,
   "metadata": {
    "kernel": "SoS"
   },
   "outputs": [
    {
     "data": {
      "text/plain": [
       "79"
      ]
     },
     "execution_count": 7,
     "metadata": {},
     "output_type": "execute_result"
    }
   ],
   "source": [
    "sum(X[3])"
   ]
  },
  {
   "cell_type": "code",
   "execution_count": 8,
   "metadata": {
    "kernel": "SoS"
   },
   "outputs": [
    {
     "data": {
      "text/html": [
       "<div>\n",
       "<style scoped>\n",
       "    .dataframe tbody tr th:only-of-type {\n",
       "        vertical-align: middle;\n",
       "    }\n",
       "\n",
       "    .dataframe tbody tr th {\n",
       "        vertical-align: top;\n",
       "    }\n",
       "\n",
       "    .dataframe thead th {\n",
       "        text-align: right;\n",
       "    }\n",
       "</style>\n",
       "<table border=\"1\" class=\"dataframe\">\n",
       "  <thead>\n",
       "    <tr style=\"text-align: right;\">\n",
       "      <th></th>\n",
       "      <th>1</th>\n",
       "      <th>2</th>\n",
       "      <th>3</th>\n",
       "    </tr>\n",
       "  </thead>\n",
       "  <tbody>\n",
       "    <tr>\n",
       "      <th>1</th>\n",
       "      <td>1.000000</td>\n",
       "      <td>1.000000</td>\n",
       "      <td>0.670527</td>\n",
       "    </tr>\n",
       "    <tr>\n",
       "      <th>2</th>\n",
       "      <td>1.000000</td>\n",
       "      <td>1.000000</td>\n",
       "      <td>0.670527</td>\n",
       "    </tr>\n",
       "    <tr>\n",
       "      <th>3</th>\n",
       "      <td>0.670527</td>\n",
       "      <td>0.670527</td>\n",
       "      <td>1.000000</td>\n",
       "    </tr>\n",
       "  </tbody>\n",
       "</table>\n",
       "</div>"
      ],
      "text/plain": [
       "          1         2         3\n",
       "1  1.000000  1.000000  0.670527\n",
       "2  1.000000  1.000000  0.670527\n",
       "3  0.670527  0.670527  1.000000"
      ]
     },
     "execution_count": 8,
     "metadata": {},
     "output_type": "execute_result"
    }
   ],
   "source": [
    "X.corr()"
   ]
  },
  {
   "cell_type": "code",
   "execution_count": 9,
   "metadata": {
    "kernel": "SoS"
   },
   "outputs": [],
   "source": [
    "import pymc3 as pm\n",
    "import theano.tensor as tt\n",
    "import matplotlib.pyplot as plt"
   ]
  },
  {
   "cell_type": "code",
   "execution_count": 10,
   "metadata": {
    "kernel": "SoS"
   },
   "outputs": [],
   "source": [
    "from scipy.special import expit"
   ]
  },
  {
   "cell_type": "code",
   "execution_count": 11,
   "metadata": {
    "kernel": "SoS"
   },
   "outputs": [],
   "source": [
    "hyperparam_file = f\"{cwd}/deletion.genes.block30.for_simu.varbvs.whole.genome.prior.csv\""
   ]
  },
  {
   "cell_type": "code",
   "execution_count": 12,
   "metadata": {
    "kernel": "SoS"
   },
   "outputs": [],
   "source": [
    "prevalence = 0.05"
   ]
  },
  {
   "cell_type": "code",
   "execution_count": 13,
   "metadata": {
    "kernel": "SoS"
   },
   "outputs": [],
   "source": [
    "priors = np.loadtxt(hyperparam_file)\n",
    "pi0, mu0, s0 = priors[0], priors[1], priors[2]\n",
    "X_complete = X\n",
    "# remove duplicated columns in X but still keep track of the number of occurance and index removed \n",
    "# in order to reconstruct results later\n",
    "X, index_reconstruct, dup_counts = np.unique(X_complete.to_numpy(), axis=1, return_inverse=True, return_counts=True)\n",
    "case_prop = sum(y) / y.shape[0]\n",
    "invlogit = lambda x: 1/(1 + tt.exp(-x))\n",
    "upper = np.log(case_prop / (1-case_prop))\n",
    "lower = np.log(prevalence / (1-prevalence))"
   ]
  },
  {
   "cell_type": "code",
   "execution_count": 17,
   "metadata": {
    "kernel": "SoS"
   },
   "outputs": [],
   "source": [
    "reparameterize = False\n",
    "n_chain = 2\n",
    "iteration = 10\n",
    "tune_prop = 0.25\n",
    "target_accept = 0.98\n",
    "mcmc_seed = 999"
   ]
  },
  {
   "cell_type": "code",
   "execution_count": 20,
   "metadata": {
    "kernel": "SoS"
   },
   "outputs": [
    {
     "data": {
      "text/html": [
       "<div class=\"sos_logging sos_warning\">WARNING: Only 10 samples in chain.</div>"
      ]
     },
     "metadata": {},
     "output_type": "display_data"
    },
    {
     "data": {
      "text/html": [
       "<div class=\"sos_logging sos_info\">INFO: Sequential sampling (1 chains in 1 job)</div>"
      ]
     },
     "metadata": {},
     "output_type": "display_data"
    },
    {
     "data": {
      "text/html": [
       "<div class=\"sos_logging sos_info\">INFO: CompoundStep</div>"
      ]
     },
     "metadata": {},
     "output_type": "display_data"
    },
    {
     "data": {
      "text/html": [
       "<div class=\"sos_logging sos_info\">INFO: >BinaryGibbsMetropolis: [xi]</div>"
      ]
     },
     "metadata": {},
     "output_type": "display_data"
    },
    {
     "data": {
      "text/html": [
       "<div class=\"sos_logging sos_info\">INFO: >NUTS: [alpha, beta]</div>"
      ]
     },
     "metadata": {},
     "output_type": "display_data"
    },
    {
     "name": "stderr",
     "output_type": "stream",
     "text": [
      "Sampling chain 0, 9 divergences: 100%|##########| 12/12 [00:00<00:00, 34.70it/s]\n"
     ]
    },
    {
     "data": {
      "text/html": [
       "<div class=\"sos_logging sos_error\">ERROR: The chain contains only diverging samples. The model is probably misspecified.</div>"
      ]
     },
     "metadata": {},
     "output_type": "display_data"
    },
    {
     "data": {
      "text/html": [
       "<div class=\"sos_logging sos_warning\">WARNING: The acceptance probability does not match the target. It is 0.0, but should be close to 0.98. Try to increase the number of tuning steps.</div>"
      ]
     },
     "metadata": {},
     "output_type": "display_data"
    },
    {
     "name": "stdout",
     "output_type": "stream",
     "text": [
      "pip before [1. 1.]\n",
      "pip after [0.5        0.39161545 0.7832309 ]\n"
     ]
    },
    {
     "data": {
      "text/html": [
       "<div class=\"sos_logging sos_warning\">WARNING: Only 10 samples in chain.</div>"
      ]
     },
     "metadata": {},
     "output_type": "display_data"
    },
    {
     "data": {
      "text/html": [
       "<div class=\"sos_logging sos_info\">INFO: Sequential sampling (1 chains in 1 job)</div>"
      ]
     },
     "metadata": {},
     "output_type": "display_data"
    },
    {
     "data": {
      "text/html": [
       "<div class=\"sos_logging sos_info\">INFO: CompoundStep</div>"
      ]
     },
     "metadata": {},
     "output_type": "display_data"
    },
    {
     "data": {
      "text/html": [
       "<div class=\"sos_logging sos_info\">INFO: >BinaryGibbsMetropolis: [xi]</div>"
      ]
     },
     "metadata": {},
     "output_type": "display_data"
    },
    {
     "data": {
      "text/html": [
       "<div class=\"sos_logging sos_info\">INFO: >NUTS: [alpha, beta]</div>"
      ]
     },
     "metadata": {},
     "output_type": "display_data"
    },
    {
     "name": "stderr",
     "output_type": "stream",
     "text": [
      "Sampling chain 0, 9 divergences: 100%|##########| 12/12 [00:00<00:00, 37.65it/s]\n"
     ]
    },
    {
     "data": {
      "text/html": [
       "<div class=\"sos_logging sos_error\">ERROR: The chain contains only diverging samples. The model is probably misspecified.</div>"
      ]
     },
     "metadata": {},
     "output_type": "display_data"
    },
    {
     "data": {
      "text/html": [
       "<div class=\"sos_logging sos_warning\">WARNING: The acceptance probability does not match the target. It is 0.0, but should be close to 0.98. Try to increase the number of tuning steps.</div>"
      ]
     },
     "metadata": {},
     "output_type": "display_data"
    },
    {
     "name": "stdout",
     "output_type": "stream",
     "text": [
      "pip before [1. 1.]\n",
      "pip after [0.5        0.39161545 0.7832309 ]\n"
     ]
    }
   ],
   "source": [
    "model = pm.Model()\n",
    "with model:\n",
    "    xi = pm.Bernoulli('xi', pi0, shape = X.shape[1]) #inclusion probability for each variable\n",
    "    if reparameterize:\n",
    "        beta_offset = pm.Normal('beta_offset', mu = 0, sd = 1, shape = X.shape[1])\n",
    "        alpha_offset = pm.distributions.continuous.Uniform(\"alpha_offset\", lower = -1, upper = 1)\n",
    "        beta = pm.Deterministic(\"beta\", mu0 + beta_offset * s0) #Prior for the non-zero coefficients\n",
    "        alpha = pm.Deterministic(\"alpha\", lower + (alpha_offset+1)/2*(upper - lower))\n",
    "    else:\n",
    "        beta = pm.Normal('beta', mu = mu0, sd = s0, shape = X.shape[1])\n",
    "        alpha = pm.distributions.continuous.Uniform(\"alpha\", lower = lower, upper = upper)\n",
    "    p = pm.math.dot(X, xi * beta) #Deterministic function to map the stochastics to the output\n",
    "    y_obs = pm.Bernoulli('y_obs', invlogit(p + alpha), observed = y) #Data likelihood\n",
    "# Fit model multiple times\n",
    "results = []\n",
    "for i in range(n_chain):\n",
    "    with model:\n",
    "        trace = pm.sample(draws = iteration, init = 'nuts', chains = 1, tune = int(tune_prop * iteration),\n",
    "                          nuts = {\"target_accept\": target_accept},\n",
    "                          random_seed = mcmc_seed + i, cores = 1, progressbar = True)\n",
    "    # FIXME: dump trace to pkl here, if needed\n",
    "    # results\n",
    "    pip = np.apply_along_axis(np.mean, 0, trace['xi'])\n",
    "    print(\"pip before\", pip)\n",
    "    beta = np.apply_along_axis(np.mean, 0, np.multiply(trace[\"beta\"], trace[\"xi\"]))\n",
    "    beta_given_inclusion = np.apply_along_axis(np.sum, 0, trace['xi'] * trace['beta']) / np.apply_along_axis(np.sum, 0, trace['xi'])\n",
    "    # reconstruct original results adding back duplicated variables\n",
    "    pip = pip / dup_counts\n",
    "    beta = beta / dup_counts\n",
    "    result = np.vstack((pip, beta, beta_given_inclusion)).T[index_reconstruct,:]\n",
    "    print(\"pip after\", result[0])\n",
    "    results.append(pd.DataFrame(result, columns = ['inclusion_probability', 'beta', 'beta_given_inclusion']))\n",
    "# merge results\n",
    "\n",
    "results = sum(results)/len(results)\n",
    "results = results.set_index(X_complete.columns)\n",
    "results[[\"inclusion_probability\"]].to_csv(f\"{cwd}/new_mcmc_test_pip\", sep = \"\\t\", header = False, index = True)\n",
    "results.to_csv(f\"{cwd}/new_mcmc_test_res\", sep = \"\\t\", header = False, index = True)\n",
    "\n"
   ]
  },
  {
   "cell_type": "code",
   "execution_count": 16,
   "metadata": {
    "kernel": "SoS"
   },
   "outputs": [
    {
     "data": {
      "text/html": [
       "<div>\n",
       "<style scoped>\n",
       "    .dataframe tbody tr th:only-of-type {\n",
       "        vertical-align: middle;\n",
       "    }\n",
       "\n",
       "    .dataframe tbody tr th {\n",
       "        vertical-align: top;\n",
       "    }\n",
       "\n",
       "    .dataframe thead th {\n",
       "        text-align: right;\n",
       "    }\n",
       "</style>\n",
       "<table border=\"1\" class=\"dataframe\">\n",
       "  <thead>\n",
       "    <tr style=\"text-align: right;\">\n",
       "      <th></th>\n",
       "      <th>inclusion_probability</th>\n",
       "      <th>beta</th>\n",
       "      <th>beta_given_inclusion</th>\n",
       "    </tr>\n",
       "  </thead>\n",
       "  <tbody>\n",
       "    <tr>\n",
       "      <th>0</th>\n",
       "      <td>0.500</td>\n",
       "      <td>0.577528</td>\n",
       "      <td>1.155056</td>\n",
       "    </tr>\n",
       "    <tr>\n",
       "      <th>1</th>\n",
       "      <td>0.500</td>\n",
       "      <td>0.577528</td>\n",
       "      <td>1.155056</td>\n",
       "    </tr>\n",
       "    <tr>\n",
       "      <th>2</th>\n",
       "      <td>0.021</td>\n",
       "      <td>0.006963</td>\n",
       "      <td>0.322051</td>\n",
       "    </tr>\n",
       "  </tbody>\n",
       "</table>\n",
       "</div>"
      ],
      "text/plain": [
       "   inclusion_probability      beta  beta_given_inclusion\n",
       "0                  0.500  0.577528              1.155056\n",
       "1                  0.500  0.577528              1.155056\n",
       "2                  0.021  0.006963              0.322051"
      ]
     },
     "execution_count": 16,
     "metadata": {},
     "output_type": "execute_result"
    }
   ],
   "source": [
    "results"
   ]
  },
  {
   "cell_type": "code",
   "execution_count": null,
   "metadata": {
    "kernel": "SoS"
   },
   "outputs": [],
   "source": []
  }
 ],
 "metadata": {
  "kernelspec": {
   "display_name": "SoS",
   "language": "sos",
   "name": "sos"
  },
  "language_info": {
   "codemirror_mode": "sos",
   "file_extension": ".sos",
   "mimetype": "text/x-sos",
   "name": "sos",
   "nbconvert_exporter": "sos_notebook.converter.SoS_Exporter",
   "pygments_lexer": "sos"
  },
  "sos": {
   "kernels": [
    [
     "SoS",
     "sos",
     "",
     ""
    ]
   ],
   "version": "0.21.7"
  }
 },
 "nbformat": 4,
 "nbformat_minor": 4
}
