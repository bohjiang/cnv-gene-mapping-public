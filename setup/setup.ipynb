{
 "cells": [
  {
   "cell_type": "markdown",
   "metadata": {},
   "source": [
    "## install saasCNV\n",
    "\n",
    "The package is used to extract data from vcf and make diagnostic plots.\n",
    "\n",
    "First install [DNAcopy using bioconductor](http://www.bioconductor.org/packages/release/bioc/html/DNAcopy.html), instead of cran, then install saasCNV."
   ]
  },
  {
   "cell_type": "code",
   "execution_count": null,
   "metadata": {
    "attributes": {
     "classes": [
      "R"
     ],
     "id": ""
    },
    "collapsed": true,
    "kernel": "R"
   },
   "outputs": [],
   "source": [
    "## try http:// if https:// URLs are not supported\n",
    "source(\"https://bioconductor.org/biocLite.R\")\n",
    "biocLite(\"DNAcopy\")\n",
    "install.packages(\"saasCNV\")"
   ]
  }
 ],
 "metadata": {
  "kernelspec": {
   "display_name": "SoS",
   "language": "sos",
   "name": "sos"
  },
  "language_info": {
   "codemirror_mode": "sos",
   "file_extension": ".sos",
   "mimetype": "text/x-sos",
   "name": "sos",
   "nbconvert_exporter": "sos.jupyter.converter.SoS_Exporter",
   "pygments_lexer": "sos"
  },
  "sos": {
   "kernels": [
    [
     "SoS",
     "sos",
     "",
     ""
    ],
    [
     "Python3",
     "python3",
     "Python3",
     "#FFE771"
    ],
    [
     "R",
     "ir",
     "R",
     "#DCDCDA"
    ]
   ],
   "panel": {
    "displayed": true,
    "height": 0,
    "style": "side"
   }
  }
 },
 "nbformat": 4,
 "nbformat_minor": 2
}
