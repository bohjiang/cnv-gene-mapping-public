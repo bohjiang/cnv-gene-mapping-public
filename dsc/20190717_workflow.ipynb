{
 "cells": [
  {
   "cell_type": "markdown",
   "metadata": {
    "kernel": "SoS"
   },
   "source": [
    "```\n",
    "cd ~/GIT/cnv-gene-mapping\n",
    "sos run dsc/20190717_workflow.ipynb get_hist:1-2 -s build\n",
    "sos run dsc/20190717_workflow.ipynb get_hist:1-2 --genotype_file /home/min/GIT/cnv-gene-mapping/data/deletion_simu/deletion.genes.block30.for_simu.sample.X.gz\n",
    "sos run dsc/20190717_workflow.ipynb analyze:1-2 -s build\n",
    "sos run dsc/20190717_workflow.ipynb analyze:1-2 --simu_pheno /home/min/GIT/cnv-gene-mapping/data/deletion_simu/deletion.genes.block30.for_simu.sample.y -s build\n",
    "sos run dsc/20190717_workflow.ipynb simulate:1-5 --n_gene_in_block 30 --shape 1 --scale 0.5 -s build\n",
    "sos run dsc/20190717_workflow.ipynb -s build -j 6\n",
    "```\n",
    "```\n",
    "sinteractive --time=01:00:00 --partition=bigmem2 --nodes=1 --ntasks-per-node=1 --mem-per-cpu=100G\n",
    "sos run dsc/20190717_workflow.ipynb simulate:1-5 --n_gene_in_block 30 --shape 1 --scale 0.5 -s build\n",
    "\n",
    "sos run dsc/20190717_workflow.ipynb get_hist:1-2 --genotype_file /home/gaow/GIT/github/cnv-gene-mapping/data/deletion_simu/deletion.genes.block30.for_simu.sample.X.gz \\\n",
    "--phenotype_file /home/gaow/GIT/github/cnv-gene-mapping/data/deletion_simu/deletion.genes.block30.for_simu.sample.y --n_gene_in_block 1 -s build\n",
    "\n",
    "sos run dsc/20190717_workflow.ipynb analyze:1-2 --genotype_file /home/gaow/GIT/github/cnv-gene-mapping/data/deletion_simu/deletion.genes.block30.for_simu.sample.X.gz \\\n",
    "--phenotype_file /home/gaow/GIT/github/cnv-gene-mapping/data/deletion_simu/deletion.genes.block30.for_simu.sample.y --n_gene_in_block 1 \\\n",
    "--simu_pheno /home/gaow/GIT/github/cnv-gene-mapping/data/deletion_simu/deletion.genes.block30.for_simu.sample.y --real \"FALSE\" -s build\n",
    "```"
   ]
  },
  {
   "cell_type": "code",
   "execution_count": null,
   "metadata": {
    "kernel": "SoS"
   },
   "outputs": [],
   "source": [
    "[global]\n",
    "parameter: cnv_type = \"deletion\"\n",
    "parameter: cwd = path(\"~/GIT/github/cnv-gene-mapping/data\")\n",
    "parameter: genotype_file = path(f\"{cwd:a}/{cnv_type}.X.gz\")\n",
    "parameter: phenotype_file = path(f\"{cwd:a}/{cnv_type}.y\") # real CNV data phenotype\n",
    "def fmtP(x):\n",
    "    return str(x).replace(\".\", \"p\").replace(' ', '_').replace('\"', \"\").replace(\"'\", \"\").replace(\"-\", '_')"
   ]
  },
  {
   "cell_type": "code",
   "execution_count": null,
   "metadata": {
    "kernel": "SoS"
   },
   "outputs": [],
   "source": [
    "[get_hist_1, simulate_1, analyze_1]\n",
    "# For simulation: get real deletion/duplication CNV data and its block\n",
    "# n_gene_in_block: get_hist: 1, simulate: 20~50, analyze: 1\n",
    "parameter: n_gene_in_block = 1\n",
    "input: genotype_file\n",
    "output: f\"{_input:nn}.genes.block{n_gene_in_block}.gz\", f\"{_input:nn}.block{n_gene_in_block}.start.end.csv\"\n",
    "python: expand = '${ }'\n",
    "    import pandas as pd\n",
    "    from operator import itemgetter\n",
    "    from itertools import *\n",
    "    data = pd.read_csv(${_input:r}, compression = \"gzip\", sep = \"\\t\", header = None)\n",
    "    data_clean = data.loc[:, (data != 0).any(axis = 0)]\n",
    "    data_clean.to_csv(${_output[0]:r}, compression = \"gzip\", sep = \"\\t\", header = True, index = False)\n",
    "    indices = list(data_clean.columns)\n",
    "    groups = list()\n",
    "    for k, g in groupby(enumerate(indices), lambda x: x[0]-x[1]):\n",
    "        groups.extend(list(map(itemgetter(1), g)))\n",
    "    if groups[0] != list(data.columns)[0]:\n",
    "        groups = [list(data.columns)[0]] + groups\n",
    "    if groups[-1] != list(data.columns)[-1]:\n",
    "        groups = groups + [list(data.columns)[-1]]\n",
    "    bound = list()\n",
    "    i = 0; j = 1; n_0 = len(groups)\n",
    "    while (j < n_0):\n",
    "        if groups[j] - groups[i] >= ${n_gene_in_block} and groups[j] - groups[j-1] > 1:\n",
    "            bound.append([groups[i], groups[j-1]])\n",
    "            i = j\n",
    "        j += 1\n",
    "    bound = [item for item in bound if item[1] != 0]\n",
    "    pd.DataFrame(bound, columns = [\"block_start\", \"block_end\"]).to_csv(${_output[1]:r}, sep = \"\\t\", header = True, index = False)"
   ]
  },
  {
   "cell_type": "code",
   "execution_count": null,
   "metadata": {
    "kernel": "SoS"
   },
   "outputs": [],
   "source": [
    "[simulate_2]\n",
    "output: f\"{_input[0]:n}.for_simu.gz\"\n",
    "python: expand = '${ }'\n",
    "    import pandas as pd\n",
    "    data = pd.read_csv(${genotype_file:r}, compression = \"gzip\", header = None, sep = \"\\t\")\n",
    "    bound = pd.read_csv(${_input[1]:r}, header = 0, sep = \"\\t\")\n",
    "    bound2 = [[item[0], item[1]] if item[0] == bound.values[-1][0] else [item[0], bound.values[j+1][0]-1] for j, item in enumerate(bound.values)]\n",
    "    fill = list()\n",
    "    for l in range(data.shape[0]):\n",
    "        fill.append([data.loc[l, k[0]:k[1]].tolist() for k in bound2])\n",
    "    res = pd.DataFrame(fill)\n",
    "    res.to_csv(${_output:r}, sep = \"\\t\", header = False, index = False)"
   ]
  },
  {
   "cell_type": "code",
   "execution_count": null,
   "metadata": {
    "kernel": "SoS"
   },
   "outputs": [],
   "source": [
    "[simulate_3]\n",
    "parameter: sample_size = 100000 # sample size: default 100000, test: 1000\n",
    "parameter: n_batch = 200 # number of simulated sample for each job, default: 200, test: 20\n",
    "assert sample_size % n_batch == 0\n",
    "batches = [x+1 for x in range(n_batch)]\n",
    "input: for_each = ['batches']\n",
    "output: f\"{cwd:a}/{cnv_type}_simu/{_input[0]:bn}.sample.{_batches}.gz\"\n",
    "python: expand = '${ }'\n",
    "    import pandas as pd, numpy as np\n",
    "    import random, itertools, ast\n",
    "    data = pd.read_csv(${_input:r}, compression = \"gzip\", header = None, sep = \"\\t\")\n",
    "    size = int(${sample_size} / ${n_batch})\n",
    "    random.seed(${_batches})\n",
    "    samples_genome = list()\n",
    "    for i in range(size):\n",
    "        order = random.sample(data.index.tolist(), data.shape[1])\n",
    "        s = list(itertools.chain(*list(ast.literal_eval(n) for n in np.diag(data.loc[order, :]))))\n",
    "        samples_genome.append(s)\n",
    "    samples_genome_df = pd.DataFrame(samples_genome) # row: sample, column: gene\n",
    "    samples_genome_df.to_csv(${_output:r}, compression = \"gzip\", sep = \"\\t\", header = False, index = False)"
   ]
  },
  {
   "cell_type": "code",
   "execution_count": null,
   "metadata": {
    "kernel": "SoS"
   },
   "outputs": [],
   "source": [
    "[simulate_4]\n",
    "input: group_by = 'all'\n",
    "output: f'{_input[0]:nn}.combined.gz'\n",
    "bash: expand = \"${ }\"\n",
    "    zcat ${_input} | gzip > ${_output}"
   ]
  },
  {
   "cell_type": "code",
   "execution_count": null,
   "metadata": {
    "kernel": "SoS"
   },
   "outputs": [],
   "source": [
    "[simulate_5]\n",
    "# shape = 3; scale = 1 for gamma\n",
    "# shape = 2.191013; scale = 0.2682398 for normal\n",
    "parameter: shape = 3.0 # mean for normal (1), shape for gamma (3)\n",
    "parameter: scale = 1.0 # se for normal (0.5), scale for gamma (1)\n",
    "# 'gamma' or 'normal'\n",
    "parameter: beta_method = 'normal'\n",
    "parameter: penetrance = 0.05\n",
    "parameter: seed = 999999\n",
    "parameter: ctrl_case_ratio = 1.0\n",
    "parameter: pi0 = 0.95\n",
    "output: f'{_input:nn}.X.gz', f'{_input:nn}.y'\n",
    "python: expand = \"${ }\"\n",
    "    import pandas as pd, numpy as np\n",
    "    np.random.seed(${seed})\n",
    "    # For normal distribution the -3*sigma to 3*sigma on x-axis should correspond to\n",
    "    # log(4) and log(20). The shape and scale parameters are thus:\n",
    "    # mu = (log(20) + log(4))/2 = 2.191013; sigma = (log(20) - mu) / 3 = 0.2682398\n",
    "    def logor_gamma(shape, scale, n):\n",
    "        return np.log(np.random.gamma(shape, scale, n))\n",
    "\n",
    "    def logor_normal(mean, se, n):\n",
    "        return np.random.normal(mean, se, n)\n",
    "\n",
    "    data = pd.read_csv(${_input:r}, compression = \"gzip\", sep = \"\\t\", header = None)\n",
    "    beta0 = np.log(${penetrance} / (1-${penetrance}))\n",
    "    beta1s = [x for x in logor_${beta_method}(${shape}, ${scale}, data.shape[1])]\n",
    "    beta1s = [np.random.binomial(1, 1-${pi0}) * i for i in beta1s]\n",
    "    logit_y = np.matmul(data.values, beta1s) + beta0\n",
    "    ys_p = np.exp(logit_y) / (1+np.exp(logit_y))\n",
    "    ys = np.random.binomial(1, ys_p)\n",
    "    case_index = np.ravel(np.where(ys == 1))\n",
    "    ctrl_index = sorted(np.random.choice(np.ravel(np.where(ys == 0)), int(len(case_index) * ${ctrl_case_ratio})))\n",
    "    genotype = data.iloc[case_index.tolist() + ctrl_index, :]\n",
    "    genotype.to_csv(${_output[0]:r}, compression = \"gzip\", sep = \"\\t\", header = False, index = False)\n",
    "    with open(${_output[1]:r}, 'w') as f:\n",
    "        f.write('\\n'.join(['1'] * len(case_index) + ['0'] * len(ctrl_index)))"
   ]
  },
  {
   "cell_type": "code",
   "execution_count": null,
   "metadata": {
    "kernel": "SoS"
   },
   "outputs": [],
   "source": [
    "[analyze_2]\n",
    "depends: R_library(\"data.table\"), R_library('susieR'), R_library(\"reticulate\"), R_library(\"varbvs\")\n",
    "parameter: L = 1\n",
    "parameter: pve = 0.005\n",
    "parameter: method = \"optim\"\n",
    "parameter: real = \"TRUE\"\n",
    "parameter: simu_pheno = None\n",
    "suffix = f\"SuSiE.L_{L}.prior_{fmtP(pve)}\"\n",
    "output: f\"{_input[0]:n}.{suffix}.susie.rds\", f\"{_input[0]:n}.varbvs.rds\"\n",
    "R: expand = '${ }', stderr = f'{_input[0]:n}.stderr', stdout = f'{_input[0]:n}.stdout'\n",
    "    library(susieR)\n",
    "    library(data.table)\n",
    "    library(reticulate)\n",
    "    library(varbvs)\n",
    "    X <- as.matrix(data.table::fread(${_input[0]:r}, header = T))\n",
    "    bound <- as.matrix(data.table::fread(${_input[1]:r}, header = T))\n",
    "    if (${real} == TRUE){\n",
    "        y <- as.matrix(data.table::fread(\"${phenotype_file}\"))\n",
    "    } else {\n",
    "        y <- as.matrix(data.table::fread(\"${simu_pheno}\"))\n",
    "    }\n",
    "    storage.mode(X) = 'double'\n",
    "    storage.mode(y) = 'double'\n",
    "    res <- list()\n",
    "    res_varbvs <- list()\n",
    "    for (row in 1:nrow(bound)){\n",
    "        x <- as.matrix(X[, as.character(bound[row,1]:bound[row,2])])\n",
    "        print (head(x))\n",
    "        res_x <- susie(x, y, L = ${L}, scaled_prior_variance = ${pve}, estimate_prior_method = '${method}')\n",
    "        res[[row]] <- res_x\n",
    "        logodds <- seq(-log10(ncol(x)), 1, length.out = 40)\n",
    "        fit <- varbvs::varbvs(x, NULL, y, logodds = logodds, verbose = FALSE)\n",
    "        b <- as.vector(coef(fit)[, \"averaged\"])\n",
    "        res1_x <- list(fit = fit, mu = b[1], beta = b[-1])\n",
    "        res_varbvs[[row]] <- res1_x\n",
    "    }\n",
    "    saveRDS(res, ${_output[0]:r})\n",
    "    saveRDS(res_varbvs, ${_output[1]:r})"
   ]
  },
  {
   "cell_type": "code",
   "execution_count": null,
   "metadata": {
    "kernel": "SoS"
   },
   "outputs": [],
   "source": [
    "[get_hist_2]\n",
    "output: f\"{_input[0]:n}.histogram.pdf\"\n",
    "python: expand = '${ }'\n",
    "    import pandas as pd, matplotlib.pyplot as plt\n",
    "    blocks = pd.read_csv(${_input[1]:r}, sep = \"\\t\", header = 0)\n",
    "    spans = [j-i+1 for i,j in zip(blocks[\"block_start\"], blocks[\"block_end\"])]\n",
    "    counts = {i: spans.count(i) for i in set(spans) if i != 0}\n",
    "    fig, ax = plt.subplots(figsize = (8,6))\n",
    "    plt.bar(list(counts.keys()), list(counts.values()), width = 0.8)\n",
    "    ax.set_title(\"Histogram of number of genes in blocks\")\n",
    "    plt.savefig(${_output:r})"
   ]
  },
  {
   "cell_type": "code",
   "execution_count": null,
   "metadata": {
    "kernel": "SoS"
   },
   "outputs": [],
   "source": []
  },
  {
   "cell_type": "code",
   "execution_count": null,
   "metadata": {
    "kernel": "SoS"
   },
   "outputs": [],
   "source": []
  },
  {
   "cell_type": "code",
   "execution_count": null,
   "metadata": {
    "kernel": "SoS"
   },
   "outputs": [],
   "source": []
  },
  {
   "cell_type": "code",
   "execution_count": null,
   "metadata": {
    "kernel": "SoS"
   },
   "outputs": [],
   "source": [
    "[default_1, get_data_hist_1]\n",
    "parameter: n_gene_in_block = 20\n",
    "input: f\"{cwd:a}/deletion.gz\"\n",
    "output: f'{_input:n}_geneblock.{n_gene_in_block}.gz', f'{_input:n}.cleaned.histogram.gz'\n",
    "python: expand = '${ }'\n",
    "    import pandas as pd\n",
    "    data = pd.read_csv(\"${_input}\", compression = \"gzip\", sep = \"\\t\", header = 0)\n",
    "    data = data.rename(columns = {\"Unnamed: 0\": \"gene\"})\n",
    "    all0 = list()\n",
    "    for i in range(data.shape[0]):\n",
    "        if sum(data.iloc[i, 1:]) == 0:\n",
    "            all0.append(i)\n",
    "    bound = list()\n",
    "    i = 0; j = 1; n_0 = len(all0)\n",
    "    while (j < n_0):\n",
    "        if all0[j] - all0[i] >= ${n_gene_in_block}:\n",
    "            bound.append(all0[j])\n",
    "            i = j\n",
    "        j += 1\n",
    "    bound = [0] + bound[:-1] + [data.shape[0]]\n",
    "    fill = list()\n",
    "    for k in range(len(bound)-1):\n",
    "        fill_tmp = list()\n",
    "        if bound[k]+1 > data.shape[0]:\n",
    "            print (k, bound[k]+1, data.shape[0], \"break\")\n",
    "            break\n",
    "        for l in range(data.shape[1]-1):\n",
    "            fill_tmp.append(data.iloc[bound[k]:bound[k+1], l+1].tolist())\n",
    "        fill.append(fill_tmp)\n",
    "    res = pd.DataFrame(fill) # row: gene block, column: sample name\n",
    "    res.to_csv(${_output[0]:r}, compression = \"gzip\", sep = \"\\t\", header = False, index = False)\n",
    "    data1 = data.iloc[:, 1:]\n",
    "    data1 = data1.T\n",
    "    data1.to_csv(${_output[1]:r}, compression = \"gzip\", sep = \"\\t\", header = False, index = False)"
   ]
  },
  {
   "cell_type": "code",
   "execution_count": null,
   "metadata": {
    "kernel": "SoS"
   },
   "outputs": [],
   "source": [
    "[default_2]\n",
    "parameter: sample_size = 100000 # sample size: default 100000, test: 1000\n",
    "parameter: n_batch = 200 # number of simulated sample for each job, default: 200, test: 20\n",
    "assert sample_size % n_batch == 0\n",
    "batches = [x+1 for x in range(n_batch)]\n",
    "input: for_each = ['batches']\n",
    "output: f'{cwd:a}/simu_data_20/{_input[0]:bnn}.sample.{_batches}.gz'\n",
    "python: expand = \"${ }\"\n",
    "    import pandas as pd, numpy as np\n",
    "    import random, itertools, ast\n",
    "    size = int(${sample_size} / ${n_batch})\n",
    "    random.seed(${_batches})\n",
    "    data = pd.read_csv(${_input[0]:r}, compression = \"gzip\", header = None, sep = \"\\t\")\n",
    "    samples_genome = list()\n",
    "    for i in range(size):\n",
    "        order = random.sample(data.columns.tolist(), data.shape[0])\n",
    "        sample_genome = list(itertools.chain(*list(ast.literal_eval(i) for i in np.diag(data.loc[:, order]))))\n",
    "        samples_genome.append(sample_genome)\n",
    "    samples_genome_df = pd.DataFrame(samples_genome) # row: sample name, column: genes\n",
    "    samples_genome_df.to_csv(${_output:r}, compression = \"gzip\", sep = \"\\t\", header = False, index = False)"
   ]
  },
  {
   "cell_type": "code",
   "execution_count": null,
   "metadata": {
    "kernel": "SoS"
   },
   "outputs": [],
   "source": [
    "[default_3]\n",
    "input: group_by = 'all'\n",
    "output: f'{_input[0]:nn}.combined.gz'\n",
    "bash: expand = \"${ }\"\n",
    "    zcat ${_input} | gzip > ${_output}"
   ]
  },
  {
   "cell_type": "code",
   "execution_count": null,
   "metadata": {
    "kernel": "SoS"
   },
   "outputs": [],
   "source": [
    "[default_4]\n",
    "# For shape = 3; scale = 1 for gamma\n",
    "# shape = 2.191013; scale = 0.2682398 for normal\n",
    "parameter: shape = 3\n",
    "parameter: scale = 1\n",
    "# 'gamma' or 'normal'\n",
    "parameter: beta_method = 'normal'\n",
    "parameter: penetrance = 0.05\n",
    "parameter: seed = 999999\n",
    "parameter: ctrl_case_ratio = 1.0\n",
    "parameter: pi0 = 0.95\n",
    "output: f'{_input:nn}.X.gz', f'{_input:nn}.y'\n",
    "python: expand = \"${ }\"\n",
    "    import pandas as pd, numpy as np\n",
    "    np.random.seed(${seed})\n",
    "    # For normal distribution the -3*sigma to 3*sigma on x-axis should correspond to\n",
    "    # log(4) and log(20). The shape and scale parameters are thus:\n",
    "    # mu = (log(20) + log(4))/2 = 2.191013; sigma = (log(20) - mu) / 3 = 0.2682398\n",
    "    def logor_gamma(shape, scale, n):\n",
    "        return np.log(np.random.gamma(shape, scale, n))\n",
    "\n",
    "    def logor_normal(shape, scale, n):\n",
    "        return np.random.normal(shape, scale, n)\n",
    "    \n",
    "    data = pd.read_csv(${_input:r}, compression = \"gzip\", sep = \"\\t\", header = None)\n",
    "    beta0 = np.log(${penetrance}/(1-${penetrance}))\n",
    "    beta1s = [x for x in logor_${beta_method}(${shape}, ${scale}, data.shape[1])]\n",
    "    beta1s = [np.random.binomial(1, 1-${pi0}) * i for i in beta1s]\n",
    "    logit_y = np.matmul(data.values, beta1s) + beta0\n",
    "    ys_p = np.exp(logit_y) / (1+np.exp(logit_y))\n",
    "    ys = np.random.binomial(1, ys_p)\n",
    "    case_index = np.ravel(np.where(ys == 1))\n",
    "    ctrl_index = sorted(np.random.choice(np.ravel(np.where(ys == 0)), int(len(case_index) * ${ctrl_case_ratio})))\n",
    "    genotype = data.iloc[case_index.tolist() + ctrl_index.tolist(),:]\n",
    "    genotype.to_csv(${_output[0]:r}, compression = \"gzip\", sep = \"\\t\", header = False, index = False)\n",
    "    with open(${_output[1]:r}, 'w') as f:\n",
    "        f.write('\\n'.join(['1'] * len(case_index) + ['0'] * len(ctrl_index)))"
   ]
  },
  {
   "cell_type": "code",
   "execution_count": null,
   "metadata": {
    "kernel": "SoS"
   },
   "outputs": [],
   "source": [
    "[default_5, get_data_hist_2]\n",
    "output: f'{_input[0]:nn}.blocks.histogram.pdf'\n",
    "python: expand = \"${ }\"\n",
    "    import pandas as pd, matplotlib.pyplot as plt\n",
    "    from operator import itemgetter\n",
    "    from itertools import *\n",
    "    import pickle\n",
    "    data = pd.read_csv(${_input[0]:r}, compression = \"gzip\", header = None, sep = \"\\t\")\n",
    "    data = data.loc[:, (data != 0).any(axis = 0)]\n",
    "    indices = list(data.columns)\n",
    "    groups = []\n",
    "    for k, g in groupby(enumerate(indices), lambda x: x[0]-x[1]):\n",
    "        groups.append(list(map(itemgetter(1), g)))\n",
    "    group_len = [len(item) for item in groups]\n",
    "    counts = {i: group_len.count(i) for i in set(group_len) if i != 0}\n",
    "    fig, ax = plt.subplots(figsize = (8,6))\n",
    "    plt.bar(list(counts.keys()), list(counts.values()), width = 0.8)\n",
    "    ax.set_title(\"Histogram of number of genes in blocks\")\n",
    "    plt.savefig(${_output:r})"
   ]
  },
  {
   "cell_type": "code",
   "execution_count": null,
   "metadata": {
    "kernel": "SoS"
   },
   "outputs": [],
   "source": [
    "[default_6]\n",
    "input: output_from(\"default_4\")[1]\n",
    "print (_input)\n",
    "output: f'{_input:nn}.X.removed0.blocks.pkl'\n",
    "python: expand = \"${ }\"\n",
    "    import pandas as pd, matplotlib.pyplot as plt\n",
    "    from operator import itemgetter\n",
    "    from itertools import *\n",
    "    from collections import OrderedDict\n",
    "    import pickle\n",
    "    data = pd.read_csv(${_input:r}, compression = \"gzip\", sep = \"\\t\", header = None)\n",
    "    data = data.loc[:, (data != 0).any(axis = 0)]\n",
    "    indices = list(data.columns)\n",
    "    groups = []\n",
    "    for k, g in groupby(enumerate(indices), lambda x: x[0] - x[1]):\n",
    "        groups.append(list(map(itemgetter(1), g)))\n",
    "    dfs_dict = OrderedDict()\n",
    "    i = 1\n",
    "    for item in groups:\n",
    "        dfs_dict[f\"block{i}\"] = data.loc[:, item]\n",
    "        i += 1\n",
    "    pickle.dump(dfs_dict, open(${_output:r}, \"wb\"))"
   ]
  },
  {
   "cell_type": "markdown",
   "metadata": {
    "kernel": "SoS"
   },
   "source": [
    "## Simulated"
   ]
  },
  {
   "cell_type": "code",
   "execution_count": 13,
   "metadata": {
    "kernel": "SoS"
   },
   "outputs": [],
   "source": [
    "import pandas as pd, matplotlib.pyplot as plt\n",
    "from operator import itemgetter\n",
    "from itertools import *\n",
    "from collections import Counter\n",
    "data = pd.read_csv(\"~/GIT/cnv-gene-mapping/data/simu_data/deletion_geneblock.sample.X.gz\", compression = \"gzip\", header = None, sep = \"\\t\")"
   ]
  },
  {
   "cell_type": "code",
   "execution_count": 14,
   "metadata": {
    "kernel": "SoS"
   },
   "outputs": [
    {
     "data": {
      "text/plain": [
       "(12212, 23343)"
      ]
     },
     "execution_count": 14,
     "metadata": {},
     "output_type": "execute_result"
    }
   ],
   "source": [
    "data.shape"
   ]
  },
  {
   "cell_type": "code",
   "execution_count": 15,
   "metadata": {
    "kernel": "SoS"
   },
   "outputs": [],
   "source": [
    "data1 = data.loc[:, (data != 0).any(axis = 0)]"
   ]
  },
  {
   "cell_type": "code",
   "execution_count": 16,
   "metadata": {
    "kernel": "SoS"
   },
   "outputs": [
    {
     "data": {
      "text/plain": [
       "(12212, 2259)"
      ]
     },
     "execution_count": 16,
     "metadata": {},
     "output_type": "execute_result"
    }
   ],
   "source": [
    "data1.shape"
   ]
  },
  {
   "cell_type": "code",
   "execution_count": 17,
   "metadata": {
    "kernel": "SoS"
   },
   "outputs": [],
   "source": [
    "indices = list(data1.columns)"
   ]
  },
  {
   "cell_type": "code",
   "execution_count": 19,
   "metadata": {
    "kernel": "SoS"
   },
   "outputs": [],
   "source": [
    "groups = []\n",
    "for k, g in groupby(enumerate(indices), lambda x: x[0]-x[1]):\n",
    "    groups.append(list(map(itemgetter(1), g)))"
   ]
  },
  {
   "cell_type": "code",
   "execution_count": 20,
   "metadata": {
    "kernel": "SoS"
   },
   "outputs": [],
   "source": [
    "group_len = [len(item) for item in groups]\n",
    "counts = {i: group_len.count(i) for i in set(group_len) if i != 0}"
   ]
  },
  {
   "cell_type": "code",
   "execution_count": 21,
   "metadata": {
    "kernel": "SoS"
   },
   "outputs": [
    {
     "data": {
      "text/plain": [
       "Counter({1: 205,\n",
       "         2: 113,\n",
       "         3: 56,\n",
       "         4: 31,\n",
       "         5: 20,\n",
       "         6: 14,\n",
       "         7: 3,\n",
       "         8: 8,\n",
       "         9: 12,\n",
       "         10: 11,\n",
       "         11: 4,\n",
       "         12: 2,\n",
       "         13: 1,\n",
       "         14: 4,\n",
       "         15: 1,\n",
       "         16: 2,\n",
       "         17: 1,\n",
       "         18: 7,\n",
       "         19: 5,\n",
       "         20: 3,\n",
       "         21: 3,\n",
       "         23: 3,\n",
       "         24: 1,\n",
       "         27: 2,\n",
       "         28: 1,\n",
       "         30: 2,\n",
       "         33: 1,\n",
       "         37: 1,\n",
       "         38: 1,\n",
       "         40: 1,\n",
       "         59: 1,\n",
       "         62: 1})"
      ]
     },
     "execution_count": 21,
     "metadata": {},
     "output_type": "execute_result"
    }
   ],
   "source": [
    "Counter(group_len)"
   ]
  },
  {
   "cell_type": "code",
   "execution_count": 9,
   "metadata": {
    "kernel": "SoS"
   },
   "outputs": [],
   "source": [
    "fig, ax = plt.subplots(figsize = (8,6))\n",
    "plt.bar(list(counts.keys()), list(counts.values()), width = 0.8)\n",
    "ax.set_title(\"Histogram of number of genes in blocks (simulation)\")\n",
    "# plt.savefig(\"~/GIT/cnv-gene-mapping/data/deletion_geneblock.real.blocks.histogram.pdf\")\n",
    "plt.show()"
   ]
  },
  {
   "cell_type": "markdown",
   "metadata": {
    "kernel": "SoS"
   },
   "source": [
    "## Real"
   ]
  },
  {
   "cell_type": "code",
   "execution_count": 3,
   "metadata": {
    "kernel": "SoS"
   },
   "outputs": [],
   "source": [
    "dat = pd.read_csv(\"~/GIT/cnv-gene-mapping/data/deletion.20.cleaned.histogram.gz\", compression = \"gzip\", header = None, sep = \"\\t\")"
   ]
  },
  {
   "cell_type": "code",
   "execution_count": 4,
   "metadata": {
    "kernel": "SoS"
   },
   "outputs": [
    {
     "data": {
      "text/plain": [
       "(3086, 23343)"
      ]
     },
     "execution_count": 4,
     "metadata": {},
     "output_type": "execute_result"
    }
   ],
   "source": [
    "dat.shape"
   ]
  },
  {
   "cell_type": "code",
   "execution_count": 5,
   "metadata": {
    "kernel": "SoS"
   },
   "outputs": [
    {
     "data": {
      "text/html": [
       "<div>\n",
       "<style scoped>\n",
       "    .dataframe tbody tr th:only-of-type {\n",
       "        vertical-align: middle;\n",
       "    }\n",
       "\n",
       "    .dataframe tbody tr th {\n",
       "        vertical-align: top;\n",
       "    }\n",
       "\n",
       "    .dataframe thead th {\n",
       "        text-align: right;\n",
       "    }\n",
       "</style>\n",
       "<table border=\"1\" class=\"dataframe\">\n",
       "  <thead>\n",
       "    <tr style=\"text-align: right;\">\n",
       "      <th></th>\n",
       "      <th>29</th>\n",
       "      <th>30</th>\n",
       "      <th>31</th>\n",
       "      <th>32</th>\n",
       "      <th>33</th>\n",
       "      <th>34</th>\n",
       "      <th>35</th>\n",
       "      <th>36</th>\n",
       "      <th>37</th>\n",
       "      <th>38</th>\n",
       "      <th>39</th>\n",
       "      <th>40</th>\n",
       "      <th>41</th>\n",
       "      <th>42</th>\n",
       "      <th>43</th>\n",
       "      <th>44</th>\n",
       "      <th>45</th>\n",
       "      <th>46</th>\n",
       "      <th>47</th>\n",
       "      <th>48</th>\n",
       "      <th>49</th>\n",
       "      <th>50</th>\n",
       "      <th>51</th>\n",
       "      <th>52</th>\n",
       "      <th>53</th>\n",
       "      <th>54</th>\n",
       "    </tr>\n",
       "  </thead>\n",
       "  <tbody>\n",
       "    <tr>\n",
       "      <th>0</th>\n",
       "      <td>0</td>\n",
       "      <td>1</td>\n",
       "      <td>1</td>\n",
       "      <td>1</td>\n",
       "      <td>1</td>\n",
       "      <td>1</td>\n",
       "      <td>1</td>\n",
       "      <td>1</td>\n",
       "      <td>1</td>\n",
       "      <td>0</td>\n",
       "      <td>0</td>\n",
       "      <td>0</td>\n",
       "      <td>0</td>\n",
       "      <td>0</td>\n",
       "      <td>0</td>\n",
       "      <td>1</td>\n",
       "      <td>1</td>\n",
       "      <td>1</td>\n",
       "      <td>1</td>\n",
       "      <td>1</td>\n",
       "      <td>1</td>\n",
       "      <td>1</td>\n",
       "      <td>1</td>\n",
       "      <td>1</td>\n",
       "      <td>1</td>\n",
       "      <td>0</td>\n",
       "    </tr>\n",
       "    <tr>\n",
       "      <th>1</th>\n",
       "      <td>0</td>\n",
       "      <td>0</td>\n",
       "      <td>0</td>\n",
       "      <td>0</td>\n",
       "      <td>0</td>\n",
       "      <td>0</td>\n",
       "      <td>0</td>\n",
       "      <td>0</td>\n",
       "      <td>0</td>\n",
       "      <td>0</td>\n",
       "      <td>0</td>\n",
       "      <td>0</td>\n",
       "      <td>0</td>\n",
       "      <td>0</td>\n",
       "      <td>0</td>\n",
       "      <td>0</td>\n",
       "      <td>0</td>\n",
       "      <td>0</td>\n",
       "      <td>0</td>\n",
       "      <td>0</td>\n",
       "      <td>0</td>\n",
       "      <td>0</td>\n",
       "      <td>0</td>\n",
       "      <td>0</td>\n",
       "      <td>0</td>\n",
       "      <td>0</td>\n",
       "    </tr>\n",
       "    <tr>\n",
       "      <th>2</th>\n",
       "      <td>0</td>\n",
       "      <td>0</td>\n",
       "      <td>0</td>\n",
       "      <td>0</td>\n",
       "      <td>0</td>\n",
       "      <td>0</td>\n",
       "      <td>0</td>\n",
       "      <td>0</td>\n",
       "      <td>0</td>\n",
       "      <td>0</td>\n",
       "      <td>0</td>\n",
       "      <td>0</td>\n",
       "      <td>0</td>\n",
       "      <td>0</td>\n",
       "      <td>0</td>\n",
       "      <td>0</td>\n",
       "      <td>0</td>\n",
       "      <td>0</td>\n",
       "      <td>0</td>\n",
       "      <td>0</td>\n",
       "      <td>0</td>\n",
       "      <td>0</td>\n",
       "      <td>0</td>\n",
       "      <td>0</td>\n",
       "      <td>0</td>\n",
       "      <td>0</td>\n",
       "    </tr>\n",
       "    <tr>\n",
       "      <th>3</th>\n",
       "      <td>0</td>\n",
       "      <td>0</td>\n",
       "      <td>0</td>\n",
       "      <td>0</td>\n",
       "      <td>0</td>\n",
       "      <td>0</td>\n",
       "      <td>0</td>\n",
       "      <td>0</td>\n",
       "      <td>0</td>\n",
       "      <td>0</td>\n",
       "      <td>0</td>\n",
       "      <td>0</td>\n",
       "      <td>0</td>\n",
       "      <td>0</td>\n",
       "      <td>0</td>\n",
       "      <td>0</td>\n",
       "      <td>0</td>\n",
       "      <td>0</td>\n",
       "      <td>0</td>\n",
       "      <td>0</td>\n",
       "      <td>0</td>\n",
       "      <td>0</td>\n",
       "      <td>0</td>\n",
       "      <td>0</td>\n",
       "      <td>0</td>\n",
       "      <td>0</td>\n",
       "    </tr>\n",
       "    <tr>\n",
       "      <th>4</th>\n",
       "      <td>0</td>\n",
       "      <td>0</td>\n",
       "      <td>0</td>\n",
       "      <td>0</td>\n",
       "      <td>0</td>\n",
       "      <td>0</td>\n",
       "      <td>0</td>\n",
       "      <td>0</td>\n",
       "      <td>0</td>\n",
       "      <td>0</td>\n",
       "      <td>0</td>\n",
       "      <td>0</td>\n",
       "      <td>0</td>\n",
       "      <td>0</td>\n",
       "      <td>0</td>\n",
       "      <td>0</td>\n",
       "      <td>0</td>\n",
       "      <td>0</td>\n",
       "      <td>0</td>\n",
       "      <td>0</td>\n",
       "      <td>0</td>\n",
       "      <td>0</td>\n",
       "      <td>0</td>\n",
       "      <td>0</td>\n",
       "      <td>0</td>\n",
       "      <td>0</td>\n",
       "    </tr>\n",
       "  </tbody>\n",
       "</table>\n",
       "</div>"
      ],
      "text/plain": [
       "   29  30  31  32  33  34  35  36  37  ...  46  47  48  49  50  51  52  53  54\n",
       "0   0   1   1   1   1   1   1   1   1  ...   1   1   1   1   1   1   1   1   0\n",
       "1   0   0   0   0   0   0   0   0   0  ...   0   0   0   0   0   0   0   0   0\n",
       "2   0   0   0   0   0   0   0   0   0  ...   0   0   0   0   0   0   0   0   0\n",
       "3   0   0   0   0   0   0   0   0   0  ...   0   0   0   0   0   0   0   0   0\n",
       "4   0   0   0   0   0   0   0   0   0  ...   0   0   0   0   0   0   0   0   0\n",
       "\n",
       "[5 rows x 26 columns]"
      ]
     },
     "execution_count": 5,
     "metadata": {},
     "output_type": "execute_result"
    }
   ],
   "source": [
    "dat.iloc[:5, 29:55]"
   ]
  },
  {
   "cell_type": "code",
   "execution_count": 6,
   "metadata": {
    "kernel": "SoS"
   },
   "outputs": [],
   "source": [
    "dat1 = dat.loc[:, (dat != 0).any(axis = 0)]"
   ]
  },
  {
   "cell_type": "code",
   "execution_count": 7,
   "metadata": {
    "kernel": "SoS"
   },
   "outputs": [
    {
     "data": {
      "text/plain": [
       "(3086, 2290)"
      ]
     },
     "execution_count": 7,
     "metadata": {},
     "output_type": "execute_result"
    }
   ],
   "source": [
    "dat1.shape"
   ]
  },
  {
   "cell_type": "code",
   "execution_count": 9,
   "metadata": {
    "kernel": "SoS"
   },
   "outputs": [],
   "source": [
    "indices1 = list(dat1.columns)"
   ]
  },
  {
   "cell_type": "code",
   "execution_count": 10,
   "metadata": {
    "kernel": "SoS"
   },
   "outputs": [
    {
     "data": {
      "text/plain": [
       "2290"
      ]
     },
     "execution_count": 10,
     "metadata": {},
     "output_type": "execute_result"
    }
   ],
   "source": [
    "len(indices1)"
   ]
  },
  {
   "cell_type": "code",
   "execution_count": 11,
   "metadata": {
    "kernel": "SoS"
   },
   "outputs": [],
   "source": [
    "groups1 = []\n",
    "for k, g in groupby(enumerate(indices1), lambda x: x[0]-x[1]):\n",
    "    groups1.append(list(map(itemgetter(1), g)))"
   ]
  },
  {
   "cell_type": "code",
   "execution_count": 12,
   "metadata": {
    "kernel": "SoS"
   },
   "outputs": [],
   "source": [
    "group_len1 = [len(item) for item in groups1]\n",
    "counts1 = {i: group_len1.count(i) for i in set(group_len1) if i != 0}"
   ]
  },
  {
   "cell_type": "code",
   "execution_count": 14,
   "metadata": {
    "kernel": "SoS"
   },
   "outputs": [
    {
     "data": {
      "text/plain": [
       "Counter({1: 208,\n",
       "         2: 114,\n",
       "         3: 56,\n",
       "         4: 30,\n",
       "         5: 23,\n",
       "         6: 14,\n",
       "         7: 3,\n",
       "         8: 8,\n",
       "         9: 12,\n",
       "         10: 11,\n",
       "         11: 4,\n",
       "         12: 2,\n",
       "         13: 1,\n",
       "         14: 4,\n",
       "         15: 2,\n",
       "         16: 2,\n",
       "         17: 1,\n",
       "         18: 7,\n",
       "         19: 5,\n",
       "         20: 3,\n",
       "         21: 3,\n",
       "         23: 3,\n",
       "         24: 1,\n",
       "         27: 2,\n",
       "         28: 1,\n",
       "         30: 2,\n",
       "         33: 1,\n",
       "         37: 1,\n",
       "         38: 1,\n",
       "         40: 1,\n",
       "         59: 1,\n",
       "         62: 1})"
      ]
     },
     "execution_count": 14,
     "metadata": {},
     "output_type": "execute_result"
    }
   ],
   "source": [
    "Counter(group_len1)"
   ]
  },
  {
   "cell_type": "code",
   "execution_count": 49,
   "metadata": {
    "kernel": "SoS"
   },
   "outputs": [],
   "source": [
    "fig, ax = plt.subplots(figsize = (8,6))\n",
    "plt.bar(list(counts.keys()), list(counts1.values()), width = 0.8)\n",
    "ax.set_title(\"Histogram of number of genes in blocks (simulation)\")\n",
    "plt.savefig(\"/home/min/GIT/cnv-gene-mapping/data/deletion_geneblock.real.blocks.histogram.pdf\")\n",
    "plt.show()"
   ]
  },
  {
   "cell_type": "code",
   "execution_count": null,
   "metadata": {
    "kernel": "SoS"
   },
   "outputs": [],
   "source": []
  },
  {
   "cell_type": "code",
   "execution_count": null,
   "metadata": {
    "kernel": "SoS"
   },
   "outputs": [],
   "source": []
  },
  {
   "cell_type": "code",
   "execution_count": null,
   "metadata": {
    "kernel": "SoS"
   },
   "outputs": [],
   "source": []
  },
  {
   "cell_type": "code",
   "execution_count": null,
   "metadata": {
    "kernel": "SoS"
   },
   "outputs": [],
   "source": [
    "[default_7]\n",
    "depends: R_library(\"data.table\"), R_library('susieR'), R_library(\"reticulate\")\n",
    "parameter: L = 10\n",
    "parameter: pve = 0.005\n",
    "parameter: method = \"optim\"\n",
    "suffix = f'SuSiE.L_{L}.prior_{fmtP(pve)}'\n",
    "print (suffix)\n",
    "output: f'{_input[0]:nn}.{suffix}.susie.rds'\n",
    "R: expand = '${ }', stderr = f'{_input[0]:nn}.stderr', stdout = f'{_input[0]:nn}.stdout'\n",
    "    library(susieR)\n",
    "    library(data.table)\n",
    "    library(reticulate)\n",
    "    source_python(\"pickle_reader.py\")\n",
    "    dat <- read_pickle_file(${_input[0]:r})\n",
    "    for (x in dat){\n",
    "        \n",
    "    }\n",
    "        \n",
    "    \n",
    "    \n",
    "    X = as.matrix(data.table::fread(\"zcat ${_input[0]}\"))\n",
    "    y = as.matrix(data.table::fread(\"zcat ${_input[1]}\"))\n",
    "    storage.mode(X) = 'double'\n",
    "    storage.mode(y) = 'double'\n",
    "    res = susie(X, y, L = ${L}, scaled_prior_variance = ${pve}, estimate_prior_method = '${method}')\n",
    "    saveRDS(res, ${_output:r})"
   ]
  },
  {
   "cell_type": "code",
   "execution_count": 9,
   "metadata": {
    "kernel": "R"
   },
   "outputs": [],
   "source": [
    "library(\"reticulate\")\n",
    "source_python(\"pickle_reader.py\")"
   ]
  },
  {
   "cell_type": "code",
   "execution_count": 10,
   "metadata": {
    "kernel": "R"
   },
   "outputs": [],
   "source": [
    "pickle_data <- read_pickle_file(\"/home/min/GIT/cnv-gene-mapping/data/simu_data_test/deletion_geneblock.sample.X.removed0.blocks.pkl\")"
   ]
  },
  {
   "cell_type": "code",
   "execution_count": 11,
   "metadata": {
    "kernel": "R"
   },
   "outputs": [
    {
     "name": "stdout",
     "output_type": "stream",
     "text": [
      "[1] 12  8\n",
      "[1] 12  1\n",
      "[1] 12  1\n",
      "[1] 12  1\n",
      "[1] 12  1\n",
      "[1] 12  2\n",
      "[1] 12  1\n",
      "[1] 12  1\n",
      "[1] 12  5\n",
      "[1] 12  8\n",
      "[1] 12  1\n",
      "[1] 12  6\n"
     ]
    }
   ],
   "source": [
    "for (i in pickle_data){\n",
    "    print (dim(i))\n",
    "}"
   ]
  },
  {
   "cell_type": "code",
   "execution_count": null,
   "metadata": {
    "kernel": "R"
   },
   "outputs": [],
   "source": []
  },
  {
   "cell_type": "code",
   "execution_count": null,
   "metadata": {
    "kernel": "R"
   },
   "outputs": [],
   "source": []
  },
  {
   "cell_type": "code",
   "execution_count": null,
   "metadata": {
    "kernel": "R"
   },
   "outputs": [],
   "source": []
  },
  {
   "cell_type": "code",
   "execution_count": 136,
   "metadata": {
    "kernel": "SoS"
   },
   "outputs": [],
   "source": [
    "import pandas as pd, numpy as np\n",
    "data = pd.read_csv(\"/home/min/GIT/cnv-gene-mapping/dsc/deletion_geneblock.sample.1.gz\", sep = \"\\t\", compression = \"gzip\", header = None)"
   ]
  },
  {
   "cell_type": "code",
   "execution_count": 137,
   "metadata": {
    "kernel": "SoS"
   },
   "outputs": [],
   "source": [
    "data = data.iloc[:, 0:5000]"
   ]
  },
  {
   "cell_type": "code",
   "execution_count": 138,
   "metadata": {
    "kernel": "SoS"
   },
   "outputs": [
    {
     "data": {
      "text/plain": [
       "(500, 5000)"
      ]
     },
     "execution_count": 138,
     "metadata": {},
     "output_type": "execute_result"
    }
   ],
   "source": [
    "data.shape"
   ]
  },
  {
   "cell_type": "code",
   "execution_count": 139,
   "metadata": {
    "kernel": "SoS"
   },
   "outputs": [],
   "source": [
    "data = data.loc[:, (data != 0).any(axis = 0)]"
   ]
  },
  {
   "cell_type": "code",
   "execution_count": 140,
   "metadata": {
    "kernel": "SoS"
   },
   "outputs": [
    {
     "data": {
      "text/html": [
       "<div>\n",
       "<style scoped>\n",
       "    .dataframe tbody tr th:only-of-type {\n",
       "        vertical-align: middle;\n",
       "    }\n",
       "\n",
       "    .dataframe tbody tr th {\n",
       "        vertical-align: top;\n",
       "    }\n",
       "\n",
       "    .dataframe thead th {\n",
       "        text-align: right;\n",
       "    }\n",
       "</style>\n",
       "<table border=\"1\" class=\"dataframe\">\n",
       "  <thead>\n",
       "    <tr style=\"text-align: right;\">\n",
       "      <th></th>\n",
       "      <th>30</th>\n",
       "      <th>31</th>\n",
       "      <th>32</th>\n",
       "      <th>33</th>\n",
       "      <th>34</th>\n",
       "      <th>35</th>\n",
       "      <th>36</th>\n",
       "      <th>37</th>\n",
       "      <th>44</th>\n",
       "      <th>45</th>\n",
       "      <th>46</th>\n",
       "      <th>47</th>\n",
       "      <th>48</th>\n",
       "      <th>49</th>\n",
       "      <th>50</th>\n",
       "      <th>51</th>\n",
       "      <th>52</th>\n",
       "      <th>53</th>\n",
       "      <th>194</th>\n",
       "      <th>195</th>\n",
       "      <th>196</th>\n",
       "      <th>197</th>\n",
       "      <th>198</th>\n",
       "      <th>199</th>\n",
       "      <th>200</th>\n",
       "      <th>201</th>\n",
       "      <th>883</th>\n",
       "      <th>1030</th>\n",
       "      <th>1058</th>\n",
       "      <th>1059</th>\n",
       "      <th>1060</th>\n",
       "      <th>1062</th>\n",
       "      <th>1184</th>\n",
       "      <th>1185</th>\n",
       "      <th>1234</th>\n",
       "      <th>1245</th>\n",
       "      <th>1261</th>\n",
       "      <th>1262</th>\n",
       "      <th>1263</th>\n",
       "      <th>1264</th>\n",
       "      <th>...</th>\n",
       "      <th>3268</th>\n",
       "      <th>3269</th>\n",
       "      <th>3270</th>\n",
       "      <th>3271</th>\n",
       "      <th>3272</th>\n",
       "      <th>3273</th>\n",
       "      <th>3274</th>\n",
       "      <th>3309</th>\n",
       "      <th>3319</th>\n",
       "      <th>3320</th>\n",
       "      <th>3321</th>\n",
       "      <th>3718</th>\n",
       "      <th>3719</th>\n",
       "      <th>3720</th>\n",
       "      <th>3721</th>\n",
       "      <th>3833</th>\n",
       "      <th>3949</th>\n",
       "      <th>3961</th>\n",
       "      <th>4300</th>\n",
       "      <th>4301</th>\n",
       "      <th>4344</th>\n",
       "      <th>4345</th>\n",
       "      <th>4410</th>\n",
       "      <th>4411</th>\n",
       "      <th>4433</th>\n",
       "      <th>4505</th>\n",
       "      <th>4507</th>\n",
       "      <th>4508</th>\n",
       "      <th>4509</th>\n",
       "      <th>4510</th>\n",
       "      <th>4633</th>\n",
       "      <th>4634</th>\n",
       "      <th>4635</th>\n",
       "      <th>4778</th>\n",
       "      <th>4806</th>\n",
       "      <th>4824</th>\n",
       "      <th>4859</th>\n",
       "      <th>4942</th>\n",
       "      <th>4943</th>\n",
       "      <th>4957</th>\n",
       "    </tr>\n",
       "  </thead>\n",
       "  <tbody>\n",
       "    <tr>\n",
       "      <th>0</th>\n",
       "      <td>0</td>\n",
       "      <td>0</td>\n",
       "      <td>0</td>\n",
       "      <td>0</td>\n",
       "      <td>0</td>\n",
       "      <td>0</td>\n",
       "      <td>0</td>\n",
       "      <td>0</td>\n",
       "      <td>0</td>\n",
       "      <td>0</td>\n",
       "      <td>0</td>\n",
       "      <td>0</td>\n",
       "      <td>0</td>\n",
       "      <td>0</td>\n",
       "      <td>0</td>\n",
       "      <td>0</td>\n",
       "      <td>0</td>\n",
       "      <td>0</td>\n",
       "      <td>0</td>\n",
       "      <td>0</td>\n",
       "      <td>0</td>\n",
       "      <td>0</td>\n",
       "      <td>0</td>\n",
       "      <td>0</td>\n",
       "      <td>0</td>\n",
       "      <td>0</td>\n",
       "      <td>0</td>\n",
       "      <td>0</td>\n",
       "      <td>0</td>\n",
       "      <td>0</td>\n",
       "      <td>0</td>\n",
       "      <td>0</td>\n",
       "      <td>0</td>\n",
       "      <td>0</td>\n",
       "      <td>0</td>\n",
       "      <td>0</td>\n",
       "      <td>0</td>\n",
       "      <td>0</td>\n",
       "      <td>0</td>\n",
       "      <td>0</td>\n",
       "      <td>...</td>\n",
       "      <td>0</td>\n",
       "      <td>0</td>\n",
       "      <td>0</td>\n",
       "      <td>0</td>\n",
       "      <td>0</td>\n",
       "      <td>0</td>\n",
       "      <td>0</td>\n",
       "      <td>0</td>\n",
       "      <td>0</td>\n",
       "      <td>0</td>\n",
       "      <td>0</td>\n",
       "      <td>0</td>\n",
       "      <td>0</td>\n",
       "      <td>0</td>\n",
       "      <td>0</td>\n",
       "      <td>0</td>\n",
       "      <td>0</td>\n",
       "      <td>0</td>\n",
       "      <td>0</td>\n",
       "      <td>0</td>\n",
       "      <td>0</td>\n",
       "      <td>0</td>\n",
       "      <td>0</td>\n",
       "      <td>0</td>\n",
       "      <td>0</td>\n",
       "      <td>0</td>\n",
       "      <td>0</td>\n",
       "      <td>0</td>\n",
       "      <td>0</td>\n",
       "      <td>0</td>\n",
       "      <td>0</td>\n",
       "      <td>0</td>\n",
       "      <td>0</td>\n",
       "      <td>0</td>\n",
       "      <td>0</td>\n",
       "      <td>0</td>\n",
       "      <td>0</td>\n",
       "      <td>0</td>\n",
       "      <td>0</td>\n",
       "      <td>0</td>\n",
       "    </tr>\n",
       "    <tr>\n",
       "      <th>1</th>\n",
       "      <td>0</td>\n",
       "      <td>0</td>\n",
       "      <td>0</td>\n",
       "      <td>0</td>\n",
       "      <td>0</td>\n",
       "      <td>0</td>\n",
       "      <td>0</td>\n",
       "      <td>0</td>\n",
       "      <td>0</td>\n",
       "      <td>0</td>\n",
       "      <td>0</td>\n",
       "      <td>0</td>\n",
       "      <td>0</td>\n",
       "      <td>0</td>\n",
       "      <td>0</td>\n",
       "      <td>0</td>\n",
       "      <td>0</td>\n",
       "      <td>0</td>\n",
       "      <td>0</td>\n",
       "      <td>0</td>\n",
       "      <td>0</td>\n",
       "      <td>0</td>\n",
       "      <td>0</td>\n",
       "      <td>0</td>\n",
       "      <td>0</td>\n",
       "      <td>0</td>\n",
       "      <td>0</td>\n",
       "      <td>0</td>\n",
       "      <td>0</td>\n",
       "      <td>0</td>\n",
       "      <td>0</td>\n",
       "      <td>0</td>\n",
       "      <td>0</td>\n",
       "      <td>0</td>\n",
       "      <td>0</td>\n",
       "      <td>0</td>\n",
       "      <td>0</td>\n",
       "      <td>0</td>\n",
       "      <td>0</td>\n",
       "      <td>0</td>\n",
       "      <td>...</td>\n",
       "      <td>0</td>\n",
       "      <td>0</td>\n",
       "      <td>0</td>\n",
       "      <td>0</td>\n",
       "      <td>0</td>\n",
       "      <td>0</td>\n",
       "      <td>0</td>\n",
       "      <td>0</td>\n",
       "      <td>0</td>\n",
       "      <td>0</td>\n",
       "      <td>0</td>\n",
       "      <td>0</td>\n",
       "      <td>0</td>\n",
       "      <td>0</td>\n",
       "      <td>0</td>\n",
       "      <td>0</td>\n",
       "      <td>0</td>\n",
       "      <td>0</td>\n",
       "      <td>0</td>\n",
       "      <td>0</td>\n",
       "      <td>0</td>\n",
       "      <td>0</td>\n",
       "      <td>0</td>\n",
       "      <td>0</td>\n",
       "      <td>0</td>\n",
       "      <td>0</td>\n",
       "      <td>0</td>\n",
       "      <td>0</td>\n",
       "      <td>0</td>\n",
       "      <td>0</td>\n",
       "      <td>0</td>\n",
       "      <td>0</td>\n",
       "      <td>0</td>\n",
       "      <td>0</td>\n",
       "      <td>0</td>\n",
       "      <td>0</td>\n",
       "      <td>0</td>\n",
       "      <td>0</td>\n",
       "      <td>0</td>\n",
       "      <td>0</td>\n",
       "    </tr>\n",
       "    <tr>\n",
       "      <th>2</th>\n",
       "      <td>0</td>\n",
       "      <td>0</td>\n",
       "      <td>0</td>\n",
       "      <td>0</td>\n",
       "      <td>0</td>\n",
       "      <td>0</td>\n",
       "      <td>0</td>\n",
       "      <td>0</td>\n",
       "      <td>0</td>\n",
       "      <td>0</td>\n",
       "      <td>0</td>\n",
       "      <td>0</td>\n",
       "      <td>0</td>\n",
       "      <td>0</td>\n",
       "      <td>0</td>\n",
       "      <td>0</td>\n",
       "      <td>0</td>\n",
       "      <td>0</td>\n",
       "      <td>0</td>\n",
       "      <td>0</td>\n",
       "      <td>0</td>\n",
       "      <td>0</td>\n",
       "      <td>0</td>\n",
       "      <td>0</td>\n",
       "      <td>0</td>\n",
       "      <td>0</td>\n",
       "      <td>0</td>\n",
       "      <td>0</td>\n",
       "      <td>0</td>\n",
       "      <td>0</td>\n",
       "      <td>0</td>\n",
       "      <td>0</td>\n",
       "      <td>0</td>\n",
       "      <td>0</td>\n",
       "      <td>0</td>\n",
       "      <td>0</td>\n",
       "      <td>0</td>\n",
       "      <td>0</td>\n",
       "      <td>0</td>\n",
       "      <td>0</td>\n",
       "      <td>...</td>\n",
       "      <td>0</td>\n",
       "      <td>0</td>\n",
       "      <td>0</td>\n",
       "      <td>0</td>\n",
       "      <td>0</td>\n",
       "      <td>0</td>\n",
       "      <td>0</td>\n",
       "      <td>0</td>\n",
       "      <td>0</td>\n",
       "      <td>0</td>\n",
       "      <td>0</td>\n",
       "      <td>0</td>\n",
       "      <td>0</td>\n",
       "      <td>0</td>\n",
       "      <td>0</td>\n",
       "      <td>0</td>\n",
       "      <td>0</td>\n",
       "      <td>0</td>\n",
       "      <td>0</td>\n",
       "      <td>0</td>\n",
       "      <td>0</td>\n",
       "      <td>0</td>\n",
       "      <td>0</td>\n",
       "      <td>0</td>\n",
       "      <td>0</td>\n",
       "      <td>0</td>\n",
       "      <td>0</td>\n",
       "      <td>0</td>\n",
       "      <td>0</td>\n",
       "      <td>0</td>\n",
       "      <td>0</td>\n",
       "      <td>0</td>\n",
       "      <td>0</td>\n",
       "      <td>0</td>\n",
       "      <td>0</td>\n",
       "      <td>0</td>\n",
       "      <td>0</td>\n",
       "      <td>0</td>\n",
       "      <td>0</td>\n",
       "      <td>0</td>\n",
       "    </tr>\n",
       "    <tr>\n",
       "      <th>3</th>\n",
       "      <td>0</td>\n",
       "      <td>0</td>\n",
       "      <td>0</td>\n",
       "      <td>0</td>\n",
       "      <td>0</td>\n",
       "      <td>0</td>\n",
       "      <td>0</td>\n",
       "      <td>0</td>\n",
       "      <td>0</td>\n",
       "      <td>0</td>\n",
       "      <td>0</td>\n",
       "      <td>0</td>\n",
       "      <td>0</td>\n",
       "      <td>0</td>\n",
       "      <td>0</td>\n",
       "      <td>0</td>\n",
       "      <td>0</td>\n",
       "      <td>0</td>\n",
       "      <td>0</td>\n",
       "      <td>0</td>\n",
       "      <td>0</td>\n",
       "      <td>0</td>\n",
       "      <td>0</td>\n",
       "      <td>0</td>\n",
       "      <td>0</td>\n",
       "      <td>0</td>\n",
       "      <td>0</td>\n",
       "      <td>0</td>\n",
       "      <td>0</td>\n",
       "      <td>0</td>\n",
       "      <td>0</td>\n",
       "      <td>0</td>\n",
       "      <td>0</td>\n",
       "      <td>0</td>\n",
       "      <td>0</td>\n",
       "      <td>0</td>\n",
       "      <td>0</td>\n",
       "      <td>0</td>\n",
       "      <td>0</td>\n",
       "      <td>0</td>\n",
       "      <td>...</td>\n",
       "      <td>0</td>\n",
       "      <td>0</td>\n",
       "      <td>0</td>\n",
       "      <td>0</td>\n",
       "      <td>0</td>\n",
       "      <td>0</td>\n",
       "      <td>0</td>\n",
       "      <td>0</td>\n",
       "      <td>0</td>\n",
       "      <td>0</td>\n",
       "      <td>0</td>\n",
       "      <td>0</td>\n",
       "      <td>0</td>\n",
       "      <td>0</td>\n",
       "      <td>0</td>\n",
       "      <td>0</td>\n",
       "      <td>0</td>\n",
       "      <td>0</td>\n",
       "      <td>0</td>\n",
       "      <td>0</td>\n",
       "      <td>0</td>\n",
       "      <td>0</td>\n",
       "      <td>0</td>\n",
       "      <td>0</td>\n",
       "      <td>0</td>\n",
       "      <td>0</td>\n",
       "      <td>0</td>\n",
       "      <td>0</td>\n",
       "      <td>0</td>\n",
       "      <td>0</td>\n",
       "      <td>0</td>\n",
       "      <td>0</td>\n",
       "      <td>0</td>\n",
       "      <td>0</td>\n",
       "      <td>0</td>\n",
       "      <td>0</td>\n",
       "      <td>0</td>\n",
       "      <td>0</td>\n",
       "      <td>0</td>\n",
       "      <td>0</td>\n",
       "    </tr>\n",
       "    <tr>\n",
       "      <th>4</th>\n",
       "      <td>0</td>\n",
       "      <td>0</td>\n",
       "      <td>0</td>\n",
       "      <td>0</td>\n",
       "      <td>0</td>\n",
       "      <td>0</td>\n",
       "      <td>0</td>\n",
       "      <td>0</td>\n",
       "      <td>0</td>\n",
       "      <td>0</td>\n",
       "      <td>0</td>\n",
       "      <td>0</td>\n",
       "      <td>0</td>\n",
       "      <td>0</td>\n",
       "      <td>0</td>\n",
       "      <td>0</td>\n",
       "      <td>0</td>\n",
       "      <td>0</td>\n",
       "      <td>0</td>\n",
       "      <td>0</td>\n",
       "      <td>0</td>\n",
       "      <td>0</td>\n",
       "      <td>0</td>\n",
       "      <td>0</td>\n",
       "      <td>0</td>\n",
       "      <td>0</td>\n",
       "      <td>0</td>\n",
       "      <td>0</td>\n",
       "      <td>0</td>\n",
       "      <td>0</td>\n",
       "      <td>0</td>\n",
       "      <td>0</td>\n",
       "      <td>0</td>\n",
       "      <td>0</td>\n",
       "      <td>0</td>\n",
       "      <td>0</td>\n",
       "      <td>0</td>\n",
       "      <td>0</td>\n",
       "      <td>0</td>\n",
       "      <td>0</td>\n",
       "      <td>...</td>\n",
       "      <td>0</td>\n",
       "      <td>0</td>\n",
       "      <td>0</td>\n",
       "      <td>0</td>\n",
       "      <td>0</td>\n",
       "      <td>0</td>\n",
       "      <td>0</td>\n",
       "      <td>0</td>\n",
       "      <td>0</td>\n",
       "      <td>0</td>\n",
       "      <td>0</td>\n",
       "      <td>0</td>\n",
       "      <td>0</td>\n",
       "      <td>0</td>\n",
       "      <td>0</td>\n",
       "      <td>0</td>\n",
       "      <td>0</td>\n",
       "      <td>0</td>\n",
       "      <td>0</td>\n",
       "      <td>0</td>\n",
       "      <td>0</td>\n",
       "      <td>0</td>\n",
       "      <td>0</td>\n",
       "      <td>0</td>\n",
       "      <td>0</td>\n",
       "      <td>0</td>\n",
       "      <td>0</td>\n",
       "      <td>0</td>\n",
       "      <td>0</td>\n",
       "      <td>0</td>\n",
       "      <td>0</td>\n",
       "      <td>0</td>\n",
       "      <td>0</td>\n",
       "      <td>0</td>\n",
       "      <td>0</td>\n",
       "      <td>0</td>\n",
       "      <td>0</td>\n",
       "      <td>0</td>\n",
       "      <td>0</td>\n",
       "      <td>0</td>\n",
       "    </tr>\n",
       "  </tbody>\n",
       "</table>\n",
       "<p>5 rows × 171 columns</p>\n",
       "</div>"
      ],
      "text/plain": [
       "   30    31    32    33    34    35    ...  4806  4824  4859  4942  4943  4957\n",
       "0     0     0     0     0     0     0  ...     0     0     0     0     0     0\n",
       "1     0     0     0     0     0     0  ...     0     0     0     0     0     0\n",
       "2     0     0     0     0     0     0  ...     0     0     0     0     0     0\n",
       "3     0     0     0     0     0     0  ...     0     0     0     0     0     0\n",
       "4     0     0     0     0     0     0  ...     0     0     0     0     0     0\n",
       "\n",
       "[5 rows x 171 columns]"
      ]
     },
     "execution_count": 140,
     "metadata": {},
     "output_type": "execute_result"
    }
   ],
   "source": [
    "data.head()"
   ]
  },
  {
   "cell_type": "code",
   "execution_count": 141,
   "metadata": {
    "kernel": "SoS"
   },
   "outputs": [
    {
     "data": {
      "text/html": [
       "<div>\n",
       "<style scoped>\n",
       "    .dataframe tbody tr th:only-of-type {\n",
       "        vertical-align: middle;\n",
       "    }\n",
       "\n",
       "    .dataframe tbody tr th {\n",
       "        vertical-align: top;\n",
       "    }\n",
       "\n",
       "    .dataframe thead th {\n",
       "        text-align: right;\n",
       "    }\n",
       "</style>\n",
       "<table border=\"1\" class=\"dataframe\">\n",
       "  <thead>\n",
       "    <tr style=\"text-align: right;\">\n",
       "      <th></th>\n",
       "      <th>30</th>\n",
       "      <th>31</th>\n",
       "      <th>32</th>\n",
       "      <th>33</th>\n",
       "      <th>34</th>\n",
       "    </tr>\n",
       "  </thead>\n",
       "  <tbody>\n",
       "    <tr>\n",
       "      <th>0</th>\n",
       "      <td>0</td>\n",
       "      <td>0</td>\n",
       "      <td>0</td>\n",
       "      <td>0</td>\n",
       "      <td>0</td>\n",
       "    </tr>\n",
       "    <tr>\n",
       "      <th>1</th>\n",
       "      <td>0</td>\n",
       "      <td>0</td>\n",
       "      <td>0</td>\n",
       "      <td>0</td>\n",
       "      <td>0</td>\n",
       "    </tr>\n",
       "    <tr>\n",
       "      <th>2</th>\n",
       "      <td>0</td>\n",
       "      <td>0</td>\n",
       "      <td>0</td>\n",
       "      <td>0</td>\n",
       "      <td>0</td>\n",
       "    </tr>\n",
       "  </tbody>\n",
       "</table>\n",
       "</div>"
      ],
      "text/plain": [
       "   30  31  32  33  34\n",
       "0   0   0   0   0   0\n",
       "1   0   0   0   0   0\n",
       "2   0   0   0   0   0"
      ]
     },
     "execution_count": 141,
     "metadata": {},
     "output_type": "execute_result"
    }
   ],
   "source": [
    "data.iloc[0:3, 0:5]"
   ]
  },
  {
   "cell_type": "code",
   "execution_count": 142,
   "metadata": {
    "kernel": "SoS"
   },
   "outputs": [
    {
     "data": {
      "text/html": [
       "<div>\n",
       "<style scoped>\n",
       "    .dataframe tbody tr th:only-of-type {\n",
       "        vertical-align: middle;\n",
       "    }\n",
       "\n",
       "    .dataframe tbody tr th {\n",
       "        vertical-align: top;\n",
       "    }\n",
       "\n",
       "    .dataframe thead th {\n",
       "        text-align: right;\n",
       "    }\n",
       "</style>\n",
       "<table border=\"1\" class=\"dataframe\">\n",
       "  <thead>\n",
       "    <tr style=\"text-align: right;\">\n",
       "      <th></th>\n",
       "      <th>30</th>\n",
       "      <th>31</th>\n",
       "      <th>32</th>\n",
       "      <th>33</th>\n",
       "      <th>34</th>\n",
       "      <th>35</th>\n",
       "      <th>36</th>\n",
       "      <th>37</th>\n",
       "    </tr>\n",
       "  </thead>\n",
       "  <tbody>\n",
       "    <tr>\n",
       "      <th>0</th>\n",
       "      <td>0</td>\n",
       "      <td>0</td>\n",
       "      <td>0</td>\n",
       "      <td>0</td>\n",
       "      <td>0</td>\n",
       "      <td>0</td>\n",
       "      <td>0</td>\n",
       "      <td>0</td>\n",
       "    </tr>\n",
       "    <tr>\n",
       "      <th>1</th>\n",
       "      <td>0</td>\n",
       "      <td>0</td>\n",
       "      <td>0</td>\n",
       "      <td>0</td>\n",
       "      <td>0</td>\n",
       "      <td>0</td>\n",
       "      <td>0</td>\n",
       "      <td>0</td>\n",
       "    </tr>\n",
       "    <tr>\n",
       "      <th>2</th>\n",
       "      <td>0</td>\n",
       "      <td>0</td>\n",
       "      <td>0</td>\n",
       "      <td>0</td>\n",
       "      <td>0</td>\n",
       "      <td>0</td>\n",
       "      <td>0</td>\n",
       "      <td>0</td>\n",
       "    </tr>\n",
       "    <tr>\n",
       "      <th>3</th>\n",
       "      <td>0</td>\n",
       "      <td>0</td>\n",
       "      <td>0</td>\n",
       "      <td>0</td>\n",
       "      <td>0</td>\n",
       "      <td>0</td>\n",
       "      <td>0</td>\n",
       "      <td>0</td>\n",
       "    </tr>\n",
       "    <tr>\n",
       "      <th>4</th>\n",
       "      <td>0</td>\n",
       "      <td>0</td>\n",
       "      <td>0</td>\n",
       "      <td>0</td>\n",
       "      <td>0</td>\n",
       "      <td>0</td>\n",
       "      <td>0</td>\n",
       "      <td>0</td>\n",
       "    </tr>\n",
       "  </tbody>\n",
       "</table>\n",
       "</div>"
      ],
      "text/plain": [
       "   30  31  32  33  34  35  36  37\n",
       "0   0   0   0   0   0   0   0   0\n",
       "1   0   0   0   0   0   0   0   0\n",
       "2   0   0   0   0   0   0   0   0\n",
       "3   0   0   0   0   0   0   0   0\n",
       "4   0   0   0   0   0   0   0   0"
      ]
     },
     "execution_count": 142,
     "metadata": {},
     "output_type": "execute_result"
    }
   ],
   "source": [
    "data.loc[:, 30:37].head()"
   ]
  },
  {
   "cell_type": "code",
   "execution_count": 8,
   "metadata": {
    "kernel": "SoS"
   },
   "outputs": [
    {
     "data": {
      "text/plain": [
       "14"
      ]
     },
     "execution_count": 8,
     "metadata": {},
     "output_type": "execute_result"
    }
   ],
   "source": [
    "sum(data.iloc[:, 115].tolist())"
   ]
  },
  {
   "cell_type": "code",
   "execution_count": 9,
   "metadata": {
    "kernel": "SoS"
   },
   "outputs": [],
   "source": [
    "indices = list(data.columns)"
   ]
  },
  {
   "cell_type": "code",
   "execution_count": 10,
   "metadata": {
    "kernel": "SoS"
   },
   "outputs": [
    {
     "name": "stdout",
     "output_type": "stream",
     "text": [
      "[[30, 31, 32, 33, 34, 35, 36, 37], [44, 45, 46, 47, 48, 49, 50, 51, 52, 53], [194, 195, 196, 197, 198, 199, 200, 201], [883], [1030], [1058, 1059, 1060], [1062], [1184, 1185], [1234], [1245], [1261, 1262, 1263, 1264, 1265, 1266, 1267, 1268, 1269, 1270, 1271, 1272, 1273, 1274, 1275, 1276, 1277, 1278, 1279, 1280, 1281, 1282, 1283, 1284, 1285, 1286], [1289, 1290, 1291, 1292, 1293, 1294], [1643, 1644, 1645, 1646, 1647], [1874, 1875, 1876], [2193, 2194], [2275], [2330, 2331, 2332, 2333, 2334, 2335], [2611], [2627], [2632, 2633], [2662, 2663, 2664, 2665], [2708], [2842, 2843], [2899], [2915], [3037, 3038, 3039, 3040, 3041, 3042, 3043, 3044, 3045, 3046, 3047, 3048, 3049, 3050, 3051, 3052], [3056, 3057, 3058, 3059, 3060, 3061, 3062, 3063], [3169, 3170], [3204, 3205], [3221], [3231], [3265, 3266, 3267, 3268, 3269, 3270, 3271, 3272, 3273, 3274], [3309], [3319, 3320, 3321], [3718, 3719, 3720, 3721], [3833], [3949], [3961], [4300, 4301], [4344, 4345], [4410, 4411], [4433], [4505], [4507, 4508, 4509, 4510], [4633, 4634, 4635], [4778], [4806], [4824], [4859], [4942, 4943], [4957]]\n"
     ]
    }
   ],
   "source": [
    "from operator import itemgetter\n",
    "from itertools import *\n",
    "groups = []\n",
    "for k, g in groupby(enumerate(indices), lambda x: x[0] - x[1]):\n",
    "    groups.append(list(map(itemgetter(1), g)))\n",
    "print (groups)"
   ]
  },
  {
   "cell_type": "code",
   "execution_count": 11,
   "metadata": {
    "kernel": "SoS"
   },
   "outputs": [],
   "source": [
    "import pickle\n",
    "from collections import OrderedDict\n",
    "dfs_dict = OrderedDict()\n",
    "for item in groups:\n",
    "    dfs_dict[f\"block{item[0]}\"] = data.loc[:, item]"
   ]
  },
  {
   "cell_type": "code",
   "execution_count": 13,
   "metadata": {
    "kernel": "SoS"
   },
   "outputs": [],
   "source": [
    "pickle.dump(dfs_dict, open(\"/home/min/GIT/cnv-gene-mapping/dsc/tmp.pkl\", \"wb\"))"
   ]
  },
  {
   "cell_type": "code",
   "execution_count": 12,
   "metadata": {
    "kernel": "SoS"
   },
   "outputs": [
    {
     "data": {
      "text/html": [
       "<div>\n",
       "<style scoped>\n",
       "    .dataframe tbody tr th:only-of-type {\n",
       "        vertical-align: middle;\n",
       "    }\n",
       "\n",
       "    .dataframe tbody tr th {\n",
       "        vertical-align: top;\n",
       "    }\n",
       "\n",
       "    .dataframe thead th {\n",
       "        text-align: right;\n",
       "    }\n",
       "</style>\n",
       "<table border=\"1\" class=\"dataframe\">\n",
       "  <thead>\n",
       "    <tr style=\"text-align: right;\">\n",
       "      <th></th>\n",
       "      <th>30</th>\n",
       "      <th>31</th>\n",
       "      <th>32</th>\n",
       "      <th>33</th>\n",
       "      <th>34</th>\n",
       "      <th>35</th>\n",
       "      <th>36</th>\n",
       "      <th>37</th>\n",
       "    </tr>\n",
       "  </thead>\n",
       "  <tbody>\n",
       "    <tr>\n",
       "      <th>0</th>\n",
       "      <td>0</td>\n",
       "      <td>0</td>\n",
       "      <td>0</td>\n",
       "      <td>0</td>\n",
       "      <td>0</td>\n",
       "      <td>0</td>\n",
       "      <td>0</td>\n",
       "      <td>0</td>\n",
       "    </tr>\n",
       "    <tr>\n",
       "      <th>1</th>\n",
       "      <td>0</td>\n",
       "      <td>0</td>\n",
       "      <td>0</td>\n",
       "      <td>0</td>\n",
       "      <td>0</td>\n",
       "      <td>0</td>\n",
       "      <td>0</td>\n",
       "      <td>0</td>\n",
       "    </tr>\n",
       "    <tr>\n",
       "      <th>2</th>\n",
       "      <td>0</td>\n",
       "      <td>0</td>\n",
       "      <td>0</td>\n",
       "      <td>0</td>\n",
       "      <td>0</td>\n",
       "      <td>0</td>\n",
       "      <td>0</td>\n",
       "      <td>0</td>\n",
       "    </tr>\n",
       "    <tr>\n",
       "      <th>3</th>\n",
       "      <td>0</td>\n",
       "      <td>0</td>\n",
       "      <td>0</td>\n",
       "      <td>0</td>\n",
       "      <td>0</td>\n",
       "      <td>0</td>\n",
       "      <td>0</td>\n",
       "      <td>0</td>\n",
       "    </tr>\n",
       "    <tr>\n",
       "      <th>4</th>\n",
       "      <td>0</td>\n",
       "      <td>0</td>\n",
       "      <td>0</td>\n",
       "      <td>0</td>\n",
       "      <td>0</td>\n",
       "      <td>0</td>\n",
       "      <td>0</td>\n",
       "      <td>0</td>\n",
       "    </tr>\n",
       "  </tbody>\n",
       "</table>\n",
       "</div>"
      ],
      "text/plain": [
       "   30  31  32  33  34  35  36  37\n",
       "0   0   0   0   0   0   0   0   0\n",
       "1   0   0   0   0   0   0   0   0\n",
       "2   0   0   0   0   0   0   0   0\n",
       "3   0   0   0   0   0   0   0   0\n",
       "4   0   0   0   0   0   0   0   0"
      ]
     },
     "execution_count": 12,
     "metadata": {},
     "output_type": "execute_result"
    }
   ],
   "source": [
    "dfs_dict[\"block30\"].head()"
   ]
  },
  {
   "cell_type": "code",
   "execution_count": 14,
   "metadata": {
    "kernel": "SoS"
   },
   "outputs": [],
   "source": [
    "group_len = [len(item) for item in groups]"
   ]
  },
  {
   "cell_type": "code",
   "execution_count": 19,
   "metadata": {
    "kernel": "SoS"
   },
   "outputs": [],
   "source": [
    "import matplotlib.pyplot as plt\n",
    "counts = {i: group_len.count(i) for i in set(group_len) if i!=0}\n",
    "fig, ax = plt.subplots(figsize = (8,6))\n",
    "plt.bar(list(counts.keys()), list(counts.values()), width = 0.8)\n",
    "ax.set_title(\"Histogram of number of genes in blocks\")\n",
    "plt.savefig(\"/home/min/GIT/cnv-gene-mapping/dsc/tmp.pdf\")\n",
    "# plt.show()"
   ]
  },
  {
   "cell_type": "code",
   "execution_count": null,
   "metadata": {
    "kernel": "SoS"
   },
   "outputs": [],
   "source": []
  },
  {
   "cell_type": "code",
   "execution_count": null,
   "metadata": {
    "kernel": "SoS"
   },
   "outputs": [],
   "source": []
  },
  {
   "cell_type": "code",
   "execution_count": null,
   "metadata": {
    "kernel": "SoS"
   },
   "outputs": [],
   "source": []
  },
  {
   "cell_type": "code",
   "execution_count": null,
   "metadata": {
    "kernel": "SoS"
   },
   "outputs": [],
   "source": []
  },
  {
   "cell_type": "code",
   "execution_count": null,
   "metadata": {
    "kernel": "SoS"
   },
   "outputs": [],
   "source": []
  },
  {
   "cell_type": "code",
   "execution_count": null,
   "metadata": {
    "kernel": "SoS"
   },
   "outputs": [],
   "source": []
  },
  {
   "cell_type": "code",
   "execution_count": 1,
   "metadata": {
    "kernel": "SoS"
   },
   "outputs": [
    {
     "data": {
      "text/plain": [
       "(100, 23343)"
      ]
     },
     "execution_count": 1,
     "metadata": {},
     "output_type": "execute_result"
    }
   ],
   "source": [
    "import pandas as pd, numpy as np\n",
    "data = pd.read_table(\"/home/min/GIT/cnv-gene-mapping/data/simu_data_test/deletion_geneblock.sample.X.gz\", compression = \"gzip\", sep = \"\\t\", header = None)\n",
    "data.shape"
   ]
  },
  {
   "cell_type": "code",
   "execution_count": 2,
   "metadata": {
    "kernel": "SoS"
   },
   "outputs": [],
   "source": [
    "beta0 = np.log(0.05/(1-0.05))\n",
    "beta1s = [np.log(x) for x in np.random.gamma(5, 1, data.shape[1])]\n",
    "np.random.seed(9999999)\n",
    "ys = [np.around(sum([x*y for x,y in zip(beta1s, data.iloc[i, :].tolist())]) + beta0, 6) for i in range(data.shape[0])]"
   ]
  },
  {
   "cell_type": "code",
   "execution_count": 3,
   "metadata": {
    "kernel": "SoS"
   },
   "outputs": [],
   "source": [
    "y_df = pd.DataFrame(ys)"
   ]
  },
  {
   "cell_type": "code",
   "execution_count": 4,
   "metadata": {
    "kernel": "SoS"
   },
   "outputs": [
    {
     "data": {
      "text/html": [
       "<div>\n",
       "<style scoped>\n",
       "    .dataframe tbody tr th:only-of-type {\n",
       "        vertical-align: middle;\n",
       "    }\n",
       "\n",
       "    .dataframe tbody tr th {\n",
       "        vertical-align: top;\n",
       "    }\n",
       "\n",
       "    .dataframe thead th {\n",
       "        text-align: right;\n",
       "    }\n",
       "</style>\n",
       "<table border=\"1\" class=\"dataframe\">\n",
       "  <thead>\n",
       "    <tr style=\"text-align: right;\">\n",
       "      <th></th>\n",
       "      <th>0</th>\n",
       "    </tr>\n",
       "  </thead>\n",
       "  <tbody>\n",
       "    <tr>\n",
       "      <th>95</th>\n",
       "      <td>-2.944439</td>\n",
       "    </tr>\n",
       "    <tr>\n",
       "      <th>96</th>\n",
       "      <td>43.804725</td>\n",
       "    </tr>\n",
       "    <tr>\n",
       "      <th>97</th>\n",
       "      <td>-2.944439</td>\n",
       "    </tr>\n",
       "    <tr>\n",
       "      <th>98</th>\n",
       "      <td>-0.131875</td>\n",
       "    </tr>\n",
       "    <tr>\n",
       "      <th>99</th>\n",
       "      <td>-2.944439</td>\n",
       "    </tr>\n",
       "  </tbody>\n",
       "</table>\n",
       "</div>"
      ],
      "text/plain": [
       "            0\n",
       "95  -2.944439\n",
       "96  43.804725\n",
       "97  -2.944439\n",
       "98  -0.131875\n",
       "99  -2.944439"
      ]
     },
     "execution_count": 4,
     "metadata": {},
     "output_type": "execute_result"
    }
   ],
   "source": [
    "y_df.tail()"
   ]
  },
  {
   "cell_type": "code",
   "execution_count": 5,
   "metadata": {
    "kernel": "SoS"
   },
   "outputs": [],
   "source": [
    "ys_1 = np.around(np.matmul(data.values, beta1s) + beta0, 6)\n",
    "y_df_1 = pd.DataFrame(ys_1)"
   ]
  },
  {
   "cell_type": "code",
   "execution_count": 6,
   "metadata": {
    "kernel": "SoS"
   },
   "outputs": [
    {
     "data": {
      "text/html": [
       "<div>\n",
       "<style scoped>\n",
       "    .dataframe tbody tr th:only-of-type {\n",
       "        vertical-align: middle;\n",
       "    }\n",
       "\n",
       "    .dataframe tbody tr th {\n",
       "        vertical-align: top;\n",
       "    }\n",
       "\n",
       "    .dataframe thead th {\n",
       "        text-align: right;\n",
       "    }\n",
       "</style>\n",
       "<table border=\"1\" class=\"dataframe\">\n",
       "  <thead>\n",
       "    <tr style=\"text-align: right;\">\n",
       "      <th></th>\n",
       "      <th>0</th>\n",
       "    </tr>\n",
       "  </thead>\n",
       "  <tbody>\n",
       "    <tr>\n",
       "      <th>95</th>\n",
       "      <td>-2.944439</td>\n",
       "    </tr>\n",
       "    <tr>\n",
       "      <th>96</th>\n",
       "      <td>43.804725</td>\n",
       "    </tr>\n",
       "    <tr>\n",
       "      <th>97</th>\n",
       "      <td>-2.944439</td>\n",
       "    </tr>\n",
       "    <tr>\n",
       "      <th>98</th>\n",
       "      <td>-0.131875</td>\n",
       "    </tr>\n",
       "    <tr>\n",
       "      <th>99</th>\n",
       "      <td>-2.944439</td>\n",
       "    </tr>\n",
       "  </tbody>\n",
       "</table>\n",
       "</div>"
      ],
      "text/plain": [
       "            0\n",
       "95  -2.944439\n",
       "96  43.804725\n",
       "97  -2.944439\n",
       "98  -0.131875\n",
       "99  -2.944439"
      ]
     },
     "execution_count": 6,
     "metadata": {},
     "output_type": "execute_result"
    }
   ],
   "source": [
    "y_df_1.tail()"
   ]
  },
  {
   "cell_type": "code",
   "execution_count": 7,
   "metadata": {
    "kernel": "SoS"
   },
   "outputs": [],
   "source": [
    "df = y_df == y_df_1"
   ]
  },
  {
   "cell_type": "code",
   "execution_count": 8,
   "metadata": {
    "kernel": "SoS"
   },
   "outputs": [
    {
     "data": {
      "text/plain": [
       "100"
      ]
     },
     "execution_count": 8,
     "metadata": {},
     "output_type": "execute_result"
    }
   ],
   "source": [
    "sum(df.iloc[:, 0].tolist())"
   ]
  },
  {
   "cell_type": "code",
   "execution_count": null,
   "metadata": {
    "kernel": "SoS"
   },
   "outputs": [],
   "source": []
  },
  {
   "cell_type": "code",
   "execution_count": 34,
   "metadata": {
    "kernel": "R"
   },
   "outputs": [],
   "source": [
    "susie_res = readRDS(\"/home/min/GIT/cnv-gene-mapping/data/simu_data_test/deletion_geneblock.sample.SuSiE.L_10.prior_0p005.susie.rds\")"
   ]
  },
  {
   "cell_type": "code",
   "execution_count": 35,
   "metadata": {
    "kernel": "R"
   },
   "outputs": [
    {
     "data": {
      "text/html": [
       "<ol class=list-inline>\n",
       "\t<li>'alpha'</li>\n",
       "\t<li>'mu'</li>\n",
       "\t<li>'mu2'</li>\n",
       "\t<li>'Xr'</li>\n",
       "\t<li>'KL'</li>\n",
       "\t<li>'lbf'</li>\n",
       "\t<li>'sigma2'</li>\n",
       "\t<li>'V'</li>\n",
       "\t<li>'pi'</li>\n",
       "\t<li>'null_index'</li>\n",
       "\t<li>'converged'</li>\n",
       "\t<li>'elbo'</li>\n",
       "\t<li>'niter'</li>\n",
       "\t<li>'intercept'</li>\n",
       "\t<li>'fitted'</li>\n",
       "\t<li>'sets'</li>\n",
       "\t<li>'pip'</li>\n",
       "\t<li>'X_column_scale_factors'</li>\n",
       "</ol>\n"
      ],
      "text/latex": [
       "\\begin{enumerate*}\n",
       "\\item 'alpha'\n",
       "\\item 'mu'\n",
       "\\item 'mu2'\n",
       "\\item 'Xr'\n",
       "\\item 'KL'\n",
       "\\item 'lbf'\n",
       "\\item 'sigma2'\n",
       "\\item 'V'\n",
       "\\item 'pi'\n",
       "\\item 'null\\_index'\n",
       "\\item 'converged'\n",
       "\\item 'elbo'\n",
       "\\item 'niter'\n",
       "\\item 'intercept'\n",
       "\\item 'fitted'\n",
       "\\item 'sets'\n",
       "\\item 'pip'\n",
       "\\item 'X\\_column\\_scale\\_factors'\n",
       "\\end{enumerate*}\n"
      ],
      "text/markdown": [
       "1. 'alpha'\n",
       "2. 'mu'\n",
       "3. 'mu2'\n",
       "4. 'Xr'\n",
       "5. 'KL'\n",
       "6. 'lbf'\n",
       "7. 'sigma2'\n",
       "8. 'V'\n",
       "9. 'pi'\n",
       "10. 'null_index'\n",
       "11. 'converged'\n",
       "12. 'elbo'\n",
       "13. 'niter'\n",
       "14. 'intercept'\n",
       "15. 'fitted'\n",
       "16. 'sets'\n",
       "17. 'pip'\n",
       "18. 'X_column_scale_factors'\n",
       "\n",
       "\n"
      ],
      "text/plain": [
       " [1] \"alpha\"                  \"mu\"                     \"mu2\"                   \n",
       " [4] \"Xr\"                     \"KL\"                     \"lbf\"                   \n",
       " [7] \"sigma2\"                 \"V\"                      \"pi\"                    \n",
       "[10] \"null_index\"             \"converged\"              \"elbo\"                  \n",
       "[13] \"niter\"                  \"intercept\"              \"fitted\"                \n",
       "[16] \"sets\"                   \"pip\"                    \"X_column_scale_factors\""
      ]
     },
     "metadata": {},
     "output_type": "display_data"
    }
   ],
   "source": [
    "names(susie_res)"
   ]
  },
  {
   "cell_type": "code",
   "execution_count": 36,
   "metadata": {
    "kernel": "R"
   },
   "outputs": [
    {
     "data": {
      "text/html": [
       "0.000428311322192899"
      ],
      "text/latex": [
       "0.000428311322192899"
      ],
      "text/markdown": [
       "0.000428311322192899"
      ],
      "text/plain": [
       "[1] 0.0004283113"
      ]
     },
     "metadata": {},
     "output_type": "display_data"
    }
   ],
   "source": [
    "mean(susie_res$pip)"
   ]
  },
  {
   "cell_type": "code",
   "execution_count": 37,
   "metadata": {
    "kernel": "R"
   },
   "outputs": [
    {
     "data": {
      "text/html": [
       "<ol class=list-inline>\n",
       "\t<li>0.000720605313331291</li>\n",
       "\t<li>0.000720605313331291</li>\n",
       "\t<li>0.000720605313331291</li>\n",
       "\t<li>0.000720605313331291</li>\n",
       "\t<li>0.000720605313331291</li>\n",
       "</ol>\n"
      ],
      "text/latex": [
       "\\begin{enumerate*}\n",
       "\\item 0.000720605313331291\n",
       "\\item 0.000720605313331291\n",
       "\\item 0.000720605313331291\n",
       "\\item 0.000720605313331291\n",
       "\\item 0.000720605313331291\n",
       "\\end{enumerate*}\n"
      ],
      "text/markdown": [
       "1. 0.000720605313331291\n",
       "2. 0.000720605313331291\n",
       "3. 0.000720605313331291\n",
       "4. 0.000720605313331291\n",
       "5. 0.000720605313331291\n",
       "\n",
       "\n"
      ],
      "text/plain": [
       "[1] 0.0007206053 0.0007206053 0.0007206053 0.0007206053 0.0007206053"
      ]
     },
     "metadata": {},
     "output_type": "display_data"
    }
   ],
   "source": [
    "tail(sort(susie_res$pip), 5)"
   ]
  },
  {
   "cell_type": "code",
   "execution_count": 38,
   "metadata": {
    "kernel": "R"
   },
   "outputs": [],
   "source": [
    "# %put susie_res"
   ]
  },
  {
   "cell_type": "code",
   "execution_count": 40,
   "metadata": {
    "kernel": "SoS"
   },
   "outputs": [],
   "source": [
    "susie_res[\"pip\"].index(max(susie_res[\"pip\"]))"
   ]
  },
  {
   "cell_type": "code",
   "execution_count": 150,
   "metadata": {
    "kernel": "SoS"
   },
   "outputs": [
    {
     "name": "stdout",
     "output_type": "stream",
     "text": [
      "16007\n",
      "16008\n",
      "16009\n",
      "16010\n",
      "16011\n",
      "16012\n"
     ]
    }
   ],
   "source": [
    "for i,j in enumerate(susie_res[\"pip\"]):\n",
    "    if j == max(susie_res[\"pip\"]):\n",
    "        print (i)"
   ]
  },
  {
   "cell_type": "code",
   "execution_count": 8,
   "metadata": {
    "kernel": "SoS"
   },
   "outputs": [
    {
     "data": {
      "text/plain": [
       "dict_keys(['alpha', 'mu', 'mu2', 'Xr', 'KL', 'lbf', 'sigma2', 'V', 'pi', 'null_index', 'converged', 'elbo', 'niter', 'intercept', 'fitted', 'sets', 'pip', 'X_column_scale_factors'])"
      ]
     },
     "execution_count": 8,
     "metadata": {},
     "output_type": "execute_result"
    }
   ],
   "source": [
    "susie_res.keys()"
   ]
  },
  {
   "cell_type": "code",
   "execution_count": 153,
   "metadata": {
    "kernel": "SoS"
   },
   "outputs": [
    {
     "data": {
      "text/plain": [
       "[0.000665602401835996,\n",
       " 0.000665783181054036,\n",
       " 0.000665783181054036,\n",
       " 0.000665783181054036,\n",
       " 0.000761617759273969,\n",
       " 0.000761617759273969,\n",
       " 0.000761617759273969,\n",
       " 0.000761617759273969,\n",
       " 0.000761617759273969,\n",
       " 0.000761617759273969]"
      ]
     },
     "execution_count": 153,
     "metadata": {},
     "output_type": "execute_result"
    }
   ],
   "source": [
    "sorted(susie_res[\"pip\"])[-10:]"
   ]
  },
  {
   "cell_type": "code",
   "execution_count": 154,
   "metadata": {
    "kernel": "SoS"
   },
   "outputs": [
    {
     "data": {
      "text/plain": [
       "[0.622747786415506,\n",
       " 0.62230394639043,\n",
       " 0.622833298789739,\n",
       " 0.62230394639043,\n",
       " 0.626508087810574,\n",
       " 0.622663406869125,\n",
       " 0.623389166799308,\n",
       " 0.623124755851558,\n",
       " 0.623217382940279,\n",
       " 0.62230394639043]"
      ]
     },
     "execution_count": 154,
     "metadata": {},
     "output_type": "execute_result"
    }
   ],
   "source": [
    "susie_res[\"fitted\"][:10]"
   ]
  },
  {
   "cell_type": "code",
   "execution_count": 155,
   "metadata": {
    "kernel": "SoS"
   },
   "outputs": [
    {
     "data": {
      "text/plain": [
       "dict_keys(['cs', 'coverage'])"
      ]
     },
     "execution_count": 155,
     "metadata": {},
     "output_type": "execute_result"
    }
   ],
   "source": [
    "susie_res[\"sets\"].keys()"
   ]
  },
  {
   "cell_type": "code",
   "execution_count": 156,
   "metadata": {
    "kernel": "SoS"
   },
   "outputs": [
    {
     "data": {
      "text/plain": [
       "{'coverage': 0.95, 'cs': None}"
      ]
     },
     "execution_count": 156,
     "metadata": {},
     "output_type": "execute_result"
    }
   ],
   "source": [
    "susie_res[\"sets\"]"
   ]
  },
  {
   "cell_type": "code",
   "execution_count": null,
   "metadata": {
    "kernel": "SoS"
   },
   "outputs": [],
   "source": []
  },
  {
   "cell_type": "code",
   "execution_count": 26,
   "metadata": {
    "kernel": "SoS"
   },
   "outputs": [],
   "source": [
    "import pandas as pd"
   ]
  },
  {
   "cell_type": "code",
   "execution_count": 32,
   "metadata": {
    "kernel": "SoS"
   },
   "outputs": [],
   "source": [
    "d = pd.read_table(\"/home/min/GIT/cnv-gene-mapping/data/simu_data_test/deletion_geneblock.sample.y.gz\", compression = \"gzip\", sep = \"\\t\", header = None)"
   ]
  },
  {
   "cell_type": "code",
   "execution_count": 33,
   "metadata": {
    "kernel": "SoS"
   },
   "outputs": [
    {
     "data": {
      "text/html": [
       "<div>\n",
       "<style scoped>\n",
       "    .dataframe tbody tr th:only-of-type {\n",
       "        vertical-align: middle;\n",
       "    }\n",
       "\n",
       "    .dataframe tbody tr th {\n",
       "        vertical-align: top;\n",
       "    }\n",
       "\n",
       "    .dataframe thead th {\n",
       "        text-align: right;\n",
       "    }\n",
       "</style>\n",
       "<table border=\"1\" class=\"dataframe\">\n",
       "  <thead>\n",
       "    <tr style=\"text-align: right;\">\n",
       "      <th></th>\n",
       "      <th>0</th>\n",
       "    </tr>\n",
       "  </thead>\n",
       "  <tbody>\n",
       "    <tr>\n",
       "      <th>0</th>\n",
       "      <td>0.226804</td>\n",
       "    </tr>\n",
       "    <tr>\n",
       "      <th>1</th>\n",
       "      <td>0.999957</td>\n",
       "    </tr>\n",
       "    <tr>\n",
       "      <th>2</th>\n",
       "      <td>0.050000</td>\n",
       "    </tr>\n",
       "    <tr>\n",
       "      <th>3</th>\n",
       "      <td>1.000000</td>\n",
       "    </tr>\n",
       "    <tr>\n",
       "      <th>4</th>\n",
       "      <td>0.999973</td>\n",
       "    </tr>\n",
       "  </tbody>\n",
       "</table>\n",
       "</div>"
      ],
      "text/plain": [
       "          0\n",
       "0  0.226804\n",
       "1  0.999957\n",
       "2  0.050000\n",
       "3  1.000000\n",
       "4  0.999973"
      ]
     },
     "execution_count": 33,
     "metadata": {},
     "output_type": "execute_result"
    }
   ],
   "source": [
    "d.head()"
   ]
  },
  {
   "cell_type": "code",
   "execution_count": 34,
   "metadata": {
    "kernel": "SoS"
   },
   "outputs": [],
   "source": [
    "d1 = pd.read_table(\"/home/min/GIT/cnv-gene-mapping/data/simu_data_test/v1/deletion_geneblock.sample.y.gz\", compression = \"gzip\", sep = \"\\t\", header = None)"
   ]
  },
  {
   "cell_type": "code",
   "execution_count": 35,
   "metadata": {
    "kernel": "SoS"
   },
   "outputs": [
    {
     "data": {
      "text/html": [
       "<div>\n",
       "<style scoped>\n",
       "    .dataframe tbody tr th:only-of-type {\n",
       "        vertical-align: middle;\n",
       "    }\n",
       "\n",
       "    .dataframe tbody tr th {\n",
       "        vertical-align: top;\n",
       "    }\n",
       "\n",
       "    .dataframe thead th {\n",
       "        text-align: right;\n",
       "    }\n",
       "</style>\n",
       "<table border=\"1\" class=\"dataframe\">\n",
       "  <thead>\n",
       "    <tr style=\"text-align: right;\">\n",
       "      <th></th>\n",
       "      <th>0</th>\n",
       "    </tr>\n",
       "  </thead>\n",
       "  <tbody>\n",
       "    <tr>\n",
       "      <th>0</th>\n",
       "      <td>0.986416</td>\n",
       "    </tr>\n",
       "    <tr>\n",
       "      <th>1</th>\n",
       "      <td>0.050000</td>\n",
       "    </tr>\n",
       "    <tr>\n",
       "      <th>2</th>\n",
       "      <td>0.999957</td>\n",
       "    </tr>\n",
       "    <tr>\n",
       "      <th>3</th>\n",
       "      <td>0.050000</td>\n",
       "    </tr>\n",
       "    <tr>\n",
       "      <th>4</th>\n",
       "      <td>1.000000</td>\n",
       "    </tr>\n",
       "  </tbody>\n",
       "</table>\n",
       "</div>"
      ],
      "text/plain": [
       "          0\n",
       "0  0.986416\n",
       "1  0.050000\n",
       "2  0.999957\n",
       "3  0.050000\n",
       "4  1.000000"
      ]
     },
     "execution_count": 35,
     "metadata": {},
     "output_type": "execute_result"
    }
   ],
   "source": [
    "d1.head()"
   ]
  },
  {
   "cell_type": "code",
   "execution_count": null,
   "metadata": {
    "kernel": "SoS"
   },
   "outputs": [],
   "source": []
  }
 ],
 "metadata": {
  "kernelspec": {
   "display_name": "SoS",
   "language": "sos",
   "name": "sos"
  },
  "language_info": {
   "codemirror_mode": "sos",
   "file_extension": ".sos",
   "mimetype": "text/x-sos",
   "name": "sos",
   "nbconvert_exporter": "sos_notebook.converter.SoS_Exporter",
   "pygments_lexer": "sos"
  },
  "sos": {
   "kernels": [
    [
     "Python3",
     "python3",
     "Python3",
     "#FFD91A"
    ],
    [
     "R",
     "ir",
     "R",
     "#DCDCDA"
    ],
    [
     "SoS",
     "sos",
     "",
     ""
    ]
   ],
   "version": "0.19.16"
  }
 },
 "nbformat": 4,
 "nbformat_minor": 4
}
