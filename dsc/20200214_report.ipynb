{
 "cells": [
  {
   "cell_type": "markdown",
   "metadata": {
    "kernel": "SoS"
   },
   "source": [
    "# Answers for new comments in January 2020"
   ]
  },
  {
   "cell_type": "markdown",
   "metadata": {
    "kernel": "SoS"
   },
   "source": [
    "## PIPs of logistic method in non-signal blocks are expected to be approximately equal\n",
    "Result of an example: logistic model on non-signal block_37_44\n",
    "\n",
    "             p1        mu1        s1\n",
    "    1 0.1187680 0.16859762 0.5349063\n",
    "    2 0.1029645 0.02141242 0.4856847\n",
    "    3 0.1143664 0.29242630 0.4309201\n",
    "    4 0.1327802 0.35716902 0.4770831\n",
    "    5 0.1327802 0.35716902 0.4770831\n",
    "    6 0.1327802 0.35716902 0.4770831\n",
    "    7 0.1327802 0.35716902 0.4770831\n",
    "    8 0.1327802 0.35716902 0.4770831"
   ]
  },
  {
   "cell_type": "markdown",
   "metadata": {
    "kernel": "SoS"
   },
   "source": [
    "## Compare logistic and pymc3 on simulated single causal gene block.\n",
    "n_gene_in_block = 20, sample_size = $200,000$, Normal(0,1)\n",
    "\n",
    "single effect gene results: pymc3 is expected the same with logistic. But they are not.\n",
    "\n",
    "pymc3 and logistic parameter? \n",
    "```\n",
    "block   gene            beta         fisher  logit   pymc3   susie\n",
    "block11 gene_433        2.284277     1.0     0.25    0.015   0.25\n",
    "block11 gene_434        0.0          1.0     0.25    0.0155  0.25\n",
    "block11 gene_435        0.0          1.0     0.25    0.0225  0.25\n",
    "block11 gene_436        0.0          1.0     0.25    0.023   0.25\n",
    "block14 gene_537        1.936461     0.124964     0.48407 0.1745  0.43986\n",
    "block14 gene_538        0.0          0.124964     0.03186 0.0245  0.120279\n",
    "block14 gene_539        0.0          0.614118      0.48407 0.1625  0.43986\n",
    "block30 gene_1023       0.168515     0.000725   0.009575        0.0255  0.01413\n",
    "block30 gene_1024       0.0          0.012910    0.009575        0.027   0.01413\n",
    "block30 gene_1025       0.0          0.012910    0.492172        0.591   0.412198\n",
    "block30 gene_1026       0.0          0.012910    0.044425        0.048   0.050867\n",
    "block30 gene_1027       0.0          0.012910    0.044425        0.0645  0.050867\n",
    "block30 gene_1028       0.0          0.012910    0.044425        0.0655  0.050867\n",
    "block30 gene_1029       0.0          0.012910    0.044425        0.0755  0.050867\n",
    "block30 gene_1030       0.0          0.012910    0.044425        0.0655  0.050867\n",
    "block30 gene_1031       0.0          0.012910    0.044425        0.073   0.050867\n",
    "block30 gene_1032       0.0          0.012910    0.044425        0.0675  0.050867\n",
    "block30 gene_1033       0.0          0.012910    0.044425        0.059   0.050867\n",
    "block30 gene_1034       0.0          0.012910    0.044425        0.061   0.050867\n",
    "block30 gene_1035       0.0          0.063449     0.044425        0.0655  0.050867\n",
    "block30 gene_1036       0.0          0.063449     0.044425        0.0765  0.050867\n",
    "\n",
    "```"
   ]
  },
  {
   "cell_type": "markdown",
   "metadata": {
    "kernel": "SoS"
   },
   "source": [
    "## Real deletion CNV data\n"
   ]
  },
  {
   "cell_type": "markdown",
   "metadata": {
    "kernel": "SoS"
   },
   "source": [
    "## ROC curve issue\n"
   ]
  },
  {
   "cell_type": "code",
   "execution_count": null,
   "metadata": {
    "kernel": "SoS"
   },
   "outputs": [],
   "source": []
  }
 ],
 "metadata": {
  "kernelspec": {
   "display_name": "SoS",
   "language": "sos",
   "name": "sos"
  },
  "language_info": {
   "codemirror_mode": "sos",
   "file_extension": ".sos",
   "mimetype": "text/x-sos",
   "name": "sos",
   "nbconvert_exporter": "sos_notebook.converter.SoS_Exporter",
   "pygments_lexer": "sos"
  },
  "sos": {
   "kernels": [
    [
     "SoS",
     "sos",
     "",
     ""
    ]
   ],
   "version": "0.21.7"
  }
 },
 "nbformat": 4,
 "nbformat_minor": 4
}
