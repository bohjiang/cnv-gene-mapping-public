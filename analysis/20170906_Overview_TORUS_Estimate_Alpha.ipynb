{
 "cells": [
  {
   "cell_type": "markdown",
   "metadata": {},
   "source": [
    "# Use TORUS to estimate α for toy of multi-CNV-causal-gene example"
   ]
  },
  {
   "cell_type": "markdown",
   "metadata": {},
   "source": [
    "### Methods\n",
    "Generate summary statistics and snp(gene) annotation file: beta, z_score, p-value and snp_anno."
   ]
  },
  {
   "cell_type": "markdown",
   "metadata": {
    "collapsed": true
   },
   "source": [
    "### Results for toy example\n",
    "#### Gene annotation has two categories, 0 for non-causal genes and 1 for causal genes.\n",
    "The results for enrichment analysis is directly output to the screen. 1st column represents the annotation name and its corresponding level; 2nd column is the point estimate (MLE) of the log odds ratio.\n",
    "\n",
    "    Read in 1 loci, 15 locus-SNP pairs ... \n",
    "    Loading annotations ... \n",
    "    Initializing ... \n",
    "    Starting EM ... \n",
    "      Iter          loglik          Intercept    binding.1\t\n",
    "       1             3.707           -8.932      8.880  \n",
    "       2             9.214          -17.786     17.786  \n",
    "       3             9.217          -26.693     26.692  \n",
    "\n",
    "The 1st column represents the annotation name and its corresponding level for a categorical variable. The 2nd column is the point estimate (MLE) of the log odds ratio. Columns 3-4 represent the 95% confidence interval for the corresponding point estimate.\n",
    "```sh\n",
    "cat toy_multi_beta.est\n",
    "```\n",
    "\n",
    "                Intercept    -26.693       -33.008    -20.378\n",
    "                binding.1     26.692        14.507     38.878\n",
    "\n",
    "#### Gene annotation has five categories, 1 for causal genes, 0,2,3,4,5 randomly for noncausal genes.\n",
    "\n",
    "    Read in 1 loci, 15 locus-SNP pairs ... \n",
    "    Loading annotations ... \n",
    "    Initializing ... \n",
    "    Starting EM ... \n",
    "     Iter          loglik          Intercept    binding.1\tbinding.2\tbinding.3\tbinding.4\tbinding.5\t\n",
    "      1             3.707           -8.887      8.836     -0.439      1.111     -2.305     -2.188  \n",
    "      2             9.214          -17.697     17.697     -0.878      2.222     -4.610     -4.376  \n",
    "      3             9.217          -26.558     26.558     -1.318      3.333     -6.915     -6.564  \n",
    "```sh\n",
    "cat toy_multi_beta.est\n",
    "```\n",
    "                Intercept    -26.558       -32.745    -20.372\n",
    "                binding.1     26.558        14.434     38.682\n",
    "                binding.2     -1.315     -18232.648  18230.017\n",
    "                binding.3      0.002       -27.394     27.398\n",
    "                binding.4     -6.430     -89122.044  89109.184\n",
    "                binding.5     -6.181     -85665.902  85653.540\n",
    "\n",
    "#### Another random selection of category for noncausal\n",
    "```sh\n",
    "cat toy_multi_beta.est\n",
    "```\n",
    "                Intercept    -24.357       -30.950    -17.765\n",
    "                binding.1     24.357        13.238     35.477\n",
    "                binding.2     -3.519     -48780.499  48773.460\n",
    "                binding.3     -9.031     -125166.806  125148.745\n",
    "                binding.4     -8.069     -111841.390  111825.252\n",
    "                binding.5     -0.332     -4604.324   4603.660"
   ]
  },
  {
   "cell_type": "markdown",
   "metadata": {},
   "source": [
    "### Results for simulation of calcium pathway\n",
    "For a block with 154 genes and 3 pathway genes.\n",
    "\n",
    "    Read in 1 loci, 154 locus-SNP pairs ... \n",
    "    Loading annotations ... \n",
    "    Initializing ... \n",
    "    Starting EM ... \n",
    "      Iter          loglik          Intercept    binding.1\t\n",
    "       1            42.135           -5.011    -43.163  \n",
    "       2            43.182           -5.011    -86.325  \n",
    "       3            43.182           -5.011   -129.488  \n",
    "\n",
    "                Intercept     -5.011        -5.710     -4.311\n",
    "                binding.1   -129.467     -1400.350   1141.417\n",
    "                \n",
    "The results are not good as toy example. Possible reason: the number of pathway genes in the block are too small, and less enriched.\n",
    "\n",
    "```sh\n",
    "zcat beta_cal.gz | sort -g -k5 | head\n",
    "```\n",
    "    SNP\tgene\tbeta\tt-stat\tp-value\n",
    "    chr19.ASCL5\tchr19\t3.302356447773132\t3.6733285254284995\t0.00011970567845299007\n",
    "    chr19.TMEM9\tchr19\t3.141008014359456\t3.3010632133531606\t0.0004815958936069019\n",
    "    chr19.CACNA1S\tchr19\t1.8940995549606379\t3.219950830145122\t0.0006410629282641708\n",
    "    chr19.IGFN1\tchr19\t3.049533723580341\t3.100610144021824\t0.0009656118670804268\n",
    "    chr19.MIR181A1HG\tchr19\t2.837220361689136\t2.6624286527569483\t0.003878950707512544\n",
    "    chr19.PKP1\tchr19\t2.837220361689136\t2.6624286527569483\t0.003878950707512544\n",
    "    chr19.KIF21B\tchr19\t1.6144542259377332\t2.4895674361761717\t0.006394932614636361\n",
    "    chr19.ZBED6\tchr19\t2.71155546257809\t2.4194721508291135\t0.007771525426482575\n",
    "    chr19.ZC3H11A\tchr19\t2.71155546257809\t2.4194721508291135\t0.007771525426482575\n",
    "\n",
    "```sh\n",
    "grep '1$' <(zcat snp_anno_cal.gz) | cut -f1 |grep -f /dev/stdin <(zcat beta_cal.gz)\n",
    "```\n",
    "    chr19.ATP2B4\tchr19\t1.6124431738995637\t1.8116577421270705\t0.03501954845978576\n",
    "    chr19.AVPR1B\tchr19\t1.4688408257348389\t1.535456261112781\t0.0623358965251952\n",
    "    chr19.CACNA1S\tchr19\t1.8940995549606379\t3.219950830145122\t0.0006410629282641708\n"
   ]
  },
  {
   "cell_type": "markdown",
   "metadata": {},
   "source": [
    "### Use Sweden Schizophrenia data - calcium pathway, to perform TORUS\n",
    "1. There are 178 genes in calcium pathway, need to find start and end positions for each gene to determine which and how many genes are overlapped with CNV(s).\n",
    "\n",
    "2. The Sweden data are not perfect individual level data, need to transform to what we need for analysis."
   ]
  },
  {
   "cell_type": "code",
   "execution_count": null,
   "metadata": {
    "collapsed": true
   },
   "outputs": [],
   "source": []
  }
 ],
 "metadata": {
  "kernelspec": {
   "display_name": "Python 3",
   "language": "python",
   "name": "python3"
  },
  "language_info": {
   "codemirror_mode": {
    "name": "ipython",
    "version": 3
   },
   "file_extension": ".py",
   "mimetype": "text/x-python",
   "name": "python",
   "nbconvert_exporter": "python",
   "pygments_lexer": "ipython3",
   "version": "3.5.2"
  }
 },
 "nbformat": 4,
 "nbformat_minor": 2
}
