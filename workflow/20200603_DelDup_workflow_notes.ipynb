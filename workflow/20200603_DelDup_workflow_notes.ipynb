{
 "cells": [
  {
   "cell_type": "markdown",
   "metadata": {
    "kernel": "SoS"
   },
   "source": [
    "# CNV deletion and duplication"
   ]
  },
  {
   "cell_type": "markdown",
   "metadata": {
    "kernel": "SoS"
   },
   "source": [
    "## fisher on desktop\n",
    "```\n",
    "sos run workflow/20190717_workflow.ipynb fisher \\\n",
    "    --name fisher \\\n",
    "    --cwd output/deldup/ \\\n",
    "    --genotype-file data/del_dup.X.colnames.gz \\\n",
    "    --phenotype-file data/del_dup.y.colnames.gz\n",
    "```\n",
    "\n",
    "## whole genome varbvs on desktop\n",
    "```\n",
    "sos run workflow/20190717_workflow.ipynb varbvs_wg \\\n",
    "    --name varbvs_wg \\\n",
    "    --cwd output/deldup/ \\\n",
    "    --genotype-file data/del_dup.X.colnames.gz \\\n",
    "    --phenotype-file data/del_dup.y.colnames.gz \\\n",
    "    -s build\n",
    "```\n",
    "\n",
    "## SuSiE on desktop\n",
    "```\n",
    "sos run workflow/20190717_workflow.ipynb susie \\\n",
    "    --name susie \\\n",
    "    --cwd output/deldup/ \\\n",
    "    --genotype-file data/del_dup.X.colnames.gz \\\n",
    "    --phenotype-file data/del_dup.y.colnames.gz \\\n",
    "    --hyperparam_file output/deldup/del_dup.X.varbvs_wg.hyperparams \\\n",
    "    -s build\n",
    "```\n",
    "\n",
    "## sier\n",
    "```\n",
    "cd /home/gaow/GIT/github/cnv-gene-mapping\n",
    "JOB_OPT=\"-q midway2 -c midway2.yml\"\n",
    "sos run workflow/20190717_workflow.ipynb sier \\\n",
    "    --name sier \\\n",
    "    --cwd output/deldup/ \\\n",
    "    --genotype-file data/del_dup.X.colnames.gz \\\n",
    "    --phenotype-file data/del_dup.y.colnames.gz \\\n",
    "    --job_size 5 -s build \\\n",
    "    $JOB_OPT\n",
    "```"
   ]
  },
  {
   "cell_type": "code",
   "execution_count": null,
   "metadata": {
    "kernel": "SoS"
   },
   "outputs": [],
   "source": []
  }
 ],
 "metadata": {
  "kernelspec": {
   "display_name": "SoS",
   "language": "sos",
   "name": "sos"
  },
  "language_info": {
   "codemirror_mode": "sos",
   "file_extension": ".sos",
   "mimetype": "text/x-sos",
   "name": "sos",
   "nbconvert_exporter": "sos_notebook.converter.SoS_Exporter",
   "pygments_lexer": "sos"
  },
  "sos": {
   "kernels": [
    [
     "SoS",
     "sos",
     "",
     ""
    ]
   ],
   "version": "0.21.7"
  }
 },
 "nbformat": 4,
 "nbformat_minor": 4
}
