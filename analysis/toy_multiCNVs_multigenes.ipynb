{
 "cells": [
  {
   "cell_type": "code",
   "execution_count": 1,
   "metadata": {
    "collapsed": true
   },
   "outputs": [],
   "source": [
    "import numpy as np\n",
    "import pandas as pd\n",
    "import feather\n",
    "from pandasql import sqldf\n",
    "from fisher import pvalue\n",
    "from scipy import stats\n",
    "from pprint import pprint\n",
    "from collections import Counter"
   ]
  },
  {
   "cell_type": "code",
   "execution_count": 32,
   "metadata": {
    "scrolled": true
   },
   "outputs": [
    {
     "name": "stdout",
     "output_type": "stream",
     "text": [
      "array([ 0,  0,  2,  0,  1,  3,  8,  0,  4,  2,  1,  0,  2,  1,  1,  1,  0,\n",
      "        2,  3,  1,  4,  0,  0,  3,  2,  5,  0,  8,  2,  4,  0,  0, 10,  6,\n",
      "        0,  2,  0,  1,  2,  0])\n",
      "[0,\n",
      " 0,\n",
      " 2,\n",
      " 0,\n",
      " 1,\n",
      " 3,\n",
      " 8,\n",
      " 0,\n",
      " 4,\n",
      " 2,\n",
      " 1,\n",
      " 0,\n",
      " 2,\n",
      " 1,\n",
      " 1,\n",
      " 1,\n",
      " 0,\n",
      " 2,\n",
      " 3,\n",
      " 1,\n",
      " 4,\n",
      " 0,\n",
      " 0,\n",
      " 3,\n",
      " 2,\n",
      " 5,\n",
      " 0,\n",
      " 8,\n",
      " 2,\n",
      " 4,\n",
      " 0,\n",
      " 0,\n",
      " 10,\n",
      " 6,\n",
      " 0,\n",
      " 2,\n",
      " 0,\n",
      " 1,\n",
      " 2,\n",
      " 0]\n"
     ]
    }
   ],
   "source": [
    "p = 0.3\n",
    "n_cnv = 40\n",
    "n_max = 10\n",
    "const = 1\n",
    "# trun_sum = sum([p*(1-p)**(n_max-1-i) for i in range(n_max)])\n",
    "# seed = 999\n",
    "# np.random.seed(seed)\n",
    "cnv_len = np.random.choice((np.random.geometric(p, size=n_cnv) - 1), n_cnv, replace=False)\n",
    "cnv_len = cnv_len[cnv_len <= 10].tolist()\n",
    "print (cnv_len)"
   ]
  },
  {
   "cell_type": "code",
   "execution_count": 33,
   "metadata": {},
   "outputs": [
    {
     "name": "stdout",
     "output_type": "stream",
     "text": [
      "[0, 0, 2, 0, 1, 3, 8, 0, 4, 2, 1, 0, 2, 1, 1, 1, 0, 2, 3, 1, 4, 0, 0, 3, 2, 5, 0, 8, 2, 4, 0, 0, 10, 6, 0, 2, 0, 1, 2, 0]\n"
     ]
    }
   ],
   "source": [
    "print (cnv_len)"
   ]
  },
  {
   "cell_type": "code",
   "execution_count": 40,
   "metadata": {
    "scrolled": true
   },
   "outputs": [
    {
     "data": {
      "text/plain": [
       "[-1,\n",
       " -1,\n",
       " 6,\n",
       " -1,\n",
       " 7,\n",
       " 1,\n",
       " 1,\n",
       " -1,\n",
       " 5,\n",
       " 7,\n",
       " 7,\n",
       " -1,\n",
       " 1,\n",
       " 5,\n",
       " 7,\n",
       " 6,\n",
       " -1,\n",
       " 6,\n",
       " 1,\n",
       " 2,\n",
       " 0,\n",
       " -1,\n",
       " -1,\n",
       " 5,\n",
       " 8,\n",
       " 1,\n",
       " -1,\n",
       " 0,\n",
       " 8,\n",
       " 3,\n",
       " -1,\n",
       " -1,\n",
       " 0,\n",
       " 2,\n",
       " -1,\n",
       " 1,\n",
       " -1,\n",
       " 1,\n",
       " 8,\n",
       " -1]"
      ]
     },
     "execution_count": 40,
     "metadata": {},
     "output_type": "execute_result"
    }
   ],
   "source": [
    "[np.random.choice(range(n_max+1-i)) if i!=0 else -1 for i in cnv_len]\n",
    "    "
   ]
  },
  {
   "cell_type": "code",
   "execution_count": null,
   "metadata": {
    "collapsed": true
   },
   "outputs": [],
   "source": []
  }
 ],
 "metadata": {
  "kernelspec": {
   "display_name": "Python 3",
   "language": "python",
   "name": "python3"
  },
  "language_info": {
   "codemirror_mode": {
    "name": "ipython",
    "version": 3
   },
   "file_extension": ".py",
   "mimetype": "text/x-python",
   "name": "python",
   "nbconvert_exporter": "python",
   "pygments_lexer": "ipython3",
   "version": "3.5.2"
  }
 },
 "nbformat": 4,
 "nbformat_minor": 2
}
