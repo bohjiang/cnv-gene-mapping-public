{
 "cells": [
  {
   "cell_type": "markdown",
   "metadata": {},
   "source": [
    "# plink\n",
    "http://pngu.mgh.harvard.edu/~purcell/plink/cnv.shtml\n",
    "http://pngu.mgh.harvard.edu/~purcell/plink/cnvfreqs.shtml\n",
    "```\n",
    "FID   Family ID\n",
    "IID   Individual ID\n",
    "CHR   Chromosome code\n",
    "BP1   Segment start (bp)\n",
    "BP2   Segment end (bp) \n",
    "TYPE    Type of variant, e.g. 0,1 or 3,4 copies\n",
    "SCORE   Confidence score associated with variant \n",
    "SITES   Number of probes in the variant\n",
    "\n",
    "PHE     Phenotype \n",
    "NSEG    Number of segments that individual has\n",
    "KB      Total kilobase distance spanned by segments \n",
    "KBAVG   Average segment size\n",
    "```\n",
    "--cnv-subset mylist.txt\n",
    "takes a list of region names and extracts just these from the main"
   ]
  },
  {
   "cell_type": "code",
   "execution_count": null,
   "metadata": {
    "collapsed": true,
    "kernel": "python"
   },
   "outputs": [],
   "source": []
  }
 ],
 "metadata": {
  "kernelspec": {
   "display_name": "SoS",
   "language": "sos",
   "name": "sos"
  },
  "language_info": {
   "file_extension": ".sos",
   "mimetype": "text/x-sos",
   "name": "sos",
   "nbconvert_exporter": "sos.jupyter.converter.SoS_Exporter",
   "pygments_lexer": "python"
  },
  "sos": {
   "kernels": [
    [
     "SoS",
     "sos",
     "",
     ""
    ],
    [
     "python",
     "python3",
     "",
     ""
    ]
   ]
  }
 },
 "nbformat": 4,
 "nbformat_minor": 2
}
