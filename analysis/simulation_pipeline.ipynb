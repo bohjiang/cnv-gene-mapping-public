{
 "cells": [
  {
   "cell_type": "markdown",
   "metadata": {},
   "source": [
    "# Simulation pipeline"
   ]
  },
  {
   "cell_type": "markdown",
   "metadata": {
    "output_cache": "[]"
   },
   "source": [
    "This is the pipeline versions of simulation and data analysis of gene-based CNV analysis methods.\n",
    "## Large scale Bayesian variable selection\n",
    "This pipeline implements simulation and data analysis using Carbonetto & Stephens 2012."
   ]
  },
  {
   "cell_type": "code",
   "execution_count": 1,
   "metadata": {
    "kernel": "sos",
    "output_cache": "[{\"output_type\":\"stream\",\"text\":\"Set sos options to \\\"-j 4 -s build\\\"\\n\",\"name\":\"stdout\"},{\"output_type\":\"display_data\",\"data\":{\"text/html\":\"<table id=\\\"table_e48d03a5c429b8cd75cbea1941b28d05\\\" style=\\\"border: 0px\\\"><tr style=\\\"border: 0px\\\">\\n                            <td style=\\\"border: 0px\\\"><i id=\\\"e48d03a5c429b8cd75cbea1941b28d05\\\" class=\\\"fa fa-2x fa-fw fa-square-o\\\"></i> </td>\\n                            <td style=\\\"border: 0px\\\"><pre>e48d03a5c429b8cd75cbea1941b28d05</pre></td>\\n                            </tr></table>\"},\"metadata\":{}},{\"output_type\":\"display_data\",\"data\":{\"text/html\":\"<table id=\\\"table_c1e2510ee12d8a2f8dfd794aa4d8a8ef\\\" style=\\\"border: 0px\\\"><tr style=\\\"border: 0px\\\">\\n                            <td style=\\\"border: 0px\\\"><i id=\\\"c1e2510ee12d8a2f8dfd794aa4d8a8ef\\\" class=\\\"fa fa-2x fa-fw fa-square-o\\\"></i> </td>\\n                            <td style=\\\"border: 0px\\\"><pre>c1e2510ee12d8a2f8dfd794aa4d8a8ef</pre></td>\\n                            </tr></table>\"},\"metadata\":{}},{\"output_type\":\"display_data\",\"data\":{\"text/html\":\"<table id=\\\"table_e4627ef11008c07ae98e44ee3bcd9ccc\\\" style=\\\"border: 0px\\\"><tr style=\\\"border: 0px\\\">\\n                            <td style=\\\"border: 0px\\\"><i id=\\\"e4627ef11008c07ae98e44ee3bcd9ccc\\\" class=\\\"fa fa-2x fa-fw fa-square-o\\\"></i> </td>\\n                            <td style=\\\"border: 0px\\\"><pre>e4627ef11008c07ae98e44ee3bcd9ccc</pre></td>\\n                            </tr></table>\"},\"metadata\":{}},{\"output_type\":\"display_data\",\"data\":{\"text/html\":\"<table id=\\\"table_67e518eb863f245bde1e0046028e4934\\\" style=\\\"border: 0px\\\"><tr style=\\\"border: 0px\\\">\\n                            <td style=\\\"border: 0px\\\"><i id=\\\"67e518eb863f245bde1e0046028e4934\\\" class=\\\"fa fa-2x fa-fw fa-square-o\\\"></i> </td>\\n                            <td style=\\\"border: 0px\\\"><pre>67e518eb863f245bde1e0046028e4934</pre></td>\\n                            </tr></table>\"},\"metadata\":{}},{\"output_type\":\"display_data\",\"data\":{\"text/html\":\"<table id=\\\"table_6e6962ef53c3a9da487e2052a0023806\\\" style=\\\"border: 0px\\\"><tr style=\\\"border: 0px\\\">\\n                            <td style=\\\"border: 0px\\\"><i id=\\\"6e6962ef53c3a9da487e2052a0023806\\\" class=\\\"fa fa-2x fa-fw fa-square-o\\\"></i> </td>\\n                            <td style=\\\"border: 0px\\\"><pre>6e6962ef53c3a9da487e2052a0023806</pre></td>\\n                            </tr></table>\"},\"metadata\":{}},{\"output_type\":\"display_data\",\"data\":{\"text/html\":\"<table id=\\\"table_1c6c102ed160f926d99e77022b744032\\\" style=\\\"border: 0px\\\"><tr style=\\\"border: 0px\\\">\\n                            <td style=\\\"border: 0px\\\"><i id=\\\"1c6c102ed160f926d99e77022b744032\\\" class=\\\"fa fa-2x fa-fw fa-square-o\\\"></i> </td>\\n                            <td style=\\\"border: 0px\\\"><pre>1c6c102ed160f926d99e77022b744032</pre></td>\\n                            </tr></table>\"},\"metadata\":{}}]"
   },
   "outputs": [
    {
     "name": "stdout",
     "output_type": "stream",
     "text": [
      "Set sos options to \"-j 4 -s build\"\n"
     ]
    },
    {
     "data": {
      "text/html": [
       "<table id=\"table_e48d03a5c429b8cd75cbea1941b28d05\" style=\"border: 0px\"><tr style=\"border: 0px\">\n",
       "                            <td style=\"border: 0px\"><i id=\"e48d03a5c429b8cd75cbea1941b28d05\" class=\"fa fa-2x fa-fw fa-square-o\"></i> </td>\n",
       "                            <td style=\"border: 0px\"><pre>e48d03a5c429b8cd75cbea1941b28d05</pre></td>\n",
       "                            </tr></table>"
      ]
     },
     "metadata": {},
     "output_type": "display_data"
    },
    {
     "data": {
      "text/html": [
       "<table id=\"table_c1e2510ee12d8a2f8dfd794aa4d8a8ef\" style=\"border: 0px\"><tr style=\"border: 0px\">\n",
       "                            <td style=\"border: 0px\"><i id=\"c1e2510ee12d8a2f8dfd794aa4d8a8ef\" class=\"fa fa-2x fa-fw fa-square-o\"></i> </td>\n",
       "                            <td style=\"border: 0px\"><pre>c1e2510ee12d8a2f8dfd794aa4d8a8ef</pre></td>\n",
       "                            </tr></table>"
      ]
     },
     "metadata": {},
     "output_type": "display_data"
    },
    {
     "data": {
      "text/html": [
       "<table id=\"table_e4627ef11008c07ae98e44ee3bcd9ccc\" style=\"border: 0px\"><tr style=\"border: 0px\">\n",
       "                            <td style=\"border: 0px\"><i id=\"e4627ef11008c07ae98e44ee3bcd9ccc\" class=\"fa fa-2x fa-fw fa-square-o\"></i> </td>\n",
       "                            <td style=\"border: 0px\"><pre>e4627ef11008c07ae98e44ee3bcd9ccc</pre></td>\n",
       "                            </tr></table>"
      ]
     },
     "metadata": {},
     "output_type": "display_data"
    },
    {
     "data": {
      "text/html": [
       "<table id=\"table_67e518eb863f245bde1e0046028e4934\" style=\"border: 0px\"><tr style=\"border: 0px\">\n",
       "                            <td style=\"border: 0px\"><i id=\"67e518eb863f245bde1e0046028e4934\" class=\"fa fa-2x fa-fw fa-square-o\"></i> </td>\n",
       "                            <td style=\"border: 0px\"><pre>67e518eb863f245bde1e0046028e4934</pre></td>\n",
       "                            </tr></table>"
      ]
     },
     "metadata": {},
     "output_type": "display_data"
    },
    {
     "data": {
      "text/html": [
       "<table id=\"table_6e6962ef53c3a9da487e2052a0023806\" style=\"border: 0px\"><tr style=\"border: 0px\">\n",
       "                            <td style=\"border: 0px\"><i id=\"6e6962ef53c3a9da487e2052a0023806\" class=\"fa fa-2x fa-fw fa-square-o\"></i> </td>\n",
       "                            <td style=\"border: 0px\"><pre>6e6962ef53c3a9da487e2052a0023806</pre></td>\n",
       "                            </tr></table>"
      ]
     },
     "metadata": {},
     "output_type": "display_data"
    },
    {
     "data": {
      "text/html": [
       "<table id=\"table_1c6c102ed160f926d99e77022b744032\" style=\"border: 0px\"><tr style=\"border: 0px\">\n",
       "                            <td style=\"border: 0px\"><i id=\"1c6c102ed160f926d99e77022b744032\" class=\"fa fa-2x fa-fw fa-square-o\"></i> </td>\n",
       "                            <td style=\"border: 0px\"><pre>1c6c102ed160f926d99e77022b744032</pre></td>\n",
       "                            </tr></table>"
      ]
     },
     "metadata": {},
     "output_type": "display_data"
    }
   ],
   "source": [
    "%set -j 4\n",
    "%run varbvs\n",
    "[varbvs_1]\n",
    "depends: Py_Module(\"pandasql\"), Py_Module('fisher'), Py_Module('plotly')\n",
    "parameter: sample_size = 2000\n",
    "parameter: seed = [12]\n",
    "parameter: prevalence = [0.01]\n",
    "parameter: gamma = [(3,1), (5,1), (9,1)]\n",
    "parameter: n_causal_gene = [100, 200]\n",
    "parameter: name = 'data/del_sim'\n",
    "input: for_each = ['gamma', 'prevalence', 'n_causal_gene', 'seed']\n",
    "output: \"${name}_%s.pkl\" % \"shape{}_scale{}_p{}_N{}_M{}_{}\".format(\"${_gamma[0]}\", \"${_gamma[1]}\", \"${_prevalence}\", int(\"${sample_size}\") * 2, \"${_n_causal_gene}\", \"${_seed}\")\n",
    "task:\n",
    "python:\n",
    "import sys, os\n",
    "sys.path.append(os.getcwd())\n",
    "from simulation import Environment, run_simulation \n",
    "args = Environment()\n",
    "args['odds_ratio_params']['shape'] = ${_gamma[0]}\n",
    "args['odds_ratio_params']['scale'] = ${_gamma[1]}\n",
    "args['prevalence'] = ${_prevalence}\n",
    "args['n_case'] = args['n_ctrl'] = ${sample_size}\n",
    "args['n_causal_gene'] = ${_n_causal_gene}\n",
    "args['output'] = ${name!r}\n",
    "args.seed = ${_seed}\n",
    "run_simulation(args, \"shape{}_scale{}_p{}_N{}_M{}_{}\".format(${_gamma[0]}, ${_gamma[1]}, ${_prevalence}, ${sample_size} * 2, ${_n_causal_gene}, ${_seed}))\n",
    "\n",
    "[varbvs_2]\n",
    "depends: Py_Module(\"feather-format\")\n",
    "input: group_by = 'single'\n",
    "output: \"${_input!n}.feather\"\n",
    "task:\n",
    "python:\n",
    "import sys, os\n",
    "sys.path.append(os.getcwd())\n",
    "import pickle, feather\n",
    "import pandas as pd\n",
    "import numpy as np\n",
    "from simulation import Environment, load_reference_gene \n",
    "args = Environment()\n",
    "#\n",
    "dat = pickle.load(open(${_input!r}, \"rb\"))\n",
    "ref = load_reference_gene(args[\"refgene_file\"])\n",
    "# create regression data\n",
    "genes = pd.Series(list(set(ref['gene_name'])))\n",
    "regression_data = np.array([np.array(genes.isin(item[\"gene_name\"]), dtype = float) for item in dat['case'] + dat['ctrl']])\n",
    "regression_data = np.hstack((np.matrix([1] * len(dat['case']) + [0] * len(dat['ctrl'])).T, regression_data))\n",
    "mask = ~np.ravel((regression_data==0).all(0))\n",
    "regression_data = regression_data[:,mask]\n",
    "# save to disk\n",
    "feather.write_dataframe(pd.DataFrame(regression_data, columns = ['phenotype'] + genes[mask[1:]].tolist()), ${_output!r})\n",
    "\n",
    "[varbvs_3]\n",
    "depends: R_library(\"varbvs\"), R_library(\"feather\")\n",
    "input: group_by = \"single\"\n",
    "output: \"${_input!n}.varbvs.rds\"\n",
    "task:\n",
    "R:\n",
    "dat = as.matrix(feather::read_feather(${_input!r}))\n",
    "# FIXME: need to check if the usage is correct\n",
    "fit = varbvs::varbvs(dat[,-1], NULL, dat[,1], family = \"binomial\", logodds = seq(-3.5,-1,0.1), sa = 1, verbose = F)\n",
    "fit$summary = summary(fit)\n",
    "fit$w = varbvs::normalizelogweights(fit$logw)\n",
    "fit$pip = fit$alpha %*% c(fit$w)\n",
    "fit$beta = fit$mu %*% c(fit$w)\n",
    "fit$var_names = colnames(dat[-1])\n",
    "saveRDS(fit, ${_output!r})"
   ]
  },
  {
   "cell_type": "code",
   "execution_count": null,
   "metadata": {
    "collapsed": true,
    "output_cache": "[]"
   },
   "outputs": [],
   "source": []
  }
 ],
 "metadata": {
  "kernelspec": {
   "display_name": "SoS",
   "language": "sos",
   "name": "sos"
  },
  "language_info": {
   "codemirror_mode": "sos",
   "file_extension": ".sos",
   "mimetype": "text/x-sos",
   "name": "sos",
   "nbconvert_exporter": "sos.jupyter.converter.SoS_Exporter",
   "pygments_lexer": "sos"
  },
  "sos": {
   "celltoolbar": true,
   "kernels": [
    [
     "sos",
     "SoS",
     ""
    ],
    [
     "python3",
     "Python3",
     "#EAFAF1"
    ],
    [
     "ir",
     "R",
     "#FDEDEC"
    ]
   ],
   "panel": {
    "displayed": true,
    "height": 0,
    "style": "side"
   }
  }
 },
 "nbformat": 4,
 "nbformat_minor": 1
}
