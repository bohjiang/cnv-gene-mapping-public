{
 "cells": [
  {
   "cell_type": "code",
   "execution_count": 1,
   "metadata": {
    "collapsed": true
   },
   "outputs": [],
   "source": [
    "import numpy as np\n",
    "import pandas as pd\n",
    "import feather\n",
    "from pandasql import sqldf\n",
    "from fisher import pvalue\n",
    "from scipy import stats\n",
    "from pprint import pprint"
   ]
  },
  {
   "cell_type": "code",
   "execution_count": 2,
   "metadata": {},
   "outputs": [],
   "source": [
    "def simu_toy(n_pos, n_max):\n",
    "    ptn_ls = []\n",
    "    if n_pos <= n_max:\n",
    "        ptn_keys = [\"p{}\".format(i+1) for i in range(n_pos*2)]\n",
    "        for i in range(n_pos):\n",
    "            ptn = [1]*(i+1) + [0]*(n_pos-i-1)\n",
    "            ptn_ls.append(ptn)\n",
    "        for i in range(n_pos, n_pos*2):\n",
    "            ptn = [0]*(i-n_pos+1) + [1]*(2*n_pos-i-1)\n",
    "            ptn_ls.append(ptn)\n",
    "    else:\n",
    "        ptn_keys = [\"p{}\".format(i+1) for i in range(n_pos+n_max)]\n",
    "        for i in range(n_max):\n",
    "            ptn = [1]*(i+1) + [0]*(n_pos-i-1)\n",
    "            ptn_ls.append(ptn)\n",
    "        for i in range(n_max, n_pos):\n",
    "            ptn = [0]*(i-n_max+1) + [1]*n_max + [0]*(n_pos-i-1)\n",
    "            ptn_ls.append(ptn)\n",
    "        for i in range(n_pos, n_pos+n_max):\n",
    "            ptn = [0]*(i-n_max+1) + [1]*(n_pos+n_max-i-1)\n",
    "            ptn_ls.append(ptn)\n",
    "\n",
    "    ptn_dict = dict(zip(ptn_keys, ptn_ls))\n",
    "    n_ls = [10]*len(ptn_keys)\n",
    "    n_dict = dict(zip(ptn_keys, n_ls))\n",
    "    \n",
    "    return ptn_dict, n_dict"
   ]
  },
  {
   "cell_type": "code",
   "execution_count": 3,
   "metadata": {},
   "outputs": [
    {
     "data": {
      "text/plain": [
       "({'p1': [1, 0, 0, 0, 0, 0, 0, 0, 0, 0, 0, 0, 0, 0, 0],\n",
       "  'p10': [1, 1, 1, 1, 1, 1, 1, 1, 1, 1, 0, 0, 0, 0, 0],\n",
       "  'p11': [0, 1, 1, 1, 1, 1, 1, 1, 1, 1, 1, 0, 0, 0, 0],\n",
       "  'p12': [0, 0, 1, 1, 1, 1, 1, 1, 1, 1, 1, 1, 0, 0, 0],\n",
       "  'p13': [0, 0, 0, 1, 1, 1, 1, 1, 1, 1, 1, 1, 1, 0, 0],\n",
       "  'p14': [0, 0, 0, 0, 1, 1, 1, 1, 1, 1, 1, 1, 1, 1, 0],\n",
       "  'p15': [0, 0, 0, 0, 0, 1, 1, 1, 1, 1, 1, 1, 1, 1, 1],\n",
       "  'p16': [0, 0, 0, 0, 0, 0, 1, 1, 1, 1, 1, 1, 1, 1, 1],\n",
       "  'p17': [0, 0, 0, 0, 0, 0, 0, 1, 1, 1, 1, 1, 1, 1, 1],\n",
       "  'p18': [0, 0, 0, 0, 0, 0, 0, 0, 1, 1, 1, 1, 1, 1, 1],\n",
       "  'p19': [0, 0, 0, 0, 0, 0, 0, 0, 0, 1, 1, 1, 1, 1, 1],\n",
       "  'p2': [1, 1, 0, 0, 0, 0, 0, 0, 0, 0, 0, 0, 0, 0, 0],\n",
       "  'p20': [0, 0, 0, 0, 0, 0, 0, 0, 0, 0, 1, 1, 1, 1, 1],\n",
       "  'p21': [0, 0, 0, 0, 0, 0, 0, 0, 0, 0, 0, 1, 1, 1, 1],\n",
       "  'p22': [0, 0, 0, 0, 0, 0, 0, 0, 0, 0, 0, 0, 1, 1, 1],\n",
       "  'p23': [0, 0, 0, 0, 0, 0, 0, 0, 0, 0, 0, 0, 0, 1, 1],\n",
       "  'p24': [0, 0, 0, 0, 0, 0, 0, 0, 0, 0, 0, 0, 0, 0, 1],\n",
       "  'p25': [0, 0, 0, 0, 0, 0, 0, 0, 0, 0, 0, 0, 0, 0, 0],\n",
       "  'p3': [1, 1, 1, 0, 0, 0, 0, 0, 0, 0, 0, 0, 0, 0, 0],\n",
       "  'p4': [1, 1, 1, 1, 0, 0, 0, 0, 0, 0, 0, 0, 0, 0, 0],\n",
       "  'p5': [1, 1, 1, 1, 1, 0, 0, 0, 0, 0, 0, 0, 0, 0, 0],\n",
       "  'p6': [1, 1, 1, 1, 1, 1, 0, 0, 0, 0, 0, 0, 0, 0, 0],\n",
       "  'p7': [1, 1, 1, 1, 1, 1, 1, 0, 0, 0, 0, 0, 0, 0, 0],\n",
       "  'p8': [1, 1, 1, 1, 1, 1, 1, 1, 0, 0, 0, 0, 0, 0, 0],\n",
       "  'p9': [1, 1, 1, 1, 1, 1, 1, 1, 1, 0, 0, 0, 0, 0, 0]},\n",
       " {'p1': 10,\n",
       "  'p10': 10,\n",
       "  'p11': 10,\n",
       "  'p12': 10,\n",
       "  'p13': 10,\n",
       "  'p14': 10,\n",
       "  'p15': 10,\n",
       "  'p16': 10,\n",
       "  'p17': 10,\n",
       "  'p18': 10,\n",
       "  'p19': 10,\n",
       "  'p2': 10,\n",
       "  'p20': 10,\n",
       "  'p21': 10,\n",
       "  'p22': 10,\n",
       "  'p23': 10,\n",
       "  'p24': 10,\n",
       "  'p25': 10,\n",
       "  'p3': 10,\n",
       "  'p4': 10,\n",
       "  'p5': 10,\n",
       "  'p6': 10,\n",
       "  'p7': 10,\n",
       "  'p8': 10,\n",
       "  'p9': 10})"
      ]
     },
     "execution_count": 3,
     "metadata": {},
     "output_type": "execute_result"
    }
   ],
   "source": [
    "n_gene = 15\n",
    "n_max = 10\n",
    "simu_toy(n_pos=n_gene, n_max=n_max)"
   ]
  },
  {
   "cell_type": "code",
   "execution_count": 4,
   "metadata": {
    "collapsed": true
   },
   "outputs": [],
   "source": [
    "def toy_10gene(ptn_dict, n_dict, const=1, seed=999):\n",
    "    np.random.seed(seed)\n",
    "    return None"
   ]
  }
 ],
 "metadata": {
  "kernelspec": {
   "display_name": "Python 3",
   "language": "python",
   "name": "python3"
  },
  "language_info": {
   "codemirror_mode": {
    "name": "ipython",
    "version": 3
   },
   "file_extension": ".py",
   "mimetype": "text/x-python",
   "name": "python",
   "nbconvert_exporter": "python",
   "pygments_lexer": "ipython3",
   "version": "3.5.2"
  }
 },
 "nbformat": 4,
 "nbformat_minor": 2
}
