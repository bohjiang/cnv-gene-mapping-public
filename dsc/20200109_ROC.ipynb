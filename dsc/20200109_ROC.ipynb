{
 "cells": [
  {
   "cell_type": "markdown",
   "metadata": {
    "kernel": "SoS"
   },
   "source": [
    "# ROC curve comparison PyMC3, susie, varbvs, logit\n",
    "ROC curve for comparing methods, susie calibrate"
   ]
  },
  {
   "cell_type": "code",
   "execution_count": 1,
   "metadata": {
    "kernel": "SoS"
   },
   "outputs": [],
   "source": [
    "import pandas as pd, numpy as np\n",
    "import os\n",
    "from collections import Counter\n",
    "cwd = os.path.expanduser(\"/home/min/GIT/cnv-gene-mapping/data/deletion_simu_20\")\n",
    "n = 20"
   ]
  },
  {
   "cell_type": "markdown",
   "metadata": {
    "kernel": "SoS"
   },
   "source": [
    "## block20"
   ]
  },
  {
   "cell_type": "code",
   "execution_count": 2,
   "metadata": {
    "kernel": "SoS"
   },
   "outputs": [],
   "source": [
    "susie = pd.read_csv(f\"{cwd}/deletion.genes.block{n}.for_simu.sample.combined.genes.block_0_7.SuSiE.L_1.susie.all.blocks.pip.csv\", header = None, names = [\"susie_pip\"])\n",
    "pymc3 = pd.read_csv(f\"{cwd}/deletion.genes.block{n}.for_simu.sample.combined.genes.pymc3.all.blocks.pip.gz\", compression = \"gzip\", header = None, names = [\"pymc3_pip\"])\n",
    "logit = pd.read_csv(f\"{cwd}/deletion.genes.block{n}.for_simu.sample.combined.genes.logit.all.blocks.pip.csv\", header = None, names = [\"logit_pip\"])\n",
    "varbvs = pd.read_csv(f\"{cwd}/deletion.genes.block{n}.for_simu.sample.combined.genes.varbvs.all.blocks.pip.csv\", header = None, names = [\"varbvs_pip\"])"
   ]
  },
  {
   "cell_type": "code",
   "execution_count": 3,
   "metadata": {
    "kernel": "SoS"
   },
   "outputs": [],
   "source": [
    "beta = pd.read_csv(f\"{cwd}/deletion.genes.block20.for_simu.shape0.scale1.beta\", header = None, names = [\"beta\"])\n",
    "index = pd.read_csv(f\"{cwd}/deletion.genes.block20.for_simu.sample.combined.block1.forsimu.index.csv\", header = None, names = [\"s\", \"e\"], sep = '\\t')"
   ]
  },
  {
   "cell_type": "markdown",
   "metadata": {
    "kernel": "SoS"
   },
   "source": [
    "## block 30"
   ]
  },
  {
   "cell_type": "code",
   "execution_count": null,
   "metadata": {
    "kernel": "SoS"
   },
   "outputs": [],
   "source": [
    "varbvs = pd.read_csv(f\"{cwd}/deletion.genes.block{n}.for_simu.sample.genes.varbvs.all.blocks.pip.csv\", header = None, names = [\"varbvs_pip\"])\n",
    "susie = pd.read_csv(f\"{cwd}/deletion.genes.block{n}.for_simu.sample.genes.SuSiE.L_1.susie.all.blocks.pip.csv\", header = None, names = [\"susie_pip\"])\n",
    "logit = pd.read_csv(f\"{cwd}/deletion.genes.block{n}.for_simu.sample.genes.logit.all.blocks.pip.csv\", header = None, names = [\"logit_pip\"])\n",
    "pymc3 = pd.read_csv(f\"{cwd}/deletion.genes.block{n}.for_simu.sample.genes.pymc3.all.blocks.pip.gz\", compression = \"gzip\", header = None, names = [\"pymc3_pip\"])"
   ]
  },
  {
   "cell_type": "code",
   "execution_count": null,
   "metadata": {
    "kernel": "SoS"
   },
   "outputs": [],
   "source": [
    "beta = pd.read_csv(f\"{cwd}/deletion_simu/deletion.genes.block{n}.for_simu.sample.shape0.0.scale1.0.beta\", header = None, names = [\"beta\"])\n",
    "index = pd.read_csv(f\"{cwd}/deletion_simu/deletion.genes.block{n}.for_simu.sample.block1.forsimu.index.csv\", header = None, names = [\"s\", \"e\"], sep = '\\t')"
   ]
  },
  {
   "cell_type": "markdown",
   "metadata": {
    "kernel": "SoS"
   },
   "source": [
    "## Drawing"
   ]
  },
  {
   "cell_type": "code",
   "execution_count": 4,
   "metadata": {
    "kernel": "SoS"
   },
   "outputs": [],
   "source": [
    "b1 = list()\n",
    "for i, x in index.iterrows():\n",
    "    b1.extend([j for j in range(x[\"s\"], x[\"e\"]+1)])"
   ]
  },
  {
   "cell_type": "code",
   "execution_count": 5,
   "metadata": {
    "kernel": "SoS"
   },
   "outputs": [],
   "source": [
    "beta = beta.iloc[b1]\n",
    "beta = beta.set_index([[i for i in range(beta.shape[0])]])"
   ]
  },
  {
   "cell_type": "code",
   "execution_count": 6,
   "metadata": {
    "kernel": "SoS"
   },
   "outputs": [],
   "source": [
    "res = pd.concat([beta, varbvs, susie, logit, pymc3], axis = 1)"
   ]
  },
  {
   "cell_type": "code",
   "execution_count": 7,
   "metadata": {
    "kernel": "SoS"
   },
   "outputs": [],
   "source": [
    "res[\"is_signal\"] = res[\"beta\"].apply(lambda x: 1 if x != 0 else 0)"
   ]
  },
  {
   "cell_type": "code",
   "execution_count": 8,
   "metadata": {
    "kernel": "SoS"
   },
   "outputs": [
    {
     "data": {
      "text/html": [
       "<div>\n",
       "<style scoped>\n",
       "    .dataframe tbody tr th:only-of-type {\n",
       "        vertical-align: middle;\n",
       "    }\n",
       "\n",
       "    .dataframe tbody tr th {\n",
       "        vertical-align: top;\n",
       "    }\n",
       "\n",
       "    .dataframe thead th {\n",
       "        text-align: right;\n",
       "    }\n",
       "</style>\n",
       "<table border=\"1\" class=\"dataframe\">\n",
       "  <thead>\n",
       "    <tr style=\"text-align: right;\">\n",
       "      <th></th>\n",
       "      <th>beta</th>\n",
       "      <th>varbvs_pip</th>\n",
       "      <th>susie_pip</th>\n",
       "      <th>logit_pip</th>\n",
       "      <th>pymc3_pip</th>\n",
       "      <th>is_signal</th>\n",
       "    </tr>\n",
       "  </thead>\n",
       "  <tbody>\n",
       "    <tr>\n",
       "      <th>0</th>\n",
       "      <td>0.000000</td>\n",
       "      <td>0.092718</td>\n",
       "      <td>0.125</td>\n",
       "      <td>0.125</td>\n",
       "      <td>0.0260</td>\n",
       "      <td>0</td>\n",
       "    </tr>\n",
       "    <tr>\n",
       "      <th>1</th>\n",
       "      <td>0.000000</td>\n",
       "      <td>0.092714</td>\n",
       "      <td>0.125</td>\n",
       "      <td>0.125</td>\n",
       "      <td>0.0205</td>\n",
       "      <td>0</td>\n",
       "    </tr>\n",
       "    <tr>\n",
       "      <th>2</th>\n",
       "      <td>0.000000</td>\n",
       "      <td>0.092710</td>\n",
       "      <td>0.125</td>\n",
       "      <td>0.125</td>\n",
       "      <td>0.0235</td>\n",
       "      <td>0</td>\n",
       "    </tr>\n",
       "    <tr>\n",
       "      <th>3</th>\n",
       "      <td>-0.000000</td>\n",
       "      <td>0.092706</td>\n",
       "      <td>0.125</td>\n",
       "      <td>0.125</td>\n",
       "      <td>0.0270</td>\n",
       "      <td>0</td>\n",
       "    </tr>\n",
       "    <tr>\n",
       "      <th>4</th>\n",
       "      <td>-0.266134</td>\n",
       "      <td>0.092703</td>\n",
       "      <td>0.125</td>\n",
       "      <td>0.125</td>\n",
       "      <td>0.0180</td>\n",
       "      <td>1</td>\n",
       "    </tr>\n",
       "    <tr>\n",
       "      <th>5</th>\n",
       "      <td>-0.000000</td>\n",
       "      <td>0.092700</td>\n",
       "      <td>0.125</td>\n",
       "      <td>0.125</td>\n",
       "      <td>0.0180</td>\n",
       "      <td>0</td>\n",
       "    </tr>\n",
       "    <tr>\n",
       "      <th>6</th>\n",
       "      <td>0.000000</td>\n",
       "      <td>0.092699</td>\n",
       "      <td>0.125</td>\n",
       "      <td>0.125</td>\n",
       "      <td>0.0210</td>\n",
       "      <td>0</td>\n",
       "    </tr>\n",
       "    <tr>\n",
       "      <th>7</th>\n",
       "      <td>-0.000000</td>\n",
       "      <td>0.092698</td>\n",
       "      <td>0.125</td>\n",
       "      <td>0.125</td>\n",
       "      <td>0.0175</td>\n",
       "      <td>0</td>\n",
       "    </tr>\n",
       "    <tr>\n",
       "      <th>8</th>\n",
       "      <td>-0.000000</td>\n",
       "      <td>0.082397</td>\n",
       "      <td>0.100</td>\n",
       "      <td>0.100</td>\n",
       "      <td>0.0265</td>\n",
       "      <td>0</td>\n",
       "    </tr>\n",
       "    <tr>\n",
       "      <th>9</th>\n",
       "      <td>0.000000</td>\n",
       "      <td>0.082397</td>\n",
       "      <td>0.100</td>\n",
       "      <td>0.100</td>\n",
       "      <td>0.0235</td>\n",
       "      <td>0</td>\n",
       "    </tr>\n",
       "  </tbody>\n",
       "</table>\n",
       "</div>"
      ],
      "text/plain": [
       "       beta  varbvs_pip  susie_pip  logit_pip  pymc3_pip  is_signal\n",
       "0  0.000000    0.092718      0.125      0.125     0.0260          0\n",
       "1  0.000000    0.092714      0.125      0.125     0.0205          0\n",
       "2  0.000000    0.092710      0.125      0.125     0.0235          0\n",
       "3 -0.000000    0.092706      0.125      0.125     0.0270          0\n",
       "4 -0.266134    0.092703      0.125      0.125     0.0180          1\n",
       "5 -0.000000    0.092700      0.125      0.125     0.0180          0\n",
       "6  0.000000    0.092699      0.125      0.125     0.0210          0\n",
       "7 -0.000000    0.092698      0.125      0.125     0.0175          0\n",
       "8 -0.000000    0.082397      0.100      0.100     0.0265          0\n",
       "9  0.000000    0.082397      0.100      0.100     0.0235          0"
      ]
     },
     "execution_count": 8,
     "metadata": {},
     "output_type": "execute_result"
    }
   ],
   "source": [
    "res.head(10)"
   ]
  },
  {
   "cell_type": "code",
   "execution_count": 9,
   "metadata": {
    "kernel": "SoS"
   },
   "outputs": [],
   "source": [
    "calib = res[[\"varbvs_pip\", \"susie_pip\", \"logit_pip\", \"pymc3_pip\", \"is_signal\"]]"
   ]
  },
  {
   "cell_type": "code",
   "execution_count": 10,
   "metadata": {
    "kernel": "SoS"
   },
   "outputs": [],
   "source": [
    "cutoffs = [0.025*i for i in range(0,41)]"
   ]
  },
  {
   "cell_type": "code",
   "execution_count": 12,
   "metadata": {
    "kernel": "SoS"
   },
   "outputs": [],
   "source": [
    "res1 = pd.DataFrame({\"cutoff\": cutoffs})"
   ]
  },
  {
   "cell_type": "code",
   "execution_count": 13,
   "metadata": {
    "kernel": "SoS"
   },
   "outputs": [],
   "source": [
    "n1 = len(b1)\n",
    "n2 = sum(res[\"is_signal\"])"
   ]
  },
  {
   "cell_type": "code",
   "execution_count": 14,
   "metadata": {
    "kernel": "SoS"
   },
   "outputs": [
    {
     "data": {
      "text/plain": [
       "(2290, 112)"
      ]
     },
     "execution_count": 14,
     "metadata": {},
     "output_type": "execute_result"
    }
   ],
   "source": [
    "n1,  n2"
   ]
  },
  {
   "cell_type": "code",
   "execution_count": 16,
   "metadata": {
    "kernel": "SoS"
   },
   "outputs": [
    {
     "data": {
      "text/plain": [
       "(2290, 6)"
      ]
     },
     "execution_count": 16,
     "metadata": {},
     "output_type": "execute_result"
    }
   ],
   "source": [
    "res.shape"
   ]
  },
  {
   "cell_type": "code",
   "execution_count": 14,
   "metadata": {
    "kernel": "SoS"
   },
   "outputs": [],
   "source": [
    "for x in [\"varbvs_pip\", \"susie_pip\", \"logit_pip\", \"pymc3_pip\"]:\n",
    "    res1[f\"{x}_FDR\"] = [sum(res[x]>i)/n1 for i in cutoffs]\n",
    "    res1[f\"{x}_power\"] = [res[(res[x]>i) & (res[\"is_signal\"] == 1)].shape[0]/n2 for i in cutoffs]"
   ]
  },
  {
   "cell_type": "code",
   "execution_count": 15,
   "metadata": {
    "kernel": "SoS"
   },
   "outputs": [
    {
     "data": {
      "text/html": [
       "<div>\n",
       "<style scoped>\n",
       "    .dataframe tbody tr th:only-of-type {\n",
       "        vertical-align: middle;\n",
       "    }\n",
       "\n",
       "    .dataframe tbody tr th {\n",
       "        vertical-align: top;\n",
       "    }\n",
       "\n",
       "    .dataframe thead th {\n",
       "        text-align: right;\n",
       "    }\n",
       "</style>\n",
       "<table border=\"1\" class=\"dataframe\">\n",
       "  <thead>\n",
       "    <tr style=\"text-align: right;\">\n",
       "      <th></th>\n",
       "      <th>cutoff</th>\n",
       "      <th>varbvs_pip_FDR</th>\n",
       "      <th>varbvs_pip_power</th>\n",
       "      <th>susie_pip_FDR</th>\n",
       "      <th>susie_pip_power</th>\n",
       "      <th>logit_pip_FDR</th>\n",
       "      <th>logit_pip_power</th>\n",
       "      <th>pymc3_pip_FDR</th>\n",
       "      <th>pymc3_pip_power</th>\n",
       "    </tr>\n",
       "  </thead>\n",
       "  <tbody>\n",
       "    <tr>\n",
       "      <th>0</th>\n",
       "      <td>0.000</td>\n",
       "      <td>1.000000</td>\n",
       "      <td>1.000000</td>\n",
       "      <td>0.480786</td>\n",
       "      <td>0.696429</td>\n",
       "      <td>1.000000</td>\n",
       "      <td>1.000000</td>\n",
       "      <td>1.000000</td>\n",
       "      <td>1.000000</td>\n",
       "    </tr>\n",
       "    <tr>\n",
       "      <th>1</th>\n",
       "      <td>0.025</td>\n",
       "      <td>0.897380</td>\n",
       "      <td>0.883929</td>\n",
       "      <td>0.400437</td>\n",
       "      <td>0.625000</td>\n",
       "      <td>0.896070</td>\n",
       "      <td>0.928571</td>\n",
       "      <td>0.591266</td>\n",
       "      <td>0.705357</td>\n",
       "    </tr>\n",
       "    <tr>\n",
       "      <th>2</th>\n",
       "      <td>0.050</td>\n",
       "      <td>0.627948</td>\n",
       "      <td>0.642857</td>\n",
       "      <td>0.323144</td>\n",
       "      <td>0.535714</td>\n",
       "      <td>0.707860</td>\n",
       "      <td>0.732143</td>\n",
       "      <td>0.255022</td>\n",
       "      <td>0.401786</td>\n",
       "    </tr>\n",
       "    <tr>\n",
       "      <th>3</th>\n",
       "      <td>0.075</td>\n",
       "      <td>0.436245</td>\n",
       "      <td>0.482143</td>\n",
       "      <td>0.256769</td>\n",
       "      <td>0.446429</td>\n",
       "      <td>0.567249</td>\n",
       "      <td>0.598214</td>\n",
       "      <td>0.131878</td>\n",
       "      <td>0.276786</td>\n",
       "    </tr>\n",
       "    <tr>\n",
       "      <th>4</th>\n",
       "      <td>0.100</td>\n",
       "      <td>0.323144</td>\n",
       "      <td>0.330357</td>\n",
       "      <td>0.196943</td>\n",
       "      <td>0.357143</td>\n",
       "      <td>0.481659</td>\n",
       "      <td>0.500000</td>\n",
       "      <td>0.083843</td>\n",
       "      <td>0.196429</td>\n",
       "    </tr>\n",
       "    <tr>\n",
       "      <th>5</th>\n",
       "      <td>0.125</td>\n",
       "      <td>0.211790</td>\n",
       "      <td>0.276786</td>\n",
       "      <td>0.171616</td>\n",
       "      <td>0.321429</td>\n",
       "      <td>0.415284</td>\n",
       "      <td>0.428571</td>\n",
       "      <td>0.065502</td>\n",
       "      <td>0.178571</td>\n",
       "    </tr>\n",
       "    <tr>\n",
       "      <th>6</th>\n",
       "      <td>0.150</td>\n",
       "      <td>0.155022</td>\n",
       "      <td>0.232143</td>\n",
       "      <td>0.158515</td>\n",
       "      <td>0.312500</td>\n",
       "      <td>0.393013</td>\n",
       "      <td>0.419643</td>\n",
       "      <td>0.052402</td>\n",
       "      <td>0.160714</td>\n",
       "    </tr>\n",
       "    <tr>\n",
       "      <th>7</th>\n",
       "      <td>0.175</td>\n",
       "      <td>0.112227</td>\n",
       "      <td>0.187500</td>\n",
       "      <td>0.146288</td>\n",
       "      <td>0.285714</td>\n",
       "      <td>0.370742</td>\n",
       "      <td>0.383929</td>\n",
       "      <td>0.041048</td>\n",
       "      <td>0.142857</td>\n",
       "    </tr>\n",
       "    <tr>\n",
       "      <th>8</th>\n",
       "      <td>0.200</td>\n",
       "      <td>0.082969</td>\n",
       "      <td>0.160714</td>\n",
       "      <td>0.129258</td>\n",
       "      <td>0.250000</td>\n",
       "      <td>0.324017</td>\n",
       "      <td>0.321429</td>\n",
       "      <td>0.028384</td>\n",
       "      <td>0.125000</td>\n",
       "    </tr>\n",
       "    <tr>\n",
       "      <th>9</th>\n",
       "      <td>0.225</td>\n",
       "      <td>0.052838</td>\n",
       "      <td>0.142857</td>\n",
       "      <td>0.127948</td>\n",
       "      <td>0.241071</td>\n",
       "      <td>0.313974</td>\n",
       "      <td>0.303571</td>\n",
       "      <td>0.024891</td>\n",
       "      <td>0.125000</td>\n",
       "    </tr>\n",
       "  </tbody>\n",
       "</table>\n",
       "</div>"
      ],
      "text/plain": [
       "   cutoff  varbvs_pip_FDR  ...  pymc3_pip_FDR  pymc3_pip_power\n",
       "0   0.000        1.000000  ...       1.000000         1.000000\n",
       "1   0.025        0.897380  ...       0.591266         0.705357\n",
       "2   0.050        0.627948  ...       0.255022         0.401786\n",
       "3   0.075        0.436245  ...       0.131878         0.276786\n",
       "4   0.100        0.323144  ...       0.083843         0.196429\n",
       "5   0.125        0.211790  ...       0.065502         0.178571\n",
       "6   0.150        0.155022  ...       0.052402         0.160714\n",
       "7   0.175        0.112227  ...       0.041048         0.142857\n",
       "8   0.200        0.082969  ...       0.028384         0.125000\n",
       "9   0.225        0.052838  ...       0.024891         0.125000\n",
       "\n",
       "[10 rows x 9 columns]"
      ]
     },
     "execution_count": 15,
     "metadata": {},
     "output_type": "execute_result"
    }
   ],
   "source": [
    "res1.head(10)"
   ]
  },
  {
   "cell_type": "code",
   "execution_count": 16,
   "metadata": {
    "kernel": "SoS"
   },
   "outputs": [],
   "source": [
    "import matplotlib.pyplot as plt\n",
    "import matplotlib.font_manager as font_manager\n",
    "font_prop = font_manager.FontProperties(size=24)"
   ]
  },
  {
   "cell_type": "code",
   "execution_count": 17,
   "metadata": {
    "kernel": "SoS"
   },
   "outputs": [
    {
     "data": {
      "image/png": "[encoded data removed]",
      "text/plain": [
       "<Figure size 720x720 with 1 Axes>"
      ]
     },
     "metadata": {
      "needs_background": "light"
     },
     "output_type": "display_data"
    }
   ],
   "source": [
    "fig, ax = plt.subplots(figsize = (10, 10))\n",
    "plt.scatter(res1[\"varbvs_pip_FDR\"], res1[\"varbvs_pip_power\"], c = \"C4\", label='varbvs')\n",
    "plt.plot(res1[\"varbvs_pip_FDR\"], res1[\"varbvs_pip_power\"], c = \"C4\")\n",
    "plt.scatter(res1[\"susie_pip_FDR\"], res1[\"susie_pip_power\"], c = \"C8\", label='susie')\n",
    "plt.plot(res1[\"susie_pip_FDR\"], res1[\"susie_pip_power\"], c = \"C8\")\n",
    "plt.scatter(res1[\"logit_pip_FDR\"], res1[\"logit_pip_power\"], c = \"C0\", label='logit')\n",
    "plt.plot(res1[\"logit_pip_FDR\"], res1[\"logit_pip_power\"], c = \"C0\")\n",
    "plt.scatter(res1[\"pymc3_pip_FDR\"], res1[\"pymc3_pip_power\"], c = \"C3\", label='pymc3')\n",
    "plt.plot(res1[\"pymc3_pip_FDR\"], res1[\"pymc3_pip_power\"], c = \"C3\")\n",
    "plt.legend(loc = 'lower right', fontsize = 20)\n",
    "plt.xlabel(\"FDR\", fontproperties=font_prop)\n",
    "plt.ylabel(\"power\", fontproperties=font_prop)\n",
    "plt.savefig(\"/home/min/GIT/cnv-gene-mapping/data/deletion_simu/ROC20.pdf\")\n",
    "plt.show()"
   ]
  },
  {
   "cell_type": "code",
   "execution_count": 76,
   "metadata": {
    "kernel": "SoS"
   },
   "outputs": [
    {
     "data": {
      "text/html": [
       "<div class=\"sos_hint\">> /home/min/GIT/cnv-gene-mapping/data/deletion_simu/ROC.pdf (16.0 KiB):</div>"
      ],
      "text/plain": [
       "\n",
       "> /home/min/GIT/cnv-gene-mapping/data/deletion_simu/ROC.pdf (16.0 KiB):"
      ]
     },
     "metadata": {},
     "output_type": "display_data"
    },
    {
     "data": {
      "image/png": "[encoded data removed]"
     },
     "metadata": {},
     "output_type": "display_data"
    }
   ],
   "source": [
    "%preview /home/min/GIT/cnv-gene-mapping/data/deletion_simu/ROC.pdf -s png --dpi 80"
   ]
  },
  {
   "cell_type": "code",
   "execution_count": 20,
   "metadata": {
    "kernel": "R"
   },
   "outputs": [],
   "source": [
    "%get calib"
   ]
  },
  {
   "cell_type": "code",
   "execution_count": 21,
   "metadata": {
    "kernel": "R"
   },
   "outputs": [
    {
     "name": "stderr",
     "output_type": "stream",
     "text": [
      "\n",
      "Attaching package: ‘cowplot’\n",
      "\n",
      "The following object is masked from ‘package:ggplot2’:\n",
      "\n",
      "    ggsave\n",
      "\n",
      "\n",
      "Attaching package: ‘dplyr’\n",
      "\n",
      "The following objects are masked from ‘package:stats’:\n",
      "\n",
      "    filter, lag\n",
      "\n",
      "The following objects are masked from ‘package:base’:\n",
      "\n",
      "    intersect, setdiff, setequal, union\n",
      "\n"
     ]
    }
   ],
   "source": [
    "library(ggplot2)\n",
    "library(cowplot)\n",
    "library(dplyr)"
   ]
  },
  {
   "cell_type": "code",
   "execution_count": 22,
   "metadata": {
    "kernel": "R"
   },
   "outputs": [],
   "source": [
    "bin_size = 20\n",
    "bins = cbind(seq(1:bin_size)/bin_size-1/bin_size, seq(1:bin_size)/bin_size)"
   ]
  },
  {
   "cell_type": "code",
   "execution_count": 24,
   "metadata": {
    "kernel": "R"
   },
   "outputs": [
    {
     "data": {
      "text/html": [
       "<table>\n",
       "<thead><tr><th></th><th scope=col>susie_pip</th><th scope=col>pymc3_pip</th><th scope=col>is_signal</th></tr></thead>\n",
       "<tbody>\n",
       "\t<tr><th scope=row>0</th><td>0.125 </td><td>0.0260</td><td>0     </td></tr>\n",
       "\t<tr><th scope=row>1</th><td>0.125 </td><td>0.0205</td><td>0     </td></tr>\n",
       "\t<tr><th scope=row>2</th><td>0.125 </td><td>0.0235</td><td>0     </td></tr>\n",
       "\t<tr><th scope=row>3</th><td>0.125 </td><td>0.0270</td><td>0     </td></tr>\n",
       "\t<tr><th scope=row>4</th><td>0.125 </td><td>0.0180</td><td>1     </td></tr>\n",
       "\t<tr><th scope=row>5</th><td>0.125 </td><td>0.0180</td><td>0     </td></tr>\n",
       "</tbody>\n",
       "</table>\n"
      ],
      "text/latex": [
       "\\begin{tabular}{r|lll}\n",
       "  & susie\\_pip & pymc3\\_pip & is\\_signal\\\\\n",
       "\\hline\n",
       "\t0 & 0.125  & 0.0260 & 0     \\\\\n",
       "\t1 & 0.125  & 0.0205 & 0     \\\\\n",
       "\t2 & 0.125  & 0.0235 & 0     \\\\\n",
       "\t3 & 0.125  & 0.0270 & 0     \\\\\n",
       "\t4 & 0.125  & 0.0180 & 1     \\\\\n",
       "\t5 & 0.125  & 0.0180 & 0     \\\\\n",
       "\\end{tabular}\n"
      ],
      "text/markdown": [
       "\n",
       "| <!--/--> | susie_pip | pymc3_pip | is_signal |\n",
       "|---|---|---|---|\n",
       "| 0 | 0.125  | 0.0260 | 0      |\n",
       "| 1 | 0.125  | 0.0205 | 0      |\n",
       "| 2 | 0.125  | 0.0235 | 0      |\n",
       "| 3 | 0.125  | 0.0270 | 0      |\n",
       "| 4 | 0.125  | 0.0180 | 1      |\n",
       "| 5 | 0.125  | 0.0180 | 0      |\n",
       "\n"
      ],
      "text/plain": [
       "  susie_pip pymc3_pip is_signal\n",
       "0 0.125     0.0260    0        \n",
       "1 0.125     0.0205    0        \n",
       "2 0.125     0.0235    0        \n",
       "3 0.125     0.0270    0        \n",
       "4 0.125     0.0180    1        \n",
       "5 0.125     0.0180    0        "
      ]
     },
     "metadata": {},
     "output_type": "display_data"
    }
   ],
   "source": [
    "head(calib)"
   ]
  },
  {
   "cell_type": "code",
   "execution_count": 25,
   "metadata": {
    "kernel": "R"
   },
   "outputs": [],
   "source": [
    "pip_cali = list()\n",
    "for (name in rev(colnames(calib))[-1]) {\n",
    "    for (i in 1:nrow(bins)) {\n",
    "        tmp = calib[which(calib[[name]] > bins[i,1] & calib[[name]] < bins[i,2]), ]\n",
    "        if (is.null(pip_cali[[name]])) pip_cali[[name]] = c(sum(tmp[[name]]), sum(tmp$is_signal), length(tmp$is_signal))\n",
    "        else pip_cali[[name]] = rbind(pip_cali[[name]], c(sum(tmp[[name]]), sum(tmp$is_signal), length(tmp$is_signal)))\n",
    "    }\n",
    "    pip_cali[[name]][which(is.na(pip_cali[[name]]))] = 0\n",
    "}"
   ]
  },
  {
   "cell_type": "code",
   "execution_count": 26,
   "metadata": {
    "kernel": "R"
   },
   "outputs": [],
   "source": [
    "get_cali = function(alist, col) { # alist = pip_cali\n",
    "    res = alist[[col]]\n",
    "    if (!is.null(alist[[col]])) res = res + alist[[col]]\n",
    "    res[,c(1,2)] = res[,c(1,2)] / res[,3]\n",
    "    return(res[-1,])\n",
    "}"
   ]
  },
  {
   "cell_type": "code",
   "execution_count": 27,
   "metadata": {
    "kernel": "R"
   },
   "outputs": [],
   "source": [
    "res = get_cali(pip_cali, \"logit_pip\")"
   ]
  },
  {
   "cell_type": "code",
   "execution_count": 28,
   "metadata": {
    "kernel": "R"
   },
   "outputs": [],
   "source": [
    "saveRDS(list(\"susie\" = get_cali(pip_cali, 'susie_pip'),\n",
    "             \"logit\" = get_cali(pip_cali, 'logit_pip'),\n",
    "             \"varbvs\" = get_cali(pip_cali, 'varbvs_pip'),\n",
    "             \"pymc3\" = get_cali(pip_cali, 'pymc3_pip')),\n",
    "             \"/home/min/GIT/cnv-gene-mapping/data/deletion_simu/tmp.RDS\")"
   ]
  },
  {
   "cell_type": "code",
   "execution_count": 29,
   "metadata": {
    "kernel": "R"
   },
   "outputs": [],
   "source": [
    "dat = readRDS(\"/home/min/GIT/cnv-gene-mapping/data/deletion_simu/tmp.RDS\")"
   ]
  },
  {
   "cell_type": "code",
   "execution_count": 30,
   "metadata": {
    "kernel": "R"
   },
   "outputs": [],
   "source": [
    "dot_plot = function(dataframe) {\n",
    "  ggplot(dataframe, aes(x=mean_pip, y=observed_freq)) +\n",
    "    geom_errorbar(aes(ymin=observed_freq-se, ymax=observed_freq+se), colour=\"gray\", size = 0.2, width=.01) +\n",
    "    geom_point(size=1.5, shape=21, fill=\"#002b36\") + # 21 is filled circle\n",
    "    xlab(\"Mean PIP\") +\n",
    "    ylab(\"Observed frequency\") +\n",
    "    coord_cartesian(ylim=c(0,1), xlim=c(0,1)) +\n",
    "    geom_abline(slope=1,intercept=0,colour='red', size=0.2) +\n",
    "    ggtitle(name) +\n",
    "    expand_limits(y=0) + \n",
    "    theme_cowplot()\n",
    "}"
   ]
  },
  {
   "cell_type": "code",
   "execution_count": 31,
   "metadata": {
    "kernel": "R"
   },
   "outputs": [
    {
     "name": "stderr",
     "output_type": "stream",
     "text": [
      "Warning message:\n",
      "“Removed 4 rows containing missing values (geom_errorbar).”Warning message:\n",
      "“Removed 4 rows containing missing values (geom_point).”Warning message:\n",
      "“Removed 5 rows containing missing values (geom_errorbar).”Warning message:\n",
      "“Removed 5 rows containing missing values (geom_point).”"
     ]
    }
   ],
   "source": [
    "idx = 0\n",
    "for (name in names(dat)) {\n",
    "    idx = idx + 1\n",
    "    dat[[name]][,3] = sqrt(dat[[name]][,2] * (1 - dat[[name]][,2]) / dat[[name]][,3]) * 2\n",
    "    dat[[name]] = as.data.frame(dat[[name]])\n",
    "    colnames(dat[[name]]) = c(\"mean_pip\", \"observed_freq\", \"se\")\n",
    "    pdf(paste0(\"/home/min/GIT/cnv-gene-mapping/data/deletion_simu/\", name, '_' , idx, '.pdf'), width=3, height=3, pointsize=16)\n",
    "    print(dot_plot(dat[[name]]))\n",
    "    dev.off()\n",
    "    system(paste0(\"convert -flatten -density 120 \", \"/home/min/GIT/cnv-gene-mapping/data/deletion_simu/\", name, '_' , idx, '.pdf', \" \", \n",
    "                  \"/home/min/GIT/cnv-gene-mapping/data/deletion_simu/\", name, '_' , idx, '.png'))\n",
    "}"
   ]
  },
  {
   "cell_type": "code",
   "execution_count": 32,
   "metadata": {
    "kernel": "R"
   },
   "outputs": [
    {
     "data": {
      "text/html": [
       "<ol class=list-inline>\n",
       "\t<li>'susie'</li>\n",
       "\t<li>'pymc3'</li>\n",
       "</ol>\n"
      ],
      "text/latex": [
       "\\begin{enumerate*}\n",
       "\\item 'susie'\n",
       "\\item 'pymc3'\n",
       "\\end{enumerate*}\n"
      ],
      "text/markdown": [
       "1. 'susie'\n",
       "2. 'pymc3'\n",
       "\n",
       "\n"
      ],
      "text/plain": [
       "[1] \"susie\" \"pymc3\""
      ]
     },
     "metadata": {},
     "output_type": "display_data"
    }
   ],
   "source": [
    "names(dat)"
   ]
  },
  {
   "cell_type": "code",
   "execution_count": null,
   "metadata": {
    "kernel": "R"
   },
   "outputs": [],
   "source": []
  },
  {
   "cell_type": "code",
   "execution_count": null,
   "metadata": {
    "kernel": "R"
   },
   "outputs": [],
   "source": []
  },
  {
   "cell_type": "code",
   "execution_count": null,
   "metadata": {
    "kernel": "R"
   },
   "outputs": [],
   "source": []
  },
  {
   "cell_type": "code",
   "execution_count": null,
   "metadata": {
    "kernel": "R"
   },
   "outputs": [],
   "source": []
  }
 ],
 "metadata": {
  "kernelspec": {
   "display_name": "SoS",
   "language": "sos",
   "name": "sos"
  },
  "language_info": {
   "codemirror_mode": "sos",
   "file_extension": ".sos",
   "mimetype": "text/x-sos",
   "name": "sos",
   "nbconvert_exporter": "sos_notebook.converter.SoS_Exporter",
   "pygments_lexer": "sos"
  },
  "sos": {
   "kernels": [
    [
     "R",
     "ir",
     "R",
     "#DCDCDA",
     "r"
    ],
    [
     "SoS",
     "sos",
     "",
     "",
     "sos"
    ]
   ],
   "version": "0.21.7"
  }
 },
 "nbformat": 4,
 "nbformat_minor": 4
}
