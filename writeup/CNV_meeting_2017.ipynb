{
 "cells": [
  {
   "cell_type": "markdown",
   "metadata": {},
   "source": [
    "#### Notes for meeting 06/02/2017\n",
    "*1) Obtain $\\alpha$ / $\\alpha_0$ from ???\n",
    "\n",
    "2) Add meaning of the last column in DAP output: log10 Bayes factor of the corresponding SNP in single-SNP testing\n",
    "\n",
    "3) Add time consumed, begin time and end time\n",
    "\n",
    "4) Constants added for all patterns disrupted by CNVs are the same, set to 1.0\n",
    "\n",
    "5) Change the causal gene to the 2nd one or last one instead of 1st one\n",
    "\n",
    "6) Make configuration data for ???\n",
    "\n",
    "7) Add two more columns in pattern table: # of each pattern in cases and controls\n",
    "\n",
    "8) Make toy example for 10 genes: at most one CNV for each sample, i.e. CNV can only disrupt adjacent gene(s)\n",
    "\n",
    "9) For 4 genes toy example, ignore patterns which contain two CNVs in one sample\n",
    "\n",
    "10) Set all constant to 0, and observe results generated from variational approximation and DAP\n",
    "\n",
    "11) Make two or more blocks instead of only one in current toy example: \n",
    "\n",
    "*** Estimation of $\\alpha$: simulation procedure. (1) Many blocks per sample: sample genotypes; (2) Randomly choose a pathway; (3) Create causal gene list based on pathway. (4) Sample phenotypes: if a causal gene is disrupted, a larger $y$."
   ]
  },
  {
   "cell_type": "markdown",
   "metadata": {
    "collapsed": true
   },
   "source": [
    "#### Notes for meeting 06/15/2017\n",
    "1) First simulate CNVs: simu CNVs for different lengths: e.g. length (span 1~10 genes) follows geometric distribution; the longer CNV the less common/frequent it is; $0$ means no CNV in this region (wild type), most common in samples.\n",
    "\n",
    "2) Sample fixed amount of CNVs, say 10, in this region. Binomial sampling these CNVs from 1st step??? \n",
    "\n",
    "3) Then simulate case-control: the number of CNV in cases are supposed to be more than in controls. Samples who have CNV overlapping with causal gene are more likely to be cases, say 80%; samples who have CNV not overlapping with causal gene are equally likely to be cases or controls, i.e. 50%.\n",
    "\n",
    "4) Obtain $\\alpha_0$: prior; Bayes factor: if sample size is small, pip would decrease, need to check Bayes factor\n",
    "\n",
    "5) Check Swedish data, figure 3/table 1"
   ]
  },
  {
   "cell_type": "code",
   "execution_count": null,
   "metadata": {
    "collapsed": true
   },
   "outputs": [],
   "source": []
  }
 ],
 "metadata": {
  "kernelspec": {
   "display_name": "Python 3",
   "language": "python",
   "name": "python3"
  },
  "language_info": {
   "codemirror_mode": {
    "name": "ipython",
    "version": 3
   },
   "file_extension": ".py",
   "mimetype": "text/x-python",
   "name": "python",
   "nbconvert_exporter": "python",
   "pygments_lexer": "ipython3",
   "version": "3.5.2"
  }
 },
 "nbformat": 4,
 "nbformat_minor": 2
}
