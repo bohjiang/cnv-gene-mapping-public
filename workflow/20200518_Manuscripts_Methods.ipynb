{
 "cells": [
  {
   "cell_type": "markdown",
   "metadata": {
    "kernel": "SoS"
   },
   "source": [
    "# Methods\n",
    "    5.1, 5.2, 5.3\n",
    "    6.1, 6.2, 6.3\n",
    "\n",
    "intersected the list with the ASoC SNP table (FDR < 0.05) from iN-Glut-20 as well as all heterozygous SNPs found (n = 5,590 and n = 106,030) respectively"
   ]
  },
  {
   "cell_type": "markdown",
   "metadata": {
    "kernel": "SoS"
   },
   "source": [
    "## Neuron ATAC-seq"
   ]
  },
  {
   "cell_type": "markdown",
   "metadata": {
    "kernel": "SoS"
   },
   "source": [
    "### Parameterize fine-mapping model with functional enrichment information\n",
    "The statistical model to combine functional annotation with genetic fine-mapping is \n",
    "\n",
    "$$\\beta_{j} = (1 - \\pi_{j})\\delta_0 + \\pi_{j}g(\\cdot) (1)$$\n",
    "$$\\log\\big[\\frac{\\pi_{j}}{1 - \\pi_{j}} \\big] = \\alpha_0 + \\sum_{k=1}^m \\alpha_k d_{jk} (2)$$\n",
    "where $\\pi_{j}$ is prior inclusion probability of $\\textit{j}$th SNP in a certain locus, thus $1-\\pi_j$ denotes the probability of the coefficient to be zero; $\\delta_0$ is usually designated to be zero; $\\alpha_k$ is enrichment of annotation $\\textit{k}$ in causal variants; $d_{jk}$ is the annotation $\\textit{k}$ of $\\textit{j}$th SNP, which is often binary.\n",
    "\n"
   ]
  },
  {
   "cell_type": "markdown",
   "metadata": {
    "kernel": "SoS"
   },
   "source": [
    "## CNV"
   ]
  },
  {
   "cell_type": "markdown",
   "metadata": {
    "kernel": "SoS"
   },
   "source": [
    "### Model"
   ]
  },
  {
   "cell_type": "markdown",
   "metadata": {
    "kernel": "SoS"
   },
   "source": [
    "### Software"
   ]
  },
  {
   "cell_type": "markdown",
   "metadata": {
    "kernel": "SoS"
   },
   "source": [
    "## Vocabulary\n",
    "verb\n",
    "- quantify uncertainty\n",
    "- introduce a new approach\n",
    "- remain\n",
    "- pose an obvious challenge\n",
    "- satisfactorily address this problem\n",
    "- These shortcomings motivate our work.\n",
    "- identify\n",
    "- causally affect the trait\n",
    "- assess uncertainty\n",
    "- narrow down\n",
    "- attempt to assess\n",
    "- address uncerntainty\n",
    "- declare "
   ]
  },
  {
   "cell_type": "markdown",
   "metadata": {
    "kernel": "SoS"
   },
   "source": [
    "adv\n",
    "- considerable\n",
    "- crucial\n",
    "- interpretable\n",
    "- In contrast\n",
    "- precisely\n",
    "- analytically tractable\n",
    "- "
   ]
  },
  {
   "cell_type": "markdown",
   "metadata": {
    "kernel": "SoS"
   },
   "source": [
    "noun\n",
    "- ambiguity\n",
    "- For brevity\n",
    "- "
   ]
  },
  {
   "cell_type": "code",
   "execution_count": null,
   "metadata": {
    "kernel": "SoS"
   },
   "outputs": [],
   "source": []
  }
 ],
 "metadata": {
  "kernelspec": {
   "display_name": "SoS",
   "language": "sos",
   "name": "sos"
  },
  "language_info": {
   "codemirror_mode": "sos",
   "file_extension": ".sos",
   "mimetype": "text/x-sos",
   "name": "sos",
   "nbconvert_exporter": "sos_notebook.converter.SoS_Exporter",
   "pygments_lexer": "sos"
  },
  "sos": {
   "kernels": [
    [
     "SoS",
     "sos",
     "",
     ""
    ]
   ],
   "version": "0.21.7"
  }
 },
 "nbformat": 4,
 "nbformat_minor": 4
}
