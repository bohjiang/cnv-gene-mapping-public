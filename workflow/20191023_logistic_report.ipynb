{
 "cells": [
  {
   "cell_type": "markdown",
   "metadata": {
    "kernel": "SoS"
   },
   "source": [
    "# Single effect CNV-gene pattern report using new `logistic` and other methods"
   ]
  },
  {
   "cell_type": "markdown",
   "metadata": {
    "kernel": "SoS"
   },
   "source": [
    "## Single effect result summary\n",
    "1. There are 5 genes in example block. Gene 3 owns unique CNV-gene pattern, fisher test pvalue 0.0118. Gene 1,2,5 share the same pattern, the least significant. (Table 2)\n",
    "2. There is only one true effect - gene 3, which is $0.98$.\n",
    "3. Correlations between 5 genes: See Table 1. Correlations are large, probably because some of the genes share the same or similar pattern.\n",
    "5. Parameters: PyMC3 and `logistic` use priors $\\pi_0=0.043, \\mu=0.777, \\sigma=0.844$ obtained from whole-genome varbvs. SuSiE and varbvs use default.\n",
    "4. PyMC3 Results depends a lot on ;\n",
    "5. Sum of PIP: varbvs 0.9618, close to 1; susie and `logistic` is 1.\n",
    "6. Largest PIP: gene 3 has largest PIP for all methods. PyMC3 $0.493$, SuSiE $0.817$, `logistic` $0.868$, varbvs $0.607$.\n",
    "7. Estimates for posterior mean coefficients $\\mu$: PyMC3 $1.0$, SuSiE $0.00964$ (smallest), `logistic` $1.246$, varbvs $1.070$."
   ]
  },
  {
   "cell_type": "markdown",
   "metadata": {
    "kernel": "SoS"
   },
   "source": [
    "## Questions\n",
    "1. PIP for gene 3 obtained by PyMC3 are the smallest (0.493). Use mixture Gaussian instead of spike-and-slab prior?\n",
    "3. Correlations between genes are relatively large, impact on results?"
   ]
  },
  {
   "cell_type": "markdown",
   "metadata": {
    "kernel": "SoS"
   },
   "source": [
    "## Single effect results\n",
    "### Block # 739_743\n",
    "True effect: gene index 3, effect size: $0.98$\n",
    "\n",
    "#### Correlation (Table 1)\n",
    "      \tV1\t\t\tV2\t\t\tV3\t\t\tV4\t\t\tV5\n",
    "    V1\t1.0000000\t1.0000000\t0.4997202\t0.7904810\t1.0000000\n",
    "    V2\t1.0000000\t1.0000000\t0.4997202\t0.7904810\t1.0000000\n",
    "    V3\t0.4997202\t0.4997202\t1.0000000\t0.3947537\t0.4997202\n",
    "    V4\t0.7904810\t0.7904810\t0.3947537\t1.0000000\t0.7904810\n",
    "    V5\t1.0000000\t1.0000000\t0.4997202\t0.7904810\t1.0000000\n",
    "\n",
    "#### Fisher test (Table 2)\n",
    "    index\td_c\td_nc\tnd_c\tnd_nc\tp\n",
    "    3\t\t16   6690\t4\t6702\t0.011757\t\n",
    "    4\t\t5\t6701\t3\t6703\t0.726481\t\n",
    "    5\t\t3\t6703\t2\t6704\t1.000000\t\n",
    "    2\t\t3\t6703\t2\t6704\t1.000000\n",
    "    1\t\t3\t6703\t2\t6704\t1.000000\t\n",
    "\n",
    "#### `logistic` (newly implemented by Peter) posterior inclusion probabilities, and the posterior, means and standard deviations (Table 3)\n",
    "Use whole-genome `varbvs` results, $\\pi_0 = 0.043, \\mu = 0.777, \\sigma = 0.844$\n",
    "\n",
    "    index     p1       mu1        s1\n",
    "    1 0.03261352 0.6320746 0.6381212\n",
    "    2 0.03261352 0.6320746 0.6381212\n",
    "    3 0.86784779 1.2459461 0.4570842\n",
    "    4 0.03431165 0.6513176 0.5679802\n",
    "    5 0.03261352 0.6320746 0.6381212\n",
    "\n",
    "#### SuSiE (Table 4)\n",
    "`susie(X, y, L = 1, scaled_prior_variance = 0.005, estimate_prior_method = \"optim\", estimate_prior_variance = TRUE)`\n",
    "\n",
    "`susie$pip, susie$mu, sqrt(susie$sigma2)`\n",
    "\n",
    "    index    pip        mu     residual variance\n",
    "    1    \"0.044212\" \"0.001606 \"0.499908\"\n",
    "    2    \"0.044212\" \"0.001606 \"0.499908\"\n",
    "    3    \"0.817270\" \"0.009644 \"0.499908\"\n",
    "    4    \"0.050094\" \"0.002540 \"0.499908\"\n",
    "    5    \"0.044212\" \"0.001606 \"0.499908\"\n",
    "\n",
    "#### varbvs (Table 5)\n",
    "`varbvs::varbvs(X, NULL, y, family = \"binomial\", update.b0 = TRUE, verbose = FALSE)`\n",
    "\n",
    "`varbvs$pip, varbvs$mu %*% varbvs$w, sqrt(varbvs$s %*% varbvs$w))`\n",
    "\n",
    "    index  pip       mu        sigma\n",
    "    1   \"0.091284\" \"-0.086177 \"0.679331\"\n",
    "    2   \"0.091284\" \"-0.086170 \"0.679331\"\n",
    "    3   \"0.607564\"  \"1.070141 \"0.419637\"\n",
    "    4   \"0.080390\"  \"0.114609 \"0.585766\"\n",
    "    5   \"0.091284\" \"-0.086189 \"0.679331\""
   ]
  },
  {
   "cell_type": "markdown",
   "metadata": {
    "kernel": "SoS"
   },
   "source": [
    "#### PyMC3 Spike-and-slab model (Table 6)\n",
    "Use whole-genome `varbvs` results, $\\pi_0 = 0.043, \\mu = 0.777, \\sigma = 0.844$\n",
    "\n",
    "    1st column: gene index in the block\n",
    "    2nd column: inclusion probability\n",
    "    3rd column: beta; mean(beta)\n",
    "    4th column: beta given inclusion probability; sum(beta * inclusion probability) / sum(inclusion probability)\n",
    "\n",
    "1. beta0 = log(0.05/0.95) = -2.94, sigma_beta0 = 1, chain = 2\n",
    "\n",
    "        index    inclusion_probability\tbeta\tbeta_given_inclusion\n",
    "            3\t0.47625\t0.592170\t1.243402\n",
    "            1\t0.03150\t0.012665\t0.402071\n",
    "            5\t0.03050\t0.014249\t0.467167\n",
    "            2\t0.02925\t0.012819\t0.438252\n",
    "            4\t0.02825\t0.013742\t0.486451\n",
    "\n",
    "\n",
    "2. beta0 = log(0.05/0.95) = -2.94, sigma_beta0 = 0.1, chain = 10\n",
    "\n",
    "        index\tinclusion_probability\tbeta\tbeta_given_inclusion\n",
    "            3\t0.59090\t0.768570\t1.300677\n",
    "            4\t0.03010\t0.015933\t0.529335\n",
    "            1\t0.03005\t0.012272\t0.408400\n",
    "            5\t0.02755\t0.010674\t0.387456\n",
    "            2\t0.02620\t0.011247\t0.429271\n",
    "\n",
    "\n",
    "3. beta0 = log(0.05/0.95) = -2.94, sigma_beta0 = 0.075, chain = 2\n",
    "\n",
    "        index\tinclusion_probability\tbeta\tbeta_given_inclusion\n",
    "            3\t0.67975\t0.917245\t1.349385\n",
    "            1\t0.02825\t0.012331\t0.436505\n",
    "            2\t0.02800\t0.010168\t0.363138\n",
    "            4\t0.02725\t0.011556\t0.424060\n",
    "            5\t0.02650\t0.012442\t0.469526\n",
    "\n",
    "\n",
    "4. beta0 = log(0.05/0.95) = -2.94, sigma_beta0 = 0.05, chain = 2\n",
    "\n",
    "        index\tinclusion_probability\tbeta\tbeta_given_inclusion\n",
    "            3\t0.85825\t1.260122\t1.468246\n",
    "            4\t0.03375\t0.018337\t0.543320\n",
    "            5\t0.03025\t0.008501\t0.281032\n",
    "            2\t0.03000\t0.007361\t0.245359\n",
    "            1\t0.02575\t0.006745\t0.261948\n",
    "\n",
    "\n",
    "5. beta0 = log(0.05/0.95) = -2.94, sigma_beta0 = 0.01, chain = 2\n",
    "\n",
    "        index\tinclusion_probability\tbeta\tbeta_given_inclusion\n",
    "            3\t1.00000\t2.988192\t2.988192\n",
    "            4\t0.08100\t0.078647\t0.970953\n",
    "            2\t0.02650\t0.008012\t0.302330\n",
    "            5\t0.02625\t0.011186\t0.426136\n",
    "            1\t0.02575\t0.009734\t0.378034\n",
    "\n",
    "#### PyMC3 Mixture normal model (Table 7)\n",
    "          \tmean\t\t sd\t\tmc_error\t\thpd_2.5\thpd_97.5\n",
    "    alpha\t -0.001208\t0.017520\t0.000436\t-0.033342\t0.036470\n",
    "    beta__1\t0.025705\t0.181715\t0.013628\t-0.138208\t0.129349\n",
    "    beta__2   -0.000119\t0.073514\t0.001140\t-0.097299\t0.092712\n",
    "    beta__3\t0.815089\t0.706798\t0.063393\t-0.114546\t1.972868\n",
    "    beta__4\t0.001238\t0.101555\t0.001842\t-0.097665\t0.101230\n",
    "    beta__5\t0.004144\t0.105738\t0.005091\t-0.108441\t0.102987"
   ]
  },
  {
   "cell_type": "code",
   "execution_count": null,
   "metadata": {
    "kernel": "SoS"
   },
   "outputs": [],
   "source": []
  }
 ],
 "metadata": {
  "kernelspec": {
   "display_name": "SoS",
   "language": "sos",
   "name": "sos"
  },
  "language_info": {
   "codemirror_mode": "sos",
   "file_extension": ".sos",
   "mimetype": "text/x-sos",
   "name": "sos",
   "nbconvert_exporter": "sos_notebook.converter.SoS_Exporter",
   "pygments_lexer": "sos"
  },
  "sos": {
   "kernels": [
    [
     "SoS",
     "sos",
     "",
     ""
    ]
   ],
   "version": "0.20.5"
  }
 },
 "nbformat": 4,
 "nbformat_minor": 4
}
