{
 "cells": [
  {
   "cell_type": "markdown",
   "metadata": {},
   "source": [
    "The figures are generated using R package saasCNV [source of SAAS-CNV](http://www.ncbi.nlm.nih.gov/pmc/articles/PMC4652904/) and dataset [source of dataset](https://zhangz05.u.hpc.mssm.edu/saasCNV/data/).\n",
    "\n",
    "`analysis/vcfdata.R` [R code]\n",
    "(https://github.com/gaow/cnv-gene-mapping/blob/da154eeee7cae1f5194d28b4019d3b6402fd1cd6/analysis/vcfdata.R)\n",
    "\n",
    "## Result\n",
    "### Figure 1\n",
    "\n",
    "Visualize genome-wide SCNA Profile in 2D cluster plot, log2mBAF vs log2ratio.\n",
    "\n",
    "| Term  |  Note | \n",
    "|:---:|---|\n",
    "| log2mBAF  |  log2(mBAF of tumor / mBAF of normal) | \n",
    "|  mBAF | BAF if BAF>=0.5, and = 1-BAF otherwise, or  = \\|BAF − 0.5\\|+0.5  |\n",
    "|  log2ratio |  log2(total RD of tumor / total RD of normal) |\n",
    "\n",
    "![](https://github.com/gaow/cnv-gene-mapping/wiki/media/diagnosis.png)\n",
    "\n",
    "### Figure 2\n",
    "\n",
    "Visualize genome-wide SCNA profile. On the top panel, the log2ratio signal is plotted against chromosomal position. On the panels below, the log2mBAF, tumor mBAF, and normal mBAF signals  plotted against chromosomal position.\n",
    "\n",
    "![](https://github.com/gaow/cnv-gene-mapping/wiki/media/genome-wideplot.png)"
   ]
  }
 ],
 "metadata": {},
 "nbformat": 4,
 "nbformat_minor": 2
}
