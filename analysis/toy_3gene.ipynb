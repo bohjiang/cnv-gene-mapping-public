{
 "cells": [
  {
   "cell_type": "code",
   "execution_count": 1,
   "metadata": {
    "collapsed": true
   },
   "outputs": [],
   "source": [
    "import numpy as np\n",
    "import pandas as pd\n",
    "import feather\n",
    "from pandasql import sqldf\n",
    "from fisher import pvalue\n",
    "from scipy import stats\n",
    "from pprint import pprint"
   ]
  },
  {
   "cell_type": "code",
   "execution_count": 2,
   "metadata": {},
   "outputs": [],
   "source": [
    "# first gene is causal, extreme situation include [1,1,1] and [0,0,0]\n",
    "s1 = [0,0,0]\n",
    "s2 = [1,0,0] # need to add a constance in config\n",
    "s3 = [0,1,0]\n",
    "s4 = [0,0,1]\n",
    "s5 = [1,1,0] # need to add a constance in config\n",
    "s6 = [0,1,1]\n",
    "s7 = [1,1,1] # need to add a constance in config\n",
    "# [1,0,1] is also possible, but contains two CNVs, so it can be separated to [1,0,0] and [0,0,1]"
   ]
  },
  {
   "cell_type": "code",
   "execution_count": 3,
   "metadata": {},
   "outputs": [],
   "source": [
    "def sample_3gene(n1, n2, n3, n4, n5, n6, n7, const7, const2, const5, seed=999):\n",
    "    np.random.seed(seed)\n",
    "    overlap = np.matrix( [s7 for i in range(n7)] + [s1 for i in range(n1)] + [s2 for i in range(n2)] \n",
    "                       + [s3 for i in range(n3)] + [s4 for i in range(n4)] + [s5 for i in range(n5)] \n",
    "                       + [s6 for i in range(n6)] )\n",
    "    config = [np.random.normal(0,1)+const7 for i in range(n7)] + [np.random.normal(0,1) for i in range(n1)] + [np.random.normal(0,1)+const2 for i in range(n2)] + [np.random.normal(0,1) for i in range(n3)] + [np.random.normal(0,1) for i in range(n4)] + [np.random.normal(0,1)+const5 for i in range(n5)] + [np.random.normal(0,1) for i in range(n6)]\n",
    "    config = np.matrix([[1] if i>np.median(config) else [0] for i in config])\n",
    "    sample = np.concatenate((config, overlap), axis=1)\n",
    "    df = pd.DataFrame(sample, columns = [\"phenotype\"] + [\"gene{}\".format(i+1) for i in range(sample.shape[1]-1)])\n",
    "    for col in df.columns:\n",
    "        df[col] = df[col].astype(np.uint8)\n",
    "    output = feather.write_dataframe(df, \"data/toy_3genes_n_{}.feather\".format(n1+n2+n3+n4+n5+n6+n7))\n",
    "    return df"
   ]
  },
  {
   "cell_type": "code",
   "execution_count": 4,
   "metadata": {
    "scrolled": true
   },
   "outputs": [],
   "source": [
    "n000 = 600\n",
    "n100 = 105\n",
    "n010 = 100\n",
    "n001 = 105\n",
    "n110 = 100\n",
    "n011 = 100\n",
    "n111 = 100\n",
    "diff100 = 1.0 # 0.66\n",
    "diff110 = 0.66 # 0.44\n",
    "diff111 = 0.33 # 0.22\n",
    "sample = sample_3gene(n1=n000, n2=n100, n3=n010, n4=n001, n5=n110, n6=n011, n7=n111, \n",
    "                       const7=diff111, const2=diff100, const5=diff110)"
   ]
  },
  {
   "cell_type": "code",
   "execution_count": 5,
   "metadata": {
    "collapsed": true
   },
   "outputs": [],
   "source": [
    "def get_OR(gene_df, fisher=0):\n",
    "    cases = gene_df[gene_df[\"phenotype\"]==1]\n",
    "    ctrls = gene_df[gene_df[\"phenotype\"]==0]\n",
    "    res_dict = {}\n",
    "    for gene in list(gene_df)[1:]:\n",
    "        n_gene_case = len(cases[cases[gene]==1])\n",
    "        n_nogene_case = len(cases[cases[gene]==0])\n",
    "        n_gene_ctrl = len(ctrls[ctrls[gene]==1])\n",
    "        n_nogene_ctrl = len(ctrls[ctrls[gene]==0])\n",
    "        odds_ratio = stats.fisher_exact([[n_gene_case, n_gene_ctrl], [n_nogene_case, n_nogene_ctrl]])[0]\n",
    "        res_dict[gene] = odds_ratio\n",
    "        if not fisher==0:\n",
    "            logp = -np.log10(pvalue(n_gene_case, n_gene_ctrl, n_nogene_case, n_nogene_ctrl).two_tail)\n",
    "            res_dict[gene] = logp\n",
    "    return res_dict"
   ]
  },
  {
   "cell_type": "code",
   "execution_count": 6,
   "metadata": {},
   "outputs": [
    {
     "data": {
      "text/plain": [
       "{'gene1': 5.4789381094439111,\n",
       " 'gene2': 1.2358384261227371,\n",
       " 'gene3': 0.1603845392738765}"
      ]
     },
     "execution_count": 6,
     "metadata": {},
     "output_type": "execute_result"
    }
   ],
   "source": [
    "get_OR(sample, fisher=1)"
   ]
  }
 ],
 "metadata": {
  "kernelspec": {
   "display_name": "Python 3",
   "language": "python",
   "name": "python3"
  },
  "language_info": {
   "codemirror_mode": {
    "name": "ipython",
    "version": 3
   },
   "file_extension": ".py",
   "mimetype": "text/x-python",
   "name": "python",
   "nbconvert_exporter": "python",
   "pygments_lexer": "ipython3",
   "version": "3.5.2"
  }
 },
 "nbformat": 4,
 "nbformat_minor": 2
}
