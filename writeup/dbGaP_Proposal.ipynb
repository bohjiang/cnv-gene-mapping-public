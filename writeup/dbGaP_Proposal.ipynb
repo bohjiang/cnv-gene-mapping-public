{
 "cells": [
  {
   "cell_type": "markdown",
   "metadata": {
    "kernel": "SoS"
   },
   "source": [
    "The application below follows from templates on [this site](https://github.com/aaronwolen/gibbs-brain-project/wiki/Other-dbGap-applications).\n",
    "\n",
    "## Integration of CNV and SNV for gene mapping of psychiatric disorders: methods and data analysis\n",
    "OMB control number: 0925-0670 Expiration date: 03/31/2019\n",
    "\n",
    "## Non-technical summary\n",
    "\n",
    "We seek to develop methods that leverage genome-wide copy number variations (CNVs) for gene mapping of psychiatric diseases. CNVs are large genomic insertion or deletion events, an important source of genetic variation affecting neuropsychiatric disorders such as autism and intellectual disability. Recent evidence has implicated that CNVs and single-nucleotide variants (SNVs) converge on the same set of genes in etiology of many psychiatric traits. However, current methods for gene mapping typically analyze one type of data at a time -- either focusing on SNV association mapping, or CNV based gene-set analysis. The fact that CNVs often spread multiple genes raises analytic challenge of identifying the causal genes among all genes involved. We will develop a principled statistical framework to integrate SNV and CNV data at the gene-level, accommodating both trio-sequencing and case-control studies, to increase power of psychiatric gene discovery.\n",
    "\n",
    "\n",
    "## Research Use Statement (RUS)\n",
    "\n",
    "Recent studies have indicated that SNVs and CNVs of psychiatric disorders converge on the same set of target genes, making joint SNV-CNV analysis an extremely attractive strategy. We recently developed a method for integrating autism CNV and SNV data (Sanders & He et al, Neuron, 2015). The method extracts gene level evidence from CNV data, and then combine with gene-level test from SNV data. The method, however, suffers from several limitations: for instance, it assumes one causal gene per CNV; and it assumes all CNVs are independent (this would be violated for overlapping CNVs). We will extend this work and develop a more rigorous statistical model to infer causal genes from CNV data. Our idea is that whether a CNV is associated with autism depends on whether it overlaps with autism genes. Thus we can use the Bayes rule to infer the most probable risk genes from observed CNVs. This model allows multiple causal genes in one CNV and can easily incorporate gene-level information from SNV data. To develop and test this method, we need access to individual-level genotype and phenotype datasets specific for autism (accession number: phs000267.v4) containing the CNV data from a recent paper by Pinto et al, in AJHG, 2014 (PMID: 24768552). Our method will generate summary statistics (e.g. odds ratio estimates, standard errors) from the CNV dataset and combine with summary statistics from SNV data. By using summary statistics the data integration project will not create additional risks to participants. We acknowledge the use restrictions of each dataset and will not use any of these datasets to seek to reveal the identity of individuals."
   ]
  }
 ],
 "metadata": {
  "kernelspec": {
   "display_name": "SoS",
   "language": "sos",
   "name": "sos"
  },
  "language_info": {
   "codemirror_mode": "sos",
   "file_extension": ".sos",
   "mimetype": "text/x-sos",
   "name": "sos",
   "nbconvert_exporter": "sos_notebook.converter.SoS_Exporter",
   "pygments_lexer": "sos"
  },
  "sos": {
   "kernels": [
    [
     "Python3",
     "python3",
     "Python3",
     "#FFE771"
    ],
    [
     "SoS",
     "sos",
     "",
     ""
    ]
   ],
   "panel": {
    "displayed": true,
    "height": 0,
    "style": "side"
   }
  }
 },
 "nbformat": 4,
 "nbformat_minor": 2
}
