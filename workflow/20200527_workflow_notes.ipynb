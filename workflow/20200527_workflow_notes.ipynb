{
 "cells": [
  {
   "cell_type": "markdown",
   "metadata": {
    "kernel": "SoS"
   },
   "source": [
    "# Simulation and analysis process"
   ]
  },
  {
   "cell_type": "markdown",
   "metadata": {
    "kernel": "SoS"
   },
   "source": [
    "## 20200527 **test** with headers\n",
    "### Simulation\n",
    "```\n",
    "sos run workflow/20190717_workflow.ipynb simulate \\\n",
    "    --name test_simu_dele_header \\\n",
    "    --genotype-file data/deletion.X.colnames.gz \\\n",
    "    --cwd output/test_simu_dele_header \\\n",
    "    --sample-size 200 \\\n",
    "    --n-batch 5 \\\n",
    "    -s build\n",
    "```\n",
    "### varbvs_wg\n",
    "```\n",
    "sos run workflow/20190717_workflow.ipynb varbvs_wg \\\n",
    "    --name varbvs_wg \\\n",
    "    --genotype-file output/test_simu_dele_header/deletion.X.colnames_b30.test_simu_dele_header.samples.X_genename.gz \\\n",
    "    --phenotype-file output/test_simu_dele_header/deletion.X.colnames_b30.test_simu_dele_header.samples.y.gz \\\n",
    "    --cwd output/test_simu_dele_header\n",
    "```\n",
    "### fisher\n",
    "```\n",
    "sos run workflow/20190717_workflow.ipynb fisher \\\n",
    "    --name fisher \\\n",
    "    --genotype-file output/test_simu_dele_header/deletion.X.colnames_b30.test_simu_dele_header.samples.X_genename.gz \\\n",
    "    --phenotype-file output/test_simu_dele_header/deletion.X.colnames_b30.test_simu_dele_header.samples.y.gz \\\n",
    "    --cwd output/test_simu_dele_header\n",
    "```\n",
    "### varbvs\n",
    "```\n",
    "sos run workflow/20190717_workflow.ipynb varbvs \\\n",
    "    --name varbvs \\\n",
    "    --genotype-file output/test_simu_dele_header/deletion.X.colnames_b30.test_simu_dele_header.samples.X_genename.gz \\\n",
    "    --phenotype-file output/test_simu_dele_header/deletion.X.colnames_b30.test_simu_dele_header.samples.y.gz \\\n",
    "    --cwd output/test_simu_dele_header\n",
    "```\n",
    "### SuSiE\n",
    "```\n",
    "sos run workflow/20190717_workflow.ipynb susie \\\n",
    "    --name susie \\\n",
    "    --genotype-file output/test_simu_dele_header/deletion.X.colnames_b30.test_simu_dele_header.samples.X_genename.gz \\\n",
    "    --phenotype-file output/test_simu_dele_header/deletion.X.colnames_b30.test_simu_dele_header.samples.y.gz \\\n",
    "    --hyperparam_file output/test_simu_dele_header/deletion.X.colnames_b30.test_simu_dele_header.samples.X_genename.varbvs_wg.hyperparams \\\n",
    "    --cwd output/test_simu_dele_header\n",
    "```\n",
    "### MCMC\n",
    "```\n",
    "sos run workflow/20190717_workflow.ipynb mcmc \\\n",
    "    --name mcmc \\\n",
    "    --genotype-file output/test_simu_dele_header/deletion.X.colnames_b30.test_simu_dele_header.samples.X_genename.gz \\\n",
    "    --phenotype-file output/test_simu_dele_header/deletion.X.colnames_b30.test_simu_dele_header.samples.y.gz \\\n",
    "    --cwd output/test_simu_dele_header \\\n",
    "    --hyperparam_file output/test_simu_dele_header/deletion.X.colnames_b30.test_simu_dele_header.samples.X_genename.varbvs_wg.hyperparams \\\n",
    "    --iteration 100\n",
    "```\n",
    "### hybird\n",
    "\n",
    "(this should also test both `mcmc` and `sier`)\n",
    "\n",
    "```\n",
    "sos run workflow/20190717_workflow.ipynb hybrid \\\n",
    "    --name hybrid \\\n",
    "    --genotype-file output/test_simu_dele_header/deletion.X.colnames_b30.test_simu_dele_header.samples.X_genename.gz \\\n",
    "    --phenotype-file output/test_simu_dele_header/deletion.X.colnames_b30.test_simu_dele_header.samples.y.gz \\\n",
    "    --cwd output/test_simu_dele_header \\\n",
    "    --varbvs_wg_pip output/test_simu_dele_header/deletion.X.colnames_b30.test_simu_dele_header.samples.X_genename.varbvs_wg.genename.pip \\\n",
    "    --hyperparam_file output/test_simu_dele_header/deletion.X.colnames_b30.test_simu_dele_header.samples.X_genename.varbvs_wg.hyperparams \\\n",
    "    --iteration 100\n",
    "```"
   ]
  },
  {
   "cell_type": "markdown",
   "metadata": {
    "kernel": "SoS"
   },
   "source": [
    "## 20200528 deletion CNV, with header, no index\n",
    "### Simulation\n",
    "```\n",
    "sos run workflow/20190717_workflow.ipynb simulate \\\n",
    "    --name simu_dele_30_0528 \\\n",
    "    --genotype-file /home/min/GIT/cnv-gene-mapping/data/deletion.X.colnames.gz \\\n",
    "    --cwd output/simu_dele_30_0528 \\\n",
    "    --sample-size 200000 \\\n",
    "    --n-batch 200\n",
    "```\n",
    "### varbvs_wg\n",
    "```\n",
    "sos run workflow/20190717_workflow.ipynb varbvs_wg \\\n",
    "    --name varbvs_wg --cwd output/simu_dele_30_0528 \\\n",
    "    --genotype-file output/simu_dele_30_0528/deletion.X.colnames_b30.simu_dele_30_0528.samples.X_genename.gz \\\n",
    "    --phenotype-file output/simu_dele_30_0528/deletion.X.colnames_b30.simu_dele_30_0528.samples.y.gz\n",
    "```\n",
    "### fisher\n",
    "```\n",
    "sos run workflow/20190717_workflow.ipynb fisher \\\n",
    "    --name fisher \\\n",
    "    --cwd output/simu_dele_30_0528 \\\n",
    "    --genotype-file output/simu_dele_30_0528/deletion.X.colnames_b30.simu_dele_30_0528.samples.X_genename.gz \\\n",
    "    --phenotype-file output/simu_dele_30_0528/deletion.X.colnames_b30.simu_dele_30_0528.samples.y.gz\n",
    "```\n",
    "### SuSiE, need **--hyperparam_file**\n",
    "```\n",
    "sos run workflow/20190717_workflow.ipynb susie \\\n",
    "    --name susie --cwd output/simu_dele_30_0528 \\\n",
    "    --genotype-file output/simu_dele_30_0528/deletion.X.colnames_b30.simu_dele_30_0528.samples.X_genename.gz \\\n",
    "    --phenotype-file output/simu_dele_30_0528/deletion.X.colnames_b30.simu_dele_30_0528.samples.y.gz \\\n",
    "    --hyperparam_file output/simu_dele_30_0528/deletion.X.colnames_b30.simu_dele_30_0528.samples.X_genename.varbvs_wg.hyperparams\n",
    "```\n",
    "### varbvs\n",
    "```\n",
    "sos run workflow/20190717_workflow.ipynb varbvs \\\n",
    "    --name varbvs --cwd output/simu_dele_30_0528 \\\n",
    "    --genotype-file output/simu_dele_30_0528/deletion.X.colnames_b30.simu_dele_30_0528.samples.X_genename.gz \\\n",
    "    --phenotype-file output/simu_dele_30_0528/deletion.X.colnames_b30.simu_dele_30_0528.samples.y.gz\n",
    "```\n",
    "### sier, need **--hyperparam_file**\n",
    "```\n",
    "sos run workflow/20190717_workflow.ipynb sier \\\n",
    "    --name sier --cwd output/simu_dele_30_0528 \\\n",
    "    --genotype-file output/simu_dele_30_0528/deletion.X.colnames_b30.simu_dele_30_0528.samples.X_genename.gz \\\n",
    "    --phenotype-file output/simu_dele_30_0528/deletion.X.colnames_b30.simu_dele_30_0528.samples.y.gz \\\n",
    "    --hyperparam_file output/simu_dele_30_0528/deletion.X.colnames_b30.simu_dele_30_0528.samples.X_genename.varbvs_wg.hyperparams\n",
    "```\n",
    "### hybrid, need **--varbvs_wg_pip**\n",
    "```\n",
    "sos run workflow/20190717_workflow.ipynb hybrid \\\n",
    "    --name hybrid --cwd output/simu_dele_30_0528 \\\n",
    "    --genotype-file output/simu_dele_30_0528/deletion.X.colnames_b30.simu_dele_30_0528.samples.X_genename.gz \\\n",
    "    --phenotype-file output/simu_dele_30_0528/deletion.X.colnames_b30.simu_dele_30_0528.samples.y.gz \\\n",
    "    --varbvs_wg_pip output/simu_dele_30_0528/deletion.X.colnames_b30.simu_dele_30_0528.samples.X_genename.varbvs_wg.genename.pip\n",
    "```"
   ]
  },
  {
   "cell_type": "markdown",
   "metadata": {
    "kernel": "SoS"
   },
   "source": [
    "```\n",
    "dataset=simu_dele_30_0528\n",
    "sos run workflow/20190717_workflow.ipynb sier \\\n",
    "    --name sier --cwd output/$dataset \\\n",
    "    --genotype-file output/$dataset/deletion.X.colnames_b30.$dataset.X.gz \\\n",
    "    --phenotype-file output/$dataset/deletion.X.colnames_b30.$dataset.y.gz \\\n",
    "    --varbvs_wg_pip output/$dataset/deletion.X.colnames_b30.$dataset.varbvs_wg.pip \\\n",
    "    --hyperparam_file output/$dataset/deletion.X.colnames_b30.$dataset.varbvs_wg.hyperparams \\\n",
    "    -s build\n",
    "```"
   ]
  },
  {
   "cell_type": "markdown",
   "metadata": {
    "kernel": "SoS"
   },
   "source": [
    "## 20200528 deletion CNV, with header, no index, **midway2**\n",
    "### sier\n",
    "```\n",
    "cd /home/gaow/GIT/github/cnv-gene-mapping\n",
    "JOB_OPT=\"-q midway2 -c midway2.yml\"\n",
    "sos run workflow/20190717_workflow.ipynb sier \\\n",
    "    --name sier --cwd output/simu_dele_30_0528 \\\n",
    "    --genotype-file output/simu_dele_30_0528/deletion.X.colnames_b30.simu_dele_30_0528.samples.X.gz \\\n",
    "    --phenotype-file output/simu_dele_30_0528/deletion.X.colnames_b30.simu_dele_30_0528.samples.y.gz \\\n",
    "    --hyperparam_file output/simu_dele_30_0528/deletion.X.colnames_b30.simu_dele_30_0528.samples.X.varbvs_wg.hyperparams \\\n",
    "    --varbvs_wg_pip output/simu_dele_30_0528/deletion.X.colnames_b30.simu_dele_30_0528.samples.X.varbvs_wg.pip \\\n",
    "    --job_size 10 -s build \\\n",
    "    $JOB_OPT\n",
    "```\n",
    "### 3 pipeline in a batch\n",
    "```\n",
    "sbatch sos_submit.sbatch\n",
    "```"
   ]
  },
  {
   "cell_type": "markdown",
   "metadata": {
    "kernel": "SoS"
   },
   "source": [
    "## 20200529 deletion CNV, with header, no index, use different seed\n",
    "```\n",
    "cd /home/gaow/GIT/github/cnv-gene-mapping\n",
    "JOB_OPT=\"-q midway2 -c midway2.yml\"\n",
    "dataset=simu_dele_30_0529\n",
    "```\n",
    "### Simulation\n",
    "```\n",
    "sos run workflow/20190717_workflow.ipynb simulate \\\n",
    "    --name $dataset \\\n",
    "    --genotype-file /home/min/GIT/cnv-gene-mapping/data/deletion.X.colnames.gz \\\n",
    "    --cwd output/$dataset \\\n",
    "    --sample-size 200000 \\\n",
    "    --n-batch 200 \\\n",
    "    --seed 999999\n",
    "```\n",
    "### fisher\n",
    "```\n",
    "sos run workflow/20190717_workflow.ipynb fisher \\\n",
    "    --name fisher \\\n",
    "    --cwd output/$dataset \\\n",
    "    --genotype-file output/$dataset/deletion.X.colnames_b30.$dataset.X.gz \\\n",
    "    --phenotype-file output/$dataset/deletion.X.colnames_b30.$dataset.y.gz\n",
    "```\n",
    "\n",
    "### varbvs_wg\n",
    "```\n",
    "sos run workflow/20190717_workflow.ipynb varbvs_wg \\\n",
    "    --name varbvs_wg --cwd output/$dataset \\\n",
    "    --genotype-file output/$dataset/deletion.X.colnames_b30.$dataset.X.gz \\\n",
    "    --phenotype-file output/$dataset/deletion.X.colnames_b30.$dataset.y.gz\n",
    "```\n",
    "\n",
    "### SuSiE\n",
    "```\n",
    "sos run workflow/20190717_workflow.ipynb susie \\\n",
    "    --name susie --cwd output/$dataset \\\n",
    "    --genotype-file output/$dataset/deletion.X.colnames_b30.$dataset.X.gz \\\n",
    "    --phenotype-file output/$dataset/deletion.X.colnames_b30.$dataset.y.gz \\\n",
    "    --varbvs_wg_pip output/$dataset/deletion.X.colnames_b30.$dataset.varbvs_wg.pip \\\n",
    "    --hyperparam_file output/$dataset/deletion.X.colnames_b30.$dataset.varbvs_wg.hyperparams\n",
    "    -s build\n",
    "```\n",
    "\n",
    "### varbvs\n",
    "```\n",
    "sos run workflow/20190717_workflow.ipynb varbvs \\\n",
    "    --name varbvs --cwd output/$dataset \\\n",
    "    --genotype-file output/$dataset/deletion.X.colnames_b30.$dataset.X.gz \\\n",
    "    --phenotype-file output/$dataset/deletion.X.colnames_b30.$dataset.y.gz \\\n",
    "    -s build\n",
    "```"
   ]
  },
  {
   "cell_type": "markdown",
   "metadata": {
    "kernel": "SoS"
   },
   "source": [
    "## rsync\n",
    "```\n",
    "cd ~/GIT/cnv-gene-mapping/output/simu_dele_30_0529\n",
    "rsync -auzP --exclude=\"*/compiledir_Linux-3.10-el7.x86_64-x86_64-with-redhat-7.4-Nitrogen-x86_64-3.7.3-64/*\" mw:GIT/github/cnv-gene-mapping/output/simu_dele_30_0529/* ./\n",
    "```"
   ]
  },
  {
   "cell_type": "markdown",
   "metadata": {
    "kernel": "SoS"
   },
   "source": [
    "## midway delete all err and stdout before submit new jobs\n",
    "There is a `.sos/` folder under home directory\n",
    "```\n",
    "cd\n",
    "rm -rf .sos/*\n",
    "cd /home/gaow/GIT/github/cnv-gene-mapping\n",
    "rm *.err *.out\n",
    "```"
   ]
  },
  {
   "cell_type": "markdown",
   "metadata": {
    "kernel": "SoS"
   },
   "source": [
    "## Monitor memory use\n",
    "```\n",
    "cd ~/Downloads/\n",
    "python monitor.py python tmp.py\n",
    "```"
   ]
  },
  {
   "cell_type": "markdown",
   "metadata": {
    "kernel": "SoS"
   },
   "source": [
    "## Check err message when a job is completed\n",
    "```\n",
    "[MW] cd /home/gaow/GIT/github/cnv-gene-mapping\n",
    "[MW] cat M2_10b7fc5e3ad94584.err\n",
    "INFO: M2_10b7fc5e3ad94584 started\n",
    "INFO: All 2 tasks in M2_10b7fc5e3ad94584 failed\n",
    "slurmstepd-midway2-0133: error: Detected 2 oom-kill event(s) in step 2021055.batch cgroup. Some of your processes may have been killed by the cgroup out-of-memory handler.\n",
    "[MW] sos status M2_10b7fc5e3ad94584 -v4\n",
    "......\n",
    "standard error:\n",
    "================\n",
    "> 10b7fc5e3ad94584\tmcmc_3 e70e0097446ac6da cnv-gene-mapping mcmc_3_block_1028_1028.mcmc\tfailed\n",
    "\n",
    "Failed to execute ``python .sos/mcmc_3_250_646e0475.py``\n",
    "exitcode=-9, workdir=``/scratch/midway2/gaow/GIT/github/cnv-gene-mapping``, task=10b7fc5e3ad94584, stderr=/scratch/midway2/gaow/GIT/github/cnv-gene-mapping/output/simu_dele_30_0528/deletion.X.colnames_b30.simu_dele_30_0528.samples.X_genename_block_1028_1028/block_1028_1028.mcmc.stderr\n",
    "---------------------------------------------------------------------------\n",
    "> 41336b78dc1bea66\tmcmc_3 e70e0097446ac6da cnv-gene-mapping mcmc_3_block_1029_1032.mcmc\tfailed\n",
    "\n",
    "Failed to execute ``python .sos/mcmc_3_251_5a76b60b.py``\n",
    "exitcode=-9, workdir=``/scratch/midway2/gaow/GIT/github/cnv-gene-mapping``, task=41336b78dc1bea66, stderr=/scratch/midway2/gaow/GIT/github/cnv-gene-mapping/output/simu_dele_30_0528/deletion.X.colnames_b30.simu_dele_30_0528.samples.X_genename_block_1029_1032/block_1029_1032.mcmc.stderr\n",
    "---------------------------------------------------------------------------\n",
    "Task M2_10b7fc5e3ad94584 exits with code 2\n",
    "......\n",
    "```"
   ]
  },
  {
   "cell_type": "markdown",
   "metadata": {
    "kernel": "SoS"
   },
   "source": [
    "## unzip tar.gz\n",
    "```\n",
    "tar zxvf issue_247.tar.gz\n",
    "```"
   ]
  },
  {
   "cell_type": "markdown",
   "metadata": {
    "kernel": "SoS"
   },
   "source": [
    "## check status of one job\n",
    "```\n",
    "[MW] showq\n",
    "             JOBID PARTITION     NAME     USER ST       TIME  NODES NODELIST(REASON)\n",
    "           2031441   broadwl M3_f9a16     gaow  R    2:01:12      1 midway2-0006\n",
    "           2031271   broadwl sos-subm     gaow  R    2:11:19      1 midway2-0002\n",
    "\n",
    "[MW] ssh midway2-0006\n",
    "[MW] top -u gaow\n",
    "```"
   ]
  },
  {
   "cell_type": "code",
   "execution_count": null,
   "metadata": {
    "kernel": "SoS"
   },
   "outputs": [],
   "source": []
  }
 ],
 "metadata": {
  "kernelspec": {
   "display_name": "SoS",
   "language": "sos",
   "name": "sos"
  },
  "language_info": {
   "codemirror_mode": "sos",
   "file_extension": ".sos",
   "mimetype": "text/x-sos",
   "name": "sos",
   "nbconvert_exporter": "sos_notebook.converter.SoS_Exporter",
   "pygments_lexer": "sos"
  },
  "sos": {
   "kernels": [
    [
     "SoS",
     "sos",
     "",
     ""
    ]
   ],
   "version": "0.21.7"
  }
 },
 "nbformat": 4,
 "nbformat_minor": 4
}
