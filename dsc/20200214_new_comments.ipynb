{
 "cells": [
  {
   "cell_type": "markdown",
   "metadata": {
    "kernel": "SoS"
   },
   "source": [
    "# Solutions for discussion January\n",
    "## Single effect blocks for pymc3 and logistic\n",
    "n_gene_in_block = 20, sample_size = 200000"
   ]
  },
  {
   "cell_type": "code",
   "execution_count": 1,
   "metadata": {
    "kernel": "SoS"
   },
   "outputs": [],
   "source": [
    "import pandas as pd, numpy as np\n",
    "import os\n",
    "import pyreadr\n",
    "from dsc.dsc_io import load_rds\n",
    "cwd = os.path.expanduser(\"~/GIT/cnv-gene-mapping/data\")\n",
    "folder = \"deletion_simu_20\"\n",
    "name = \"deletion.genes.block20.for_simu.sample.combined.genes.block1\""
   ]
  },
  {
   "cell_type": "code",
   "execution_count": 2,
   "metadata": {
    "kernel": "SoS"
   },
   "outputs": [],
   "source": [
    "# +1 in gene index for gene name\n",
    "fisher = pd.read_csv(f\"{cwd}/{folder}/deletion.genes.block20.for_simu.sample.combined.genes.block1.fisher.gz\", header = 0, sep = \"\\t\")\n",
    "fisher[\"p_deleterious\"] = [k if i >= j else 1 for i,j,k in zip(fisher[\"d_c\"], fisher[\"nd_c\"], fisher[\"p\"])]"
   ]
  },
  {
   "cell_type": "code",
   "execution_count": 3,
   "metadata": {
    "kernel": "SoS"
   },
   "outputs": [
    {
     "data": {
      "text/plain": [
       "(2290, 7)"
      ]
     },
     "execution_count": 3,
     "metadata": {},
     "output_type": "execute_result"
    }
   ],
   "source": [
    "fisher.shape"
   ]
  },
  {
   "cell_type": "code",
   "execution_count": 4,
   "metadata": {
    "kernel": "SoS"
   },
   "outputs": [],
   "source": [
    "beta = pd.read_csv(f\"{cwd}/{folder}/deletion.genes.block20.for_simu.shape0.scale1.beta\", header = None, names = [\"beta\"])"
   ]
  },
  {
   "cell_type": "code",
   "execution_count": 5,
   "metadata": {
    "kernel": "SoS"
   },
   "outputs": [
    {
     "data": {
      "text/html": [
       "<div>\n",
       "<style scoped>\n",
       "    .dataframe tbody tr th:only-of-type {\n",
       "        vertical-align: middle;\n",
       "    }\n",
       "\n",
       "    .dataframe tbody tr th {\n",
       "        vertical-align: top;\n",
       "    }\n",
       "\n",
       "    .dataframe thead th {\n",
       "        text-align: right;\n",
       "    }\n",
       "</style>\n",
       "<table border=\"1\" class=\"dataframe\">\n",
       "  <thead>\n",
       "    <tr style=\"text-align: right;\">\n",
       "      <th></th>\n",
       "      <th>beta</th>\n",
       "    </tr>\n",
       "  </thead>\n",
       "  <tbody>\n",
       "    <tr>\n",
       "      <th>22351</th>\n",
       "      <td>0.0</td>\n",
       "    </tr>\n",
       "    <tr>\n",
       "      <th>22352</th>\n",
       "      <td>0.0</td>\n",
       "    </tr>\n",
       "    <tr>\n",
       "      <th>22353</th>\n",
       "      <td>0.0</td>\n",
       "    </tr>\n",
       "    <tr>\n",
       "      <th>22354</th>\n",
       "      <td>0.0</td>\n",
       "    </tr>\n",
       "    <tr>\n",
       "      <th>22355</th>\n",
       "      <td>0.0</td>\n",
       "    </tr>\n",
       "  </tbody>\n",
       "</table>\n",
       "</div>"
      ],
      "text/plain": [
       "       beta\n",
       "22351   0.0\n",
       "22352   0.0\n",
       "22353   0.0\n",
       "22354   0.0\n",
       "22355   0.0"
      ]
     },
     "execution_count": 5,
     "metadata": {},
     "output_type": "execute_result"
    }
   ],
   "source": [
    "beta.tail()"
   ]
  },
  {
   "cell_type": "code",
   "execution_count": 6,
   "metadata": {
    "kernel": "SoS"
   },
   "outputs": [],
   "source": [
    "# index1 = pd.read_csv(f\"{cwd}/deletion.block1.index.csv\", header = None, sep = \"\\t\", names = [\"id1\", \"id2\"])\n",
    "index1 = pd.read_csv(f\"{cwd}/{folder}/deletion.genes.block20.for_simu.sample.combined.block1.index.csv\", header = None, sep = \"\\t\", names = [\"id1\", \"id2\"])"
   ]
  },
  {
   "cell_type": "code",
   "execution_count": 7,
   "metadata": {
    "kernel": "SoS"
   },
   "outputs": [],
   "source": [
    "index2 = pd.read_csv(f\"{cwd}/{folder}/deletion.genes.block20.for_simu.sample.combined.block1.forsimu.index.csv\", header = None, sep = \"\\t\", names = [\"is1\", \"is2\"])"
   ]
  },
  {
   "cell_type": "code",
   "execution_count": 8,
   "metadata": {
    "kernel": "SoS"
   },
   "outputs": [
    {
     "data": {
      "text/html": [
       "<div>\n",
       "<style scoped>\n",
       "    .dataframe tbody tr th:only-of-type {\n",
       "        vertical-align: middle;\n",
       "    }\n",
       "\n",
       "    .dataframe tbody tr th {\n",
       "        vertical-align: top;\n",
       "    }\n",
       "\n",
       "    .dataframe thead th {\n",
       "        text-align: right;\n",
       "    }\n",
       "</style>\n",
       "<table border=\"1\" class=\"dataframe\">\n",
       "  <thead>\n",
       "    <tr style=\"text-align: right;\">\n",
       "      <th></th>\n",
       "      <th>is1</th>\n",
       "      <th>is2</th>\n",
       "    </tr>\n",
       "  </thead>\n",
       "  <tbody>\n",
       "    <tr>\n",
       "      <th>523</th>\n",
       "      <td>21904</td>\n",
       "      <td>21905</td>\n",
       "    </tr>\n",
       "    <tr>\n",
       "      <th>524</th>\n",
       "      <td>21936</td>\n",
       "      <td>21941</td>\n",
       "    </tr>\n",
       "    <tr>\n",
       "      <th>525</th>\n",
       "      <td>21979</td>\n",
       "      <td>21981</td>\n",
       "    </tr>\n",
       "    <tr>\n",
       "      <th>526</th>\n",
       "      <td>22088</td>\n",
       "      <td>22097</td>\n",
       "    </tr>\n",
       "    <tr>\n",
       "      <th>527</th>\n",
       "      <td>22337</td>\n",
       "      <td>22355</td>\n",
       "    </tr>\n",
       "  </tbody>\n",
       "</table>\n",
       "</div>"
      ],
      "text/plain": [
       "       is1    is2\n",
       "523  21904  21905\n",
       "524  21936  21941\n",
       "525  21979  21981\n",
       "526  22088  22097\n",
       "527  22337  22355"
      ]
     },
     "execution_count": 8,
     "metadata": {},
     "output_type": "execute_result"
    }
   ],
   "source": [
    "index2.tail()"
   ]
  },
  {
   "cell_type": "code",
   "execution_count": 9,
   "metadata": {
    "kernel": "SoS"
   },
   "outputs": [],
   "source": [
    "index = pd.concat([index1, index2], axis = 1)"
   ]
  },
  {
   "cell_type": "code",
   "execution_count": 10,
   "metadata": {
    "kernel": "SoS"
   },
   "outputs": [
    {
     "data": {
      "text/html": [
       "<div>\n",
       "<style scoped>\n",
       "    .dataframe tbody tr th:only-of-type {\n",
       "        vertical-align: middle;\n",
       "    }\n",
       "\n",
       "    .dataframe tbody tr th {\n",
       "        vertical-align: top;\n",
       "    }\n",
       "\n",
       "    .dataframe thead th {\n",
       "        text-align: right;\n",
       "    }\n",
       "</style>\n",
       "<table border=\"1\" class=\"dataframe\">\n",
       "  <thead>\n",
       "    <tr style=\"text-align: right;\">\n",
       "      <th></th>\n",
       "      <th>id1</th>\n",
       "      <th>id2</th>\n",
       "      <th>is1</th>\n",
       "      <th>is2</th>\n",
       "    </tr>\n",
       "  </thead>\n",
       "  <tbody>\n",
       "    <tr>\n",
       "      <th>523</th>\n",
       "      <td>2250</td>\n",
       "      <td>2251</td>\n",
       "      <td>21904</td>\n",
       "      <td>21905</td>\n",
       "    </tr>\n",
       "    <tr>\n",
       "      <th>524</th>\n",
       "      <td>2252</td>\n",
       "      <td>2257</td>\n",
       "      <td>21936</td>\n",
       "      <td>21941</td>\n",
       "    </tr>\n",
       "    <tr>\n",
       "      <th>525</th>\n",
       "      <td>2258</td>\n",
       "      <td>2260</td>\n",
       "      <td>21979</td>\n",
       "      <td>21981</td>\n",
       "    </tr>\n",
       "    <tr>\n",
       "      <th>526</th>\n",
       "      <td>2261</td>\n",
       "      <td>2270</td>\n",
       "      <td>22088</td>\n",
       "      <td>22097</td>\n",
       "    </tr>\n",
       "    <tr>\n",
       "      <th>527</th>\n",
       "      <td>2271</td>\n",
       "      <td>2289</td>\n",
       "      <td>22337</td>\n",
       "      <td>22355</td>\n",
       "    </tr>\n",
       "  </tbody>\n",
       "</table>\n",
       "</div>"
      ],
      "text/plain": [
       "      id1   id2    is1    is2\n",
       "523  2250  2251  21904  21905\n",
       "524  2252  2257  21936  21941\n",
       "525  2258  2260  21979  21981\n",
       "526  2261  2270  22088  22097\n",
       "527  2271  2289  22337  22355"
      ]
     },
     "execution_count": 10,
     "metadata": {},
     "output_type": "execute_result"
    }
   ],
   "source": [
    "index.tail()"
   ]
  },
  {
   "cell_type": "code",
   "execution_count": 11,
   "metadata": {
    "kernel": "SoS"
   },
   "outputs": [],
   "source": [
    "index[\"number_effect\"] = [np.count_nonzero(beta.loc[item[0]:item[1]][\"beta\"].tolist()) for idx, item in index2.iterrows()]"
   ]
  },
  {
   "cell_type": "code",
   "execution_count": 12,
   "metadata": {
    "kernel": "SoS"
   },
   "outputs": [],
   "source": [
    "idx_beta = index[index[\"number_effect\"] == 1][[\"is1\", \"is2\", \"id1\", \"id2\"]]"
   ]
  },
  {
   "cell_type": "code",
   "execution_count": 13,
   "metadata": {
    "kernel": "SoS"
   },
   "outputs": [],
   "source": [
    "beta_in_block = list()\n",
    "fisher_in_block = list()\n",
    "d_c = list()\n",
    "d_nc = list()\n",
    "nd_c = list()\n",
    "nd_nc = list()\n",
    "gene_in_block = list()\n",
    "for idx, item in idx_beta.iterrows():\n",
    "    beta_in_block.append(beta[\"beta\"][item[0]:item[1]+1].tolist())\n",
    "    fisher_in_block.append(fisher.set_index('gene').loc[[f\"gene_{i+1}\" for i in range(item[2], item[3]+1)]].reset_index()[\"p\"].tolist())\n",
    "    d_c.append(fisher.set_index('gene').loc[[f\"gene_{i+1}\" for i in range(item[2], item[3]+1)]].reset_index()[\"d_c\"].tolist())\n",
    "    d_nc.append(fisher.set_index('gene').loc[[f\"gene_{i+1}\" for i in range(item[2], item[3]+1)]].reset_index()[\"d_nc\"].tolist())\n",
    "    nd_c.append(fisher.set_index('gene').loc[[f\"gene_{i+1}\" for i in range(item[2], item[3]+1)]].reset_index()[\"nd_c\"].tolist())\n",
    "    nd_nc.append(fisher.set_index('gene').loc[[f\"gene_{i+1}\" for i in range(item[2], item[3]+1)]].reset_index()[\"nd_nc\"].tolist())\n",
    "    gene_in_block.append([f\"gene_{i+1}\" for i in range(item[2], item[3]+1)])"
   ]
  },
  {
   "cell_type": "code",
   "execution_count": 14,
   "metadata": {
    "kernel": "SoS"
   },
   "outputs": [],
   "source": [
    "index = index[index[\"number_effect\"] == 1][[\"id1\", \"id2\"]]\n",
    "index = index.set_index([[i for i in range(index.shape[0])]])"
   ]
  },
  {
   "cell_type": "code",
   "execution_count": 15,
   "metadata": {
    "kernel": "SoS"
   },
   "outputs": [
    {
     "data": {
      "text/plain": [
       "(69, 2)"
      ]
     },
     "execution_count": 15,
     "metadata": {},
     "output_type": "execute_result"
    }
   ],
   "source": [
    "index.shape"
   ]
  },
  {
   "cell_type": "code",
   "execution_count": 24,
   "metadata": {
    "kernel": "SoS"
   },
   "outputs": [
    {
     "data": {
      "text/html": [
       "<div>\n",
       "<style scoped>\n",
       "    .dataframe tbody tr th:only-of-type {\n",
       "        vertical-align: middle;\n",
       "    }\n",
       "\n",
       "    .dataframe tbody tr th {\n",
       "        vertical-align: top;\n",
       "    }\n",
       "\n",
       "    .dataframe thead th {\n",
       "        text-align: right;\n",
       "    }\n",
       "</style>\n",
       "<table border=\"1\" class=\"dataframe\">\n",
       "  <thead>\n",
       "    <tr style=\"text-align: right;\">\n",
       "      <th></th>\n",
       "      <th>id1</th>\n",
       "      <th>id2</th>\n",
       "    </tr>\n",
       "  </thead>\n",
       "  <tbody>\n",
       "    <tr>\n",
       "      <th>64</th>\n",
       "      <td>2062</td>\n",
       "      <td>2067</td>\n",
       "    </tr>\n",
       "    <tr>\n",
       "      <th>65</th>\n",
       "      <td>2133</td>\n",
       "      <td>2137</td>\n",
       "    </tr>\n",
       "    <tr>\n",
       "      <th>66</th>\n",
       "      <td>2140</td>\n",
       "      <td>2141</td>\n",
       "    </tr>\n",
       "    <tr>\n",
       "      <th>67</th>\n",
       "      <td>2261</td>\n",
       "      <td>2270</td>\n",
       "    </tr>\n",
       "    <tr>\n",
       "      <th>68</th>\n",
       "      <td>2271</td>\n",
       "      <td>2289</td>\n",
       "    </tr>\n",
       "  </tbody>\n",
       "</table>\n",
       "</div>"
      ],
      "text/plain": [
       "     id1   id2\n",
       "64  2062  2067\n",
       "65  2133  2137\n",
       "66  2140  2141\n",
       "67  2261  2270\n",
       "68  2271  2289"
      ]
     },
     "execution_count": 24,
     "metadata": {},
     "output_type": "execute_result"
    }
   ],
   "source": [
    "index.tail()"
   ]
  },
  {
   "cell_type": "code",
   "execution_count": 17,
   "metadata": {
    "kernel": "SoS"
   },
   "outputs": [
    {
     "name": "stderr",
     "output_type": "stream",
     "text": [
      "/home/min/miniconda3/lib/python3.7/site-packages/rpy2/robjects/pandas2ri.py:14: FutureWarning: pandas.core.index is deprecated and will be removed in a future version.  The public classes are available in the top-level namespace.\n",
      "  from pandas.core.index import Index as PandasIndex\n",
      "/home/min/miniconda3/lib/python3.7/site-packages/rpy2/robjects/pandas2ri.py:34: UserWarning: pandas >= 1.0 is not supported.\n",
      "  warnings.warn('pandas >= 1.0 is not supported.')\n"
     ]
    }
   ],
   "source": [
    "logit_pymc3 = pd.DataFrame()\n",
    "for idx, item in index.iterrows():\n",
    "    logit = pyreadr.read_r(f\"{cwd}/{folder}/block_{item[0]}_{item[1]}/deletion.genes.block20.for_simu.sample.combined.genes.block_{item[0]}_{item[1]}.logit.rds\")\n",
    "    pymc3 = pd.read_csv(f\"{cwd}/{folder}/block_{item[0]}_{item[1]}/deletion.genes.block20.for_simu.sample.combined.genes.block_{item[0]}_{item[1]}.pymc3.gz\", sep = \"\\t\")\n",
    "    pymc3[\"block\"] = f\"block{idx}\"\n",
    "    susie = load_rds(f\"{cwd}/{folder}/block_{item[0]}_{item[1]}/deletion.genes.block20.for_simu.sample.combined.genes.block_{item[0]}_{item[1]}.SuSiE.L_1.prior_0p005.susie.rds\")[\"pip\"]\n",
    "    res = pd.concat([logit[None][[\"p1\"]], pymc3[[\"inclusion_probability\", \"block\"]]], axis = 1)\n",
    "    res[\"susie\"] = susie\n",
    "    res[\"beta\"] = beta_in_block[idx]\n",
    "    res[\"fisher\"] = fisher_in_block[idx]\n",
    "    res[\"gene\"] = gene_in_block[idx]\n",
    "    res[\"d_c\"] = d_c[idx]\n",
    "    res[\"d_nc\"] = d_nc[idx]\n",
    "    res[\"nd_c\"] = nd_c[idx]\n",
    "    res[\"nd_nc\"] = nd_nc[idx]\n",
    "    res = res.rename(columns = {\"p1\": \"logit\", \"inclusion_probability\": \"pymc3\"})\n",
    "    logit_pymc3 = pd.concat([logit_pymc3, res])"
   ]
  },
  {
   "cell_type": "code",
   "execution_count": 19,
   "metadata": {
    "kernel": "SoS"
   },
   "outputs": [],
   "source": [
    "logit_pymc3[\"beta\"] = logit_pymc3.apply(lambda x: 0 if x[\"beta\"] == -0 else x[\"beta\"], axis = 1)\n",
    "logit_pymc3[\"beta\"] = [np.round(x, 6) for x in logit_pymc3[\"beta\"]]\n",
    "logit_pymc3[\"logit\"] = [np.round(x, 6) for x in logit_pymc3[\"logit\"]]\n",
    "logit_pymc3[\"pymc3\"] = [np.round(x, 6) for x in logit_pymc3[\"pymc3\"]]\n",
    "logit_pymc3[\"susie\"] = [np.round(x, 6) for x in logit_pymc3[\"susie\"]]"
   ]
  },
  {
   "cell_type": "code",
   "execution_count": 20,
   "metadata": {
    "kernel": "SoS"
   },
   "outputs": [],
   "source": [
    "logit_pymc3 = logit_pymc3[[\"block\", \"gene\", \"beta\", \"fisher\", \"d_c\", \"d_nc\", \"nd_c\", \"nd_nc\", \"logit\", \"pymc3\", \"susie\"]]"
   ]
  },
  {
   "cell_type": "code",
   "execution_count": 21,
   "metadata": {
    "kernel": "SoS"
   },
   "outputs": [
    {
     "data": {
      "text/html": [
       "<div>\n",
       "<style scoped>\n",
       "    .dataframe tbody tr th:only-of-type {\n",
       "        vertical-align: middle;\n",
       "    }\n",
       "\n",
       "    .dataframe tbody tr th {\n",
       "        vertical-align: top;\n",
       "    }\n",
       "\n",
       "    .dataframe thead th {\n",
       "        text-align: right;\n",
       "    }\n",
       "</style>\n",
       "<table border=\"1\" class=\"dataframe\">\n",
       "  <thead>\n",
       "    <tr style=\"text-align: right;\">\n",
       "      <th></th>\n",
       "      <th>block</th>\n",
       "      <th>gene</th>\n",
       "      <th>beta</th>\n",
       "      <th>fisher</th>\n",
       "      <th>d_c</th>\n",
       "      <th>d_nc</th>\n",
       "      <th>nd_c</th>\n",
       "      <th>nd_nc</th>\n",
       "      <th>logit</th>\n",
       "      <th>pymc3</th>\n",
       "      <th>susie</th>\n",
       "    </tr>\n",
       "  </thead>\n",
       "  <tbody>\n",
       "    <tr>\n",
       "      <th>0</th>\n",
       "      <td>block12</td>\n",
       "      <td>gene_379</td>\n",
       "      <td>-0.587536</td>\n",
       "      <td>0.624964</td>\n",
       "      <td>3</td>\n",
       "      <td>10452</td>\n",
       "      <td>1</td>\n",
       "      <td>10454</td>\n",
       "      <td>0.333333</td>\n",
       "      <td>0.0650</td>\n",
       "      <td>0.333333</td>\n",
       "    </tr>\n",
       "    <tr>\n",
       "      <th>1</th>\n",
       "      <td>block12</td>\n",
       "      <td>gene_380</td>\n",
       "      <td>0.000000</td>\n",
       "      <td>0.624964</td>\n",
       "      <td>3</td>\n",
       "      <td>10452</td>\n",
       "      <td>1</td>\n",
       "      <td>10454</td>\n",
       "      <td>0.333333</td>\n",
       "      <td>0.0575</td>\n",
       "      <td>0.333333</td>\n",
       "    </tr>\n",
       "    <tr>\n",
       "      <th>2</th>\n",
       "      <td>block12</td>\n",
       "      <td>gene_381</td>\n",
       "      <td>0.000000</td>\n",
       "      <td>0.624964</td>\n",
       "      <td>3</td>\n",
       "      <td>10452</td>\n",
       "      <td>1</td>\n",
       "      <td>10454</td>\n",
       "      <td>0.333333</td>\n",
       "      <td>0.0605</td>\n",
       "      <td>0.333333</td>\n",
       "    </tr>\n",
       "  </tbody>\n",
       "</table>\n",
       "</div>"
      ],
      "text/plain": [
       "     block      gene      beta    fisher  ...  nd_nc     logit   pymc3     susie\n",
       "0  block12  gene_379 -0.587536  0.624964  ...  10454  0.333333  0.0650  0.333333\n",
       "1  block12  gene_380  0.000000  0.624964  ...  10454  0.333333  0.0575  0.333333\n",
       "2  block12  gene_381  0.000000  0.624964  ...  10454  0.333333  0.0605  0.333333\n",
       "\n",
       "[3 rows x 11 columns]"
      ]
     },
     "execution_count": 21,
     "metadata": {},
     "output_type": "execute_result"
    }
   ],
   "source": [
    "logit_pymc3[logit_pymc3[\"block\"] == \"block12\"]"
   ]
  },
  {
   "cell_type": "code",
   "execution_count": 22,
   "metadata": {
    "kernel": "SoS"
   },
   "outputs": [],
   "source": [
    "logit_pymc3.to_csv(f\"{cwd}/{folder}/logit_pymc3_comparison_1.csv\", sep = \"\\t\", header = True, index = False)"
   ]
  },
  {
   "cell_type": "code",
   "execution_count": 23,
   "metadata": {
    "kernel": "SoS"
   },
   "outputs": [
    {
     "data": {
      "text/html": [
       "<div>\n",
       "<style scoped>\n",
       "    .dataframe tbody tr th:only-of-type {\n",
       "        vertical-align: middle;\n",
       "    }\n",
       "\n",
       "    .dataframe tbody tr th {\n",
       "        vertical-align: top;\n",
       "    }\n",
       "\n",
       "    .dataframe thead th {\n",
       "        text-align: right;\n",
       "    }\n",
       "</style>\n",
       "<table border=\"1\" class=\"dataframe\">\n",
       "  <thead>\n",
       "    <tr style=\"text-align: right;\">\n",
       "      <th></th>\n",
       "      <th>block</th>\n",
       "      <th>gene</th>\n",
       "      <th>beta</th>\n",
       "      <th>fisher</th>\n",
       "      <th>d_c</th>\n",
       "      <th>d_nc</th>\n",
       "      <th>nd_c</th>\n",
       "      <th>nd_nc</th>\n",
       "      <th>logit</th>\n",
       "      <th>pymc3</th>\n",
       "      <th>susie</th>\n",
       "    </tr>\n",
       "  </thead>\n",
       "  <tbody>\n",
       "    <tr>\n",
       "      <th>0</th>\n",
       "      <td>block30</td>\n",
       "      <td>gene_924</td>\n",
       "      <td>-0.716931</td>\n",
       "      <td>0.048951</td>\n",
       "      <td>4</td>\n",
       "      <td>10451</td>\n",
       "      <td>13</td>\n",
       "      <td>10442</td>\n",
       "      <td>0.139127</td>\n",
       "      <td>0.0265</td>\n",
       "      <td>0.124754</td>\n",
       "    </tr>\n",
       "    <tr>\n",
       "      <th>1</th>\n",
       "      <td>block30</td>\n",
       "      <td>gene_925</td>\n",
       "      <td>0.000000</td>\n",
       "      <td>0.010581</td>\n",
       "      <td>5</td>\n",
       "      <td>10450</td>\n",
       "      <td>18</td>\n",
       "      <td>10437</td>\n",
       "      <td>0.360873</td>\n",
       "      <td>0.0485</td>\n",
       "      <td>0.375246</td>\n",
       "    </tr>\n",
       "    <tr>\n",
       "      <th>2</th>\n",
       "      <td>block30</td>\n",
       "      <td>gene_926</td>\n",
       "      <td>0.000000</td>\n",
       "      <td>0.010581</td>\n",
       "      <td>5</td>\n",
       "      <td>10450</td>\n",
       "      <td>18</td>\n",
       "      <td>10437</td>\n",
       "      <td>0.360873</td>\n",
       "      <td>0.0425</td>\n",
       "      <td>0.375246</td>\n",
       "    </tr>\n",
       "    <tr>\n",
       "      <th>3</th>\n",
       "      <td>block30</td>\n",
       "      <td>gene_927</td>\n",
       "      <td>0.000000</td>\n",
       "      <td>0.048951</td>\n",
       "      <td>4</td>\n",
       "      <td>10451</td>\n",
       "      <td>13</td>\n",
       "      <td>10442</td>\n",
       "      <td>0.139127</td>\n",
       "      <td>0.0220</td>\n",
       "      <td>0.124754</td>\n",
       "    </tr>\n",
       "  </tbody>\n",
       "</table>\n",
       "</div>"
      ],
      "text/plain": [
       "     block      gene      beta    fisher  ...  nd_nc     logit   pymc3     susie\n",
       "0  block30  gene_924 -0.716931  0.048951  ...  10442  0.139127  0.0265  0.124754\n",
       "1  block30  gene_925  0.000000  0.010581  ...  10437  0.360873  0.0485  0.375246\n",
       "2  block30  gene_926  0.000000  0.010581  ...  10437  0.360873  0.0425  0.375246\n",
       "3  block30  gene_927  0.000000  0.048951  ...  10442  0.139127  0.0220  0.124754\n",
       "\n",
       "[4 rows x 11 columns]"
      ]
     },
     "execution_count": 23,
     "metadata": {},
     "output_type": "execute_result"
    }
   ],
   "source": [
    "logit_pymc3[logit_pymc3[\"block\"] == \"block30\"]"
   ]
  },
  {
   "cell_type": "code",
   "execution_count": null,
   "metadata": {
    "kernel": "SoS"
   },
   "outputs": [],
   "source": []
  }
 ],
 "metadata": {
  "kernelspec": {
   "display_name": "SoS",
   "language": "sos",
   "name": "sos"
  },
  "language_info": {
   "codemirror_mode": "sos",
   "file_extension": ".sos",
   "mimetype": "text/x-sos",
   "name": "sos",
   "nbconvert_exporter": "sos_notebook.converter.SoS_Exporter",
   "pygments_lexer": "sos"
  },
  "sos": {
   "kernels": [
    [
     "SoS",
     "sos",
     "",
     ""
    ]
   ],
   "version": "0.21.7"
  }
 },
 "nbformat": 4,
 "nbformat_minor": 4
}
