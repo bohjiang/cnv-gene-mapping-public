{
 "cells": [
  {
   "cell_type": "markdown",
   "metadata": {
    "kernel": "SoS"
   },
   "source": [
    "# Simulation and analysis result overview"
   ]
  },
  {
   "cell_type": "markdown",
   "metadata": {
    "kernel": "SoS"
   },
   "source": [
    "## Run varbvs on whole simulated genome for specifying priors\n",
    "varbvs usage [example](https://github.com/stephenslab/dsc-linreg/blob/master/dsc/functions/fit.R#L91)\n",
    "\n",
    "Installation\n",
    "```\n",
    "R\n",
    "devtools::install_github(\"pcarbo/varbvs\", subdir = \"varbvs-R\", ref = \"non-zero-centered\", force = TRUE)\n",
    "```"
   ]
  },
  {
   "cell_type": "code",
   "execution_count": 1,
   "metadata": {
    "kernel": "R"
   },
   "outputs": [],
   "source": [
    "library(data.table)\n",
    "library(reticulate)\n",
    "library(varbvs)"
   ]
  },
  {
   "cell_type": "code",
   "execution_count": 4,
   "metadata": {
    "kernel": "R"
   },
   "outputs": [],
   "source": [
    "X <- as.matrix(read.table(gzfile(\"/home/min/GIT/cnv-gene-mapping/data/deletion_simu_30_shape0.777_scale0.843/deletion.genes.block30.for_simu.sample.combined.X.gz\"), header = F))"
   ]
  },
  {
   "cell_type": "code",
   "execution_count": 5,
   "metadata": {
    "kernel": "R"
   },
   "outputs": [],
   "source": [
    "y <- as.matrix(read.table(\"/home/min/GIT/cnv-gene-mapping/data/deletion_simu_30_shape0.777_scale0.843/deletion.genes.block30.for_simu.sample.combined.y.gz\"))"
   ]
  },
  {
   "cell_type": "code",
   "execution_count": 6,
   "metadata": {
    "kernel": "R"
   },
   "outputs": [],
   "source": [
    "storage.mode(X) = 'double'\n",
    "storage.mode(y) = 'double'"
   ]
  },
  {
   "cell_type": "code",
   "execution_count": 7,
   "metadata": {
    "kernel": "R"
   },
   "outputs": [
    {
     "data": {
      "text/html": [
       "<style>\n",
       ".list-inline {list-style: none; margin:0; padding: 0}\n",
       ".list-inline>li {display: inline-block}\n",
       ".list-inline>li:not(:last-child)::after {content: \"\\00b7\"; padding: 0 .5ex}\n",
       "</style>\n",
       "<ol class=list-inline><li>23856</li><li>22356</li></ol>\n"
      ],
      "text/latex": [
       "\\begin{enumerate*}\n",
       "\\item 23856\n",
       "\\item 22356\n",
       "\\end{enumerate*}\n"
      ],
      "text/markdown": [
       "1. 23856\n",
       "2. 22356\n",
       "\n",
       "\n"
      ],
      "text/plain": [
       "[1] 23856 22356"
      ]
     },
     "metadata": {},
     "output_type": "display_data"
    }
   ],
   "source": [
    "dim(X)"
   ]
  },
  {
   "cell_type": "code",
   "execution_count": 8,
   "metadata": {
    "kernel": "R"
   },
   "outputs": [
    {
     "data": {
      "text/html": [
       "<style>\n",
       ".list-inline {list-style: none; margin:0; padding: 0}\n",
       ".list-inline>li {display: inline-block}\n",
       ".list-inline>li:not(:last-child)::after {content: \"\\00b7\"; padding: 0 .5ex}\n",
       "</style>\n",
       "<ol class=list-inline><li>23856</li><li>1</li></ol>\n"
      ],
      "text/latex": [
       "\\begin{enumerate*}\n",
       "\\item 23856\n",
       "\\item 1\n",
       "\\end{enumerate*}\n"
      ],
      "text/markdown": [
       "1. 23856\n",
       "2. 1\n",
       "\n",
       "\n"
      ],
      "text/plain": [
       "[1] 23856     1"
      ]
     },
     "metadata": {},
     "output_type": "display_data"
    }
   ],
   "source": [
    "dim(y)"
   ]
  },
  {
   "cell_type": "markdown",
   "metadata": {
    "kernel": "R"
   },
   "source": [
    "## zero-centered"
   ]
  },
  {
   "cell_type": "code",
   "execution_count": 7,
   "metadata": {
    "kernel": "R"
   },
   "outputs": [],
   "source": [
    "# logodds <- seq(-log10(ncol(X)), 1, length.out = 20)"
   ]
  },
  {
   "cell_type": "code",
   "execution_count": 8,
   "metadata": {
    "kernel": "R"
   },
   "outputs": [],
   "source": [
    "# fit <- varbvs::varbvs(X, NULL, y, family = \"binomial\", logodds = logodds, verbose = FALSE)"
   ]
  },
  {
   "cell_type": "code",
   "execution_count": 9,
   "metadata": {
    "kernel": "R"
   },
   "outputs": [],
   "source": [
    "# saveRDS(fit, \"/home/min/GIT/cnv-gene-mapping/data/deletion_simu/deletion.genes.block30.binomial.whole.genome.prior.varbvs.rds\")"
   ]
  },
  {
   "cell_type": "markdown",
   "metadata": {
    "kernel": "R"
   },
   "source": [
    "## non-zero-centered\n",
    "update.b0 = TRUE"
   ]
  },
  {
   "cell_type": "code",
   "execution_count": 9,
   "metadata": {
    "kernel": "R"
   },
   "outputs": [],
   "source": [
    "fit1 <- varbvs::varbvs(X, NULL, y, family = \"binomial\", update.b0 = TRUE, verbose = FALSE)"
   ]
  },
  {
   "cell_type": "code",
   "execution_count": 106,
   "metadata": {
    "kernel": "R"
   },
   "outputs": [],
   "source": [
    "saveRDS(fit1, \"/home/min/GIT/cnv-gene-mapping/data/deletion_simu_30_shape0.777_scale0.843/deletion.genes.block30.for_simu.binomial.whole.genome.prior.varbvs.updateb0.rds\")"
   ]
  },
  {
   "cell_type": "markdown",
   "metadata": {
    "kernel": "SoS"
   },
   "source": [
    "Check whole genome varbvs results"
   ]
  },
  {
   "cell_type": "code",
   "execution_count": 11,
   "metadata": {
    "kernel": "R"
   },
   "outputs": [],
   "source": [
    "# var_w = readRDS(\"/home/min/GIT/cnv-gene-mapping/data/deletion_simu_30_shape0.777_scale0.843/deletion.genes.block30.binomial.whole.genome.prior.varbvs.nologodds.updateb0.rds\")"
   ]
  },
  {
   "cell_type": "code",
   "execution_count": 86,
   "metadata": {
    "kernel": "R"
   },
   "outputs": [
    {
     "data": {
      "text/html": [
       "<style>\n",
       ".list-inline {list-style: none; margin:0; padding: 0}\n",
       ".list-inline>li {display: inline-block}\n",
       ".list-inline>li:not(:last-child)::after {content: \"\\00b7\"; padding: 0 .5ex}\n",
       "</style>\n",
       "<ol class=list-inline><li>'family'</li><li>'mu.cov'</li><li>'n0'</li><li>'sa0'</li><li>'nb0'</li><li>'mub0'</li><li>'update.sigma'</li><li>'update.sa'</li><li>'update.b0'</li><li>'optimize.eta'</li><li>'prior.same'</li><li>'logw'</li><li>'w'</li><li>'sigma'</li><li>'sa'</li><li>'b0'</li><li>'logodds'</li><li>'alpha'</li><li>'mu'</li><li>'s'</li><li>'eta'</li><li>'pip'</li><li>'beta'</li><li>'beta.cov'</li><li>'model.pve'</li><li>'fitted.values'</li><li>'residuals'</li></ol>\n"
      ],
      "text/latex": [
       "\\begin{enumerate*}\n",
       "\\item 'family'\n",
       "\\item 'mu.cov'\n",
       "\\item 'n0'\n",
       "\\item 'sa0'\n",
       "\\item 'nb0'\n",
       "\\item 'mub0'\n",
       "\\item 'update.sigma'\n",
       "\\item 'update.sa'\n",
       "\\item 'update.b0'\n",
       "\\item 'optimize.eta'\n",
       "\\item 'prior.same'\n",
       "\\item 'logw'\n",
       "\\item 'w'\n",
       "\\item 'sigma'\n",
       "\\item 'sa'\n",
       "\\item 'b0'\n",
       "\\item 'logodds'\n",
       "\\item 'alpha'\n",
       "\\item 'mu'\n",
       "\\item 's'\n",
       "\\item 'eta'\n",
       "\\item 'pip'\n",
       "\\item 'beta'\n",
       "\\item 'beta.cov'\n",
       "\\item 'model.pve'\n",
       "\\item 'fitted.values'\n",
       "\\item 'residuals'\n",
       "\\end{enumerate*}\n"
      ],
      "text/markdown": [
       "1. 'family'\n",
       "2. 'mu.cov'\n",
       "3. 'n0'\n",
       "4. 'sa0'\n",
       "5. 'nb0'\n",
       "6. 'mub0'\n",
       "7. 'update.sigma'\n",
       "8. 'update.sa'\n",
       "9. 'update.b0'\n",
       "10. 'optimize.eta'\n",
       "11. 'prior.same'\n",
       "12. 'logw'\n",
       "13. 'w'\n",
       "14. 'sigma'\n",
       "15. 'sa'\n",
       "16. 'b0'\n",
       "17. 'logodds'\n",
       "18. 'alpha'\n",
       "19. 'mu'\n",
       "20. 's'\n",
       "21. 'eta'\n",
       "22. 'pip'\n",
       "23. 'beta'\n",
       "24. 'beta.cov'\n",
       "25. 'model.pve'\n",
       "26. 'fitted.values'\n",
       "27. 'residuals'\n",
       "\n",
       "\n"
      ],
      "text/plain": [
       " [1] \"family\"        \"mu.cov\"        \"n0\"            \"sa0\"          \n",
       " [5] \"nb0\"           \"mub0\"          \"update.sigma\"  \"update.sa\"    \n",
       " [9] \"update.b0\"     \"optimize.eta\"  \"prior.same\"    \"logw\"         \n",
       "[13] \"w\"             \"sigma\"         \"sa\"            \"b0\"           \n",
       "[17] \"logodds\"       \"alpha\"         \"mu\"            \"s\"            \n",
       "[21] \"eta\"           \"pip\"           \"beta\"          \"beta.cov\"     \n",
       "[25] \"model.pve\"     \"fitted.values\" \"residuals\"    "
      ]
     },
     "metadata": {},
     "output_type": "display_data"
    }
   ],
   "source": [
    "names(fit1)"
   ]
  },
  {
   "cell_type": "code",
   "execution_count": 87,
   "metadata": {
    "kernel": "R"
   },
   "outputs": [
    {
     "data": {
      "text/html": [
       "0.051366009925488"
      ],
      "text/latex": [
       "0.051366009925488"
      ],
      "text/markdown": [
       "0.051366009925488"
      ],
      "text/plain": [
       "[1] 0.05136601"
      ]
     },
     "metadata": {},
     "output_type": "display_data"
    }
   ],
   "source": [
    "## pi?\n",
    "sum(fit1$mu * fit1$w) / dim(fit1$mu)[1] / dim(fit1$mu)[2]"
   ]
  },
  {
   "cell_type": "code",
   "execution_count": 88,
   "metadata": {
    "kernel": "R"
   },
   "outputs": [
    {
     "data": {
      "text/html": [
       "0.051366009925488"
      ],
      "text/latex": [
       "0.051366009925488"
      ],
      "text/markdown": [
       "0.051366009925488"
      ],
      "text/plain": [
       "[1] 0.05136601"
      ]
     },
     "metadata": {},
     "output_type": "display_data"
    }
   ],
   "source": [
    "mean(rowSums(fit1$mu * fit1$w) / 20)"
   ]
  },
  {
   "cell_type": "code",
   "execution_count": 89,
   "metadata": {
    "kernel": "R"
   },
   "outputs": [
    {
     "data": {
      "text/html": [
       "<style>\n",
       ".list-inline {list-style: none; margin:0; padding: 0}\n",
       ".list-inline>li {display: inline-block}\n",
       ".list-inline>li:not(:last-child)::after {content: \"\\00b7\"; padding: 0 .5ex}\n",
       "</style>\n",
       "<ol class=list-inline><li>22356</li><li>20</li></ol>\n"
      ],
      "text/latex": [
       "\\begin{enumerate*}\n",
       "\\item 22356\n",
       "\\item 20\n",
       "\\end{enumerate*}\n"
      ],
      "text/markdown": [
       "1. 22356\n",
       "2. 20\n",
       "\n",
       "\n"
      ],
      "text/plain": [
       "[1] 22356    20"
      ]
     },
     "metadata": {},
     "output_type": "display_data"
    }
   ],
   "source": [
    "dim(fit1$mu)"
   ]
  },
  {
   "cell_type": "code",
   "execution_count": 90,
   "metadata": {
    "kernel": "R"
   },
   "outputs": [
    {
     "data": {
      "text/html": [
       "20"
      ],
      "text/latex": [
       "20"
      ],
      "text/markdown": [
       "20"
      ],
      "text/plain": [
       "[1] 20"
      ]
     },
     "metadata": {},
     "output_type": "display_data"
    }
   ],
   "source": [
    "length(fit1$b0)"
   ]
  },
  {
   "cell_type": "code",
   "execution_count": 91,
   "metadata": {
    "kernel": "R"
   },
   "outputs": [
    {
     "data": {
      "text/html": [
       "20"
      ],
      "text/latex": [
       "20"
      ],
      "text/markdown": [
       "20"
      ],
      "text/plain": [
       "[1] 20"
      ]
     },
     "metadata": {},
     "output_type": "display_data"
    }
   ],
   "source": [
    "length(fit1$w)"
   ]
  },
  {
   "cell_type": "code",
   "execution_count": 92,
   "metadata": {
    "kernel": "R"
   },
   "outputs": [
    {
     "data": {
      "text/html": [
       "0.783230896500752"
      ],
      "text/latex": [
       "0.783230896500752"
      ],
      "text/markdown": [
       "0.783230896500752"
      ],
      "text/plain": [
       "[1] 0.7832309"
      ]
     },
     "metadata": {},
     "output_type": "display_data"
    }
   ],
   "source": [
    "## mu0\n",
    "sum(fit1$b0 * fit1$w)"
   ]
  },
  {
   "cell_type": "code",
   "execution_count": 93,
   "metadata": {
    "kernel": "R"
   },
   "outputs": [
    {
     "data": {
      "text/html": [
       "20"
      ],
      "text/latex": [
       "20"
      ],
      "text/markdown": [
       "20"
      ],
      "text/plain": [
       "[1] 20"
      ]
     },
     "metadata": {},
     "output_type": "display_data"
    }
   ],
   "source": [
    "length(fit1$b0)"
   ]
  },
  {
   "cell_type": "code",
   "execution_count": 94,
   "metadata": {
    "kernel": "R"
   },
   "outputs": [
    {
     "data": {
      "text/html": [
       "20"
      ],
      "text/latex": [
       "20"
      ],
      "text/markdown": [
       "20"
      ],
      "text/plain": [
       "[1] 20"
      ]
     },
     "metadata": {},
     "output_type": "display_data"
    }
   ],
   "source": [
    "length(fit1$w)"
   ]
  },
  {
   "cell_type": "code",
   "execution_count": 95,
   "metadata": {
    "kernel": "R"
   },
   "outputs": [
    {
     "data": {
      "text/html": [
       "0.66748815316811"
      ],
      "text/latex": [
       "0.66748815316811"
      ],
      "text/markdown": [
       "0.66748815316811"
      ],
      "text/plain": [
       "[1] 0.6674882"
      ]
     },
     "metadata": {},
     "output_type": "display_data"
    }
   ],
   "source": [
    "## variance, s0^2\n",
    "sum(fit1$s * fit1$w) / dim(fit1$s)[1]"
   ]
  },
  {
   "cell_type": "code",
   "execution_count": 104,
   "metadata": {
    "kernel": "R"
   },
   "outputs": [
    {
     "data": {
      "text/html": [
       "0.816999481742865"
      ],
      "text/latex": [
       "0.816999481742865"
      ],
      "text/markdown": [
       "0.816999481742865"
      ],
      "text/plain": [
       "[1] 0.8169995"
      ]
     },
     "metadata": {},
     "output_type": "display_data"
    }
   ],
   "source": [
    "sqrt(sum(fit1$s * fit1$w) / dim(fit1$s)[1])"
   ]
  },
  {
   "cell_type": "code",
   "execution_count": 96,
   "metadata": {
    "kernel": "R"
   },
   "outputs": [
    {
     "data": {
      "text/html": [
       "<style>\n",
       ".list-inline {list-style: none; margin:0; padding: 0}\n",
       ".list-inline>li {display: inline-block}\n",
       ".list-inline>li:not(:last-child)::after {content: \"\\00b7\"; padding: 0 .5ex}\n",
       "</style>\n",
       "<ol class=list-inline><li>22356</li><li>20</li></ol>\n"
      ],
      "text/latex": [
       "\\begin{enumerate*}\n",
       "\\item 22356\n",
       "\\item 20\n",
       "\\end{enumerate*}\n"
      ],
      "text/markdown": [
       "1. 22356\n",
       "2. 20\n",
       "\n",
       "\n"
      ],
      "text/plain": [
       "[1] 22356    20"
      ]
     },
     "metadata": {},
     "output_type": "display_data"
    }
   ],
   "source": [
    "dim(fit1$alpha)"
   ]
  },
  {
   "cell_type": "code",
   "execution_count": 97,
   "metadata": {
    "kernel": "R"
   },
   "outputs": [
    {
     "data": {
      "text/html": [
       "20"
      ],
      "text/latex": [
       "20"
      ],
      "text/markdown": [
       "20"
      ],
      "text/plain": [
       "[1] 20"
      ]
     },
     "metadata": {},
     "output_type": "display_data"
    }
   ],
   "source": [
    "length(fit1$w)"
   ]
  },
  {
   "cell_type": "code",
   "execution_count": 107,
   "metadata": {
    "kernel": "R"
   },
   "outputs": [],
   "source": [
    "pi0 = sum(fit1$mu * fit1$w) / dim(fit1$mu)[1] / dim(fit1$mu)[2]\n",
    "mu0 = sum(fit1$b0 * fit1$w)\n",
    "s0 = sqrt(sum(fit1$s * fit1$w) / dim(fit1$s)[1])"
   ]
  },
  {
   "cell_type": "code",
   "execution_count": 109,
   "metadata": {
    "kernel": "R"
   },
   "outputs": [],
   "source": [
    "write.table(c(pi0, mu0, s0), file = \"/home/min/GIT/cnv-gene-mapping/data/deletion_simu_30_shape0.777_scale0.843/deletion.genes.block30.for_simu.varbvs.whole.genome.prior.csv\", \n",
    "            sep = \"\\n\", row.names = FALSE, col.names = FALSE)"
   ]
  },
  {
   "cell_type": "code",
   "execution_count": 111,
   "metadata": {
    "kernel": "R"
   },
   "outputs": [
    {
     "data": {
      "text/html": [
       "22356"
      ],
      "text/latex": [
       "22356"
      ],
      "text/markdown": [
       "22356"
      ],
      "text/plain": [
       "[1] 22356"
      ]
     },
     "metadata": {},
     "output_type": "display_data"
    }
   ],
   "source": [
    "length(fit1$pip)"
   ]
  },
  {
   "cell_type": "code",
   "execution_count": null,
   "metadata": {
    "kernel": "R"
   },
   "outputs": [],
   "source": []
  },
  {
   "cell_type": "code",
   "execution_count": null,
   "metadata": {
    "kernel": "R"
   },
   "outputs": [],
   "source": []
  },
  {
   "cell_type": "code",
   "execution_count": null,
   "metadata": {
    "kernel": "R"
   },
   "outputs": [],
   "source": []
  },
  {
   "cell_type": "code",
   "execution_count": null,
   "metadata": {
    "kernel": "R"
   },
   "outputs": [],
   "source": []
  },
  {
   "cell_type": "markdown",
   "metadata": {
    "kernel": "SoS"
   },
   "source": [
    "## SuSiE"
   ]
  },
  {
   "cell_type": "code",
   "execution_count": 1,
   "metadata": {
    "kernel": "R"
   },
   "outputs": [],
   "source": [
    "susie_res = readRDS(\"/home/min/GIT/cnv-gene-mapping/data/deletion_simu/deletion.genes.block30.for_simu.sample.genes.block1.SuSiE.L_1.prior_0p005.susie.rds\")"
   ]
  },
  {
   "cell_type": "code",
   "execution_count": 2,
   "metadata": {
    "kernel": "R"
   },
   "outputs": [],
   "source": [
    "res = list(); for (i in 1:length(susie_res)) res[[i]] = c(i, max(susie_res[[i]]$pip), length(susie_res[[i]]$pip)); res = do.call(rbind,res)"
   ]
  },
  {
   "cell_type": "code",
   "execution_count": 21,
   "metadata": {
    "kernel": "R"
   },
   "outputs": [
    {
     "data": {
      "text/html": [
       "<table>\n",
       "<tbody>\n",
       "\t<tr><th scope=row>[456,]</th><td>511      </td><td>0.5000000</td><td>2        </td></tr>\n",
       "\t<tr><th scope=row>[457,]</th><td>523      </td><td>0.5000000</td><td>2        </td></tr>\n",
       "\t<tr><th scope=row>[458,]</th><td>221      </td><td>0.5195799</td><td>2        </td></tr>\n",
       "\t<tr><th scope=row>[459,]</th><td>397      </td><td>0.5200632</td><td>3        </td></tr>\n",
       "\t<tr><th scope=row>[460,]</th><td>278      </td><td>0.5353108</td><td>2        </td></tr>\n",
       "\t<tr><th scope=row>[461,]</th><td>219      </td><td>0.5939888</td><td>2        </td></tr>\n",
       "\t<tr><th scope=row>[462,]</th><td>169      </td><td>0.6229614</td><td>3        </td></tr>\n",
       "\t<tr><th scope=row>[463,]</th><td> 44      </td><td>0.6550735</td><td>3        </td></tr>\n",
       "\t<tr><th scope=row>[464,]</th><td>152      </td><td>0.7236211</td><td>2        </td></tr>\n",
       "\t<tr><th scope=row>[465,]</th><td>401      </td><td>0.7336224</td><td>2        </td></tr>\n",
       "\t<tr><th scope=row>[466,]</th><td>266      </td><td>0.7695198</td><td>2        </td></tr>\n",
       "\t<tr><th scope=row>[467,]</th><td>505      </td><td>0.7696480</td><td>8        </td></tr>\n",
       "\t<tr><th scope=row>[468,]</th><td> 43      </td><td>0.7801957</td><td>2        </td></tr>\n",
       "\t<tr><th scope=row>[469,]</th><td>193      </td><td>0.8172701</td><td>5        </td></tr>\n",
       "\t<tr><th scope=row>[470,]</th><td>510      </td><td>0.8687258</td><td>4        </td></tr>\n",
       "\t<tr><th scope=row>[471,]</th><td>208      </td><td>0.9005711</td><td>2        </td></tr>\n",
       "\t<tr><th scope=row>[472,]</th><td>  8      </td><td>1.0000000</td><td>1        </td></tr>\n",
       "\t<tr><th scope=row>[473,]</th><td> 27      </td><td>1.0000000</td><td>1        </td></tr>\n",
       "\t<tr><th scope=row>[474,]</th><td> 31      </td><td>1.0000000</td><td>1        </td></tr>\n",
       "\t<tr><th scope=row>[475,]</th><td> 35      </td><td>1.0000000</td><td>1        </td></tr>\n",
       "</tbody>\n",
       "</table>\n"
      ],
      "text/latex": [
       "\\begin{tabular}{r|lll}\n",
       "\t{[}456,{]} & 511       & 0.5000000 & 2        \\\\\n",
       "\t{[}457,{]} & 523       & 0.5000000 & 2        \\\\\n",
       "\t{[}458,{]} & 221       & 0.5195799 & 2        \\\\\n",
       "\t{[}459,{]} & 397       & 0.5200632 & 3        \\\\\n",
       "\t{[}460,{]} & 278       & 0.5353108 & 2        \\\\\n",
       "\t{[}461,{]} & 219       & 0.5939888 & 2        \\\\\n",
       "\t{[}462,{]} & 169       & 0.6229614 & 3        \\\\\n",
       "\t{[}463,{]} &  44       & 0.6550735 & 3        \\\\\n",
       "\t{[}464,{]} & 152       & 0.7236211 & 2        \\\\\n",
       "\t{[}465,{]} & 401       & 0.7336224 & 2        \\\\\n",
       "\t{[}466,{]} & 266       & 0.7695198 & 2        \\\\\n",
       "\t{[}467,{]} & 505       & 0.7696480 & 8        \\\\\n",
       "\t{[}468,{]} &  43       & 0.7801957 & 2        \\\\\n",
       "\t{[}469,{]} & 193       & 0.8172701 & 5        \\\\\n",
       "\t{[}470,{]} & 510       & 0.8687258 & 4        \\\\\n",
       "\t{[}471,{]} & 208       & 0.9005711 & 2        \\\\\n",
       "\t{[}472,{]} &   8       & 1.0000000 & 1        \\\\\n",
       "\t{[}473,{]} &  27       & 1.0000000 & 1        \\\\\n",
       "\t{[}474,{]} &  31       & 1.0000000 & 1        \\\\\n",
       "\t{[}475,{]} &  35       & 1.0000000 & 1        \\\\\n",
       "\\end{tabular}\n"
      ],
      "text/markdown": [
       "\n",
       "| [456,] | 511       | 0.5000000 | 2         |\n",
       "| [457,] | 523       | 0.5000000 | 2         |\n",
       "| [458,] | 221       | 0.5195799 | 2         |\n",
       "| [459,] | 397       | 0.5200632 | 3         |\n",
       "| [460,] | 278       | 0.5353108 | 2         |\n",
       "| [461,] | 219       | 0.5939888 | 2         |\n",
       "| [462,] | 169       | 0.6229614 | 3         |\n",
       "| [463,] |  44       | 0.6550735 | 3         |\n",
       "| [464,] | 152       | 0.7236211 | 2         |\n",
       "| [465,] | 401       | 0.7336224 | 2         |\n",
       "| [466,] | 266       | 0.7695198 | 2         |\n",
       "| [467,] | 505       | 0.7696480 | 8         |\n",
       "| [468,] |  43       | 0.7801957 | 2         |\n",
       "| [469,] | 193       | 0.8172701 | 5         |\n",
       "| [470,] | 510       | 0.8687258 | 4         |\n",
       "| [471,] | 208       | 0.9005711 | 2         |\n",
       "| [472,] |   8       | 1.0000000 | 1         |\n",
       "| [473,] |  27       | 1.0000000 | 1         |\n",
       "| [474,] |  31       | 1.0000000 | 1         |\n",
       "| [475,] |  35       | 1.0000000 | 1         |\n",
       "\n"
      ],
      "text/plain": [
       "       [,1] [,2]      [,3]\n",
       "[456,] 511  0.5000000 2   \n",
       "[457,] 523  0.5000000 2   \n",
       "[458,] 221  0.5195799 2   \n",
       "[459,] 397  0.5200632 3   \n",
       "[460,] 278  0.5353108 2   \n",
       "[461,] 219  0.5939888 2   \n",
       "[462,] 169  0.6229614 3   \n",
       "[463,]  44  0.6550735 3   \n",
       "[464,] 152  0.7236211 2   \n",
       "[465,] 401  0.7336224 2   \n",
       "[466,] 266  0.7695198 2   \n",
       "[467,] 505  0.7696480 8   \n",
       "[468,]  43  0.7801957 2   \n",
       "[469,] 193  0.8172701 5   \n",
       "[470,] 510  0.8687258 4   \n",
       "[471,] 208  0.9005711 2   \n",
       "[472,]   8  1.0000000 1   \n",
       "[473,]  27  1.0000000 1   \n",
       "[474,]  31  1.0000000 1   \n",
       "[475,]  35  1.0000000 1   "
      ]
     },
     "metadata": {},
     "output_type": "display_data"
    }
   ],
   "source": [
    "head(tail(res[order(res[,2]),], 71), 20)"
   ]
  },
  {
   "cell_type": "code",
   "execution_count": 11,
   "metadata": {
    "kernel": "R"
   },
   "outputs": [],
   "source": [
    "i = 505"
   ]
  },
  {
   "cell_type": "code",
   "execution_count": 12,
   "metadata": {
    "kernel": "R"
   },
   "outputs": [
    {
     "data": {
      "text/html": [
       "<ol class=list-inline>\n",
       "\t<li>'alpha'</li>\n",
       "\t<li>'mu'</li>\n",
       "\t<li>'mu2'</li>\n",
       "\t<li>'Xr'</li>\n",
       "\t<li>'KL'</li>\n",
       "\t<li>'lbf'</li>\n",
       "\t<li>'sigma2'</li>\n",
       "\t<li>'V'</li>\n",
       "\t<li>'pi'</li>\n",
       "\t<li>'null_index'</li>\n",
       "\t<li>'converged'</li>\n",
       "\t<li>'elbo'</li>\n",
       "\t<li>'niter'</li>\n",
       "\t<li>'intercept'</li>\n",
       "\t<li>'fitted'</li>\n",
       "\t<li>'sets'</li>\n",
       "\t<li>'pip'</li>\n",
       "\t<li>'X_column_scale_factors'</li>\n",
       "</ol>\n"
      ],
      "text/latex": [
       "\\begin{enumerate*}\n",
       "\\item 'alpha'\n",
       "\\item 'mu'\n",
       "\\item 'mu2'\n",
       "\\item 'Xr'\n",
       "\\item 'KL'\n",
       "\\item 'lbf'\n",
       "\\item 'sigma2'\n",
       "\\item 'V'\n",
       "\\item 'pi'\n",
       "\\item 'null\\_index'\n",
       "\\item 'converged'\n",
       "\\item 'elbo'\n",
       "\\item 'niter'\n",
       "\\item 'intercept'\n",
       "\\item 'fitted'\n",
       "\\item 'sets'\n",
       "\\item 'pip'\n",
       "\\item 'X\\_column\\_scale\\_factors'\n",
       "\\end{enumerate*}\n"
      ],
      "text/markdown": [
       "1. 'alpha'\n",
       "2. 'mu'\n",
       "3. 'mu2'\n",
       "4. 'Xr'\n",
       "5. 'KL'\n",
       "6. 'lbf'\n",
       "7. 'sigma2'\n",
       "8. 'V'\n",
       "9. 'pi'\n",
       "10. 'null_index'\n",
       "11. 'converged'\n",
       "12. 'elbo'\n",
       "13. 'niter'\n",
       "14. 'intercept'\n",
       "15. 'fitted'\n",
       "16. 'sets'\n",
       "17. 'pip'\n",
       "18. 'X_column_scale_factors'\n",
       "\n",
       "\n"
      ],
      "text/plain": [
       " [1] \"alpha\"                  \"mu\"                     \"mu2\"                   \n",
       " [4] \"Xr\"                     \"KL\"                     \"lbf\"                   \n",
       " [7] \"sigma2\"                 \"V\"                      \"pi\"                    \n",
       "[10] \"null_index\"             \"converged\"              \"elbo\"                  \n",
       "[13] \"niter\"                  \"intercept\"              \"fitted\"                \n",
       "[16] \"sets\"                   \"pip\"                    \"X_column_scale_factors\""
      ]
     },
     "metadata": {},
     "output_type": "display_data"
    }
   ],
   "source": [
    "names(susie_res[[i]])"
   ]
  },
  {
   "cell_type": "code",
   "execution_count": 13,
   "metadata": {
    "kernel": "R"
   },
   "outputs": [
    {
     "data": {
      "text/html": [
       "<ol class=list-inline>\n",
       "\t<li>0.00348587459776606</li>\n",
       "\t<li>0.00348587459776606</li>\n",
       "\t<li>0.76964804479735</li>\n",
       "\t<li>0.0706923644116202</li>\n",
       "\t<li>0.0706923644116202</li>\n",
       "\t<li>0.0706923644116202</li>\n",
       "\t<li>0.00565155638612869</li>\n",
       "\t<li>0.00565155638612869</li>\n",
       "</ol>\n"
      ],
      "text/latex": [
       "\\begin{enumerate*}\n",
       "\\item 0.00348587459776606\n",
       "\\item 0.00348587459776606\n",
       "\\item 0.76964804479735\n",
       "\\item 0.0706923644116202\n",
       "\\item 0.0706923644116202\n",
       "\\item 0.0706923644116202\n",
       "\\item 0.00565155638612869\n",
       "\\item 0.00565155638612869\n",
       "\\end{enumerate*}\n"
      ],
      "text/markdown": [
       "1. 0.00348587459776606\n",
       "2. 0.00348587459776606\n",
       "3. 0.76964804479735\n",
       "4. 0.0706923644116202\n",
       "5. 0.0706923644116202\n",
       "6. 0.0706923644116202\n",
       "7. 0.00565155638612869\n",
       "8. 0.00565155638612869\n",
       "\n",
       "\n"
      ],
      "text/plain": [
       "[1] 0.003485875 0.003485875 0.769648045 0.070692364 0.070692364 0.070692364\n",
       "[7] 0.005651556 0.005651556"
      ]
     },
     "metadata": {},
     "output_type": "display_data"
    }
   ],
   "source": [
    "susie_res[[i]]$pip"
   ]
  },
  {
   "cell_type": "markdown",
   "metadata": {
    "kernel": "SoS"
   },
   "source": [
    "## varbvs"
   ]
  },
  {
   "cell_type": "code",
   "execution_count": 14,
   "metadata": {
    "kernel": "R"
   },
   "outputs": [],
   "source": [
    "varbvs_res = readRDS(\"/home/min/GIT/cnv-gene-mapping/data/deletion_simu/deletion.genes.block30.for_simu.sample.genes.block1.varbvs.rds\")"
   ]
  },
  {
   "cell_type": "code",
   "execution_count": 15,
   "metadata": {
    "kernel": "R"
   },
   "outputs": [
    {
     "data": {
      "text/html": [
       "<ol class=list-inline>\n",
       "\t<li>'fit'</li>\n",
       "\t<li>'mu'</li>\n",
       "\t<li>'beta'</li>\n",
       "</ol>\n"
      ],
      "text/latex": [
       "\\begin{enumerate*}\n",
       "\\item 'fit'\n",
       "\\item 'mu'\n",
       "\\item 'beta'\n",
       "\\end{enumerate*}\n"
      ],
      "text/markdown": [
       "1. 'fit'\n",
       "2. 'mu'\n",
       "3. 'beta'\n",
       "\n",
       "\n"
      ],
      "text/plain": [
       "[1] \"fit\"  \"mu\"   \"beta\""
      ]
     },
     "metadata": {},
     "output_type": "display_data"
    }
   ],
   "source": [
    "names(varbvs_res[[i]])"
   ]
  },
  {
   "cell_type": "code",
   "execution_count": 16,
   "metadata": {
    "kernel": "R"
   },
   "outputs": [
    {
     "data": {
      "text/html": [
       "<ol class=list-inline>\n",
       "\t<li>'family'</li>\n",
       "\t<li>'n0'</li>\n",
       "\t<li>'sa0'</li>\n",
       "\t<li>'mu.cov'</li>\n",
       "\t<li>'update.sigma'</li>\n",
       "\t<li>'update.sa'</li>\n",
       "\t<li>'prior.same'</li>\n",
       "\t<li>'optimize.eta'</li>\n",
       "\t<li>'logw'</li>\n",
       "\t<li>'w'</li>\n",
       "\t<li>'sigma'</li>\n",
       "\t<li>'sa'</li>\n",
       "\t<li>'logodds'</li>\n",
       "\t<li>'alpha'</li>\n",
       "\t<li>'mu'</li>\n",
       "\t<li>'s'</li>\n",
       "\t<li>'eta'</li>\n",
       "\t<li>'pip'</li>\n",
       "\t<li>'beta'</li>\n",
       "\t<li>'beta.cov'</li>\n",
       "\t<li>'y'</li>\n",
       "\t<li>'model.pve'</li>\n",
       "\t<li>'pve'</li>\n",
       "\t<li>'fitted.values'</li>\n",
       "\t<li>'residuals'</li>\n",
       "</ol>\n"
      ],
      "text/latex": [
       "\\begin{enumerate*}\n",
       "\\item 'family'\n",
       "\\item 'n0'\n",
       "\\item 'sa0'\n",
       "\\item 'mu.cov'\n",
       "\\item 'update.sigma'\n",
       "\\item 'update.sa'\n",
       "\\item 'prior.same'\n",
       "\\item 'optimize.eta'\n",
       "\\item 'logw'\n",
       "\\item 'w'\n",
       "\\item 'sigma'\n",
       "\\item 'sa'\n",
       "\\item 'logodds'\n",
       "\\item 'alpha'\n",
       "\\item 'mu'\n",
       "\\item 's'\n",
       "\\item 'eta'\n",
       "\\item 'pip'\n",
       "\\item 'beta'\n",
       "\\item 'beta.cov'\n",
       "\\item 'y'\n",
       "\\item 'model.pve'\n",
       "\\item 'pve'\n",
       "\\item 'fitted.values'\n",
       "\\item 'residuals'\n",
       "\\end{enumerate*}\n"
      ],
      "text/markdown": [
       "1. 'family'\n",
       "2. 'n0'\n",
       "3. 'sa0'\n",
       "4. 'mu.cov'\n",
       "5. 'update.sigma'\n",
       "6. 'update.sa'\n",
       "7. 'prior.same'\n",
       "8. 'optimize.eta'\n",
       "9. 'logw'\n",
       "10. 'w'\n",
       "11. 'sigma'\n",
       "12. 'sa'\n",
       "13. 'logodds'\n",
       "14. 'alpha'\n",
       "15. 'mu'\n",
       "16. 's'\n",
       "17. 'eta'\n",
       "18. 'pip'\n",
       "19. 'beta'\n",
       "20. 'beta.cov'\n",
       "21. 'y'\n",
       "22. 'model.pve'\n",
       "23. 'pve'\n",
       "24. 'fitted.values'\n",
       "25. 'residuals'\n",
       "\n",
       "\n"
      ],
      "text/plain": [
       " [1] \"family\"        \"n0\"            \"sa0\"           \"mu.cov\"       \n",
       " [5] \"update.sigma\"  \"update.sa\"     \"prior.same\"    \"optimize.eta\" \n",
       " [9] \"logw\"          \"w\"             \"sigma\"         \"sa\"           \n",
       "[13] \"logodds\"       \"alpha\"         \"mu\"            \"s\"            \n",
       "[17] \"eta\"           \"pip\"           \"beta\"          \"beta.cov\"     \n",
       "[21] \"y\"             \"model.pve\"     \"pve\"           \"fitted.values\"\n",
       "[25] \"residuals\"    "
      ]
     },
     "metadata": {},
     "output_type": "display_data"
    }
   ],
   "source": [
    "names(varbvs_res[[i]]$fit)"
   ]
  },
  {
   "cell_type": "code",
   "execution_count": 17,
   "metadata": {
    "kernel": "R"
   },
   "outputs": [
    {
     "data": {
      "text/html": [
       "<dl class=dl-horizontal>\n",
       "\t<dt>20701</dt>\n",
       "\t\t<dd>0.116707586870715</dd>\n",
       "\t<dt>20702</dt>\n",
       "\t\t<dd>0.116702412585606</dd>\n",
       "\t<dt>20703</dt>\n",
       "\t\t<dd>0.996644700231258</dd>\n",
       "\t<dt>20704</dt>\n",
       "\t\t<dd>0.0580887469064442</dd>\n",
       "\t<dt>20705</dt>\n",
       "\t\t<dd>0.0580847159146005</dd>\n",
       "\t<dt>20706</dt>\n",
       "\t\t<dd>0.0580815050059259</dd>\n",
       "\t<dt>20707</dt>\n",
       "\t\t<dd>0.0717545436636593</dd>\n",
       "\t<dt>20708</dt>\n",
       "\t\t<dd>0.0717504665493366</dd>\n",
       "</dl>\n"
      ],
      "text/latex": [
       "\\begin{description*}\n",
       "\\item[20701] 0.116707586870715\n",
       "\\item[20702] 0.116702412585606\n",
       "\\item[20703] 0.996644700231258\n",
       "\\item[20704] 0.0580887469064442\n",
       "\\item[20705] 0.0580847159146005\n",
       "\\item[20706] 0.0580815050059259\n",
       "\\item[20707] 0.0717545436636593\n",
       "\\item[20708] 0.0717504665493366\n",
       "\\end{description*}\n"
      ],
      "text/markdown": [
       "20701\n",
       ":   0.11670758687071520702\n",
       ":   0.11670241258560620703\n",
       ":   0.99664470023125820704\n",
       ":   0.058088746906444220705\n",
       ":   0.058084715914600520706\n",
       ":   0.058081505005925920707\n",
       ":   0.071754543663659320708\n",
       ":   0.0717504665493366\n",
       "\n"
      ],
      "text/plain": [
       "     20701      20702      20703      20704      20705      20706      20707 \n",
       "0.11670759 0.11670241 0.99664470 0.05808875 0.05808472 0.05808151 0.07175454 \n",
       "     20708 \n",
       "0.07175047 "
      ]
     },
     "metadata": {},
     "output_type": "display_data"
    }
   ],
   "source": [
    "varbvs_res[[i]]$fit$pip"
   ]
  },
  {
   "cell_type": "code",
   "execution_count": null,
   "metadata": {
    "kernel": "R"
   },
   "outputs": [],
   "source": []
  }
 ],
 "metadata": {
  "kernelspec": {
   "display_name": "SoS",
   "language": "sos",
   "name": "sos"
  },
  "language_info": {
   "codemirror_mode": "sos",
   "file_extension": ".sos",
   "mimetype": "text/x-sos",
   "name": "sos",
   "nbconvert_exporter": "sos_notebook.converter.SoS_Exporter",
   "pygments_lexer": "sos"
  },
  "sos": {
   "kernels": [
    [
     "R",
     "ir",
     "R",
     "#DCDCDA"
    ],
    [
     "SoS",
     "sos",
     "",
     ""
    ]
   ],
   "version": "0.21.7"
  }
 },
 "nbformat": 4,
 "nbformat_minor": 4
}
