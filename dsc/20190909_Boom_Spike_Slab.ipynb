{
 "cells": [
  {
   "cell_type": "markdown",
   "metadata": {},
   "source": [
    "# Use BoomSpikeSlab\n",
    "## First check the result of varbvs on whole genome"
   ]
  },
  {
   "cell_type": "code",
   "execution_count": 1,
   "metadata": {},
   "outputs": [],
   "source": [
    "res = readRDS(\"/home/min/GIT/cnv-gene-mapping/data/deletion_simu/deletion.genes.block30.binomial.whole.genome.prior.varbvs.nologodds.updateb0.rds\")"
   ]
  },
  {
   "cell_type": "code",
   "execution_count": 2,
   "metadata": {},
   "outputs": [],
   "source": [
    "mu0 = sum(res$b0 * res$w)"
   ]
  },
  {
   "cell_type": "code",
   "execution_count": 3,
   "metadata": {},
   "outputs": [
    {
     "data": {
      "text/html": [
       "0.777072111580423"
      ],
      "text/latex": [
       "0.777072111580423"
      ],
      "text/markdown": [
       "0.777072111580423"
      ],
      "text/plain": [
       "[1] 0.7770721"
      ]
     },
     "metadata": {},
     "output_type": "display_data"
    }
   ],
   "source": [
    "mu0"
   ]
  },
  {
   "cell_type": "code",
   "execution_count": 4,
   "metadata": {},
   "outputs": [],
   "source": [
    "sd0 = sqrt(sum(res$sa * res$w))"
   ]
  },
  {
   "cell_type": "code",
   "execution_count": 5,
   "metadata": {},
   "outputs": [
    {
     "data": {
      "text/html": [
       "0.843650169910125"
      ],
      "text/latex": [
       "0.843650169910125"
      ],
      "text/markdown": [
       "0.843650169910125"
      ],
      "text/plain": [
       "[1] 0.8436502"
      ]
     },
     "metadata": {},
     "output_type": "display_data"
    }
   ],
   "source": [
    "sd0"
   ]
  },
  {
   "cell_type": "code",
   "execution_count": 6,
   "metadata": {},
   "outputs": [],
   "source": [
    "pi0 = sum((10^(res$logodds) / (1 + 10^(res$logodds))) * res$w)"
   ]
  },
  {
   "cell_type": "code",
   "execution_count": 7,
   "metadata": {},
   "outputs": [
    {
     "data": {
      "text/html": [
       "0.0437754961218526"
      ],
      "text/latex": [
       "0.0437754961218526"
      ],
      "text/markdown": [
       "0.0437754961218526"
      ],
      "text/plain": [
       "[1] 0.0437755"
      ]
     },
     "metadata": {},
     "output_type": "display_data"
    }
   ],
   "source": [
    "pi0"
   ]
  },
  {
   "cell_type": "code",
   "execution_count": 8,
   "metadata": {},
   "outputs": [],
   "source": [
    "# library(varbvs)\n",
    "# help(varbvs)"
   ]
  },
  {
   "cell_type": "code",
   "execution_count": 9,
   "metadata": {},
   "outputs": [],
   "source": [
    "# varbvs::varbvs"
   ]
  },
  {
   "cell_type": "code",
   "execution_count": 10,
   "metadata": {},
   "outputs": [],
   "source": [
    "library(data.table)\n",
    "library(reticulate)"
   ]
  },
  {
   "cell_type": "code",
   "execution_count": 11,
   "metadata": {},
   "outputs": [
    {
     "name": "stderr",
     "output_type": "stream",
     "text": [
      "Loading required package: Boom\n",
      "Loading required package: MASS\n",
      "\n",
      "Attaching package: ‘Boom’\n",
      "\n",
      "The following object is masked from ‘package:stats’:\n",
      "\n",
      "    rWishart\n",
      "\n",
      "\n",
      "Attaching package: ‘BoomSpikeSlab’\n",
      "\n",
      "The following object is masked from ‘package:stats’:\n",
      "\n",
      "    knots\n",
      "\n"
     ]
    }
   ],
   "source": [
    "library(susieR)\n",
    "library(BoomSpikeSlab)"
   ]
  },
  {
   "cell_type": "code",
   "execution_count": 12,
   "metadata": {},
   "outputs": [],
   "source": [
    "X = as.matrix(data.table::fread(\"/home/min/GIT/cnv-gene-mapping/data/deletion_simu/block_79_137/deletion.genes.block30.for_simu.sample.genes.block_79_137.gz\", header = F))"
   ]
  },
  {
   "cell_type": "code",
   "execution_count": 13,
   "metadata": {},
   "outputs": [
    {
     "data": {
      "text/html": [
       "<ol class=list-inline>\n",
       "\t<li>13412</li>\n",
       "\t<li>59</li>\n",
       "</ol>\n"
      ],
      "text/latex": [
       "\\begin{enumerate*}\n",
       "\\item 13412\n",
       "\\item 59\n",
       "\\end{enumerate*}\n"
      ],
      "text/markdown": [
       "1. 13412\n",
       "2. 59\n",
       "\n",
       "\n"
      ],
      "text/plain": [
       "[1] 13412    59"
      ]
     },
     "metadata": {},
     "output_type": "display_data"
    }
   ],
   "source": [
    "dim(X)"
   ]
  },
  {
   "cell_type": "code",
   "execution_count": 14,
   "metadata": {},
   "outputs": [],
   "source": [
    "# X = cbind(1, X)"
   ]
  },
  {
   "cell_type": "code",
   "execution_count": 15,
   "metadata": {},
   "outputs": [],
   "source": [
    "y <- as.matrix(data.table::fread(\"/data/GIT/cnv-gene-mapping/data/deletion_simu/deletion.genes.block30.for_simu.sample.y\"))"
   ]
  },
  {
   "cell_type": "code",
   "execution_count": 16,
   "metadata": {},
   "outputs": [],
   "source": [
    "storage.mode(X) = 'double'\n",
    "storage.mode(y) = 'double'"
   ]
  },
  {
   "cell_type": "code",
   "execution_count": 39,
   "metadata": {},
   "outputs": [
    {
     "data": {
      "text/html": [
       "-1.27875360095283"
      ],
      "text/latex": [
       "-1.27875360095283"
      ],
      "text/markdown": [
       "-1.27875360095283"
      ],
      "text/plain": [
       "[1] -1.278754"
      ]
     },
     "metadata": {},
     "output_type": "display_data"
    }
   ],
   "source": [
    "log10(0.05/0.95)"
   ]
  },
  {
   "cell_type": "code",
   "execution_count": 29,
   "metadata": {},
   "outputs": [],
   "source": [
    "prior <- LogitZellnerPrior(X, y, prior.success.probability = 0.05, expected.model.size = 3, prior.information.weight = 0.05, \n",
    "                           diagonal.shrinkage = 0, optional.coefficient.estimate = NULL, prior.inclusion.probabilities = NULL)"
   ]
  },
  {
   "cell_type": "code",
   "execution_count": 52,
   "metadata": {},
   "outputs": [
    {
     "data": {
      "text/html": [
       "<ol class=list-inline>\n",
       "\t<li>'prior.inclusion.probabilities'</li>\n",
       "\t<li>'mu'</li>\n",
       "\t<li>'sigma.guess'</li>\n",
       "\t<li>'prior.df'</li>\n",
       "\t<li>'sigma.upper.limit'</li>\n",
       "\t<li>'max.flips'</li>\n",
       "\t<li>'siginv'</li>\n",
       "\t<li>'prior.success.probability'</li>\n",
       "</ol>\n"
      ],
      "text/latex": [
       "\\begin{enumerate*}\n",
       "\\item 'prior.inclusion.probabilities'\n",
       "\\item 'mu'\n",
       "\\item 'sigma.guess'\n",
       "\\item 'prior.df'\n",
       "\\item 'sigma.upper.limit'\n",
       "\\item 'max.flips'\n",
       "\\item 'siginv'\n",
       "\\item 'prior.success.probability'\n",
       "\\end{enumerate*}\n"
      ],
      "text/markdown": [
       "1. 'prior.inclusion.probabilities'\n",
       "2. 'mu'\n",
       "3. 'sigma.guess'\n",
       "4. 'prior.df'\n",
       "5. 'sigma.upper.limit'\n",
       "6. 'max.flips'\n",
       "7. 'siginv'\n",
       "8. 'prior.success.probability'\n",
       "\n",
       "\n"
      ],
      "text/plain": [
       "[1] \"prior.inclusion.probabilities\" \"mu\"                           \n",
       "[3] \"sigma.guess\"                   \"prior.df\"                     \n",
       "[5] \"sigma.upper.limit\"             \"max.flips\"                    \n",
       "[7] \"siginv\"                        \"prior.success.probability\"    "
      ]
     },
     "metadata": {},
     "output_type": "display_data"
    }
   ],
   "source": [
    "names(prior)"
   ]
  },
  {
   "cell_type": "code",
   "execution_count": 50,
   "metadata": {},
   "outputs": [],
   "source": [
    "prior_glm <- SpikeSlabGlmPrior(X, weight = rep(1/nrow(X), nrow(X)), prior.inclusion.probabilities = rep(1/ncol(X), ncol(X)), expected.model.size = 1, \n",
    "                               optional.coefficient.estimate = rep(0, ncol(X)), mean.on.natural.scale = -1, max.flips = 5, diagonal.shrinkage = 0, \n",
    "                               prior.information.weight = 0.05)"
   ]
  },
  {
   "cell_type": "code",
   "execution_count": 51,
   "metadata": {},
   "outputs": [
    {
     "data": {
      "text/html": [
       "<ol class=list-inline>\n",
       "\t<li>'prior.inclusion.probabilities'</li>\n",
       "\t<li>'mu'</li>\n",
       "\t<li>'sigma.guess'</li>\n",
       "\t<li>'prior.df'</li>\n",
       "\t<li>'sigma.upper.limit'</li>\n",
       "\t<li>'max.flips'</li>\n",
       "\t<li>'siginv'</li>\n",
       "</ol>\n"
      ],
      "text/latex": [
       "\\begin{enumerate*}\n",
       "\\item 'prior.inclusion.probabilities'\n",
       "\\item 'mu'\n",
       "\\item 'sigma.guess'\n",
       "\\item 'prior.df'\n",
       "\\item 'sigma.upper.limit'\n",
       "\\item 'max.flips'\n",
       "\\item 'siginv'\n",
       "\\end{enumerate*}\n"
      ],
      "text/markdown": [
       "1. 'prior.inclusion.probabilities'\n",
       "2. 'mu'\n",
       "3. 'sigma.guess'\n",
       "4. 'prior.df'\n",
       "5. 'sigma.upper.limit'\n",
       "6. 'max.flips'\n",
       "7. 'siginv'\n",
       "\n",
       "\n"
      ],
      "text/plain": [
       "[1] \"prior.inclusion.probabilities\" \"mu\"                           \n",
       "[3] \"sigma.guess\"                   \"prior.df\"                     \n",
       "[5] \"sigma.upper.limit\"             \"max.flips\"                    \n",
       "[7] \"siginv\"                       "
      ]
     },
     "metadata": {},
     "output_type": "display_data"
    }
   ],
   "source": [
    "names(prior_glm)"
   ]
  },
  {
   "cell_type": "code",
   "execution_count": 59,
   "metadata": {},
   "outputs": [
    {
     "data": {
      "text/html": [
       "59"
      ],
      "text/latex": [
       "59"
      ],
      "text/markdown": [
       "59"
      ],
      "text/plain": [
       "[1] 59"
      ]
     },
     "metadata": {},
     "output_type": "display_data"
    }
   ],
   "source": [
    "length(prior_glm$mu)"
   ]
  },
  {
   "cell_type": "code",
   "execution_count": 60,
   "metadata": {},
   "outputs": [
    {
     "data": {
      "text/html": [
       "59"
      ],
      "text/latex": [
       "59"
      ],
      "text/markdown": [
       "59"
      ],
      "text/plain": [
       "[1] 59"
      ]
     },
     "metadata": {},
     "output_type": "display_data"
    }
   ],
   "source": [
    "ncol(X)"
   ]
  },
  {
   "cell_type": "code",
   "execution_count": null,
   "metadata": {},
   "outputs": [],
   "source": []
  },
  {
   "cell_type": "code",
   "execution_count": null,
   "metadata": {},
   "outputs": [],
   "source": []
  },
  {
   "cell_type": "code",
   "execution_count": null,
   "metadata": {},
   "outputs": [],
   "source": []
  },
  {
   "cell_type": "code",
   "execution_count": null,
   "metadata": {},
   "outputs": [],
   "source": []
  },
  {
   "cell_type": "code",
   "execution_count": 18,
   "metadata": {},
   "outputs": [],
   "source": [
    "prior1 <- prior"
   ]
  },
  {
   "cell_type": "code",
   "execution_count": 19,
   "metadata": {},
   "outputs": [],
   "source": [
    "tmp_mu <- c(mu0, rep(0,18), mu0, rep(0,3), rep(0,10), rep(0,7), mu0, rep(0,18))"
   ]
  },
  {
   "cell_type": "code",
   "execution_count": 20,
   "metadata": {},
   "outputs": [],
   "source": [
    "prior1$prior.inclusion.probabilities <- rep(pi0, ncol(X))\n",
    "prior1$mu <- rep(mu0, ncol(X))\n",
    "prior1$sigma.guess <- sd0"
   ]
  },
  {
   "cell_type": "code",
   "execution_count": 21,
   "metadata": {},
   "outputs": [
    {
     "data": {
      "text/html": [
       "TRUE"
      ],
      "text/latex": [
       "TRUE"
      ],
      "text/markdown": [
       "TRUE"
      ],
      "text/plain": [
       "[1] TRUE"
      ]
     },
     "metadata": {},
     "output_type": "display_data"
    }
   ],
   "source": [
    "length(prior1$mu) == ncol(X)"
   ]
  },
  {
   "cell_type": "code",
   "execution_count": 58,
   "metadata": {},
   "outputs": [
    {
     "ename": "ERROR",
     "evalue": "Error in logit.spike(y ~ X, niter = 1000, prior = prior_glm): length(prior$mu) == ncol(design) is not TRUE\n",
     "output_type": "error",
     "traceback": [
      "Error in logit.spike(y ~ X, niter = 1000, prior = prior_glm): length(prior$mu) == ncol(design) is not TRUE\nTraceback:\n",
      "1. logit.spike(y ~ X, niter = 1000, prior = prior_glm)",
      "2. stopifnot(is.matrix(design), nrow(design) == length(response), \n .     length(prior$mu) == ncol(design), length(prior$prior.inclusion.probabilities) == \n .         ncol(design), all(ny >= response), all(response >= 0))"
     ]
    }
   ],
   "source": [
    "model <- logit.spike(y ~ X, niter = 1000, prior = prior_glm)"
   ]
  },
  {
   "cell_type": "code",
   "execution_count": 32,
   "metadata": {},
   "outputs": [
    {
     "data": {
      "text/html": [
       "<ol class=list-inline>\n",
       "\t<li>'beta'</li>\n",
       "\t<li>'prior'</li>\n",
       "\t<li>'xlevels'</li>\n",
       "\t<li>'call'</li>\n",
       "\t<li>'terms'</li>\n",
       "\t<li>'log.likelihood'</li>\n",
       "\t<li>'deviance.residuals'</li>\n",
       "\t<li>'null.log.likelihood'</li>\n",
       "\t<li>'fitted.probabilities'</li>\n",
       "\t<li>'fitted.logits'</li>\n",
       "\t<li>'response'</li>\n",
       "\t<li>'training.data'</li>\n",
       "</ol>\n"
      ],
      "text/latex": [
       "\\begin{enumerate*}\n",
       "\\item 'beta'\n",
       "\\item 'prior'\n",
       "\\item 'xlevels'\n",
       "\\item 'call'\n",
       "\\item 'terms'\n",
       "\\item 'log.likelihood'\n",
       "\\item 'deviance.residuals'\n",
       "\\item 'null.log.likelihood'\n",
       "\\item 'fitted.probabilities'\n",
       "\\item 'fitted.logits'\n",
       "\\item 'response'\n",
       "\\item 'training.data'\n",
       "\\end{enumerate*}\n"
      ],
      "text/markdown": [
       "1. 'beta'\n",
       "2. 'prior'\n",
       "3. 'xlevels'\n",
       "4. 'call'\n",
       "5. 'terms'\n",
       "6. 'log.likelihood'\n",
       "7. 'deviance.residuals'\n",
       "8. 'null.log.likelihood'\n",
       "9. 'fitted.probabilities'\n",
       "10. 'fitted.logits'\n",
       "11. 'response'\n",
       "12. 'training.data'\n",
       "\n",
       "\n"
      ],
      "text/plain": [
       " [1] \"beta\"                 \"prior\"                \"xlevels\"             \n",
       " [4] \"call\"                 \"terms\"                \"log.likelihood\"      \n",
       " [7] \"deviance.residuals\"   \"null.log.likelihood\"  \"fitted.probabilities\"\n",
       "[10] \"fitted.logits\"        \"response\"             \"training.data\"       "
      ]
     },
     "metadata": {},
     "output_type": "display_data"
    }
   ],
   "source": [
    "names(model)"
   ]
  },
  {
   "cell_type": "code",
   "execution_count": 34,
   "metadata": {},
   "outputs": [
    {
     "data": {
      "text/html": [
       "<dl class=dl-horizontal>\n",
       "\t<dt>XV1</dt>\n",
       "\t\t<dd>-1.39757555092755</dd>\n",
       "\t<dt>XV2</dt>\n",
       "\t\t<dd>0</dd>\n",
       "\t<dt>XV3</dt>\n",
       "\t\t<dd>0</dd>\n",
       "\t<dt>XV4</dt>\n",
       "\t\t<dd>0</dd>\n",
       "\t<dt>XV5</dt>\n",
       "\t\t<dd>0</dd>\n",
       "\t<dt>XV6</dt>\n",
       "\t\t<dd>-0.403826567680958</dd>\n",
       "\t<dt>XV7</dt>\n",
       "\t\t<dd>0</dd>\n",
       "\t<dt>XV8</dt>\n",
       "\t\t<dd>0</dd>\n",
       "\t<dt>XV9</dt>\n",
       "\t\t<dd>0</dd>\n",
       "\t<dt>XV10</dt>\n",
       "\t\t<dd>0</dd>\n",
       "\t<dt>XV11</dt>\n",
       "\t\t<dd>0</dd>\n",
       "\t<dt>XV12</dt>\n",
       "\t\t<dd>0</dd>\n",
       "\t<dt>XV13</dt>\n",
       "\t\t<dd>0</dd>\n",
       "\t<dt>XV14</dt>\n",
       "\t\t<dd>0</dd>\n",
       "\t<dt>XV15</dt>\n",
       "\t\t<dd>0</dd>\n",
       "\t<dt>XV16</dt>\n",
       "\t\t<dd>0</dd>\n",
       "\t<dt>XV17</dt>\n",
       "\t\t<dd>0</dd>\n",
       "\t<dt>XV18</dt>\n",
       "\t\t<dd>0</dd>\n",
       "\t<dt>XV19</dt>\n",
       "\t\t<dd>0</dd>\n",
       "\t<dt>XV20</dt>\n",
       "\t\t<dd>0</dd>\n",
       "\t<dt>XV21</dt>\n",
       "\t\t<dd>0</dd>\n",
       "\t<dt>XV22</dt>\n",
       "\t\t<dd>0</dd>\n",
       "\t<dt>XV23</dt>\n",
       "\t\t<dd>0</dd>\n",
       "\t<dt>XV24</dt>\n",
       "\t\t<dd>0</dd>\n",
       "\t<dt>XV25</dt>\n",
       "\t\t<dd>0</dd>\n",
       "\t<dt>XV26</dt>\n",
       "\t\t<dd>0</dd>\n",
       "\t<dt>XV27</dt>\n",
       "\t\t<dd>0</dd>\n",
       "\t<dt>XV28</dt>\n",
       "\t\t<dd>0</dd>\n",
       "\t<dt>XV29</dt>\n",
       "\t\t<dd>0</dd>\n",
       "\t<dt>XV30</dt>\n",
       "\t\t<dd>0</dd>\n",
       "\t<dt>XV31</dt>\n",
       "\t\t<dd>0</dd>\n",
       "\t<dt>XV32</dt>\n",
       "\t\t<dd>0</dd>\n",
       "\t<dt>XV33</dt>\n",
       "\t\t<dd>0</dd>\n",
       "\t<dt>XV34</dt>\n",
       "\t\t<dd>0</dd>\n",
       "\t<dt>XV35</dt>\n",
       "\t\t<dd>0</dd>\n",
       "\t<dt>XV36</dt>\n",
       "\t\t<dd>0</dd>\n",
       "\t<dt>XV37</dt>\n",
       "\t\t<dd>0</dd>\n",
       "\t<dt>XV38</dt>\n",
       "\t\t<dd>0</dd>\n",
       "\t<dt>XV39</dt>\n",
       "\t\t<dd>0</dd>\n",
       "\t<dt>XV40</dt>\n",
       "\t\t<dd>0</dd>\n",
       "\t<dt>XV41</dt>\n",
       "\t\t<dd>0</dd>\n",
       "\t<dt>XV42</dt>\n",
       "\t\t<dd>0</dd>\n",
       "\t<dt>XV43</dt>\n",
       "\t\t<dd>0</dd>\n",
       "\t<dt>XV44</dt>\n",
       "\t\t<dd>0</dd>\n",
       "\t<dt>XV45</dt>\n",
       "\t\t<dd>0</dd>\n",
       "\t<dt>XV46</dt>\n",
       "\t\t<dd>0</dd>\n",
       "\t<dt>XV47</dt>\n",
       "\t\t<dd>0</dd>\n",
       "\t<dt>XV48</dt>\n",
       "\t\t<dd>0</dd>\n",
       "\t<dt>XV49</dt>\n",
       "\t\t<dd>0</dd>\n",
       "\t<dt>XV50</dt>\n",
       "\t\t<dd>0</dd>\n",
       "\t<dt>XV51</dt>\n",
       "\t\t<dd>0</dd>\n",
       "\t<dt>XV52</dt>\n",
       "\t\t<dd>0</dd>\n",
       "\t<dt>XV53</dt>\n",
       "\t\t<dd>0</dd>\n",
       "\t<dt>XV54</dt>\n",
       "\t\t<dd>0</dd>\n",
       "\t<dt>XV55</dt>\n",
       "\t\t<dd>0</dd>\n",
       "\t<dt>XV56</dt>\n",
       "\t\t<dd>0</dd>\n",
       "\t<dt>XV57</dt>\n",
       "\t\t<dd>0</dd>\n",
       "\t<dt>XV58</dt>\n",
       "\t\t<dd>0</dd>\n",
       "\t<dt>XV59</dt>\n",
       "\t\t<dd>0</dd>\n",
       "</dl>\n"
      ],
      "text/latex": [
       "\\begin{description*}\n",
       "\\item[XV1] -1.39757555092755\n",
       "\\item[XV2] 0\n",
       "\\item[XV3] 0\n",
       "\\item[XV4] 0\n",
       "\\item[XV5] 0\n",
       "\\item[XV6] -0.403826567680958\n",
       "\\item[XV7] 0\n",
       "\\item[XV8] 0\n",
       "\\item[XV9] 0\n",
       "\\item[XV10] 0\n",
       "\\item[XV11] 0\n",
       "\\item[XV12] 0\n",
       "\\item[XV13] 0\n",
       "\\item[XV14] 0\n",
       "\\item[XV15] 0\n",
       "\\item[XV16] 0\n",
       "\\item[XV17] 0\n",
       "\\item[XV18] 0\n",
       "\\item[XV19] 0\n",
       "\\item[XV20] 0\n",
       "\\item[XV21] 0\n",
       "\\item[XV22] 0\n",
       "\\item[XV23] 0\n",
       "\\item[XV24] 0\n",
       "\\item[XV25] 0\n",
       "\\item[XV26] 0\n",
       "\\item[XV27] 0\n",
       "\\item[XV28] 0\n",
       "\\item[XV29] 0\n",
       "\\item[XV30] 0\n",
       "\\item[XV31] 0\n",
       "\\item[XV32] 0\n",
       "\\item[XV33] 0\n",
       "\\item[XV34] 0\n",
       "\\item[XV35] 0\n",
       "\\item[XV36] 0\n",
       "\\item[XV37] 0\n",
       "\\item[XV38] 0\n",
       "\\item[XV39] 0\n",
       "\\item[XV40] 0\n",
       "\\item[XV41] 0\n",
       "\\item[XV42] 0\n",
       "\\item[XV43] 0\n",
       "\\item[XV44] 0\n",
       "\\item[XV45] 0\n",
       "\\item[XV46] 0\n",
       "\\item[XV47] 0\n",
       "\\item[XV48] 0\n",
       "\\item[XV49] 0\n",
       "\\item[XV50] 0\n",
       "\\item[XV51] 0\n",
       "\\item[XV52] 0\n",
       "\\item[XV53] 0\n",
       "\\item[XV54] 0\n",
       "\\item[XV55] 0\n",
       "\\item[XV56] 0\n",
       "\\item[XV57] 0\n",
       "\\item[XV58] 0\n",
       "\\item[XV59] 0\n",
       "\\end{description*}\n"
      ],
      "text/markdown": [
       "XV1\n",
       ":   -1.39757555092755XV2\n",
       ":   0XV3\n",
       ":   0XV4\n",
       ":   0XV5\n",
       ":   0XV6\n",
       ":   -0.403826567680958XV7\n",
       ":   0XV8\n",
       ":   0XV9\n",
       ":   0XV10\n",
       ":   0XV11\n",
       ":   0XV12\n",
       ":   0XV13\n",
       ":   0XV14\n",
       ":   0XV15\n",
       ":   0XV16\n",
       ":   0XV17\n",
       ":   0XV18\n",
       ":   0XV19\n",
       ":   0XV20\n",
       ":   0XV21\n",
       ":   0XV22\n",
       ":   0XV23\n",
       ":   0XV24\n",
       ":   0XV25\n",
       ":   0XV26\n",
       ":   0XV27\n",
       ":   0XV28\n",
       ":   0XV29\n",
       ":   0XV30\n",
       ":   0XV31\n",
       ":   0XV32\n",
       ":   0XV33\n",
       ":   0XV34\n",
       ":   0XV35\n",
       ":   0XV36\n",
       ":   0XV37\n",
       ":   0XV38\n",
       ":   0XV39\n",
       ":   0XV40\n",
       ":   0XV41\n",
       ":   0XV42\n",
       ":   0XV43\n",
       ":   0XV44\n",
       ":   0XV45\n",
       ":   0XV46\n",
       ":   0XV47\n",
       ":   0XV48\n",
       ":   0XV49\n",
       ":   0XV50\n",
       ":   0XV51\n",
       ":   0XV52\n",
       ":   0XV53\n",
       ":   0XV54\n",
       ":   0XV55\n",
       ":   0XV56\n",
       ":   0XV57\n",
       ":   0XV58\n",
       ":   0XV59\n",
       ":   0\n",
       "\n"
      ],
      "text/plain": [
       "       XV1        XV2        XV3        XV4        XV5        XV6        XV7 \n",
       "-1.3975756  0.0000000  0.0000000  0.0000000  0.0000000 -0.4038266  0.0000000 \n",
       "       XV8        XV9       XV10       XV11       XV12       XV13       XV14 \n",
       " 0.0000000  0.0000000  0.0000000  0.0000000  0.0000000  0.0000000  0.0000000 \n",
       "      XV15       XV16       XV17       XV18       XV19       XV20       XV21 \n",
       " 0.0000000  0.0000000  0.0000000  0.0000000  0.0000000  0.0000000  0.0000000 \n",
       "      XV22       XV23       XV24       XV25       XV26       XV27       XV28 \n",
       " 0.0000000  0.0000000  0.0000000  0.0000000  0.0000000  0.0000000  0.0000000 \n",
       "      XV29       XV30       XV31       XV32       XV33       XV34       XV35 \n",
       " 0.0000000  0.0000000  0.0000000  0.0000000  0.0000000  0.0000000  0.0000000 \n",
       "      XV36       XV37       XV38       XV39       XV40       XV41       XV42 \n",
       " 0.0000000  0.0000000  0.0000000  0.0000000  0.0000000  0.0000000  0.0000000 \n",
       "      XV43       XV44       XV45       XV46       XV47       XV48       XV49 \n",
       " 0.0000000  0.0000000  0.0000000  0.0000000  0.0000000  0.0000000  0.0000000 \n",
       "      XV50       XV51       XV52       XV53       XV54       XV55       XV56 \n",
       " 0.0000000  0.0000000  0.0000000  0.0000000  0.0000000  0.0000000  0.0000000 \n",
       "      XV57       XV58       XV59 \n",
       " 0.0000000  0.0000000  0.0000000 "
      ]
     },
     "metadata": {},
     "output_type": "display_data"
    }
   ],
   "source": [
    "colSums(model$beta)"
   ]
  },
  {
   "cell_type": "code",
   "execution_count": 97,
   "metadata": {},
   "outputs": [
    {
     "data": {
      "text/html": [
       "<ol class=list-inline>\n",
       "\t<li>100</li>\n",
       "\t<li>59</li>\n",
       "</ol>\n"
      ],
      "text/latex": [
       "\\begin{enumerate*}\n",
       "\\item 100\n",
       "\\item 59\n",
       "\\end{enumerate*}\n"
      ],
      "text/markdown": [
       "1. 100\n",
       "2. 59\n",
       "\n",
       "\n"
      ],
      "text/plain": [
       "[1] 100  59"
      ]
     },
     "metadata": {},
     "output_type": "display_data"
    }
   ],
   "source": [
    "dim(model$beta)"
   ]
  },
  {
   "cell_type": "code",
   "execution_count": 98,
   "metadata": {},
   "outputs": [
    {
     "data": {
      "text/html": [
       "0.00994830787243098"
      ],
      "text/latex": [
       "0.00994830787243098"
      ],
      "text/markdown": [
       "0.00994830787243098"
      ],
      "text/plain": [
       "[1] 0.009948308"
      ]
     },
     "metadata": {},
     "output_type": "display_data"
    }
   ],
   "source": [
    "mean(model$beta[, 20])"
   ]
  },
  {
   "cell_type": "code",
   "execution_count": 13,
   "metadata": {},
   "outputs": [
    {
     "data": {
      "text/html": [
       "0.00178724383993779"
      ],
      "text/latex": [
       "0.00178724383993779"
      ],
      "text/markdown": [
       "0.00178724383993779"
      ],
      "text/plain": [
       "[1] 0.001787244"
      ]
     },
     "metadata": {},
     "output_type": "display_data"
    }
   ],
   "source": [
    "mean(model$beta[, 50])"
   ]
  },
  {
   "cell_type": "code",
   "execution_count": 45,
   "metadata": {},
   "outputs": [],
   "source": [
    "res1 = susie(X, y, L = 3, scaled_prior_variance = 0.005, estimate_prior_method = \"optim\")"
   ]
  },
  {
   "cell_type": "code",
   "execution_count": 47,
   "metadata": {},
   "outputs": [
    {
     "data": {
      "text/html": [
       "0"
      ],
      "text/latex": [
       "0"
      ],
      "text/markdown": [
       "0"
      ],
      "text/plain": [
       "[1] 0"
      ]
     },
     "metadata": {},
     "output_type": "display_data"
    }
   ],
   "source": [
    "max(res1$pip)"
   ]
  },
  {
   "cell_type": "code",
   "execution_count": 29,
   "metadata": {},
   "outputs": [],
   "source": [
    "res2 = readRDS(\"/home/min/GIT/cnv-gene-mapping/data/deletion_simu/block_79_137/deletion.genes.block30.for_simu.sample.genes.block_79_137.varbvs.rds\")"
   ]
  },
  {
   "cell_type": "code",
   "execution_count": 30,
   "metadata": {},
   "outputs": [
    {
     "data": {
      "text/html": [
       "<ol class=list-inline>\n",
       "\t<li>'fit'</li>\n",
       "\t<li>'mu'</li>\n",
       "\t<li>'beta'</li>\n",
       "</ol>\n"
      ],
      "text/latex": [
       "\\begin{enumerate*}\n",
       "\\item 'fit'\n",
       "\\item 'mu'\n",
       "\\item 'beta'\n",
       "\\end{enumerate*}\n"
      ],
      "text/markdown": [
       "1. 'fit'\n",
       "2. 'mu'\n",
       "3. 'beta'\n",
       "\n",
       "\n"
      ],
      "text/plain": [
       "[1] \"fit\"  \"mu\"   \"beta\""
      ]
     },
     "metadata": {},
     "output_type": "display_data"
    }
   ],
   "source": [
    "names(res2)"
   ]
  },
  {
   "cell_type": "code",
   "execution_count": 48,
   "metadata": {},
   "outputs": [
    {
     "data": {
      "text/html": [
       "0.0269814805603835"
      ],
      "text/latex": [
       "0.0269814805603835"
      ],
      "text/markdown": [
       "0.0269814805603835"
      ],
      "text/plain": [
       "[1] 0.02698148"
      ]
     },
     "metadata": {},
     "output_type": "display_data"
    }
   ],
   "source": [
    "max(res2$fit$pip)"
   ]
  },
  {
   "cell_type": "markdown",
   "metadata": {},
   "source": [
    "**Make input prior as the format of output of SpikeSlabPrior**\n",
    "\n",
    "pi: vector of prior.inclusion.probabilities\n",
    "\n",
    "b: optional.coefficient.estimate"
   ]
  },
  {
   "cell_type": "markdown",
   "metadata": {},
   "source": [
    "    spike.slab.prior Create a spike and slab prior for use with lm.spike.\n",
    "    SpikeSlabPrior(x,\n",
    "    y = NULL,\n",
    "    expected.r2 = .5,\n",
    "    prior.df = .01,\n",
    "    expected.model.size = 1,\n",
    "    prior.information.weight = .01,\n",
    "    diagonal.shrinkage = .5,\n",
    "    optional.coefficient.estimate = NULL,\n",
    "    max.flips = -1,\n",
    "    mean.y = mean(y, na.rm = TRUE),\n",
    "    sdy = sd(as.numeric(y), na.rm = TRUE),\n",
    "    prior.inclusion.probabilities = NULL,\n",
    "    sigma.upper.limit = Inf)\n",
    "    \n",
    "    This object is intended for use with logit.spike.\n",
    "    LogitZellnerPrior(\n",
    "    predictors,\n",
    "    successes = NULL,\n",
    "    trials = NULL,\n",
    "    prior.success.probability = NULL,\n",
    "    expected.model.size = 1,\n",
    "    prior.information.weight = .01,\n",
    "    diagonal.shrinkage = .5,\n",
    "    optional.coefficient.estimate = NULL,\n",
    "    max.flips = -1,\n",
    "    prior.inclusion.probabilities = NULL)"
   ]
  },
  {
   "cell_type": "markdown",
   "metadata": {},
   "source": [
    "    logit.spike    Spike and slab logistic regression\n",
    "    logit.spike(formula,\n",
    "    niter,\n",
    "    data,\n",
    "    subset,\n",
    "    prior = NULL,\n",
    "    na.action = options(\"na.action\"),\n",
    "    contrasts = NULL,\n",
    "    drop.unused.levels = TRUE,\n",
    "    initial.value = NULL,\n",
    "    ping = niter / 10,\n",
    "    nthreads = 0,\n",
    "    clt.threshold = 2,\n",
    "    mh.chunk.size = 10,\n",
    "    proposal.df = 3,\n",
    "    sampler.weights = c(\"DA\" = .333, \"RWM\" = .333, \"TIM\" = .333),\n",
    "    seed = NULL,\n",
    "    ...)\n",
    "    \n",
    "    lm.spike       Spike and slab regression\n",
    "    lm.spike(formula,\n",
    "    niter,\n",
    "    data,\n",
    "    subset,\n",
    "    prior = NULL,\n",
    "    error.distribution = c(\"gaussian\", \"student\"),\n",
    "    contrasts = NULL,\n",
    "    drop.unused.levels = TRUE,\n",
    "    model.options = SsvsOptions(),\n",
    "    ping = niter / 10,\n",
    "    seed = NULL,\n",
    "    ...)"
   ]
  },
  {
   "cell_type": "code",
   "execution_count": null,
   "metadata": {},
   "outputs": [],
   "source": []
  }
 ],
 "metadata": {
  "kernelspec": {
   "display_name": "R",
   "language": "R",
   "name": "ir"
  },
  "language_info": {
   "codemirror_mode": "r",
   "file_extension": ".r",
   "mimetype": "text/x-r-source",
   "name": "R",
   "pygments_lexer": "r",
   "version": "3.5.1"
  }
 },
 "nbformat": 4,
 "nbformat_minor": 2
}
