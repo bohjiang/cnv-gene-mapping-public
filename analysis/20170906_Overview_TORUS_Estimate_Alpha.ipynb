{
 "cells": [
  {
   "cell_type": "markdown",
   "metadata": {},
   "source": [
    "# Use TORUS to estimate α for toy of multi-CNV-causal-gene example"
   ]
  },
  {
   "cell_type": "markdown",
   "metadata": {},
   "source": [
    "### Methods\n",
    "Generate summary statistics and snp(gene) annotation file: z_score and snp_anno."
   ]
  },
  {
   "cell_type": "markdown",
   "metadata": {
    "collapsed": true
   },
   "source": [
    "### Results\n",
    "The results for enrichment analysis is directly output to the screen. 1st column represents the annotation name and its corresponding level; 2nd column is the point estimate (MLE) of the log odds ratio.\n",
    "\n",
    "    Read in 1 loci, 15 locus-SNP pairs ... \n",
    "    Loading annotations ... \n",
    "    Initializing ... \n",
    "    Starting EM ... \n",
    "     Iter          loglik          Intercept    binding.1\tbinding.2\tbinding.3\tbinding.4\tbinding.5\t\n",
    "      1             3.707           -8.887      8.836     -0.439      1.111     -2.305     -2.188  \n",
    "      2             9.214          -17.697     17.697     -0.878      2.222     -4.610     -4.376  \n",
    "      3             9.217          -26.558     26.558     -1.318      3.333     -6.915     -6.564  \n",
    "\n",
    "```sh\n",
    "cat toy_multi_beta.est\n",
    "```\n",
    "\n",
    "                Intercept    -26.558       -32.745    -20.372\n",
    "                binding.1     26.558        14.434     38.682\n",
    "                binding.2     -1.315     -18232.648  18230.017\n",
    "                binding.3      0.002       -27.394     27.398\n",
    "                binding.4     -6.430     -89122.044  89109.184\n",
    "                binding.5     -6.181     -85665.902  85653.540"
   ]
  }
 ],
 "metadata": {
  "kernelspec": {
   "display_name": "Python 3",
   "language": "python",
   "name": "python3"
  },
  "language_info": {
   "codemirror_mode": {
    "name": "ipython",
    "version": 3
   },
   "file_extension": ".py",
   "mimetype": "text/x-python",
   "name": "python",
   "nbconvert_exporter": "python",
   "pygments_lexer": "ipython3",
   "version": "3.5.2"
  }
 },
 "nbformat": 4,
 "nbformat_minor": 2
}
