{
 "cells": [
  {
   "cell_type": "markdown",
   "metadata": {
    "kernel": "SoS"
   },
   "source": [
    "# ROC curve comparison PyMC3, susie, varbvs, logit\n",
    "ROC curve for comparing methods, susie calibrate"
   ]
  },
  {
   "cell_type": "code",
   "execution_count": 1,
   "metadata": {
    "kernel": "SoS"
   },
   "outputs": [],
   "source": [
    "import pandas as pd, numpy as np\n",
    "import os\n",
    "from collections import Counter\n",
    "cwd = os.path.expanduser(\"/home/min/GIT/cnv-gene-mapping/data\")"
   ]
  },
  {
   "cell_type": "code",
   "execution_count": 2,
   "metadata": {
    "kernel": "SoS"
   },
   "outputs": [],
   "source": [
    "varbvs = pd.read_csv(f\"{cwd}/deletion_simu/deletion.genes.block30.for_simu.sample.genes.varbvs.all.blocks.pip.csv\", header = None, names = [\"varbvs_pip\"])\n",
    "susie = pd.read_csv(f\"{cwd}/deletion_simu/deletion.genes.block30.for_simu.sample.genes.SuSiE.L_1.susie.all.blocks.pip.csv\", header = None, names = [\"susie_pip\"])\n",
    "logit = pd.read_csv(f\"{cwd}/deletion_simu/deletion.genes.block30.for_simu.sample.genes.logit.all.blocks.pip.csv\", header = None, names = [\"logit_pip\"])\n",
    "pymc3 = pd.read_csv(f\"{cwd}/deletion_simu/deletion.genes.block30.for_simu.sample.genes.pymc3.all.blocks.pip.gz\", compression = \"gzip\", header = None, names = [\"pymc3_pip\"])"
   ]
  },
  {
   "cell_type": "code",
   "execution_count": 3,
   "metadata": {
    "kernel": "SoS"
   },
   "outputs": [],
   "source": [
    "beta = pd.read_csv(f\"{cwd}/deletion_simu/deletion.genes.block30.for_simu.sample.shape0.0.scale1.0.beta\", header = None, names = [\"beta\"])\n",
    "index = pd.read_csv(f\"{cwd}/deletion_simu/deletion.genes.block30.for_simu.sample.block1.forsimu.index.csv\", header = None, names = [\"s\", \"e\"], sep = '\\t')"
   ]
  },
  {
   "cell_type": "code",
   "execution_count": 4,
   "metadata": {
    "kernel": "SoS"
   },
   "outputs": [],
   "source": [
    "b1 = list()\n",
    "for i, x in index.iterrows():\n",
    "    b1.extend([j for j in range(x[\"s\"], x[\"e\"]+1)])"
   ]
  },
  {
   "cell_type": "code",
   "execution_count": 5,
   "metadata": {
    "kernel": "SoS"
   },
   "outputs": [
    {
     "data": {
      "text/plain": [
       "2285"
      ]
     },
     "execution_count": 5,
     "metadata": {},
     "output_type": "execute_result"
    }
   ],
   "source": [
    "len(b1)"
   ]
  },
  {
   "cell_type": "code",
   "execution_count": 6,
   "metadata": {
    "kernel": "SoS"
   },
   "outputs": [],
   "source": [
    "beta = beta.iloc[b1]\n",
    "beta = beta.set_index([[i for i in range(beta.shape[0])]])"
   ]
  },
  {
   "cell_type": "code",
   "execution_count": 7,
   "metadata": {
    "kernel": "SoS"
   },
   "outputs": [],
   "source": [
    "res = pd.concat([beta, varbvs, susie, logit, pymc3], axis = 1)"
   ]
  },
  {
   "cell_type": "code",
   "execution_count": 8,
   "metadata": {
    "kernel": "SoS"
   },
   "outputs": [],
   "source": [
    "res[\"is_signal\"] = res[\"beta\"].apply(lambda x: 1 if x != 0 else 0)"
   ]
  },
  {
   "cell_type": "code",
   "execution_count": 9,
   "metadata": {
    "kernel": "SoS"
   },
   "outputs": [
    {
     "data": {
      "text/html": [
       "<div>\n",
       "<style scoped>\n",
       "    .dataframe tbody tr th:only-of-type {\n",
       "        vertical-align: middle;\n",
       "    }\n",
       "\n",
       "    .dataframe tbody tr th {\n",
       "        vertical-align: top;\n",
       "    }\n",
       "\n",
       "    .dataframe thead th {\n",
       "        text-align: right;\n",
       "    }\n",
       "</style>\n",
       "<table border=\"1\" class=\"dataframe\">\n",
       "  <thead>\n",
       "    <tr style=\"text-align: right;\">\n",
       "      <th></th>\n",
       "      <th>beta</th>\n",
       "      <th>varbvs_pip</th>\n",
       "      <th>susie_pip</th>\n",
       "      <th>logit_pip</th>\n",
       "      <th>pymc3_pip</th>\n",
       "      <th>is_signal</th>\n",
       "    </tr>\n",
       "  </thead>\n",
       "  <tbody>\n",
       "    <tr>\n",
       "      <td>0</td>\n",
       "      <td>-0.000000</td>\n",
       "      <td>0.072735</td>\n",
       "      <td>0.0</td>\n",
       "      <td>0.125</td>\n",
       "      <td>0.0365</td>\n",
       "      <td>0</td>\n",
       "    </tr>\n",
       "    <tr>\n",
       "      <td>1</td>\n",
       "      <td>-0.000000</td>\n",
       "      <td>0.072734</td>\n",
       "      <td>0.0</td>\n",
       "      <td>0.125</td>\n",
       "      <td>0.0450</td>\n",
       "      <td>0</td>\n",
       "    </tr>\n",
       "    <tr>\n",
       "      <td>2</td>\n",
       "      <td>-0.417782</td>\n",
       "      <td>0.072733</td>\n",
       "      <td>0.0</td>\n",
       "      <td>0.125</td>\n",
       "      <td>0.0515</td>\n",
       "      <td>1</td>\n",
       "    </tr>\n",
       "    <tr>\n",
       "      <td>3</td>\n",
       "      <td>0.000000</td>\n",
       "      <td>0.072733</td>\n",
       "      <td>0.0</td>\n",
       "      <td>0.125</td>\n",
       "      <td>0.0405</td>\n",
       "      <td>0</td>\n",
       "    </tr>\n",
       "    <tr>\n",
       "      <td>4</td>\n",
       "      <td>0.000000</td>\n",
       "      <td>0.072732</td>\n",
       "      <td>0.0</td>\n",
       "      <td>0.125</td>\n",
       "      <td>0.0465</td>\n",
       "      <td>0</td>\n",
       "    </tr>\n",
       "    <tr>\n",
       "      <td>5</td>\n",
       "      <td>0.000000</td>\n",
       "      <td>0.072731</td>\n",
       "      <td>0.0</td>\n",
       "      <td>0.125</td>\n",
       "      <td>0.0430</td>\n",
       "      <td>0</td>\n",
       "    </tr>\n",
       "    <tr>\n",
       "      <td>6</td>\n",
       "      <td>0.000000</td>\n",
       "      <td>0.072731</td>\n",
       "      <td>0.0</td>\n",
       "      <td>0.125</td>\n",
       "      <td>0.0485</td>\n",
       "      <td>0</td>\n",
       "    </tr>\n",
       "    <tr>\n",
       "      <td>7</td>\n",
       "      <td>-0.000000</td>\n",
       "      <td>0.072730</td>\n",
       "      <td>0.0</td>\n",
       "      <td>0.125</td>\n",
       "      <td>0.0345</td>\n",
       "      <td>0</td>\n",
       "    </tr>\n",
       "    <tr>\n",
       "      <td>8</td>\n",
       "      <td>0.000000</td>\n",
       "      <td>0.065478</td>\n",
       "      <td>0.0</td>\n",
       "      <td>0.100</td>\n",
       "      <td>0.0390</td>\n",
       "      <td>0</td>\n",
       "    </tr>\n",
       "    <tr>\n",
       "      <td>9</td>\n",
       "      <td>-0.000000</td>\n",
       "      <td>0.065478</td>\n",
       "      <td>0.0</td>\n",
       "      <td>0.100</td>\n",
       "      <td>0.0370</td>\n",
       "      <td>0</td>\n",
       "    </tr>\n",
       "  </tbody>\n",
       "</table>\n",
       "</div>"
      ],
      "text/plain": [
       "       beta  varbvs_pip  susie_pip  logit_pip  pymc3_pip  is_signal\n",
       "0 -0.000000    0.072735        0.0      0.125     0.0365          0\n",
       "1 -0.000000    0.072734        0.0      0.125     0.0450          0\n",
       "2 -0.417782    0.072733        0.0      0.125     0.0515          1\n",
       "3  0.000000    0.072733        0.0      0.125     0.0405          0\n",
       "4  0.000000    0.072732        0.0      0.125     0.0465          0\n",
       "5  0.000000    0.072731        0.0      0.125     0.0430          0\n",
       "6  0.000000    0.072731        0.0      0.125     0.0485          0\n",
       "7 -0.000000    0.072730        0.0      0.125     0.0345          0\n",
       "8  0.000000    0.065478        0.0      0.100     0.0390          0\n",
       "9 -0.000000    0.065478        0.0      0.100     0.0370          0"
      ]
     },
     "execution_count": 9,
     "metadata": {},
     "output_type": "execute_result"
    }
   ],
   "source": [
    "res.head(10)"
   ]
  },
  {
   "cell_type": "code",
   "execution_count": 10,
   "metadata": {
    "kernel": "SoS"
   },
   "outputs": [],
   "source": [
    "calib = res[[\"varbvs_pip\", \"susie_pip\", \"logit_pip\", \"pymc3_pip\", \"is_signal\"]]"
   ]
  },
  {
   "cell_type": "code",
   "execution_count": 11,
   "metadata": {
    "kernel": "SoS"
   },
   "outputs": [],
   "source": [
    "cutoffs = [0.025*i for i in range(0,41)]"
   ]
  },
  {
   "cell_type": "code",
   "execution_count": 12,
   "metadata": {
    "kernel": "SoS"
   },
   "outputs": [],
   "source": [
    "res1 = pd.DataFrame({\"cutoff\": cutoffs})"
   ]
  },
  {
   "cell_type": "code",
   "execution_count": 13,
   "metadata": {
    "kernel": "SoS"
   },
   "outputs": [],
   "source": [
    "n1 = len(b1)\n",
    "n2 = sum(res[\"is_signal\"])"
   ]
  },
  {
   "cell_type": "code",
   "execution_count": 14,
   "metadata": {
    "kernel": "SoS"
   },
   "outputs": [],
   "source": [
    "for x in [\"varbvs_pip\", \"susie_pip\", \"logit_pip\", \"pymc3_pip\"]:\n",
    "    res1[f\"{x}_FDR\"] = [sum(res[x]>i)/n1 for i in cutoffs]\n",
    "    res1[f\"{x}_power\"] = [res[(res[x]>i) & (res[\"is_signal\"] == 1)].shape[0]/n2 for i in cutoffs]"
   ]
  },
  {
   "cell_type": "code",
   "execution_count": 15,
   "metadata": {
    "kernel": "SoS"
   },
   "outputs": [
    {
     "data": {
      "text/html": [
       "<div>\n",
       "<style scoped>\n",
       "    .dataframe tbody tr th:only-of-type {\n",
       "        vertical-align: middle;\n",
       "    }\n",
       "\n",
       "    .dataframe tbody tr th {\n",
       "        vertical-align: top;\n",
       "    }\n",
       "\n",
       "    .dataframe thead th {\n",
       "        text-align: right;\n",
       "    }\n",
       "</style>\n",
       "<table border=\"1\" class=\"dataframe\">\n",
       "  <thead>\n",
       "    <tr style=\"text-align: right;\">\n",
       "      <th></th>\n",
       "      <th>cutoff</th>\n",
       "      <th>varbvs_pip_FDR</th>\n",
       "      <th>varbvs_pip_power</th>\n",
       "      <th>susie_pip_FDR</th>\n",
       "      <th>susie_pip_power</th>\n",
       "      <th>logit_pip_FDR</th>\n",
       "      <th>logit_pip_power</th>\n",
       "      <th>pymc3_pip_FDR</th>\n",
       "      <th>pymc3_pip_power</th>\n",
       "    </tr>\n",
       "  </thead>\n",
       "  <tbody>\n",
       "    <tr>\n",
       "      <td>0</td>\n",
       "      <td>0.000</td>\n",
       "      <td>1.000000</td>\n",
       "      <td>1.000000</td>\n",
       "      <td>0.420569</td>\n",
       "      <td>0.716667</td>\n",
       "      <td>1.000000</td>\n",
       "      <td>1.000000</td>\n",
       "      <td>1.000000</td>\n",
       "      <td>1.000000</td>\n",
       "    </tr>\n",
       "    <tr>\n",
       "      <td>1</td>\n",
       "      <td>0.025</td>\n",
       "      <td>0.899344</td>\n",
       "      <td>0.900000</td>\n",
       "      <td>0.331729</td>\n",
       "      <td>0.666667</td>\n",
       "      <td>0.856455</td>\n",
       "      <td>0.925000</td>\n",
       "      <td>0.757987</td>\n",
       "      <td>0.891667</td>\n",
       "    </tr>\n",
       "    <tr>\n",
       "      <td>2</td>\n",
       "      <td>0.050</td>\n",
       "      <td>0.710284</td>\n",
       "      <td>0.741667</td>\n",
       "      <td>0.217505</td>\n",
       "      <td>0.525000</td>\n",
       "      <td>0.693654</td>\n",
       "      <td>0.775000</td>\n",
       "      <td>0.383807</td>\n",
       "      <td>0.791667</td>\n",
       "    </tr>\n",
       "    <tr>\n",
       "      <td>3</td>\n",
       "      <td>0.075</td>\n",
       "      <td>0.466083</td>\n",
       "      <td>0.558333</td>\n",
       "      <td>0.169803</td>\n",
       "      <td>0.458333</td>\n",
       "      <td>0.565864</td>\n",
       "      <td>0.658333</td>\n",
       "      <td>0.221444</td>\n",
       "      <td>0.658333</td>\n",
       "    </tr>\n",
       "    <tr>\n",
       "      <td>4</td>\n",
       "      <td>0.100</td>\n",
       "      <td>0.347921</td>\n",
       "      <td>0.450000</td>\n",
       "      <td>0.139606</td>\n",
       "      <td>0.375000</td>\n",
       "      <td>0.488403</td>\n",
       "      <td>0.583333</td>\n",
       "      <td>0.154923</td>\n",
       "      <td>0.533333</td>\n",
       "    </tr>\n",
       "    <tr>\n",
       "      <td>5</td>\n",
       "      <td>0.125</td>\n",
       "      <td>0.254267</td>\n",
       "      <td>0.333333</td>\n",
       "      <td>0.111597</td>\n",
       "      <td>0.300000</td>\n",
       "      <td>0.418818</td>\n",
       "      <td>0.483333</td>\n",
       "      <td>0.108972</td>\n",
       "      <td>0.458333</td>\n",
       "    </tr>\n",
       "    <tr>\n",
       "      <td>6</td>\n",
       "      <td>0.150</td>\n",
       "      <td>0.180744</td>\n",
       "      <td>0.250000</td>\n",
       "      <td>0.105033</td>\n",
       "      <td>0.283333</td>\n",
       "      <td>0.395624</td>\n",
       "      <td>0.450000</td>\n",
       "      <td>0.062144</td>\n",
       "      <td>0.308333</td>\n",
       "    </tr>\n",
       "    <tr>\n",
       "      <td>7</td>\n",
       "      <td>0.175</td>\n",
       "      <td>0.143107</td>\n",
       "      <td>0.233333</td>\n",
       "      <td>0.096718</td>\n",
       "      <td>0.250000</td>\n",
       "      <td>0.375492</td>\n",
       "      <td>0.408333</td>\n",
       "      <td>0.043764</td>\n",
       "      <td>0.258333</td>\n",
       "    </tr>\n",
       "    <tr>\n",
       "      <td>8</td>\n",
       "      <td>0.200</td>\n",
       "      <td>0.112910</td>\n",
       "      <td>0.225000</td>\n",
       "      <td>0.084902</td>\n",
       "      <td>0.225000</td>\n",
       "      <td>0.329978</td>\n",
       "      <td>0.375000</td>\n",
       "      <td>0.034136</td>\n",
       "      <td>0.216667</td>\n",
       "    </tr>\n",
       "    <tr>\n",
       "      <td>9</td>\n",
       "      <td>0.225</td>\n",
       "      <td>0.059956</td>\n",
       "      <td>0.158333</td>\n",
       "      <td>0.084464</td>\n",
       "      <td>0.225000</td>\n",
       "      <td>0.315098</td>\n",
       "      <td>0.366667</td>\n",
       "      <td>0.029759</td>\n",
       "      <td>0.200000</td>\n",
       "    </tr>\n",
       "    <tr>\n",
       "      <td>10</td>\n",
       "      <td>0.250</td>\n",
       "      <td>0.049891</td>\n",
       "      <td>0.150000</td>\n",
       "      <td>0.073085</td>\n",
       "      <td>0.183333</td>\n",
       "      <td>0.274836</td>\n",
       "      <td>0.308333</td>\n",
       "      <td>0.025821</td>\n",
       "      <td>0.191667</td>\n",
       "    </tr>\n",
       "    <tr>\n",
       "      <td>11</td>\n",
       "      <td>0.275</td>\n",
       "      <td>0.039387</td>\n",
       "      <td>0.150000</td>\n",
       "      <td>0.072210</td>\n",
       "      <td>0.183333</td>\n",
       "      <td>0.269147</td>\n",
       "      <td>0.291667</td>\n",
       "      <td>0.024070</td>\n",
       "      <td>0.183333</td>\n",
       "    </tr>\n",
       "    <tr>\n",
       "      <td>12</td>\n",
       "      <td>0.300</td>\n",
       "      <td>0.026696</td>\n",
       "      <td>0.116667</td>\n",
       "      <td>0.069584</td>\n",
       "      <td>0.175000</td>\n",
       "      <td>0.260832</td>\n",
       "      <td>0.291667</td>\n",
       "      <td>0.019256</td>\n",
       "      <td>0.175000</td>\n",
       "    </tr>\n",
       "    <tr>\n",
       "      <td>13</td>\n",
       "      <td>0.325</td>\n",
       "      <td>0.022319</td>\n",
       "      <td>0.100000</td>\n",
       "      <td>0.068271</td>\n",
       "      <td>0.166667</td>\n",
       "      <td>0.259081</td>\n",
       "      <td>0.291667</td>\n",
       "      <td>0.016630</td>\n",
       "      <td>0.158333</td>\n",
       "    </tr>\n",
       "    <tr>\n",
       "      <td>14</td>\n",
       "      <td>0.350</td>\n",
       "      <td>0.015317</td>\n",
       "      <td>0.100000</td>\n",
       "      <td>0.052516</td>\n",
       "      <td>0.141667</td>\n",
       "      <td>0.204814</td>\n",
       "      <td>0.250000</td>\n",
       "      <td>0.013567</td>\n",
       "      <td>0.125000</td>\n",
       "    </tr>\n",
       "    <tr>\n",
       "      <td>15</td>\n",
       "      <td>0.375</td>\n",
       "      <td>0.012691</td>\n",
       "      <td>0.091667</td>\n",
       "      <td>0.052516</td>\n",
       "      <td>0.141667</td>\n",
       "      <td>0.198249</td>\n",
       "      <td>0.250000</td>\n",
       "      <td>0.011816</td>\n",
       "      <td>0.116667</td>\n",
       "    </tr>\n",
       "    <tr>\n",
       "      <td>16</td>\n",
       "      <td>0.400</td>\n",
       "      <td>0.012691</td>\n",
       "      <td>0.091667</td>\n",
       "      <td>0.052079</td>\n",
       "      <td>0.141667</td>\n",
       "      <td>0.194748</td>\n",
       "      <td>0.241667</td>\n",
       "      <td>0.011379</td>\n",
       "      <td>0.116667</td>\n",
       "    </tr>\n",
       "    <tr>\n",
       "      <td>17</td>\n",
       "      <td>0.425</td>\n",
       "      <td>0.012691</td>\n",
       "      <td>0.091667</td>\n",
       "      <td>0.051204</td>\n",
       "      <td>0.141667</td>\n",
       "      <td>0.190810</td>\n",
       "      <td>0.233333</td>\n",
       "      <td>0.010941</td>\n",
       "      <td>0.116667</td>\n",
       "    </tr>\n",
       "    <tr>\n",
       "      <td>18</td>\n",
       "      <td>0.450</td>\n",
       "      <td>0.011816</td>\n",
       "      <td>0.091667</td>\n",
       "      <td>0.050328</td>\n",
       "      <td>0.141667</td>\n",
       "      <td>0.186433</td>\n",
       "      <td>0.225000</td>\n",
       "      <td>0.010066</td>\n",
       "      <td>0.100000</td>\n",
       "    </tr>\n",
       "    <tr>\n",
       "      <td>19</td>\n",
       "      <td>0.475</td>\n",
       "      <td>0.011816</td>\n",
       "      <td>0.091667</td>\n",
       "      <td>0.049891</td>\n",
       "      <td>0.141667</td>\n",
       "      <td>0.184683</td>\n",
       "      <td>0.216667</td>\n",
       "      <td>0.008753</td>\n",
       "      <td>0.091667</td>\n",
       "    </tr>\n",
       "  </tbody>\n",
       "</table>\n",
       "</div>"
      ],
      "text/plain": [
       "    cutoff  varbvs_pip_FDR  ...  pymc3_pip_FDR  pymc3_pip_power\n",
       "0    0.000        1.000000  ...       1.000000         1.000000\n",
       "1    0.025        0.899344  ...       0.757987         0.891667\n",
       "2    0.050        0.710284  ...       0.383807         0.791667\n",
       "3    0.075        0.466083  ...       0.221444         0.658333\n",
       "4    0.100        0.347921  ...       0.154923         0.533333\n",
       "5    0.125        0.254267  ...       0.108972         0.458333\n",
       "6    0.150        0.180744  ...       0.062144         0.308333\n",
       "7    0.175        0.143107  ...       0.043764         0.258333\n",
       "8    0.200        0.112910  ...       0.034136         0.216667\n",
       "9    0.225        0.059956  ...       0.029759         0.200000\n",
       "10   0.250        0.049891  ...       0.025821         0.191667\n",
       "11   0.275        0.039387  ...       0.024070         0.183333\n",
       "12   0.300        0.026696  ...       0.019256         0.175000\n",
       "13   0.325        0.022319  ...       0.016630         0.158333\n",
       "14   0.350        0.015317  ...       0.013567         0.125000\n",
       "15   0.375        0.012691  ...       0.011816         0.116667\n",
       "16   0.400        0.012691  ...       0.011379         0.116667\n",
       "17   0.425        0.012691  ...       0.010941         0.116667\n",
       "18   0.450        0.011816  ...       0.010066         0.100000\n",
       "19   0.475        0.011816  ...       0.008753         0.091667\n",
       "\n",
       "[20 rows x 9 columns]"
      ]
     },
     "execution_count": 15,
     "metadata": {},
     "output_type": "execute_result"
    }
   ],
   "source": [
    "res1.head(20)"
   ]
  },
  {
   "cell_type": "code",
   "execution_count": 16,
   "metadata": {
    "kernel": "SoS"
   },
   "outputs": [],
   "source": [
    "import matplotlib.pyplot as plt\n",
    "import matplotlib.font_manager as font_manager\n",
    "font_prop = font_manager.FontProperties(size=24)"
   ]
  },
  {
   "cell_type": "code",
   "execution_count": 58,
   "metadata": {
    "kernel": "SoS"
   },
   "outputs": [],
   "source": [
    "import numpy as np \n",
    "import matplotlib.pyplot as plt\n",
    "from scipy.interpolate import interp1d\n",
    "\n",
    "x=np.array([0.1, 0.3, 0.5, 0.7, 0.9, 1.1, 1.3, 1.5, 1.7, 1.9, 2])\n",
    "y=np.array([0.57,0.85,0.66,0.84,0.59,0.55,0.61,0.76,0.54,0.55,0.48])\n",
    "\n",
    "x_new = np.linspace(x.min(), x.max(),500)\n",
    "\n",
    "f = interp1d(x, y, kind='quadratic')\n",
    "y_smooth=f(x_new)\n",
    "\n",
    "plt.plot (x_new,y_smooth)\n",
    "plt.scatter (x, y)\n",
    "plt.show()"
   ]
  },
  {
   "cell_type": "code",
   "execution_count": 72,
   "metadata": {
    "kernel": "SoS"
   },
   "outputs": [],
   "source": [
    "from scipy.interpolate import interp1d\n",
    "f2 = interp1d(np.array(res1[\"varbvs_pip_FDR\"])[::-1], np.array(res1[\"varbvs_pip_power\"])[::-1], kind='next')\n",
    "# f2 = interp1d(x, y, kind='quadratic')"
   ]
  },
  {
   "cell_type": "code",
   "execution_count": 73,
   "metadata": {
    "kernel": "SoS"
   },
   "outputs": [
    {
     "data": {
      "text/plain": [
       "array([1.        , 0.89934354, 0.71028446, 0.46608315, 0.34792123,\n",
       "       0.25426696, 0.18074398, 0.14310722, 0.11291028, 0.05995624,\n",
       "       0.04989059, 0.03938731, 0.02669584, 0.02231947, 0.01531729,\n",
       "       0.01269147, 0.01269147, 0.01269147, 0.01181619, 0.01181619,\n",
       "       0.01137856, 0.01050328, 0.01006565, 0.01006565, 0.01006565,\n",
       "       0.00962801, 0.00875274, 0.00875274, 0.00875274, 0.0083151 ,\n",
       "       0.0083151 , 0.00787746, 0.00743982, 0.00700219, 0.00700219,\n",
       "       0.00612691, 0.00612691, 0.00612691, 0.00568928, 0.00525164,\n",
       "       0.        ])"
      ]
     },
     "execution_count": 73,
     "metadata": {},
     "output_type": "execute_result"
    }
   ],
   "source": [
    "np.array(res1[\"varbvs_pip_FDR\"])"
   ]
  },
  {
   "cell_type": "code",
   "execution_count": 75,
   "metadata": {
    "kernel": "SoS"
   },
   "outputs": [],
   "source": [
    "fig, ax = plt.subplots(figsize = (10, 10))\n",
    "plt.scatter(res1[\"varbvs_pip_FDR\"], res1[\"varbvs_pip_power\"], c = \"C4\", label='varbvs')\n",
    "plt.plot(res1[\"varbvs_pip_FDR\"], res1[\"varbvs_pip_power\"], c = \"C4\")\n",
    "plt.scatter(res1[\"susie_pip_FDR\"], res1[\"susie_pip_power\"], c = \"C8\", label='susie')\n",
    "plt.plot(res1[\"susie_pip_FDR\"], res1[\"susie_pip_power\"], c = \"C8\")\n",
    "plt.scatter(res1[\"logit_pip_FDR\"], res1[\"logit_pip_power\"], c = \"C0\", label='logit')\n",
    "plt.plot(res1[\"logit_pip_FDR\"], res1[\"logit_pip_power\"], c = \"C0\")\n",
    "plt.scatter(res1[\"pymc3_pip_FDR\"], res1[\"pymc3_pip_power\"], c = \"C3\", label='pymc3')\n",
    "plt.plot(res1[\"pymc3_pip_FDR\"], res1[\"pymc3_pip_power\"], c = \"C3\")\n",
    "plt.legend(loc = 'lower right', fontsize = 20)\n",
    "plt.xlabel(\"FDR\", fontproperties=font_prop)\n",
    "plt.ylabel(\"power\", fontproperties=font_prop)\n",
    "plt.savefig(\"/home/min/GIT/cnv-gene-mapping/data/deletion_simu/ROC.pdf\")\n",
    "plt.show()"
   ]
  },
  {
   "cell_type": "code",
   "execution_count": 76,
   "metadata": {
    "kernel": "SoS"
   },
   "outputs": [
    {
     "data": {
      "text/html": [
       "<div class=\"sos_hint\">> /home/min/GIT/cnv-gene-mapping/data/deletion_simu/ROC.pdf (16.0 KiB):</div>"
      ],
      "text/plain": [
       "\n",
       "> /home/min/GIT/cnv-gene-mapping/data/deletion_simu/ROC.pdf (16.0 KiB):"
      ]
     },
     "metadata": {},
     "output_type": "display_data"
    },
    {
     "data": {
      "image/png": "[encoded data removed]"
     },
     "metadata": {},
     "output_type": "display_data"
    }
   ],
   "source": [
    "%preview /home/min/GIT/cnv-gene-mapping/data/deletion_simu/ROC.pdf -s png --dpi 80"
   ]
  },
  {
   "cell_type": "code",
   "execution_count": 17,
   "metadata": {
    "kernel": "R"
   },
   "outputs": [],
   "source": [
    "%get calib"
   ]
  },
  {
   "cell_type": "code",
   "execution_count": 18,
   "metadata": {
    "kernel": "R"
   },
   "outputs": [
    {
     "name": "stderr",
     "output_type": "stream",
     "text": [
      "\n",
      "Attaching package: ‘cowplot’\n",
      "\n",
      "The following object is masked from ‘package:ggplot2’:\n",
      "\n",
      "    ggsave\n",
      "\n",
      "\n",
      "Attaching package: ‘dplyr’\n",
      "\n",
      "The following objects are masked from ‘package:stats’:\n",
      "\n",
      "    filter, lag\n",
      "\n",
      "The following objects are masked from ‘package:base’:\n",
      "\n",
      "    intersect, setdiff, setequal, union\n",
      "\n"
     ]
    }
   ],
   "source": [
    "library(ggplot2)\n",
    "library(cowplot)\n",
    "library(dplyr)"
   ]
  },
  {
   "cell_type": "code",
   "execution_count": 19,
   "metadata": {
    "kernel": "R"
   },
   "outputs": [],
   "source": [
    "dat = readRDS(\"/home/min/Downloads/susie_rss_ukb_default_pip_AZFALSE_ldin_sample_ERFALSE_lamb0.rds\")"
   ]
  },
  {
   "cell_type": "code",
   "execution_count": 20,
   "metadata": {
    "kernel": "R"
   },
   "outputs": [],
   "source": [
    "bin_size = 20\n",
    "bins = cbind(seq(1:bin_size)/bin_size-1/bin_size, seq(1:bin_size)/bin_size)"
   ]
  },
  {
   "cell_type": "code",
   "execution_count": 21,
   "metadata": {
    "kernel": "R"
   },
   "outputs": [
    {
     "data": {
      "text/html": [
       "<ol class=list-inline>\n",
       "\t<li>'susie'</li>\n",
       "\t<li>'susierss'</li>\n",
       "\t<li>'caviar'</li>\n",
       "\t<li>'finemap'</li>\n",
       "\t<li>'finemapv3'</li>\n",
       "\t<li>'is_signal'</li>\n",
       "</ol>\n"
      ],
      "text/latex": [
       "\\begin{enumerate*}\n",
       "\\item 'susie'\n",
       "\\item 'susierss'\n",
       "\\item 'caviar'\n",
       "\\item 'finemap'\n",
       "\\item 'finemapv3'\n",
       "\\item 'is\\_signal'\n",
       "\\end{enumerate*}\n"
      ],
      "text/markdown": [
       "1. 'susie'\n",
       "2. 'susierss'\n",
       "3. 'caviar'\n",
       "4. 'finemap'\n",
       "5. 'finemapv3'\n",
       "6. 'is_signal'\n",
       "\n",
       "\n"
      ],
      "text/plain": [
       "[1] \"susie\"     \"susierss\"  \"caviar\"    \"finemap\"   \"finemapv3\" \"is_signal\""
      ]
     },
     "metadata": {},
     "output_type": "display_data"
    }
   ],
   "source": [
    "names(dat$\"1\")"
   ]
  },
  {
   "cell_type": "code",
   "execution_count": 22,
   "metadata": {
    "kernel": "R"
   },
   "outputs": [
    {
     "data": {
      "text/html": [
       "193200"
      ],
      "text/latex": [
       "193200"
      ],
      "text/markdown": [
       "193200"
      ],
      "text/plain": [
       "[1] 193200"
      ]
     },
     "metadata": {},
     "output_type": "display_data"
    }
   ],
   "source": [
    "length(dat$\"5\"$susie)"
   ]
  },
  {
   "cell_type": "code",
   "execution_count": 23,
   "metadata": {
    "kernel": "R"
   },
   "outputs": [
    {
     "data": {
      "text/html": [
       "<table>\n",
       "<thead><tr><th scope=col>susie</th><th scope=col>susierss</th><th scope=col>caviar</th><th scope=col>finemap</th><th scope=col>finemapv3</th><th scope=col>is_signal</th></tr></thead>\n",
       "<tbody>\n",
       "\t<tr><td>0.000000e+00</td><td>0.000000e+00</td><td>1.76819e-14 </td><td>0           </td><td>1.55245e-21 </td><td>0           </td></tr>\n",
       "\t<tr><td>0.000000e+00</td><td>0.000000e+00</td><td>2.56029e-15 </td><td>0           </td><td>8.17248e-23 </td><td>0           </td></tr>\n",
       "\t<tr><td>0.000000e+00</td><td>0.000000e+00</td><td>1.20962e-15 </td><td>0           </td><td>2.60620e-23 </td><td>0           </td></tr>\n",
       "\t<tr><td>1.622369e-11</td><td>1.072831e-11</td><td>9.47974e-08 </td><td>0           </td><td>2.61119e-11 </td><td>0           </td></tr>\n",
       "\t<tr><td>0.000000e+00</td><td>0.000000e+00</td><td>1.74937e-14 </td><td>0           </td><td>1.52735e-21 </td><td>0           </td></tr>\n",
       "\t<tr><td>0.000000e+00</td><td>0.000000e+00</td><td>1.74010e-14 </td><td>0           </td><td>1.51504e-21 </td><td>0           </td></tr>\n",
       "</tbody>\n",
       "</table>\n"
      ],
      "text/latex": [
       "\\begin{tabular}{r|llllll}\n",
       " susie & susierss & caviar & finemap & finemapv3 & is\\_signal\\\\\n",
       "\\hline\n",
       "\t 0.000000e+00 & 0.000000e+00 & 1.76819e-14  & 0            & 1.55245e-21  & 0           \\\\\n",
       "\t 0.000000e+00 & 0.000000e+00 & 2.56029e-15  & 0            & 8.17248e-23  & 0           \\\\\n",
       "\t 0.000000e+00 & 0.000000e+00 & 1.20962e-15  & 0            & 2.60620e-23  & 0           \\\\\n",
       "\t 1.622369e-11 & 1.072831e-11 & 9.47974e-08  & 0            & 2.61119e-11  & 0           \\\\\n",
       "\t 0.000000e+00 & 0.000000e+00 & 1.74937e-14  & 0            & 1.52735e-21  & 0           \\\\\n",
       "\t 0.000000e+00 & 0.000000e+00 & 1.74010e-14  & 0            & 1.51504e-21  & 0           \\\\\n",
       "\\end{tabular}\n"
      ],
      "text/markdown": [
       "\n",
       "| susie | susierss | caviar | finemap | finemapv3 | is_signal |\n",
       "|---|---|---|---|---|---|\n",
       "| 0.000000e+00 | 0.000000e+00 | 1.76819e-14  | 0            | 1.55245e-21  | 0            |\n",
       "| 0.000000e+00 | 0.000000e+00 | 2.56029e-15  | 0            | 8.17248e-23  | 0            |\n",
       "| 0.000000e+00 | 0.000000e+00 | 1.20962e-15  | 0            | 2.60620e-23  | 0            |\n",
       "| 1.622369e-11 | 1.072831e-11 | 9.47974e-08  | 0            | 2.61119e-11  | 0            |\n",
       "| 0.000000e+00 | 0.000000e+00 | 1.74937e-14  | 0            | 1.52735e-21  | 0            |\n",
       "| 0.000000e+00 | 0.000000e+00 | 1.74010e-14  | 0            | 1.51504e-21  | 0            |\n",
       "\n"
      ],
      "text/plain": [
       "  susie        susierss     caviar      finemap finemapv3   is_signal\n",
       "1 0.000000e+00 0.000000e+00 1.76819e-14 0       1.55245e-21 0        \n",
       "2 0.000000e+00 0.000000e+00 2.56029e-15 0       8.17248e-23 0        \n",
       "3 0.000000e+00 0.000000e+00 1.20962e-15 0       2.60620e-23 0        \n",
       "4 1.622369e-11 1.072831e-11 9.47974e-08 0       2.61119e-11 0        \n",
       "5 0.000000e+00 0.000000e+00 1.74937e-14 0       1.52735e-21 0        \n",
       "6 0.000000e+00 0.000000e+00 1.74010e-14 0       1.51504e-21 0        "
      ]
     },
     "metadata": {},
     "output_type": "display_data"
    }
   ],
   "source": [
    "head(dat$\"1\")"
   ]
  },
  {
   "cell_type": "code",
   "execution_count": 24,
   "metadata": {
    "kernel": "R"
   },
   "outputs": [
    {
     "data": {
      "text/plain": [
       "\n",
       "     0      1 \n",
       "199420    200 "
      ]
     },
     "metadata": {},
     "output_type": "display_data"
    }
   ],
   "source": [
    "table(dat$\"1\"$is_signal)"
   ]
  },
  {
   "cell_type": "code",
   "execution_count": 25,
   "metadata": {
    "kernel": "R"
   },
   "outputs": [
    {
     "data": {
      "text/html": [
       "<table>\n",
       "<thead><tr><th></th><th scope=col>varbvs_pip</th><th scope=col>susie_pip</th><th scope=col>logit_pip</th><th scope=col>pymc3_pip</th><th scope=col>is_signal</th></tr></thead>\n",
       "<tbody>\n",
       "\t<tr><th scope=row>0</th><td>0.07273518</td><td>0         </td><td>0.125     </td><td>0.0365    </td><td>0         </td></tr>\n",
       "\t<tr><th scope=row>1</th><td>0.07273428</td><td>0         </td><td>0.125     </td><td>0.0450    </td><td>0         </td></tr>\n",
       "\t<tr><th scope=row>2</th><td>0.07273342</td><td>0         </td><td>0.125     </td><td>0.0515    </td><td>1         </td></tr>\n",
       "\t<tr><th scope=row>3</th><td>0.07273260</td><td>0         </td><td>0.125     </td><td>0.0405    </td><td>0         </td></tr>\n",
       "\t<tr><th scope=row>4</th><td>0.07273186</td><td>0         </td><td>0.125     </td><td>0.0465    </td><td>0         </td></tr>\n",
       "\t<tr><th scope=row>5</th><td>0.07273124</td><td>0         </td><td>0.125     </td><td>0.0430    </td><td>0         </td></tr>\n",
       "</tbody>\n",
       "</table>\n"
      ],
      "text/latex": [
       "\\begin{tabular}{r|lllll}\n",
       "  & varbvs\\_pip & susie\\_pip & logit\\_pip & pymc3\\_pip & is\\_signal\\\\\n",
       "\\hline\n",
       "\t0 & 0.07273518 & 0          & 0.125      & 0.0365     & 0         \\\\\n",
       "\t1 & 0.07273428 & 0          & 0.125      & 0.0450     & 0         \\\\\n",
       "\t2 & 0.07273342 & 0          & 0.125      & 0.0515     & 1         \\\\\n",
       "\t3 & 0.07273260 & 0          & 0.125      & 0.0405     & 0         \\\\\n",
       "\t4 & 0.07273186 & 0          & 0.125      & 0.0465     & 0         \\\\\n",
       "\t5 & 0.07273124 & 0          & 0.125      & 0.0430     & 0         \\\\\n",
       "\\end{tabular}\n"
      ],
      "text/markdown": [
       "\n",
       "| <!--/--> | varbvs_pip | susie_pip | logit_pip | pymc3_pip | is_signal |\n",
       "|---|---|---|---|---|---|\n",
       "| 0 | 0.07273518 | 0          | 0.125      | 0.0365     | 0          |\n",
       "| 1 | 0.07273428 | 0          | 0.125      | 0.0450     | 0          |\n",
       "| 2 | 0.07273342 | 0          | 0.125      | 0.0515     | 1          |\n",
       "| 3 | 0.07273260 | 0          | 0.125      | 0.0405     | 0          |\n",
       "| 4 | 0.07273186 | 0          | 0.125      | 0.0465     | 0          |\n",
       "| 5 | 0.07273124 | 0          | 0.125      | 0.0430     | 0          |\n",
       "\n"
      ],
      "text/plain": [
       "  varbvs_pip susie_pip logit_pip pymc3_pip is_signal\n",
       "0 0.07273518 0         0.125     0.0365    0        \n",
       "1 0.07273428 0         0.125     0.0450    0        \n",
       "2 0.07273342 0         0.125     0.0515    1        \n",
       "3 0.07273260 0         0.125     0.0405    0        \n",
       "4 0.07273186 0         0.125     0.0465    0        \n",
       "5 0.07273124 0         0.125     0.0430    0        "
      ]
     },
     "metadata": {},
     "output_type": "display_data"
    }
   ],
   "source": [
    "head(calib)"
   ]
  },
  {
   "cell_type": "code",
   "execution_count": 26,
   "metadata": {
    "kernel": "R"
   },
   "outputs": [],
   "source": [
    "pip_cali = list()\n",
    "for (name in rev(colnames(calib))[-1]) {\n",
    "    for (i in 1:nrow(bins)) {\n",
    "        tmp = calib[which(calib[[name]] > bins[i,1] & calib[[name]] < bins[i,2]), ]\n",
    "        if (is.null(pip_cali[[name]])) pip_cali[[name]] = c(sum(tmp[[name]]), sum(tmp$is_signal), length(tmp$is_signal))\n",
    "        else pip_cali[[name]] = rbind(pip_cali[[name]], c(sum(tmp[[name]]), sum(tmp$is_signal), length(tmp$is_signal)))\n",
    "    }\n",
    "    pip_cali[[name]][which(is.na(pip_cali[[name]]))] = 0\n",
    "}"
   ]
  },
  {
   "cell_type": "code",
   "execution_count": 61,
   "metadata": {
    "kernel": "R"
   },
   "outputs": [],
   "source": [
    "pip_cali = list()\n",
    "for (s in 1:length(dat)) { # 1,2,3,4,5\n",
    "    res = dat[[as.character(s)]] # res = calib\n",
    "    pip_cali[[as.character(s)]] = list()\n",
    "    for (name in rev(colnames(res))[-1]) { # susie, susierss, caviar, finemap, finemapv3, is_signal\n",
    "        for (i in 1:nrow(bins)) {\n",
    "            tmp = res[which(res[[name]] > bins[i,1] & res[[name]] < bins[i,2]),]\n",
    "            if (is.null(pip_cali[[as.character(s)]][[name]])) pip_cali[[as.character(s)]][[name]] = c(sum(tmp[[name]]), sum(tmp$is_signal), length(tmp$is_signal))\n",
    "            else pip_cali[[as.character(s)]][[name]] = rbind(pip_cali[[as.character(s)]][[name]], c(sum(tmp[[name]]), sum(tmp$is_signal), length(tmp$is_signal)))\n",
    "        }\n",
    "        pip_cali[[as.character(s)]][[name]][which(is.na(pip_cali[[as.character(s)]][[name]]))] = 0\n",
    "    }\n",
    "}"
   ]
  },
  {
   "cell_type": "code",
   "execution_count": 27,
   "metadata": {
    "kernel": "R"
   },
   "outputs": [],
   "source": [
    "get_cali = function(alist, col) { # alist = pip_cali\n",
    "    res = alist[[col]]\n",
    "    if (!is.null(alist[[col]])) res = res + alist[[col]]\n",
    "    res[,c(1,2)] = res[,c(1,2)] / res[,3]\n",
    "    return(res[-1,])\n",
    "}"
   ]
  },
  {
   "cell_type": "code",
   "execution_count": 28,
   "metadata": {
    "kernel": "R"
   },
   "outputs": [],
   "source": [
    "res = get_cali(pip_cali, \"logit_pip\")"
   ]
  },
  {
   "cell_type": "code",
   "execution_count": 111,
   "metadata": {
    "kernel": "R"
   },
   "outputs": [],
   "source": [
    "saveRDS(list(\"susie\" = get_cali(pip_cali, 'susie_pip'),\n",
    "             \"logit\" = get_cali(pip_cali, 'logit_pip'),\n",
    "             \"varbvs\" = get_cali(pip_cali, 'varbvs_pip'),\n",
    "             \"pymc3\" = get_cali(pip_cali, 'pymc3_pip')),\n",
    "             \"/home/min/GIT/cnv-gene-mapping/data/deletion_simu/tmp.RDS\")"
   ]
  },
  {
   "cell_type": "code",
   "execution_count": 121,
   "metadata": {
    "kernel": "R"
   },
   "outputs": [],
   "source": [
    "dat = readRDS(\"/home/min/GIT/cnv-gene-mapping/data/deletion_simu/tmp.RDS\")"
   ]
  },
  {
   "cell_type": "code",
   "execution_count": 125,
   "metadata": {
    "kernel": "R"
   },
   "outputs": [],
   "source": [
    "dot_plot = function(dataframe) {\n",
    "  ggplot(dataframe, aes(x=mean_pip, y=observed_freq)) +\n",
    "    geom_errorbar(aes(ymin=observed_freq-se, ymax=observed_freq+se), colour=\"gray\", size = 0.2, width=.01) +\n",
    "    geom_point(size=1.5, shape=21, fill=\"#002b36\") + # 21 is filled circle\n",
    "    xlab(\"Mean PIP\") +\n",
    "    ylab(\"Observed frequency\") +\n",
    "    coord_cartesian(ylim=c(0,1), xlim=c(0,1)) +\n",
    "    geom_abline(slope=1,intercept=0,colour='red', size=0.2) +\n",
    "    ggtitle(name) +\n",
    "    expand_limits(y=0) + \n",
    "    theme_cowplot()\n",
    "}"
   ]
  },
  {
   "cell_type": "code",
   "execution_count": 130,
   "metadata": {
    "kernel": "R"
   },
   "outputs": [
    {
     "name": "stderr",
     "output_type": "stream",
     "text": [
      "Warning message:\n",
      "“Removed 12 rows containing missing values (geom_errorbar).”Warning message:\n",
      "“Removed 1 rows containing missing values (geom_point).”Warning message:\n",
      "“Removed 8 rows containing missing values (geom_errorbar).”Warning message:\n",
      "“Removed 8 rows containing missing values (geom_errorbar).”Warning message:\n",
      "“Removed 2 rows containing missing values (geom_point).”Warning message:\n",
      "“Removed 8 rows containing missing values (geom_errorbar).”Warning message:\n",
      "“Removed 2 rows containing missing values (geom_point).”"
     ]
    }
   ],
   "source": [
    "idx = 0\n",
    "for (name in names(dat)) {\n",
    "    idx = idx + 1\n",
    "    dat[[name]][,3] = sqrt(dat[[name]][,2] * (1 - dat[[name]][,2]) / dat[[name]][,3]) * 2\n",
    "    dat[[name]] = as.data.frame(dat[[name]])\n",
    "    colnames(dat[[name]]) = c(\"mean_pip\", \"observed_freq\", \"se\")\n",
    "    pdf(paste0(\"/home/min/GIT/cnv-gene-mapping/data/deletion_simu/\", name, '_' , idx, '.pdf'), width=3, height=3, pointsize=16)\n",
    "    print(dot_plot(dat[[name]]))\n",
    "    dev.off()\n",
    "    system(paste0(\"convert -flatten -density 120 \", \"/home/min/GIT/cnv-gene-mapping/data/deletion_simu/\", name, '_' , idx, '.pdf', \" \", \n",
    "                  \"/home/min/GIT/cnv-gene-mapping/data/deletion_simu/\", name, '_' , idx, '.png'))\n",
    "}"
   ]
  },
  {
   "cell_type": "code",
   "execution_count": 122,
   "metadata": {
    "kernel": "R"
   },
   "outputs": [
    {
     "data": {
      "text/html": [
       "<ol class=list-inline>\n",
       "\t<li>'susie'</li>\n",
       "\t<li>'logit'</li>\n",
       "\t<li>'varbvs'</li>\n",
       "\t<li>'pymc3'</li>\n",
       "</ol>\n"
      ],
      "text/latex": [
       "\\begin{enumerate*}\n",
       "\\item 'susie'\n",
       "\\item 'logit'\n",
       "\\item 'varbvs'\n",
       "\\item 'pymc3'\n",
       "\\end{enumerate*}\n"
      ],
      "text/markdown": [
       "1. 'susie'\n",
       "2. 'logit'\n",
       "3. 'varbvs'\n",
       "4. 'pymc3'\n",
       "\n",
       "\n"
      ],
      "text/plain": [
       "[1] \"susie\"  \"logit\"  \"varbvs\" \"pymc3\" "
      ]
     },
     "metadata": {},
     "output_type": "display_data"
    }
   ],
   "source": [
    "names(dat)"
   ]
  },
  {
   "cell_type": "code",
   "execution_count": null,
   "metadata": {
    "kernel": "R"
   },
   "outputs": [],
   "source": []
  },
  {
   "cell_type": "code",
   "execution_count": 29,
   "metadata": {
    "kernel": "R"
   },
   "outputs": [
    {
     "name": "stderr",
     "output_type": "stream",
     "text": [
      "Keyboard Interrupt\n"
     ]
    }
   ],
   "source": [
    "library(ggplot2)\n",
    "library(cowplot)\n",
    "library(dplyr)\n",
    "## Functions\n",
    "get_cali = function(alist, col) {\n",
    "  res = alist[[1]][[col]]\n",
    "  if(length(alist) > 1){\n",
    "    for (i in 2:length(alist)) {\n",
    "      if (!is.null(alist[[i]][[col]])) res = res + alist[[i]][[col]]\n",
    "    }\n",
    "  }\n",
    "  res[,c(1,2)] = res[,c(1,2)] / res[,3]\n",
    "  return(res[-1,])\n",
    "}\n",
    "dot_plot = function(dataframe) {\n",
    "  ggplot(dataframe, aes(x=mean_pip, y=observed_freq)) +\n",
    "    geom_errorbar(aes(ymin=observed_freq-se, ymax=observed_freq+se), colour=\"gray\", size = 0.2, width=.01) +\n",
    "    geom_point(size=1.5, shape=21, fill=\"#002b36\") + # 21 is filled circle\n",
    "    xlab(\"Mean PIP\") +\n",
    "    ylab(\"Observed frequency\") +\n",
    "    coord_cartesian(ylim=c(0,1), xlim=c(0,1)) +\n",
    "    geom_abline(slope=1,intercept=0,colour='red', size=0.2) +\n",
    "    ggtitle(name) +\n",
    "    expand_limits(y=0) +                        # Expand y range\n",
    "    theme_cowplot()\n",
    "}\n",
    "\n",
    "## parameters\n",
    "addz = c(FALSE, TRUE)\n",
    "ldmethod = c('in_sample', 'ref_sample')\n",
    "estimate_resid = c(FALSE, TRUE)\n",
    "lambda = c(0, 1e-04, 0.1)\n",
    "all.comb = expand.grid(addz, ldmethod, estimate_resid, lambda)\n",
    "colnames(all.comb) = c('addz', 'ldmethod', 'estimate_resid', 'lambda')\n",
    "all.comb = all.comb %>% filter(!(ldmethod == 'in_sample' & addz == TRUE))\n",
    "\n",
    "bin_size = 20\n",
    "pip_cutoff = 0\n",
    "\n",
    "for (case in 1:nrow(all.comb)){\n",
    "  addz = all.comb[case, 'addz']\n",
    "  ldmethod = all.comb[case, 'ldmethod']\n",
    "  estimate_resid = all.comb[case, 'estimate_resid']\n",
    "  lambda = all.comb[case, 'lambda']\n",
    "  input = \"/home/min/Downloads/susie_rss_ukb_default_pip_AZFALSE_ldin_sample_ERFALSE_lamb0.rds\"\n",
    "  output_name = \"/home/min/Downloads/tmp\"\n",
    "  output = paste0(output_name,'.rds')\n",
    "  \n",
    "  dat = readRDS(input)\n",
    "  pip_cali = list()\n",
    "  bins = cbind(seq(1:bin_size)/bin_size-1/bin_size, seq(1:bin_size)/bin_size)\n",
    "  for (s in 1:length(dat)) {\n",
    "    res = dat[[as.character(s)]]\n",
    "    pip_cali[[as.character(s)]] = list()\n",
    "    for (name in rev(colnames(res))[-1]) {\n",
    "      for (i in 1:nrow(bins)) {\n",
    "        tmp = res[which(res[[name]] > bins[i,1] & res[[name]] < bins[i,2]),]\n",
    "        if (is.null(pip_cali[[as.character(s)]][[name]])) pip_cali[[as.character(s)]][[name]] = c(sum(tmp[[name]]), sum(tmp$is_signal), length(tmp$is_signal))\n",
    "        else pip_cali[[as.character(s)]][[name]] = rbind(pip_cali[[as.character(s)]][[name]], c(sum(tmp[[name]]), sum(tmp$is_signal), length(tmp$is_signal)))\n",
    "      }\n",
    "      pip_cali[[as.character(s)]][[name]][which(is.na(pip_cali[[as.character(s)]][[name]]))] = 0\n",
    "    }\n",
    "  }\n",
    "  saveRDS(list(\"SuSiE\"=get_cali(pip_cali, 'susie'),\n",
    "               \"SuSiE-RSS\"=get_cali(pip_cali, 'susierss'),\n",
    "               \"CAVIAR\"=get_cali(pip_cali, 'caviar'),\n",
    "               \"FINEMAP\"=get_cali(pip_cali, 'finemap'),\n",
    "               \"FINEMAPv3\"=get_cali(pip_cali, 'finemapv3')),\n",
    "          output)\n",
    "  \n",
    "  dat = readRDS(output)\n",
    "  idx = 0\n",
    "  for (name in names(dat)) {\n",
    "    idx = idx + 1\n",
    "    dat[[name]][,3] = sqrt(dat[[name]][,2] * (1 - dat[[name]][,2]) / dat[[name]][,3]) * 2\n",
    "    dat[[name]] = as.data.frame(dat[[name]])\n",
    "    colnames(dat[[name]]) = c(\"mean_pip\", \"observed_freq\", \"se\")\n",
    "    pdf(paste0(output_name, '_' , idx, '.pdf'), width=3, height=3, pointsize=16)\n",
    "    print(dot_plot(dat[[name]]))\n",
    "    dev.off()\n",
    "    system(paste0(\"convert -flatten -density 120 \", output_name, '_' , idx, '.pdf', \" \", output_name, '_' , idx, '.png'))\n",
    "  }\n",
    "  files = paste0(output_name, '_', seq(1:idx), '.png')\n",
    "  cmd = paste('convert +append', paste(files, collapse=\" \"), paste0(output_name, '.png'))\n",
    "  system(cmd)\n",
    "  # system(paste('rm -f', paste(files, collapse=\" \")))\n",
    "  \n",
    "}"
   ]
  },
  {
   "cell_type": "code",
   "execution_count": null,
   "metadata": {
    "kernel": "R"
   },
   "outputs": [],
   "source": []
  },
  {
   "cell_type": "code",
   "execution_count": null,
   "metadata": {
    "kernel": "R"
   },
   "outputs": [],
   "source": []
  },
  {
   "cell_type": "code",
   "execution_count": null,
   "metadata": {
    "kernel": "R"
   },
   "outputs": [],
   "source": []
  }
 ],
 "metadata": {
  "kernelspec": {
   "display_name": "SoS",
   "language": "sos",
   "name": "sos"
  },
  "language_info": {
   "codemirror_mode": "sos",
   "file_extension": ".sos",
   "mimetype": "text/x-sos",
   "name": "sos",
   "nbconvert_exporter": "sos_notebook.converter.SoS_Exporter",
   "pygments_lexer": "sos"
  },
  "sos": {
   "kernels": [
    [
     "R",
     "ir",
     "R",
     "#DCDCDA",
     "r"
    ],
    [
     "SoS",
     "sos",
     "",
     "",
     "sos"
    ]
   ],
   "version": "0.20.5"
  }
 },
 "nbformat": 4,
 "nbformat_minor": 4
}
