{
 "cells": [
  {
   "cell_type": "markdown",
   "metadata": {},
   "source": [
    "# Overview of DAP on Calcium Pathway Simulation"
   ]
  },
  {
   "cell_type": "markdown",
   "metadata": {},
   "source": [
    "Calcium pathway signaling (KEGG:hsa04020) includes 178 genes:\n",
    "    \n",
    "    'ADCY1', 'ADCY2', 'ADCY3', 'ADCY4', 'ADCY7', 'ADCY8', 'ADCY9', 'ADORA2A', 'ADORA2B', 'ADRA1A', 'ADRA1B', 'ADRA1D', 'ADRB1', 'ADRB2', 'ADRB3', 'AGTR1', 'ATP2A1', 'ATP2A2', 'ATP2A3', 'ATP2B1', 'ATP2B2', 'ATP2B3', 'ATP2B4', 'AVPR1A', 'AVPR1B', 'BDKRB1', 'BDKRB2', 'BST1', 'CACNA1A', 'CACNA1B', 'CACNA1C', 'CACNA1D', 'CACNA1E', 'CACNA1F', 'CACNA1G', 'CACNA1H', 'CACNA1I', 'CACNA1S', 'CALM1', 'CALM2', 'CALM3', 'CALML3', 'CALML5', 'CALML6', 'CAMK2A', 'CAMK2B', 'CAMK2D', 'CAMK2G', 'CAMK4', 'CCKAR', 'CCKBR', 'CD38', 'CHP', 'CHP2', 'CHRM1', 'CHRM2', 'CHRM3', 'CHRM5', 'CHRNA7', 'CYSLTR1', 'CYSLTR2', 'DRD1', 'DRD5', 'EDNRA', 'EDNRB', 'EGFR', 'ERBB2', 'ERBB3', 'ERBB4', 'F2R', 'GNA11', 'GNA14', 'GNA15', 'GNAL', 'GNAQ', 'GNAS', 'GRIN1', 'GRIN2A', 'GRIN2C', 'GRIN2D', 'GRM1', 'GRM5', 'GRPR', 'HRH1', 'HRH2', 'HTR2A', 'HTR2B', 'HTR2C', 'HTR4', 'HTR5A', 'HTR6', 'HTR7', 'ITPKA', 'ITPKB', 'ITPR1', 'ITPR2', 'ITPR3', 'LHCGR', 'LOC729317', 'LTB4R2', 'MYLK', 'MYLK2', 'MYLK3', 'NOS1', 'NOS2', 'NOS3', 'NTSR1', 'OXTR', 'P2RX1', 'P2RX2', 'P2RX3', 'P2RX4', 'P2RX5', 'P2RX6', 'P2RX7', 'PDE1A', 'PDE1B', 'PDE1C', 'PDGFRA', 'PDGFRB', 'PHKA1', 'PHKA2', 'PHKB', 'PHKG1', 'PHKG2', 'PLCB1', 'PLCB2', 'PLCB3', 'PLCB4', 'PLCD1', 'PLCD3', 'PLCD4', 'PLCE1', 'PLCG1', 'PLCG2', 'PLCZ1', 'PLN', 'PPID', 'PPP3CA', 'PPP3CB', 'PPP3CC', 'PPP3R1', 'PPP3R2', 'PRKACA', 'PRKACB', 'PRKACG', 'PRKCA', 'PRKCB', 'PRKCG', 'PRKX', 'PTAFR', 'PTGER1', 'PTGER3', 'PTGFR', 'PTK2B', 'RYR1', 'RYR2', 'RYR3', 'SLC25A31', 'SLC25A4', 'SLC25A5', 'SLC25A6', 'SLC8A1', 'SLC8A2', 'SLC8A3', 'SPHK1', 'SPHK2', 'TACR1', 'TACR2', 'TACR3', 'TBXA2R', 'TNNC1', 'TNNC2', 'TRHR', 'TRPC1', 'VDAC1', 'VDAC2', 'VDAC3'"
   ]
  },
  {
   "cell_type": "markdown",
   "metadata": {},
   "source": [
    "### DAP for calcium pathway simulation\n",
    "#### sample size = 4000, gamma shape = 5\n",
    "High-probability association models:\n",
    "\n",
    "For example, the posterior probability of the association model for [chr12.P2RX7], [chr9.GNA14] and [chr17.ATP2A3] is $0.26163$.\n",
    "\n",
    "The unnormalized posterior score $\\text{log}_{10}(prior) + \\text{log}_{10}(BF)$ is $3.569$.\n",
    "\n",
    "    1   2.6163e-01    3      3.569   [chr12.P2RX7] [chr9.GNA14] [chr17.ATP2A3]\n",
    "    2   2.0212e-01    2      3.457   [chr9.GNA14] [chr17.ATP2A3]\n",
    "    3   1.4066e-01    2      3.300   [chr12.P2RX7] [chr17.ATP2A3]\n",
    "    4   1.2398e-01    1      3.245   [chr17.ATP2A3]\n",
    "    5   9.5602e-02    3      3.132   [chr12.P2RX7] [chr17.P2RX1] [chr9.GNA14]\n",
    "    6   7.4881e-02    2      3.026   [chr17.P2RX1] [chr9.GNA14]\n",
    "    7   5.2177e-02    2      2.869   [chr12.P2RX7] [chr17.P2RX1]\n",
    "    8   4.6612e-02    1      2.820   [chr17.P2RX1]\n",
    "    \n",
    "Posterior inclusion probabilities (PIP) for top ranked genes:\n",
    "\n",
    "For example, PIP for [chr17.ATP2A3] is $0.7293$.\n",
    "\n",
    "The last column gives $\\text{log}_{10}$ Bayes factor of the corresponding SNP/gene in single-SNP/gene testing.\n",
    "    \n",
    "    Posterior expected model size: 2.186 (sd = 0.705)\n",
    "    LogNC = 9.55939 ( Log10NC = 4.152 )\n",
    "    Posterior inclusion probability\n",
    "\n",
    "    1 chr17.ATP2A3   7.29341e-01      7.022\n",
    "    2 chr9.GNA14   6.34910e-01      3.444\n",
    "    3 chr12.P2RX7   5.50651e-01      3.296\n",
    "    4 chr17.P2RX1   2.70217e-01      6.597"
   ]
  },
  {
   "cell_type": "markdown",
   "metadata": {},
   "source": [
    "#### sample size = 1000, gamma shape = 25\n",
    "High-probability association models:\n",
    "\n",
    "    1   4.5037e-01    0     -0.434   [NULL]\n",
    "    2   9.7056e-03    1     -2.101   [chr3.ITPR1]\n",
    "    3   6.4605e-03    1     -2.278   [chr19.GNA15]\n",
    "    4   6.4605e-03    1     -2.278   [chr4.CD38]\n",
    "    5   6.4605e-03    1     -2.278   [chr19.GNA11]\n",
    "    6   6.4605e-03    1     -2.278   [chr4.BST1]\n",
    "    7   4.4507e-03    1     -2.439   [chr20.PLCB1]\n",
    "    8   4.3509e-03    1     -2.449   [chr9.GNA14]\n",
    "\n",
    "    Posterior expected model size: 0.550 (sd = 0.498)\n",
    "    LogNC = -0.20240 ( Log10NC = -0.088 )\n",
    "    Posterior inclusion probability\n",
    "\n",
    "    1 chr3.ITPR1   9.85832e-03      1.423\n",
    "    2 chr19.GNA15   6.61322e-03      1.246\n",
    "    3  chr4.CD38   6.46047e-03      1.246\n",
    "    4 chr19.GNA11   6.46047e-03      1.246\n",
    "    5  chr4.BST1   6.46047e-03      1.246\n",
    "    6 chr20.PLCB1   4.45072e-03      1.084\n",
    "    7 chr9.GNA14   4.35087e-03      1.074"
   ]
  },
  {
   "cell_type": "markdown",
   "metadata": {},
   "source": [
    "### DAP-greedy: improved Adaptive DAP Algorithm\n",
    "#### New features\n",
    "1). Automatic signal clustering: the output now automatically identifies potentially multiple independent association signal clusters, and provides information on cluster memberships and the correlation within and between clusters.\n",
    "\n",
    "2). Improved efficiency: the adaptive DAP algorithm runs more efficiently by focusing on a relatively smaller set of high-probability models.\n",
    "\n",
    "3). Default grid specification: there is a set of default grid values built-in, which is appropriate for analysis for a single genotype-phenotype data set or fixed-effect meta-analysis of multiple data sets."
   ]
  },
  {
   "cell_type": "markdown",
   "metadata": {},
   "source": [
    "#### sample size = 4000, gamma shape = 5: the PIP is slightly larger than DAP\n",
    "High-probability association models:\n",
    "\n",
    "    1   1.3184e-01    2      3.457   [chr17.ATP2A3] [chr9.GNA14]\n",
    "    2   9.1746e-02    2      3.300   [chr17.ATP2A3] [chr12.P2RX7]\n",
    "    3   9.1746e-02    2      3.300   [chr17.ATP2A3] [chr9.GNAQ]\n",
    "    4   8.0868e-02    1      3.245   [chr17.ATP2A3]\n",
    "    5   5.7422e-02    2      3.096   [chr17.ATP2A3] [chr19.GNA15]\n",
    "    6   5.7422e-02    2      3.096   [chr17.ATP2A3] [chr19.SLC8A2]\n",
    "    7   4.8842e-02    2      3.026   [chr17.P2RX1] [chr9.GNA14]\n",
    "    8   3.6063e-02    2      2.894   [chr17.ATP2A3] [chr12.P2RX4]\n",
    "    9   3.4033e-02    2      2.869   [chr17.P2RX1] [chr12.P2RX7]\n",
    "    10   3.4033e-02    2      2.869   [chr17.P2RX1] [chr9.GNAQ]\n",
    "    11   3.2409e-02    2      2.848   [chr17.ATP2A3] [chr20.PLCB1]\n",
    "    12   3.0403e-02    1      2.820   [chr17.P2RX1]\n",
    "    13   2.2736e-02    2      2.694   [chr17.ATP2A3] [chr19.GNA11]\n",
    "    14   2.1316e-02    2      2.666   [chr17.P2RX1] [chr19.SLC8A2]\n",
    "    15   2.1316e-02    2      2.666   [chr17.P2RX1] [chr19.GNA15]\n",
    "    16   1.3397e-02    2      2.464   [chr17.P2RX1] [chr12.P2RX4]\n",
    "    17   1.3379e-02    2      2.464   [chr17.ATP2A3] [chr20.PLCB4]\n",
    "    18   1.2011e-02    2      2.417   [chr17.P2RX1] [chr20.PLCB1]\n",
    "\n",
    "    Posterior expected model size: 1.970 (sd = 0.442)\n",
    "    LogNC = 9.98670 ( Log10NC = 4.337 )\n",
    "    Posterior inclusion probability\n",
    "\n",
    "    ((1))\t   chr17.ATP2A3\t7.45620e-01\t  7.022\t1\n",
    "    ((2))\t    chr17.P2RX1\t2.53419e-01\t  6.597\t1\n",
    "    ((3))\t     chr9.GNA14\t2.13311e-01\t  3.444\t2\n",
    "    ((4))\t      chr9.GNAQ\t1.44423e-01\t  3.296\t2\n",
    "    ((5))\t    chr12.P2RX7\t1.42302e-01\t  3.296\t2\n",
    "    ((6))\t    chr19.GNA15\t8.43529e-02\t  3.098\t2\n",
    "    ((7))\t   chr19.SLC8A2\t8.34754e-02\t  3.098\t2\n",
    "    ((8))\t    chr12.P2RX4\t5.19484e-02\t  2.901\t2\n",
    "    ((9))\t    chr20.PLCB1\t4.58337e-02\t  2.838\t2\n",
    "    ((10))\t    chr19.GNA11\t3.11916e-02\t  2.707\t2\n",
    "    ((11))\t    chr20.PLCB4\t1.83495e-02\t  2.469\t2\n",
    "\n",
    "    Independent association signal clusters\n",
    "\n",
    "\t cluster \t member_snp\t cluster_pip\t  average_r2\n",
    "\t   {1}\t\t    2\t\t 9.990e-01 \t    0.900    \t\t  0.900\t  0.000\t\n",
    "\t   {2}\t\t   25\t\t 8.879e-01 \t    0.077    \t\t  0.000\t  0.077\t"
   ]
  },
  {
   "cell_type": "markdown",
   "metadata": {},
   "source": [
    "#### sample size = 1000, gamma shape = 25:  the PIP is slightly larger than DAP\n",
    "High-probability association models:\n",
    "\n",
    "    1   4.4834e-01    0     -0.434   [NULL]\n",
    "    2   9.6618e-03    1     -2.101   [chr3.ITPR1]\n",
    "    3   6.4313e-03    1     -2.278   [chr19.GNA15]\n",
    "    4   6.4313e-03    1     -2.278   [chr4.CD38]\n",
    "    5   6.4313e-03    1     -2.278   [chr19.GNA11]\n",
    "    6   6.4313e-03    1     -2.278   [chr4.BST1]\n",
    "    7   4.4307e-03    1     -2.439   [chr20.PLCB1]\n",
    "    8   4.3313e-03    1     -2.449   [chr9.GNA14]\n",
    "\n",
    "    Posterior expected model size: 0.554 (sd = 0.504)\n",
    "    LogNC = -0.19789 ( Log10NC = -0.086 )\n",
    "    Posterior inclusion probability\n",
    "\n",
    "    ((1))\t     chr3.ITPR1\t1.01033e-02\t  1.423\t1\n",
    "    ((2))\t      chr4.CD38\t6.72646e-03\t  1.246\t1\n",
    "    ((3))\t      chr4.BST1\t6.72646e-03\t  1.246\t1\n",
    "    ((4))\t    chr19.GNA15\t6.71677e-03\t  1.246\t1\n",
    "    ((5))\t    chr19.GNA11\t6.71677e-03\t  1.246\t1\n"
   ]
  },
  {
   "cell_type": "markdown",
   "metadata": {},
   "source": [
    "### Next step\n",
    "For the results listed above, I put the whole genome into DAP instead of the many CNV regions (CNVs in one region do not overlap with any other regions). I will next separate the whole genome into CNV regions. And there is probably many regions on each chromosome. For each region, a multi-gene fine-mapping analysis (DAP) will run."
   ]
  }
 ],
 "metadata": {
  "kernelspec": {
   "display_name": "SoS",
   "language": "sos",
   "name": "sos"
  },
  "language_info": {
   "file_extension": ".sos",
   "mimetype": "text/x-sos",
   "name": "sos",
   "nbconvert_exporter": "sos.jupyter.converter.SoS_Exporter",
   "pygments_lexer": "python"
  },
  "sos": {
   "kernels": [
    [
     "SoS",
     "sos",
     "",
     ""
    ],
    [
     "python",
     "python3",
     "",
     ""
    ]
   ]
  }
 },
 "nbformat": 4,
 "nbformat_minor": 2
}
