{
 "cells": [
  {
   "cell_type": "markdown",
   "metadata": {
    "kernel": "SoS"
   },
   "source": [
    "# CNV Abstract\n",
    "For gene mapping"
   ]
  },
  {
   "cell_type": "markdown",
   "metadata": {
    "kernel": "SoS"
   },
   "source": [
    "## Me"
   ]
  },
  {
   "cell_type": "markdown",
   "metadata": {
    "kernel": "SoS"
   },
   "source": [
    "A novel method to leverage copy number variations (CNVs) for gene mapping for psychiatric disorders\n",
    "\n",
    "\n",
    "Through almost two decades, genome-wide association studies (GWAS) have been the main strategy to identify susceptible or causal variants or genes and understand underlying mechanisms for complex trait diseases. However, they gained limited achievement for early-onset disorders such as autism. Consequently, another strategy integrating CNVs has recently came into view for psychiatric disorders. CNVs are large genomic duplication or deletion events. Preliminary studies have proved that CNVs are an important source of genetic variation affecting many neurodevelopmental disorders. The challenge emerges that CNVs often span multiple genes, and the susceptible gene(s) is often unclear. We seek to develop a statistical framework that leverage genome-wide CNVs for mapping susceptibility genes of psychiatric diseases, and link these findings with those from single-nucleotide variants (SNVs). The advantage of our method is that its highly integrative characteristic, which can use enrichment results to re-rank genes and avoid a fixed cutoff.\n",
    "\n",
    "We assume that a disease-related CNV must contain at least one risk gene. By using available CNV data from case-control autism studies, we will infer the posterior probabilities of genes affecting the disease risk. We first match disjoint CNV blocks (i.e. no common CNVs between blocks) with existing genes, especially genes in biological pathways such as calcium signaling pathway, then estimate the prior probabilities of genes by empirical Bayes approach (TORUS???) as well as integrating annotations from biological pathways and genomic functions, and obtain the enrichment of susceptibility genes. Next, we perform gene mapping by an iterative process to calculate the posterior (SuSiE???) of each gene given information from previous steps. Finally, we interpret and combine with SNV-based studies.\n",
    "\n",
    "To achieve these, we first implement simulations to evaluate the Bayes factors of risk and non-risk genes and compare the power with related methods. All the sampling processes will based on real genomic and CNV data. Then we will apply the methods to real CNV datasets, and evaluate the current and predicted autism risk genes incorporating with SNVs shown signals of association with the disorder."
   ]
  },
  {
   "cell_type": "markdown",
   "metadata": {
    "kernel": "SoS"
   },
   "source": [
    "1674W"
   ]
  },
  {
   "cell_type": "markdown",
   "metadata": {
    "kernel": "SoS"
   },
   "source": [
    "## Gao"
   ]
  },
  {
   "cell_type": "markdown",
   "metadata": {
    "kernel": "SoS"
   },
   "source": [
    "TITLE: A novel method to leverage copy number variations for gene mapping for psychiatric disorders\n",
    "\n",
    "AUTHORS: M. Qiao, G. Wang and X. He\n",
    "\n",
    "\n",
    "For over a decade, genome-wide association studies (GWAS) have been the main strategy to uncover genetic architecture of complex diseases and traits. GWAS typically focus on studying single nucleotide polymorphisms (SNPs). Despite its success in a wide range of disease applications, SNPs thus discovered explain limited heritability in disorders of cognitive development such as Schizophrenia (SCZ). Copy number variations (CNV), on the other hand, are believed to play a critical role in complex disease etiology. CNVs are large genomic duplication or deletion events. Previous studies have suggested that CNVs are an important source of genetic variation affecting many neurodevelopmental disorders. However, since CNVs often span multiple genes, distinguish the susceptible gene(s) from other genes in the same CNV event is a difficult problem. Results of CNV associations are thus difficult to interpret. This hurdles the use of CNV data to unravel the genetics of complex diseases.\n",
    "\n",
    "To address the challenge we developed a new approach that exploits large-scale genome-wide CNV data to map genes for psychiatric disorders. Unlike existing approaches that directly test for CNV associations, the new method seeks to identify in CNV events susceptibility genes in a rigorous statistical framework. Genome-wide CNV data are first clustered into disjoint analysis blocks, i.e. no CNV spans between any two blocks. For genes within a block we test for disease associations while accounting for correlations with other genes induced by CNV in the same block. We leverage knowledge of known biological pathways, e.g., calcium signaling pathway for SCZ, by applying tools developed for enrichment in GWAS (Wen 2016) to provide prior probability of association for CNV disrupted genes. We then develop dummy coding for genes in different CNV events (insertion, deletion, inversion, etc), and extended recently developed Bayesian variable selection method (Wang et al 2018) to model effect size for these events. Posterior probability of association as well as Bayes factor are obtained for genes, along with 95% credible sets each designed to capture one susceptibility gene. Using this new approach we perform gene-level association testing in several case-control CNV datasets such as SCZ. Our method identifies disease genes from CNV data, and has the potential to integrate with SNP data, elucidating the etiology of complex diseases from independent sources.\n"
   ]
  },
  {
   "cell_type": "markdown",
   "metadata": {
    "kernel": "SoS"
   },
   "source": [
    "## Dr. He\n",
    "2619 Characters"
   ]
  },
  {
   "cell_type": "markdown",
   "metadata": {
    "kernel": "SoS"
   },
   "source": [
    "TITLE: A novel statistical method to identify susceptibility genes from copy number variations\n",
    "\n",
    "AUTHORS: M. Qiao, G. Wang and X. He\n",
    "\n",
    "\n",
    "For over a decade, genome-wide association studies (GWAS) have been the main strategy to uncover genetic architecture of complex diseases and traits. GWAS typically focus on studying single nucleotide polymorphisms (SNPs). Despite its success in a wide range of disease applications, SNPs thus discovered explain limited heritability in disorders of cognitive development such as Schizophrenia (SCZ). Copy number variations (CNV), on the other hand, are believed to play a critical role in complex disease etiology. CNVs are large genomic duplication or deletion events. Previous studies have suggested that CNVs are an important source of genetic variation affecting many neurodevelopmental disorders. However, since CNVs often span multiple genes, distinguish the susceptible gene(s) from other genes in the same CNV event is a difficult problem. Results of CNV associations are thus difficult to interpret. This hurdles the use of CNV data to unravel the genetics of complex diseases.\n",
    "\n",
    "To address the challenge we developed a new approach that exploits large-scale genome-wide CNV data in case-control studies to map genes for psychiatric disorders. Our approach is inspired by statistical fine-mapping of causal variants in linkage-disequilibrium blocks from GWAS. Unlike existing approaches that directly test for CNV associations with the traits, the new method seeks to identify in CNV events true susceptibility genes in a rigorous statistical framework. Genome-wide CNV data are first clustered into disjoint analysis blocks, i.e. no CNV spans between any two blocks. For genes within a block we test for disease associations while accounting for correlations among genes induced by CNV in the same block. We accomplish this by extension of a recently developed Bayesian variable selection method, SuSiE (Wang et al 2018). Our method thus selects a small number of putative risk genes among multiple correlated ones that best explain the CNV-phenotype data. Additionally, we leverage knowledge of known biological pathways to set prior probabilities of genes in CNV events to increase the power. Our model estimates posterior probabilities of all putative risk genes as well as 95% credible sets (i.e. the set of genes that cover all risk genes with high probability). Using this new approach we perform gene-level analysis in several case-control CNV datasets in SCZ. Since our method reports the statistical confidence of genes, it can be easily integrated with other gene-level datasets, e.g. results from exome-sequencing studies. This provides a powerful strategy to integrate data from independent sources.\n"
   ]
  },
  {
   "cell_type": "markdown",
   "metadata": {
    "kernel": "SoS"
   },
   "source": [
    "## Final"
   ]
  },
  {
   "cell_type": "markdown",
   "metadata": {
    "kernel": "SoS"
   },
   "source": [
    "For over a decade, genome-wide association studies (GWAS) have been the main strategy to uncover genetic architecture of complex diseases. GWAS typically focus on single nucleotide polymorphisms (SNPs). Despite its success in a wide range of disease applications, SNPs thus discovered explain limited heritability in cognitive disorders such as Schizophrenia (SCZ). Copy number variations (CNVs), on the other hand, are believed to play a critical role in complex disease etiology. CNVs are large genomic duplication or deletion events. Previous studies have suggested that CNVs are an important source of genetic variation affecting many neurodevelopmental disorders. However, since CNVs often span multiple genes, distinguish susceptible gene(s) from other genes in the same CNV event is difficult. Results of CNV associations are thus difficult to interpret. This hurdles the use of CNV data to unravel the genetics of complex diseases.\n",
    "\n",
    "To address the challenge we developed a new approach that exploits large-scale genome-wide CNV data in case-control studies to map genes. It is inspired by statistical fine-mapping of causal variants in linkage-disequilibrium blocks from GWAS. Unlike existing approaches that directly test for CNV associations, our method seeks to identify in CNV events true susceptible genes in a rigorous statistical framework. Genome-wide CNV data are first clustered into disjoint analysis blocks, i.e. no CNV spans between any two blocks. For genes within a block we test for disease associations while accounting for correlations among genes induced by CNV in the same block. We accomplish this by extension of a recently developed Bayesian variable selection method, SuSiE (Wang et al 2018). Our method thus selects a small number of putative risk genes among multiple correlated ones that best explain the CNV-phenotype data. Furthermore, we leverage knowledge of known biological pathways to set prior probabilities of genes in CNV events to increase power. Our model estimates posterior probabilities of all putative risk genes as well as 95% credible sets (i.e. the set of genes that cover all risk genes with high probability). Using this new approach we perform gene-level analysis in several case-control CNV datasets in SCZ. Since our method reports the statistical confidence of genes, it can be integrated with other gene-level datasets, e.g. results from exome-sequencing studies. This provides a powerful strategy to integrate data from independent sources.\n"
   ]
  },
  {
   "cell_type": "markdown",
   "metadata": {
    "kernel": "SoS"
   },
   "source": [
    "Trainee Members Only\n",
    "ASHG/Charles J. Epstein Trainee Awards for Excellence in Human Genetics Research\n",
    "\n",
    "This is the only opportunity you will have to apply for the Epstein Trainee Research Awards.\n",
    "\n",
    "Eligibility requirements:\n",
    "\n",
    "1. You MUST be an ASHG trainee member for the 2019 calendar year and be the first (presenting) author on this abstract. You can complete the membership application after you submit your abstract.\n",
    "2. Your Nominator (see below) MUST be an ASHG member and complete the online nomination form verifying your primary role in the work described in this abstract by June 28, 2019.\n",
    "If applying for an Epstein Trainee Research Award, select the type of award and provide the name and email address of your Nominator. All fields are required. Please inform your nominator about this submission and remind him/her to complete the form as soon as possible. Questions may be emailed to emantegani@ashg.org.\n",
    "\n",
    "Federal employees should check their policies to see if they are allowed to accept a monetary award prior to applying."
   ]
  },
  {
   "cell_type": "code",
   "execution_count": null,
   "metadata": {
    "kernel": "SoS"
   },
   "outputs": [],
   "source": []
  }
 ],
 "metadata": {
  "kernelspec": {
   "display_name": "SoS",
   "language": "sos",
   "name": "sos"
  },
  "language_info": {
   "codemirror_mode": "sos",
   "file_extension": ".sos",
   "mimetype": "text/x-sos",
   "name": "sos",
   "nbconvert_exporter": "sos_notebook.converter.SoS_Exporter",
   "pygments_lexer": "sos"
  },
  "sos": {
   "kernels": [
    [
     "SoS",
     "sos",
     "",
     ""
    ]
   ],
   "version": "0.19.4"
  }
 },
 "nbformat": 4,
 "nbformat_minor": 2
}
