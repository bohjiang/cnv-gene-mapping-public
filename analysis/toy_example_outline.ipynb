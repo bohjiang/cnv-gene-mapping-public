{
 "cells": [
  {
   "cell_type": "markdown",
   "metadata": {},
   "source": [
    "## Toy example of gene configuration overlapped with CNV"
   ]
  },
  {
   "cell_type": "markdown",
   "metadata": {},
   "source": [
    "#### Convergence of genes and CNV\n",
    "Suppose there are three adjacent genes, gene1, gene2 and gene3, on a genomic region. Only gene1 is causal gene. Simulated CNVs overlap with none, soly one, two adjacent or all the three genes.\n",
    "\n",
    "For one specific sample, each gene is either overlapped with one CNV or none, denoted as {0,1}. Whether the three genes overlap with CNV are denoted as one of the seven following scenarios: {0,0,0}, {1,0,0}, {0,1,0}, {0,0,1}, {1,1,0}, {0,1,1}, {1,1,1}.\n",
    "\n",
    "#### Cases and Controls assignment\n",
    "\n",
    "The fraction for each scenario is uncertain. Here I suppose {0,0,0} accounts for 0.5, the other six scenarios account for the other 0.5 evenly. For example, there are 600 samples for {0,0,0}, and 100 samples for the other six respectively. Half of all simulated samples are cases and the other are controls. Scenarios {0,0,0}, {0,1,0}, {0,0,1} and {0,1,1} tend to be controls, while the other three, {1,0,0}, {1,1,0} and {1,1,1}, tend to be cases, because they cover the causal gene. To determine the category, I simply simulated a normal random variable for each sample, and add a constant for each of those three scenarios, respectively, which tend to be cases. To be specific, 1.0/0.66 is added to {1,0,0}, 0.66/0.44 is added to {1,1,0}, 0.33/0.22 is added to {1,1,1}. These constants can be adjusted.\n",
    "\n",
    "| Number | Scenario | Constant added | \n",
    "|:-----:|:-----:|:-----:|\n",
    "| 600 | {0,0,0} | |\n",
    "| 100 | {1,0,0} | 1.0 or 0.66 |\n",
    "| 100 | {0,1,0} | |\n",
    "| 100 | {0,0,1} | |\n",
    "| 100 | {1,1,0} | 0.66 or 0.44 |\n",
    "| 100 | {0,1,1} | |\n",
    "| 100 | {1,1,1} | 0.33 or 0.22 |\n",
    "\n",
    "#### Methods\n",
    "1) Use R package varbvs to calculate the posterior inclusion probability (pip) for each gene.\n",
    "\n",
    "2) Calculate odds ratio and p-value of Fisher's exact test for each gene."
   ]
  },
  {
   "cell_type": "markdown",
   "metadata": {
    "collapsed": true
   },
   "source": [
    "#### Results\n",
    "1) Sample size: 1200,  constant added: $\\textbf{0.66, 0.44 and 0.22}$\n",
    "\n",
    "PIP for three genes:\n",
    "\n",
    "    variable\tprob\t    PVE\tcoef\t     Pr(coef.>0.95)\n",
    "    gene1\t0.999999816\tNA \t0.8815534\t[+0.620,+1.157]\n",
    "    gene2\t0.012486887\tNA\t-0.1412246\t[-0.394,+0.098]\n",
    "    gene3\t0.009969412\tNA\t-0.1118736\t[-0.377,+0.150]\n",
    "The pip for gene1 (causal) is close to 1 and pip for the other two genes are close to 0.\n",
    "\n",
    "Odds ratio for three genes: odds ratio for gene1 is most largest.\n",
    "\n",
    "    gene1    2.4518160045430979\n",
    "    gene2    1.1974117130949771\n",
    "    gene3    0.98237911337572137\n",
    "\n",
    "$-\\text{log}_{10}$(p-value) for three genes:\n",
    "\n",
    "    gene1    5.4061609811311113\n",
    "    gene2    0.798730116322797\n",
    "    gene3    0.0237162043415813\n",
    "\n",
    "2) Sample size: 1200,  constant added: $\\textbf{1.0, 0.66 and 0.33}$\n",
    "\n",
    "    variable\tprob\t   PVE\tcoef\t   Pr(coef.>0.95)\n",
    "\tgene1\t1.00000000\tNA\t 1.3036892\t[+1.028,+1.561]\n",
    "\tgene2\t0.04018127\tNA\t-0.2375393\t[-0.476,+0.010]\n",
    "\tgene3\t0.02796016\tNA\t-0.2240704\t[-0.488,+0.038]\n",
    "\n",
    "Odds ratio for three genes:\n",
    "\n",
    "    gene1    3.763157894736842\n",
    "    gene2    1.2527202527202528\n",
    "    gene3    0.91492378589152779\n",
    " \n",
    "$-\\text{log}_{10}$(p-value) for three genes:\n",
    "\n",
    "    gene1    5.4061609811311113\n",
    "    gene2    1.1209781660647247\n",
    "    gene3    0.2607852230581864"
   ]
  },
  {
   "cell_type": "code",
   "execution_count": null,
   "metadata": {
    "collapsed": true
   },
   "outputs": [],
   "source": []
  }
 ],
 "metadata": {
  "kernelspec": {
   "display_name": "Python 3",
   "language": "python",
   "name": "python3"
  },
  "language_info": {
   "codemirror_mode": {
    "name": "ipython",
    "version": 3
   },
   "file_extension": ".py",
   "mimetype": "text/x-python",
   "name": "python",
   "nbconvert_exporter": "python",
   "pygments_lexer": "ipython3",
   "version": "3.5.2"
  }
 },
 "nbformat": 4,
 "nbformat_minor": 2
}
