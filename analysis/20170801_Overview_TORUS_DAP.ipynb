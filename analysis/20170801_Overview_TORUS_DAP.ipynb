{
 "cells": [
  {
   "cell_type": "markdown",
   "metadata": {},
   "source": [
    "# Overview of DAP and TORUS"
   ]
  },
  {
   "cell_type": "markdown",
   "metadata": {},
   "source": [
    "#### TORUS: QTL discovery utilizing genomic annotations; Implement a computational procedure for discovering molecular QTLs incorporating genomic annotations.\n",
    "https://github.com/xqwen/torus\n",
    "\n",
    "Goal: 1) Enrichment Analysis, assess the enrichment level of the annotated SNPs in the association signals; e.g. gene A is an association signal of SZ if it is significantly associated with SZ.\n",
    "\n",
    "2) QTL Discovery, discover genetic loci that harbor causal variants.\n",
    "\n",
    "Data: only summary statistics (z-score or p-value from the single SNP association test)"
   ]
  },
  {
   "cell_type": "markdown",
   "metadata": {},
   "source": [
    "#### DAP: deterministic approximation of posterior; Enables highly efficient and accurate joint enrichment analysis and identification of multiple causal variants.\n",
    "https://github.com/xqwen/dap/wiki\n",
    "\n",
    "Goal: Multi-SNP Fine-mapping analysis for the identified loci from goal 2 in TORUS.\n",
    "\n",
    "Data: individual-level genotype data. Fine-mapping is performed for each locus, all the data files should be organized for each locus separately before running the analysis."
   ]
  },
  {
   "cell_type": "markdown",
   "metadata": {},
   "source": [
    "#### Effect Size Grid File"
   ]
  },
  {
   "cell_type": "markdown",
   "metadata": {},
   "source": [
    "Effect size grid file: prior effect size specifications for $\\textbf{causal variants}$. \n",
    "\n",
    "Two-parameters, $\\phi$ and $\\omega$, are required:\n",
    "\n",
    "$\\phi$: the heterogeneity of a genetic effect across multiple subgroups (Genetic heterogeneity is a phenomenon in which a single phenotype or genetic disorder may be caused by any one of a multiple number of alleles or non-allele (locus) mutations).\n",
    "\n",
    "$\\omega$: the average effect size.\n",
    "\n",
    "In practice, we use a grid of ($\\phi$, $\\omega$) combinations to describe the long-tail behavior of the genetic effects observed.\n",
    "\n",
    "Single study, set $\\phi$ to 0 and only specify $\\omega$\n",
    "\n",
    "Two-column data matrix: 1st column is $\\phi$, 2nd column specifies $\\omega$. Each row provides a unique combination."
   ]
  },
  {
   "cell_type": "markdown",
   "metadata": {},
   "source": [
    "#### Prior file"
   ]
  },
  {
   "cell_type": "markdown",
   "metadata": {},
   "source": [
    "The prior file specifies SNP-level prior for each candidate SNP. The SNP-level priors can be computed by the executable torus in the process of enrichment analysis.\n",
    "\n",
    "The 1st column represents the SNP name and the 2nd column represents the prior probability that the SNP is associated."
   ]
  },
  {
   "cell_type": "markdown",
   "metadata": {
    "collapsed": true
   },
   "source": []
  }
 ],
 "metadata": {
  "kernelspec": {
   "display_name": "Python 3",
   "language": "python",
   "name": "python3"
  },
  "language_info": {
   "codemirror_mode": {
    "name": "ipython",
    "version": 3
   },
   "file_extension": ".py",
   "mimetype": "text/x-python",
   "name": "python",
   "nbconvert_exporter": "python",
   "pygments_lexer": "ipython3",
   "version": "3.5.2"
  }
 },
 "nbformat": 4,
 "nbformat_minor": 2
}
