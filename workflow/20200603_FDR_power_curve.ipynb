{
 "cells": [
  {
   "cell_type": "markdown",
   "metadata": {},
   "source": [
    "# FDR power curve using results from new simulated data"
   ]
  },
  {
   "cell_type": "code",
   "execution_count": 1,
   "metadata": {},
   "outputs": [],
   "source": [
    "import pandas as pd, numpy as np\n",
    "import os\n",
    "from collections import Counter\n",
    "cwd = os.path.expanduser(\"/home/min/GIT/cnv-gene-mapping/output\")\n",
    "name = \"simu_dele_30_0529\"\n",
    "prefix = f\"deletion.X.colnames_b30.{name}.y\""
   ]
  },
  {
   "cell_type": "code",
   "execution_count": 2,
   "metadata": {},
   "outputs": [],
   "source": [
    "m1 = \"varbvs\"\n",
    "m2 = \"susie\"\n",
    "m3 = \"mcmc\"\n",
    "m4 = \"sier\"\n",
    "m5 = \"hybrid\""
   ]
  },
  {
   "cell_type": "markdown",
   "metadata": {},
   "source": [
    "**Gene names in varbvs, susie and sier are different from those of mcmc, because R (varbvs, susie, sier) change gene names**"
   ]
  },
  {
   "cell_type": "code",
   "execution_count": 3,
   "metadata": {},
   "outputs": [],
   "source": [
    "varbvs = pd.read_csv(f\"{cwd}/{name}/{prefix}.{m1}_pip.gz\", sep = \"\\t\", header = None, usecols = [1], names = [f\"pip_{m1}\"])\n",
    "susie = pd.read_csv(f\"{cwd}/{name}/{prefix}.{m2}_pip.gz\", sep = \"\\t\", header = None, usecols = [1], names = [f\"pip_{m2}\"])\n",
    "mcmc = pd.read_csv(f\"{cwd}/{name}/{prefix}.{m3}_pip.gz\", sep = \"\\t\", header = None, names = [\"gene\", f\"pip_{m3}\"])\n",
    "sier = pd.read_csv(f\"{cwd}/{name}/{prefix}.{m4}_pip.gz\", sep = \"\\t\", header = None, usecols = [1], names = [f\"pip_{m4}\"])\n",
    "hybrid = pd.read_csv(f\"{cwd}/{name}/{prefix}.{m5}_pip.gz\", sep = \"\\t\", header = None, usecols = [1], names = [f\"pip_{m5}\"])"
   ]
  },
  {
   "cell_type": "code",
   "execution_count": 4,
   "metadata": {},
   "outputs": [],
   "source": [
    "fisher = pd.read_csv(f\"{cwd}/{name}/{prefix[0:-2]}.X.cleaned.fisher.gz\", sep = \"\\t\", header = 0)"
   ]
  },
  {
   "cell_type": "code",
   "execution_count": 5,
   "metadata": {},
   "outputs": [],
   "source": [
    "beta_all = np.loadtxt(f\"{cwd}/{name}/{prefix[0:-2]}.beta\")"
   ]
  },
  {
   "cell_type": "code",
   "execution_count": 6,
   "metadata": {},
   "outputs": [],
   "source": [
    "index = pd.read_csv(f\"{cwd}/{name}/{prefix[0:-2]}.X.block_index_original.csv\", sep = \"\\t\", header = None, names = [\"start\", \"end\"])"
   ]
  },
  {
   "cell_type": "code",
   "execution_count": 7,
   "metadata": {},
   "outputs": [],
   "source": [
    "betas = list()\n",
    "for i, item in index.iterrows():\n",
    "    betas.extend(list(beta_all[item[0]:(item[1]+1)]))"
   ]
  },
  {
   "cell_type": "code",
   "execution_count": 8,
   "metadata": {},
   "outputs": [],
   "source": [
    "pips = pd.concat([mcmc, varbvs, susie, sier, hybrid], axis = 1).merge(fisher[[\"gene\", \"p\"]], on = \"gene\")"
   ]
  },
  {
   "cell_type": "code",
   "execution_count": 9,
   "metadata": {},
   "outputs": [],
   "source": [
    "pips[\"beta\"] = betas"
   ]
  },
  {
   "cell_type": "code",
   "execution_count": 10,
   "metadata": {},
   "outputs": [
    {
     "data": {
      "text/html": [
       "<div>\n",
       "<style scoped>\n",
       "    .dataframe tbody tr th:only-of-type {\n",
       "        vertical-align: middle;\n",
       "    }\n",
       "\n",
       "    .dataframe tbody tr th {\n",
       "        vertical-align: top;\n",
       "    }\n",
       "\n",
       "    .dataframe thead th {\n",
       "        text-align: right;\n",
       "    }\n",
       "</style>\n",
       "<table border=\"1\" class=\"dataframe\">\n",
       "  <thead>\n",
       "    <tr style=\"text-align: right;\">\n",
       "      <th></th>\n",
       "      <th>gene</th>\n",
       "      <th>pip_mcmc</th>\n",
       "      <th>pip_varbvs</th>\n",
       "      <th>pip_susie</th>\n",
       "      <th>pip_sier</th>\n",
       "      <th>pip_hybrid</th>\n",
       "      <th>p</th>\n",
       "      <th>beta</th>\n",
       "    </tr>\n",
       "  </thead>\n",
       "  <tbody>\n",
       "    <tr>\n",
       "      <th>0</th>\n",
       "      <td>TTLL10</td>\n",
       "      <td>0.00155</td>\n",
       "      <td>0.060581</td>\n",
       "      <td>0.0</td>\n",
       "      <td>0.01229</td>\n",
       "      <td>0.01229</td>\n",
       "      <td>0.580972</td>\n",
       "      <td>0.0</td>\n",
       "    </tr>\n",
       "    <tr>\n",
       "      <th>1</th>\n",
       "      <td>TNFRSF18</td>\n",
       "      <td>0.00155</td>\n",
       "      <td>0.060579</td>\n",
       "      <td>0.0</td>\n",
       "      <td>0.01229</td>\n",
       "      <td>0.01229</td>\n",
       "      <td>0.580972</td>\n",
       "      <td>0.0</td>\n",
       "    </tr>\n",
       "    <tr>\n",
       "      <th>2</th>\n",
       "      <td>TNFRSF4</td>\n",
       "      <td>0.00155</td>\n",
       "      <td>0.060577</td>\n",
       "      <td>0.0</td>\n",
       "      <td>0.01229</td>\n",
       "      <td>0.01229</td>\n",
       "      <td>0.580972</td>\n",
       "      <td>0.0</td>\n",
       "    </tr>\n",
       "    <tr>\n",
       "      <th>3</th>\n",
       "      <td>SDF4</td>\n",
       "      <td>0.00155</td>\n",
       "      <td>0.060574</td>\n",
       "      <td>0.0</td>\n",
       "      <td>0.01229</td>\n",
       "      <td>0.01229</td>\n",
       "      <td>0.580972</td>\n",
       "      <td>0.0</td>\n",
       "    </tr>\n",
       "    <tr>\n",
       "      <th>4</th>\n",
       "      <td>B3GALT6</td>\n",
       "      <td>0.00155</td>\n",
       "      <td>0.060572</td>\n",
       "      <td>0.0</td>\n",
       "      <td>0.01229</td>\n",
       "      <td>0.01229</td>\n",
       "      <td>0.580972</td>\n",
       "      <td>0.0</td>\n",
       "    </tr>\n",
       "  </tbody>\n",
       "</table>\n",
       "</div>"
      ],
      "text/plain": [
       "       gene  pip_mcmc  pip_varbvs  pip_susie  pip_sier  pip_hybrid         p  \\\n",
       "0    TTLL10   0.00155    0.060581        0.0   0.01229     0.01229  0.580972   \n",
       "1  TNFRSF18   0.00155    0.060579        0.0   0.01229     0.01229  0.580972   \n",
       "2   TNFRSF4   0.00155    0.060577        0.0   0.01229     0.01229  0.580972   \n",
       "3      SDF4   0.00155    0.060574        0.0   0.01229     0.01229  0.580972   \n",
       "4   B3GALT6   0.00155    0.060572        0.0   0.01229     0.01229  0.580972   \n",
       "\n",
       "   beta  \n",
       "0   0.0  \n",
       "1   0.0  \n",
       "2   0.0  \n",
       "3   0.0  \n",
       "4   0.0  "
      ]
     },
     "execution_count": 10,
     "metadata": {},
     "output_type": "execute_result"
    }
   ],
   "source": [
    "pips.head()"
   ]
  },
  {
   "cell_type": "code",
   "execution_count": 11,
   "metadata": {},
   "outputs": [],
   "source": [
    "# pips[\"p\"] = [1-i for i in pips[\"p\"]]"
   ]
  },
  {
   "cell_type": "code",
   "execution_count": 11,
   "metadata": {},
   "outputs": [],
   "source": [
    "pips[\"is_signal\"] = pips[\"beta\"].apply(lambda x: 1 if x != 0 else 0)"
   ]
  },
  {
   "cell_type": "code",
   "execution_count": 22,
   "metadata": {},
   "outputs": [],
   "source": [
    "cutoffs = [0.025*i for i in range(0,41)]"
   ]
  },
  {
   "cell_type": "code",
   "execution_count": 23,
   "metadata": {},
   "outputs": [],
   "source": [
    "n1 = len(betas)\n",
    "n2 = sum(pips[\"is_signal\"])"
   ]
  },
  {
   "cell_type": "code",
   "execution_count": 24,
   "metadata": {},
   "outputs": [],
   "source": [
    "res = pd.DataFrame({\"cutoff\": cutoffs})"
   ]
  },
  {
   "cell_type": "code",
   "execution_count": 53,
   "metadata": {},
   "outputs": [],
   "source": [
    "for x in [f\"pip_{m1}\", f\"pip_{m2}\", f\"pip_{m3}\", f\"pip_{m4}\", f\"pip_{m5}\", \"p\"]:\n",
    "    res[f\"{x}_FDR\"] = [sum(pips[x]>=i)/n1 for i in cutoffs]\n",
    "    res[f\"{x}_power\"] = [pips[(pips[x]>=i) & (pips[\"is_signal\"] == 1)].shape[0]/n2 for i in cutoffs]"
   ]
  },
  {
   "cell_type": "code",
   "execution_count": 54,
   "metadata": {},
   "outputs": [
    {
     "data": {
      "text/html": [
       "<div>\n",
       "<style scoped>\n",
       "    .dataframe tbody tr th:only-of-type {\n",
       "        vertical-align: middle;\n",
       "    }\n",
       "\n",
       "    .dataframe tbody tr th {\n",
       "        vertical-align: top;\n",
       "    }\n",
       "\n",
       "    .dataframe thead th {\n",
       "        text-align: right;\n",
       "    }\n",
       "</style>\n",
       "<table border=\"1\" class=\"dataframe\">\n",
       "  <thead>\n",
       "    <tr style=\"text-align: right;\">\n",
       "      <th></th>\n",
       "      <th>cutoff</th>\n",
       "      <th>pip_varbvs_FDR</th>\n",
       "      <th>pip_varbvs_power</th>\n",
       "      <th>pip_susie_FDR</th>\n",
       "      <th>pip_susie_power</th>\n",
       "      <th>pip_mcmc_FDR</th>\n",
       "      <th>pip_mcmc_power</th>\n",
       "      <th>pip_sier_FDR</th>\n",
       "      <th>pip_sier_power</th>\n",
       "      <th>pip_hybrid_FDR</th>\n",
       "      <th>pip_hybrid_power</th>\n",
       "      <th>p_FDR</th>\n",
       "      <th>p_power</th>\n",
       "    </tr>\n",
       "  </thead>\n",
       "  <tbody>\n",
       "    <tr>\n",
       "      <th>0</th>\n",
       "      <td>0.000</td>\n",
       "      <td>1.000000</td>\n",
       "      <td>1.000000</td>\n",
       "      <td>1.000000</td>\n",
       "      <td>1.000000</td>\n",
       "      <td>1.000000</td>\n",
       "      <td>1.000000</td>\n",
       "      <td>1.000000</td>\n",
       "      <td>1.000000</td>\n",
       "      <td>1.000000</td>\n",
       "      <td>1.000000</td>\n",
       "      <td>1.000000</td>\n",
       "      <td>1.000000</td>\n",
       "    </tr>\n",
       "    <tr>\n",
       "      <th>1</th>\n",
       "      <td>0.025</td>\n",
       "      <td>0.781205</td>\n",
       "      <td>0.757576</td>\n",
       "      <td>0.208273</td>\n",
       "      <td>0.681818</td>\n",
       "      <td>0.284107</td>\n",
       "      <td>0.818182</td>\n",
       "      <td>0.353048</td>\n",
       "      <td>0.772727</td>\n",
       "      <td>0.384253</td>\n",
       "      <td>0.871212</td>\n",
       "      <td>0.666546</td>\n",
       "      <td>0.212121</td>\n",
       "    </tr>\n",
       "    <tr>\n",
       "      <th>2</th>\n",
       "      <td>0.050</td>\n",
       "      <td>0.549347</td>\n",
       "      <td>0.643939</td>\n",
       "      <td>0.157112</td>\n",
       "      <td>0.606061</td>\n",
       "      <td>0.169811</td>\n",
       "      <td>0.689394</td>\n",
       "      <td>0.171263</td>\n",
       "      <td>0.621212</td>\n",
       "      <td>0.193396</td>\n",
       "      <td>0.704545</td>\n",
       "      <td>0.639695</td>\n",
       "      <td>0.189394</td>\n",
       "    </tr>\n",
       "    <tr>\n",
       "      <th>3</th>\n",
       "      <td>0.075</td>\n",
       "      <td>0.388607</td>\n",
       "      <td>0.530303</td>\n",
       "      <td>0.099057</td>\n",
       "      <td>0.507576</td>\n",
       "      <td>0.110668</td>\n",
       "      <td>0.560606</td>\n",
       "      <td>0.100145</td>\n",
       "      <td>0.530303</td>\n",
       "      <td>0.111393</td>\n",
       "      <td>0.575758</td>\n",
       "      <td>0.626996</td>\n",
       "      <td>0.189394</td>\n",
       "    </tr>\n",
       "    <tr>\n",
       "      <th>4</th>\n",
       "      <td>0.100</td>\n",
       "      <td>0.267417</td>\n",
       "      <td>0.439394</td>\n",
       "      <td>0.071843</td>\n",
       "      <td>0.446970</td>\n",
       "      <td>0.079463</td>\n",
       "      <td>0.492424</td>\n",
       "      <td>0.068940</td>\n",
       "      <td>0.484848</td>\n",
       "      <td>0.083091</td>\n",
       "      <td>0.537879</td>\n",
       "      <td>0.605951</td>\n",
       "      <td>0.159091</td>\n",
       "    </tr>\n",
       "  </tbody>\n",
       "</table>\n",
       "</div>"
      ],
      "text/plain": [
       "   cutoff  pip_varbvs_FDR  pip_varbvs_power  pip_susie_FDR  pip_susie_power  \\\n",
       "0   0.000        1.000000          1.000000       1.000000         1.000000   \n",
       "1   0.025        0.781205          0.757576       0.208273         0.681818   \n",
       "2   0.050        0.549347          0.643939       0.157112         0.606061   \n",
       "3   0.075        0.388607          0.530303       0.099057         0.507576   \n",
       "4   0.100        0.267417          0.439394       0.071843         0.446970   \n",
       "\n",
       "   pip_mcmc_FDR  pip_mcmc_power  pip_sier_FDR  pip_sier_power  pip_hybrid_FDR  \\\n",
       "0      1.000000        1.000000      1.000000        1.000000        1.000000   \n",
       "1      0.284107        0.818182      0.353048        0.772727        0.384253   \n",
       "2      0.169811        0.689394      0.171263        0.621212        0.193396   \n",
       "3      0.110668        0.560606      0.100145        0.530303        0.111393   \n",
       "4      0.079463        0.492424      0.068940        0.484848        0.083091   \n",
       "\n",
       "   pip_hybrid_power     p_FDR   p_power  \n",
       "0          1.000000  1.000000  1.000000  \n",
       "1          0.871212  0.666546  0.212121  \n",
       "2          0.704545  0.639695  0.189394  \n",
       "3          0.575758  0.626996  0.189394  \n",
       "4          0.537879  0.605951  0.159091  "
      ]
     },
     "execution_count": 54,
     "metadata": {},
     "output_type": "execute_result"
    }
   ],
   "source": [
    "res.head()"
   ]
  },
  {
   "cell_type": "code",
   "execution_count": 55,
   "metadata": {},
   "outputs": [
    {
     "data": {
      "text/html": [
       "<div>\n",
       "<style scoped>\n",
       "    .dataframe tbody tr th:only-of-type {\n",
       "        vertical-align: middle;\n",
       "    }\n",
       "\n",
       "    .dataframe tbody tr th {\n",
       "        vertical-align: top;\n",
       "    }\n",
       "\n",
       "    .dataframe thead th {\n",
       "        text-align: right;\n",
       "    }\n",
       "</style>\n",
       "<table border=\"1\" class=\"dataframe\">\n",
       "  <thead>\n",
       "    <tr style=\"text-align: right;\">\n",
       "      <th></th>\n",
       "      <th>cutoff</th>\n",
       "      <th>pip_varbvs_FDR</th>\n",
       "      <th>pip_varbvs_power</th>\n",
       "      <th>pip_susie_FDR</th>\n",
       "      <th>pip_susie_power</th>\n",
       "      <th>pip_mcmc_FDR</th>\n",
       "      <th>pip_mcmc_power</th>\n",
       "      <th>pip_sier_FDR</th>\n",
       "      <th>pip_sier_power</th>\n",
       "      <th>pip_hybrid_FDR</th>\n",
       "      <th>pip_hybrid_power</th>\n",
       "      <th>p_FDR</th>\n",
       "      <th>p_power</th>\n",
       "    </tr>\n",
       "  </thead>\n",
       "  <tbody>\n",
       "    <tr>\n",
       "      <th>36</th>\n",
       "      <td>0.900</td>\n",
       "      <td>0.022859</td>\n",
       "      <td>0.181818</td>\n",
       "      <td>0.004717</td>\n",
       "      <td>0.075758</td>\n",
       "      <td>0.006894</td>\n",
       "      <td>0.121212</td>\n",
       "      <td>0.007257</td>\n",
       "      <td>0.128788</td>\n",
       "      <td>0.007983</td>\n",
       "      <td>0.143939</td>\n",
       "      <td>0.180334</td>\n",
       "      <td>0.030303</td>\n",
       "    </tr>\n",
       "    <tr>\n",
       "      <th>37</th>\n",
       "      <td>0.925</td>\n",
       "      <td>0.022859</td>\n",
       "      <td>0.181818</td>\n",
       "      <td>0.004354</td>\n",
       "      <td>0.068182</td>\n",
       "      <td>0.006894</td>\n",
       "      <td>0.121212</td>\n",
       "      <td>0.006531</td>\n",
       "      <td>0.113636</td>\n",
       "      <td>0.007257</td>\n",
       "      <td>0.128788</td>\n",
       "      <td>0.178520</td>\n",
       "      <td>0.030303</td>\n",
       "    </tr>\n",
       "    <tr>\n",
       "      <th>38</th>\n",
       "      <td>0.950</td>\n",
       "      <td>0.021771</td>\n",
       "      <td>0.166667</td>\n",
       "      <td>0.004354</td>\n",
       "      <td>0.068182</td>\n",
       "      <td>0.006894</td>\n",
       "      <td>0.121212</td>\n",
       "      <td>0.006168</td>\n",
       "      <td>0.106061</td>\n",
       "      <td>0.007257</td>\n",
       "      <td>0.128788</td>\n",
       "      <td>0.178157</td>\n",
       "      <td>0.030303</td>\n",
       "    </tr>\n",
       "    <tr>\n",
       "      <th>39</th>\n",
       "      <td>0.975</td>\n",
       "      <td>0.021045</td>\n",
       "      <td>0.166667</td>\n",
       "      <td>0.003628</td>\n",
       "      <td>0.053030</td>\n",
       "      <td>0.005443</td>\n",
       "      <td>0.098485</td>\n",
       "      <td>0.005806</td>\n",
       "      <td>0.098485</td>\n",
       "      <td>0.006894</td>\n",
       "      <td>0.121212</td>\n",
       "      <td>0.178157</td>\n",
       "      <td>0.030303</td>\n",
       "    </tr>\n",
       "    <tr>\n",
       "      <th>40</th>\n",
       "      <td>1.000</td>\n",
       "      <td>0.006894</td>\n",
       "      <td>0.053030</td>\n",
       "      <td>0.000363</td>\n",
       "      <td>0.000000</td>\n",
       "      <td>0.001451</td>\n",
       "      <td>0.022727</td>\n",
       "      <td>0.000000</td>\n",
       "      <td>0.000000</td>\n",
       "      <td>0.001089</td>\n",
       "      <td>0.015152</td>\n",
       "      <td>0.178157</td>\n",
       "      <td>0.030303</td>\n",
       "    </tr>\n",
       "  </tbody>\n",
       "</table>\n",
       "</div>"
      ],
      "text/plain": [
       "    cutoff  pip_varbvs_FDR  pip_varbvs_power  pip_susie_FDR  pip_susie_power  \\\n",
       "36   0.900        0.022859          0.181818       0.004717         0.075758   \n",
       "37   0.925        0.022859          0.181818       0.004354         0.068182   \n",
       "38   0.950        0.021771          0.166667       0.004354         0.068182   \n",
       "39   0.975        0.021045          0.166667       0.003628         0.053030   \n",
       "40   1.000        0.006894          0.053030       0.000363         0.000000   \n",
       "\n",
       "    pip_mcmc_FDR  pip_mcmc_power  pip_sier_FDR  pip_sier_power  \\\n",
       "36      0.006894        0.121212      0.007257        0.128788   \n",
       "37      0.006894        0.121212      0.006531        0.113636   \n",
       "38      0.006894        0.121212      0.006168        0.106061   \n",
       "39      0.005443        0.098485      0.005806        0.098485   \n",
       "40      0.001451        0.022727      0.000000        0.000000   \n",
       "\n",
       "    pip_hybrid_FDR  pip_hybrid_power     p_FDR   p_power  \n",
       "36        0.007983          0.143939  0.180334  0.030303  \n",
       "37        0.007257          0.128788  0.178520  0.030303  \n",
       "38        0.007257          0.128788  0.178157  0.030303  \n",
       "39        0.006894          0.121212  0.178157  0.030303  \n",
       "40        0.001089          0.015152  0.178157  0.030303  "
      ]
     },
     "execution_count": 55,
     "metadata": {},
     "output_type": "execute_result"
    }
   ],
   "source": [
    "res.tail()"
   ]
  },
  {
   "cell_type": "code",
   "execution_count": 56,
   "metadata": {},
   "outputs": [],
   "source": [
    "import matplotlib.pyplot as plt\n",
    "import matplotlib.font_manager as font_manager\n",
    "font_prop = font_manager.FontProperties(size=24)"
   ]
  },
  {
   "cell_type": "code",
   "execution_count": 57,
   "metadata": {},
   "outputs": [
    {
     "data": {
      "image/png": "[encoded data removed]",
      "text/plain": [
       "<Figure size 720x720 with 1 Axes>"
      ]
     },
     "metadata": {
      "needs_background": "light"
     },
     "output_type": "display_data"
    }
   ],
   "source": [
    "fig, ax = plt.subplots(figsize = (10, 10))\n",
    "plt.plot(res[f\"pip_{m1}_FDR\"], res[f\"pip_{m1}_power\"], c = \"C0\", label = m1)\n",
    "plt.plot(res[f\"pip_{m2}_FDR\"], res[f\"pip_{m2}_power\"], c = \"C8\", label = m2)\n",
    "plt.plot(res[f\"pip_{m3}_FDR\"], res[f\"pip_{m3}_power\"], c = \"C3\", label = m3)\n",
    "plt.plot(res[f\"pip_{m4}_FDR\"], res[f\"pip_{m4}_power\"], c = \"C4\", label = m4)\n",
    "plt.plot(res[f\"pip_{m5}_FDR\"], res[f\"pip_{m5}_power\"], c = \"C2\", label = m5)\n",
    "plt.plot(1-res[\"p_FDR\"], 1-res[\"p_power\"], c = \"C7\", label = \"p-value\")\n",
    "plt.legend(loc = 'lower right', fontsize = 15)\n",
    "plt.xlabel(\"FDR\", fontproperties=font_prop)\n",
    "plt.ylabel(\"power\", fontproperties=font_prop)\n",
    "plt.show()"
   ]
  },
  {
   "cell_type": "code",
   "execution_count": null,
   "metadata": {},
   "outputs": [],
   "source": []
  },
  {
   "cell_type": "code",
   "execution_count": 81,
   "metadata": {},
   "outputs": [],
   "source": [
    "calib = pips[[f\"pip_{m1}\", f\"pip_{m2}\", f\"pip_{m3}\", f\"pip_{m4}\", \"is_signal\"]]"
   ]
  },
  {
   "cell_type": "code",
   "execution_count": null,
   "metadata": {},
   "outputs": [],
   "source": []
  }
 ],
 "metadata": {
  "kernelspec": {
   "display_name": "Python 3",
   "language": "python",
   "name": "python3"
  },
  "language_info": {
   "codemirror_mode": {
    "name": "ipython",
    "version": 3
   },
   "file_extension": ".py",
   "mimetype": "text/x-python",
   "name": "python",
   "nbconvert_exporter": "python",
   "pygments_lexer": "ipython3",
   "version": "3.7.6"
  }
 },
 "nbformat": 4,
 "nbformat_minor": 4
}
