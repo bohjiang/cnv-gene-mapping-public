{
 "cells": [
  {
   "cell_type": "markdown",
   "metadata": {
    "kernel": "SoS"
   },
   "source": [
    "# Result using new `logistic`"
   ]
  },
  {
   "cell_type": "markdown",
   "metadata": {
    "kernel": "SoS"
   },
   "source": [
    "## Single effect\n",
    "Use whole-genome `varbvs` results, $\\pi_0 = 0.043, \\mu = 0.777, \\sigma = 0.844$.\n",
    "\n",
    "### Block # 739_743\n",
    "#### Fisher test\n",
    "    gene_name\td_c\td_nc\tnd_c\tnd_nc\tp\tindex\teffect\n",
    "    gene_742\t16   6690\t4\t6702\t0.011757\t3\t\t0.98\n",
    "    gene_743\t5\t6701\t3\t6703\t0.726481\t4\n",
    "    gene_744\t3\t6703\t2\t6704\t1.000000\t5\n",
    "    gene_741\t3\t6703\t2\t6704\t1.000000\t2\n",
    "    gene_740\t3\t6703\t2\t6704\t1.000000\t1\n",
    "\n",
    "#### `logistic` posterior inclusion probabilities, and the posterior, means and standard deviations\n",
    "\n",
    "    index     p1       mu1        s1\n",
    "    1 0.03261352 0.6320746 0.6381212\n",
    "    2 0.03261352 0.6320746 0.6381212\n",
    "    3 0.86784779 1.2459461 0.4570842\n",
    "    4 0.03431165 0.6513176 0.5679802\n",
    "    5 0.03261352 0.6320746 0.6381212\n",
    "\n",
    "#### PyMC3\n",
    "    1st column: gene index in the block\n",
    "    2nd column: inclusion probability\n",
    "    3rd column: beta; mean(beta)\n",
    "    4th column: beta given inclusion probability; sum(beta * inclusion probability) / sum(inclusion probability)\n",
    "\n",
    "    gene_index\tinclusion_probability\tbeta\tbeta_given_inclusion\n",
    "    3\t0.4930\t1.000700\t1.232291\n",
    "    1\t0.0360\t0.726913\t0.263216\n",
    "    4\t0.0350\t0.753536\t0.516642\n",
    "    2\t0.0295\t0.787234\t0.411099\n",
    "    5\t0.0260\t0.768642\t0.450941"
   ]
  },
  {
   "cell_type": "markdown",
   "metadata": {
    "kernel": "SoS"
   },
   "source": [
    "### Block # 2122_2125\n",
    "#### Fisher\n",
    "\n",
    "    gene_name   d_c d_nc    nd_c    nd_nc   p   index   effect\n",
    "    gene_2124   15  6691    3   6703    0.007500    2       1.07\n",
    "    gene_2123   94  6612    77  6629    0.218052    1\n",
    "    gene_2126   15  6691    10  6696    0.423920    4\n",
    "    gene_2125   57  6649    52  6654    0.700648    3\n",
    "    \n",
    "#### `logistic`\n",
    "\n",
    "    index      p1       mu1        s1\n",
    "    1 0.010014660 0.2219490 0.1527056\n",
    "    2 0.964694461 1.3725910 0.4854333\n",
    "    3 0.005392763 0.1274861 0.1886607\n",
    "    4 0.019898116 0.4899707 0.3751872\n",
    "\n",
    "#### PyMC3\n",
    "    gene_index\tinclusion_probability\tbeta\tbeta_given_inclusion\n",
    "    2\t0.6035\t1.155986\t1.376268\n",
    "    4\t0.0245\t0.783276\t0.537506\n",
    "    1\t0.0135\t0.803832\t0.165683\n",
    "    3\t0.0080\t0.773949\t0.144691"
   ]
  },
  {
   "cell_type": "markdown",
   "metadata": {
    "kernel": "SoS"
   },
   "source": [
    "### Block # 1858_1875\n",
    "#### Fisher\n",
    "    gene_name\td_c\td_nc\tnd_c\tnd_nc\tp\tindex\teffect\n",
    "    gene_1873\t7\t6699\t0\t6706\t0.015601\t15\t\t1.11\n",
    "    gene_1872\t7\t6699\t0\t6706\t0.015601\t14\n",
    "    gene_1859\t12\t6694\t3\t6703\t0.035057\t1\n",
    "    gene_1874\t10\t6696\t2\t6704\t0.038490\t16\n",
    "    gene_1869\t8\t6698\t1\t6705\t0.039000\t11\n",
    "    gene_1868\t8\t6698\t1\t6705\t0.039000\t10\n",
    "    gene_1867\t8\t6698\t1\t6705\t0.039000\t9\n",
    "    gene_1866\t8\t6698\t1\t6705\t0.039000\t8\n",
    "    gene_1865\t8\t6698\t1\t6705\t0.039000\t7\n",
    "    gene_1864\t8\t6698\t1\t6705\t0.039000\t6\n",
    "    gene_1863\t8\t6698\t1\t6705\t0.039000\t5\n",
    "    gene_1862\t8\t6698\t1\t6705\t0.039000\t4\n",
    "    gene_1871\t8\t6698\t1\t6705\t0.039000\t13\n",
    "    gene_1870\t8\t6698\t1\t6705\t0.039000\t12\n",
    "    gene_1860\t1\t6705\t1\t6705\t1.000000\t2\n",
    "    gene_1861\t2\t6704\t2\t6704\t1.000000\t3\n",
    "    gene_1875\t3\t6703\t2\t6704\t1.000000\t17\n",
    "    gene_1876\t3\t6703\t2\t6704\t1.000000\t18\n",
    "\n",
    "#### `logistic`\n",
    "    index       p1       mu1        s1\n",
    "    1  0.060647644 1.2122989 0.5014112\n",
    "    2  0.005274537 0.5930569 0.7412177\n",
    "    3  0.004411242 0.4746280 0.6636088\n",
    "    4  0.063003887 1.4175437 0.5991082\n",
    "    5  0.063003887 1.4175437 0.5991082\n",
    "    6  0.063003887 1.4175437 0.5991082\n",
    "    7  0.063003887 1.4175437 0.5991082\n",
    "    8  0.063003887 1.4175437 0.5991082\n",
    "    9  0.063003887 1.4175437 0.5991082\n",
    "    10 0.063003887 1.4175437 0.5991082\n",
    "    11 0.063003887 1.4175437 0.5991082\n",
    "    12 0.063003887 1.4175437 0.5991082\n",
    "    13 0.063003887 1.4175437 0.5991082\n",
    "    14 0.114256499 1.6625599 0.6536196\n",
    "    15 0.114256499 1.6625599 0.6536196\n",
    "    16 0.060418826 1.2990763 0.5448325\n",
    "    17 0.005347940 0.6321483 0.6381504\n",
    "    18 0.005347940 0.6321483 0.6381504\n",
    "\n",
    "#### PyMC3\n",
    "    gene_index\tinclusion_probability\tbeta\tbeta_given_inclusion\n",
    "    15\t0.1635\t0.885465\t1.445334\n",
    "    14\t0.1415\t0.873469\t1.438782\n",
    "    4\t 0.0950\t0.808904\t1.114097\n",
    "    12\t0.0910\t0.799450\t1.168663\n",
    "    1\t 0.0900\t0.805384\t1.061036\n",
    "    10\t0.0900\t0.806278\t1.133716\n",
    "    13\t0.0895\t0.811432\t1.072543\n",
    "    11\t0.0870\t0.809282\t1.182747\n",
    "    16\t0.0830\t0.776091\t1.053188\n",
    "    9\t0.0810\t0.827899\t1.242092\n",
    "    6\t0.0810\t0.806535\t1.242010\n",
    "    7\t0.0800\t0.811711\t1.300500\n",
    "    8\t0.0780\t0.798235\t1.141132\n",
    "    5\t0.0780\t0.798494\t1.135631\n",
    "    2\t0.0310\t0.750434\t0.447150\n",
    "    18\t0.0310\t0.777832\t0.583112\n",
    "    17\t0.0295\t0.782552\t0.548759\n",
    "    3\t0.0275\t0.775015\t0.365444"
   ]
  },
  {
   "cell_type": "markdown",
   "metadata": {
    "kernel": "SoS"
   },
   "source": [
    "## Multiple effects\n",
    "### Block # \n",
    "#### Fisher\n",
    "    gene_name\td_c\td_nc\tnd_c\tnd_nc\tp\t index\teffect\n",
    "    gene_2095\t36\t6670\t8 \t6698\t0.000025\t3\t\t1.71\n",
    "    gene_2096\t37\t6669\t12\t6694\t0.000459\t4\n",
    "    gene_2097\t37\t6669\t12\t6694\t0.000459\t5\n",
    "    gene_2098\t37\t6669\t12\t6694\t0.000459\t6\n",
    "    gene_2100\t28\t6678\t11\t6695\t0.009374\t8\n",
    "    gene_2099\t28\t6678\t11\t6695\t0.009374\t7\t\t0.47\n",
    "    gene_2094\t9 \t6697\t1 \t6705\t0.021439\t2\n",
    "    gene_2093\t9 \t6697\t1 \t6705\t0.021439\t1\t\t0.18\n",
    "\n",
    "#### `logistic`\n",
    "    index      p1       mu1        s1\n",
    "    1 0.002619979 1.4874452 0.5891827\n",
    "    2 0.002619979 1.4874452 0.5891827\n",
    "    3 0.840373304 1.4120444 0.3482626\n",
    "    4 0.049342893 1.1027142 0.3097065\n",
    "    5 0.049342893 1.1027142 0.3097065\n",
    "    6 0.049342893 1.1027142 0.3097065\n",
    "    7 0.003179030 0.9320685 0.3306724\n",
    "    8 0.003179030 0.9320685 0.3306724\n",
    "\n",
    "#### PyMC3\n",
    "    gene_index\tinclusion_probability\tbeta\tbeta_given_inclusion\n",
    "    3\t0.8390\t1.290242\t1.388613\n",
    "    5\t0.0785\t0.789153\t0.933225\n",
    "    1\t0.0680\t0.799668\t1.035229\n",
    "    2\t0.0635\t0.784478\t0.960614\n",
    "    6\t0.0605\t0.784214\t0.768279\n",
    "    4\t0.0565\t0.780303\t0.741498\n",
    "    8\t0.0260\t0.747943\t0.092032\n",
    "    7\t0.0235\t0.761483\t0.111491"
   ]
  },
  {
   "cell_type": "code",
   "execution_count": null,
   "metadata": {
    "kernel": "SoS"
   },
   "outputs": [],
   "source": []
  }
 ],
 "metadata": {
  "kernelspec": {
   "display_name": "SoS",
   "language": "sos",
   "name": "sos"
  },
  "language_info": {
   "codemirror_mode": "sos",
   "file_extension": ".sos",
   "mimetype": "text/x-sos",
   "name": "sos",
   "nbconvert_exporter": "sos_notebook.converter.SoS_Exporter",
   "pygments_lexer": "sos"
  },
  "sos": {
   "kernels": [
    [
     "SoS",
     "sos",
     "",
     ""
    ]
   ],
   "version": "0.20.5"
  }
 },
 "nbformat": 4,
 "nbformat_minor": 4
}
