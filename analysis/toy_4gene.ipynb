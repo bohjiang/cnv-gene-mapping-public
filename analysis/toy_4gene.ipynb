{
 "cells": [
  {
   "cell_type": "code",
   "execution_count": 1,
   "metadata": {},
   "outputs": [],
   "source": [
    "import numpy as np\n",
    "import pandas as pd\n",
    "import feather\n",
    "from pandasql import sqldf\n",
    "from fisher import pvalue\n",
    "from scipy import stats\n",
    "from pprint import pprint"
   ]
  },
  {
   "cell_type": "code",
   "execution_count": 2,
   "metadata": {
    "collapsed": true
   },
   "outputs": [],
   "source": [
    "# 4 adjacent genes, the first gene is caucal\n",
    "# common\n",
    "s1 = [0,0,0,0]\n",
    "s2 = [1,0,0,0] # need to be added a constant\n",
    "s5 = [0,0,0,1]\n",
    "s6 = [1,1,0,0] # need to be added a constant\n",
    "s8 = [0,0,1,1]\n",
    "s9 = [1,1,1,0] # need to be added a constant\n",
    "s10 = [0,1,1,1]\n",
    "s11 = [1,1,1,1] # need to be added a constant\n",
    "# less common\n",
    "s3 = [0,1,0,0]\n",
    "s4 = [0,0,1,0]\n",
    "s7 = [0,1,1,0]\n",
    "# most uncommon\n",
    "s12 = [1,0,1,0] # can be divided into [1,0,0,0] and [0,0,1,0]\n",
    "s13 = [1,0,0,1] # can be divided into [1,0,0,0] and [0,0,0,1]\n",
    "s14 = [0,1,0,1] # can be divided into [0,1,0,0] and [0,0,0,1]\n",
    "s15 = [1,1,0,1] # can be divided into [1,1,0,0] and [0,0,0,1]\n",
    "s16 = [1,0,1,1] # can be divided into [1,0,0,0] and [0,0,1,1]"
   ]
  },
  {
   "cell_type": "code",
   "execution_count": 3,
   "metadata": {
    "collapsed": true
   },
   "outputs": [],
   "source": [
    "def sample_4gene(n1, n2, n3, n4, n5, n6, n7, n8, n9, n10, n11, n12, n13, n14, n15, n16, \n",
    "                 const2, const6, const9, const11, divide=0, seed=999):\n",
    "    np.random.seed(seed)\n",
    "    if not divide==0:\n",
    "        # s12 can be divided into 1000 and 0010, etc\n",
    "        overlap = np.matrix( [s1 for i in range(n1)] + [s2 for i in range(n2)] + [s5 for i in range(n5)] \n",
    "                           + [s6 for i in range(n6)] + [s8 for i in range(n8)] + [s9 for i in range(n9)] \n",
    "                           + [s10 for i in range(n10)] + [s11 for i in range(n11)] \n",
    "                           + [s3 for i in range(n3)] + [s4 for i in range(n4)] + [s7 for i in range(n7)]\n",
    "                           + [s2 for i in range(n12)] + [s4 for i in range(n12)]\n",
    "                           + [s2 for i in range(n13)] + [s5 for i in range(n13)] \n",
    "                           + [s3 for i in range(n14)] + [s5 for i in range(n14)]\n",
    "                           + [s6 for i in range(n15)] + [s5 for i in range(n15)]\n",
    "                           + [s2 for i in range(n16)] + [s8 for i in range(n16)] )\n",
    "        config = [np.random.normal(0,1) for i in range(n1)] + [np.random.normal(0,1)+const2 for i in range(n2)] + [np.random.normal(0,1) for i in range(n5)] + [np.random.normal(0,1)+const6 for i in range(n6)] + [np.random.normal(0,1) for i in range(n8)] + [np.random.normal(0,1)+const9 for i in range(n9)] + [np.random.normal(0,1) for i in range(n10)] + [np.random.normal(0,1)+const11 for i in range(n11)] + [np.random.normal(0,1) for i in range(n3)] + [np.random.normal(0,1) for i in range(n4)] + [np.random.normal(0,1) for i in range(n7)] + [np.random.normal(0,1)+const2 for i in range(n12)]*2 + [np.random.normal(0,1)+const2 for i in range(n13)]*2 + [np.random.normal(0,1) for i in range(n14)]*2 + [np.random.normal(0,1)+const2 for i in range(n15)]*2 + [np.random.normal(0,1)+const2 for i in range(n16)]*2\n",
    "    else:\n",
    "        overlap = np.matrix( [s1 for i in range(n1)] + [s2 for i in range(n2)] + [s5 for i in range(n5)] \n",
    "                           + [s6 for i in range(n6)] + [s8 for i in range(n8)] + [s9 for i in range(n9)] \n",
    "                           + [s10 for i in range(n10)] + [s11 for i in range(n11)] \n",
    "                           + [s3 for i in range(n3)] + [s4 for i in range(n4)] + [s7 for i in range(n7)]\n",
    "                           + [s12 for i in range(n12)] + [s13 for i in range(n13)] + [s14 for i in range(n14)]\n",
    "                           + [s15 for i in range(n15)] + [s16 for i in range(n16)] )\n",
    "        config = [np.random.normal(0,1) for i in range(n1)] + [np.random.normal(0,1)+const2 for i in range(n2)] + [np.random.normal(0,1) for i in range(n5)] + [np.random.normal(0,1)+const6 for i in range(n6)] + [np.random.normal(0,1) for i in range(n8)] + [np.random.normal(0,1)+const9 for i in range(n9)] + [np.random.normal(0,1) for i in range(n10)] + [np.random.normal(0,1)+const11 for i in range(n11)] + [np.random.normal(0,1) for i in range(n3)] + [np.random.normal(0,1) for i in range(n4)] + [np.random.normal(0,1) for i in range(n7)] + [np.random.normal(0,1)+const2 for i in range(n12)] + [np.random.normal(0,1)+const2 for i in range(n13)] + [np.random.normal(0,1) for i in range(n14)] + [np.random.normal(0,1)+const2 for i in range(n15)] + [np.random.normal(0,1)+const2 for i in range(n16)]\n",
    "    config = np.matrix([[1] if i>np.median(config) else [0] for i in config])\n",
    "    sample = np.concatenate((config, overlap), axis=1)\n",
    "    df = pd.DataFrame(sample, columns = [\"phenotype\"] + [\"gene{}\".format(i+1) for i in range(sample.shape[1]-1)])\n",
    "    for col in df.columns:\n",
    "        df[col] = df[col].astype(np.uint8)\n",
    "    output = feather.write_dataframe(df, \"data/toy_4genes_n_{}.feather\"\n",
    "                                     .format(n1+n2+n3+n4+n5+n6+n7+n8+n9+n10+n11+n12+n13+n14+n15+n16))\n",
    "    return df"
   ]
  },
  {
   "cell_type": "code",
   "execution_count": 4,
   "metadata": {
    "collapsed": true
   },
   "outputs": [],
   "source": [
    "# 500 samples without any CNV in this region. 5 for 1010, 10 for 1001, 5 for 0101, 10 for 1101, 10 for 1011\n",
    "# 1010 can be divided into 1000 and 0010, 1101 can be divided into 1100 and 0001\n",
    "# So we add 25 for 1000 and 0001, 5 for 0010 and 0100, 10 for 1100 and 0011\n",
    "n0000 = 640\n",
    "n1000 = 60\n",
    "n0001 = 60\n",
    "n1100 = 80\n",
    "n0011 = 80\n",
    "n1110 = 100\n",
    "n0111 = 100\n",
    "n1111 = 100\n",
    "n0100 = 10\n",
    "n0010 = 10\n",
    "n0110 = 15\n",
    "n1010 = 5\n",
    "n1001 = 5\n",
    "n0101 = 5\n",
    "n1101 = 5\n",
    "n1011 = 5\n",
    "diff1000 = 1.0 # 0.66\n",
    "diff1100 = 0.75 # 0.44\n",
    "diff1110 = 0.50 # 0.22\n",
    "diff1111 = 0.25\n",
    "sample = sample_4gene(n1=n0000, n2=n1000, n5=n0001, n6=n1100, n8=n0011, n9=n1110, n10=n0111, n11=n1111, n3=n0100, \n",
    "                      n4=n0010, n7=n0110, n12 = n1010, n13 = n1001, n14 = n0101, n15 = n1101, n16 = n1011, \n",
    "                      const2=diff1000, const6=diff1100, const9=diff1110, const11=diff1111, divide=1)"
   ]
  },
  {
   "cell_type": "code",
   "execution_count": 5,
   "metadata": {
    "collapsed": true
   },
   "outputs": [],
   "source": [
    "def get_OR(gene_df, fisher=0):\n",
    "    cases = gene_df[gene_df[\"phenotype\"]==1]\n",
    "    ctrls = gene_df[gene_df[\"phenotype\"]==0]\n",
    "    res_dict = {}\n",
    "    for gene in list(gene_df)[1:]:\n",
    "        n_gene_case = len(cases[cases[gene]==1])\n",
    "        n_nogene_case = len(cases[cases[gene]==0])\n",
    "        n_gene_ctrl = len(ctrls[ctrls[gene]==1])\n",
    "        n_nogene_ctrl = len(ctrls[ctrls[gene]==0])\n",
    "#         print (n_gene_case, n_nogene_case, n_gene_ctrl, n_nogene_ctrl)\n",
    "        odds_ratio = stats.fisher_exact([[n_gene_case, n_gene_ctrl], [n_nogene_case, n_nogene_ctrl]])[0]\n",
    "        res_dict[gene] = odds_ratio\n",
    "        if not fisher==0:\n",
    "            logp = -np.log10(pvalue(n_gene_case, n_gene_ctrl, n_nogene_case, n_nogene_ctrl).two_tail)\n",
    "            res_dict[gene] = logp\n",
    "    return res_dict"
   ]
  },
  {
   "cell_type": "code",
   "execution_count": 6,
   "metadata": {},
   "outputs": [
    {
     "name": "stdout",
     "output_type": "stream",
     "text": [
      "{'gene1': 2.3031590024993891,\n",
      " 'gene2': 1.3592490912326189,\n",
      " 'gene3': 0.87626626606305447,\n",
      " 'gene4': 0.75974025974025972}\n",
      "{'gene1': 5.4934888127143431,\n",
      " 'gene2': 1.9743215672164185,\n",
      " 'gene3': 0.54557255989613296,\n",
      " 'gene4': 1.5210780539773865}\n"
     ]
    }
   ],
   "source": [
    "pprint (get_OR(sample, fisher=0))\n",
    "pprint (get_OR(sample, fisher=1))"
   ]
  },
  {
   "cell_type": "code",
   "execution_count": null,
   "metadata": {
    "collapsed": true
   },
   "outputs": [],
   "source": []
  }
 ],
 "metadata": {
  "kernelspec": {
   "display_name": "Python 3",
   "language": "python",
   "name": "python3"
  },
  "language_info": {
   "codemirror_mode": {
    "name": "ipython",
    "version": 3
   },
   "file_extension": ".py",
   "mimetype": "text/x-python",
   "name": "python",
   "nbconvert_exporter": "python",
   "pygments_lexer": "ipython3",
   "version": "3.5.2"
  }
 },
 "nbformat": 4,
 "nbformat_minor": 2
}
