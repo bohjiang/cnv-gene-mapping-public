{
 "cells": [
  {
   "cell_type": "code",
   "execution_count": 1,
   "metadata": {
    "collapsed": true
   },
   "outputs": [],
   "source": [
    "import numpy as np\n",
    "import pandas as pd\n",
    "import feather\n",
    "from pandasql import sqldf\n",
    "from fisher import pvalue"
   ]
  },
  {
   "cell_type": "code",
   "execution_count": 2,
   "metadata": {},
   "outputs": [],
   "source": [
    "# first gene is causal, extreme situation include [1,1,1] and [0,0,0]\n",
    "s1 = [0,0,0]\n",
    "s2 = [1,0,0] # need to add a constance in config\n",
    "s3 = [0,1,0]\n",
    "s4 = [0,0,1]\n",
    "s5 = [1,1,0] # need to add a constance in config\n",
    "s6 = [0,1,1]\n",
    "s7 = [1,1,1] # need to add a constance in config"
   ]
  },
  {
   "cell_type": "code",
   "execution_count": 3,
   "metadata": {},
   "outputs": [],
   "source": [
    "def sample(n1, n2, n3, n4, n5, n6, n7, const7, const2, const5):\n",
    "    overlap = np.matrix( [s7 for i in range(n7)] + [s1 for i in range(n1)] + [s2 for i in range(n2)] \n",
    "                       + [s3 for i in range(n3)] + [s4 for i in range(n4)] + [s5 for i in range(n5)] \n",
    "                       + [s6 for i in range(n6)] )\n",
    "    config = [np.random.normal(0,1)+const7 for i in range(n7)] + [np.random.normal(0,1) for i in range(n1)] + [np.random.normal(0,1)+const2 for i in range(n2)] + [np.random.normal(0,1) for i in range(n3)] + [np.random.normal(0,1) for i in range(n4)] + [np.random.normal(0,1)+const5 for i in range(n5)] + [np.random.normal(0,1) for i in range(n6)]\n",
    "    config = np.matrix([[1] if i>np.median(config) else [0] for i in config])\n",
    "    sample = np.concatenate((config, overlap), axis=1)\n",
    "    df = pd.DataFrame(sample, columns = [\"phenotype\"] + [\"gene{}\".format(i+1) for i in range(sample.shape[1]-1)])\n",
    "    for col in df.columns:\n",
    "        df[col] = df[col].astype(np.uint8)\n",
    "    output = feather.write_dataframe(df, \"data/sample.feather\")\n",
    "    return df"
   ]
  },
  {
   "cell_type": "code",
   "execution_count": 4,
   "metadata": {},
   "outputs": [],
   "source": [
    "n000 = 600\n",
    "n100 = 100\n",
    "n010 = 100\n",
    "n001 = 100\n",
    "n110 = 100\n",
    "n011 = 100\n",
    "n111 = 100\n",
    "diff100 = 1\n",
    "diff110 = 0.66\n",
    "diff111 = 0.33\n",
    "sample = sample(n1=n000, n2=n100, n3=n010, n4=n001, n5=n110, n6=n011, n7=n111, \n",
    "                const7=diff111, const2=diff100, const5=diff110)"
   ]
  },
  {
   "cell_type": "code",
   "execution_count": 5,
   "metadata": {
    "scrolled": true
   },
   "outputs": [
    {
     "name": "stdout",
     "output_type": "stream",
     "text": [
      "      phenotype  gene1  gene2  gene3\n",
      "0             1      1      1      1\n",
      "1             1      1      1      1\n",
      "2             1      1      1      1\n",
      "3             1      1      1      1\n",
      "4             0      1      1      1\n",
      "5             1      1      1      1\n",
      "6             1      1      1      1\n",
      "7             0      1      1      1\n",
      "8             0      1      1      1\n",
      "9             1      1      1      1\n",
      "10            1      1      1      1\n",
      "11            0      1      1      1\n",
      "12            0      1      1      1\n",
      "13            1      1      1      1\n",
      "14            1      1      1      1\n",
      "15            1      1      1      1\n",
      "16            1      1      1      1\n",
      "17            1      1      1      1\n",
      "18            1      1      1      1\n",
      "19            0      1      1      1\n",
      "20            0      1      1      1\n",
      "21            1      1      1      1\n",
      "22            1      1      1      1\n",
      "23            1      1      1      1\n",
      "24            1      1      1      1\n",
      "25            0      1      1      1\n",
      "26            1      1      1      1\n",
      "27            1      1      1      1\n",
      "28            0      1      1      1\n",
      "29            1      1      1      1\n",
      "...         ...    ...    ...    ...\n",
      "1170          1      0      1      1\n",
      "1171          1      0      1      1\n",
      "1172          0      0      1      1\n",
      "1173          1      0      1      1\n",
      "1174          0      0      1      1\n",
      "1175          0      0      1      1\n",
      "1176          1      0      1      1\n",
      "1177          0      0      1      1\n",
      "1178          1      0      1      1\n",
      "1179          0      0      1      1\n",
      "1180          1      0      1      1\n",
      "1181          0      0      1      1\n",
      "1182          0      0      1      1\n",
      "1183          0      0      1      1\n",
      "1184          0      0      1      1\n",
      "1185          1      0      1      1\n",
      "1186          1      0      1      1\n",
      "1187          0      0      1      1\n",
      "1188          0      0      1      1\n",
      "1189          1      0      1      1\n",
      "1190          0      0      1      1\n",
      "1191          0      0      1      1\n",
      "1192          1      0      1      1\n",
      "1193          0      0      1      1\n",
      "1194          0      0      1      1\n",
      "1195          0      0      1      1\n",
      "1196          1      0      1      1\n",
      "1197          0      0      1      1\n",
      "1198          1      0      1      1\n",
      "1199          1      0      1      1\n",
      "\n",
      "[1200 rows x 4 columns]\n"
     ]
    }
   ],
   "source": [
    "print (sample)"
   ]
  },
  {
   "cell_type": "code",
   "execution_count": 6,
   "metadata": {
    "collapsed": true
   },
   "outputs": [],
   "source": [
    "def get_pvalue(gene_df):\n",
    "    cases = gene_df[gene_df[\"phenotype\"]==1]\n",
    "    ctrls = gene_df[gene_df[\"phenotype\"]==0]\n",
    "    pvalue_dict = {}\n",
    "    for gene in list(gene_df)[1:]:\n",
    "        n_gene_case = len(cases[cases[gene]==1])\n",
    "        n_nogene_case = len(cases[cases[gene]==0])\n",
    "        n_gene_ctrl = len(ctrls[ctrls[gene]==1])\n",
    "        n_nogene_ctrl = len(ctrls[ctrls[gene]==0])\n",
    "        p_value = pvalue(n_gene_case, n_gene_ctrl, n_nogene_case, n_nogene_ctrl).two_tail\n",
    "        pvalue_dict[gene] = p_value\n",
    "    return pvalue_dict"
   ]
  },
  {
   "cell_type": "code",
   "execution_count": 7,
   "metadata": {},
   "outputs": [
    {
     "data": {
      "text/plain": [
       "{'gene1': 3.924994195915807e-06,\n",
       " 'gene2': 0.016874767220460888,\n",
       " 'gene3': 0.5485481780664612}"
      ]
     },
     "execution_count": 7,
     "metadata": {},
     "output_type": "execute_result"
    }
   ],
   "source": [
    "get_pvalue(sample)"
   ]
  },
  {
   "cell_type": "code",
   "execution_count": null,
   "metadata": {
    "collapsed": true
   },
   "outputs": [],
   "source": []
  }
 ],
 "metadata": {
  "kernelspec": {
   "display_name": "Python 3",
   "language": "python",
   "name": "python3"
  },
  "language_info": {
   "codemirror_mode": {
    "name": "ipython",
    "version": 3
   },
   "file_extension": ".py",
   "mimetype": "text/x-python",
   "name": "python",
   "nbconvert_exporter": "python",
   "pygments_lexer": "ipython3",
   "version": "3.5.2"
  }
 },
 "nbformat": 4,
 "nbformat_minor": 2
}
