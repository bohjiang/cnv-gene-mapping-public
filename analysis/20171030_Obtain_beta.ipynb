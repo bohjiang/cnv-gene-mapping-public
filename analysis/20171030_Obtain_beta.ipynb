{
 "cells": [
  {
   "cell_type": "markdown",
   "metadata": {},
   "source": [
    "## Integration of $\\beta$"
   ]
  },
  {
   "cell_type": "markdown",
   "metadata": {},
   "source": [
    "$\\boldsymbol{y} = \\boldsymbol{x\\beta+\\varepsilon}$\n",
    "\n",
    "$\\beta_j \\sim (1-\\pi_j)\\delta_0 + \\pi_j\\mathcal{N}(0, \\sigma^2) $\n",
    "\n",
    "$\\log\\frac{\\pi_j}{1-\\pi_j} = \\alpha_0 + \\alpha_1A_j$\n",
    "\n",
    "$P(y\\mid x,\\alpha) = \\sum_{\\gamma} P(y \\mid x,\\gamma)\\,P(\\gamma \\mid \\alpha)$\n",
    "\n",
    "$P(\\gamma_j=1) = \\pi_j \\enspace$ or  $\\enspace \\gamma_j \\sim Bern(\\pi_j)$"
   ]
  },
  {
   "cell_type": "markdown",
   "metadata": {},
   "source": [
    "DAP-1 approximate: $\\doteq \\sum_{j: \\gamma_j=1} P(y \\mid x,\\gamma_j=1) \\,P(\\gamma_j=1 \\mid \\alpha) + \n",
    "                    P(y \\mid x,\\alpha,\\gamma_j=0 \\enspace\\forall \\, j) \\,P(\\gamma_j=0 \\enspace\\forall \\, j)$\n",
    "\n",
    "Next MLE of $\\alpha$"
   ]
  },
  {
   "cell_type": "markdown",
   "metadata": {},
   "source": [
    "$\\boldsymbol{y} = \\boldsymbol{x\\beta}, \\enspace \\beta \\sim \\mathcal{N}(0, \\sigma^2)$\n",
    "\n",
    "$P(y \\mid x) = \\int P(y \\mid x,\\beta)\\,P(\\beta)d\\beta$"
   ]
  },
  {
   "cell_type": "markdown",
   "metadata": {},
   "source": []
  }
 ],
 "metadata": {
  "kernelspec": {
   "display_name": "Python 3",
   "language": "python",
   "name": "python3"
  },
  "language_info": {
   "codemirror_mode": {
    "name": "ipython",
    "version": 3
   },
   "file_extension": ".py",
   "mimetype": "text/x-python",
   "name": "python",
   "nbconvert_exporter": "python",
   "pygments_lexer": "ipython3",
   "version": "3.5.2"
  }
 },
 "nbformat": 4,
 "nbformat_minor": 2
}
