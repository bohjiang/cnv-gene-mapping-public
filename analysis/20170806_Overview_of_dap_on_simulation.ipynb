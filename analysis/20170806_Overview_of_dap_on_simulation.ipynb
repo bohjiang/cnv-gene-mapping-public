{
 "cells": [
  {
   "cell_type": "markdown",
   "metadata": {},
   "source": [
    "# DAP on simulation results"
   ]
  },
  {
   "cell_type": "markdown",
   "metadata": {},
   "source": [
    "### Data transformation: transform $y \\in \\{0,1\\}$ to $y \\in \\{0,t\\}$\n",
    "\n",
    "The area under the original normal curve is $1-\\Phi(t)$, the area under the transformed/shifted normal curve is $1-\\Phi(t-Z_\\mu)$. The mean of the original and transformed normal curve is $0$ and $Z_\\mu$.\n",
    "\n",
    "$ P(X \\geqslant t) = P(X=Z_\\mu+X' \\geqslant t) = P(X' \\geqslant t-Z_\\mu) = 1-\\Phi(t-Z_\\mu) $, in which $Z_\\mu$ is the effect size $\\beta$, and $1-\\Phi(t)$ is prevalence.\n",
    "\n",
    "$t$ is transformed $y$, only depending on the prevalence.\n",
    "\n",
    "Relative risk (RR) is the ratio of two areas under two normal curves:\n",
    "\n",
    "$ RR = \\frac{1-\\Phi(t-Z_\\mu)}{1-\\Phi(t)} $\n",
    "\n",
    "The effect size $Z_\\mu$ depends on RR and prevalence of disease. Solve $Z_\\mu$ from a given RR:\n",
    "\n",
    "$ \\Phi(t-Z_\\mu) = 1-RR*(1-\\Phi(t)) $\n",
    "\n",
    "For example, if $RR=2.5$ and prevalence=$0.01$, the effect size $Z_\\mu$ is $0.366$ and the transformed $y$ is 2.326; if $RR=5$ and prevalence = $0.01$, the effect size is $0.681$."
   ]
  },
  {
   "cell_type": "markdown",
   "metadata": {},
   "source": [
    "###  Prepare DAP input\n",
    "#### Effect Size Grid file: prior effect size specifications for causal variantscausal variants.\n",
    "ω: the average effect size; ϕ: the heterogeneity of a genetic effect across multiple subgroups.\n",
    "\n",
    "It is a two-column data matrix: 1st column specifies ϕ, 2nd column specifies ω. Each row provides a unique combination. \n",
    "\n",
    "For single study, ϕ can be set to $0$ and only ω needs to specify. The prior effect size (ω) for causal genes is $0.366\\ (Z_\\mu)$. There is only one combination for ϕ and ω, (0,0.366).\n",
    "\n",
    "#### Prior file: specifies SNP-level/gene-level prior for each candidate SNP/gene.\n",
    "The 1st column represents the SNP/gene name and the 2nd column represents the prior probability that the SNP/gene is associated.\n",
    "\n",
    "Prior probability for causal genes is set to be higher than noncausal genes. I set the prior probability for causal genes in a certain pathway $\\textbf{three}$ times as the noncausal genes. Use Calcium Signaling Pathway genes for example. This patyway include 178 causal genes (ADCY1, ADORA2A, ADRB1, etc).\n",
    "\n",
    "    chr6.ADCY1   0.0001355197\n",
    "    chr8.ADORA2A 0.0001355197\n",
    "    ...\n",
    "    chr1.XXXXX   4.517324e-05\n",
    "    ..."
   ]
  },
  {
   "cell_type": "markdown",
   "metadata": {},
   "source": [
    "#### Run DAP\n",
    "Use feather file generated from simulation, effect size grid file and prior file generated in last step to run DAP.\n",
    "\n",
    "For small sample size simulation, there is no PIP generated for any gene, due to the lack of power. And the association model with greatest posterior probability is NULL, which means it is hard to identify the causal genes.\n",
    "\n",
    "For large sample size simulation, for example, 4000 samples, "
   ]
  },
  {
   "cell_type": "code",
   "execution_count": 18,
   "metadata": {},
   "outputs": [
    {
     "data": {
      "text/plain": [
       "{1, 4, 5, 7}"
      ]
     },
     "execution_count": 18,
     "metadata": {},
     "output_type": "execute_result"
    }
   ],
   "source": [
    "set([1,1,1,4,5,7])"
   ]
  },
  {
   "cell_type": "code",
   "execution_count": null,
   "metadata": {
    "collapsed": true
   },
   "outputs": [],
   "source": []
  }
 ],
 "metadata": {
  "kernelspec": {
   "display_name": "Python 3",
   "language": "python",
   "name": "python3"
  },
  "language_info": {
   "codemirror_mode": {
    "name": "ipython",
    "version": 3
   },
   "file_extension": ".py",
   "mimetype": "text/x-python",
   "name": "python",
   "nbconvert_exporter": "python",
   "pygments_lexer": "ipython3",
   "version": "3.5.2"
  }
 },
 "nbformat": 4,
 "nbformat_minor": 2
}
