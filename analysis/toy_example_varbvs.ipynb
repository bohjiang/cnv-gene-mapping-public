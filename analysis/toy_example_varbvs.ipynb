{
 "cells": [
  {
   "cell_type": "code",
   "execution_count": 1,
   "metadata": {
    "collapsed": true
   },
   "outputs": [],
   "source": [
    "library(feather)\n",
    "library(varbvs)"
   ]
  },
  {
   "cell_type": "code",
   "execution_count": 2,
   "metadata": {},
   "outputs": [
    {
     "name": "stdout",
     "output_type": "stream",
     "text": [
      "[1] 1200\n"
     ]
    }
   ],
   "source": [
    "newdat = read_feather(\"data/sample.feather\")\n",
    "newmatrix = matrix(as.double(unlist(newdat)), dim(newdat)[1], dim(newdat)[2])\n",
    "colnames(newmatrix) = colnames(newdat)\n",
    "print (dim(newdat)[1])"
   ]
  },
  {
   "cell_type": "code",
   "execution_count": 3,
   "metadata": {},
   "outputs": [],
   "source": [
    "newfit = varbvs(newmatrix[,-1], NULL, newmatrix[,1], family = \"binomial\", \n",
    "                logodds = seq(-3.5,-1,0.1), sa = 1, verbose = F)\n",
    "newfit$summary = summary(newfit)\n",
    "newfit$w = normalizelogweights(newfit$logw)\n",
    "newfit$pip = newfit$alpha %*% c(newfit$w)\n",
    "newfit$beta = newfit$mu %*% c(newfit$w)\n",
    "newfit$var_names = colnames(newdat[-1])"
   ]
  },
  {
   "cell_type": "code",
   "execution_count": 4,
   "metadata": {},
   "outputs": [
    {
     "name": "stdout",
     "output_type": "stream",
     "text": [
      "Summary of fitted Bayesian variable selection model:\n",
      "family:     binomial   num. hyperparameter settings: 26\n",
      "samples:    1200       iid variable selection prior: yes\n",
      "variables:  3          fit prior var. of coefs (sa): no\n",
      "covariates: 1          fit approx. factors (eta):    yes\n",
      "maximum log-likelihood lower bound: -811.1834\n",
      "Hyperparameters: \n",
      "        estimate Pr>0.95             candidate values\n",
      "sa            NA [NA,NA]             1--1\n",
      "logodds    -1.40 [-2.30,-1.00]       (-3.50)--(-1.00)\n",
      "Selected variables by probability cutoff:\n",
      ">0.10 >0.25 >0.50 >0.75 >0.90 >0.95 \n",
      "    1     1     1     1     1     1 \n",
      "Top 3 variables by inclusion probability:\n",
      "  index variable   prob PVE  coef*  Pr(coef.>0.95)\n",
      "1     1    gene1 1.0000  NA  1.022 [+0.743,+1.283]\n",
      "2     2    gene2 0.0483  NA -0.248 [-0.502,-0.011]\n",
      "3     3    gene3 0.0300  NA -0.229 [-0.507,+0.014]\n",
      "*See help(varbvs) about interpreting coefficients in logistic regression.\n"
     ]
    },
    {
     "data": {
      "text/html": [
       "<table>\n",
       "<tbody>\n",
       "\t<tr><th scope=row>gene1</th><td>1.00000000</td></tr>\n",
       "\t<tr><th scope=row>gene2</th><td>0.04827596</td></tr>\n",
       "\t<tr><th scope=row>gene3</th><td>0.02997377</td></tr>\n",
       "</tbody>\n",
       "</table>\n"
      ],
      "text/latex": [
       "\\begin{tabular}{r|l}\n",
       "\tgene1 & 1.00000000\\\\\n",
       "\tgene2 & 0.04827596\\\\\n",
       "\tgene3 & 0.02997377\\\\\n",
       "\\end{tabular}\n"
      ],
      "text/markdown": [
       "\n",
       "| gene1 | 1.00000000 | \n",
       "| gene2 | 0.04827596 | \n",
       "| gene3 | 0.02997377 | \n",
       "\n",
       "\n"
      ],
      "text/plain": [
       "      [,1]      \n",
       "gene1 1.00000000\n",
       "gene2 0.04827596\n",
       "gene3 0.02997377"
      ]
     },
     "metadata": {},
     "output_type": "display_data"
    }
   ],
   "source": [
    "print (summary(newfit))\n",
    "newfit$pip"
   ]
  },
  {
   "cell_type": "code",
   "execution_count": null,
   "metadata": {
    "collapsed": true
   },
   "outputs": [],
   "source": []
  }
 ],
 "metadata": {
  "kernelspec": {
   "display_name": "R",
   "language": "R",
   "name": "ir"
  },
  "language_info": {
   "codemirror_mode": "r",
   "file_extension": ".r",
   "mimetype": "text/x-r-source",
   "name": "R",
   "pygments_lexer": "r",
   "version": "3.3.2"
  }
 },
 "nbformat": 4,
 "nbformat_minor": 2
}
