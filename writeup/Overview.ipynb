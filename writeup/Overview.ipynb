{
 "cells": [
  {
   "cell_type": "markdown",
   "metadata": {},
   "source": [
    "# CNV gene mapping"
   ]
  },
  {
   "cell_type": "markdown",
   "metadata": {},
   "source": [
    "## CNV\n",
    "CNVs are large genomic insertion or deletion events, which is an important source of genetic variation affecting neuropsychiatric disorders, such as autism and intellectual disability.\n",
    "The length of CNVs vary largely in size, from 50 bp to tens of millions bps, which poses unique and important analytic challenges.\n",
    "\n",
    "## Challenge and aim\n",
    "(CNVs and single-nucleotide variants (SNVs) converge on the same set of genes.)\n",
    "\n",
    "The challenge is that CNVs often span multiple genes, and it is often unclear which one is the susceptible gene.\n",
    "\n",
    "[Current analysis methods cannot effectively combine CNV data with other variants.]\n",
    "\n",
    "The aim is to develop a principled statistical method to integrate SNV and CNV data at the gene level.\n",
    "We aim to provide a rigorous statistical framework (1) to extract gene-level knowledge from CNVs, and (2) to link these findings with those from SNVs for better identification of disease genes.\n",
    "\n",
    "## Solution\n",
    "We will develop an approach using Bayesian statistics to obtain the probability of the genes from CNV data.\n",
    "infer the posterior probabilities of genes affecting the disease risk.\n",
    "1. Do CNV-level analyses to estimate the evidence whether each CNV is disease-related. The evidence will be expressed as probabilities.\n",
    "2. Next, we find the best configurations of genes (the vector of variables indicating whether each gene is a risk gene) consistent with the evidence for CNVs."
   ]
  }
 ],
 "metadata": {
  "kernelspec": {
   "display_name": "Python 3",
   "language": "python",
   "name": "python3"
  },
  "language_info": {
   "codemirror_mode": {
    "name": "ipython",
    "version": 3
   },
   "file_extension": ".py",
   "mimetype": "text/x-python",
   "name": "python",
   "nbconvert_exporter": "python",
   "pygments_lexer": "ipython3",
   "version": "3.6.1"
  }
 },
 "nbformat": 4,
 "nbformat_minor": 2
}
