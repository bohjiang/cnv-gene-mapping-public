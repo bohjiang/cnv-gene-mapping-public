{
 "cells": [
  {
   "cell_type": "markdown",
   "metadata": {},
   "source": [
    "# DAP on simulation results"
   ]
  },
  {
   "cell_type": "code",
   "execution_count": 1,
   "metadata": {
    "collapsed": true
   },
   "outputs": [],
   "source": [
    "import numpy as np\n",
    "import pandas as pd\n",
    "from pprint import pprint\n",
    "# from pandasql import sqldf\n",
    "from scipy import stats\n",
    "# import pickle\n",
    "import feather\n",
    "from collections import Counter\n",
    "from datetime import datetime"
   ]
  },
  {
   "cell_type": "markdown",
   "metadata": {},
   "source": [
    "#### Data transform: $y \\in \\{0,1\\}$ to $y \\in \\{0,t\\}$"
   ]
  },
  {
   "cell_type": "code",
   "execution_count": 2,
   "metadata": {},
   "outputs": [
    {
     "name": "stdout",
     "output_type": "stream",
     "text": [
      "2.32634787404 0.366383889501\n"
     ]
    }
   ],
   "source": [
    "# the lifetime prevalence of schizophrenia is 4.0/1000, not 1%, but we first set it as 0.01\n",
    "# according to https://www.ncbi.nlm.nih.gov/pmc/articles/PMC1140960/\n",
    "prevalence = 0.01\n",
    "# relative risk is normally between 2 and 10\n",
    "RR = 2.5\n",
    "t = stats.norm(0,1).ppf(1-prevalence)\n",
    "# effect size of beta is z_mu, prior\n",
    "z_mu = t - stats.norm(0,1).ppf(1-RR*prevalence)\n",
    "print (t, z_mu)"
   ]
  },
  {
   "cell_type": "code",
   "execution_count": 3,
   "metadata": {
    "collapsed": true,
    "scrolled": true
   },
   "outputs": [],
   "source": [
    "# create prior file\n",
    "cal_pthwy_genes = pd.read_table(\"../data/calciumgeneset.txt\", skiprows = 2, header = None, names = [\"gene_name\"])\n",
    "ref_genes = pd.read_table(\"data/refGene.txt.gz\", compression=\"gzip\", sep=\"\\t\", header = None, \n",
    "                          usecols=(2,12), names=[\"chrom\", \"gene_name\"]).drop_duplicates(subset=(\"gene_name\"))\n",
    "calpath_gene_pos = pd.merge(ref_genes, cal_pthwy_genes, how=\"inner\", on=[\"gene_name\"])\n",
    "diff = set(cal_pthwy_genes[\"gene_name\"].tolist()) - set(calpath_gene_pos[\"gene_name\"].tolist())\n",
    "# add the two missing genes and their chromosome in the dataframe\n",
    "calpath_gene_pos.loc[calpath_gene_pos.shape[0]] = [\"chr2\", list(diff)[0]]\n",
    "calpath_gene_pos.loc[calpath_gene_pos.shape[0]] = [\"chr15\", list(diff)[1]]"
   ]
  },
  {
   "cell_type": "code",
   "execution_count": 4,
   "metadata": {
    "collapsed": true,
    "scrolled": true
   },
   "outputs": [],
   "source": [
    "calpath_gene_pos[\"chr.gene\"] = calpath_gene_pos.apply(lambda row: \"{}.{}\".format(row[\"chrom\"], row[\"gene_name\"]), \n",
    "                                                      axis=1)\n",
    "calpath_gene_pos[\"prior.pr\"] = calpath_gene_pos.apply(lambda row: np.random.uniform(0, z_mu), axis=1)"
   ]
  },
  {
   "cell_type": "code",
   "execution_count": 5,
   "metadata": {
    "collapsed": true
   },
   "outputs": [],
   "source": [
    "beta = z_mu\n",
    "y_tran = t"
   ]
  },
  {
   "cell_type": "code",
   "execution_count": 6,
   "metadata": {
    "collapsed": true,
    "scrolled": true
   },
   "outputs": [],
   "source": [
    "def run_dap(df, fileout, pthwy_genes, multiplier = 3, prefix = None, exec_path = None):\n",
    "    '''Convert pandas dataframe to dap input:\n",
    "        - phenotype / genotype file\n",
    "        - prior file\n",
    "        - grid file (of effect size): omega^2 + phi^2 is what we care. Let's set it to\n",
    "          (0, beta) for now, as we only have one Y\n",
    "    '''\n",
    "    print (str(datetime.now()))\n",
    "    import os\n",
    "    if prefix is None:\n",
    "        import time\n",
    "        prefix = \"/tmp/F\" + str(time.time())\n",
    "    if exec_path is None:\n",
    "        exec_path = 'dap/dap'\n",
    "#     chrom = [\"chr{}\".format(i) for i in list(range(1,23))+[\"X\"]]\n",
    "#     pos is all the gene names showed in .feather\n",
    "    pos = df.columns.values[1:].tolist()\n",
    "#     first item in \"dat\" is phenotype for all samples (# of rows in .feather)\n",
    "    dat = [['pheno', 'trait', 'chicago'] + [str(x) for x in df['phenotype']]]\n",
    "    prior = []\n",
    "    grid = [(0, beta)]\n",
    "#     item is gene name\n",
    "    for idx, item in enumerate(df.columns.values):\n",
    "        if item == \"phenotype\":\n",
    "            continue\n",
    "        dat.append(['geno', '{}.{}'.format(ref_genes[ref_genes[\"gene_name\"]==item][\"chrom\"].tolist()[0], item), \n",
    "                    'chicago'] + [str(x) for x in df[item]])\n",
    "        n_overlap_gene = len(set(pthwy_genes[\"gene_name\"]) & set(pos))\n",
    "        prior_causal = multiplier / len(set(pos))\n",
    "        prior_noncausal = (1-prior_causal*n_overlap_gene) / (len(set(pos))-n_overlap_gene)\n",
    "        if multiplier <= 1.0:\n",
    "            prior_pr = 1 / len(set(pos))\n",
    "        else:\n",
    "            prior_pr = str(prior_causal) if item in pthwy_genes[\"gene_name\"].tolist() else str(prior_noncausal)\n",
    "        prior.append(['{}.{}'.format(ref_genes[ref_genes[\"gene_name\"]==item][\"chrom\"].tolist()[0], item), prior_pr])\n",
    "#     print (prior_causal, prior_noncausal)\n",
    "    with open(prefix + '.dat', 'w') as f:\n",
    "        f.write('\\n'.join([' '.join(x) for x in dat]))\n",
    "    with open(prefix + '.prior', 'w') as f:\n",
    "        f.write('\\n'.join([' '.join(x) for x in prior]))\n",
    "    with open(prefix + '.grid', 'w') as f:\n",
    "        f.write('\\n'.join([' '.join(map(str, x)) for x in grid]))\n",
    "    os.system(\"{0} -d {1}.dat -g {1}.grid -t 8 -it 0.05 -prior {1}.prior > {2}\".format(exec_path, prefix, fileout))\n",
    "    print (str(datetime.now()))\n",
    "#     return prior"
   ]
  },
  {
   "cell_type": "code",
   "execution_count": null,
   "metadata": {},
   "outputs": [
    {
     "name": "stdout",
     "output_type": "stream",
     "text": [
      "2017-08-07 16:30:25.394433\n"
     ]
    }
   ],
   "source": [
    "filename = \"data/del_sim_shape5_scale1_p0.01_N4000_M100_12.data.feather\"\n",
    "fileout = \"data/del_sim_shape5_scale1_p0.01_N4000_M100_12.data.dap\"\n",
    "\n",
    "# filename = \"data/del_test_data.feather\"\n",
    "# fileout = \"data/del_test_data.dap\"\n",
    "\n",
    "input_file = feather.read_dataframe(filename)\n",
    "input_file[\"phenotype\"] = input_file.apply(lambda row: y_tran if row[\"phenotype\"]==1.0 else 0, axis=1)\n",
    "\n",
    "run_dap(input_file, fileout, cal_pthwy_genes)"
   ]
  },
  {
   "cell_type": "code",
   "execution_count": null,
   "metadata": {
    "collapsed": true,
    "scrolled": true
   },
   "outputs": [],
   "source": [
    "# calpath_gene_pos.to_csv(\"test.csv\", sep=\"\\t\")"
   ]
  },
  {
   "cell_type": "code",
   "execution_count": null,
   "metadata": {
    "collapsed": true
   },
   "outputs": [],
   "source": [
    "# chrom\n",
    "# chrom = [\"chr{}\".format(i) for i in list(range(1,23))+[\"X\"]]\n",
    "# print ((chrom))"
   ]
  },
  {
   "cell_type": "code",
   "execution_count": null,
   "metadata": {
    "collapsed": true
   },
   "outputs": [],
   "source": [
    "# [I 15:34:54.151 NotebookApp] Accepting one-time-token-authenticated connection from ::1\n",
    "# [I 15:34:54.814 NotebookApp] Kernel started: 60079e22-d81d-4f83-a293-c5750b5456a1\n",
    "# [I 15:36:54.808 NotebookApp] Saving file at /20170726_Dap_on_simulation.ipynb\n",
    "# [W 15:42:01.170 NotebookApp] WebSocket ping timeout after 92790 ms.\n",
    "# [I 15:44:57.820 NotebookApp] KernelRestarter: restarting kernel (1/5)"
   ]
  }
 ],
 "metadata": {
  "kernelspec": {
   "display_name": "Python 3",
   "language": "python",
   "name": "python3"
  },
  "language_info": {
   "codemirror_mode": {
    "name": "ipython",
    "version": 3
   },
   "file_extension": ".py",
   "mimetype": "text/x-python",
   "name": "python",
   "nbconvert_exporter": "python",
   "pygments_lexer": "ipython3",
   "version": "3.5.2"
  }
 },
 "nbformat": 4,
 "nbformat_minor": 2
}
