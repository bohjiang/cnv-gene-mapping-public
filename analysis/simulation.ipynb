{
 "cells": [
  {
   "cell_type": "markdown",
   "metadata": {
    "collapsed": true
   },
   "source": [
    "# Simulation of Exome-wide CNV data for case control samples\n",
    "\n",
    "## Simulation outline\n",
    "For given type of CNV (e.g. duplication) we first simulate all the variants across exome, \n",
    "then assign these simulated CNVs to genes. For case samples we expect an enrichment in causal\n",
    "genes and the enrichment should be quantified by relative risk of a CNV's contribution to disease\n",
    "when presented in causal gene vs. non causal gene.\n",
    "\n",
    "## Parameters\n",
    "We define causal CNV as CNV in causal gene, and denote it as CCNV. Likewise we have NCNV for non-causal CNV.\n",
    "\n",
    "| Parameter | Description | Value|\n",
    "|:-----:|:-----:|:-----:|\n",
    "|$\\lambda$|Average number of CNV per exome| 100 for dup, 20 for del (*FIXME: reference required*)|\n",
    "|$p_L$|Parameter for Geometric distribution that models length of CNV|To be fitted from data|\n",
    "|$\\gamma$| Odds ratio of CCNV|To draw from distribution Gamma(5, 1)|\n",
    "|$p_0$| Pr(case &#124; NCNV)| To be calculated below|\n",
    "|$p_1$| Pr(case &#124; CCNV)| To be calculated from $p_0$ and $\\gamma$|\n",
    "|$N_0, N_1$| Case / Ctrl sample size|Various numbers|\n",
    "|$q$| Proportion of causal gene|(*FIXME: reference required*)|\n",
    "|$k$| The prevalence of disease|(*FIXME: reference required*)|"
   ]
  },
  {
   "cell_type": "markdown",
   "metadata": {},
   "source": [
    "## Simulation steps\n",
    "The steps below simulates exome data for single individual case or control for one type of CNV. \n",
    "\n",
    "### Step 1: Simulate number of CNV per exome\n",
    "Simply drawn from Pois($\\lambda$)\n",
    "\n",
    "### Step 2: Get the length of each of these CNV simulated\n",
    "First, separate genome to 10K blocks and find how many CNVs start within each block (for real data), draw histogram and create a table. Define any block containing 2 or more CNVs as a hotspot.\n",
    "\n",
    "Second, mimic the distribution of the length of CNV: fit a mixture of geometric, a prop is long tail, a prop is short and a prop is normal.\n",
    "\n",
    "Finally for each CNV, draw the length of it from the distribution obtained, and set the start point according to the histogram of CNV start point among 10K blocks, and set the length according to mixed geometric.\n",
    "\n",
    "### Step 3: Get the probability of a sample being case give all CNVs\n",
    "Suppose $p$ is baseline probability of the disease (prevalence), and $r_0$ is the baseline odds $\\frac{p}{1-p}$.\n",
    "\n",
    "Given simulated CNVs in a sample, the probability for the sample to be case is $p_1$, then the odds ratio for case is $r_1 = r_0 \\times R = \\frac{p_1}{1-p_1}$, $R$ is the combined relative risks of the all CNVs involved in a sample. Each $R_i$ for causal CNVs is to be sampled from Gamma(1,5), $R = \\prod_{i=1}^{\\#CNV} R_i$. For noncausal CNV, the $R_i$ is 1. Then $P(case|all CNV) = p_1 = \\frac{r_0*R}{1+r_0*R}$, and $P(ctrl|all CNV) = 1-p_1$.\n",
    "\n",
    "Since $p_1$ is small, about $\\frac{1}{p} * n$ trials are to be simulated in order to obtain $n$ cases. However, $n$ controls are easy to obtain.\n",
    "\n",
    "### Step 4: Check if CNVs overlap with causal gene\n",
    "Causal/noncausal gene positions are supposed to be determined by literature. But we can simulate randomly for starters."
   ]
  },
  {
   "cell_type": "markdown",
   "metadata": {},
   "source": [
    "## Implementation"
   ]
  },
  {
   "cell_type": "code",
   "execution_count": 2,
   "metadata": {
    "collapsed": false
   },
   "outputs": [],
   "source": [
    "import random\n",
    "import pandas as pd\n",
    "from pandasql import sqldf\n",
    "import numpy as np\n",
    "import matplotlib.pyplot as plt\n",
    "import seaborn as sns\n",
    "from scipy import stats\n",
    "import math\n",
    "%matplotlib inline"
   ]
  },
  {
   "cell_type": "code",
   "execution_count": 3,
   "metadata": {
    "collapsed": false
   },
   "outputs": [],
   "source": [
    "ref_gene = pd.read_table(\"data/refGene.txt.gz\", compression=\"gzip\", sep=\"\\t\", \n",
    "                         header = None, usecols=(1,2,4,5,12), \n",
    "                         names = [\"tx_name\", \"chrom\", \"tx_start\", \"tx_end\", \"gene_name\"])\n",
    "#gene_df = ref_gene.drop_duplicates(subset=(\"chrom\", \"tx_start\", \"tx_end\", \"gene_name\"))\n",
    "gene_df = ref_gene.drop_duplicates(subset=(\"chrom\", \"tx_start\", \"tx_end\"))\n",
    "query = '''\n",
    "select chrom, gene_name, min(tx_start), max(tx_end)\n",
    "from gene_df\n",
    "group by chrom, gene_name\n",
    "'''\n",
    "gene_table = sqldf(query)\n",
    "#print (gene_table)"
   ]
  },
  {
   "cell_type": "markdown",
   "metadata": {},
   "source": [
    "## Step 1 & 2"
   ]
  },
  {
   "cell_type": "code",
   "execution_count": 61,
   "metadata": {
    "collapsed": true
   },
   "outputs": [
    {
     "name": "stdout",
     "output_type": "stream",
     "text": [
      "      chrom   cnv_end  cnv_start\n",
      "0     chr22  14819432   14482342\n",
      "1     chr22  14773706   14602695\n",
      "2     chr22  14773706   14628691\n",
      "3     chr22  18686472   17107473\n",
      "4     chr22  18683948   17237164\n",
      "5     chr22  19787084   17237164\n",
      "6     chr22  19921620   17237164\n",
      "7     chr22  18686472   17250982\n",
      "8     chr22  18772411   17250982\n",
      "9     chr22  18684681   17259415\n",
      "10    chr22  19787084   17259415\n",
      "13    chr22  19921620   17259415\n",
      "14    chr22  19787084   19030407\n",
      "15    chr22  19790390   19041490\n",
      "16    chr22  20169910   19867169\n",
      "17    chr22  20141115   19919583\n",
      "18    chr22  20158803   19919583\n",
      "19    chr22  20169910   19919583\n",
      "24    chr22  20241878   20140420\n",
      "31    chr22  20259123   20140420\n",
      "32    chr22  20241878   20140609\n",
      "33    chr22  20765490   20639721\n",
      "34    chr22  20793966   20639721\n",
      "35    chr22  32497356   32395166\n",
      "36    chr22  32604804   32496603\n",
      "37    chr17    949597     119382\n",
      "38    chr17   1411257    1180365\n",
      "39    chr17   3504075    3393059\n",
      "40    chr17   4059672    3890292\n",
      "41    chr17   6198131    5541518\n",
      "...     ...       ...        ...\n",
      "1333  chr14  27094285   26986423\n",
      "1335  chr14  41009478   37569543\n",
      "1336  chr14  38673787   37939825\n",
      "1337  chr14  41066682   40915706\n",
      "1338  chr14  41069017   40915706\n",
      "1340  chr14  41074958   40915706\n",
      "1342  chr14  41074958   40917004\n",
      "1343  chr14  42194930   41762699\n",
      "1344  chr14  42154237   42042721\n",
      "1345  chr14  42360600   42042721\n",
      "1346  chr14  42154237   42042787\n",
      "1347  chr14  43728537   42134475\n",
      "1348  chr14  43234621   43132612\n",
      "1349  chr14  45865527   45687634\n",
      "1350  chr14  47930190   47812099\n",
      "1351  chr14  47929708   47817280\n",
      "1352  chr14  47930190   47817280\n",
      "1353  chr14  47930470   47817280\n",
      "1354  chr14  47974882   47858175\n",
      "1356  chr14  47983250   47858175\n",
      "1358  chr14  47974919   47858226\n",
      "1360  chr14  47981452   47858226\n",
      "1365  chr14  61927142   61784411\n",
      "1366  chr14  62203805   61881530\n",
      "1367  chr14  66470394   66287336\n",
      "1368  chr14  79636319   79536021\n",
      "1370  chr14  81939864   81693201\n",
      "1371  chr14  82458569   82186231\n",
      "1372  chr14  82613522   82436148\n",
      "1373  chr14  84140365   83901679\n",
      "\n",
      "[1161 rows x 3 columns]\n"
     ]
    }
   ],
   "source": [
    "filename = \"data/ISC-r1.CNV.bed\"\n",
    "cnvbed = {}\n",
    "dataset = None\n",
    "for line in open(filename).readlines():\n",
    "    if not line.startswith(\"chr\"):\n",
    "        dataset = line.strip().split()[1].lstrip(\"name=\")\n",
    "        cnvbed[dataset] = {}\n",
    "        continue\n",
    "    line = line.strip().split()\n",
    "    if not line[0] in cnvbed[dataset]:\n",
    "        cnvbed[dataset][line[0]] = []\n",
    "    cnvbed[dataset][line[0]].append((int(line[1]),int(line[2])))\n",
    "    \n",
    "for dataset in cnvbed.keys():\n",
    "    for chrom in cnvbed[dataset]:\n",
    "        cnvbed[dataset][chrom].sort()\n",
    "\n",
    "cnvbed_df = {}\n",
    "for dataset in cnvbed.keys():\n",
    "    cnvbed_df[dataset] = {\"chrom\":[], \"cnv_start\":[], \"cnv_end\":[]}\n",
    "    for chrom in cnvbed[dataset]:\n",
    "        start, end = tuple(zip(*cnvbed[dataset][chrom])) \n",
    "        cnvbed_df[dataset][\"chrom\"].extend([chrom] * len(start))\n",
    "        cnvbed_df[dataset][\"cnv_start\"] += list(start)\n",
    "        cnvbed_df[dataset][\"cnv_end\"] += list(end)\n",
    "    cnvbed_df[dataset] = pd.DataFrame.from_dict(cnvbed_df[dataset]).drop_duplicates(\n",
    "                                            subset=(\"chrom\", \"cnv_start\", \"cnv_end\"))\n",
    "print (cnvbed_df[\"delCases\"])"
   ]
  },
  {
   "cell_type": "code",
   "execution_count": 75,
   "metadata": {
    "collapsed": false
   },
   "outputs": [
    {
     "name": "stdout",
     "output_type": "stream",
     "text": [
      "14432528\n",
      "14525461\n",
      "14432528\n",
      "14482342\n"
     ]
    }
   ],
   "source": [
    "# check if there are overlaps in 10K blocks genome\n",
    "x = [i*10000 for i in range(1,100)]\n",
    "y = [item-9999 for item in x]\n",
    "blocks = list(zip(y, x))\n",
    "#print (blocks)\n",
    "for name, value in cnvbed_df.items():\n",
    "    # chrom same\n",
    "    value[\"cnv_start\"]\n",
    "    print (value[\"cnv_start\"][0])"
   ]
  },
  {
   "cell_type": "code",
   "execution_count": 14,
   "metadata": {
    "collapsed": true
   },
   "outputs": [],
   "source": [
    "# check if there are overlaps in CNVs\n",
    "cnv_overlap = {}\n",
    "for name, value in cnvbed_df.items():\n",
    "    query = \"\"\"\n",
    "    \n",
    "    FROM value\n",
    "    WHERE chrom == chrom\n",
    "    \"\"\""
   ]
  },
  {
   "cell_type": "code",
   "execution_count": 153,
   "metadata": {
    "collapsed": true
   },
   "outputs": [],
   "source": [
    "n1 = 20 # to be obtained from literature\n",
    "n2 = 80 # to be obtained from literature\n",
    "p_del = 0.00006 # to be obtained from real data\n",
    "p_dup = 0.00004 # to be obtained from real data\n",
    "n_delcase = 1000\n",
    "n_delctrl = 1000\n",
    "n_dupcase = 1000\n",
    "n_dupctrl = 1000\n",
    "n_del = n_delcase+n_delctrl\n",
    "n_dup = n_dupcase+n_dupctrl\n",
    "k = 0.001 # prevalence of the disease\n",
    "q = 0.002 # q: Proportion of causal gene\n",
    "shape = 5\n",
    "scale = 1"
   ]
  },
  {
   "cell_type": "code",
   "execution_count": 25,
   "metadata": {
    "collapsed": false
   },
   "outputs": [],
   "source": [
    "def delCNV(n1):\n",
    "    n_del = np.random.poisson(n1)\n",
    "    len_delcnv = np.random.geometric(p=p_del, size=n_del)+10000\n",
    "    return len_delcnv\n",
    "\n",
    "def dupCNV(n2):\n",
    "    n_dup = np.random.poisson(n2)\n",
    "    len_dupcnv = np.random.geometric(p=p_dup, size=n_dup)+10000\n",
    "    return len_dupcnv"
   ]
  },
  {
   "cell_type": "markdown",
   "metadata": {},
   "source": [
    "## Step 3"
   ]
  },
  {
   "cell_type": "code",
   "execution_count": null,
   "metadata": {
    "collapsed": true
   },
   "outputs": [],
   "source": [
    "def genegroup(genelist):\n",
    "    cslgene = random.sample(genelist, int(q*len(genelist)))\n",
    "    noncslgene = genelist - cslgene\n",
    "    return (cslgene, noncslgene)\n",
    "\n",
    "def p_case(q,k):\n",
    "    # p1: Pr(case | CCNV), p0: Pr(case | NCNV)\n",
    "    rv = np.random.gamma(shape, scale)\n",
    "    a = q*rv-q\n",
    "    b = k-k*rv-q*rv+q-1\n",
    "    c = k*rv\n",
    "    p1 = (-b-math.sqrt(b**2-4*a*c)) / (2*a)\n",
    "    p_ccnv_case = p1*q / k\n",
    "    p_ncnv_case = 1 - p_ccnv_case\n",
    "    return (p_ccnv_case, p_ncnv_case)\n",
    "\n",
    "def p_ctrl(q):\n",
    "    p_ccnv_ctrl = q\n",
    "    p_ncnv_ctrl = 1-q\n",
    "    return (p_ccnv_ctrl, p_ncnv_ctrl)"
   ]
  },
  {
   "cell_type": "markdown",
   "metadata": {},
   "source": [
    "### Trial"
   ]
  },
  {
   "cell_type": "code",
   "execution_count": 79,
   "metadata": {
    "collapsed": false
   },
   "outputs": [
    {
     "name": "stdout",
     "output_type": "stream",
     "text": [
      "4.889419045453884\n",
      "0.043919588316617804\n"
     ]
    },
    {
     "data": {
      "text/plain": [
       "(0.08783917663323561, 0.9121608233667644)"
      ]
     },
     "execution_count": 79,
     "metadata": {},
     "output_type": "execute_result"
    }
   ],
   "source": [
    "def cnvg(shape, scale):\n",
    "    k = 0.01 # prevalence of the disease\n",
    "    q = 0.02 # q: Proportion of causal gene\n",
    "    r = np.random.gamma(shape, scale)\n",
    "    print (r)\n",
    "    a = q*r-q\n",
    "    b = k-k*r-q*r+q-1\n",
    "    c = k*r\n",
    "    p1 = (-b-math.sqrt(b**2-4*a*c)) / (2*a)\n",
    "    print (p1)\n",
    "    p_ccnv_case = p1*q/k\n",
    "    p_ncnv_case = 1 - p_ccnv_case\n",
    "    return (p_ccnv_case, p_ncnv_case)\n",
    "cnvg(5,1)"
   ]
  },
  {
   "cell_type": "code",
   "execution_count": 152,
   "metadata": {
    "collapsed": false
   },
   "outputs": [],
   "source": [
    "def CNVcase(delCNV):\n",
    "    cslcnv = []\n",
    "    CCNV = np.random.binomial(1, p_ccnv_case)\n",
    "    if CCNV==1:\n",
    "        cslcnv.append()"
   ]
  }
 ],
 "metadata": {
  "kernelspec": {
   "display_name": "Python 3",
   "language": "python",
   "name": "python3"
  },
  "language_info": {
   "codemirror_mode": {
    "name": "ipython",
    "version": 3
   },
   "file_extension": ".py",
   "mimetype": "text/x-python",
   "name": "python",
   "nbconvert_exporter": "python",
   "pygments_lexer": "ipython3",
   "version": "3.5.2"
  }
 },
 "nbformat": 4,
 "nbformat_minor": 0
}
