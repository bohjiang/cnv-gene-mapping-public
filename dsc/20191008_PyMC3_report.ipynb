{
 "cells": [
  {
   "cell_type": "markdown",
   "metadata": {
    "kernel": "SoS"
   },
   "source": [
    "# PyMC3 report: Logistic regression spike slab prior"
   ]
  },
  {
   "cell_type": "markdown",
   "metadata": {
    "kernel": "SoS"
   },
   "source": [
    "## PyMC3 introduction\n",
    "Indeed discrete prior might also be not optimal for `PyMC3`, as pointed out [in this notebook](https://www.kaggle.com/derekpowll/bayesian-lr-w-cauchy-prior-in-pymc3).\n",
    "\n",
    "Use `varbvs` results, $\\pi_0 = 0.043, \\mu = 0.777, \\sigma = 0.844$.\n",
    "\n",
    "Model\n",
    "```\n",
    "        xi = pm.Bernoulli('xi', pi0, shape = X.shape[1]) #inclusion probability for each variable\n",
    "        alpha = pm.Normal('alpha', mu = mu_intercept, sd = sigma_intercept) # Intercept\n",
    "        beta = pm.Normal('beta', mu = mu, sd = sigma , shape = X.shape[1]) #Prior for the non-zero coefficients\n",
    "        p = pm.math.dot(X, xi * beta) #Deterministic function to map the stochastics to the output\n",
    "        y_obs = pm.Bernoulli('y_obs', invlogit(p + alpha),  observed = y)  #Data likelihood\n",
    "```\n",
    "That is\n",
    "```\n",
    "        xi ∼ Bernoulli(p=0.043)\n",
    "        alpha ~ Normal(mu=0.0, sigma=1.5)\n",
    "        beta ~ Normal(mu=0.777, sigma=0.844)\n",
    "        y_obs ~ Bernoulli(p=𝑓(𝑓(), 𝑓(𝑓(), 𝑓(𝑓(𝑓(𝑓(𝑎𝑟𝑟𝑎𝑦, 𝑓(xi, beta)), 𝑓(alpha)))))))\n",
    "```"
   ]
  },
  {
   "cell_type": "markdown",
   "metadata": {
    "kernel": "SoS"
   },
   "source": [
    "## PyMC3 performance\n",
    "The number of samplers for all gene blocks is 2000.\n",
    "\n",
    "Performance is not stable when the causal variables themselves are correlated."
   ]
  },
  {
   "cell_type": "markdown",
   "metadata": {
    "kernel": "SoS"
   },
   "source": [
    "## Single effect block\n",
    "Only one positive effect gene in the block:\n",
    "1. If this gene is the most significant gene, the inclusion probabilities for this gene is the largest. For example, block # 739_743 and # 2122_2125.\n",
    "2. If this gene is correlated with other genes, share CNV-gene pattern and fisher test results, the inclusion probabilities for each correlated gene is around 1/M, M is the number of genes. For example, block # 423_427 and # 1858_1875."
   ]
  },
  {
   "cell_type": "markdown",
   "metadata": {
    "kernel": "SoS"
   },
   "source": [
    "### Block # 739_743\n",
    "#### `varbvs` summary\n",
    "Estimate the expected number of causal effects per block (sum of PIP): $0.9618$\n",
    "\n",
    "The number of true effect: 1\n",
    "\n",
    "#### Fisher test results and effect size for simulation\n",
    "    1st column: simulated gene name\n",
    "    2nd column: number of cases with CNV\n",
    "    3rd column: number of cases without CNV\n",
    "    4th column: number of controls with CNV\n",
    "    5th column: number of controls without CNV\n",
    "    6th column: fisher test pvalue\n",
    "    7th column: gene index in the block\n",
    "    8th column: simulated effect size. 0 if not shown.\n",
    "    \n",
    "    gene_name\td_c\td_nc\tnd_c\tnd_nc\tp\tindex\teffect\n",
    "    gene_742\t16   6690\t4\t6702\t0.011757\t2\t\t0.98\n",
    "    gene_743\t5\t6701\t3\t6703\t0.726481\t3\n",
    "    gene_744\t3\t6703\t2\t6704\t1.000000\t4\n",
    "    gene_741\t3\t6703\t2\t6704\t1.000000\t1\n",
    "    gene_740\t3\t6703\t2\t6704\t1.000000\t0"
   ]
  },
  {
   "cell_type": "markdown",
   "metadata": {
    "kernel": "SoS"
   },
   "source": [
    "#### PyMC3\n",
    "    1st column: gene index in the block\n",
    "    2nd column: inclusion probability\n",
    "    3rd column: beta; mean(beta)\n",
    "    4th column: beta given inclusion probability; sum(beta * inclusion probability) / sum(inclusion probability)\n",
    "\n",
    "    gene_index\tinclusion_probability\tbeta\tbeta_given_inclusion\n",
    "    2\t0.4930\t1.000700\t1.232291\n",
    "    0\t0.0360\t0.726913\t0.263216\n",
    "    3\t0.0350\t0.753536\t0.516642\n",
    "    1\t0.0295\t0.787234\t0.411099\n",
    "    4\t0.0260\t0.768642\t0.450941"
   ]
  },
  {
   "cell_type": "markdown",
   "metadata": {
    "kernel": "SoS"
   },
   "source": [
    "### Block # 2122_2125\n",
    "#### `varbvs` summary\n",
    "Estimate the expected number of causal effects per block (sum of PIP): $0.8734$\n",
    "\n",
    "The number of true effect: 1\n",
    "\n",
    "#### Fisher test results and effect size for simulation\n",
    "\n",
    "    gene_name\td_c\td_nc\tnd_c\tnd_nc\tp\tindex\teffect\n",
    "    gene_2124\t15\t6691\t3 \t6703\t0.007500\t1\t\t1.07\n",
    "    gene_2123\t94\t6612\t77\t6629\t0.218052\t0\n",
    "    gene_2126\t15\t6691\t10\t6696\t0.423920\t3\n",
    "    gene_2125\t57\t6649\t52\t6654\t0.700648\t2"
   ]
  },
  {
   "cell_type": "markdown",
   "metadata": {
    "kernel": "SoS"
   },
   "source": [
    "#### PyMC3\n",
    "    gene_index\tinclusion_probability\tbeta\tbeta_given_inclusion\n",
    "    1\t0.6035\t1.155986\t1.376268\n",
    "    3\t0.0245\t0.783276\t0.537506\n",
    "    0\t0.0135\t0.803832\t0.165683\n",
    "    2\t0.0080\t0.773949\t0.144691"
   ]
  },
  {
   "cell_type": "markdown",
   "metadata": {
    "kernel": "SoS"
   },
   "source": [
    "### Block # 423_427\n",
    "#### `varbvs` summary\n",
    "Estimate the expected number of causal effects per block (sum of PIP): $1.1193$\n",
    "\n",
    "The number of true effect: 1\n",
    "\n",
    "#### Fisher test results and effect size for simulation\n",
    "    gene_name\td_c\td_nc\tnd_c\tnd_nc\tp\tindex\tsimulated_effect\n",
    "    gene_428\t11\t6695\t1\t6705\t0.006326\t4\n",
    "    gene_424\t11\t6695\t1\t6705\t0.006326\t0\n",
    "    gene_425\t11\t6695\t1\t6705\t0.006326\t1\n",
    "    gene_426\t11\t6695\t1\t6705\t0.006326\t2\t\t1.64\n",
    "    gene_427\t11\t6695\t1\t6705\t0.006326\t3"
   ]
  },
  {
   "cell_type": "markdown",
   "metadata": {
    "kernel": "SoS"
   },
   "source": [
    "#### PyMC3\n",
    "    gene_index\tinclusion_probability\tbeta\tbeta_given_inclusion\n",
    "    2\t0.2265\t0.915212\t1.468117\n",
    "    4\t0.2150\t0.901582\t1.411006\n",
    "    3\t0.2140\t0.914493\t1.471716\n",
    "    1\t0.1975\t0.909113\t1.491242\n",
    "    0\t0.1945\t0.920599\t1.514025"
   ]
  },
  {
   "cell_type": "markdown",
   "metadata": {
    "kernel": "SoS"
   },
   "source": [
    "### Block 1858_1875\n",
    "#### `varbvs` summary\n",
    "Estimate the expected number of causal effects per block (sum of PIP): $1.4660$\n",
    "\n",
    "The number of true effect: 1\n",
    "\n",
    "#### Fisher test results and effect size for simulation\n",
    "    gene_name\td_c\td_nc\tnd_c\tnd_nc\tp\tindex\teffect\n",
    "    gene_1873\t7\t6699\t0\t6706\t0.015601\t14\t\t1.11\n",
    "    gene_1872\t7\t6699\t0\t6706\t0.015601\t13\n",
    "    gene_1859\t12\t6694\t3\t6703\t0.035057\t0\n",
    "    gene_1874\t10\t6696\t2\t6704\t0.038490\t15\n",
    "    gene_1869\t8\t6698\t1\t6705\t0.039000\t10\n",
    "    gene_1868\t8\t6698\t1\t6705\t0.039000\t9\n",
    "    gene_1867\t8\t6698\t1\t6705\t0.039000\t8\n",
    "    gene_1866\t8\t6698\t1\t6705\t0.039000\t7\n",
    "    gene_1865\t8\t6698\t1\t6705\t0.039000\t6\n",
    "    gene_1864\t8\t6698\t1\t6705\t0.039000\t5\n",
    "    gene_1863\t8\t6698\t1\t6705\t0.039000\t4\n",
    "    gene_1862\t8\t6698\t1\t6705\t0.039000\t3\n",
    "    gene_1871\t8\t6698\t1\t6705\t0.039000\t12\n",
    "    gene_1870\t8\t6698\t1\t6705\t0.039000\t11\n",
    "    gene_1860\t1\t6705\t1\t6705\t1.000000\t1\n",
    "    gene_1861\t2\t6704\t2\t6704\t1.000000\t2\n",
    "    gene_1875\t3\t6703\t2\t6704\t1.000000\t16\n",
    "    gene_1876\t3\t6703\t2\t6704\t1.000000\t17"
   ]
  },
  {
   "cell_type": "markdown",
   "metadata": {
    "kernel": "SoS"
   },
   "source": [
    "#### PyMC3\n",
    "    gene_index\tinclusion_probability\tbeta\tbeta_given_inclusion\n",
    "    14\t0.1635\t0.885465\t1.445334\n",
    "    13\t0.1415\t0.873469\t1.438782\n",
    "    3\t0.0950\t0.808904\t1.114097\n",
    "    11\t0.0910\t0.799450\t1.168663\n",
    "    0\t0.0900\t0.805384\t1.061036\n",
    "    9\t0.0900\t0.806278\t1.133716\n",
    "    12\t0.0895\t0.811432\t1.072543\n",
    "    10\t0.0870\t0.809282\t1.182747\n",
    "    15\t0.0830\t0.776091\t1.053188\n",
    "    8\t0.0810\t0.827899\t1.242092\n",
    "    5\t0.0810\t0.806535\t1.242010\n",
    "    6\t0.0800\t0.811711\t1.300500\n",
    "    7\t0.0780\t0.798235\t1.141132\n",
    "    4\t0.0780\t0.798494\t1.135631\n",
    "    1\t0.0310\t0.750434\t0.447150\n",
    "    17\t0.0310\t0.777832\t0.583112\n",
    "    16\t0.0295\t0.782552\t0.548759\n",
    "    2\t0.0275\t0.775015\t0.365444"
   ]
  },
  {
   "cell_type": "markdown",
   "metadata": {
    "kernel": "SoS"
   },
   "source": [
    "## Multiple effect block\n",
    "### Block # 556_583\n",
    "There are 28 genes in this block. Gene index #8, #14 and #20 are positive effect genes (effect 2.03, 0.84, 0.71). 20 consecutive genes sharing the same 2by2 table and then the same fisher test results (pvalue 1.296e-38). 3 out of 20 showed simulated positive effects. Inclusion probabilities for these 20 genes range from $0.1130$ to $0.1765$, very close to each other, cannot identify the real causal genes.\n",
    "\n",
    "`susie` PIP for the 20 consecutive genes are the same, all around 0.05.\n",
    "\n",
    "#### `varbvs` summary\n",
    "Estimate the expected number of causal effects per block (sum of PIP): $2.4298$\n",
    "\n",
    "The number of true effect: 3\n",
    "\n",
    "#### Fisher test results and effect size for simulation\n",
    "\n",
    "    gene_name   d_c\td_nc  nd_c  nd_nc\t   p\tgene_index\tsimulated_effect_size\n",
    "    gene_567\t132\t6574\t1\t6705\t1.296086e-38\t10\n",
    "    gene_582\t132\t6574\t1\t6705\t1.296086e-38\t25\n",
    "    gene_581\t132\t6574\t1\t6705\t1.296086e-38\t24\n",
    "    gene_580\t132\t6574\t1\t6705\t1.296086e-38\t23\n",
    "    gene_577\t132\t6574\t1\t6705\t1.296086e-38\t20\t0.71\n",
    "    gene_579\t132\t6574\t1\t6705\t1.296086e-38\t22\n",
    "    gene_576\t132\t6574\t1\t6705\t1.296086e-38\t19\n",
    "    gene_575\t132\t6574\t1\t6705\t1.296086e-38\t18\n",
    "    gene_574\t132\t6574\t1\t6705\t1.296086e-38\t17\n",
    "    gene_566\t132\t6574\t1\t6705\t1.296086e-38\t9\n",
    "    gene_573\t132\t6574\t1\t6705\t1.296086e-38\t16\n",
    "    gene_571\t132\t6574\t1\t6705\t1.296086e-38\t14\t0.84\n",
    "    gene_570\t132\t6574\t1\t6705\t1.296086e-38\t13\n",
    "    gene_569\t132\t6574\t1\t6705\t1.296086e-38\t12\n",
    "    gene_563\t132\t6574\t1\t6705\t1.296086e-38\t6\n",
    "    gene_564\t132\t6574\t1\t6705\t1.296086e-38\t7\n",
    "    gene_565\t132\t6574\t1\t6705\t1.296086e-38\t8\t 2.03\n",
    "    gene_578\t132\t6574\t1\t6705\t1.296086e-38\t21\n",
    "    gene_568\t132\t6574\t1\t6705\t1.296086e-38\t11\n",
    "    gene_572\t132\t6574\t1\t6705\t1.296086e-38\t15\n",
    "    gene_558\t111\t6595\t1\t6705\t2.773089e-32\t1\n",
    "    gene_562\t111\t6595\t1\t6705\t2.773089e-32\t5\n",
    "    gene_559\t111\t6595\t1\t6705\t2.773089e-32\t2\n",
    "    gene_560\t111\t6595\t1\t6705\t2.773089e-32\t3\n",
    "    gene_561\t111\t6595\t1\t6705\t2.773089e-32\t4\n",
    "    gene_583\t38\t 6668\t0\t6706\t6.903390e-12\t26\n",
    "    gene_584\t21\t 6685\t0\t6706\t9.388358e-07\t27\n",
    "    gene_557\t24\t 6682\t1\t6705\t1.520613e-06\t0"
   ]
  },
  {
   "cell_type": "markdown",
   "metadata": {
    "kernel": "SoS"
   },
   "source": [
    "#### PyMC3 results\n",
    "\n",
    "    gene_index\tinclusion_probability\tbeta\tbeta_given_inclusion\n",
    "    13\t0.1765\t0.912673\t1.541970\n",
    "    17\t0.1680\t0.899262\t1.533234\n",
    "    10\t0.1565\t0.894481\t1.473024\n",
    "    22\t0.1450\t0.899563\t1.550085\n",
    "    15\t0.1400\t0.881196\t1.520979\n",
    "    18\t0.1390\t0.877870\t1.524457\n",
    "    11\t0.1365\t0.872064\t1.475609\n",
    "    16\t0.1355\t0.876335\t1.551596\n",
    "    8\t 0.1335\t0.881722\t1.562205\n",
    "    20\t0.1325\t0.879677\t1.423774\n",
    "    9\t 0.1325\t0.879466\t1.524186\n",
    "    25\t0.1320\t0.896319\t1.445784\n",
    "    21\t0.1315\t0.870917\t1.529550\n",
    "    24\t0.1315\t0.879215\t1.536151\n",
    "    14\t0.1315\t0.889288\t1.498121\n",
    "    12\t0.1300\t0.882583\t1.529814\n",
    "    23\t0.1280\t0.862068\t1.457598\n",
    "    6\t 0.1225\t0.834628\t1.497794\n",
    "    19\t0.1190\t0.860485\t1.423408\n",
    "    7\t0.1130\t0.842922\t1.405974\n",
    "    5\t0.0695\t0.806391\t1.038744\n",
    "    3\t0.0615\t0.788237\t1.092125\n",
    "    2\t0.0585\t0.787436\t0.997605\n",
    "    26\t0.0570\t0.819494\t1.083626\n",
    "    1\t0.0540\t0.783500\t0.949915\n",
    "    4\t0.0535\t0.785115\t0.938133\n",
    "    27\t0.0500\t0.769003\t0.961894\n",
    "    0\t0.0245\t0.754623\t0.167191"
   ]
  },
  {
   "cell_type": "markdown",
   "metadata": {
    "kernel": "SoS"
   },
   "source": [
    "### Block # 2092_2099\n",
    "#### `varbvs` summary\n",
    "Estimate the expected number of causal effects per block (sum of PIP): $1.3106$\n",
    "\n",
    "The number of true effect: 3\n",
    "\n",
    "#### Fisher test results and effect size for simulation\n",
    "    gene_name\td_c\td_nc\tnd_c\tnd_nc\tp\t index\teffect\n",
    "    gene_2095\t36\t6670\t8 \t6698\t0.000025\t2\t\t1.71\n",
    "    gene_2096\t37\t6669\t12\t6694\t0.000459\t3\n",
    "    gene_2097\t37\t6669\t12\t6694\t0.000459\t4\n",
    "    gene_2098\t37\t6669\t12\t6694\t0.000459\t5\n",
    "    gene_2100\t28\t6678\t11\t6695\t0.009374\t7\n",
    "    gene_2099\t28\t6678\t11\t6695\t0.009374\t6\t\t0.47\n",
    "    gene_2094\t9 \t6697\t1 \t6705\t0.021439\t1\n",
    "    gene_2093\t9 \t6697\t1 \t6705\t0.021439\t0\t\t0.18"
   ]
  },
  {
   "cell_type": "markdown",
   "metadata": {
    "kernel": "SoS"
   },
   "source": [
    "#### PyMC3\n",
    "    gene_index\tinclusion_probability\tbeta\tbeta_given_inclusion\n",
    "    2\t0.8390\t1.290242\t1.388613\n",
    "    4\t0.0785\t0.789153\t0.933225\n",
    "    0\t0.0680\t0.799668\t1.035229\n",
    "    1\t0.0635\t0.784478\t0.960614\n",
    "    5\t0.0605\t0.784214\t0.768279\n",
    "    3\t0.0565\t0.780303\t0.741498\n",
    "    7\t0.0260\t0.747943\t0.092032\n",
    "    6\t0.0235\t0.761483\t0.111491"
   ]
  },
  {
   "cell_type": "markdown",
   "metadata": {
    "kernel": "SoS"
   },
   "source": [
    "### Block # 666_677\n",
    "There are 12 genes in the block. 3 out of 12 showed positive simulated effect. Gene index #4 and #5 share the same fisher test results and their inclusion probabilities are both around $0.5$. Gene index #9, #10, #11 also share the same fisher test results and their inclusion probabilities are all around $0.10$.\n",
    "#### `varbvs` summary\n",
    "Estimate the expected number of causal effects per block (sum of PIP): $1.4477$\n",
    "\n",
    "The number of true effect: 3\n",
    "\n",
    "#### Fisher test results and effect size for simulation\n",
    "\n",
    "    gene_name  d_c\td_nc   nd_c  nd_nc   p\t\tgene_index\tsimulated_effect_size \n",
    "    gene_671\t99\t6607\t9\t6697\t1.956916e-20\t4 \t 1.28\n",
    "    gene_672\t99\t6607\t9\t6697\t1.956916e-20\t5 \t 0.53\n",
    "    gene_676\t20\t6686\t0\t6706\t1.880480e-06\t9\n",
    "    gene_678\t20\t6686\t0\t6706\t1.880480e-06\t11\t 0.98\n",
    "    gene_677\t20\t6686\t0\t6706\t1.880480e-06\t10\n",
    "    gene_673\t23\t6683\t5\t6701\t9.016016e-04\t6\n",
    "    gene_674\t23\t6683\t5\t6701\t9.016016e-04\t7\n",
    "    gene_675\t23\t6683\t5\t6701\t9.016016e-04\t8\n",
    "    gene_667\t12\t6694\t2\t6704\t1.289476e-02\t0\n",
    "    gene_668\t17\t6689\t6\t6700\t3.453722e-02\t1\n",
    "    gene_670\t17\t6689\t6\t6700\t3.453722e-02\t3\n",
    "    gene_669\t17\t6689\t6\t6700\t3.453722e-02\t2"
   ]
  },
  {
   "cell_type": "markdown",
   "metadata": {
    "kernel": "SoS"
   },
   "source": [
    "#### PyMC3 results\n",
    "    gene_index\tinclusion_probability\tbeta\tbeta_given_inclusion\n",
    "    4\t0.5460\t1.477352\t2.060144\n",
    "    5\t0.5185\t1.432267\t2.043380\n",
    "    10\t0.1325\t0.848880\t1.329551\n",
    "    9\t0.1270\t0.854411\t1.342899\n",
    "    11\t0.1080\t0.823739\t1.277766\n",
    "    8\t0.0300\t0.750469\t0.429703\n",
    "    0\t0.0240\t0.744307\t0.225855\n",
    "    7\t0.0230\t0.770120\t0.375470\n",
    "    1\t0.0195\t0.749606\t0.191625\n",
    "    6\t0.0185\t0.788487\t0.367600\n",
    "    3\t0.0150\t0.744767\t0.102463\n",
    "    2\t0.0110\t0.773154\t0.384195"
   ]
  },
  {
   "cell_type": "markdown",
   "metadata": {
    "kernel": "SoS"
   },
   "source": [
    "### Block # 1018_1031\n",
    "There are 14 genes in the block. Gene index #2 and #13 showed simulated positive effects. Fisher test Pvalue for gene #2 is uniquely smallest, and it inclusion probability (0.3040) is the largest.\n",
    "\n",
    "#### `varbvs` summary\n",
    "Estimate the expected number of causal effects per block (sum of PIP): $1.0644$\n",
    "\n",
    "The number of true effect: 2\n",
    "\n",
    "#### Fisher test results and effect size for simulation\n",
    "    gene_name\td_c  d_nc\tnd_c  nd_nc\tp\tgene_index\tsimulated_effect_size \n",
    "    gene_1021\t14   6692\t3\t6703\t0.012672\t2\t\t0.60\n",
    "    gene_1023\t7\t6699\t2\t6704\t0.179541\t4\n",
    "    gene_1024\t7\t6699\t2\t6704\t0.179541\t5\n",
    "    gene_1022\t7\t6699\t2\t6704\t0.179541\t3\n",
    "    gene_1025\t7\t6699\t2\t6704\t0.179541\t6\n",
    "    gene_1027\t7\t6699\t2\t6704\t0.179541\t8\n",
    "    gene_1030\t7\t6699\t2\t6704\t0.179541\t11\n",
    "    gene_1031\t7\t6699\t2\t6704\t0.179541\t12\n",
    "    gene_1032\t7\t6699\t2\t6704\t0.179541\t13\t\t1.07\n",
    "    gene_1029\t7\t6699\t2\t6704\t0.179541\t10\n",
    "    gene_1026\t7\t6699\t2\t6704\t0.179541\t7\n",
    "    gene_1028\t7\t6699\t2\t6704\t0.179541\t9\n",
    "    gene_1020\t9\t6697\t4\t6702\t0.266611\t1\n",
    "    gene_1019\t9\t6697\t4\t6702\t0.266611\t0"
   ]
  },
  {
   "cell_type": "markdown",
   "metadata": {
    "kernel": "SoS"
   },
   "source": [
    "#### PyMC3 results\n",
    "    gene_index\tinclusion_probability\tbeta\tbeta_given_inclusion\n",
    "    2\t0.3040\t0.926048\t1.296915\n",
    "    5\t0.0650\t0.767650\t0.801550\n",
    "    8\t0.0640\t0.777537\t0.820872\n",
    "    9\t0.0635\t0.773069\t0.866680\n",
    "    10\t0.0585\t0.791200\t0.832734\n",
    "    3\t0.0580\t0.775015\t0.843443\n",
    "    12\t0.0580\t0.796682\t0.831028\n",
    "    13\t0.0580\t0.780965\t0.919135\n",
    "    4\t0.0505\t0.768463\t0.766376\n",
    "    6\t0.0495\t0.774164\t0.727036\n",
    "    11\t0.0485\t0.796748\t0.973925\n",
    "    7\t0.0475\t0.780096\t0.834351\n",
    "    0\t0.0385\t0.804297\t0.855654\n",
    "    1\t0.0365\t0.755608\t0.538007"
   ]
  },
  {
   "cell_type": "code",
   "execution_count": 41,
   "metadata": {
    "kernel": "SoS"
   },
   "outputs": [],
   "source": [
    "import pandas as pd\n",
    "s = 666\n",
    "e = 677\n",
    "x1 = pd.read_csv(f\"/home/min/GIT/cnv-gene-mapping/data/deletion_simu/block_{s}_{e}/deletion.genes.block30.for_simu.sample.genes.block_{s}_{e}.gz\", compression = \"gzip\", header = None, sep = \"\\t\")\n",
    "y = pd.read_csv(f\"/home/min/GIT/cnv-gene-mapping/data/deletion_simu/deletion.genes.block30.for_simu.sample.y\", header = None, names = \"y\", dtype = int)"
   ]
  },
  {
   "cell_type": "code",
   "execution_count": 42,
   "metadata": {
    "kernel": "SoS"
   },
   "outputs": [
    {
     "data": {
      "text/plain": [
       "(13412, 1)"
      ]
     },
     "execution_count": 42,
     "metadata": {},
     "output_type": "execute_result"
    }
   ],
   "source": [
    "y.shape"
   ]
  },
  {
   "cell_type": "code",
   "execution_count": 43,
   "metadata": {
    "kernel": "SoS"
   },
   "outputs": [],
   "source": [
    "dat1 = pd.concat([y, x1], axis = 1)"
   ]
  },
  {
   "cell_type": "code",
   "execution_count": 44,
   "metadata": {
    "kernel": "SoS"
   },
   "outputs": [],
   "source": [
    "dat1 = dat1[(dat1.iloc[:, 1:].T != 0).any()]"
   ]
  },
  {
   "cell_type": "code",
   "execution_count": 57,
   "metadata": {
    "kernel": "SoS"
   },
   "outputs": [
    {
     "data": {
      "text/html": [
       "<div>\n",
       "<style scoped>\n",
       "    .dataframe tbody tr th:only-of-type {\n",
       "        vertical-align: middle;\n",
       "    }\n",
       "\n",
       "    .dataframe tbody tr th {\n",
       "        vertical-align: top;\n",
       "    }\n",
       "\n",
       "    .dataframe thead th {\n",
       "        text-align: right;\n",
       "    }\n",
       "</style>\n",
       "<table border=\"1\" class=\"dataframe\">\n",
       "  <thead>\n",
       "    <tr style=\"text-align: right;\">\n",
       "      <th></th>\n",
       "      <th>y</th>\n",
       "      <th>0</th>\n",
       "      <th>1</th>\n",
       "      <th>2</th>\n",
       "      <th>3</th>\n",
       "      <th>4</th>\n",
       "      <th>5</th>\n",
       "      <th>6</th>\n",
       "      <th>7</th>\n",
       "      <th>8</th>\n",
       "      <th>9</th>\n",
       "      <th>10</th>\n",
       "      <th>11</th>\n",
       "    </tr>\n",
       "  </thead>\n",
       "  <tbody>\n",
       "    <tr>\n",
       "      <td>64</td>\n",
       "      <td>1</td>\n",
       "      <td>0</td>\n",
       "      <td>1</td>\n",
       "      <td>1</td>\n",
       "      <td>1</td>\n",
       "      <td>0</td>\n",
       "      <td>0</td>\n",
       "      <td>0</td>\n",
       "      <td>0</td>\n",
       "      <td>0</td>\n",
       "      <td>0</td>\n",
       "      <td>0</td>\n",
       "      <td>0</td>\n",
       "    </tr>\n",
       "    <tr>\n",
       "      <td>75</td>\n",
       "      <td>1</td>\n",
       "      <td>0</td>\n",
       "      <td>0</td>\n",
       "      <td>0</td>\n",
       "      <td>0</td>\n",
       "      <td>1</td>\n",
       "      <td>1</td>\n",
       "      <td>0</td>\n",
       "      <td>0</td>\n",
       "      <td>0</td>\n",
       "      <td>0</td>\n",
       "      <td>0</td>\n",
       "      <td>0</td>\n",
       "    </tr>\n",
       "    <tr>\n",
       "      <td>79</td>\n",
       "      <td>1</td>\n",
       "      <td>0</td>\n",
       "      <td>0</td>\n",
       "      <td>0</td>\n",
       "      <td>0</td>\n",
       "      <td>0</td>\n",
       "      <td>0</td>\n",
       "      <td>1</td>\n",
       "      <td>1</td>\n",
       "      <td>1</td>\n",
       "      <td>0</td>\n",
       "      <td>0</td>\n",
       "      <td>0</td>\n",
       "    </tr>\n",
       "    <tr>\n",
       "      <td>104</td>\n",
       "      <td>1</td>\n",
       "      <td>0</td>\n",
       "      <td>0</td>\n",
       "      <td>0</td>\n",
       "      <td>0</td>\n",
       "      <td>1</td>\n",
       "      <td>1</td>\n",
       "      <td>0</td>\n",
       "      <td>0</td>\n",
       "      <td>0</td>\n",
       "      <td>0</td>\n",
       "      <td>0</td>\n",
       "      <td>0</td>\n",
       "    </tr>\n",
       "    <tr>\n",
       "      <td>213</td>\n",
       "      <td>1</td>\n",
       "      <td>0</td>\n",
       "      <td>0</td>\n",
       "      <td>0</td>\n",
       "      <td>0</td>\n",
       "      <td>0</td>\n",
       "      <td>0</td>\n",
       "      <td>1</td>\n",
       "      <td>1</td>\n",
       "      <td>1</td>\n",
       "      <td>0</td>\n",
       "      <td>0</td>\n",
       "      <td>0</td>\n",
       "    </tr>\n",
       "  </tbody>\n",
       "</table>\n",
       "</div>"
      ],
      "text/plain": [
       "     y  0  1  2  3  4  5  6  7  8  9  10  11\n",
       "64   1  0  1  1  1  0  0  0  0  0  0   0   0\n",
       "75   1  0  0  0  0  1  1  0  0  0  0   0   0\n",
       "79   1  0  0  0  0  0  0  1  1  1  0   0   0\n",
       "104  1  0  0  0  0  1  1  0  0  0  0   0   0\n",
       "213  1  0  0  0  0  0  0  1  1  1  0   0   0"
      ]
     },
     "execution_count": 57,
     "metadata": {},
     "output_type": "execute_result"
    }
   ],
   "source": [
    "dat1.head()"
   ]
  },
  {
   "cell_type": "code",
   "execution_count": 55,
   "metadata": {
    "kernel": "SoS"
   },
   "outputs": [
    {
     "data": {
      "text/plain": [
       "Counter({1: 107, 0: 18})"
      ]
     },
     "execution_count": 55,
     "metadata": {},
     "output_type": "execute_result"
    }
   ],
   "source": [
    "from collections import Counter\n",
    "Counter(dat1[\"y\"])"
   ]
  },
  {
   "cell_type": "markdown",
   "metadata": {
    "kernel": "SoS"
   },
   "source": [
    "### block 23_36\n",
    "There are 14 genes in the block. 4 out of 14 have positive effects (0.98, 1.75, 0.01, 0.17). Gene index #1 to #5 share the same fisher test results (1.910e-107). We expect their inclusion probabilities are close. But only #4 and #5 showed larger inclusion probabilities, 0.635 and 0.310. In contrast, inclusion probability for #2 fell to 0.\n",
    "\n",
    "When performing 2nd time, gene #1, 2, 4, 5 showed inclusion probabilities greater than 0.20, #3 around 0.09. When consecutive genes share the same CNV overlap situations, they showed randomness with respect to the rank of inclusion probability.\n",
    "#### `varbvs` summary\n",
    "Estimate the expected number of causal effects per block (sum of PIP): $2.3086$\n",
    "\n",
    "The number of true effect: 4\n",
    "#### Fisher test results and effect size for simulation\n",
    "    gene_name  d_c\td_nc\tnd_c  nd_nc\tp\t\t\tgene_index\tsimulated_effect_size\n",
    "    gene_25\t603\t6103\t76\t6630\t1.910490e-107\t1\n",
    "    gene_28\t603\t6103\t76\t6630\t1.910490e-107\t4\n",
    "    gene_27\t603\t6103\t76\t6630\t1.910490e-107\t3\n",
    "    gene_26\t603\t6103\t76\t6630\t1.910490e-107\t2\t\t\t1.75\n",
    "    gene_29\t603\t6103\t76\t6630\t1.910490e-107\t5\t\t\t0.01\n",
    "    gene_24\t528\t6178\t61\t6645\t1.710063e-97\t 0\t\t\t0.98\n",
    "    gene_30\t234\t6472\t41\t6665\t1.291823e-34\t 6\n",
    "    gene_31\t162\t6544\t26\t6680\t1.641138e-25\t 7\n",
    "    gene_32\t20\t 6686\t3\t 6703\t4.832617e-04\t 8\n",
    "    gene_33\t20\t 6686\t3\t 6703\t4.832617e-04\t 9\n",
    "    gene_34\t20\t 6686\t3\t 6703\t4.832617e-04\t 10\n",
    "    gene_37\t12\t 6694\t1\t 6705\t3.403787e-03\t 13\n",
    "    gene_36\t12\t 6694\t1\t 6705\t3.403787e-03\t 12\n",
    "    gene_35\t12\t 6694\t1\t 6705\t3.403787e-03\t 11\t\t\t0.17"
   ]
  },
  {
   "cell_type": "markdown",
   "metadata": {
    "kernel": "SoS"
   },
   "source": [
    "#### PyMC3 results\n",
    "    gene_index\tinclusion_probability\tbeta\tbeta_given_inclusion\n",
    "    4\t0.635\t1.632173\t2.081691\n",
    "    5\t0.310\t1.125279\t1.926215\n",
    "    3\t0.080\t0.914193\t1.923941\n",
    "    1\t0.060\t0.830937\t1.141560\n",
    "    6\t0.060\t0.648318\t-0.450090\n",
    "    12\t0.050\t0.841260\t0.538263\n",
    "    0\t0.030\t0.810724\t0.493963\n",
    "    8\t0.025\t0.714397\t0.013209\n",
    "    11\t0.025\t0.820051\t0.485907\n",
    "    13\t0.020\t0.805907\t0.752812\n",
    "    7\t0.010\t0.758125\t0.016305\n",
    "    10\t0.010\t0.823287\t0.027814\n",
    "    9\t0.005\t0.737005\t0.867159\n",
    "    2\t0.000\t0.865975\tNaN"
   ]
  },
  {
   "cell_type": "markdown",
   "metadata": {
    "kernel": "SoS"
   },
   "source": [
    "#### PyMC3 results (perform 2nd time)\n",
    "    gene_index\tinclusion_probability\tbeta\tbeta_given_inclusion\n",
    "    4\t0.3590\t1.169565\t1.899823\n",
    "    5\t0.2765\t1.086049\t1.846355\n",
    "    2\t0.2050\t0.992402\t1.785732\n",
    "    1\t0.2025\t1.013238\t1.850048\n",
    "    0\t0.1350\t0.763805\t0.609544\n",
    "    3\t0.0900\t0.860466\t1.652932\n",
    "    6\t0.0585\t0.704812\t-0.448460\n",
    "    11\t0.0410\t0.792157\t0.704093\n",
    "    12\t0.0360\t0.784724\t0.668371\n",
    "    13\t0.0355\t0.792590\t0.685245\n",
    "    10\t0.0265\t0.755249\t0.193445\n",
    "    9\t0.0195\t0.760171\t0.174600\n",
    "    8\t0.0185\t0.733963\t0.070547\n",
    "    7\t0.0090\t0.762858\t-0.069858"
   ]
  },
  {
   "cell_type": "code",
   "execution_count": null,
   "metadata": {
    "kernel": "SoS"
   },
   "outputs": [],
   "source": []
  }
 ],
 "metadata": {
  "kernelspec": {
   "display_name": "SoS",
   "language": "sos",
   "name": "sos"
  },
  "language_info": {
   "codemirror_mode": "sos",
   "file_extension": ".sos",
   "mimetype": "text/x-sos",
   "name": "sos",
   "nbconvert_exporter": "sos_notebook.converter.SoS_Exporter",
   "pygments_lexer": "sos"
  },
  "sos": {
   "kernels": [
    [
     "SoS",
     "sos",
     "",
     ""
    ]
   ],
   "version": "0.20.5"
  }
 },
 "nbformat": 4,
 "nbformat_minor": 4
}
