{
 "cells": [
  {
   "cell_type": "markdown",
   "metadata": {
    "kernel": "SoS"
   },
   "source": [
    "# Result using new `logistic`"
   ]
  },
  {
   "cell_type": "markdown",
   "metadata": {
    "kernel": "SoS"
   },
   "source": [
    "## Single effect result summary\n",
    "1. There are 5 genes in example block. Gene 3 owns unique CNV-gene pattern, fisher test pvalue 0.0118. Gene 1,2,5 share the same pattern, the least significant. (Table 2)\n",
    "2. There is only one true effect - gene 3, which is $0.98$.\n",
    "3. Correlations between 5 genes: See Table 1. Correlations are large, probably because some of the genes share the same or similar pattern.\n",
    "5. Parameters: PyMC3 and `logistic` use priors $\\pi_0=0.043, \\mu=0.777, \\sigma=0.844$ obtained from whole-genome varbvs. SuSiE and varbvs use default.\n",
    "4. Sum of PIP: PyMC3 is 0.6195, not close to 1; varbvs 0.9618, close to 1; susie and `logistic` is 1.\n",
    "6. Largest PIP: gene 3 has largest PIP for all methods. PyMC3 $0.493$, SuSiE $0.817$, `logistic` $0.868$, varbvs $0.607$.\n",
    "7. Estimates for posterior mean coefficients $\\mu$: PyMC3 $1.0$, SuSiE $0.00964$ (smallest), `logistic` $1.246$, varbvs $1.070$."
   ]
  },
  {
   "cell_type": "markdown",
   "metadata": {
    "kernel": "SoS"
   },
   "source": [
    "## Questions\n",
    "1. PIP for gene 3 obtained by PyMC3 are the smallest (0.493). Use mixture Gaussian instead of spike-and-slab prior?\n",
    "2. posterior variance $\\sigma$ for all genes in SuSiE are the same, reason?"
   ]
  },
  {
   "cell_type": "markdown",
   "metadata": {
    "kernel": "SoS"
   },
   "source": [
    "## Single effect results\n",
    "### Block # 739_743\n",
    "True effect: gene index 3, effect size: $0.98$\n",
    "\n",
    "#### Correlation (Table 1)\n",
    "      \tV1\t\t\tV2\t\t\tV3\t\t\tV4\t\t\tV5\n",
    "    V1\t1.0000000\t1.0000000\t0.4997202\t0.7904810\t1.0000000\n",
    "    V2\t1.0000000\t1.0000000\t0.4997202\t0.7904810\t1.0000000\n",
    "    V3\t0.4997202\t0.4997202\t1.0000000\t0.3947537\t0.4997202\n",
    "    V4\t0.7904810\t0.7904810\t0.3947537\t1.0000000\t0.7904810\n",
    "    V5\t1.0000000\t1.0000000\t0.4997202\t0.7904810\t1.0000000\n",
    "\n",
    "#### Fisher test (Table 2)\n",
    "    index\td_c\td_nc\tnd_c\tnd_nc\tp\n",
    "    3\t\t16   6690\t4\t6702\t0.011757\t\n",
    "    4\t\t5\t6701\t3\t6703\t0.726481\t\n",
    "    5\t\t3\t6703\t2\t6704\t1.000000\t\n",
    "    2\t\t3\t6703\t2\t6704\t1.000000\n",
    "    1\t\t3\t6703\t2\t6704\t1.000000\t\n",
    "\n",
    "#### `logistic` (newly implemented by Peter) posterior inclusion probabilities, and the posterior, means and standard deviations (Table 3)\n",
    "Use whole-genome `varbvs` results, $\\pi_0 = 0.043, \\mu = 0.777, \\sigma = 0.844$\n",
    "\n",
    "    index     p1       mu1        s1\n",
    "    1 0.03261352 0.6320746 0.6381212\n",
    "    2 0.03261352 0.6320746 0.6381212\n",
    "    3 0.86784779 1.2459461 0.4570842\n",
    "    4 0.03431165 0.6513176 0.5679802\n",
    "    5 0.03261352 0.6320746 0.6381212\n",
    "\n",
    "#### PyMC3  (Table 4)\n",
    "Use whole-genome `varbvs` results, $\\pi_0 = 0.043, \\mu = 0.777, \\sigma = 0.844$\n",
    "\n",
    "    1st column: gene index in the block\n",
    "    2nd column: inclusion probability\n",
    "    3rd column: beta; mean(beta)\n",
    "    4th column: beta given inclusion probability; sum(beta * inclusion probability) / sum(inclusion probability)\n",
    "\n",
    "    index\tinclusion_probability\tbeta\tbeta_given_inclusion\n",
    "    3\t0.4930\t1.000700\t1.232291\n",
    "    1\t0.0360\t0.726913\t0.263216\n",
    "    4\t0.0350\t0.753536\t0.516642\n",
    "    2\t0.0295\t0.787234\t0.411099\n",
    "    5\t0.0260\t0.768642\t0.450941\n",
    "\n",
    "#### SuSiE (Table 5)\n",
    "`susie(X, y, L = 1, scaled_prior_variance = 0.005, estimate_prior_method = \"optim\", estimate_prior_variance = TRUE)`\n",
    "\n",
    "`susie$pip, susie$mu, sqrt(susie$sigma2)`\n",
    "\n",
    "    index    pip        mu       sigma\n",
    "    1    \"0.044212\" \"0.001606 \"0.499908\"\n",
    "    2    \"0.044212\" \"0.001606 \"0.499908\"\n",
    "    3    \"0.817270\" \"0.009644 \"0.499908\"\n",
    "    4    \"0.050094\" \"0.002540 \"0.499908\"\n",
    "    5    \"0.044212\" \"0.001606 \"0.499908\"\n",
    "\n",
    "#### varbvs (Table 6)\n",
    "`varbvs::varbvs(X, NULL, y, family = \"binomial\", update.b0 = TRUE, verbose = FALSE)`\n",
    "\n",
    "`varbvs$pip, varbvs$mu %*% varbvs$w, sqrt(varbvs$s %*% varbvs$w))`\n",
    "\n",
    "    index  pip       mu        sigma\n",
    "    1   \"0.091284\" \"-0.086177 \"0.679331\"\n",
    "    2   \"0.091284\" \"-0.086170 \"0.679331\"\n",
    "    3   \"0.607564\"  \"1.070141 \"0.419637\"\n",
    "    4   \"0.080390\"  \"0.114609 \"0.585766\"\n",
    "    5   \"0.091284\" \"-0.086189 \"0.679331\""
   ]
  },
  {
   "cell_type": "code",
   "execution_count": null,
   "metadata": {
    "kernel": "SoS"
   },
   "outputs": [],
   "source": []
  }
 ],
 "metadata": {
  "kernelspec": {
   "display_name": "SoS",
   "language": "sos",
   "name": "sos"
  },
  "language_info": {
   "codemirror_mode": "sos",
   "file_extension": ".sos",
   "mimetype": "text/x-sos",
   "name": "sos",
   "nbconvert_exporter": "sos_notebook.converter.SoS_Exporter",
   "pygments_lexer": "sos"
  },
  "sos": {
   "kernels": [
    [
     "SoS",
     "sos",
     "",
     ""
    ]
   ],
   "version": "0.20.5"
  }
 },
 "nbformat": 4,
 "nbformat_minor": 4
}
