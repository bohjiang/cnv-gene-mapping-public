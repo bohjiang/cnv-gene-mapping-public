{
 "cells": [
  {
   "cell_type": "markdown",
   "metadata": {
    "kernel": "SoS"
   },
   "source": [
    "# Integrated genome-wide analysis of expression quantitative trait loci aids interpretation of genomic association studies\n",
    "Roby Joehanes, Xiaoling Zhang, Tianxiao Huan, Chen Yao, Sai-xia Ying, Quang Tri Nguyen, Cumhur Yusuf Demirkale, Michael L. Feolo, Nataliya R. Sharopova, Anne Sturcke, Alejandro A. Schäffer, Nancy Heard-Costa, Han Chen, Po-ching Liu, Richard Wang, Kimberly A. Woodhouse, Kahraman Tanriverdi, Jane E. Freedman, Nalini Raghavachari, Josée Dupuis, Andrew D. Johnson, Christopher J. O’Donnell, Daniel Levy & Peter J. Munson\n",
    "\n",
    "Genome Biology volume 18, Article number: 16 (2017)\n",
    "\n",
    "Online paper [link](https://genomebiology.biomedcentral.com/articles/10.1186/s13059-016-1142-6#article-info)"
   ]
  },
  {
   "cell_type": "markdown",
   "metadata": {
    "kernel": "SoS"
   },
   "source": [
    "## Background\n",
    "- The vast majority of the SNPs from GWAS reside in non-coding regions - most disease-associated SNPs do not directly influence protein structure or function.\n",
    "- Identification of SNPs associated with gene expression levels, known as eQTLs, may improve understanding of the functional role of phenotype-associated SNPs in GWAS.\n",
    "- Previous eQTL studies: the small sample sizes limited their statistical power."
   ]
  },
  {
   "cell_type": "markdown",
   "metadata": {
    "kernel": "SoS"
   },
   "source": [
    "## Methods\n",
    "### Study participants\n",
    "Whole blood eQTL from over 5000 samples in Framingham Heart Study (FHS) cohorts\n",
    "- 2770 individuals of eighth offspring cohort examination cycle (2005–2008)\n",
    "- 3341 indicudials of second examination cycle (2006–2009)\n",
    "\n",
    "### Quality control\n",
    "- It is detected that polymorphism-in-probe effects were generally minor\n",
    "\n",
    "### eQTL Discovery\n",
    "- Use stepwise linear regression procedure to identify independent \"lead-eQTLs\" for each genetic region, and found over 19,000 independent, lead cis-eQTLs and almost 6,000 independent, lead trans-eQTLs\n",
    "\n",
    "### eQTL Validation\n",
    "- Internal: 75% cis and 41% trans-eQTL are validated.\n",
    "- With previous studies: 50-70% previous cis-eQTL and 30-60% trans-eQTL are replicated\n",
    "- The replication in the other way is low due to lower power in previous work and different sequencing platforms, etc; but still 90% of cases the directions are consistent."
   ]
  },
  {
   "cell_type": "markdown",
   "metadata": {
    "kernel": "SoS"
   },
   "source": [
    "### Statistical analysis\n",
    "- Accounting for reported familial relationships, they removed the effects of sex, age, platelet count, white blood cell whole count, etc, from the expression data.\n",
    "- To infer hidden confounding factors, they use a Bayesian framework on the residualized gene expression data."
   ]
  },
  {
   "cell_type": "markdown",
   "metadata": {
    "kernel": "SoS"
   },
   "source": [
    "### Enrichment P value calculation\n",
    "- Enrichment: observed number divided by expected number, accounting for the LD structure of the available 8.5 million SNPs.\n",
    "- Expected numbers were obtained from the relevant 2 × 2 contingency tables.\n",
    "- The LD was computed between pairwise SNPs within the FHS dataset. "
   ]
  },
  {
   "cell_type": "markdown",
   "metadata": {
    "kernel": "SoS"
   },
   "source": [
    "### cis-eQTL, trans-eQTL, primary lead eQTL definition\n",
    "- cis: An SNP-transcript cluster pair is considered cis if the SNP resides within 1 Mb of the TSS on the same chromosome\n",
    "- trans: eQTLs that fall in blocks which did not contain the TSS for its target transcript cluster\n",
    "- primary lead eQTL:  the strongest eQTL, judged by P value for association, in its block"
   ]
  },
  {
   "cell_type": "markdown",
   "metadata": {
    "kernel": "SoS"
   },
   "source": [
    "## Results\n",
    "### eQTL discoveries\n",
    "- over 19,000 independent lead cis-eQTLs and over 6000 independent lead trans-eQTLs, with a false discovery rate (FDR) < 5%.\n",
    "- 48% are identified to be significant eQTLs"
   ]
  },
  {
   "cell_type": "markdown",
   "metadata": {
    "kernel": "SoS"
   },
   "source": [
    "### Enrichment of lead eQTL to gene structure\n",
    "- Lead eQTLs are highly enriched in exonic locations (25-fold) within the transcribed region, more so than for intronic locations (12-fold)\n",
    "- Lead eQTLs are highly enriched in first exons and 5’ UTRs, especially, of transcribed regions (45 fold).\n",
    "- Other exons, the 3’-UTR, the first intron and subsequent introns showed less degrees of enrichment (21-fold, 20-fold, 11-fold, and 8-fold)\n",
    "- cis-eQTLs act preferentially through regulatory elements within the first exon, within the 5’-UTR or near the transcription start site (TSS)."
   ]
  },
  {
   "cell_type": "markdown",
   "metadata": {
    "kernel": "SoS"
   },
   "source": [
    "### Enrichment of lead eQTLs at regulator sites\n",
    "- Regulator sites include DNAase hypersensitivity, transcription factor binding sites, and biochemically characterized regulatory promoter regions\n",
    "- It showed strong enrichment of regulatory evidence for primary and secondary lead cis-eQTLs (7-fold, P < 1E-89).\n",
    "- The primary lead cis-eQTLs alone showed a stronger enrichment (8-fold, P < 1E-69)."
   ]
  },
  {
   "cell_type": "markdown",
   "metadata": {
    "kernel": "SoS"
   },
   "source": [
    "### Clusters of trans-eQTL\n",
    "- Some trans-eQTLs are associated with multiple distant transcripts and can be grouped into compact genomic blocks or clusters.\n",
    "- At gene level, we identified 59 distinct clusters of trans-eQTLs, each targeting a set of 6 to 141 distant transcripts.\n",
    "- The most prominent trans-eQTL clusters are on chromosomes 3 and 17, and are associated with expression of plateletspecific genes.\n",
    "- They found 13 platelet-related GWAS clusters, many of which also had target gene sets enriched with platelet specific genes."
   ]
  },
  {
   "cell_type": "markdown",
   "metadata": {
    "kernel": "SoS"
   },
   "source": [
    "### GWAS analysis\n",
    "- Among the 58 GWAS SNPs for  coronary artery disease or myocardial infarction (CAD/MI), 21 loci or 36% are lead cis-eQTL.\n",
    "- The strongest eQTL (P < 1E-455), rs1412445, is in the 3rd intron of LIPA transcript variant 1 and was a cis-eQTL for LIPA expression.\n",
    "- We also identified potentially novel, strong cis-eQTLs at UBE2Z locus and SH2B3 locus, where the CAD/MI GWAS risk SNP was in very strong LD with our lead eQTL."
   ]
  },
  {
   "cell_type": "markdown",
   "metadata": {
    "kernel": "SoS"
   },
   "source": [
    "## Conclusion\n",
    "### Advantages\n",
    "- The study has large sample size, providing obvious benefits in terms of greater statistical power for discovery.\n",
    "- Expression measurement was carried out in a single laboratory with rigorous quality control.\n",
    "- The results provide an extensive resource of cis-eQTLs and trans-eQTLs at the gene and exon level, and this information may be useful for elucidating the biological underpinnings of many GWAS SNPs.\n",
    "\n",
    "### Limitations\n",
    "- The homogeneity of the FHS population may limit the applicability of their results to populations of different ancestries.\n",
    "- Lack of population diversity might also increase the size of LD blocks and thereby limit the resolution."
   ]
  },
  {
   "cell_type": "code",
   "execution_count": null,
   "metadata": {
    "kernel": "SoS"
   },
   "outputs": [],
   "source": []
  }
 ],
 "metadata": {
  "kernelspec": {
   "display_name": "SoS",
   "language": "sos",
   "name": "sos"
  },
  "language_info": {
   "codemirror_mode": "sos",
   "file_extension": ".sos",
   "mimetype": "text/x-sos",
   "name": "sos",
   "nbconvert_exporter": "sos_notebook.converter.SoS_Exporter",
   "pygments_lexer": "sos"
  },
  "sos": {
   "kernels": [
    [
     "R",
     "ir",
     "R",
     "#DCDCDA",
     ""
    ],
    [
     "SoS",
     "sos",
     "",
     "",
     "sos"
    ]
   ],
   "version": "0.21.7"
  }
 },
 "nbformat": 4,
 "nbformat_minor": 4
}
