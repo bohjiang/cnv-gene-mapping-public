{
 "cells": [
  {
   "cell_type": "markdown",
   "metadata": {},
   "source": [
    "# Analysis of toy data via DAP"
   ]
  },
  {
   "cell_type": "markdown",
   "metadata": {},
   "source": [
    "This notebook explores using [DAP](https://github.com/xqwen/dap) software directly to analyze our CNV data, on a toy example. It largely follows from [this tutorial](https://github.com/xqwen/dap/wiki/Case-study:-multi-SNP-fine-mapping)."
   ]
  },
  {
   "cell_type": "code",
   "execution_count": 1,
   "metadata": {
    "kernel": "SoS"
   },
   "outputs": [
    {
     "name": "stderr",
     "output_type": "stream",
     "text": [
      "fatal: destination path 'dap' already exists and is not an empty directory.\n"
     ]
    }
   ],
   "source": [
    "! cd ~/GIT/software; git clone https://github.com/xqwen/dap"
   ]
  },
  {
   "cell_type": "markdown",
   "metadata": {},
   "source": [
    "Here is Python codes to prepare DAP input data, from a matrix where the first column is response and the rest are regressors. In the case of our toy data the first column is disease status and the rest columns are indicators of whether a gene harbors a CNV."
   ]
  },
  {
   "cell_type": "code",
   "execution_count": 2,
   "metadata": {
    "kernel": "Python3"
   },
   "outputs": [],
   "source": [
    "import feather\n",
    "import pandas as pd\n",
    "fn = \"dap/toy_4genes_n_1280.feather\"\n",
    "dat = feather.read_dataframe(fn)\n",
    "fout = \"data/toy_4genes_n_1280.dap\"\n",
    "def run_dap(df, fout, prefix = None, exec_path = None):\n",
    "    '''Convert pandas dataframe to dap input:\n",
    "        - phenotype / genotype file\n",
    "        - prior file\n",
    "        - grid file (of effect size): omega^2 + phi^2 is what we care. lets set it to\n",
    "            1 1; 2 2; 3 3 and 4 4 for now, as we only have one Y\n",
    "    '''\n",
    "    import os\n",
    "    if prefix is None:\n",
    "        import time\n",
    "        prefix = \"/tmp/F\" + str(time.time())\n",
    "    if exec_path is None:\n",
    "        exec_path = 'dap/dap'\n",
    "    chrom = 'chr6'\n",
    "    pos = 100000\n",
    "    dat = [['pheno', 'trait', 'chicago'] + [str(x) for x in df['phenotype']]]\n",
    "    prior = []\n",
    "    grid = [(1,1),(2,2),(3,3),(4,4)]\n",
    "    for idx, item in enumerate(df.columns.values):\n",
    "        if item == 'phenotype':\n",
    "            continue\n",
    "        dat.append(['geno', '{}.{}'.format(chrom, pos + idx), 'chicago'] + [str(x) for x in df[item]])\n",
    "        prior.append(['{}.{}'.format(chrom, pos + idx), str(1/(df.shape[1] - 1))])\n",
    "    with open(prefix + '.dat', 'w') as f:\n",
    "        f.write('\\n'.join([' '.join(x) for x in dat]))\n",
    "    with open(prefix + '.prior', 'w') as f:\n",
    "        f.write('\\n'.join([' '.join(x) for x in prior]))\n",
    "    with open(prefix + '.grid', 'w') as f:\n",
    "        f.write('\\n'.join([' '.join(map(str, x)) for x in grid]))\n",
    "    os.system(\"{0} -d {1}.dat -g {1}.grid -t 8 -it 0.05 -prior {1}.prior > {2}\".format(exec_path, prefix, fout))"
   ]
  },
  {
   "cell_type": "markdown",
   "metadata": {},
   "source": [
    "To run DAP:"
   ]
  },
  {
   "cell_type": "code",
   "execution_count": 3,
   "metadata": {
    "kernel": "Python3"
   },
   "outputs": [],
   "source": [
    "run_dap(dat, fout)"
   ]
  },
  {
   "cell_type": "code",
   "execution_count": 4,
   "metadata": {
    "kernel": "SoS"
   },
   "outputs": [
    {
     "data": {
      "text/html": [
       "<pre><font color=\"green\">%preview data/toy_4genes_n_1280.dap</font></pre>"
      ]
     },
     "metadata": {},
     "output_type": "display_data"
    },
    {
     "data": {
      "text/html": [
       "<pre><font color=\"green\">> data/toy_4genes_n_1280.dap (323 B):</font></pre>"
      ],
      "text/plain": [
       "\n",
       "> data/toy_4genes_n_1280.dap (323 B):"
      ]
     },
     "metadata": {},
     "output_type": "display_data"
    },
    {
     "name": "stdout",
     "output_type": "stream",
     "text": [
      "    1   8.1932e-01    2      8.199   [chr6.100001] [chr6.100003]\n",
      "    2   1.1240e-01    1      7.336   [chr6.100001]\n",
      "\n",
      "Posterior expected model size: 1.751 (sd = 0.569)\n",
      "LogNC = 19.07723 ( Log10NC = 8.285 )\n"
     ]
    }
   ],
   "source": [
    "%preview -n data/toy_4genes_n_1280.dap"
   ]
  },
  {
   "cell_type": "code",
   "execution_count": null,
   "metadata": {
    "collapsed": true
   },
   "outputs": [],
   "source": []
  }
 ],
 "metadata": {
  "kernelspec": {
   "display_name": "SoS",
   "language": "sos",
   "name": "sos"
  },
  "language_info": {
   "codemirror_mode": "sos",
   "file_extension": ".sos",
   "mimetype": "text/x-sos",
   "name": "sos",
   "nbconvert_exporter": "sos.jupyter.converter.SoS_Exporter",
   "pygments_lexer": "sos"
  },
  "sos": {
   "kernels": [
    [
     "SoS",
     "sos",
     "",
     ""
    ],
    [
     "Python3",
     "python3",
     "Python3",
     "#EAFAF1"
    ],
    [
     "R",
     "ir",
     "R",
     "#FDEDEC"
    ]
   ],
   "panel": {
    "displayed": true,
    "height": 0,
    "style": "side"
   }
  }
 },
 "nbformat": 4,
 "nbformat_minor": 2
}
