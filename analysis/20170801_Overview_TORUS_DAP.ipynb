{
 "cells": [
  {
   "cell_type": "markdown",
   "metadata": {},
   "source": [
    "# Overview of DAP and TORUS"
   ]
  },
  {
   "cell_type": "markdown",
   "metadata": {},
   "source": [
    "#### TORUS: QTL discovery utilizing genomic annotations; Implement a computational procedure for discovering molecular QTLs incorporating genomic annotations.\n",
    "Goal: 1) Enrichment Analysis, assess the enrichment level of the annotated SNPs in the association signals; e.g. gene A is an association signal of SZ if it is significantly associated with SZ.\n",
    "\n",
    "2) QTL Discovery, discover genetic loci that harbor causal variants.\n",
    "\n",
    "Data: only summary statistics (z-score or p-value from the single SNP association test)"
   ]
  },
  {
   "cell_type": "markdown",
   "metadata": {},
   "source": [
    "#### DAP: deterministic approximation of posterior; Enables highly efficient and accurate joint enrichment analysis and identification of multiple causal variants.\n",
    "Goal: Multi-SNP Fine-mapping analysis for the identified loci from goal 2 in TORUS.\n",
    "\n",
    "Data: individual-level genotype data. Fine-mapping is performed for each locus, all the data files should be organized for each locus separately before running the analysis."
   ]
  },
  {
   "cell_type": "markdown",
   "metadata": {},
   "source": [
    "#### Multi-SNP Fine-mapping Case study"
   ]
  },
  {
   "cell_type": "markdown",
   "metadata": {},
   "source": []
  }
 ],
 "metadata": {
  "kernelspec": {
   "display_name": "Python 3",
   "language": "python",
   "name": "python3"
  },
  "language_info": {
   "codemirror_mode": {
    "name": "ipython",
    "version": 3
   },
   "file_extension": ".py",
   "mimetype": "text/x-python",
   "name": "python",
   "nbconvert_exporter": "python",
   "pygments_lexer": "ipython3",
   "version": "3.5.2"
  }
 },
 "nbformat": 4,
 "nbformat_minor": 2
}
