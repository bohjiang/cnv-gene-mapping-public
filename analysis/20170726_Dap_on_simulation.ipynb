{
 "cells": [
  {
   "cell_type": "markdown",
   "metadata": {},
   "source": [
    "# DAP on simulation results"
   ]
  },
  {
   "cell_type": "code",
   "execution_count": 1,
   "metadata": {
    "collapsed": true
   },
   "outputs": [],
   "source": [
    "import numpy as np\n",
    "import pandas as pd\n",
    "from pprint import pprint\n",
    "# from pandasql import sqldf\n",
    "from scipy import stats\n",
    "# import pickle\n",
    "import feather\n",
    "from collections import Counter\n",
    "from datetime import datetime"
   ]
  },
  {
   "cell_type": "markdown",
   "metadata": {},
   "source": [
    "#### Data transform: $y \\in \\{0,1\\}$ to $y \\in \\{0,t\\}$"
   ]
  },
  {
   "cell_type": "code",
   "execution_count": 2,
   "metadata": {},
   "outputs": [
    {
     "name": "stdout",
     "output_type": "stream",
     "text": [
      "2.32634787404 0.366383889501\n"
     ]
    }
   ],
   "source": [
    "# the lifetime prevalence of schizophrenia is 4.0/1000, not 1%, but we first set it as 0.01\n",
    "# according to https://www.ncbi.nlm.nih.gov/pmc/articles/PMC1140960/\n",
    "prevalence = 0.01\n",
    "# relative risk is normally between 2 and 10\n",
    "RR = 2.5\n",
    "t = stats.norm(0,1).ppf(1-prevalence)\n",
    "# effect size of beta is z_mu, prior\n",
    "z_mu = t - stats.norm(0,1).ppf(1-RR*prevalence)\n",
    "print (t, z_mu)"
   ]
  },
  {
   "cell_type": "code",
   "execution_count": 3,
   "metadata": {
    "collapsed": true,
    "scrolled": true
   },
   "outputs": [],
   "source": [
    "# create prior file\n",
    "cal_pthwy_genes = pd.read_table(\"../data/calciumgeneset.txt\", skiprows = 2, header = None, names = [\"gene_name\"])\n",
    "ref_genes = pd.read_table(\"data/refGene.txt.gz\", compression=\"gzip\", sep=\"\\t\", header = None, \n",
    "                          usecols=(2,12), names=[\"chrom\", \"gene_name\"]).drop_duplicates(subset=(\"gene_name\"))\n",
    "calpath_gene_pos = pd.merge(ref_genes, cal_pthwy_genes, how=\"inner\", on=[\"gene_name\"])\n",
    "diff = set(cal_pthwy_genes[\"gene_name\"].tolist()) - set(calpath_gene_pos[\"gene_name\"].tolist())\n",
    "# add the two missing genes and their chromosome in the dataframe\n",
    "calpath_gene_pos.loc[calpath_gene_pos.shape[0]] = [\"chr2\", list(diff)[0]]\n",
    "calpath_gene_pos.loc[calpath_gene_pos.shape[0]] = [\"chr15\", list(diff)[1]]"
   ]
  },
  {
   "cell_type": "code",
   "execution_count": 4,
   "metadata": {
    "collapsed": true,
    "scrolled": true
   },
   "outputs": [],
   "source": [
    "calpath_gene_pos[\"chr.gene\"] = calpath_gene_pos.apply(lambda row: \"{}.{}\".format(row[\"chrom\"], row[\"gene_name\"]), \n",
    "                                                      axis=1)\n",
    "calpath_gene_pos[\"prior.pr\"] = calpath_gene_pos.apply(lambda row: np.random.uniform(0, z_mu), axis=1)"
   ]
  },
  {
   "cell_type": "code",
   "execution_count": 5,
   "metadata": {
    "collapsed": true
   },
   "outputs": [],
   "source": [
    "beta = z_mu\n",
    "y_tran = t"
   ]
  },
  {
   "cell_type": "code",
   "execution_count": 6,
   "metadata": {
    "collapsed": true,
    "scrolled": true
   },
   "outputs": [],
   "source": [
    "def run_dap(df, fileout, pthwy_genes, multiplier = 5, prefix = None, exec_path = None):\n",
    "    '''Convert pandas dataframe to dap input:\n",
    "        - phenotype / genotype file\n",
    "        - prior file\n",
    "        - grid file (of effect size): omega^2 + phi^2 is what we care. Let's set it to\n",
    "          (0, beta) for now, as we only have one Y\n",
    "    '''\n",
    "    print (str(datetime.now()))\n",
    "    import os\n",
    "    if prefix is None:\n",
    "        import time\n",
    "        prefix = \"/tmp/F\" + str(time.time())\n",
    "    if exec_path is None:\n",
    "        exec_path = 'dap/dap'\n",
    "#     chrom = [\"chr{}\".format(i) for i in list(range(1,23))+[\"X\"]]\n",
    "#     pos is all the gene names showed in .feather\n",
    "    pos = df.columns.values[1:].tolist()\n",
    "#     first item in \"dat\" is phenotype for all samples (# of rows in .feather)\n",
    "    dat = [['pheno', 'trait', 'chicago'] + [str(x) for x in df['phenotype']]]\n",
    "    prior = []\n",
    "    grid = [(0, beta)]\n",
    "#     item is gene name\n",
    "    for idx, item in enumerate(df.columns.values):\n",
    "        if item == \"phenotype\":\n",
    "            continue\n",
    "        dat.append(['geno', '{}.{}'.format(ref_genes[ref_genes[\"gene_name\"]==item][\"chrom\"].tolist()[0], item), \n",
    "                    'chicago'] + [str(x) for x in df[item]])\n",
    "        n_overlap_gene = len(set(pthwy_genes[\"gene_name\"]) & set(pos))\n",
    "        prior_causal = multiplier / len(set(pos))\n",
    "        prior_noncausal = (1-prior_causal*n_overlap_gene) / (len(set(pos))-n_overlap_gene)\n",
    "        if multiplier <= 1.0:\n",
    "            prior_pr = 1 / len(set(pos))\n",
    "        else:\n",
    "            prior_pr = str(prior_causal) if item in pthwy_genes[\"gene_name\"].tolist() else str(prior_noncausal)\n",
    "        prior.append(['{}.{}'.format(ref_genes[ref_genes[\"gene_name\"]==item][\"chrom\"].tolist()[0], item), prior_pr])\n",
    "#     print (prior_causal, prior_noncausal)\n",
    "    with open(prefix + '.dat', 'w') as f:\n",
    "        f.write('\\n'.join([' '.join(x) for x in dat]))\n",
    "    with open(prefix + '.prior', 'w') as f:\n",
    "        f.write('\\n'.join([' '.join(x) for x in prior]))\n",
    "    with open(prefix + '.grid', 'w') as f:\n",
    "        f.write('\\n'.join([' '.join(map(str, x)) for x in grid]))\n",
    "    os.system(\"{0} -d {1}.dat -g {1}.grid -t 8 -it 0.05 -prior {1}.prior > {2}\".format(exec_path, prefix, fileout))\n",
    "    print (str(datetime.now()))\n",
    "#     return prior"
   ]
  },
  {
   "cell_type": "code",
   "execution_count": 7,
   "metadata": {},
   "outputs": [
    {
     "name": "stdout",
     "output_type": "stream",
     "text": [
      "2017-08-10 17:49:34.493148\n",
      "2017-08-10 18:19:40.418724\n"
     ]
    }
   ],
   "source": [
    "filename = \"data/calcium_pathway_N4000.data.feather\"\n",
    "fileout = \"data/calcium_pathway_N4000.data.dap\"\n",
    "\n",
    "# filename = \"data/del_test_data.feather\"\n",
    "# fileout = \"data/del_test_data.dap\"\n",
    "\n",
    "input_file = feather.read_dataframe(filename)\n",
    "input_file[\"phenotype\"] = input_file.apply(lambda row: y_tran if row[\"phenotype\"]==1.0 else 0, axis=1)\n",
    "\n",
    "run_dap(input_file, fileout, cal_pthwy_genes)"
   ]
  },
  {
   "cell_type": "code",
   "execution_count": null,
   "metadata": {},
   "outputs": [
    {
     "name": "stdout",
     "output_type": "stream",
     "text": [
      "2017-08-10 19:22:02.873925\n"
     ]
    }
   ],
   "source": [
    "# test, check if the genes with high posterior are similar to calcium. If yes, then simulation has problem.\n",
    "filename1 = \"data/del_sim_shape5_scale1_p0.01_N4000_M200_12.data.feather\"\n",
    "fileout1 = \"data/del_sim_shape5_scale1_p0.01_N4000_M200_12.test.dap\"\n",
    "input_file1 = feather.read_dataframe(filename1)\n",
    "input_file1[\"phenotype\"] = input_file1.apply(lambda row: y_tran if row[\"phenotype\"]==1.0 else 0, axis=1)\n",
    "run_dap(input_file1, fileout1, cal_pthwy_genes)"
   ]
  },
  {
   "cell_type": "code",
   "execution_count": 9,
   "metadata": {
    "scrolled": true
   },
   "outputs": [
    {
     "name": "stdout",
     "output_type": "stream",
     "text": [
      "['ADCY1', 'ADCY2', 'ADCY3', 'ADCY4', 'ADCY7', 'ADCY8', 'ADCY9', 'ADORA2A', 'ADORA2B', 'ADRA1A', 'ADRA1B', 'ADRA1D', 'ADRB1', 'ADRB2', 'ADRB3', 'AGTR1', 'ATP2A1', 'ATP2A2', 'ATP2A3', 'ATP2B1', 'ATP2B2', 'ATP2B3', 'ATP2B4', 'AVPR1A', 'AVPR1B', 'BDKRB1', 'BDKRB2', 'BST1', 'CACNA1A', 'CACNA1B', 'CACNA1C', 'CACNA1D', 'CACNA1E', 'CACNA1F', 'CACNA1G', 'CACNA1H', 'CACNA1I', 'CACNA1S', 'CALM1', 'CALM2', 'CALM3', 'CALML3', 'CALML5', 'CALML6', 'CAMK2A', 'CAMK2B', 'CAMK2D', 'CAMK2G', 'CAMK4', 'CCKAR', 'CCKBR', 'CD38', 'CHP', 'CHP2', 'CHRM1', 'CHRM2', 'CHRM3', 'CHRM5', 'CHRNA7', 'CYSLTR1', 'CYSLTR2', 'DRD1', 'DRD5', 'EDNRA', 'EDNRB', 'EGFR', 'ERBB2', 'ERBB3', 'ERBB4', 'F2R', 'GNA11', 'GNA14', 'GNA15', 'GNAL', 'GNAQ', 'GNAS', 'GRIN1', 'GRIN2A', 'GRIN2C', 'GRIN2D', 'GRM1', 'GRM5', 'GRPR', 'HRH1', 'HRH2', 'HTR2A', 'HTR2B', 'HTR2C', 'HTR4', 'HTR5A', 'HTR6', 'HTR7', 'ITPKA', 'ITPKB', 'ITPR1', 'ITPR2', 'ITPR3', 'LHCGR', 'LOC729317', 'LTB4R2', 'MYLK', 'MYLK2', 'MYLK3', 'NOS1', 'NOS2', 'NOS3', 'NTSR1', 'OXTR', 'P2RX1', 'P2RX2', 'P2RX3', 'P2RX4', 'P2RX5', 'P2RX6', 'P2RX7', 'PDE1A', 'PDE1B', 'PDE1C', 'PDGFRA', 'PDGFRB', 'PHKA1', 'PHKA2', 'PHKB', 'PHKG1', 'PHKG2', 'PLCB1', 'PLCB2', 'PLCB3', 'PLCB4', 'PLCD1', 'PLCD3', 'PLCD4', 'PLCE1', 'PLCG1', 'PLCG2', 'PLCZ1', 'PLN', 'PPID', 'PPP3CA', 'PPP3CB', 'PPP3CC', 'PPP3R1', 'PPP3R2', 'PRKACA', 'PRKACB', 'PRKACG', 'PRKCA', 'PRKCB', 'PRKCG', 'PRKX', 'PTAFR', 'PTGER1', 'PTGER3', 'PTGFR', 'PTK2B', 'RYR1', 'RYR2', 'RYR3', 'SLC25A31', 'SLC25A4', 'SLC25A5', 'SLC25A6', 'SLC8A1', 'SLC8A2', 'SLC8A3', 'SPHK1', 'SPHK2', 'TACR1', 'TACR2', 'TACR3', 'TBXA2R', 'TNNC1', 'TNNC2', 'TRHR', 'TRPC1', 'VDAC1', 'VDAC2', 'VDAC3']\n"
     ]
    }
   ],
   "source": [
    "# calpath_gene_pos.to_csv(\"test.csv\", sep=\"\\t\")\n",
    "print (cal_pthwy_genes[\"gene_name\"].tolist())"
   ]
  },
  {
   "cell_type": "code",
   "execution_count": null,
   "metadata": {
    "collapsed": true
   },
   "outputs": [],
   "source": [
    "# chrom\n",
    "# chrom = [\"chr{}\".format(i) for i in list(range(1,23))+[\"X\"]]\n",
    "# print ((chrom))"
   ]
  },
  {
   "cell_type": "code",
   "execution_count": null,
   "metadata": {
    "collapsed": true
   },
   "outputs": [],
   "source": [
    "# [I 15:34:54.151 NotebookApp] Accepting one-time-token-authenticated connection from ::1\n",
    "# [I 15:34:54.814 NotebookApp] Kernel started: 60079e22-d81d-4f83-a293-c5750b5456a1\n",
    "# [I 15:36:54.808 NotebookApp] Saving file at /20170726_Dap_on_simulation.ipynb\n",
    "# [W 15:42:01.170 NotebookApp] WebSocket ping timeout after 92790 ms.\n",
    "# [I 15:44:57.820 NotebookApp] KernelRestarter: restarting kernel (1/5)"
   ]
  }
 ],
 "metadata": {
  "kernelspec": {
   "display_name": "Python 3",
   "language": "python",
   "name": "python3"
  },
  "language_info": {
   "codemirror_mode": {
    "name": "ipython",
    "version": 3
   },
   "file_extension": ".py",
   "mimetype": "text/x-python",
   "name": "python",
   "nbconvert_exporter": "python",
   "pygments_lexer": "ipython3",
   "version": "3.5.2"
  }
 },
 "nbformat": 4,
 "nbformat_minor": 2
}
