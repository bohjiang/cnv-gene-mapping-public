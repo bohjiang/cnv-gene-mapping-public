{
 "cells": [
  {
   "cell_type": "markdown",
   "metadata": {},
   "source": [
    "# Simulation pipeline"
   ]
  },
  {
   "cell_type": "markdown",
   "metadata": {
    "output_cache": "[]"
   },
   "source": [
    "This is the pipeline version of simulation and data analysis of gene-based CNV analysis methods."
   ]
  },
  {
   "cell_type": "code",
   "execution_count": 1,
   "metadata": {
    "collapsed": false,
    "kernel": "sos",
    "output_cache": "[{\"output_type\":\"stream\",\"text\":\"Set sos options to \\\"-j 4\\\"\\n\",\"name\":\"stdout\"}]"
   },
   "outputs": [
    {
     "name": "stdout",
     "output_type": "stream",
     "text": [
      "Set sos options to \"-j 4\"\n"
     ]
    }
   ],
   "source": [
    "%set -j 4\n",
    "[simulate: shared = {'simulate_data': 'output'}]\n",
    "parameter: gamma = [(None, None), (5,1), (3,1)]\n",
    "parameter: sample_size = [50, 100, 500]\n",
    "parameter: n_causal_gene = [100]\n",
    "parameter: name = 'data/del_sim'\n",
    "input: for_each = ['gamma', 'sample_size', 'n_causal_gene']\n",
    "output: expand_pattern(\"{name}_{_index}.pkl\")\n",
    "task:\n",
    "python:\n",
    "import copy, sys, os\n",
    "sys.path.append(os.path.expanduser('~/GIT/cnv-gene-mapping/analysis'))\n",
    "from simulation import *\n",
    "args = Environment()\n",
    "args['odds_ratio_params']['shape'] = ${_gamma[0]}\n",
    "args['odds_ratio_params']['scale'] = ${_gamma[1]}\n",
    "args['n_case'] = args['n_ctrl'] = ${_sample_size}\n",
    "args['n_causal_gene'] = ${_n_causal_gene}\n",
    "args['output'] = ${name!r}\n",
    "run_simulation(args, ${_index})"
   ]
  }
 ],
 "metadata": {
  "kernelspec": {
   "display_name": "SoS",
   "language": "sos",
   "name": "sos"
  },
  "language_info": {
   "codemirror_mode": "sos",
   "file_extension": ".sos",
   "mimetype": "text/x-sos",
   "name": "sos",
   "nbconvert_exporter": "sos.jupyter.converter.SoS_Exporter",
   "pygments_lexer": "sos"
  },
  "sos": {
   "celltoolbar": true,
   "kernels": [
    [
     "sos",
     "SoS",
     ""
    ],
    [
     "python3",
     "Python3",
     "#EAFAF1"
    ],
    [
     "ir",
     "R",
     "#FDEDEC"
    ]
   ],
   "panel": {
    "displayed": true,
    "height": 0,
    "style": "side"
   }
  }
 },
 "nbformat": 4,
 "nbformat_minor": 0
}
