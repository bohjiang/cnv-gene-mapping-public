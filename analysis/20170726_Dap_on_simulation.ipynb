{
 "cells": [
  {
   "cell_type": "markdown",
   "metadata": {},
   "source": [
    "# DAP on simulation results"
   ]
  },
  {
   "cell_type": "code",
   "execution_count": 1,
   "metadata": {
    "kernel": "SoS"
   },
   "outputs": [
    {
     "name": "stdout",
     "output_type": "stream",
     "text": [
      "data/calcium_pathway_N40_p0.01.data\n"
     ]
    }
   ],
   "source": [
    "import numpy as np\n",
    "import pandas as pd\n",
    "from pprint import pprint\n",
    "# from pandasql import sqldf\n",
    "from scipy import stats\n",
    "# import pickle\n",
    "import feather\n",
    "from collections import Counter\n",
    "from datetime import datetime\n",
    "from utils import run_dap, load_data\n",
    "import os\n",
    "filename = 'data/calcium_pathway_N40_p0.01.data.blocks.pkl'\n",
    "fileout = \"data/calcium_pathway_N40_p0.01.data\"\n",
    "print(fileout)"
   ]
  },
  {
   "cell_type": "markdown",
   "metadata": {},
   "source": [
    "## Data transform: $y \\in \\{0,1\\}$ to $y \\in \\{0,t\\}$"
   ]
  },
  {
   "cell_type": "code",
   "execution_count": 2,
   "metadata": {
    "kernel": "SoS"
   },
   "outputs": [
    {
     "name": "stdout",
     "output_type": "stream",
     "text": [
      "2.32634787404 0.366383889501\n"
     ]
    }
   ],
   "source": [
    "data = load_data(filename)\n",
    "# the lifetime prevalence of schizophrenia is 4.0/1000, not 1%, but we first set it as 0.01\n",
    "# according to https://www.ncbi.nlm.nih.gov/pmc/articles/PMC1140960/\n",
    "# relative risk is normally between 2 and 10\n",
    "RR = 2.5\n",
    "prevalence = data['debug']['args']['prevalence']\n",
    "t = stats.norm(0,1).ppf(1-prevalence)\n",
    "# effect size of beta is z_mu, prior\n",
    "z_mu = t - stats.norm(0,1).ppf(1-RR*prevalence)\n",
    "print (t, z_mu)"
   ]
  },
  {
   "cell_type": "code",
   "execution_count": 4,
   "metadata": {
    "kernel": "SoS",
    "scrolled": true
   },
   "outputs": [],
   "source": [
    "# create prior file\n",
    "cal_pthwy_genes = pd.read_table(\"../data/calciumgeneset.txt\", skiprows = 2, header = None, names = [\"gene_name\"])\n",
    "ref_genes = pd.read_table(\"../data/refGene.txt.gz\", compression=\"gzip\", sep=\"\\t\", header = None, \n",
    "                          usecols=(2,12), names=[\"chrom\", \"gene_name\"]).drop_duplicates(subset=(\"gene_name\"))\n",
    "calpath_gene_pos = pd.merge(ref_genes, cal_pthwy_genes, how=\"inner\", on=[\"gene_name\"])\n",
    "diff = set(cal_pthwy_genes[\"gene_name\"].tolist()) - set(calpath_gene_pos[\"gene_name\"].tolist())\n",
    "# add the two missing genes and their chromosome in the dataframe\n",
    "calpath_gene_pos.loc[calpath_gene_pos.shape[0]] = [\"chr2\", list(diff)[0]]\n",
    "calpath_gene_pos.loc[calpath_gene_pos.shape[0]] = [\"chr15\", list(diff)[1]]"
   ]
  },
  {
   "cell_type": "code",
   "execution_count": 5,
   "metadata": {
    "collapsed": true,
    "kernel": "SoS",
    "scrolled": true
   },
   "outputs": [],
   "source": [
    "calpath_gene_pos[\"chr.gene\"] = calpath_gene_pos.apply(lambda row: \"{}.{}\".format(row[\"chrom\"], row[\"gene_name\"]), \n",
    "                                                      axis=1)\n",
    "calpath_gene_pos[\"prior.pr\"] = calpath_gene_pos.apply(lambda row: np.random.uniform(0, z_mu), axis=1)"
   ]
  },
  {
   "cell_type": "code",
   "execution_count": 6,
   "metadata": {
    "collapsed": true,
    "kernel": "SoS"
   },
   "outputs": [],
   "source": [
    "beta = z_mu\n",
    "y_tran = t"
   ]
  },
  {
   "cell_type": "markdown",
   "metadata": {},
   "source": [
    "## Run DAP"
   ]
  },
  {
   "cell_type": "code",
   "execution_count": 7,
   "metadata": {
    "kernel": "SoS",
    "scrolled": false
   },
   "outputs": [
    {
     "name": "stdout",
     "output_type": "stream",
     "text": [
      "Job 1/132, elapsed 0.01s prepare & 0.01s DAP\n",
      "Job 2/132, elapsed 0.03s prepare & 0.01s DAP\n",
      "Job 3/132, elapsed 0.04s prepare & 0.00s DAP\n",
      "Job 4/132, elapsed 0.06s prepare & 0.00s DAP\n",
      "Job 5/132, elapsed 0.03s prepare & 0.00s DAP\n",
      "Job 6/132, elapsed 0.02s prepare & 0.00s DAP\n",
      "Job 7/132, elapsed 0.02s prepare & 0.01s DAP\n",
      "Job 8/132, elapsed 0.02s prepare & 0.01s DAP\n",
      "Job 9/132, elapsed 0.01s prepare & 0.00s DAP\n",
      "Job 10/132, elapsed 0.02s prepare & 0.00s DAP\n",
      "Job 11/132, elapsed 0.11s prepare & 0.00s DAP\n",
      "Job 12/132, elapsed 0.01s prepare & 0.00s DAP\n",
      "Job 13/132, elapsed 0.03s prepare & 0.01s DAP\n",
      "Job 14/132, elapsed 0.01s prepare & 0.01s DAP\n",
      "Job 15/132, elapsed 0.01s prepare & 0.01s DAP\n",
      "Job 16/132, elapsed 0.06s prepare & 0.00s DAP\n",
      "Job 17/132, elapsed 0.01s prepare & 0.00s DAP\n",
      "Job 18/132, elapsed 0.01s prepare & 0.00s DAP\n",
      "Job 19/132, elapsed 0.01s prepare & 0.00s DAP\n",
      "Job 20/132, elapsed 0.05s prepare & 0.01s DAP\n",
      "Job 21/132, elapsed 0.01s prepare & 0.01s DAP\n",
      "Job 22/132, elapsed 0.01s prepare & 0.00s DAP\n",
      "Job 23/132, elapsed 0.03s prepare & 0.00s DAP\n",
      "Job 24/132, elapsed 0.01s prepare & 0.00s DAP\n",
      "Job 25/132, elapsed 0.01s prepare & 0.00s DAP\n",
      "Job 26/132, elapsed 0.01s prepare & 0.01s DAP\n",
      "Job 27/132, elapsed 0.01s prepare & 0.01s DAP\n",
      "Job 28/132, elapsed 0.01s prepare & 0.01s DAP\n",
      "Job 29/132, elapsed 0.01s prepare & 0.00s DAP\n",
      "Job 30/132, elapsed 0.05s prepare & 0.01s DAP\n",
      "Job 31/132, elapsed 0.01s prepare & 0.01s DAP\n",
      "Job 32/132, elapsed 0.01s prepare & 0.00s DAP\n",
      "Job 33/132, elapsed 0.01s prepare & 0.00s DAP\n",
      "Job 34/132, elapsed 0.01s prepare & 0.00s DAP\n",
      "Job 35/132, elapsed 0.01s prepare & 0.00s DAP\n",
      "Job 36/132, elapsed 0.01s prepare & 0.00s DAP\n",
      "Job 37/132, elapsed 0.03s prepare & 0.00s DAP\n",
      "Job 38/132, elapsed 0.03s prepare & 0.00s DAP\n",
      "Job 39/132, elapsed 0.03s prepare & 0.00s DAP\n",
      "Job 40/132, elapsed 0.03s prepare & 0.01s DAP\n",
      "Job 41/132, elapsed 0.01s prepare & 0.00s DAP\n",
      "Job 42/132, elapsed 0.03s prepare & 0.00s DAP\n",
      "Job 43/132, elapsed 0.06s prepare & 0.01s DAP\n",
      "Job 44/132, elapsed 0.01s prepare & 0.00s DAP\n",
      "Job 45/132, elapsed 0.01s prepare & 0.00s DAP\n",
      "Job 46/132, elapsed 0.02s prepare & 0.00s DAP\n",
      "Job 47/132, elapsed 0.01s prepare & 0.00s DAP\n",
      "Job 48/132, elapsed 0.01s prepare & 0.01s DAP\n",
      "Job 49/132, elapsed 0.03s prepare & 0.01s DAP\n",
      "Job 50/132, elapsed 0.04s prepare & 0.01s DAP\n",
      "Job 51/132, elapsed 0.04s prepare & 0.01s DAP\n",
      "Job 52/132, elapsed 0.01s prepare & 0.00s DAP\n",
      "Job 53/132, elapsed 0.04s prepare & 0.00s DAP\n",
      "Job 54/132, elapsed 0.01s prepare & 0.00s DAP\n",
      "Job 55/132, elapsed 0.01s prepare & 0.00s DAP\n",
      "Job 56/132, elapsed 0.08s prepare & 0.01s DAP\n",
      "Job 57/132, elapsed 0.01s prepare & 0.00s DAP\n",
      "Job 58/132, elapsed 0.01s prepare & 0.00s DAP\n",
      "Job 59/132, elapsed 0.01s prepare & 0.01s DAP\n",
      "Job 60/132, elapsed 0.01s prepare & 0.00s DAP\n",
      "Job 61/132, elapsed 0.02s prepare & 0.01s DAP\n",
      "Job 62/132, elapsed 0.05s prepare & 0.01s DAP\n",
      "Job 63/132, elapsed 0.01s prepare & 0.01s DAP\n",
      "Job 64/132, elapsed 0.01s prepare & 0.01s DAP\n",
      "Job 65/132, elapsed 0.02s prepare & 0.01s DAP\n",
      "Job 66/132, elapsed 0.02s prepare & 0.01s DAP\n",
      "Job 67/132, elapsed 0.02s prepare & 0.01s DAP\n",
      "Job 68/132, elapsed 0.02s prepare & 0.01s DAP\n",
      "Job 69/132, elapsed 0.01s prepare & 0.01s DAP\n",
      "Job 70/132, elapsed 0.02s prepare & 0.01s DAP\n",
      "Job 71/132, elapsed 0.01s prepare & 0.01s DAP\n",
      "Job 72/132, elapsed 0.03s prepare & 0.01s DAP\n",
      "Job 73/132, elapsed 0.01s prepare & 0.01s DAP\n",
      "Job 74/132, elapsed 0.01s prepare & 0.01s DAP\n",
      "Job 75/132, elapsed 0.01s prepare & 0.01s DAP\n",
      "Job 76/132, elapsed 0.03s prepare & 0.01s DAP\n",
      "Job 77/132, elapsed 0.01s prepare & 0.01s DAP\n",
      "Job 78/132, elapsed 0.01s prepare & 0.00s DAP\n",
      "Job 79/132, elapsed 0.01s prepare & 0.00s DAP\n",
      "Job 80/132, elapsed 0.01s prepare & 0.00s DAP\n",
      "Job 81/132, elapsed 0.01s prepare & 0.00s DAP\n",
      "Job 82/132, elapsed 0.02s prepare & 0.00s DAP\n",
      "Job 83/132, elapsed 0.02s prepare & 0.00s DAP\n",
      "Job 84/132, elapsed 0.01s prepare & 0.00s DAP\n",
      "Job 85/132, elapsed 0.01s prepare & 0.00s DAP\n",
      "Job 86/132, elapsed 0.01s prepare & 0.00s DAP\n",
      "Job 87/132, elapsed 0.01s prepare & 0.00s DAP\n",
      "Job 88/132, elapsed 0.02s prepare & 0.01s DAP\n",
      "Job 89/132, elapsed 0.01s prepare & 0.01s DAP\n",
      "Job 90/132, elapsed 0.01s prepare & 0.00s DAP\n",
      "Job 91/132, elapsed 0.01s prepare & 0.00s DAP\n",
      "Job 92/132, elapsed 0.02s prepare & 0.00s DAP\n",
      "Job 93/132, elapsed 0.02s prepare & 0.00s DAP\n",
      "Job 94/132, elapsed 0.03s prepare & 0.00s DAP\n",
      "Job 95/132, elapsed 0.01s prepare & 0.00s DAP\n",
      "Job 96/132, elapsed 0.01s prepare & 0.00s DAP\n",
      "Job 97/132, elapsed 0.03s prepare & 0.00s DAP\n",
      "Job 98/132, elapsed 0.02s prepare & 0.01s DAP\n",
      "Job 99/132, elapsed 0.01s prepare & 0.01s DAP\n",
      "Job 100/132, elapsed 0.01s prepare & 0.01s DAP\n",
      "Job 101/132, elapsed 0.01s prepare & 0.00s DAP\n",
      "Job 102/132, elapsed 0.01s prepare & 0.00s DAP\n",
      "Job 103/132, elapsed 0.02s prepare & 0.00s DAP\n",
      "Job 104/132, elapsed 0.01s prepare & 0.00s DAP\n",
      "Job 105/132, elapsed 0.02s prepare & 0.00s DAP\n",
      "Job 106/132, elapsed 0.05s prepare & 0.00s DAP\n",
      "Job 107/132, elapsed 0.02s prepare & 0.00s DAP\n",
      "Job 108/132, elapsed 0.02s prepare & 0.01s DAP\n",
      "Job 109/132, elapsed 0.07s prepare & 0.01s DAP\n",
      "Job 110/132, elapsed 0.01s prepare & 0.01s DAP\n",
      "Job 111/132, elapsed 0.01s prepare & 0.00s DAP\n",
      "Job 112/132, elapsed 0.03s prepare & 0.00s DAP\n",
      "Job 113/132, elapsed 0.01s prepare & 0.01s DAP\n",
      "Job 114/132, elapsed 0.01s prepare & 0.00s DAP\n",
      "Job 115/132, elapsed 0.01s prepare & 0.01s DAP\n",
      "Job 116/132, elapsed 0.01s prepare & 0.01s DAP\n",
      "Job 117/132, elapsed 0.01s prepare & 0.00s DAP\n",
      "Job 118/132, elapsed 0.01s prepare & 0.01s DAP\n",
      "Job 119/132, elapsed 0.01s prepare & 0.01s DAP\n",
      "Job 120/132, elapsed 0.04s prepare & 0.01s DAP\n",
      "Job 121/132, elapsed 0.03s prepare & 0.00s DAP\n",
      "Job 122/132, elapsed 0.01s prepare & 0.00s DAP\n",
      "Job 123/132, elapsed 0.08s prepare & 0.01s DAP\n",
      "Job 124/132, elapsed 0.01s prepare & 0.01s DAP\n",
      "Job 125/132, elapsed 0.02s prepare & 0.00s DAP\n",
      "Job 126/132, elapsed 0.01s prepare & 0.00s DAP\n",
      "Job 127/132, elapsed 0.01s prepare & 0.00s DAP\n",
      "Job 128/132, elapsed 0.04s prepare & 0.00s DAP\n",
      "Job 129/132, elapsed 0.02s prepare & 0.00s DAP\n",
      "Job 130/132, elapsed 0.01s prepare & 0.01s DAP\n",
      "Job 131/132, elapsed 0.01s prepare & 0.01s DAP\n",
      "Job 132/132, elapsed 0.01s prepare & 0.00s DAP\n"
     ]
    }
   ],
   "source": [
    "dap_method = 'dap-g'\n",
    "multiplier = 10\n",
    "fileout = fileout + '_multiplier{}.{}'.format(multiplier, dap_method)\n",
    "# clean it up, very important!\n",
    "if os.path.isfile(fileout):\n",
    "    os.remove(fileout)\n",
    "os.system('rm -f /tmp/F*{dat,prior,grid}')\n",
    "for idx, df in enumerate(data['data']):\n",
    "    df[\"phenotype\"] = df.apply(lambda row: y_tran if row[\"phenotype\"]==1.0 else 0, axis=1)\n",
    "    times = run_dap(df, fileout, cal_pthwy_genes, ref_genes, grid = [(0, beta)], \n",
    "                    multiplier = multiplier, ncpu = 4, dry_run = False, dap_method = dap_method)\n",
    "    print('Job {2}/{3}, elapsed {0:.2f}s prepare & {1:.2f}s DAP'.\\\n",
    "          format(times[1] - times[0], times[2] - times[1], idx + 1, len(data['data'])))"
   ]
  },
  {
   "cell_type": "code",
   "execution_count": 1,
   "metadata": {
    "collapsed": true,
    "kernel": "SoS"
   },
   "outputs": [],
   "source": [
    "# dap/dap -d /tmp/F1503014064.6944265.dat -g /tmp/F1503014064.6944265.grid -it 0.05 -prior /tmp/F1503014064.6944265.prior -t 2 > data/calcium_pathway_N4000_shape25_nomask.data.dap "
   ]
  },
  {
   "cell_type": "code",
   "execution_count": 9,
   "metadata": {
    "kernel": "SoS",
    "scrolled": true
   },
   "outputs": [
    {
     "name": "stdout",
     "output_type": "stream",
     "text": [
      "['ADCY1', 'ADCY2', 'ADCY3', 'ADCY4', 'ADCY7', 'ADCY8', 'ADCY9', 'ADORA2A', 'ADORA2B', 'ADRA1A', 'ADRA1B', 'ADRA1D', 'ADRB1', 'ADRB2', 'ADRB3', 'AGTR1', 'ATP2A1', 'ATP2A2', 'ATP2A3', 'ATP2B1', 'ATP2B2', 'ATP2B3', 'ATP2B4', 'AVPR1A', 'AVPR1B', 'BDKRB1', 'BDKRB2', 'BST1', 'CACNA1A', 'CACNA1B', 'CACNA1C', 'CACNA1D', 'CACNA1E', 'CACNA1F', 'CACNA1G', 'CACNA1H', 'CACNA1I', 'CACNA1S', 'CALM1', 'CALM2', 'CALM3', 'CALML3', 'CALML5', 'CALML6', 'CAMK2A', 'CAMK2B', 'CAMK2D', 'CAMK2G', 'CAMK4', 'CCKAR', 'CCKBR', 'CD38', 'CHP', 'CHP2', 'CHRM1', 'CHRM2', 'CHRM3', 'CHRM5', 'CHRNA7', 'CYSLTR1', 'CYSLTR2', 'DRD1', 'DRD5', 'EDNRA', 'EDNRB', 'EGFR', 'ERBB2', 'ERBB3', 'ERBB4', 'F2R', 'GNA11', 'GNA14', 'GNA15', 'GNAL', 'GNAQ', 'GNAS', 'GRIN1', 'GRIN2A', 'GRIN2C', 'GRIN2D', 'GRM1', 'GRM5', 'GRPR', 'HRH1', 'HRH2', 'HTR2A', 'HTR2B', 'HTR2C', 'HTR4', 'HTR5A', 'HTR6', 'HTR7', 'ITPKA', 'ITPKB', 'ITPR1', 'ITPR2', 'ITPR3', 'LHCGR', 'LOC729317', 'LTB4R2', 'MYLK', 'MYLK2', 'MYLK3', 'NOS1', 'NOS2', 'NOS3', 'NTSR1', 'OXTR', 'P2RX1', 'P2RX2', 'P2RX3', 'P2RX4', 'P2RX5', 'P2RX6', 'P2RX7', 'PDE1A', 'PDE1B', 'PDE1C', 'PDGFRA', 'PDGFRB', 'PHKA1', 'PHKA2', 'PHKB', 'PHKG1', 'PHKG2', 'PLCB1', 'PLCB2', 'PLCB3', 'PLCB4', 'PLCD1', 'PLCD3', 'PLCD4', 'PLCE1', 'PLCG1', 'PLCG2', 'PLCZ1', 'PLN', 'PPID', 'PPP3CA', 'PPP3CB', 'PPP3CC', 'PPP3R1', 'PPP3R2', 'PRKACA', 'PRKACB', 'PRKACG', 'PRKCA', 'PRKCB', 'PRKCG', 'PRKX', 'PTAFR', 'PTGER1', 'PTGER3', 'PTGFR', 'PTK2B', 'RYR1', 'RYR2', 'RYR3', 'SLC25A31', 'SLC25A4', 'SLC25A5', 'SLC25A6', 'SLC8A1', 'SLC8A2', 'SLC8A3', 'SPHK1', 'SPHK2', 'TACR1', 'TACR2', 'TACR3', 'TBXA2R', 'TNNC1', 'TNNC2', 'TRHR', 'TRPC1', 'VDAC1', 'VDAC2', 'VDAC3']\n"
     ]
    }
   ],
   "source": [
    "# calpath_gene_pos.to_csv(\"test.csv\", sep=\"\\t\")\n",
    "print (cal_pthwy_genes[\"gene_name\"].tolist())"
   ]
  },
  {
   "cell_type": "code",
   "execution_count": null,
   "metadata": {
    "collapsed": true,
    "kernel": "SoS"
   },
   "outputs": [],
   "source": [
    "# chrom\n",
    "# chrom = [\"chr{}\".format(i) for i in list(range(1,23))+[\"X\"]]\n",
    "# print ((chrom))"
   ]
  },
  {
   "cell_type": "code",
   "execution_count": null,
   "metadata": {
    "collapsed": true,
    "kernel": "SoS"
   },
   "outputs": [],
   "source": [
    "# [I 15:34:54.151 NotebookApp] Accepting one-time-token-authenticated connection from ::1\n",
    "# [I 15:34:54.814 NotebookApp] Kernel started: 60079e22-d81d-4f83-a293-c5750b5456a1\n",
    "# [I 15:36:54.808 NotebookApp] Saving file at /20170726_Dap_on_simulation.ipynb\n",
    "# [W 15:42:01.170 NotebookApp] WebSocket ping timeout after 92790 ms.\n",
    "# [I 15:44:57.820 NotebookApp] KernelRestarter: restarting kernel (1/5)"
   ]
  }
 ],
 "metadata": {
  "kernelspec": {
   "display_name": "Python 3",
   "language": "python",
   "name": "python3"
  },
  "language_info": {
   "codemirror_mode": {
    "name": "ipython",
    "version": 3
   },
   "file_extension": ".py",
   "mimetype": "text/x-python",
   "name": "python",
   "nbconvert_exporter": "python",
   "pygments_lexer": "ipython3",
   "version": "3.6.1"
  },
  "sos": {
   "kernels": [
    [
     "SoS",
     "sos",
     "",
     ""
    ],
    [
     "Python3",
     "python3",
     "Python3",
     "#FFE771"
    ],
    [
     "R",
     "ir",
     "R",
     "#DCDCDA"
    ]
   ],
   "panel": {
    "displayed": true,
    "height": 0,
    "style": "side"
   }
  }
 },
 "nbformat": 4,
 "nbformat_minor": 2
}
