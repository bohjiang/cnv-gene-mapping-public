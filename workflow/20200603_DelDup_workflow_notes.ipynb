{
 "cells": [
  {
   "cell_type": "markdown",
   "metadata": {
    "kernel": "SoS"
   },
   "source": [
    "# CNV deletion and duplication"
   ]
  },
  {
   "cell_type": "markdown",
   "metadata": {
    "kernel": "SoS"
   },
   "source": [
    "## fisher on desktop\n",
    "```\n",
    "sos run workflow/20190717_workflow.ipynb fisher \\\n",
    "    --name fisher \\\n",
    "    --cwd output/deldup/ \\\n",
    "    --genotype-file data/del_dup.X.colnames.gz \\\n",
    "    --phenotype-file data/del_dup.y.no_colrownames.gz\n",
    "```\n",
    "\n",
    "## whole genome varbvs on desktop\n",
    "```\n",
    "sos run workflow/20190717_workflow.ipynb varbvs_wg \\\n",
    "    --name varbvs_wg \\\n",
    "    --cwd output/deldup/ \\\n",
    "    --genotype-file data/del_dup.X.colnames.gz \\\n",
    "    --phenotype-file data/del_dup.y.no_colrownames.gz \\\n",
    "    -s build\n",
    "```\n",
    "\n",
    "## SuSiE on desktop\n",
    "```\n",
    "sos run workflow/20190717_workflow.ipynb susie \\\n",
    "    --name susie \\\n",
    "    --cwd output/deldup/ \\\n",
    "    --genotype-file data/del_dup.X.colnames.gz \\\n",
    "    --phenotype-file data/del_dup.y.no_colrownames.gz \\\n",
    "    --hyperparam_file output/deldup/del_dup.X.varbvs_wg.hyperparams \\\n",
    "    -s build\n",
    "```\n",
    "\n",
    "## sier\n",
    "```\n",
    "cd /home/gaow/GIT/github/cnv-gene-mapping\n",
    "JOB_OPT=\"-q midway2 -c midway2.yml\"\n",
    "sos run workflow/20190717_workflow.ipynb sier \\\n",
    "    --name sier \\\n",
    "    --cwd output/deldup/ \\\n",
    "    --genotype-file data/del_dup.X.colnames.gz \\\n",
    "    --phenotype-file data/del_dup.y.no_colrownames.gz \\\n",
    "    --job_size 5 -s build \\\n",
    "    $JOB_OPT\n",
    "```"
   ]
  },
  {
   "cell_type": "markdown",
   "metadata": {
    "kernel": "SoS"
   },
   "source": [
    "## CNV deletion"
   ]
  },
  {
   "cell_type": "markdown",
   "metadata": {
    "kernel": "SoS"
   },
   "source": [
    "```\n",
    "sos run workflow/20190717_workflow.ipynb fisher \\\n",
    "    --name fisher \\\n",
    "    --cwd output/delcnv/ \\\n",
    "    --genotype-file data/deletion.X.colnames.gz \\\n",
    "    --phenotype-file data/deletion.y.no_colrownames.gz\n",
    "```\n",
    "\n",
    "```\n",
    "sos run workflow/20190717_workflow.ipynb varbvs_wg \\\n",
    "    --name varbvs_wg \\\n",
    "    --cwd output/delcnv/ \\\n",
    "    --genotype-file data/deletion.X.colnames.gz \\\n",
    "    --phenotype-file data/deletion.y.no_colrownames.gz \\\n",
    "    -s build\n",
    "```"
   ]
  },
  {
   "cell_type": "code",
   "execution_count": 1,
   "metadata": {
    "kernel": "SoS"
   },
   "outputs": [],
   "source": [
    "import pandas as pd"
   ]
  },
  {
   "cell_type": "code",
   "execution_count": 2,
   "metadata": {
    "kernel": "SoS"
   },
   "outputs": [],
   "source": [
    "fisher = pd.read_csv(\"~/GIT/cnv-gene-mapping/output/deldup/del_dup.X.colnames.cleaned.fisher.gz\", sep = \"\\t\", header = 0)"
   ]
  },
  {
   "cell_type": "code",
   "execution_count": 3,
   "metadata": {
    "kernel": "SoS"
   },
   "outputs": [
    {
     "data": {
      "text/plain": [
       "0.0008750675664667869"
      ]
     },
     "execution_count": 3,
     "metadata": {},
     "output_type": "execute_result"
    }
   ],
   "source": [
    "min(fisher[\"p\"])"
   ]
  },
  {
   "cell_type": "code",
   "execution_count": 4,
   "metadata": {
    "kernel": "SoS"
   },
   "outputs": [
    {
     "data": {
      "text/html": [
       "<div>\n",
       "<style scoped>\n",
       "    .dataframe tbody tr th:only-of-type {\n",
       "        vertical-align: middle;\n",
       "    }\n",
       "\n",
       "    .dataframe tbody tr th {\n",
       "        vertical-align: top;\n",
       "    }\n",
       "\n",
       "    .dataframe thead th {\n",
       "        text-align: right;\n",
       "    }\n",
       "</style>\n",
       "<table border=\"1\" class=\"dataframe\">\n",
       "  <thead>\n",
       "    <tr style=\"text-align: right;\">\n",
       "      <th></th>\n",
       "      <th>gene</th>\n",
       "      <th>d_c</th>\n",
       "      <th>d_nc</th>\n",
       "      <th>nd_c</th>\n",
       "      <th>nd_nc</th>\n",
       "      <th>p</th>\n",
       "    </tr>\n",
       "  </thead>\n",
       "  <tbody>\n",
       "    <tr>\n",
       "      <th>0</th>\n",
       "      <td>DLG1</td>\n",
       "      <td>9</td>\n",
       "      <td>2760</td>\n",
       "      <td>0</td>\n",
       "      <td>3281</td>\n",
       "      <td>0.000875</td>\n",
       "    </tr>\n",
       "    <tr>\n",
       "      <th>1</th>\n",
       "      <td>LINC02012</td>\n",
       "      <td>9</td>\n",
       "      <td>2760</td>\n",
       "      <td>0</td>\n",
       "      <td>3281</td>\n",
       "      <td>0.000875</td>\n",
       "    </tr>\n",
       "    <tr>\n",
       "      <th>2</th>\n",
       "      <td>BDH1</td>\n",
       "      <td>9</td>\n",
       "      <td>2760</td>\n",
       "      <td>0</td>\n",
       "      <td>3281</td>\n",
       "      <td>0.000875</td>\n",
       "    </tr>\n",
       "  </tbody>\n",
       "</table>\n",
       "</div>"
      ],
      "text/plain": [
       "        gene  d_c  d_nc  nd_c  nd_nc         p\n",
       "0       DLG1    9  2760     0   3281  0.000875\n",
       "1  LINC02012    9  2760     0   3281  0.000875\n",
       "2       BDH1    9  2760     0   3281  0.000875"
      ]
     },
     "execution_count": 4,
     "metadata": {},
     "output_type": "execute_result"
    }
   ],
   "source": [
    "fisher[fisher[\"p\"] == min(fisher[\"p\"])]"
   ]
  },
  {
   "cell_type": "code",
   "execution_count": 6,
   "metadata": {
    "kernel": "SoS"
   },
   "outputs": [
    {
     "data": {
      "text/html": [
       "<div>\n",
       "<style scoped>\n",
       "    .dataframe tbody tr th:only-of-type {\n",
       "        vertical-align: middle;\n",
       "    }\n",
       "\n",
       "    .dataframe tbody tr th {\n",
       "        vertical-align: top;\n",
       "    }\n",
       "\n",
       "    .dataframe thead th {\n",
       "        text-align: right;\n",
       "    }\n",
       "</style>\n",
       "<table border=\"1\" class=\"dataframe\">\n",
       "  <thead>\n",
       "    <tr style=\"text-align: right;\">\n",
       "      <th></th>\n",
       "      <th>gene</th>\n",
       "      <th>d_c</th>\n",
       "      <th>d_nc</th>\n",
       "      <th>nd_c</th>\n",
       "      <th>nd_nc</th>\n",
       "      <th>p</th>\n",
       "    </tr>\n",
       "  </thead>\n",
       "  <tbody>\n",
       "    <tr>\n",
       "      <th>0</th>\n",
       "      <td>DLG1</td>\n",
       "      <td>9</td>\n",
       "      <td>2760</td>\n",
       "      <td>0</td>\n",
       "      <td>3281</td>\n",
       "      <td>0.000875</td>\n",
       "    </tr>\n",
       "    <tr>\n",
       "      <th>1</th>\n",
       "      <td>LINC02012</td>\n",
       "      <td>9</td>\n",
       "      <td>2760</td>\n",
       "      <td>0</td>\n",
       "      <td>3281</td>\n",
       "      <td>0.000875</td>\n",
       "    </tr>\n",
       "    <tr>\n",
       "      <th>2</th>\n",
       "      <td>BDH1</td>\n",
       "      <td>9</td>\n",
       "      <td>2760</td>\n",
       "      <td>0</td>\n",
       "      <td>3281</td>\n",
       "      <td>0.000875</td>\n",
       "    </tr>\n",
       "    <tr>\n",
       "      <th>3</th>\n",
       "      <td>TM4SF19</td>\n",
       "      <td>8</td>\n",
       "      <td>2761</td>\n",
       "      <td>0</td>\n",
       "      <td>3281</td>\n",
       "      <td>0.001915</td>\n",
       "    </tr>\n",
       "    <tr>\n",
       "      <th>4</th>\n",
       "      <td>MIR4797</td>\n",
       "      <td>8</td>\n",
       "      <td>2761</td>\n",
       "      <td>0</td>\n",
       "      <td>3281</td>\n",
       "      <td>0.001915</td>\n",
       "    </tr>\n",
       "    <tr>\n",
       "      <th>5</th>\n",
       "      <td>DLG1-AS1</td>\n",
       "      <td>8</td>\n",
       "      <td>2761</td>\n",
       "      <td>0</td>\n",
       "      <td>3281</td>\n",
       "      <td>0.001915</td>\n",
       "    </tr>\n",
       "    <tr>\n",
       "      <th>6</th>\n",
       "      <td>UBXN7</td>\n",
       "      <td>8</td>\n",
       "      <td>2761</td>\n",
       "      <td>0</td>\n",
       "      <td>3281</td>\n",
       "      <td>0.001915</td>\n",
       "    </tr>\n",
       "    <tr>\n",
       "      <th>7</th>\n",
       "      <td>TM4SF19-TCTEX1D2</td>\n",
       "      <td>8</td>\n",
       "      <td>2761</td>\n",
       "      <td>0</td>\n",
       "      <td>3281</td>\n",
       "      <td>0.001915</td>\n",
       "    </tr>\n",
       "    <tr>\n",
       "      <th>8</th>\n",
       "      <td>MBD3L2</td>\n",
       "      <td>11</td>\n",
       "      <td>2758</td>\n",
       "      <td>34</td>\n",
       "      <td>3247</td>\n",
       "      <td>0.003999</td>\n",
       "    </tr>\n",
       "    <tr>\n",
       "      <th>9</th>\n",
       "      <td>MBD3L2B@2</td>\n",
       "      <td>11</td>\n",
       "      <td>2758</td>\n",
       "      <td>34</td>\n",
       "      <td>3247</td>\n",
       "      <td>0.003999</td>\n",
       "    </tr>\n",
       "  </tbody>\n",
       "</table>\n",
       "</div>"
      ],
      "text/plain": [
       "               gene  d_c  d_nc  nd_c  nd_nc         p\n",
       "0              DLG1    9  2760     0   3281  0.000875\n",
       "1         LINC02012    9  2760     0   3281  0.000875\n",
       "2              BDH1    9  2760     0   3281  0.000875\n",
       "3           TM4SF19    8  2761     0   3281  0.001915\n",
       "4           MIR4797    8  2761     0   3281  0.001915\n",
       "5          DLG1-AS1    8  2761     0   3281  0.001915\n",
       "6             UBXN7    8  2761     0   3281  0.001915\n",
       "7  TM4SF19-TCTEX1D2    8  2761     0   3281  0.001915\n",
       "8            MBD3L2   11  2758    34   3247  0.003999\n",
       "9         MBD3L2B@2   11  2758    34   3247  0.003999"
      ]
     },
     "execution_count": 6,
     "metadata": {},
     "output_type": "execute_result"
    }
   ],
   "source": [
    "fisher.head(10)"
   ]
  },
  {
   "cell_type": "code",
   "execution_count": 11,
   "metadata": {
    "kernel": "SoS"
   },
   "outputs": [],
   "source": [
    "susie = pd.read_csv(\"~/GIT/cnv-gene-mapping/output/deldup/del_dup.y.susie_pip.gz\", sep = \"\\t\", header = None, names = [\"gene\", \"pip\"])"
   ]
  },
  {
   "cell_type": "code",
   "execution_count": 14,
   "metadata": {
    "kernel": "SoS"
   },
   "outputs": [
    {
     "data": {
      "text/plain": [
       "0.167049265104182"
      ]
     },
     "execution_count": 14,
     "metadata": {},
     "output_type": "execute_result"
    }
   ],
   "source": [
    "max(susie[\"pip\"])"
   ]
  },
  {
   "cell_type": "code",
   "execution_count": null,
   "metadata": {
    "kernel": "SoS"
   },
   "outputs": [],
   "source": []
  }
 ],
 "metadata": {
  "kernelspec": {
   "display_name": "SoS",
   "language": "sos",
   "name": "sos"
  },
  "language_info": {
   "codemirror_mode": "sos",
   "file_extension": ".sos",
   "mimetype": "text/x-sos",
   "name": "sos",
   "nbconvert_exporter": "sos_notebook.converter.SoS_Exporter",
   "pygments_lexer": "sos"
  },
  "sos": {
   "kernels": [
    [
     "SoS",
     "sos",
     "",
     ""
    ]
   ],
   "version": "0.21.7"
  }
 },
 "nbformat": 4,
 "nbformat_minor": 4
}
