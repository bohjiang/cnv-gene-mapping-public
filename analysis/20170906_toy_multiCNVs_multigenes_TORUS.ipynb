{
 "cells": [
  {
   "cell_type": "markdown",
   "metadata": {},
   "source": [
    "# Toy example for multi-genes and multi-CNVs in a region\n",
    "## One or more causal genes"
   ]
  },
  {
   "cell_type": "code",
   "execution_count": 1,
   "metadata": {
    "collapsed": true,
    "kernel": "SoS"
   },
   "outputs": [],
   "source": [
    "import numpy as np\n",
    "import pandas as pd\n",
    "import feather\n",
    "from pandasql import sqldf\n",
    "from scipy import stats\n",
    "import sys\n",
    "import fisher"
   ]
  },
  {
   "cell_type": "code",
   "execution_count": 2,
   "metadata": {
    "collapsed": true
   },
   "outputs": [],
   "source": [
    "def toy_multicnv_multicausal(p, n_cnv, causal, n_geom=10000, n_gene=10, const1=0.5, const2=0.05, seed=999):\n",
    "    '''A region with multiple genes and CNVs. CNVs probably overlap. At least two causal genes.\n",
    "    \"causal\" is a list of positions of causal genes.\n",
    "    \"n_gene\" is the number of genes this region harbors.\n",
    "    \"n_cnv\" is the number of CNV in this region. \"n_geom\" is the number of geometric variables generated.\n",
    "    \"p\" is the probability of geometric dist, then randomly generate a certain number of geometric variables.\n",
    "    I use these variables minus 1 as the length of CNVs, which means the number of genes that a CNV overlap with.\n",
    "    The maximum length for CNV in this region is overlapping with 10 genes'''\n",
    "    np.random.seed(seed)\n",
    "    if n_cnv > n_geom:\n",
    "        print (\"The number of CNV is larger than the number of geometric numbers\")\n",
    "        sys.exit()\n",
    "        return None\n",
    "    geom_minus_1 = np.random.geometric(p, size=n_geom) - 1\n",
    "    if n_cnv > len(geom_minus_1[geom_minus_1 <= n_gene]):\n",
    "        print (\"Cannot take a larger sample than population when 'replace=False'\")\n",
    "        sys.exit()\n",
    "        return None\n",
    "    cnv_len = np.random.choice(geom_minus_1[geom_minus_1 <= n_gene], n_cnv, replace=False)\n",
    "    cnv_start_pos = [np.random.choice(range(n_gene+1-i)) if i!=0 else -1 for i in cnv_len]\n",
    "    ptn_ls = []\n",
    "    for j,i in enumerate(cnv_start_pos):\n",
    "    ## j is the index of i in cnv start position list, so cnv_len[j] is the length of the corresponding cnv;\n",
    "    ## i is the corresponding cnv start position\n",
    "        if i == -1:\n",
    "            ptn = [0]*n_gene\n",
    "        else:\n",
    "            ptn = [0]*i + [1]*cnv_len[j] + [0]*(n_gene - cnv_len[j] - i)\n",
    "        ptn_ls.append(ptn)\n",
    "    mat = [[np.random.normal(0,1)] + line for line in ptn_ls]\n",
    "    config = []\n",
    "    for line in mat:\n",
    "        line[0] = line[0] + line[1:].count(1)*const2\n",
    "        config.append(line[0])\n",
    "#         only one causal gene, and gene pos is no more than the number of gene covered in this region\n",
    "        if len(causal) == 1 and (causal[0] > len(line[1:]) or causal[0] <= 0):\n",
    "            print (\"Single causal CNV index out of range\")\n",
    "            sys.exit()\n",
    "        elif len(causal) == 1 and causal[0] <= len(line[1:]):\n",
    "            line[0] = line[0] + line[causal[0]]*const1\n",
    "            config[-1] = line[0]\n",
    "        elif max(causal) > len(line[1:]) or min(causal) <= 0:\n",
    "            print (\"Causal CNV index out of range\")\n",
    "            sys.exit()\n",
    "        elif any(line[x] for x in causal):\n",
    "            line[0] = line[0] + const1*[line[x] for x in causal].count(1)\n",
    "            config[-1] = line[0]\n",
    "        else:\n",
    "            continue\n",
    "    for line in mat:\n",
    "        line[0] = 1 if line[0] >= np.median(config) else 0\n",
    "    mat = np.matrix(mat)\n",
    "    df = pd.DataFrame(mat, columns = [\"phenotype\"] + [\"gene{}\".format(i+1) for i in range(mat.shape[1]-1)])\n",
    "    counts = df.groupby([\"gene{}\".format(i+1) for i in range(mat.shape[1]-1)] + [\"phenotype\"]).size()\n",
    "    \n",
    "    for col in df.columns:\n",
    "        df[col] = df[col].astype(np.uint8)\n",
    "    output = feather.write_dataframe(df, \"data/toy_n{}_p{}_causal{}_const{}_{}.feather\"\n",
    "                                     .format(len(cnv_len), p, causal, const1, const2))\n",
    "    return df, counts"
   ]
  },
  {
   "cell_type": "code",
   "execution_count": 3,
   "metadata": {
    "scrolled": true
   },
   "outputs": [
    {
     "name": "stdout",
     "output_type": "stream",
     "text": [
      "2500\n"
     ]
    }
   ],
   "source": [
    "df, counts = toy_multicnv_multicausal(p=0.5, n_cnv=5000, causal=[1,15], n_gene=15, const1=0.45, const2=0.03)\n",
    "print (df[\"phenotype\"].tolist().count(1))"
   ]
  },
  {
   "cell_type": "code",
   "execution_count": 10,
   "metadata": {},
   "outputs": [
    {
     "name": "stdout",
     "output_type": "stream",
     "text": [
      "2017-09-05 18:23:23.243223\n",
      "2017-09-05 18:23:38.362238\n"
     ]
    }
   ],
   "source": [
    "from utils import run_dap_lite\n",
    "fileout = \"data/toy_multi_causal_10.dap\"\n",
    "run_dap_lite(df, fileout, grid=[(0, -9.2)])"
   ]
  },
  {
   "cell_type": "code",
   "execution_count": 4,
   "metadata": {
    "collapsed": true
   },
   "outputs": [],
   "source": [
    "def get_summary_stats(gene_df, subst = -10, chrom = 'chr6', multiplier = 1000):\n",
    "    '''get summary statistics (e.g. t-statistic, p-value) to be used for TORUS, then transfer p-value to z-score\n",
    "    '''\n",
    "    cases = gene_df[gene_df[\"phenotype\"]==1]\n",
    "    ctrls = gene_df[gene_df[\"phenotype\"]==0]\n",
    "    df_bf = pd.DataFrame()\n",
    "    df_beta = pd.DataFrame()\n",
    "    df_zscore = pd.DataFrame()\n",
    "    gene_map = pd.DataFrame()\n",
    "    SNP_map = pd.DataFrame()\n",
    "    SNP_anno = pd.DataFrame()\n",
    "    i = 1\n",
    "    for gene in list(gene_df)[1:]:\n",
    "        n_gene_case = len(cases[cases[gene]==1])\n",
    "        n_nogene_case = len(cases[cases[gene]==0])\n",
    "        n_gene_ctrl = len(ctrls[ctrls[gene]==1])\n",
    "        n_nogene_ctrl = len(ctrls[ctrls[gene]==0])\n",
    "        odds_ratio = stats.fisher_exact([[n_gene_case, n_gene_ctrl], [n_nogene_case, n_nogene_ctrl]])[0]\n",
    "        beta1 = np.log(odds_ratio)\n",
    "        fisher_stats = fisher.pvalue(n_gene_case, n_gene_ctrl, n_nogene_case, n_nogene_ctrl)\n",
    "        p_value_two = fisher_stats.two_tail\n",
    "        p_value_left = fisher_stats.left_tail\n",
    "        p_value_right = fisher_stats.right_tail\n",
    "        if p_value_right < 0.5 and p_value_two < 1:\n",
    "            z_score = stats.norm.ppf(1-p_value_right)\n",
    "        elif p_value_left < 0.5 and p_value_two < 1:\n",
    "            z_score = -stats.norm.ppf(1-p_value_left)\n",
    "        else:\n",
    "            z_score = subst\n",
    "        df_bf = df_bf.append([(\"{}.{}\".format(chrom, gene), chrom, odds_ratio)])\n",
    "        df_beta = df_beta.append([(\"{}.{}\".format(chrom, gene), chrom, beta1, z_score, p_value_two/2)])\n",
    "        df_zscore = df_zscore.append([(\"{}.{}\".format(chrom, gene), chrom, z_score)])\n",
    "        gene_map = gene_map.append([(chrom, int(str(chrom)[-1]), i*multiplier, i*multiplier)])\n",
    "        SNP_map = SNP_map.append([(\"{}.{}\".format(chrom, gene), int(str(chrom)[-1]), i*multiplier)])\n",
    "        SNP_anno = SNP_anno.append([(\"{}.{}\".format(chrom, gene), np.random.choice([0,1,2]))])\n",
    "        i += 1\n",
    "    df_bf.columns = [\"SNP\", \"gene\", \"bf\"]\n",
    "    df_beta.columns = [\"SNP\", \"gene\", \"beta\", \"t-stat\", \"p-value\"]\n",
    "    df_zscore.columns = [\"SNP\", \"gene\", \"z-score\"]\n",
    "    gene_map.columns = [\"gene\", \"chrom\", \"tss_pos\", \"tss_pos_rep\"]\n",
    "    SNP_map.columns = [\"SNP\", \"chrom\", \"gene_pos\"]\n",
    "    SNP_anno.columns = [\"SNP\", \"binding_d\"]\n",
    "    df_bf.to_csv(\"data/bf\", sep = \"\\t\", header = False, index = False)\n",
    "    df_beta.to_csv(\"data/beta\", sep = \"\\t\", header = True, index = False)\n",
    "    df_zscore.to_csv(\"data/z_score\", sep = \"\\t\", header = False, index = False)\n",
    "    gene_map.to_csv(\"data/gene_map\", sep = \"\\t\", header = False, index = False)\n",
    "    SNP_map.to_csv(\"data/snp_map\", sep = \"\\t\", header = False, index = False)\n",
    "    SNP_anno.to_csv(\"data/snp_anno\", sep = \"\\t\", header = True, index = False)\n",
    "    return df_bf, df_beta, df_zscore, gene_map, SNP_map, SNP_anno"
   ]
  },
  {
   "cell_type": "markdown",
   "metadata": {},
   "source": [
    "### command\n",
    "torus.sh -d beta.gz -smap snp_map.gz -gmap gene_map.gz -annot snp_anno.gz -est > toy_multi_beta.est\n",
    "\n",
    "torus.sh -d bf.gz --load_bf -smap snp_map.gz -gmap gene_map.gz -annot snp_anno.gz -qtl > toy_multi_bf.est\n",
    "\n",
    "torus.sh -d z_score.gz --load_zval -smap snp_map.gz -gmap gene_map.gz -annot snp_anno.gz -qtl > toy_multi_zscore.est"
   ]
  },
  {
   "cell_type": "code",
   "execution_count": 5,
   "metadata": {},
   "outputs": [],
   "source": [
    "df_bf, df_beta, df_zscore, gene_map, snp_map, snp = get_summary_stats(df)"
   ]
  },
  {
   "cell_type": "code",
   "execution_count": 7,
   "metadata": {},
   "outputs": [
    {
     "data": {
      "text/html": [
       "<div>\n",
       "<style>\n",
       "    .dataframe thead tr:only-child th {\n",
       "        text-align: right;\n",
       "    }\n",
       "\n",
       "    .dataframe thead th {\n",
       "        text-align: left;\n",
       "    }\n",
       "\n",
       "    .dataframe tbody tr th {\n",
       "        vertical-align: top;\n",
       "    }\n",
       "</style>\n",
       "<table border=\"1\" class=\"dataframe\">\n",
       "  <thead>\n",
       "    <tr style=\"text-align: right;\">\n",
       "      <th></th>\n",
       "      <th>SNP</th>\n",
       "      <th>binding_c</th>\n",
       "    </tr>\n",
       "  </thead>\n",
       "  <tbody>\n",
       "    <tr>\n",
       "      <th>0</th>\n",
       "      <td>chr6.gene1</td>\n",
       "      <td>134</td>\n",
       "    </tr>\n",
       "    <tr>\n",
       "      <th>0</th>\n",
       "      <td>chr6.gene2</td>\n",
       "      <td>162</td>\n",
       "    </tr>\n",
       "    <tr>\n",
       "      <th>0</th>\n",
       "      <td>chr6.gene3</td>\n",
       "      <td>195</td>\n",
       "    </tr>\n",
       "    <tr>\n",
       "      <th>0</th>\n",
       "      <td>chr6.gene4</td>\n",
       "      <td>178</td>\n",
       "    </tr>\n",
       "    <tr>\n",
       "      <th>0</th>\n",
       "      <td>chr6.gene5</td>\n",
       "      <td>187</td>\n",
       "    </tr>\n",
       "    <tr>\n",
       "      <th>0</th>\n",
       "      <td>chr6.gene6</td>\n",
       "      <td>205</td>\n",
       "    </tr>\n",
       "    <tr>\n",
       "      <th>0</th>\n",
       "      <td>chr6.gene7</td>\n",
       "      <td>204</td>\n",
       "    </tr>\n",
       "    <tr>\n",
       "      <th>0</th>\n",
       "      <td>chr6.gene8</td>\n",
       "      <td>201</td>\n",
       "    </tr>\n",
       "    <tr>\n",
       "      <th>0</th>\n",
       "      <td>chr6.gene9</td>\n",
       "      <td>183</td>\n",
       "    </tr>\n",
       "    <tr>\n",
       "      <th>0</th>\n",
       "      <td>chr6.gene10</td>\n",
       "      <td>187</td>\n",
       "    </tr>\n",
       "    <tr>\n",
       "      <th>0</th>\n",
       "      <td>chr6.gene11</td>\n",
       "      <td>182</td>\n",
       "    </tr>\n",
       "    <tr>\n",
       "      <th>0</th>\n",
       "      <td>chr6.gene12</td>\n",
       "      <td>180</td>\n",
       "    </tr>\n",
       "    <tr>\n",
       "      <th>0</th>\n",
       "      <td>chr6.gene13</td>\n",
       "      <td>173</td>\n",
       "    </tr>\n",
       "    <tr>\n",
       "      <th>0</th>\n",
       "      <td>chr6.gene14</td>\n",
       "      <td>163</td>\n",
       "    </tr>\n",
       "    <tr>\n",
       "      <th>0</th>\n",
       "      <td>chr6.gene15</td>\n",
       "      <td>132</td>\n",
       "    </tr>\n",
       "  </tbody>\n",
       "</table>\n",
       "</div>"
      ],
      "text/plain": [
       "           SNP  binding_c\n",
       "0   chr6.gene1        134\n",
       "0   chr6.gene2        162\n",
       "0   chr6.gene3        195\n",
       "0   chr6.gene4        178\n",
       "0   chr6.gene5        187\n",
       "0   chr6.gene6        205\n",
       "0   chr6.gene7        204\n",
       "0   chr6.gene8        201\n",
       "0   chr6.gene9        183\n",
       "0  chr6.gene10        187\n",
       "0  chr6.gene11        182\n",
       "0  chr6.gene12        180\n",
       "0  chr6.gene13        173\n",
       "0  chr6.gene14        163\n",
       "0  chr6.gene15        132"
      ]
     },
     "execution_count": 7,
     "metadata": {},
     "output_type": "execute_result"
    }
   ],
   "source": [
    "snp"
   ]
  },
  {
   "cell_type": "code",
   "execution_count": 9,
   "metadata": {},
   "outputs": [
    {
     "name": "stdout",
     "output_type": "stream",
     "text": [
      "0 phenotype\n",
      "1 gene1\n",
      "2 gene2\n",
      "3 gene3\n",
      "4 gene4\n",
      "5 gene5\n",
      "6 gene6\n",
      "7 gene7\n",
      "8 gene8\n",
      "9 gene9\n",
      "10 gene10\n",
      "11 gene11\n",
      "12 gene12\n",
      "13 gene13\n",
      "14 gene14\n",
      "15 gene15\n"
     ]
    }
   ],
   "source": [
    "for idx, item in enumerate(df.columns.values):\n",
    "    print (idx, item)"
   ]
  },
  {
   "cell_type": "code",
   "execution_count": 41,
   "metadata": {},
   "outputs": [
    {
     "data": {
      "text/plain": [
       "1.7677085129515064e-12"
      ]
     },
     "execution_count": 41,
     "metadata": {},
     "output_type": "execute_result"
    }
   ],
   "source": [
    "stats.norm.ppf((1+(1-0.9999999999985895))/2)"
   ]
  },
  {
   "cell_type": "code",
   "execution_count": 10,
   "metadata": {},
   "outputs": [
    {
     "name": "stdout",
     "output_type": "stream",
     "text": [
      "0 0 0\n",
      "1 6 6\n",
      "2 8 8\n",
      "3 9 9\n",
      "4 1 1\n",
      "5 4 4\n",
      "6 3 3\n"
     ]
    }
   ],
   "source": [
    "startp=[0,6,8,9,1,4,3]\n",
    "for j, i in enumerate(startp):\n",
    "    print (j,i, startp[j])"
   ]
  },
  {
   "cell_type": "code",
   "execution_count": 11,
   "metadata": {
    "collapsed": true,
    "kernel": "SoS"
   },
   "outputs": [],
   "source": [
    "df.to_csv(\"data/df.csv\", sep = \"\\t\")"
   ]
  },
  {
   "cell_type": "code",
   "execution_count": null,
   "metadata": {
    "collapsed": true
   },
   "outputs": [],
   "source": []
  },
  {
   "cell_type": "code",
   "execution_count": 121,
   "metadata": {
    "collapsed": true,
    "kernel": "SoS"
   },
   "outputs": [],
   "source": [
    "# previous version, bug in it, fixed in function \"toy_multicnv_multicausal\"\n",
    "def toy_multi_gene_cnv(p, n_cnv, n_max=10, causal=5, const1=1, const2=0.1, seed=1):\n",
    "    '''A region with multiple genes and CNVs. CNVs may overlap or not overlap. Only one causal gene.'''\n",
    "    np.random.seed(seed)\n",
    "    cnv_len = np.random.choice((np.random.geometric(p, size=n_cnv) - 1), n_cnv, replace=False)\n",
    "    cnv_len = cnv_len[cnv_len <= 10].tolist()\n",
    "    start_pos = [np.random.choice(range(n_max+1-i)) if i!=0 else -1 for i in cnv_len]\n",
    "    ptn_ls = []\n",
    "    for j,i in enumerate(start_pos):\n",
    "        if i == -1:\n",
    "            ptn = [0]*n_max\n",
    "        elif i == 0:\n",
    "            ptn = [0]*(i-1) + [1]*cnv_len[j] + [0]*(n_max-cnv_len[j]-i)\n",
    "        else:\n",
    "            ptn = [0]*(i-1) + [1]*cnv_len[j] + [0]*(n_max-cnv_len[j]-(i-1))\n",
    "        ptn_ls.append(ptn)\n",
    "    mat = [[np.random.normal(0,1)] + line for line in ptn_ls]\n",
    "    config = []\n",
    "    for line in mat:\n",
    "##         config.append(line[0]+const1) if line[causal-1] == 1 else config.append(line[0])\n",
    "        if line[causal] == 1:\n",
    "            line[0] = line[0] + const1\n",
    "        config.append(line[0])\n",
    "        \n",
    "#       the longer the CNV is, the less common it is, and larger OR\n",
    "        line[0] = line[0] + line[1:].count(1)*const2\n",
    "        \n",
    "##         line[0] = 1 if line[0] > np.median(config) else 0\n",
    "        if line[0] >= np.median(config):\n",
    "            line[0] = 1\n",
    "        else:\n",
    "            line[0] = 0\n",
    "        \n",
    "    mat = np.matrix(mat)\n",
    "    df = pd.DataFrame(mat, columns = [\"phenotype\"] + [\"gene{}\".format(i+1) for i in range(mat.shape[1]-1)])\n",
    "    counts = df.groupby([\"gene{}\".format(i+1) for i in range(mat.shape[1]-1)] + [\"phenotype\"]).size()\n",
    "    for col in df.columns:\n",
    "        df[col] = df[col].astype(np.uint8)\n",
    "    output = feather.write_dataframe(df, \"data/toy_n{}_p{}_causal{}_const{}_{}.feather\"\n",
    "                                     .format(len(cnv_len), p, causal, const1, const2))\n",
    "    return df, counts"
   ]
  }
 ],
 "metadata": {
  "kernelspec": {
   "display_name": "Python 3",
   "language": "python",
   "name": "python3"
  },
  "language_info": {
   "codemirror_mode": {
    "name": "ipython",
    "version": 3
   },
   "file_extension": ".py",
   "mimetype": "text/x-python",
   "name": "python",
   "nbconvert_exporter": "python",
   "pygments_lexer": "ipython3",
   "version": "3.5.2"
  },
  "sos": {
   "default_kernel": "SoS",
   "kernels": [
    [
     "SoS",
     "sos",
     "",
     ""
    ],
    [
     "Python3",
     "python3",
     "Python3",
     "#FFE771"
    ],
    [
     "R",
     "ir",
     "R",
     "#DCDCDA"
    ]
   ],
   "panel": {
    "displayed": true,
    "height": 0,
    "style": "side"
   }
  }
 },
 "nbformat": 4,
 "nbformat_minor": 2
}
