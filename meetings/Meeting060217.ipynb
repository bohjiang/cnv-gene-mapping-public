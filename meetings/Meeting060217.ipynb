{
 "cells": [
  {
   "cell_type": "markdown",
   "metadata": {},
   "source": [
    "#### Notes for meeting 06/02/2017\n",
    "1) Obtain $\\alpha$ / $\\alpha_0$ from ???\n",
    "\n",
    "2) Add meaning of the last column in DAP output: log10 Bayes factor of the corresponding SNP in single-SNP testing\n",
    "\n",
    "3) Add time consumed, begin time and end time\n",
    "\n",
    "4) Constants added for all patterns disrupted by CNVs are the same, set to 1.0\n",
    "\n",
    "5) Change the causal gene to the 2nd one or last one instead of 1st one\n",
    "\n",
    "6) Make configuration data for ???\n",
    "\n",
    "7) Add two more columns in pattern table: # of each pattern in cases and controls\n",
    "\n",
    "8) Make toy example for 10 genes: at most one CNV for each sample, i.e. CNV can only disrupt adjacent gene(s)\n",
    "\n",
    "9) For 4 genes toy example, ignore patterns which contain two CNVs in one sample\n",
    "\n",
    "10) Set all constant to 0, and observe results generated from variational approximation and DAP\n",
    "\n",
    "11) Make two or more blocks instead of only one in current toy example: \n",
    "\n",
    "Estimation of $\\alpha$: simulation procedure. (1) Many blocks per sample: sample genotypes; (2) Randomly choose a pathway; (3) Create causal gene list based on pathway. (4) Sample phenotypes: if a causal gene is disrupted, a larger $y$."
   ]
  },
  {
   "cell_type": "code",
   "execution_count": null,
   "metadata": {
    "collapsed": true
   },
   "outputs": [],
   "source": []
  }
 ],
 "metadata": {
  "kernelspec": {
   "display_name": "Python 3",
   "language": "python",
   "name": "python3"
  },
  "language_info": {
   "codemirror_mode": {
    "name": "ipython",
    "version": 3
   },
   "file_extension": ".py",
   "mimetype": "text/x-python",
   "name": "python",
   "nbconvert_exporter": "python",
   "pygments_lexer": "ipython3",
   "version": "3.5.2"
  }
 },
 "nbformat": 4,
 "nbformat_minor": 2
}
