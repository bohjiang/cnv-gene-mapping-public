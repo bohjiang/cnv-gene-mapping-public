{
 "cells": [
  {
   "cell_type": "code",
   "execution_count": 9,
   "metadata": {
    "collapsed": true
   },
   "outputs": [],
   "source": [
    "from simulation import *\n",
    "from power_typeIerror import *\n",
    "import rpy2.robjects as robjects\n",
    "from rpy2.robjects import pandas2ri\n",
    "pandas2ri.activate()\n",
    "readRDS = robjects.r['readRDS']\n",
    "import numpy as np\n",
    "import matplotlib.pyplot as plt"
   ]
  },
  {
   "cell_type": "code",
   "execution_count": 12,
   "metadata": {
    "collapsed": true
   },
   "outputs": [],
   "source": [
    "def get_pvalue_all_genes(input_data):\n",
    "    '''get p values of fisher's exact test of all genes from pkl input'''\n",
    "    dat = load_data(input_data)\n",
    "    sample_genes = get_gene_table(dat)\n",
    "    pvalue_all_genes = test_contingency_table(sample_genes)\n",
    "    return pvalue_all_genes"
   ]
  },
  {
   "cell_type": "code",
   "execution_count": 13,
   "metadata": {},
   "outputs": [],
   "source": [
    "pvalue = get_pvalue_all_genes(\"data/del_sim_shape9_scale1_p0.01_N4000_M100_12.data.pkl\")"
   ]
  },
  {
   "cell_type": "code",
   "execution_count": 14,
   "metadata": {},
   "outputs": [
    {
     "name": "stdout",
     "output_type": "stream",
     "text": [
      "943\n"
     ]
    }
   ],
   "source": [
    "print (len([x for x in pvalue[\"p_value\"] if x < 0.05]))\n",
    "# There are 564 genes whose fisher exact pvalue less than 0.05"
   ]
  },
  {
   "cell_type": "code",
   "execution_count": 15,
   "metadata": {},
   "outputs": [],
   "source": [
    "plt.scatter(range(len(pvalue[\"p_value\"])), sorted(pvalue[\"p_value\"]))\n",
    "plt.ylabel(\"pvalue of fisher exact test\")\n",
    "# plt.show()\n",
    "plt.savefig(\"pvalue_dist.png\")\n",
    "plt.close()"
   ]
  },
  {
   "cell_type": "code",
   "execution_count": 2,
   "metadata": {
    "collapsed": true
   },
   "outputs": [],
   "source": [
    "def get_lfdr_all_genes(rds_data):\n",
    "    df = readRDS(rds_data)\n",
    "    df = pandas2ri.ri2py(df)\n",
    "    pip_rds = df[20]\n",
    "    # pip_genes = list(pip_rds.names[0])\n",
    "    pip_list = np.array(np.matrix(pip_rds)).reshape(-1,).tolist()\n",
    "    lfdr = [(1-x) for x in pip_list]\n",
    "    return lfdr"
   ]
  },
  {
   "cell_type": "code",
   "execution_count": 3,
   "metadata": {},
   "outputs": [],
   "source": [
    "lfdr = get_lfdr_all_genes(\"data/del_sim_shape9_scale1_p0.01_N4000_M100_12.data.feather.RDS\")"
   ]
  },
  {
   "cell_type": "code",
   "execution_count": 7,
   "metadata": {},
   "outputs": [],
   "source": [
    "plt.scatter(range(len(lfdr)), sorted(lfdr))\n",
    "plt.ylabel(\"local false discovery rate\")\n",
    "# plt.show()\n",
    "plt.savefig(\"lfdr_dist.png\")\n",
    "plt.close()"
   ]
  },
  {
   "cell_type": "code",
   "execution_count": null,
   "metadata": {
    "collapsed": true
   },
   "outputs": [],
   "source": []
  }
 ],
 "metadata": {
  "kernelspec": {
   "display_name": "Python 3",
   "language": "python",
   "name": "python3"
  },
  "language_info": {
   "codemirror_mode": {
    "name": "ipython",
    "version": 3
   },
   "file_extension": ".py",
   "mimetype": "text/x-python",
   "name": "python",
   "nbconvert_exporter": "python",
   "pygments_lexer": "ipython3",
   "version": "3.5.2"
  }
 },
 "nbformat": 4,
 "nbformat_minor": 2
}
