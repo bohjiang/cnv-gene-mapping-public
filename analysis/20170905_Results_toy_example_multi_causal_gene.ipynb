{
 "cells": [
  {
   "cell_type": "markdown",
   "metadata": {},
   "source": [
    "# Results of toy example for multi-causal-gene in a region\n",
    "### Two or more causal genes in a region with multiple CNVs and genes"
   ]
  },
  {
   "cell_type": "markdown",
   "metadata": {},
   "source": [
    "A genomic region contains multiple genes, two or more of which are causal.\n",
    "\n",
    "CNVs are simulated over this region. The lengths of CNVs follow geometric distribution with probability 0.5, as a result, approximately half of the simulated CNVs are with length 0, meaning half of samples do not have any CNVs if we suppose each sample has at most one CNV within this particular reigon.\n",
    "\n",
    "Suppose there are 10 genes in this region. 1st and 6th genes are causal. Simulate a random number from standard normal distribution for each sample. For each sample, if CNV overlap with either of the two causal genes "
   ]
  },
  {
   "cell_type": "code",
   "execution_count": null,
   "metadata": {
    "collapsed": true
   },
   "outputs": [],
   "source": []
  }
 ],
 "metadata": {
  "kernelspec": {
   "display_name": "Python 3",
   "language": "python",
   "name": "python3"
  },
  "language_info": {
   "codemirror_mode": {
    "name": "ipython",
    "version": 3
   },
   "file_extension": ".py",
   "mimetype": "text/x-python",
   "name": "python",
   "nbconvert_exporter": "python",
   "pygments_lexer": "ipython3",
   "version": "3.6.1"
  }
 },
 "nbformat": 4,
 "nbformat_minor": 2
}
