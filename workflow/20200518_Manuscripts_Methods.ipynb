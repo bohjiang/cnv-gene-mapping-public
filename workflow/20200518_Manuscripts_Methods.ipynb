{
 "cells": [
  {
   "cell_type": "markdown",
   "metadata": {
    "kernel": "SoS"
   },
   "source": [
    "# Methods\n",
    "## Neuron ATAC-seq"
   ]
  },
  {
   "cell_type": "markdown",
   "metadata": {
    "kernel": "SoS"
   },
   "source": [
    "### Parameterize fine-mapping model with functional enrichment information\n",
    "The statistical model to combine functional annotation with genetic fine-mapping is \n",
    "\n",
    "$$\\beta_{j} = (1 - \\pi_{j})\\delta_0 + \\pi_{j}g(\\cdot) (1)$$\n",
    "$$\\log\\big[\\frac{\\pi_{j}}{1 - \\pi_{j}} \\big] = \\alpha_0 + \\sum_{k=1}^m \\alpha_k d_{jk} (2)$$\n",
    "where $\\pi_{j}$ is prior inclusion probability of $\\textit{j}$th SNP in a certain locus, thus $1-\\pi_j$ denotes the probability of the coefficient to be zero; $\\delta_0$ is usually designated to be zero; $\\alpha_k$ is enrichment of annotation $\\textit{k}$ in causal variants; $d_{jk}$ is the annotation $\\textit{k}$ of $\\textit{j}$th SNP, which is often binary.\n",
    "\n"
   ]
  },
  {
   "cell_type": "markdown",
   "metadata": {
    "kernel": "SoS"
   },
   "source": [
    "## CNV"
   ]
  },
  {
   "cell_type": "markdown",
   "metadata": {
    "kernel": "SoS"
   },
   "source": [
    "### Model"
   ]
  },
  {
   "cell_type": "markdown",
   "metadata": {
    "kernel": "SoS"
   },
   "source": [
    "### Software"
   ]
  }
 ],
 "metadata": {
  "kernelspec": {
   "display_name": "SoS",
   "language": "sos",
   "name": "sos"
  },
  "language_info": {
   "codemirror_mode": "sos",
   "file_extension": ".sos",
   "mimetype": "text/x-sos",
   "name": "sos",
   "nbconvert_exporter": "sos_notebook.converter.SoS_Exporter",
   "pygments_lexer": "sos"
  },
  "sos": {
   "kernels": [
    [
     "SoS",
     "sos",
     "",
     ""
    ]
   ],
   "version": "0.21.7"
  }
 },
 "nbformat": 4,
 "nbformat_minor": 4
}
