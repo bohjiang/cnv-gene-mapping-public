{
 "cells": [
  {
   "cell_type": "code",
   "execution_count": 1,
   "metadata": {},
   "outputs": [],
   "source": [
    "library(pogit)"
   ]
  },
  {
   "cell_type": "code",
   "execution_count": 91,
   "metadata": {},
   "outputs": [],
   "source": [
    "# block = c(79,137)\n",
    "# block_simu = c(1215, 1273)\n",
    "block = c(23, 36)\n",
    "block_simu = c(164, 177)"
   ]
  },
  {
   "cell_type": "code",
   "execution_count": 45,
   "metadata": {},
   "outputs": [],
   "source": [
    "X_nointerval <- as.matrix(data.table::fread(paste(\"/data/GIT/cnv-gene-mapping/data/deletion_simu/block_\", block[1], \"_\" , block[2], \n",
    "                                                  \"/deletion.genes.block30.for_simu.sample.genes.block_\", block[1], \"_\" , block[2], \".gz\", sep = \"\"), header = F))"
   ]
  },
  {
   "cell_type": "code",
   "execution_count": 46,
   "metadata": {},
   "outputs": [
    {
     "data": {
      "text/html": [
       "<ol class=list-inline>\n",
       "\t<li>13412</li>\n",
       "\t<li>14</li>\n",
       "</ol>\n"
      ],
      "text/latex": [
       "\\begin{enumerate*}\n",
       "\\item 13412\n",
       "\\item 14\n",
       "\\end{enumerate*}\n"
      ],
      "text/markdown": [
       "1. 13412\n",
       "2. 14\n",
       "\n",
       "\n"
      ],
      "text/plain": [
       "[1] 13412    14"
      ]
     },
     "metadata": {},
     "output_type": "display_data"
    }
   ],
   "source": [
    "dim(X_nointerval)"
   ]
  },
  {
   "cell_type": "code",
   "execution_count": 5,
   "metadata": {},
   "outputs": [],
   "source": [
    "y <- as.matrix(data.table::fread(\"/data/GIT/cnv-gene-mapping/data/deletion_simu/deletion.genes.block30.for_simu.sample.y\"))"
   ]
  },
  {
   "cell_type": "code",
   "execution_count": 6,
   "metadata": {},
   "outputs": [
    {
     "data": {
      "text/html": [
       "13412"
      ],
      "text/latex": [
       "13412"
      ],
      "text/markdown": [
       "13412"
      ],
      "text/plain": [
       "[1] 13412"
      ]
     },
     "metadata": {},
     "output_type": "display_data"
    }
   ],
   "source": [
    "length(y)"
   ]
  },
  {
   "cell_type": "code",
   "execution_count": 5,
   "metadata": {},
   "outputs": [],
   "source": [
    "# beta <- as.matrix(data.table::fread(\"/data/GIT/cnv-gene-mapping/data/deletion_simu/deletion.genes.block30.for_simu.sample.beta\"))"
   ]
  },
  {
   "cell_type": "code",
   "execution_count": 13,
   "metadata": {},
   "outputs": [],
   "source": [
    "# mean(beta); sd(beta); sum(beta == 0); sum(beta == 0)/length(beta)"
   ]
  },
  {
   "cell_type": "code",
   "execution_count": 16,
   "metadata": {},
   "outputs": [],
   "source": [
    "X <- cbind(rep(1, nrow(X)), X_nointerval)"
   ]
  },
  {
   "cell_type": "code",
   "execution_count": 14,
   "metadata": {},
   "outputs": [],
   "source": [
    "y <- as.numeric(y[,1])"
   ]
  },
  {
   "cell_type": "code",
   "execution_count": 15,
   "metadata": {},
   "outputs": [],
   "source": [
    "N <- rep(1, length(y))"
   ]
  },
  {
   "cell_type": "code",
   "execution_count": 11,
   "metadata": {},
   "outputs": [],
   "source": [
    "# prior <- readRDS(\"/home/min/GIT/cnv-gene-mapping/data/deletion_simu/deletion.genes.block30.binomial.whole.genome.prior.varbvs.rds\")\n",
    "# prior <- readRDS(\"/home/min/GIT/cnv-gene-mapping/data/deletion_simu/deletion.genes.block30.binomial.whole.genome.prior.varbvs.nologodds.rds\")"
   ]
  },
  {
   "cell_type": "code",
   "execution_count": 7,
   "metadata": {},
   "outputs": [],
   "source": [
    "prior <- readRDS(\"/home/min/GIT/cnv-gene-mapping/data/deletion_simu/deletion.genes.block30.binomial.whole.genome.prior.varbvs.nologodds.updateb0.rds\")"
   ]
  },
  {
   "cell_type": "code",
   "execution_count": 8,
   "metadata": {},
   "outputs": [],
   "source": [
    "mu0 = sum(prior$b0 * prior$w)"
   ]
  },
  {
   "cell_type": "code",
   "execution_count": 9,
   "metadata": {},
   "outputs": [
    {
     "data": {
      "text/html": [
       "0.777072111580423"
      ],
      "text/latex": [
       "0.777072111580423"
      ],
      "text/markdown": [
       "0.777072111580423"
      ],
      "text/plain": [
       "[1] 0.7770721"
      ]
     },
     "metadata": {},
     "output_type": "display_data"
    }
   ],
   "source": [
    "mu0"
   ]
  },
  {
   "cell_type": "code",
   "execution_count": 10,
   "metadata": {},
   "outputs": [],
   "source": [
    "var = sum(prior$sa * prior$w)"
   ]
  },
  {
   "cell_type": "code",
   "execution_count": 11,
   "metadata": {},
   "outputs": [
    {
     "data": {
      "text/html": [
       "0.711745609189383"
      ],
      "text/latex": [
       "0.711745609189383"
      ],
      "text/markdown": [
       "0.711745609189383"
      ],
      "text/plain": [
       "[1] 0.7117456"
      ]
     },
     "metadata": {},
     "output_type": "display_data"
    }
   ],
   "source": [
    "var"
   ]
  },
  {
   "cell_type": "code",
   "execution_count": 12,
   "metadata": {},
   "outputs": [],
   "source": [
    "pi0 = sum((10^(prior$logodds) / (1 + 10^(prior$logodds))) * prior$w)"
   ]
  },
  {
   "cell_type": "code",
   "execution_count": 13,
   "metadata": {},
   "outputs": [
    {
     "data": {
      "text/html": [
       "0.0437754961218526"
      ],
      "text/latex": [
       "0.0437754961218526"
      ],
      "text/markdown": [
       "0.0437754961218526"
      ],
      "text/plain": [
       "[1] 0.0437755"
      ]
     },
     "metadata": {},
     "output_type": "display_data"
    }
   ],
   "source": [
    "pi0"
   ]
  },
  {
   "cell_type": "code",
   "execution_count": 20,
   "metadata": {},
   "outputs": [],
   "source": [
    "# b = prior$beta[which(prior$beta != 0)]\n",
    "# mean(b); var(b); sum(prior$beta == 0); sum(prior$beta == 0)/length(prior$beta)"
   ]
  },
  {
   "cell_type": "code",
   "execution_count": 17,
   "metadata": {},
   "outputs": [
    {
     "name": "stdout",
     "output_type": "stream",
     "text": [
      "\n",
      "MCMC for the binomial logit model:\n",
      "\n",
      "it = 1 /--- duration of MCMC so far: 29.05 sec.,  expected time to end: Inf  min. \n",
      "it = 2 /--- duration of MCMC so far: 29.1 sec.,  expected time to end: 5819.71  min. \n",
      "it = 3 /--- duration of MCMC so far: 29.16 sec.,  expected time to end: 2915.91  min. \n",
      "it = 4 /--- duration of MCMC so far: 29.25 sec.,  expected time to end: 1949.38  min. \n",
      "it = 5 /--- duration of MCMC so far: 29.31 sec.,  expected time to end: 1465.21  min. \n",
      "it = 10 /--- duration of MCMC so far: 29.55 sec.,  expected time to end: 656.09  min. \n",
      "it = 20 /--- duration of MCMC so far: 30.04 sec.,  expected time to end: 315.71  min. \n",
      "it = 50 /--- duration of MCMC so far: 31.25 sec.,  expected time to end: 127.02  min. \n",
      "it = 100 /--- duration of MCMC so far: 33.73 sec.,  expected time to end: 67.58  min. \n",
      "it = 200 /--- duration of MCMC so far: 38.01 sec.,  expected time to end: 37.57  min. \n",
      "it = 500 /--- duration of MCMC so far: 51.22 sec.,  expected time to end: 19.68  min. \n",
      "it = 1000 /--- duration of MCMC so far: 72.89 sec.,  expected time to end: 13.38  min. \n",
      "it = 1500 /--- duration of MCMC so far: 94.69 sec.,  expected time to end: 11.06  min. \n",
      "it = 2000 /--- duration of MCMC so far: 115.73 sec.,  expected time to end: 9.65  min. \n",
      "it = 2500 /--- duration of MCMC so far: 138.24 sec.,  expected time to end: 8.76  min. \n",
      "it = 3000 /--- duration of MCMC so far: 160.64 sec.,  expected time to end: 8.04  min. \n",
      "it = 3500 /--- duration of MCMC so far: 182.24 sec.,  expected time to end: 7.38  min. \n",
      "it = 4000 /--- duration of MCMC so far: 204.65 sec.,  expected time to end: 6.82  min. \n",
      "it = 4500 /--- duration of MCMC so far: 228.47 sec.,  expected time to end: 6.35  min. \n",
      "it = 5000 /--- duration of MCMC so far: 249.2 sec.,  expected time to end: 5.82  min. \n",
      "it = 5500 /--- duration of MCMC so far: 272.01 sec.,  expected time to end: 5.36  min. \n",
      "it = 6000 /--- duration of MCMC so far: 295.83 sec.,  expected time to end: 4.93  min. \n",
      "it = 6500 /--- duration of MCMC so far: 316.85 sec.,  expected time to end: 4.47  min. \n",
      "it = 7000 /--- duration of MCMC so far: 337.63 sec.,  expected time to end: 4.02  min. \n",
      "it = 7500 /--- duration of MCMC so far: 358.5 sec.,  expected time to end: 3.59  min. \n",
      "it = 8000 /--- duration of MCMC so far: 381.68 sec.,  expected time to end: 3.18  min. \n",
      "it = 8500 /--- duration of MCMC so far: 403.14 sec.,  expected time to end: 2.77  min. \n",
      "it = 9000 /--- duration of MCMC so far: 426.53 sec.,  expected time to end: 2.37  min. \n",
      "it = 9500 /--- duration of MCMC so far: 447.8 sec.,  expected time to end: 1.97  min. \n",
      "it = 10000 /--- duration of MCMC so far: 468.55 sec.,  expected time to end: 1.56  min. \n",
      "it = 10500 /--- duration of MCMC so far: 489.04 sec.,  expected time to end: 1.17  min. \n",
      "it = 11000 /--- duration of MCMC so far: 510.57 sec.,  expected time to end: 0.77  min. \n",
      "it = 11500 /--- duration of MCMC so far: 532.05 sec.,  expected time to end: 0.39  min. \n",
      "it = 12000 /--- duration of MCMC (total): 554.03 sec. \n",
      " \n"
     ]
    }
   ],
   "source": [
    "res <- logitBvs(y, N, X, prior = list(slab = \"Normal\", aj0 = rep(mu0, ncol(X)-1), V = var, w = c(wa0 = 1, wb0 = 1), pi = c(pa0 = 1.412, pb0 = 10)), \n",
    "                mcmc = list(M = 10000, burnin = 2000, msave = TRUE), BVS = FALSE)"
   ]
  },
  {
   "cell_type": "code",
   "execution_count": 18,
   "metadata": {},
   "outputs": [],
   "source": [
    "saveRDS(res, paste(\"/home/min/GIT/cnv-gene-mapping/data/deletion_simu/logitBvs.block_\", block[1], \"_\", block[2],\".var.selection.res.rds\", sep = \"\"))"
   ]
  },
  {
   "cell_type": "code",
   "execution_count": 1,
   "metadata": {},
   "outputs": [],
   "source": [
    "# res <- readRDS(\"/home/min/GIT/cnv-gene-mapping/data/deletion_simu/logitBvs.var.selection.res.rds\")"
   ]
  },
  {
   "cell_type": "code",
   "execution_count": 30,
   "metadata": {},
   "outputs": [],
   "source": [
    "# res1 <- logitBvs(y, N, X, prior = list(slab = \"Normal\", aj0 = mu, V = 1.725, w = c(wa0 = 1, wb0 = 1), pi = c(pa0 = 0.02, pb0 = 20)), \n",
    "#                  mcmc = list(M = 1000, burnin = 200, msave = TRUE), BVS = FALSE)"
   ]
  },
  {
   "cell_type": "code",
   "execution_count": 27,
   "metadata": {},
   "outputs": [],
   "source": [
    "# saveRDS(res1, \"/home/min/GIT/cnv-gene-mapping/data/deletion_simu/logitBvs.novar.selection.nointercept.res.rds\")"
   ]
  },
  {
   "cell_type": "code",
   "execution_count": 19,
   "metadata": {},
   "outputs": [
    {
     "data": {
      "text/html": [
       "<ol class=list-inline>\n",
       "\t<li>'samplesL'</li>\n",
       "\t<li>'data'</li>\n",
       "\t<li>'model.logit'</li>\n",
       "\t<li>'mcmc'</li>\n",
       "\t<li>'prior.logit'</li>\n",
       "\t<li>'dur'</li>\n",
       "\t<li>'BVS'</li>\n",
       "\t<li>'start'</li>\n",
       "\t<li>'family'</li>\n",
       "\t<li>'call'</li>\n",
       "</ol>\n"
      ],
      "text/latex": [
       "\\begin{enumerate*}\n",
       "\\item 'samplesL'\n",
       "\\item 'data'\n",
       "\\item 'model.logit'\n",
       "\\item 'mcmc'\n",
       "\\item 'prior.logit'\n",
       "\\item 'dur'\n",
       "\\item 'BVS'\n",
       "\\item 'start'\n",
       "\\item 'family'\n",
       "\\item 'call'\n",
       "\\end{enumerate*}\n"
      ],
      "text/markdown": [
       "1. 'samplesL'\n",
       "2. 'data'\n",
       "3. 'model.logit'\n",
       "4. 'mcmc'\n",
       "5. 'prior.logit'\n",
       "6. 'dur'\n",
       "7. 'BVS'\n",
       "8. 'start'\n",
       "9. 'family'\n",
       "10. 'call'\n",
       "\n",
       "\n"
      ],
      "text/plain": [
       " [1] \"samplesL\"    \"data\"        \"model.logit\" \"mcmc\"        \"prior.logit\"\n",
       " [6] \"dur\"         \"BVS\"         \"start\"       \"family\"      \"call\"       "
      ]
     },
     "metadata": {},
     "output_type": "display_data"
    }
   ],
   "source": [
    "names(res)"
   ]
  },
  {
   "cell_type": "code",
   "execution_count": 20,
   "metadata": {},
   "outputs": [
    {
     "data": {
      "text/html": [
       "<ol class=list-inline>\n",
       "\t<li>'alpha'</li>\n",
       "\t<li>'pdeltaAlpha'</li>\n",
       "\t<li>'psiAlpha'</li>\n",
       "\t<li>'thetaAlpha'</li>\n",
       "\t<li>'pgammaAlpha'</li>\n",
       "\t<li>'ai'</li>\n",
       "</ol>\n"
      ],
      "text/latex": [
       "\\begin{enumerate*}\n",
       "\\item 'alpha'\n",
       "\\item 'pdeltaAlpha'\n",
       "\\item 'psiAlpha'\n",
       "\\item 'thetaAlpha'\n",
       "\\item 'pgammaAlpha'\n",
       "\\item 'ai'\n",
       "\\end{enumerate*}\n"
      ],
      "text/markdown": [
       "1. 'alpha'\n",
       "2. 'pdeltaAlpha'\n",
       "3. 'psiAlpha'\n",
       "4. 'thetaAlpha'\n",
       "5. 'pgammaAlpha'\n",
       "6. 'ai'\n",
       "\n",
       "\n"
      ],
      "text/plain": [
       "[1] \"alpha\"       \"pdeltaAlpha\" \"psiAlpha\"    \"thetaAlpha\"  \"pgammaAlpha\"\n",
       "[6] \"ai\"         "
      ]
     },
     "metadata": {},
     "output_type": "display_data"
    }
   ],
   "source": [
    "names(res$samplesL)"
   ]
  },
  {
   "cell_type": "code",
   "execution_count": 22,
   "metadata": {},
   "outputs": [
    {
     "data": {
      "text/html": [
       "<ol class=list-inline>\n",
       "\t<li>12000</li>\n",
       "\t<li>15</li>\n",
       "</ol>\n"
      ],
      "text/latex": [
       "\\begin{enumerate*}\n",
       "\\item 12000\n",
       "\\item 15\n",
       "\\end{enumerate*}\n"
      ],
      "text/markdown": [
       "1. 12000\n",
       "2. 15\n",
       "\n",
       "\n"
      ],
      "text/plain": [
       "[1] 12000    15"
      ]
     },
     "metadata": {},
     "output_type": "display_data"
    }
   ],
   "source": [
    "dim(res$samplesL$alpha)"
   ]
  },
  {
   "cell_type": "code",
   "execution_count": 75,
   "metadata": {},
   "outputs": [],
   "source": [
    "bhat <- colMeans(res$samplesL$alpha[2001:12000,-1])\n",
    "bhat1 <- colMeans(res$samplesL$alpha[2001:12000,])"
   ]
  },
  {
   "cell_type": "code",
   "execution_count": 76,
   "metadata": {},
   "outputs": [],
   "source": [
    "# yhat <- exp(X %*% bhat)/(1+exp(X %*% bhat))\n",
    "yhat <- X_nointerval %*% bhat\n",
    "yhat1 <- X %*% bhat1"
   ]
  },
  {
   "cell_type": "code",
   "execution_count": 72,
   "metadata": {},
   "outputs": [
    {
     "data": {
      "text/html": [
       "0"
      ],
      "text/latex": [
       "0"
      ],
      "text/markdown": [
       "0"
      ],
      "text/plain": [
       "[1] 0"
      ]
     },
     "metadata": {},
     "output_type": "display_data"
    },
    {
     "data": {
      "text/html": [
       "2.78211865705929"
      ],
      "text/latex": [
       "2.78211865705929"
      ],
      "text/markdown": [
       "2.78211865705929"
      ],
      "text/plain": [
       "[1] 2.782119"
      ]
     },
     "metadata": {},
     "output_type": "display_data"
    },
    {
     "data": {
      "text/html": [
       "0.111402949512662"
      ],
      "text/latex": [
       "0.111402949512662"
      ],
      "text/markdown": [
       "0.111402949512662"
      ],
      "text/plain": [
       "[1] 0.1114029"
      ]
     },
     "metadata": {},
     "output_type": "display_data"
    },
    {
     "data": {
      "text/html": [
       "0"
      ],
      "text/latex": [
       "0"
      ],
      "text/markdown": [
       "0"
      ],
      "text/plain": [
       "[1] 0"
      ]
     },
     "metadata": {},
     "output_type": "display_data"
    }
   ],
   "source": [
    "min(yhat); max(yhat); mean(yhat); median(yhat)"
   ]
  },
  {
   "cell_type": "code",
   "execution_count": 55,
   "metadata": {},
   "outputs": [],
   "source": [
    "b_all <- as.matrix(data.table::fread(\"/data/GIT/cnv-gene-mapping/data/deletion_simu/deletion.genes.block30.for_simu.sample.beta\"))\n",
    "b <- b_all[(block_simu[1]+1):(block_simu[2]+1)]"
   ]
  },
  {
   "cell_type": "code",
   "execution_count": 58,
   "metadata": {},
   "outputs": [],
   "source": [
    "# y <- exp(X %*% b)/(1+exp(X %*% b))\n",
    "yb <- X_nointerval %*% b"
   ]
  },
  {
   "cell_type": "code",
   "execution_count": 73,
   "metadata": {},
   "outputs": [
    {
     "data": {
      "text/html": [
       "0"
      ],
      "text/latex": [
       "0"
      ],
      "text/markdown": [
       "0"
      ],
      "text/plain": [
       "[1] 0"
      ]
     },
     "metadata": {},
     "output_type": "display_data"
    },
    {
     "data": {
      "text/html": [
       "2.92414631248472"
      ],
      "text/latex": [
       "2.92414631248472"
      ],
      "text/markdown": [
       "2.92414631248472"
      ],
      "text/plain": [
       "[1] 2.924146"
      ]
     },
     "metadata": {},
     "output_type": "display_data"
    },
    {
     "data": {
      "text/html": [
       "0.132801744847629"
      ],
      "text/latex": [
       "0.132801744847629"
      ],
      "text/markdown": [
       "0.132801744847629"
      ],
      "text/plain": [
       "[1] 0.1328017"
      ]
     },
     "metadata": {},
     "output_type": "display_data"
    },
    {
     "data": {
      "text/html": [
       "0"
      ],
      "text/latex": [
       "0"
      ],
      "text/markdown": [
       "0"
      ],
      "text/plain": [
       "[1] 0"
      ]
     },
     "metadata": {},
     "output_type": "display_data"
    }
   ],
   "source": [
    "min(yb); max(yb); mean(yb); median(yb)"
   ]
  },
  {
   "cell_type": "code",
   "execution_count": 99,
   "metadata": {},
   "outputs": [
    {
     "data": {
      "text/html": [
       "<table>\n",
       "<tbody>\n",
       "\t<tr><td>0.9919708</td></tr>\n",
       "</tbody>\n",
       "</table>\n"
      ],
      "text/latex": [
       "\\begin{tabular}{l}\n",
       "\t 0.9919708\\\\\n",
       "\\end{tabular}\n"
      ],
      "text/markdown": [
       "\n",
       "| 0.9919708 |\n",
       "\n"
      ],
      "text/plain": [
       "     [,1]     \n",
       "[1,] 0.9919708"
      ]
     },
     "metadata": {},
     "output_type": "display_data"
    }
   ],
   "source": [
    "cor(yb, yhat, method = \"pearson\")"
   ]
  },
  {
   "cell_type": "code",
   "execution_count": 83,
   "metadata": {},
   "outputs": [
    {
     "data": {
      "text/html": [
       "-0.0830095295800604"
      ],
      "text/latex": [
       "-0.0830095295800604"
      ],
      "text/markdown": [
       "-0.0830095295800604"
      ],
      "text/plain": [
       "[1] -0.08300953"
      ]
     },
     "metadata": {},
     "output_type": "display_data"
    }
   ],
   "source": [
    "min(yhat1[yhat1<0])"
   ]
  },
  {
   "cell_type": "code",
   "execution_count": 62,
   "metadata": {},
   "outputs": [
    {
     "data": {
      "text/plain": [
       "\n",
       "\tPearson's product-moment correlation\n",
       "\n",
       "data:  yb and yhat\n",
       "t = 908.31, df = 13410, p-value < 2.2e-16\n",
       "alternative hypothesis: true correlation is not equal to 0\n",
       "95 percent confidence interval:\n",
       " 0.9916955 0.9922370\n",
       "sample estimates:\n",
       "      cor \n",
       "0.9919708 \n"
      ]
     },
     "metadata": {},
     "output_type": "display_data"
    }
   ],
   "source": [
    "cor.test(yb, yhat, method=c(\"pearson\"))"
   ]
  },
  {
   "cell_type": "code",
   "execution_count": null,
   "metadata": {},
   "outputs": [],
   "source": []
  },
  {
   "cell_type": "code",
   "execution_count": 92,
   "metadata": {},
   "outputs": [
    {
     "data": {
      "text/html": [
       "<strong>png:</strong> 2"
      ],
      "text/latex": [
       "\\textbf{png:} 2"
      ],
      "text/markdown": [
       "**png:** 2"
      ],
      "text/plain": [
       "png \n",
       "  2 "
      ]
     },
     "metadata": {},
     "output_type": "display_data"
    }
   ],
   "source": [
    "pdf(file = paste(\"/home/min/GIT/cnv-gene-mapping/data/deletion_simu/logitBvs.block_\", block[1], \"_\", block[2],\".var.selection.beta.hist.pdf\", sep = \"\"))\n",
    "par(mfrow = c(2,2))\n",
    "for (i in seq(2, (block[2]-block[1]+2))){\n",
    "    hist(res$samplesL$alpha[,i], breaks = 80, main = paste(\"beta\", i-1, \"histogram\"), xlab = paste(\"beta\", i-1))\n",
    "}\n",
    "dev.off()"
   ]
  },
  {
   "cell_type": "code",
   "execution_count": 94,
   "metadata": {},
   "outputs": [
    {
     "data": {
      "text/html": [
       "<ol class=list-inline>\n",
       "\t<li>12000</li>\n",
       "\t<li>15</li>\n",
       "</ol>\n"
      ],
      "text/latex": [
       "\\begin{enumerate*}\n",
       "\\item 12000\n",
       "\\item 15\n",
       "\\end{enumerate*}\n"
      ],
      "text/markdown": [
       "1. 12000\n",
       "2. 15\n",
       "\n",
       "\n"
      ],
      "text/plain": [
       "[1] 12000    15"
      ]
     },
     "metadata": {},
     "output_type": "display_data"
    }
   ],
   "source": [
    "dim(res$samplesL$alpha)"
   ]
  },
  {
   "cell_type": "code",
   "execution_count": 79,
   "metadata": {},
   "outputs": [],
   "source": [
    "# mean(res$samplesL$alpha[,42])"
   ]
  },
  {
   "cell_type": "code",
   "execution_count": 78,
   "metadata": {},
   "outputs": [
    {
     "data": {
      "text/plain": [
       "MCMC for the logit model:\n",
       "\n",
       "Call:\n",
       "logitBvs(y = y, N = N, X = X, prior = list(slab = \"Normal\", aj0 = rep(mu0, \n",
       "    ncol(X) - 1), V = var, w = c(wa0 = 1, wb0 = 1), pi = c(pa0 = 1.412, \n",
       "    pb0 = 10)), mcmc = list(M = 24000, burnin = 6000, msave = TRUE), \n",
       "    BVS = FALSE)\n",
       "\n",
       "\n",
       "MCMC:\n",
       "M = 24000 draws after a burn-in of 6000\n",
       "Thinning parameter: 1\n",
       "\n",
       "Prior: Normal prior [V=0.711745609189383]\n",
       "\n",
       " a0[0]  a0[1]  a0[2]  a0[3]  a0[4]  a0[5]  a0[6]  a0[7]  a0[8]  a0[9] a0[10] \n",
       " 0.000  0.777  0.777  0.777  0.777  0.777  0.777  0.777  0.777  0.777  0.777 \n",
       "a0[11] a0[12] a0[13] a0[14] a0[15] a0[16] a0[17] a0[18] a0[19] a0[20] a0[21] \n",
       " 0.777  0.777  0.777  0.777  0.777  0.777  0.777  0.777  0.777  0.777  0.777 \n",
       "a0[22] a0[23] a0[24] a0[25] a0[26] a0[27] a0[28] a0[29] a0[30] a0[31] a0[32] \n",
       " 0.777  0.777  0.777  0.777  0.777  0.777  0.777  0.777  0.777  0.777  0.777 \n",
       "a0[33] a0[34] a0[35] a0[36] a0[37] a0[38] a0[39] a0[40] a0[41] a0[42] a0[43] \n",
       " 0.777  0.777  0.777  0.777  0.777  0.777  0.777  0.777  0.777  0.777  0.777 \n",
       "a0[44] a0[45] a0[46] a0[47] a0[48] a0[49] a0[50] a0[51] a0[52] a0[53] a0[54] \n",
       " 0.777  0.777  0.777  0.777  0.777  0.777  0.777  0.777  0.777  0.777  0.777 \n",
       "a0[55] a0[56] a0[57] a0[58] a0[59] \n",
       " 0.777  0.777  0.777  0.777  0.777 \n",
       "\n",
       "\n",
       "Posterior means and 95%-HPD intervals:\n",
       "\n",
       "            Estimate 95%-HPD[l] 95%-HPD[u]\n",
       "(Intercept)   -0.001     -0.043      0.039\n",
       "alpha.1       -0.555     -1.844      0.749\n",
       "alpha.2        0.531     -1.221      2.311\n",
       "alpha.3        0.013     -1.501      1.654\n",
       "alpha.4        0.009     -1.582      1.582\n",
       "alpha.5        0.006     -1.539      1.632\n",
       "alpha.6        0.005     -1.637      1.560\n",
       "alpha.7        0.013     -1.602      1.566\n",
       "alpha.8        0.005     -1.600      1.560\n",
       "alpha.9        0.000     -1.564      1.605\n",
       "alpha.10      -0.001     -1.559      1.624\n",
       "alpha.11       0.011     -1.554      1.621\n",
       "alpha.12       0.012     -1.572      1.620\n",
       "alpha.13       0.004     -1.525      1.602\n",
       "alpha.14       0.226     -1.179      1.629\n",
       "alpha.15       0.227     -1.149      1.657\n",
       "alpha.16      -0.710     -2.042      0.598\n",
       "alpha.17       0.645     -0.873      2.239\n",
       "alpha.18       0.644     -0.843      2.261\n",
       "alpha.19      -1.052     -2.643      0.540\n",
       "alpha.20       0.422     -0.681      1.481\n",
       "alpha.21       0.004     -1.494      1.476\n",
       "alpha.22       0.005     -1.466      1.460\n",
       "alpha.23      -1.046     -2.645      0.559\n",
       "alpha.24       0.180     -1.390      1.771\n",
       "alpha.25       0.167     -1.344      1.750\n",
       "alpha.26       0.163     -1.473      1.679\n",
       "alpha.27       0.168     -1.353      1.788\n",
       "alpha.28       0.163     -1.390      1.719\n",
       "alpha.29      -0.291     -1.733      1.078\n",
       "alpha.30       0.166     -1.432      1.733\n",
       "alpha.31       0.172     -1.396      1.744\n",
       "alpha.32       0.163     -1.403      1.740\n",
       "alpha.33       0.167     -1.413      1.745\n",
       "alpha.34      -0.013     -1.625      1.511\n",
       "alpha.35      -0.010     -1.529      1.605\n",
       "alpha.36      -0.019     -1.550      1.550\n",
       "alpha.37      -0.020     -1.579      1.569\n",
       "alpha.38      -0.017     -1.603      1.514\n",
       "alpha.39      -0.010     -1.578      1.574\n",
       "alpha.40       0.698     -0.859      2.267\n",
       "alpha.41      -0.329     -1.747      1.134\n",
       "alpha.42      -0.431     -1.586      0.686\n",
       "alpha.43       0.996     -0.612      2.618\n",
       "alpha.44       0.993     -0.698      2.561\n",
       "alpha.45      -0.250     -1.764      1.241\n",
       "alpha.46      -0.257     -1.746      1.225\n",
       "alpha.47      -0.266     -1.714      1.258\n",
       "alpha.48      -0.265     -1.718      1.285\n",
       "alpha.49       0.312     -1.007      1.638\n",
       "alpha.50       0.322     -1.018      1.631\n",
       "alpha.51      -0.205     -1.546      1.189\n",
       "alpha.52      -0.208     -1.592      1.155\n",
       "alpha.53      -0.245     -1.768      1.259\n",
       "alpha.54      -0.238     -1.719      1.307\n",
       "alpha.55      -0.232     -1.693      1.304\n",
       "alpha.56       0.021     -1.607      1.617\n",
       "alpha.57       0.017     -1.570      1.650\n",
       "alpha.58       0.051     -1.765      1.719\n",
       "alpha.59       0.051     -1.671      1.762\n"
      ]
     },
     "metadata": {},
     "output_type": "display_data"
    }
   ],
   "source": [
    "summary(res)"
   ]
  },
  {
   "cell_type": "code",
   "execution_count": null,
   "metadata": {},
   "outputs": [],
   "source": []
  },
  {
   "cell_type": "code",
   "execution_count": null,
   "metadata": {},
   "outputs": [],
   "source": []
  },
  {
   "cell_type": "code",
   "execution_count": null,
   "metadata": {},
   "outputs": [],
   "source": []
  },
  {
   "cell_type": "code",
   "execution_count": 4,
   "metadata": {},
   "outputs": [],
   "source": [
    "data(simul_binomial)"
   ]
  },
  {
   "cell_type": "code",
   "execution_count": 50,
   "metadata": {},
   "outputs": [],
   "source": [
    "y <- simul_binomial$y\n",
    "N <- simul_binomial$N\n",
    "X <- as.matrix(simul_binomial[, -c(1,2)])"
   ]
  },
  {
   "cell_type": "code",
   "execution_count": 51,
   "metadata": {},
   "outputs": [
    {
     "data": {
      "text/html": [
       "512"
      ],
      "text/latex": [
       "512"
      ],
      "text/markdown": [
       "512"
      ],
      "text/plain": [
       "[1] 512"
      ]
     },
     "metadata": {},
     "output_type": "display_data"
    },
    {
     "data": {
      "text/html": [
       "512"
      ],
      "text/latex": [
       "512"
      ],
      "text/markdown": [
       "512"
      ],
      "text/plain": [
       "[1] 512"
      ]
     },
     "metadata": {},
     "output_type": "display_data"
    },
    {
     "data": {
      "text/html": [
       "<ol class=list-inline>\n",
       "\t<li>512</li>\n",
       "\t<li>10</li>\n",
       "</ol>\n"
      ],
      "text/latex": [
       "\\begin{enumerate*}\n",
       "\\item 512\n",
       "\\item 10\n",
       "\\end{enumerate*}\n"
      ],
      "text/markdown": [
       "1. 512\n",
       "2. 10\n",
       "\n",
       "\n"
      ],
      "text/plain": [
       "[1] 512  10"
      ]
     },
     "metadata": {},
     "output_type": "display_data"
    }
   ],
   "source": [
    "length(y); length(N); dim(X)"
   ]
  },
  {
   "cell_type": "code",
   "execution_count": 16,
   "metadata": {},
   "outputs": [
    {
     "data": {
      "text/html": [
       "<table>\n",
       "<thead><tr><th scope=col>X.0</th><th scope=col>X.1</th><th scope=col>X.2</th><th scope=col>X.3</th><th scope=col>X.4</th><th scope=col>X.5</th><th scope=col>X.6</th><th scope=col>X.7</th><th scope=col>X.8</th><th scope=col>X.9</th></tr></thead>\n",
       "<tbody>\n",
       "\t<tr><td>1</td><td>0</td><td>0</td><td>0</td><td>0</td><td>0</td><td>0</td><td>0</td><td>0</td><td>0</td></tr>\n",
       "\t<tr><td>1</td><td>0</td><td>0</td><td>0</td><td>0</td><td>0</td><td>0</td><td>0</td><td>0</td><td>1</td></tr>\n",
       "\t<tr><td>1</td><td>0</td><td>0</td><td>0</td><td>0</td><td>0</td><td>0</td><td>0</td><td>1</td><td>0</td></tr>\n",
       "\t<tr><td>1</td><td>0</td><td>0</td><td>0</td><td>0</td><td>0</td><td>0</td><td>0</td><td>1</td><td>1</td></tr>\n",
       "\t<tr><td>1</td><td>0</td><td>0</td><td>0</td><td>0</td><td>0</td><td>0</td><td>1</td><td>0</td><td>0</td></tr>\n",
       "\t<tr><td>1</td><td>0</td><td>0</td><td>0</td><td>0</td><td>0</td><td>0</td><td>1</td><td>0</td><td>1</td></tr>\n",
       "</tbody>\n",
       "</table>\n"
      ],
      "text/latex": [
       "\\begin{tabular}{llllllllll}\n",
       " X.0 & X.1 & X.2 & X.3 & X.4 & X.5 & X.6 & X.7 & X.8 & X.9\\\\\n",
       "\\hline\n",
       "\t 1 & 0 & 0 & 0 & 0 & 0 & 0 & 0 & 0 & 0\\\\\n",
       "\t 1 & 0 & 0 & 0 & 0 & 0 & 0 & 0 & 0 & 1\\\\\n",
       "\t 1 & 0 & 0 & 0 & 0 & 0 & 0 & 0 & 1 & 0\\\\\n",
       "\t 1 & 0 & 0 & 0 & 0 & 0 & 0 & 0 & 1 & 1\\\\\n",
       "\t 1 & 0 & 0 & 0 & 0 & 0 & 0 & 1 & 0 & 0\\\\\n",
       "\t 1 & 0 & 0 & 0 & 0 & 0 & 0 & 1 & 0 & 1\\\\\n",
       "\\end{tabular}\n"
      ],
      "text/markdown": [
       "\n",
       "| X.0 | X.1 | X.2 | X.3 | X.4 | X.5 | X.6 | X.7 | X.8 | X.9 |\n",
       "|---|---|---|---|---|---|---|---|---|---|\n",
       "| 1 | 0 | 0 | 0 | 0 | 0 | 0 | 0 | 0 | 0 |\n",
       "| 1 | 0 | 0 | 0 | 0 | 0 | 0 | 0 | 0 | 1 |\n",
       "| 1 | 0 | 0 | 0 | 0 | 0 | 0 | 0 | 1 | 0 |\n",
       "| 1 | 0 | 0 | 0 | 0 | 0 | 0 | 0 | 1 | 1 |\n",
       "| 1 | 0 | 0 | 0 | 0 | 0 | 0 | 1 | 0 | 0 |\n",
       "| 1 | 0 | 0 | 0 | 0 | 0 | 0 | 1 | 0 | 1 |\n",
       "\n"
      ],
      "text/plain": [
       "     X.0 X.1 X.2 X.3 X.4 X.5 X.6 X.7 X.8 X.9\n",
       "[1,] 1   0   0   0   0   0   0   0   0   0  \n",
       "[2,] 1   0   0   0   0   0   0   0   0   1  \n",
       "[3,] 1   0   0   0   0   0   0   0   1   0  \n",
       "[4,] 1   0   0   0   0   0   0   0   1   1  \n",
       "[5,] 1   0   0   0   0   0   0   1   0   0  \n",
       "[6,] 1   0   0   0   0   0   0   1   0   1  "
      ]
     },
     "metadata": {},
     "output_type": "display_data"
    }
   ],
   "source": [
    "head(X)"
   ]
  },
  {
   "cell_type": "code",
   "execution_count": 23,
   "metadata": {},
   "outputs": [
    {
     "data": {
      "text/html": [
       "512"
      ],
      "text/latex": [
       "512"
      ],
      "text/markdown": [
       "512"
      ],
      "text/plain": [
       "[1] 512"
      ]
     },
     "metadata": {},
     "output_type": "display_data"
    }
   ],
   "source": [
    "sum(X[,1])"
   ]
  },
  {
   "cell_type": "code",
   "execution_count": 17,
   "metadata": {},
   "outputs": [
    {
     "name": "stdout",
     "output_type": "stream",
     "text": [
      "\n",
      "MCMC for the binomial logit model with variable selection:\n",
      "\n",
      "it = 1 /--- duration of MCMC so far: 1.02 sec.,  expected time to end: Inf  min. \n",
      "it = 2 /--- duration of MCMC so far: 1.03 sec.,  expected time to end: 171.65  min. \n",
      "it = 3 /--- duration of MCMC so far: 1.03 sec.,  expected time to end: 86.23  min. \n",
      "it = 4 /--- duration of MCMC so far: 1.04 sec.,  expected time to end: 57.7  min. \n",
      "it = 5 /--- duration of MCMC so far: 1.04 sec.,  expected time to end: 43.48  min. \n",
      "it = 10 /--- duration of MCMC so far: 1.06 sec.,  expected time to end: 19.57  min. \n",
      "it = 20 /--- duration of MCMC so far: 1.09 sec.,  expected time to end: 9.54  min. \n",
      "it = 50 /--- duration of MCMC so far: 1.16 sec.,  expected time to end: 3.92  min. \n",
      "it = 100 /--- duration of MCMC so far: 1.27 sec.,  expected time to end: 2.12  min. \n",
      "it = 200 /--- duration of MCMC so far: 1.57 sec.,  expected time to end: 1.29  min. \n",
      "it = 500 /--- duration of MCMC so far: 2.32 sec.,  expected time to end: 0.74  min. \n",
      "it = 1000 /--- duration of MCMC so far: 3.35 sec.,  expected time to end: 0.5  min. \n",
      "it = 1500 /--- duration of MCMC so far: 9.07 sec.,  expected time to end: 0.86  min. \n",
      "it = 2000 /--- duration of MCMC so far: 16.76 sec.,  expected time to end: 1.12  min. \n",
      "it = 2500 /--- duration of MCMC so far: 22.82 sec.,  expected time to end: 1.14  min. \n",
      "it = 3000 /--- duration of MCMC so far: 29.03 sec.,  expected time to end: 1.13  min. \n",
      "it = 3500 /--- duration of MCMC so far: 34.71 sec.,  expected time to end: 1.07  min. \n",
      "it = 4000 /--- duration of MCMC so far: 40.04 sec.,  expected time to end: 1  min. \n",
      "it = 4500 /--- duration of MCMC so far: 45.17 sec.,  expected time to end: 0.92  min. \n",
      "it = 5000 /--- duration of MCMC so far: 50.09 sec.,  expected time to end: 0.84  min. \n",
      "it = 5500 /--- duration of MCMC so far: 55.16 sec.,  expected time to end: 0.75  min. \n",
      "it = 6000 /--- duration of MCMC so far: 60.3 sec.,  expected time to end: 0.67  min. \n",
      "it = 6500 /--- duration of MCMC so far: 65.41 sec.,  expected time to end: 0.59  min. \n",
      "it = 7000 /--- duration of MCMC so far: 70.33 sec.,  expected time to end: 0.5  min. \n",
      "it = 7500 /--- duration of MCMC so far: 75.22 sec.,  expected time to end: 0.42  min. \n",
      "it = 8000 /--- duration of MCMC so far: 80.2 sec.,  expected time to end: 0.33  min. \n",
      "it = 8500 /--- duration of MCMC so far: 85.12 sec.,  expected time to end: 0.25  min. \n",
      "it = 9000 /--- duration of MCMC so far: 90.54 sec.,  expected time to end: 0.17  min. \n",
      "it = 9500 /--- duration of MCMC so far: 95.67 sec.,  expected time to end: 0.08  min. \n",
      "it = 10000 /--- duration of MCMC (total): 101.78 sec. \n",
      " \n"
     ]
    }
   ],
   "source": [
    "m1 <- logitBvs(y = y, N = N, X = X)"
   ]
  },
  {
   "cell_type": "code",
   "execution_count": 18,
   "metadata": {},
   "outputs": [
    {
     "name": "stdout",
     "output_type": "stream",
     "text": [
      "Bayesian variable selection for the binomial logit model:\n",
      "\n",
      "Call:\n",
      "logitBvs(y = y, N = N, X = X)\n",
      "\n",
      "Model: 512 observations\n",
      " Covariates: 9\n",
      " --- subject to selection: 9\n",
      " Random intercept included: no\n",
      "\n",
      "MCMC:\n",
      "M = 8000 draws after a burn-in of 2000\n",
      "BVS started after 1000 iterations\n",
      "Thinning parameter: 1\n",
      "\n",
      "Runtime:\n",
      "total: 101.8 sec.\n",
      "since burn-in: 85 sec."
     ]
    }
   ],
   "source": [
    "print(m1)"
   ]
  },
  {
   "cell_type": "code",
   "execution_count": 19,
   "metadata": {},
   "outputs": [
    {
     "data": {
      "text/plain": [
       "Bayesian variable selection for the binomial logit model:\n",
       "\n",
       "Call:\n",
       "logitBvs(y = y, N = N, X = X)\n",
       "\n",
       "\n",
       "MCMC:\n",
       "M = 8000 draws after a burn-in of 2000\n",
       "BVS started after 1000 iterations\n",
       "Thinning parameter: 1\n",
       "\n",
       "Prior:  spike-and-slab prior with Student-t slab [V=5]\n",
       "\n",
       "a0[0] a0[1] a0[2] a0[3] a0[4] a0[5] a0[6] a0[7] a0[8] a0[9] \n",
       "    0     0     0     0     0     0     0     0     0     0 \n",
       " w[a]  w[b] pi[a] pi[b] \n",
       "    1     1     1     1 \n",
       "\n",
       "\n",
       "Model averaged posterior means, estimated posterior inclusion\n",
       " probabilities and 95%-HPD intervals:\n",
       "\n",
       "            Estimate P(.=1) 95%-HPD[l] 95%-HPD[u]\n",
       "(Intercept)   -0.452     NA     -0.549     -0.366\n",
       "alpha.1        0.180  1.000      0.124      0.236\n",
       "alpha.2       -0.141  1.000     -0.197     -0.086\n",
       "alpha.3        0.044  0.569      0.000      0.117\n",
       "alpha.4       -1.077  1.000     -1.135     -1.018\n",
       "alpha.5       -0.003  0.083     -0.037      0.000\n",
       "alpha.6        0.000  0.045      0.000      0.000\n",
       "alpha.7        1.152  1.000      1.096      1.213\n",
       "alpha.8       -0.077  0.850     -0.135      0.000\n",
       "alpha.9        0.334  1.000      0.278      0.390\n"
      ]
     },
     "metadata": {},
     "output_type": "display_data"
    }
   ],
   "source": [
    "summary(m1)"
   ]
  },
  {
   "cell_type": "code",
   "execution_count": null,
   "metadata": {},
   "outputs": [],
   "source": []
  }
 ],
 "metadata": {
  "kernelspec": {
   "display_name": "R",
   "language": "R",
   "name": "ir"
  },
  "language_info": {
   "codemirror_mode": "r",
   "file_extension": ".r",
   "mimetype": "text/x-r-source",
   "name": "R",
   "pygments_lexer": "r",
   "version": "3.5.1"
  }
 },
 "nbformat": 4,
 "nbformat_minor": 2
}
